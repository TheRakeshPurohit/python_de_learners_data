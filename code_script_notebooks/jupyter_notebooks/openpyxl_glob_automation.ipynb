{
 "cells": [
  {
   "cell_type": "code",
   "execution_count": null,
   "id": "5da7d132",
   "metadata": {},
   "outputs": [],
   "source": [
    "!pip install openpyxl"
   ]
  },
  {
   "cell_type": "code",
   "execution_count": 1,
   "id": "43cd987c",
   "metadata": {},
   "outputs": [],
   "source": [
    "import glob\n",
    "import openpyxl"
   ]
  },
  {
   "cell_type": "code",
   "execution_count": 2,
   "id": "d2954d63",
   "metadata": {},
   "outputs": [],
   "source": [
    "#creating openpyxl obj\n",
    "new_xl_obj = openpyxl.Workbook()"
   ]
  },
  {
   "cell_type": "code",
   "execution_count": 3,
   "id": "e2979524",
   "metadata": {},
   "outputs": [
    {
     "data": {
      "text/plain": [
       "openpyxl.workbook.workbook.Workbook"
      ]
     },
     "execution_count": 3,
     "metadata": {},
     "output_type": "execute_result"
    }
   ],
   "source": [
    "type(new_xl_obj)"
   ]
  },
  {
   "cell_type": "code",
   "execution_count": 4,
   "id": "6f956607",
   "metadata": {},
   "outputs": [],
   "source": [
    "# grab the active worksheet\n",
    "ws = new_xl_obj.active"
   ]
  },
  {
   "cell_type": "code",
   "execution_count": 6,
   "id": "e1e6151e",
   "metadata": {},
   "outputs": [
    {
     "data": {
      "text/plain": [
       "openpyxl.worksheet.worksheet.Worksheet"
      ]
     },
     "execution_count": 6,
     "metadata": {},
     "output_type": "execute_result"
    }
   ],
   "source": [
    "type(ws)"
   ]
  },
  {
   "cell_type": "code",
   "execution_count": 5,
   "id": "dc7fd2bc",
   "metadata": {},
   "outputs": [],
   "source": [
    "# Data can be assigned directly to cells\n",
    "ws['A1'] = 52879"
   ]
  },
  {
   "cell_type": "code",
   "execution_count": 7,
   "id": "8c33855c",
   "metadata": {},
   "outputs": [
    {
     "name": "stdout",
     "output_type": "stream",
     "text": [
      "<Cell 'Sheet'.A1>\n"
     ]
    }
   ],
   "source": [
    "print(ws['A1'])"
   ]
  },
  {
   "cell_type": "code",
   "execution_count": 8,
   "id": "08cbd522",
   "metadata": {},
   "outputs": [
    {
     "data": {
      "text/plain": [
       "52879"
      ]
     },
     "execution_count": 8,
     "metadata": {},
     "output_type": "execute_result"
    }
   ],
   "source": [
    "ws['A1'].value"
   ]
  },
  {
   "cell_type": "code",
   "execution_count": 9,
   "id": "768ec176",
   "metadata": {},
   "outputs": [],
   "source": [
    "# Rows can also be appended\n",
    "ws.append([1, 2, 3])"
   ]
  },
  {
   "cell_type": "code",
   "execution_count": 10,
   "id": "beecc12b",
   "metadata": {},
   "outputs": [],
   "source": [
    "# Python types will automatically be converted\n",
    "import datetime\n",
    "ws['A3'] = datetime.datetime.now()"
   ]
  },
  {
   "cell_type": "code",
   "execution_count": 11,
   "id": "5ca41c56",
   "metadata": {},
   "outputs": [],
   "source": [
    "# Save the file\n",
    "new_xl_obj.save(\"sample.xlsx\")"
   ]
  },
  {
   "cell_type": "code",
   "execution_count": 9,
   "id": "64e835f4",
   "metadata": {},
   "outputs": [
    {
     "name": "stdout",
     "output_type": "stream",
     "text": [
      "api_requests_automation.ipynb\t\t  os_module_basics.ipynb\r\n",
      "AutomatingXL.ipynb\t\t\t  sample.xlsx\r\n",
      "boto_session_creation_configParser.ipynb  serialized_json.txt\r\n",
      "example.conf\t\t\t\t  testdata.xlsx\r\n",
      "openpyxl_glob_automation.ipynb\r\n"
     ]
    }
   ],
   "source": [
    "!ls"
   ]
  },
  {
   "cell_type": "markdown",
   "id": "46a2db18",
   "metadata": {},
   "source": [
    "lets bring in the requests module and get the data from internet"
   ]
  },
  {
   "cell_type": "code",
   "execution_count": 14,
   "id": "60b76acb",
   "metadata": {},
   "outputs": [],
   "source": [
    "import requests\n",
    "import json"
   ]
  },
  {
   "cell_type": "code",
   "execution_count": 15,
   "id": "274c7c52",
   "metadata": {
    "scrolled": true
   },
   "outputs": [
    {
     "data": {
      "text/plain": [
       "[{'ID': '0x3474',\n",
       "  'Delivery_person_ID': 'BANGRES15DEL01',\n",
       "  'Delivery_person_Age': 28.0,\n",
       "  'Delivery_person_Ratings': 4.6,\n",
       "  'Restaurant_latitude': 12.975377,\n",
       "  'Restaurant_longitude': 77.696664,\n",
       "  'Delivery_location_latitude': 13.085377,\n",
       "  'Delivery_location_longitude': 77.806664,\n",
       "  'Order_Date': '29-03-2022',\n",
       "  'Time_Orderd': '20:30',\n",
       "  'Time_Order_picked': '20:35',\n",
       "  'Weather': 'Windy',\n",
       "  'Road_traffic_density': 'Jam',\n",
       "  'Vehicle_condition': 0,\n",
       "  'Type_of_order': 'Snack',\n",
       "  'Type_of_vehicle': 'motorcycle',\n",
       "  'multiple_deliveries': 1.0,\n",
       "  'Festival': 'No',\n",
       "  'City': 'Metropolitian',\n",
       "  'Name': 'object',\n",
       "  'rowNum': 2},\n",
       " {'ID': '0x9420',\n",
       "  'Delivery_person_ID': 'JAPRES09DEL03',\n",
       "  'Delivery_person_Age': 23.0,\n",
       "  'Delivery_person_Ratings': 4.5,\n",
       "  'Restaurant_latitude': 26.911378,\n",
       "  'Restaurant_longitude': 75.789034,\n",
       "  'Delivery_location_latitude': 27.001378,\n",
       "  'Delivery_location_longitude': 75.879034,\n",
       "  'Order_Date': '10-03-2022',\n",
       "  'Time_Orderd': '19:35',\n",
       "  'Time_Order_picked': '19:45',\n",
       "  'Weather': 'Stormy',\n",
       "  'Road_traffic_density': 'Jam',\n",
       "  'Vehicle_condition': 0,\n",
       "  'Type_of_order': 'Drinks',\n",
       "  'Type_of_vehicle': 'motorcycle',\n",
       "  'multiple_deliveries': 1.0,\n",
       "  'Festival': 'No',\n",
       "  'City': 'Metropolitian',\n",
       "  'Name': 'object',\n",
       "  'rowNum': 3}]"
      ]
     },
     "execution_count": 15,
     "metadata": {},
     "output_type": "execute_result"
    }
   ],
   "source": [
    "biker_url = 'https://pyrite-ethereal-soccer.glitch.me/biker/v1/bikers'\n",
    "biker_data = requests.get(url=biker_url).json()\n",
    "biker_data"
   ]
  },
  {
   "cell_type": "code",
   "execution_count": 13,
   "id": "ad0dc322",
   "metadata": {},
   "outputs": [
    {
     "data": {
      "text/plain": [
       "'0x3474'"
      ]
     },
     "execution_count": 13,
     "metadata": {},
     "output_type": "execute_result"
    }
   ],
   "source": [
    "biker_data[0]['ID']"
   ]
  },
  {
   "cell_type": "code",
   "execution_count": 14,
   "id": "3d43cba1",
   "metadata": {},
   "outputs": [
    {
     "data": {
      "text/plain": [
       "'BANGRES15DEL01'"
      ]
     },
     "execution_count": 14,
     "metadata": {},
     "output_type": "execute_result"
    }
   ],
   "source": [
    "biker_data[0]['Delivery_person_ID']"
   ]
  },
  {
   "cell_type": "code",
   "execution_count": 16,
   "id": "08a244a1",
   "metadata": {},
   "outputs": [
    {
     "data": {
      "text/plain": [
       "dict_keys(['ID', 'Delivery_person_ID', 'Delivery_person_Age', 'Delivery_person_Ratings', 'Restaurant_latitude', 'Restaurant_longitude', 'Delivery_location_latitude', 'Delivery_location_longitude', 'Order_Date', 'Time_Orderd', 'Time_Order_picked', 'Weather', 'Road_traffic_density', 'Vehicle_condition', 'Type_of_order', 'Type_of_vehicle', 'multiple_deliveries', 'Festival', 'City', 'Name', 'rowNum'])"
      ]
     },
     "execution_count": 16,
     "metadata": {},
     "output_type": "execute_result"
    }
   ],
   "source": [
    "biker_data[0].keys()"
   ]
  },
  {
   "cell_type": "code",
   "execution_count": 17,
   "id": "29f826e2",
   "metadata": {},
   "outputs": [
    {
     "data": {
      "text/plain": [
       "['ID',\n",
       " 'Delivery_person_ID',\n",
       " 'Delivery_person_Age',\n",
       " 'Delivery_person_Ratings',\n",
       " 'Restaurant_latitude',\n",
       " 'Restaurant_longitude',\n",
       " 'Delivery_location_latitude',\n",
       " 'Delivery_location_longitude',\n",
       " 'Order_Date',\n",
       " 'Time_Orderd',\n",
       " 'Time_Order_picked',\n",
       " 'Weather',\n",
       " 'Road_traffic_density',\n",
       " 'Vehicle_condition',\n",
       " 'Type_of_order',\n",
       " 'Type_of_vehicle',\n",
       " 'multiple_deliveries',\n",
       " 'Festival',\n",
       " 'City',\n",
       " 'Name',\n",
       " 'rowNum']"
      ]
     },
     "execution_count": 17,
     "metadata": {},
     "output_type": "execute_result"
    }
   ],
   "source": [
    "list(biker_data[0].keys())"
   ]
  },
  {
   "cell_type": "code",
   "execution_count": 18,
   "id": "c228769b",
   "metadata": {},
   "outputs": [
    {
     "data": {
      "text/plain": [
       "21"
      ]
     },
     "execution_count": 18,
     "metadata": {},
     "output_type": "execute_result"
    }
   ],
   "source": [
    "len(biker_data[0].keys())"
   ]
  },
  {
   "cell_type": "code",
   "execution_count": 19,
   "id": "38d89163",
   "metadata": {},
   "outputs": [
    {
     "data": {
      "text/plain": [
       "['0x3474',\n",
       " 'BANGRES15DEL01',\n",
       " 28.0,\n",
       " 4.6,\n",
       " 12.975377,\n",
       " 77.696664,\n",
       " 13.085377,\n",
       " 77.806664,\n",
       " '29-03-2022',\n",
       " '20:30',\n",
       " '20:35',\n",
       " 'Windy',\n",
       " 'Jam',\n",
       " 0,\n",
       " 'Snack',\n",
       " 'motorcycle',\n",
       " 1.0,\n",
       " 'No',\n",
       " 'Metropolitian',\n",
       " 'object',\n",
       " 2]"
      ]
     },
     "execution_count": 19,
     "metadata": {},
     "output_type": "execute_result"
    }
   ],
   "source": [
    "list(biker_data[0].values())"
   ]
  },
  {
   "cell_type": "code",
   "execution_count": 21,
   "id": "6fdf6771",
   "metadata": {},
   "outputs": [],
   "source": [
    "#moving back to openpyxl\n",
    "\n",
    "biker_xl_book = openpyxl.Workbook()\n",
    "sheet1 = biker_xl_book.active"
   ]
  },
  {
   "cell_type": "code",
   "execution_count": 23,
   "id": "e38f75fe",
   "metadata": {},
   "outputs": [
    {
     "data": {
      "text/plain": [
       "'Delivery_location_latitude'"
      ]
     },
     "execution_count": 23,
     "metadata": {},
     "output_type": "execute_result"
    }
   ],
   "source": [
    "list(biker_data[0].keys())[6]"
   ]
  },
  {
   "cell_type": "code",
   "execution_count": 27,
   "id": "363e9205",
   "metadata": {},
   "outputs": [
    {
     "name": "stdout",
     "output_type": "stream",
     "text": [
      "ID\n",
      "Delivery_person_ID\n",
      "Delivery_person_Age\n",
      "Delivery_person_Ratings\n",
      "Restaurant_latitude\n",
      "Restaurant_longitude\n",
      "Delivery_location_latitude\n",
      "Delivery_location_longitude\n",
      "Order_Date\n",
      "Time_Orderd\n",
      "Time_Order_picked\n",
      "Weather\n",
      "Road_traffic_density\n",
      "Vehicle_condition\n",
      "Type_of_order\n",
      "Type_of_vehicle\n",
      "multiple_deliveries\n",
      "Festival\n",
      "City\n",
      "Name\n",
      "rowNum\n"
     ]
    }
   ],
   "source": [
    "for ind,x in enumerate(list(biker_data[0].keys())):\n",
    "    cur_data = list(biker_data[0].keys())[ind]\n",
    "    #print('this is index: ',ind)\n",
    "    #print('this is columns: ',ind + 1)\n",
    "    print(cur_data)\n",
    "    sheet1.cell(row=1,column=ind + 1,value=cur_data)"
   ]
  },
  {
   "cell_type": "code",
   "execution_count": 28,
   "id": "7cff2fb6",
   "metadata": {},
   "outputs": [],
   "source": [
    "for ind,x in enumerate(list(biker_data[0].values())):\n",
    "    cur_data = list(biker_data[0].values())[ind]\n",
    "    #print(cur_data)\n",
    "    sheet1.cell(row=2,column=ind + 1,value=cur_data)"
   ]
  },
  {
   "cell_type": "code",
   "execution_count": 29,
   "id": "7216b6d7",
   "metadata": {},
   "outputs": [
    {
     "data": {
      "text/plain": [
       "'0x3474'"
      ]
     },
     "execution_count": 29,
     "metadata": {},
     "output_type": "execute_result"
    }
   ],
   "source": [
    "sheet1['A2'].value"
   ]
  },
  {
   "cell_type": "code",
   "execution_count": 30,
   "id": "07e19963",
   "metadata": {},
   "outputs": [],
   "source": [
    "sheet2 = biker_xl_book.create_sheet(\"sheet2\")"
   ]
  },
  {
   "cell_type": "code",
   "execution_count": 31,
   "id": "de5b477f",
   "metadata": {},
   "outputs": [],
   "source": [
    "for ind,x in enumerate(list(biker_data[1].keys())):\n",
    "    cur_data = list(biker_data[1].keys())[ind]\n",
    "    #print(cur_data)\n",
    "    sheet2.cell(row=1,column=ind + 1,value=cur_data)"
   ]
  },
  {
   "cell_type": "code",
   "execution_count": 33,
   "id": "3c21634e",
   "metadata": {},
   "outputs": [],
   "source": [
    "for ind,x in enumerate(list(biker_data[1].values())):\n",
    "    cur_data = list(biker_data[1].values())[ind]\n",
    "    #print(cur_data)\n",
    "    sheet2.cell(row=2,column=ind + 1,value=cur_data)"
   ]
  },
  {
   "cell_type": "code",
   "execution_count": 34,
   "id": "7cc57c6d",
   "metadata": {},
   "outputs": [],
   "source": [
    "biker_xl_book.save('biker_API.xlsx')"
   ]
  },
  {
   "cell_type": "code",
   "execution_count": 35,
   "id": "cde975c3",
   "metadata": {},
   "outputs": [
    {
     "name": "stdout",
     "output_type": "stream",
     "text": [
      "api_requests_automation.ipynb\t\t  openpyxl_glob_automation.ipynb\r\n",
      "AutomatingXL.ipynb\t\t\t  os_module_basics.ipynb\r\n",
      "biker_API.xls\t\t\t\t  sample.xlsx\r\n",
      "biker_API.xlsx\t\t\t\t  serialized_json.txt\r\n",
      "boto_session_creation_configParser.ipynb  serialized_video_tutorial.txt\r\n",
      "example.conf\t\t\t\t  testdata.xlsx\r\n"
     ]
    }
   ],
   "source": [
    "!ls"
   ]
  },
  {
   "cell_type": "code",
   "execution_count": 36,
   "id": "dee101e4",
   "metadata": {},
   "outputs": [],
   "source": [
    "#lets take a look at glob\n",
    "import glob"
   ]
  },
  {
   "cell_type": "code",
   "execution_count": 37,
   "id": "665b66e1",
   "metadata": {},
   "outputs": [
    {
     "data": {
      "text/plain": [
       "['biker_API.xlsx', 'sample.xlsx', 'testdata.xlsx']"
      ]
     },
     "execution_count": 37,
     "metadata": {},
     "output_type": "execute_result"
    }
   ],
   "source": [
    "xls_files = glob.glob(\"*.xlsx\")\n",
    "xls_files"
   ]
  },
  {
   "cell_type": "code",
   "execution_count": 39,
   "id": "f8890bb0",
   "metadata": {},
   "outputs": [],
   "source": [
    "import os\n",
    "os.chdir('../..')"
   ]
  },
  {
   "cell_type": "code",
   "execution_count": 41,
   "id": "50f74ad2",
   "metadata": {},
   "outputs": [
    {
     "data": {
      "text/plain": [
       "'/run/media/solverbot/repoA/gitFolders/python_de_learners_data'"
      ]
     },
     "execution_count": 41,
     "metadata": {},
     "output_type": "execute_result"
    }
   ],
   "source": [
    "os.getcwd()"
   ]
  },
  {
   "cell_type": "code",
   "execution_count": 40,
   "id": "962706ed",
   "metadata": {},
   "outputs": [
    {
     "data": {
      "text/plain": [
       "['code_script_notebooks/jupyter_notebooks/serialized_json.txt',\n",
       " 'code_script_notebooks/jupyter_notebooks/serialized_video_tutorial.txt',\n",
       " 'code_script_notebooks/python_scripts/new_file.txt',\n",
       " 'code_script_notebooks/python_scripts/trial_file.txt']"
      ]
     },
     "execution_count": 40,
     "metadata": {},
     "output_type": "execute_result"
    }
   ],
   "source": [
    "glob.glob('**/*.txt', recursive=True)"
   ]
  }
 ],
 "metadata": {
  "kernelspec": {
   "display_name": "Python 3 (ipykernel)",
   "language": "python",
   "name": "python3"
  },
  "language_info": {
   "codemirror_mode": {
    "name": "ipython",
    "version": 3
   },
   "file_extension": ".py",
   "mimetype": "text/x-python",
   "name": "python",
   "nbconvert_exporter": "python",
   "pygments_lexer": "ipython3",
   "version": "3.10.9"
  }
 },
 "nbformat": 4,
 "nbformat_minor": 5
}
