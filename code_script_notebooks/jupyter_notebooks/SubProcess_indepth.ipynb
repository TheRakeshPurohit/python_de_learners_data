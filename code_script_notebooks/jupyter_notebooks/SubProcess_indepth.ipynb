{
 "cells": [
  {
   "cell_type": "markdown",
   "metadata": {},
   "source": [
    "### What is Process and How Sub Process in Python Works\n",
    "\n",
    "https://realpython.com/python-subprocess/\n",
    "\n",
    "- Using a computer always involves processes\n",
    "\n",
    "- We can explore the sub processes running inside the computer, using variety of tools. Psutil is one module in python that allows you to access the processes\n",
    "\n",
    "- Processor is excellent at multi-tasking and process table / process control block is well organised\n",
    "\n",
    "- Process can be interupted many times, however the processor knows where to start again\n",
    "\n",
    "- Understanding how the processes are created inside the OS is important concept. Win32 API for windows system, and fork()/ exec() for unix system\n",
    "\n",
    "- Every process will have PID, and typical resource usage like CPU %, RAM memory amount used "
   ]
  },
  {
   "cell_type": "markdown",
   "metadata": {},
   "source": [
    "![Alt text](image-1.png)\n",
    "\n",
    "- Python subprocess module is for launching the child processes\n",
    "\n",
    "- There are two function run() and Popen() class can be used for initiating the sub processes\n",
    "\n",
    "### The subprocess module is mainly for calling programs other than Python. But, as you can see, you can call Python too if you want!"
   ]
  },
  {
   "cell_type": "code",
   "execution_count": 2,
   "metadata": {},
   "outputs": [
    {
     "name": "stdout",
     "output_type": "stream",
     "text": [
      "Starting timer 5\n",
      ".....Done!\n"
     ]
    },
    {
     "data": {
      "text/plain": [
       "CompletedProcess(args=['python', 'timer_process.py', '5'], returncode=0)"
      ]
     },
     "execution_count": 2,
     "metadata": {},
     "output_type": "execute_result"
    }
   ],
   "source": [
    "## The timer_process.py has been kept in the same folder, \n",
    "## which is called using the subprocess module\n",
    "\n",
    "import subprocess\n",
    "\n",
    "subprocess.run([\"python\",\"timer_process.py\",'5']) #returncode is not accepted"
   ]
  },
  {
   "cell_type": "markdown",
   "metadata": {},
   "source": [
    "### Calling run() isn’t the same as calling programs on the command line. The run() function makes a system call, foregoing the need for a shell. "
   ]
  },
  {
   "cell_type": "code",
   "execution_count": 3,
   "metadata": {},
   "outputs": [
    {
     "data": {
      "text/plain": [
       "['python', 'timer_process.py', '5']"
      ]
     },
     "execution_count": 3,
     "metadata": {},
     "output_type": "execute_result"
    }
   ],
   "source": [
    "import shlex\n",
    "\n",
    "shlex.split(\"python timer_process.py 5\")"
   ]
  },
  {
   "cell_type": "code",
   "execution_count": 5,
   "metadata": {},
   "outputs": [
    {
     "name": "stderr",
     "output_type": "stream",
     "text": [
      "Vim: Warning: Output is not to a terminal\n",
      "Vim: Warning: Input is not from a terminal\n"
     ]
    },
    {
     "name": "stdout",
     "output_type": "stream",
     "text": [
      "\u001b[?1006;1000h\u001b[?1002h\u001b7\u001b[?47h\u001b[>4;2m\u001b[?1h\u001b=\u001b[?2004h\u001b[?1004h\u001b[1;24r\u001b[?12h\u001b[?12l\u001b[22;2t\u001b[22;1t\u001b[29m\u001b[m\u001b[38;2;235;219;178m\u001b[48;2;40;40;40m\u001b[H\u001b[2J\u001b[?1006;1000l\u001b[?1002l\u001b[?2004l\u001b[>4;m\u001b[?2004h\u001b[>4;2m\u001b[?1006;1000h\u001b[?1002h\u001b[29m\u001b[m\u001b[38;2;235;219;178m\u001b[48;2;40;40;40m\u001b[H\u001b[2J\u001b[?25l\u001b[2;1H\u001b[38;2;254;128;25m  \u001b[m\u001b[38;2;235;219;178m\u001b[48;2;40;40;40m\u001b[38;2;80;73;69m \u001b[m\u001b[38;2;235;219;178m\u001b[48;2;40;40;40m\u001b[38;2;254;128;25m \u001b[m\u001b[38;2;235;219;178m\u001b[48;2;40;40;40m\u001b[38;2;80;73;69m \u001b[m\u001b[38;2;235;219;178m\u001b[48;2;40;40;40m\u001b[38;2;254;128;25m \u001b[m\u001b[38;2;235;219;178m\u001b[48;2;40;40;40m\u001b[38;2;80;73;69m \u001b[m\u001b[38;2;235;219;178m\u001b[48;2;40;40;40m\u001b[38;2;254;128;25m \u001b[m\u001b[38;2;235;219;178m\u001b[48;2;40;40;40m\u001b[38;2;80;73;69m \u001b[m\u001b[38;2;235;219;178m\u001b[48;2;40;40;40m\u001b[38;2;254;128;25m \u001b[m\u001b[38;2;235;219;178m\u001b[48;2;40;40;40m\u001b[38;2;80;73;69m \u001b[m\u001b[38;2;235;219;178m\u001b[48;2;40;40;40m\u001b[38;2;254;128;25m \u001b[m\u001b[38;2;235;219;178m\u001b[48;2;40;40;40m\u001b[38;2;80;73;69m \u001b[m\u001b[38;2;235;219;178m\u001b[48;2;40;40;40m\u001b[38;2;254;128;25m \u001b[m\u001b[38;2;235;219;178m\u001b[48;2;40;40;40m\u001b[38;2;80;73;69m \u001b[m\u001b[38;2;235;219;178m\u001b[48;2;40;40;40m\u001b[38;2;254;128;25m \u001b[m\u001b[38;2;235;219;178m\u001b[48;2;40;40;40m\u001b[38;2;80;73;69m \u001b[m\u001b[38;2;235;219;178m\u001b[48;2;40;40;40m\u001b[38;2;254;128;25m \u001b[m\u001b[38;2;235;219;178m\u001b[48;2;40;40;40m\u001b[38;2;80;73;69m \u001b[m\u001b[38;2;235;219;178m\u001b[48;2;40;40;40m\u001b[38;2;254;128;25m \u001b[m\u001b[38;2;235;219;178m\u001b[48;2;40;40;40m\u001b[38;2;80;73;69m \u001b[m\u001b[38;2;235;219;178m\u001b[48;2;40;40;40m\u001b[38;2;254;128;25m \u001b[m\u001b[38;2;235;219;178m\u001b[48;2;40;40;40m\u001b[38;2;80;73;69m \u001b[m\u001b[38;2;235;219;178m\u001b[48;2;40;40;40m\u001b[38;2;254;128;25m \u001b[m\u001b[38;2;235;219;178m\u001b[48;2;40;40;40m\u001b[38;2;80;73;69m \u001b[m\u001b[38;2;235;219;178m\u001b[48;2;40;40;40m\u001b[38;2;254;128;25m \u001b[m\u001b[38;2;235;219;178m\u001b[48;2;40;40;40m\u001b[38;2;80;73;69m \u001b[m\u001b[38;2;235;219;178m\u001b[48;2;40;40;40m\u001b[38;2;254;128;25m \u001b[m\u001b[38;2;235;219;178m\u001b[48;2;40;40;40m\u001b[38;2;80;73;69m \u001b[m\u001b[38;2;235;219;178m\u001b[48;2;40;40;40m\u001b[38;2;254;128;25m \u001b[m\u001b[38;2;235;219;178m\u001b[48;2;40;40;40m\u001b[38;2;80;73;69m \u001b[m\u001b[38;2;235;219;178m\u001b[48;2;40;40;40m\u001b[38;2;254;128;25m \u001b[m\u001b[38;2;235;219;178m\u001b[48;2;40;40;40m\u001b[38;2;80;73;69m \u001b[m\u001b[38;2;235;219;178m\u001b[48;2;40;40;40m\u001b[38;2;254;128;25m \u001b[m\u001b[38;2;235;219;178m\u001b[48;2;40;40;40m\u001b[38;2;80;73;69m \u001b[m\u001b[38;2;235;219;178m\u001b[48;2;40;40;40m\u001b[38;2;254;128;25m \u001b[m\u001b[38;2;235;219;178m\u001b[48;2;40;40;40m\u001b[38;2;80;73;69m \u001b[m\u001b[38;2;235;219;178m\u001b[48;2;40;40;40m\u001b[38;2;254;128;25m \u001b[m\u001b[38;2;235;219;178m\u001b[48;2;40;40;40m\u001b[38;2;80;73;69m \u001b[m\u001b[38;2;235;219;178m\u001b[48;2;40;40;40m\u001b[38;2;254;128;25m \u001b[m\u001b[38;2;235;219;178m\u001b[48;2;40;40;40m\u001b[38;2;80;73;69m \u001b[m\u001b[38;2;235;219;178m\u001b[48;2;40;40;40m\u001b[38;2;254;128;25m                                      \n",
      "_______________________________________________________                        \n",
      "=========(_)===(_) (_______)==(_______|_______|_)(_)(_)                        \n",
      "=================| |===================================                        \n",
      "=========| |===| | | ||_|| |==|  ___)====| |==| || || |                        \n",
      "========= \\ \\=/ /| | |===| |==| |========| |==| || || |                        \n",
      "========== \\___/=|_|_|===|_|==|_|========|_|===\\_____/                         \n",
      "  \u001b[m\u001b[38;2;235;219;178m\u001b[48;2;40;40;40m\u001b[38;2;80;73;69m \u001b[m\u001b[38;2;235;219;178m\u001b[48;2;40;40;40m\u001b[38;2;254;128;25m \u001b[m\u001b[38;2;235;219;178m\u001b[48;2;40;40;40m\u001b[38;2;80;73;69m \u001b[m\u001b[38;2;235;219;178m\u001b[48;2;40;40;40m\u001b[38;2;254;128;25m \u001b[m\u001b[38;2;235;219;178m\u001b[48;2;40;40;40m\u001b[38;2;80;73;69m \u001b[m\u001b[38;2;235;219;178m\u001b[48;2;40;40;40m\u001b[38;2;254;128;25m \u001b[m\u001b[38;2;235;219;178m\u001b[48;2;40;40;40m\u001b[38;2;80;73;69m \u001b[m\u001b[38;2;235;219;178m\u001b[48;2;40;40;40m\u001b[38;2;254;128;25m \u001b[m\u001b[38;2;235;219;178m\u001b[48;2;40;40;40m\u001b[38;2;80;73;69m \u001b[m\u001b[38;2;235;219;178m\u001b[48;2;40;40;40m\u001b[38;2;254;128;25m \u001b[m\u001b[38;2;235;219;178m\u001b[48;2;40;40;40m\u001b[38;2;80;73;69m \u001b[m\u001b[38;2;235;219;178m\u001b[48;2;40;40;40m\u001b[38;2;254;128;25m \u001b[m\u001b[38;2;235;219;178m\u001b[48;2;40;40;40m\u001b[38;2;80;73;69m \u001b[m\u001b[38;2;235;219;178m\u001b[48;2;40;40;40m\u001b[38;2;254;128;25m \u001b[m\u001b[38;2;235;219;178m\u001b[48;2;40;40;40m\u001b[38;2;80;73;69m \u001b[m\u001b[38;2;235;219;178m\u001b[48;2;40;40;40m\u001b[38;2;254;128;25m \u001b[m\u001b[38;2;235;219;178m\u001b[48;2;40;40;40m\u001b[38;2;80;73;69m \u001b[m\u001b[38;2;235;219;178m\u001b[48;2;40;40;40m\u001b[38;2;254;128;25m \u001b[m\u001b[38;2;235;219;178m\u001b[48;2;40;40;40m\u001b[38;2;80;73;69m \u001b[m\u001b[38;2;235;219;178m\u001b[48;2;40;40;40m\u001b[38;2;254;128;25m \u001b[m\u001b[38;2;235;219;178m\u001b[48;2;40;40;40m\u001b[38;2;80;73;69m \u001b[m\u001b[38;2;235;219;178m\u001b[48;2;40;40;40m\u001b[38;2;254;128;25m \u001b[m\u001b[38;2;235;219;178m\u001b[48;2;40;40;40m\u001b[38;2;80;73;69m \u001b[m\u001b[38;2;235;219;178m\u001b[48;2;40;40;40m\u001b[38;2;254;128;25m \u001b[m\u001b[38;2;235;219;178m\u001b[48;2;40;40;40m\u001b[38;2;80;73;69m \u001b[m\u001b[38;2;235;219;178m\u001b[48;2;40;40;40m\u001b[38;2;254;128;25m \u001b[m\u001b[38;2;235;219;178m\u001b[48;2;40;40;40m\u001b[38;2;80;73;69m \u001b[m\u001b[38;2;235;219;178m\u001b[48;2;40;40;40m\u001b[38;2;254;128;25m \u001b[m\u001b[38;2;235;219;178m\u001b[48;2;40;40;40m\u001b[38;2;80;73;69m \u001b[m\u001b[38;2;235;219;178m\u001b[48;2;40;40;40m\u001b[38;2;254;128;25m \u001b[m\u001b[38;2;235;219;178m\u001b[48;2;40;40;40m\u001b[38;2;80;73;69m \u001b[m\u001b[38;2;235;219;178m\u001b[48;2;40;40;40m\u001b[38;2;254;128;25m \u001b[m\u001b[38;2;235;219;178m\u001b[48;2;40;40;40m\u001b[38;2;80;73;69m \u001b[m\u001b[38;2;235;219;178m\u001b[48;2;40;40;40m\u001b[38;2;254;128;25m \u001b[m\u001b[38;2;235;219;178m\u001b[48;2;40;40;40m\u001b[38;2;80;73;69m \u001b[m\u001b[38;2;235;219;178m\u001b[48;2;40;40;40m\u001b[38;2;254;128;25m \u001b[m\u001b[38;2;235;219;178m\u001b[48;2;40;40;40m\u001b[38;2;80;73;69m \u001b[m\u001b[38;2;235;219;178m\u001b[48;2;40;40;40m\u001b[38;2;254;128;25m \u001b[m\u001b[38;2;235;219;178m\u001b[48;2;40;40;40m\u001b[38;2;80;73;69m \u001b[m\u001b[38;2;235;219;178m\u001b[48;2;40;40;40m\u001b[38;2;254;128;25m                                      \n",
      "  \u001b[m\u001b[38;2;235;219;178m\u001b[48;2;40;40;40m\u001b[38;2;80;73;69m \u001b[m\u001b[38;2;235;219;178m\u001b[48;2;40;40;40m\u001b[38;2;254;128;25m \u001b[m\u001b[38;2;235;219;178m\u001b[48;2;40;40;40m\u001b[38;2;80;73;69m \u001b[m\u001b[38;2;235;219;178m\u001b[48;2;40;40;40m\u001b[38;2;254;128;25m \u001b[m\u001b[38;2;235;219;178m\u001b[48;2;40;40;40m\u001b[38;2;80;73;69m \u001b[m\u001b[38;2;235;219;178m\u001b[48;2;40;40;40m\u001b[38;2;254;128;25m \u001b[m\u001b[38;2;235;219;178m\u001b[48;2;40;40;40m\u001b[38;2;80;73;69m \u001b[m\u001b[38;2;235;219;178m\u001b[48;2;40;40;40m\u001b[38;2;254;128;25m \u001b[m\u001b[38;2;235;219;178m\u001b[48;2;40;40;40m\u001b[38;2;80;73;69m \u001b[m\u001b[38;2;235;219;178m\u001b[48;2;40;40;40m\u001b[38;2;254;128;25m \u001b[m\u001b[38;2;235;219;178m\u001b[48;2;40;40;40m\u001b[38;2;80;73;69m \u001b[m\u001b[38;2;235;219;178m\u001b[48;2;40;40;40m\u001b[38;2;254;128;25m \u001b[m\u001b[38;2;235;219;178m\u001b[48;2;40;40;40m\u001b[38;2;80;73;69m \u001b[m\u001b[38;2;235;219;178m\u001b[48;2;40;40;40m\u001b[38;2;254;128;25mversion : 2.3.0-dev   by : spacevim.org                          \u001b[11;1H  \u001b[m\u001b[38;2;235;219;178m\u001b[48;2;40;40;40m\u001b[38;2;80;73;69m \u001b[m\u001b[38;2;235;219;178m\u001b[48;2;40;40;40m\u001b[38;2;254;128;25m \u001b[m\u001b[38;2;235;219;178m\u001b[48;2;40;40;40m\u001b[38;2;80;73;69m \u001b[m\u001b[38;2;235;219;178m\u001b[48;2;40;40;40m\u001b[38;2;254;128;25m \u001b[m\u001b[38;2;235;219;178m\u001b[48;2;40;40;40m\u001b[38;2;80;73;69m \u001b[m\u001b[38;2;235;219;178m\u001b[48;2;40;40;40m\u001b[38;2;254;128;25m \u001b[m\u001b[38;2;235;219;178m\u001b[48;2;40;40;40m\u001b[38;2;80;73;69m \u001b[m\u001b[38;2;235;219;178m\u001b[48;2;40;40;40m\u001b[38;2;254;128;25m \u001b[m\u001b[38;2;235;219;178m\u001b[48;2;40;40;40m\u001b[38;2;80;73;69m \u001b[m\u001b[38;2;235;219;178m\u001b[48;2;40;40;40m\u001b[38;2;254;128;25m \u001b[m\u001b[38;2;235;219;178m\u001b[48;2;40;40;40m\u001b[38;2;80;73;69m \u001b[m\u001b[38;2;235;219;178m\u001b[48;2;40;40;40m\u001b[38;2;254;128;25m \u001b[m\u001b[38;2;235;219;178m\u001b[48;2;40;40;40m\u001b[38;2;80;73;69m \u001b[m\u001b[38;2;235;219;178m\u001b[48;2;40;40;40m\u001b[38;2;254;128;25m \u001b[m\u001b[38;2;235;219;178m\u001b[48;2;40;40;40m\u001b[38;2;80;73;69m \u001b[m\u001b[38;2;235;219;178m\u001b[48;2;40;40;40m\u001b[38;2;254;128;25m \u001b[m\u001b[38;2;235;219;178m\u001b[48;2;40;40;40m\u001b[38;2;80;73;69m \u001b[m\u001b[38;2;235;219;178m\u001b[48;2;40;40;40m\u001b[38;2;254;128;25m \u001b[m\u001b[38;2;235;219;178m\u001b[48;2;40;40;40m\u001b[38;2;80;73;69m \u001b[m\u001b[38;2;235;219;178m\u001b[48;2;40;40;40m\u001b[38;2;254;128;25m \u001b[m\u001b[38;2;235;219;178m\u001b[48;2;40;40;40m\u001b[38;2;80;73;69m \u001b[m\u001b[38;2;235;219;178m\u001b[48;2;40;40;40m\u001b[38;2;254;128;25m \u001b[m\u001b[38;2;235;219;178m\u001b[48;2;40;40;40m\u001b[38;2;80;73;69m \u001b[m\u001b[38;2;235;219;178m\u001b[48;2;40;40;40m\u001b[38;2;254;128;25m \u001b[m\u001b[38;2;235;219;178m\u001b[48;2;40;40;40m\u001b[38;2;80;73;69m \u001b[m\u001b[38;2;235;219;178m\u001b[48;2;40;40;40m\u001b[38;2;254;128;25m \u001b[m\u001b[38;2;235;219;178m\u001b[48;2;40;40;40m\u001b[38;2;80;73;69m \u001b[m\u001b[38;2;235;219;178m\u001b[48;2;40;40;40m\u001b[38;2;254;128;25m \u001b[m\u001b[38;2;235;219;178m\u001b[48;2;40;40;40m\u001b[38;2;80;73;69m \u001b[m\u001b[38;2;235;219;178m\u001b[48;2;40;40;40m\u001b[38;2;254;128;25m \u001b[m\u001b[38;2;235;219;178m\u001b[48;2;40;40;40m\u001b[38;2;80;73;69m \u001b[m\u001b[38;2;235;219;178m\u001b[48;2;40;40;40m\u001b[38;2;254;128;25m \u001b[m\u001b[38;2;235;219;178m\u001b[48;2;40;40;40m\u001b[38;2;80;73;69m \u001b[m\u001b[38;2;235;219;178m\u001b[48;2;40;40;40m\u001b[38;2;254;128;25m \u001b[m\u001b[38;2;235;219;178m\u001b[48;2;40;40;40m\u001b[38;2;80;73;69m \u001b[m\u001b[38;2;235;219;178m\u001b[48;2;40;40;40m\u001b[38;2;254;128;25m \u001b[m\u001b[38;2;235;219;178m\u001b[48;2;40;40;40m\u001b[38;2;80;73;69m \u001b[m\u001b[38;2;235;219;178m\u001b[48;2;40;40;40m\u001b[38;2;254;128;25m \u001b[m\u001b[38;2;235;219;178m\u001b[48;2;40;40;40m\u001b[38;2;80;73;69m \u001b[m\u001b[38;2;235;219;178m\u001b[48;2;40;40;40m\u001b[38;2;254;128;25m                                      \u001b[m\u001b[38;2;235;219;178m\u001b[48;2;40;40;40m\n",
      "\n",
      "\u001b[38;2;189;174;147m  \u001b[m\u001b[38;2;235;219;178m\u001b[48;2;40;40;40m\u001b[38;2;80;73;69m \u001b[m\u001b[38;2;235;219;178m\u001b[48;2;40;40;40m\u001b[38;2;189;174;147m[\u001b[m\u001b[38;2;235;219;178m\u001b[48;2;40;40;40m\u001b[38;2;131;165;152me\u001b[m\u001b[38;2;235;219;178m\u001b[48;2;40;40;40m\u001b[38;2;189;174;147m]  \u001b[m\u001b[38;2;235;219;178m\u001b[48;2;40;40;40m\u001b[38;2;80;73;69m<empty buffer>\u001b[m\u001b[38;2;235;219;178m\u001b[48;2;40;40;40m\n",
      "\n",
      "\u001b[38;2;250;189;47m  \u001b[m\u001b[38;2;235;219;178m\u001b[48;2;40;40;40m\u001b[38;2;80;73;69m \u001b[m\u001b[38;2;235;219;178m\u001b[48;2;40;40;40m\u001b[38;2;250;189;47mMy most recently used files:\u001b[m\u001b[38;2;235;219;178m\u001b[48;2;40;40;40m\n",
      "\n",
      "\u001b[38;2;189;174;147m  \u001b[m\u001b[38;2;235;219;178m\u001b[48;2;40;40;40m\u001b[38;2;80;73;69m \u001b[m\u001b[38;2;235;219;178m\u001b[48;2;40;40;40m\u001b[38;2;189;174;147m[\u001b[m\u001b[38;2;235;219;178m\u001b[48;2;40;40;40m\u001b[38;2;131;165;152m0\u001b[m\u001b[38;2;235;219;178m\u001b[48;2;40;40;40m\u001b[38;2;189;174;147m]  \u001b[m\u001b[38;2;235;219;178m\u001b[48;2;40;40;40m\u001b[38;2;146;131;116m\u001b[17;10H  ~/gitfolders/synapse/\u001b[m\u001b[38;2;235;219;178m\u001b[48;2;40;40;40m\u001b[38;2;235;219;178mdocker-compose.yml\u001b[m\u001b[38;2;235;219;178m\u001b[48;2;40;40;40m\n",
      "\u001b[38;2;189;174;147m  \u001b[m\u001b[38;2;235;219;178m\u001b[48;2;40;40;40m\u001b[38;2;80;73;69m \u001b[m\u001b[38;2;235;219;178m\u001b[48;2;40;40;40m\u001b[38;2;189;174;147m[\u001b[m\u001b[38;2;235;219;178m\u001b[48;2;40;40;40m\u001b[38;2;131;165;152m1\u001b[m\u001b[38;2;235;219;178m\u001b[48;2;40;40;40m\u001b[38;2;189;174;147m]  \u001b[m\u001b[38;2;235;219;178m\u001b[48;2;40;40;40m\u001b[38;2;146;131;116m\u001b[18;10H  /etc/lightdm/\u001b[m\u001b[38;2;235;219;178m\u001b[48;2;40;40;40m\u001b[38;2;235;219;178mlightdm.conf\u001b[m\u001b[38;2;235;219;178m\u001b[48;2;40;40;40m\n",
      "\u001b[38;2;189;174;147m  \u001b[m\u001b[38;2;235;219;178m\u001b[48;2;40;40;40m\u001b[38;2;80;73;69m \u001b[m\u001b[38;2;235;219;178m\u001b[48;2;40;40;40m\u001b[38;2;189;174;147m[\u001b[m\u001b[38;2;235;219;178m\u001b[48;2;40;40;40m\u001b[38;2;131;165;152m2\u001b[m\u001b[38;2;235;219;178m\u001b[48;2;40;40;40m\u001b[38;2;189;174;147m]  \u001b[m\u001b[38;2;235;219;178m\u001b[48;2;40;40;40m\u001b[38;2;146;131;116m\u001b[19;10H  ~/gitfolders/freelance_pjts/\u001b[m\u001b[38;2;235;219;178m\u001b[48;2;40;40;40m\u001b[38;2;235;219;178mwhat_Ilearn_today.txt\u001b[m\u001b[38;2;235;219;178m\u001b[48;2;40;40;40m\n",
      "\u001b[38;2;189;174;147m  \u001b[m\u001b[38;2;235;219;178m\u001b[48;2;40;40;40m\u001b[38;2;80;73;69m \u001b[m\u001b[38;2;235;219;178m\u001b[48;2;40;40;40m\u001b[38;2;189;174;147m[\u001b[m\u001b[38;2;235;219;178m\u001b[48;2;40;40;40m\u001b[38;2;131;165;152m3\u001b[m\u001b[38;2;235;219;178m\u001b[48;2;40;40;40m\u001b[38;2;189;174;147m]  \u001b[m\u001b[38;2;235;219;178m\u001b[48;2;40;40;40m\u001b[38;2;146;131;116m   ~/gitfolders/judy/\u001b[m\u001b[38;2;235;219;178m\u001b[48;2;40;40;40m\u001b[38;2;235;219;178m.env\u001b[m\u001b[38;2;235;219;178m\u001b[48;2;40;40;40m\n",
      "\u001b[38;2;189;174;147m  \u001b[m\u001b[38;2;235;219;178m\u001b[48;2;40;40;40m\u001b[38;2;80;73;69m \u001b[m\u001b[38;2;235;219;178m\u001b[48;2;40;40;40m\u001b[38;2;189;174;147m[\u001b[m\u001b[38;2;235;219;178m\u001b[48;2;40;40;40m\u001b[38;2;131;165;152m4\u001b[m\u001b[38;2;235;219;178m\u001b[48;2;40;40;40m\u001b[38;2;189;174;147m]  \u001b[m\u001b[38;2;235;219;178m\u001b[48;2;40;40;40m\u001b[38;2;146;131;116m\u001b[21;10H  /etc/\u001b[m\u001b[38;2;235;219;178m\u001b[48;2;40;40;40m\u001b[38;2;235;219;178msysctl.conf\u001b[m\u001b[38;2;235;219;178m\u001b[48;2;40;40;40m\n",
      "\u001b[38;2;189;174;147m  \u001b[m\u001b[38;2;235;219;178m\u001b[48;2;40;40;40m\u001b[38;2;80;73;69m \u001b[m\u001b[38;2;235;219;178m\u001b[48;2;40;40;40m\u001b[38;2;189;174;147m[\u001b[m\u001b[38;2;235;219;178m\u001b[48;2;40;40;40m\u001b[38;2;131;165;152m5\u001b[m\u001b[38;2;235;219;178m\u001b[48;2;40;40;40m\u001b[38;2;189;174;147m]  \u001b[m\u001b[38;2;235;219;178m\u001b[48;2;40;40;40m\u001b[38;2;146;131;116m\u001b[22;10H  ~/gitfolders/django_projects/tutorial/snippets/\u001b[m\u001b[38;2;235;219;178m\u001b[48;2;40;40;40m\u001b[38;2;235;219;178mserializers.py\u001b[m\u001b[38;2;235;219;178m\u001b[48;2;40;40;40m\n",
      "No matching autocommands: User NerdTreeInit\u001b[24;44H\u001b[K\u001b[1;50H\u001b[38;2;24;26;31m\u001b[48;2;40;40;40m│\u001b[2;50H│\u001b[3;50H│\u001b[4;50H│\u001b[5;50H│\u001b[6;50H│\u001b[7;50H│\u001b[8;50H│\u001b[9;50H│\u001b[10;50H│\u001b[11;50H│\u001b[12;50H│\u001b[13;50H│\u001b[14;50H│\u001b[15;50H│\u001b[16;50H│\u001b[17;50H│\u001b[18;50H│\u001b[19;50H│\u001b[20;50H│\u001b[21;50H│\u001b[22;50H│\u001b[m\u001b[38;2;235;219;178m\u001b[48;2;40;40;40m\u001b[23;50H\u001b[7m\u001b[38;2;60;56;54m\u001b[48;2;168;153;132m \u001b[m\u001b[38;2;235;219;178m\u001b[48;2;40;40;40m\u001b[1;51H\u001b[48;2;60;56;54m                              \u001b[m\u001b[38;2;235;219;178m\u001b[48;2;40;40;40m\u001b[2;51H\u001b[38;2;40;40;40m\u001b[48;2;40;40;40m~                             \u001b[3;51H~                             \u001b[4;51H~                             \u001b[5;51H~                             \u001b[6;51H~                             \u001b[7;51H~                             \u001b[8;51H~                             \u001b[9;51H~                             \u001b[10;51H~                             \u001b[11;51H~                             \u001b[12;51H~                             \u001b[13;51H~                             \u001b[14;51H~                             \u001b[15;51H~                             \u001b[16;51H~                             \u001b[17;51H~                             \u001b[18;51H~                             \u001b[19;51H~                             \u001b[20;51H~                             \u001b[21;51H~                             \u001b[22;51H~                             \u001b[m\u001b[38;2;235;219;178m\u001b[48;2;40;40;40m\u001b[23;51H\u001b[1m\u001b[38;2;40;40;40m\u001b[48;2;168;153;132m 2 \u001b[m\u001b[38;2;235;219;178m\u001b[48;2;40;40;40m\u001b[38;2;168;153;132m\u001b[48;2;80;73;69m\u001b[23;55H Nerdtree \u001b[m\u001b[38;2;235;219;178m\u001b[48;2;40;40;40m\u001b[38;2;80;73;69m\u001b[48;2;60;56;54m\u001b[m\u001b[38;2;235;219;178m\u001b[48;2;40;40;40m\u001b[24;1H\u001b[K\u001b[1;1H\u001b[38;2;124;111;100m\u001b[48;2;60;56;54m                                                                                \u001b[m\u001b[38;2;235;219;178m\u001b[48;2;40;40;40m\u001b[23;50H\u001b[7m\u001b[38;2;80;73;69m\u001b[48;2;235;219;178m \u001b[m\u001b[38;2;235;219;178m\u001b[48;2;40;40;40m\u001b[2;51H\u001b[38;2;184;187;38m\u001b[48;2;60;56;54m</jupyter_notebooks/\u001b[m\u001b[38;2;235;219;178m\u001b[48;2;40;40;40m\u001b[48;2;60;56;54m          \u001b[m\u001b[38;2;235;219;178m\u001b[48;2;40;40;40m\u001b[3;51H  api_requests_automation.ipyn\u001b[4;51H  AutomatingXL.ipynb\u001b[4;71H\u001b[K\u001b[5;51H  biker_API.xls\u001b[5;66H\u001b[K\u001b[6;51H  biker_API.xlsx\u001b[6;67H\u001b[K\u001b[7;51H  boto_session_creation_config\u001b[8;51H  changeFileName.ipynb\u001b[8;73H\u001b[K\u001b[9;51H  example.conf\u001b[9;65H\u001b[K\u001b[10;51H  first_notebook.ipynb\u001b[10;73H\u001b[K\u001b[11;51H  image-1.png\u001b[11;64H\u001b[K\u001b[12;51H  image.png\u001b[12;62H\u001b[K\u001b[13;51H  Itertools_indepth.ipynb\u001b[13;76H\u001b[K\u001b[14;51H  openpyxl_glob_automation.ipy\u001b[15;51H  os_module_basics.ipynb\u001b[15;75H\u001b[K\u001b[16;51H  rope_checking_fbOPT.ipynb\u001b[16;78H\u001b[K\u001b[17;51H  sample.xlsx\u001b[17;64H\u001b[K\u001b[18;51H  serialized_json.txt\u001b[18;72H\u001b[K\u001b[19;51H  serialized_video_tutorial.tx\u001b[20;51H  SubProcess_indepth.ipynb\u001b[20;77H\u001b[K\u001b[21;51H  testdata.xlsx\u001b[21;66H\u001b[K\u001b[22;51H  timer_process.py\u001b[22;69H\u001b[K\u001b[13;5H\u001b[?25h\u001b[?4m\u001b[?25l\u001b[?25h\u001b[?25l\u001b[?25h"
     ]
    },
    {
     "ename": "KeyboardInterrupt",
     "evalue": "",
     "output_type": "error",
     "traceback": [
      "\u001b[0;31m---------------------------------------------------------------------------\u001b[0m",
      "\u001b[0;31mKeyboardInterrupt\u001b[0m                         Traceback (most recent call last)",
      "\u001b[1;32m/home/kamal/gitfolders/python_de_learners_data/code_script_notebooks/jupyter_notebooks/SubProcess_indepth.ipynb Cell 6\u001b[0m line \u001b[0;36m1\n\u001b[0;32m----> <a href='vscode-notebook-cell:/home/kamal/gitfolders/python_de_learners_data/code_script_notebooks/jupyter_notebooks/SubProcess_indepth.ipynb#W5sZmlsZQ%3D%3D?line=0'>1</a>\u001b[0m subprocess\u001b[39m.\u001b[39;49mrun([\u001b[39m\"\u001b[39;49m\u001b[39mvim\u001b[39;49m\u001b[39m\"\u001b[39;49m])\n",
      "File \u001b[0;32m/usr/lib/python3.11/subprocess.py:550\u001b[0m, in \u001b[0;36mrun\u001b[0;34m(input, capture_output, timeout, check, *popenargs, **kwargs)\u001b[0m\n\u001b[1;32m    548\u001b[0m \u001b[39mwith\u001b[39;00m Popen(\u001b[39m*\u001b[39mpopenargs, \u001b[39m*\u001b[39m\u001b[39m*\u001b[39mkwargs) \u001b[39mas\u001b[39;00m process:\n\u001b[1;32m    549\u001b[0m     \u001b[39mtry\u001b[39;00m:\n\u001b[0;32m--> 550\u001b[0m         stdout, stderr \u001b[39m=\u001b[39m process\u001b[39m.\u001b[39;49mcommunicate(\u001b[39minput\u001b[39;49m, timeout\u001b[39m=\u001b[39;49mtimeout)\n\u001b[1;32m    551\u001b[0m     \u001b[39mexcept\u001b[39;00m TimeoutExpired \u001b[39mas\u001b[39;00m exc:\n\u001b[1;32m    552\u001b[0m         process\u001b[39m.\u001b[39mkill()\n",
      "File \u001b[0;32m/usr/lib/python3.11/subprocess.py:1201\u001b[0m, in \u001b[0;36mPopen.communicate\u001b[0;34m(self, input, timeout)\u001b[0m\n\u001b[1;32m   1199\u001b[0m         stderr \u001b[39m=\u001b[39m \u001b[39mself\u001b[39m\u001b[39m.\u001b[39mstderr\u001b[39m.\u001b[39mread()\n\u001b[1;32m   1200\u001b[0m         \u001b[39mself\u001b[39m\u001b[39m.\u001b[39mstderr\u001b[39m.\u001b[39mclose()\n\u001b[0;32m-> 1201\u001b[0m     \u001b[39mself\u001b[39;49m\u001b[39m.\u001b[39;49mwait()\n\u001b[1;32m   1202\u001b[0m \u001b[39melse\u001b[39;00m:\n\u001b[1;32m   1203\u001b[0m     \u001b[39mif\u001b[39;00m timeout \u001b[39mis\u001b[39;00m \u001b[39mnot\u001b[39;00m \u001b[39mNone\u001b[39;00m:\n",
      "File \u001b[0;32m/usr/lib/python3.11/subprocess.py:1264\u001b[0m, in \u001b[0;36mPopen.wait\u001b[0;34m(self, timeout)\u001b[0m\n\u001b[1;32m   1262\u001b[0m     endtime \u001b[39m=\u001b[39m _time() \u001b[39m+\u001b[39m timeout\n\u001b[1;32m   1263\u001b[0m \u001b[39mtry\u001b[39;00m:\n\u001b[0;32m-> 1264\u001b[0m     \u001b[39mreturn\u001b[39;00m \u001b[39mself\u001b[39;49m\u001b[39m.\u001b[39;49m_wait(timeout\u001b[39m=\u001b[39;49mtimeout)\n\u001b[1;32m   1265\u001b[0m \u001b[39mexcept\u001b[39;00m \u001b[39mKeyboardInterrupt\u001b[39;00m:\n\u001b[1;32m   1266\u001b[0m     \u001b[39m# https://bugs.python.org/issue25942\u001b[39;00m\n\u001b[1;32m   1267\u001b[0m     \u001b[39m# The first keyboard interrupt waits briefly for the child to\u001b[39;00m\n\u001b[1;32m   1268\u001b[0m     \u001b[39m# exit under the common assumption that it also received the ^C\u001b[39;00m\n\u001b[1;32m   1269\u001b[0m     \u001b[39m# generated SIGINT and will exit rapidly.\u001b[39;00m\n\u001b[1;32m   1270\u001b[0m     \u001b[39mif\u001b[39;00m timeout \u001b[39mis\u001b[39;00m \u001b[39mnot\u001b[39;00m \u001b[39mNone\u001b[39;00m:\n",
      "File \u001b[0;32m/usr/lib/python3.11/subprocess.py:2046\u001b[0m, in \u001b[0;36mPopen._wait\u001b[0;34m(self, timeout)\u001b[0m\n\u001b[1;32m   2044\u001b[0m \u001b[39mif\u001b[39;00m \u001b[39mself\u001b[39m\u001b[39m.\u001b[39mreturncode \u001b[39mis\u001b[39;00m \u001b[39mnot\u001b[39;00m \u001b[39mNone\u001b[39;00m:\n\u001b[1;32m   2045\u001b[0m     \u001b[39mbreak\u001b[39;00m  \u001b[39m# Another thread waited.\u001b[39;00m\n\u001b[0;32m-> 2046\u001b[0m (pid, sts) \u001b[39m=\u001b[39m \u001b[39mself\u001b[39;49m\u001b[39m.\u001b[39;49m_try_wait(\u001b[39m0\u001b[39;49m)\n\u001b[1;32m   2047\u001b[0m \u001b[39m# Check the pid and loop as waitpid has been known to\u001b[39;00m\n\u001b[1;32m   2048\u001b[0m \u001b[39m# return 0 even without WNOHANG in odd situations.\u001b[39;00m\n\u001b[1;32m   2049\u001b[0m \u001b[39m# http://bugs.python.org/issue14396.\u001b[39;00m\n\u001b[1;32m   2050\u001b[0m \u001b[39mif\u001b[39;00m pid \u001b[39m==\u001b[39m \u001b[39mself\u001b[39m\u001b[39m.\u001b[39mpid:\n",
      "File \u001b[0;32m/usr/lib/python3.11/subprocess.py:2004\u001b[0m, in \u001b[0;36mPopen._try_wait\u001b[0;34m(self, wait_flags)\u001b[0m\n\u001b[1;32m   2002\u001b[0m \u001b[39m\u001b[39m\u001b[39m\"\"\"All callers to this function MUST hold self._waitpid_lock.\"\"\"\u001b[39;00m\n\u001b[1;32m   2003\u001b[0m \u001b[39mtry\u001b[39;00m:\n\u001b[0;32m-> 2004\u001b[0m     (pid, sts) \u001b[39m=\u001b[39m os\u001b[39m.\u001b[39;49mwaitpid(\u001b[39mself\u001b[39;49m\u001b[39m.\u001b[39;49mpid, wait_flags)\n\u001b[1;32m   2005\u001b[0m \u001b[39mexcept\u001b[39;00m \u001b[39mChildProcessError\u001b[39;00m:\n\u001b[1;32m   2006\u001b[0m     \u001b[39m# This happens if SIGCLD is set to be ignored or waiting\u001b[39;00m\n\u001b[1;32m   2007\u001b[0m     \u001b[39m# for child processes has otherwise been disabled for our\u001b[39;00m\n\u001b[1;32m   2008\u001b[0m     \u001b[39m# process.  This child is dead, we can't get the status.\u001b[39;00m\n\u001b[1;32m   2009\u001b[0m     pid \u001b[39m=\u001b[39m \u001b[39mself\u001b[39m\u001b[39m.\u001b[39mpid\n",
      "\u001b[0;31mKeyboardInterrupt\u001b[0m: "
     ]
    }
   ],
   "source": [
    "subprocess.run([\"vim\"])"
   ]
  },
  {
   "cell_type": "code",
   "execution_count": 7,
   "metadata": {},
   "outputs": [
    {
     "name": "stdout",
     "output_type": "stream",
     "text": [
      "Starting timer 10\n",
      "..........Done!\n"
     ]
    }
   ],
   "source": [
    "#Subprocess returns once the process has been successfully completed. This \n",
    "#is a CompletedProcess object\n",
    "\n",
    "completed = subprocess.run(shlex.split(\"python timer_process.py 10\"))"
   ]
  },
  {
   "cell_type": "code",
   "execution_count": 10,
   "metadata": {},
   "outputs": [],
   "source": [
    "completed.check_returncode()"
   ]
  },
  {
   "cell_type": "code",
   "execution_count": 11,
   "metadata": {},
   "outputs": [
    {
     "name": "stderr",
     "output_type": "stream",
     "text": [
      "usage: timer_process.py [-h] time\n",
      "timer_process.py: error: the following arguments are required: time\n"
     ]
    },
    {
     "ename": "CalledProcessError",
     "evalue": "Command '['python', 'timer_process.py']' returned non-zero exit status 2.",
     "output_type": "error",
     "traceback": [
      "\u001b[0;31m---------------------------------------------------------------------------\u001b[0m",
      "\u001b[0;31mCalledProcessError\u001b[0m                        Traceback (most recent call last)",
      "\u001b[1;32m/home/kamal/gitfolders/python_de_learners_data/code_script_notebooks/jupyter_notebooks/SubProcess_indepth.ipynb Cell 9\u001b[0m line \u001b[0;36m1\n\u001b[0;32m----> <a href='vscode-notebook-cell:/home/kamal/gitfolders/python_de_learners_data/code_script_notebooks/jupyter_notebooks/SubProcess_indepth.ipynb#X10sZmlsZQ%3D%3D?line=0'>1</a>\u001b[0m complete \u001b[39m=\u001b[39m subprocess\u001b[39m.\u001b[39;49mrun([\u001b[39m'\u001b[39;49m\u001b[39mpython\u001b[39;49m\u001b[39m'\u001b[39;49m,\u001b[39m'\u001b[39;49m\u001b[39mtimer_process.py\u001b[39;49m\u001b[39m'\u001b[39;49m], check\u001b[39m=\u001b[39;49m\u001b[39mTrue\u001b[39;49;00m)\n",
      "File \u001b[0;32m/usr/lib/python3.11/subprocess.py:571\u001b[0m, in \u001b[0;36mrun\u001b[0;34m(input, capture_output, timeout, check, *popenargs, **kwargs)\u001b[0m\n\u001b[1;32m    569\u001b[0m     retcode \u001b[39m=\u001b[39m process\u001b[39m.\u001b[39mpoll()\n\u001b[1;32m    570\u001b[0m     \u001b[39mif\u001b[39;00m check \u001b[39mand\u001b[39;00m retcode:\n\u001b[0;32m--> 571\u001b[0m         \u001b[39mraise\u001b[39;00m CalledProcessError(retcode, process\u001b[39m.\u001b[39margs,\n\u001b[1;32m    572\u001b[0m                                  output\u001b[39m=\u001b[39mstdout, stderr\u001b[39m=\u001b[39mstderr)\n\u001b[1;32m    573\u001b[0m \u001b[39mreturn\u001b[39;00m CompletedProcess(process\u001b[39m.\u001b[39margs, retcode, stdout, stderr)\n",
      "\u001b[0;31mCalledProcessError\u001b[0m: Command '['python', 'timer_process.py']' returned non-zero exit status 2."
     ]
    }
   ],
   "source": [
    "complete = subprocess.run(['python','timer_process.py'], check=True)"
   ]
  },
  {
   "cell_type": "code",
   "execution_count": 14,
   "metadata": {},
   "outputs": [
    {
     "name": "stderr",
     "output_type": "stream",
     "text": [
      "usage: timer_process.py [-h] time\n",
      "timer_process.py: error: the following arguments are required: time\n"
     ]
    }
   ],
   "source": [
    "# There is no exception raised!!!\n",
    "complete = subprocess.run(['python','timer_process.py'])"
   ]
  },
  {
   "cell_type": "markdown",
   "metadata": {},
   "source": [
    "One thing to bear in mind is that the CalledProcessError does not apply to processes that may hang and block your execution indefinitely. To guard against that, you’d want to take advantage of the timeout parameter."
   ]
  },
  {
   "cell_type": "code",
   "execution_count": 15,
   "metadata": {},
   "outputs": [
    {
     "name": "stdout",
     "output_type": "stream",
     "text": [
      "Starting timer 17\n",
      "....."
     ]
    },
    {
     "ename": "TimeoutExpired",
     "evalue": "Command '['python', 'timer_process.py', '17']' timed out after 4.999984485999448 seconds",
     "output_type": "error",
     "traceback": [
      "\u001b[0;31m---------------------------------------------------------------------------\u001b[0m",
      "\u001b[0;31mTimeoutExpired\u001b[0m                            Traceback (most recent call last)",
      "\u001b[1;32m/home/kamal/gitfolders/python_de_learners_data/code_script_notebooks/jupyter_notebooks/SubProcess_indepth.ipynb Cell 12\u001b[0m line \u001b[0;36m2\n\u001b[1;32m      <a href='vscode-notebook-cell:/home/kamal/gitfolders/python_de_learners_data/code_script_notebooks/jupyter_notebooks/SubProcess_indepth.ipynb#X12sZmlsZQ%3D%3D?line=0'>1</a>\u001b[0m \u001b[39m#TimeoutExpired for process that take too long \u001b[39;00m\n\u001b[0;32m----> <a href='vscode-notebook-cell:/home/kamal/gitfolders/python_de_learners_data/code_script_notebooks/jupyter_notebooks/SubProcess_indepth.ipynb#X12sZmlsZQ%3D%3D?line=1'>2</a>\u001b[0m subprocess\u001b[39m.\u001b[39;49mrun(shlex\u001b[39m.\u001b[39;49msplit(\u001b[39m\"\u001b[39;49m\u001b[39mpython timer_process.py 17\u001b[39;49m\u001b[39m\"\u001b[39;49m), timeout\u001b[39m=\u001b[39;49m\u001b[39m5\u001b[39;49m)\n",
      "File \u001b[0;32m/usr/lib/python3.11/subprocess.py:550\u001b[0m, in \u001b[0;36mrun\u001b[0;34m(input, capture_output, timeout, check, *popenargs, **kwargs)\u001b[0m\n\u001b[1;32m    548\u001b[0m \u001b[39mwith\u001b[39;00m Popen(\u001b[39m*\u001b[39mpopenargs, \u001b[39m*\u001b[39m\u001b[39m*\u001b[39mkwargs) \u001b[39mas\u001b[39;00m process:\n\u001b[1;32m    549\u001b[0m     \u001b[39mtry\u001b[39;00m:\n\u001b[0;32m--> 550\u001b[0m         stdout, stderr \u001b[39m=\u001b[39m process\u001b[39m.\u001b[39;49mcommunicate(\u001b[39minput\u001b[39;49m, timeout\u001b[39m=\u001b[39;49mtimeout)\n\u001b[1;32m    551\u001b[0m     \u001b[39mexcept\u001b[39;00m TimeoutExpired \u001b[39mas\u001b[39;00m exc:\n\u001b[1;32m    552\u001b[0m         process\u001b[39m.\u001b[39mkill()\n",
      "File \u001b[0;32m/usr/lib/python3.11/subprocess.py:1209\u001b[0m, in \u001b[0;36mPopen.communicate\u001b[0;34m(self, input, timeout)\u001b[0m\n\u001b[1;32m   1206\u001b[0m     endtime \u001b[39m=\u001b[39m \u001b[39mNone\u001b[39;00m\n\u001b[1;32m   1208\u001b[0m \u001b[39mtry\u001b[39;00m:\n\u001b[0;32m-> 1209\u001b[0m     stdout, stderr \u001b[39m=\u001b[39m \u001b[39mself\u001b[39;49m\u001b[39m.\u001b[39;49m_communicate(\u001b[39minput\u001b[39;49m, endtime, timeout)\n\u001b[1;32m   1210\u001b[0m \u001b[39mexcept\u001b[39;00m \u001b[39mKeyboardInterrupt\u001b[39;00m:\n\u001b[1;32m   1211\u001b[0m     \u001b[39m# https://bugs.python.org/issue25942\u001b[39;00m\n\u001b[1;32m   1212\u001b[0m     \u001b[39m# See the detailed comment in .wait().\u001b[39;00m\n\u001b[1;32m   1213\u001b[0m     \u001b[39mif\u001b[39;00m timeout \u001b[39mis\u001b[39;00m \u001b[39mnot\u001b[39;00m \u001b[39mNone\u001b[39;00m:\n",
      "File \u001b[0;32m/usr/lib/python3.11/subprocess.py:2134\u001b[0m, in \u001b[0;36mPopen._communicate\u001b[0;34m(self, input, endtime, orig_timeout)\u001b[0m\n\u001b[1;32m   2131\u001b[0m                     key\u001b[39m.\u001b[39mfileobj\u001b[39m.\u001b[39mclose()\n\u001b[1;32m   2132\u001b[0m                 \u001b[39mself\u001b[39m\u001b[39m.\u001b[39m_fileobj2output[key\u001b[39m.\u001b[39mfileobj]\u001b[39m.\u001b[39mappend(data)\n\u001b[0;32m-> 2134\u001b[0m \u001b[39mself\u001b[39;49m\u001b[39m.\u001b[39;49mwait(timeout\u001b[39m=\u001b[39;49m\u001b[39mself\u001b[39;49m\u001b[39m.\u001b[39;49m_remaining_time(endtime))\n\u001b[1;32m   2136\u001b[0m \u001b[39m# All data exchanged.  Translate lists into strings.\u001b[39;00m\n\u001b[1;32m   2137\u001b[0m \u001b[39mif\u001b[39;00m stdout \u001b[39mis\u001b[39;00m \u001b[39mnot\u001b[39;00m \u001b[39mNone\u001b[39;00m:\n",
      "File \u001b[0;32m/usr/lib/python3.11/subprocess.py:1264\u001b[0m, in \u001b[0;36mPopen.wait\u001b[0;34m(self, timeout)\u001b[0m\n\u001b[1;32m   1262\u001b[0m     endtime \u001b[39m=\u001b[39m _time() \u001b[39m+\u001b[39m timeout\n\u001b[1;32m   1263\u001b[0m \u001b[39mtry\u001b[39;00m:\n\u001b[0;32m-> 1264\u001b[0m     \u001b[39mreturn\u001b[39;00m \u001b[39mself\u001b[39;49m\u001b[39m.\u001b[39;49m_wait(timeout\u001b[39m=\u001b[39;49mtimeout)\n\u001b[1;32m   1265\u001b[0m \u001b[39mexcept\u001b[39;00m \u001b[39mKeyboardInterrupt\u001b[39;00m:\n\u001b[1;32m   1266\u001b[0m     \u001b[39m# https://bugs.python.org/issue25942\u001b[39;00m\n\u001b[1;32m   1267\u001b[0m     \u001b[39m# The first keyboard interrupt waits briefly for the child to\u001b[39;00m\n\u001b[1;32m   1268\u001b[0m     \u001b[39m# exit under the common assumption that it also received the ^C\u001b[39;00m\n\u001b[1;32m   1269\u001b[0m     \u001b[39m# generated SIGINT and will exit rapidly.\u001b[39;00m\n\u001b[1;32m   1270\u001b[0m     \u001b[39mif\u001b[39;00m timeout \u001b[39mis\u001b[39;00m \u001b[39mnot\u001b[39;00m \u001b[39mNone\u001b[39;00m:\n",
      "File \u001b[0;32m/usr/lib/python3.11/subprocess.py:2038\u001b[0m, in \u001b[0;36mPopen._wait\u001b[0;34m(self, timeout)\u001b[0m\n\u001b[1;32m   2036\u001b[0m remaining \u001b[39m=\u001b[39m \u001b[39mself\u001b[39m\u001b[39m.\u001b[39m_remaining_time(endtime)\n\u001b[1;32m   2037\u001b[0m \u001b[39mif\u001b[39;00m remaining \u001b[39m<\u001b[39m\u001b[39m=\u001b[39m \u001b[39m0\u001b[39m:\n\u001b[0;32m-> 2038\u001b[0m     \u001b[39mraise\u001b[39;00m TimeoutExpired(\u001b[39mself\u001b[39m\u001b[39m.\u001b[39margs, timeout)\n\u001b[1;32m   2039\u001b[0m delay \u001b[39m=\u001b[39m \u001b[39mmin\u001b[39m(delay \u001b[39m*\u001b[39m \u001b[39m2\u001b[39m, remaining, \u001b[39m.05\u001b[39m)\n\u001b[1;32m   2040\u001b[0m time\u001b[39m.\u001b[39msleep(delay)\n",
      "\u001b[0;31mTimeoutExpired\u001b[0m: Command '['python', 'timer_process.py', '17']' timed out after 4.999984485999448 seconds"
     ]
    }
   ],
   "source": [
    "#TimeoutExpired for process that take too long \n",
    "subprocess.run(shlex.split(\"python timer_process.py 17\"), timeout=5)"
   ]
  },
  {
   "cell_type": "code",
   "execution_count": 16,
   "metadata": {},
   "outputs": [
    {
     "ename": "FileNotFoundError",
     "evalue": "[Errno 2] No such file or directory: 'find_me.py'",
     "output_type": "error",
     "traceback": [
      "\u001b[0;31m---------------------------------------------------------------------------\u001b[0m",
      "\u001b[0;31mFileNotFoundError\u001b[0m                         Traceback (most recent call last)",
      "\u001b[1;32m/home/kamal/gitfolders/python_de_learners_data/code_script_notebooks/jupyter_notebooks/SubProcess_indepth.ipynb Cell 13\u001b[0m line \u001b[0;36m3\n\u001b[1;32m      <a href='vscode-notebook-cell:/home/kamal/gitfolders/python_de_learners_data/code_script_notebooks/jupyter_notebooks/SubProcess_indepth.ipynb#X15sZmlsZQ%3D%3D?line=0'>1</a>\u001b[0m \u001b[39m#File not found error\u001b[39;00m\n\u001b[0;32m----> <a href='vscode-notebook-cell:/home/kamal/gitfolders/python_de_learners_data/code_script_notebooks/jupyter_notebooks/SubProcess_indepth.ipynb#X15sZmlsZQ%3D%3D?line=2'>3</a>\u001b[0m subprocess\u001b[39m.\u001b[39;49mrun([\u001b[39m\"\u001b[39;49m\u001b[39mfind_me.py\u001b[39;49m\u001b[39m\"\u001b[39;49m])\n",
      "File \u001b[0;32m/usr/lib/python3.11/subprocess.py:548\u001b[0m, in \u001b[0;36mrun\u001b[0;34m(input, capture_output, timeout, check, *popenargs, **kwargs)\u001b[0m\n\u001b[1;32m    545\u001b[0m     kwargs[\u001b[39m'\u001b[39m\u001b[39mstdout\u001b[39m\u001b[39m'\u001b[39m] \u001b[39m=\u001b[39m PIPE\n\u001b[1;32m    546\u001b[0m     kwargs[\u001b[39m'\u001b[39m\u001b[39mstderr\u001b[39m\u001b[39m'\u001b[39m] \u001b[39m=\u001b[39m PIPE\n\u001b[0;32m--> 548\u001b[0m \u001b[39mwith\u001b[39;00m Popen(\u001b[39m*\u001b[39;49mpopenargs, \u001b[39m*\u001b[39;49m\u001b[39m*\u001b[39;49mkwargs) \u001b[39mas\u001b[39;00m process:\n\u001b[1;32m    549\u001b[0m     \u001b[39mtry\u001b[39;00m:\n\u001b[1;32m    550\u001b[0m         stdout, stderr \u001b[39m=\u001b[39m process\u001b[39m.\u001b[39mcommunicate(\u001b[39minput\u001b[39m, timeout\u001b[39m=\u001b[39mtimeout)\n",
      "File \u001b[0;32m/usr/lib/python3.11/subprocess.py:1026\u001b[0m, in \u001b[0;36mPopen.__init__\u001b[0;34m(self, args, bufsize, executable, stdin, stdout, stderr, preexec_fn, close_fds, shell, cwd, env, universal_newlines, startupinfo, creationflags, restore_signals, start_new_session, pass_fds, user, group, extra_groups, encoding, errors, text, umask, pipesize, process_group)\u001b[0m\n\u001b[1;32m   1022\u001b[0m         \u001b[39mif\u001b[39;00m \u001b[39mself\u001b[39m\u001b[39m.\u001b[39mtext_mode:\n\u001b[1;32m   1023\u001b[0m             \u001b[39mself\u001b[39m\u001b[39m.\u001b[39mstderr \u001b[39m=\u001b[39m io\u001b[39m.\u001b[39mTextIOWrapper(\u001b[39mself\u001b[39m\u001b[39m.\u001b[39mstderr,\n\u001b[1;32m   1024\u001b[0m                     encoding\u001b[39m=\u001b[39mencoding, errors\u001b[39m=\u001b[39merrors)\n\u001b[0;32m-> 1026\u001b[0m     \u001b[39mself\u001b[39;49m\u001b[39m.\u001b[39;49m_execute_child(args, executable, preexec_fn, close_fds,\n\u001b[1;32m   1027\u001b[0m                         pass_fds, cwd, env,\n\u001b[1;32m   1028\u001b[0m                         startupinfo, creationflags, shell,\n\u001b[1;32m   1029\u001b[0m                         p2cread, p2cwrite,\n\u001b[1;32m   1030\u001b[0m                         c2pread, c2pwrite,\n\u001b[1;32m   1031\u001b[0m                         errread, errwrite,\n\u001b[1;32m   1032\u001b[0m                         restore_signals,\n\u001b[1;32m   1033\u001b[0m                         gid, gids, uid, umask,\n\u001b[1;32m   1034\u001b[0m                         start_new_session, process_group)\n\u001b[1;32m   1035\u001b[0m \u001b[39mexcept\u001b[39;00m:\n\u001b[1;32m   1036\u001b[0m     \u001b[39m# Cleanup if the child failed starting.\u001b[39;00m\n\u001b[1;32m   1037\u001b[0m     \u001b[39mfor\u001b[39;00m f \u001b[39min\u001b[39;00m \u001b[39mfilter\u001b[39m(\u001b[39mNone\u001b[39;00m, (\u001b[39mself\u001b[39m\u001b[39m.\u001b[39mstdin, \u001b[39mself\u001b[39m\u001b[39m.\u001b[39mstdout, \u001b[39mself\u001b[39m\u001b[39m.\u001b[39mstderr)):\n",
      "File \u001b[0;32m/usr/lib/python3.11/subprocess.py:1950\u001b[0m, in \u001b[0;36mPopen._execute_child\u001b[0;34m(self, args, executable, preexec_fn, close_fds, pass_fds, cwd, env, startupinfo, creationflags, shell, p2cread, p2cwrite, c2pread, c2pwrite, errread, errwrite, restore_signals, gid, gids, uid, umask, start_new_session, process_group)\u001b[0m\n\u001b[1;32m   1948\u001b[0m     \u001b[39mif\u001b[39;00m errno_num \u001b[39m!=\u001b[39m \u001b[39m0\u001b[39m:\n\u001b[1;32m   1949\u001b[0m         err_msg \u001b[39m=\u001b[39m os\u001b[39m.\u001b[39mstrerror(errno_num)\n\u001b[0;32m-> 1950\u001b[0m     \u001b[39mraise\u001b[39;00m child_exception_type(errno_num, err_msg, err_filename)\n\u001b[1;32m   1951\u001b[0m \u001b[39mraise\u001b[39;00m child_exception_type(err_msg)\n",
      "\u001b[0;31mFileNotFoundError\u001b[0m: [Errno 2] No such file or directory: 'find_me.py'"
     ]
    }
   ],
   "source": [
    "#File not found error\n",
    "\n",
    "subprocess.run([\"find_me.py\"])"
   ]
  },
  {
   "cell_type": "code",
   "execution_count": 19,
   "metadata": {},
   "outputs": [
    {
     "name": "stdout",
     "output_type": "stream",
     "text": [
      "Starting timer 51\n",
      "..........Process timed out.\n",
      "Command '['python', 'timer_process.py', '51']' timed out after 9.999987774004694 seconds\n"
     ]
    }
   ],
   "source": [
    "try:\n",
    "    subprocess.run(\n",
    "        [\"python\", \"timer_process.py\", \"51\"], timeout=10, check=True\n",
    "    )\n",
    "    #next file not found\n",
    "except FileNotFoundError as exc:\n",
    "    print(f\"Process failed because the executable could not be found.\\n{exc}\")\n",
    "    #called process error handling\n",
    "except subprocess.CalledProcessError as exc:\n",
    "    print(\n",
    "        f\"Process failed because did not return a successful return code. \"\n",
    "        f\"Returned {exc.returncode}\\n{exc}\"\n",
    "    )\n",
    "    #Timeout error handling\n",
    "except subprocess.TimeoutExpired as exc:\n",
    "    print(f\"Process timed out.\\n{exc}\")"
   ]
  },
  {
   "cell_type": "markdown",
   "metadata": {},
   "source": [
    "### Diving into Shell with Subprocess\n",
    "\n",
    "There are actually two separate processes that make up the typical command-line experience:\n",
    "\n",
    "The interpreter, which is typically thought of as the whole CLI. Common interpreters are Bash on Linux, Zsh on macOS, or PowerShell on Windows. In this tutorial, the interpreter will be referred to as the shell.\n",
    "\n",
    "The interface, which displays the output of the interpreter in a window and sends user keystrokes to the interpreter. The interface is a separate process from the shell, sometimes called a terminal emulator."
   ]
  },
  {
   "cell_type": "markdown",
   "metadata": {},
   "source": [
    "While all new process are created with the same system calls, the context from which the system call is made is different. \n",
    "\n",
    "![Alt text](image-2.png)\n",
    "\n",
    "The run() function can make a system call directly and doesn’t need to go through the shell to do so:"
   ]
  },
  {
   "cell_type": "code",
   "execution_count": 20,
   "metadata": {},
   "outputs": [
    {
     "name": "stdout",
     "output_type": "stream",
     "text": [
      "api_requests_automation.ipynb\n",
      "AutomatingXL.ipynb\n",
      "biker_API.xls\n",
      "biker_API.xlsx\n",
      "boto_session_creation_configParser.ipynb\n",
      "changeFileName.ipynb\n",
      "example.conf\n",
      "first_notebook.ipynb\n",
      "image-1.png\n",
      "image-2.png\n",
      "image.png\n",
      "Itertools_indepth.ipynb\n",
      "openpyxl_glob_automation.ipynb\n",
      "os_module_basics.ipynb\n",
      "rope_checking_fbOPT.ipynb\n",
      "sample.xlsx\n",
      "serialized_json.txt\n",
      "serialized_video_tutorial.txt\n",
      "SubProcess_indepth.ipynb\n",
      "testdata.xlsx\n",
      "timer_process.py\n"
     ]
    },
    {
     "data": {
      "text/plain": [
       "CompletedProcess(args=['ls'], returncode=0)"
      ]
     },
     "execution_count": 20,
     "metadata": {},
     "output_type": "execute_result"
    }
   ],
   "source": [
    "subprocess.run([\"ls\"])"
   ]
  },
  {
   "cell_type": "markdown",
   "metadata": {},
   "source": [
    "The fact that many text-based programs can operate independently from the shell may make you wonder if you can cut out the middle process—namely, the shell—and use subprocess directly with the text-based programs typically associated with the shell.\n",
    "\n",
    "Common reasons for using subprocess itself are similar in nature to using the shell with subprocess:\n",
    "\n",
    "- When you have to use or analyze a black box, or even a white box\n",
    "\n",
    "- When you want a wrapper for an application\n",
    "\n",
    "- When you need to launch another application\n",
    "\n",
    "- As an alternative to basic shell scripts\n"
   ]
  },
  {
   "cell_type": "code",
   "execution_count": 25,
   "metadata": {},
   "outputs": [
    {
     "name": "stdout",
     "output_type": "stream",
     "text": [
      "dh_numpy3\n",
      "f2py3\n",
      "f2py3.11\n",
      "html2markdown.py3\n",
      "isympy3\n",
      "py3clean\n",
      "py3compile\n",
      "py3rsa-decrypt\n",
      "py3rsa-encrypt\n",
      "py3rsa-keygen\n",
      "py3rsa-priv2pub\n",
      "py3rsa-sign\n",
      "py3rsa-verify\n",
      "py3versions\n",
      "scapy3\n"
     ]
    },
    {
     "data": {
      "text/plain": [
       "CompletedProcess(args=['bash', '-c', 'ls /usr/bin | grep py3'], returncode=0)"
      ]
     },
     "execution_count": 25,
     "metadata": {},
     "output_type": "execute_result"
    }
   ],
   "source": [
    "#Using subprocess with shell\n",
    "\n",
    "subprocess.run([\"bash\",\"-c\",\"ls /usr/bin | grep py3\"])"
   ]
  },
  {
   "cell_type": "code",
   "execution_count": 26,
   "metadata": {},
   "outputs": [
    {
     "name": "stdout",
     "output_type": "stream",
     "text": [
      "dh_numpy3\n",
      "f2py3\n",
      "f2py3.11\n",
      "html2markdown.py3\n",
      "isympy3\n",
      "py3clean\n",
      "py3compile\n",
      "py3rsa-decrypt\n",
      "py3rsa-encrypt\n",
      "py3rsa-keygen\n",
      "py3rsa-priv2pub\n",
      "py3rsa-sign\n",
      "py3rsa-verify\n",
      "py3versions\n",
      "scapy3\n"
     ]
    },
    {
     "data": {
      "text/plain": [
       "CompletedProcess(args=['ls /usr/bin/ | grep py3'], returncode=0)"
      ]
     },
     "execution_count": 26,
     "metadata": {},
     "output_type": "execute_result"
    }
   ],
   "source": [
    "subprocess.run([\"ls /usr/bin/ | grep py3\"], shell=True)"
   ]
  },
  {
   "cell_type": "markdown",
   "metadata": {},
   "source": [
    "To communicate with your process, you first should understand a little bit about how processes communicate in general, and then you’ll take a look at two examples to come to grips with the concepts.\n",
    "\n",
    "When processes are initialized, there are three special streams that a process makes use of. A process does the following:\n",
    "\n",
    "- Reads stdin for input\n",
    "\n",
    "- Writes to stdout for general output\n",
    "\n",
    "- Writes to stderr for error reporting\n",
    "\n",
    "![process](image-3.png)\n",
    "\n",
    "\n",
    "he subprocess fills up stdout and stderr, and **you fill up stdin**. Then you read the bytes in **stdout and stderr**, and the subprocess reads from stdin.\n",
    "\n",
    "![Alt text](image-4.png)"
   ]
  },
  {
   "cell_type": "markdown",
   "metadata": {},
   "source": [
    "**Magic number generator that outputs, well, a magic number.**"
   ]
  },
  {
   "cell_type": "code",
   "execution_count": 3,
   "metadata": {},
   "outputs": [
    {
     "name": "stdout",
     "output_type": "stream",
     "text": [
      "645\n"
     ]
    }
   ],
   "source": [
    "import subprocess\n",
    "\n",
    "mag_num_proc = subprocess.run([\"python\",\"magic_no.py\"])"
   ]
  },
  {
   "cell_type": "code",
   "execution_count": 4,
   "metadata": {},
   "outputs": [],
   "source": [
    "mag_num_proc.stdout"
   ]
  },
  {
   "cell_type": "code",
   "execution_count": 10,
   "metadata": {},
   "outputs": [
    {
     "data": {
      "text/plain": [
       "b'435\\n'"
      ]
     },
     "execution_count": 10,
     "metadata": {},
     "output_type": "execute_result"
    }
   ],
   "source": [
    "mag_num_proc = subprocess.run([\"python\",\"magic_no.py\"],capture_output=True)\n",
    "mag_num_proc.stdout"
   ]
  },
  {
   "cell_type": "code",
   "execution_count": 15,
   "metadata": {},
   "outputs": [
    {
     "data": {
      "text/plain": [
       "921"
      ]
     },
     "execution_count": 15,
     "metadata": {},
     "output_type": "execute_result"
    }
   ],
   "source": [
    "sum(\n",
    "    int(\n",
    "        subprocess.run(\n",
    "            [\"python\",'magic_no.py'],capture_output=True\n",
    "        ).stdout\n",
    "    )\n",
    "    for _ in range(2)\n",
    ")"
   ]
  },
  {
   "cell_type": "markdown",
   "metadata": {},
   "source": [
    "Processes communicate in bytes, and you have a few different ways to deal with encoding and decoding these bytes. Beneath the surface, subprocess has a few ways of getting into text mode."
   ]
  },
  {
   "cell_type": "code",
   "execution_count": 16,
   "metadata": {},
   "outputs": [],
   "source": [
    "mag_num_proc = subprocess.run(\n",
    "    [\"python\",'magic_no.py'], capture_output=True, encoding='utf-8'\n",
    ")"
   ]
  },
  {
   "cell_type": "code",
   "execution_count": 17,
   "metadata": {},
   "outputs": [
    {
     "data": {
      "text/plain": [
       "'797\\n'"
      ]
     },
     "execution_count": 17,
     "metadata": {},
     "output_type": "execute_result"
    }
   ],
   "source": [
    "mag_num_proc.stdout"
   ]
  },
  {
   "cell_type": "markdown",
   "metadata": {},
   "source": [
    "We have seen how to read and decode the output of a process, it’s time to take a look at writing to the input of a process."
   ]
  },
  {
   "cell_type": "code",
   "execution_count": 19,
   "metadata": {},
   "outputs": [
    {
     "name": "stdout",
     "output_type": "stream",
     "text": [
      "Press enter to play\n",
      "Ok, get ready!\n",
      "go!\n",
      "You reacted in 0 milliseconds!\n",
      "Goodbye!\n"
     ]
    }
   ],
   "source": [
    "proc = subprocess.run(\n",
    "    [\"python\",\"reaction_game.py\"],input='\\n\\n', encoding='utf-8'\n",
    ")"
   ]
  },
  {
   "cell_type": "markdown",
   "metadata": {},
   "source": [
    "his is especially true if you want to wire up two processes together, feeding one stdout into another process’s stdin, for instance. In this section, you’ll be coming to grips with pipes and how to use them with the subprocess module."
   ]
  },
  {
   "cell_type": "code",
   "execution_count": 20,
   "metadata": {},
   "outputs": [],
   "source": [
    "mag_num_proc = subprocess.run(\n",
    "    [\"python\",\"magic_no.py\"],\n",
    "    stdout=subprocess.PIPE,\n",
    "    stderr=subprocess.PIPE\n",
    ")"
   ]
  },
  {
   "cell_type": "code",
   "execution_count": 28,
   "metadata": {},
   "outputs": [
    {
     "name": "stdout",
     "output_type": "stream",
     "text": [
      "78\n",
      "\n"
     ]
    }
   ],
   "source": [
    "#Pipe objects have limited capacity, so use files\n",
    "\n",
    "from tempfile import TemporaryFile\n",
    "\n",
    "with TemporaryFile() as f:\n",
    "    ls_proc = subprocess.run(['python','magic_no.py'],stdout=f)\n",
    "    f.seek(0)\n",
    "    print(f.read().decode('utf-8'))"
   ]
  },
  {
   "cell_type": "code",
   "execution_count": 31,
   "metadata": {},
   "outputs": [
    {
     "name": "stdout",
     "output_type": "stream",
     "text": [
      "dh_numpy3\n",
      "f2py3\n",
      "f2py3.11\n",
      "html2markdown.py3\n",
      "isympy3\n",
      "py3clean\n",
      "py3compile\n",
      "py3rsa-decrypt\n",
      "py3rsa-encrypt\n",
      "py3rsa-keygen\n",
      "py3rsa-priv2pub\n",
      "py3rsa-sign\n",
      "py3rsa-verify\n",
      "py3versions\n",
      "scapy3\n",
      "None\n"
     ]
    }
   ],
   "source": [
    "#Pipe using stdout, and the input between two subprocess run\n",
    "\n",
    "ls_process = subprocess.run(['ls','/usr/bin'],stdout=subprocess.PIPE)\n",
    "grep_process = subprocess.run(['grep','py3'],input=ls_process.stdout)\n",
    "print(grep_process.stdout)"
   ]
  },
  {
   "cell_type": "markdown",
   "metadata": {},
   "source": [
    "The name of Popen comes from a similar UNIX command that stands for pipe open. The command creates a pipe and then starts a new process that invokes the shell. The subprocess module, though, doesn’t automatically invoke the shell."
   ]
  },
  {
   "cell_type": "markdown",
   "metadata": {},
   "source": [
    "The run() function is a blocking function, which means that interacting dynamically with a process isn’t possible with it. However, the Popen() constructor starts a new process and continues, leaving the process running in parallel."
   ]
  },
  {
   "cell_type": "code",
   "execution_count": 32,
   "metadata": {},
   "outputs": [
    {
     "name": "stdout",
     "output_type": "stream",
     "text": [
      "activate-global-python-argcomplete\n",
      "apython\n",
      "dh_python3-ply\n",
      "ipython3\n",
      "pybabel-python3\n",
      "python\n",
      "python2\n",
      "python2.7\n",
      "python3\n",
      "python3.11\n",
      "python3.11-config\n",
      "python3-config\n",
      "python3-futurize\n",
      "python3-pasteurize\n",
      "python3-qr\n",
      "python-argcomplete-check-easy-install-script\n",
      "python-argcomplete-tcsh\n",
      "python-dotenv\n",
      "python-faraday\n",
      "register-python-argcomplete\n",
      "x86_64-linux-gnu-python3.11-config\n",
      "x86_64-linux-gnu-python3-config\n"
     ]
    }
   ],
   "source": [
    "ls_process = subprocess.Popen([\"ls\", \"/usr/bin\"], stdout=subprocess.PIPE)\n",
    "grep_process = subprocess.Popen(\n",
    "    [\"grep\", \"python\"], stdin=ls_process.stdout, stdout=subprocess.PIPE\n",
    ")\n",
    "\n",
    "for line in grep_process.stdout:\n",
    "    print(line.decode(\"utf-8\").strip())"
   ]
  },
  {
   "cell_type": "markdown",
   "metadata": {},
   "source": [
    "The standard stream attributes of a CompletedProcess point to bytes objects or strings, but the same attributes of a Popen object point to the actual streams. This allows you to communicate with processes as they’re running."
   ]
  },
  {
   "cell_type": "code",
   "execution_count": null,
   "metadata": {},
   "outputs": [],
   "source": [
    "import subprocess\n",
    "\n",
    "def get_char(process):\n",
    "    character = process.stdout.read1(1)\n",
    "    print(\n",
    "        character.decode(\"utf-8\"),\n",
    "        end=\"\",\n",
    "        flush=True,  # Unbuffered print\n",
    "    )\n",
    "    return character.decode(\"utf-8\")\n",
    "\n",
    "def search_for_output(strings, process):\n",
    "    buffer = \"\"\n",
    "    while not any(string in buffer for string in strings):\n",
    "        buffer = buffer + get_char(process)\n",
    "\n",
    "with subprocess.Popen(\n",
    "    [\n",
    "        \"python\",\n",
    "        \"-u\",  # Unbuffered stdout and stderr\n",
    "        \"reaction_game_v2.py\",\n",
    "    ],\n",
    "    stdin=subprocess.PIPE,\n",
    "    stdout=subprocess.PIPE,\n",
    ") as process:\n",
    "    process.stdin.write(b\"\\n\")\n",
    "    process.stdin.flush()\n",
    "    search_for_output([\"==\\n= \", \"==\\r\\n= \"], process)\n",
    "    target_char = get_char(process)\n",
    "    stdout, stderr = process.communicate(\n",
    "        input=f\"{target_char}\\n\".encode(\"utf-8\"), timeout=10\n",
    "    )\n",
    "    print(stdout.decode(\"utf-8\"))\n"
   ]
  },
  {
   "cell_type": "markdown",
   "metadata": {},
   "source": [
    "Along the way, you’ve:\n",
    "\n",
    "Learned about processes in general\n",
    "\n",
    "Gone from basic to advanced usage of subprocess\n",
    "\n",
    "Understood how to raise and handle errors when using run()\n",
    "\n",
    "Gotten familiar with shells and their intricacies on both Windows and UNIX-like systems\n",
    "\n",
    "Explored the use cases for subprocess through practical examples\n",
    "\n",
    "Understood the standard I/O streams and how to interact with them\n",
    "\n",
    "Come to grips with pipes, both in the shell and with subprocess\n",
    "\n",
    "Looked at the Popen() constructor and used it for some advanced process communicatio"
   ]
  }
 ],
 "metadata": {
  "kernelspec": {
   "display_name": "Python 3",
   "language": "python",
   "name": "python3"
  },
  "language_info": {
   "codemirror_mode": {
    "name": "ipython",
    "version": 3
   },
   "file_extension": ".py",
   "mimetype": "text/x-python",
   "name": "python",
   "nbconvert_exporter": "python",
   "pygments_lexer": "ipython3",
   "version": "3.11.4"
  },
  "orig_nbformat": 4
 },
 "nbformat": 4,
 "nbformat_minor": 2
}
