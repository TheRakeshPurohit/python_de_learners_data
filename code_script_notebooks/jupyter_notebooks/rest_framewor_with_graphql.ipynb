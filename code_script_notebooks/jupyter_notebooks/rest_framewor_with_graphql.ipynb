{
 "cells": [
  {
   "cell_type": "code",
   "execution_count": 1,
   "metadata": {},
   "outputs": [],
   "source": [
    "import logging\n",
    "logging.basicConfig(format=\"%(message)s | %(levelname)s\", level=logging.INFO, force=True)"
   ]
  },
  {
   "cell_type": "code",
   "execution_count": 4,
   "metadata": {},
   "outputs": [],
   "source": [
    "import requests\n",
    "\n",
    "# working on the get requests\n",
    "\n",
    "url = \"http://127.0.0.1:8000/graphql\"\n",
    "query = \"\"\"{\n",
    "  postBySlug (slug:\"title1-subttile1\"){\n",
    "    id\n",
    "    title\n",
    "    subtitle\n",
    "    author {\n",
    "      id\n",
    "    }\n",
    "  }\n",
    "}\n",
    "\"\"\"\n",
    "\n",
    "raw = requests.post(url=url, json={\"query\":query})"
   ]
  },
  {
   "cell_type": "code",
   "execution_count": 5,
   "metadata": {},
   "outputs": [
    {
     "data": {
      "text/plain": [
       "200"
      ]
     },
     "execution_count": 5,
     "metadata": {},
     "output_type": "execute_result"
    }
   ],
   "source": [
    "raw.status_code"
   ]
  },
  {
   "cell_type": "code",
   "execution_count": 9,
   "metadata": {},
   "outputs": [
    {
     "data": {
      "text/plain": [
       "{'postBySlug': {'id': '1',\n",
       "  'title': 'title1',\n",
       "  'subtitle': 'subttile1',\n",
       "  'author': {'id': '1'}}}"
      ]
     },
     "execution_count": 9,
     "metadata": {},
     "output_type": "execute_result"
    }
   ],
   "source": [
    "import json\n",
    "\n",
    "json.loads(raw.content)['data']"
   ]
  },
  {
   "cell_type": "code",
   "execution_count": 10,
   "metadata": {},
   "outputs": [
    {
     "data": {
      "text/plain": [
       "[('Date', 'Thu, 21 Mar 2024 15:58:57 GMT'),\n",
       " ('Server', 'WSGIServer/0.2 CPython/3.12.0'),\n",
       " ('Content-Type', 'application/json'),\n",
       " ('Vary', 'Cookie'),\n",
       " ('X-Frame-Options', 'DENY'),\n",
       " ('Content-Length', '94'),\n",
       " ('X-Content-Type-Options', 'nosniff'),\n",
       " ('Referrer-Policy', 'same-origin'),\n",
       " ('Cross-Origin-Opener-Policy', 'same-origin'),\n",
       " ('Set-Cookie',\n",
       "  'csrftoken=9R71NtToUjMDUq1eoKswykFPvEhShZZB; expires=Thu, 20 Mar 2025 15:58:57 GMT; Max-Age=31449600; Path=/; SameSite=Lax')]"
      ]
     },
     "execution_count": 10,
     "metadata": {},
     "output_type": "execute_result"
    }
   ],
   "source": [
    "list(raw.headers.items())"
   ]
  },
  {
   "cell_type": "code",
   "execution_count": 11,
   "metadata": {},
   "outputs": [
    {
     "data": {
      "text/plain": [
       "<Response [200]>"
      ]
     },
     "execution_count": 11,
     "metadata": {},
     "output_type": "execute_result"
    }
   ],
   "source": [
    "new_query = \"\"\"{\n",
    "          postBySlug (slug:\"title1-subttile1\"){\n",
    "            id\n",
    "            title\n",
    "            subtitle\n",
    "            author {\n",
    "            id\n",
    "            user {\n",
    "                dateJoined\n",
    "                id\n",
    "                email\n",
    "                username\n",
    "                isActive\n",
    "              }\n",
    "            }\n",
    "          }\n",
    "        }\n",
    "\"\"\"\n",
    "response = requests.post(url=url, json={\"query\":new_query})\n",
    "response"
   ]
  },
  {
   "cell_type": "code",
   "execution_count": 18,
   "metadata": {},
   "outputs": [],
   "source": [
    "def get_response(url, query):\n",
    "    response = requests.post(url=url,\n",
    "                             json={\"query\":query})\n",
    "    jdata = json.loads(response.content)\n",
    "    return jdata['data']"
   ]
  },
  {
   "cell_type": "code",
   "execution_count": 13,
   "metadata": {},
   "outputs": [
    {
     "data": {
      "text/plain": [
       "{'data': {'postBySlug': {'id': '1',\n",
       "   'title': 'title1',\n",
       "   'subtitle': 'subttile1',\n",
       "   'author': {'id': '1',\n",
       "    'user': {'dateJoined': '2024-03-21T10:36:21.891692+00:00',\n",
       "     'id': '1',\n",
       "     'email': 'h@h.com',\n",
       "     'username': 'kamal',\n",
       "     'isActive': True}}}}}"
      ]
     },
     "execution_count": 13,
     "metadata": {},
     "output_type": "execute_result"
    }
   ],
   "source": [
    "json.loads(response.content)"
   ]
  },
  {
   "cell_type": "code",
   "execution_count": 19,
   "metadata": {},
   "outputs": [
    {
     "data": {
      "text/plain": [
       "{'postBySlug': {'id': '1',\n",
       "  'title': 'title1',\n",
       "  'subtitle': 'subttile1',\n",
       "  'author': {'id': '1'}}}"
      ]
     },
     "execution_count": 19,
     "metadata": {},
     "output_type": "execute_result"
    }
   ],
   "source": [
    "query_to_fn = \"\"\"{\n",
    "    postBySlug (slug:\"title1-subttile1\"){\n",
    "    id\n",
    "    title\n",
    "    subtitle\n",
    "    author {\n",
    "    id\n",
    "    }\n",
    "  }\n",
    "}\"\"\"\n",
    "\n",
    "get_response(url=url,\n",
    "             query=query)"
   ]
  },
  {
   "cell_type": "code",
   "execution_count": 20,
   "metadata": {},
   "outputs": [
    {
     "data": {
      "text/plain": [
       "{'allPosts': [{'id': '1',\n",
       "   'title': 'title1',\n",
       "   'subtitle': 'subttile1',\n",
       "   'published': False}]}"
      ]
     },
     "execution_count": 20,
     "metadata": {},
     "output_type": "execute_result"
    }
   ],
   "source": [
    "query_to_fn = \"\"\"{\n",
    "            allPosts {\n",
    "            id\n",
    "            title\n",
    "            subtitle\n",
    "            published\n",
    "            }\n",
    "        }\"\"\"\n",
    "\n",
    "get_response(url=url,\n",
    "             query=query_to_fn)"
   ]
  }
 ],
 "metadata": {
  "kernelspec": {
   "display_name": "Python 3",
   "language": "python",
   "name": "python3"
  },
  "language_info": {
   "codemirror_mode": {
    "name": "ipython",
    "version": 3
   },
   "file_extension": ".py",
   "mimetype": "text/x-python",
   "name": "python",
   "nbconvert_exporter": "python",
   "pygments_lexer": "ipython3",
   "version": "3.11.4"
  }
 },
 "nbformat": 4,
 "nbformat_minor": 2
}
