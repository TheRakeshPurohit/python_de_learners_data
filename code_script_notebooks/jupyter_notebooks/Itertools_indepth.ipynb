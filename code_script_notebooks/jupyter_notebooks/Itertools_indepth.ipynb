{
 "cells": [
  {
   "cell_type": "markdown",
   "metadata": {},
   "source": [
    "### Introduction To Itertools\n",
    "\n",
    "- this means that the functions in itertools “operate” on iterators to produce more complex iterators. \n",
    "\n",
    "- Technically, any Python object that implements the .__iter__() or .__getitem__() methods is iterable."
   ]
  },
  {
   "cell_type": "code",
   "execution_count": 1,
   "metadata": {},
   "outputs": [
    {
     "data": {
      "text/plain": [
       "[(1, 'z'), (2, 'q'), (3, 't')]"
      ]
     },
     "execution_count": 1,
     "metadata": {},
     "output_type": "execute_result"
    }
   ],
   "source": [
    "x = list(zip([1,2,3],['z','q','t']))\n",
    "x"
   ]
  },
  {
   "cell_type": "code",
   "execution_count": 2,
   "metadata": {},
   "outputs": [
    {
     "data": {
      "text/plain": [
       "<list_iterator at 0x7f72327bee60>"
      ]
     },
     "execution_count": 2,
     "metadata": {},
     "output_type": "execute_result"
    }
   ],
   "source": [
    "iter_obj = iter([1,2,3,4])\n",
    "iter_obj"
   ]
  },
  {
   "cell_type": "code",
   "execution_count": 5,
   "metadata": {},
   "outputs": [
    {
     "data": {
      "text/plain": [
       "3"
      ]
     },
     "execution_count": 5,
     "metadata": {},
     "output_type": "execute_result"
    }
   ],
   "source": [
    "# Will return one element after the other\n",
    "iter_obj.__next__()"
   ]
  },
  {
   "cell_type": "code",
   "execution_count": 12,
   "metadata": {},
   "outputs": [
    {
     "data": {
      "text/plain": [
       "3"
      ]
     },
     "execution_count": 12,
     "metadata": {},
     "output_type": "execute_result"
    }
   ],
   "source": [
    "# Map applies single parameter function to each element of iterable\n",
    "\n",
    "iter_map = map(len, ['abc','deeer','her'])\n",
    "\n",
    "#Every time the cell is executed, the iter_map object is reinitialized\n",
    "iter_map.__next__()"
   ]
  },
  {
   "cell_type": "code",
   "execution_count": 11,
   "metadata": {},
   "outputs": [
    {
     "data": {
      "text/plain": [
       "[5, 3]"
      ]
     },
     "execution_count": 11,
     "metadata": {},
     "output_type": "execute_result"
    }
   ],
   "source": [
    "list(iter_map)"
   ]
  },
  {
   "cell_type": "code",
   "execution_count": 16,
   "metadata": {},
   "outputs": [
    {
     "data": {
      "text/plain": [
       "[75, 124, 435]"
      ]
     },
     "execution_count": 16,
     "metadata": {},
     "output_type": "execute_result"
    }
   ],
   "source": [
    "# Composing with Map and Zip\n",
    "import math\n",
    "list(map(math.prod, zip([1,2,5],[75,62,87])))"
   ]
  },
  {
   "cell_type": "markdown",
   "metadata": {},
   "source": [
    "### This is what is meant by the functions in itertools forming an “iterator algebra.” itertools is best viewed as a collection of building blocks that can be combined to form specialized “data pipelines” "
   ]
  },
  {
   "cell_type": "code",
   "execution_count": 17,
   "metadata": {},
   "outputs": [],
   "source": [
    "def naive_grouper(inputs, n):\n",
    "    \"\"\"Try guessing what this logic is doing?\"\"\"\n",
    "    num_groups = len(inputs) // n\n",
    "    return [tuple(inputs[i*n:(i+1)*n]) for i in range(num_groups)]"
   ]
  },
  {
   "cell_type": "code",
   "execution_count": 19,
   "metadata": {},
   "outputs": [
    {
     "data": {
      "text/plain": [
       "[(5, 7, 8), (6, 2, 1), (3, 4, 7)]"
      ]
     },
     "execution_count": 19,
     "metadata": {},
     "output_type": "execute_result"
    }
   ],
   "source": [
    "num = [5,7,8,6,2,1,3,4,7]\n",
    "naive_grouper(num,3)"
   ]
  },
  {
   "cell_type": "code",
   "execution_count": 20,
   "metadata": {},
   "outputs": [],
   "source": [
    "def better_grouper(inputs, n):\n",
    "    iters = [iter(inputs)] * n\n",
    "    return zip(*iters)"
   ]
  },
  {
   "cell_type": "code",
   "execution_count": 22,
   "metadata": {},
   "outputs": [
    {
     "data": {
      "text/plain": [
       "[<list_iterator at 0x7f723252fdf0>, <list_iterator at 0x7f723252fdf0>]"
      ]
     },
     "execution_count": 22,
     "metadata": {},
     "output_type": "execute_result"
    }
   ],
   "source": [
    "iters = [iter(num)] * 2\n",
    "\n",
    "iters"
   ]
  },
  {
   "cell_type": "code",
   "execution_count": 24,
   "metadata": {},
   "outputs": [
    {
     "data": {
      "text/plain": [
       "[(5, 7), (8, 6), (2, 1), (3, 4)]"
      ]
     },
     "execution_count": 24,
     "metadata": {},
     "output_type": "execute_result"
    }
   ],
   "source": [
    "list(zip(*iters))"
   ]
  },
  {
   "cell_type": "code",
   "execution_count": 25,
   "metadata": {},
   "outputs": [
    {
     "name": "stdout",
     "output_type": "stream",
     "text": [
      "CPU times: user 630 ms, sys: 0 ns, total: 630 ms\n",
      "Wall time: 630 ms\n"
     ]
    }
   ],
   "source": [
    "%%time \n",
    "for _ in better_grouper(range(100000000), 10):\n",
    "    pass"
   ]
  },
  {
   "cell_type": "code",
   "execution_count": 27,
   "metadata": {},
   "outputs": [
    {
     "data": {
      "text/plain": [
       "[(5, 7, 8, 6), (2, 1, 3, 4)]"
      ]
     },
     "execution_count": 27,
     "metadata": {},
     "output_type": "execute_result"
    }
   ],
   "source": [
    "list(better_grouper(num, 4)) # 7 is missing??"
   ]
  },
  {
   "cell_type": "code",
   "execution_count": 3,
   "metadata": {},
   "outputs": [],
   "source": [
    "#zip_longest() method can be used\n",
    "\n",
    "import itertools as it\n",
    "\n",
    "def grouper(inp, n, fillvalue=None):\n",
    "    iters = [iter(inp)] * n\n",
    "    return it.zip_longest(*iters, fillvalue=fillvalue)"
   ]
  },
  {
   "cell_type": "code",
   "execution_count": 31,
   "metadata": {},
   "outputs": [
    {
     "data": {
      "text/plain": [
       "[(5, 7, 8, 6), (2, 1, 3, 4), (7, None, None, None)]"
      ]
     },
     "execution_count": 31,
     "metadata": {},
     "output_type": "execute_result"
    }
   ],
   "source": [
    "list(grouper(num,4))"
   ]
  },
  {
   "cell_type": "markdown",
   "metadata": {},
   "source": [
    "You have three $20 dollar bills, five $10 dollar bills, two $5 dollar bills, and five $1 dollar bills. How many ways can you make change for a $100 dollar bill?\n",
    "\n",
    "- Choice of k things from a set of n things is called a combination,"
   ]
  },
  {
   "cell_type": "code",
   "execution_count": 33,
   "metadata": {},
   "outputs": [
    {
     "data": {
      "text/plain": [
       "[20, 20, 20, 10, 10, 10, 10, 10, 5, 5, 1, 1, 1, 1, 1]"
      ]
     },
     "execution_count": 33,
     "metadata": {},
     "output_type": "execute_result"
    }
   ],
   "source": [
    "bills = [20] * 3 + [10] * 5 + [5] * 2 + [1] * 5\n",
    "bills "
   ]
  },
  {
   "cell_type": "code",
   "execution_count": 44,
   "metadata": {},
   "outputs": [
    {
     "data": {
      "text/plain": [
       "5005"
      ]
     },
     "execution_count": 44,
     "metadata": {},
     "output_type": "execute_result"
    }
   ],
   "source": [
    "len(list(it.combinations(bills, 6)))"
   ]
  },
  {
   "cell_type": "code",
   "execution_count": 45,
   "metadata": {},
   "outputs": [],
   "source": [
    "make_100 = []\n",
    "\n",
    "for n in range(1, len(bills)+1):\n",
    "    for combination in it.combinations(bills, n):\n",
    "        if sum(combination) == 100:\n",
    "            make_100.append(combination)"
   ]
  },
  {
   "cell_type": "code",
   "execution_count": 48,
   "metadata": {},
   "outputs": [
    {
     "data": {
      "text/plain": [
       "44"
      ]
     },
     "execution_count": 48,
     "metadata": {},
     "output_type": "execute_result"
    }
   ],
   "source": [
    "len(make_100)\n",
    "# there will be lot of repeated pairs / combinations"
   ]
  },
  {
   "cell_type": "code",
   "execution_count": 49,
   "metadata": {},
   "outputs": [
    {
     "data": {
      "text/plain": [
       "5"
      ]
     },
     "execution_count": 49,
     "metadata": {},
     "output_type": "execute_result"
    }
   ],
   "source": [
    "len(set(make_100))"
   ]
  },
  {
   "cell_type": "code",
   "execution_count": 53,
   "metadata": {},
   "outputs": [
    {
     "name": "stdout",
     "output_type": "stream",
     "text": [
      "CPU times: user 37 µs, sys: 0 ns, total: 37 µs\n",
      "Wall time: 39.3 µs\n"
     ]
    }
   ],
   "source": [
    "%%time\n",
    "bills = [50, 20, 10,5, 1]\n",
    "make_new_100=[]\n",
    "for n in range(1, len(bills)+1):\n",
    "    for combination in it.combinations_with_replacement(bills, n):\n",
    "        if sum(combination) == 100:\n",
    "            make_new_100.append(combination)"
   ]
  },
  {
   "cell_type": "code",
   "execution_count": 55,
   "metadata": {},
   "outputs": [
    {
     "name": "stdout",
     "output_type": "stream",
     "text": [
      "CPU times: user 44.1 s, sys: 0 ns, total: 44.1 s\n",
      "Wall time: 44.1 s\n"
     ]
    }
   ],
   "source": [
    "%%time\n",
    "bills = [50, 20, 10,5, 1]\n",
    "make_new_100=[]\n",
    "for n in range(1, 101):\n",
    "    for combination in it.combinations_with_replacement(bills, n):\n",
    "        if sum(combination) == 100:\n",
    "            make_new_100.append(combination)"
   ]
  },
  {
   "cell_type": "code",
   "execution_count": 56,
   "metadata": {},
   "outputs": [
    {
     "data": {
      "text/plain": [
       "343"
      ]
     },
     "execution_count": 56,
     "metadata": {},
     "output_type": "execute_result"
    }
   ],
   "source": [
    "len(make_new_100)"
   ]
  },
  {
   "cell_type": "code",
   "execution_count": 57,
   "metadata": {},
   "outputs": [
    {
     "data": {
      "text/plain": [
       "[('a', 't', 'f', 'j'),\n",
       " ('a', 't', 'j', 'f'),\n",
       " ('a', 'f', 't', 'j'),\n",
       " ('a', 'f', 'j', 't'),\n",
       " ('a', 'j', 't', 'f'),\n",
       " ('a', 'j', 'f', 't'),\n",
       " ('t', 'a', 'f', 'j'),\n",
       " ('t', 'a', 'j', 'f'),\n",
       " ('t', 'f', 'a', 'j'),\n",
       " ('t', 'f', 'j', 'a'),\n",
       " ('t', 'j', 'a', 'f'),\n",
       " ('t', 'j', 'f', 'a'),\n",
       " ('f', 'a', 't', 'j'),\n",
       " ('f', 'a', 'j', 't'),\n",
       " ('f', 't', 'a', 'j'),\n",
       " ('f', 't', 'j', 'a'),\n",
       " ('f', 'j', 'a', 't'),\n",
       " ('f', 'j', 't', 'a'),\n",
       " ('j', 'a', 't', 'f'),\n",
       " ('j', 'a', 'f', 't'),\n",
       " ('j', 't', 'a', 'f'),\n",
       " ('j', 't', 'f', 'a'),\n",
       " ('j', 'f', 'a', 't'),\n",
       " ('j', 'f', 't', 'a')]"
      ]
     },
     "execution_count": 57,
     "metadata": {},
     "output_type": "execute_result"
    }
   ],
   "source": [
    "list(it.permutations(['a','t','f','j']))"
   ]
  },
  {
   "cell_type": "markdown",
   "metadata": {},
   "source": [
    "#### Infinite Sequences"
   ]
  },
  {
   "cell_type": "code",
   "execution_count": 58,
   "metadata": {},
   "outputs": [
    {
     "data": {
      "text/plain": [
       "[0, 2, 4, 6, 8]"
      ]
     },
     "execution_count": 58,
     "metadata": {},
     "output_type": "execute_result"
    }
   ],
   "source": [
    "evens = it.count(start=0, step=2)\n",
    "list(next(evens) for _ in range(5)) #this can be extended to infinite"
   ]
  },
  {
   "cell_type": "code",
   "execution_count": 59,
   "metadata": {},
   "outputs": [
    {
     "data": {
      "text/plain": [
       "[1, 3, 5, 7, 9, 11, 13]"
      ]
     },
     "execution_count": 59,
     "metadata": {},
     "output_type": "execute_result"
    }
   ],
   "source": [
    "odds = it.count(start=1,step=2)\n",
    "list(next(odds) for _ in range(7))"
   ]
  },
  {
   "cell_type": "code",
   "execution_count": 62,
   "metadata": {},
   "outputs": [
    {
     "data": {
      "text/plain": [
       "[(0, '5'), (1, '8l')]"
      ]
     },
     "execution_count": 62,
     "metadata": {},
     "output_type": "execute_result"
    }
   ],
   "source": [
    "list(zip(it.count(),['5','8l']))"
   ]
  },
  {
   "cell_type": "markdown",
   "metadata": {},
   "source": [
    ", second order recurrence relations have the form:\n",
    "\n",
    "Second Order Recurrence Relation\n",
    "\n",
    "![Alt text](image.png)\n",
    "\n",
    "To generate the sequence, you need two initial values. For the Fibonacci numbers, P = Q = 1, R = 0, and the initial values are 0 and 1.\n",
    "\n"
   ]
  },
  {
   "cell_type": "code",
   "execution_count": 63,
   "metadata": {},
   "outputs": [
    {
     "data": {
      "text/plain": [
       "repeat(1)"
      ]
     },
     "execution_count": 63,
     "metadata": {},
     "output_type": "execute_result"
    }
   ],
   "source": [
    "all_ones = it.repeat(1)\n",
    "all_ones"
   ]
  },
  {
   "cell_type": "markdown",
   "metadata": {},
   "source": [
    "#### Do not run this call\n",
    "\n",
    "alternating_ones = it.cycle([1, -1]) \n",
    "\n",
    "list(alternating_ones)"
   ]
  },
  {
   "cell_type": "code",
   "execution_count": 1,
   "metadata": {},
   "outputs": [],
   "source": [
    "def accumulate(inputs, func):\n",
    "    itr = iter(inputs)\n",
    "    prev = next(itr)\n",
    "    for cur in itr:\n",
    "        yield prev\n",
    "        prev = func(prev, cur)"
   ]
  },
  {
   "cell_type": "code",
   "execution_count": 4,
   "metadata": {},
   "outputs": [
    {
     "data": {
      "text/plain": [
       "[1, 3, 6, 10, 15]"
      ]
     },
     "execution_count": 4,
     "metadata": {},
     "output_type": "execute_result"
    }
   ],
   "source": [
    "import operator\n",
    "\n",
    "list(it.accumulate([1, 2, 3, 4, 5], \n",
    "                   operator.add))"
   ]
  },
  {
   "cell_type": "code",
   "execution_count": 5,
   "metadata": {},
   "outputs": [],
   "source": [
    "def second_order(p, q, r, initial_values):\n",
    "    \"\"\"Return sequence defined by s(n) = p * s(n-1) + q * s(n-2) + r.\"\"\"\n",
    "    \n",
    "    intermediate = it.accumulate(\n",
    "        it.repeat(initial_values),\n",
    "        lambda s, _: (s[1], p*s[1] + q*s[0] + r)\n",
    "    )\n",
    "    \n",
    "    return map(lambda x: x[0], intermediate)"
   ]
  },
  {
   "cell_type": "code",
   "execution_count": 6,
   "metadata": {},
   "outputs": [],
   "source": [
    "fibs = second_order(p=1, q=1, r=0, initial_values=(0, 1))"
   ]
  },
  {
   "cell_type": "code",
   "execution_count": 7,
   "metadata": {},
   "outputs": [
    {
     "data": {
      "text/plain": [
       "[0, 1, 1, 2, 3, 5, 8, 13]"
      ]
     },
     "execution_count": 7,
     "metadata": {},
     "output_type": "execute_result"
    }
   ],
   "source": [
    "list(next(fibs) for _ in range(8))"
   ]
  },
  {
   "cell_type": "code",
   "execution_count": 11,
   "metadata": {},
   "outputs": [
    {
     "data": {
      "text/plain": [
       "[1, 9, 12]"
      ]
     },
     "execution_count": 11,
     "metadata": {},
     "output_type": "execute_result"
    }
   ],
   "source": [
    "list(it.accumulate([1, 8, 3]))"
   ]
  },
  {
   "cell_type": "code",
   "execution_count": 12,
   "metadata": {},
   "outputs": [],
   "source": [
    "ranks = ['A', 'K', 'Q', 'J', '10', '9', '8', '7', '6', '5', '4', '3', '2']\n",
    "suits = ['H', 'D', 'C', 'S']"
   ]
  },
  {
   "cell_type": "code",
   "execution_count": 13,
   "metadata": {},
   "outputs": [],
   "source": [
    "def cards():\n",
    "    \"\"\"Return a generator that yields playing cards.\"\"\"\n",
    "    for rank in ranks:\n",
    "        for suit in suits:\n",
    "            yield rank, suit"
   ]
  },
  {
   "cell_type": "code",
   "execution_count": 14,
   "metadata": {},
   "outputs": [],
   "source": [
    "cards = ((rank, suit) for rank in ranks for suit in suits)"
   ]
  },
  {
   "cell_type": "code",
   "execution_count": 16,
   "metadata": {},
   "outputs": [
    {
     "data": {
      "text/plain": [
       "[(1, 'a'), (1, 'b'), (2, 'a'), (2, 'b')]"
      ]
     },
     "execution_count": 16,
     "metadata": {},
     "output_type": "execute_result"
    }
   ],
   "source": [
    "list(it.product([1, 2], ['a', 'b']))"
   ]
  },
  {
   "cell_type": "code",
   "execution_count": 17,
   "metadata": {},
   "outputs": [],
   "source": [
    "cards = it.product(ranks, suits)"
   ]
  },
  {
   "cell_type": "code",
   "execution_count": 19,
   "metadata": {},
   "outputs": [
    {
     "data": {
      "text/plain": [
       "[('A', 'H'),\n",
       " ('A', 'D'),\n",
       " ('A', 'C'),\n",
       " ('A', 'S'),\n",
       " ('K', 'H'),\n",
       " ('K', 'D'),\n",
       " ('K', 'C'),\n",
       " ('K', 'S'),\n",
       " ('Q', 'H'),\n",
       " ('Q', 'D'),\n",
       " ('Q', 'C'),\n",
       " ('Q', 'S'),\n",
       " ('J', 'H'),\n",
       " ('J', 'D'),\n",
       " ('J', 'C'),\n",
       " ('J', 'S'),\n",
       " ('10', 'H'),\n",
       " ('10', 'D'),\n",
       " ('10', 'C'),\n",
       " ('10', 'S'),\n",
       " ('9', 'H'),\n",
       " ('9', 'D'),\n",
       " ('9', 'C'),\n",
       " ('9', 'S'),\n",
       " ('8', 'H'),\n",
       " ('8', 'D'),\n",
       " ('8', 'C'),\n",
       " ('8', 'S'),\n",
       " ('7', 'H'),\n",
       " ('7', 'D'),\n",
       " ('7', 'C'),\n",
       " ('7', 'S'),\n",
       " ('6', 'H'),\n",
       " ('6', 'D'),\n",
       " ('6', 'C'),\n",
       " ('6', 'S'),\n",
       " ('5', 'H'),\n",
       " ('5', 'D'),\n",
       " ('5', 'C'),\n",
       " ('5', 'S'),\n",
       " ('4', 'H'),\n",
       " ('4', 'D'),\n",
       " ('4', 'C'),\n",
       " ('4', 'S'),\n",
       " ('3', 'H'),\n",
       " ('3', 'D'),\n",
       " ('3', 'C'),\n",
       " ('3', 'S'),\n",
       " ('2', 'H'),\n",
       " ('2', 'D'),\n",
       " ('2', 'C'),\n",
       " ('2', 'S')]"
      ]
     },
     "execution_count": 19,
     "metadata": {},
     "output_type": "execute_result"
    }
   ],
   "source": [
    "list(cards)"
   ]
  },
  {
   "cell_type": "markdown",
   "metadata": {},
   "source": [
    "### Dealing with Decks"
   ]
  },
  {
   "cell_type": "code",
   "execution_count": 21,
   "metadata": {},
   "outputs": [],
   "source": [
    "ranks = ['A','K','Q','J','10','9','8','7','6','5','4','3','2','1']\n",
    "suits = ['H','D','C','S']"
   ]
  },
  {
   "cell_type": "code",
   "execution_count": 22,
   "metadata": {},
   "outputs": [],
   "source": [
    "def cards():\n",
    "    \"\"\"return a generator that yields cards\"\"\"\n",
    "\n",
    "    for rank in ranks:\n",
    "        for suit in suits:\n",
    "            yield rank, suit"
   ]
  },
  {
   "cell_type": "markdown",
   "metadata": {},
   "source": [
    "The Cartesian product of A = [1, 2] and B = ['a', 'b'] is [(1, 'a'), (1, 'b'), (2, 'a'), (2, 'b')]."
   ]
  },
  {
   "cell_type": "code",
   "execution_count": 24,
   "metadata": {},
   "outputs": [
    {
     "data": {
      "text/plain": [
       "[(1, 'a'), (1, 'b'), (2, 'a'), (2, 'b')]"
      ]
     },
     "execution_count": 24,
     "metadata": {},
     "output_type": "execute_result"
    }
   ],
   "source": [
    "list(it.product([1, 2], ['a', 'b']))"
   ]
  },
  {
   "cell_type": "code",
   "execution_count": 27,
   "metadata": {},
   "outputs": [
    {
     "data": {
      "text/plain": [
       "[('A', 'H'),\n",
       " ('A', 'D'),\n",
       " ('A', 'C'),\n",
       " ('A', 'S'),\n",
       " ('K', 'H'),\n",
       " ('K', 'D'),\n",
       " ('K', 'C'),\n",
       " ('K', 'S'),\n",
       " ('Q', 'H'),\n",
       " ('Q', 'D'),\n",
       " ('Q', 'C'),\n",
       " ('Q', 'S'),\n",
       " ('J', 'H'),\n",
       " ('J', 'D'),\n",
       " ('J', 'C'),\n",
       " ('J', 'S'),\n",
       " ('10', 'H'),\n",
       " ('10', 'D'),\n",
       " ('10', 'C'),\n",
       " ('10', 'S'),\n",
       " ('9', 'H'),\n",
       " ('9', 'D'),\n",
       " ('9', 'C'),\n",
       " ('9', 'S'),\n",
       " ('8', 'H'),\n",
       " ('8', 'D'),\n",
       " ('8', 'C'),\n",
       " ('8', 'S'),\n",
       " ('7', 'H'),\n",
       " ('7', 'D'),\n",
       " ('7', 'C'),\n",
       " ('7', 'S'),\n",
       " ('6', 'H'),\n",
       " ('6', 'D'),\n",
       " ('6', 'C'),\n",
       " ('6', 'S'),\n",
       " ('5', 'H'),\n",
       " ('5', 'D'),\n",
       " ('5', 'C'),\n",
       " ('5', 'S'),\n",
       " ('4', 'H'),\n",
       " ('4', 'D'),\n",
       " ('4', 'C'),\n",
       " ('4', 'S'),\n",
       " ('3', 'H'),\n",
       " ('3', 'D'),\n",
       " ('3', 'C'),\n",
       " ('3', 'S'),\n",
       " ('2', 'H'),\n",
       " ('2', 'D'),\n",
       " ('2', 'C'),\n",
       " ('2', 'S'),\n",
       " ('1', 'H'),\n",
       " ('1', 'D'),\n",
       " ('1', 'C'),\n",
       " ('1', 'S')]"
      ]
     },
     "execution_count": 27,
     "metadata": {},
     "output_type": "execute_result"
    }
   ],
   "source": [
    "cards = it.product(ranks, suits)\n",
    "list(it.product(ranks, suits))"
   ]
  },
  {
   "cell_type": "code",
   "execution_count": 28,
   "metadata": {},
   "outputs": [],
   "source": [
    "import random\n",
    "\n",
    "def shuffle(deck):\n",
    "    \"\"\"Return iterator over shuffled deck.\"\"\"\n",
    "    deck = list(deck)\n",
    "    random.shuffle(deck)\n",
    "    return iter(tuple(deck))\n",
    "\n",
    "cards = shuffle(cards)"
   ]
  },
  {
   "cell_type": "code",
   "execution_count": 29,
   "metadata": {},
   "outputs": [],
   "source": [
    "def cut(deck, n):\n",
    "    \"\"\"Return an iterator over a deck of cards cut at index `n`.\"\"\"\n",
    "    if n < 0:\n",
    "        raise ValueError('`n` must be a non-negative integer')\n",
    "\n",
    "    deck = list(deck)\n",
    "    return iter(deck[n:] + deck[:n])"
   ]
  },
  {
   "cell_type": "markdown",
   "metadata": {},
   "source": [
    "The above cut function can be optimized for memory using \n",
    "\n",
    "three functions: itertools.tee(), itertools.islice(), and itertools.chain()."
   ]
  },
  {
   "cell_type": "code",
   "execution_count": 30,
   "metadata": {},
   "outputs": [
    {
     "data": {
      "text/plain": [
       "[1, 2, 3, 4, 5, 6, 7, 8]"
      ]
     },
     "execution_count": 30,
     "metadata": {},
     "output_type": "execute_result"
    }
   ],
   "source": [
    "it1, it2 = it.tee([1,2,3,4,5,6,7,8],2)\n",
    "\n",
    "list(it1) #Its independent iterators..."
   ]
  },
  {
   "cell_type": "code",
   "execution_count": 31,
   "metadata": {},
   "outputs": [
    {
     "data": {
      "text/plain": [
       "['C', 'D', 'E']"
      ]
     },
     "execution_count": 31,
     "metadata": {},
     "output_type": "execute_result"
    }
   ],
   "source": [
    "list(it.islice('ABCDEFG', 2, 5))"
   ]
  },
  {
   "cell_type": "code",
   "execution_count": 32,
   "metadata": {},
   "outputs": [
    {
     "data": {
      "text/plain": [
       "[3, 4, 5, 6, 7, 8, 9]"
      ]
     },
     "execution_count": 32,
     "metadata": {},
     "output_type": "execute_result"
    }
   ],
   "source": [
    "list(it.islice(range(10), 3, None))"
   ]
  },
  {
   "cell_type": "code",
   "execution_count": 33,
   "metadata": {},
   "outputs": [
    {
     "data": {
      "text/plain": [
       "[1, 2, 3, 4, 5, 6, 7, 8, 9]"
      ]
     },
     "execution_count": 33,
     "metadata": {},
     "output_type": "execute_result"
    }
   ],
   "source": [
    "list(it.chain([1, 2], [3, 4, 5, 6], [7, 8, 9]))"
   ]
  },
  {
   "cell_type": "code",
   "execution_count": 34,
   "metadata": {},
   "outputs": [],
   "source": [
    "def cut(deck, n):\n",
    "    \"\"\"Return an iterator over a deck of cards cut at index `n`.\"\"\"\n",
    "    deck1, deck2 = it.tee(deck, 2)\n",
    "    top = it.islice(deck1, n)\n",
    "    bottom = it.islice(deck2, n, None)\n",
    "    return it.chain(bottom, top)"
   ]
  },
  {
   "cell_type": "code",
   "execution_count": 35,
   "metadata": {},
   "outputs": [],
   "source": [
    "cards = cut(cards, 26)"
   ]
  },
  {
   "cell_type": "code",
   "execution_count": 36,
   "metadata": {},
   "outputs": [],
   "source": [
    "def deal(deck, num_hands=1, hand_size=5):\n",
    "    iters = [iter(deck)] * hand_size\n",
    "    return tuple(zip(*(tuple(it.islice(itr, num_hands)) for itr in iters)))"
   ]
  },
  {
   "cell_type": "code",
   "execution_count": 37,
   "metadata": {},
   "outputs": [],
   "source": [
    "p1_hand, p2_hand, p3_hand = deal(cards, num_hands=3)"
   ]
  },
  {
   "cell_type": "code",
   "execution_count": 38,
   "metadata": {},
   "outputs": [],
   "source": [
    "cycle = it.chain.from_iterable(it.repeat('abc'))"
   ]
  },
  {
   "cell_type": "code",
   "execution_count": 39,
   "metadata": {},
   "outputs": [],
   "source": [
    "from collections import namedtuple\n",
    "\n",
    "\n",
    "class DataPoint(namedtuple('DataPoint', ['date', 'value'])):\n",
    "    __slots__ = ()\n",
    "\n",
    "    def __le__(self, other):\n",
    "        return self.value <= other.value\n",
    "\n",
    "    def __lt__(self, other):\n",
    "        return self.value < other.value\n",
    "\n",
    "    def __gt__(self, other):\n",
    "        return self.value > other.value"
   ]
  },
  {
   "cell_type": "code",
   "execution_count": null,
   "metadata": {},
   "outputs": [],
   "source": [
    "import csv\n",
    "from datetime import datetime\n",
    "\n",
    "\n",
    "def read_prices(csvfile, _strptime=datetime.strptime):\n",
    "    with open(csvfile) as infile:\n",
    "        reader = csv.DictReader(infile)\n",
    "        for row in reader:\n",
    "            yield DataPoint(date=_strptime(row['Date'], '%Y-%m-%d').date(),\n",
    "                            value=float(row['Adj Close']))\n",
    "\n",
    "\n",
    "prices = tuple(read_prices('SP500.csv'))"
   ]
  },
  {
   "cell_type": "markdown",
   "metadata": {},
   "source": [
    "For each row, read_prices() yields a DataPoint object containing the values in the “Date” and “Adj Close” columns. Finally, the full sequence of data points is committed to memory as a tuple and stored in the prices variable."
   ]
  },
  {
   "cell_type": "code",
   "execution_count": null,
   "metadata": {},
   "outputs": [],
   "source": [
    "gains = tuple(DataPoint(day.date, 100*(day.value/prev_day.value - 1.))\n",
    "                for day, prev_day in zip(prices[1:], prices))"
   ]
  },
  {
   "cell_type": "code",
   "execution_count": null,
   "metadata": {},
   "outputs": [],
   "source": [
    "import functools as ft\n",
    "\n",
    "\n",
    "max_gain = ft.reduce(max, gains)\n",
    "\n",
    "print(max_gain) "
   ]
  },
  {
   "cell_type": "code",
   "execution_count": null,
   "metadata": {},
   "outputs": [],
   "source": [
    "ft.reduce(max, it.filterfalse(lambda x: x <= 0, [-1, -2, -3]), 0)"
   ]
  },
  {
   "cell_type": "code",
   "execution_count": null,
   "metadata": {},
   "outputs": [],
   "source": []
  }
 ],
 "metadata": {
  "kernelspec": {
   "display_name": "Python 3",
   "language": "python",
   "name": "python3"
  },
  "language_info": {
   "codemirror_mode": {
    "name": "ipython",
    "version": 3
   },
   "file_extension": ".py",
   "mimetype": "text/x-python",
   "name": "python",
   "nbconvert_exporter": "python",
   "pygments_lexer": "ipython3",
   "version": "3.11.4"
  },
  "orig_nbformat": 4
 },
 "nbformat": 4,
 "nbformat_minor": 2
}
