{
  "nbformat": 4,
  "nbformat_minor": 0,
  "metadata": {
    "colab": {
      "provenance": []
    },
    "kernelspec": {
      "name": "python3",
      "display_name": "Python 3"
    },
    "language_info": {
      "name": "python"
    }
  },
  "cells": [
    {
      "cell_type": "code",
      "execution_count": 1,
      "metadata": {
        "id": "WAc9hkS0WuHu"
      },
      "outputs": [],
      "source": [
        "#The notebook explores the Unstructured Library \n",
        "#with the intention of using various ecosystem drivers"
      ]
    },
    {
      "cell_type": "code",
      "source": [
        "!pip install unstructured[\"local-inference\"]==0.5.2 layoutparser"
      ],
      "metadata": {
        "id": "6DTMJZ-Jfga0"
      },
      "execution_count": null,
      "outputs": []
    },
    {
      "cell_type": "code",
      "source": [
        "# Install Requirements\n",
        "!apt-get -qq install poppler-utils tesseract-ocr\n",
        "# Upgrade Pillow to latest version\n",
        "!pip install -q --user --upgrade pillow"
      ],
      "metadata": {
        "id": "-g44x7yNjAxy"
      },
      "execution_count": null,
      "outputs": []
    },
    {
      "cell_type": "code",
      "source": [
        "!apt-get -qq install libreoffice"
      ],
      "metadata": {
        "id": "B1voy0JtnsqW"
      },
      "execution_count": null,
      "outputs": []
    },
    {
      "cell_type": "code",
      "source": [
        "!pip install -q \"detectron2@git+https://github.com/facebookresearch/detectron2.git@v0.6#egg=detectron2\""
      ],
      "metadata": {
        "id": "jW4CBxfejvhr"
      },
      "execution_count": null,
      "outputs": []
    },
    {
      "cell_type": "code",
      "source": [
        "import nltk\n",
        "nltk.download('punkt')\n",
        "nltk.download('averaged_perceptron_tagger')"
      ],
      "metadata": {
        "id": "TvDE4CZUjfSB"
      },
      "execution_count": null,
      "outputs": []
    },
    {
      "cell_type": "code",
      "source": [
        "!git clone https://github.com/Unstructured-IO/unstructured.git"
      ],
      "metadata": {
        "id": "EYjHXhyGXhVP"
      },
      "execution_count": null,
      "outputs": []
    },
    {
      "cell_type": "code",
      "source": [
        "!cp -r /content/unstructured/example-docs/ /content/"
      ],
      "metadata": {
        "id": "ISZnNoZ1XhPs"
      },
      "execution_count": 6,
      "outputs": []
    },
    {
      "cell_type": "markdown",
      "source": [
        "## Writing the examples to the content folder for easy access"
      ],
      "metadata": {
        "id": "V66S3eKme3Wk"
      }
    },
    {
      "cell_type": "code",
      "source": [
        "import os\n",
        "Example_dir = \"/content/example-docs\""
      ],
      "metadata": {
        "id": "IvSigzzmXhGv"
      },
      "execution_count": 1,
      "outputs": []
    },
    {
      "cell_type": "code",
      "source": [
        "#basic partitioning\n",
        "\n",
        "file_lpf = os.path.join(Example_dir,\"layout-parser-paper-fast.pdf\")"
      ],
      "metadata": {
        "id": "zP-fXB0bXg-k"
      },
      "execution_count": 2,
      "outputs": []
    },
    {
      "cell_type": "code",
      "source": [
        "from unstructured.partition.auto import partition\n",
        "\n",
        "#partition class\n",
        "with open(file_lpf, \"rb\") as lpf:\n",
        "  element_lpf = partition(file= lpf, \n",
        "                          include_page_breaks=True)"
      ],
      "metadata": {
        "id": "5K6Np2rDfPcQ"
      },
      "execution_count": null,
      "outputs": []
    },
    {
      "cell_type": "code",
      "source": [
        "len(element_lpf)"
      ],
      "metadata": {
        "colab": {
          "base_uri": "https://localhost:8080/"
        },
        "id": "XExHy_ehncYw",
        "outputId": "991ca341-2e1a-4caf-edb0-20dfe1cfebf1"
      },
      "execution_count": 6,
      "outputs": [
        {
          "output_type": "execute_result",
          "data": {
            "text/plain": [
              "24"
            ]
          },
          "metadata": {},
          "execution_count": 6
        }
      ]
    },
    {
      "cell_type": "code",
      "source": [
        "from unstructured.partition.html import partition_html\n",
        "\n",
        "url = \"https://www.cnn.com/2023/01/30/sport/empire-state-building-green-philadelphia-eagles-spt-intl/index.html\"\n"
      ],
      "metadata": {
        "id": "W33luO-3hcok"
      },
      "execution_count": 4,
      "outputs": []
    },
    {
      "cell_type": "code",
      "source": [
        "elements = partition_html(url=url)\n",
        "\n",
        "print(\"\\n\\n\".join([str(el) for el in elements]))"
      ],
      "metadata": {
        "id": "87PVmztwglyP"
      },
      "execution_count": null,
      "outputs": []
    },
    {
      "cell_type": "code",
      "source": [
        "from unstructured.partition.ppt import partition_ppt\n",
        "\n",
        "elements = partition_ppt(filename=Example_dir + \"/fake-power-point.ppt\")"
      ],
      "metadata": {
        "id": "jUnjA62ImqA6"
      },
      "execution_count": 9,
      "outputs": []
    },
    {
      "cell_type": "code",
      "source": [
        "elements"
      ],
      "metadata": {
        "id": "h3Pv4hxQmp7p"
      },
      "execution_count": null,
      "outputs": []
    },
    {
      "cell_type": "code",
      "source": [
        "str(elements[4])"
      ],
      "metadata": {
        "colab": {
          "base_uri": "https://localhost:8080/",
          "height": 35
        },
        "id": "d1GtiBUBmp4N",
        "outputId": "b85cfbdc-5a06-4743-8294-e940d237bf65"
      },
      "execution_count": 13,
      "outputs": [
        {
          "output_type": "execute_result",
          "data": {
            "text/plain": [
              "'Here is a lot of text!'"
            ],
            "application/vnd.google.colaboratory.intrinsic+json": {
              "type": "string"
            }
          },
          "metadata": {},
          "execution_count": 13
        }
      ]
    },
    {
      "cell_type": "code",
      "source": [
        "from unstructured.partition.image import partition_image\n",
        "\n",
        "# Returns a List[Element] present in the pages of the parsed image document\n",
        "elements = partition_image(\"example-docs/layout-parser-paper-fast.jpg\")"
      ],
      "metadata": {
        "id": "VhTHY4tHmpwd"
      },
      "execution_count": 16,
      "outputs": []
    },
    {
      "cell_type": "code",
      "source": [
        "!apt-get install pandocs"
      ],
      "metadata": {
        "id": "MrJUDWvtpNrH"
      },
      "execution_count": null,
      "outputs": []
    },
    {
      "cell_type": "code",
      "source": [
        "from unstructured.partition.epub import partition_epub\n",
        "\n",
        "elements = partition_epub(filename=\"example-docs/winter-sports.epub\")"
      ],
      "metadata": {
        "id": "GLHOvhDqo6DS"
      },
      "execution_count": null,
      "outputs": []
    },
    {
      "cell_type": "code",
      "source": [
        "from unstructured.partition.email import partition_email\n",
        "\n",
        "with open(\"example-docs/fake-email.eml\", \"r\") as f:\n",
        "    text = f.read()\n",
        "elements = partition_email(text=text, include_headers=True)"
      ],
      "metadata": {
        "id": "f3kANRu8ovU_"
      },
      "execution_count": 21,
      "outputs": []
    },
    {
      "cell_type": "code",
      "source": [
        "str(elements[5])"
      ],
      "metadata": {
        "colab": {
          "base_uri": "https://localhost:8080/",
          "height": 35
        },
        "id": "QY5KNrYwovSU",
        "outputId": "3af2b8c1-2882-42e3-e512-098498b71f1e"
      },
      "execution_count": 24,
      "outputs": [
        {
          "output_type": "execute_result",
          "data": {
            "text/plain": [
              "'Matthew Robinson: mrobinson@unstructured.io'"
            ],
            "application/vnd.google.colaboratory.intrinsic+json": {
              "type": "string"
            }
          },
          "metadata": {},
          "execution_count": 24
        }
      ]
    },
    {
      "cell_type": "code",
      "source": [
        "from unstructured.partition.text import partition_text\n",
        "\n",
        "elements = partition_text(filename=\"example-docs/fake-text.txt\")\n",
        "\n",
        "with open(\"example-docs/fake-text.txt\", \"r\") as f:\n",
        "  elements = partition_text(file=f)\n",
        "\n",
        "with open(\"example-docs/fake-text.txt\", \"r\") as f:\n",
        "  text = f.read()\n",
        "elements = partition_text(text=text)"
      ],
      "metadata": {
        "id": "ZxTABqo-ovPg"
      },
      "execution_count": 63,
      "outputs": []
    },
    {
      "cell_type": "code",
      "source": [
        "str(elements[0])"
      ],
      "metadata": {
        "colab": {
          "base_uri": "https://localhost:8080/",
          "height": 35
        },
        "id": "DB6w4dR3ovKj",
        "outputId": "17216750-88aa-4bf7-9606-b5388428e5ff"
      },
      "execution_count": 27,
      "outputs": [
        {
          "output_type": "execute_result",
          "data": {
            "text/plain": [
              "'This is a test document to use for unit tests.'"
            ],
            "application/vnd.google.colaboratory.intrinsic+json": {
              "type": "string"
            }
          },
          "metadata": {},
          "execution_count": 27
        }
      ]
    },
    {
      "cell_type": "code",
      "source": [
        "from unstructured.partition.text import partition_text\n",
        "from unstructured.cleaners.core import group_broken_paragraphs\n",
        "\n",
        "\n",
        "text = \"\"\"The big brown fox\n",
        "was walking down the lane.\n",
        "\n",
        "At the end of the lane, the\n",
        "fox met a bear.\"\"\"\n",
        "\n",
        "partition_text(text=text, \n",
        "               paragraph_grouper=group_broken_paragraphs)"
      ],
      "metadata": {
        "id": "gH2xRYS7qZt7"
      },
      "execution_count": null,
      "outputs": []
    },
    {
      "cell_type": "code",
      "source": [
        "from unstructured.cleaners.core import replace_unicode_quotes\n",
        "\n",
        "replace_unicode_quotes(\"Philadelphia Eaglesâ\\x80\\x99 victory\")"
      ],
      "metadata": {
        "colab": {
          "base_uri": "https://localhost:8080/",
          "height": 35
        },
        "id": "U9art0HJrcZ8",
        "outputId": "912dfc77-e022-44aa-b9cc-15c584e1955e"
      },
      "execution_count": 29,
      "outputs": [
        {
          "output_type": "execute_result",
          "data": {
            "text/plain": [
              "\"Philadelphia Eagles' victory\""
            ],
            "application/vnd.google.colaboratory.intrinsic+json": {
              "type": "string"
            }
          },
          "metadata": {},
          "execution_count": 29
        }
      ]
    },
    {
      "cell_type": "code",
      "source": [
        "import re\n",
        "\n",
        "remove_citations = lambda text: re.sub(\"\\[\\d{1,3}\\]\", \"\", text)\n",
        "\n",
        "element = Text(\"[1] Geolocated combat footage has confirmed Russian gains in the Dvorichne area northwest of Svatove.\")\n",
        "element.apply(remove_citations)\n",
        "print(element)"
      ],
      "metadata": {
        "id": "NL4LPzPlrcXE"
      },
      "execution_count": null,
      "outputs": []
    },
    {
      "cell_type": "markdown",
      "source": [
        "Applies clean_bullets if bullets=True.\n",
        "\n",
        "Applies clean_extra_whitespace if extra_whitespace=True.\n",
        "\n",
        "Applies clean_dashes if dashes=True.\n",
        "\n",
        "Applies clean_trailing_punctuation if trailing_punctuation=True.\n",
        "\n",
        "Lowercases the output if lowercase=True."
      ],
      "metadata": {
        "id": "BxpXXtV5rwCP"
      }
    },
    {
      "cell_type": "code",
      "source": [
        "from unstructured.cleaners.core import clean\n",
        "\n",
        "# Returns \"an excellent point!\"\n",
        "clean(\"● An excellent point!\", bullets=True, lowercase=True)\n",
        "\n",
        "# Returns \"ITEM 1A: RISK FACTORS\"\n",
        "clean(\"ITEM 1A:     RISK-FACTORS\", extra_whitespace=True, dashes=True)"
      ],
      "metadata": {
        "colab": {
          "base_uri": "https://localhost:8080/",
          "height": 35
        },
        "id": "9aLjvWn1rcUY",
        "outputId": "de2f89f5-65a7-413d-fcdb-c0adbdfaba66"
      },
      "execution_count": 31,
      "outputs": [
        {
          "output_type": "execute_result",
          "data": {
            "text/plain": [
              "'ITEM 1A: RISK FACTORS'"
            ],
            "application/vnd.google.colaboratory.intrinsic+json": {
              "type": "string"
            }
          },
          "metadata": {},
          "execution_count": 31
        }
      ]
    },
    {
      "cell_type": "code",
      "source": [
        "from unstructured.cleaners.core import clean_bullets\n",
        "\n",
        "# Returns \"I love Morse Code! ●●●\"\n",
        "clean_bullets(\"I love Morse Code! ●●●\")"
      ],
      "metadata": {
        "colab": {
          "base_uri": "https://localhost:8080/",
          "height": 35
        },
        "id": "whCBU99frcQx",
        "outputId": "70a3e8b2-e7d5-46d5-9edd-064cbe5fc7b0"
      },
      "execution_count": 32,
      "outputs": [
        {
          "output_type": "execute_result",
          "data": {
            "text/plain": [
              "'I love Morse Code! ●●●'"
            ],
            "application/vnd.google.colaboratory.intrinsic+json": {
              "type": "string"
            }
          },
          "metadata": {},
          "execution_count": 32
        }
      ]
    },
    {
      "cell_type": "code",
      "source": [
        "from unstructured.cleaners.core import clean_ordered_bullets\n",
        "\n",
        "# Returns \"This is a very important point\"\n",
        "clean_bullets(\"a.b This is a very important point\")"
      ],
      "metadata": {
        "colab": {
          "base_uri": "https://localhost:8080/",
          "height": 35
        },
        "id": "GxSRjWr5rcMr",
        "outputId": "04fd2d03-8d27-485f-a0fc-c2c1a9d64c79"
      },
      "execution_count": 36,
      "outputs": [
        {
          "output_type": "execute_result",
          "data": {
            "text/plain": [
              "'a.b This is a very important point'"
            ],
            "application/vnd.google.colaboratory.intrinsic+json": {
              "type": "string"
            }
          },
          "metadata": {},
          "execution_count": 36
        }
      ]
    },
    {
      "cell_type": "code",
      "source": [
        "from unstructured.cleaners.core import replace_unicode_quotes\n",
        "\n",
        "# Returns \"“A lovely quote!”\"\n",
        "replace_unicode_quotes(\"\\x93A lovely quote!\\x94\")"
      ],
      "metadata": {
        "colab": {
          "base_uri": "https://localhost:8080/",
          "height": 35
        },
        "id": "RrY0Dv01sy1V",
        "outputId": "073071c7-1c1f-450f-93e3-1d7308e513c0"
      },
      "execution_count": 38,
      "outputs": [
        {
          "output_type": "execute_result",
          "data": {
            "text/plain": [
              "'“A lovely quote!”'"
            ],
            "application/vnd.google.colaboratory.intrinsic+json": {
              "type": "string"
            }
          },
          "metadata": {},
          "execution_count": 38
        }
      ]
    },
    {
      "cell_type": "code",
      "source": [
        "from unstructured.cleaners.extract import extract_text_before\n",
        "\n",
        "text = \"Here I am! STOP Look at me! STOP I'm flying! STOP\"\n",
        "\n",
        "# Returns \"Here I am!\"\n",
        "extract_text_before(text, r\"STOP\")"
      ],
      "metadata": {
        "colab": {
          "base_uri": "https://localhost:8080/",
          "height": 35
        },
        "id": "bswm0sF-s-pc",
        "outputId": "04d5f93e-8eeb-4062-b86a-b1d7677da492"
      },
      "execution_count": 39,
      "outputs": [
        {
          "output_type": "execute_result",
          "data": {
            "text/plain": [
              "'Here I am!'"
            ],
            "application/vnd.google.colaboratory.intrinsic+json": {
              "type": "string"
            }
          },
          "metadata": {},
          "execution_count": 39
        }
      ]
    },
    {
      "cell_type": "code",
      "source": [
        "from unstructured.cleaners.extract import extract_text_after\n",
        "\n",
        "text = \"SPEAKER 1: Look at me, I'm flying!\"\n",
        "\n",
        "# Returns \"Look at me, I'm flying!\"\n",
        "extract_text_after(text, r\"SPEAKER \\d{1}:\")"
      ],
      "metadata": {
        "colab": {
          "base_uri": "https://localhost:8080/",
          "height": 35
        },
        "id": "-XLHOpbktC9z",
        "outputId": "96197db1-762b-4b5b-cd3d-5bbe14debb2e"
      },
      "execution_count": 40,
      "outputs": [
        {
          "output_type": "execute_result",
          "data": {
            "text/plain": [
              "\"Look at me, I'm flying!\""
            ],
            "application/vnd.google.colaboratory.intrinsic+json": {
              "type": "string"
            }
          },
          "metadata": {},
          "execution_count": 40
        }
      ]
    },
    {
      "cell_type": "code",
      "source": [
        "from unstructured.cleaners.extract import extract_email_address\n",
        "\n",
        "text = \"\"\"Me me@email.com and You <You@email.com>\n",
        "    ([ba23::58b5:2236:45g2:88h2]) (10.0.2.01)\"\"\"\n",
        "\n",
        "# Returns \"['me@email.com', 'you@email.com']\"\n",
        "extract_email_address(text)"
      ],
      "metadata": {
        "colab": {
          "base_uri": "https://localhost:8080/"
        },
        "id": "TSqabdjwtIx0",
        "outputId": "110aa7fe-d376-460e-c20c-68e93af1f2ce"
      },
      "execution_count": 41,
      "outputs": [
        {
          "output_type": "execute_result",
          "data": {
            "text/plain": [
              "['me@email.com', 'you@email.com']"
            ]
          },
          "metadata": {},
          "execution_count": 41
        }
      ]
    },
    {
      "cell_type": "code",
      "source": [
        "from unstructured.cleaners.extract import extract_ip_address\n",
        "\n",
        "text = \"\"\"Me me@email.com and You <You@email.com>\n",
        "  ([ba23::58b5:2236:45g2:88h2]) (10.0.2.01)\"\"\"\n",
        "\n",
        "# Returns \"['ba23::58b5:2236:45g2:88h2', '10.0.2.01']\"\n",
        "extract_ip_address(text)\n"
      ],
      "metadata": {
        "colab": {
          "base_uri": "https://localhost:8080/"
        },
        "id": "c9bUjH2xtLFX",
        "outputId": "baeed5bc-f837-4194-87b5-4d224e66926e"
      },
      "execution_count": 42,
      "outputs": [
        {
          "output_type": "execute_result",
          "data": {
            "text/plain": [
              "['ba23::58b5:2236:45g2:88h2', '10.0.2.01']"
            ]
          },
          "metadata": {},
          "execution_count": 42
        }
      ]
    },
    {
      "cell_type": "code",
      "source": [
        "from unstructured.cleaners.extract import extract_datetimetz\n",
        "\n",
        "text = \"\"\"from ABC.DEF.local ([ba23::58b5:2236:45g2:88h2]) by\n",
        "  \\n ABC.DEF.local2 ([ba23::58b5:2236:45g2:88h2%25]) with mapi id\\\n",
        "  n 32.88.5467.123; Fri, 26 Mar 2021 11:04:09 +1200\"\"\"\n",
        "\n",
        "# Returns datetime.datetime(2021, 3, 26, 11, 4, 9, tzinfo=datetime.timezone(datetime.timedelta(seconds=43200)))\n",
        "extract_datetimetz(text)"
      ],
      "metadata": {
        "colab": {
          "base_uri": "https://localhost:8080/"
        },
        "id": "UwfunwcmtQe1",
        "outputId": "7519fb70-cb87-444c-ee74-1e38cb198cc5"
      },
      "execution_count": 43,
      "outputs": [
        {
          "output_type": "execute_result",
          "data": {
            "text/plain": [
              "datetime.datetime(2021, 3, 26, 11, 4, 9, tzinfo=datetime.timezone(datetime.timedelta(seconds=43200)))"
            ]
          },
          "metadata": {},
          "execution_count": 43
        }
      ]
    },
    {
      "cell_type": "code",
      "source": [
        "!pip install langdetect sentencepiece"
      ],
      "metadata": {
        "id": "SJNkWP6ktnNL"
      },
      "execution_count": null,
      "outputs": []
    },
    {
      "cell_type": "code",
      "source": [
        "from unstructured.cleaners.translate import translate_text\n",
        "\n",
        "# Output is \"I'm a Berliner!\"\n",
        "translate_text(\"Ich bin ein Berliner!\")"
      ],
      "metadata": {
        "id": "Vq56QeN6tj4G"
      },
      "execution_count": null,
      "outputs": []
    },
    {
      "cell_type": "code",
      "source": [
        "##Staging\n",
        "\n",
        "import json\n",
        "from unstructured.staging.label_studio import stage_for_label_studio\n",
        "\n",
        "output = stage_for_label_studio(elements)"
      ],
      "metadata": {
        "id": "C-35FhDTvCf6"
      },
      "execution_count": 51,
      "outputs": []
    },
    {
      "cell_type": "code",
      "source": [
        "print(json.dumps(output[:2], indent=4))"
      ],
      "metadata": {
        "colab": {
          "base_uri": "https://localhost:8080/"
        },
        "id": "aMu0eRbJvCVW",
        "outputId": "8f25249e-ed9c-4593-fff6-0440e1b0f469"
      },
      "execution_count": 52,
      "outputs": [
        {
          "output_type": "stream",
          "name": "stdout",
          "text": [
            "[\n",
            "    {\n",
            "        \"data\": {\n",
            "            \"text\": \"This is a test document to use for unit tests.\",\n",
            "            \"ref_id\": \"1df8eeb8be847c3a1a7411e3be3e0396\"\n",
            "        }\n",
            "    },\n",
            "    {\n",
            "        \"data\": {\n",
            "            \"text\": \"Doylestown, PA 18901\",\n",
            "            \"ref_id\": \"a9d4657034aa3fdb5177f1325e912362\"\n",
            "        }\n",
            "    }\n",
            "]\n"
          ]
        }
      ]
    },
    {
      "cell_type": "code",
      "source": [
        "from unstructured.documents.elements import Title, NarrativeText\n",
        "from unstructured.staging.base import convert_to_dict\n",
        "isd = convert_to_dict(elements)"
      ],
      "metadata": {
        "id": "uXqXm7_zvY7y"
      },
      "execution_count": 56,
      "outputs": []
    },
    {
      "cell_type": "code",
      "source": [
        "isd"
      ],
      "metadata": {
        "colab": {
          "base_uri": "https://localhost:8080/"
        },
        "id": "9nDx8_S0vcn_",
        "outputId": "217e4ee9-b083-4e6f-cff4-808c587a117c"
      },
      "execution_count": 57,
      "outputs": [
        {
          "output_type": "execute_result",
          "data": {
            "text/plain": [
              "[{'element_id': '1df8eeb8be847c3a1a7411e3be3e0396',\n",
              "  'coordinates': None,\n",
              "  'text': 'This is a test document to use for unit tests.',\n",
              "  'type': 'NarrativeText',\n",
              "  'metadata': {}},\n",
              " {'element_id': 'a9d4657034aa3fdb5177f1325e912362',\n",
              "  'coordinates': None,\n",
              "  'text': 'Doylestown, PA 18901',\n",
              "  'type': 'Address',\n",
              "  'metadata': {}},\n",
              " {'element_id': '9c218520320f238595f1fde74bdd137d',\n",
              "  'coordinates': None,\n",
              "  'text': 'Important points:',\n",
              "  'type': 'Title',\n",
              "  'metadata': {}},\n",
              " {'element_id': '39a3ae572581d0f1fe7511fd7b3aa414',\n",
              "  'coordinates': None,\n",
              "  'text': 'Hamburgers are delicious',\n",
              "  'type': 'ListItem',\n",
              "  'metadata': {}},\n",
              " {'element_id': 'fc1adcb8eaceac694e500a103f9f698f',\n",
              "  'coordinates': None,\n",
              "  'text': 'Dogs are the best',\n",
              "  'type': 'ListItem',\n",
              "  'metadata': {}},\n",
              " {'element_id': '0b61e826b1c4ab05750184da72b89f83',\n",
              "  'coordinates': None,\n",
              "  'text': 'I love fuzzy blankets',\n",
              "  'type': 'ListItem',\n",
              "  'metadata': {}}]"
            ]
          },
          "metadata": {},
          "execution_count": 57
        }
      ]
    },
    {
      "cell_type": "code",
      "source": [
        "from unstructured.staging.base import dict_to_elements\n",
        "\n",
        "re_elements = dict_to_elements(isd)"
      ],
      "metadata": {
        "id": "KILUXa_EvqSN"
      },
      "execution_count": 58,
      "outputs": []
    },
    {
      "cell_type": "code",
      "source": [
        "str(re_elements[0])"
      ],
      "metadata": {
        "colab": {
          "base_uri": "https://localhost:8080/",
          "height": 35
        },
        "id": "waSx5LRMvuxc",
        "outputId": "4a05b0d0-07bc-4c25-f8d0-b1154b9ae208"
      },
      "execution_count": 60,
      "outputs": [
        {
          "output_type": "execute_result",
          "data": {
            "text/plain": [
              "'This is a test document to use for unit tests.'"
            ],
            "application/vnd.google.colaboratory.intrinsic+json": {
              "type": "string"
            }
          },
          "metadata": {},
          "execution_count": 60
        }
      ]
    },
    {
      "cell_type": "code",
      "source": [
        "from unstructured.documents.elements import Title, NarrativeText\n",
        "from unstructured.staging.base import convert_to_csv\n",
        "\n",
        "isd_csv = convert_to_csv(elements)"
      ],
      "metadata": {
        "id": "Bcs0YIhBv1Rx"
      },
      "execution_count": 64,
      "outputs": []
    },
    {
      "cell_type": "code",
      "source": [
        "print(isd_csv)"
      ],
      "metadata": {
        "colab": {
          "base_uri": "https://localhost:8080/"
        },
        "id": "JD2uFpWEwEvG",
        "outputId": "4d3cf025-3fde-4c16-cc7f-77ec7da77a07"
      },
      "execution_count": 66,
      "outputs": [
        {
          "output_type": "stream",
          "name": "stdout",
          "text": [
            "type,text,element_id,coordinates,filename,page_number,url\r\n",
            "NarrativeText,This is a test document to use for unit tests.,1df8eeb8be847c3a1a7411e3be3e0396,,,,\r\n",
            "Address,\"Doylestown, PA 18901\",a9d4657034aa3fdb5177f1325e912362,,,,\r\n",
            "Title,Important points:,9c218520320f238595f1fde74bdd137d,,,,\r\n",
            "ListItem,Hamburgers are delicious,39a3ae572581d0f1fe7511fd7b3aa414,,,,\r\n",
            "ListItem,Dogs are the best,fc1adcb8eaceac694e500a103f9f698f,,,,\r\n",
            "ListItem,I love fuzzy blankets,0b61e826b1c4ab05750184da72b89f83,,,,\r\n",
            "\n"
          ]
        }
      ]
    },
    {
      "cell_type": "code",
      "source": [
        "from unstructured.documents.elements import Title, NarrativeText\n",
        "from unstructured.staging.base import convert_to_dataframe\n",
        "df = convert_to_dataframe(elements)\n",
        "df"
      ],
      "metadata": {
        "id": "Y7AqSmghwXb6"
      },
      "execution_count": null,
      "outputs": []
    },
    {
      "cell_type": "code",
      "source": [
        "!pip install transformers sentence-transformers huggingface"
      ],
      "metadata": {
        "id": "0K2Q1xWSwnVy"
      },
      "execution_count": null,
      "outputs": []
    },
    {
      "cell_type": "code",
      "source": [
        "from transformers import AutoTokenizer, AutoModelForTokenClassification\n",
        "from transformers import pipeline\n",
        "\n",
        "from unstructured.documents.elements import NarrativeText\n",
        "from unstructured.staging.huggingface import stage_for_transformers\n",
        "\n",
        "model_name = \"hf-internal-testing/tiny-bert-for-token-classification\"\n",
        "tokenizer = AutoTokenizer.from_pretrained(model_name)\n",
        "model = AutoModelForTokenClassification.from_pretrained(model_name)\n",
        "\n",
        "nlp = pipeline(\"ner\", model=model, tokenizer=tokenizer)"
      ],
      "metadata": {
        "id": "HO2NKysMwltO"
      },
      "execution_count": null,
      "outputs": []
    },
    {
      "cell_type": "code",
      "source": [
        "text = \"\"\"From frost advisories this morning to a strong cold front expected later this week, the chance of fall showing up is real.\n",
        "\n",
        "There's a refreshing crispness to the air, and it looks to get only more pronounced as the week goes on.\n",
        "\n",
        "Frost advisories were in place this morning across portions of the Appalachians and coastal Maine as temperatures dropped into the 30s.\n",
        "\n",
        "Temperatures this morning were in the 40s as far south as the Florida Panhandle.\n",
        "\n",
        "And Maine even had a few reports of their first snow of the season Sunday. More cities could see their first snow later this week.\n",
        "\n",
        "Yes, hello fall!\n",
        "\n",
        "As temperatures moderate during the next few days, much of the east will stay right around seasonal norms, but the next blast of cold air will be strong and come with the potential for hazardous conditions.\n",
        "\n",
        "\"A more active fall weather pattern is expected to evolve by the end of this week and continuing into the weekend as a couple of cold fronts move across the central and eastern states,\" the Weather Prediction Center said.\n",
        "\n",
        "The potent cold front will come in from Canada with a punch of chilly air, heavy rain and strong wind.\n",
        "\n",
        "The Weather Prediction Center has a slight risk of excessive rainfall for much of the Northeast and New England on Thursday, including places like New York City, Buffalo and Burlington, so we will have to look out for flash flooding in these areas.\n",
        "\n",
        "\"More impactful weather continues to look likely with confidence growing that our region will experience the first real fall-like system with gusty to strong winds and a period of moderate to heavy rain along and ahead of a cold front passage,\" the National Weather Service office in Burlington wrote.\n",
        "\n",
        "The potential for very heavy rain could accompany the front, bringing up to two inches of rain for much of the area, and isolated locations could see even more.\n",
        "\n",
        "\"Ensembles [forecast models] show median rainfall totals by Wednesday night around a half inch, with a potential for some spots to see around one inch, our first substantial rainfall in at least a couple of weeks,\" the weather service office in Grand Rapids noted, adding, \"It may also get cold enough for some snow to mix in Thursday night to Friday morning, especially in the higher terrain north of Grand Rapids toward Cadillac.\"\n",
        "\n",
        "There is also a chance for very strong winds to accompany the system.\n",
        "\n",
        "The weather service is forecasting winds of 30-40 mph ahead of the cold front, which could cause some tree limbs to fall and sporadic power outages.\n",
        "\n",
        "Behind the front, temperatures will fall.\n",
        "\n",
        "\"East Coast, with highs about 5-15 degrees below average to close out the workweek and going into next weekend, with highs only in the 40s and 50s from the Great Lakes to the Northeast on most days,\" the Weather Prediction Center explained.\n",
        "\n",
        "By the weekend, a second cold front will drop down from Canada and bring a reinforcing shot of chilly air across the eastern half of the country.\"\"\""
      ],
      "metadata": {
        "id": "ZhknpTHUw2Sa"
      },
      "execution_count": 71,
      "outputs": []
    },
    {
      "cell_type": "code",
      "source": [
        "chunks = stage_for_transformers([NarrativeText(text=text)], tokenizer)"
      ],
      "metadata": {
        "id": "d7ouFalYw2OF"
      },
      "execution_count": 72,
      "outputs": []
    },
    {
      "cell_type": "code",
      "source": [
        "results = [nlp(chunk) for chunk in chunks]"
      ],
      "metadata": {
        "id": "Fwgv0E0Bw2J6"
      },
      "execution_count": 73,
      "outputs": []
    },
    {
      "cell_type": "code",
      "source": [
        "results"
      ],
      "metadata": {
        "id": "OIc6rnhtw2DS"
      },
      "execution_count": null,
      "outputs": []
    },
    {
      "cell_type": "code",
      "source": [
        "#Staging to multiple platforms\n",
        "\n",
        "label_studio_data = stage_for_label_studio(elements)"
      ],
      "metadata": {
        "id": "B5GVH2BcyCgX"
      },
      "execution_count": 78,
      "outputs": []
    },
    {
      "cell_type": "code",
      "source": [
        "label_studio_data"
      ],
      "metadata": {
        "colab": {
          "base_uri": "https://localhost:8080/"
        },
        "id": "1-X7imLfyCpL",
        "outputId": "2e47b5b7-fc9e-4d33-f956-d44bfdd2cc46"
      },
      "execution_count": 79,
      "outputs": [
        {
          "output_type": "execute_result",
          "data": {
            "text/plain": [
              "[{'data': {'text': 'This is a test document to use for unit tests.',\n",
              "   'ref_id': '1df8eeb8be847c3a1a7411e3be3e0396'}},\n",
              " {'data': {'text': 'Doylestown, PA 18901',\n",
              "   'ref_id': 'a9d4657034aa3fdb5177f1325e912362'}},\n",
              " {'data': {'text': 'Important points:',\n",
              "   'ref_id': '9c218520320f238595f1fde74bdd137d'}},\n",
              " {'data': {'text': 'Hamburgers are delicious',\n",
              "   'ref_id': '39a3ae572581d0f1fe7511fd7b3aa414'}},\n",
              " {'data': {'text': 'Dogs are the best',\n",
              "   'ref_id': 'fc1adcb8eaceac694e500a103f9f698f'}},\n",
              " {'data': {'text': 'I love fuzzy blankets',\n",
              "   'ref_id': '0b61e826b1c4ab05750184da72b89f83'}}]"
            ]
          },
          "metadata": {},
          "execution_count": 79
        }
      ]
    },
    {
      "cell_type": "code",
      "source": [
        "from unstructured.staging.datasaur import stage_for_datasaur\n",
        "\n",
        "datasaur_data = stage_for_datasaur(elements)"
      ],
      "metadata": {
        "id": "TdtC3Kd6yCl2"
      },
      "execution_count": 84,
      "outputs": []
    },
    {
      "cell_type": "code",
      "source": [
        "datasaur_data"
      ],
      "metadata": {
        "colab": {
          "base_uri": "https://localhost:8080/"
        },
        "id": "a5DYIE_Pyw-C",
        "outputId": "fb550ee1-7bc2-4a6d-b103-0af57b06ddc1"
      },
      "execution_count": 81,
      "outputs": [
        {
          "output_type": "execute_result",
          "data": {
            "text/plain": [
              "[{'text': 'This is a test document to use for unit tests.', 'entities': []},\n",
              " {'text': 'Doylestown, PA 18901', 'entities': []},\n",
              " {'text': 'Important points:', 'entities': []},\n",
              " {'text': 'Hamburgers are delicious', 'entities': []},\n",
              " {'text': 'Dogs are the best', 'entities': []},\n",
              " {'text': 'I love fuzzy blankets', 'entities': []}]"
            ]
          },
          "metadata": {},
          "execution_count": 81
        }
      ]
    },
    {
      "cell_type": "code",
      "source": [
        "from unstructured.staging.argilla import stage_for_argilla\n",
        "\n",
        "argilla_dataset = stage_for_argilla(elements, \"text_classification\")"
      ],
      "metadata": {
        "id": "wycwsoAuzTDp"
      },
      "execution_count": 86,
      "outputs": []
    },
    {
      "cell_type": "code",
      "source": [
        "argilla_dataset"
      ],
      "metadata": {
        "id": "V4DTXbXCzaT2"
      },
      "execution_count": null,
      "outputs": []
    }
  ]
}