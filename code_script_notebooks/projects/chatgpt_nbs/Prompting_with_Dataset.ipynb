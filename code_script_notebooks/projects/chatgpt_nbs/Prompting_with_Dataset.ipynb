{
 "cells": [
  {
   "cell_type": "code",
   "execution_count": 46,
   "id": "1cbf96cb",
   "metadata": {},
   "outputs": [],
   "source": [
    "#!/usr/bin/env python\n",
    "import json, openai,requests\n",
    "import warnings\n",
    "import os\n",
    "warnings.filterwarnings('ignore')\n",
    "import configparser\n",
    "import datetime\n",
    "from time import sleep"
   ]
  },
  {
   "cell_type": "code",
   "execution_count": 47,
   "id": "b207a083",
   "metadata": {},
   "outputs": [],
   "source": [
    "readKey = configparser.ConfigParser()\n",
    "readKey.read_file(open('apidata.config'))\n",
    "\n",
    "openai_org = readKey['OPENAI'][\"ORG\"]\n",
    "openai_key = readKey['OPENAI']['KEY'] "
   ]
  },
  {
   "cell_type": "code",
   "execution_count": 48,
   "id": "f38ea3ec",
   "metadata": {},
   "outputs": [],
   "source": [
    "import tiktoken\n",
    "import pandas as pd\n",
    "def num_tokens_from_string(string: str, \n",
    "                           encoding_name: str = 'text-davinci-003') -> int:\n",
    "    \"\"\"Returns the number of tokens in a text string.\"\"\"\n",
    "    encoding = tiktoken.encoding_for_model(encoding_name)\n",
    "    num_tokens = len(encoding.encode(string))\n",
    "    return num_tokens"
   ]
  },
  {
   "cell_type": "code",
   "execution_count": 49,
   "id": "50d7fba8",
   "metadata": {},
   "outputs": [
    {
     "data": {
      "text/plain": [
       "8"
      ]
     },
     "execution_count": 49,
     "metadata": {},
     "output_type": "execute_result"
    }
   ],
   "source": [
    "num_tokens_from_string(\"This is my super prompt from Insight Builder\")"
   ]
  },
  {
   "cell_type": "code",
   "execution_count": 50,
   "id": "fe66b1bf",
   "metadata": {},
   "outputs": [
    {
     "name": "stdout",
     "output_type": "stream",
     "text": [
      "What role you want me to play: Data Summarizer\n"
     ]
    }
   ],
   "source": [
    "get_role = input(\"What role you want me to play: \")"
   ]
  },
  {
   "cell_type": "code",
   "execution_count": 51,
   "id": "e743f947",
   "metadata": {},
   "outputs": [],
   "source": [
    "#reading in the dataset sample_data.csv\n",
    "\n",
    "with open('space_titanic.csv','r') as sd:\n",
    "    data = sd.readlines()"
   ]
  },
  {
   "cell_type": "code",
   "execution_count": 54,
   "id": "4bd765e2",
   "metadata": {},
   "outputs": [
    {
     "data": {
      "text/plain": [
       "'PassengerId,HomePlanet,CryoSleep,Cabin,Destination,Age,VIP,RoomService,FoodCourt,ShoppingMall,Spa,VRDeck,Name,Transported\\n'"
      ]
     },
     "execution_count": 54,
     "metadata": {},
     "output_type": "execute_result"
    }
   ],
   "source": [
    "data[0]"
   ]
  },
  {
   "cell_type": "code",
   "execution_count": 59,
   "id": "0682737b",
   "metadata": {},
   "outputs": [],
   "source": [
    "data_chunks = []\n",
    "rng1 = 6"
   ]
  },
  {
   "cell_type": "code",
   "execution_count": 60,
   "id": "fa80d80a",
   "metadata": {},
   "outputs": [
    {
     "data": {
      "text/plain": [
       "['0005_01,Earth,False,F/0/P,PSO J318.5-22,44.0,False,0.0,483.0,0.0,291.0,0.0,Sandie Hinetthews,True\\n',\n",
       " '0006_01,Earth,False,F/2/S,TRAPPIST-1e,26.0,False,42.0,1539.0,3.0,0.0,0.0,Billex Jacostaffey,True\\n',\n",
       " '0006_02,Earth,True,G/0/S,TRAPPIST-1e,28.0,False,0.0,0.0,0.0,0.0,,Candra Jacostaffey,True\\n',\n",
       " '0007_01,Earth,False,F/3/S,TRAPPIST-1e,35.0,False,0.0,785.0,17.0,216.0,0.0,Andona Beston,True\\n',\n",
       " '0008_01,Europa,True,B/1/P,55 Cancri e,14.0,False,0.0,0.0,0.0,0.0,0.0,Erraiam Flatic,True\\n']"
      ]
     },
     "execution_count": 60,
     "metadata": {},
     "output_type": "execute_result"
    }
   ],
   "source": [
    "data[6:11]"
   ]
  },
  {
   "cell_type": "code",
   "execution_count": 8,
   "id": "9c13ddaa",
   "metadata": {},
   "outputs": [],
   "source": [
    "##Version the prompt listing questions"
   ]
  },
  {
   "cell_type": "code",
   "execution_count": 61,
   "id": "c1638bd7",
   "metadata": {},
   "outputs": [
    {
     "name": "stdout",
     "output_type": "stream",
     "text": [
      "before spliting data 6 and 11\n",
      "Number of tokens for the dataset is 376\n",
      "\n",
      "dataset=PassengerId,HomePlanet,CryoSleep,Cabin,Destination,Age,VIP,RoomService,FoodCourt,ShoppingMall,Spa,VRDeck,Name,Transported\n",
      "+['0005_01,Earth,False,F/0/P,PSO J318.5-22,44.0,False,0.0,483.0,0.0,291.0,0.0,Sandie Hinetthews,True\\n', '0006_01,Earth,False,F/2/S,TRAPPIST-1e,26.0,False,42.0,1539.0,3.0,0.0,0.0,Billex Jacostaffey,True\\n', '0006_02,Earth,True,G/0/S,TRAPPIST-1e,28.0,False,0.0,0.0,0.0,0.0,,Candra Jacostaffey,True\\n', '0007_01,Earth,False,F/3/S,TRAPPIST-1e,35.0,False,0.0,785.0,17.0,216.0,0.0,Andona Beston,True\\n', '0008_01,Europa,True,B/1/P,55 Cancri e,14.0,False,0.0,0.0,0.0,0.0,0.0,Erraiam Flatic,True\\n']\n",
      "\n",
      "Prompt:Refer to the [dataset] and list 5 statistical, factual and inferential questions    \n",
      "Answer:\n",
      "\n"
     ]
    }
   ],
   "source": [
    "rng2 = rng1 + 5\n",
    "print(f'before spliting data {rng1} and {rng2}')\n",
    "data_t = f'{data[0]}+{data[rng1:rng2]}'\n",
    "#print(data_t)\n",
    "\n",
    "prompt_made = f\"\"\"\n",
    "dataset={data_t}\n",
    "\n",
    "Prompt:Refer to the [dataset] and list 5 statistical, factual and inferential questions    \n",
    "Answer:\n",
    "\"\"\"\n",
    "print(f'Number of tokens for the dataset is {num_tokens_from_string(prompt_made)}')\n",
    "print(prompt_made)"
   ]
  },
  {
   "cell_type": "code",
   "execution_count": 10,
   "id": "4f8f138f",
   "metadata": {},
   "outputs": [],
   "source": [
    "def chunk_to_df(chunk_num,data_chunk):\n",
    "    \n",
    "    start = data_chunk.split('\\\\n')\n",
    "    \n",
    "    clean_step1 = start[0].strip(' \\n').replace('=','').replace(f'dataset_{chunk_num}','')\n",
    "\n",
    "    clean_step2 = clean_step1.split('\\n+[')\n",
    "    \n",
    "    header = clean_step2[0]\n",
    "    row1 = clean_step2[1]\n",
    "    \n",
    "    clean_row = []\n",
    "    for dat in start[1:]:\n",
    "        clean_row.append(dat.strip(\" ',\"))\n",
    "        \n",
    "    clean_row.insert(0,row1.strip(\"'\"))\n",
    "    clean_row.insert(0,header)\n",
    "    \n",
    "    clean_data_list = [data.split(',') for data in clean_row]\n",
    "    \n",
    "    chunk_df = pd.DataFrame(clean_data_list[1:-1],columns=clean_data_list[0])\n",
    "    \n",
    "    return chunk_df"
   ]
  },
  {
   "cell_type": "code",
   "execution_count": 57,
   "id": "931dcc55",
   "metadata": {},
   "outputs": [],
   "source": [
    "def extract_summary(org,key,\n",
    "                    role_player,\n",
    "                    request_content,\n",
    "                   file_name='summary_tutorial.txt'):\n",
    "    openai.organization = org\n",
    "    openai.api_key= key\n",
    "    response = openai.ChatCompletion.create(\n",
    "        model=\"gpt-3.5-turbo\",\n",
    "        messages=[\n",
    "            {\"role\": \"system\", \n",
    "             \"content\": f\"You are a {role_player}\"},\n",
    "            {\"role\": \"assistant\", \n",
    "             \"content\": f\"I have assumed the role of {role_player}\"},\n",
    "            {\"role\": \"user\", \n",
    "             \"content\": f\"Here is the dataset {request_content}.\"}\n",
    "            ]\n",
    "        )\n",
    "    with open(file_name,'a+') as sumry:\n",
    "        sumry.write(f'Completion for \\n {request_content}')\n",
    "        sumry.write('******Completion starts****** \\n')\n",
    "        sumry.write(str(response['choices'][0]['message']['content']))\n",
    "        sumry.write('*****Completion ends****** \\n')\n",
    "    return response['choices'][0]['message']['content']"
   ]
  },
  {
   "cell_type": "code",
   "execution_count": 13,
   "id": "5f775193",
   "metadata": {},
   "outputs": [],
   "source": [
    "inference_1 = extract_summary(org=openai_org, key=openai_key, \n",
    "                 role_player=get_role, request_content=prompt_made)"
   ]
  },
  {
   "cell_type": "code",
   "execution_count": 63,
   "id": "89787919",
   "metadata": {},
   "outputs": [
    {
     "name": "stdout",
     "output_type": "stream",
     "text": [
      "Statistical Questions:\n",
      "1. What is the mean age of the passengers in the dataset?\n",
      "2. What is the median number of days the passengers spent in cryosleep?\n",
      "3. What is the standard deviation of the VIP status of the passengers?\n",
      "4. What is the correlation between the age of the passengers and the amount spent on shopping mall services?\n",
      "5. What is the mode of the cabin types used by the passengers?\n",
      "\n",
      "Factual Questions:\n",
      "1. How many passengers were transported in total?\n",
      "2. What was the most commonly visited destination by the passengers?\n",
      "3. How many passengers used the Room Service during their trip?\n",
      "4. What was the average age of the passengers who visited the Spa?\n",
      "5. How many passengers came from Earth?\n",
      "\n",
      "Inferential Questions:\n",
      "1. Can we infer that the passengers who used VRDeck were more likely to use Spa as well?\n",
      "2. Can we infer that there is a relationship between age and VIP status based on the data?\n",
      "3. Can we infer that passengers who had higher expenditures on Shopping Mall services were also more likely to use Room Service?\n",
      "4. Can we infer that passengers who had a Cabin type of \"B/1/P\" were more likely to have used the Spa services?\n",
      "5. Can we infer that there is a significant difference in the number of days spent in cryosleep by passengers from Earth compared to those from other planets?\n"
     ]
    }
   ],
   "source": [
    "print(inference_1)"
   ]
  },
  {
   "cell_type": "code",
   "execution_count": 64,
   "id": "6d01206a",
   "metadata": {
    "scrolled": true
   },
   "outputs": [],
   "source": [
    "questions_list = inference_1.split('\\n')"
   ]
  },
  {
   "cell_type": "code",
   "execution_count": 65,
   "id": "24c1532e",
   "metadata": {},
   "outputs": [
    {
     "data": {
      "text/plain": [
       "['Statistical Questions:',\n",
       " '1. What is the average age of passengers on this trip?',\n",
       " '2. What is the standard deviation of the shopping mall expenses for the passengers?',\n",
       " '3. What is the correlation between VIP status and room service expenses among passengers? ',\n",
       " '4. What is the mean food court expense of passengers transported from Europa? ',\n",
       " '5. What is the proportion of passengers who used the VRDeck facility?',\n",
       " '',\n",
       " 'Factual Questions:',\n",
       " '1. What is the name of the passenger transported on ship 0001_01? ',\n",
       " '2. Which passenger had the highest spa expenses?',\n",
       " '3. What is the cabin type of the passenger named Juanna Vines? ',\n",
       " '4. What was the destination of the passenger transported on ship 0003_02? ',\n",
       " '5. What is the home planet of the passenger with the lowest room service expenses? ',\n",
       " '',\n",
       " 'Inferential Questions:',\n",
       " '1. Can we infer that younger passengers on this trip spent less on room service and spa facilities?',\n",
       " '2. Is there evidence to suggest that passengers with VIP status spent more on shopping mall and food court expenses?',\n",
       " '3. Can we infer that passengers transported from Earth spent more on VRDeck usage than those from Europa?',\n",
       " '4. Is there a significant difference in cabin types between passengers with and without VIP status?',\n",
       " \"5. Can we infer that the amount spent on spa, VRDeck, and shopping mall facilities are predictors of a passenger's home planet?\"]"
      ]
     },
     "execution_count": 65,
     "metadata": {},
     "output_type": "execute_result"
    }
   ],
   "source": [
    "questions_list"
   ]
  },
  {
   "cell_type": "code",
   "execution_count": 66,
   "id": "2bc17cf2",
   "metadata": {},
   "outputs": [
    {
     "data": {
      "text/plain": [
       "['1. What is the average age of passengers on this trip?',\n",
       " '2. What is the standard deviation of the shopping mall expenses for the passengers?',\n",
       " '3. What is the correlation between VIP status and room service expenses among passengers? ',\n",
       " '4. What is the mean food court expense of passengers transported from Europa? ',\n",
       " '5. What is the proportion of passengers who used the VRDeck facility?']"
      ]
     },
     "execution_count": 66,
     "metadata": {},
     "output_type": "execute_result"
    }
   ],
   "source": [
    "questions_list[1:6]"
   ]
  },
  {
   "cell_type": "code",
   "execution_count": 67,
   "id": "3a9d63c5",
   "metadata": {},
   "outputs": [
    {
     "data": {
      "text/plain": [
       "['1. What is the name of the passenger transported on ship 0001_01? ',\n",
       " '2. Which passenger had the highest spa expenses?',\n",
       " '3. What is the cabin type of the passenger named Juanna Vines? ',\n",
       " '4. What was the destination of the passenger transported on ship 0003_02? ',\n",
       " '5. What is the home planet of the passenger with the lowest room service expenses? ']"
      ]
     },
     "execution_count": 67,
     "metadata": {},
     "output_type": "execute_result"
    }
   ],
   "source": [
    "questions_list[8:13]"
   ]
  },
  {
   "cell_type": "code",
   "execution_count": 68,
   "id": "ee28e3ee",
   "metadata": {},
   "outputs": [
    {
     "data": {
      "text/plain": [
       "['1. Can we infer that younger passengers on this trip spent less on room service and spa facilities?',\n",
       " '2. Is there evidence to suggest that passengers with VIP status spent more on shopping mall and food court expenses?',\n",
       " '3. Can we infer that passengers transported from Earth spent more on VRDeck usage than those from Europa?',\n",
       " '4. Is there a significant difference in cabin types between passengers with and without VIP status?',\n",
       " \"5. Can we infer that the amount spent on spa, VRDeck, and shopping mall facilities are predictors of a passenger's home planet?\"]"
      ]
     },
     "execution_count": 68,
     "metadata": {},
     "output_type": "execute_result"
    }
   ],
   "source": [
    "questions_list[15:21]"
   ]
  },
  {
   "cell_type": "code",
   "execution_count": 19,
   "id": "9d287d60",
   "metadata": {
    "scrolled": true
   },
   "outputs": [
    {
     "data": {
      "text/plain": [
       "['1. What is the name of the passenger transported on ship 0001_01? ',\n",
       " '2. Which passenger had the highest spa expenses?',\n",
       " '3. What is the cabin type of the passenger named Juanna Vines? ',\n",
       " '4. What was the destination of the passenger transported on ship 0003_02? ',\n",
       " '5. What is the home planet of the passenger with the lowest room service expenses? ',\n",
       " '']"
      ]
     },
     "execution_count": 19,
     "metadata": {},
     "output_type": "execute_result"
    }
   ],
   "source": [
    "questions_list[8:14]"
   ]
  },
  {
   "cell_type": "code",
   "execution_count": null,
   "id": "15314fd4",
   "metadata": {},
   "outputs": [],
   "source": [
    "questions_list = ['Tell me about the number of rows in dataset','Who are the travellers in the dataset?']"
   ]
  },
  {
   "cell_type": "code",
   "execution_count": null,
   "id": "5366d815",
   "metadata": {},
   "outputs": [],
   "source": [
    "questions_list = [questions_list[0],questions_list[10],questions_list[15:20]]"
   ]
  },
  {
   "cell_type": "code",
   "execution_count": 72,
   "id": "431221ac",
   "metadata": {},
   "outputs": [
    {
     "data": {
      "text/plain": [
       "list"
      ]
     },
     "execution_count": 72,
     "metadata": {},
     "output_type": "execute_result"
    }
   ],
   "source": [
    "type(questions_list[8:13])"
   ]
  },
  {
   "cell_type": "code",
   "execution_count": 69,
   "id": "7bbe885f",
   "metadata": {},
   "outputs": [],
   "source": [
    "quest_string = ''\n",
    "for string in questions_list[8:13]:\n",
    "    quest_string = quest_string + string.split('.')[1]"
   ]
  },
  {
   "cell_type": "code",
   "execution_count": 70,
   "id": "49e1dc90",
   "metadata": {},
   "outputs": [
    {
     "data": {
      "text/plain": [
       "' What is the name of the passenger transported on ship 0001_01?  Which passenger had the highest spa expenses? What is the cabin type of the passenger named Juanna Vines?  What was the destination of the passenger transported on ship 0003_02?  What is the home planet of the passenger with the lowest room service expenses? '"
      ]
     },
     "execution_count": 70,
     "metadata": {},
     "output_type": "execute_result"
    }
   ],
   "source": [
    "quest_string"
   ]
  },
  {
   "cell_type": "code",
   "execution_count": 25,
   "id": "53e30606",
   "metadata": {},
   "outputs": [],
   "source": [
    "###Follow up design prompt"
   ]
  },
  {
   "cell_type": "code",
   "execution_count": 73,
   "id": "9a3df977",
   "metadata": {
    "scrolled": true
   },
   "outputs": [
    {
     "name": "stdout",
     "output_type": "stream",
     "text": [
      "before spliting data 1 and 6\n",
      "Number of tokens for the dataset is 460\n",
      "\n",
      "dataset=PassengerId,HomePlanet,CryoSleep,Cabin,Destination,Age,VIP,RoomService,FoodCourt,ShoppingMall,Spa,VRDeck,Name,Transported\n",
      "+['0001_01,Europa,False,B/0/P,TRAPPIST-1e,39.0,False,0.0,0.0,0.0,0.0,0.0,Maham Ofracculy,False\\n', '0002_01,Earth,False,F/0/S,TRAPPIST-1e,24.0,False,109.0,9.0,25.0,549.0,44.0,Juanna Vines,True\\n', '0003_01,Europa,False,A/0/S,TRAPPIST-1e,58.0,True,43.0,3576.0,0.0,6715.0,49.0,Altark Susent,False\\n', '0003_02,Europa,False,A/0/S,TRAPPIST-1e,33.0,False,0.0,1283.0,371.0,3329.0,193.0,Solam Susent,False\\n', '0004_01,Earth,False,F/1/S,TRAPPIST-1e,16.0,False,303.0,70.0,151.0,565.0,2.0,Willy Santantines,True\\n']\n",
      "\n",
      "Prompt:Refer to the [dataset] and answer succinctly to the following questions. \n",
      " What is the name of the passenger transported on ship 0001_01?  Which passenger had the highest spa expenses? What is the cabin type of the passenger named Juanna Vines?  What was the destination of the passenger transported on ship 0003_02?  What is the home planet of the passenger with the lowest room service expenses? \n",
      "At the end print COMPLETED designed INFERENCE\n",
      "\n",
      "Answer:\n",
      "\n"
     ]
    }
   ],
   "source": [
    "rng1 = 1\n",
    "rng2 = rng1 + 5\n",
    "print(f'before spliting data {rng1} and {rng2}')\n",
    "data_t = f'{data[0]}+{data[rng1:rng2]}'\n",
    "#print(data_t)\n",
    "prompt_made = f\"\"\"\n",
    "dataset={data_t}\n",
    "\n",
    "Prompt:Refer to the [dataset] and answer succinctly to the following questions. \n",
    "{quest_string}\n",
    "At the end print COMPLETED designed INFERENCE\n",
    "\n",
    "Answer:\n",
    "\"\"\"\n",
    "print(f'Number of tokens for the dataset is {num_tokens_from_string(prompt_made)}')\n",
    "print(prompt_made)"
   ]
  },
  {
   "cell_type": "code",
   "execution_count": 35,
   "id": "53a96ac0",
   "metadata": {},
   "outputs": [],
   "source": [
    "designed_summary =  extract_summary(org=openai_org, key=openai_key, \n",
    "                 role_player=get_role, request_content=prompt_made)"
   ]
  },
  {
   "cell_type": "code",
   "execution_count": 36,
   "id": "76458b5f",
   "metadata": {
    "scrolled": true
   },
   "outputs": [
    {
     "name": "stdout",
     "output_type": "stream",
     "text": [
      "The name of the passenger transported on ship 0001_01 is Maham Ofracculy. The passenger with the highest spa expenses is Altark Susent. The cabin type of the passenger named Juanna Vines is F/0/S. The destination of the passenger transported on ship 0003_02 is TRAPPIST-1e. The home planet of the passenger with the lowest room service expenses is Europa. COMPLETED designed INFERENCE.\n"
     ]
    }
   ],
   "source": [
    "print(designed_summary)"
   ]
  },
  {
   "cell_type": "code",
   "execution_count": 37,
   "id": "85cdf78c",
   "metadata": {},
   "outputs": [
    {
     "data": {
      "text/plain": [
       "93"
      ]
     },
     "execution_count": 37,
     "metadata": {},
     "output_type": "execute_result"
    }
   ],
   "source": [
    "num_tokens_from_string(designed_summary)"
   ]
  },
  {
   "cell_type": "code",
   "execution_count": null,
   "id": "32f69b7d",
   "metadata": {},
   "outputs": [],
   "source": [
    "#check if gpt can make such inferences directly"
   ]
  },
  {
   "cell_type": "code",
   "execution_count": 77,
   "id": "adaa4966",
   "metadata": {},
   "outputs": [
    {
     "name": "stdout",
     "output_type": "stream",
     "text": [
      "before spliting data 41 and 46\n",
      "Number of tokens for the dataset is 377\n",
      "\n",
      "dataset=PassengerId,HomePlanet,CryoSleep,Cabin,Destination,Age,VIP,RoomService,FoodCourt,ShoppingMall,Spa,VRDeck,Name,Transported\n",
      "+['0039_01,Earth,True,G/1/P,55 Cancri e,30.0,False,0.0,0.0,,0.0,0.0,Jorgie Batthewitt,False\\n', '0041_01,Earth,True,G/2/P,TRAPPIST-1e,17.0,False,0.0,0.0,0.0,0.0,0.0,Margia Moodsey,True\\n', '0043_01,Europa,False,B/3/P,TRAPPIST-1e,45.0,False,0.0,164.0,45.0,2511.0,855.0,Ankalik Cylistrand,False\\n', '0044_01,Earth,True,G/3/P,TRAPPIST-1e,55.0,False,0.0,0.0,0.0,0.0,0.0,Jodye Coopelandez,False\\n', '0044_02,Earth,True,G/3/P,55 Cancri e,4.0,False,0.0,0.0,0.0,0.0,0.0,Kayne Coopelandez,True\\n']\n",
      "\n",
      "Prompt:Refer to the [dataset] and succinctly list 10 statistical, factual and inferences    \n",
      "Answer:\n",
      "\n"
     ]
    }
   ],
   "source": [
    "rng2 = rng1 + 5\n",
    "print(f'before spliting data {rng1} and {rng2}')\n",
    "data_t = f'{data[0]}+{data[rng1:rng2]}'\n",
    "#print(data_t)\n",
    "prompt_made = f\"\"\"\n",
    "dataset={data_t}\n",
    "\n",
    "Prompt:Refer to the [dataset] and succinctly list 10 statistical, factual and inferences    \n",
    "Answer:\n",
    "\"\"\"\n",
    "print(f'Number of tokens for the dataset is {num_tokens_from_string(prompt_made)}')\n",
    "print(prompt_made)"
   ]
  },
  {
   "cell_type": "code",
   "execution_count": 78,
   "id": "ce03aa3d",
   "metadata": {},
   "outputs": [],
   "source": [
    "inference_possiblity =  extract_summary(org=openai_org, key=openai_key, \n",
    "                 role_player=get_role, request_content=prompt_made)"
   ]
  },
  {
   "cell_type": "code",
   "execution_count": 79,
   "id": "e5ab37e1",
   "metadata": {
    "scrolled": true
   },
   "outputs": [
    {
     "data": {
      "text/plain": [
       "'1. The dataset contains information on individuals who have undergone cryosleep.\\n2. Home planet, cabin, destination, and age are recorded for each individual.\\n3. There are VIP individuals who have access to room service, food court, shopping mall, spa, and VR deck.\\n4. Some individuals have been transported to their destination while some have not.\\n5. The dataset contains information on individuals from multiple planets, including Earth and Europa.\\n6. The age of individuals ranges from 4 to 55 years old.\\n7. There are individuals who were transported to both TRAPPIST-1e and 55 Cancri e.\\n8. The dataset contains at least 5 entries.\\n9. There are individuals with similar last names (Coopelandez).\\n10. There is missing data for some amenities, as some individuals have NaN values for shopping mall or spa access.'"
      ]
     },
     "execution_count": 79,
     "metadata": {},
     "output_type": "execute_result"
    }
   ],
   "source": [
    "inference_possiblity"
   ]
  },
  {
   "cell_type": "markdown",
   "id": "6d21d3fd",
   "metadata": {},
   "source": [
    "### Creating a loop for completing the entire dataset"
   ]
  },
  {
   "cell_type": "code",
   "execution_count": 74,
   "id": "f2cf5de4",
   "metadata": {},
   "outputs": [
    {
     "name": "stdout",
     "output_type": "stream",
     "text": [
      "1\n",
      "2\n",
      "3\n",
      "4\n"
     ]
    }
   ],
   "source": [
    "for x in range(1,5):\n",
    "    print(x)"
   ]
  },
  {
   "cell_type": "code",
   "execution_count": 78,
   "id": "c6161955",
   "metadata": {},
   "outputs": [
    {
     "data": {
      "text/plain": [
       "344.0"
      ]
     },
     "execution_count": 78,
     "metadata": {},
     "output_type": "execute_result"
    }
   ],
   "source": [
    "8600/25"
   ]
  },
  {
   "cell_type": "code",
   "execution_count": 83,
   "id": "39568101",
   "metadata": {},
   "outputs": [
    {
     "name": "stdout",
     "output_type": "stream",
     "text": [
      "before spliting data 1 and 26\n",
      "Number of tokens for the dataset is 1636\n",
      "before spliting data 26 and 51\n",
      "Number of tokens for the dataset is 1625\n",
      "before spliting data 51 and 76\n",
      "Number of tokens for the dataset is 1635\n",
      "before spliting data 76 and 101\n",
      "Number of tokens for the dataset is 1630\n"
     ]
    }
   ],
   "source": [
    "inference_requests = []\n",
    "rng1 = 1\n",
    "for x in range(1,5):\n",
    "    rng2 = rng1 + 25\n",
    "    print(f'before spliting data {rng1} and {rng2}')\n",
    "    data_t = f'{data[0]}+{data[rng1:rng2]}'\n",
    "    #print(data_t)\n",
    "    prompt_made = f\"\"\"\n",
    "    dataset={data_t}\n",
    "\n",
    "    Prompt:Refer to the [dataset] and in 300 words answer the following questions.\n",
    "    Do not print the questions. \n",
    "    {quest_string}\n",
    "    At the end print COMPLETED INFERENCE\n",
    "\n",
    "    Answer:\n",
    "    \"\"\"\n",
    "    print(f'Number of tokens for the dataset is {num_tokens_from_string(prompt_made)}')\n",
    "    inference_requests.append(prompt_made)\n",
    "    rng1 = rng1 + 25"
   ]
  },
  {
   "cell_type": "code",
   "execution_count": 84,
   "id": "cb5a001f",
   "metadata": {},
   "outputs": [
    {
     "name": "stdout",
     "output_type": "stream",
     "text": [
      "\n",
      "    dataset=PassengerId,HomePlanet,CryoSleep,Cabin,Destination,Age,VIP,RoomService,FoodCourt,ShoppingMall,Spa,VRDeck,Name,Transported\n",
      "+['0082_01,Mars,False,F/16/P,TRAPPIST-1e,42.0,False,7406.0,0.0,0.0,0.0,0.0,Totse Datte,False\\n', '0082_02,Mars,True,F/16/P,TRAPPIST-1e,2.0,False,0.0,0.0,0.0,0.0,0.0,Eaturs Datte,True\\n', '0082_03,Mars,False,F/16/P,TRAPPIST-1e,8.0,False,0.0,0.0,0.0,0.0,0.0,,True\\n', '0084_01,Earth,False,G/14/S,TRAPPIST-1e,24.0,False,688.0,0.0,0.0,0.0,17.0,Coren Coopezmaney,True\\n', '0085_01,Europa,True,C/5/S,TRAPPIST-1e,40.0,False,0.0,0.0,0.0,0.0,0.0,Furudah Ellcefulve,True\\n', '0086_01,Earth,False,F/17/P,TRAPPIST-1e,43.0,False,211.0,0.0,0.0,638.0,513.0,Jodye Kinson,False\\n', '0088_01,Mars,True,E/5/S,PSO J318.5-22,45.0,False,0.0,0.0,0.0,0.0,0.0,Stmeal Sacre,True\\n', '0090_01,Earth,True,G/15/S,TRAPPIST-1e,35.0,False,0.0,0.0,0.0,0.0,0.0,Heremy Santry,True\\n', '0091_01,Earth,True,G/16/S,TRAPPIST-1e,26.0,False,,0.0,0.0,0.0,0.0,Deanne Yorkland,True\\n', '0091_02,Earth,False,F/20/S,TRAPPIST-1e,27.0,False,1.0,697.0,31.0,188.0,0.0,Tinez Yorkland,False\\n', '0092_01,Earth,False,G/9/P,TRAPPIST-1e,19.0,False,0.0,0.0,670.0,1.0,34.0,Gracy Dunnisey,False\\n', '0092_02,Earth,True,G/9/P,TRAPPIST-1e,0.0,False,0.0,0.0,,0.0,0.0,Stald Hewson,True\\n', '0092_03,Earth,True,G/9/P,TRAPPIST-1e,3.0,False,0.0,0.0,0.0,0.0,0.0,Tiney Hewson,True\\n', '0097_01,Europa,False,A/2/S,TRAPPIST-1e,54.0,False,0.0,1208.0,0.0,3.0,637.0,Alchium Fictful,False\\n', '0098_01,Earth,False,G/11/P,TRAPPIST-1e,26.0,False,0.0,856.0,5.0,32.0,0.0,Doria Carezquez,False\\n', '0098_02,Earth,False,G/11/P,TRAPPIST-1e,26.0,False,0.0,2811.0,957.0,0.0,87.0,Leence Carezquez,True\\n', '0099_01,Earth,False,F/19/P,PSO J318.5-22,23.0,False,311.0,427.0,526.0,37.0,0.0,Aliey Leetersoney,False\\n', '0099_02,Earth,,G/12/P,TRAPPIST-1e,2.0,False,0.0,0.0,0.0,0.0,0.0,Thewis Connelson,True\\n', '0101_01,Mars,True,,TRAPPIST-1e,31.0,False,0.0,0.0,0.0,0.0,0.0,Book Trad,True\\n', '0102_01,Earth,False,F/23/S,TRAPPIST-1e,18.0,False,0.0,0.0,0.0,830.0,91.0,Ritany Holson,False\\n', '0103_01,Earth,False,F/24/S,TRAPPIST-1e,24.0,False,0.0,,0.0,0.0,17.0,Arlen Mclainez,True\\n', '0103_02,Earth,True,G/18/S,55 Cancri e,9.0,False,0.0,0.0,0.0,0.0,0.0,Shaele Mclainez,True\\n', '0103_03,Earth,True,G/18/S,TRAPPIST-1e,6.0,False,0.0,0.0,0.0,0.0,0.0,Fanne Mclainez,False\\n', '0105_01,Earth,,F/21/P,TRAPPIST-1e,27.0,False,0.0,0.0,570.0,2.0,131.0,Carry Cleachrand,False\\n', '0107_01,Mars,False,D/2/S,TRAPPIST-1e,21.0,False,1743.0,5.0,17.0,0.0,0.0,Coobix Hart,False\\n']\n",
      "\n",
      "    Prompt:Refer to the [dataset] and in 300 words answer the following questions.\n",
      "    Do not print the questions. \n",
      "     What is the name of the passenger transported on ship 0001_01?  Which passenger had the highest spa expenses? What is the cabin type of the passenger named Juanna Vines?  What was the destination of the passenger transported on ship 0003_02?  What is the home planet of the passenger with the lowest room service expenses? \n",
      "    At the end print COMPLETED INFERENCE\n",
      "\n",
      "    Answer:\n",
      "    \n"
     ]
    }
   ],
   "source": [
    "print(inference_requests[3])"
   ]
  },
  {
   "cell_type": "code",
   "execution_count": 85,
   "id": "572ae097",
   "metadata": {},
   "outputs": [
    {
     "data": {
      "text/plain": [
       "4"
      ]
     },
     "execution_count": 85,
     "metadata": {},
     "output_type": "execute_result"
    }
   ],
   "source": [
    "len(inference_requests)"
   ]
  },
  {
   "cell_type": "code",
   "execution_count": 86,
   "id": "efb9f02d",
   "metadata": {},
   "outputs": [],
   "source": [
    "for ind,inf in enumerate(inference_requests):\n",
    "    comp = extract_summary(org=openai_org, key=openai_key, \n",
    "                 role_player=get_role, request_content=inf)"
   ]
  },
  {
   "cell_type": "code",
   "execution_count": 87,
   "id": "58fe1173",
   "metadata": {},
   "outputs": [
    {
     "data": {
      "text/plain": [
       "'After analyzing the provided dataset, we can answer the following questions:\\n\\n1. What is the name of the passenger transported on ship 0001_01?\\nUnfortunately, we cannot answer this question because the dataset does not include ship 0001_01.\\n\\n2. Which passenger had the highest spa expenses?\\nThe passenger with the highest spa expenses is Jodye Kinson, transported to TRAPPIST-1e from Earth on ship 0086_01. Their spa expenses were $513.\\n\\n3. What is the cabin type of the passenger named Juanna Vines?\\nWe cannot answer this question because the dataset does not include information about the cabin type of a passenger named Juanna Vines.\\n\\n4. What was the destination of the passenger transported on ship 0003_02?\\nWe cannot answer this question because the dataset does not include information about the destination of a passenger transported on ship 0003_02.\\n\\n5. What is the home planet of the passenger with the lowest room service expenses?\\nThe passenger with the lowest room service expenses is Totse Datte, transported from Mars on ship 0082_01 to TRAPPIST-1e, and their home planet is Mars.\\n\\nIn conclusion, we were able to answer some of the questions, while we were unable to answer others due to missing information in the provided dataset. Therefore, the analysis of the data is limited, and more information would be required to provide more accurate and comprehensive answers. COMPLETED INFERENCE.'"
      ]
     },
     "execution_count": 87,
     "metadata": {},
     "output_type": "execute_result"
    }
   ],
   "source": [
    "comp"
   ]
  },
  {
   "cell_type": "markdown",
   "id": "842ac701",
   "metadata": {},
   "source": [
    "### Can we AI to remember the dataset and finetune the prompt???"
   ]
  }
 ],
 "metadata": {
  "kernelspec": {
   "display_name": "Python 3 (ipykernel)",
   "language": "python",
   "name": "python3"
  },
  "language_info": {
   "codemirror_mode": {
    "name": "ipython",
    "version": 3
   },
   "file_extension": ".py",
   "mimetype": "text/x-python",
   "name": "python",
   "nbconvert_exporter": "python",
   "pygments_lexer": "ipython3",
   "version": "3.10.9"
  }
 },
 "nbformat": 4,
 "nbformat_minor": 5
}
