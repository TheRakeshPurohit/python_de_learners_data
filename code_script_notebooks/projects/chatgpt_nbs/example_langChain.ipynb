{
  "nbformat": 4,
  "nbformat_minor": 0,
  "metadata": {
    "colab": {
      "provenance": []
    },
    "kernelspec": {
      "name": "python3",
      "display_name": "Python 3"
    },
    "language_info": {
      "name": "python"
    }
  },
  "cells": [
    {
      "cell_type": "code",
      "execution_count": null,
      "metadata": {
        "id": "6hJhhPPF_nX8"
      },
      "outputs": [],
      "source": [
        "!pip install langchain[all] chromadb\n",
        "!pip install layoutparser[layoutmodels,tesseract]\n",
        "!pip install unstructured\n",
        "!pip install unstructured[local-inference]\n",
        "!pip install --ignore-installed Pillow==9.0.0"
      ]
    },
    {
      "cell_type": "code",
      "source": [
        "!pip install google-search-results"
      ],
      "metadata": {
        "id": "M7LhnudyCgkg"
      },
      "execution_count": null,
      "outputs": []
    },
    {
      "cell_type": "code",
      "source": [
        "!pip install configparser"
      ],
      "metadata": {
        "id": "ucJ31ot-PuNL"
      },
      "execution_count": null,
      "outputs": []
    },
    {
      "cell_type": "code",
      "source": [
        "import configparser\n",
        "api_config = configparser.ConfigParser()\n",
        "api_config.read_file(open('apidata.config'))"
      ],
      "metadata": {
        "id": "qug7p5bkPwWV"
      },
      "execution_count": null,
      "outputs": []
    },
    {
      "cell_type": "code",
      "source": [
        "import os\n",
        "os.environ['OPENAI_API_KEY'] = api_config[\"OPENAI\"][\"KEY\"]\n",
        "os.environ['SERPAPI_API_KEY']=api_config[\"OPENAI\"][\"SERPAPI_KEY\"]\n",
        "os.environ['SERPER_API_KEY']=api_config[\"OPENAI\"][\"SERPER_KEY\"]"
      ],
      "metadata": {
        "id": "vo5o9wJa_yxh"
      },
      "execution_count": null,
      "outputs": []
    },
    {
      "cell_type": "code",
      "source": [
        "from langchain.llms import OpenAI\n",
        "\n",
        "langModel = OpenAI(temperature=0.9)\n",
        "text = \"Provide me top 5 birthday gift ideas for a 18 year old?\"\n",
        "print(langModel(text))"
      ],
      "metadata": {
        "colab": {
          "base_uri": "https://localhost:8080/"
        },
        "id": "u0kFJmXiAc7k",
        "outputId": "fe7235ec-1158-41b8-a95e-7a68b8f150ec"
      },
      "execution_count": null,
      "outputs": [
        {
          "output_type": "stream",
          "name": "stdout",
          "text": [
            "\n",
            "\n",
            "1. Electronic Accessories: Music Players, Earphones, Smart Watches etc\n",
            "2. Subscription to a Video Streaming Service\n",
            "3. A New Laptop or Smartphone\n",
            "4. Sport Equipment or Clothing\n",
            "5. A Weekend Vacation\n"
          ]
        }
      ]
    },
    {
      "cell_type": "code",
      "source": [
        "from langchain import PromptTemplate\n",
        "\n",
        "one_input_prompt = PromptTemplate(input_variables=[\"topic\"], \n",
        "                                  template=\"Provide me {topic} for a 18 year old.\")\n",
        "one_input_prompt.format(topic=\"3 books suggestion\")"
      ],
      "metadata": {
        "colab": {
          "base_uri": "https://localhost:8080/",
          "height": 35
        },
        "id": "714hpqmDATyz",
        "outputId": "7b4b7097-dc34-409d-d2f0-f9379d2f3db2"
      },
      "execution_count": null,
      "outputs": [
        {
          "output_type": "execute_result",
          "data": {
            "text/plain": [
              "'Provide me 3 books suggestion for a 18 year old.'"
            ],
            "application/vnd.google.colaboratory.intrinsic+json": {
              "type": "string"
            }
          },
          "metadata": {},
          "execution_count": 60
        }
      ]
    },
    {
      "cell_type": "code",
      "source": [
        "multiple_input_prompt = PromptTemplate(\n",
        "    input_variables=[\"topic\", \"age\"], \n",
        "    template=\"Provide me top 3 {topic} for a {age} year old.\"\n",
        ")\n",
        "multiple_input_prompt.format(topic='Cartoons',age='10')"
      ],
      "metadata": {
        "colab": {
          "base_uri": "https://localhost:8080/",
          "height": 35
        },
        "id": "I2vTKtUVAJcq",
        "outputId": "7e61fd50-021d-40df-aa9e-e7d389d5ef04"
      },
      "execution_count": null,
      "outputs": [
        {
          "output_type": "execute_result",
          "data": {
            "text/plain": [
              "'Provide me top 3 Cartoons for a 10 year old.'"
            ],
            "application/vnd.google.colaboratory.intrinsic+json": {
              "type": "string"
            }
          },
          "metadata": {},
          "execution_count": 61
        }
      ]
    },
    {
      "cell_type": "code",
      "source": [
        "from langchain.prompts import PromptTemplate\n",
        "from langchain.llms import OpenAI\n",
        "\n",
        "from langchain.chains import LLMChain\n",
        "\n",
        "topicChain = LLMChain(llm=langModel, prompt=multiple_input_prompt)\n",
        "topicChain.run(topic='Tourist Spots', age = 21)"
      ],
      "metadata": {
        "colab": {
          "base_uri": "https://localhost:8080/",
          "height": 35
        },
        "id": "ZflbAETuAJYW",
        "outputId": "8bb5c16a-498b-448e-a458-5598a27b04ef"
      },
      "execution_count": null,
      "outputs": [
        {
          "output_type": "execute_result",
          "data": {
            "text/plain": [
              "'\\n\\n1. Great Barrier Reef, Australia\\n2. Grand Canyon, USA\\n3. Giza Necropolis, Egypt'"
            ],
            "application/vnd.google.colaboratory.intrinsic+json": {
              "type": "string"
            }
          },
          "metadata": {},
          "execution_count": 62
        }
      ]
    },
    {
      "cell_type": "code",
      "source": [
        "from langchain.agents import load_tools\n",
        "from langchain.agents import initialize_agent\n",
        "\n",
        "fact_llm = OpenAI(temperature=0)\n",
        "\n",
        "tool_chain = load_tools([\"serpapi\", \"llm-math\"], llm=fact_llm)\n",
        "\n",
        "agent_decider = initialize_agent(tool_chain, \n",
        "                                 fact_llm, \n",
        "                                 agent=\"zero-shot-react-description\", \n",
        "                                 verbose=True)\n",
        "\n",
        "\n",
        "agent_decider.run(\"When was Earth born? And how many days it has been since its birth?\")"
      ],
      "metadata": {
        "colab": {
          "base_uri": "https://localhost:8080/",
          "height": 343
        },
        "id": "6XeeQtI9AJTy",
        "outputId": "a08afd30-b630-471a-a15d-642ec3f4d672"
      },
      "execution_count": null,
      "outputs": [
        {
          "output_type": "stream",
          "name": "stdout",
          "text": [
            "\n",
            "\n",
            "\u001b[1m> Entering new AgentExecutor chain...\u001b[0m\n",
            "\u001b[32;1m\u001b[1;3m I need to find out when Earth was born and how many days have passed since then.\n",
            "Action: Search\n",
            "Action Input: \"When was Earth born?\"\u001b[0m\n",
            "Observation: \u001b[36;1m\u001b[1;3mabout 4.5 billion years ago\u001b[0m\n",
            "Thought:\u001b[32;1m\u001b[1;3m I need to calculate how many days have passed since then\n",
            "Action: Calculator\n",
            "Action Input: 4.5 billion years * 365 days\u001b[0m\n",
            "Observation: \u001b[33;1m\u001b[1;3mAnswer: 16422500000000 days\u001b[0m\n",
            "Thought:\u001b[32;1m\u001b[1;3m I now know the final answer\n",
            "Final Answer: Earth was born about 4.5 billion years ago and it has been 16422500000000 days since then.\u001b[0m\n",
            "\n",
            "\u001b[1m> Finished chain.\u001b[0m\n"
          ]
        },
        {
          "output_type": "execute_result",
          "data": {
            "text/plain": [
              "'Earth was born about 4.5 billion years ago and it has been 16422500000000 days since then.'"
            ],
            "application/vnd.google.colaboratory.intrinsic+json": {
              "type": "string"
            }
          },
          "metadata": {},
          "execution_count": 63
        }
      ]
    },
    {
      "cell_type": "code",
      "source": [
        "from langchain import ConversationChain\n",
        "convo_chain = ConversationChain(llm=fact_llm, verbose=True)\n",
        "convo_chain.predict(input='Convert the 16422500000000 in to billion')"
      ],
      "metadata": {
        "colab": {
          "base_uri": "https://localhost:8080/",
          "height": 271
        },
        "id": "kGkE2-6sAJNj",
        "outputId": "aacaecf3-c40e-49b7-920d-80951010e579"
      },
      "execution_count": null,
      "outputs": [
        {
          "output_type": "stream",
          "name": "stdout",
          "text": [
            "\n",
            "\n",
            "\u001b[1m> Entering new ConversationChain chain...\u001b[0m\n",
            "Prompt after formatting:\n",
            "\u001b[32;1m\u001b[1;3mThe following is a friendly conversation between a human and an AI. The AI is talkative and provides lots of specific details from its context. If the AI does not know the answer to a question, it truthfully says it does not know.\n",
            "\n",
            "Current conversation:\n",
            "\n",
            "Human: Convert the 16422500000000 in to billion\n",
            "AI:\u001b[0m\n",
            "\n",
            "\u001b[1m> Finished chain.\u001b[0m\n"
          ]
        },
        {
          "output_type": "execute_result",
          "data": {
            "text/plain": [
              "' 16422500000000 is equal to 1642.25 billion.'"
            ],
            "application/vnd.google.colaboratory.intrinsic+json": {
              "type": "string"
            }
          },
          "metadata": {},
          "execution_count": 64
        }
      ]
    },
    {
      "cell_type": "code",
      "source": [
        "convo_chain.predict(input='The number I gave earlier was in days, convert it into hours')"
      ],
      "metadata": {
        "colab": {
          "base_uri": "https://localhost:8080/",
          "height": 289
        },
        "id": "M9hwsxYyEFag",
        "outputId": "4df01e38-be94-45d5-c733-ad9a19861cc6"
      },
      "execution_count": null,
      "outputs": [
        {
          "output_type": "stream",
          "name": "stdout",
          "text": [
            "\n",
            "\n",
            "\u001b[1m> Entering new ConversationChain chain...\u001b[0m\n",
            "Prompt after formatting:\n",
            "\u001b[32;1m\u001b[1;3mThe following is a friendly conversation between a human and an AI. The AI is talkative and provides lots of specific details from its context. If the AI does not know the answer to a question, it truthfully says it does not know.\n",
            "\n",
            "Current conversation:\n",
            "Human: Convert the 16422500000000 in to billion\n",
            "AI:  16422500000000 is equal to 1642.25 billion.\n",
            "Human: The number I gave earlier was in days, convert it into hours\n",
            "AI:\u001b[0m\n",
            "\n",
            "\u001b[1m> Finished chain.\u001b[0m\n"
          ]
        },
        {
          "output_type": "execute_result",
          "data": {
            "text/plain": [
              "' 16422500000000 days is equal to 3.945e+14 hours.'"
            ],
            "application/vnd.google.colaboratory.intrinsic+json": {
              "type": "string"
            }
          },
          "metadata": {},
          "execution_count": 65
        }
      ]
    },
    {
      "cell_type": "code",
      "source": [
        "from langchain import SQLDatabase, SQLDatabaseChain"
      ],
      "metadata": {
        "id": "KHVMJrxTNeR8"
      },
      "execution_count": null,
      "outputs": []
    },
    {
      "cell_type": "code",
      "source": [
        "lite_db = SQLDatabase.from_uri(\"sqlite:///chinook.db\")"
      ],
      "metadata": {
        "id": "n1nuNJy_AJHz"
      },
      "execution_count": null,
      "outputs": []
    },
    {
      "cell_type": "code",
      "source": [
        "db_chain = SQLDatabaseChain(llm=fact_llm, database=lite_db, verbose=True)\n",
        "db_chain.run(\"How many tables are in the database?\")"
      ],
      "metadata": {
        "colab": {
          "base_uri": "https://localhost:8080/",
          "height": 179
        },
        "id": "xg7sMJxfAJBb",
        "outputId": "6a3f6e78-1e83-4ea0-9ac2-028f4946e771"
      },
      "execution_count": null,
      "outputs": [
        {
          "output_type": "stream",
          "name": "stdout",
          "text": [
            "\n",
            "\n",
            "\u001b[1m> Entering new SQLDatabaseChain chain...\u001b[0m\n",
            "How many tables are in the database? \n",
            "SQLQuery:\u001b[32;1m\u001b[1;3m SELECT COUNT(*) FROM sqlite_master WHERE type='table';\u001b[0m\n",
            "SQLResult: \u001b[33;1m\u001b[1;3m[(4,)]\u001b[0m\n",
            "Answer:\u001b[32;1m\u001b[1;3m There are 4 tables in the database.\u001b[0m\n",
            "\u001b[1m> Finished chain.\u001b[0m\n"
          ]
        },
        {
          "output_type": "execute_result",
          "data": {
            "text/plain": [
              "' There are 4 tables in the database.'"
            ],
            "application/vnd.google.colaboratory.intrinsic+json": {
              "type": "string"
            }
          },
          "metadata": {},
          "execution_count": 66
        }
      ]
    },
    {
      "cell_type": "code",
      "source": [
        "db_chain.run(\"List the table names in the database\")"
      ],
      "metadata": {
        "colab": {
          "base_uri": "https://localhost:8080/",
          "height": 179
        },
        "id": "FYnqfFvlAI5T",
        "outputId": "87436acb-79e9-46c8-aa3a-066e1e4078e2"
      },
      "execution_count": null,
      "outputs": [
        {
          "output_type": "stream",
          "name": "stdout",
          "text": [
            "\n",
            "\n",
            "\u001b[1m> Entering new SQLDatabaseChain chain...\u001b[0m\n",
            "List the table names in the database \n",
            "SQLQuery:\u001b[32;1m\u001b[1;3m SELECT name FROM sqlite_master WHERE type='table';\u001b[0m\n",
            "SQLResult: \u001b[33;1m\u001b[1;3m[('Album',), ('Artist',), ('Genre',), ('MediaType',)]\u001b[0m\n",
            "Answer:\u001b[32;1m\u001b[1;3m The table names in the database are Album, Artist, Genre, and MediaType.\u001b[0m\n",
            "\u001b[1m> Finished chain.\u001b[0m\n"
          ]
        },
        {
          "output_type": "execute_result",
          "data": {
            "text/plain": [
              "' The table names in the database are Album, Artist, Genre, and MediaType.'"
            ],
            "application/vnd.google.colaboratory.intrinsic+json": {
              "type": "string"
            }
          },
          "metadata": {},
          "execution_count": 67
        }
      ]
    },
    {
      "cell_type": "code",
      "source": [
        "db_chain.run(\"How many Unique Artists are there?\")"
      ],
      "metadata": {
        "colab": {
          "base_uri": "https://localhost:8080/",
          "height": 179
        },
        "id": "S00WcRe0N0JN",
        "outputId": "7838fe75-652e-4ddd-8150-ca363f9599fc"
      },
      "execution_count": null,
      "outputs": [
        {
          "output_type": "stream",
          "name": "stdout",
          "text": [
            "\n",
            "\n",
            "\u001b[1m> Entering new SQLDatabaseChain chain...\u001b[0m\n",
            "How many Unique Artists are there? \n",
            "SQLQuery:\u001b[32;1m\u001b[1;3m SELECT COUNT(DISTINCT ArtistId) FROM Artist;\u001b[0m\n",
            "SQLResult: \u001b[33;1m\u001b[1;3m[(275,)]\u001b[0m\n",
            "Answer:\u001b[32;1m\u001b[1;3m There are 275 Unique Artists.\u001b[0m\n",
            "\u001b[1m> Finished chain.\u001b[0m\n"
          ]
        },
        {
          "output_type": "execute_result",
          "data": {
            "text/plain": [
              "' There are 275 Unique Artists.'"
            ],
            "application/vnd.google.colaboratory.intrinsic+json": {
              "type": "string"
            }
          },
          "metadata": {},
          "execution_count": 68
        }
      ]
    },
    {
      "cell_type": "code",
      "source": [],
      "metadata": {
        "id": "wzSpj_uQAIvR"
      },
      "execution_count": null,
      "outputs": []
    }
  ]
}