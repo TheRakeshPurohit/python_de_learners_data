{
 "cells": [
  {
   "cell_type": "code",
   "execution_count": 1,
   "id": "a1a92db0",
   "metadata": {},
   "outputs": [],
   "source": [
    "#!/usr/bin/env python\n",
    "import json, openai\n",
    "import warnings\n",
    "import os\n",
    "warnings.filterwarnings('ignore')\n",
    "import configparser\n",
    "import datetime"
   ]
  },
  {
   "cell_type": "code",
   "execution_count": 2,
   "id": "9464586e",
   "metadata": {},
   "outputs": [],
   "source": [
    "readKey = configparser.ConfigParser()\n",
    "readKey.read_file(open('apidata.config'))\n",
    "\n",
    "openai_org = readKey['OPENAI'][\"ORG\"]\n",
    "openai_key = readKey['OPENAI']['KEY'] "
   ]
  },
  {
   "cell_type": "code",
   "execution_count": 3,
   "id": "93ef40ab",
   "metadata": {},
   "outputs": [],
   "source": [
    "def extract_response(org,key,role_player,request_content):\n",
    "    openai.organization = org\n",
    "    openai.api_key= key\n",
    "    response = openai.ChatCompletion.create(\n",
    "        model=\"gpt-3.5-turbo\",\n",
    "        messages=[\n",
    "            {\"role\": \"system\", \n",
    "             \"content\": f\"You are a {role_player}\"},\n",
    "            {\"role\": \"user\", \n",
    "             \"content\": request_content}\n",
    "            ]\n",
    "        )\n",
    "    return response['choices'][0]['message']['content']"
   ]
  },
  {
   "cell_type": "code",
   "execution_count": 4,
   "id": "000193bf",
   "metadata": {},
   "outputs": [
    {
     "name": "stdout",
     "output_type": "stream",
     "text": [
      "Provide file location: two_prompts.txt\n"
     ]
    }
   ],
   "source": [
    "input_fileLoc = input(\"Provide file location: \")"
   ]
  },
  {
   "cell_type": "code",
   "execution_count": 5,
   "id": "72dcb5d1",
   "metadata": {},
   "outputs": [],
   "source": [
    "with open(input_fileLoc) as chat:\n",
    "    data = chat.readlines()"
   ]
  },
  {
   "cell_type": "code",
   "execution_count": 6,
   "id": "f8119298",
   "metadata": {},
   "outputs": [
    {
     "data": {
      "text/plain": [
       "['roles, prompts\\n',\n",
       " 'market executive, share me the best 10 word slogan for a laptop\\n',\n",
       " 'interviewer, ask 2 question on sql language\\n']"
      ]
     },
     "execution_count": 6,
     "metadata": {},
     "output_type": "execute_result"
    }
   ],
   "source": [
    "data"
   ]
  },
  {
   "cell_type": "code",
   "execution_count": 7,
   "id": "c8fc5f91",
   "metadata": {},
   "outputs": [
    {
     "name": "stdout",
     "output_type": "stream",
     "text": [
      "Reading your prompt number: 1\n",
      "Reply for 0 prompt: \"Power up your possibilities with our laptops.\"\n",
      "Reading your prompt number: 2\n",
      "Reply for 1 prompt: Sure, here are two questions on SQL language:\n",
      "\n",
      "1. What is the difference between WHERE and HAVING clauses in SQL?\n",
      "\n",
      "2. What is a subquery in SQL and how is it used?\n"
     ]
    }
   ],
   "source": [
    "replies = []\n",
    "#ignoring the first line of the data, as it will be headers role , prompt\n",
    "for ind,line in enumerate(data[1:]):\n",
    "    print(f'Reading your prompt number: {ind + 1}')\n",
    "    get_role = line.split(',')[0] \n",
    "    get_prompt = line.split(',')[1] \n",
    "    content_output = extract_response(org=openai_org, key=openai_key, \n",
    "                 role_player=get_role, request_content=get_prompt)\n",
    "    print(f'Reply for {ind} prompt: {content_output}',end='\\n')\n",
    "    #making content for saving\n",
    "    prompt_data = [get_role, get_prompt,f'Reply for {ind} prompt: {content_output}']\n",
    "    #appending the content to list\n",
    "    replies.append(prompt_data)"
   ]
  },
  {
   "cell_type": "code",
   "execution_count": 8,
   "id": "b14cff56",
   "metadata": {},
   "outputs": [
    {
     "name": "stdout",
     "output_type": "stream",
     "text": [
      "I have 2 replies stored in memory do you want a copy (y/n): y\n"
     ]
    }
   ],
   "source": [
    "need_copy = input(f'I have {len(replies)} replies stored in memory do you want a copy (y/n): ')"
   ]
  },
  {
   "cell_type": "code",
   "execution_count": 10,
   "id": "03ae0ba9",
   "metadata": {},
   "outputs": [
    {
     "name": "stdout",
     "output_type": "stream",
     "text": [
      "Provide me the file name to write the contenttutorial_data.txt\n",
      "Writing it to file\n",
      "Reply for prompt 1 \n",
      ",Role is market executive\n",
      ", Prompt is  share me the best 10 word slogan for a laptop\n",
      "\n",
      ", and Reply is :Reply for 0 prompt: \"Power up your possibilities with our laptops.\"\n",
      "Reply for prompt 2 \n",
      ",Role is interviewer\n",
      ", Prompt is  ask 2 question on sql language\n",
      "\n",
      ", and Reply is :Reply for 1 prompt: Sure, here are two questions on SQL language:\n",
      "\n",
      "1. What is the difference between WHERE and HAVING clauses in SQL?\n",
      "\n",
      "2. What is a subquery in SQL and how is it used?\n"
     ]
    }
   ],
   "source": [
    "if need_copy == 'y' or need_copy == 'Y':\n",
    "    #request for the file name\n",
    "    destination = input('Provide me the file name to write the content')\n",
    "    print('Writing it to file')\n",
    "    #output_loc = f'/run/media/solverbot/repoA/gitFolders/openai_playground/{destination}'\n",
    "    with open(destination, 'w+') as reply:\n",
    "        for ind,line in enumerate(replies):\n",
    "            #have to write the string of data\n",
    "            print(f'Reply for prompt {ind + 1} \\n,Role is {line[0]}\\n, Prompt is {line[1]}\\n, and Reply is :{line[2]}')\n",
    "            reply.write(f'Reply for prompt {ind + 1} \\n,Role is {line[0]}\\n, Prompt is {line[1]}\\n, and Reply is :{line[2]}')"
   ]
  }
 ],
 "metadata": {
  "kernelspec": {
   "display_name": "Python 3 (ipykernel)",
   "language": "python",
   "name": "python3"
  },
  "language_info": {
   "codemirror_mode": {
    "name": "ipython",
    "version": 3
   },
   "file_extension": ".py",
   "mimetype": "text/x-python",
   "name": "python",
   "nbconvert_exporter": "python",
   "pygments_lexer": "ipython3",
   "version": "3.10.9"
  }
 },
 "nbformat": 4,
 "nbformat_minor": 5
}
