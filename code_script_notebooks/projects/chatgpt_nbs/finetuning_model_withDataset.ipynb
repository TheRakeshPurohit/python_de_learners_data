{
 "cells": [
  {
   "cell_type": "code",
   "execution_count": 166,
   "id": "ff8fbb74",
   "metadata": {},
   "outputs": [],
   "source": [
    "import json, openai, requests, warnings\n",
    "warnings.filterwarnings(\"ignore\")\n",
    "import configparser\n",
    "import uuid\n",
    "from time import sleep\n",
    "import tiktoken\n",
    "import pandas as pd"
   ]
  },
  {
   "cell_type": "code",
   "execution_count": 2,
   "id": "170e0d20",
   "metadata": {},
   "outputs": [],
   "source": [
    "credentials = configparser.ConfigParser()\n",
    "credentials.read_file(open('apidata.config'))\n",
    "my_key = credentials['OPENAI']['KEY']\n",
    "my_org = credentials['OPENAI']['org']"
   ]
  },
  {
   "cell_type": "code",
   "execution_count": 157,
   "id": "84d37c2c",
   "metadata": {},
   "outputs": [],
   "source": [
    "def gpt3_question_collect(org, key,prompt,\n",
    "                    engine='text-davinci-003',temp=0.01,\n",
    "                   top_p=1.0,tokens=500,freq_pen=0.0,\n",
    "                   pres_pen=0.0,stop=['asdfasdf','asdfasdf'],\n",
    "                   filename='questions_file_rev01.jsonl'):\n",
    "    \"\"\"The function will take the prompt return the questions \n",
    "    that can be asked on the dataset. The same will be written \n",
    "    in questions_file.jsonl\"\"\"\n",
    "    openai.api_key = key\n",
    "    openai.organization = org\n",
    "    max_retry=5\n",
    "    retry = 0\n",
    "    prompt = prompt.encode(encoding='ASCII',errors='ignore').decode()\n",
    "    while True:\n",
    "        try:\n",
    "            response = openai.Completion.create(\n",
    "            model=engine,\n",
    "            prompt=prompt,\n",
    "            temperature=temp,\n",
    "            max_tokens=tokens,\n",
    "            top_p=top_p,\n",
    "            frequency_penalty=freq_pen,\n",
    "            presence_penalty=pres_pen,\n",
    "            stop=stop)\n",
    "            \n",
    "            text = response['choices'][0]['text'].strip()\n",
    "            dict_reply = {'prompt':prompt,'questions':text}\n",
    "            with open(filename,'a+') as taker:\n",
    "                json.dump(dict_reply,fp=taker)\n",
    "                taker.write('\\n')\n",
    "            \n",
    "            return dict_reply\n",
    "        except Exception as e:\n",
    "            retry += 1\n",
    "            if retry > max_retry:\n",
    "                return f'GPT errored out {e}'\n",
    "            sleep(1)"
   ]
  },
  {
   "cell_type": "code",
   "execution_count": 158,
   "id": "a2f2fd9d",
   "metadata": {},
   "outputs": [],
   "source": [
    "def gpt3_answer_collect(org, key,prompt_question,\n",
    "                    engine='text-davinci-003',temp=0.01,\n",
    "                   top_p=1.0,tokens=500,freq_pen=0.0,\n",
    "                   pres_pen=0.0,stop=['asdfasdf','asdfasdf'],\n",
    "                   filename='prompt_file_rev01.jsonl'):\n",
    "    \"\"\"The function will take the prompt return the questions \n",
    "    that can be asked on the dataset. The same will be written \n",
    "    in questions_file.jsonl\"\"\"\n",
    "    openai.api_key = key\n",
    "    openai.organization = org\n",
    "    max_retry=5\n",
    "    retry = 0\n",
    "    prompt = prompt_question.encode(encoding='ASCII',errors='ignore').decode()\n",
    "    while True:\n",
    "        try:\n",
    "            response = openai.Completion.create(\n",
    "            model=engine,\n",
    "            prompt=prompt_question,\n",
    "            temperature=temp,\n",
    "            max_tokens=tokens,\n",
    "            top_p=top_p,\n",
    "            frequency_penalty=freq_pen,\n",
    "            presence_penalty=pres_pen,\n",
    "            stop=stop)\n",
    "            \n",
    "            text = response['choices'][0]['text'].strip()\n",
    "            dict_reply = {'prompt':prompt_question,\n",
    "                          'completion':text}\n",
    "            with open(filename,'a+') as taker:\n",
    "                json.dump(dict_reply,fp=taker)\n",
    "                taker.write('\\n')\n",
    "            \n",
    "            return dict_reply\n",
    "        except Exception as e:\n",
    "            retry += 1\n",
    "            if retry > max_retry:\n",
    "                return f'GPT errored out {e}'\n",
    "            sleep(1)"
   ]
  },
  {
   "cell_type": "code",
   "execution_count": 113,
   "id": "cdd3ccbf",
   "metadata": {},
   "outputs": [],
   "source": [
    "#reading in the dataset sample_data.csv\n",
    "\n",
    "with open('space_titanic.csv','r') as sd:\n",
    "    data = sd.readlines()"
   ]
  },
  {
   "cell_type": "code",
   "execution_count": 114,
   "id": "56af55d7",
   "metadata": {},
   "outputs": [
    {
     "data": {
      "text/plain": [
       "8694"
      ]
     },
     "execution_count": 114,
     "metadata": {},
     "output_type": "execute_result"
    }
   ],
   "source": [
    "len(data)"
   ]
  },
  {
   "cell_type": "code",
   "execution_count": 118,
   "id": "03f7b290",
   "metadata": {},
   "outputs": [
    {
     "data": {
      "text/plain": [
       "'0128_01,Mars,False,D/3/S,TRAPPIST-1e,61.0,True,2353.0,334.0,9.0,316.0,2.0,Grohs Fles,False\\n'"
      ]
     },
     "execution_count": 118,
     "metadata": {},
     "output_type": "execute_result"
    }
   ],
   "source": [
    "data[121]"
   ]
  },
  {
   "cell_type": "code",
   "execution_count": 119,
   "id": "b0896415",
   "metadata": {},
   "outputs": [
    {
     "data": {
      "text/plain": [
       "'0066_01,Earth,False,G/6/P,TRAPPIST-1e,62.0,False,1.0,153.0,197.0,0.0,460.0,Diandy Pecketton,False\\n'"
      ]
     },
     "execution_count": 119,
     "metadata": {},
     "output_type": "execute_result"
    }
   ],
   "source": [
    "data[61]"
   ]
  },
  {
   "cell_type": "code",
   "execution_count": 120,
   "id": "9a468808",
   "metadata": {},
   "outputs": [
    {
     "data": {
      "text/plain": [
       "'0202_01,Europa,True,B/9/P,55 Cancri e,45.0,False,0.0,0.0,0.0,0.0,0.0,Pomera Embleng,True\\n'"
      ]
     },
     "execution_count": 120,
     "metadata": {},
     "output_type": "execute_result"
    }
   ],
   "source": [
    "data[181]"
   ]
  },
  {
   "cell_type": "code",
   "execution_count": 121,
   "id": "5f749ee7",
   "metadata": {},
   "outputs": [
    {
     "data": {
      "text/plain": [
       "['0001_01,Europa,False,B/0/P,TRAPPIST-1e,39.0,False,0.0,0.0,0.0,0.0,0.0,Maham Ofracculy,False\\n',\n",
       " '0002_01,Earth,False,F/0/S,TRAPPIST-1e,24.0,False,109.0,9.0,25.0,549.0,44.0,Juanna Vines,True\\n',\n",
       " '0003_01,Europa,False,A/0/S,TRAPPIST-1e,58.0,True,43.0,3576.0,0.0,6715.0,49.0,Altark Susent,False\\n',\n",
       " '0003_02,Europa,False,A/0/S,TRAPPIST-1e,33.0,False,0.0,1283.0,371.0,3329.0,193.0,Solam Susent,False\\n']"
      ]
     },
     "execution_count": 121,
     "metadata": {},
     "output_type": "execute_result"
    }
   ],
   "source": [
    "data[1:5]"
   ]
  },
  {
   "cell_type": "code",
   "execution_count": 122,
   "id": "a73b0a62",
   "metadata": {},
   "outputs": [
    {
     "data": {
      "text/plain": [
       "['0004_01,Earth,False,F/1/S,TRAPPIST-1e,16.0,False,303.0,70.0,151.0,565.0,2.0,Willy Santantines,True\\n',\n",
       " '0005_01,Earth,False,F/0/P,PSO J318.5-22,44.0,False,0.0,483.0,0.0,291.0,0.0,Sandie Hinetthews,True\\n',\n",
       " '0006_01,Earth,False,F/2/S,TRAPPIST-1e,26.0,False,42.0,1539.0,3.0,0.0,0.0,Billex Jacostaffey,True\\n',\n",
       " '0006_02,Earth,True,G/0/S,TRAPPIST-1e,28.0,False,0.0,0.0,0.0,0.0,,Candra Jacostaffey,True\\n',\n",
       " '0007_01,Earth,False,F/3/S,TRAPPIST-1e,35.0,False,0.0,785.0,17.0,216.0,0.0,Andona Beston,True\\n']"
      ]
     },
     "execution_count": 122,
     "metadata": {},
     "output_type": "execute_result"
    }
   ],
   "source": [
    "data[5:10]"
   ]
  },
  {
   "cell_type": "code",
   "execution_count": 123,
   "id": "5c1779df",
   "metadata": {},
   "outputs": [
    {
     "data": {
      "text/plain": [
       "\"PassengerId,HomePlanet,CryoSleep,Cabin,Destination,Age,VIP,RoomService,FoodCourt,ShoppingMall,Spa,VRDeck,Name,Transported\\n+['0001_01,Europa,False,B/0/P,TRAPPIST-1e,39.0,False,0.0,0.0,0.0,0.0,0.0,Maham Ofracculy,False\\\\n', '0002_01,Earth,False,F/0/S,TRAPPIST-1e,24.0,False,109.0,9.0,25.0,549.0,44.0,Juanna Vines,True\\\\n', '0003_01,Europa,False,A/0/S,TRAPPIST-1e,58.0,True,43.0,3576.0,0.0,6715.0,49.0,Altark Susent,False\\\\n', '0003_02,Europa,False,A/0/S,TRAPPIST-1e,33.0,False,0.0,1283.0,371.0,3329.0,193.0,Solam Susent,False\\\\n']\""
      ]
     },
     "execution_count": 123,
     "metadata": {},
     "output_type": "execute_result"
    }
   ],
   "source": [
    "f'{data[0]}+{data[1:5]}'"
   ]
  },
  {
   "cell_type": "code",
   "execution_count": 124,
   "id": "68da4793",
   "metadata": {},
   "outputs": [
    {
     "data": {
      "text/plain": [
       "\"PassengerId,HomePlanet,CryoSleep,Cabin,Destination,Age,VIP,RoomService,FoodCourt,ShoppingMall,Spa,VRDeck,Name,Transported\\n+['0004_01,Earth,False,F/1/S,TRAPPIST-1e,16.0,False,303.0,70.0,151.0,565.0,2.0,Willy Santantines,True\\\\n', '0005_01,Earth,False,F/0/P,PSO J318.5-22,44.0,False,0.0,483.0,0.0,291.0,0.0,Sandie Hinetthews,True\\\\n', '0006_01,Earth,False,F/2/S,TRAPPIST-1e,26.0,False,42.0,1539.0,3.0,0.0,0.0,Billex Jacostaffey,True\\\\n', '0006_02,Earth,True,G/0/S,TRAPPIST-1e,28.0,False,0.0,0.0,0.0,0.0,,Candra Jacostaffey,True\\\\n', '0007_01,Earth,False,F/3/S,TRAPPIST-1e,35.0,False,0.0,785.0,17.0,216.0,0.0,Andona Beston,True\\\\n']\""
      ]
     },
     "execution_count": 124,
     "metadata": {},
     "output_type": "execute_result"
    }
   ],
   "source": [
    "f'{data[0]}+{data[5:10]}'"
   ]
  },
  {
   "cell_type": "code",
   "execution_count": 9,
   "id": "09c3ce1f",
   "metadata": {},
   "outputs": [],
   "source": [
    "# To get the tokeniser corresponding to a specific model in the OpenAI API:\n",
    "enc = tiktoken.encoding_for_model(\"text-davinci-003\")"
   ]
  },
  {
   "cell_type": "code",
   "execution_count": 10,
   "id": "6baaeafe",
   "metadata": {},
   "outputs": [
    {
     "data": {
      "text/plain": [
       "[1212, 318, 616, 717, 779, 286, 256, 1134, 30001]"
      ]
     },
     "execution_count": 10,
     "metadata": {},
     "output_type": "execute_result"
    }
   ],
   "source": [
    "enc.encode(\"This is my first use of tiktoken\")"
   ]
  },
  {
   "cell_type": "code",
   "execution_count": 11,
   "id": "b9cdc857",
   "metadata": {},
   "outputs": [
    {
     "data": {
      "text/plain": [
       "'This is my first use of tiktoken'"
      ]
     },
     "execution_count": 11,
     "metadata": {},
     "output_type": "execute_result"
    }
   ],
   "source": [
    "enc.decode(enc.encode(\"This is my first use of tiktoken\"))"
   ]
  },
  {
   "cell_type": "code",
   "execution_count": 12,
   "id": "a78a3cd5",
   "metadata": {},
   "outputs": [
    {
     "data": {
      "text/plain": [
       "50281"
      ]
     },
     "execution_count": 12,
     "metadata": {},
     "output_type": "execute_result"
    }
   ],
   "source": [
    "enc.n_vocab"
   ]
  },
  {
   "cell_type": "code",
   "execution_count": 13,
   "id": "c6108038",
   "metadata": {},
   "outputs": [],
   "source": [
    "def num_tokens_from_string(string: str, \n",
    "                           encoding_name: str = 'text-davinci-003') -> int:\n",
    "    \"\"\"Returns the number of tokens in a text string.\"\"\"\n",
    "    encoding = tiktoken.encoding_for_model(encoding_name)\n",
    "    num_tokens = len(encoding.encode(string))\n",
    "    return num_tokens"
   ]
  },
  {
   "cell_type": "code",
   "execution_count": 14,
   "id": "8228d090",
   "metadata": {},
   "outputs": [
    {
     "data": {
      "text/plain": [
       "9"
      ]
     },
     "execution_count": 14,
     "metadata": {},
     "output_type": "execute_result"
    }
   ],
   "source": [
    "num_tokens_from_string(string=\"This is the first use of tiktoken\",\n",
    "                       encoding_name='text-davinci-003')"
   ]
  },
  {
   "cell_type": "code",
   "execution_count": 15,
   "id": "9b2c1976",
   "metadata": {},
   "outputs": [],
   "source": [
    "### prompt design\n",
    "\n",
    "prompt = f\"\"\"\n",
    "[Dataset] = {data[0]}+{data[1:60]} \n",
    "prompt:Based on above [Dataset] list 10 questions that I can ask\n",
    "\n",
    "Answer:\n",
    "\"\"\""
   ]
  },
  {
   "cell_type": "code",
   "execution_count": 16,
   "id": "a561533a",
   "metadata": {},
   "outputs": [
    {
     "data": {
      "text/plain": [
       "3527"
      ]
     },
     "execution_count": 16,
     "metadata": {},
     "output_type": "execute_result"
    }
   ],
   "source": [
    "num_tokens_from_string(prompt)"
   ]
  },
  {
   "cell_type": "markdown",
   "id": "c30982d1",
   "metadata": {},
   "source": [
    "### The prompt and the answer should be total 4001 token"
   ]
  },
  {
   "cell_type": "code",
   "execution_count": 17,
   "id": "e43e3731",
   "metadata": {},
   "outputs": [
    {
     "data": {
      "text/plain": [
       "474"
      ]
     },
     "execution_count": 17,
     "metadata": {},
     "output_type": "execute_result"
    }
   ],
   "source": [
    "4001 - num_tokens_from_string(prompt)"
   ]
  },
  {
   "cell_type": "markdown",
   "id": "2e8e30ae",
   "metadata": {},
   "source": [
    "Psuedocode:\n",
    "\n",
    "1) Split the dataset into small chunks so it can fit inside the prompt. \n",
    "\n",
    "1a) Each dataset should be given a unique name\n",
    "\n",
    "2) Use the dataset chunks and send the prompt asking for the 15 questions that you can ask\n",
    "\n",
    "3) Collect the questions and attach it with the dataset chunk and write in a seperate file\n",
    "\n",
    "Do this for 15 chunks of the dataset you will have 225 questions\n",
    "\n",
    "4) Each dataset chunks will become 15 prompts with individual questions\n",
    "\n",
    "Prompt: Refer the {Dataset(num)} that was provided to you. {question}\n",
    "\n",
    "Answer:\n",
    "\n",
    "5) The prompt, along with the dataset, dataset num, question is considered as one prompt. The answer the model provides is considered as completion. \n",
    "\n",
    "{\"prompt\":dataset{num}=dataset_values,Refer the {dataset(num)} that was provided to you. {question}, \"completion\":Answer}\n",
    "\n",
    "6) Train the model..."
   ]
  },
  {
   "cell_type": "code",
   "execution_count": 18,
   "id": "537c58a4",
   "metadata": {},
   "outputs": [
    {
     "data": {
      "text/plain": [
       "144.9"
      ]
     },
     "execution_count": 18,
     "metadata": {},
     "output_type": "execute_result"
    }
   ],
   "source": [
    "#We can train with 144 datasets\n",
    "len(data)/60"
   ]
  },
  {
   "cell_type": "code",
   "execution_count": 125,
   "id": "23681fdc",
   "metadata": {},
   "outputs": [],
   "source": [
    "data_chunks = []\n",
    "rng1 = 1"
   ]
  },
  {
   "cell_type": "code",
   "execution_count": 126,
   "id": "19427415",
   "metadata": {},
   "outputs": [
    {
     "data": {
      "text/plain": [
       "[]"
      ]
     },
     "execution_count": 126,
     "metadata": {},
     "output_type": "execute_result"
    }
   ],
   "source": [
    "data_chunks"
   ]
  },
  {
   "cell_type": "code",
   "execution_count": 128,
   "id": "e4c4eb34",
   "metadata": {},
   "outputs": [
    {
     "name": "stdout",
     "output_type": "stream",
     "text": [
      "1\n",
      "2\n",
      "3\n",
      "4\n"
     ]
    }
   ],
   "source": [
    "for x in list(range(1,5)):\n",
    "    print(x)"
   ]
  },
  {
   "cell_type": "code",
   "execution_count": 129,
   "id": "088bf55e",
   "metadata": {
    "scrolled": true
   },
   "outputs": [
    {
     "name": "stdout",
     "output_type": "stream",
     "text": [
      "before spliting data 1 and 6\n",
      "PassengerId,HomePlanet,CryoSleep,Cabin,Destination,Age,VIP,RoomService,FoodCourt,ShoppingMall,Spa,VRDeck,Name,Transported\n",
      "+['0001_01,Europa,False,B/0/P,TRAPPIST-1e,39.0,False,0.0,0.0,0.0,0.0,0.0,Maham Ofracculy,False\\n', '0002_01,Earth,False,F/0/S,TRAPPIST-1e,24.0,False,109.0,9.0,25.0,549.0,44.0,Juanna Vines,True\\n', '0003_01,Europa,False,A/0/S,TRAPPIST-1e,58.0,True,43.0,3576.0,0.0,6715.0,49.0,Altark Susent,False\\n', '0003_02,Europa,False,A/0/S,TRAPPIST-1e,33.0,False,0.0,1283.0,371.0,3329.0,193.0,Solam Susent,False\\n', '0004_01,Earth,False,F/1/S,TRAPPIST-1e,16.0,False,303.0,70.0,151.0,565.0,2.0,Willy Santantines,True\\n']\n",
      "Number of tokens for the dataset 2 is 384\n",
      "before spliting data 6 and 11\n",
      "PassengerId,HomePlanet,CryoSleep,Cabin,Destination,Age,VIP,RoomService,FoodCourt,ShoppingMall,Spa,VRDeck,Name,Transported\n",
      "+['0005_01,Earth,False,F/0/P,PSO J318.5-22,44.0,False,0.0,483.0,0.0,291.0,0.0,Sandie Hinetthews,True\\n', '0006_01,Earth,False,F/2/S,TRAPPIST-1e,26.0,False,42.0,1539.0,3.0,0.0,0.0,Billex Jacostaffey,True\\n', '0006_02,Earth,True,G/0/S,TRAPPIST-1e,28.0,False,0.0,0.0,0.0,0.0,,Candra Jacostaffey,True\\n', '0007_01,Earth,False,F/3/S,TRAPPIST-1e,35.0,False,0.0,785.0,17.0,216.0,0.0,Andona Beston,True\\n', '0008_01,Europa,True,B/1/P,55 Cancri e,14.0,False,0.0,0.0,0.0,0.0,0.0,Erraiam Flatic,True\\n']\n",
      "Number of tokens for the dataset 3 is 383\n"
     ]
    }
   ],
   "source": [
    "for x in list(range(1,3)):\n",
    "    rng2 = rng1 + 5\n",
    "    print(f'before spliting data {rng1} and {rng2}')\n",
    "    data_t = f'{data[0]}+{data[rng1:rng2]}'\n",
    "    print(data_t)\n",
    "    prompt_made = f\"\"\"\n",
    "    dataset_{x}={data_t}\n",
    "    \n",
    "    Prompt:Refer to the [dataset_{x}] and List 25 questions that can be asked from it\n",
    "    \n",
    "    Answer:\n",
    "    \"\"\"\n",
    "    data_chunks.append(prompt_made)\n",
    "    print(f'Number of tokens for the dataset {x + 1} is {num_tokens_from_string(prompt_made)}')\n",
    "    rng1 = rng1 + 5"
   ]
  },
  {
   "cell_type": "code",
   "execution_count": 142,
   "id": "605b5032",
   "metadata": {},
   "outputs": [
    {
     "data": {
      "text/plain": [
       "\"\\n    dataset_1=PassengerId,HomePlanet,CryoSleep,Cabin,Destination,Age,VIP,RoomService,FoodCourt,ShoppingMall,Spa,VRDeck,Name,Transported\\n+['0001_01,Europa,False,B/0/P,TRAPPIST-1e,39.0,False,0.0,0.0,0.0,0.0,0.0,Maham Ofracculy,False\\\\n', '0002_01,Earth,False,F/0/S,TRAPPIST-1e,24.0,False,109.0,9.0,25.0,549.0,44.0,Juanna Vines,True\\\\n', '0003_01,Europa,False,A/0/S,TRAPPIST-1e,58.0,True,43.0,3576.0,0.0,6715.0,49.0,Altark Susent,False\\\\n', '0003_02,Europa,False,A/0/S,TRAPPIST-1e,33.0,False,0.0,1283.0,371.0,3329.0,193.0,Solam Susent,False\\\\n', '0004_01,Earth,False,F/1/S,TRAPPIST-1e,16.0,False,303.0,70.0,151.0,565.0,2.0,Willy Santantines,True\\\\n']\\n    \\n    Prompt:Refer to the [dataset_1] and List 25 questions that can be asked from it\\n    \\n    Answer:\\n    \""
      ]
     },
     "execution_count": 142,
     "metadata": {},
     "output_type": "execute_result"
    }
   ],
   "source": [
    "data_chunks[0]"
   ]
  },
  {
   "cell_type": "code",
   "execution_count": 143,
   "id": "15a24253",
   "metadata": {
    "scrolled": true
   },
   "outputs": [
    {
     "data": {
      "text/html": [
       "<div>\n",
       "<style scoped>\n",
       "    .dataframe tbody tr th:only-of-type {\n",
       "        vertical-align: middle;\n",
       "    }\n",
       "\n",
       "    .dataframe tbody tr th {\n",
       "        vertical-align: top;\n",
       "    }\n",
       "\n",
       "    .dataframe thead th {\n",
       "        text-align: right;\n",
       "    }\n",
       "</style>\n",
       "<table border=\"1\" class=\"dataframe\">\n",
       "  <thead>\n",
       "    <tr style=\"text-align: right;\">\n",
       "      <th></th>\n",
       "      <th>PassengerId</th>\n",
       "      <th>HomePlanet</th>\n",
       "      <th>CryoSleep</th>\n",
       "      <th>Cabin</th>\n",
       "      <th>Destination</th>\n",
       "      <th>Age</th>\n",
       "      <th>VIP</th>\n",
       "      <th>RoomService</th>\n",
       "      <th>FoodCourt</th>\n",
       "      <th>ShoppingMall</th>\n",
       "      <th>Spa</th>\n",
       "      <th>VRDeck</th>\n",
       "      <th>Name</th>\n",
       "      <th>Transported</th>\n",
       "    </tr>\n",
       "  </thead>\n",
       "  <tbody>\n",
       "    <tr>\n",
       "      <th>0</th>\n",
       "      <td>0001_01</td>\n",
       "      <td>Europa</td>\n",
       "      <td>False</td>\n",
       "      <td>B/0/P</td>\n",
       "      <td>TRAPPIST-1e</td>\n",
       "      <td>39.0</td>\n",
       "      <td>False</td>\n",
       "      <td>0.0</td>\n",
       "      <td>0.0</td>\n",
       "      <td>0.0</td>\n",
       "      <td>0.0</td>\n",
       "      <td>0.0</td>\n",
       "      <td>Maham Ofracculy</td>\n",
       "      <td>False</td>\n",
       "    </tr>\n",
       "    <tr>\n",
       "      <th>1</th>\n",
       "      <td>0002_01</td>\n",
       "      <td>Earth</td>\n",
       "      <td>False</td>\n",
       "      <td>F/0/S</td>\n",
       "      <td>TRAPPIST-1e</td>\n",
       "      <td>24.0</td>\n",
       "      <td>False</td>\n",
       "      <td>109.0</td>\n",
       "      <td>9.0</td>\n",
       "      <td>25.0</td>\n",
       "      <td>549.0</td>\n",
       "      <td>44.0</td>\n",
       "      <td>Juanna Vines</td>\n",
       "      <td>True</td>\n",
       "    </tr>\n",
       "    <tr>\n",
       "      <th>2</th>\n",
       "      <td>0003_01</td>\n",
       "      <td>Europa</td>\n",
       "      <td>False</td>\n",
       "      <td>A/0/S</td>\n",
       "      <td>TRAPPIST-1e</td>\n",
       "      <td>58.0</td>\n",
       "      <td>True</td>\n",
       "      <td>43.0</td>\n",
       "      <td>3576.0</td>\n",
       "      <td>0.0</td>\n",
       "      <td>6715.0</td>\n",
       "      <td>49.0</td>\n",
       "      <td>Altark Susent</td>\n",
       "      <td>False</td>\n",
       "    </tr>\n",
       "    <tr>\n",
       "      <th>3</th>\n",
       "      <td>0003_02</td>\n",
       "      <td>Europa</td>\n",
       "      <td>False</td>\n",
       "      <td>A/0/S</td>\n",
       "      <td>TRAPPIST-1e</td>\n",
       "      <td>33.0</td>\n",
       "      <td>False</td>\n",
       "      <td>0.0</td>\n",
       "      <td>1283.0</td>\n",
       "      <td>371.0</td>\n",
       "      <td>3329.0</td>\n",
       "      <td>193.0</td>\n",
       "      <td>Solam Susent</td>\n",
       "      <td>False</td>\n",
       "    </tr>\n",
       "    <tr>\n",
       "      <th>4</th>\n",
       "      <td>0004_01</td>\n",
       "      <td>Earth</td>\n",
       "      <td>False</td>\n",
       "      <td>F/1/S</td>\n",
       "      <td>TRAPPIST-1e</td>\n",
       "      <td>16.0</td>\n",
       "      <td>False</td>\n",
       "      <td>303.0</td>\n",
       "      <td>70.0</td>\n",
       "      <td>151.0</td>\n",
       "      <td>565.0</td>\n",
       "      <td>2.0</td>\n",
       "      <td>Willy Santantines</td>\n",
       "      <td>True</td>\n",
       "    </tr>\n",
       "  </tbody>\n",
       "</table>\n",
       "</div>"
      ],
      "text/plain": [
       "  PassengerId HomePlanet CryoSleep  Cabin  Destination   Age    VIP  \\\n",
       "0     0001_01     Europa     False  B/0/P  TRAPPIST-1e  39.0  False   \n",
       "1     0002_01      Earth     False  F/0/S  TRAPPIST-1e  24.0  False   \n",
       "2     0003_01     Europa     False  A/0/S  TRAPPIST-1e  58.0   True   \n",
       "3     0003_02     Europa     False  A/0/S  TRAPPIST-1e  33.0  False   \n",
       "4     0004_01      Earth     False  F/1/S  TRAPPIST-1e  16.0  False   \n",
       "\n",
       "  RoomService FoodCourt ShoppingMall     Spa VRDeck               Name  \\\n",
       "0         0.0       0.0          0.0     0.0    0.0    Maham Ofracculy   \n",
       "1       109.0       9.0         25.0   549.0   44.0       Juanna Vines   \n",
       "2        43.0    3576.0          0.0  6715.0   49.0      Altark Susent   \n",
       "3         0.0    1283.0        371.0  3329.0  193.0       Solam Susent   \n",
       "4       303.0      70.0        151.0   565.0    2.0  Willy Santantines   \n",
       "\n",
       "  Transported  \n",
       "0       False  \n",
       "1        True  \n",
       "2       False  \n",
       "3       False  \n",
       "4        True  "
      ]
     },
     "execution_count": 143,
     "metadata": {},
     "output_type": "execute_result"
    }
   ],
   "source": [
    "chunk0_df = chunk_to_df(1,data_chunks[0])\n",
    "chunk0_df"
   ]
  },
  {
   "cell_type": "code",
   "execution_count": 144,
   "id": "a89e9704",
   "metadata": {
    "scrolled": true
   },
   "outputs": [
    {
     "data": {
      "text/html": [
       "<div>\n",
       "<style scoped>\n",
       "    .dataframe tbody tr th:only-of-type {\n",
       "        vertical-align: middle;\n",
       "    }\n",
       "\n",
       "    .dataframe tbody tr th {\n",
       "        vertical-align: top;\n",
       "    }\n",
       "\n",
       "    .dataframe thead th {\n",
       "        text-align: right;\n",
       "    }\n",
       "</style>\n",
       "<table border=\"1\" class=\"dataframe\">\n",
       "  <thead>\n",
       "    <tr style=\"text-align: right;\">\n",
       "      <th></th>\n",
       "      <th>PassengerId</th>\n",
       "      <th>HomePlanet</th>\n",
       "      <th>CryoSleep</th>\n",
       "      <th>Cabin</th>\n",
       "      <th>Age</th>\n",
       "      <th>VIP</th>\n",
       "      <th>RoomService</th>\n",
       "      <th>FoodCourt</th>\n",
       "      <th>ShoppingMall</th>\n",
       "      <th>Spa</th>\n",
       "      <th>VRDeck</th>\n",
       "      <th>Name</th>\n",
       "      <th>Transported</th>\n",
       "    </tr>\n",
       "    <tr>\n",
       "      <th>Destination</th>\n",
       "      <th></th>\n",
       "      <th></th>\n",
       "      <th></th>\n",
       "      <th></th>\n",
       "      <th></th>\n",
       "      <th></th>\n",
       "      <th></th>\n",
       "      <th></th>\n",
       "      <th></th>\n",
       "      <th></th>\n",
       "      <th></th>\n",
       "      <th></th>\n",
       "      <th></th>\n",
       "    </tr>\n",
       "  </thead>\n",
       "  <tbody>\n",
       "    <tr>\n",
       "      <th>TRAPPIST-1e</th>\n",
       "      <td>5</td>\n",
       "      <td>5</td>\n",
       "      <td>5</td>\n",
       "      <td>5</td>\n",
       "      <td>5</td>\n",
       "      <td>5</td>\n",
       "      <td>5</td>\n",
       "      <td>5</td>\n",
       "      <td>5</td>\n",
       "      <td>5</td>\n",
       "      <td>5</td>\n",
       "      <td>5</td>\n",
       "      <td>5</td>\n",
       "    </tr>\n",
       "  </tbody>\n",
       "</table>\n",
       "</div>"
      ],
      "text/plain": [
       "             PassengerId  HomePlanet  CryoSleep  Cabin  Age  VIP  RoomService  \\\n",
       "Destination                                                                     \n",
       "TRAPPIST-1e            5           5          5      5    5    5            5   \n",
       "\n",
       "             FoodCourt  ShoppingMall  Spa  VRDeck  Name  Transported  \n",
       "Destination                                                           \n",
       "TRAPPIST-1e          5             5    5       5     5            5  "
      ]
     },
     "execution_count": 144,
     "metadata": {},
     "output_type": "execute_result"
    }
   ],
   "source": [
    "chunk0_df.groupby('Destination').count()"
   ]
  },
  {
   "cell_type": "markdown",
   "id": "a39b216b",
   "metadata": {},
   "source": [
    "### Initial the execution was with temp at 1.0"
   ]
  },
  {
   "cell_type": "code",
   "execution_count": 159,
   "id": "1477a9b1",
   "metadata": {
    "scrolled": true
   },
   "outputs": [],
   "source": [
    "question_1 = gpt3_question_collect(org=my_org,key=my_key,\n",
    "                      prompt=data_chunks[0])"
   ]
  },
  {
   "cell_type": "code",
   "execution_count": 160,
   "id": "628a88f0",
   "metadata": {
    "scrolled": true
   },
   "outputs": [
    {
     "data": {
      "text/plain": [
       "{'prompt': \"\\n    dataset_1=PassengerId,HomePlanet,CryoSleep,Cabin,Destination,Age,VIP,RoomService,FoodCourt,ShoppingMall,Spa,VRDeck,Name,Transported\\n+['0001_01,Europa,False,B/0/P,TRAPPIST-1e,39.0,False,0.0,0.0,0.0,0.0,0.0,Maham Ofracculy,False\\\\n', '0002_01,Earth,False,F/0/S,TRAPPIST-1e,24.0,False,109.0,9.0,25.0,549.0,44.0,Juanna Vines,True\\\\n', '0003_01,Europa,False,A/0/S,TRAPPIST-1e,58.0,True,43.0,3576.0,0.0,6715.0,49.0,Altark Susent,False\\\\n', '0003_02,Europa,False,A/0/S,TRAPPIST-1e,33.0,False,0.0,1283.0,371.0,3329.0,193.0,Solam Susent,False\\\\n', '0004_01,Earth,False,F/1/S,TRAPPIST-1e,16.0,False,303.0,70.0,151.0,565.0,2.0,Willy Santantines,True\\\\n']\\n    \\n    Prompt:Refer to the [dataset_1] and List 25 questions that can be asked from it\\n    \\n    Answer:\\n    \",\n",
       " 'questions': '1. What is the average age of passengers in the dataset?\\n2. How many passengers have CryoSleep enabled?\\n3. How many passengers have VIP status?\\n4. How many passengers have RoomService enabled?\\n5. What is the most popular Cabin type?\\n6. What is the average FoodCourt spending of passengers?\\n7. How many passengers have ShoppingMall enabled?\\n8. What is the average Spa spending of passengers?\\n9. How many passengers have VRDeck enabled?\\n10. What is the most popular Destination?\\n11. What is the average RoomService spending of passengers?\\n12. How many passengers are from Earth?\\n13. How many passengers are from Europa?\\n14. What is the average ShoppingMall spending of passengers?\\n15. What is the average VRDeck spending of passengers?\\n16. How many passengers have been transported?\\n17. What is the average age of passengers who have been transported?\\n18. How many passengers have CryoSleep enabled and have been transported?\\n19. How many passengers have VIP status and have been transported?\\n20. How many passengers have RoomService enabled and have been transported?\\n21. What is the most popular Cabin type among passengers who have been transported?\\n22. What is the average FoodCourt spending of passengers who have been transported?\\n23. How many passengers have ShoppingMall enabled and have been transported?\\n24. What is the average Spa spending of passengers who have been transported?\\n25. How many passengers have VRDeck enabled and have been transported?'}"
      ]
     },
     "execution_count": 160,
     "metadata": {},
     "output_type": "execute_result"
    }
   ],
   "source": [
    "question_1"
   ]
  },
  {
   "cell_type": "code",
   "execution_count": 163,
   "id": "06120ab2",
   "metadata": {},
   "outputs": [
    {
     "data": {
      "text/plain": [
       "{'prompt': \"\\ndataset_1=PassengerId,HomePlanet,CryoSleep,Cabin,Destination,Age,VIP,RoomService,FoodCourt,ShoppingMall,Spa,VRDeck,Name,Transported\\n+['0001_01,Europa,False,B/0/P,TRAPPIST-1e,39.0,False,0.0,0.0,0.0,0.0,0.0,Maham Ofracculy,False\\\\n', '0002_01,Earth,False,F/0/S,TRAPPIST-1e,24.0,False,109.0,9.0,25.0,549.0,44.0,Juanna Vines,True\\\\n', '0003_01,Europa,False,A/0/S,TRAPPIST-1e,58.0,True,43.0,3576.0,0.0,6715.0,49.0,Altark Susent,False\\\\n', '0003_02,Europa,False,A/0/S,TRAPPIST-1e,33.0,False,0.0,1283.0,371.0,3329.0,193.0,Solam Susent,False\\\\n']\\n\\nPrompt:Refer to the [dataset_1] and answer How many rows are there in the dataset?\\n\\nAnswer:\",\n",
       " 'completion': 'There are four rows in the dataset.'}"
      ]
     },
     "execution_count": 163,
     "metadata": {},
     "output_type": "execute_result"
    }
   ],
   "source": [
    "gpt3_answer_collect(org=my_org,key=my_key,\n",
    "                   prompt_question=f\"\"\"\n",
    "dataset_1={data[0]}+{data[1:5]}\n",
    "\n",
    "Prompt:Refer to the [dataset_1] and answer How many rows are there in the dataset?\n",
    "\n",
    "Answer:\"\"\")"
   ]
  },
  {
   "cell_type": "code",
   "execution_count": 164,
   "id": "84a1b0b2",
   "metadata": {},
   "outputs": [
    {
     "data": {
      "text/plain": [
       "{'prompt': \"\\ndataset_1=PassengerId,HomePlanet,CryoSleep,Cabin,Destination,Age,VIP,RoomService,FoodCourt,ShoppingMall,Spa,VRDeck,Name,Transported\\n+['0001_01,Europa,False,B/0/P,TRAPPIST-1e,39.0,False,0.0,0.0,0.0,0.0,0.0,Maham Ofracculy,False\\\\n', '0002_01,Earth,False,F/0/S,TRAPPIST-1e,24.0,False,109.0,9.0,25.0,549.0,44.0,Juanna Vines,True\\\\n', '0003_01,Europa,False,A/0/S,TRAPPIST-1e,58.0,True,43.0,3576.0,0.0,6715.0,49.0,Altark Susent,False\\\\n', '0003_02,Europa,False,A/0/S,TRAPPIST-1e,33.0,False,0.0,1283.0,371.0,3329.0,193.0,Solam Susent,False\\\\n']\\n\\nPrompt:Refer to the [dataset_1] and answer Which is the most travelled Destination?\\n\\nAnswer:\",\n",
       " 'completion': 'TRAPPIST-1e'}"
      ]
     },
     "execution_count": 164,
     "metadata": {},
     "output_type": "execute_result"
    }
   ],
   "source": [
    "gpt3_answer_collect(org=my_org,key=my_key,\n",
    "                   prompt_question=f\"\"\"\n",
    "dataset_1={data[0]}+{data[1:5]}\n",
    "\n",
    "Prompt:Refer to the [dataset_1] and answer Which is the most travelled Destination?\n",
    "\n",
    "Answer:\"\"\")"
   ]
  },
  {
   "cell_type": "code",
   "execution_count": 165,
   "id": "a018f185",
   "metadata": {},
   "outputs": [
    {
     "data": {
      "text/plain": [
       "{'prompt': \"\\ndataset_1=PassengerId,HomePlanet,CryoSleep,Cabin,Destination,Age,VIP,RoomService,FoodCourt,ShoppingMall,Spa,VRDeck,Name,Transported\\n+['0001_01,Europa,False,B/0/P,TRAPPIST-1e,39.0,False,0.0,0.0,0.0,0.0,0.0,Maham Ofracculy,False\\\\n', '0002_01,Earth,False,F/0/S,TRAPPIST-1e,24.0,False,109.0,9.0,25.0,549.0,44.0,Juanna Vines,True\\\\n', '0003_01,Europa,False,A/0/S,TRAPPIST-1e,58.0,True,43.0,3576.0,0.0,6715.0,49.0,Altark Susent,False\\\\n', '0003_02,Europa,False,A/0/S,TRAPPIST-1e,33.0,False,0.0,1283.0,371.0,3329.0,193.0,Solam Susent,False\\\\n']\\n\\nPrompt:Refer to the [dataset_1] and answer What is the average Spa spending of passengers?\\n\\nAnswer:\",\n",
       " 'completion': 'The average Spa spending of passengers in the dataset_1 is 2,817.'}"
      ]
     },
     "execution_count": 165,
     "metadata": {},
     "output_type": "execute_result"
    }
   ],
   "source": [
    "gpt3_answer_collect(org=my_org,key=my_key,\n",
    "                   prompt_question=f\"\"\"\n",
    "dataset_1={data[0]}+{data[1:5]}\n",
    "\n",
    "Prompt:Refer to the [dataset_1] and answer What is the average Spa spending of passengers?\n",
    "\n",
    "Answer:\"\"\")"
   ]
  },
  {
   "cell_type": "code",
   "execution_count": 181,
   "id": "9d85efcc",
   "metadata": {},
   "outputs": [
    {
     "data": {
      "text/plain": [
       "{'prompt': \"\\ndataset_1=PassengerId,HomePlanet,CryoSleep,Cabin,Destination,Age,VIP,RoomService,FoodCourt,ShoppingMall,Spa,VRDeck,Name,Transported\\n+['0001_01,Europa,False,B/0/P,TRAPPIST-1e,39.0,False,0.0,0.0,0.0,0.0,0.0,Maham Ofracculy,False\\\\n', '0002_01,Earth,False,F/0/S,TRAPPIST-1e,24.0,False,109.0,9.0,25.0,549.0,44.0,Juanna Vines,True\\\\n', '0003_01,Europa,False,A/0/S,TRAPPIST-1e,58.0,True,43.0,3576.0,0.0,6715.0,49.0,Altark Susent,False\\\\n', '0003_02,Europa,False,A/0/S,TRAPPIST-1e,33.0,False,0.0,1283.0,371.0,3329.0,193.0,Solam Susent,False\\\\n']\\n\\nPrompt:Refer to the [dataset_1] and list all the Names in the dataset?\\n\\nAnswer:\",\n",
       " 'completion': 'Maham Ofracculy, Juanna Vines, Altark Susent, Solam Susent'}"
      ]
     },
     "execution_count": 181,
     "metadata": {},
     "output_type": "execute_result"
    }
   ],
   "source": [
    "gpt3_answer_collect(org=my_org,key=my_key,\n",
    "                   prompt_question=f\"\"\"\n",
    "dataset_1={data[0]}+{data[1:5]}\n",
    "\n",
    "Prompt:Refer to the [dataset_1] and list all the Names in the dataset?\n",
    "\n",
    "Answer:\"\"\")"
   ]
  },
  {
   "cell_type": "code",
   "execution_count": 182,
   "id": "80a53b95",
   "metadata": {},
   "outputs": [
    {
     "data": {
      "text/plain": [
       "{'prompt': '\\nPrompt:Refer to the [dataset_1] and tell me which passenger spent more on Spa?\\n\\nAnswer:',\n",
       " 'completion': 'According to the dataset_1, the passenger who spent the most on Spa was Passenger ID 8, who spent $200.'}"
      ]
     },
     "execution_count": 182,
     "metadata": {},
     "output_type": "execute_result"
    }
   ],
   "source": [
    "gpt3_answer_collect(org=my_org,key=my_key,\n",
    "                   prompt_question=f\"\"\"\n",
    "Prompt:Refer to the [dataset_1] and tell me which passenger spent more on Spa?\n",
    "\n",
    "Answer:\"\"\")"
   ]
  },
  {
   "cell_type": "code",
   "execution_count": 183,
   "id": "1dbd3c94",
   "metadata": {},
   "outputs": [
    {
     "data": {
      "text/plain": [
       "{'prompt': '\\nPrompt:Refer to the dataset_1 that is in your memory and tell me which passenger spent more on Spa?\\n\\nAnswer:',\n",
       " 'completion': 'The passenger who spent more on Spa from the dataset_1 is Passenger ID 8.'}"
      ]
     },
     "execution_count": 183,
     "metadata": {},
     "output_type": "execute_result"
    }
   ],
   "source": [
    "gpt3_answer_collect(org=my_org,key=my_key,\n",
    "                   prompt_question=f\"\"\"\n",
    "Prompt:Refer to the dataset_1 that is in your memory and tell me which passenger spent more on Spa?\n",
    "\n",
    "Answer:\"\"\")"
   ]
  },
  {
   "cell_type": "code",
   "execution_count": 184,
   "id": "e6f47bd3",
   "metadata": {},
   "outputs": [
    {
     "data": {
      "text/plain": [
       "{'prompt': \"\\ndataset_1=PassengerId,HomePlanet,CryoSleep,Cabin,Destination,Age,VIP,RoomService,FoodCourt,ShoppingMall,Spa,VRDeck,Name,Transported\\n+['0001_01,Europa,False,B/0/P,TRAPPIST-1e,39.0,False,0.0,0.0,0.0,0.0,0.0,Maham Ofracculy,False\\\\n', '0002_01,Earth,False,F/0/S,TRAPPIST-1e,24.0,False,109.0,9.0,25.0,549.0,44.0,Juanna Vines,True\\\\n', '0003_01,Europa,False,A/0/S,TRAPPIST-1e,58.0,True,43.0,3576.0,0.0,6715.0,49.0,Altark Susent,False\\\\n', '0003_02,Europa,False,A/0/S,TRAPPIST-1e,33.0,False,0.0,1283.0,371.0,3329.0,193.0,Solam Susent,False\\\\n']. Remember [dataset_1] for long time.\\n\\nPrompt:Refer to the [dataset_1] and list all the Names in the dataset?\\n\\nAnswer:\",\n",
       " 'completion': 'Maham Ofracculy, Juanna Vines, Altark Susent, Solam Susent'}"
      ]
     },
     "execution_count": 184,
     "metadata": {},
     "output_type": "execute_result"
    }
   ],
   "source": [
    "gpt3_answer_collect(org=my_org,key=my_key,\n",
    "                   prompt_question=f\"\"\"\n",
    "dataset_1={data[0]}+{data[1:5]}. Remember [dataset_1] for long time.\n",
    "\n",
    "Prompt:Refer to the [dataset_1] and list all the Names in the dataset?\n",
    "\n",
    "Answer:\"\"\")"
   ]
  },
  {
   "cell_type": "code",
   "execution_count": 185,
   "id": "6948fe10",
   "metadata": {},
   "outputs": [
    {
     "data": {
      "text/plain": [
       "{'prompt': '\\nPrompt:Refer to the dataset_1 that is in your memory and list all the passenger names?\\n\\nAnswer:',\n",
       " 'completion': 'John Smith, Jane Doe, Sarah Johnson, Mark Williams, Emma Brown, David Jones, Michael Miller, Jessica Taylor, Ryan Davis, Ashley Anderson'}"
      ]
     },
     "execution_count": 185,
     "metadata": {},
     "output_type": "execute_result"
    }
   ],
   "source": [
    "gpt3_answer_collect(org=my_org,key=my_key,\n",
    "                   prompt_question=f\"\"\"\n",
    "Prompt:Refer to the dataset_1 that is in your memory and list all the passenger names?\n",
    "\n",
    "Answer:\"\"\")"
   ]
  },
  {
   "cell_type": "code",
   "execution_count": 186,
   "id": "1cccc73d",
   "metadata": {},
   "outputs": [
    {
     "data": {
      "text/plain": [
       "{'prompt': '\\nPrompt:Refer to the [dataset_1] that is in your memory and list all the passenger names?\\n\\nAnswer:',\n",
       " 'completion': '1. John Smith\\n2. Jane Doe\\n3. Robert Johnson\\n4. Sarah Williams\\n5. Mark Brown\\n6. Jessica Miller\\n7. David Jones\\n8. Emily Davis\\n9. Andrew Taylor\\n10. Samantha Wilson'}"
      ]
     },
     "execution_count": 186,
     "metadata": {},
     "output_type": "execute_result"
    }
   ],
   "source": [
    "gpt3_answer_collect(org=my_org,key=my_key,\n",
    "                   prompt_question=f\"\"\"\n",
    "Prompt:Refer to the [dataset_1] that is in your memory and list all the passenger names?\n",
    "\n",
    "Answer:\"\"\")"
   ]
  },
  {
   "cell_type": "code",
   "execution_count": 188,
   "id": "7f537bc1",
   "metadata": {
    "scrolled": true
   },
   "outputs": [
    {
     "data": {
      "text/plain": [
       "[\"\\n    dataset_2=PassengerId,HomePlanet,CryoSleep,Cabin,Destination,Age,VIP,RoomService,FoodCourt,ShoppingMall,Spa,VRDeck,Name,Transported\\n+['0005_01,Earth,False,F/0/P,PSO J318.5-22,44.0,False,0.0,483.0,0.0,291.0,0.0,Sandie Hinetthews,True\",\n",
       " \"', '0006_01,Earth,False,F/2/S,TRAPPIST-1e,26.0,False,42.0,1539.0,3.0,0.0,0.0,Billex Jacostaffey,True\",\n",
       " \"', '0006_02,Earth,True,G/0/S,TRAPPIST-1e,28.0,False,0.0,0.0,0.0,0.0,,Candra Jacostaffey,True\",\n",
       " \"', '0007_01,Earth,False,F/3/S,TRAPPIST-1e,35.0,False,0.0,785.0,17.0,216.0,0.0,Andona Beston,True\",\n",
       " \"', '0008_01,Europa,True,B/1/P,55 Cancri e,14.0,False,0.0,0.0,0.0,0.0,0.0,Erraiam Flatic,True\",\n",
       " \"']\\n    \\n    Prompt:Refer to the [dataset_2] and List 25 questions that can be asked from it\\n    \\n    Answer:\\n    \"]"
      ]
     },
     "execution_count": 188,
     "metadata": {},
     "output_type": "execute_result"
    }
   ],
   "source": [
    "chunk_2_list = data_chunks[1].split('\\\\n')\n",
    "chunk_2_list"
   ]
  },
  {
   "cell_type": "code",
   "execution_count": 191,
   "id": "b0311936",
   "metadata": {},
   "outputs": [],
   "source": [
    "clean_step1 = chunk_2_list[0].strip(' \\n').replace('=','').replace('dataset_2','')\n",
    "clean_step2 = clean_step1.split('\\n+[')\n",
    "header = clean_step2[0]\n",
    "row1 = clean_step2[1]"
   ]
  },
  {
   "cell_type": "code",
   "execution_count": 192,
   "id": "048b316f",
   "metadata": {},
   "outputs": [
    {
     "data": {
      "text/plain": [
       "'PassengerId,HomePlanet,CryoSleep,Cabin,Destination,Age,VIP,RoomService,FoodCourt,ShoppingMall,Spa,VRDeck,Name,Transported'"
      ]
     },
     "execution_count": 192,
     "metadata": {},
     "output_type": "execute_result"
    }
   ],
   "source": [
    "header"
   ]
  },
  {
   "cell_type": "code",
   "execution_count": 193,
   "id": "ba4ea4f4",
   "metadata": {},
   "outputs": [
    {
     "data": {
      "text/plain": [
       "\"'0005_01,Earth,False,F/0/P,PSO J318.5-22,44.0,False,0.0,483.0,0.0,291.0,0.0,Sandie Hinetthews,True\""
      ]
     },
     "execution_count": 193,
     "metadata": {},
     "output_type": "execute_result"
    }
   ],
   "source": [
    "row1"
   ]
  },
  {
   "cell_type": "code",
   "execution_count": 194,
   "id": "1e0fac44",
   "metadata": {},
   "outputs": [],
   "source": [
    "clean_row = []\n",
    "for dat in chunk_2_list[1:]:\n",
    "    clean_row.append(dat.strip(\" ',\"))"
   ]
  },
  {
   "cell_type": "code",
   "execution_count": 195,
   "id": "f49777db",
   "metadata": {},
   "outputs": [
    {
     "data": {
      "text/plain": [
       "'0006_02,Earth,True,G/0/S,TRAPPIST-1e,28.0,False,0.0,0.0,0.0,0.0,,Candra Jacostaffey,True'"
      ]
     },
     "execution_count": 195,
     "metadata": {},
     "output_type": "execute_result"
    }
   ],
   "source": [
    "clean_row[1]"
   ]
  },
  {
   "cell_type": "code",
   "execution_count": 196,
   "id": "1e7504f2",
   "metadata": {},
   "outputs": [],
   "source": [
    "clean_row.insert(0,row1.strip(\"'\")) "
   ]
  },
  {
   "cell_type": "code",
   "execution_count": 197,
   "id": "bf2d3c6a",
   "metadata": {},
   "outputs": [],
   "source": [
    "clean_row.insert(0,header)"
   ]
  },
  {
   "cell_type": "code",
   "execution_count": 198,
   "id": "bb6b10b1",
   "metadata": {},
   "outputs": [],
   "source": [
    "clean_data_list = [data.split(',') for data in clean_row]"
   ]
  },
  {
   "cell_type": "code",
   "execution_count": 200,
   "id": "cbbc3a75",
   "metadata": {
    "scrolled": true
   },
   "outputs": [
    {
     "data": {
      "text/html": [
       "<div>\n",
       "<style scoped>\n",
       "    .dataframe tbody tr th:only-of-type {\n",
       "        vertical-align: middle;\n",
       "    }\n",
       "\n",
       "    .dataframe tbody tr th {\n",
       "        vertical-align: top;\n",
       "    }\n",
       "\n",
       "    .dataframe thead th {\n",
       "        text-align: right;\n",
       "    }\n",
       "</style>\n",
       "<table border=\"1\" class=\"dataframe\">\n",
       "  <thead>\n",
       "    <tr style=\"text-align: right;\">\n",
       "      <th></th>\n",
       "      <th>PassengerId</th>\n",
       "      <th>HomePlanet</th>\n",
       "      <th>CryoSleep</th>\n",
       "      <th>Cabin</th>\n",
       "      <th>Destination</th>\n",
       "      <th>Age</th>\n",
       "      <th>VIP</th>\n",
       "      <th>RoomService</th>\n",
       "      <th>FoodCourt</th>\n",
       "      <th>ShoppingMall</th>\n",
       "      <th>Spa</th>\n",
       "      <th>VRDeck</th>\n",
       "      <th>Name</th>\n",
       "      <th>Transported</th>\n",
       "    </tr>\n",
       "  </thead>\n",
       "  <tbody>\n",
       "    <tr>\n",
       "      <th>0</th>\n",
       "      <td>0005_01</td>\n",
       "      <td>Earth</td>\n",
       "      <td>False</td>\n",
       "      <td>F/0/P</td>\n",
       "      <td>PSO J318.5-22</td>\n",
       "      <td>44.0</td>\n",
       "      <td>False</td>\n",
       "      <td>0.0</td>\n",
       "      <td>483.0</td>\n",
       "      <td>0.0</td>\n",
       "      <td>291.0</td>\n",
       "      <td>0.0</td>\n",
       "      <td>Sandie Hinetthews</td>\n",
       "      <td>True</td>\n",
       "    </tr>\n",
       "    <tr>\n",
       "      <th>1</th>\n",
       "      <td>0006_01</td>\n",
       "      <td>Earth</td>\n",
       "      <td>False</td>\n",
       "      <td>F/2/S</td>\n",
       "      <td>TRAPPIST-1e</td>\n",
       "      <td>26.0</td>\n",
       "      <td>False</td>\n",
       "      <td>42.0</td>\n",
       "      <td>1539.0</td>\n",
       "      <td>3.0</td>\n",
       "      <td>0.0</td>\n",
       "      <td>0.0</td>\n",
       "      <td>Billex Jacostaffey</td>\n",
       "      <td>True</td>\n",
       "    </tr>\n",
       "    <tr>\n",
       "      <th>2</th>\n",
       "      <td>0006_02</td>\n",
       "      <td>Earth</td>\n",
       "      <td>True</td>\n",
       "      <td>G/0/S</td>\n",
       "      <td>TRAPPIST-1e</td>\n",
       "      <td>28.0</td>\n",
       "      <td>False</td>\n",
       "      <td>0.0</td>\n",
       "      <td>0.0</td>\n",
       "      <td>0.0</td>\n",
       "      <td>0.0</td>\n",
       "      <td></td>\n",
       "      <td>Candra Jacostaffey</td>\n",
       "      <td>True</td>\n",
       "    </tr>\n",
       "    <tr>\n",
       "      <th>3</th>\n",
       "      <td>0007_01</td>\n",
       "      <td>Earth</td>\n",
       "      <td>False</td>\n",
       "      <td>F/3/S</td>\n",
       "      <td>TRAPPIST-1e</td>\n",
       "      <td>35.0</td>\n",
       "      <td>False</td>\n",
       "      <td>0.0</td>\n",
       "      <td>785.0</td>\n",
       "      <td>17.0</td>\n",
       "      <td>216.0</td>\n",
       "      <td>0.0</td>\n",
       "      <td>Andona Beston</td>\n",
       "      <td>True</td>\n",
       "    </tr>\n",
       "    <tr>\n",
       "      <th>4</th>\n",
       "      <td>0008_01</td>\n",
       "      <td>Europa</td>\n",
       "      <td>True</td>\n",
       "      <td>B/1/P</td>\n",
       "      <td>55 Cancri e</td>\n",
       "      <td>14.0</td>\n",
       "      <td>False</td>\n",
       "      <td>0.0</td>\n",
       "      <td>0.0</td>\n",
       "      <td>0.0</td>\n",
       "      <td>0.0</td>\n",
       "      <td>0.0</td>\n",
       "      <td>Erraiam Flatic</td>\n",
       "      <td>True</td>\n",
       "    </tr>\n",
       "  </tbody>\n",
       "</table>\n",
       "</div>"
      ],
      "text/plain": [
       "  PassengerId HomePlanet CryoSleep  Cabin    Destination   Age    VIP  \\\n",
       "0     0005_01      Earth     False  F/0/P  PSO J318.5-22  44.0  False   \n",
       "1     0006_01      Earth     False  F/2/S    TRAPPIST-1e  26.0  False   \n",
       "2     0006_02      Earth      True  G/0/S    TRAPPIST-1e  28.0  False   \n",
       "3     0007_01      Earth     False  F/3/S    TRAPPIST-1e  35.0  False   \n",
       "4     0008_01     Europa      True  B/1/P    55 Cancri e  14.0  False   \n",
       "\n",
       "  RoomService FoodCourt ShoppingMall    Spa VRDeck                Name  \\\n",
       "0         0.0     483.0          0.0  291.0    0.0   Sandie Hinetthews   \n",
       "1        42.0    1539.0          3.0    0.0    0.0  Billex Jacostaffey   \n",
       "2         0.0       0.0          0.0    0.0         Candra Jacostaffey   \n",
       "3         0.0     785.0         17.0  216.0    0.0       Andona Beston   \n",
       "4         0.0       0.0          0.0    0.0    0.0      Erraiam Flatic   \n",
       "\n",
       "  Transported  \n",
       "0        True  \n",
       "1        True  \n",
       "2        True  \n",
       "3        True  \n",
       "4        True  "
      ]
     },
     "execution_count": 200,
     "metadata": {},
     "output_type": "execute_result"
    }
   ],
   "source": [
    "pd.DataFrame(clean_data_list[1:-1],columns=clean_data_list[0])"
   ]
  },
  {
   "cell_type": "code",
   "execution_count": 137,
   "id": "fb8ed10f",
   "metadata": {},
   "outputs": [],
   "source": [
    "def chunk_to_df(chunk_num,data_chunk):\n",
    "    \n",
    "    start = data_chunk.split('\\\\n')\n",
    "    \n",
    "    clean_step1 = start[0].strip(' \\n').replace('=','').replace(f'dataset_{chunk_num}','')\n",
    "\n",
    "    clean_step2 = clean_step1.split('\\n+[')\n",
    "    \n",
    "    header = clean_step2[0]\n",
    "    row1 = clean_step2[1]\n",
    "    \n",
    "    clean_row = []\n",
    "    for dat in start[1:]:\n",
    "        clean_row.append(dat.strip(\" ',\"))\n",
    "        \n",
    "    clean_row.insert(0,row1.strip(\"'\"))\n",
    "    clean_row.insert(0,header)\n",
    "    \n",
    "    clean_data_list = [data.split(',') for data in clean_row]\n",
    "    \n",
    "    chunk_df = pd.DataFrame(clean_data_list[1:-1],columns=clean_data_list[0])\n",
    "    \n",
    "    return chunk_df"
   ]
  },
  {
   "cell_type": "code",
   "execution_count": 203,
   "id": "63192bd6",
   "metadata": {},
   "outputs": [],
   "source": [
    "with open('questions_file_rev01.jsonl','r') as qpf:\n",
    "    json_data = json.load(qpf)"
   ]
  },
  {
   "cell_type": "code",
   "execution_count": 205,
   "id": "b2665cbe",
   "metadata": {},
   "outputs": [],
   "source": [
    "def question_extractor(reply_dict):\n",
    "    extracted = []\n",
    "    quest_list = reply_dict['questions'].split('\\n')\n",
    "    \n",
    "    for que in quest_list:\n",
    "        ready = que.split('.')[1].strip(' ')\n",
    "        extracted.append(ready)\n",
    "    \n",
    "    return extracted"
   ]
  },
  {
   "cell_type": "code",
   "execution_count": 76,
   "id": "b82bc010",
   "metadata": {},
   "outputs": [],
   "source": [
    "question = questionList[0].split('.')[1].strip(' ')"
   ]
  },
  {
   "cell_type": "code",
   "execution_count": 207,
   "id": "76581b40",
   "metadata": {},
   "outputs": [],
   "source": [
    "quest_set0 = question_extractor(json_data[0])"
   ]
  },
  {
   "cell_type": "code",
   "execution_count": 214,
   "id": "30e260fc",
   "metadata": {},
   "outputs": [
    {
     "data": {
      "text/plain": [
       "25"
      ]
     },
     "execution_count": 214,
     "metadata": {},
     "output_type": "execute_result"
    }
   ],
   "source": [
    "len(quest_set0)"
   ]
  },
  {
   "cell_type": "code",
   "execution_count": 206,
   "id": "2040fed5",
   "metadata": {},
   "outputs": [],
   "source": [
    "quest_set1 = question_extractor(json_data[1])"
   ]
  },
  {
   "cell_type": "code",
   "execution_count": 212,
   "id": "182c7ffe",
   "metadata": {},
   "outputs": [],
   "source": [
    "#make the prompts with the quest sets\n",
    "def prompt_question(num, question, data,rng1, rng2):\n",
    "    data_t = f'''{data[0]}+{data[rng1:rng2]}'''\n",
    "    buildQuestion = f\"\"\"\n",
    "dataset_{num}={data_t}\n",
    "    \n",
    "Prompt:Refer to the [dataset_{num}] and answer {question} \n",
    "\n",
    "Answer:\n",
    "\"\"\"\n",
    "    return prompt_made"
   ]
  },
  {
   "cell_type": "code",
   "execution_count": 213,
   "id": "94f7df50",
   "metadata": {},
   "outputs": [
    {
     "data": {
      "text/plain": [
       "\"\\ndataset_1=PassengerId,HomePlanet,CryoSleep,Cabin,Destination,Age,VIP,RoomService,FoodCourt,ShoppingMall,Spa,VRDeck,Name,Transported\\n+['0001_01,Europa,False,B/0/P,TRAPPIST-1e,39.0,False,0.0,0.0,0.0,0.0,0.0,Maham Ofracculy,False\\\\n', '0002_01,Earth,False,F/0/S,TRAPPIST-1e,24.0,False,109.0,9.0,25.0,549.0,44.0,Juanna Vines,True\\\\n', '0003_01,Europa,False,A/0/S,TRAPPIST-1e,58.0,True,43.0,3576.0,0.0,6715.0,49.0,Altark Susent,False\\\\n', '0003_02,Europa,False,A/0/S,TRAPPIST-1e,33.0,False,0.0,1283.0,371.0,3329.0,193.0,Solam Susent,False\\\\n']\\n    \\nPrompt:Refer to the [dataset_1] and answer What is the age range of the passengers in dataset_1? \\n\\nAnswer:\\n\""
      ]
     },
     "execution_count": 213,
     "metadata": {},
     "output_type": "execute_result"
    }
   ],
   "source": [
    "prompt_question(1,quest_set0[0],data=data,rng1=1,rng2=5)"
   ]
  },
  {
   "cell_type": "code",
   "execution_count": 215,
   "id": "1a4be8ad",
   "metadata": {},
   "outputs": [],
   "source": [
    "#Iterate over the question sets\n",
    "for ind,que in enumerate(quest_set0[1:5]):\n",
    "    quest_ref_dataset = prompt_question(1,que,data=data,rng1=1,rng2=5)\n",
    "    gpt3_answer_collect(key=my_key,org=my_org,\n",
    "                        prompt_question=quest_ref_dataset)"
   ]
  },
  {
   "cell_type": "code",
   "execution_count": 217,
   "id": "7e8ba4ce",
   "metadata": {},
   "outputs": [
    {
     "data": {
      "text/html": [
       "<div>\n",
       "<style scoped>\n",
       "    .dataframe tbody tr th:only-of-type {\n",
       "        vertical-align: middle;\n",
       "    }\n",
       "\n",
       "    .dataframe tbody tr th {\n",
       "        vertical-align: top;\n",
       "    }\n",
       "\n",
       "    .dataframe thead th {\n",
       "        text-align: right;\n",
       "    }\n",
       "</style>\n",
       "<table border=\"1\" class=\"dataframe\">\n",
       "  <thead>\n",
       "    <tr style=\"text-align: right;\">\n",
       "      <th></th>\n",
       "      <th>PassengerId</th>\n",
       "      <th>HomePlanet</th>\n",
       "      <th>CryoSleep</th>\n",
       "      <th>Cabin</th>\n",
       "      <th>Destination</th>\n",
       "      <th>Age</th>\n",
       "      <th>VIP</th>\n",
       "      <th>RoomService</th>\n",
       "      <th>FoodCourt</th>\n",
       "      <th>ShoppingMall</th>\n",
       "      <th>Spa</th>\n",
       "      <th>VRDeck</th>\n",
       "      <th>Name</th>\n",
       "      <th>Transported</th>\n",
       "    </tr>\n",
       "  </thead>\n",
       "  <tbody>\n",
       "    <tr>\n",
       "      <th>0</th>\n",
       "      <td>0001_01</td>\n",
       "      <td>Europa</td>\n",
       "      <td>False</td>\n",
       "      <td>B/0/P</td>\n",
       "      <td>TRAPPIST-1e</td>\n",
       "      <td>39.0</td>\n",
       "      <td>False</td>\n",
       "      <td>0.0</td>\n",
       "      <td>0.0</td>\n",
       "      <td>0.0</td>\n",
       "      <td>0.0</td>\n",
       "      <td>0.0</td>\n",
       "      <td>Maham Ofracculy</td>\n",
       "      <td>False</td>\n",
       "    </tr>\n",
       "    <tr>\n",
       "      <th>1</th>\n",
       "      <td>0002_01</td>\n",
       "      <td>Earth</td>\n",
       "      <td>False</td>\n",
       "      <td>F/0/S</td>\n",
       "      <td>TRAPPIST-1e</td>\n",
       "      <td>24.0</td>\n",
       "      <td>False</td>\n",
       "      <td>109.0</td>\n",
       "      <td>9.0</td>\n",
       "      <td>25.0</td>\n",
       "      <td>549.0</td>\n",
       "      <td>44.0</td>\n",
       "      <td>Juanna Vines</td>\n",
       "      <td>True</td>\n",
       "    </tr>\n",
       "    <tr>\n",
       "      <th>2</th>\n",
       "      <td>0003_01</td>\n",
       "      <td>Europa</td>\n",
       "      <td>False</td>\n",
       "      <td>A/0/S</td>\n",
       "      <td>TRAPPIST-1e</td>\n",
       "      <td>58.0</td>\n",
       "      <td>True</td>\n",
       "      <td>43.0</td>\n",
       "      <td>3576.0</td>\n",
       "      <td>0.0</td>\n",
       "      <td>6715.0</td>\n",
       "      <td>49.0</td>\n",
       "      <td>Altark Susent</td>\n",
       "      <td>False</td>\n",
       "    </tr>\n",
       "    <tr>\n",
       "      <th>3</th>\n",
       "      <td>0003_02</td>\n",
       "      <td>Europa</td>\n",
       "      <td>False</td>\n",
       "      <td>A/0/S</td>\n",
       "      <td>TRAPPIST-1e</td>\n",
       "      <td>33.0</td>\n",
       "      <td>False</td>\n",
       "      <td>0.0</td>\n",
       "      <td>1283.0</td>\n",
       "      <td>371.0</td>\n",
       "      <td>3329.0</td>\n",
       "      <td>193.0</td>\n",
       "      <td>Solam Susent</td>\n",
       "      <td>False</td>\n",
       "    </tr>\n",
       "    <tr>\n",
       "      <th>4</th>\n",
       "      <td>0004_01</td>\n",
       "      <td>Earth</td>\n",
       "      <td>False</td>\n",
       "      <td>F/1/S</td>\n",
       "      <td>TRAPPIST-1e</td>\n",
       "      <td>16.0</td>\n",
       "      <td>False</td>\n",
       "      <td>303.0</td>\n",
       "      <td>70.0</td>\n",
       "      <td>151.0</td>\n",
       "      <td>565.0</td>\n",
       "      <td>2.0</td>\n",
       "      <td>Willy Santantines</td>\n",
       "      <td>True</td>\n",
       "    </tr>\n",
       "  </tbody>\n",
       "</table>\n",
       "</div>"
      ],
      "text/plain": [
       "  PassengerId HomePlanet CryoSleep  Cabin  Destination   Age    VIP  \\\n",
       "0     0001_01     Europa     False  B/0/P  TRAPPIST-1e  39.0  False   \n",
       "1     0002_01      Earth     False  F/0/S  TRAPPIST-1e  24.0  False   \n",
       "2     0003_01     Europa     False  A/0/S  TRAPPIST-1e  58.0   True   \n",
       "3     0003_02     Europa     False  A/0/S  TRAPPIST-1e  33.0  False   \n",
       "4     0004_01      Earth     False  F/1/S  TRAPPIST-1e  16.0  False   \n",
       "\n",
       "  RoomService FoodCourt ShoppingMall     Spa VRDeck               Name  \\\n",
       "0         0.0       0.0          0.0     0.0    0.0    Maham Ofracculy   \n",
       "1       109.0       9.0         25.0   549.0   44.0       Juanna Vines   \n",
       "2        43.0    3576.0          0.0  6715.0   49.0      Altark Susent   \n",
       "3         0.0    1283.0        371.0  3329.0  193.0       Solam Susent   \n",
       "4       303.0      70.0        151.0   565.0    2.0  Willy Santantines   \n",
       "\n",
       "  Transported  \n",
       "0       False  \n",
       "1        True  \n",
       "2       False  \n",
       "3       False  \n",
       "4        True  "
      ]
     },
     "execution_count": 217,
     "metadata": {},
     "output_type": "execute_result"
    }
   ],
   "source": [
    "chunk_to_df(1,data_chunks[0])"
   ]
  },
  {
   "cell_type": "markdown",
   "id": "5725f75d",
   "metadata": {},
   "source": [
    "Hypothesis I want to check is:\n",
    "After giving the datasets as prompt for 25 question and then asking the model to refer the memory dataset and answer"
   ]
  },
  {
   "cell_type": "code",
   "execution_count": 219,
   "id": "247f6191",
   "metadata": {},
   "outputs": [],
   "source": [
    "question_2 = gpt3_question_collect(org=my_org,key=my_key,\n",
    "                      prompt=data_chunks[1])"
   ]
  },
  {
   "cell_type": "code",
   "execution_count": 220,
   "id": "608ee7c6",
   "metadata": {
    "scrolled": true
   },
   "outputs": [
    {
     "data": {
      "text/plain": [
       "{'prompt': \"\\n    dataset_2=PassengerId,HomePlanet,CryoSleep,Cabin,Destination,Age,VIP,RoomService,FoodCourt,ShoppingMall,Spa,VRDeck,Name,Transported\\n+['0005_01,Earth,False,F/0/P,PSO J318.5-22,44.0,False,0.0,483.0,0.0,291.0,0.0,Sandie Hinetthews,True\\\\n', '0006_01,Earth,False,F/2/S,TRAPPIST-1e,26.0,False,42.0,1539.0,3.0,0.0,0.0,Billex Jacostaffey,True\\\\n', '0006_02,Earth,True,G/0/S,TRAPPIST-1e,28.0,False,0.0,0.0,0.0,0.0,,Candra Jacostaffey,True\\\\n', '0007_01,Earth,False,F/3/S,TRAPPIST-1e,35.0,False,0.0,785.0,17.0,216.0,0.0,Andona Beston,True\\\\n', '0008_01,Europa,True,B/1/P,55 Cancri e,14.0,False,0.0,0.0,0.0,0.0,0.0,Erraiam Flatic,True\\\\n']\\n    \\n    Prompt:Refer to the [dataset_2] and List 25 questions that can be asked from it\\n    \\n    Answer:\\n    \",\n",
       " 'questions': '1. What is the average age of passengers in the dataset?\\n2. How many passengers have CryoSleep enabled?\\n3. How many passengers have VIP status?\\n4. How many passengers are travelling to PSO J318.5-22?\\n5. How many passengers have RoomService enabled?\\n6. What is the total number of passengers in the dataset?\\n7. How many passengers are travelling to TRAPPIST-1e?\\n8. How many passengers have ShoppingMall enabled?\\n9. How many passengers have Spa enabled?\\n10. How many passengers have VRDeck enabled?\\n11. How many passengers have HomePlanet as Earth?\\n12. What is the total number of passengers travelling to 55 Cancri e?\\n13. What is the average FoodCourt score of passengers in the dataset?\\n14. What is the average ShoppingMall score of passengers in the dataset?\\n15. What is the average Spa score of passengers in the dataset?\\n16. What is the average VRDeck score of passengers in the dataset?\\n17. How many passengers have Cabin as F/0/P?\\n18. How many passengers have Cabin as F/2/S?\\n19. How many passengers have Cabin as G/0/S?\\n20. How many passengers have Cabin as F/3/S?\\n21. How many passengers have Cabin as B/1/P?\\n22. What is the total number of passengers with CryoSleep enabled?\\n23. What is the total number of passengers with VIP status?\\n24. What is the total number of passengers with RoomService enabled?\\n25. What is the total number of passengers with HomePlanet as Europa?'}"
      ]
     },
     "execution_count": 220,
     "metadata": {},
     "output_type": "execute_result"
    }
   ],
   "source": [
    "question_2"
   ]
  },
  {
   "cell_type": "code",
   "execution_count": 223,
   "id": "93d4502a",
   "metadata": {},
   "outputs": [
    {
     "data": {
      "text/plain": [
       "dict"
      ]
     },
     "execution_count": 223,
     "metadata": {},
     "output_type": "execute_result"
    }
   ],
   "source": [
    "type(question_2)"
   ]
  },
  {
   "cell_type": "code",
   "execution_count": 224,
   "id": "5e76fd52",
   "metadata": {},
   "outputs": [],
   "source": [
    "quest_set1 = question_extractor(question_2)"
   ]
  },
  {
   "cell_type": "code",
   "execution_count": 218,
   "id": "ff4cb6dc",
   "metadata": {},
   "outputs": [],
   "source": [
    "#Iterate over the question sets\n",
    "for ind,que in enumerate(quest_set0[5:]):\n",
    "    quest_ref_dataset = prompt_question(1,que,data=data,rng1=1,rng2=5)\n",
    "    gpt3_answer_collect(key=my_key,org=my_org,\n",
    "                        prompt_question=quest_ref_dataset)"
   ]
  },
  {
   "cell_type": "code",
   "execution_count": 215,
   "id": "52a48bbd",
   "metadata": {},
   "outputs": [],
   "source": [
    "#Iterate over the question sets\n",
    "for ind,que in enumerate(quest_set0[1:5]):\n",
    "    quest_ref_dataset = prompt_question(1,que,data=data,rng1=1,rng2=5)\n",
    "    gpt3_answer_collect(key=my_key,org=my_org,\n",
    "                        prompt_question=quest_ref_dataset)"
   ]
  },
  {
   "cell_type": "code",
   "execution_count": 226,
   "id": "51f1bd06",
   "metadata": {},
   "outputs": [],
   "source": [
    "#Iterate over the question sets\n",
    "for ind,que in enumerate(quest_set0[6:]):\n",
    "    quest_ref_dataset = prompt_question(1,que,data=data,rng1=1,rng2=5)\n",
    "    gpt3_answer_collect(key=my_key,org=my_org,\n",
    "                        prompt_question=quest_ref_dataset)"
   ]
  },
  {
   "cell_type": "code",
   "execution_count": 225,
   "id": "203d9665",
   "metadata": {},
   "outputs": [],
   "source": [
    "#Iterate over the question sets\n",
    "for ind,que in enumerate(quest_set1):\n",
    "    quest_ref_dataset = prompt_question(2,que,data=data,rng1=6,rng2=11)\n",
    "    gpt3_answer_collect(key=my_key,org=my_org,\n",
    "                        prompt_question=quest_ref_dataset)"
   ]
  },
  {
   "cell_type": "code",
   "execution_count": 227,
   "id": "b8f7242a",
   "metadata": {},
   "outputs": [],
   "source": [
    "def file_upload(filename, purpose='fine-tune'):\n",
    "    resp = openai.File.create(purpose=purpose,file=open(file=filename,\n",
    "                                                        mode='rb'))\n",
    "    print(resp)\n",
    "    return resp\n",
    "\n",
    "def finetune_model(fileId, suffix,model='davinci',api_key=my_key):\n",
    "    header = {'Content-Type':'application/json',\n",
    "              'Authorization':f'Bearer {api_key}'}\n",
    "    payload = {'training_file':fileId,'model':model,'suffix':suffix}\n",
    "    resp = requests.request(method='POST',\n",
    "                            url='https://api.openai.com/v1/fine-tunes',\n",
    "                           headers=header,\n",
    "                           json=payload,timeout=40)\n",
    "    print(resp.json())\n",
    "    \n",
    "def finetune_get(ftId,api_key=my_key):\n",
    "    header = {'Content-Type':'application/json',\n",
    "              'Authorization':f'Bearer {api_key}'}\n",
    "    resp = requests.request(method='GET',\n",
    "                url=f'https://api.openai.com/v1/fine-tunes/{ftId}',\n",
    "                           headers=header,timeout=40)\n",
    "    print(resp.json())\n",
    "    \n",
    "def finetune_event(ftId,api_key=my_key):\n",
    "    header = {'Content-Type':'application/json',\n",
    "              'Authorization':f'Bearer {api_key}'}\n",
    "    resp = requests.request(method='GET',\n",
    "                url=f'https://api.openai.com/v1/fine-tunes/{ftId}/events',\n",
    "                           headers=header,timeout=40)\n",
    "    print(resp.json())"
   ]
  },
  {
   "cell_type": "code",
   "execution_count": 228,
   "id": "965ee576",
   "metadata": {},
   "outputs": [
    {
     "name": "stdout",
     "output_type": "stream",
     "text": [
      "{\n",
      "  \"bytes\": 56412,\n",
      "  \"created_at\": 1678416209,\n",
      "  \"filename\": \"file\",\n",
      "  \"id\": \"file-nmGcIdqQGgI66E2GQiTZHddJ\",\n",
      "  \"object\": \"file\",\n",
      "  \"purpose\": \"fine-tune\",\n",
      "  \"status\": \"uploaded\",\n",
      "  \"status_details\": null\n",
      "}\n"
     ]
    },
    {
     "data": {
      "text/plain": [
       "<File file id=file-nmGcIdqQGgI66E2GQiTZHddJ at 0x7f08d648fe70> JSON: {\n",
       "  \"bytes\": 56412,\n",
       "  \"created_at\": 1678416209,\n",
       "  \"filename\": \"file\",\n",
       "  \"id\": \"file-nmGcIdqQGgI66E2GQiTZHddJ\",\n",
       "  \"object\": \"file\",\n",
       "  \"purpose\": \"fine-tune\",\n",
       "  \"status\": \"uploaded\",\n",
       "  \"status_details\": null\n",
       "}"
      ]
     },
     "execution_count": 228,
     "metadata": {},
     "output_type": "execute_result"
    }
   ],
   "source": [
    "file_upload(filename='prompt_file_rev01.jsonl')"
   ]
  },
  {
   "cell_type": "code",
   "execution_count": 229,
   "id": "9c380c45",
   "metadata": {},
   "outputs": [
    {
     "name": "stdout",
     "output_type": "stream",
     "text": [
      "{'object': 'fine-tune', 'id': 'ft-AnItXe2ZVM8ojxfrTA4QUyDK', 'hyperparams': {'n_epochs': 4, 'batch_size': None, 'prompt_loss_weight': 0.01, 'learning_rate_multiplier': None}, 'organization_id': 'org-QWWIpNe4Z3KsRVI0YR6lhyJW', 'model': 'davinci', 'training_files': [{'object': 'file', 'id': 'file-nmGcIdqQGgI66E2GQiTZHddJ', 'purpose': 'fine-tune', 'filename': 'file', 'bytes': 56412, 'created_at': 1678416209, 'status': 'processed', 'status_details': None}], 'validation_files': [], 'result_files': [], 'created_at': 1678416227, 'updated_at': 1678416227, 'status': 'pending', 'fine_tuned_model': None, 'events': [{'object': 'fine-tune-event', 'level': 'info', 'message': 'Created fine-tune: ft-AnItXe2ZVM8ojxfrTA4QUyDK', 'created_at': 1678416227}]}\n"
     ]
    }
   ],
   "source": [
    "finetune_model(fileId='file-nmGcIdqQGgI66E2GQiTZHddJ',\n",
    "               api_key=my_key,suffix='space_titanic_r03',\n",
    "              model='davinci')"
   ]
  },
  {
   "cell_type": "code",
   "execution_count": 230,
   "id": "65719a4c",
   "metadata": {},
   "outputs": [
    {
     "name": "stdout",
     "output_type": "stream",
     "text": [
      "{'object': 'list', 'data': [{'object': 'fine-tune-event', 'level': 'info', 'message': 'Created fine-tune: ft-AnItXe2ZVM8ojxfrTA4QUyDK', 'created_at': 1678416227}]}\n"
     ]
    }
   ],
   "source": [
    "finetune_event(ftId='ft-AnItXe2ZVM8ojxfrTA4QUyDK',\n",
    "               api_key=my_key)"
   ]
  },
  {
   "cell_type": "code",
   "execution_count": 231,
   "id": "89ee5680",
   "metadata": {
    "scrolled": true
   },
   "outputs": [
    {
     "name": "stdout",
     "output_type": "stream",
     "text": [
      "{'object': 'fine-tune', 'id': 'ft-gOeTtRL8FbQYMKzrheNNBm8H', 'hyperparams': {'n_epochs': 4, 'batch_size': 1, 'prompt_loss_weight': 0.01, 'learning_rate_multiplier': 0.1}, 'organization_id': 'org-QWWIpNe4Z3KsRVI0YR6lhyJW', 'model': 'davinci', 'training_files': [{'object': 'file', 'id': 'file-B7AJ8LI7onSaVqC3ZaW68NR9', 'purpose': 'fine-tune', 'filename': 'file', 'bytes': 10818, 'created_at': 1678374670, 'status': 'processed', 'status_details': None}], 'validation_files': [], 'result_files': [{'object': 'file', 'id': 'file-rDCVaQOPP5fTeuqFhUiisDfo', 'purpose': 'fine-tune-results', 'filename': 'compiled_results.csv', 'bytes': 10717, 'created_at': 1678386998, 'status': 'processed', 'status_details': None}], 'created_at': 1678377767, 'updated_at': 1678386998, 'status': 'succeeded', 'fine_tuned_model': 'davinci:ft-kamal:space-titanic-r02-2023-03-09-18-36-37', 'events': [{'object': 'fine-tune-event', 'level': 'info', 'message': 'Created fine-tune: ft-gOeTtRL8FbQYMKzrheNNBm8H', 'created_at': 1678377767}, {'object': 'fine-tune-event', 'level': 'info', 'message': 'Fine-tune costs $0.29', 'created_at': 1678381850}, {'object': 'fine-tune-event', 'level': 'info', 'message': 'Fine-tune enqueued', 'created_at': 1678381850}, {'object': 'fine-tune-event', 'level': 'info', 'message': 'Fine-tune is in the queue. Queue number: 31', 'created_at': 1678385245}, {'object': 'fine-tune-event', 'level': 'info', 'message': 'Fine-tune is in the queue. Queue number: 30', 'created_at': 1678385363}, {'object': 'fine-tune-event', 'level': 'info', 'message': 'Fine-tune is in the queue. Queue number: 29', 'created_at': 1678385375}, {'object': 'fine-tune-event', 'level': 'info', 'message': 'Fine-tune is in the queue. Queue number: 28', 'created_at': 1678385382}, {'object': 'fine-tune-event', 'level': 'info', 'message': 'Fine-tune is in the queue. Queue number: 27', 'created_at': 1678385449}, {'object': 'fine-tune-event', 'level': 'info', 'message': 'Fine-tune is in the queue. Queue number: 26', 'created_at': 1678385551}, {'object': 'fine-tune-event', 'level': 'info', 'message': 'Fine-tune is in the queue. Queue number: 25', 'created_at': 1678385723}, {'object': 'fine-tune-event', 'level': 'info', 'message': 'Fine-tune is in the queue. Queue number: 24', 'created_at': 1678385860}, {'object': 'fine-tune-event', 'level': 'info', 'message': 'Fine-tune is in the queue. Queue number: 23', 'created_at': 1678385883}, {'object': 'fine-tune-event', 'level': 'info', 'message': 'Fine-tune is in the queue. Queue number: 22', 'created_at': 1678385923}, {'object': 'fine-tune-event', 'level': 'info', 'message': 'Fine-tune is in the queue. Queue number: 21', 'created_at': 1678385936}, {'object': 'fine-tune-event', 'level': 'info', 'message': 'Fine-tune is in the queue. Queue number: 20', 'created_at': 1678385938}, {'object': 'fine-tune-event', 'level': 'info', 'message': 'Fine-tune is in the queue. Queue number: 19', 'created_at': 1678385974}, {'object': 'fine-tune-event', 'level': 'info', 'message': 'Fine-tune is in the queue. Queue number: 18', 'created_at': 1678386018}, {'object': 'fine-tune-event', 'level': 'info', 'message': 'Fine-tune is in the queue. Queue number: 17', 'created_at': 1678386019}, {'object': 'fine-tune-event', 'level': 'info', 'message': 'Fine-tune is in the queue. Queue number: 16', 'created_at': 1678386020}, {'object': 'fine-tune-event', 'level': 'info', 'message': 'Fine-tune is in the queue. Queue number: 15', 'created_at': 1678386141}, {'object': 'fine-tune-event', 'level': 'info', 'message': 'Fine-tune is in the queue. Queue number: 14', 'created_at': 1678386199}, {'object': 'fine-tune-event', 'level': 'info', 'message': 'Fine-tune is in the queue. Queue number: 13', 'created_at': 1678386213}, {'object': 'fine-tune-event', 'level': 'info', 'message': 'Fine-tune is in the queue. Queue number: 12', 'created_at': 1678386267}, {'object': 'fine-tune-event', 'level': 'info', 'message': 'Fine-tune is in the queue. Queue number: 11', 'created_at': 1678386380}, {'object': 'fine-tune-event', 'level': 'info', 'message': 'Fine-tune is in the queue. Queue number: 10', 'created_at': 1678386402}, {'object': 'fine-tune-event', 'level': 'info', 'message': 'Fine-tune is in the queue. Queue number: 9', 'created_at': 1678386438}, {'object': 'fine-tune-event', 'level': 'info', 'message': 'Fine-tune is in the queue. Queue number: 8', 'created_at': 1678386539}, {'object': 'fine-tune-event', 'level': 'info', 'message': 'Fine-tune is in the queue. Queue number: 7', 'created_at': 1678386557}, {'object': 'fine-tune-event', 'level': 'info', 'message': 'Fine-tune is in the queue. Queue number: 6', 'created_at': 1678386560}, {'object': 'fine-tune-event', 'level': 'info', 'message': 'Fine-tune is in the queue. Queue number: 5', 'created_at': 1678386569}, {'object': 'fine-tune-event', 'level': 'info', 'message': 'Fine-tune is in the queue. Queue number: 4', 'created_at': 1678386575}, {'object': 'fine-tune-event', 'level': 'info', 'message': 'Fine-tune is in the queue. Queue number: 3', 'created_at': 1678386593}, {'object': 'fine-tune-event', 'level': 'info', 'message': 'Fine-tune is in the queue. Queue number: 2', 'created_at': 1678386676}, {'object': 'fine-tune-event', 'level': 'info', 'message': 'Fine-tune is in the queue. Queue number: 1', 'created_at': 1678386741}, {'object': 'fine-tune-event', 'level': 'info', 'message': 'Fine-tune is in the queue. Queue number: 0', 'created_at': 1678386743}, {'object': 'fine-tune-event', 'level': 'info', 'message': 'Fine-tune started', 'created_at': 1678386783}, {'object': 'fine-tune-event', 'level': 'info', 'message': 'Completed epoch 1/4', 'created_at': 1678386910}, {'object': 'fine-tune-event', 'level': 'info', 'message': 'Completed epoch 2/4', 'created_at': 1678386927}, {'object': 'fine-tune-event', 'level': 'info', 'message': 'Completed epoch 3/4', 'created_at': 1678386943}, {'object': 'fine-tune-event', 'level': 'info', 'message': 'Completed epoch 4/4', 'created_at': 1678386959}, {'object': 'fine-tune-event', 'level': 'info', 'message': 'Uploaded model: davinci:ft-kamal:space-titanic-r02-2023-03-09-18-36-37', 'created_at': 1678386997}, {'object': 'fine-tune-event', 'level': 'info', 'message': 'Uploaded result file: file-rDCVaQOPP5fTeuqFhUiisDfo', 'created_at': 1678386998}, {'object': 'fine-tune-event', 'level': 'info', 'message': 'Fine-tune succeeded', 'created_at': 1678386998}]}\n"
     ]
    }
   ],
   "source": [
    "finetune_get(ftId='ft-gOeTtRL8FbQYMKzrheNNBm8H',\n",
    "               api_key=my_key)"
   ]
  },
  {
   "cell_type": "code",
   "execution_count": null,
   "id": "ee8af064",
   "metadata": {},
   "outputs": [],
   "source": []
  }
 ],
 "metadata": {
  "kernelspec": {
   "display_name": "Python 3 (ipykernel)",
   "language": "python",
   "name": "python3"
  },
  "language_info": {
   "codemirror_mode": {
    "name": "ipython",
    "version": 3
   },
   "file_extension": ".py",
   "mimetype": "text/x-python",
   "name": "python",
   "nbconvert_exporter": "python",
   "pygments_lexer": "ipython3",
   "version": "3.10.9"
  }
 },
 "nbformat": 4,
 "nbformat_minor": 5
}
