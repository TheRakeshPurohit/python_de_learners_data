{
 "cells": [
  {
   "cell_type": "markdown",
   "id": "bd1a7cb2",
   "metadata": {},
   "source": [
    "Basic exploration of the openai end point with their api key."
   ]
  },
  {
   "cell_type": "markdown",
   "id": "a73d3f04",
   "metadata": {},
   "source": [
    "!pip install openai==0.27.0"
   ]
  },
  {
   "cell_type": "code",
   "execution_count": 10,
   "id": "66b9037f",
   "metadata": {},
   "outputs": [],
   "source": [
    "import json, openai\n",
    "import warnings\n",
    "import os\n",
    "warnings.filterwarnings('ignore')\n",
    "import configparser"
   ]
  },
  {
   "cell_type": "code",
   "execution_count": 11,
   "id": "91b4b71f",
   "metadata": {},
   "outputs": [],
   "source": [
    "readKey = configparser.ConfigParser()\n",
    "readKey.read_file(open('apidata.config'))"
   ]
  },
  {
   "cell_type": "code",
   "execution_count": 12,
   "id": "f1222ba0",
   "metadata": {},
   "outputs": [],
   "source": [
    "org = readKey[\"OPENAI\"][\"ORG\"]\n",
    "key = readKey[\"OPENAI\"][\"KEY\"]"
   ]
  },
  {
   "cell_type": "code",
   "execution_count": 13,
   "id": "8daf0ca7",
   "metadata": {},
   "outputs": [],
   "source": [
    "openai.organization = org\n",
    "openai.api_key= key"
   ]
  },
  {
   "cell_type": "code",
   "execution_count": 19,
   "id": "ffa62d95",
   "metadata": {},
   "outputs": [],
   "source": [
    "response = openai.ChatCompletion.create(\n",
    "    model=\"gpt-3.5-turbo\",\n",
    "    messages=[\n",
    "        {\"role\": \"system\", \"content\": \"You are a marketing executive.\"},\n",
    "        {\"role\": \"user\", \"content\": \"Generate me a Marketing slogan on ChatGPT\"}\n",
    "    ]\n",
    ")"
   ]
  },
  {
   "cell_type": "code",
   "execution_count": 20,
   "id": "ec81786c",
   "metadata": {},
   "outputs": [
    {
     "data": {
      "text/plain": [
       "<OpenAIObject chat.completion id=chatcmpl-6qN8F54T14cUIgMfNkLzQybDrI269 at 0x7fdc9084fab0> JSON: {\n",
       "  \"choices\": [\n",
       "    {\n",
       "      \"finish_reason\": \"stop\",\n",
       "      \"index\": 0,\n",
       "      \"message\": {\n",
       "        \"content\": \"\\\"Connect, Communicate and Conquer with ChatGPT\\\"\",\n",
       "        \"role\": \"assistant\"\n",
       "      }\n",
       "    }\n",
       "  ],\n",
       "  \"created\": 1677939995,\n",
       "  \"id\": \"chatcmpl-6qN8F54T14cUIgMfNkLzQybDrI269\",\n",
       "  \"model\": \"gpt-3.5-turbo-0301\",\n",
       "  \"object\": \"chat.completion\",\n",
       "  \"usage\": {\n",
       "    \"completion_tokens\": 15,\n",
       "    \"prompt_tokens\": 27,\n",
       "    \"total_tokens\": 42\n",
       "  }\n",
       "}"
      ]
     },
     "execution_count": 20,
     "metadata": {},
     "output_type": "execute_result"
    }
   ],
   "source": [
    "response"
   ]
  },
  {
   "cell_type": "code",
   "execution_count": 21,
   "id": "ea096aaa",
   "metadata": {
    "scrolled": true
   },
   "outputs": [
    {
     "data": {
      "text/plain": [
       "'\"Connect, Communicate and Conquer with ChatGPT\"'"
      ]
     },
     "execution_count": 21,
     "metadata": {},
     "output_type": "execute_result"
    }
   ],
   "source": [
    "response['choices'][0]['message']['content']"
   ]
  },
  {
   "cell_type": "code",
   "execution_count": 7,
   "id": "b83eb1e8",
   "metadata": {},
   "outputs": [],
   "source": [
    "content_dict = dict(response['choices'][0])"
   ]
  },
  {
   "cell_type": "code",
   "execution_count": 11,
   "id": "f374a884",
   "metadata": {},
   "outputs": [],
   "source": [
    "content_trial = response['choices'][0]['message']['content']"
   ]
  },
  {
   "cell_type": "code",
   "execution_count": 9,
   "id": "3b39a6ac",
   "metadata": {},
   "outputs": [
    {
     "data": {
      "text/plain": [
       "dict_keys(['message', 'finish_reason', 'index'])"
      ]
     },
     "execution_count": 9,
     "metadata": {},
     "output_type": "execute_result"
    }
   ],
   "source": [
    "content_dict.keys()"
   ]
  },
  {
   "cell_type": "code",
   "execution_count": 13,
   "id": "28bdc0d6",
   "metadata": {},
   "outputs": [
    {
     "data": {
      "text/plain": [
       "'\"Revolutionize Your Productivity with ChatGPT and Python: Learn How to Automate Your AI Assistant\"'"
      ]
     },
     "execution_count": 13,
     "metadata": {},
     "output_type": "execute_result"
    }
   ],
   "source": [
    "content_trial"
   ]
  },
  {
   "cell_type": "code",
   "execution_count": 15,
   "id": "a39a446c",
   "metadata": {},
   "outputs": [],
   "source": [
    "def extract_response(org,key,role_player,request_content):\n",
    "    openai.organization = org\n",
    "    openai.api_key= key\n",
    "    response = openai.ChatCompletion.create(\n",
    "        model=\"gpt-3.5-turbo\",\n",
    "        messages=[\n",
    "            {\"role\": \"system\", \n",
    "             \"content\": f\"You are a {role_player}\"},\n",
    "            {\"role\": \"user\", \n",
    "             \"content\": request_content}\n",
    "            ]\n",
    "        )\n",
    "    return response['choices'][0]['message']['content']"
   ]
  },
  {
   "cell_type": "code",
   "execution_count": 14,
   "id": "b71dedca",
   "metadata": {},
   "outputs": [
    {
     "data": {
      "text/plain": [
       "39"
      ]
     },
     "execution_count": 14,
     "metadata": {},
     "output_type": "execute_result"
    }
   ],
   "source": [
    "import datetime\n",
    "datetime.datetime.now().minute"
   ]
  },
  {
   "cell_type": "code",
   "execution_count": 17,
   "id": "4e52246a",
   "metadata": {},
   "outputs": [],
   "source": [
    "the_content = extract_response(org=org,key=key,role_player='CTO',\n",
    "                request_content='Generate Youtube title on ChatGpt Automation')"
   ]
  },
  {
   "cell_type": "code",
   "execution_count": 18,
   "id": "2d753b04",
   "metadata": {},
   "outputs": [
    {
     "data": {
      "text/plain": [
       "'\"Revolutionizing Customer Service with ChatGPT Automation: A CTO\\'s Perspective\"'"
      ]
     },
     "execution_count": 18,
     "metadata": {},
     "output_type": "execute_result"
    }
   ],
   "source": [
    "the_content"
   ]
  },
  {
   "cell_type": "code",
   "execution_count": 22,
   "id": "afa492a1",
   "metadata": {},
   "outputs": [],
   "source": [
    "vidDescription = extract_response(org=org,\n",
    "                                 key=key,\n",
    "                                 role_player='Python Instructor',\n",
    "    request_content='Generate 50 words Youtube video description on Pandas the Engine of Python DataAnalytics Tackle RealWorld Dataproblems like a Pro')"
   ]
  },
  {
   "cell_type": "code",
   "execution_count": 23,
   "id": "eedeb075",
   "metadata": {},
   "outputs": [
    {
     "data": {
      "text/plain": [
       "\"In this comprehensive tutorial, we will delve deep into the world of Pandas, the powerful data manipulation engine of Python. Learn how to use Pandas to tackle real-world data problems like a pro. We will cover everything from basic Pandas concepts to advanced techniques like data visualization, cleaning, and loading data from different sources. By the end of this video, you will have a deep understanding of how Pandas can help you extract insights and conduct data analysis with ease. This tutorial is perfect for anyone looking to gain a competitive edge in the world of data analytics. So, what are you waiting for? Let's dive in and master Pandas today!\""
      ]
     },
     "execution_count": 23,
     "metadata": {},
     "output_type": "execute_result"
    }
   ],
   "source": [
    "vidDescription"
   ]
  },
  {
   "cell_type": "code",
   "execution_count": 24,
   "id": "0fe3000e",
   "metadata": {},
   "outputs": [],
   "source": [
    "vidTitle = extract_response(org=org,\n",
    "                                 key=key,\n",
    "                                 role_player='Python Instructor',\n",
    "    request_content='Generate Youtube video title on OpenAI library installation for chatGPT usage')"
   ]
  },
  {
   "cell_type": "code",
   "execution_count": 25,
   "id": "656495c2",
   "metadata": {},
   "outputs": [
    {
     "data": {
      "text/plain": [
       "'\"Step-by-Step Guide to Installing OpenAI Library for ChatGPT Usage\"'"
      ]
     },
     "execution_count": 25,
     "metadata": {},
     "output_type": "execute_result"
    }
   ],
   "source": [
    "vidTitle"
   ]
  },
  {
   "cell_type": "code",
   "execution_count": 26,
   "id": "4c5ca481",
   "metadata": {},
   "outputs": [],
   "source": [
    "vidTitle2 = extract_response(org=org,\n",
    "                                 key=key,\n",
    "                                 role_player='Python Instructor',\n",
    "    request_content='Generate Youtube video title onUSING ChatGPT API with Python')"
   ]
  },
  {
   "cell_type": "code",
   "execution_count": 27,
   "id": "07a61e92",
   "metadata": {},
   "outputs": [
    {
     "data": {
      "text/plain": [
       "'\"Mastering Natural Language Processing with Python | How to Use ChatGPT API for Machine Learning\"'"
      ]
     },
     "execution_count": 27,
     "metadata": {},
     "output_type": "execute_result"
    }
   ],
   "source": [
    "vidTitle2"
   ]
  }
 ],
 "metadata": {
  "kernelspec": {
   "display_name": "Python 3 (ipykernel)",
   "language": "python",
   "name": "python3"
  },
  "language_info": {
   "codemirror_mode": {
    "name": "ipython",
    "version": 3
   },
   "file_extension": ".py",
   "mimetype": "text/x-python",
   "name": "python",
   "nbconvert_exporter": "python",
   "pygments_lexer": "ipython3",
   "version": "3.10.9"
  }
 },
 "nbformat": 4,
 "nbformat_minor": 5
}
