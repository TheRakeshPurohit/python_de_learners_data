{
  "cells": [
    {
      "cell_type": "code",
      "execution_count": 1,
      "metadata": {
        "id": "YViHgo6MePAw"
      },
      "outputs": [],
      "source": [
        "!pip install weaviate-client openai tiktoken langchain sentence-transformers transformers > /dev/null"
      ]
    },
    {
      "cell_type": "code",
      "execution_count": 2,
      "metadata": {
        "id": "8ZQYHkJsfhB2"
      },
      "outputs": [],
      "source": [
        "from langchain.embeddings import (\n",
        "    HuggingFaceEmbeddings, \n",
        "    SentenceTransformerEmbeddings\n",
        ")\n",
        "\n",
        "from langchain.embeddings.openai import OpenAIEmbeddings\n",
        "from langchain.text_splitter import RecursiveCharacterTextSplitter\n",
        "import os\n",
        "from langchain.vectorstores import Weaviate"
      ]
    },
    {
      "cell_type": "code",
      "execution_count": 3,
      "metadata": {
        "id": "NxlQYYPofhHu"
      },
      "outputs": [],
      "source": [
        "def get_text_splits(text_file):\n",
        "  \"\"\"Function takes in the text data and returns the  \n",
        "  splits so for further processing can be done.\"\"\"\n",
        "  with open(text_file,'r') as txt:\n",
        "    data = txt.read()\n",
        "\n",
        "  textSplit = RecursiveCharacterTextSplitter(chunk_size=150,\n",
        "                                             chunk_overlap=15,\n",
        "                                             length_function=len)\n",
        "  doc_list = textSplit.split_text(data)\n",
        "  return doc_list"
      ]
    },
    {
      "cell_type": "code",
      "execution_count": null,
      "metadata": {
        "collapsed": true,
        "id": "J_6YveVa57EU"
      },
      "outputs": [],
      "source": [
        "#testing out the above function with the open source \n",
        "embeddings = HuggingFaceEmbeddings(model_name=\"all-MiniLM-L6-v2\")"
      ]
    },
    {
      "cell_type": "code",
      "source": [
        "import weaviate\n",
        "from weaviate.embedded import EmbeddedOptions\n",
        "\n",
        "client = weaviate.Client(\n",
        "  embedded_options=EmbeddedOptions(),\n",
        "  additional_headers={\n",
        "        \"X-HuggingFace-Api-Key\": \"\"\n",
        "    }\n",
        ")"
      ],
      "metadata": {
        "colab": {
          "base_uri": "https://localhost:8080/",
          "height": 0
        },
        "id": "fK_A4tTE_LnR",
        "outputId": "d2bb522b-b971-4a32-db56-2e36a152ef16"
      },
      "execution_count": 15,
      "outputs": [
        {
          "output_type": "stream",
          "name": "stdout",
          "text": [
            "embedded weaviate is already listing on port 6666\n"
          ]
        }
      ]
    },
    {
      "cell_type": "code",
      "execution_count": 16,
      "metadata": {
        "colab": {
          "base_uri": "https://localhost:8080/",
          "height": 0
        },
        "id": "G7E3-_OG-sFY",
        "outputId": "726fdbba-ec80-4a30-a750-8169ba40f8a7"
      },
      "outputs": [
        {
          "output_type": "execute_result",
          "data": {
            "text/plain": [
              "{'classes': []}"
            ]
          },
          "metadata": {},
          "execution_count": 16
        }
      ],
      "source": [
        "client.schema.delete_all()\n",
        "client.schema.get()"
      ]
    },
    {
      "cell_type": "markdown",
      "source": [
        "The Retrievers & Vectorizaters modules such as text2vec-* or img2vec-* convert data objects to vectors.\n",
        "\n",
        "The Readers & Generators modules process data after retrieving the data from Weaviate, such as to answer questions or summarize text.\n",
        "\n",
        "The other modules include everything else, such as a spellcheck module"
      ],
      "metadata": {
        "id": "aqViEFu3_fPH"
      }
    },
    {
      "cell_type": "code",
      "execution_count": 17,
      "metadata": {
        "id": "nmrFftXi-sFb"
      },
      "outputs": [],
      "source": [
        "schema = {\n",
        "    \"classes\": [\n",
        "        {\n",
        "            \"class\": \"Paragraph\",\n",
        "            \"description\": \"A written paragraph\",\n",
        "         \"moduleConfig\": {\n",
        "        \"text2vec-huggingface\": {\n",
        "          \"model\": \"sentence-transformers/all-MiniLM-L6-v2\",\n",
        "          \"options\": {\n",
        "            \"waitForModel\": True,\n",
        "            \"useGPU\": False,\n",
        "            \"useCache\": True\n",
        "            }\n",
        "          }\n",
        "        },\n",
        "            \"properties\": [\n",
        "                {\n",
        "                    \"dataType\": [\"text\"],\n",
        "                    \"description\": \"The content of the paragraph\",\n",
        "                    \"moduleConfig\": {\n",
        "                        \"text2vec-huggingface\": {\n",
        "                          \"skip\": False,\n",
        "                          \"vectorizePropertyName\": False\n",
        "                        }\n",
        "                      },\n",
        "                    \"name\": \"content\",\n",
        "                },\n",
        "            ],\n",
        "         \"vectorizer\":\"text2vec-huggingface\"\n",
        "        },\n",
        "    ]\n",
        "}"
      ]
    },
    {
      "cell_type": "code",
      "execution_count": 18,
      "metadata": {
        "id": "4lFg7wmF-sFd"
      },
      "outputs": [],
      "source": [
        "client.schema.create(schema)"
      ]
    },
    {
      "cell_type": "code",
      "execution_count": 10,
      "metadata": {
        "id": "hNJ0ZDJb57Mk"
      },
      "outputs": [],
      "source": [
        "mail_docs = get_text_splits(\"mail_collector.txt\")"
      ]
    },
    {
      "cell_type": "code",
      "execution_count": null,
      "metadata": {
        "colab": {
          "base_uri": "https://localhost:8080/"
        },
        "id": "zErGqtjIRujY",
        "outputId": "c39313dd-99a4-41b8-adf5-617f12df707f"
      },
      "outputs": [
        {
          "data": {
            "text/plain": [
              "50"
            ]
          },
          "execution_count": 15,
          "metadata": {},
          "output_type": "execute_result"
        }
      ],
      "source": [
        "len(mail_docs)"
      ]
    },
    {
      "cell_type": "code",
      "execution_count": null,
      "metadata": {
        "colab": {
          "base_uri": "https://localhost:8080/",
          "height": 36
        },
        "id": "5m8R7Nq5HMy9",
        "outputId": "93e43df5-0569-43d8-866a-05784a67bc96"
      },
      "outputs": [
        {
          "data": {
            "application/vnd.google.colaboratory.intrinsic+json": {
              "type": "string"
            },
            "text/plain": [
              "'Space via IFTTT <action@ifttt.com>\\nAstronomy Picture of the Day:'"
            ]
          },
          "execution_count": 126,
          "metadata": {},
          "output_type": "execute_result"
        }
      ],
      "source": [
        "mail_docs[0]"
      ]
    },
    {
      "cell_type": "code",
      "execution_count": 19,
      "metadata": {
        "colab": {
          "base_uri": "https://localhost:8080/",
          "height": 0
        },
        "id": "qP_Cu29xfhMW",
        "outputId": "13a6ad3c-8cfe-42ed-9851-1e3f25d83277"
      },
      "outputs": [
        {
          "output_type": "stream",
          "name": "stdout",
          "text": [
            "Embedded weaviate wasn't listening on port 6666, so starting embedded weaviate again\n",
            "Started /root/.cache/weaviate-embedded: process ID 10433\n"
          ]
        }
      ],
      "source": [
        "# Configure a batch process\n",
        "with client.batch as batch:\n",
        "    batch.batch_size=5\n",
        "    for i, d in enumerate(mail_docs):\n",
        "        properties = {\n",
        "            \"content\": d,\n",
        "        }\n",
        "\n",
        "        client.batch.add_data_object(properties, \"Paragraph\")"
      ]
    },
    {
      "cell_type": "code",
      "execution_count": 20,
      "metadata": {
        "colab": {
          "base_uri": "https://localhost:8080/",
          "height": 0
        },
        "id": "8Thjm_qi-sFg",
        "outputId": "57373675-c0b3-4dff-f6f9-b87d5bc58aba"
      },
      "outputs": [
        {
          "output_type": "execute_result",
          "data": {
            "text/plain": [
              "{'deprecations': None,\n",
              " 'objects': [{'class': 'Paragraph',\n",
              "   'creationTimeUnix': 1682739842536,\n",
              "   'id': '05d37ca2-78ee-4ed9-bd2e-6437936c22f8',\n",
              "   'lastUpdateTimeUnix': 1682739842536,\n",
              "   'properties': {'content': \"be similar to one in which our own Sun formed over 4.5 billion years ago. Hubble's stunning image of the stellar nursery was released to celebrate the\"},\n",
              "   'vectorWeights': None},\n",
              "  {'class': 'Paragraph',\n",
              "   'creationTimeUnix': 1682739834475,\n",
              "   'id': '08e41f4b-1bc7-458c-bcd7-44fbe9c68dd1',\n",
              "   'lastUpdateTimeUnix': 1682739834475,\n",
              "   'properties': {'content': 'Perseus, it lies at the edge of a large, star-forming molecular cloud. This Hubble Space Telescope close-up frames a region just over 1 light-year'},\n",
              "   'vectorWeights': None},\n",
              "  {'class': 'Paragraph',\n",
              "   'creationTimeUnix': 1682739815426,\n",
              "   'id': '0a1704ad-8495-4c93-8cde-dbe79bc3b08d',\n",
              "   'lastUpdateTimeUnix': 1682739815426,\n",
              "   'properties': {'content': 'Space via IFTTT <action@ifttt.com>\\nAstronomy Picture of the Day:'},\n",
              "   'vectorWeights': None},\n",
              "  {'class': 'Paragraph',\n",
              "   'creationTimeUnix': 1682739820993,\n",
              "   'id': '0bfb7e7d-7d10-4a99-9da5-972ecd5d11e9',\n",
              "   'lastUpdateTimeUnix': 1682739820993,\n",
              "   'properties': {'content': 'that it took many hours of exposure with a telescope in Seven Persons, Alberta , Canada to create the featured image.April 24, 2023via NASA'},\n",
              "   'vectorWeights': None},\n",
              "  {'class': 'Paragraph',\n",
              "   'creationTimeUnix': 1682739842536,\n",
              "   'id': '139cc5eb-5941-466d-a94e-2f6dfbc1c2e5',\n",
              "   'lastUpdateTimeUnix': 1682739842536,\n",
              "   'properties': {'content': 'emission from Herbig-Haro objects, jets and shocked glowing gas emanating from recently formed stars. In fact, NGC 1333 contains hundreds of stars'},\n",
              "   'vectorWeights': None},\n",
              "  {'class': 'Paragraph',\n",
              "   'creationTimeUnix': 1682739834474,\n",
              "   'id': '1dfbb502-e113-4a78-9d42-1b59520ef464',\n",
              "   'lastUpdateTimeUnix': 1682739834474,\n",
              "   'properties': {'content': '2023-04-22 09:43:17+05:30NGC 1333: Stellar Nursery in PerseusIn visible light NGC 1333 is seen as a reflection nebula, dominated by bluish hues'},\n",
              "   'vectorWeights': None},\n",
              "  {'class': 'Paragraph',\n",
              "   'creationTimeUnix': 1682739815349,\n",
              "   'id': '2a182dfd-35ba-4753-9205-94819aeb62a0',\n",
              "   'lastUpdateTimeUnix': 1682739815349,\n",
              "   'properties': {'content': 'foreground, and digital processing. And yes, there is some luck involved -- for example, the sky must be clear. This time, the planning was'},\n",
              "   'vectorWeights': None},\n",
              "  {'class': 'Paragraph',\n",
              "   'creationTimeUnix': 1682739825592,\n",
              "   'id': '2cb265d6-70bd-43f2-8ce0-05903c56d0ed',\n",
              "   'lastUpdateTimeUnix': 1682739825592,\n",
              "   'properties': {'content': 'can be as dangerous as tornadoes and can feature wind speeds over 200 kilometers per hour. Some waterspouts form away from thunderstorms and even'},\n",
              "   'vectorWeights': None},\n",
              "  {'class': 'Paragraph',\n",
              "   'creationTimeUnix': 1682739815399,\n",
              "   'id': '2ee7dd31-dba9-46c5-bf87-bfc70a818890',\n",
              "   'lastUpdateTimeUnix': 1682739815399,\n",
              "   'properties': {'content': 'Space via IFTTT <action@ifttt.com>\\nAstronomy Picture of the Day:'},\n",
              "   'vectorWeights': None},\n",
              "  {'class': 'Paragraph',\n",
              "   'creationTimeUnix': 1682739820993,\n",
              "   'id': '3383fe2c-b867-427d-aa6b-12d30239a5c3',\n",
              "   'lastUpdateTimeUnix': 1682739820993,\n",
              "   'properties': {'content': 'the supernova explosion at over 1000 kilometers per second. Although the Medulla Nebula appears as large as a full moon, it is so faint that it took'},\n",
              "   'vectorWeights': None},\n",
              "  {'class': 'Paragraph',\n",
              "   'creationTimeUnix': 1682739825593,\n",
              "   'id': '359258b6-a6d1-48e7-90b1-1a3141bf2253',\n",
              "   'lastUpdateTimeUnix': 1682739825593,\n",
              "   'properties': {'content': 'type of tornado that occurs over water. Waterspouts are spinning columns of rising moist air that typically form over warm water. Waterspouts can be'},\n",
              "   'vectorWeights': None},\n",
              "  {'class': 'Paragraph',\n",
              "   'creationTimeUnix': 1682739830783,\n",
              "   'id': '35987e14-ab33-4094-a767-d51217b0d029',\n",
              "   'lastUpdateTimeUnix': 1682739830783,\n",
              "   'properties': {'content': 'create on the water. The featured image was taken in 2013 July near Tampa Bay, Florida. The Atlantic Ocean off the coast of Florida is arguably the'},\n",
              "   'vectorWeights': None},\n",
              "  {'class': 'Paragraph',\n",
              "   'creationTimeUnix': 1682739834475,\n",
              "   'id': '3a4bfee5-f0a5-41a1-a9e1-71f7ecb83e69',\n",
              "   'lastUpdateTimeUnix': 1682739834475,\n",
              "   'properties': {'content': 'by bluish hues characteristic of starlight reflected by interstellar dust. A mere 1,000 light-years distant toward the heroic constellation Perseus,'},\n",
              "   'vectorWeights': None},\n",
              "  {'class': 'Paragraph',\n",
              "   'creationTimeUnix': 1682739830783,\n",
              "   'id': '3fa3423a-6768-42f4-812a-0b56c72ab376',\n",
              "   'lastUpdateTimeUnix': 1682739830783,\n",
              "   'properties': {'content': 'on IFTTT:\\thttps://ifttt.com/myrecipes/personal/95937891'},\n",
              "   'vectorWeights': None},\n",
              "  {'class': 'Paragraph',\n",
              "   'creationTimeUnix': 1682739815412,\n",
              "   'id': '50428de5-152f-456d-ab97-ee975072e5f6',\n",
              "   'lastUpdateTimeUnix': 1682739815412,\n",
              "   'properties': {'content': 'skies.April 25, 2023via NASA https://ift.tt/q9hd7Zc            Manage    Unsubscribe       from these notifications or sign in to manage your    Email'},\n",
              "   'vectorWeights': None},\n",
              "  {'class': 'Paragraph',\n",
              "   'creationTimeUnix': 1682739842536,\n",
              "   'id': '55a22f57-6cb4-4d3b-b28d-be2ad826901d',\n",
              "   'lastUpdateTimeUnix': 1682739842536,\n",
              "   'properties': {'content': 'notifications or sign in to manage your Email service.IFTTT\\tManage on IFTTT:\\thttps://ifttt.com/myrecipes/personal/95937891'},\n",
              "   'vectorWeights': None},\n",
              "  {'class': 'Paragraph',\n",
              "   'creationTimeUnix': 1682739814488,\n",
              "   'id': '56207946-c7b1-4155-8e39-a4715c71691f',\n",
              "   'lastUpdateTimeUnix': 1682739814488,\n",
              "   'properties': {'content': 'right place at the right time, this image took skill and careful planning. First was the angularÂ\\xa0scale: if you shoot too close to the famous Arc de'},\n",
              "   'vectorWeights': None},\n",
              "  {'class': 'Paragraph',\n",
              "   'creationTimeUnix': 1682739815411,\n",
              "   'id': '5d1cd6e9-07e4-4437-82ce-42dbfcbfbfdf',\n",
              "   'lastUpdateTimeUnix': 1682739815411,\n",
              "   'properties': {'content': 'your    Email service.IFTTT\\tManage on IFTTT:\\thttps://ifttt.com/myrecipes/personal/95937891'},\n",
              "   'vectorWeights': None},\n",
              "  {'class': 'Paragraph',\n",
              "   'creationTimeUnix': 1682739815426,\n",
              "   'id': '61e46d8d-c7a1-4787-94f7-42eea0567eaf',\n",
              "   'lastUpdateTimeUnix': 1682739815426,\n",
              "   'properties': {'content': 'could create stabilizing pressure with nuclear fusion. The resulting supernova remnant, nicknamed the Medulla Nebula for its brain-like shape, still'},\n",
              "   'vectorWeights': None},\n",
              "  {'class': 'Paragraph',\n",
              "   'creationTimeUnix': 1682739814488,\n",
              "   'id': '6362eac7-4af7-4cb1-bbf4-229e58ce1441',\n",
              "   'lastUpdateTimeUnix': 1682739814488,\n",
              "   'properties': {'content': 'famous Arc de Triomphe in Paris, France, the full moon will appear too small.Â\\xa0 Conversely, if you shoot from too far away, the moon willÂ\\xa0appearÂ'},\n",
              "   'vectorWeights': None}],\n",
              " 'totalResults': 20}"
            ]
          },
          "metadata": {},
          "execution_count": 20
        }
      ],
      "source": [
        "client.data_object.get()"
      ]
    },
    {
      "cell_type": "code",
      "execution_count": 21,
      "metadata": {
        "id": "fgmAMeO4-sFg"
      },
      "outputs": [],
      "source": [
        "nearText = {\"concepts\": [\"Photograph\"]}"
      ]
    },
    {
      "cell_type": "code",
      "execution_count": 22,
      "metadata": {
        "id": "Ky6H9yBM-sFh"
      },
      "outputs": [],
      "source": [
        "result = (\n",
        "    client.query\n",
        "    .get(\"Paragraph\", [\"content\"])\n",
        "    .with_near_text(nearText)\n",
        "    .with_limit(2)\n",
        "    .do()\n",
        ")"
      ]
    },
    {
      "cell_type": "code",
      "execution_count": 23,
      "metadata": {
        "colab": {
          "base_uri": "https://localhost:8080/",
          "height": 0
        },
        "id": "IfK-j-Mc-sFh",
        "outputId": "44bf79fc-f9d1-43d1-f6b9-28aa0d8d7b43"
      },
      "outputs": [
        {
          "output_type": "stream",
          "name": "stdout",
          "text": [
            "{\n",
            "    \"data\": {\n",
            "        \"Get\": {\n",
            "            \"Paragraph\": [\n",
            "                {\n",
            "                    \"content\": \"2023-04-26 10:44:41+05:30Was this a lucky shot? Although many amazing photographs are taken by someone who just happened\\u00c2\\u00a0to be in the right place at\"\n",
            "                },\n",
            "                {\n",
            "                    \"content\": \"that it took many hours of exposure with a telescope in Seven Persons, Alberta , Canada to create the featured image.April 24, 2023via NASA\"\n",
            "                }\n",
            "            ]\n",
            "        }\n",
            "    }\n",
            "}\n"
          ]
        }
      ],
      "source": [
        "import json\n",
        "print(json.dumps(result, indent=4))"
      ]
    },
    {
      "cell_type": "code",
      "source": [
        "vectorstore = Weaviate(client, \n",
        "                       \"Paragraph\", \n",
        "                       \"content\")"
      ],
      "metadata": {
        "id": "VvvvmesnHdzO"
      },
      "execution_count": 24,
      "outputs": []
    },
    {
      "cell_type": "code",
      "source": [
        "vectorstore.similarity_search(\"Photograph\")"
      ],
      "metadata": {
        "id": "EaewD6F5HiBl"
      },
      "execution_count": null,
      "outputs": []
    }
  ],
  "metadata": {
    "colab": {
      "provenance": []
    },
    "kernelspec": {
      "display_name": "Python 3 (ipykernel)",
      "language": "python",
      "name": "python3"
    },
    "language_info": {
      "codemirror_mode": {
        "name": "ipython",
        "version": 3
      },
      "file_extension": ".py",
      "mimetype": "text/x-python",
      "name": "python",
      "nbconvert_exporter": "python",
      "pygments_lexer": "ipython3",
      "version": "3.10.9"
    }
  },
  "nbformat": 4,
  "nbformat_minor": 0
}