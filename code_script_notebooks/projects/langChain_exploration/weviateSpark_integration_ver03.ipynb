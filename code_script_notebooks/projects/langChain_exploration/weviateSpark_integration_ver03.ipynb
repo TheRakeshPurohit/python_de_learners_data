{
  "nbformat": 4,
  "nbformat_minor": 0,
  "metadata": {
    "colab": {
      "provenance": []
    },
    "kernelspec": {
      "name": "python3",
      "display_name": "Python 3"
    },
    "language_info": {
      "name": "python"
    }
  },
  "cells": [
    {
      "cell_type": "code",
      "execution_count": null,
      "metadata": {
        "id": "_Upv0A9Boxt6"
      },
      "outputs": [],
      "source": [
        "!pip3 -q install pyspark weaviate-client > /dev/null"
      ]
    },
    {
      "cell_type": "code",
      "source": [
        "!pip show pyspark"
      ],
      "metadata": {
        "id": "03LD62v7xywt",
        "colab": {
          "base_uri": "https://localhost:8080/"
        },
        "outputId": "ae599307-e29b-441f-dcc5-ba42365a2dab"
      },
      "execution_count": 34,
      "outputs": [
        {
          "output_type": "stream",
          "name": "stdout",
          "text": [
            "Name: pyspark\n",
            "Version: 3.4.0\n",
            "Summary: Apache Spark Python API\n",
            "Home-page: https://github.com/apache/spark/tree/master/python\n",
            "Author: Spark Developers\n",
            "Author-email: dev@spark.apache.org\n",
            "License: http://www.apache.org/licenses/LICENSE-2.0\n",
            "Location: /usr/local/lib/python3.10/dist-packages\n",
            "Requires: py4j\n",
            "Required-by: \n"
          ]
        }
      ]
    },
    {
      "cell_type": "code",
      "source": [
        "!sudo apt-get install scala"
      ],
      "metadata": {
        "id": "CxutDGlBrdRx"
      },
      "execution_count": null,
      "outputs": []
    },
    {
      "cell_type": "code",
      "source": [
        "!wget https://repo1.maven.org/maven2/io/weaviate/spark-connector_2.13/1.2.4/spark-connector_2.13-1.2.4.jar"
      ],
      "metadata": {
        "id": "72RCfoeErdN4"
      },
      "execution_count": null,
      "outputs": []
    },
    {
      "cell_type": "code",
      "source": [
        "!mv /content/spark-connector_2.13-1.2.4.jar /usr/local/lib/python3.10/dist-packages/pyspark/jars"
      ],
      "metadata": {
        "id": "ElPW3cIntbFa"
      },
      "execution_count": null,
      "outputs": []
    },
    {
      "cell_type": "code",
      "source": [
        "from pyspark.sql import SparkSession\n",
        "import os\n",
        "#.config(\"spark.jars\",\n",
        " #       \"weaviate-spark-connector-assembly-v0.1.2.jar\" )\n",
        "spark = (\n",
        "    SparkSession.builder\n",
        "    .master(\"local[*]\")\n",
        "    .appName(\"weaviate\")\n",
        "    .getOrCreate()\n",
        ")\n",
        "\n",
        "spark.sparkContext.setLogLevel(\"WARN\")"
      ],
      "metadata": {
        "id": "7reiua0So7ro"
      },
      "execution_count": 36,
      "outputs": []
    },
    {
      "cell_type": "code",
      "source": [
        "!wget https://storage.googleapis.com/sphere-demo/sphere.100k.jsonl.tar.gz"
      ],
      "metadata": {
        "id": "RSKn8887o7ng"
      },
      "execution_count": null,
      "outputs": []
    },
    {
      "cell_type": "code",
      "source": [
        "!gunzip /content/sphere.100k.jsonl.tar.gz"
      ],
      "metadata": {
        "id": "DZbg5maApY-n"
      },
      "execution_count": null,
      "outputs": []
    },
    {
      "cell_type": "code",
      "source": [
        "!tar -xvf /content/sphere.100k.jsonl.tar"
      ],
      "metadata": {
        "colab": {
          "base_uri": "https://localhost:8080/"
        },
        "id": "_82N-aXQprfc",
        "outputId": "9cec5ed5-2a0c-4311-aa6c-06454552187e"
      },
      "execution_count": null,
      "outputs": [
        {
          "output_type": "stream",
          "name": "stdout",
          "text": [
            "sphere.100k.jsonl\n"
          ]
        }
      ]
    },
    {
      "cell_type": "code",
      "source": [
        "df = spark.read.load(\"sphere.100k.jsonl\", format=\"json\")"
      ],
      "metadata": {
        "id": "ciWpdBPso7k4"
      },
      "execution_count": null,
      "outputs": []
    },
    {
      "cell_type": "code",
      "source": [
        "import weaviate\n",
        "from weaviate.embedded import EmbeddedOptions\n",
        "\n",
        "client = weaviate.Client(embedded_options=EmbeddedOptions())"
      ],
      "metadata": {
        "colab": {
          "base_uri": "https://localhost:8080/"
        },
        "id": "LJ2V7Bzko7fE",
        "outputId": "59d93f41-cf7b-4069-a621-425c67c21b7d"
      },
      "execution_count": null,
      "outputs": [
        {
          "output_type": "stream",
          "name": "stdout",
          "text": [
            "embedded weaviate is already listing on port 6666\n"
          ]
        }
      ]
    },
    {
      "cell_type": "code",
      "source": [
        "new_df = df.limit(5)"
      ],
      "metadata": {
        "id": "PYK49_7OhuK3"
      },
      "execution_count": 38,
      "outputs": []
    },
    {
      "cell_type": "code",
      "source": [
        "client.schema.delete_all()\n",
        "\n",
        "client.schema.create_class(\n",
        "    {\n",
        "        \"class\": \"Sphere\",\n",
        "        \"properties\": [\n",
        "            {\n",
        "                \"name\": \"raw\",\n",
        "                \"dataType\": [\"string\"]\n",
        "            },\n",
        "            {\n",
        "                \"name\": \"sha\",\n",
        "                \"dataType\": [\"string\"]\n",
        "            },\n",
        "            {\n",
        "                \"name\": \"title\",\n",
        "                \"dataType\": [\"string\"]\n",
        "            },\n",
        "            {\n",
        "                \"name\": \"url\",\n",
        "                \"dataType\": [\"string\"]\n",
        "            },\n",
        "        ],\n",
        "     \"vectorizer\":\"text2vec-huggingface\"\n",
        "    }\n",
        ")"
      ],
      "metadata": {
        "id": "C7qomADurddR"
      },
      "execution_count": 43,
      "outputs": []
    },
    {
      "cell_type": "code",
      "source": [
        "df.limit(1500).withColumnRenamed(\"id\", \"uuid\").write.format(\"io.weaviate.spark.Weaviate\") \\\n",
        "    .option(\"batchSize\", 200) \\\n",
        "    .option(\"scheme\", \"http\") \\\n",
        "    .option(\"host\", \"localhost:8080\") \\\n",
        "    .option(\"id\", \"uuid\") \\\n",
        "    .option(\"className\", \"Sphere\") \\\n",
        "    .option(\"vector\", \"vector\") \\\n",
        "    .mode(\"overwrite\").save()"
      ],
      "metadata": {
        "id": "p5GFA8AUrdZh"
      },
      "execution_count": null,
      "outputs": []
    },
    {
      "cell_type": "markdown",
      "source": [
        "Here's what happens behind the scenes when the client uses the embedded options in the instantiation call:\n",
        "\n",
        "The client downloads a Weaviate release from GitHub and caches it\n",
        "It then spawns a Weaviate process with a data directory configured to a specific location, and listening to the specified port (by default 6666)\n",
        "\n",
        "The server's STDOUT and STDERR are piped to the client\n",
        "\n",
        "The client connects to this server process (e.g. to http://127.0.0.1:6666) and runs the client code\n",
        "After running the code (when the application terminates), the client shuts down the Weaviate process\n",
        "\n",
        "The data directory is preserved, so subsequent invocations have access to the data from all previous invocations, across all clients using the embedded option."
      ],
      "metadata": {
        "id": "1N2fUc6ng4OH"
      }
    },
    {
      "cell_type": "markdown",
      "source": [
        "https://ai.facebook.com/blog/introducing-sphere-meta-ais-web-scale-corpus-for-better-knowledge-intensive-nlp/\n",
        "\n",
        "https://huggingface.co/facebook/dpr-question_encoder-single-nq-base\n",
        "\n",
        "https://weaviate.io/blog/sphere-dataset-in-weaviate"
      ],
      "metadata": {
        "id": "_JOsdNo-hAjV"
      }
    },
    {
      "cell_type": "code",
      "source": [
        "import time\n",
        "# Configure a batch process\n",
        "with client.batch as batch:\n",
        "    batch.batch_size=5\n",
        "    batch = 0\n",
        "    for iterator in new_df.collect():\n",
        "        print(f\"processing batch {batch}\")\n",
        "        properties = {\n",
        "            \"raw\": iterator['raw'],\n",
        "            \"sha\": iterator['sha'],\n",
        "            \"title\": iterator['title'],\n",
        "            \"url\": iterator['url'],\n",
        "        }\n",
        "        time.sleep(8)\n",
        "        client.batch.add_data_object(properties,\"Sphere\")"
      ],
      "metadata": {
        "id": "s49YzpknhnE1"
      },
      "execution_count": null,
      "outputs": []
    },
    {
      "cell_type": "code",
      "source": [
        "nearText = {\"concepts\":[\"Clearcreek chapel\"]}\n",
        "\n",
        "result = (\n",
        "    client.query\n",
        "    .get(\"Sphere\", [\"url\", \"raw\"])\n",
        "    .with_near_text(nearText)\n",
        "    .with_limit(2)\n",
        "    .do()\n",
        ")"
      ],
      "metadata": {
        "id": "LguoB4SFeZXs"
      },
      "execution_count": 45,
      "outputs": []
    },
    {
      "cell_type": "code",
      "source": [
        "result"
      ],
      "metadata": {
        "colab": {
          "base_uri": "https://localhost:8080/"
        },
        "id": "SQ3a7GGAiAjE",
        "outputId": "40377875-c003-44fd-b79e-caad1be484c0"
      },
      "execution_count": 46,
      "outputs": [
        {
          "output_type": "execute_result",
          "data": {
            "text/plain": [
              "{'data': {'Get': {'Sphere': []}}}"
            ]
          },
          "metadata": {},
          "execution_count": 46
        }
      ]
    },
    {
      "cell_type": "code",
      "source": [
        "client.schema.create_class(\n",
        "    {\n",
        "        \"class\": \"Sphere_vector\",\n",
        "        \"description\" : \"Sphere vectorizer pipeline\",\n",
        "        \"moduleConfig\": {\n",
        "        \"text2vec-huggingface\": {\n",
        "          \"model\": \"sentence-transformers/all-MiniLM-L6-v2\",\n",
        "          \"options\": {\n",
        "            \"waitForModel\": True,\n",
        "            \"useGPU\": False,\n",
        "            \"useCache\": True\n",
        "            }\n",
        "          }\n",
        "        },\n",
        "        \"properties\": [\n",
        "            {\n",
        "                \"name\": \"raw\",\n",
        "                \"dataType\": [\"string\"]\n",
        "            },\n",
        "            {\n",
        "                \"name\": \"sha\",\n",
        "                \"dataType\": [\"string\"]\n",
        "            },\n",
        "            {\n",
        "                \"name\": \"title\",\n",
        "                \"dataType\": [\"string\"]\n",
        "            },\n",
        "            {\n",
        "                \"name\": \"url\",\n",
        "                \"dataType\": [\"string\"]\n",
        "            },\n",
        "        ],\n",
        "     \"vectorizer\":\"text2vec-huggingface\"\n",
        "    }\n",
        ")"
      ],
      "metadata": {
        "id": "vZMeJffQeZU6"
      },
      "execution_count": 47,
      "outputs": []
    },
    {
      "cell_type": "code",
      "source": [
        "import time\n",
        "# Configure a batch process\n",
        "with client.batch as batch:\n",
        "    batch.batch_size=5\n",
        "    batch = 0\n",
        "    for iterator in new_df.collect():\n",
        "        print(f\"processing batch {batch}\")\n",
        "        properties = {\n",
        "            \"raw\": iterator['raw'],\n",
        "            \"sha\": iterator['sha'],\n",
        "            \"title\": iterator['title'],\n",
        "            \"url\": iterator['url'],\n",
        "        }\n",
        "        time.sleep(8)\n",
        "        client.batch.add_data_object(properties,\n",
        "                                     \"Sphere_vector\")"
      ],
      "metadata": {
        "colab": {
          "base_uri": "https://localhost:8080/"
        },
        "id": "CqZLEp_4eZR8",
        "outputId": "669d9218-a566-4336-ac4b-8d6e04f0bac4"
      },
      "execution_count": 48,
      "outputs": [
        {
          "output_type": "stream",
          "name": "stdout",
          "text": [
            "processing batch 0\n",
            "processing batch 0\n",
            "processing batch 0\n",
            "processing batch 0\n",
            "processing batch 0\n"
          ]
        }
      ]
    },
    {
      "cell_type": "code",
      "source": [
        "nearText = {\"concepts\":[\"Clearcreek chapel\"]}\n",
        "\n",
        "result = (\n",
        "    client.query\n",
        "    .get(\"Sphere_vector\", [\"url\", \"raw\"])\n",
        "    .with_near_text(nearText)\n",
        "    .with_limit(2)\n",
        "    .do()\n",
        ")\n",
        "result"
      ],
      "metadata": {
        "colab": {
          "base_uri": "https://localhost:8080/"
        },
        "id": "lspiozKSeZJR",
        "outputId": "14454d2f-a086-4f1c-c6f0-870346f5d80a"
      },
      "execution_count": 51,
      "outputs": [
        {
          "output_type": "execute_result",
          "data": {
            "text/plain": [
              "{'data': {'Get': {'Sphere_vector': [{'raw': 'Clearcreek Chapel Counseling: Blog ). Boundaries seems to focus more on what is comfortable for the victim of abuse, rather than calling the Christian towards holiness in the midst of significant suffering. Many counseling systems start with the philosophy of reclaiming what is rightfully yours and regaining control of your own life, which you believe was taken by your abuser. This approach is born out of the objective to forbid any additional abuse. While this objective is appropriate, if it becomes your sole focus you will become primarily concerned with self, personal comfort, and total control. You will ultimately lack a God-centered worldview in',\n",
              "     'url': 'http://chapelcounseling.org/blog/the-problem-with-boundaries-and-feelings-based-counseling/'},\n",
              "    {'raw': 'Discover event places and locations in Bulgaria Sofia across from the Alexander Nevsky Cathedral, the Radisson Blu Grand Hotel Sofia offers free Wi-Fi and a fitness center. The fitness center includes a sauna and offers professional massages. It... Bulgaria - Albena - 9620 Albena is a fantastic place on the Bulgarian Black Sea coast, where the sea meats fine sandy beach and virgin forest ? a delight to people of all ages. The resort is remarkable for its 4 km long beach and offers pleasures to every taste.... Sheraton Sofia Hotel Balkan, a Luxury Collection hotel, is magnificently refurbished, a landmark in the bustling centre of Sofia,',\n",
              "     'url': 'https://www.bedouk.com/venues-bulgaria,P25'}]}}}"
            ]
          },
          "metadata": {},
          "execution_count": 51
        }
      ]
    },
    {
      "cell_type": "code",
      "source": [
        "client.schema.create_class(\n",
        "    {\n",
        "        \"class\": \"Sphere_auto\",\n",
        "        \"description\" : \"Sphere vectorizer auto Schema\",\n",
        "        \"moduleConfig\": {\n",
        "        \"text2vec-huggingface\": {\n",
        "          \"model\": \"sentence-transformers/all-MiniLM-L6-v2\",\n",
        "          \"options\": {\n",
        "            \"waitForModel\": True,\n",
        "            \"useGPU\": False,\n",
        "            \"useCache\": True\n",
        "            }\n",
        "          }\n",
        "        },\n",
        "        \"properties\": [],\n",
        "    }\n",
        ")"
      ],
      "metadata": {
        "id": "TrQWe1G0eZDp"
      },
      "execution_count": 52,
      "outputs": []
    },
    {
      "cell_type": "code",
      "source": [
        "import time\n",
        "# Configure a batch process\n",
        "with client.batch as batch:\n",
        "    batch.batch_size=5\n",
        "    batch = 0\n",
        "    for iterator in new_df.collect():\n",
        "        print(f\"processing batch {batch}\")\n",
        "        properties = {\n",
        "            \"raw\": iterator['raw'],\n",
        "            \"sha\": iterator['sha'],\n",
        "            \"title\": iterator['title'],\n",
        "            \"url\": iterator['url'],\n",
        "        }\n",
        "        time.sleep(8)\n",
        "        client.batch.add_data_object(properties,\n",
        "                                     \"Sphere_auto\",\n",
        "                                     vector=iterator['vector'])"
      ],
      "metadata": {
        "id": "TVyWOZnMjYpO",
        "outputId": "bb697a22-8b83-4176-9284-0d7281bd2dcd",
        "colab": {
          "base_uri": "https://localhost:8080/"
        }
      },
      "execution_count": 53,
      "outputs": [
        {
          "output_type": "stream",
          "name": "stdout",
          "text": [
            "processing batch 0\n",
            "processing batch 0\n",
            "processing batch 0\n",
            "processing batch 0\n",
            "processing batch 0\n"
          ]
        }
      ]
    },
    {
      "cell_type": "code",
      "source": [
        "nearText = {\"concepts\":[\"Clearcreek chapel\"]}\n",
        "\n",
        "result = (\n",
        "    client.query\n",
        "    .get(\"Sphere_auto\", [\"url\", \"raw\"])\n",
        "    .with_near_text(nearText)\n",
        "    .with_limit(2)\n",
        "    .do()\n",
        ")\n",
        "result"
      ],
      "metadata": {
        "id": "0UeJXXOBjjfW",
        "outputId": "5d95bbaa-2ee6-4041-abc5-fff32c05b928",
        "colab": {
          "base_uri": "https://localhost:8080/"
        }
      },
      "execution_count": 56,
      "outputs": [
        {
          "output_type": "execute_result",
          "data": {
            "text/plain": [
              "{'errors': [{'locations': [{'column': 27, 'line': 1}],\n",
              "   'message': 'Unknown argument \"nearText\" on field \"Sphere_auto\" of type \"GetObjectsObj\". Did you mean \"nearObject\" or \"nearVector\"?',\n",
              "   'path': None}]}"
            ]
          },
          "metadata": {},
          "execution_count": 56
        }
      ]
    },
    {
      "cell_type": "code",
      "source": [],
      "metadata": {
        "id": "4j1EG1l2jjbK"
      },
      "execution_count": null,
      "outputs": []
    },
    {
      "cell_type": "code",
      "source": [],
      "metadata": {
        "id": "tqODvrhqjjWo"
      },
      "execution_count": null,
      "outputs": []
    }
  ]
}