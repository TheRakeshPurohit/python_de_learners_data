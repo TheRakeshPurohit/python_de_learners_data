{
 "cells": [
  {
   "cell_type": "code",
   "execution_count": 6,
   "metadata": {},
   "outputs": [],
   "source": [
    "# Lets start with agent_toolkits\n",
    "\n",
    "data_json = \"task_analyse3.json\""
   ]
  },
  {
   "cell_type": "markdown",
   "metadata": {},
   "source": [
    "pip install langchain langchain-openai beautifulsoup4 wikipedia langchainhub langserve[all] langchain-community python-dotenv tavily-python"
   ]
  },
  {
   "cell_type": "code",
   "execution_count": 2,
   "metadata": {},
   "outputs": [
    {
     "data": {
      "text/plain": [
       "True"
      ]
     },
     "execution_count": 2,
     "metadata": {},
     "output_type": "execute_result"
    }
   ],
   "source": [
    "import json\n",
    "from langchain.agents import create_json_agent\n",
    "from langchain_community.agent_toolkits import JsonToolkit\n",
    "from langchain_community.tools.json.tool import JsonSpec\n",
    "from langchain_openai import OpenAI\n",
    "import os\n",
    "from dotenv import load_dotenv\n",
    "load_dotenv(\"D:\\\\gitFolders\\\\python_de_learners_data\\\\.env\")"
   ]
  },
  {
   "cell_type": "code",
   "execution_count": 8,
   "metadata": {},
   "outputs": [],
   "source": [
    "with open(data_json, 'r') as jds:\n",
    "    data = json.load(jds)\n",
    "\n",
    "js_spec = JsonSpec(dict_=data, max_value_length=4000)\n",
    "js_tkit = JsonToolkit(spec=js_spec)"
   ]
  },
  {
   "cell_type": "code",
   "execution_count": 9,
   "metadata": {},
   "outputs": [
    {
     "name": "stdout",
     "output_type": "stream",
     "text": [
      "{'app_type': 'command line app', 'name': 'text_processor', 'prompt': 'My app will open a text file, read it and help to search for specific words, and sentences inside the text. It will act similar to the grep command in linux. The user can provide the file name to process or he can open the file content and pipe it to this app. ', 'classified_tasks': [{'task': 'The \"text_processor\" command line app will open a text file, read its content, and allow users to search for specific words and sentences within the text. Users can provide the file name as an argument to process or pipe the file content directly to the app.', 'task_class': 'code executing'}, {'task': '1. As a user, I want to be able to run the \"text_processor\" app from the command line.', 'task_class': 'code executing'}, {'task': '2. As a user, I want to be able to specify the file name as an argument to process a specific text file.', 'task_class': 'clarification request'}, {'task': '3. As a user, I want to be able to pipe the content of a text file directly to the \"text_processor\" app.', 'task_class': 'code executing'}, {'task': '4. As a user, I want to be able to search for specific words within the text content.', 'task_class': 'clarification request'}, {'task': '5. As a user, I want to be able to search for specific sentences within the text content.', 'task_class': 'clarification request  \\ncode executing  \\nproblem solving  \\nother  \\nother  '}, {'task': '6. As a user, I want to see the line number where the word or sentence was found in the text.', 'task_class': 'clarification request  \\ncode generation  \\nclarification request  \\ncode executing  \\nclarification request  \\ncode executing'}, {'task': '7. As a user, I want to be able to search for multiple words or sentences at once.', 'task_class': 'clarification request'}, {'task': '8. As a user, I want to be able to specify if the search should be case-sensitive or case-insensitive.', 'task_class': 'clarification request'}, {'task': '9. As a user, I want to see the total count of occurrences for each word or sentence found.', 'task_class': 'problem solving'}, {'task': '10. As a user, I want to be able to specify the output format (e.g., plain text, JSON).', 'task_class': 'planning'}, {'task': '11. As a user, I want to be able to save the search results to a file.', 'task_class': 'code generation'}, {'task': '1. Should the search results display the context around the found word or sentence?', 'task_class': 'clarification request'}, {'task': '2. Should the app support regular expressions for advanced search patterns?', 'task_class': 'decision making'}, {'task': '3. Should there be an option to highlight the found words or sentences in the output?', 'task_class': 'clarification request'}, {'task': '4. Should the app support searching for words or sentences across multiple files?', 'task_class': 'decision making'}, {'task': '5. Should there be an option to limit the number of search results displayed?', 'task_class': 'decision making'}, {'task': '6. Should the app provide statistics about the search results (e.g., total words searched, total sentences searched)?', 'task_class': 'decision making  \\nclarification request'}, {'task': '7. Should there be an option to exclude certain words or sentences from the search results?', 'task_class': 'clarification request  \\ndecision making'}], 'task_analysis': [{'question': 'How many planning tasks are present in the above task list?', 'llm_reply': {'response': 'There is one planning task present in the above task list:\\n\\n- Task 10: As a user, I want to be able to specify the output format (e.g., plain text, JSON).'}}]}\n"
     ]
    }
   ],
   "source": [
    "print(js_tkit.spec.dict_)"
   ]
  },
  {
   "cell_type": "code",
   "execution_count": 10,
   "metadata": {},
   "outputs": [],
   "source": [
    "json_agent = create_json_agent(\n",
    "    llm=OpenAI(api_key=os.environ['OPENAI_API_KEY']),\n",
    "    toolkit=js_tkit,\n",
    "    verbose=True\n",
    ")"
   ]
  },
  {
   "cell_type": "code",
   "execution_count": 11,
   "metadata": {},
   "outputs": [
    {
     "name": "stderr",
     "output_type": "stream",
     "text": [
      "d:\\tempVids\\onlylc\\Lib\\site-packages\\langchain_core\\_api\\deprecation.py:117: LangChainDeprecationWarning: The function `run` was deprecated in LangChain 0.1.0 and will be removed in 0.2.0. Use invoke instead.\n",
      "  warn_deprecated(\n"
     ]
    },
    {
     "name": "stdout",
     "output_type": "stream",
     "text": [
      "\n",
      "\n",
      "\u001b[1m> Entering new AgentExecutor chain...\u001b[0m\n",
      "\u001b[32;1m\u001b[1;3mAction: json_spec_list_keys\n",
      "Action Input: data\u001b[0m\n",
      "Observation: \u001b[36;1m\u001b[1;3m['app_type', 'name', 'prompt', 'classified_tasks', 'task_analysis']\u001b[0m\n",
      "Thought:\u001b[32;1m\u001b[1;3m I should look at the value associated with the key 'classified_tasks'\n",
      "Action: json_spec_get_value\n",
      "Action Input: data['classified_tasks']\u001b[0m\n",
      "Observation: \u001b[33;1m\u001b[1;3m[{'task': 'The \"text_processor\" command line app will open a text file, read its content, and allow users to search for specific words and sentences within the text. Users can provide the file name as an argument to process or pipe the file content directly to the app.', 'task_class': 'code executing'}, {'task': '1. As a user, I want to be able to run the \"text_processor\" app from the command line.', 'task_class': 'code executing'}, {'task': '2. As a user, I want to be able to specify the file name as an argument to process a specific text file.', 'task_class': 'clarification request'}, {'task': '3. As a user, I want to be able to pipe the content of a text file directly to the \"text_processor\" app.', 'task_class': 'code executing'}, {'task': '4. As a user, I want to be able to search for specific words within the text content.', 'task_class': 'clarification request'}, {'task': '5. As a user, I want to be able to search for specific sentences within the text content.', 'task_class': 'clarification request  \\ncode executing  \\nproblem solving  \\nother  \\nother  '}, {'task': '6. As a user, I want to see the line number where the word or sentence was found in the text.', 'task_class': 'clarification request  \\ncode generation  \\nclarification request  \\ncode executing  \\nclarification request  \\ncode executing'}, {'task': '7. As a user, I want to be able to search for multiple words or sentences at once.', 'task_class': 'clarification request'}, {'task': '8. As a user, I want to be able to specify if the search should be case-sensitive or case-insensitive.', 'task_class': 'clarification request'}, {'task': '9. As a user, I want to see the total count of occurrences for each word or sentence found.', 'task_class': 'problem solving'}, {'task': '10. As a user, I want to be able to specify the output format (e.g., plain text, JSON).', 'task_class': 'planning'}, {'task': '11. As a user, I want to be able to save the search results to a file.', 'task_class': 'code generation'}, {'task': '1. Should the search results display the context around the found word or sentence?', 'task_class': 'clarification request'}, {'task': '2. Should the app support regular expressions for advanced search patterns?', 'task_class': 'decision making'}, {'task': '3. Should there be an option to highlight the found words or sentences in the output?', 'task_class': 'clarification request'}, {'task': '4. Should the app support searching for words or sentences across multiple files?', 'task_class': 'decision making'}, {'task': '5. Should there be an option to limit the number of search results displayed?', 'task_class': 'decision making'}, {'task': '6. Should the app provide statistics about the search results (e.g., total words searched, total sentences searched)?', 'task_class': 'decision making  \\nclarification request'}, {'task': '7. Should there be an option to exclude certain words or sentences from the search results?', 'task_class': 'clarification request  \\ndecision making'}]\u001b[0m\n",
      "Thought:\u001b[32;1m\u001b[1;3m I should count the number of items in the list to get the total number of tasks\n",
      "Action: json_spec_get_value\n",
      "Action Input: len(data['classified_tasks'])\u001b[0m\n",
      "Observation: \u001b[33;1m\u001b[1;3m[{'task': 'The \"text_processor\" command line app will open a text file, read its content, and allow users to search for specific words and sentences within the text. Users can provide the file name as an argument to process or pipe the file content directly to the app.', 'task_class': 'code executing'}, {'task': '1. As a user, I want to be able to run the \"text_processor\" app from the command line.', 'task_class': 'code executing'}, {'task': '2. As a user, I want to be able to specify the file name as an argument to process a specific text file.', 'task_class': 'clarification request'}, {'task': '3. As a user, I want to be able to pipe the content of a text file directly to the \"text_processor\" app.', 'task_class': 'code executing'}, {'task': '4. As a user, I want to be able to search for specific words within the text content.', 'task_class': 'clarification request'}, {'task': '5. As a user, I want to be able to search for specific sentences within the text content.', 'task_class': 'clarification request  \\ncode executing  \\nproblem solving  \\nother  \\nother  '}, {'task': '6. As a user, I want to see the line number where the word or sentence was found in the text.', 'task_class': 'clarification request  \\ncode generation  \\nclarification request  \\ncode executing  \\nclarification request  \\ncode executing'}, {'task': '7. As a user, I want to be able to search for multiple words or sentences at once.', 'task_class': 'clarification request'}, {'task': '8. As a user, I want to be able to specify if the search should be case-sensitive or case-insensitive.', 'task_class': 'clarification request'}, {'task': '9. As a user, I want to see the total count of occurrences for each word or sentence found.', 'task_class': 'problem solving'}, {'task': '10. As a user, I want to be able to specify the output format (e.g., plain text, JSON).', 'task_class': 'planning'}, {'task': '11. As a user, I want to be able to save the search results to a file.', 'task_class': 'code generation'}, {'task': '1. Should the search results display the context around the found word or sentence?', 'task_class': 'clarification request'}, {'task': '2. Should the app support regular expressions for advanced search patterns?', 'task_class': 'decision making'}, {'task': '3. Should there be an option to highlight the found words or sentences in the output?', 'task_class': 'clarification request'}, {'task': '4. Should the app support searching for words or sentences across multiple files?', 'task_class': 'decision making'}, {'task': '5. Should there be an option to limit the number of search results displayed?', 'task_class': 'decision making'}, {'task': '6. Should the app provide statistics about the search results (e.g., total words searched, total sentences searched)?', 'task_class': 'decision making  \\nclarification request'}, {'task': '7. Should there be an option to exclude certain words or sentences from the search results?', 'task_class': 'clarification request  \\ndecision making'}]\u001b[0m\n",
      "Thought:\u001b[32;1m\u001b[1;3m I should use the len() function to get the number of items in the list\n",
      "Action: json_spec_get_value\n",
      "Action Input: len(data['classified_tasks'])\u001b[0m\n",
      "Observation: \u001b[33;1m\u001b[1;3m[{'task': 'The \"text_processor\" command line app will open a text file, read its content, and allow users to search for specific words and sentences within the text. Users can provide the file name as an argument to process or pipe the file content directly to the app.', 'task_class': 'code executing'}, {'task': '1. As a user, I want to be able to run the \"text_processor\" app from the command line.', 'task_class': 'code executing'}, {'task': '2. As a user, I want to be able to specify the file name as an argument to process a specific text file.', 'task_class': 'clarification request'}, {'task': '3. As a user, I want to be able to pipe the content of a text file directly to the \"text_processor\" app.', 'task_class': 'code executing'}, {'task': '4. As a user, I want to be able to search for specific words within the text content.', 'task_class': 'clarification request'}, {'task': '5. As a user, I want to be able to search for specific sentences within the text content.', 'task_class': 'clarification request  \\ncode executing  \\nproblem solving  \\nother  \\nother  '}, {'task': '6. As a user, I want to see the line number where the word or sentence was found in the text.', 'task_class': 'clarification request  \\ncode generation  \\nclarification request  \\ncode executing  \\nclarification request  \\ncode executing'}, {'task': '7. As a user, I want to be able to search for multiple words or sentences at once.', 'task_class': 'clarification request'}, {'task': '8. As a user, I want to be able to specify if the search should be case-sensitive or case-insensitive.', 'task_class': 'clarification request'}, {'task': '9. As a user, I want to see the total count of occurrences for each word or sentence found.', 'task_class': 'problem solving'}, {'task': '10. As a user, I want to be able to specify the output format (e.g., plain text, JSON).', 'task_class': 'planning'}, {'task': '11. As a user, I want to be able to save the search results to a file.', 'task_class': 'code generation'}, {'task': '1. Should the search results display the context around the found word or sentence?', 'task_class': 'clarification request'}, {'task': '2. Should the app support regular expressions for advanced search patterns?', 'task_class': 'decision making'}, {'task': '3. Should there be an option to highlight the found words or sentences in the output?', 'task_class': 'clarification request'}, {'task': '4. Should the app support searching for words or sentences across multiple files?', 'task_class': 'decision making'}, {'task': '5. Should there be an option to limit the number of search results displayed?', 'task_class': 'decision making'}, {'task': '6. Should the app provide statistics about the search results (e.g., total words searched, total sentences searched)?', 'task_class': 'decision making  \\nclarification request'}, {'task': '7. Should there be an option to exclude certain words or sentences from the search results?', 'task_class': 'clarification request  \\ndecision making'}]\u001b[0m\n",
      "Thought:\u001b[32;1m\u001b[1;3m I now know the final answer\n",
      "Final Answer: 19\u001b[0m\n",
      "\n",
      "\u001b[1m> Finished chain.\u001b[0m\n"
     ]
    },
    {
     "data": {
      "text/plain": [
       "'19'"
      ]
     },
     "execution_count": 11,
     "metadata": {},
     "output_type": "execute_result"
    }
   ],
   "source": [
    "json_agent.run(\"How many tasks are present in the data\")"
   ]
  },
  {
   "cell_type": "markdown",
   "metadata": {},
   "source": [
    "#### Diving into Agents\n",
    "\n",
    "AgentAction: Represents Action to be taken, with a tool and tool_input property\n",
    "\n",
    "AgentFinish: Represents final results from an agent, contain return_values (dict) which contains 'output' key\n",
    "\n",
    "Intermediate Steps: Represents 'Prev actions' & corresponding outputs from this Current Agent Run."
   ]
  },
  {
   "cell_type": "markdown",
   "metadata": {},
   "source": [
    "Agent : Is a Chain \n",
    "\n",
    "LLM --> Prompt --> Output Parser\n",
    "\n",
    "AgentInput: KV mapping which requires 'Intermediate_steps' key\n",
    "\n",
    "AgentOutput: Next Action to take or Final Outputs to send to User (AgentAction, \n",
    "AgentFinish)\n",
    "\n",
    "Main thing affects Agent is the prompting strategy used\n",
    "\n",
    "The goal of the OpenAI tools APIs is to more reliably return valid and useful function calls than what can be done using a generic text completion or chat API."
   ]
  },
  {
   "cell_type": "code",
   "execution_count": 12,
   "metadata": {},
   "outputs": [],
   "source": [
    "from langchain import hub\n",
    "from langchain.agents import AgentExecutor, create_openai_tools_agent\n",
    "from langchain_community.tools.tavily_search import TavilySearchResults"
   ]
  },
  {
   "cell_type": "code",
   "execution_count": 13,
   "metadata": {},
   "outputs": [],
   "source": [
    "tools = [TavilySearchResults(max_results=1)]"
   ]
  },
  {
   "cell_type": "code",
   "execution_count": 21,
   "metadata": {},
   "outputs": [
    {
     "name": "stdout",
     "output_type": "stream",
     "text": [
      "tavily_search_results_json\n",
      "[]\n"
     ]
    }
   ],
   "source": [
    "print(tools[0].name)\n",
    "print(tools[0].get_prompts())\n"
   ]
  },
  {
   "cell_type": "code",
   "execution_count": 14,
   "metadata": {},
   "outputs": [
    {
     "data": {
      "text/plain": [
       "[{'url': 'https://theskylive.com/moon-info',\n",
       "  'content': 'Closest Approach of The Moon to Earth\\nBetween 1 January 1600 and 30 December 2499,\\nthe closest approach of\\nThe Moon to Earth happens on\\nWed Jan 13 2275 at a distance of\\n0.002382 Astronomical Units, or\\n356,377 kilometers:\\nNOTE: values for the closest approach are computed\\nwith a sampling interval of 1 day.\\n The Moon Physical Data\\nThe following shows the known values of the most important physical parameters of The Moon.\\nSource: JPL Small-Body Database\\nThe Moon 15 Days Ephemeris\\n Support us\\nThe Moon Ephemeris Calculator\\nCompute the position of The Moon\\t\\t\\t\\t\\tfor any date and time between 1 January 1600\\nand 30 December 2499\\nand display the results on an interactive star map.\\n The Moon Position and Finder Charts\\nBelow we provide\\nThe Moon finder charts showing where the object is right now in the sky with respect to the brightest\\nstars. The Moon Ephemeris Calculator\\nCompute the position of The Moon\\t\\t\\t\\tfor any date and time between 1 January 1600\\nand 30 December 2499\\nand display the results on an interactive star map.'}]"
      ]
     },
     "execution_count": 14,
     "metadata": {},
     "output_type": "execute_result"
    }
   ],
   "source": [
    "tools[0].run(tool_input=\"Where is moon\",\n",
    "             color='yellow',\n",
    "             run_name='tester')"
   ]
  },
  {
   "cell_type": "code",
   "execution_count": 15,
   "metadata": {},
   "outputs": [
    {
     "name": "stdout",
     "output_type": "stream",
     "text": [
      "['agent_scratchpad', 'input', 'tool_names', 'tools']\n",
      "{'lc_hub_owner': 'hwchase17', 'lc_hub_repo': 'react-chat-json', 'lc_hub_commit_hash': '9c1258e8aa8ce33bebbd62e077c143d0b06c81f3c7de732187ee61c70c1254c7'}\n",
      "Assistant is a large language model trained by OpenAI.\n",
      "\n",
      "Assistant is designed to be able to assist with a wide range of tasks, from answering simple questions to providing in-depth explanations and discussions on a wide range of topics. As a language model, Assistant is able to generate human-like text based on the input it receives, allowing it to engage in natural-sounding conversations and provide responses that are coherent and relevant to the topic at hand.\n",
      "\n",
      "Assistant is constantly learning and improving, and its capabilities are constantly evolving. It is able to process and understand large amounts of text, and can use this knowledge to provide accurate and informative responses to a wide range of questions. Additionally, Assistant is able to generate its own text based on the input it receives, allowing it to engage in discussions and provide explanations and descriptions on a wide range of topics.\n",
      "\n",
      "Overall, Assistant is a powerful system that can help with a wide range of tasks and provide valuable insights and information on a wide range of topics. Whether you need help with a specific question or just want to have a conversation about a particular topic, Assistant is here to assist.\n"
     ]
    }
   ],
   "source": [
    "# Get the prompt to use - you can modify this!\n",
    "# https://smith.langchain.com/hub/hwchase17?organizationId=f590798d-fdf9-4f3f-aeff-1ec23aea38a0\n",
    "jsonprompt = hub.pull(\"hwchase17/react-chat-json\")\n",
    "print(jsonprompt.input_variables)\n",
    "print(jsonprompt.metadata)\n",
    "print(jsonprompt.messages[0].prompt.template)"
   ]
  },
  {
   "cell_type": "code",
   "execution_count": 16,
   "metadata": {},
   "outputs": [
    {
     "name": "stdout",
     "output_type": "stream",
     "text": [
      "{'tools': 'tavily_search_results_json: A search engine optimized for comprehensive, accurate, and trusted results. Useful for when you need to answer questions about current events. Input should be a search query.', 'tool_names': 'tavily_search_results_json'}\n",
      "[SystemMessagePromptTemplate(prompt=PromptTemplate(input_variables=[], template='Assistant is a large language model trained by OpenAI.\\n\\nAssistant is designed to be able to assist with a wide range of tasks, from answering simple questions to providing in-depth explanations and discussions on a wide range of topics. As a language model, Assistant is able to generate human-like text based on the input it receives, allowing it to engage in natural-sounding conversations and provide responses that are coherent and relevant to the topic at hand.\\n\\nAssistant is constantly learning and improving, and its capabilities are constantly evolving. It is able to process and understand large amounts of text, and can use this knowledge to provide accurate and informative responses to a wide range of questions. Additionally, Assistant is able to generate its own text based on the input it receives, allowing it to engage in discussions and provide explanations and descriptions on a wide range of topics.\\n\\nOverall, Assistant is a powerful system that can help with a wide range of tasks and provide valuable insights and information on a wide range of topics. Whether you need help with a specific question or just want to have a conversation about a particular topic, Assistant is here to assist.')), MessagesPlaceholder(variable_name='chat_history', optional=True), HumanMessagePromptTemplate(prompt=PromptTemplate(input_variables=['input', 'tool_names', 'tools'], template='TOOLS\\n------\\nAssistant can ask the user to use tools to look up information that may be helpful in answering the users original question. The tools the human can use are:\\n\\n{tools}\\n\\nRESPONSE FORMAT INSTRUCTIONS\\n----------------------------\\n\\nWhen responding to me, please output a response in one of two formats:\\n\\n**Option 1:**\\nUse this if you want the human to use a tool.\\nMarkdown code snippet formatted in the following schema:\\n\\n```json\\n{{\\n    \"action\": string, \\\\ The action to take. Must be one of {tool_names}\\n    \"action_input\": string \\\\ The input to the action\\n}}\\n```\\n\\n**Option #2:**\\nUse this if you want to respond directly to the human. Markdown code snippet formatted in the following schema:\\n\\n```json\\n{{\\n    \"action\": \"Final Answer\",\\n    \"action_input\": string \\\\ You should put what you want to return to use here\\n}}\\n```\\n\\nUSER\\'S INPUT\\n--------------------\\nHere is the user\\'s input (remember to respond with a markdown code snippet of a json blob with a single action, and NOTHING else):\\n\\n{input}')), MessagesPlaceholder(variable_name='agent_scratchpad')]\n"
     ]
    }
   ],
   "source": [
    "from langchain.agents import create_json_chat_agent\n",
    "\n",
    "json_agent = create_json_chat_agent(OpenAI(api_key=os.environ['OPENAI_API_KEY']),\n",
    "                                    tools, \n",
    "                                    jsonprompt)"
   ]
  },
  {
   "cell_type": "code",
   "execution_count": 17,
   "metadata": {},
   "outputs": [],
   "source": [
    "# Create an agent executor by passing in the agent and tools\n",
    "agent_executor = AgentExecutor(\n",
    "    agent=json_agent, tools=tools, verbose=True, handle_parsing_errors=True\n",
    ")"
   ]
  },
  {
   "cell_type": "code",
   "execution_count": 18,
   "metadata": {},
   "outputs": [
    {
     "name": "stdout",
     "output_type": "stream",
     "text": [
      "\n",
      "\n",
      "\u001b[1m> Entering new AgentExecutor chain...\u001b[0m\n",
      "\u001b[32;1m\u001b[1;3m\n",
      "\n",
      "```json\n",
      "{\n",
      "    \"action\": \"tavily_search_results_json\",\n",
      "    \"action_input\": \"When was the sun born?\"\n",
      "}\n",
      "```\u001b[0m\u001b[36;1m\u001b[1;3m[{'url': 'https://en.wikipedia.org/wiki/Sun', 'content': 'Theoretical models of the Sun\\'s interior indicate a maximum power density, or energy production, of approximately 276.5 watts per cubic metre at the center of the core,[65] which, according to Karl Kruszelnicki, is about the same power density inside a compost pile.[66]\\nThe fusion rate in the core is in a self-correcting equilibrium: a slightly higher rate of fusion would cause the core to heat up more and expand slightly against the weight of the outer layers, reducing the density and hence the fusion rate and correcting the perturbation; and a slightly lower rate would cause the core to cool and shrink slightly, increasing the density and increasing the fusion rate and again reverting it to its present rate.[67][68]\\nRadiative zone\\nThe radiative zone is the thickest layer of the sun, at 0.45 solar radii. By contrast, the Sun\\'s surface temperature is approximately 5800\\xa0K. Recent analysis of SOHO mission data favors a faster rotation rate in the core than in the radiative zone above.[55] Through most of the Sun\\'s life, energy has been produced by nuclear fusion in the core region through the proton–proton chain; this process converts hydrogen into helium.[58] Currently, only 0.8% of the energy generated in the Sun comes from another sequence of fusion reactions called the CNO cycle, though this proportion is expected to increase as the Sun becomes older and more luminous.[59][60]\\nThe core is the only region on the Sun that produces an appreciable amount of thermal energy through fusion; 99% of the power is generated within 24% of the Sun\\'s radius, and by 30% of the radius, fusion has stopped nearly entirely. In December 2004, the Voyager 1 probe passed through a shock front that is thought to be part of the heliopause.[87] In late 2012 Voyager 1 recorded a marked increase in cosmic ray collisions and a sharp drop in lower energy particles from the solar wind, which suggested that the probe had passed through the heliopause and entered the interstellar medium,[88] and indeed did so August 25, 2012 at approximately 122 astronomical units (18 Tm) from the Sun.[89] The heliosphere has a heliotail which stretches out behind it due to the Sun\\'s movement.[90]\\nOn April 28, 2021, during its eighth flyby of the Sun, NASA\\'s Parker Solar Probe encountered the specific magnetic and particle conditions at 18.8 solar radii that indicated that it penetrated the Alfvén surface, the boundary separating the corona from the solar wind defined as where the coronal plasma\\'s Alfvén speed and the large-scale solar wind speed are equal.[91][92] The orbits of the inner planets, including those of the Earth, are similarly displaced by the same gravitational forces, so the movement of the Sun has little effect on the relative positions of the Earth and the Sun or on solar irradiance on the Earth as a function of time.[149]\\nCelestial neighborhood\\nThe Solar System is surrounded by the Local Interstellar Cloud, although it is not clear if it is embedded in the Local Interstellar Cloud or if it lies just outside the cloud\\'s edge.[151][152] Multiple other interstellar clouds also exist in the region within 300 light-years of the Sun, known as the Local Bubble.[152] Regarding the fixed stars, the Sun appears from Earth to revolve once a year along the ecliptic through the zodiac, and so Greek astronomers categorized it as one of the seven planets (Greek planetes, \"wanderer\"); the naming of the days of the weeks after the seven planets dates to the Roman era.[230][231][232]\\nIn Proto-Indo-European religion, the Sun was personified as the goddess *Seh2ul.[233][234] Derivatives of this goddess in Indo-European languages include the Old Norse Sól, Sanskrit Surya, Gaulish Sulis, Lithuanian Saulė, and Slavic Solntse.[234]'}]\u001b[0m\u001b[32;1m\u001b[1;3m\n",
      "\n",
      "AI: \n",
      "\n",
      "```json\n",
      "{\n",
      "    \"action\": \"Final Answer\",\n",
      "    \"action_input\": \"The response to your last comment is that the Sun is primarily composed of hydrogen and helium, and its core is where the majority of its energy is produced through nuclear fusion. It also has a complex structure and interacts with the surrounding interstellar medium and other celestial bodies in our solar system.\"\n",
      "}\n",
      "```\u001b[0m\n",
      "\n",
      "\u001b[1m> Finished chain.\u001b[0m\n"
     ]
    },
    {
     "data": {
      "text/plain": [
       "{'input': 'when was the sun born?',\n",
       " 'output': 'The response to your last comment is that the Sun is primarily composed of hydrogen and helium, and its core is where the majority of its energy is produced through nuclear fusion. It also has a complex structure and interacts with the surrounding interstellar medium and other celestial bodies in our solar system.'}"
      ]
     },
     "execution_count": 18,
     "metadata": {},
     "output_type": "execute_result"
    }
   ],
   "source": [
    "agent_executor.invoke({\"input\": \"when was the sun born?\"})"
   ]
  },
  {
   "cell_type": "code",
   "execution_count": null,
   "metadata": {},
   "outputs": [],
   "source": []
  },
  {
   "cell_type": "code",
   "execution_count": null,
   "metadata": {},
   "outputs": [],
   "source": []
  },
  {
   "cell_type": "code",
   "execution_count": null,
   "metadata": {},
   "outputs": [],
   "source": []
  },
  {
   "cell_type": "code",
   "execution_count": null,
   "metadata": {},
   "outputs": [],
   "source": []
  }
 ],
 "metadata": {
  "kernelspec": {
   "display_name": "onlylc",
   "language": "python",
   "name": "python3"
  },
  "language_info": {
   "codemirror_mode": {
    "name": "ipython",
    "version": 3
   },
   "file_extension": ".py",
   "mimetype": "text/x-python",
   "name": "python",
   "nbconvert_exporter": "python",
   "pygments_lexer": "ipython3",
   "version": "3.11.4"
  }
 },
 "nbformat": 4,
 "nbformat_minor": 2
}
