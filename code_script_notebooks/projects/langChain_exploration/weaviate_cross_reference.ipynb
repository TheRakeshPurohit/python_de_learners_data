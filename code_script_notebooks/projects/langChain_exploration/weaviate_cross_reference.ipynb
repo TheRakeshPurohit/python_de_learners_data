{
 "cells": [
  {
   "cell_type": "markdown",
   "metadata": {},
   "source": [
    "This notebook contains the Cross-references implementation in Weaviate Classes"
   ]
  },
  {
   "cell_type": "markdown",
   "metadata": {},
   "source": [
    "Appln 1: blog post class could have a cross-reference property called hasAuthor to link each post to its author,\n",
    "\n",
    "Appln 2: chunk class could have a cross-reference property called sourceDocument to link each chunk to its original document.\n",
    "\n",
    "Appln 3: A product (source) to its manufacturer (target).\n",
    "\n",
    "Appln 4: A quiz item (source) to its category (target).\n",
    "\n",
    "We will refer to the originating object as the **source** object, and the object that is being linked to (cross-referenced object) as the **target** object.\n",
    "\n",
    "Example: A hasAuthor cross-reference property might be directed to the Author class, while a sourceDocument cross-reference property might be directed to the Document class.\n",
    "\n",
    "Cross-references are uni-directional; to establish a bi-directional relationship, two distinct cross-reference properties are required, facilitating linkage in both directions."
   ]
  },
  {
   "cell_type": "code",
   "execution_count": null,
   "metadata": {},
   "outputs": [],
   "source": [
    "# class with cross reference to Author class\n",
    "x = {\n",
    "    \"class\": \"BlogPost\",\n",
    "    \"properties\": [\n",
    "        ...  // other class properties\n",
    "        {\n",
    "            \"name\": \"hasAuthor\",\n",
    "            \"dataType\": [\"Author\"],\n",
    "        },\n",
    "    ],\n",
    "    ...  // other class attributes (e.g. vectorizer)\n",
    "}"
   ]
  },
  {
   "cell_type": "markdown",
   "metadata": {},
   "source": [
    "### To create a cross-reference, Weaviate requires the following information:\n",
    "\n",
    "- The class and UUID of the source (from) object.\n",
    "\n",
    "- The class and UUID of the target (to) object.\n",
    "\n",
    "- The name of the cross-reference property.\n"
   ]
  },
  {
   "cell_type": "code",
   "execution_count": 2,
   "metadata": {},
   "outputs": [
    {
     "name": "stdout",
     "output_type": "stream",
     "text": [
      "http://localhost:8888\n"
     ]
    }
   ],
   "source": [
    "class Weaviate:\n",
    "    def __init__(self, host_addr):\n",
    "        self.client = host_addr \n",
    "\n",
    "    def __str__(self):\n",
    "        return self.client\n",
    "\n",
    "client = Weaviate(host_addr='http://localhost:8888')\n",
    "print(client)"
   ]
  },
  {
   "cell_type": "code",
   "execution_count": null,
   "metadata": {},
   "outputs": [],
   "source": [
    "questions = client.collections.get(\"JeopardyQuestion\")\n",
    "\n",
    "questions.data.reference_add(\n",
    "    from_uuid=question_obj_id,\n",
    "    from_property=\"hasCategory\",\n",
    "    to=category_obj_id\n",
    ")"
   ]
  },
  {
   "cell_type": "markdown",
   "metadata": {},
   "source": [
    "Example:\n",
    "\n",
    "where a document chunk includes a cross-reference to its original document, you can use the cross-reference to retrieve properties of the original document. Accordingly, you can retrieve the title of the document or the author of the document, just as you would retrieve a property of the chunk itself such as the text of the chunk."
   ]
  },
  {
   "cell_type": "code",
   "execution_count": null,
   "metadata": {},
   "outputs": [],
   "source": [
    " import weaviate.classes as wvc\n",
    "\n",
    "jeopardy = client.collections.get(\"JeopardyQuestion\")\n",
    "response = jeopardy.query.fetch_objects(\n",
    "    return_references=[\n",
    "        wvc.query.QueryReference(\n",
    "            link_on=\"hasCategory\",\n",
    "            return_properties=[\"title\"]\n",
    "        ),\n",
    "    ],\n",
    "    limit=2\n",
    ")\n",
    "\n",
    "for o in response.objects:\n",
    "    print(o.properties[\"question\"])\n",
    "    # print referenced objects\n",
    "    for ref_obj in o.references[\"hasCategory\"].objects:\n",
    "        print(ref_obj.properties)"
   ]
  },
  {
   "cell_type": "code",
   "execution_count": null,
   "metadata": {},
   "outputs": [],
   "source": [
    "jeopardy = client.collections.get(\"JeopardyQuestion\")\n",
    "    response = jeopardy.query.fetch_objects(\n",
    "        filters=wvc.query.Filter.by_ref(link_on=\"hasCategory\").by_property(\"title\").like(\"*Sport*\"),\n",
    "        return_references=wvc.query.QueryReference(link_on=\"hasCategory\", return_properties=[\"title\"]),\n",
    "        limit=3\n",
    "    )\n",
    "\n",
    "    for o in response.objects:\n",
    "        print(o.properties)\n",
    "        print(o.references[\"hasCategory\"].objects[0].properties[\"title\"])"
   ]
  },
  {
   "cell_type": "code",
   "execution_count": null,
   "metadata": {},
   "outputs": [],
   "source": [
    "class_definitions = [\n",
    "    {\n",
    "        \"class\": \"JeopardyCategory\",\n",
    "        \"properties\": [\n",
    "            {\"name\": \"title\", \"dataType\": [\"text\"]},\n",
    "        ],\n",
    "    },  # class 1 is created\n",
    "    {\n",
    "        \"class\": \"JeopardyQuestion\",\n",
    "        \"description\": \"A Jeopardy! question\",\n",
    "        \"properties\": [\n",
    "            {\"name\": \"question\", \"dataType\": [\"text\"]},\n",
    "            {\"name\": \"answer\", \"dataType\": [\"text\"]},\n",
    "            {\n",
    "                \"name\": \"hasCategory\",\n",
    "                \"dataType\": [\"JeopardyCategory\"],\n",
    "                \"description\": \"The category of the question\",\n",
    "            },\n",
    "        ],\n",
    "    },  # class 2 is created with \"datatype\" as [\"name of class\"]\n",
    "]\n",
    "\n",
    "client.schema.create({\"classes\": class_definitions})"
   ]
  },
  {
   "cell_type": "code",
   "execution_count": null,
   "metadata": {},
   "outputs": [],
   "source": [
    "client.schema.property.create(\"JeopardyCategory\", {\n",
    "    \"name\": \"hasQuestion\",\n",
    "    \"dataType\": [\"JeopardyQuestion\"]\n",
    "})\n",
    "\n",
    "# Here the hasQuestion cross-reference property to JeopardyCategory"
   ]
  },
  {
   "cell_type": "code",
   "execution_count": null,
   "metadata": {},
   "outputs": [],
   "source": [
    "sf_id = \"00ff6900-e64f-5d94-90db-c8cfa3fc851b\"\n",
    "us_cities_id = \"20ffc68d-986b-5e71-a680-228dba18d7ef\"\n",
    "\n",
    "client.data_object.reference.add(\n",
    "    from_class_name=\"JeopardyQuestion\",\n",
    "    from_uuid=sf_id,\n",
    "    from_property_name=\"hasCategory\",\n",
    "    to_class_name=\"JeopardyCategory\",\n",
    "    to_uuid=us_cities_id,\n",
    ")\n",
    "\n",
    "# cross referencing is happening in this cell"
   ]
  },
  {
   "cell_type": "code",
   "execution_count": null,
   "metadata": {},
   "outputs": [],
   "source": [
    "category_definition = {\n",
    "    \"class\": \"JeopardyCategory\",\n",
    "    \"properties\": [\n",
    "        {\"name\": \"title\", \"dataType\": [\"text\"]},\n",
    "    ],\n",
    "}\n",
    "\n",
    "client.schema.create_class(category_definition)\n",
    "\n",
    "# here the new class is created using above definition"
   ]
  },
  {
   "cell_type": "code",
   "execution_count": null,
   "metadata": {},
   "outputs": [],
   "source": [
    "sf_id = \"00ff6900-e64f-5d94-90db-c8cfa3fc851b\"\n",
    "us_cities_id = \"20ffc68d-986b-5e71-a680-228dba18d7ef\"\n",
    "\n",
    "# For the \"San Francisco\" JeopardyQuestion object, add a cross-reference to the \"U.S. CITIES\" JeopardyCategory object\n",
    "client.data_object.reference.add(\n",
    "    from_class_name=\"JeopardyQuestion\",\n",
    "    from_uuid=sf_id,\n",
    "    from_property_name=\"hasCategory\",\n",
    "    to_class_name=\"JeopardyCategory\",\n",
    "    to_uuid=us_cities_id,\n",
    ")\n",
    "\n",
    "# For the \"U.S. CITIES\" JeopardyCategory object, add a cross-reference to \"San Francisco\"\n",
    "client.data_object.reference.add(\n",
    "    from_class_name=\"JeopardyCategory\",\n",
    "    from_uuid=us_cities_id,\n",
    "    from_property_name=\"hasQuestion\",\n",
    "    to_class_name=\"JeopardyQuestion\",\n",
    "    to_uuid=sf_id,\n",
    ")"
   ]
  },
  {
   "cell_type": "code",
   "execution_count": null,
   "metadata": {},
   "outputs": [],
   "source": []
  }
 ],
 "metadata": {
  "kernelspec": {
   "display_name": "Python 3",
   "language": "python",
   "name": "python3"
  },
  "language_info": {
   "codemirror_mode": {
    "name": "ipython",
    "version": 3
   },
   "file_extension": ".py",
   "mimetype": "text/x-python",
   "name": "python",
   "nbconvert_exporter": "python",
   "pygments_lexer": "ipython3",
   "version": "3.11.4"
  }
 },
 "nbformat": 4,
 "nbformat_minor": 2
}
