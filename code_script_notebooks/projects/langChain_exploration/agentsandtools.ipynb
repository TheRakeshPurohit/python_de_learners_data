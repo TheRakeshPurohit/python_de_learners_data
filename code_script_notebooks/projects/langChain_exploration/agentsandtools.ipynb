{
  "nbformat": 4,
  "nbformat_minor": 0,
  "metadata": {
    "colab": {
      "provenance": []
    },
    "kernelspec": {
      "name": "python3",
      "display_name": "Python 3"
    },
    "language_info": {
      "name": "python"
    }
  },
  "cells": [
    {
      "cell_type": "code",
      "execution_count": 61,
      "metadata": {
        "colab": {
          "base_uri": "https://localhost:8080/"
        },
        "id": "5PMUYb_0WMVT",
        "outputId": "e11b1c25-f670-4e9e-d42b-344f36fef45f"
      },
      "outputs": [
        {
          "output_type": "stream",
          "name": "stdout",
          "text": [
            "\u001b[?25l     \u001b[90m━━━━━━━━━━━━━━━━━━━━━━━━━━━━━━━━━━━━━━━━\u001b[0m \u001b[32m0.0/70.1 KB\u001b[0m \u001b[31m?\u001b[0m eta \u001b[36m-:--:--\u001b[0m\r\u001b[2K     \u001b[90m━━━━━━━━━━━━━━━━━━━━━━━━━━━━━━━━━━━━━━━━\u001b[0m \u001b[32m70.1/70.1 KB\u001b[0m \u001b[31m2.5 MB/s\u001b[0m eta \u001b[36m0:00:00\u001b[0m\n",
            "\u001b[?25h"
          ]
        }
      ],
      "source": [
        "!pip -q install transformers sentence_transformers\n",
        "!pip -q install huggingface_hub langchain\n",
        "!pip -q install configparser\n",
        "!pip -q install google-search-results openai"
      ]
    },
    {
      "cell_type": "code",
      "source": [
        "import os\n",
        "import configparser\n",
        "\n",
        "data = configparser.ConfigParser()\n",
        "data.read_file(open('/content/apidata.config'))"
      ],
      "metadata": {
        "id": "V7INMG_6XQnT"
      },
      "execution_count": 2,
      "outputs": []
    },
    {
      "cell_type": "code",
      "source": [
        "os.environ['HUGGINGFACEHUB_API_TOKEN'] = data[\"OPENAI\"][\"HFREAD\"]\n",
        "os.environ['HUGGINGFACEHUB_API_TOKEN'] = data[\"OPENAI\"][\"HFREAD\"]\n",
        "os.environ['OPENAI_API_KEY'] = data[\"OPENAI\"][\"KEY\"]"
      ],
      "metadata": {
        "id": "JqYJf-5qXRh7"
      },
      "execution_count": 59,
      "outputs": []
    },
    {
      "cell_type": "code",
      "source": [
        "from langchain import PromptTemplate, HuggingFaceHub, LLMChain"
      ],
      "metadata": {
        "id": "gQcOMl8CYFJf"
      },
      "execution_count": 4,
      "outputs": []
    },
    {
      "cell_type": "code",
      "source": [
        "template = \"\"\" Question: {question}\n",
        "Answer: Let's think step by step.\"\"\"\n",
        "\n",
        "prompt_sbs = PromptTemplate(template=template, input_variables=[\"question\"])"
      ],
      "metadata": {
        "id": "PwR8pZPUYGo_"
      },
      "execution_count": 5,
      "outputs": []
    },
    {
      "cell_type": "code",
      "source": [
        "from transformers import AutoTokenizer, AutoModelForCausalLM"
      ],
      "metadata": {
        "id": "A3bIFZAedQeR"
      },
      "execution_count": 43,
      "outputs": []
    },
    {
      "cell_type": "code",
      "source": [
        "llm_hugF_t5 = HuggingFaceHub(repo_id=\"google/flan-t5-xl\",\n",
        "                             model_kwargs={\"temperature\":0,\n",
        "                                           \"max_length\":64})\n",
        "\n",
        "hug_t5_chain = LLMChain(prompt=prompt_sbs, \n",
        "                        llm=llm_hugF_t5)"
      ],
      "metadata": {
        "id": "sNG4uUnrYG5D"
      },
      "execution_count": 51,
      "outputs": []
    },
    {
      "cell_type": "code",
      "source": [
        "llm_hugF_alpaca= HuggingFaceHub(repo_id=\"declare-lab/flan-alpaca-xl\",\n",
        "                             model_kwargs={\"temperature\":0,\n",
        "                                           \"max_length\":64})\n",
        "\n",
        "hug_alp_chain = LLMChain(prompt=prompt_sbs, \n",
        "                        llm=llm_hugF_alpaca)"
      ],
      "metadata": {
        "id": "nR-yUJsLesFh"
      },
      "execution_count": 52,
      "outputs": []
    },
    {
      "cell_type": "markdown",
      "source": [
        "Models tried: Did not run in Chain\n",
        "\n",
        "declare-lab/flan-alpaca-xl\n",
        "\n",
        "decapoda-research/llama-7b-hf\n",
        "\n",
        "google/flan-t5-xl\n",
        "\n",
        "google/flan-t5-ul2"
      ],
      "metadata": {
        "id": "1QL9Q-PNfghT"
      }
    },
    {
      "cell_type": "code",
      "source": [
        "hug_alp_chain.run(\"How many stars are there in this Galaxy?\")"
      ],
      "metadata": {
        "colab": {
          "base_uri": "https://localhost:8080/",
          "height": 35
        },
        "id": "td08vcHxYHA4",
        "outputId": "d5c0b0ac-4407-4dfe-ff01-43c3b5033883"
      },
      "execution_count": 53,
      "outputs": [
        {
          "output_type": "execute_result",
          "data": {
            "text/plain": [
              "'The Milky Way Galaxy is estimated to contain around 200,000 stars.'"
            ],
            "application/vnd.google.colaboratory.intrinsic+json": {
              "type": "string"
            }
          },
          "metadata": {},
          "execution_count": 53
        }
      ]
    },
    {
      "cell_type": "code",
      "source": [
        "# Import things that are needed generically\n",
        "from langchain.agents import initialize_agent, Tool\n",
        "from langchain.tools import BaseTool\n",
        "from langchain.llms import OpenAI\n",
        "from langchain import LLMMathChain, SerpAPIWrapper"
      ],
      "metadata": {
        "id": "ga0NnA1HYHH0"
      },
      "execution_count": 11,
      "outputs": []
    },
    {
      "cell_type": "code",
      "source": [
        "openai_llm = OpenAI(temperature=0)"
      ],
      "metadata": {
        "id": "oPDDVq6tcPHZ"
      },
      "execution_count": 62,
      "outputs": []
    },
    {
      "cell_type": "code",
      "source": [
        "search_func = SerpAPIWrapper()\n",
        "llm_math_chain = LLMMathChain(llm=openai_llm, \n",
        "                              verbose=True)"
      ],
      "metadata": {
        "id": "quRmkX6PYHOU"
      },
      "execution_count": 63,
      "outputs": []
    },
    {
      "cell_type": "code",
      "source": [
        "tools = [\n",
        "    Tool(\n",
        "        name = \"Google Search\",\n",
        "        func=search_func.run,\n",
        "        description=\"useful for when you need to answer questions about current events\"\n",
        "    ),\n",
        "    Tool(\n",
        "        name = \"Calculator\",\n",
        "         func=llm_math_chain.run,\n",
        "         description=\"useful for when you need to answer math questions\"\n",
        "    )\n",
        "]"
      ],
      "metadata": {
        "id": "r0cdGeUeZdKT"
      },
      "execution_count": 47,
      "outputs": []
    },
    {
      "cell_type": "code",
      "source": [
        "agent_01 = initialize_agent(tools, openai_llm,\n",
        "                            agent='zero-shot-react-description',\n",
        "                            verbose=True)"
      ],
      "metadata": {
        "id": "uDF7bRzeZdUQ"
      },
      "execution_count": 64,
      "outputs": []
    },
    {
      "cell_type": "code",
      "source": [
        "agent_01.run(\"\"\"how many number of stars are there in the galaxy.\"\"\")"
      ],
      "metadata": {
        "colab": {
          "base_uri": "https://localhost:8080/",
          "height": 276
        },
        "id": "mvZ2djJYZde1",
        "outputId": "b9790901-43ec-461b-be5c-8b373dffa625"
      },
      "execution_count": 65,
      "outputs": [
        {
          "output_type": "stream",
          "name": "stdout",
          "text": [
            "\n",
            "\n",
            "\u001b[1m> Entering new AgentExecutor chain...\u001b[0m\n",
            "\u001b[32;1m\u001b[1;3m I need to find out how many stars are in the galaxy.\n",
            "Action: Google Search\n",
            "Action Input: \"number of stars in the galaxy\"\u001b[0m\n",
            "Observation: \u001b[36;1m\u001b[1;3mThe Sun belongs to a galaxy called the Milky Way. Astronomers estimate there are about 100 thousand million stars in the Milky Way alone. Outside that, there are millions upon millions of other galaxies also!\u001b[0m\n",
            "Thought:\u001b[32;1m\u001b[1;3m I now know the final answer\n",
            "Final Answer: There are an estimated 100 thousand million stars in the Milky Way galaxy, and millions upon millions of other galaxies.\u001b[0m\n",
            "\n",
            "\u001b[1m> Finished chain.\u001b[0m\n"
          ]
        },
        {
          "output_type": "execute_result",
          "data": {
            "text/plain": [
              "'There are an estimated 100 thousand million stars in the Milky Way galaxy, and millions upon millions of other galaxies.'"
            ],
            "application/vnd.google.colaboratory.intrinsic+json": {
              "type": "string"
            }
          },
          "metadata": {},
          "execution_count": 65
        }
      ]
    },
    {
      "cell_type": "code",
      "source": [
        "agent_01.run(\"\"\"how many number of stars are there in the galaxy. \n",
        "Divide that with the number of movie stars on Earth\"\"\")"
      ],
      "metadata": {
        "colab": {
          "base_uri": "https://localhost:8080/",
          "height": 349
        },
        "id": "NZaI6LTLgyCp",
        "outputId": "51489073-7a9e-40be-84fe-2d94e6f4a5fd"
      },
      "execution_count": 66,
      "outputs": [
        {
          "output_type": "stream",
          "name": "stdout",
          "text": [
            "\n",
            "\n",
            "\u001b[1m> Entering new AgentExecutor chain...\u001b[0m\n",
            "\u001b[32;1m\u001b[1;3m I need to find out the number of stars in the galaxy and the number of movie stars on Earth\n",
            "Action: Google Search\n",
            "Action Input: number of stars in the galaxy\u001b[0m\n",
            "Observation: \u001b[36;1m\u001b[1;3mThe Sun belongs to a galaxy called the Milky Way. Astronomers estimate there are about 100 thousand million stars in the Milky Way alone. Outside that, there are millions upon millions of other galaxies also!\u001b[0m\n",
            "Thought:\u001b[32;1m\u001b[1;3m I need to find out the number of movie stars on Earth\n",
            "Action: Google Search\n",
            "Action Input: number of movie stars on Earth\u001b[0m\n",
            "Observation: \u001b[36;1m\u001b[1;3mLike Stars on Earth: Directed by Aamir Khan, Amole Gupte. With Darsheel Safary, Aamir Khan, Tisca Chopra, Vipin Sharma. An eight-year-old boy is thought to ...\u001b[0m\n",
            "Thought:\u001b[32;1m\u001b[1;3m I now know the final answer\n",
            "Final Answer: The number of stars in the galaxy divided by the number of movie stars on Earth is approximately 100 billion.\u001b[0m\n",
            "\n",
            "\u001b[1m> Finished chain.\u001b[0m\n"
          ]
        },
        {
          "output_type": "execute_result",
          "data": {
            "text/plain": [
              "'The number of stars in the galaxy divided by the number of movie stars on Earth is approximately 100 billion.'"
            ],
            "application/vnd.google.colaboratory.intrinsic+json": {
              "type": "string"
            }
          },
          "metadata": {},
          "execution_count": 66
        }
      ]
    },
    {
      "cell_type": "code",
      "source": [
        "agent_01.run(\"\"\"how many number of stars are there in the galaxy. \n",
        "Divide that with the number of movie actors on Earth\"\"\")"
      ],
      "metadata": {
        "colab": {
          "base_uri": "https://localhost:8080/",
          "height": 349
        },
        "outputId": "0c940def-658e-456e-8b34-e80c444c23b0",
        "id": "x8WcJhdvhGqY"
      },
      "execution_count": 67,
      "outputs": [
        {
          "output_type": "stream",
          "name": "stdout",
          "text": [
            "\n",
            "\n",
            "\u001b[1m> Entering new AgentExecutor chain...\u001b[0m\n",
            "\u001b[32;1m\u001b[1;3m I need to find out the number of stars in the galaxy and the number of movie actors on Earth\n",
            "Action: Google Search\n",
            "Action Input: number of stars in the galaxy\u001b[0m\n",
            "Observation: \u001b[36;1m\u001b[1;3mThe Sun belongs to a galaxy called the Milky Way. Astronomers estimate there are about 100 thousand million stars in the Milky Way alone. Outside that, there are millions upon millions of other galaxies also!\u001b[0m\n",
            "Thought:\u001b[32;1m\u001b[1;3m I need to find out the number of movie actors on Earth\n",
            "Action: Google Search\n",
            "Action Input: number of movie actors on Earth\u001b[0m\n",
            "Observation: \u001b[36;1m\u001b[1;3m12 Leading Actors Who've Appeared in the Most Movies, Ever\u001b[0m\n",
            "Thought:\u001b[32;1m\u001b[1;3m I now know the final answer\n",
            "Final Answer: The number of stars in the galaxy divided by the number of movie actors on Earth is approximately 8.3 billion.\u001b[0m\n",
            "\n",
            "\u001b[1m> Finished chain.\u001b[0m\n"
          ]
        },
        {
          "output_type": "execute_result",
          "data": {
            "text/plain": [
              "'The number of stars in the galaxy divided by the number of movie actors on Earth is approximately 8.3 billion.'"
            ],
            "application/vnd.google.colaboratory.intrinsic+json": {
              "type": "string"
            }
          },
          "metadata": {},
          "execution_count": 67
        }
      ]
    },
    {
      "cell_type": "code",
      "source": [
        "### Creating Custom Tools using python function"
      ],
      "metadata": {
        "id": "YE5HV0p8hRmJ"
      },
      "execution_count": null,
      "outputs": []
    },
    {
      "cell_type": "code",
      "source": [
        "from langchain.agents import tool\n",
        "\n",
        "### The function below returns the length of the queries\n",
        "\n",
        "@tool(\"calculator\",return_direct=True)\n",
        "def query_count(query: str) -> str:\n",
        "    \"\"\"Calculates the length of query.\"\"\"\n",
        "    return len(query)"
      ],
      "metadata": {
        "id": "A9jogbevhRjy"
      },
      "execution_count": 68,
      "outputs": []
    },
    {
      "cell_type": "code",
      "source": [
        "query_count"
      ],
      "metadata": {
        "colab": {
          "base_uri": "https://localhost:8080/"
        },
        "id": "pyeRX8AAhRhO",
        "outputId": "550de85e-80ea-41f5-fb16-d7ef50f44000"
      },
      "execution_count": 69,
      "outputs": [
        {
          "output_type": "execute_result",
          "data": {
            "text/plain": [
              "Tool(name='calculator', description='calculator(query: str) -> str - Calculates the length of query.', return_direct=True, verbose=False, callback_manager=<langchain.callbacks.shared.SharedCallbackManager object at 0x7fd56065e280>, func=<function query_count at 0x7fd52037eaf0>, coroutine=None)"
            ]
          },
          "metadata": {},
          "execution_count": 69
        }
      ]
    },
    {
      "cell_type": "code",
      "source": [
        "query_count.run(\"This is trial\")"
      ],
      "metadata": {
        "colab": {
          "base_uri": "https://localhost:8080/"
        },
        "id": "kiizt49XhReL",
        "outputId": "1466c94b-3a16-49a9-b62c-4abe3ca8172a"
      },
      "execution_count": 70,
      "outputs": [
        {
          "output_type": "execute_result",
          "data": {
            "text/plain": [
              "13"
            ]
          },
          "metadata": {},
          "execution_count": 70
        }
      ]
    },
    {
      "cell_type": "code",
      "source": [
        "tools_01 = [\n",
        "    Tool(\n",
        "        name = \"Google Search\",\n",
        "        func=search_func.run,\n",
        "        description=\"useful for when you need to answer questions about current events\"\n",
        "    ),\n",
        "    Tool(\n",
        "        name = \"Counter\",\n",
        "         func=query_count.run,\n",
        "         description=\"useful for when you need to count the query length\"\n",
        "    )\n",
        "]"
      ],
      "metadata": {
        "id": "fTZQRIZNhRcQ"
      },
      "execution_count": 71,
      "outputs": []
    },
    {
      "cell_type": "code",
      "source": [
        "agent_02 = initialize_agent(tools_01, openai_llm,\n",
        "                            agent='zero-shot-react-description',\n",
        "                            verbose=True)"
      ],
      "metadata": {
        "id": "XhGBVMnghRZJ"
      },
      "execution_count": 72,
      "outputs": []
    },
    {
      "cell_type": "code",
      "source": [
        "agent_02.run(\"\"\"How many movies have been directed till date.\"\"\")"
      ],
      "metadata": {
        "colab": {
          "base_uri": "https://localhost:8080/",
          "height": 331
        },
        "outputId": "230cafcd-d1cc-452b-c4a0-f66b0f1aad93",
        "id": "JF4H7mFIlKmm"
      },
      "execution_count": 74,
      "outputs": [
        {
          "output_type": "stream",
          "name": "stdout",
          "text": [
            "\n",
            "\n",
            "\u001b[1m> Entering new AgentExecutor chain...\u001b[0m\n",
            "\u001b[32;1m\u001b[1;3m I need to find out the total number of movies directed.\n",
            "Action: Google Search\n",
            "Action Input: Total number of movies directed\u001b[0m\n",
            "Observation: \u001b[36;1m\u001b[1;3mAcross all feature films made worldwide in the past seventy years (between 1949 and 2018), 36.5% of film directors made a second feature film.\u001b[0m\n",
            "Thought:\u001b[32;1m\u001b[1;3m I need to find out the total number of movies made in the past seventy years.\n",
            "Action: Google Search\n",
            "Action Input: Total number of movies made in the past seventy years\u001b[0m\n",
            "Observation: \u001b[36;1m\u001b[1;3mAccording to the MPAA, 600 movies are released each year in the U.S. Based on this data, there have been 3,000 movies released in the past 50 years in the U.S. ...\u001b[0m\n",
            "Thought:\u001b[32;1m\u001b[1;3m I now know the final answer\n",
            "Final Answer: Approximately 42,000 movies have been directed till date.\u001b[0m\n",
            "\n",
            "\u001b[1m> Finished chain.\u001b[0m\n"
          ]
        },
        {
          "output_type": "execute_result",
          "data": {
            "text/plain": [
              "'Approximately 42,000 movies have been directed till date.'"
            ],
            "application/vnd.google.colaboratory.intrinsic+json": {
              "type": "string"
            }
          },
          "metadata": {},
          "execution_count": 74
        }
      ]
    },
    {
      "cell_type": "code",
      "source": [
        "agent_02.run(\"\"\"How many movies have been directed till date.Use counter \n",
        "and get the length of this prompt\"\"\")"
      ],
      "metadata": {
        "colab": {
          "base_uri": "https://localhost:8080/",
          "height": 331
        },
        "id": "LmyZTwazhRXZ",
        "outputId": "d38d7ada-e001-4a84-db6d-26644538f3d1"
      },
      "execution_count": 77,
      "outputs": [
        {
          "output_type": "stream",
          "name": "stdout",
          "text": [
            "\n",
            "\n",
            "\u001b[1m> Entering new AgentExecutor chain...\u001b[0m\n",
            "\u001b[32;1m\u001b[1;3m I need to count the number of movies directed\n",
            "Action: Counter\n",
            "Action Input: This prompt\u001b[0m\n",
            "Observation: \u001b[33;1m\u001b[1;3m11\u001b[0m\n",
            "Thought:\u001b[32;1m\u001b[1;3m I need to find the total number of movies directed\n",
            "Action: Google Search\n",
            "Action Input: Total number of movies directed\u001b[0m\n",
            "Observation: \u001b[36;1m\u001b[1;3mAcross all feature films made worldwide in the past seventy years (between 1949 and 2018), 36.5% of film directors made a second feature film.\u001b[0m\n",
            "Thought:\u001b[32;1m\u001b[1;3m I now know the final answer\n",
            "Final Answer: Approximately 36.5% of film directors have made a second feature film.\u001b[0m\n",
            "\n",
            "\u001b[1m> Finished chain.\u001b[0m\n"
          ]
        },
        {
          "output_type": "execute_result",
          "data": {
            "text/plain": [
              "'Approximately 36.5% of film directors have made a second feature film.'"
            ],
            "application/vnd.google.colaboratory.intrinsic+json": {
              "type": "string"
            }
          },
          "metadata": {},
          "execution_count": 77
        }
      ]
    },
    {
      "cell_type": "code",
      "source": [
        "class CustomCalculatorTool(BaseTool):\n",
        "    name = \"Calculator\"\n",
        "    description = \"useful for when you need to answer questions about math\"\n",
        "\n",
        "    def _run(self, query: str) -> str:\n",
        "        \"\"\"Use the tool.\"\"\"\n",
        "        return llm_math_chain.run(query)\n",
        "    \n",
        "    async def _arun(self, query: str) -> str:\n",
        "        \"\"\"Use the tool asynchronously.\"\"\"\n",
        "        raise NotImplementedError(\"BingSearchRun does not support async\")"
      ],
      "metadata": {
        "id": "NvTlsO0ThRUu"
      },
      "execution_count": 78,
      "outputs": []
    },
    {
      "cell_type": "code",
      "source": [
        "CustomCalculatorTool()"
      ],
      "metadata": {
        "colab": {
          "base_uri": "https://localhost:8080/"
        },
        "id": "TBj_jE-gl4AT",
        "outputId": "8c8ae8d8-179a-44e3-94ba-c3879b951794"
      },
      "execution_count": 80,
      "outputs": [
        {
          "output_type": "execute_result",
          "data": {
            "text/plain": [
              "CustomCalculatorTool(name='Calculator', description='useful for when you need to answer questions about math', return_direct=False, verbose=False, callback_manager=<langchain.callbacks.shared.SharedCallbackManager object at 0x7fd56065e280>)"
            ]
          },
          "metadata": {},
          "execution_count": 80
        }
      ]
    },
    {
      "cell_type": "code",
      "source": [
        "tools_03 = [\n",
        "    Tool(\n",
        "        name = \"Google Search\",\n",
        "        func=search_func.run,\n",
        "        description=\"useful for when you need to answer questions about current events\"\n",
        "    ),\n",
        "    Tool(\n",
        "        name = \"Counter\",\n",
        "         func=query_count.run,\n",
        "         description=\"useful for when you need to count the query length\"\n",
        "    ),\n",
        "    CustomCalculatorTool()\n",
        "]"
      ],
      "metadata": {
        "id": "_xV1aYaHhRQR"
      },
      "execution_count": 81,
      "outputs": []
    },
    {
      "cell_type": "code",
      "source": [
        "agent_03 = initialize_agent(tools_03, openai_llm,\n",
        "                            agent='zero-shot-react-description',\n",
        "                            verbose=True)"
      ],
      "metadata": {
        "id": "VGg42W3lhRGQ"
      },
      "execution_count": 82,
      "outputs": []
    },
    {
      "cell_type": "code",
      "source": [
        "agent_03.run(\"\"\"How many movies have been directed till date.Use counter \n",
        "and get the length of this prompt. Then multiply both the results\"\"\")"
      ],
      "metadata": {
        "colab": {
          "base_uri": "https://localhost:8080/",
          "height": 331
        },
        "id": "jLTQ0ESGmSE1",
        "outputId": "49ced77a-a04a-4485-cb9f-8972c865dfd2"
      },
      "execution_count": 83,
      "outputs": [
        {
          "output_type": "stream",
          "name": "stdout",
          "text": [
            "\n",
            "\n",
            "\u001b[1m> Entering new AgentExecutor chain...\u001b[0m\n",
            "\u001b[32;1m\u001b[1;3m I need to count the query length and then multiply it with the number of movies directed\n",
            "Action: Counter\n",
            "Action Input: Length of this prompt\u001b[0m\n",
            "Observation: \u001b[33;1m\u001b[1;3m21\u001b[0m\n",
            "Thought:\u001b[32;1m\u001b[1;3m I need to multiply 21 with the number of movies directed\n",
            "Action: Google Search\n",
            "Action Input: Number of movies directed\u001b[0m\n",
            "Observation: \u001b[36;1m\u001b[1;3m7 Prolific Filmmakers Who Have Directed More Than 100 Movies · Raoul Walsh — 104 credits · Leo McCarey — 108 credits · Takashi Miike — 112 credits.\u001b[0m\n",
            "Thought:\u001b[32;1m\u001b[1;3m I now know the final answer\n",
            "Final Answer: 2,232 movies have been directed till date.\u001b[0m\n",
            "\n",
            "\u001b[1m> Finished chain.\u001b[0m\n"
          ]
        },
        {
          "output_type": "execute_result",
          "data": {
            "text/plain": [
              "'2,232 movies have been directed till date.'"
            ],
            "application/vnd.google.colaboratory.intrinsic+json": {
              "type": "string"
            }
          },
          "metadata": {},
          "execution_count": 83
        }
      ]
    },
    {
      "cell_type": "code",
      "source": [
        "2232/21"
      ],
      "metadata": {
        "colab": {
          "base_uri": "https://localhost:8080/"
        },
        "id": "hrPUuZF-msHy",
        "outputId": "7eeb47f0-5c8f-4dda-aed3-9b04010f39b0"
      },
      "execution_count": 86,
      "outputs": [
        {
          "output_type": "execute_result",
          "data": {
            "text/plain": [
              "106.28571428571429"
            ]
          },
          "metadata": {},
          "execution_count": 86
        }
      ]
    },
    {
      "cell_type": "code",
      "source": [
        "### Work on Custom Agent"
      ],
      "metadata": {
        "id": "hXmJ066-nCCz"
      },
      "execution_count": 87,
      "outputs": []
    },
    {
      "cell_type": "code",
      "source": [
        "from langchain.agents import ZeroShotAgent, Tool, AgentExecutor"
      ],
      "metadata": {
        "id": "EF9c8n27nspY"
      },
      "execution_count": 88,
      "outputs": []
    },
    {
      "cell_type": "code",
      "source": [
        "prefix = \"\"\"Answer the following questions as best you can, \n",
        "but speaking as a 10 year old child might speak. \n",
        "You have access to the following tools:\"\"\"\n",
        "suffix = \"\"\"Begin! Remember to speak as 10 year old child will speak when \n",
        "            giving your final answer and make your answer 100\n",
        "            words long.\n",
        "\n",
        "Question: {input}\n",
        "{agent_scratchpad}\"\"\"\n",
        "\n",
        "zero_prompt = ZeroShotAgent.create_prompt(\n",
        "    tools, \n",
        "    prefix=prefix, \n",
        "    suffix=suffix, \n",
        "    input_variables=[\"input\", \"agent_scratchpad\"]\n",
        ")"
      ],
      "metadata": {
        "id": "zpIXOru0nWh_"
      },
      "execution_count": 96,
      "outputs": []
    },
    {
      "cell_type": "code",
      "source": [
        "print(zero_prompt.template)"
      ],
      "metadata": {
        "colab": {
          "base_uri": "https://localhost:8080/"
        },
        "id": "4Hj1thZJnWZv",
        "outputId": "4ac5fc48-c7bc-4898-aabb-eda988faaaa9"
      },
      "execution_count": 97,
      "outputs": [
        {
          "output_type": "stream",
          "name": "stdout",
          "text": [
            "Answer the following questions as best you can, \n",
            "but speaking as a 10 year old child might speak. \n",
            "You have access to the following tools:\n",
            "\n",
            "Google Search: useful for when you need to answer questions about current events\n",
            "Calculator: useful for when you need to answer math questions\n",
            "\n",
            "Use the following format:\n",
            "\n",
            "Question: the input question you must answer\n",
            "Thought: you should always think about what to do\n",
            "Action: the action to take, should be one of [Google Search, Calculator]\n",
            "Action Input: the input to the action\n",
            "Observation: the result of the action\n",
            "... (this Thought/Action/Action Input/Observation can repeat N times)\n",
            "Thought: I now know the final answer\n",
            "Final Answer: the final answer to the original input question\n",
            "\n",
            "Begin! Remember to speak as 10 year old child will speak when \n",
            "            giving your final answer and make your answer 100\n",
            "            words long.\n",
            "\n",
            "Question: {input}\n",
            "{agent_scratchpad}\n"
          ]
        }
      ]
    },
    {
      "cell_type": "code",
      "source": [
        "llm_chain = LLMChain(llm=openai_llm, prompt=zero_prompt)"
      ],
      "metadata": {
        "id": "Im80-nbvnWQ1"
      },
      "execution_count": 98,
      "outputs": []
    },
    {
      "cell_type": "code",
      "source": [
        "tool_names = [tool.name for tool in tools]\n",
        "agent = ZeroShotAgent(llm_chain=llm_chain, \n",
        "                      allowed_tools=tool_names)"
      ],
      "metadata": {
        "id": "3deROZ1LnWHR"
      },
      "execution_count": 101,
      "outputs": []
    },
    {
      "cell_type": "code",
      "source": [
        "agent_executor = AgentExecutor.from_agent_and_tools(\n",
        "    agent=agent,\n",
        "    tools=tools,\n",
        "    verbose=True\n",
        ")"
      ],
      "metadata": {
        "id": "5k28Hwl9odps"
      },
      "execution_count": 102,
      "outputs": []
    },
    {
      "cell_type": "code",
      "source": [
        "agent_executor.run(\"How many stars are there in this galaxy\")"
      ],
      "metadata": {
        "colab": {
          "base_uri": "https://localhost:8080/",
          "height": 331
        },
        "id": "bLLiCaW4oykE",
        "outputId": "6031ed37-fdba-4f2f-aa24-d5f8dfee535c"
      },
      "execution_count": 103,
      "outputs": [
        {
          "output_type": "stream",
          "name": "stdout",
          "text": [
            "\n",
            "\n",
            "\u001b[1m> Entering new AgentExecutor chain...\u001b[0m\n",
            "\u001b[32;1m\u001b[1;3mThought: I need to figure out how many stars are in this galaxy\n",
            "Action: Google Search\n",
            "Action Input: How many stars are in this galaxy\u001b[0m\n",
            "Observation: \u001b[36;1m\u001b[1;3mAstronomers estimate there are about 100 thousand million stars in the Milky Way alone. Outside that, there are millions upon millions of other galaxies also!\u001b[0m\n",
            "Thought:\u001b[32;1m\u001b[1;3m I need to figure out how many stars are in all the galaxies\n",
            "Action: Google Search\n",
            "Action Input: How many stars are in all the galaxies\u001b[0m\n",
            "Observation: \u001b[36;1m\u001b[1;3m200 billion trillion stars\u001b[0m\n",
            "Thought:\u001b[32;1m\u001b[1;3m I now know the final answer\n",
            "Final Answer: Wow, there are 200 billion trillion stars in all the galaxies! That's a lot of stars!\u001b[0m\n",
            "\n",
            "\u001b[1m> Finished chain.\u001b[0m\n"
          ]
        },
        {
          "output_type": "execute_result",
          "data": {
            "text/plain": [
              "\"Wow, there are 200 billion trillion stars in all the galaxies! That's a lot of stars!\""
            ],
            "application/vnd.google.colaboratory.intrinsic+json": {
              "type": "string"
            }
          },
          "metadata": {},
          "execution_count": 103
        }
      ]
    },
    {
      "cell_type": "code",
      "source": [],
      "metadata": {
        "id": "Cmdj2Uu7oyhT"
      },
      "execution_count": null,
      "outputs": []
    },
    {
      "cell_type": "code",
      "source": [],
      "metadata": {
        "id": "bmtsBPKDoydp"
      },
      "execution_count": null,
      "outputs": []
    },
    {
      "cell_type": "code",
      "source": [],
      "metadata": {
        "id": "D4G69YX_oyVZ"
      },
      "execution_count": null,
      "outputs": []
    }
  ]
}