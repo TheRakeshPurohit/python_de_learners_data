{
  "nbformat": 4,
  "nbformat_minor": 0,
  "metadata": {
    "colab": {
      "provenance": []
    },
    "kernelspec": {
      "name": "python3",
      "display_name": "Python 3"
    },
    "language_info": {
      "name": "python"
    }
  },
  "cells": [
    {
      "cell_type": "code",
      "execution_count": null,
      "metadata": {
        "id": "_Upv0A9Boxt6"
      },
      "outputs": [],
      "source": [
        "!pip3 -q install pyspark weaviate-client > /dev/null"
      ]
    },
    {
      "cell_type": "code",
      "source": [
        "!pip show pyspark"
      ],
      "metadata": {
        "id": "03LD62v7xywt",
        "colab": {
          "base_uri": "https://localhost:8080/"
        },
        "outputId": "2310276f-8edf-49a6-86df-1b2406301276"
      },
      "execution_count": 2,
      "outputs": [
        {
          "output_type": "stream",
          "name": "stdout",
          "text": [
            "Name: pyspark\n",
            "Version: 3.4.0\n",
            "Summary: Apache Spark Python API\n",
            "Home-page: https://github.com/apache/spark/tree/master/python\n",
            "Author: Spark Developers\n",
            "Author-email: dev@spark.apache.org\n",
            "License: http://www.apache.org/licenses/LICENSE-2.0\n",
            "Location: /usr/local/lib/python3.10/dist-packages\n",
            "Requires: py4j\n",
            "Required-by: \n"
          ]
        }
      ]
    },
    {
      "cell_type": "code",
      "source": [
        "!sudo apt-get install scala"
      ],
      "metadata": {
        "id": "CxutDGlBrdRx"
      },
      "execution_count": null,
      "outputs": []
    },
    {
      "cell_type": "code",
      "source": [
        "!wget https://repo1.maven.org/maven2/io/weaviate/spark-connector_2.13/1.2.4/spark-connector_2.13-1.2.4.jar"
      ],
      "metadata": {
        "id": "72RCfoeErdN4"
      },
      "execution_count": null,
      "outputs": []
    },
    {
      "cell_type": "code",
      "source": [
        "!mv /content/spark-connector_2.13-1.2.4.jar /usr/local/lib/python3.10/dist-packages/pyspark/jars"
      ],
      "metadata": {
        "id": "ElPW3cIntbFa"
      },
      "execution_count": null,
      "outputs": []
    },
    {
      "cell_type": "code",
      "source": [
        "from pyspark.sql import SparkSession\n",
        "import os\n",
        "\n",
        "#config(\"spark.jars\",\n",
        " #       \"weaviate-spark-connector-assembly-v0.1.2.jar\" )\n",
        "\n",
        "spark = (\n",
        "    SparkSession.builder\n",
        "    .master(\"local[*]\")\n",
        "    .appName(\"weaviate\")\n",
        "    .getOrCreate()\n",
        ")\n",
        "\n",
        "spark.sparkContext.setLogLevel(\"WARN\")"
      ],
      "metadata": {
        "id": "7reiua0So7ro"
      },
      "execution_count": 1,
      "outputs": []
    },
    {
      "cell_type": "code",
      "source": [
        "!wget https://storage.googleapis.com/sphere-demo/sphere.100k.jsonl.tar.gz"
      ],
      "metadata": {
        "id": "RSKn8887o7ng",
        "colab": {
          "base_uri": "https://localhost:8080/"
        },
        "outputId": "8a8c50b7-69b0-4df8-dff0-c257ce5c97db"
      },
      "execution_count": 5,
      "outputs": [
        {
          "output_type": "stream",
          "name": "stdout",
          "text": [
            "--2023-05-01 06:27:45--  https://storage.googleapis.com/sphere-demo/sphere.100k.jsonl.tar.gz\n",
            "Resolving storage.googleapis.com (storage.googleapis.com)... 173.194.213.128, 74.125.141.128, 173.194.216.128, ...\n",
            "Connecting to storage.googleapis.com (storage.googleapis.com)|173.194.213.128|:443... connected.\n",
            "HTTP request sent, awaiting response... 200 OK\n",
            "Length: 422502080 (403M) [application/x-tar]\n",
            "Saving to: ‘sphere.100k.jsonl.tar.gz’\n",
            "\n",
            "sphere.100k.jsonl.t 100%[===================>] 402.93M  67.6MB/s    in 6.8s    \n",
            "\n",
            "2023-05-01 06:27:52 (59.6 MB/s) - ‘sphere.100k.jsonl.tar.gz’ saved [422502080/422502080]\n",
            "\n"
          ]
        }
      ]
    },
    {
      "cell_type": "code",
      "source": [
        "!gunzip /content/sphere.100k.jsonl.tar.gz"
      ],
      "metadata": {
        "id": "DZbg5maApY-n"
      },
      "execution_count": 6,
      "outputs": []
    },
    {
      "cell_type": "code",
      "source": [
        "!tar -xvf /content/sphere.100k.jsonl.tar"
      ],
      "metadata": {
        "colab": {
          "base_uri": "https://localhost:8080/"
        },
        "id": "_82N-aXQprfc",
        "outputId": "72d42807-0fee-4bf5-a036-c4a75f8a8605"
      },
      "execution_count": 7,
      "outputs": [
        {
          "output_type": "stream",
          "name": "stdout",
          "text": [
            "sphere.100k.jsonl\n"
          ]
        }
      ]
    },
    {
      "cell_type": "code",
      "source": [
        "df = spark.read.load(\"sphere.100k.jsonl\", format=\"json\")"
      ],
      "metadata": {
        "id": "ciWpdBPso7k4"
      },
      "execution_count": 2,
      "outputs": []
    },
    {
      "cell_type": "code",
      "source": [
        "df.count()"
      ],
      "metadata": {
        "colab": {
          "base_uri": "https://localhost:8080/"
        },
        "id": "tSibdDdTBY6P",
        "outputId": "e9314b83-9dcb-4be4-c31d-828586220d81"
      },
      "execution_count": 12,
      "outputs": [
        {
          "output_type": "execute_result",
          "data": {
            "text/plain": [
              "100000"
            ]
          },
          "metadata": {},
          "execution_count": 12
        }
      ]
    },
    {
      "cell_type": "code",
      "source": [
        "new_df = df.limit(5)"
      ],
      "metadata": {
        "id": "vA1gOAGuDiBI"
      },
      "execution_count": 4,
      "outputs": []
    },
    {
      "cell_type": "code",
      "source": [
        "new_df.collect()"
      ],
      "metadata": {
        "id": "CJcUBFo0Dy1O"
      },
      "execution_count": null,
      "outputs": []
    },
    {
      "cell_type": "code",
      "source": [
        "import weaviate\n",
        "from weaviate.embedded import EmbeddedOptions\n",
        "#https://weaviate.io/developers/weaviate/installation/embedded\n",
        "client = weaviate.Client(embedded_options=EmbeddedOptions())"
      ],
      "metadata": {
        "colab": {
          "base_uri": "https://localhost:8080/"
        },
        "id": "LJ2V7Bzko7fE",
        "outputId": "21e2351f-7116-4cff-e7c1-97de7a84989c"
      },
      "execution_count": 6,
      "outputs": [
        {
          "output_type": "stream",
          "name": "stdout",
          "text": [
            "Started /root/.cache/weaviate-embedded: process ID 6154\n"
          ]
        }
      ]
    },
    {
      "cell_type": "markdown",
      "source": [
        "Here's what happens behind the scenes when the client uses the embedded options in the instantiation call:\n",
        "\n",
        "The client downloads a Weaviate release from GitHub and caches it\n",
        "It then spawns a Weaviate process with a data directory configured to a specific location, and listening to the specified port (by default 6666)\n",
        "\n",
        "The server's STDOUT and STDERR are piped to the client\n",
        "\n",
        "The client connects to this server process (e.g. to http://127.0.0.1:6666) and runs the client code\n",
        "After running the code (when the application terminates), the client shuts down the Weaviate process\n",
        "\n",
        "The data directory is preserved, so subsequent invocations have access to the data from all previous invocations, across all clients using the embedded option."
      ],
      "metadata": {
        "id": "k6SfJO-IAhbi"
      }
    },
    {
      "cell_type": "markdown",
      "source": [
        "### Dataset in action"
      ],
      "metadata": {
        "id": "BRrrk9AkOrKx"
      }
    },
    {
      "cell_type": "markdown",
      "source": [
        "https://ai.facebook.com/blog/introducing-sphere-meta-ais-web-scale-corpus-for-better-knowledge-intensive-nlp/\n",
        "\n",
        "The prepared dataset is provided by Weaviate team. Getting hold of such massive dataset is not easy... Read about it here.\n",
        "\n",
        "https://weaviate.io/blog/sphere-dataset-in-weaviate\n",
        "\n",
        "Sphere dataset contains vectors already, which is created using the below model\n",
        "\n",
        "https://huggingface.co/facebook/dpr-question_encoder-single-nq-base"
      ],
      "metadata": {
        "id": "0qgg0jbWN9Iv"
      }
    },
    {
      "cell_type": "markdown",
      "source": [],
      "metadata": {
        "id": "Dyvnh-D8N7ph"
      }
    },
    {
      "cell_type": "code",
      "source": [
        "client.schema.delete_all()\n",
        "\n",
        "client.schema.create_class(\n",
        "    {\n",
        "        \"class\": \"Sphere\",\n",
        "        \"description\" : \"Sphere vectorizer pipeline\",\n",
        "        \"moduleConfig\": {\n",
        "        \"text2vec-huggingface\": {\n",
        "          \"model\": \"sentence-transformers/all-MiniLM-L6-v2\",\n",
        "          \"options\": {\n",
        "            \"waitForModel\": True,\n",
        "            \"useGPU\": False,\n",
        "            \"useCache\": True\n",
        "            }\n",
        "          }\n",
        "        },\n",
        "        \"properties\": [\n",
        "            {\n",
        "                \"name\": \"raw\",\n",
        "                \"dataType\": [\"string\"]\n",
        "            },\n",
        "            {\n",
        "                \"name\": \"sha\",\n",
        "                \"dataType\": [\"string\"]\n",
        "            },\n",
        "            {\n",
        "                \"name\": \"title\",\n",
        "                \"dataType\": [\"string\"]\n",
        "            },\n",
        "            {\n",
        "                \"name\": \"url\",\n",
        "                \"dataType\": [\"string\"]\n",
        "            },\n",
        "        ],\n",
        "     \"vectorizer\":\"text2vec-huggingface\"\n",
        "    }\n",
        ")"
      ],
      "metadata": {
        "id": "C7qomADurddR"
      },
      "execution_count": 10,
      "outputs": []
    },
    {
      "cell_type": "code",
      "source": [
        "df.limit(1500).withColumnRenamed(\"id\", \"uuid\") \\\n",
        "    .write.format(\"io.weaviate.spark.Weaviate\") \\\n",
        "    .option(\"batchSize\", 200) \\\n",
        "    .option(\"scheme\", \"http\") \\\n",
        "    .option(\"host\", \"localhost:8080\") \\\n",
        "    .option(\"id\", \"uuid\") \\\n",
        "    .option(\"className\", \"Sphere\") \\\n",
        "    .option(\"vector\", \"vector\") \\\n",
        "    .mode(\"overwrite\").save()"
      ],
      "metadata": {
        "id": "p5GFA8AUrdZh"
      },
      "execution_count": null,
      "outputs": []
    },
    {
      "cell_type": "code",
      "source": [
        "import time\n",
        "# Configure a batch process\n",
        "with client.batch as batch:\n",
        "    batch.batch_size=5\n",
        "    batch = 0\n",
        "    for iterator in new_df.collect():\n",
        "        print(f\"processing batch {batch}\")\n",
        "        properties = {\n",
        "            \"raw\": iterator['raw'],\n",
        "            \"sha\": iterator['sha'],\n",
        "            \"title\": iterator['title'],\n",
        "            \"url\": iterator['url'],\n",
        "        }\n",
        "        time.sleep(8)\n",
        "        client.batch.add_data_object(properties,\"Sphere\")"
      ],
      "metadata": {
        "colab": {
          "base_uri": "https://localhost:8080/"
        },
        "id": "_h7y-hmTBKP2",
        "outputId": "c14651a8-e6fd-4c89-f054-36edc93e0107"
      },
      "execution_count": 11,
      "outputs": [
        {
          "output_type": "stream",
          "name": "stdout",
          "text": [
            "processing batch 0\n",
            "processing batch 0\n",
            "processing batch 0\n",
            "processing batch 0\n",
            "processing batch 0\n"
          ]
        }
      ]
    },
    {
      "cell_type": "code",
      "source": [
        "client.data_object.get(limit=1,\n",
        "                       with_vector=True)['objects']"
      ],
      "metadata": {
        "id": "sEXRZJVGBKLc"
      },
      "execution_count": null,
      "outputs": []
    },
    {
      "cell_type": "code",
      "source": [
        "client.schema.delete_class(\"Sphere_vector\")"
      ],
      "metadata": {
        "id": "BW9d6uqMP9a3"
      },
      "execution_count": 23,
      "outputs": []
    },
    {
      "cell_type": "code",
      "source": [
        "client.schema.create_class(\n",
        "    {\n",
        "        \"class\": \"Sphere_vector\",\n",
        "        \"description\" : \"Sphere with existing vector\",\n",
        "        \"vectorizer\": \"text2vec-huggingface\",\n",
        "        \"moduleConfig\": {\n",
        "        \"passageModel\": \"sentence-transformers/facebook-dpr-ctx_encoder-single-nq-base\",\n",
        "        \"queryModel\": \"sentence-transformers/facebook-dpr-question_encoder-single-nq-base\",\n",
        "        \"options\": {\n",
        "            \"waitForModel\": True,\n",
        "            \"useGPU\": True,\n",
        "            \"useCache\": True\n",
        "        }\n",
        "      },\n",
        "      \"properties\": [],\n",
        "    }\n",
        ")"
      ],
      "metadata": {
        "id": "2f4OfigUBKFZ"
      },
      "execution_count": 24,
      "outputs": []
    },
    {
      "cell_type": "code",
      "source": [
        "import time\n",
        "# Configure a batch process\n",
        "with client.batch as batch:\n",
        "    batch.batch_size=5\n",
        "    batch = 0\n",
        "    for iterator in new_df.collect():\n",
        "        print(f\"processing batch {batch}\")\n",
        "        properties = {\n",
        "            \"raw\": iterator['raw'],\n",
        "            \"sha\": iterator['sha'],\n",
        "            \"title\": iterator['title'],\n",
        "            \"url\": iterator['url'],\n",
        "        }\n",
        "        time.sleep(8)\n",
        "        client.batch.add_data_object(properties,\n",
        "                                     \"Sphere_vector\",\n",
        "                                     vector=iterator['vector'])"
      ],
      "metadata": {
        "colab": {
          "base_uri": "https://localhost:8080/"
        },
        "id": "OkTESYYMHhzx",
        "outputId": "f3147734-f993-4f09-b818-21a97a7db976"
      },
      "execution_count": 25,
      "outputs": [
        {
          "output_type": "stream",
          "name": "stdout",
          "text": [
            "processing batch 0\n",
            "processing batch 0\n",
            "processing batch 0\n",
            "processing batch 0\n",
            "processing batch 0\n"
          ]
        }
      ]
    },
    {
      "cell_type": "code",
      "source": [
        "client.data_object.get(limit=1,with_vector=True,\n",
        "                       class_name='Sphere_vector')"
      ],
      "metadata": {
        "id": "DzO1u7rRHq7J"
      },
      "execution_count": null,
      "outputs": []
    },
    {
      "cell_type": "code",
      "source": [
        "nearText = {\"concepts\":[\"Clearcreek chapel\"]}\n",
        "\n",
        "result = (\n",
        "    client.query\n",
        "    .get(\"Sphere\", [\"url\", \"raw\"])\n",
        "    .with_near_text(nearText)\n",
        "    .with_limit(2)\n",
        "    .do()\n",
        ")\n"
      ],
      "metadata": {
        "id": "P7PgLoBxHxrJ"
      },
      "execution_count": 27,
      "outputs": []
    },
    {
      "cell_type": "code",
      "source": [
        "result"
      ],
      "metadata": {
        "colab": {
          "base_uri": "https://localhost:8080/"
        },
        "id": "-p6GY66lHq1E",
        "outputId": "956e5233-dc1d-4582-8b4a-825db66ad2bf"
      },
      "execution_count": 20,
      "outputs": [
        {
          "output_type": "execute_result",
          "data": {
            "text/plain": [
              "{'data': {'Get': {'Sphere': [{'raw': 'Clearcreek Chapel Counseling: Blog ). Boundaries seems to focus more on what is comfortable for the victim of abuse, rather than calling the Christian towards holiness in the midst of significant suffering. Many counseling systems start with the philosophy of reclaiming what is rightfully yours and regaining control of your own life, which you believe was taken by your abuser. This approach is born out of the objective to forbid any additional abuse. While this objective is appropriate, if it becomes your sole focus you will become primarily concerned with self, personal comfort, and total control. You will ultimately lack a God-centered worldview in',\n",
              "     'url': 'http://chapelcounseling.org/blog/the-problem-with-boundaries-and-feelings-based-counseling/'},\n",
              "    {'raw': 'Discover event places and locations in Bulgaria Sofia across from the Alexander Nevsky Cathedral, the Radisson Blu Grand Hotel Sofia offers free Wi-Fi and a fitness center. The fitness center includes a sauna and offers professional massages. It... Bulgaria - Albena - 9620 Albena is a fantastic place on the Bulgarian Black Sea coast, where the sea meats fine sandy beach and virgin forest ? a delight to people of all ages. The resort is remarkable for its 4 km long beach and offers pleasures to every taste.... Sheraton Sofia Hotel Balkan, a Luxury Collection hotel, is magnificently refurbished, a landmark in the bustling centre of Sofia,',\n",
              "     'url': 'https://www.bedouk.com/venues-bulgaria,P25'}]}}}"
            ]
          },
          "metadata": {},
          "execution_count": 20
        }
      ]
    },
    {
      "cell_type": "code",
      "source": [
        "nearText = {\"concepts\":[\"Clearcreek chapel\"]}\n",
        "\n",
        "result = (\n",
        "    client.query\n",
        "    .get(\"Sphere_vector\", [\"url\", \"raw\"])\n",
        "    .with_near_text(nearText)\n",
        "    .with_limit(2)\n",
        "    .do()\n",
        ")"
      ],
      "metadata": {
        "id": "sqGTaWP3JAOD"
      },
      "execution_count": 31,
      "outputs": []
    },
    {
      "cell_type": "code",
      "source": [
        "result"
      ],
      "metadata": {
        "id": "PvbRGj-gJEoW",
        "outputId": "e3931a92-b1a1-4138-b903-eb84b87caeb6",
        "colab": {
          "base_uri": "https://localhost:8080/"
        }
      },
      "execution_count": 32,
      "outputs": [
        {
          "output_type": "execute_result",
          "data": {
            "text/plain": [
              "{'data': {'Get': {'Sphere_vector': [{'raw': 'Clearcreek Chapel Counseling: Blog ). Boundaries seems to focus more on what is comfortable for the victim of abuse, rather than calling the Christian towards holiness in the midst of significant suffering. Many counseling systems start with the philosophy of reclaiming what is rightfully yours and regaining control of your own life, which you believe was taken by your abuser. This approach is born out of the objective to forbid any additional abuse. While this objective is appropriate, if it becomes your sole focus you will become primarily concerned with self, personal comfort, and total control. You will ultimately lack a God-centered worldview in',\n",
              "     'url': 'http://chapelcounseling.org/blog/the-problem-with-boundaries-and-feelings-based-counseling/'},\n",
              "    {'raw': 'Fighting the institutionalization of disabled Nova Scotians | CFMU the same process the coalition brought a complaint alleging systemic human rights violations. The case was hotly contested by the province, and a decision was only handed down in March of this year. The individuals all won. However, there is relatively little precedence of Canadian tribunals or courts finding systemic discrimination, and the systemic case lost. The coalition, with support from a few national disability rights organizations, is filing an appeal. Image: By Robert Devet of the Nova Scotia Advocate. Used with permission.',\n",
              "     'url': 'http://cfmu.ca/episodes/15697-talking-radical-radio-episode-for-2019-07-18'}]}}}"
            ]
          },
          "metadata": {},
          "execution_count": 32
        }
      ]
    }
  ]
}