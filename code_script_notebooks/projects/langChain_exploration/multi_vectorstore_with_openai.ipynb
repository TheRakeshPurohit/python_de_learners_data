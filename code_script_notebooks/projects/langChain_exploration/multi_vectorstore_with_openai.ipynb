{
  "nbformat": 4,
  "nbformat_minor": 0,
  "metadata": {
    "colab": {
      "provenance": [],
      "machine_shape": "hm"
    },
    "kernelspec": {
      "name": "python3",
      "display_name": "Python 3"
    },
    "language_info": {
      "name": "python"
    },
    "gpuClass": "premium"
  },
  "cells": [
    {
      "cell_type": "code",
      "source": [
        "import locale\n",
        "def getpreferredencoding(do_setlocale = True):\n",
        "    return \"UTF-8\"\n",
        "locale.getpreferredencoding = getpreferredencoding"
      ],
      "metadata": {
        "id": "_tgrLGOCV0wT"
      },
      "execution_count": 1,
      "outputs": []
    },
    {
      "cell_type": "code",
      "source": [
        "!pip -q install configparser langchain openai\n",
        "!pip -q install transformers huggingface_hub "
      ],
      "metadata": {
        "id": "C2mTZv_7g0-i",
        "colab": {
          "base_uri": "https://localhost:8080/"
        },
        "outputId": "2b20c8d4-9d51-4d3f-bb86-ead1ca74738a"
      },
      "execution_count": null,
      "outputs": [
        {
          "output_type": "stream",
          "name": "stdout",
          "text": [
            "\u001b[2K     \u001b[90m━━━━━━━━━━━━━━━━━━━━━━━━━━━━━━━━━━━━━━\u001b[0m \u001b[32m462.6/462.6 KB\u001b[0m \u001b[31m21.2 MB/s\u001b[0m eta \u001b[36m0:00:00\u001b[0m\n",
            "\u001b[2K     \u001b[90m━━━━━━━━━━━━━━━━━━━━━━━━━━━━━━━━━━━━━━━━\u001b[0m \u001b[32m70.1/70.1 KB\u001b[0m \u001b[31m7.9 MB/s\u001b[0m eta \u001b[36m0:00:00\u001b[0m\n",
            "\u001b[2K     \u001b[90m━━━━━━━━━━━━━━━━━━━━━━━━━━━━━━━━━━━━━━━━\u001b[0m \u001b[32m1.0/1.0 MB\u001b[0m \u001b[31m62.2 MB/s\u001b[0m eta \u001b[36m0:00:00\u001b[0m\n",
            "\u001b[2K     \u001b[90m━━━━━━━━━━━━━━━━━━━━━━━━━━━━━━━━━━━━━━\u001b[0m \u001b[32m264.6/264.6 KB\u001b[0m \u001b[31m23.8 MB/s\u001b[0m eta \u001b[36m0:00:00\u001b[0m\n",
            "\u001b[2K     \u001b[90m━━━━━━━━━━━━━━━━━━━━━━━━━━━━━━━━━━━━━━\u001b[0m \u001b[32m158.8/158.8 KB\u001b[0m \u001b[31m16.5 MB/s\u001b[0m eta \u001b[36m0:00:00\u001b[0m\n",
            "\u001b[2K     \u001b[90m━━━━━━━━━━━━━━━━━━━━━━━━━━━━━━━━━━━━━━\u001b[0m \u001b[32m114.2/114.2 KB\u001b[0m \u001b[31m10.5 MB/s\u001b[0m eta \u001b[36m0:00:00\u001b[0m\n",
            "\u001b[2K     \u001b[90m━━━━━━━━━━━━━━━━━━━━━━━━━━━━━━━━━━━━━━━━\u001b[0m \u001b[32m49.1/49.1 KB\u001b[0m \u001b[31m5.2 MB/s\u001b[0m eta \u001b[36m0:00:00\u001b[0m\n",
            "\u001b[2K     \u001b[90m━━━━━━━━━━━━━━━━━━━━━━━━━━━━━━━━━━━━━━━━\u001b[0m \u001b[32m6.8/6.8 MB\u001b[0m \u001b[31m81.1 MB/s\u001b[0m eta \u001b[36m0:00:00\u001b[0m\n",
            "\u001b[2K     \u001b[90m━━━━━━━━━━━━━━━━━━━━━━━━━━━━━━━━━━━━━━\u001b[0m \u001b[32m199.8/199.8 KB\u001b[0m \u001b[31m20.9 MB/s\u001b[0m eta \u001b[36m0:00:00\u001b[0m\n",
            "\u001b[2K     \u001b[90m━━━━━━━━━━━━━━━━━━━━━━━━━━━━━━━━━━━━━━━━\u001b[0m \u001b[32m7.6/7.6 MB\u001b[0m \u001b[31m100.4 MB/s\u001b[0m eta \u001b[36m0:00:00\u001b[0m\n",
            "\u001b[?25h"
          ]
        }
      ]
    },
    {
      "cell_type": "code",
      "source": [],
      "metadata": {
        "id": "L6MdbPfb6W9E"
      },
      "execution_count": null,
      "outputs": []
    },
    {
      "cell_type": "code",
      "source": [
        "from langchain.llms.base import LLM\n",
        "from langchain.llms.utils import enforce_stop_tokens\n",
        "from langchain.llms import OpenAi"
      ],
      "metadata": {
        "id": "U9O9ctkug5PR"
      },
      "execution_count": null,
      "outputs": []
    },
    {
      "cell_type": "code",
      "source": [
        "#Then convert the transformers pipeline into fact_llm \n",
        "\n",
        "fact_llm = OpenAI(temperature=0.1)"
      ],
      "metadata": {
        "id": "d-blilkQx7yY"
      },
      "execution_count": null,
      "outputs": []
    },
    {
      "cell_type": "code",
      "source": [
        "from langchain import PromptTemplate, HuggingFaceHub, LLMChain\n",
        "\n",
        "template = \"\"\"Question: {question}\n",
        "\n",
        "Answer: Let's think step by step.\"\"\"\n",
        "\n",
        "prompt_open = PromptTemplate(template=template, input_variables=[\"question\"])\n",
        "\n",
        "open_chain = LLMChain(prompt=prompt_open,llm = fact_llm)"
      ],
      "metadata": {
        "id": "fw0ULJdKYc6d"
      },
      "execution_count": null,
      "outputs": []
    },
    {
      "cell_type": "code",
      "source": [
        "question = \"What NFL team won the Super Bowl in the year Justin Beiber was born?\"\n",
        "\n",
        "print(open_chain.run(question))"
      ],
      "metadata": {
        "colab": {
          "base_uri": "https://localhost:8080/"
        },
        "id": "qq6do1GvYc2W",
        "outputId": "97e37191-dbbe-4b88-c07e-b966a2a30f02"
      },
      "execution_count": null,
      "outputs": [
        {
          "output_type": "stream",
          "name": "stderr",
          "text": [
            "/usr/local/lib/python3.9/dist-packages/transformers/generation/utils.py:1201: UserWarning: You have modified the pretrained model configuration to control generation. This is a deprecated strategy to control generation and will be removed soon, in a future version. Please use a generation configuration file (see https://huggingface.co/docs/transformers/main_classes/text_generation)\n",
            "  warnings.warn(\n"
          ]
        },
        {
          "output_type": "stream",
          "name": "stdout",
          "text": [
            " Justin Beiber was born in 1994, so the Super Bowl was in 2015. The team that won the Super Bowl in 2015 was the New England Patriots.\n"
          ]
        }
      ]
    },
    {
      "cell_type": "code",
      "source": [
        "from langchain.chains import RetrievalQA\n",
        "from langchain.document_loaders import TextLoader\n",
        "from langchain.text_splitter import RecursiveCharacterTextSplitter\n",
        "recurSplitter = RecursiveCharacterTextSplitter(chunk_size=100,\n",
        "                                               chunk_overlap=20,\n",
        "                                               length_function=len)"
      ],
      "metadata": {
        "id": "EE1P3uZ0YcdE"
      },
      "execution_count": null,
      "outputs": []
    },
    {
      "cell_type": "code",
      "source": [
        "with open('/content/linux_play.txt') as lin:\n",
        "  txt_lin = lin.read()\n",
        "\n",
        "linux_docs = recurSplitter.create_documents([txt_lin])"
      ],
      "metadata": {
        "id": "dc2UejsER-up"
      },
      "execution_count": null,
      "outputs": []
    },
    {
      "cell_type": "code",
      "source": [
        "with open('/content/space_shortened.csv') as spc:\n",
        "  txt_spc = spc.read()\n",
        "\n",
        "space_docs = recurSplitter.create_documents([txt_spc])"
      ],
      "metadata": {
        "id": "Ld9dOjyiR-sU"
      },
      "execution_count": null,
      "outputs": []
    },
    {
      "cell_type": "code",
      "source": [
        "from langchain.embeddings import OpenAIEmbeddings()\n",
        "hfEmbed = OpenAIEmbeddings()"
      ],
      "metadata": {
        "id": "s8kMbvyDR-nt"
      },
      "execution_count": null,
      "outputs": []
    },
    {
      "cell_type": "code",
      "source": [
        "from langchain.vectorstores import Chroma\n",
        "space_directory = 'space_db'\n",
        "\n",
        "space_chroma = Chroma.from_documents(documents=space_docs,\n",
        "                                     embeddings=hfEmbed,\n",
        "                                     persist_directory=space_directory)"
      ],
      "metadata": {
        "id": "Weno1_dzR-k1"
      },
      "execution_count": null,
      "outputs": []
    },
    {
      "cell_type": "code",
      "source": [
        "lin_directory = 'lin_db'\n",
        "\n",
        "lin_chroma = Chroma.from_documents(documents=linux_docs,\n",
        "                                     embeddings=hfEmbed,\n",
        "                                     persist_directory=lin_directory)"
      ],
      "metadata": {
        "colab": {
          "base_uri": "https://localhost:8080/"
        },
        "id": "QM4x9biDR-dE",
        "outputId": "be4483f1-a7d0-4982-8d72-a69c0e3a88fd"
      },
      "execution_count": null,
      "outputs": [
        {
          "output_type": "stream",
          "name": "stderr",
          "text": [
            "WARNING:chromadb:Using embedded DuckDB with persistence: data will be stored in: lin_db\n",
            "WARNING:chromadb.api.models.Collection:No embedding_function provided, using default embedding function: SentenceTransformerEmbeddingFunction\n"
          ]
        }
      ]
    },
    {
      "cell_type": "code",
      "source": [
        "# Starting the custom tool route"
      ],
      "metadata": {
        "id": "T73D7bKe4FJ3"
      },
      "execution_count": null,
      "outputs": []
    },
    {
      "cell_type": "code",
      "source": [
        "lin_retriever =RetrievalQA.from_chain_type(llm=fact_llm, \n",
        "                                           chain_type=\"stuff\", \n",
        "                                           retriever=lin_chroma.as_retriever())"
      ],
      "metadata": {
        "id": "ESDPHjul3Gi5"
      },
      "execution_count": null,
      "outputs": []
    },
    {
      "cell_type": "code",
      "source": [
        "space_retriever =RetrievalQA.from_chain_type(llm=fact_llm, \n",
        "                                           chain_type=\"stuff\", \n",
        "                                           retriever=space_chroma.as_retriever())"
      ],
      "metadata": {
        "id": "g52G_gi43ToT"
      },
      "execution_count": null,
      "outputs": []
    },
    {
      "cell_type": "code",
      "source": [
        "tools = [\n",
        "    Tool(\n",
        "        name = \"Space Farers\",\n",
        "        func=space_retriever.run,\n",
        "        description=\"useful for when you need to answer questions about the space farers.\"\n",
        "    ),\n",
        "    Tool(\n",
        "        name = \"Linux Commands\",\n",
        "        func=lin_retriever.run,\n",
        "        description=\"useful for when you need to answer questions about Linux commands.\"\n",
        "    ),\n",
        "]"
      ],
      "metadata": {
        "id": "lH_rk4H9286S"
      },
      "execution_count": null,
      "outputs": []
    },
    {
      "cell_type": "code",
      "source": [
        "example_agent = initialize_agent(tools, \n",
        "                         fact_llm, \n",
        "                         agent=\"zero-shot-react-description\", \n",
        "                         verbose=True)"
      ],
      "metadata": {
        "id": "tSJPEXX33uKA"
      },
      "execution_count": null,
      "outputs": []
    },
    {
      "cell_type": "code",
      "source": [
        "example_agent.save(\"Custom_tool_VS.json\")"
      ],
      "metadata": {
        "id": "M5Mo5yW44SAh"
      },
      "execution_count": null,
      "outputs": []
    },
    {
      "cell_type": "code",
      "source": [
        "example_agent.run(\"How many space farers are there?\")"
      ],
      "metadata": {
        "id": "PfaGnNKW3-CK"
      },
      "execution_count": null,
      "outputs": []
    },
    {
      "cell_type": "code",
      "source": [
        "# Starting the custom vectorstore agent route"
      ],
      "metadata": {
        "id": "Rps02Zw84KJf"
      },
      "execution_count": null,
      "outputs": []
    },
    {
      "cell_type": "code",
      "source": [
        "from langchain.agents.agent_toolkits import (\n",
        "    create_vectorstore_router_agent,\n",
        "    VectorStoreRouterToolkit,\n",
        "    VectorStoreInfo,\n",
        ")"
      ],
      "metadata": {
        "id": "WGuD67zhWyPk"
      },
      "execution_count": null,
      "outputs": []
    },
    {
      "cell_type": "code",
      "source": [
        "space_vectorstore_info = VectorStoreInfo(\n",
        "    name=\"space\",\n",
        "    description=\"Used when need to answer about Space fares\",\n",
        "    vectorstore=space_chroma\n",
        ")"
      ],
      "metadata": {
        "id": "rzLTa9S3XLIf"
      },
      "execution_count": null,
      "outputs": []
    },
    {
      "cell_type": "code",
      "source": [
        "linux_vectorstore_info = VectorStoreInfo(\n",
        "    name=\"linux\",\n",
        "    description=\"Used when need to answer about playbook\",\n",
        "    vectorstore=lin_chroma\n",
        ")"
      ],
      "metadata": {
        "id": "7JzkHxSLXLFr"
      },
      "execution_count": null,
      "outputs": []
    },
    {
      "cell_type": "code",
      "source": [
        "router_toolkit = VectorStoreRouterToolkit(\n",
        "    vectorstores=[space_vectorstore_info,\n",
        "                  linux_vectorstore_info],\n",
        "    llm=fact_llm\n",
        ")\n",
        "agent_executor = create_vectorstore_router_agent(\n",
        "    llm=fact_llm,\n",
        "    toolkit=router_toolkit,\n",
        "    verbose=True\n",
        ")"
      ],
      "metadata": {
        "id": "Q9m5ZDcqXLCg"
      },
      "execution_count": null,
      "outputs": []
    },
    {
      "cell_type": "code",
      "source": [
        "query = \"\"\"How many Space fares are there?\"\"\""
      ],
      "metadata": {
        "id": "PXqqHJK0YFXc"
      },
      "execution_count": null,
      "outputs": []
    },
    {
      "cell_type": "code",
      "source": [
        "agent_executor.run(query)"
      ],
      "metadata": {
        "id": "MWagqEGVXK84"
      },
      "execution_count": null,
      "outputs": []
    },
    {
      "cell_type": "code",
      "source": [
        "agent_executor.save_agent(\"multi_doc_agent.json\")"
      ],
      "metadata": {
        "id": "5wCm-r8FWyNs"
      },
      "execution_count": null,
      "outputs": []
    },
    {
      "cell_type": "code",
      "source": [],
      "metadata": {
        "id": "__Z5NKt4WyJF"
      },
      "execution_count": null,
      "outputs": []
    },
    {
      "cell_type": "code",
      "source": [],
      "metadata": {
        "id": "bBR74Bl3WyGr"
      },
      "execution_count": null,
      "outputs": []
    },
    {
      "cell_type": "code",
      "source": [],
      "metadata": {
        "id": "PD-9M8VkWyEQ"
      },
      "execution_count": null,
      "outputs": []
    },
    {
      "cell_type": "code",
      "source": [],
      "metadata": {
        "id": "xm6ArvS4WyAX"
      },
      "execution_count": null,
      "outputs": []
    }
  ]
}