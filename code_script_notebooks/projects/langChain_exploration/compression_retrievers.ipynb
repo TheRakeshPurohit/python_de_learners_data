{
  "nbformat": 4,
  "nbformat_minor": 0,
  "metadata": {
    "colab": {
      "provenance": []
    },
    "kernelspec": {
      "name": "python3",
      "display_name": "Python 3"
    },
    "language_info": {
      "name": "python"
    }
  },
  "cells": [
    {
      "cell_type": "code",
      "execution_count": 26,
      "metadata": {
        "id": "E2lkeA6mH7MF"
      },
      "outputs": [],
      "source": [
        "!pip -q install openai faiss-cpu langchain tiktoken pypdf > /dev/null"
      ]
    },
    {
      "cell_type": "code",
      "source": [
        "from langchain.text_splitter import CharacterTextSplitter\n",
        "from langchain.embeddings import OpenAIEmbeddings\n",
        "from langchain.document_loaders import PyPDFLoader\n",
        "from langchain.vectorstores import FAISS\n",
        "from langchain.text_splitter import RecursiveCharacterTextSplitter\n",
        "\n",
        "#compression classes and modules\n",
        "from langchain.llms import OpenAI\n",
        "from langchain.retrievers import ContextualCompressionRetriever\n",
        "from langchain.retrievers.document_compressors import LLMChainExtractor\n",
        "from langchain.retrievers.document_compressors import LLMChainFilter\n",
        "from langchain.embeddings import OpenAIEmbeddings\n",
        "from langchain.retrievers.document_compressors import EmbeddingsFilter\n",
        "\n",
        "#pipeline classes\n",
        "from langchain.document_transformers import EmbeddingsRedundantFilter\n",
        "from langchain.retrievers.document_compressors import DocumentCompressorPipeline"
      ],
      "metadata": {
        "id": "PvOZjxWWIL1x"
      },
      "execution_count": 8,
      "outputs": []
    },
    {
      "cell_type": "code",
      "source": [
        "#loading pdf and creating FAISS index\n",
        "\n",
        "load_data = PyPDFLoader(\"/content/self-ask.pdf\")\n",
        "split_pages = load_data.load_and_split()\n",
        "len(split_pages)"
      ],
      "metadata": {
        "colab": {
          "base_uri": "https://localhost:8080/"
        },
        "id": "lmXpV1RbIMBR",
        "outputId": "417c6cff-3e4d-4ec9-f28b-c7a39223780c"
      },
      "execution_count": 4,
      "outputs": [
        {
          "output_type": "execute_result",
          "data": {
            "text/plain": [
              "31"
            ]
          },
          "metadata": {},
          "execution_count": 4
        }
      ]
    },
    {
      "cell_type": "code",
      "source": [
        "split_pages[1]"
      ],
      "metadata": {
        "id": "EtwCn1BOIMnw"
      },
      "execution_count": null,
      "outputs": []
    },
    {
      "cell_type": "code",
      "source": [
        "doc_splitter = RecursiveCharacterTextSplitter(chunk_size=150,\n",
        "                                              chunk_overlap=15,\n",
        "                                              length_function=len)\n",
        "two_page_data = []\n",
        "\n",
        "for page in split_pages[:2]:\n",
        "  res = doc_splitter.split_text(page.page_content)\n",
        "  two_page_data.extend(res)"
      ],
      "metadata": {
        "id": "De1tSdGtIMwG"
      },
      "execution_count": 31,
      "outputs": []
    },
    {
      "cell_type": "code",
      "source": [
        "len(two_page_data)"
      ],
      "metadata": {
        "colab": {
          "base_uri": "https://localhost:8080/"
        },
        "id": "IDyfVJKlIM38",
        "outputId": "7702474c-cc0c-4505-8fee-3c6f6d552f6d"
      },
      "execution_count": 32,
      "outputs": [
        {
          "output_type": "execute_result",
          "data": {
            "text/plain": [
              "77"
            ]
          },
          "metadata": {},
          "execution_count": 32
        }
      ]
    },
    {
      "cell_type": "code",
      "source": [
        "import os\n",
        "os.environ['OPENAI_API_KEY']=''"
      ],
      "metadata": {
        "id": "W6W_7Q1_INAr"
      },
      "execution_count": 21,
      "outputs": []
    },
    {
      "cell_type": "code",
      "source": [
        "#helper function from langchain documentation\n",
        "def pretty_print_docs(docs):\n",
        "    print(f\"\\n{'-' * 100}\\n\".join([f\"Document {i+1}:\\n\\n\" + d.page_content for i, d in enumerate(docs)]))"
      ],
      "metadata": {
        "id": "jTA245MhL6Ki"
      },
      "execution_count": 20,
      "outputs": []
    },
    {
      "cell_type": "code",
      "source": [
        "!rm -fR two_page_db"
      ],
      "metadata": {
        "id": "6NOvJLsHjIVt"
      },
      "execution_count": 33,
      "outputs": []
    },
    {
      "cell_type": "code",
      "source": [
        "index_db = FAISS.from_texts(two_page_data, \n",
        "                                 OpenAIEmbeddings())\n",
        "\n",
        "index_db.save_local(\"two_page_db\")\n",
        "retriever = index_db.as_retriever()"
      ],
      "metadata": {
        "id": "C7jCmNm3INIf"
      },
      "execution_count": 34,
      "outputs": []
    },
    {
      "cell_type": "code",
      "source": [
        "!zip -r two_page_db.zip /content/two_page_db/"
      ],
      "metadata": {
        "colab": {
          "base_uri": "https://localhost:8080/"
        },
        "id": "ZI8Jo3cPg4aA",
        "outputId": "f2c4d01d-30e8-45ab-bacc-58e5a949dde9"
      },
      "execution_count": 35,
      "outputs": [
        {
          "output_type": "stream",
          "name": "stdout",
          "text": [
            "updating: content/two_page_db/ (stored 0%)\n",
            "updating: content/two_page_db/index.faiss (deflated 16%)\n",
            "updating: content/two_page_db/index.pkl (deflated 56%)\n"
          ]
        }
      ]
    },
    {
      "cell_type": "code",
      "source": [
        "docs = retriever.get_relevant_documents(\"What is compositionality Gap?\")\n",
        "pretty_print_docs(docs)"
      ],
      "metadata": {
        "colab": {
          "base_uri": "https://localhost:8080/"
        },
        "id": "V11k0SD4ML05",
        "outputId": "d56c9443-756d-457e-fefa-c798e8d92204"
      },
      "execution_count": 36,
      "outputs": [
        {
          "output_type": "stream",
          "name": "stdout",
          "text": [
            "Document 1:\n",
            "\n",
            "We introduce the term compositionality gap to describe the fraction of compositional questions that\n",
            "----------------------------------------------------------------------------------------------------\n",
            "Document 2:\n",
            "\n",
            "We next narrow the compositionality gap by using what we call elicitive prompts . Compositional\n",
            "----------------------------------------------------------------------------------------------------\n",
            "Document 3:\n",
            "\n",
            "MEASURING AND NARROWING\n",
            "THE COMPOSITIONALITY GAP IN LANGUAGE MODELS\n",
            "----------------------------------------------------------------------------------------------------\n",
            "Document 4:\n",
            "\n",
            "the compositionality gap by reasoning explicitly instead of implicitly. We present\n"
          ]
        }
      ]
    },
    {
      "cell_type": "code",
      "source": [
        "llm = OpenAI(temperature=0)"
      ],
      "metadata": {
        "id": "j0N52efOOkhx"
      },
      "execution_count": 37,
      "outputs": []
    },
    {
      "cell_type": "code",
      "source": [
        "compressor = LLMChainExtractor.from_llm(llm)\n",
        "compression_retriever = ContextualCompressionRetriever(base_compressor=compressor, \n",
        "                                                       base_retriever=retriever)"
      ],
      "metadata": {
        "id": "9FrdZkIwINQX"
      },
      "execution_count": 38,
      "outputs": []
    },
    {
      "cell_type": "code",
      "source": [
        "compressed_docs = compression_retriever.get_relevant_documents(\"What is compositionality Gap?\")\n",
        "\n",
        "pretty_print_docs(compressed_docs)"
      ],
      "metadata": {
        "colab": {
          "base_uri": "https://localhost:8080/"
        },
        "id": "Xx-W5uUejmuD",
        "outputId": "ea12a525-8701-48c6-a81a-5f9419508c26"
      },
      "execution_count": 40,
      "outputs": [
        {
          "output_type": "stream",
          "name": "stdout",
          "text": [
            "Document 1:\n",
            "\n",
            "We introduce the term compositionality gap to describe the fraction of compositional questions that\n",
            "----------------------------------------------------------------------------------------------------\n",
            "Document 2:\n",
            "\n",
            "MEASURING AND NARROWING THE COMPOSITIONALITY GAP\n",
            "----------------------------------------------------------------------------------------------------\n",
            "Document 3:\n",
            "\n",
            "the compositionality gap\n"
          ]
        }
      ]
    },
    {
      "cell_type": "code",
      "source": [
        "_filter = LLMChainFilter.from_llm(llm)\n",
        "\n",
        "compression_retriever = ContextualCompressionRetriever(base_compressor=_filter, \n",
        "                                                       base_retriever=retriever)"
      ],
      "metadata": {
        "id": "GZVzUjzVOw21"
      },
      "execution_count": null,
      "outputs": []
    },
    {
      "cell_type": "code",
      "source": [
        "embeddings_filter = EmbeddingsFilter(embeddings=OpenAIEmbeddings(), \n",
        "                                     similarity_threshold=0.87)\n",
        "\n",
        "compression_retriever = ContextualCompressionRetriever(base_compressor=embeddings_filter, \n",
        "                                                       base_retriever=retriever)"
      ],
      "metadata": {
        "id": "4RKpFT-bO3Dz"
      },
      "execution_count": 51,
      "outputs": []
    },
    {
      "cell_type": "code",
      "source": [
        "compressed_docs = compression_retriever.get_relevant_documents(\"What is compositionality Gap?\")\n",
        "pretty_print_docs(compressed_docs)"
      ],
      "metadata": {
        "colab": {
          "base_uri": "https://localhost:8080/"
        },
        "id": "zx9F3SvpkscP",
        "outputId": "412a3d08-9865-4217-e719-136cbd9b3a19"
      },
      "execution_count": 52,
      "outputs": [
        {
          "output_type": "stream",
          "name": "stdout",
          "text": [
            "Document 1:\n",
            "\n",
            "We introduce the term compositionality gap to describe the fraction of compositional questions that\n"
          ]
        }
      ]
    },
    {
      "cell_type": "code",
      "source": [
        "splitter = CharacterTextSplitter(chunk_size=300, \n",
        "                                 chunk_overlap=0, \n",
        "                                 separator=\". \")\n",
        "\n",
        "redundant_filter = EmbeddingsRedundantFilter(embeddings=OpenAIEmbeddings())"
      ],
      "metadata": {
        "id": "VA99tOEJO9iz"
      },
      "execution_count": 53,
      "outputs": []
    },
    {
      "cell_type": "code",
      "source": [
        "relevant_filter = EmbeddingsFilter(embeddings=OpenAIEmbeddings(), \n",
        "                                   similarity_threshold=0.76)\n",
        "\n",
        "pipeline_compressor = DocumentCompressorPipeline(\n",
        "    transformers=[splitter, redundant_filter, relevant_filter]\n",
        ")\n"
      ],
      "metadata": {
        "id": "xt2a23TkmWnB"
      },
      "execution_count": null,
      "outputs": []
    },
    {
      "cell_type": "code",
      "source": [
        "compression_retriever = ContextualCompressionRetriever(base_compressor=pipeline_compressor, \n",
        "                                                       base_retriever=retriever)\n",
        "\n",
        "compressed_docs = compression_retriever.get_relevant_documents(\"What is compositionality Gap?\")"
      ],
      "metadata": {
        "id": "KKilpV_lPGQ4"
      },
      "execution_count": null,
      "outputs": []
    }
  ]
}