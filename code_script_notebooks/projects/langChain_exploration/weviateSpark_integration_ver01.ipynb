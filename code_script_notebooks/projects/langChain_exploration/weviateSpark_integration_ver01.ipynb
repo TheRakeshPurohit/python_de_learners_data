{
  "nbformat": 4,
  "nbformat_minor": 0,
  "metadata": {
    "colab": {
      "provenance": []
    },
    "kernelspec": {
      "name": "python3",
      "display_name": "Python 3"
    },
    "language_info": {
      "name": "python"
    }
  },
  "cells": [
    {
      "cell_type": "code",
      "execution_count": null,
      "metadata": {
        "id": "_Upv0A9Boxt6"
      },
      "outputs": [],
      "source": [
        "!pip3 -q install pyspark weaviate-client > /dev/null"
      ]
    },
    {
      "cell_type": "code",
      "source": [
        "!pip show pyspark"
      ],
      "metadata": {
        "id": "03LD62v7xywt",
        "colab": {
          "base_uri": "https://localhost:8080/"
        },
        "outputId": "ae599307-e29b-441f-dcc5-ba42365a2dab"
      },
      "execution_count": 34,
      "outputs": [
        {
          "output_type": "stream",
          "name": "stdout",
          "text": [
            "Name: pyspark\n",
            "Version: 3.4.0\n",
            "Summary: Apache Spark Python API\n",
            "Home-page: https://github.com/apache/spark/tree/master/python\n",
            "Author: Spark Developers\n",
            "Author-email: dev@spark.apache.org\n",
            "License: http://www.apache.org/licenses/LICENSE-2.0\n",
            "Location: /usr/local/lib/python3.10/dist-packages\n",
            "Requires: py4j\n",
            "Required-by: \n"
          ]
        }
      ]
    },
    {
      "cell_type": "code",
      "source": [
        "!sudo apt-get install scala"
      ],
      "metadata": {
        "id": "CxutDGlBrdRx"
      },
      "execution_count": null,
      "outputs": []
    },
    {
      "cell_type": "code",
      "source": [
        "!wget https://repo1.maven.org/maven2/io/weaviate/spark-connector_2.13/1.2.4/spark-connector_2.13-1.2.4.jar"
      ],
      "metadata": {
        "id": "72RCfoeErdN4"
      },
      "execution_count": null,
      "outputs": []
    },
    {
      "cell_type": "code",
      "source": [
        "!mv /content/spark-connector_2.13-1.2.4.jar /usr/local/lib/python3.10/dist-packages/pyspark/jars"
      ],
      "metadata": {
        "id": "ElPW3cIntbFa"
      },
      "execution_count": null,
      "outputs": []
    },
    {
      "cell_type": "code",
      "source": [
        "from pyspark.sql import SparkSession\n",
        "import os\n",
        "#.config(\"spark.jars\",\n",
        " #       \"weaviate-spark-connector-assembly-v0.1.2.jar\" )\n",
        "spark = (\n",
        "    SparkSession.builder\n",
        "    .master(\"local[*]\")\n",
        "    .appName(\"weaviate\")\n",
        "    .getOrCreate()\n",
        ")\n",
        "\n",
        "spark.sparkContext.setLogLevel(\"WARN\")"
      ],
      "metadata": {
        "id": "7reiua0So7ro"
      },
      "execution_count": 36,
      "outputs": []
    },
    {
      "cell_type": "code",
      "source": [
        "!wget https://storage.googleapis.com/sphere-demo/sphere.100k.jsonl.tar.gz"
      ],
      "metadata": {
        "id": "RSKn8887o7ng"
      },
      "execution_count": null,
      "outputs": []
    },
    {
      "cell_type": "code",
      "source": [
        "!gunzip /content/sphere.100k.jsonl.tar.gz"
      ],
      "metadata": {
        "id": "DZbg5maApY-n"
      },
      "execution_count": null,
      "outputs": []
    },
    {
      "cell_type": "code",
      "source": [
        "!tar -xvf /content/sphere.100k.jsonl.tar"
      ],
      "metadata": {
        "colab": {
          "base_uri": "https://localhost:8080/"
        },
        "id": "_82N-aXQprfc",
        "outputId": "9cec5ed5-2a0c-4311-aa6c-06454552187e"
      },
      "execution_count": null,
      "outputs": [
        {
          "output_type": "stream",
          "name": "stdout",
          "text": [
            "sphere.100k.jsonl\n"
          ]
        }
      ]
    },
    {
      "cell_type": "code",
      "source": [
        "df = spark.read.load(\"sphere.100k.jsonl\", format=\"json\")"
      ],
      "metadata": {
        "id": "ciWpdBPso7k4"
      },
      "execution_count": null,
      "outputs": []
    },
    {
      "cell_type": "code",
      "source": [
        "import weaviate\n",
        "from weaviate.embedded import EmbeddedOptions\n",
        "\n",
        "client = weaviate.Client(embedded_options=EmbeddedOptions())"
      ],
      "metadata": {
        "colab": {
          "base_uri": "https://localhost:8080/"
        },
        "id": "LJ2V7Bzko7fE",
        "outputId": "59d93f41-cf7b-4069-a621-425c67c21b7d"
      },
      "execution_count": null,
      "outputs": [
        {
          "output_type": "stream",
          "name": "stdout",
          "text": [
            "embedded weaviate is already listing on port 6666\n"
          ]
        }
      ]
    },
    {
      "cell_type": "code",
      "source": [
        "client.schema.delete_all()\n",
        "\n",
        "client.schema.create_class(\n",
        "    {\n",
        "        \"class\": \"Sphere\",\n",
        "        \"properties\": [\n",
        "            {\n",
        "                \"name\": \"raw\",\n",
        "                \"dataType\": [\"string\"]\n",
        "            },\n",
        "            {\n",
        "                \"name\": \"sha\",\n",
        "                \"dataType\": [\"string\"]\n",
        "            },\n",
        "            {\n",
        "                \"name\": \"title\",\n",
        "                \"dataType\": [\"string\"]\n",
        "            },\n",
        "            {\n",
        "                \"name\": \"url\",\n",
        "                \"dataType\": [\"string\"]\n",
        "            },\n",
        "        ],\n",
        "    }\n",
        ")"
      ],
      "metadata": {
        "colab": {
          "base_uri": "https://localhost:8080/"
        },
        "id": "C7qomADurddR",
        "outputId": "32394be2-f04c-437d-d60f-a661cf260fce"
      },
      "execution_count": null,
      "outputs": [
        {
          "output_type": "stream",
          "name": "stdout",
          "text": [
            "Embedded weaviate wasn't listening on port 6666, so starting embedded weaviate again\n",
            "Started /root/.cache/weaviate-embedded: process ID 16160\n"
          ]
        }
      ]
    },
    {
      "cell_type": "code",
      "source": [
        "df.limit(1500).withColumnRenamed(\"id\", \"uuid\").write.format(\"io.weaviate.spark.Weaviate\") \\\n",
        "    .option(\"batchSize\", 200) \\\n",
        "    .option(\"scheme\", \"http\") \\\n",
        "    .option(\"host\", \"localhost:8080\") \\\n",
        "    .option(\"id\", \"uuid\") \\\n",
        "    .option(\"className\", \"Sphere\") \\\n",
        "    .option(\"vector\", \"vector\") \\\n",
        "    .mode(\"overwrite\").save()"
      ],
      "metadata": {
        "id": "p5GFA8AUrdZh"
      },
      "execution_count": null,
      "outputs": []
    },
    {
      "cell_type": "markdown",
      "source": [
        "Here's what happens behind the scenes when the client uses the embedded options in the instantiation call:\n",
        "\n",
        "The client downloads a Weaviate release from GitHub and caches it\n",
        "It then spawns a Weaviate process with a data directory configured to a specific location, and listening to the specified port (by default 6666)\n",
        "\n",
        "The server's STDOUT and STDERR are piped to the client\n",
        "\n",
        "The client connects to this server process (e.g. to http://127.0.0.1:6666) and runs the client code\n",
        "After running the code (when the application terminates), the client shuts down the Weaviate process\n",
        "\n",
        "The data directory is preserved, so subsequent invocations have access to the data from all previous invocations, across all clients using the embedded option."
      ],
      "metadata": {
        "id": "1N2fUc6ng4OH"
      }
    },
    {
      "cell_type": "markdown",
      "source": [
        "https://ai.facebook.com/blog/introducing-sphere-meta-ais-web-scale-corpus-for-better-knowledge-intensive-nlp/\n",
        "\n",
        "https://huggingface.co/facebook/dpr-question_encoder-single-nq-base\n",
        "\n",
        "https://weaviate.io/blog/sphere-dataset-in-weaviate"
      ],
      "metadata": {
        "id": "_JOsdNo-hAjV"
      }
    },
    {
      "cell_type": "code",
      "source": [],
      "metadata": {
        "id": "LguoB4SFeZXs"
      },
      "execution_count": null,
      "outputs": []
    },
    {
      "cell_type": "code",
      "source": [],
      "metadata": {
        "id": "vZMeJffQeZU6"
      },
      "execution_count": null,
      "outputs": []
    },
    {
      "cell_type": "code",
      "source": [],
      "metadata": {
        "id": "CqZLEp_4eZR8"
      },
      "execution_count": null,
      "outputs": []
    },
    {
      "cell_type": "code",
      "source": [],
      "metadata": {
        "id": "lspiozKSeZJR"
      },
      "execution_count": null,
      "outputs": []
    },
    {
      "cell_type": "code",
      "source": [],
      "metadata": {
        "id": "TrQWe1G0eZDp"
      },
      "execution_count": null,
      "outputs": []
    }
  ]
}