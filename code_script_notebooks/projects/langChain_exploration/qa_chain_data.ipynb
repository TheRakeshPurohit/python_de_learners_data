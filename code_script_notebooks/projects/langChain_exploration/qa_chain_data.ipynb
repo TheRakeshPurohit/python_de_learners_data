{
  "nbformat": 4,
  "nbformat_minor": 0,
  "metadata": {
    "colab": {
      "provenance": []
    },
    "kernelspec": {
      "name": "python3",
      "display_name": "Python 3"
    },
    "language_info": {
      "name": "python"
    }
  },
  "cells": [
    {
      "cell_type": "code",
      "execution_count": null,
      "metadata": {
        "id": "6hJhhPPF_nX8"
      },
      "outputs": [],
      "source": [
        "!pip install langchain[all] chromadb\n",
        "!pip install layoutparser[layoutmodels,tesseract]\n",
        "!pip install unstructured\n",
        "!pip install unstructured[local-inference]\n",
        "!pip install --ignore-installed Pillow==9.0.0"
      ]
    },
    {
      "cell_type": "code",
      "source": [
        "!pip install configparser"
      ],
      "metadata": {
        "id": "ucJ31ot-PuNL"
      },
      "execution_count": null,
      "outputs": []
    },
    {
      "cell_type": "code",
      "source": [
        "import configparser\n",
        "api_config = configparser.ConfigParser()\n",
        "api_config.read_file(open('apidata.config'))"
      ],
      "metadata": {
        "id": "qug7p5bkPwWV"
      },
      "execution_count": 59,
      "outputs": []
    },
    {
      "cell_type": "code",
      "source": [
        "import os\n",
        "os.environ['OPENAI_API_KEY'] = api_config[\"OPENAI\"][\"KEY\"]\n",
        "os.environ['SERPAPI_API_KEY']=api_config[\"OPENAI\"][\"SERPAPI_KEY\"]\n",
        "os.environ['SERPER_API_KEY']=api_config[\"OPENAI\"][\"SERPER_KEY\"]\n",
        "os.environ['WOLFRAM_ALPHA_APPID']= api_config[\"OPENAI\"][\"WOLF\"]\n",
        "os.environ['COHERE_KEY']=api_config['OPENAI']['COHERE']"
      ],
      "metadata": {
        "id": "vo5o9wJa_yxh"
      },
      "execution_count": 60,
      "outputs": []
    },
    {
      "cell_type": "code",
      "source": [
        "from langchain.chains import VectorDBQA\n",
        "from langchain.document_loaders import TextLoader\n",
        "from langchain.document_loaders import CSVLoader\n",
        "from langchain.llms import OpenAI"
      ],
      "metadata": {
        "id": "xg7sMJxfAJBb"
      },
      "execution_count": 120,
      "outputs": []
    },
    {
      "cell_type": "code",
      "source": [
        "fact_llm = OpenAI(temperature=0,model_name='text-davinci-002')"
      ],
      "metadata": {
        "id": "8fEKWZqSyUzE"
      },
      "execution_count": 121,
      "outputs": []
    },
    {
      "cell_type": "code",
      "source": [
        "file_space = CSVLoader('/content/space_shortened.csv')"
      ],
      "metadata": {
        "id": "S00WcRe0N0JN"
      },
      "execution_count": 83,
      "outputs": []
    },
    {
      "cell_type": "code",
      "source": [
        "from langchain.indexes import VectorstoreIndexCreator\n",
        "\n",
        "index_store = VectorstoreIndexCreator().from_loaders([file_space])"
      ],
      "metadata": {
        "id": "wzSpj_uQAIvR"
      },
      "execution_count": null,
      "outputs": []
    },
    {
      "cell_type": "code",
      "source": [
        "index_store.query(\"How many passenger details are there?\")"
      ],
      "metadata": {
        "id": "h_uEECBOBaHN"
      },
      "execution_count": null,
      "outputs": []
    },
    {
      "cell_type": "code",
      "source": [
        "from langchain.text_splitter import CharacterTextSplitter\n",
        "\n",
        "#object that splits the data\n",
        "text_splitter = CharacterTextSplitter(chunk_size=1000, chunk_overlap=0)\n",
        "\n",
        "#Object is used on the data\n",
        "texts = text_splitter.split_documents(file_space.load())"
      ],
      "metadata": {
        "id": "wnpXNhgoBg9g"
      },
      "execution_count": 85,
      "outputs": []
    },
    {
      "cell_type": "code",
      "source": [
        "print(texts)"
      ],
      "metadata": {
        "colab": {
          "base_uri": "https://localhost:8080/"
        },
        "id": "I9Rvt1LY7E6A",
        "outputId": "483444e4-bda7-4d3e-f9f6-b7a7242f8ede"
      },
      "execution_count": 123,
      "outputs": [
        {
          "output_type": "stream",
          "name": "stdout",
          "text": [
            "['PassengerId,HomePlanet,CryoSleep,Cabin,Destination,Age,VIP,RoomService,FoodCourt,ShoppingMall,Spa,VRDeck,Name,Transported\\n0001_01,Europa,False,B/0/P,TRAPPIST-1e,39.0,False,0.0,0.0,0.0,0.0,0.0,Maham Ofracculy,False\\n0002_01,Earth,False,F/0/S,TRAPPIST-1e,24.0,False,109.0,9.0,25.0,549.0,44.0,Juanna Vines,True\\n0003_01,Europa,False,A/0/S,TRAPPIST-1e,58.0,True,43.0,3576.0,0.0,6715.0,49.0,Altark Susent,False\\n0003_02,Europa,False,A/0/S,TRAPPIST-1e,33.0,False,0.0,1283.0,371.0,3329.0,193.0,Solam Susent,False\\n0004_01,Earth,False,F/1/S,TRAPPIST-1e,16.0,False,303.0,70.0,151.0,565.0,2.0,Willy Santantines,True\\n0005_01,Earth,False,F/0/P,PSO J318.5-22,44.0,False,0.0,483.0,0.0,291.0,0.0,Sandie Hinetthews,True\\n0006_01,Earth,False,F/2/S,TRAPPIST-1e,26.0,False,42.0,1539.0,3.0,0.0,0.0,Billex Jacostaffey,True\\n0006_02,Earth,True,G/0/S,TRAPPIST-1e,28.0,False,0.0,0.0,0.0,0.0,,Candra Jacostaffey,True\\n0007_01,Earth,False,F/3/S,TRAPPIST-1e,35.0,False,0.0,785.0,17.0,216.0,0.0,Andona Beston,True\\n0008_01,Europa,True,B/1/P,55 Cancri e,14.0,False,0.0,0.0,0.0,0.0,0.0,Erraiam Flatic,True\\n0008_02,Europa,True,B/1/P,TRAPPIST-1e,34.0,False,0.0,0.0,,0.0,0.0,Altardr Flatic,True\\n0008_03,Europa,False,B/1/P,55 Cancri e,45.0,False,39.0,7295.0,589.0,110.0,124.0,Wezena Flatic,True\\n0009_01,Mars,False,F/1/P,TRAPPIST-1e,32.0,False,73.0,0.0,1123.0,0.0,113.0,Berers Barne,True\\n0010_01,Earth,False,G/1/S,TRAPPIST-1e,48.0,False,719.0,1.0,65.0,0.0,24.0,Reney Baketton,False\\n0011_01,Earth,False,F/2/P,TRAPPIST-1e,28.0,False,8.0,974.0,12.0,2.0,7.0,Elle Bertsontry,True\\n0012_01,Earth,False,,TRAPPIST-1e,31.0,False,32.0,0.0,876.0,0.0,0.0,Justie Pooles,False']\n"
          ]
        }
      ]
    },
    {
      "cell_type": "code",
      "source": [
        "from langchain.embeddings import OpenAIEmbeddings\n",
        "\n",
        "openAIEmbed = OpenAIEmbeddings()"
      ],
      "metadata": {
        "id": "nZs5tmCrCey1"
      },
      "execution_count": 62,
      "outputs": []
    },
    {
      "cell_type": "code",
      "source": [
        "!rm -fR /content/.chroma"
      ],
      "metadata": {
        "id": "5H2pXewXSR-L"
      },
      "execution_count": 82,
      "outputs": []
    },
    {
      "cell_type": "code",
      "source": [
        "from langchain.vectorstores import Chroma\n",
        "\n",
        "db = Chroma.from_documents(texts, openAIEmbed)"
      ],
      "metadata": {
        "colab": {
          "base_uri": "https://localhost:8080/"
        },
        "id": "NnuFVp3TCerW",
        "outputId": "cce4a132-5198-422a-c66f-de461904b4cf"
      },
      "execution_count": 86,
      "outputs": [
        {
          "output_type": "stream",
          "name": "stdout",
          "text": [
            "Running Chroma using direct local API.\n",
            "Using DuckDB in-memory for database. Data will be transient.\n"
          ]
        },
        {
          "output_type": "stream",
          "name": "stderr",
          "text": [
            "DEBUG:Chroma:Index not found\n",
            "DEBUG:Chroma:Index saved to .chroma/index/index.bin\n",
            "DEBUG:Chroma:Index saved to .chroma/index/index.bin\n"
          ]
        }
      ]
    },
    {
      "cell_type": "code",
      "source": [
        "qa = VectorDBQA.from_chain_type(llm=fact_llm, chain_type=\"stuff\", vectorstore=db)\n",
        "query = 'What passenger details are available in the dataset?'"
      ],
      "metadata": {
        "id": "-S6l1OQXCekV"
      },
      "execution_count": 64,
      "outputs": []
    },
    {
      "cell_type": "code",
      "source": [
        "qa.run(query)"
      ],
      "metadata": {
        "colab": {
          "base_uri": "https://localhost:8080/",
          "height": 109
        },
        "id": "koX3B8uPCeeA",
        "outputId": "5acdd24f-7cad-4ab4-c4e4-3bfa1b35a9d6"
      },
      "execution_count": 65,
      "outputs": [
        {
          "output_type": "stream",
          "name": "stderr",
          "text": [
            "DEBUG:Chroma:time to pre process our knn query: 3.337860107421875e-06\n",
            "DEBUG:Chroma:time to run knn query: 0.0004322528839111328\n"
          ]
        },
        {
          "output_type": "stream",
          "name": "stdout",
          "text": [
            "Exiting: Cleaning up .chroma directory\n"
          ]
        },
        {
          "output_type": "execute_result",
          "data": {
            "text/plain": [
              "' PassengerId, HomePlanet, CryoSleep, Cabin, Destination, Age, VIP, RoomService, FoodCourt, ShoppingMall, Spa, VRDeck, Name, and Transported.'"
            ],
            "application/vnd.google.colaboratory.intrinsic+json": {
              "type": "string"
            }
          },
          "metadata": {},
          "execution_count": 65
        }
      ]
    },
    {
      "cell_type": "code",
      "source": [
        "qa_mr = VectorDBQA.from_chain_type(llm=fact_llm, chain_type=\"map_reduce\", vectorstore=db)\n",
        "query = 'What passenger details are available in the dataset?'\n",
        "qa_mr.run(query)"
      ],
      "metadata": {
        "colab": {
          "base_uri": "https://localhost:8080/",
          "height": 90
        },
        "id": "xhgcZD2k8qsP",
        "outputId": "5db8d4a0-5dcf-451c-d18f-07d0a715c18d"
      },
      "execution_count": 125,
      "outputs": [
        {
          "output_type": "stream",
          "name": "stderr",
          "text": [
            "DEBUG:Chroma:time to pre process our knn query: 4.0531158447265625e-06\n",
            "DEBUG:Chroma:time to run knn query: 0.00027680397033691406\n"
          ]
        },
        {
          "output_type": "execute_result",
          "data": {
            "text/plain": [
              "' The available passenger details in the dataset are PassengerId, HomePlanet, CryoSleep, Cabin, Destination, Age, VIP, RoomService, FoodCourt, ShoppingMall, Spa, VRDeck, Name, and Transported.'"
            ],
            "application/vnd.google.colaboratory.intrinsic+json": {
              "type": "string"
            }
          },
          "metadata": {},
          "execution_count": 125
        }
      ]
    },
    {
      "cell_type": "code",
      "source": [
        "query = \"What is the money spent on RoomService\"\n",
        "docs = db.similarity_search(query)"
      ],
      "metadata": {
        "colab": {
          "base_uri": "https://localhost:8080/"
        },
        "id": "E4-jL6beI7nS",
        "outputId": "99ac4c12-2087-493e-c457-accbe2205134"
      },
      "execution_count": 66,
      "outputs": [
        {
          "output_type": "stream",
          "name": "stderr",
          "text": [
            "DEBUG:Chroma:time to pre process our knn query: 3.5762786865234375e-06\n",
            "DEBUG:Chroma:time to run knn query: 0.001111745834350586\n"
          ]
        }
      ]
    },
    {
      "cell_type": "code",
      "source": [
        "query = \"How much money spent on VRDeck\"\n",
        "vrd = db.similarity_search(query,10)"
      ],
      "metadata": {
        "colab": {
          "base_uri": "https://localhost:8080/"
        },
        "outputId": "ced06a01-0181-4985-a0c0-d32403c2b36b",
        "id": "7PzEQepkurdR"
      },
      "execution_count": 111,
      "outputs": [
        {
          "output_type": "stream",
          "name": "stderr",
          "text": [
            "DEBUG:Chroma:time to pre process our knn query: 5.0067901611328125e-06\n",
            "DEBUG:Chroma:time to run knn query: 0.0002722740173339844\n"
          ]
        }
      ]
    },
    {
      "cell_type": "code",
      "source": [
        "docs"
      ],
      "metadata": {
        "colab": {
          "base_uri": "https://localhost:8080/"
        },
        "id": "ujtF8h3wL595",
        "outputId": "d4d54d8f-7673-4f5e-a712-9fbe97d93eba"
      },
      "execution_count": 73,
      "outputs": [
        {
          "output_type": "execute_result",
          "data": {
            "text/plain": [
              "[Document(page_content='PassengerId: 7194_01\\nHomePlanet: Earth\\nCryoSleep: False\\nCabin: F/1382/S\\nDestination: \\nAge: 36.0\\nVIP: False\\nRoomService: 0.0\\nFoodCourt: 129.0\\nShoppingMall: 0.0\\nSpa: 177.0\\nVRDeck: 444.0\\nName: Raque Waterson\\nTransported: False', lookup_str='', metadata={'source': '/content/space_titanic.csv', 'row': 6813}, lookup_index=0),\n",
              " Document(page_content='PassengerId: 7910_01\\nHomePlanet: Earth\\nCryoSleep: False\\nCabin: F/1639/P\\nDestination: \\nAge: 30.0\\nVIP: False\\nRoomService: 4.0\\nFoodCourt: 637.0\\nShoppingMall: 0.0\\nSpa: 0.0\\nVRDeck: 3.0\\nName: Fery Rushing\\nTransported: False', lookup_str='', metadata={'source': '/content/space_titanic.csv', 'row': 7403}, lookup_index=0),\n",
              " Document(page_content='PassengerId: 6220_01\\nHomePlanet: Earth\\nCryoSleep: False\\nCabin: F/1284/P\\nDestination: PSO J318.5-22\\nAge: 42.0\\nVIP: False\\nRoomService: 0.0\\nFoodCourt: 168.0\\nShoppingMall: 0.0\\nSpa: 113.0\\nVRDeck: 461.0\\nName: Rica Jacostaffey\\nTransported: False', lookup_str='', metadata={'source': '/content/space_titanic.csv', 'row': 5873}, lookup_index=0),\n",
              " Document(page_content='PassengerId: 6141_02\\nHomePlanet: Earth\\nCryoSleep: False\\nCabin: \\nDestination: \\nAge: 21.0\\nVIP: False\\nRoomService: 28.0\\nFoodCourt: 0.0\\nShoppingMall: 0.0\\nSpa: 662.0\\nVRDeck: 0.0\\nName: \\nTransported: False', lookup_str='', metadata={'source': '/content/space_titanic.csv', 'row': 5806}, lookup_index=0)]"
            ]
          },
          "metadata": {},
          "execution_count": 73
        }
      ]
    },
    {
      "cell_type": "code",
      "source": [
        "vrd"
      ],
      "metadata": {
        "colab": {
          "base_uri": "https://localhost:8080/"
        },
        "id": "iIXH34sJu1uQ",
        "outputId": "f04bae51-7c73-4f10-c097-46fd61f45957"
      },
      "execution_count": 112,
      "outputs": [
        {
          "output_type": "execute_result",
          "data": {
            "text/plain": [
              "[Document(page_content='PassengerId: 0002_01\\nHomePlanet: Earth\\nCryoSleep: False\\nCabin: F/0/S\\nDestination: TRAPPIST-1e\\nAge: 24.0\\nVIP: False\\nRoomService: 109.0\\nFoodCourt: 9.0\\nShoppingMall: 25.0\\nSpa: 549.0\\nVRDeck: 44.0\\nName: Juanna Vines\\nTransported: True', lookup_str='', metadata={'source': '/content/space_shortened.csv', 'row': 1}, lookup_index=0),\n",
              " Document(page_content='PassengerId: 0006_01\\nHomePlanet: Earth\\nCryoSleep: False\\nCabin: F/2/S\\nDestination: TRAPPIST-1e\\nAge: 26.0\\nVIP: False\\nRoomService: 42.0\\nFoodCourt: 1539.0\\nShoppingMall: 3.0\\nSpa: 0.0\\nVRDeck: 0.0\\nName: Billex Jacostaffey\\nTransported: True', lookup_str='', metadata={'source': '/content/space_shortened.csv', 'row': 6}, lookup_index=0),\n",
              " Document(page_content='PassengerId: 0003_01\\nHomePlanet: Europa\\nCryoSleep: False\\nCabin: A/0/S\\nDestination: TRAPPIST-1e\\nAge: 58.0\\nVIP: True\\nRoomService: 43.0\\nFoodCourt: 3576.0\\nShoppingMall: 0.0\\nSpa: 6715.0\\nVRDeck: 49.0\\nName: Altark Susent\\nTransported: False', lookup_str='', metadata={'source': '/content/space_shortened.csv', 'row': 2}, lookup_index=0),\n",
              " Document(page_content='PassengerId: 0006_02\\nHomePlanet: Earth\\nCryoSleep: True\\nCabin: G/0/S\\nDestination: TRAPPIST-1e\\nAge: 28.0\\nVIP: False\\nRoomService: 0.0\\nFoodCourt: 0.0\\nShoppingMall: 0.0\\nSpa: 0.0\\nVRDeck: \\nName: Candra Jacostaffey\\nTransported: True', lookup_str='', metadata={'source': '/content/space_shortened.csv', 'row': 7}, lookup_index=0),\n",
              " Document(page_content='PassengerId: 0009_01\\nHomePlanet: Mars\\nCryoSleep: False\\nCabin: F/1/P\\nDestination: TRAPPIST-1e\\nAge: 32.0\\nVIP: False\\nRoomService: 73.0\\nFoodCourt: 0.0\\nShoppingMall: 1123.0\\nSpa: 0.0\\nVRDeck: 113.0\\nName: Berers Barne\\nTransported: True', lookup_str='', metadata={'source': '/content/space_shortened.csv', 'row': 12}, lookup_index=0),\n",
              " Document(page_content='PassengerId: 0010_01\\nHomePlanet: Earth\\nCryoSleep: False\\nCabin: G/1/S\\nDestination: TRAPPIST-1e\\nAge: 48.0\\nVIP: False\\nRoomService: 719.0\\nFoodCourt: 1.0\\nShoppingMall: 65.0\\nSpa: 0.0\\nVRDeck: 24.0\\nName: Reney Baketton\\nTransported: False', lookup_str='', metadata={'source': '/content/space_shortened.csv', 'row': 13}, lookup_index=0),\n",
              " Document(page_content='PassengerId: 0001_01\\nHomePlanet: Europa\\nCryoSleep: False\\nCabin: B/0/P\\nDestination: TRAPPIST-1e\\nAge: 39.0\\nVIP: False\\nRoomService: 0.0\\nFoodCourt: 0.0\\nShoppingMall: 0.0\\nSpa: 0.0\\nVRDeck: 0.0\\nName: Maham Ofracculy\\nTransported: False', lookup_str='', metadata={'source': '/content/space_shortened.csv', 'row': 0}, lookup_index=0),\n",
              " Document(page_content='PassengerId: 0003_02\\nHomePlanet: Europa\\nCryoSleep: False\\nCabin: A/0/S\\nDestination: TRAPPIST-1e\\nAge: 33.0\\nVIP: False\\nRoomService: 0.0\\nFoodCourt: 1283.0\\nShoppingMall: 371.0\\nSpa: 3329.0\\nVRDeck: 193.0\\nName: Solam Susent\\nTransported: False', lookup_str='', metadata={'source': '/content/space_shortened.csv', 'row': 3}, lookup_index=0),\n",
              " Document(page_content='PassengerId: 0008_03\\nHomePlanet: Europa\\nCryoSleep: False\\nCabin: B/1/P\\nDestination: 55 Cancri e\\nAge: 45.0\\nVIP: False\\nRoomService: 39.0\\nFoodCourt: 7295.0\\nShoppingMall: 589.0\\nSpa: 110.0\\nVRDeck: 124.0\\nName: Wezena Flatic\\nTransported: True', lookup_str='', metadata={'source': '/content/space_shortened.csv', 'row': 11}, lookup_index=0),\n",
              " Document(page_content='PassengerId: 0011_01\\nHomePlanet: Earth\\nCryoSleep: False\\nCabin: F/2/P\\nDestination: TRAPPIST-1e\\nAge: 28.0\\nVIP: False\\nRoomService: 8.0\\nFoodCourt: 974.0\\nShoppingMall: 12.0\\nSpa: 2.0\\nVRDeck: 7.0\\nName: Elle Bertsontry\\nTransported: True', lookup_str='', metadata={'source': '/content/space_shortened.csv', 'row': 14}, lookup_index=0)]"
            ]
          },
          "metadata": {},
          "execution_count": 112
        }
      ]
    },
    {
      "cell_type": "markdown",
      "source": [
        "/content/space_shortened.csv"
      ],
      "metadata": {
        "id": "k4Hbldgz9YUE"
      }
    },
    {
      "cell_type": "code",
      "source": [
        "from langchain.chains import VectorDBQAWithSourcesChain\n",
        "\n",
        "chainQAS = VectorDBQAWithSourcesChain.from_chain_type(fact_llm, \n",
        "                                                      chain_type=\"stuff\", \n",
        "                                                      vectorstore=db)\n",
        "query = 'How much was spent on the VRDeck'\n",
        "\n",
        "chainQAS({\"question\":query},return_only_outputs=True)"
      ],
      "metadata": {
        "colab": {
          "base_uri": "https://localhost:8080/"
        },
        "id": "B-KrC3ehvj2x",
        "outputId": "37344789-4f54-4e83-c54d-14524edbca04"
      },
      "execution_count": 119,
      "outputs": [
        {
          "output_type": "stream",
          "name": "stderr",
          "text": [
            "DEBUG:Chroma:time to pre process our knn query: 5.0067901611328125e-06\n",
            "DEBUG:Chroma:time to run knn query: 0.0008950233459472656\n"
          ]
        },
        {
          "output_type": "execute_result",
          "data": {
            "text/plain": [
              "{'answer': ' 44.0 was spent on the VRDeck.\\n',\n",
              " 'sources': '/content/space_shortened.csv'}"
            ]
          },
          "metadata": {},
          "execution_count": 119
        }
      ]
    },
    {
      "cell_type": "code",
      "source": [
        "from langchain.chains.question_answering import load_qa_chain"
      ],
      "metadata": {
        "id": "NY2BqMKaD6k_"
      },
      "execution_count": 68,
      "outputs": []
    },
    {
      "cell_type": "code",
      "source": [
        "qa_ss_chain = load_qa_chain(fact_llm,chain_type='stuff')\n",
        "query = \"What is the money spent on RoomService\"\n",
        "qa_ss_chain.run(input_documents=docs,question=query)"
      ],
      "metadata": {
        "colab": {
          "base_uri": "https://localhost:8080/",
          "height": 35
        },
        "id": "Kw7x9We6Ldc9",
        "outputId": "6c039f58-443f-4aba-b79d-544a9ed49a0f"
      },
      "execution_count": 72,
      "outputs": [
        {
          "output_type": "execute_result",
          "data": {
            "text/plain": [
              "' 28.0'"
            ],
            "application/vnd.google.colaboratory.intrinsic+json": {
              "type": "string"
            }
          },
          "metadata": {},
          "execution_count": 72
        }
      ]
    },
    {
      "cell_type": "code",
      "source": [
        "query = \"What is the total money spent on RoomService\"\n",
        "qa_ss_chain.run(input_documents=docs,question=query)"
      ],
      "metadata": {
        "colab": {
          "base_uri": "https://localhost:8080/",
          "height": 35
        },
        "id": "IxRENWRnL_w2",
        "outputId": "56143dfb-276b-4314-887e-aeece8a3ed96"
      },
      "execution_count": 74,
      "outputs": [
        {
          "output_type": "execute_result",
          "data": {
            "text/plain": [
              "' The total money spent on RoomService is 32.0.'"
            ],
            "application/vnd.google.colaboratory.intrinsic+json": {
              "type": "string"
            }
          },
          "metadata": {},
          "execution_count": 74
        }
      ]
    },
    {
      "cell_type": "code",
      "source": [
        "#working on the map_reduce chain\n",
        "batchedLLM = OpenAI(batch_size=5,temperature=0)\n",
        "\n",
        "qa_mr_chain = load_qa_chain(batchedLLM, chain_type='map_reduce')\n",
        "\n",
        "query = \"List the passenger names.\"\n",
        "\n",
        "docs = db.similarity_search(query,10)\n",
        "\n",
        "qa_mr_chain({\"input_documents\":docs, \"question\":query})"
      ],
      "metadata": {
        "colab": {
          "base_uri": "https://localhost:8080/"
        },
        "id": "TvI2y3fQNA89",
        "outputId": "fd3bf9c7-921f-4e34-a107-cd6482ac79f7"
      },
      "execution_count": 126,
      "outputs": [
        {
          "output_type": "stream",
          "name": "stderr",
          "text": [
            "DEBUG:Chroma:time to pre process our knn query: 2.86102294921875e-06\n",
            "DEBUG:Chroma:time to run knn query: 0.0002510547637939453\n"
          ]
        },
        {
          "output_type": "execute_result",
          "data": {
            "text/plain": [
              "{'input_documents': [Document(page_content='PassengerId: 0008_03\\nHomePlanet: Europa\\nCryoSleep: False\\nCabin: B/1/P\\nDestination: 55 Cancri e\\nAge: 45.0\\nVIP: False\\nRoomService: 39.0\\nFoodCourt: 7295.0\\nShoppingMall: 589.0\\nSpa: 110.0\\nVRDeck: 124.0\\nName: Wezena Flatic\\nTransported: True', lookup_str='', metadata={'source': '/content/space_shortened.csv', 'row': 11}, lookup_index=0),\n",
              "  Document(page_content='PassengerId: 0008_01\\nHomePlanet: Europa\\nCryoSleep: True\\nCabin: B/1/P\\nDestination: 55 Cancri e\\nAge: 14.0\\nVIP: False\\nRoomService: 0.0\\nFoodCourt: 0.0\\nShoppingMall: 0.0\\nSpa: 0.0\\nVRDeck: 0.0\\nName: Erraiam Flatic\\nTransported: True', lookup_str='', metadata={'source': '/content/space_shortened.csv', 'row': 9}, lookup_index=0),\n",
              "  Document(page_content='PassengerId: 0012_01\\nHomePlanet: Earth\\nCryoSleep: False\\nCabin: \\nDestination: TRAPPIST-1e\\nAge: 31.0\\nVIP: False\\nRoomService: 32.0\\nFoodCourt: 0.0\\nShoppingMall: 876.0\\nSpa: 0.0\\nVRDeck: 0.0\\nName: Justie Pooles\\nTransported: False', lookup_str='', metadata={'source': '/content/space_shortened.csv', 'row': 15}, lookup_index=0),\n",
              "  Document(page_content='PassengerId: 0005_01\\nHomePlanet: Earth\\nCryoSleep: False\\nCabin: F/0/P\\nDestination: PSO J318.5-22\\nAge: 44.0\\nVIP: False\\nRoomService: 0.0\\nFoodCourt: 483.0\\nShoppingMall: 0.0\\nSpa: 291.0\\nVRDeck: 0.0\\nName: Sandie Hinetthews\\nTransported: True', lookup_str='', metadata={'source': '/content/space_shortened.csv', 'row': 5}, lookup_index=0),\n",
              "  Document(page_content='PassengerId: 0006_01\\nHomePlanet: Earth\\nCryoSleep: False\\nCabin: F/2/S\\nDestination: TRAPPIST-1e\\nAge: 26.0\\nVIP: False\\nRoomService: 42.0\\nFoodCourt: 1539.0\\nShoppingMall: 3.0\\nSpa: 0.0\\nVRDeck: 0.0\\nName: Billex Jacostaffey\\nTransported: True', lookup_str='', metadata={'source': '/content/space_shortened.csv', 'row': 6}, lookup_index=0),\n",
              "  Document(page_content='PassengerId: 0002_01\\nHomePlanet: Earth\\nCryoSleep: False\\nCabin: F/0/S\\nDestination: TRAPPIST-1e\\nAge: 24.0\\nVIP: False\\nRoomService: 109.0\\nFoodCourt: 9.0\\nShoppingMall: 25.0\\nSpa: 549.0\\nVRDeck: 44.0\\nName: Juanna Vines\\nTransported: True', lookup_str='', metadata={'source': '/content/space_shortened.csv', 'row': 1}, lookup_index=0),\n",
              "  Document(page_content='PassengerId: 0004_01\\nHomePlanet: Earth\\nCryoSleep: False\\nCabin: F/1/S\\nDestination: TRAPPIST-1e\\nAge: 16.0\\nVIP: False\\nRoomService: 303.0\\nFoodCourt: 70.0\\nShoppingMall: 151.0\\nSpa: 565.0\\nVRDeck: 2.0\\nName: Willy Santantines\\nTransported: True', lookup_str='', metadata={'source': '/content/space_shortened.csv', 'row': 4}, lookup_index=0),\n",
              "  Document(page_content='PassengerId: 0003_02\\nHomePlanet: Europa\\nCryoSleep: False\\nCabin: A/0/S\\nDestination: TRAPPIST-1e\\nAge: 33.0\\nVIP: False\\nRoomService: 0.0\\nFoodCourt: 1283.0\\nShoppingMall: 371.0\\nSpa: 3329.0\\nVRDeck: 193.0\\nName: Solam Susent\\nTransported: False', lookup_str='', metadata={'source': '/content/space_shortened.csv', 'row': 3}, lookup_index=0),\n",
              "  Document(page_content='PassengerId: 0001_01\\nHomePlanet: Europa\\nCryoSleep: False\\nCabin: B/0/P\\nDestination: TRAPPIST-1e\\nAge: 39.0\\nVIP: False\\nRoomService: 0.0\\nFoodCourt: 0.0\\nShoppingMall: 0.0\\nSpa: 0.0\\nVRDeck: 0.0\\nName: Maham Ofracculy\\nTransported: False', lookup_str='', metadata={'source': '/content/space_shortened.csv', 'row': 0}, lookup_index=0),\n",
              "  Document(page_content='PassengerId: 0003_01\\nHomePlanet: Europa\\nCryoSleep: False\\nCabin: A/0/S\\nDestination: TRAPPIST-1e\\nAge: 58.0\\nVIP: True\\nRoomService: 43.0\\nFoodCourt: 3576.0\\nShoppingMall: 0.0\\nSpa: 6715.0\\nVRDeck: 49.0\\nName: Altark Susent\\nTransported: False', lookup_str='', metadata={'source': '/content/space_shortened.csv', 'row': 2}, lookup_index=0)],\n",
              " 'question': 'List the passenger names.',\n",
              " 'output_text': ' Wezena Flatic, Erraiam Flatic, Justie Pooles, Sandie Hinetthews, Billex Jacostaffey, Juanna Vines, Willy Santantines, Solam Susent, Maham Ofracculy, Altark Susent.'}"
            ]
          },
          "metadata": {},
          "execution_count": 126
        }
      ]
    },
    {
      "cell_type": "code",
      "source": [
        "ref_chain = load_qa_chain(batchedLLM, chain_type=\"refine\")\n",
        "query = 'Who spent the most on Spa, VRDeck and RoomService?'\n",
        "docs = db.similarity_search(query)\n",
        "ref_chain({'input_documents':docs,\"question\":query,\"existing_answer\":\" \"}\n",
        "          ,return_only_outputs=True)"
      ],
      "metadata": {
        "colab": {
          "base_uri": "https://localhost:8080/"
        },
        "id": "ENgIwT5yNA0Y",
        "outputId": "8fa615c5-9ac3-476a-c7dc-784f7b96dedb"
      },
      "execution_count": 77,
      "outputs": [
        {
          "output_type": "execute_result",
          "data": {
            "text/plain": [
              "{'output_text': '\\n\\nThe passenger with PassengerId 6141_02 spent the most on Spa, VRDeck and RoomService, with 662.0, 0.0 and 28.0 respectively.'}"
            ]
          },
          "metadata": {},
          "execution_count": 77
        }
      ]
    },
    {
      "cell_type": "code",
      "source": [
        "re_rank = load_qa_chain(batchedLLM, \n",
        "                      chain_type=\"map_rerank\", \n",
        "                      return_intermediate_steps=True)\n",
        "query = 'Who spent the most on Spa, VRDeck and RoomService?'\n",
        "docs = db.similarity_search(query)\n",
        "results = re_rank({\"input_documents\": docs, \"question\": query}, return_only_outputs=True)"
      ],
      "metadata": {
        "id": "Ic_O7dtlNAru"
      },
      "execution_count": 78,
      "outputs": []
    },
    {
      "cell_type": "code",
      "source": [
        "results"
      ],
      "metadata": {
        "colab": {
          "base_uri": "https://localhost:8080/"
        },
        "id": "JgrXbdZeNAjq",
        "outputId": "a39f3645-54c2-45b1-80d7-77893763a0d2"
      },
      "execution_count": 79,
      "outputs": [
        {
          "output_type": "execute_result",
          "data": {
            "text/plain": [
              "{'intermediate_steps': [{'answer': ' Raque Waterson spent the most on Spa (177.0), VRDeck (444.0) and RoomService (0.0).',\n",
              "   'score': '100'},\n",
              "  {'answer': ' Fery Rushing spent 4.0 on RoomService, 3.0 on VRDeck, and 0.0 on Spa.',\n",
              "   'score': '100'},\n",
              "  {'answer': ' Rica Jacostaffey spent the most on Spa (113.0), VRDeck (461.0) and RoomService (0.0).',\n",
              "   'score': '100'},\n",
              "  {'answer': ' It is not specified in the context.', 'score': '0'}],\n",
              " 'output_text': ' Raque Waterson spent the most on Spa (177.0), VRDeck (444.0) and RoomService (0.0).'}"
            ]
          },
          "metadata": {},
          "execution_count": 79
        }
      ]
    },
    {
      "cell_type": "code",
      "source": [
        "from langchain.chains.qa_with_sources import load_qa_with_sources_chain\n",
        "\n",
        "qa_withSource_chain = load_qa_with_sources_chain(fact_llm,chain_type='stuff')\n",
        "query = \"What is the total money spent on RoomService?\"\n",
        "docs = db.similarity_search(query)\n",
        "qa_withSource_chain.run(input_documents=docs,question=query)"
      ],
      "metadata": {
        "colab": {
          "base_uri": "https://localhost:8080/",
          "height": 72
        },
        "id": "Sqd6i_u0NAZI",
        "outputId": "7fff0f3b-6b72-4826-e86a-3b4ac56b78bc"
      },
      "execution_count": 87,
      "outputs": [
        {
          "output_type": "stream",
          "name": "stderr",
          "text": [
            "DEBUG:Chroma:time to pre process our knn query: 7.867813110351562e-06\n",
            "DEBUG:Chroma:time to run knn query: 0.0002779960632324219\n"
          ]
        },
        {
          "output_type": "execute_result",
          "data": {
            "text/plain": [
              "' The total money spent on RoomService is 790.0.\\nSOURCES: /content/space_shortened.csv'"
            ],
            "application/vnd.google.colaboratory.intrinsic+json": {
              "type": "string"
            }
          },
          "metadata": {},
          "execution_count": 87
        }
      ]
    },
    {
      "cell_type": "code",
      "source": [
        "withSource_mr_chain = load_qa_with_sources_chain(batchedLLM, chain_type='map_reduce')\n",
        "query = \"List the passenger names in the data.\"\n",
        "docs = db.similarity_search(query)\n",
        "withSource_mr_chain({\"input_documents\":docs, \"question\":query})"
      ],
      "metadata": {
        "colab": {
          "base_uri": "https://localhost:8080/"
        },
        "id": "G3bFxtYBTaDz",
        "outputId": "75f4b090-bbde-4f75-c35c-89ef9dd63122"
      },
      "execution_count": 88,
      "outputs": [
        {
          "output_type": "stream",
          "name": "stderr",
          "text": [
            "DEBUG:Chroma:time to pre process our knn query: 3.814697265625e-06\n",
            "DEBUG:Chroma:time to run knn query: 0.0003478527069091797\n"
          ]
        },
        {
          "output_type": "execute_result",
          "data": {
            "text/plain": [
              "{'input_documents': [Document(page_content='PassengerId: 0002_01\\nHomePlanet: Earth\\nCryoSleep: False\\nCabin: F/0/S\\nDestination: TRAPPIST-1e\\nAge: 24.0\\nVIP: False\\nRoomService: 109.0\\nFoodCourt: 9.0\\nShoppingMall: 25.0\\nSpa: 549.0\\nVRDeck: 44.0\\nName: Juanna Vines\\nTransported: True', lookup_str='', metadata={'source': '/content/space_shortened.csv', 'row': 1}, lookup_index=0),\n",
              "  Document(page_content='PassengerId: 0012_01\\nHomePlanet: Earth\\nCryoSleep: False\\nCabin: \\nDestination: TRAPPIST-1e\\nAge: 31.0\\nVIP: False\\nRoomService: 32.0\\nFoodCourt: 0.0\\nShoppingMall: 876.0\\nSpa: 0.0\\nVRDeck: 0.0\\nName: Justie Pooles\\nTransported: False', lookup_str='', metadata={'source': '/content/space_shortened.csv', 'row': 15}, lookup_index=0),\n",
              "  Document(page_content='PassengerId: 0001_01\\nHomePlanet: Europa\\nCryoSleep: False\\nCabin: B/0/P\\nDestination: TRAPPIST-1e\\nAge: 39.0\\nVIP: False\\nRoomService: 0.0\\nFoodCourt: 0.0\\nShoppingMall: 0.0\\nSpa: 0.0\\nVRDeck: 0.0\\nName: Maham Ofracculy\\nTransported: False', lookup_str='', metadata={'source': '/content/space_shortened.csv', 'row': 0}, lookup_index=0),\n",
              "  Document(page_content='PassengerId: 0008_03\\nHomePlanet: Europa\\nCryoSleep: False\\nCabin: B/1/P\\nDestination: 55 Cancri e\\nAge: 45.0\\nVIP: False\\nRoomService: 39.0\\nFoodCourt: 7295.0\\nShoppingMall: 589.0\\nSpa: 110.0\\nVRDeck: 124.0\\nName: Wezena Flatic\\nTransported: True', lookup_str='', metadata={'source': '/content/space_shortened.csv', 'row': 11}, lookup_index=0)],\n",
              " 'question': 'List the passenger names in the data.',\n",
              " 'output_text': ' Juanna Vines, Justie Pooles, Maham Ofracculy, Wezena Flatic.\\nSOURCES: /content/space_shortened.csv'}"
            ]
          },
          "metadata": {},
          "execution_count": 88
        }
      ]
    },
    {
      "cell_type": "code",
      "source": [
        "# working on the summarize chain. Without using the embedding from OpenAI"
      ],
      "metadata": {
        "id": "B9obgfiQVGET"
      },
      "execution_count": 89,
      "outputs": []
    },
    {
      "cell_type": "code",
      "source": [
        "with open('/content/space_shortened.csv') as f:\n",
        "    space = f.read()\n",
        "texts = text_splitter.split_text(space)"
      ],
      "metadata": {
        "id": "2yJSjwK_VE6i"
      },
      "execution_count": 90,
      "outputs": []
    },
    {
      "cell_type": "code",
      "source": [
        "print(texts)"
      ],
      "metadata": {
        "colab": {
          "base_uri": "https://localhost:8080/"
        },
        "id": "qANSEhkn_uJG",
        "outputId": "ca9c1fa2-656b-43ea-a7f8-69ed619f5b27"
      },
      "execution_count": 127,
      "outputs": [
        {
          "output_type": "stream",
          "name": "stdout",
          "text": [
            "['PassengerId,HomePlanet,CryoSleep,Cabin,Destination,Age,VIP,RoomService,FoodCourt,ShoppingMall,Spa,VRDeck,Name,Transported\\n0001_01,Europa,False,B/0/P,TRAPPIST-1e,39.0,False,0.0,0.0,0.0,0.0,0.0,Maham Ofracculy,False\\n0002_01,Earth,False,F/0/S,TRAPPIST-1e,24.0,False,109.0,9.0,25.0,549.0,44.0,Juanna Vines,True\\n0003_01,Europa,False,A/0/S,TRAPPIST-1e,58.0,True,43.0,3576.0,0.0,6715.0,49.0,Altark Susent,False\\n0003_02,Europa,False,A/0/S,TRAPPIST-1e,33.0,False,0.0,1283.0,371.0,3329.0,193.0,Solam Susent,False\\n0004_01,Earth,False,F/1/S,TRAPPIST-1e,16.0,False,303.0,70.0,151.0,565.0,2.0,Willy Santantines,True\\n0005_01,Earth,False,F/0/P,PSO J318.5-22,44.0,False,0.0,483.0,0.0,291.0,0.0,Sandie Hinetthews,True\\n0006_01,Earth,False,F/2/S,TRAPPIST-1e,26.0,False,42.0,1539.0,3.0,0.0,0.0,Billex Jacostaffey,True\\n0006_02,Earth,True,G/0/S,TRAPPIST-1e,28.0,False,0.0,0.0,0.0,0.0,,Candra Jacostaffey,True\\n0007_01,Earth,False,F/3/S,TRAPPIST-1e,35.0,False,0.0,785.0,17.0,216.0,0.0,Andona Beston,True\\n0008_01,Europa,True,B/1/P,55 Cancri e,14.0,False,0.0,0.0,0.0,0.0,0.0,Erraiam Flatic,True\\n0008_02,Europa,True,B/1/P,TRAPPIST-1e,34.0,False,0.0,0.0,,0.0,0.0,Altardr Flatic,True\\n0008_03,Europa,False,B/1/P,55 Cancri e,45.0,False,39.0,7295.0,589.0,110.0,124.0,Wezena Flatic,True\\n0009_01,Mars,False,F/1/P,TRAPPIST-1e,32.0,False,73.0,0.0,1123.0,0.0,113.0,Berers Barne,True\\n0010_01,Earth,False,G/1/S,TRAPPIST-1e,48.0,False,719.0,1.0,65.0,0.0,24.0,Reney Baketton,False\\n0011_01,Earth,False,F/2/P,TRAPPIST-1e,28.0,False,8.0,974.0,12.0,2.0,7.0,Elle Bertsontry,True\\n0012_01,Earth,False,,TRAPPIST-1e,31.0,False,32.0,0.0,876.0,0.0,0.0,Justie Pooles,False']\n"
          ]
        }
      ]
    },
    {
      "cell_type": "code",
      "source": [
        "from langchain.docstore.document import Document\n",
        "\n",
        "docs = [Document(page_content=t) for t in texts[:3]] # list comprehension"
      ],
      "metadata": {
        "id": "YiOl0Y8TVp3W"
      },
      "execution_count": 91,
      "outputs": []
    },
    {
      "cell_type": "code",
      "source": [
        "texts[:1]"
      ],
      "metadata": {
        "id": "E43kiJV2AC5q"
      },
      "execution_count": null,
      "outputs": []
    },
    {
      "cell_type": "code",
      "source": [
        "docs"
      ],
      "metadata": {
        "id": "K9Dd5dY8_2hk"
      },
      "execution_count": null,
      "outputs": []
    },
    {
      "cell_type": "code",
      "source": [
        "from langchain.chains.summarize import load_summarize_chain\n",
        "\n",
        "chain = load_summarize_chain(batchedLLM, chain_type=\"map_reduce\")\n",
        "\n",
        "chain.run(docs)"
      ],
      "metadata": {
        "colab": {
          "base_uri": "https://localhost:8080/",
          "height": 72
        },
        "id": "rywHw7fuUsS_",
        "outputId": "0d89015f-8c9f-43c8-ecc0-dd1b26f5e13d"
      },
      "execution_count": 92,
      "outputs": [
        {
          "output_type": "execute_result",
          "data": {
            "text/plain": [
              "' This data set contains information about 12 passengers travelling to the TRAPPIST-1e planet, including their home planet, age, VIP status, and usage of various services. It also includes their name and whether they were transported or not.'"
            ],
            "application/vnd.google.colaboratory.intrinsic+json": {
              "type": "string"
            }
          },
          "metadata": {},
          "execution_count": 92
        }
      ]
    },
    {
      "cell_type": "code",
      "source": [
        "chain = load_summarize_chain(batchedLLM, chain_type=\"map_reduce\",\n",
        "                             return_intermediate_steps=True)\n",
        "\n",
        "chain({\"input_documents\":docs},return_only_outputs=True)"
      ],
      "metadata": {
        "colab": {
          "base_uri": "https://localhost:8080/"
        },
        "id": "XZiUPqkZWO4-",
        "outputId": "93ae3741-d19f-4e71-bd31-87ab7266c973"
      },
      "execution_count": 94,
      "outputs": [
        {
          "output_type": "execute_result",
          "data": {
            "text/plain": [
              "{'intermediate_steps': [' This data set contains information about 12 passengers travelling to the TRAPPIST-1e planet, including their home planet, age, VIP status, and usage of various services such as room service, food court, shopping mall, spa, and VR deck. It also includes their name and whether they have been transported or not.'],\n",
              " 'output_text': ' This data set contains information about 12 passengers travelling to the TRAPPIST-1e planet, including their home planet, age, VIP status, and usage of various services. It also includes their name and whether they have been transported or not.'}"
            ]
          },
          "metadata": {},
          "execution_count": 94
        }
      ]
    },
    {
      "cell_type": "code",
      "source": [
        "chain = load_summarize_chain(batchedLLM, \n",
        "                             chain_type=\"refine\", \n",
        "                             return_intermediate_steps=True)\n",
        "\n",
        "chain({\"input_documents\": docs}, return_only_outputs=True)"
      ],
      "metadata": {
        "colab": {
          "base_uri": "https://localhost:8080/"
        },
        "id": "BkVYfn1dWpyD",
        "outputId": "461215f9-610a-4d67-ebd4-7d3be576c5a1"
      },
      "execution_count": 95,
      "outputs": [
        {
          "output_type": "execute_result",
          "data": {
            "text/plain": [
              "{'intermediate_steps': [' This data set contains information about 12 passengers travelling to the TRAPPIST-1e planet, including their home planet, age, VIP status, and services used. It also includes their name, cabin, and whether they were transported or not.'],\n",
              " 'output_text': ' This data set contains information about 12 passengers travelling to the TRAPPIST-1e planet, including their home planet, age, VIP status, and services used. It also includes their name, cabin, and whether they were transported or not.'}"
            ]
          },
          "metadata": {},
          "execution_count": 95
        }
      ]
    },
    {
      "cell_type": "code",
      "source": [
        "from langchain.chains import AnalyzeDocumentChain\n",
        "\n",
        "summary_chain = load_summarize_chain(batchedLLM, \n",
        "                             chain_type=\"map_reduce\")\n",
        "summarize = AnalyzeDocumentChain(combine_docs_chain=summary_chain)\n",
        "summarize.run(space)"
      ],
      "metadata": {
        "colab": {
          "base_uri": "https://localhost:8080/",
          "height": 54
        },
        "id": "kx0JSWNXbePv",
        "outputId": "c984b9d1-ca5f-4606-d113-37ceaa7c7a30"
      },
      "execution_count": 98,
      "outputs": [
        {
          "output_type": "execute_result",
          "data": {
            "text/plain": [
              "' This data set contains information about 12 passengers travelling to the TRAPPIST-1e planet, including their home planet, age, VIP status, services used, name, and transport status.'"
            ],
            "application/vnd.google.colaboratory.intrinsic+json": {
              "type": "string"
            }
          },
          "metadata": {},
          "execution_count": 98
        }
      ]
    },
    {
      "cell_type": "code",
      "source": [
        "from langchain.indexes import GraphIndexCreator\n",
        "\n",
        "index_graph = GraphIndexCreator(llm=fact_llm)"
      ],
      "metadata": {
        "id": "pomVPZgGda7s"
      },
      "execution_count": 101,
      "outputs": []
    },
    {
      "cell_type": "code",
      "source": [
        "graph = index_graph.from_text(space)"
      ],
      "metadata": {
        "id": "kjGtt_NQeCcB"
      },
      "execution_count": 102,
      "outputs": []
    },
    {
      "cell_type": "code",
      "source": [
        "graph.get_triples()"
      ],
      "metadata": {
        "colab": {
          "base_uri": "https://localhost:8080/"
        },
        "id": "8XizPC7seCSG",
        "outputId": "93f28f77-6272-4cda-a267-9f6cf888241a"
      },
      "execution_count": 103,
      "outputs": [
        {
          "output_type": "execute_result",
          "data": {
            "text/plain": [
              "[('HomePlanet', 'Europa', 'is'),\n",
              " ('Europa', 'HomePlanet', 'is a'),\n",
              " ('CryoSleep', 'False', 'is'),\n",
              " ('False', 'CryoSleep)<', 'is a'),\n",
              " ('Cabin', 'B/0/P', 'is'),\n",
              " ('Destination', 'TRAPPIST-1e', 'is'),\n",
              " ('TRAPPIST-1e', 'Destination', 'is a'),\n",
              " ('Age', '39.0', 'is'),\n",
              " ('VIP', 'False', 'is'),\n",
              " ('RoomService', '0.0', 'is'),\n",
              " ('FoodCourt', '0.0', 'is'),\n",
              " ('ShoppingMall', '0.0', 'is'),\n",
              " ('Spa', '0.0', 'is'),\n",
              " ('VRDeck', '0.0', 'is'),\n",
              " ('Name', 'Maham Ofracculy', 'is'),\n",
              " ('Transported', 'False', 'is'),\n",
              " ('Earth', 'HomePlanet', 'is a'),\n",
              " ('55 Cancri e', 'Destination', 'is a'),\n",
              " ('PSO J318.5-22', 'Destination', 'is a')]"
            ]
          },
          "metadata": {},
          "execution_count": 103
        }
      ]
    },
    {
      "cell_type": "code",
      "source": [
        "graph.write_to_gml(\"space_short.gml\")"
      ],
      "metadata": {
        "id": "tGaVkMu4eZJh"
      },
      "execution_count": 104,
      "outputs": []
    },
    {
      "cell_type": "code",
      "source": [
        "from langchain.indexes.graph import NetworkxEntityGraph\n",
        "\n",
        "load_graph = NetworkxEntityGraph.from_gml(\"space_short.gml\")"
      ],
      "metadata": {
        "id": "yGNZGUqSex3H"
      },
      "execution_count": 105,
      "outputs": []
    },
    {
      "cell_type": "code",
      "source": [
        "load_graph.get_triples()"
      ],
      "metadata": {
        "colab": {
          "base_uri": "https://localhost:8080/"
        },
        "id": "Wei76IqQexr4",
        "outputId": "710d19db-075b-4330-da9f-2554fd7042e0"
      },
      "execution_count": 108,
      "outputs": [
        {
          "output_type": "execute_result",
          "data": {
            "text/plain": [
              "[('HomePlanet', 'Europa', 'is'),\n",
              " ('Europa', 'HomePlanet', 'is a'),\n",
              " ('CryoSleep', 'False', 'is'),\n",
              " ('False', 'CryoSleep)<', 'is a'),\n",
              " ('Cabin', 'B/0/P', 'is'),\n",
              " ('Destination', 'TRAPPIST-1e', 'is'),\n",
              " ('TRAPPIST-1e', 'Destination', 'is a'),\n",
              " ('Age', '39.0', 'is'),\n",
              " ('VIP', 'False', 'is'),\n",
              " ('RoomService', '0.0', 'is'),\n",
              " ('FoodCourt', '0.0', 'is'),\n",
              " ('ShoppingMall', '0.0', 'is'),\n",
              " ('Spa', '0.0', 'is'),\n",
              " ('VRDeck', '0.0', 'is'),\n",
              " ('Name', 'Maham Ofracculy', 'is'),\n",
              " ('Transported', 'False', 'is'),\n",
              " ('Earth', 'HomePlanet', 'is a'),\n",
              " ('55 Cancri e', 'Destination', 'is a'),\n",
              " ('PSO J318.5-22', 'Destination', 'is a')]"
            ]
          },
          "metadata": {},
          "execution_count": 108
        }
      ]
    },
    {
      "cell_type": "code",
      "source": [],
      "metadata": {
        "id": "KhIjDfUrexdr"
      },
      "execution_count": null,
      "outputs": []
    },
    {
      "cell_type": "markdown",
      "source": [
        "# We can do all of these with chatVDBQ also. \n",
        "https://langchain.readthedocs.io/en/latest/modules/indexes/chain_examples/chat_vector_db.html"
      ],
      "metadata": {
        "id": "F-bcWlIBbTzl"
      }
    }
  ]
}