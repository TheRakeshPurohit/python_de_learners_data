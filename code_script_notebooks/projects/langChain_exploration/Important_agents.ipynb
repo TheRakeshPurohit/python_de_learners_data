{
  "nbformat": 4,
  "nbformat_minor": 0,
  "metadata": {
    "colab": {
      "provenance": []
    },
    "kernelspec": {
      "name": "python3",
      "display_name": "Python 3"
    },
    "language_info": {
      "name": "python"
    }
  },
  "cells": [
    {
      "cell_type": "code",
      "execution_count": null,
      "metadata": {
        "id": "6hJhhPPF_nX8"
      },
      "outputs": [],
      "source": [
        "!pip install langchain[all] chromadb\n",
        "!pip install configparser"
      ]
    },
    {
      "cell_type": "code",
      "source": [
        "import configparser\n",
        "api_config = configparser.ConfigParser()\n",
        "api_config.read_file(open('apidata.config'))"
      ],
      "metadata": {
        "id": "qug7p5bkPwWV"
      },
      "execution_count": 4,
      "outputs": []
    },
    {
      "cell_type": "code",
      "source": [
        "import os\n",
        "os.environ['OPENAI_API_KEY'] = api_config[\"OPENAI\"][\"KEY\"]"
      ],
      "metadata": {
        "id": "vo5o9wJa_yxh"
      },
      "execution_count": 5,
      "outputs": []
    },
    {
      "cell_type": "code",
      "source": [
        "from langchain.agents import create_pandas_dataframe_agent\n",
        "\n",
        "from langchain.llms import OpenAI\n",
        "\n",
        "import pandas as pd"
      ],
      "metadata": {
        "id": "HOmNoB8KRt7b"
      },
      "execution_count": 6,
      "outputs": []
    },
    {
      "cell_type": "code",
      "source": [
        "spacedf = pd.read_csv('/content/space_shortened.csv')"
      ],
      "metadata": {
        "id": "FhOg9EJYRtz6"
      },
      "execution_count": 8,
      "outputs": []
    },
    {
      "cell_type": "code",
      "source": [
        "fact_llm = OpenAI(temperature=0)\n",
        "\n",
        "spagent = create_pandas_dataframe_agent(fact_llm, spacedf,verbose=True)"
      ],
      "metadata": {
        "id": "1Hz7O103Rtxc"
      },
      "execution_count": 9,
      "outputs": []
    },
    {
      "cell_type": "code",
      "source": [
        "spagent.run(\"How many rows are there?\")"
      ],
      "metadata": {
        "colab": {
          "base_uri": "https://localhost:8080/",
          "height": 237
        },
        "id": "NinhEjYoRtr-",
        "outputId": "a82d5c17-5c02-445e-85d6-0ee272bb31a0"
      },
      "execution_count": null,
      "outputs": [
        {
          "output_type": "stream",
          "name": "stdout",
          "text": [
            "\n",
            "\n",
            "\u001b[1m> Entering new AgentExecutor chain...\u001b[0m\n",
            "\u001b[32;1m\u001b[1;3mThought: I need to count the number of rows\n",
            "Action: python_repl_ast\n",
            "Action Input: len(df)\u001b[0m\n",
            "Observation: \u001b[36;1m\u001b[1;3m16\u001b[0m\n",
            "Thought:\u001b[32;1m\u001b[1;3m I now know the final answer\n",
            "Final Answer: 16\u001b[0m\n",
            "\n",
            "\u001b[1m> Finished chain.\u001b[0m\n"
          ]
        },
        {
          "output_type": "execute_result",
          "data": {
            "text/plain": [
              "'16'"
            ],
            "application/vnd.google.colaboratory.intrinsic+json": {
              "type": "string"
            }
          },
          "metadata": {},
          "execution_count": 9
        }
      ]
    },
    {
      "cell_type": "code",
      "source": [
        "spagent.run(\"Split the Name column into First and last name, which lastname has highest frequency?\")"
      ],
      "metadata": {
        "colab": {
          "base_uri": "https://localhost:8080/",
          "height": 294
        },
        "id": "EXIdNsslRtlX",
        "outputId": "0806f1ff-66f8-476d-8869-6c592fd66659"
      },
      "execution_count": null,
      "outputs": [
        {
          "output_type": "stream",
          "name": "stdout",
          "text": [
            "\n",
            "\n",
            "\u001b[1m> Entering new AgentExecutor chain...\u001b[0m\n",
            "\u001b[32;1m\u001b[1;3mThought: I need to split the Name column and then count the frequency of each lastname\n",
            "Action: python_repl_ast\n",
            "Action Input: df['Name'].str.split(' ', expand=True).rename(columns={0:'FirstName', 1:'LastName'}).groupby('LastName').size().sort_values(ascending=False).head(1)\u001b[0m\n",
            "Observation: \u001b[36;1m\u001b[1;3mLastName\n",
            "Flatic    3\n",
            "dtype: int64\u001b[0m\n",
            "Thought:\u001b[32;1m\u001b[1;3m I now know the final answer\n",
            "Final Answer: Flatic\u001b[0m\n",
            "\n",
            "\u001b[1m> Finished chain.\u001b[0m\n"
          ]
        },
        {
          "output_type": "execute_result",
          "data": {
            "text/plain": [
              "'Flatic'"
            ],
            "application/vnd.google.colaboratory.intrinsic+json": {
              "type": "string"
            }
          },
          "metadata": {},
          "execution_count": 15
        }
      ]
    },
    {
      "cell_type": "code",
      "source": [
        "name_df = spacedf['Name'].str.split(' ', expand=True).rename(columns={0:'FirstName', 1:'LastName'})"
      ],
      "metadata": {
        "id": "dSbydqrZRtbG"
      },
      "execution_count": null,
      "outputs": []
    },
    {
      "cell_type": "code",
      "source": [
        "name_df['LastName'].value_counts()"
      ],
      "metadata": {
        "colab": {
          "base_uri": "https://localhost:8080/"
        },
        "id": "-qHxx9jDT8nQ",
        "outputId": "88f66b27-b6f4-4d14-d7df-573916d15f28"
      },
      "execution_count": null,
      "outputs": [
        {
          "output_type": "execute_result",
          "data": {
            "text/plain": [
              "Flatic         3\n",
              "Susent         2\n",
              "Jacostaffey    2\n",
              "Ofracculy      1\n",
              "Vines          1\n",
              "Santantines    1\n",
              "Hinetthews     1\n",
              "Beston         1\n",
              "Barne          1\n",
              "Baketton       1\n",
              "Bertsontry     1\n",
              "Pooles         1\n",
              "Name: LastName, dtype: int64"
            ]
          },
          "metadata": {},
          "execution_count": 14
        }
      ]
    },
    {
      "cell_type": "code",
      "source": [
        "spagent.run(\"Summarize the data into 50 words\")"
      ],
      "metadata": {
        "colab": {
          "base_uri": "https://localhost:8080/",
          "height": 661
        },
        "id": "iJkaqxQuULkU",
        "outputId": "02d6f5e7-5ba8-4464-e8bd-0f5f3ef92ff4"
      },
      "execution_count": null,
      "outputs": [
        {
          "output_type": "stream",
          "name": "stdout",
          "text": [
            "\n",
            "\n",
            "\u001b[1m> Entering new AgentExecutor chain...\u001b[0m\n",
            "\u001b[32;1m\u001b[1;3mThought: I need to look at the data and summarize it\n",
            "Action: python_repl_ast\n",
            "Action Input: df.describe()\u001b[0m\n",
            "Observation: \u001b[36;1m\u001b[1;3m             Age  RoomService   FoodCourt  ShoppingMall          Spa  \\\n",
            "count  16.000000    16.000000    16.00000     15.000000    16.000000   \n",
            "mean   33.437500    85.500000  1000.93750    215.466667   736.062500   \n",
            "std    11.512131   185.335372  1928.60172    363.000564  1793.858503   \n",
            "min    14.000000     0.000000     0.00000      0.000000     0.000000   \n",
            "25%    27.500000     0.000000     0.00000      0.000000     0.000000   \n",
            "50%    32.500000    20.000000    39.50000     17.000000     1.000000   \n",
            "75%    40.250000    50.500000  1051.25000    261.000000   355.500000   \n",
            "max    58.000000   719.000000  7295.00000   1123.000000  6715.000000   \n",
            "\n",
            "           VRDeck  \n",
            "count   15.000000  \n",
            "mean    37.066667  \n",
            "std     59.612399  \n",
            "min      0.000000  \n",
            "25%      0.000000  \n",
            "50%      2.000000  \n",
            "75%     46.500000  \n",
            "max    193.000000  \u001b[0m\n",
            "Thought:\u001b[32;1m\u001b[1;3m I now have a summary of the data\n",
            "Final Answer: The dataframe contains 16 passengers with information about their home planet, cryosleep status, cabin, destination, age, VIP status, room service, food court, shopping mall, spa, and VR deck. The average age of passengers is 33.4, with a standard deviation of 11.5. Room service, food court, shopping mall, spa, and VR deck all have a wide range of values, with the highest being 7295, 6715, 1123, and 193 respectively.\u001b[0m\n",
            "\n",
            "\u001b[1m> Finished chain.\u001b[0m\n"
          ]
        },
        {
          "output_type": "execute_result",
          "data": {
            "text/plain": [
              "'The dataframe contains 16 passengers with information about their home planet, cryosleep status, cabin, destination, age, VIP status, room service, food court, shopping mall, spa, and VR deck. The average age of passengers is 33.4, with a standard deviation of 11.5. Room service, food court, shopping mall, spa, and VR deck all have a wide range of values, with the highest being 7295, 6715, 1123, and 193 respectively.'"
            ],
            "application/vnd.google.colaboratory.intrinsic+json": {
              "type": "string"
            }
          },
          "metadata": {},
          "execution_count": 16
        }
      ]
    },
    {
      "cell_type": "code",
      "source": [
        "from langchain.agents import create_json_agent\n",
        "\n",
        "from langchain.agents.agent_toolkits import JsonToolkit\n",
        "\n",
        "from langchain.tools.json.tool import JsonSpec\n",
        "\n",
        "import json"
      ],
      "metadata": {
        "id": "DgJHs3MHUuv4"
      },
      "execution_count": 10,
      "outputs": []
    },
    {
      "cell_type": "code",
      "source": [
        "\n",
        "\n",
        "with open('/content/impressions.json') as imp:\n",
        "  data = json.load(imp)"
      ],
      "metadata": {
        "id": "RL2t3gdGUurE"
      },
      "execution_count": null,
      "outputs": []
    },
    {
      "cell_type": "code",
      "source": [
        "with open('/content/impressions.json') as chek:\n",
        "  print(len(chek.read()))"
      ],
      "metadata": {
        "colab": {
          "base_uri": "https://localhost:8080/"
        },
        "id": "fp_GYsFsWuOm",
        "outputId": "db72c3d1-55a5-4beb-b2f3-231eef427bf9"
      },
      "execution_count": null,
      "outputs": [
        {
          "output_type": "stream",
          "name": "stdout",
          "text": [
            "320900\n"
          ]
        }
      ]
    },
    {
      "cell_type": "code",
      "source": [
        "data.keys()"
      ],
      "metadata": {
        "colab": {
          "base_uri": "https://localhost:8080/"
        },
        "id": "0OFS8v0kWOzP",
        "outputId": "b8ecf6e8-115a-4bd7-e6fa-f131cb3a4e8d"
      },
      "execution_count": null,
      "outputs": [
        {
          "output_type": "execute_result",
          "data": {
            "text/plain": [
              "dict_keys(['impressions'])"
            ]
          },
          "metadata": {},
          "execution_count": 23
        }
      ]
    },
    {
      "cell_type": "code",
      "source": [
        "data['impressions'][0].keys()"
      ],
      "metadata": {
        "colab": {
          "base_uri": "https://localhost:8080/"
        },
        "id": "ajYPyma-Uuni",
        "outputId": "eba2d91e-ea55-44c3-fc7a-41d9006e2909"
      },
      "execution_count": null,
      "outputs": [
        {
          "output_type": "execute_result",
          "data": {
            "text/plain": [
              "dict_keys(['impid', 'aid', 'name'])"
            ]
          },
          "metadata": {},
          "execution_count": 22
        }
      ]
    },
    {
      "cell_type": "code",
      "source": [
        "#data used to create jsonspec\n",
        "imp_json_spec = JsonSpec(dict_=data, max_value_length=4000)\n",
        "#toolkit uses the spec\n",
        "imp_json_toolkit = JsonToolkit(spec=imp_json_spec)\n",
        "#agent\n",
        "imp_agent = create_json_agent(\n",
        "    llm=OpenAI(temperature=0),\n",
        "    toolkit=imp_json_toolkit,\n",
        "    verbose=True\n",
        ")"
      ],
      "metadata": {
        "id": "o3DCfdfaUujp"
      },
      "execution_count": null,
      "outputs": []
    },
    {
      "cell_type": "code",
      "source": [
        "query1 = \"How many impressions are there?\"\n",
        "\n",
        "imp_agent.run(query1)"
      ],
      "metadata": {
        "colab": {
          "base_uri": "https://localhost:8080/",
          "height": 312
        },
        "id": "8MT2yXQqUud-",
        "outputId": "7b964d1f-bbfa-4724-e3b4-ba757231c82c"
      },
      "execution_count": null,
      "outputs": [
        {
          "output_type": "stream",
          "name": "stdout",
          "text": [
            "\n",
            "\n",
            "\u001b[1m> Entering new AgentExecutor chain...\u001b[0m\n",
            "\u001b[32;1m\u001b[1;3mAction: json_spec_list_keys\n",
            "Action Input: data\u001b[0m\n",
            "Observation: \u001b[36;1m\u001b[1;3m['impressions']\u001b[0m\n",
            "Thought:\u001b[32;1m\u001b[1;3m I should use json_spec_get_value to get the value of impressions\n",
            "Action: json_spec_get_value\n",
            "Action Input: data[\"impressions\"]\u001b[0m\n",
            "Observation: \u001b[33;1m\u001b[1;3m[{'impid': 4142, 'aid': 'Chris Redd', 'name': 'Barack Obama'}, {'impid': 4143, 'aid': 'Beck Bennett', 'name': 'Bruce Springsteen'}, {'impid': 4141, 'aid': 'Pete Davidson', 'name': 'Matt Gaetz'}, {'impid': 4057, 'aid': 'Chloe Fineman', 'name': 'Britney Spears'}, {'impid': 4140, 'aid': 'Chris Redd', 'name': 'Lil Nas X'}, {'impid': 2258, 'aid': 'Maya Rudolph', 'name': 'Beyoncé'}, {'impid': 4134, 'aid': 'Mikey Day', 'name': 'Sean Evans'}, {'impid': 4005, 'aid': 'Maya Rudolph', 'name': 'Kamala Harris'}, {'impid': 4135, 'aid': 'Martin Short', 'name': 'Doug Emhoff'}, {'impid': 4121, 'aid': 'Aidy Bryant', 'name': 'Ted Cruz'}, {'impid': 4136, 'aid': 'Chloe Fineman', 'name': 'Ella Emhoff'}, {'impid': 4096, 'aid': 'Alex Moffat', 'name': 'Joe Biden'}, {'impid': 4100, 'aid': 'Cecily Strong', 'name': 'Marjorie Taylor Greene'}, {'impid': 4137, 'aid': 'Kenan Thompson', 'name': 'Raphael Warnock'}, {'impid': 4138, 'aid': 'Kate McKinnon', 'name': 'Janet Yellen'}, {'impid': 4139, 'aid': 'Cecily Strong', 'name': 'Sidney Powell'}, {'impid': 4126, 'aid': 'Pete Davidson', 'name': 'Andrew Cuomo'}, {'impid': 4089, 'aid': 'Kate McKinnon', 'name': 'Dr. Anthony Fauci'}, {'impid': 4130, 'aid': 'Alex Moffat', 'name': 'Gavin Newsom'}, {'impid': 4131, 'aid': 'Cecily Strong', 'name': 'Gretchen Whitmer'}, {'impid': 3782, 'aid': 'Kenan Thompson', 'name': 'LaVar Ball'}, {'impid': 4093, 'aid': 'Pete Davidson', 'name': 'Machine Gun Kelly'}, {'impid': 4094, 'aid': 'Punkie Johnson', 'name': 'Brittani Warrick'}, {'impid': 4091, 'aid': 'Ego Nwodim', 'name': 'Dionne Warwick'}, {'impid': 4132, 'aid': 'Kenan Thompson', 'name': 'The Weeknd'}, {'impid': 4133, 'aid': 'Melissa Villasenor', 'name': 'Dua Lipa'}, {'impid': 4125, 'aid': 'Cecily Strong', 'name': 'Gina Carano'}, {'impid': 4127, 'aid': 'Rege-Jean Page', 'name': 'Kingsley Ben-Adir'}, {'impid': 3862, 'aid': 'Alex Moffat', 'name': 'Hugh Grant'}, {'impid': 4128, 'aid': 'Chris Redd', 'name': 'Daniel Kaluuya'}, {'impid': 3085, 'aid': 'Kenan Thompson', 'name': 'Ice Cube'}, {'impid': 4129, 'aid': 'Chloe Fineman', 'name': 'Phoebe Dynevor'}, {'impid': 3901, 'aid': 'Beck Bennett', 'name': 'Mitch McConnell'}, {'impid': 4123, 'aid': 'Pete Davidson', 'name': 'Michael van der Veen'}, {'impid': 4122, 'aid': 'Mikey Day', 'name': 'Bruce Castor'}, {'impid': 3653, 'aid': 'Kate McKinnon', 'name': 'Lindsey Graham'}, {'impid': 3942, 'aid': 'Alex Moffat', 'name': 'Tucker Carlson'}, {'impid': 4124, 'aid': 'Beck Bennett', 'name': 'Tom Brady'}, {'impid': 4115, 'aid': 'Beck Bennett', 'name': 'Boomer Esiason'}, {'impid': 4112, 'aid': 'Aidy Bryant', 'name': 'Andy Reid'}, {'impid': 4113, 'aid': 'Aidy Bryant', 'name': 'Bruce Arians'}, {'impid': 4117, 'aid': 'Mikey Day', 'name': 'Phil Simms'}, {'impid': 4114, 'aid': 'Alex Moffat', 'name': 'Bill Cowher'}, {'impid': 4116, 'aid': 'Chris Redd', 'name': 'Nate Burleson'}, {'impid': 3292, 'aid': 'Kenan Thompson', 'name': 'James Brown (II)'}, {'impid': 4118, 'aid': 'Bowen Yang', 'name': 'Psy'}, {'impid': 4119, 'aid': 'Kenan Thompson', 'name': 'Tim Williams'}, {'impid': 4120, 'aid': 'Chris Redd', 'name': 'Fred Williams'}, {'impid': 4099, 'aid': 'John Krasinski', 'name': 'Tom Brady'}, {'impid': 4101, 'aid': 'Mikey Day', 'name': 'Jack Dorsey'}, {'impid': 3875, 'aid': 'Alex Moffat', 'name': 'Mark Zuckerberg'}, {'impid': 2613, 'aid': 'Kenan Thompson', 'name': 'O.J. Simpson'}, {'impid': 4103, 'aid': 'Beck Bennett', 'name': 'David Harbour'}, {'impid': 4108, 'aid': 'Pete Davidson', 'name': 'Nicholas Braun'}, {'impid': 4105, 'aid': 'Chloe Fineman', 'name': 'Kim Cattrall'}, {'impid': 4065, 'aid': 'Chloe Fineman', 'name': 'Nicole Kidman'}, {'impid': 4106, 'aid': 'Kate McKinnon', 'name': 'Gillian Anderson'}, {'impid': 4102, 'aid': 'Alex Moffat', 'name': 'Kelsey Grammer'}, {'impid': 4104, 'aid': 'Cecily Strong', 'name': 'Julie Andrews'}, {'impid': 4107, 'aid': 'Melissa Villasenor', 'name': 'Anya Taylor-Joy'}, {'impid': 4081, 'aid': 'Beck Bennett', 'name': 'Mike Lindell'}, {'impid': 4109, 'aid': 'Bowen Yang', 'name': 'F...\u001b[0m\n",
            "Thought:\u001b[32;1m\u001b[1;3m I now know the final answer\n",
            "Final Answer: There are 43 impressions.\u001b[0m\n",
            "\n",
            "\u001b[1m> Finished chain.\u001b[0m\n"
          ]
        },
        {
          "output_type": "execute_result",
          "data": {
            "text/plain": [
              "'There are 43 impressions.'"
            ],
            "application/vnd.google.colaboratory.intrinsic+json": {
              "type": "string"
            }
          },
          "metadata": {},
          "execution_count": 27
        }
      ]
    },
    {
      "cell_type": "code",
      "source": [
        "query2 = \"What is the range of Impid?\"\n",
        "imp_agent.run(query2)"
      ],
      "metadata": {
        "colab": {
          "base_uri": "https://localhost:8080/",
          "height": 533
        },
        "id": "-PTwAohhUuUs",
        "outputId": "36fdaa95-d265-4d9f-a30b-9958fc25a524"
      },
      "execution_count": null,
      "outputs": [
        {
          "output_type": "stream",
          "name": "stdout",
          "text": [
            "\n",
            "\n",
            "\u001b[1m> Entering new AgentExecutor chain...\u001b[0m\n",
            "\u001b[32;1m\u001b[1;3mAction: json_spec_list_keys\n",
            "Action Input: data\u001b[0m\n",
            "Observation: \u001b[36;1m\u001b[1;3m['impressions']\u001b[0m\n",
            "Thought:\u001b[32;1m\u001b[1;3m I should look at the keys that exist in impressions to see what I have access to\n",
            "Action: json_spec_list_keys\n",
            "Action Input: data[\"impressions\"][0]\u001b[0m\n",
            "Observation: \u001b[36;1m\u001b[1;3mValueError('Value at path `data[\"impressions\"][0]` is not a dict, get the value directly.')\u001b[0m\n",
            "Thought:\u001b[32;1m\u001b[1;3m I should get the value at the path to see what I have access to\n",
            "Action: json_spec_get_value\n",
            "Action Input: data[\"impressions\"][0]\u001b[0m\n",
            "Observation: \u001b[33;1m\u001b[1;3m{'impid': 4142, 'aid': 'Chris Redd', 'name': 'Barack Obama'}\u001b[0m\n",
            "Thought:\u001b[32;1m\u001b[1;3m I should look at the keys that exist in the value to see what I have access to\n",
            "Action: json_spec_list_keys\n",
            "Action Input: data[\"impressions\"][0]\u001b[0m\n",
            "Observation: \u001b[36;1m\u001b[1;3mValueError('Value at path `data[\"impressions\"][0]` is not a dict, get the value directly.')\u001b[0m\n",
            "Thought:\u001b[32;1m\u001b[1;3m I should get the value at the path to see what I have access to\n",
            "Action: json_spec_get_value\n",
            "Action Input: data[\"impressions\"][0][\"impid\"]\u001b[0m\n",
            "Observation: \u001b[33;1m\u001b[1;3m4142\u001b[0m\n",
            "Thought:\u001b[32;1m\u001b[1;3m I now know the final answer\n",
            "Final Answer: The range of Impid is 4142.\u001b[0m\n",
            "\n",
            "\u001b[1m> Finished chain.\u001b[0m\n"
          ]
        },
        {
          "output_type": "execute_result",
          "data": {
            "text/plain": [
              "'The range of Impid is 4142.'"
            ],
            "application/vnd.google.colaboratory.intrinsic+json": {
              "type": "string"
            }
          },
          "metadata": {},
          "execution_count": 28
        }
      ]
    },
    {
      "cell_type": "code",
      "source": [
        "from langchain.callbacks import get_openai_callback\n",
        "\n",
        "with get_openai_callback() as cb:\n",
        "    result = fact_llm(\"Tell me a joke\")\n",
        "    print(cb.total_tokens)"
      ],
      "metadata": {
        "colab": {
          "base_uri": "https://localhost:8080/"
        },
        "id": "4bSYQywMXrq4",
        "outputId": "02bd8980-e16a-473d-aac1-9a2506420e35"
      },
      "execution_count": null,
      "outputs": [
        {
          "output_type": "stream",
          "name": "stdout",
          "text": [
            "24\n"
          ]
        }
      ]
    },
    {
      "cell_type": "code",
      "source": [
        "with get_openai_callback() as cb:\n",
        "  query3 = \"What names are available in aid?\"\n",
        "  imp_agent.run(query3)\n",
        "  print(cb.total_tokens)"
      ],
      "metadata": {
        "colab": {
          "base_uri": "https://localhost:8080/"
        },
        "id": "YezCfBaJXrnD",
        "outputId": "3a698bb1-2c4f-45aa-d0f9-c1858143000d"
      },
      "execution_count": null,
      "outputs": [
        {
          "output_type": "stream",
          "name": "stdout",
          "text": [
            "\n",
            "\n",
            "\u001b[1m> Entering new AgentExecutor chain...\u001b[0m\n",
            "\u001b[32;1m\u001b[1;3mAction: json_spec_list_keys\n",
            "Action Input: data\u001b[0m\n",
            "Observation: \u001b[36;1m\u001b[1;3m['impressions']\u001b[0m\n",
            "Thought:\u001b[32;1m\u001b[1;3m I should look at the keys inside impressions\n",
            "Action: json_spec_list_keys\n",
            "Action Input: data[\"impressions\"]\u001b[0m\n",
            "Observation: \u001b[36;1m\u001b[1;3mValueError('Value at path `data[\"impressions\"]` is not a dict, get the value directly.')\u001b[0m\n",
            "Thought:\u001b[32;1m\u001b[1;3m I should get the value of impressions\n",
            "Action: json_spec_get_value\n",
            "Action Input: data[\"impressions\"]\u001b[0m\n",
            "Observation: \u001b[33;1m\u001b[1;3m[{'impid': 4142, 'aid': 'Chris Redd', 'name': 'Barack Obama'}, {'impid': 4143, 'aid': 'Beck Bennett', 'name': 'Bruce Springsteen'}, {'impid': 4141, 'aid': 'Pete Davidson', 'name': 'Matt Gaetz'}, {'impid': 4057, 'aid': 'Chloe Fineman', 'name': 'Britney Spears'}, {'impid': 4140, 'aid': 'Chris Redd', 'name': 'Lil Nas X'}, {'impid': 2258, 'aid': 'Maya Rudolph', 'name': 'Beyoncé'}, {'impid': 4134, 'aid': 'Mikey Day', 'name': 'Sean Evans'}, {'impid': 4005, 'aid': 'Maya Rudolph', 'name': 'Kamala Harris'}, {'impid': 4135, 'aid': 'Martin Short', 'name': 'Doug Emhoff'}, {'impid': 4121, 'aid': 'Aidy Bryant', 'name': 'Ted Cruz'}, {'impid': 4136, 'aid': 'Chloe Fineman', 'name': 'Ella Emhoff'}, {'impid': 4096, 'aid': 'Alex Moffat', 'name': 'Joe Biden'}, {'impid': 4100, 'aid': 'Cecily Strong', 'name': 'Marjorie Taylor Greene'}, {'impid': 4137, 'aid': 'Kenan Thompson', 'name': 'Raphael Warnock'}, {'impid': 4138, 'aid': 'Kate McKinnon', 'name': 'Janet Yellen'}, {'impid': 4139, 'aid': 'Cecily Strong', 'name': 'Sidney Powell'}, {'impid': 4126, 'aid': 'Pete Davidson', 'name': 'Andrew Cuomo'}, {'impid': 4089, 'aid': 'Kate McKinnon', 'name': 'Dr. Anthony Fauci'}, {'impid': 4130, 'aid': 'Alex Moffat', 'name': 'Gavin Newsom'}, {'impid': 4131, 'aid': 'Cecily Strong', 'name': 'Gretchen Whitmer'}, {'impid': 3782, 'aid': 'Kenan Thompson', 'name': 'LaVar Ball'}, {'impid': 4093, 'aid': 'Pete Davidson', 'name': 'Machine Gun Kelly'}, {'impid': 4094, 'aid': 'Punkie Johnson', 'name': 'Brittani Warrick'}, {'impid': 4091, 'aid': 'Ego Nwodim', 'name': 'Dionne Warwick'}, {'impid': 4132, 'aid': 'Kenan Thompson', 'name': 'The Weeknd'}, {'impid': 4133, 'aid': 'Melissa Villasenor', 'name': 'Dua Lipa'}, {'impid': 4125, 'aid': 'Cecily Strong', 'name': 'Gina Carano'}, {'impid': 4127, 'aid': 'Rege-Jean Page', 'name': 'Kingsley Ben-Adir'}, {'impid': 3862, 'aid': 'Alex Moffat', 'name': 'Hugh Grant'}, {'impid': 4128, 'aid': 'Chris Redd', 'name': 'Daniel Kaluuya'}, {'impid': 3085, 'aid': 'Kenan Thompson', 'name': 'Ice Cube'}, {'impid': 4129, 'aid': 'Chloe Fineman', 'name': 'Phoebe Dynevor'}, {'impid': 3901, 'aid': 'Beck Bennett', 'name': 'Mitch McConnell'}, {'impid': 4123, 'aid': 'Pete Davidson', 'name': 'Michael van der Veen'}, {'impid': 4122, 'aid': 'Mikey Day', 'name': 'Bruce Castor'}, {'impid': 3653, 'aid': 'Kate McKinnon', 'name': 'Lindsey Graham'}, {'impid': 3942, 'aid': 'Alex Moffat', 'name': 'Tucker Carlson'}, {'impid': 4124, 'aid': 'Beck Bennett', 'name': 'Tom Brady'}, {'impid': 4115, 'aid': 'Beck Bennett', 'name': 'Boomer Esiason'}, {'impid': 4112, 'aid': 'Aidy Bryant', 'name': 'Andy Reid'}, {'impid': 4113, 'aid': 'Aidy Bryant', 'name': 'Bruce Arians'}, {'impid': 4117, 'aid': 'Mikey Day', 'name': 'Phil Simms'}, {'impid': 4114, 'aid': 'Alex Moffat', 'name': 'Bill Cowher'}, {'impid': 4116, 'aid': 'Chris Redd', 'name': 'Nate Burleson'}, {'impid': 3292, 'aid': 'Kenan Thompson', 'name': 'James Brown (II)'}, {'impid': 4118, 'aid': 'Bowen Yang', 'name': 'Psy'}, {'impid': 4119, 'aid': 'Kenan Thompson', 'name': 'Tim Williams'}, {'impid': 4120, 'aid': 'Chris Redd', 'name': 'Fred Williams'}, {'impid': 4099, 'aid': 'John Krasinski', 'name': 'Tom Brady'}, {'impid': 4101, 'aid': 'Mikey Day', 'name': 'Jack Dorsey'}, {'impid': 3875, 'aid': 'Alex Moffat', 'name': 'Mark Zuckerberg'}, {'impid': 2613, 'aid': 'Kenan Thompson', 'name': 'O.J. Simpson'}, {'impid': 4103, 'aid': 'Beck Bennett', 'name': 'David Harbour'}, {'impid': 4108, 'aid': 'Pete Davidson', 'name': 'Nicholas Braun'}, {'impid': 4105, 'aid': 'Chloe Fineman', 'name': 'Kim Cattrall'}, {'impid': 4065, 'aid': 'Chloe Fineman', 'name': 'Nicole Kidman'}, {'impid': 4106, 'aid': 'Kate McKinnon', 'name': 'Gillian Anderson'}, {'impid': 4102, 'aid': 'Alex Moffat', 'name': 'Kelsey Grammer'}, {'impid': 4104, 'aid': 'Cecily Strong', 'name': 'Julie Andrews'}, {'impid': 4107, 'aid': 'Melissa Villasenor', 'name': 'Anya Taylor-Joy'}, {'impid': 4081, 'aid': 'Beck Bennett', 'name': 'Mike Lindell'}, {'impid': 4109, 'aid': 'Bowen Yang', 'name': 'F...\u001b[0m\n",
            "Thought:\u001b[32;1m\u001b[1;3m I now know the final answer\n",
            "Final Answer: Chris Redd, Beck Bennett, Pete Davidson, Chloe Fineman, Maya Rudolph, Mikey Day, Alex Moffat, Aidy Bryant, Kenan Thompson, Kate McKinnon, Punkie Johnson, Ego Nwodim, Martin Short, Melissa Villasenor, Rege-Jean Page, John Krasinski, Bowen Yang\u001b[0m\n",
            "\n",
            "\u001b[1m> Finished chain.\u001b[0m\n",
            "4792\n"
          ]
        }
      ]
    },
    {
      "cell_type": "code",
      "source": [
        "from langchain import PromptTemplate, HuggingFaceHub, LLMChain\n",
        "\n",
        "template = \"\"\"Question: {question}\n",
        "\n",
        "Answer: Let's think step by step.\"\"\"\n",
        "\n",
        "prompt = PromptTemplate(template=template, input_variables=[\"question\"])"
      ],
      "metadata": {
        "id": "EEIWujcxXri-"
      },
      "execution_count": null,
      "outputs": []
    },
    {
      "cell_type": "code",
      "source": [
        "hugllm=HuggingFaceHub(repo_id=\"google/flan-t5-xl\", \n",
        "                   model_kwargs={\"temperature\":0,\n",
        "                                 \"max_length\":64})"
      ],
      "metadata": {
        "id": "MMqkyB0ghhi-"
      },
      "execution_count": null,
      "outputs": []
    },
    {
      "cell_type": "code",
      "source": [
        "llm_chain = LLMChain(prompt=prompt,llm=hugllm)\n",
        "\n",
        "question = \"What NFL team won the Super Bowl in the year Justin Beiber was born?\"\n",
        "\n",
        "print(llm_chain.run(question))"
      ],
      "metadata": {
        "colab": {
          "base_uri": "https://localhost:8080/"
        },
        "id": "yPqviXj9XrX_",
        "outputId": "b7fe1be9-18b5-45d2-b385-e70987588e71"
      },
      "execution_count": null,
      "outputs": [
        {
          "output_type": "stream",
          "name": "stdout",
          "text": [
            "The Seattle Seahawks won the Super Bowl in 2010. Justin Beiber was born in 2010. The final answer: Seattle Seahawks.\n"
          ]
        }
      ]
    },
    {
      "cell_type": "code",
      "source": [
        "sp_hug_agent = create_pandas_dataframe_agent(hugllm, \n",
        "                                        spacedf,\n",
        "                                        verbose=True)"
      ],
      "metadata": {
        "id": "5KsgGF3bXrSo"
      },
      "execution_count": null,
      "outputs": []
    },
    {
      "cell_type": "code",
      "source": [
        "sp_hug_agent.run(\"How many rows are there?\")"
      ],
      "metadata": {
        "id": "chHvhZkdXrJV"
      },
      "execution_count": null,
      "outputs": []
    },
    {
      "cell_type": "code",
      "source": [
        "print(llm_chain.run(\"Help in resolving the error. ValueError: Could not parse LLM output: Answer: 0\"))"
      ],
      "metadata": {
        "colab": {
          "base_uri": "https://localhost:8080/"
        },
        "id": "-yOozZWwi1Wk",
        "outputId": "282918d8-ed48-4157-8f5e-7343142653e0"
      },
      "execution_count": null,
      "outputs": [
        {
          "output_type": "stream",
          "name": "stdout",
          "text": [
            "The LLM file is not valid. The LLM file is not a valid XML file. The XML file is not a valid XML file. The XML file is not a valid XML file. The XML file is not a valid \n"
          ]
        }
      ]
    },
    {
      "cell_type": "code",
      "source": [],
      "metadata": {
        "id": "Pi0svrU9L_xO"
      },
      "execution_count": null,
      "outputs": []
    },
    {
      "cell_type": "markdown",
      "source": [
        "OpenAPI spec using the Language model"
      ],
      "metadata": {
        "id": "SjyicQbXMEcr"
      }
    },
    {
      "cell_type": "code",
      "source": [
        "from langchain.agents import create_openapi_agent\n",
        "from langchain.agents.agent_toolkits import OpenAPIToolkit\n",
        "from langchain.requests import RequestsWrapper"
      ],
      "metadata": {
        "id": "iE5vMngHLfD1"
      },
      "execution_count": 11,
      "outputs": []
    },
    {
      "cell_type": "code",
      "source": [
        "with open(\"/content/pyrite_openapi.json\") as f:\n",
        "    pyrite = json.load(f)\n",
        "json_spec=JsonSpec(dict_=pyrite, max_value_length=4000)"
      ],
      "metadata": {
        "id": "HQqe3uQ7LfBR"
      },
      "execution_count": 12,
      "outputs": []
    },
    {
      "cell_type": "code",
      "source": [
        "requests_wrapper=RequestsWrapper()\n",
        "openapi_toolkit = OpenAPIToolkit.from_llm(OpenAI(temperature=0), \n",
        "                                          json_spec, \n",
        "                                          requests_wrapper, \n",
        "                                          verbose=True)"
      ],
      "metadata": {
        "id": "_NA9aXGJLe-z"
      },
      "execution_count": 13,
      "outputs": []
    },
    {
      "cell_type": "code",
      "source": [
        "openapi_agent_executor = create_openapi_agent(\n",
        "    llm=OpenAI(temperature=0),\n",
        "    toolkit=openapi_toolkit,\n",
        "    verbose=True\n",
        ")"
      ],
      "metadata": {
        "id": "CiI2bg4cLe7u"
      },
      "execution_count": 14,
      "outputs": []
    },
    {
      "cell_type": "code",
      "source": [
        "openapi_agent_executor.run(\"Make a get requests to pyrite-ethereal-soccer.glitch.me /deliveryd endpoint\")"
      ],
      "metadata": {
        "colab": {
          "base_uri": "https://localhost:8080/",
          "height": 1000
        },
        "id": "1mSjjmrULe5i",
        "outputId": "370b8efe-beea-4512-fc3c-2733ee6af1ac"
      },
      "execution_count": 16,
      "outputs": [
        {
          "output_type": "stream",
          "name": "stdout",
          "text": [
            "\n",
            "\n",
            "\u001b[1m> Entering new AgentExecutor chain...\u001b[0m\n",
            "\u001b[32;1m\u001b[1;3mAction: json_explorer\n",
            "Action Input: What is the base url for the API?\u001b[0m\n",
            "\n",
            "\u001b[1m> Entering new AgentExecutor chain...\u001b[0m\n",
            "\u001b[32;1m\u001b[1;3mAction: json_spec_list_keys\n",
            "Action Input: data\u001b[0m\n",
            "Observation: \u001b[36;1m\u001b[1;3m['openapi', 'info', 'paths', 'components']\u001b[0m\n",
            "Thought:\u001b[32;1m\u001b[1;3m I should look at the info key to see if I can find the base url\n",
            "Action: json_spec_get_value\n",
            "Action Input: data[\"info\"][\"baseUrl\"]\u001b[0m\n",
            "Observation: \u001b[33;1m\u001b[1;3mKeyError('baseUrl')\u001b[0m\n",
            "Thought:\u001b[32;1m\u001b[1;3m I should look at the info key to see if I can find the basePath\n",
            "Action: json_spec_get_value\n",
            "Action Input: data[\"info\"][\"basePath\"]\u001b[0m\n",
            "Observation: \u001b[33;1m\u001b[1;3mKeyError('basePath')\u001b[0m\n",
            "Thought:\u001b[32;1m\u001b[1;3m I should look at the paths key to see if I can find the base url\n",
            "Action: json_spec_list_keys\n",
            "Action Input: data[\"paths\"]\u001b[0m\n",
            "Observation: \u001b[36;1m\u001b[1;3m['/user/create_user', '/user/v1/show_users', '/user/id/{user_id}', '/user/login', '/user/validate', '/biker/v1/bikers', '/biker/v1/deliveryd', '/biker/v1/pickupd', '/biker/v1/features', '/biker/v1/predict', '/']\u001b[0m\n",
            "Thought:\u001b[32;1m\u001b[1;3m I now know the final answer\n",
            "Final Answer: The base url for the API is \"/\".\u001b[0m\n",
            "\n",
            "\u001b[1m> Finished chain.\u001b[0m\n",
            "\n",
            "Observation: \u001b[33;1m\u001b[1;3mThe base url for the API is \"/\".\u001b[0m\n",
            "Thought:\u001b[32;1m\u001b[1;3m I should find the path for the /deliveryd endpoint.\n",
            "Action: json_explorer\n",
            "Action Input: What is the path for the /deliveryd endpoint?\u001b[0m\n",
            "\n",
            "\u001b[1m> Entering new AgentExecutor chain...\u001b[0m\n",
            "\u001b[32;1m\u001b[1;3mAction: json_spec_list_keys\n",
            "Action Input: data\u001b[0m\n",
            "Observation: \u001b[36;1m\u001b[1;3m['openapi', 'info', 'paths', 'components']\u001b[0m\n",
            "Thought:\u001b[32;1m\u001b[1;3m I should look at the paths key to see what endpoints exist\n",
            "Action: json_spec_list_keys\n",
            "Action Input: data[\"paths\"]\u001b[0m\n",
            "Observation: \u001b[36;1m\u001b[1;3m['/user/create_user', '/user/v1/show_users', '/user/id/{user_id}', '/user/login', '/user/validate', '/biker/v1/bikers', '/biker/v1/deliveryd', '/biker/v1/pickupd', '/biker/v1/features', '/biker/v1/predict', '/']\u001b[0m\n",
            "Thought:\u001b[32;1m\u001b[1;3m I now know the path for the /deliveryd endpoint\n",
            "Final Answer: data[\"paths\"]['/biker/v1/deliveryd']\u001b[0m\n",
            "\n",
            "\u001b[1m> Finished chain.\u001b[0m\n",
            "\n",
            "Observation: \u001b[33;1m\u001b[1;3mdata[\"paths\"]['/biker/v1/deliveryd']\u001b[0m\n",
            "Thought:\u001b[32;1m\u001b[1;3m I should find the required parameters for the GET request.\n",
            "Action: json_explorer\n",
            "Action Input: What are the required query parameters for a GET request to the /deliveryd endpoint?\u001b[0m\n",
            "\n",
            "\u001b[1m> Entering new AgentExecutor chain...\u001b[0m\n",
            "\u001b[32;1m\u001b[1;3mAction: json_spec_list_keys\n",
            "Action Input: data\u001b[0m\n",
            "Observation: \u001b[36;1m\u001b[1;3m['openapi', 'info', 'paths', 'components']\u001b[0m\n",
            "Thought:\u001b[32;1m\u001b[1;3m I should look at the paths key to see what endpoints exist\n",
            "Action: json_spec_list_keys\n",
            "Action Input: data[\"paths\"]\u001b[0m\n",
            "Observation: \u001b[36;1m\u001b[1;3m['/user/create_user', '/user/v1/show_users', '/user/id/{user_id}', '/user/login', '/user/validate', '/biker/v1/bikers', '/biker/v1/deliveryd', '/biker/v1/pickupd', '/biker/v1/features', '/biker/v1/predict', '/']\u001b[0m\n",
            "Thought:\u001b[32;1m\u001b[1;3m I should look at the /deliveryd endpoint to see what query parameters are required\n",
            "Action: json_spec_list_keys\n",
            "Action Input: data[\"paths\"][\"/biker/v1/deliveryd\"]\u001b[0m\n",
            "Observation: \u001b[36;1m\u001b[1;3m['get']\u001b[0m\n",
            "Thought:\u001b[32;1m\u001b[1;3m I should look at the get key to see what query parameters are required\n",
            "Action: json_spec_list_keys\n",
            "Action Input: data[\"paths\"][\"/biker/v1/deliveryd\"][\"get\"]\u001b[0m\n",
            "Observation: \u001b[36;1m\u001b[1;3m['tags', 'summary', 'operationId', 'responses']\u001b[0m\n",
            "Thought:\u001b[32;1m\u001b[1;3m I should look at the parameters key to see what query parameters are required\n",
            "Action: json_spec_list_keys\n",
            "Action Input: data[\"paths\"][\"/biker/v1/deliveryd\"][\"get\"][\"parameters\"]\u001b[0m\n",
            "Observation: \u001b[36;1m\u001b[1;3mKeyError('parameters')\u001b[0m\n",
            "Thought:\u001b[32;1m\u001b[1;3m I should look at the responses key to see what query parameters are required\n",
            "Action: json_spec_list_keys\n",
            "Action Input: data[\"paths\"][\"/biker/v1/deliveryd\"][\"get\"][\"responses\"]\u001b[0m\n",
            "Observation: \u001b[36;1m\u001b[1;3m['200']\u001b[0m\n",
            "Thought:\u001b[32;1m\u001b[1;3m I should look at the 200 key to see what query parameters are required\n",
            "Action: json_spec_list_keys\n",
            "Action Input: data[\"paths\"][\"/biker/v1/deliveryd\"][\"get\"][\"responses\"][\"200\"]\u001b[0m\n",
            "Observation: \u001b[36;1m\u001b[1;3mKeyError(200)\u001b[0m\n",
            "Thought:\u001b[32;1m\u001b[1;3m I should look at the operationId key to see what query parameters are required\n",
            "Action: json_spec_list_keys\n",
            "Action Input: data[\"paths\"][\"/biker/v1/deliveryd\"][\"get\"][\"operationId\"]\u001b[0m\n",
            "Observation: \u001b[36;1m\u001b[1;3mValueError('Value at path `data[\"paths\"][\"/biker/v1/deliveryd\"][\"get\"][\"operationId\"]` is not a dict, get the value directly.')\u001b[0m\n",
            "Thought:\u001b[32;1m\u001b[1;3m I should look at the summary key to see what query parameters are required\n",
            "Action: json_spec_get_value\n",
            "Action Input: data[\"paths\"][\"/biker/v1/deliveryd\"][\"get\"][\"summary\"]\u001b[0m\n",
            "Observation: \u001b[33;1m\u001b[1;3mDelivery Detail\u001b[0m\n",
            "Thought:\u001b[32;1m\u001b[1;3m I should look at the tags key to see what query parameters are required\n",
            "Action: json_spec_get_value\n",
            "Action Input: data[\"paths\"][\"/biker/v1/deliveryd\"][\"get\"][\"tags\"]\u001b[0m\n",
            "Observation: \u001b[33;1m\u001b[1;3m['Analysis']\u001b[0m\n",
            "Thought:\u001b[32;1m\u001b[1;3m I now know the final answer\n",
            "Final Answer: The required query parameters for a GET request to the /deliveryd endpoint are 'Analysis'.\u001b[0m\n",
            "\n",
            "\u001b[1m> Finished chain.\u001b[0m\n",
            "\n",
            "Observation: \u001b[33;1m\u001b[1;3mThe required query parameters for a GET request to the /deliveryd endpoint are 'Analysis'.\u001b[0m\n",
            "Thought:\u001b[32;1m\u001b[1;3m I now know the information needed to make the request.\n",
            "Action: requests_get\n",
            "Action Input: pyrite-ethereal-soccer.glitch.me/deliveryd?Analysis=\u001b[0m"
          ]
        },
        {
          "output_type": "error",
          "ename": "MissingSchema",
          "evalue": "ignored",
          "traceback": [
            "\u001b[0;31m---------------------------------------------------------------------------\u001b[0m",
            "\u001b[0;31mMissingSchema\u001b[0m                             Traceback (most recent call last)",
            "\u001b[0;32m<ipython-input-16-79cff4de94ef>\u001b[0m in \u001b[0;36m<module>\u001b[0;34m\u001b[0m\n\u001b[0;32m----> 1\u001b[0;31m \u001b[0mopenapi_agent_executor\u001b[0m\u001b[0;34m.\u001b[0m\u001b[0mrun\u001b[0m\u001b[0;34m(\u001b[0m\u001b[0;34m\"Make a get requests to pyrite-ethereal-soccer.glitch.me /deliveryd endpoint\"\u001b[0m\u001b[0;34m)\u001b[0m\u001b[0;34m\u001b[0m\u001b[0;34m\u001b[0m\u001b[0m\n\u001b[0m",
            "\u001b[0;32m/usr/local/lib/python3.9/dist-packages/langchain/chains/base.py\u001b[0m in \u001b[0;36mrun\u001b[0;34m(self, *args, **kwargs)\u001b[0m\n\u001b[1;32m    211\u001b[0m             \u001b[0;32mif\u001b[0m \u001b[0mlen\u001b[0m\u001b[0;34m(\u001b[0m\u001b[0margs\u001b[0m\u001b[0;34m)\u001b[0m \u001b[0;34m!=\u001b[0m \u001b[0;36m1\u001b[0m\u001b[0;34m:\u001b[0m\u001b[0;34m\u001b[0m\u001b[0;34m\u001b[0m\u001b[0m\n\u001b[1;32m    212\u001b[0m                 \u001b[0;32mraise\u001b[0m \u001b[0mValueError\u001b[0m\u001b[0;34m(\u001b[0m\u001b[0;34m\"`run` supports only one positional argument.\"\u001b[0m\u001b[0;34m)\u001b[0m\u001b[0;34m\u001b[0m\u001b[0;34m\u001b[0m\u001b[0m\n\u001b[0;32m--> 213\u001b[0;31m             \u001b[0;32mreturn\u001b[0m \u001b[0mself\u001b[0m\u001b[0;34m(\u001b[0m\u001b[0margs\u001b[0m\u001b[0;34m[\u001b[0m\u001b[0;36m0\u001b[0m\u001b[0;34m]\u001b[0m\u001b[0;34m)\u001b[0m\u001b[0;34m[\u001b[0m\u001b[0mself\u001b[0m\u001b[0;34m.\u001b[0m\u001b[0moutput_keys\u001b[0m\u001b[0;34m[\u001b[0m\u001b[0;36m0\u001b[0m\u001b[0;34m]\u001b[0m\u001b[0;34m]\u001b[0m\u001b[0;34m\u001b[0m\u001b[0;34m\u001b[0m\u001b[0m\n\u001b[0m\u001b[1;32m    214\u001b[0m \u001b[0;34m\u001b[0m\u001b[0m\n\u001b[1;32m    215\u001b[0m         \u001b[0;32mif\u001b[0m \u001b[0mkwargs\u001b[0m \u001b[0;32mand\u001b[0m \u001b[0;32mnot\u001b[0m \u001b[0margs\u001b[0m\u001b[0;34m:\u001b[0m\u001b[0;34m\u001b[0m\u001b[0;34m\u001b[0m\u001b[0m\n",
            "\u001b[0;32m/usr/local/lib/python3.9/dist-packages/langchain/chains/base.py\u001b[0m in \u001b[0;36m__call__\u001b[0;34m(self, inputs, return_only_outputs)\u001b[0m\n\u001b[1;32m    114\u001b[0m         \u001b[0;32mexcept\u001b[0m \u001b[0;34m(\u001b[0m\u001b[0mKeyboardInterrupt\u001b[0m\u001b[0;34m,\u001b[0m \u001b[0mException\u001b[0m\u001b[0;34m)\u001b[0m \u001b[0;32mas\u001b[0m \u001b[0me\u001b[0m\u001b[0;34m:\u001b[0m\u001b[0;34m\u001b[0m\u001b[0;34m\u001b[0m\u001b[0m\n\u001b[1;32m    115\u001b[0m             \u001b[0mself\u001b[0m\u001b[0;34m.\u001b[0m\u001b[0mcallback_manager\u001b[0m\u001b[0;34m.\u001b[0m\u001b[0mon_chain_error\u001b[0m\u001b[0;34m(\u001b[0m\u001b[0me\u001b[0m\u001b[0;34m,\u001b[0m \u001b[0mverbose\u001b[0m\u001b[0;34m=\u001b[0m\u001b[0mself\u001b[0m\u001b[0;34m.\u001b[0m\u001b[0mverbose\u001b[0m\u001b[0;34m)\u001b[0m\u001b[0;34m\u001b[0m\u001b[0;34m\u001b[0m\u001b[0m\n\u001b[0;32m--> 116\u001b[0;31m             \u001b[0;32mraise\u001b[0m \u001b[0me\u001b[0m\u001b[0;34m\u001b[0m\u001b[0;34m\u001b[0m\u001b[0m\n\u001b[0m\u001b[1;32m    117\u001b[0m         \u001b[0mself\u001b[0m\u001b[0;34m.\u001b[0m\u001b[0mcallback_manager\u001b[0m\u001b[0;34m.\u001b[0m\u001b[0mon_chain_end\u001b[0m\u001b[0;34m(\u001b[0m\u001b[0moutputs\u001b[0m\u001b[0;34m,\u001b[0m \u001b[0mverbose\u001b[0m\u001b[0;34m=\u001b[0m\u001b[0mself\u001b[0m\u001b[0;34m.\u001b[0m\u001b[0mverbose\u001b[0m\u001b[0;34m)\u001b[0m\u001b[0;34m\u001b[0m\u001b[0;34m\u001b[0m\u001b[0m\n\u001b[1;32m    118\u001b[0m         \u001b[0;32mreturn\u001b[0m \u001b[0mself\u001b[0m\u001b[0;34m.\u001b[0m\u001b[0mprep_outputs\u001b[0m\u001b[0;34m(\u001b[0m\u001b[0minputs\u001b[0m\u001b[0;34m,\u001b[0m \u001b[0moutputs\u001b[0m\u001b[0;34m,\u001b[0m \u001b[0mreturn_only_outputs\u001b[0m\u001b[0;34m)\u001b[0m\u001b[0;34m\u001b[0m\u001b[0;34m\u001b[0m\u001b[0m\n",
            "\u001b[0;32m/usr/local/lib/python3.9/dist-packages/langchain/chains/base.py\u001b[0m in \u001b[0;36m__call__\u001b[0;34m(self, inputs, return_only_outputs)\u001b[0m\n\u001b[1;32m    111\u001b[0m         )\n\u001b[1;32m    112\u001b[0m         \u001b[0;32mtry\u001b[0m\u001b[0;34m:\u001b[0m\u001b[0;34m\u001b[0m\u001b[0;34m\u001b[0m\u001b[0m\n\u001b[0;32m--> 113\u001b[0;31m             \u001b[0moutputs\u001b[0m \u001b[0;34m=\u001b[0m \u001b[0mself\u001b[0m\u001b[0;34m.\u001b[0m\u001b[0m_call\u001b[0m\u001b[0;34m(\u001b[0m\u001b[0minputs\u001b[0m\u001b[0;34m)\u001b[0m\u001b[0;34m\u001b[0m\u001b[0;34m\u001b[0m\u001b[0m\n\u001b[0m\u001b[1;32m    114\u001b[0m         \u001b[0;32mexcept\u001b[0m \u001b[0;34m(\u001b[0m\u001b[0mKeyboardInterrupt\u001b[0m\u001b[0;34m,\u001b[0m \u001b[0mException\u001b[0m\u001b[0;34m)\u001b[0m \u001b[0;32mas\u001b[0m \u001b[0me\u001b[0m\u001b[0;34m:\u001b[0m\u001b[0;34m\u001b[0m\u001b[0;34m\u001b[0m\u001b[0m\n\u001b[1;32m    115\u001b[0m             \u001b[0mself\u001b[0m\u001b[0;34m.\u001b[0m\u001b[0mcallback_manager\u001b[0m\u001b[0;34m.\u001b[0m\u001b[0mon_chain_error\u001b[0m\u001b[0;34m(\u001b[0m\u001b[0me\u001b[0m\u001b[0;34m,\u001b[0m \u001b[0mverbose\u001b[0m\u001b[0;34m=\u001b[0m\u001b[0mself\u001b[0m\u001b[0;34m.\u001b[0m\u001b[0mverbose\u001b[0m\u001b[0;34m)\u001b[0m\u001b[0;34m\u001b[0m\u001b[0;34m\u001b[0m\u001b[0m\n",
            "\u001b[0;32m/usr/local/lib/python3.9/dist-packages/langchain/agents/agent.py\u001b[0m in \u001b[0;36m_call\u001b[0;34m(self, inputs)\u001b[0m\n\u001b[1;32m    503\u001b[0m         \u001b[0;31m# We now enter the agent loop (until it returns something).\u001b[0m\u001b[0;34m\u001b[0m\u001b[0;34m\u001b[0m\u001b[0m\n\u001b[1;32m    504\u001b[0m         \u001b[0;32mwhile\u001b[0m \u001b[0mself\u001b[0m\u001b[0;34m.\u001b[0m\u001b[0m_should_continue\u001b[0m\u001b[0;34m(\u001b[0m\u001b[0miterations\u001b[0m\u001b[0;34m)\u001b[0m\u001b[0;34m:\u001b[0m\u001b[0;34m\u001b[0m\u001b[0;34m\u001b[0m\u001b[0m\n\u001b[0;32m--> 505\u001b[0;31m             next_step_output = self._take_next_step(\n\u001b[0m\u001b[1;32m    506\u001b[0m                 \u001b[0mname_to_tool_map\u001b[0m\u001b[0;34m,\u001b[0m \u001b[0mcolor_mapping\u001b[0m\u001b[0;34m,\u001b[0m \u001b[0minputs\u001b[0m\u001b[0;34m,\u001b[0m \u001b[0mintermediate_steps\u001b[0m\u001b[0;34m\u001b[0m\u001b[0;34m\u001b[0m\u001b[0m\n\u001b[1;32m    507\u001b[0m             )\n",
            "\u001b[0;32m/usr/local/lib/python3.9/dist-packages/langchain/agents/agent.py\u001b[0m in \u001b[0;36m_take_next_step\u001b[0;34m(self, name_to_tool_map, color_mapping, inputs, intermediate_steps)\u001b[0m\n\u001b[1;32m    421\u001b[0m             \u001b[0mllm_prefix\u001b[0m \u001b[0;34m=\u001b[0m \u001b[0;34m\"\"\u001b[0m \u001b[0;32mif\u001b[0m \u001b[0mreturn_direct\u001b[0m \u001b[0;32melse\u001b[0m \u001b[0mself\u001b[0m\u001b[0;34m.\u001b[0m\u001b[0magent\u001b[0m\u001b[0;34m.\u001b[0m\u001b[0mllm_prefix\u001b[0m\u001b[0;34m\u001b[0m\u001b[0;34m\u001b[0m\u001b[0m\n\u001b[1;32m    422\u001b[0m             \u001b[0;31m# We then call the tool on the tool input to get an observation\u001b[0m\u001b[0;34m\u001b[0m\u001b[0;34m\u001b[0m\u001b[0m\n\u001b[0;32m--> 423\u001b[0;31m             observation = tool.run(\n\u001b[0m\u001b[1;32m    424\u001b[0m                 \u001b[0moutput\u001b[0m\u001b[0;34m.\u001b[0m\u001b[0mtool_input\u001b[0m\u001b[0;34m,\u001b[0m\u001b[0;34m\u001b[0m\u001b[0;34m\u001b[0m\u001b[0m\n\u001b[1;32m    425\u001b[0m                 \u001b[0mverbose\u001b[0m\u001b[0;34m=\u001b[0m\u001b[0mself\u001b[0m\u001b[0;34m.\u001b[0m\u001b[0mverbose\u001b[0m\u001b[0;34m,\u001b[0m\u001b[0;34m\u001b[0m\u001b[0;34m\u001b[0m\u001b[0m\n",
            "\u001b[0;32m/usr/local/lib/python3.9/dist-packages/langchain/tools/base.py\u001b[0m in \u001b[0;36mrun\u001b[0;34m(self, tool_input, verbose, start_color, color, **kwargs)\u001b[0m\n\u001b[1;32m     69\u001b[0m         \u001b[0;32mexcept\u001b[0m \u001b[0;34m(\u001b[0m\u001b[0mException\u001b[0m\u001b[0;34m,\u001b[0m \u001b[0mKeyboardInterrupt\u001b[0m\u001b[0;34m)\u001b[0m \u001b[0;32mas\u001b[0m \u001b[0me\u001b[0m\u001b[0;34m:\u001b[0m\u001b[0;34m\u001b[0m\u001b[0;34m\u001b[0m\u001b[0m\n\u001b[1;32m     70\u001b[0m             \u001b[0mself\u001b[0m\u001b[0;34m.\u001b[0m\u001b[0mcallback_manager\u001b[0m\u001b[0;34m.\u001b[0m\u001b[0mon_tool_error\u001b[0m\u001b[0;34m(\u001b[0m\u001b[0me\u001b[0m\u001b[0;34m,\u001b[0m \u001b[0mverbose\u001b[0m\u001b[0;34m=\u001b[0m\u001b[0mverbose\u001b[0m\u001b[0;34m)\u001b[0m\u001b[0;34m\u001b[0m\u001b[0;34m\u001b[0m\u001b[0m\n\u001b[0;32m---> 71\u001b[0;31m             \u001b[0;32mraise\u001b[0m \u001b[0me\u001b[0m\u001b[0;34m\u001b[0m\u001b[0;34m\u001b[0m\u001b[0m\n\u001b[0m\u001b[1;32m     72\u001b[0m         self.callback_manager.on_tool_end(\n\u001b[1;32m     73\u001b[0m             \u001b[0mobservation\u001b[0m\u001b[0;34m,\u001b[0m \u001b[0mverbose\u001b[0m\u001b[0;34m=\u001b[0m\u001b[0mverbose\u001b[0m\u001b[0;34m,\u001b[0m \u001b[0mcolor\u001b[0m\u001b[0;34m=\u001b[0m\u001b[0mcolor\u001b[0m\u001b[0;34m,\u001b[0m \u001b[0;34m**\u001b[0m\u001b[0mkwargs\u001b[0m\u001b[0;34m\u001b[0m\u001b[0;34m\u001b[0m\u001b[0m\n",
            "\u001b[0;32m/usr/local/lib/python3.9/dist-packages/langchain/tools/base.py\u001b[0m in \u001b[0;36mrun\u001b[0;34m(self, tool_input, verbose, start_color, color, **kwargs)\u001b[0m\n\u001b[1;32m     66\u001b[0m         )\n\u001b[1;32m     67\u001b[0m         \u001b[0;32mtry\u001b[0m\u001b[0;34m:\u001b[0m\u001b[0;34m\u001b[0m\u001b[0;34m\u001b[0m\u001b[0m\n\u001b[0;32m---> 68\u001b[0;31m             \u001b[0mobservation\u001b[0m \u001b[0;34m=\u001b[0m \u001b[0mself\u001b[0m\u001b[0;34m.\u001b[0m\u001b[0m_run\u001b[0m\u001b[0;34m(\u001b[0m\u001b[0mtool_input\u001b[0m\u001b[0;34m)\u001b[0m\u001b[0;34m\u001b[0m\u001b[0;34m\u001b[0m\u001b[0m\n\u001b[0m\u001b[1;32m     69\u001b[0m         \u001b[0;32mexcept\u001b[0m \u001b[0;34m(\u001b[0m\u001b[0mException\u001b[0m\u001b[0;34m,\u001b[0m \u001b[0mKeyboardInterrupt\u001b[0m\u001b[0;34m)\u001b[0m \u001b[0;32mas\u001b[0m \u001b[0me\u001b[0m\u001b[0;34m:\u001b[0m\u001b[0;34m\u001b[0m\u001b[0;34m\u001b[0m\u001b[0m\n\u001b[1;32m     70\u001b[0m             \u001b[0mself\u001b[0m\u001b[0;34m.\u001b[0m\u001b[0mcallback_manager\u001b[0m\u001b[0;34m.\u001b[0m\u001b[0mon_tool_error\u001b[0m\u001b[0;34m(\u001b[0m\u001b[0me\u001b[0m\u001b[0;34m,\u001b[0m \u001b[0mverbose\u001b[0m\u001b[0;34m=\u001b[0m\u001b[0mverbose\u001b[0m\u001b[0;34m)\u001b[0m\u001b[0;34m\u001b[0m\u001b[0;34m\u001b[0m\u001b[0m\n",
            "\u001b[0;32m/usr/local/lib/python3.9/dist-packages/langchain/tools/requests/tool.py\u001b[0m in \u001b[0;36m_run\u001b[0;34m(self, url)\u001b[0m\n\u001b[1;32m     29\u001b[0m     \u001b[0;32mdef\u001b[0m \u001b[0m_run\u001b[0m\u001b[0;34m(\u001b[0m\u001b[0mself\u001b[0m\u001b[0;34m,\u001b[0m \u001b[0murl\u001b[0m\u001b[0;34m:\u001b[0m \u001b[0mstr\u001b[0m\u001b[0;34m)\u001b[0m \u001b[0;34m->\u001b[0m \u001b[0mstr\u001b[0m\u001b[0;34m:\u001b[0m\u001b[0;34m\u001b[0m\u001b[0;34m\u001b[0m\u001b[0m\n\u001b[1;32m     30\u001b[0m         \u001b[0;34m\"\"\"Run the tool.\"\"\"\u001b[0m\u001b[0;34m\u001b[0m\u001b[0;34m\u001b[0m\u001b[0m\n\u001b[0;32m---> 31\u001b[0;31m         \u001b[0;32mreturn\u001b[0m \u001b[0mself\u001b[0m\u001b[0;34m.\u001b[0m\u001b[0mrequests_wrapper\u001b[0m\u001b[0;34m.\u001b[0m\u001b[0mget\u001b[0m\u001b[0;34m(\u001b[0m\u001b[0murl\u001b[0m\u001b[0;34m)\u001b[0m\u001b[0;34m\u001b[0m\u001b[0;34m\u001b[0m\u001b[0m\n\u001b[0m\u001b[1;32m     32\u001b[0m \u001b[0;34m\u001b[0m\u001b[0m\n\u001b[1;32m     33\u001b[0m     \u001b[0;32masync\u001b[0m \u001b[0;32mdef\u001b[0m \u001b[0m_arun\u001b[0m\u001b[0;34m(\u001b[0m\u001b[0mself\u001b[0m\u001b[0;34m,\u001b[0m \u001b[0murl\u001b[0m\u001b[0;34m:\u001b[0m \u001b[0mstr\u001b[0m\u001b[0;34m)\u001b[0m \u001b[0;34m->\u001b[0m \u001b[0mstr\u001b[0m\u001b[0;34m:\u001b[0m\u001b[0;34m\u001b[0m\u001b[0;34m\u001b[0m\u001b[0m\n",
            "\u001b[0;32m/usr/local/lib/python3.9/dist-packages/langchain/requests.py\u001b[0m in \u001b[0;36mget\u001b[0;34m(self, url)\u001b[0m\n\u001b[1;32m     21\u001b[0m     \u001b[0;32mdef\u001b[0m \u001b[0mget\u001b[0m\u001b[0;34m(\u001b[0m\u001b[0mself\u001b[0m\u001b[0;34m,\u001b[0m \u001b[0murl\u001b[0m\u001b[0;34m:\u001b[0m \u001b[0mstr\u001b[0m\u001b[0;34m)\u001b[0m \u001b[0;34m->\u001b[0m \u001b[0mstr\u001b[0m\u001b[0;34m:\u001b[0m\u001b[0;34m\u001b[0m\u001b[0;34m\u001b[0m\u001b[0m\n\u001b[1;32m     22\u001b[0m         \u001b[0;34m\"\"\"GET the URL and return the text.\"\"\"\u001b[0m\u001b[0;34m\u001b[0m\u001b[0;34m\u001b[0m\u001b[0m\n\u001b[0;32m---> 23\u001b[0;31m         \u001b[0;32mreturn\u001b[0m \u001b[0mrequests\u001b[0m\u001b[0;34m.\u001b[0m\u001b[0mget\u001b[0m\u001b[0;34m(\u001b[0m\u001b[0murl\u001b[0m\u001b[0;34m,\u001b[0m \u001b[0mheaders\u001b[0m\u001b[0;34m=\u001b[0m\u001b[0mself\u001b[0m\u001b[0;34m.\u001b[0m\u001b[0mheaders\u001b[0m\u001b[0;34m)\u001b[0m\u001b[0;34m.\u001b[0m\u001b[0mtext\u001b[0m\u001b[0;34m\u001b[0m\u001b[0;34m\u001b[0m\u001b[0m\n\u001b[0m\u001b[1;32m     24\u001b[0m \u001b[0;34m\u001b[0m\u001b[0m\n\u001b[1;32m     25\u001b[0m     \u001b[0;32mdef\u001b[0m \u001b[0mpost\u001b[0m\u001b[0;34m(\u001b[0m\u001b[0mself\u001b[0m\u001b[0;34m,\u001b[0m \u001b[0murl\u001b[0m\u001b[0;34m:\u001b[0m \u001b[0mstr\u001b[0m\u001b[0;34m,\u001b[0m \u001b[0mdata\u001b[0m\u001b[0;34m:\u001b[0m \u001b[0mDict\u001b[0m\u001b[0;34m[\u001b[0m\u001b[0mstr\u001b[0m\u001b[0;34m,\u001b[0m \u001b[0mAny\u001b[0m\u001b[0;34m]\u001b[0m\u001b[0;34m)\u001b[0m \u001b[0;34m->\u001b[0m \u001b[0mstr\u001b[0m\u001b[0;34m:\u001b[0m\u001b[0;34m\u001b[0m\u001b[0;34m\u001b[0m\u001b[0m\n",
            "\u001b[0;32m/usr/local/lib/python3.9/dist-packages/requests/api.py\u001b[0m in \u001b[0;36mget\u001b[0;34m(url, params, **kwargs)\u001b[0m\n\u001b[1;32m     71\u001b[0m     \"\"\"\n\u001b[1;32m     72\u001b[0m \u001b[0;34m\u001b[0m\u001b[0m\n\u001b[0;32m---> 73\u001b[0;31m     \u001b[0;32mreturn\u001b[0m \u001b[0mrequest\u001b[0m\u001b[0;34m(\u001b[0m\u001b[0;34m\"get\"\u001b[0m\u001b[0;34m,\u001b[0m \u001b[0murl\u001b[0m\u001b[0;34m,\u001b[0m \u001b[0mparams\u001b[0m\u001b[0;34m=\u001b[0m\u001b[0mparams\u001b[0m\u001b[0;34m,\u001b[0m \u001b[0;34m**\u001b[0m\u001b[0mkwargs\u001b[0m\u001b[0;34m)\u001b[0m\u001b[0;34m\u001b[0m\u001b[0;34m\u001b[0m\u001b[0m\n\u001b[0m\u001b[1;32m     74\u001b[0m \u001b[0;34m\u001b[0m\u001b[0m\n\u001b[1;32m     75\u001b[0m \u001b[0;34m\u001b[0m\u001b[0m\n",
            "\u001b[0;32m/usr/local/lib/python3.9/dist-packages/requests/api.py\u001b[0m in \u001b[0;36mrequest\u001b[0;34m(method, url, **kwargs)\u001b[0m\n\u001b[1;32m     57\u001b[0m     \u001b[0;31m# cases, and look like a memory leak in others.\u001b[0m\u001b[0;34m\u001b[0m\u001b[0;34m\u001b[0m\u001b[0m\n\u001b[1;32m     58\u001b[0m     \u001b[0;32mwith\u001b[0m \u001b[0msessions\u001b[0m\u001b[0;34m.\u001b[0m\u001b[0mSession\u001b[0m\u001b[0;34m(\u001b[0m\u001b[0;34m)\u001b[0m \u001b[0;32mas\u001b[0m \u001b[0msession\u001b[0m\u001b[0;34m:\u001b[0m\u001b[0;34m\u001b[0m\u001b[0;34m\u001b[0m\u001b[0m\n\u001b[0;32m---> 59\u001b[0;31m         \u001b[0;32mreturn\u001b[0m \u001b[0msession\u001b[0m\u001b[0;34m.\u001b[0m\u001b[0mrequest\u001b[0m\u001b[0;34m(\u001b[0m\u001b[0mmethod\u001b[0m\u001b[0;34m=\u001b[0m\u001b[0mmethod\u001b[0m\u001b[0;34m,\u001b[0m \u001b[0murl\u001b[0m\u001b[0;34m=\u001b[0m\u001b[0murl\u001b[0m\u001b[0;34m,\u001b[0m \u001b[0;34m**\u001b[0m\u001b[0mkwargs\u001b[0m\u001b[0;34m)\u001b[0m\u001b[0;34m\u001b[0m\u001b[0;34m\u001b[0m\u001b[0m\n\u001b[0m\u001b[1;32m     60\u001b[0m \u001b[0;34m\u001b[0m\u001b[0m\n\u001b[1;32m     61\u001b[0m \u001b[0;34m\u001b[0m\u001b[0m\n",
            "\u001b[0;32m/usr/local/lib/python3.9/dist-packages/requests/sessions.py\u001b[0m in \u001b[0;36mrequest\u001b[0;34m(self, method, url, params, data, headers, cookies, files, auth, timeout, allow_redirects, proxies, hooks, stream, verify, cert, json)\u001b[0m\n\u001b[1;32m    571\u001b[0m             \u001b[0mhooks\u001b[0m\u001b[0;34m=\u001b[0m\u001b[0mhooks\u001b[0m\u001b[0;34m,\u001b[0m\u001b[0;34m\u001b[0m\u001b[0;34m\u001b[0m\u001b[0m\n\u001b[1;32m    572\u001b[0m         )\n\u001b[0;32m--> 573\u001b[0;31m         \u001b[0mprep\u001b[0m \u001b[0;34m=\u001b[0m \u001b[0mself\u001b[0m\u001b[0;34m.\u001b[0m\u001b[0mprepare_request\u001b[0m\u001b[0;34m(\u001b[0m\u001b[0mreq\u001b[0m\u001b[0;34m)\u001b[0m\u001b[0;34m\u001b[0m\u001b[0;34m\u001b[0m\u001b[0m\n\u001b[0m\u001b[1;32m    574\u001b[0m \u001b[0;34m\u001b[0m\u001b[0m\n\u001b[1;32m    575\u001b[0m         \u001b[0mproxies\u001b[0m \u001b[0;34m=\u001b[0m \u001b[0mproxies\u001b[0m \u001b[0;32mor\u001b[0m \u001b[0;34m{\u001b[0m\u001b[0;34m}\u001b[0m\u001b[0;34m\u001b[0m\u001b[0;34m\u001b[0m\u001b[0m\n",
            "\u001b[0;32m/usr/local/lib/python3.9/dist-packages/requests/sessions.py\u001b[0m in \u001b[0;36mprepare_request\u001b[0;34m(self, request)\u001b[0m\n\u001b[1;32m    482\u001b[0m \u001b[0;34m\u001b[0m\u001b[0m\n\u001b[1;32m    483\u001b[0m         \u001b[0mp\u001b[0m \u001b[0;34m=\u001b[0m \u001b[0mPreparedRequest\u001b[0m\u001b[0;34m(\u001b[0m\u001b[0;34m)\u001b[0m\u001b[0;34m\u001b[0m\u001b[0;34m\u001b[0m\u001b[0m\n\u001b[0;32m--> 484\u001b[0;31m         p.prepare(\n\u001b[0m\u001b[1;32m    485\u001b[0m             \u001b[0mmethod\u001b[0m\u001b[0;34m=\u001b[0m\u001b[0mrequest\u001b[0m\u001b[0;34m.\u001b[0m\u001b[0mmethod\u001b[0m\u001b[0;34m.\u001b[0m\u001b[0mupper\u001b[0m\u001b[0;34m(\u001b[0m\u001b[0;34m)\u001b[0m\u001b[0;34m,\u001b[0m\u001b[0;34m\u001b[0m\u001b[0;34m\u001b[0m\u001b[0m\n\u001b[1;32m    486\u001b[0m             \u001b[0murl\u001b[0m\u001b[0;34m=\u001b[0m\u001b[0mrequest\u001b[0m\u001b[0;34m.\u001b[0m\u001b[0murl\u001b[0m\u001b[0;34m,\u001b[0m\u001b[0;34m\u001b[0m\u001b[0;34m\u001b[0m\u001b[0m\n",
            "\u001b[0;32m/usr/local/lib/python3.9/dist-packages/requests/models.py\u001b[0m in \u001b[0;36mprepare\u001b[0;34m(self, method, url, headers, files, data, params, auth, cookies, hooks, json)\u001b[0m\n\u001b[1;32m    366\u001b[0m \u001b[0;34m\u001b[0m\u001b[0m\n\u001b[1;32m    367\u001b[0m         \u001b[0mself\u001b[0m\u001b[0;34m.\u001b[0m\u001b[0mprepare_method\u001b[0m\u001b[0;34m(\u001b[0m\u001b[0mmethod\u001b[0m\u001b[0;34m)\u001b[0m\u001b[0;34m\u001b[0m\u001b[0;34m\u001b[0m\u001b[0m\n\u001b[0;32m--> 368\u001b[0;31m         \u001b[0mself\u001b[0m\u001b[0;34m.\u001b[0m\u001b[0mprepare_url\u001b[0m\u001b[0;34m(\u001b[0m\u001b[0murl\u001b[0m\u001b[0;34m,\u001b[0m \u001b[0mparams\u001b[0m\u001b[0;34m)\u001b[0m\u001b[0;34m\u001b[0m\u001b[0;34m\u001b[0m\u001b[0m\n\u001b[0m\u001b[1;32m    369\u001b[0m         \u001b[0mself\u001b[0m\u001b[0;34m.\u001b[0m\u001b[0mprepare_headers\u001b[0m\u001b[0;34m(\u001b[0m\u001b[0mheaders\u001b[0m\u001b[0;34m)\u001b[0m\u001b[0;34m\u001b[0m\u001b[0;34m\u001b[0m\u001b[0m\n\u001b[1;32m    370\u001b[0m         \u001b[0mself\u001b[0m\u001b[0;34m.\u001b[0m\u001b[0mprepare_cookies\u001b[0m\u001b[0;34m(\u001b[0m\u001b[0mcookies\u001b[0m\u001b[0;34m)\u001b[0m\u001b[0;34m\u001b[0m\u001b[0;34m\u001b[0m\u001b[0m\n",
            "\u001b[0;32m/usr/local/lib/python3.9/dist-packages/requests/models.py\u001b[0m in \u001b[0;36mprepare_url\u001b[0;34m(self, url, params)\u001b[0m\n\u001b[1;32m    437\u001b[0m \u001b[0;34m\u001b[0m\u001b[0m\n\u001b[1;32m    438\u001b[0m         \u001b[0;32mif\u001b[0m \u001b[0;32mnot\u001b[0m \u001b[0mscheme\u001b[0m\u001b[0;34m:\u001b[0m\u001b[0;34m\u001b[0m\u001b[0;34m\u001b[0m\u001b[0m\n\u001b[0;32m--> 439\u001b[0;31m             raise MissingSchema(\n\u001b[0m\u001b[1;32m    440\u001b[0m                 \u001b[0;34mf\"Invalid URL {url!r}: No scheme supplied. \"\u001b[0m\u001b[0;34m\u001b[0m\u001b[0;34m\u001b[0m\u001b[0m\n\u001b[1;32m    441\u001b[0m                 \u001b[0;34mf\"Perhaps you meant https://{url}?\"\u001b[0m\u001b[0;34m\u001b[0m\u001b[0;34m\u001b[0m\u001b[0m\n",
            "\u001b[0;31mMissingSchema\u001b[0m: Invalid URL 'pyrite-ethereal-soccer.glitch.me/deliveryd?Analysis=': No scheme supplied. Perhaps you meant https://pyrite-ethereal-soccer.glitch.me/deliveryd?Analysis=?"
          ]
        }
      ]
    },
    {
      "cell_type": "code",
      "source": [
        "openapi_agent_executor.run(\"Make a post requests to pyrite-ethereal-soccer.glitch.me and create user largeLLM with password 77tro*the&*&\")"
      ],
      "metadata": {
        "colab": {
          "base_uri": "https://localhost:8080/",
          "height": 1000
        },
        "id": "DPif535oLe3v",
        "outputId": "f48026ec-844a-4916-d897-adca6c4e59f7"
      },
      "execution_count": 17,
      "outputs": [
        {
          "output_type": "stream",
          "name": "stdout",
          "text": [
            "\n",
            "\n",
            "\u001b[1m> Entering new AgentExecutor chain...\u001b[0m\n",
            "\u001b[32;1m\u001b[1;3mAction: json_explorer\n",
            "Action Input: What is the base url for the API?\u001b[0m\n",
            "\n",
            "\u001b[1m> Entering new AgentExecutor chain...\u001b[0m\n",
            "\u001b[32;1m\u001b[1;3mAction: json_spec_list_keys\n",
            "Action Input: data\u001b[0m\n",
            "Observation: \u001b[36;1m\u001b[1;3m['openapi', 'info', 'paths', 'components']\u001b[0m\n",
            "Thought:\u001b[32;1m\u001b[1;3m I should look at the info key to see if I can find the base url\n",
            "Action: json_spec_get_value\n",
            "Action Input: data[\"info\"][\"baseUrl\"]\u001b[0m\n",
            "Observation: \u001b[33;1m\u001b[1;3mKeyError('baseUrl')\u001b[0m\n",
            "Thought:\u001b[32;1m\u001b[1;3m I should look at the paths key to see if I can find the base url\n",
            "Action: json_spec_get_value\n",
            "Action Input: data[\"paths\"][\"baseUrl\"]\u001b[0m\n",
            "Observation: \u001b[33;1m\u001b[1;3mKeyError('baseUrl')\u001b[0m\n",
            "Thought:\u001b[32;1m\u001b[1;3m I should look at the components key to see if I can find the base url\n",
            "Action: json_spec_get_value\n",
            "Action Input: data[\"components\"][\"baseUrl\"]\u001b[0m\n",
            "Observation: \u001b[33;1m\u001b[1;3mKeyError('baseUrl')\u001b[0m\n",
            "Thought:\u001b[32;1m\u001b[1;3m I don't know the answer to this question\n",
            "Final Answer: I don't know\u001b[0m\n",
            "\n",
            "\u001b[1m> Finished chain.\u001b[0m\n",
            "\n",
            "Observation: \u001b[33;1m\u001b[1;3mI don't know\u001b[0m\n",
            "Thought:\u001b[32;1m\u001b[1;3m I should look for the paths and parameters needed to make the request.\n",
            "Action: json_explorer\n",
            "Action Input: What are the paths and parameters needed to make a POST request to create a user?\u001b[0m\n",
            "\n",
            "\u001b[1m> Entering new AgentExecutor chain...\u001b[0m\n",
            "\u001b[32;1m\u001b[1;3mAction: json_spec_list_keys\n",
            "Action Input: data\u001b[0m\n",
            "Observation: \u001b[36;1m\u001b[1;3m['openapi', 'info', 'paths', 'components']\u001b[0m\n",
            "Thought:\u001b[32;1m\u001b[1;3m I should look at the paths key to see what paths are available\n",
            "Action: json_spec_list_keys\n",
            "Action Input: data[\"paths\"]\u001b[0m\n",
            "Observation: \u001b[36;1m\u001b[1;3m['/user/create_user', '/user/v1/show_users', '/user/id/{user_id}', '/user/login', '/user/validate', '/biker/v1/bikers', '/biker/v1/deliveryd', '/biker/v1/pickupd', '/biker/v1/features', '/biker/v1/predict', '/']\u001b[0m\n",
            "Thought:\u001b[32;1m\u001b[1;3m I should look at the '/user/create_user' path to see what parameters are needed\n",
            "Action: json_spec_list_keys\n",
            "Action Input: data[\"paths\"][\"/user/create_user\"]\u001b[0m\n",
            "Observation: \u001b[36;1m\u001b[1;3m['post']\u001b[0m\n",
            "Thought:\u001b[32;1m\u001b[1;3m I should look at the 'post' key to see what parameters are needed\n",
            "Action: json_spec_list_keys\n",
            "Action Input: data[\"paths\"][\"/user/create_user\"][\"post\"]\u001b[0m\n",
            "Observation: \u001b[36;1m\u001b[1;3m['tags', 'summary', 'description', 'operationId', 'requestBody', 'responses']\u001b[0m\n",
            "Thought:\u001b[32;1m\u001b[1;3m I should look at the 'requestBody' key to see what parameters are needed\n",
            "Action: json_spec_list_keys\n",
            "Action Input: data[\"paths\"][\"/user/create_user\"][\"post\"][\"requestBody\"]\u001b[0m\n",
            "Observation: \u001b[36;1m\u001b[1;3m['content', 'required']\u001b[0m\n",
            "Thought:\u001b[32;1m\u001b[1;3m I should look at the 'content' key to see what parameters are needed\n",
            "Action: json_spec_list_keys\n",
            "Action Input: data[\"paths\"][\"/user/create_user\"][\"post\"][\"requestBody\"][\"content\"]\u001b[0m\n",
            "Observation: \u001b[36;1m\u001b[1;3m['application/json']\u001b[0m\n",
            "Thought:\u001b[32;1m\u001b[1;3m I should look at the 'application/json' key to see what parameters are needed\n",
            "Action: json_spec_list_keys\n",
            "Action Input: data[\"paths\"][\"/user/create_user\"][\"post\"][\"requestBody\"][\"content\"][\"application/json\"]\u001b[0m\n",
            "Observation: \u001b[36;1m\u001b[1;3m['schema']\u001b[0m\n",
            "Thought:\u001b[32;1m\u001b[1;3m I should look at the 'schema' key to see what parameters are needed\n",
            "Action: json_spec_list_keys\n",
            "Action Input: data[\"paths\"][\"/user/create_user\"][\"post\"][\"requestBody\"][\"content\"][\"application/json\"][\"schema\"]\u001b[0m\n",
            "Observation: \u001b[36;1m\u001b[1;3m['$ref']\u001b[0m\n",
            "Thought:\u001b[32;1m\u001b[1;3m I should look at the '$ref' key to see what parameters are needed\n",
            "Action: json_spec_get_value\n",
            "Action Input: data[\"paths\"][\"/user/create_user\"][\"post\"][\"requestBody\"][\"content\"][\"application/json\"][\"schema\"][\"$ref\"]\u001b[0m\n",
            "Observation: \u001b[33;1m\u001b[1;3m#/components/schemas/create_user\u001b[0m\n",
            "Thought:\u001b[32;1m\u001b[1;3m I now know the final answer\n",
            "Final Answer: The path and parameters needed to make a POST request to create a user are '/user/create_user' and the parameters are found in the schema referenced by #/components/schemas/create_user.\u001b[0m\n",
            "\n",
            "\u001b[1m> Finished chain.\u001b[0m\n",
            "\n",
            "Observation: \u001b[33;1m\u001b[1;3mThe path and parameters needed to make a POST request to create a user are '/user/create_user' and the parameters are found in the schema referenced by #/components/schemas/create_user.\u001b[0m\n",
            "Thought:\u001b[32;1m\u001b[1;3m I now know the base url, path, and parameters needed to make the request.\n",
            "Action: requests_post\n",
            "Action Input: { \"url\": \"pyrite-ethereal-soccer.glitch.me/user/create_user\", \"data\": { \"username\": \"largeLLM\", \"password\": \"77tro*the&*&\" } }\u001b[0m\n",
            "Observation: \u001b[33;1m\u001b[1;3mMissingSchema(\"Invalid URL 'pyrite-ethereal-soccer.glitch.me/user/create_user': No scheme supplied. Perhaps you meant https://pyrite-ethereal-soccer.glitch.me/user/create_user?\")\u001b[0m\n",
            "Thought:\u001b[32;1m\u001b[1;3m I should use the correct scheme for the URL.\n",
            "Action: requests_post\n",
            "Action Input: { \"url\": \"https://pyrite-ethereal-soccer.glitch.me/user/create_user\", \"data\": { \"username\": \"largeLLM\", \"password\": \"77tro*the&*&\" } }\u001b[0m\n",
            "Observation: \u001b[33;1m\u001b[1;3m{\"detail\":[{\"loc\":[\"body\",\"email_id\"],\"msg\":\"field required\",\"type\":\"value_error.missing\"},{\"loc\":[\"body\",\"pass_phrase\"],\"msg\":\"field required\",\"type\":\"value_error.missing\"}]}\u001b[0m\n",
            "Thought:\u001b[32;1m\u001b[1;3m I should add the required parameters to the request body.\n",
            "Action: requests_post\n",
            "Action Input: { \"url\": \"https://pyrite-ethereal-soccer.glitch.me/user/create_user\", \"data\": { \"username\": \"largeLLM\", \"password\": \"77tro*the&*&\", \"email_id\": \"largeLLM@example.com\", \"pass_phrase\": \"77tro*the&*&\" } }\u001b[0m\n",
            "Observation: \u001b[33;1m\u001b[1;3m{\"email_id\":\"largeLLM@example.com\",\"user_id\":\"7\"}\u001b[0m\n",
            "Thought:\u001b[32;1m\u001b[1;3m I now know the final answer.\n",
            "Final Answer: The user largeLLM was successfully created.\u001b[0m\n",
            "\n",
            "\u001b[1m> Finished chain.\u001b[0m\n"
          ]
        },
        {
          "output_type": "execute_result",
          "data": {
            "text/plain": [
              "'The user largeLLM was successfully created.'"
            ],
            "application/vnd.google.colaboratory.intrinsic+json": {
              "type": "string"
            }
          },
          "metadata": {},
          "execution_count": 17
        }
      ]
    },
    {
      "cell_type": "code",
      "source": [
        "from langchain.agents.agent_toolkits import create_python_agent\n",
        "from langchain.tools.python.tool import PythonREPLTool\n",
        "from langchain.python import PythonREPL"
      ],
      "metadata": {
        "id": "nXY9k6xqLeza"
      },
      "execution_count": 18,
      "outputs": []
    },
    {
      "cell_type": "code",
      "source": [
        "agent_executor = create_python_agent(\n",
        "    llm=OpenAI(temperature=0, max_tokens=500),\n",
        "    tool=PythonREPLTool(),\n",
        "    verbose=True\n",
        ")"
      ],
      "metadata": {
        "id": "FI7XvCbALeww"
      },
      "execution_count": 19,
      "outputs": []
    },
    {
      "cell_type": "code",
      "source": [
        "agent_executor.run(\"Write a program that automatically converts English text to Morse code and vice versa.\")"
      ],
      "metadata": {
        "colab": {
          "base_uri": "https://localhost:8080/",
          "height": 1000
        },
        "id": "b1Yl2DujLetj",
        "outputId": "bf4b7148-90b2-44df-af41-3707e61d70a9"
      },
      "execution_count": 20,
      "outputs": [
        {
          "output_type": "stream",
          "name": "stdout",
          "text": [
            "\n",
            "\n",
            "\u001b[1m> Entering new AgentExecutor chain...\u001b[0m\n",
            "\u001b[32;1m\u001b[1;3m I need to create a dictionary that maps English letters to Morse code and vice versa.\n",
            "Action: Python REPL\n",
            "Action Input: \n",
            "morse_code = {\n",
            "    'A': '.-', 'B': '-...',\n",
            "    'C': '-.-.', 'D': '-..', 'E': '.',\n",
            "    'F': '..-.', 'G': '--.', 'H': '....',\n",
            "    'I': '..', 'J': '.---', 'K': '-.-',\n",
            "    'L': '.-..', 'M': '--', 'N': '-.',\n",
            "    'O': '---', 'P': '.--.', 'Q': '--.-',\n",
            "    'R': '.-.', 'S': '...', 'T': '-',\n",
            "    'U': '..-', 'V': '...-', 'W': '.--',\n",
            "    'X': '-..-', 'Y': '-.--', 'Z': '--..',\n",
            "    '1': '.----', '2': '..---', '3': '...--',\n",
            "    '4': '....-', '5': '.....', '6': '-....',\n",
            "    '7': '--...', '8': '---..', '9': '----.',\n",
            "    '0': '-----', ', ': '--..--', '.': '.-.-.-',\n",
            "    '?': '..--..', '/': '-..-.', '-': '-....-',\n",
            "    '(': '-.--.', ')': '-.--.-'\n",
            "}\n",
            "\u001b[0m\n",
            "Observation: \u001b[36;1m\u001b[1;3m\u001b[0m\n",
            "Thought:\u001b[32;1m\u001b[1;3m I now need to create a function that takes in a string and converts it to Morse code or vice versa.\n",
            "Action: Python REPL\n",
            "Action Input: \n",
            "def convert_to_morse(text):\n",
            "    morse_text = ''\n",
            "    for char in text:\n",
            "        if char == ' ':\n",
            "            morse_text += ' '\n",
            "        else:\n",
            "            morse_text += morse_code[char.upper()] + ' '\n",
            "    return morse_text\n",
            "\n",
            "def convert_from_morse(morse_text):\n",
            "    text = ''\n",
            "    for char in morse_text.split(' '):\n",
            "        if char == '':\n",
            "            text += ' '\n",
            "        else:\n",
            "            for key, value in morse_code.items():\n",
            "                if value == char:\n",
            "                    text += key\n",
            "    return text\n",
            "\u001b[0m\n",
            "Observation: \u001b[36;1m\u001b[1;3m\u001b[0m\n",
            "Thought:\u001b[32;1m\u001b[1;3m I now have the functions I need to convert English text to Morse code and vice versa.\n",
            "Final Answer: I have written a program that automatically converts English text to Morse code and vice versa.\u001b[0m\n",
            "\n",
            "\u001b[1m> Finished chain.\u001b[0m\n"
          ]
        },
        {
          "output_type": "execute_result",
          "data": {
            "text/plain": [
              "'I have written a program that automatically converts English text to Morse code and vice versa.'"
            ],
            "application/vnd.google.colaboratory.intrinsic+json": {
              "type": "string"
            }
          },
          "metadata": {},
          "execution_count": 20
        }
      ]
    },
    {
      "cell_type": "code",
      "source": [
        "from langchain.agents import create_sql_agent\n",
        "from langchain.agents.agent_toolkits import SQLDatabaseToolkit\n",
        "from langchain.sql_database import SQLDatabase\n",
        "from langchain.agents import AgentExecutor"
      ],
      "metadata": {
        "id": "0vVwtw-iLekS"
      },
      "execution_count": 21,
      "outputs": []
    },
    {
      "cell_type": "code",
      "source": [
        "db = SQLDatabase.from_uri(\"sqlite:////content/chinook.db\")\n",
        "toolkit = SQLDatabaseToolkit(db=db)"
      ],
      "metadata": {
        "id": "aOo1GDQKTdCi"
      },
      "execution_count": 24,
      "outputs": []
    },
    {
      "cell_type": "code",
      "source": [
        "agent_executor = create_sql_agent(\n",
        "    llm=OpenAI(temperature=0),\n",
        "    toolkit=toolkit,\n",
        "    verbose=True\n",
        ")"
      ],
      "metadata": {
        "id": "tE8lLaLITpkJ"
      },
      "execution_count": 25,
      "outputs": []
    },
    {
      "cell_type": "code",
      "source": [
        "agent_executor.run(\"List the tables inside the database\")"
      ],
      "metadata": {
        "colab": {
          "base_uri": "https://localhost:8080/",
          "height": 219
        },
        "id": "nR0q4uiHTsIB",
        "outputId": "8e23445a-236c-4b7c-88a5-9339a75d5b69"
      },
      "execution_count": 26,
      "outputs": [
        {
          "output_type": "stream",
          "name": "stdout",
          "text": [
            "\n",
            "\n",
            "\u001b[1m> Entering new AgentExecutor chain...\u001b[0m\n",
            "\u001b[32;1m\u001b[1;3mAction: list_tables_sql_db\n",
            "Action Input: \"\"\u001b[0m\n",
            "Observation: \u001b[38;5;200m\u001b[1;3mAlbum, Genre, Artist, MediaType\u001b[0m\n",
            "Thought:\u001b[32;1m\u001b[1;3m I now know the tables in the database\n",
            "Final Answer: The tables in the database are Album, Genre, Artist, and MediaType.\u001b[0m\n",
            "\n",
            "\u001b[1m> Finished chain.\u001b[0m\n"
          ]
        },
        {
          "output_type": "execute_result",
          "data": {
            "text/plain": [
              "'The tables in the database are Album, Genre, Artist, and MediaType.'"
            ],
            "application/vnd.google.colaboratory.intrinsic+json": {
              "type": "string"
            }
          },
          "metadata": {},
          "execution_count": 26
        }
      ]
    },
    {
      "cell_type": "code",
      "source": [
        "agent_executor.run(\"What are the details inside the artist table\")"
      ],
      "metadata": {
        "colab": {
          "base_uri": "https://localhost:8080/",
          "height": 513
        },
        "id": "cV__BEz5T0H-",
        "outputId": "1911beef-3363-4d02-a529-e05d65cbc453"
      },
      "execution_count": 27,
      "outputs": [
        {
          "output_type": "stream",
          "name": "stdout",
          "text": [
            "\n",
            "\n",
            "\u001b[1m> Entering new AgentExecutor chain...\u001b[0m\n",
            "\u001b[32;1m\u001b[1;3mAction: list_tables_sql_db\n",
            "Action Input: \"\"\u001b[0m\n",
            "Observation: \u001b[38;5;200m\u001b[1;3mAlbum, Genre, Artist, MediaType\u001b[0m\n",
            "Thought:\u001b[32;1m\u001b[1;3m I should look at the schema of the artist table\n",
            "Action: schema_sql_db\n",
            "Action Input: \"Artist\"\u001b[0m\n",
            "Observation: \u001b[33;1m\u001b[1;3m\n",
            "CREATE TABLE \"Artist\" (\n",
            "\t\"ArtistId\" INTEGER NOT NULL, \n",
            "\t\"Name\" NVARCHAR(120), \n",
            "\tPRIMARY KEY (\"ArtistId\")\n",
            ")\n",
            "/*\n",
            "3 rows from Artist table:\n",
            "ArtistId\tName\n",
            "1\tAC/DC\n",
            "2\tAccept\n",
            "3\tAerosmith\n",
            "*/\u001b[0m\n",
            "Thought:\u001b[32;1m\u001b[1;3m I now know the details inside the artist table\n",
            "Final Answer: The Artist table contains two columns, ArtistId and Name, and contains information about artists such as AC/DC, Accept, and Aerosmith.\u001b[0m\n",
            "\n",
            "\u001b[1m> Finished chain.\u001b[0m\n"
          ]
        },
        {
          "output_type": "execute_result",
          "data": {
            "text/plain": [
              "'The Artist table contains two columns, ArtistId and Name, and contains information about artists such as AC/DC, Accept, and Aerosmith.'"
            ],
            "application/vnd.google.colaboratory.intrinsic+json": {
              "type": "string"
            }
          },
          "metadata": {},
          "execution_count": 27
        }
      ]
    },
    {
      "cell_type": "code",
      "source": [
        "agent_executor.run(\"Which artist has most albums\")"
      ],
      "metadata": {
        "colab": {
          "base_uri": "https://localhost:8080/",
          "height": 900
        },
        "id": "5u6yuVqSUMxx",
        "outputId": "bd7f3fb9-51ac-474a-db75-45435c9f99ef"
      },
      "execution_count": 29,
      "outputs": [
        {
          "output_type": "stream",
          "name": "stdout",
          "text": [
            "\n",
            "\n",
            "\u001b[1m> Entering new AgentExecutor chain...\u001b[0m\n",
            "\u001b[32;1m\u001b[1;3mAction: list_tables_sql_db\n",
            "Action Input: \"\"\u001b[0m\n",
            "Observation: \u001b[38;5;200m\u001b[1;3mAlbum, Genre, Artist, MediaType\u001b[0m\n",
            "Thought:\u001b[32;1m\u001b[1;3m I should check the schema of the tables to see what columns I can query.\n",
            "Action: schema_sql_db\n",
            "Action Input: \"Album, Artist\"\u001b[0m\n",
            "Observation: \u001b[33;1m\u001b[1;3m\n",
            "CREATE TABLE \"Artist\" (\n",
            "\t\"ArtistId\" INTEGER NOT NULL, \n",
            "\t\"Name\" NVARCHAR(120), \n",
            "\tPRIMARY KEY (\"ArtistId\")\n",
            ")\n",
            "/*\n",
            "3 rows from Artist table:\n",
            "ArtistId\tName\n",
            "1\tAC/DC\n",
            "2\tAccept\n",
            "3\tAerosmith\n",
            "*/\n",
            "\n",
            "\n",
            "CREATE TABLE \"Album\" (\n",
            "\t\"AlbumId\" INTEGER NOT NULL, \n",
            "\t\"Title\" NVARCHAR(160) NOT NULL, \n",
            "\t\"ArtistId\" INTEGER NOT NULL, \n",
            "\tPRIMARY KEY (\"AlbumId\"), \n",
            "\tFOREIGN KEY(\"ArtistId\") REFERENCES \"Artist\" (\"ArtistId\")\n",
            ")\n",
            "/*\n",
            "3 rows from Album table:\n",
            "AlbumId\tTitle\tArtistId\n",
            "1\tFor Those About To Rock We Salute You\t1\n",
            "2\tBalls to the Wall\t2\n",
            "3\tRestless and Wild\t2\n",
            "*/\u001b[0m\n",
            "Thought:\u001b[32;1m\u001b[1;3m I should query the Album table to get the artist with the most albums.\n",
            "Action: query_sql_db\n",
            "Action Input: SELECT Artist.Name, COUNT(Album.AlbumId) AS AlbumCount FROM Album INNER JOIN Artist ON Album.ArtistId = Artist.ArtistId GROUP BY Artist.Name ORDER BY AlbumCount DESC LIMIT 10\u001b[0m\n",
            "Observation: \u001b[36;1m\u001b[1;3m[('Iron Maiden', 21), ('Led Zeppelin', 14), ('Deep Purple', 11), ('U2', 10), ('Metallica', 10), ('Ozzy Osbourne', 6), ('Pearl Jam', 5), ('Various Artists', 4), ('Van Halen', 4), ('Lost', 4)]\u001b[0m\n",
            "Thought:\u001b[32;1m\u001b[1;3m I now know the final answer\n",
            "Final Answer: Iron Maiden has the most albums with 21.\u001b[0m\n",
            "\n",
            "\u001b[1m> Finished chain.\u001b[0m\n"
          ]
        },
        {
          "output_type": "execute_result",
          "data": {
            "text/plain": [
              "'Iron Maiden has the most albums with 21.'"
            ],
            "application/vnd.google.colaboratory.intrinsic+json": {
              "type": "string"
            }
          },
          "metadata": {},
          "execution_count": 29
        }
      ]
    }
  ]
}