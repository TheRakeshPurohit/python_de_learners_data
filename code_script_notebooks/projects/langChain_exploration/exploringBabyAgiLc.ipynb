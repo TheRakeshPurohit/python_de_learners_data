{
  "nbformat": 4,
  "nbformat_minor": 0,
  "metadata": {
    "colab": {
      "provenance": []
    },
    "kernelspec": {
      "name": "python3",
      "display_name": "Python 3"
    },
    "language_info": {
      "name": "python"
    }
  },
  "cells": [
    {
      "cell_type": "code",
      "execution_count": 3,
      "metadata": {
        "id": "KFeG6txSFG43"
      },
      "outputs": [],
      "source": [
        "!pip install openai tiktoken langchain huggingface_hub google-search-results faiss-cpu > /dev/null"
      ]
    },
    {
      "cell_type": "code",
      "source": [
        "import os\n",
        "from collections import deque\n",
        "from typing import Dict, List, Optional, Any\n",
        "\n",
        "from langchain import LLMChain, OpenAI, PromptTemplate\n",
        "from langchain.embeddings import OpenAIEmbeddings\n",
        "from langchain.llms import BaseLLM\n",
        "from langchain.vectorstores.base import VectorStore\n",
        "from pydantic import BaseModel, Field\n",
        "from langchain.chains.base import Chain\n",
        "from langchain.experimental import BabyAGI"
      ],
      "metadata": {
        "id": "E6TGUeZtFYOY"
      },
      "execution_count": 2,
      "outputs": []
    },
    {
      "cell_type": "code",
      "source": [
        "from langchain.vectorstores import FAISS\n",
        "from langchain.docstore import InMemoryDocstore"
      ],
      "metadata": {
        "id": "lFky2r9UFYXa"
      },
      "execution_count": 4,
      "outputs": []
    },
    {
      "cell_type": "code",
      "source": [
        "import os\n",
        "import faiss\n",
        "os.environ['OPENAI_API_KEY']=''\n",
        "os.environ['SERPAPI_API_KEY']=''"
      ],
      "metadata": {
        "id": "jJOcvD9jFt9X"
      },
      "execution_count": 21,
      "outputs": []
    },
    {
      "cell_type": "code",
      "source": [
        "# Define your embedding model\n",
        "embeddings_model = OpenAIEmbeddings()\n",
        "\n",
        "embedding_size = 1536\n",
        "\n",
        "index = faiss.IndexFlatL2(embedding_size)\n",
        "\n",
        "vectorstore = FAISS(embeddings_model.embed_query, \n",
        "                    index, \n",
        "                    InMemoryDocstore({}), {})\n"
      ],
      "metadata": {
        "id": "ADnG_CrCFYgf"
      },
      "execution_count": 11,
      "outputs": []
    },
    {
      "cell_type": "code",
      "source": [
        "from langchain.agents import ZeroShotAgent, Tool, AgentExecutor\n",
        "from langchain import OpenAI, SerpAPIWrapper, LLMChain\n",
        "\n",
        "todo_prompt = PromptTemplate.from_template(\n",
        "    \"You are a planner who is an expert at coming up with a todo list for a given objective. Come up with a todo list for this objective: {objective}\"\n",
        ")"
      ],
      "metadata": {
        "id": "bUtssF3tGW0a"
      },
      "execution_count": 12,
      "outputs": []
    },
    {
      "cell_type": "code",
      "source": [
        "todo_chain = LLMChain(llm=OpenAI(temperature=0), prompt=todo_prompt)\n",
        "\n",
        "search = SerpAPIWrapper()\n",
        "\n",
        "tools = [\n",
        "    Tool(\n",
        "        name=\"Search\",\n",
        "        func=search.run,\n",
        "        description=\"useful for when you need to answer questions about current events\",\n",
        "    ),\n",
        "    Tool(\n",
        "        name=\"TODO\",\n",
        "        func=todo_chain.run,\n",
        "        description=\"useful for when you need to come up with todo lists. Input: an objective to create a todo list for. Output: a todo list for that objective. Please be very clear what the objective is!\",\n",
        "    ),\n",
        "]"
      ],
      "metadata": {
        "id": "6VPp0PXRGWxT"
      },
      "execution_count": 15,
      "outputs": []
    },
    {
      "cell_type": "code",
      "source": [
        "prefix = \"\"\"You are an AI who performs one task based on the following objective: {objective}. Take into account these previously completed tasks: {context}.\"\"\"\n",
        "\n",
        "suffix = \"\"\"Question: {task}\n",
        "{agent_scratchpad}\"\"\"\n",
        "\n",
        "prompt = ZeroShotAgent.create_prompt(\n",
        "    tools,\n",
        "    prefix=prefix,\n",
        "    suffix=suffix,\n",
        "    input_variables=[\"objective\", \"task\", \"context\", \"agent_scratchpad\"],\n",
        ")"
      ],
      "metadata": {
        "id": "RZw-ar8CGWso"
      },
      "execution_count": 16,
      "outputs": []
    },
    {
      "cell_type": "code",
      "source": [
        "llm = OpenAI(temperature=0)\n",
        "\n",
        "llm_chain = LLMChain(llm=llm, prompt=prompt)\n",
        "\n",
        "tool_names = [tool.name for tool in tools]\n",
        "\n",
        "agent = ZeroShotAgent(llm_chain=llm_chain, \n",
        "                      allowed_tools=tool_names)\n",
        "\n",
        "agent_executor = AgentExecutor.from_agent_and_tools(\n",
        "    agent=agent, tools=tools, verbose=True\n",
        ")"
      ],
      "metadata": {
        "id": "Sxel7vv9GWoV"
      },
      "execution_count": 17,
      "outputs": []
    },
    {
      "cell_type": "code",
      "source": [
        "babyagi = BabyAGI.from_llm(\n",
        "    llm=llm,\n",
        "    vectorstore=vectorstore,\n",
        "    task_execution_chain=agent_executor,\n",
        "    verbose=False,\n",
        "    max_iterations=1\n",
        ")"
      ],
      "metadata": {
        "id": "9WL4wjqQFYpC"
      },
      "execution_count": 18,
      "outputs": []
    },
    {
      "cell_type": "code",
      "source": [
        "objective = \"\"\"Write report on the current stockmarket status\"\"\""
      ],
      "metadata": {
        "id": "MA_T5exUIIT1"
      },
      "execution_count": 19,
      "outputs": []
    },
    {
      "cell_type": "code",
      "source": [
        "babyagi({\"objective\": objective})"
      ],
      "metadata": {
        "colab": {
          "base_uri": "https://localhost:8080/"
        },
        "id": "DqmQIMikIW6N",
        "outputId": "9804a508-fb1a-496b-ca84-3938b85ed216"
      },
      "execution_count": 20,
      "outputs": [
        {
          "output_type": "stream",
          "name": "stdout",
          "text": [
            "\u001b[95m\u001b[1m\n",
            "*****TASK LIST*****\n",
            "\u001b[0m\u001b[0m\n",
            "1: Make a todo list\n",
            "\u001b[92m\u001b[1m\n",
            "*****NEXT TASK*****\n",
            "\u001b[0m\u001b[0m\n",
            "1: Make a todo list\n",
            "\n",
            "\n",
            "\u001b[1m> Entering new AgentExecutor chain...\u001b[0m\n",
            "\u001b[32;1m\u001b[1;3mThought: I need to come up with a todo list for the current stockmarket status\n",
            "Action: TODO\n",
            "Action Input: Create a todo list for the current stockmarket status\u001b[0m\n",
            "Observation: \u001b[33;1m\u001b[1;3m\n",
            "\n",
            "1. Research current stock market trends and news\n",
            "2. Analyze current stock market performance\n",
            "3. Identify stocks that are performing well\n",
            "4. Identify stocks that are underperforming\n",
            "5. Research the fundamentals of stocks that are performing well\n",
            "6. Research the fundamentals of stocks that are underperforming\n",
            "7. Identify potential investment opportunities\n",
            "8. Analyze risk/reward of potential investments\n",
            "9. Create a portfolio of stocks to invest in\n",
            "10. Monitor stock market performance and adjust portfolio accordingly\u001b[0m\n",
            "Thought:\u001b[32;1m\u001b[1;3m I now know the final answer\n",
            "Final Answer: The todo list for the current stockmarket status is to research current stock market trends and news, analyze current stock market performance, identify stocks that are performing well and underperforming, research the fundamentals of stocks that are performing well and underperforming, identify potential investment opportunities, analyze risk/reward of potential investments, create a portfolio of stocks to invest in, and monitor stock market performance and adjust portfolio accordingly.\u001b[0m\n",
            "\n",
            "\u001b[1m> Finished chain.\u001b[0m\n",
            "\u001b[93m\u001b[1m\n",
            "*****TASK RESULT*****\n",
            "\u001b[0m\u001b[0m\n",
            "The todo list for the current stockmarket status is to research current stock market trends and news, analyze current stock market performance, identify stocks that are performing well and underperforming, research the fundamentals of stocks that are performing well and underperforming, identify potential investment opportunities, analyze risk/reward of potential investments, create a portfolio of stocks to invest in, and monitor stock market performance and adjust portfolio accordingly.\n",
            "\u001b[91m\u001b[1m\n",
            "*****TASK ENDING*****\n",
            "\u001b[0m\u001b[0m\n"
          ]
        },
        {
          "output_type": "execute_result",
          "data": {
            "text/plain": [
              "{'objective': 'Write report on the current stockmarket status'}"
            ]
          },
          "metadata": {},
          "execution_count": 20
        }
      ]
    }
  ]
}