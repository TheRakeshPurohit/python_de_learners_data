{
 "cells": [
  {
   "cell_type": "markdown",
   "metadata": {},
   "source": [
    "#### Following are the steps to get hands on Ollama\n",
    "\n",
    "    - Install the application in Linux by following the instruction at https://github.com/ollama/ollama/blob/main/docs/linux.md or \n",
    "    \n",
    "        simply run curl -fsSL https://ollama.com/install.sh | sh\n",
    "\n",
    "    - Ollama maintains a library that contains the necessary models, and we can create the keys for the same. \n",
    "    \n",
    "    - We can create custom models using the ModelFile\n",
    "        FROM ./vicuna-33b-Q4_0.gguf\n",
    "        ollama create vicuna -f ModelFile\n",
    "        ollama run vicuna\n",
    "    \n",
    "    - We can customize the model generation prompts.\n",
    "        \n",
    "        - ollama pull llama2\n",
    "\n",
    "        - ModelFile\n",
    "        FROM llama2\n",
    "        # set the temperature to 1 [higher is more creative, lower is more coherent]\n",
    "        PARAMETER temperature 1\n",
    "        # set the system message\n",
    "        SYSTEM \"\"\"\n",
    "        You are Mario from Super Mario Bros. Answer as Mario, the assistant, only.\n",
    "        \"\"\"\n",
    "\n",
    "        - ollama create mario -f ./ModelFile\n",
    "        \n",
    "        - ollama run mario\n",
    "\n",
    "#### Following are the steps to serve the model\n",
    "\n",
    "    - Start the ollama server \n",
    "        ./ollama serve\n",
    "\n",
    "    - Serve the model\n",
    "        ./ollama run llama2\n",
    "\n",
    "    - Generate with model\n",
    "  \n",
    "    curl http://localhost:11434/api/generate -d '{\n",
    "      \"model\": \"llama2\",\n",
    "      \"prompt\":\"Why is the sky blue?\"\n",
    "      }'\n",
    "    \n",
    "    - Chat with Model\n",
    "  \n",
    "    curl http://localhost:11434/api/chat -d '{\n",
    "      \"model\": \"mistral\",\n",
    "      \"messages\": [\n",
    "        { \"role\": \"user\", \"content\": \"why is the sky blue?\" }\n",
    "        ]\n",
    "    }'"
   ]
  },
  {
   "cell_type": "markdown",
   "metadata": {},
   "source": [
    "#### There is a way to implement the model that is already present\n",
    "\n",
    "https://github.com/ollama/ollama/blob/main/docs/import.md\n",
    "\n",
    "- clone the model \n",
    "    git lfs install\n",
    "\n",
    "git clone https://huggingface.co/mistralai/Mistral-7B-Instruct-v0.1 model\n",
    "\n",
    "- python llm/llama.cpp/convert.py ./model --outtype f16 --outfile converted.bin\n",
    "\n",
    "- llm/llama.cpp/quantize converted.bin quantized.bin q4_0\n",
    "\n",
    "- Write a ModelFile\n",
    "\n",
    "FROM quantized.bin\n",
    "TEMPLATE \"[INST] {{ .Prompt }} [/INST]\"\n",
    "\n",
    "- Create a ModelFile\n",
    "\n",
    "    Ollama create example -f ModelFile\n",
    "\n",
    "- Run Model\n",
    "\n",
    "    ollama run example \"generate example\"\n",
    "\n",
    "- Push model to ollama account\n",
    "\n",
    "    ollama cp example <your username>/example\n",
    "\n",
    "    ollama push <your username>/example \n",
    "    \n"
   ]
  },
  {
   "cell_type": "code",
   "execution_count": 2,
   "metadata": {},
   "outputs": [],
   "source": [
    "quantisation = [\"q2_K\", \"q3_K\", \"q3_K_S\", \"q3_K_M\", \"q3_K_L\",\n",
    "                \"q4_0 (recommended)\", \"q4_1\", \"q4_K\", \"q4_K_S\", \n",
    "                \"q4_K_M\", \"q5_0\", \"q5_1\", \"q5_K\", \"q5_K_S\", \"q5_K_M\",\n",
    "                \"q6_K\", \"q8_0\", \"f16\"]\n",
    "\n",
    "models_details = [\n",
    "  {\n",
    "    \"Model\": \"Llama 2\",\n",
    "    \"Parameters\": \"7B\",\n",
    "    \"Size\": \"3.8GB\",\n",
    "    \"Download\": \"ollama run llama2\"\n",
    "  },\n",
    "  {\n",
    "    \"Model\": \"Mistral\",\n",
    "    \"Parameters\": \"7B\",\n",
    "    \"Size\": \"4.1GB\",\n",
    "    \"Download\": \"ollama run mistral\"\n",
    "  },\n",
    "  {\n",
    "    \"Model\": \"Dolphin Phi\",\n",
    "    \"Parameters\": \"2.7B\",\n",
    "    \"Size\": \"1.6GB\",\n",
    "    \"Download\": \"ollama run dolphin-phi\"\n",
    "  },\n",
    "  {\n",
    "    \"Model\": \"Phi-2\",\n",
    "    \"Parameters\": \"2.7B\",\n",
    "    \"Size\": \"1.7GB\",\n",
    "    \"Download\": \"ollama run phi\"\n",
    "  },\n",
    "  {\n",
    "    \"Model\": \"Neural Chat\",\n",
    "    \"Parameters\": \"7B\",\n",
    "    \"Size\": \"4.1GB\",\n",
    "    \"Download\": \"ollama run neural-chat\"\n",
    "  },\n",
    "  {\n",
    "    \"Model\": \"Starling\",\n",
    "    \"Parameters\": \"7B\",\n",
    "    \"Size\": \"4.1GB\",\n",
    "    \"Download\": \"ollama run starling-lm\"\n",
    "  },\n",
    "  {\n",
    "    \"Model\": \"Code Llama\",\n",
    "    \"Parameters\": \"7B\",\n",
    "    \"Size\": \"3.8GB\",\n",
    "    \"Download\": \"ollama run codellama\"\n",
    "  },\n",
    "  {\n",
    "    \"Model\": \"Llama 2 Uncensored\",\n",
    "    \"Parameters\": \"7B\",\n",
    "    \"Size\": \"3.8GB\",\n",
    "    \"Download\": \"ollama run llama2-uncensored\"\n",
    "  },\n",
    "  {\n",
    "    \"Model\": \"Llama 2 13B\",\n",
    "    \"Parameters\": \"13B\",\n",
    "    \"Size\": \"7.3GB\",\n",
    "    \"Download\": \"ollama run llama2:13b\"\n",
    "  },\n",
    "  {\n",
    "    \"Model\": \"Llama 2 70B\",\n",
    "    \"Parameters\": \"70B\",\n",
    "    \"Size\": \"39GB\",\n",
    "    \"Download\": \"ollama run llama2:70b\"\n",
    "  },\n",
    "  {\n",
    "    \"Model\": \"Orca Mini\",\n",
    "    \"Parameters\": \"3B\",\n",
    "    \"Size\": \"1.9GB\",\n",
    "    \"Download\": \"ollama run orca-mini\"\n",
    "  },\n",
    "  {\n",
    "    \"Model\": \"Vicuna\",\n",
    "    \"Parameters\": \"7B\",\n",
    "    \"Size\": \"3.8GB\",\n",
    "    \"Download\": \"ollama run vicuna\"\n",
    "  },\n",
    "  {\n",
    "    \"Model\": \"LLaVA\",\n",
    "    \"Parameters\": \"7B\",\n",
    "    \"Size\": \"4.5GB\",\n",
    "    \"Download\": \"ollama run llava\"\n",
    "  },\n",
    "  {\n",
    "    \"Model\": \"Gemma\",\n",
    "    \"Parameters\": \"2B\",\n",
    "    \"Size\": \"1.4GB\",\n",
    "    \"Download\": \"ollama run gemma:2b\"\n",
    "  },\n",
    "  {\n",
    "    \"Model\": \"Gemma\",\n",
    "    \"Parameters\": \"7B\",\n",
    "    \"Size\": \"4.8GB\",\n",
    "    \"Download\": \"ollama run gemma:7b\"\n",
    "  }\n",
    "]"
   ]
  },
  {
   "cell_type": "code",
   "execution_count": 1,
   "metadata": {},
   "outputs": [
    {
     "ename": "ModuleNotFoundError",
     "evalue": "No module named 'ollama'",
     "output_type": "error",
     "traceback": [
      "\u001b[0;31m---------------------------------------------------------------------------\u001b[0m",
      "\u001b[0;31mModuleNotFoundError\u001b[0m                       Traceback (most recent call last)",
      "Cell \u001b[0;32mIn[1], line 1\u001b[0m\n\u001b[0;32m----> 1\u001b[0m \u001b[38;5;28;01mimport\u001b[39;00m \u001b[38;5;21;01mollama\u001b[39;00m\n",
      "\u001b[0;31mModuleNotFoundError\u001b[0m: No module named 'ollama'"
     ]
    }
   ],
   "source": [
    "import ollama"
   ]
  },
  {
   "cell_type": "code",
   "execution_count": 3,
   "metadata": {},
   "outputs": [],
   "source": [
    "from ollama import Client\n",
    "client = Client(host='http://aicontroller:11434')  "
   ]
  },
  {
   "cell_type": "code",
   "execution_count": 10,
   "metadata": {},
   "outputs": [],
   "source": [
    "response = client.chat(model='gemma:2b', \n",
    "                       messages=[\n",
    "  {\n",
    "    'role': 'user',\n",
    "    'content': 'Why is the terminal black in linux?',\n",
    "  },\n",
    "])"
   ]
  },
  {
   "cell_type": "code",
   "execution_count": 11,
   "metadata": {},
   "outputs": [
    {
     "data": {
      "text/html": [
       "<pre style=\"white-space:pre;overflow-x:auto;line-height:normal;font-family:Menlo,'DejaVu Sans Mono',consolas,'Courier New',monospace\">The terminal is typically black because it is using the console implementation of the terminal. The console is a \n",
       "text-based interface that allows users to interact with the operating system, similar to a command line. The \n",
       "terminal is usually connected to a running operating system, such as Linux, and provides a way for users to enter \n",
       "commands and view output from commands. The term <span style=\"color: #008000; text-decoration-color: #008000\">\"black\"</span> refers to the terminal's lack of colorized output, which \n",
       "is often used to provide a more neutral and uncluttered appearance.\n",
       "</pre>\n"
      ],
      "text/plain": [
       "The terminal is typically black because it is using the console implementation of the terminal. The console is a \n",
       "text-based interface that allows users to interact with the operating system, similar to a command line. The \n",
       "terminal is usually connected to a running operating system, such as Linux, and provides a way for users to enter \n",
       "commands and view output from commands. The term \u001b[32m\"black\"\u001b[0m refers to the terminal's lack of colorized output, which \n",
       "is often used to provide a more neutral and uncluttered appearance.\n"
      ]
     },
     "metadata": {},
     "output_type": "display_data"
    }
   ],
   "source": [
    "from rich import print\n",
    "\n",
    "print(response['message']['content'])"
   ]
  },
  {
   "cell_type": "code",
   "execution_count": 12,
   "metadata": {},
   "outputs": [],
   "source": [
    "response = client.generate(model='gemma:2b',\n",
    "                           prompt='What is the color of sun?')"
   ]
  },
  {
   "cell_type": "code",
   "execution_count": 15,
   "metadata": {},
   "outputs": [
    {
     "data": {
      "text/html": [
       "<pre style=\"white-space:pre;overflow-x:auto;line-height:normal;font-family:Menlo,'DejaVu Sans Mono',consolas,'Courier New',monospace\"><span style=\"font-weight: bold\">{</span>\n",
       "    <span style=\"color: #008000; text-decoration-color: #008000\">'model'</span>: <span style=\"color: #008000; text-decoration-color: #008000\">'gemma:2b'</span>,\n",
       "    <span style=\"color: #008000; text-decoration-color: #008000\">'created_at'</span>: <span style=\"color: #008000; text-decoration-color: #008000\">'2024-03-01T08:37:12.167274809Z'</span>,\n",
       "    <span style=\"color: #008000; text-decoration-color: #008000\">'response'</span>: <span style=\"color: #008000; text-decoration-color: #008000\">'The color of the Sun is **yellow**. It is a warm, bright color that is visible to the human eye.'</span>,\n",
       "    <span style=\"color: #008000; text-decoration-color: #008000\">'done'</span>: <span style=\"color: #00ff00; text-decoration-color: #00ff00; font-style: italic\">True</span>,\n",
       "    <span style=\"color: #008000; text-decoration-color: #008000\">'context'</span>: <span style=\"font-weight: bold\">[</span>\n",
       "        <span style=\"color: #008080; text-decoration-color: #008080; font-weight: bold\">106</span>,\n",
       "        <span style=\"color: #008080; text-decoration-color: #008080; font-weight: bold\">1645</span>,\n",
       "        <span style=\"color: #008080; text-decoration-color: #008080; font-weight: bold\">108</span>,\n",
       "        <span style=\"color: #008080; text-decoration-color: #008080; font-weight: bold\">1841</span>,\n",
       "        <span style=\"color: #008080; text-decoration-color: #008080; font-weight: bold\">603</span>,\n",
       "        <span style=\"color: #008080; text-decoration-color: #008080; font-weight: bold\">573</span>,\n",
       "        <span style=\"color: #008080; text-decoration-color: #008080; font-weight: bold\">2881</span>,\n",
       "        <span style=\"color: #008080; text-decoration-color: #008080; font-weight: bold\">576</span>,\n",
       "        <span style=\"color: #008080; text-decoration-color: #008080; font-weight: bold\">4389</span>,\n",
       "        <span style=\"color: #008080; text-decoration-color: #008080; font-weight: bold\">235336</span>,\n",
       "        <span style=\"color: #008080; text-decoration-color: #008080; font-weight: bold\">107</span>,\n",
       "        <span style=\"color: #008080; text-decoration-color: #008080; font-weight: bold\">108</span>,\n",
       "        <span style=\"color: #008080; text-decoration-color: #008080; font-weight: bold\">106</span>,\n",
       "        <span style=\"color: #008080; text-decoration-color: #008080; font-weight: bold\">2516</span>,\n",
       "        <span style=\"color: #008080; text-decoration-color: #008080; font-weight: bold\">108</span>,\n",
       "        <span style=\"color: #008080; text-decoration-color: #008080; font-weight: bold\">651</span>,\n",
       "        <span style=\"color: #008080; text-decoration-color: #008080; font-weight: bold\">2881</span>,\n",
       "        <span style=\"color: #008080; text-decoration-color: #008080; font-weight: bold\">576</span>,\n",
       "        <span style=\"color: #008080; text-decoration-color: #008080; font-weight: bold\">573</span>,\n",
       "        <span style=\"color: #008080; text-decoration-color: #008080; font-weight: bold\">7445</span>,\n",
       "        <span style=\"color: #008080; text-decoration-color: #008080; font-weight: bold\">603</span>,\n",
       "        <span style=\"color: #008080; text-decoration-color: #008080; font-weight: bold\">5231</span>,\n",
       "        <span style=\"color: #008080; text-decoration-color: #008080; font-weight: bold\">22006</span>,\n",
       "        <span style=\"color: #008080; text-decoration-color: #008080; font-weight: bold\">168428</span>,\n",
       "        <span style=\"color: #008080; text-decoration-color: #008080; font-weight: bold\">1165</span>,\n",
       "        <span style=\"color: #008080; text-decoration-color: #008080; font-weight: bold\">603</span>,\n",
       "        <span style=\"color: #008080; text-decoration-color: #008080; font-weight: bold\">476</span>,\n",
       "        <span style=\"color: #008080; text-decoration-color: #008080; font-weight: bold\">8056</span>,\n",
       "        <span style=\"color: #008080; text-decoration-color: #008080; font-weight: bold\">235269</span>,\n",
       "        <span style=\"color: #008080; text-decoration-color: #008080; font-weight: bold\">8660</span>,\n",
       "        <span style=\"color: #008080; text-decoration-color: #008080; font-weight: bold\">2881</span>,\n",
       "        <span style=\"color: #008080; text-decoration-color: #008080; font-weight: bold\">674</span>,\n",
       "        <span style=\"color: #008080; text-decoration-color: #008080; font-weight: bold\">603</span>,\n",
       "        <span style=\"color: #008080; text-decoration-color: #008080; font-weight: bold\">12918</span>,\n",
       "        <span style=\"color: #008080; text-decoration-color: #008080; font-weight: bold\">577</span>,\n",
       "        <span style=\"color: #008080; text-decoration-color: #008080; font-weight: bold\">573</span>,\n",
       "        <span style=\"color: #008080; text-decoration-color: #008080; font-weight: bold\">3515</span>,\n",
       "        <span style=\"color: #008080; text-decoration-color: #008080; font-weight: bold\">6312</span>,\n",
       "        <span style=\"color: #008080; text-decoration-color: #008080; font-weight: bold\">235265</span>,\n",
       "        <span style=\"color: #008080; text-decoration-color: #008080; font-weight: bold\">107</span>,\n",
       "        <span style=\"color: #008080; text-decoration-color: #008080; font-weight: bold\">108</span>\n",
       "    <span style=\"font-weight: bold\">]</span>,\n",
       "    <span style=\"color: #008000; text-decoration-color: #008000\">'total_duration'</span>: <span style=\"color: #008080; text-decoration-color: #008080; font-weight: bold\">191383667</span>,\n",
       "    <span style=\"color: #008000; text-decoration-color: #008000\">'load_duration'</span>: <span style=\"color: #008080; text-decoration-color: #008080; font-weight: bold\">870594</span>,\n",
       "    <span style=\"color: #008000; text-decoration-color: #008000\">'prompt_eval_count'</span>: <span style=\"color: #008080; text-decoration-color: #008080; font-weight: bold\">12</span>,\n",
       "    <span style=\"color: #008000; text-decoration-color: #008000\">'prompt_eval_duration'</span>: <span style=\"color: #008080; text-decoration-color: #008080; font-weight: bold\">39338000</span>,\n",
       "    <span style=\"color: #008000; text-decoration-color: #008000\">'eval_count'</span>: <span style=\"color: #008080; text-decoration-color: #008080; font-weight: bold\">25</span>,\n",
       "    <span style=\"color: #008000; text-decoration-color: #008000\">'eval_duration'</span>: <span style=\"color: #008080; text-decoration-color: #008080; font-weight: bold\">150647000</span>\n",
       "<span style=\"font-weight: bold\">}</span>\n",
       "</pre>\n"
      ],
      "text/plain": [
       "\u001b[1m{\u001b[0m\n",
       "    \u001b[32m'model'\u001b[0m: \u001b[32m'gemma:2b'\u001b[0m,\n",
       "    \u001b[32m'created_at'\u001b[0m: \u001b[32m'2024-03-01T08:37:12.167274809Z'\u001b[0m,\n",
       "    \u001b[32m'response'\u001b[0m: \u001b[32m'The color of the Sun is **yellow**. It is a warm, bright color that is visible to the human eye.'\u001b[0m,\n",
       "    \u001b[32m'done'\u001b[0m: \u001b[3;92mTrue\u001b[0m,\n",
       "    \u001b[32m'context'\u001b[0m: \u001b[1m[\u001b[0m\n",
       "        \u001b[1;36m106\u001b[0m,\n",
       "        \u001b[1;36m1645\u001b[0m,\n",
       "        \u001b[1;36m108\u001b[0m,\n",
       "        \u001b[1;36m1841\u001b[0m,\n",
       "        \u001b[1;36m603\u001b[0m,\n",
       "        \u001b[1;36m573\u001b[0m,\n",
       "        \u001b[1;36m2881\u001b[0m,\n",
       "        \u001b[1;36m576\u001b[0m,\n",
       "        \u001b[1;36m4389\u001b[0m,\n",
       "        \u001b[1;36m235336\u001b[0m,\n",
       "        \u001b[1;36m107\u001b[0m,\n",
       "        \u001b[1;36m108\u001b[0m,\n",
       "        \u001b[1;36m106\u001b[0m,\n",
       "        \u001b[1;36m2516\u001b[0m,\n",
       "        \u001b[1;36m108\u001b[0m,\n",
       "        \u001b[1;36m651\u001b[0m,\n",
       "        \u001b[1;36m2881\u001b[0m,\n",
       "        \u001b[1;36m576\u001b[0m,\n",
       "        \u001b[1;36m573\u001b[0m,\n",
       "        \u001b[1;36m7445\u001b[0m,\n",
       "        \u001b[1;36m603\u001b[0m,\n",
       "        \u001b[1;36m5231\u001b[0m,\n",
       "        \u001b[1;36m22006\u001b[0m,\n",
       "        \u001b[1;36m168428\u001b[0m,\n",
       "        \u001b[1;36m1165\u001b[0m,\n",
       "        \u001b[1;36m603\u001b[0m,\n",
       "        \u001b[1;36m476\u001b[0m,\n",
       "        \u001b[1;36m8056\u001b[0m,\n",
       "        \u001b[1;36m235269\u001b[0m,\n",
       "        \u001b[1;36m8660\u001b[0m,\n",
       "        \u001b[1;36m2881\u001b[0m,\n",
       "        \u001b[1;36m674\u001b[0m,\n",
       "        \u001b[1;36m603\u001b[0m,\n",
       "        \u001b[1;36m12918\u001b[0m,\n",
       "        \u001b[1;36m577\u001b[0m,\n",
       "        \u001b[1;36m573\u001b[0m,\n",
       "        \u001b[1;36m3515\u001b[0m,\n",
       "        \u001b[1;36m6312\u001b[0m,\n",
       "        \u001b[1;36m235265\u001b[0m,\n",
       "        \u001b[1;36m107\u001b[0m,\n",
       "        \u001b[1;36m108\u001b[0m\n",
       "    \u001b[1m]\u001b[0m,\n",
       "    \u001b[32m'total_duration'\u001b[0m: \u001b[1;36m191383667\u001b[0m,\n",
       "    \u001b[32m'load_duration'\u001b[0m: \u001b[1;36m870594\u001b[0m,\n",
       "    \u001b[32m'prompt_eval_count'\u001b[0m: \u001b[1;36m12\u001b[0m,\n",
       "    \u001b[32m'prompt_eval_duration'\u001b[0m: \u001b[1;36m39338000\u001b[0m,\n",
       "    \u001b[32m'eval_count'\u001b[0m: \u001b[1;36m25\u001b[0m,\n",
       "    \u001b[32m'eval_duration'\u001b[0m: \u001b[1;36m150647000\u001b[0m\n",
       "\u001b[1m}\u001b[0m\n"
      ]
     },
     "metadata": {},
     "output_type": "display_data"
    }
   ],
   "source": [
    "print(response)"
   ]
  },
  {
   "cell_type": "code",
   "execution_count": 14,
   "metadata": {},
   "outputs": [
    {
     "data": {
      "text/html": [
       "<pre style=\"white-space:pre;overflow-x:auto;line-height:normal;font-family:Menlo,'DejaVu Sans Mono',consolas,'Courier New',monospace\">The color of the Sun is **yellow**. It is a warm, bright color that is visible to the human eye.\n",
       "</pre>\n"
      ],
      "text/plain": [
       "The color of the Sun is **yellow**. It is a warm, bright color that is visible to the human eye.\n"
      ]
     },
     "metadata": {},
     "output_type": "display_data"
    }
   ],
   "source": [
    "print(response['response'])"
   ]
  },
  {
   "cell_type": "code",
   "execution_count": 16,
   "metadata": {},
   "outputs": [
    {
     "data": {
      "text/plain": [
       "{'models': [{'name': 'gemma:2b',\n",
       "   'model': 'gemma:2b',\n",
       "   'modified_at': '2024-03-01T13:28:59.9668293+05:30',\n",
       "   'size': 1678456656,\n",
       "   'digest': 'b50d6c999e592ae4f79acae23b4feaefbdfceaa7cd366df2610e3072c052a160',\n",
       "   'details': {'parent_model': '',\n",
       "    'format': 'gguf',\n",
       "    'family': 'gemma',\n",
       "    'families': ['gemma'],\n",
       "    'parameter_size': '3B',\n",
       "    'quantization_level': 'Q4_0'}}]}"
      ]
     },
     "execution_count": 16,
     "metadata": {},
     "output_type": "execute_result"
    }
   ],
   "source": [
    "client.list()  "
   ]
  }
 ],
 "metadata": {
  "kernelspec": {
   "display_name": "Python 3 (ipykernel)",
   "language": "python",
   "name": "python3"
  },
  "language_info": {
   "codemirror_mode": {
    "name": "ipython",
    "version": 3
   },
   "file_extension": ".py",
   "mimetype": "text/x-python",
   "name": "python",
   "nbconvert_exporter": "python",
   "pygments_lexer": "ipython3",
   "version": "3.11.4"
  }
 },
 "nbformat": 4,
 "nbformat_minor": 4
}
