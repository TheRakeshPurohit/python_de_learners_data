{
 "cells": [
  {
   "cell_type": "code",
   "execution_count": 1,
   "metadata": {},
   "outputs": [
    {
     "data": {
      "text/plain": [
       "False"
      ]
     },
     "execution_count": 1,
     "metadata": {},
     "output_type": "execute_result"
    }
   ],
   "source": [
    "from dotenv import load_dotenv\n",
    "from openai import Client\n",
    "\n",
    "load_dotenv(\"D:\\\\python_de_learnert_data\\\\.env\")"
   ]
  },
  {
   "cell_type": "code",
   "execution_count": 4,
   "metadata": {},
   "outputs": [],
   "source": [
    "import json\n",
    "import requests\n",
    "from openai import OpenAI\n",
    "client = OpenAI()"
   ]
  },
  {
   "cell_type": "code",
   "execution_count": 3,
   "metadata": {},
   "outputs": [],
   "source": [
    "def get_length(your_word: str):\n",
    "    \"\"\"Function returns the length of the your_word string\"\"\"\n",
    "    return len(your_word)"
   ]
  },
  {
   "cell_type": "code",
   "execution_count": 13,
   "metadata": {},
   "outputs": [],
   "source": [
    "def run_conversation(content):\n",
    "    messages = [{\"role\": \"user\", \"content\": content}]\n",
    "    tools = [\n",
    "        {\n",
    "            \"type\": \"function\",\n",
    "            \"function\": {\n",
    "                \"name\": \"get_length\",\n",
    "                \"description\": \"Returns the length of the given your_word argument\",\n",
    "                \"parameters\":{\n",
    "                    \"type\": \"object\",\n",
    "                    \"properties\":{\n",
    "                        \"your_word\":{\n",
    "                            \"type\": \"string\",\n",
    "                            \"description\": \"word for which you require the length\",\n",
    "                        }\n",
    "                    }\n",
    "                }\n",
    "            }\n",
    "        }\n",
    "    ]\n",
    "    response = client.chat.completions.create(\n",
    "        messages=messages,\n",
    "        tools=tools,\n",
    "        model=\"gpt-3.5-turbo\",\n",
    "        tool_choice=\"auto\"\n",
    "    ) \n",
    "\n",
    "    response_message = response.choices[0].message\n",
    "    tool_calls = response_message.tool_calls\n",
    "\n",
    "    if tool_calls:\n",
    "        messages.append(response_message)\n",
    "        avbl_fun = {\n",
    "            \"get_length\": get_length,\n",
    "        }\n",
    "        for tool_call in tool_calls:\n",
    "            print(f\"Name of function called: {tool_call.function.name}\")\n",
    "            print(f\"Parameters of function called: {tool_call.function.arguments}\")\n",
    "            function_name = tool_call.function.name\n",
    "            function_obj = avbl_fun[function_name] ## this is where the text function name is \n",
    "            # converted to function_obj \n",
    "            function_args = json.loads(tool_call.function.arguments)\n",
    "            # argument values in the returned texts are converted to objects \n",
    "            function_response = function_obj(\n",
    "                your_word=function_args['your_word']\n",
    "            )\n",
    "            print(f\"Function response: {function_response}\")\n",
    "            # generated value is updated to the messages thread\n",
    "            messages.append({\n",
    "                \"tool_call_id\": tool_call.id,\n",
    "                \"role\": \"tool\",\n",
    "                \"name\": function_name,\n",
    "                \"content\": str(function_response)\n",
    "            }) \n",
    "\n",
    "    second_response = client.chat.completions.create(\n",
    "        model=\"gpt-3.5-turbo\",\n",
    "        messages=messages,\n",
    "        stream=True\n",
    "    ) \n",
    "    return second_response "
   ]
  },
  {
   "cell_type": "code",
   "execution_count": 14,
   "metadata": {},
   "outputs": [],
   "source": [
    "question = \"What is the length of word constantinople\""
   ]
  },
  {
   "cell_type": "code",
   "execution_count": 15,
   "metadata": {},
   "outputs": [
    {
     "name": "stdout",
     "output_type": "stream",
     "text": [
      "Name of function called: get_length\n",
      "Parameters of function called: {\"your_word\":\"constantinople\"}\n",
      "Function response: 14\n"
     ]
    }
   ],
   "source": [
    "response = run_conversation(question)"
   ]
  },
  {
   "cell_type": "code",
   "execution_count": 16,
   "metadata": {},
   "outputs": [
    {
     "name": "stdout",
     "output_type": "stream",
     "text": [
      "  The  length  of  the  word  \" constant in ople \"  is   14 .   "
     ]
    }
   ],
   "source": [
    "for chunk in response:\n",
    "    print(chunk.choices[0].delta.content or \" \", end = \" \", flush=True)"
   ]
  },
  {
   "cell_type": "code",
   "execution_count": null,
   "metadata": {},
   "outputs": [],
   "source": []
  }
 ],
 "metadata": {
  "kernelspec": {
   "display_name": "dspyenv",
   "language": "python",
   "name": "python3"
  },
  "language_info": {
   "codemirror_mode": {
    "name": "ipython",
    "version": 3
   },
   "file_extension": ".py",
   "mimetype": "text/x-python",
   "name": "python",
   "nbconvert_exporter": "python",
   "pygments_lexer": "ipython3",
   "version": "3.11.4"
  }
 },
 "nbformat": 4,
 "nbformat_minor": 2
}
