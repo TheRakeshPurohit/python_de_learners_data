{
 "cells": [
  {
   "cell_type": "code",
   "execution_count": 3,
   "metadata": {},
   "outputs": [],
   "source": [
    "# text classification \n",
    "import enum\n",
    "from pydantic import BaseModel"
   ]
  },
  {
   "cell_type": "code",
   "execution_count": 4,
   "metadata": {},
   "outputs": [],
   "source": [
    "class Labels(str, enum.Enum):\n",
    "    \"\"\"Enum for single-label text classification\"\"\"\n",
    "    SPAM = \"spam\"\n",
    "    NOT_SPAM = \"not_spam\"\n",
    "\n",
    "class SinglePrediction(BaseModel):\n",
    "    \"\"\"Class for a single class label predictions\"\"\"\n",
    "    class_label: Labels"
   ]
  },
  {
   "cell_type": "code",
   "execution_count": 2,
   "metadata": {},
   "outputs": [],
   "source": [
    "from openai import OpenAI\n",
    "import instructor"
   ]
  },
  {
   "cell_type": "code",
   "execution_count": 6,
   "metadata": {},
   "outputs": [],
   "source": [
    "instructor_client = instructor.from_openai(OpenAI())"
   ]
  },
  {
   "cell_type": "code",
   "execution_count": 9,
   "metadata": {},
   "outputs": [],
   "source": [
    "def text_classify(data) -> SinglePrediction:\n",
    "    return instructor_client.chat.completions.create(\n",
    "        model=\"gpt-3.5-turbo\",\n",
    "        response_model=SinglePrediction,\n",
    "        messages=[\n",
    "            {\n",
    "                \"role\": \"user\",\n",
    "                \"content\": f\"Classify the following text: {data}\"\n",
    "            }\n",
    "        ]\n",
    "    )"
   ]
  },
  {
   "cell_type": "code",
   "execution_count": 10,
   "metadata": {},
   "outputs": [],
   "source": [
    "predic1 = text_classify(\"Hey there I T'challa the Nigerian prince planning to write my hard earned dollars to your account.\")\n",
    "assert predic1.class_label == Labels.SPAM"
   ]
  },
  {
   "cell_type": "code",
   "execution_count": 11,
   "metadata": {},
   "outputs": [
    {
     "data": {
      "text/plain": [
       "<Labels.SPAM: 'spam'>"
      ]
     },
     "execution_count": 11,
     "metadata": {},
     "output_type": "execute_result"
    }
   ],
   "source": [
    "predic1.class_label"
   ]
  },
  {
   "cell_type": "code",
   "execution_count": 14,
   "metadata": {},
   "outputs": [],
   "source": [
    "# multi-label classification\n",
    "from typing import List\n",
    "\n",
    "class MultiLabels(str, enum.Enum):\n",
    "    TECH_ISSUE = \"tech_issue\"\n",
    "    BILLING = \"billing\"\n",
    "    GENERAL_QUERY = \"general_query\"\n",
    "\n",
    "class MultiClassPrediction(BaseModel):\n",
    "    \"\"\"\n",
    "    Class for a multi-class label prediction\n",
    "    \"\"\" \n",
    "    class_labels : List[MultiLabels]"
   ]
  },
  {
   "cell_type": "code",
   "execution_count": 15,
   "metadata": {},
   "outputs": [],
   "source": [
    "def multi_classify(data) -> MultiClassPrediction:\n",
    "    return instructor_client.chat.completions.create(\n",
    "        model='gpt-3.5-turbo',\n",
    "        response_model=MultiClassPrediction,\n",
    "        messages=[\n",
    "            {\n",
    "                \"role\": \"user\",\n",
    "                \"content\": f\"Classify the following the support ticket: {data}\"\n",
    "            }\n",
    "        ]\n",
    "    )"
   ]
  },
  {
   "cell_type": "code",
   "execution_count": 16,
   "metadata": {},
   "outputs": [
    {
     "data": {
      "text/plain": [
       "MultiClassPrediction(class_labels=[<MultiLabels.TECH_ISSUE: 'tech_issue'>, <MultiLabels.BILLING: 'billing'>, <MultiLabels.GENERAL_QUERY: 'general_query'>])"
      ]
     },
     "execution_count": 16,
     "metadata": {},
     "output_type": "execute_result"
    }
   ],
   "source": [
    "ticket = \"My account is locked and I can't access my billing info.\"\n",
    "prediction = multi_classify(ticket)\n",
    "prediction"
   ]
  },
  {
   "cell_type": "code",
   "execution_count": 17,
   "metadata": {},
   "outputs": [
    {
     "data": {
      "text/plain": [
       "[<MultiLabels.TECH_ISSUE: 'tech_issue'>,\n",
       " <MultiLabels.BILLING: 'billing'>,\n",
       " <MultiLabels.GENERAL_QUERY: 'general_query'>]"
      ]
     },
     "execution_count": 17,
     "metadata": {},
     "output_type": "execute_result"
    }
   ],
   "source": [
    "prediction.class_labels\n",
    "# Its pulling out all the classes"
   ]
  },
  {
   "cell_type": "code",
   "execution_count": 3,
   "metadata": {},
   "outputs": [],
   "source": [
    "from openai import AsyncOpenAI\n",
    "async_client = instructor.from_openai(\n",
    "    AsyncOpenAI()\n",
    ")"
   ]
  },
  {
   "cell_type": "code",
   "execution_count": 4,
   "metadata": {},
   "outputs": [],
   "source": [
    "tags =[\n",
    "    {\"id\": 0,\n",
    "     \"name\": \"personal\",\n",
    "     \"instruction\": \"Personal Information\"},\n",
    "    {\"id\": 1,\n",
    "     \"name\": \"phone\",\n",
    "     \"instruction\": \"Phone Number\"},\n",
    "    {\"id\": 2,\n",
    "     \"name\": \"email\",\n",
    "     \"instruction\": \"Email Address\"},\n",
    "    {\"id\": 3,\n",
    "     \"name\": \"address\",\n",
    "     \"instruction\": \"Home Address\"},\n",
    "    {\"id\": 4,\n",
    "     \"name\": \"Other\",\n",
    "     \"instruction\": \"Other Information\"},\n",
    "]"
   ]
  },
  {
   "cell_type": "code",
   "execution_count": 5,
   "metadata": {},
   "outputs": [],
   "source": [
    "from typing import List\n",
    "import asyncio\n",
    "from pydantic import ( \n",
    "    BaseModel,\n",
    "    ValidationInfo, \n",
    "    model_validator\n",
    ")\n",
    "\n",
    "class Tag(BaseModel):\n",
    "    id: int\n",
    "    name: str\n",
    "\n",
    "    @model_validator(mode=\"after\")\n",
    "    def validate_ids(self, info: ValidationInfo):\n",
    "        context = info.context\n",
    "        if context:\n",
    "            tags: List[Tag] = context.get(\"tags\")\n",
    "            assert self.id in {\n",
    "                tag.id for tag in tags\n",
    "            }, f\"Tag ID {self.id} not found in context\"\n",
    "            assert self.name in {\n",
    "                tag.name for tag in tags\n",
    "            }, f\"Tag name {self.name} not found in context\"\n",
    "        return self\n",
    "\n",
    "class TagWithInstructions(Tag):\n",
    "    instructions: str\n",
    "\n",
    "class TagRequest(BaseModel):\n",
    "    texts: List[str]\n",
    "    tags: List[TagWithInstructions]\n",
    "\n",
    "class TagResponse(BaseModel):\n",
    "    texts: List[str]\n",
    "    predictions: List[Tag]"
   ]
  },
  {
   "cell_type": "code",
   "execution_count": 6,
   "metadata": {},
   "outputs": [],
   "source": [
    "async def tag_single_request(text: str, tags: List[Tag]) -> Tag:\n",
    "    allowed_tags = [(tag.id, tag.name) for tag in tags]\n",
    "    allowed_tags_str = \", \".join([f\"`{tag}`\" for tag in allowed_tags])\n",
    "\n",
    "    return await async_client.chat.completions.create(\n",
    "        model=\"gpt-4-turbo-preview\",\n",
    "        messages=[\n",
    "            {\n",
    "                \"role\": \"system\",\n",
    "                \"content\": \"You are a world-class text tagging system.\",\n",
    "            },\n",
    "            {\n",
    "                \"role\": \"user\",\n",
    "                \"content\": f\"Describe the following text: `{text}`\"},\n",
    "            {\n",
    "                \"role\": \"user\",\n",
    "                \"content\": f\"Here are the allowed tags: {allowed_tags_str}\",\n",
    "            },\n",
    "        ],\n",
    "        response_model=Tag,  # Minimizes the hallucination of tags that are not in the allowed tags.\n",
    "        validation_context={\"tags\": tags},\n",
    "    )\n",
    "\n",
    "async def tag_request(request: TagRequest) -> TagResponse:\n",
    "    predictions = await asyncio.gather(\n",
    "        *[tag_single_request(text, request.tags) for text in request.texts]\n",
    "    )\n",
    "    return TagResponse(\n",
    "        texts=request.texts,\n",
    "        predictions=predictions,\n",
    "    )"
   ]
  },
  {
   "cell_type": "code",
   "execution_count": null,
   "metadata": {},
   "outputs": [],
   "source": [
    "tags = [\n",
    "    TagWithInstructions(id=0, name=\"personal\", instructions=\"Personal information\"),\n",
    "    TagWithInstructions(id=1, name=\"phone\", instructions=\"Phone number\"),\n",
    "    TagWithInstructions(id=2, name=\"email\", instructions=\"Email address\"),\n",
    "    TagWithInstructions(id=3, name=\"address\", instructions=\"Address\"),\n",
    "    TagWithInstructions(id=4, name=\"Other\", instructions=\"Other information\"),\n",
    "]\n",
    "\n",
    "# Texts will be a range of different questions.\n",
    "# Such as \"How much does it cost?\", \"What is your privacy policy?\", etc.\n",
    "\n",
    "texts = [\n",
    "    \"What is your phone number?\",\n",
    "    \"What is your email address?\",\n",
    "    \"What is your address?\",\n",
    "    \"What is your privacy policy?\",\n",
    "]\n",
    "# The request will contain the texts and the tags.\n",
    "\n",
    "request = TagRequest(texts=texts, tags=tags)\n",
    "# The response will contain the texts, the predicted tags, and the confidence.\n",
    "\n",
    "response = asyncio.run(tag_request(request))\n",
    "\n",
    "print(response.model_dump_json(indent=2))"
   ]
  },
  {
   "cell_type": "code",
   "execution_count": null,
   "metadata": {},
   "outputs": [],
   "source": []
  }
 ],
 "metadata": {
  "kernelspec": {
   "display_name": "agents_env",
   "language": "python",
   "name": "python3"
  },
  "language_info": {
   "codemirror_mode": {
    "name": "ipython",
    "version": 3
   },
   "file_extension": ".py",
   "mimetype": "text/x-python",
   "name": "python",
   "nbconvert_exporter": "python",
   "pygments_lexer": "ipython3",
   "version": "3.12.0"
  }
 },
 "nbformat": 4,
 "nbformat_minor": 2
}
