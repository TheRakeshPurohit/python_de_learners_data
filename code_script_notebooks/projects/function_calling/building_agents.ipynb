{
 "cells": [
  {
   "cell_type": "code",
   "execution_count": 3,
   "metadata": {},
   "outputs": [
    {
     "data": {
      "text/plain": [
       "True"
      ]
     },
     "execution_count": 3,
     "metadata": {},
     "output_type": "execute_result"
    }
   ],
   "source": [
    "from dotenv import load_dotenv\n",
    "load_dotenv(\"D:\\\\gitFolders\\\\python_de_learners_data\\\\.env\")"
   ]
  },
  {
   "cell_type": "code",
   "execution_count": 5,
   "metadata": {},
   "outputs": [],
   "source": [
    "from agency_swarm.tools import BaseTool\n",
    "from pydantic import Field, model_validator, FieldSerializationInfo\n",
    "from typing import List\n",
    "import re"
   ]
  },
  {
   "cell_type": "code",
   "execution_count": 6,
   "metadata": {},
   "outputs": [],
   "source": [
    "from agency_swarm.tools import BaseTool\n",
    "from pydantic import Field"
   ]
  },
  {
   "cell_type": "code",
   "execution_count": 7,
   "metadata": {},
   "outputs": [],
   "source": [
    "class MyCustomTool(BaseTool):\n",
    "    \"\"\"This tool takes three strings \n",
    "    and places them inside a larger \n",
    "    string. Description can be used \n",
    "    by the agent when it has to be \n",
    "    used.\"\"\"\n",
    "    word1: str = Field(description=\"This is the first word\")\n",
    "    word2: str = Field(description=\"This is the second word\")\n",
    "    word3: str = Field(description=\"This is the third word\")\n",
    "\n",
    "    def run(self):\n",
    "        make_sentence = f\"\"\"This sentence contains three words \n",
    "        that are sent to it through the tool call. The first \n",
    "        word is {self.word1}. The third word is {self.word2} \n",
    "        and finally we have {self.word2}\"\"\"\n",
    "        return make_sentence"
   ]
  },
  {
   "cell_type": "code",
   "execution_count": 9,
   "metadata": {},
   "outputs": [],
   "source": [
    "from agency_swarm import Agent\n",
    "ceo = Agent(name=\"CEO\",\n",
    "            description=\"responsible for client communications, internal team planning and task management \",\n",
    "            instructions=\"You must converse with others to ensure the task execution is completed\",\n",
    "            tools=[])\n",
    "\n",
    "dev = Agent(name=\"dev\",\n",
    "            description=\"Responsible for executing the ideas asked by client\",\n",
    "            instructions=\"You must execute the instructions provided by the CEO and provide feedback\",\n",
    "            tools=[MyCustomTool])"
   ]
  },
  {
   "cell_type": "code",
   "execution_count": 18,
   "metadata": {},
   "outputs": [],
   "source": [
    "from agency_swarm import Agency\n",
    "\n",
    "agency = Agency([ceo,\n",
    "                 [ceo, dev],\n",
    "                 ],\n",
    "                 shared_instructions=\"You are part of the boutique software development team\")"
   ]
  },
  {
   "cell_type": "code",
   "execution_count": 19,
   "metadata": {},
   "outputs": [
    {
     "name": "stdout",
     "output_type": "stream",
     "text": [
      "THREAD:[ user -> CEO ]: URL https://platform.openai.com/playground/assistants?assistant=asst_0WedAqTLhMSQpDQY4uAEpECC&mode=assistant&thread=thread_WiiZYOuKSrzn6PLkdyeNJ0cB\n"
     ]
    }
   ],
   "source": [
    "completion_output = agency.get_completion(\n",
    "    \"please create a website for our customer\",\n",
    "    yield_messages=False\n",
    ")"
   ]
  },
  {
   "cell_type": "code",
   "execution_count": null,
   "metadata": {},
   "outputs": [],
   "source": [
    "print(completion_output)"
   ]
  },
  {
   "cell_type": "code",
   "execution_count": null,
   "metadata": {},
   "outputs": [],
   "source": []
  },
  {
   "cell_type": "code",
   "execution_count": null,
   "metadata": {},
   "outputs": [],
   "source": []
  },
  {
   "cell_type": "code",
   "execution_count": null,
   "metadata": {},
   "outputs": [],
   "source": []
  }
 ],
 "metadata": {
  "kernelspec": {
   "display_name": "agents_env",
   "language": "python",
   "name": "python3"
  },
  "language_info": {
   "codemirror_mode": {
    "name": "ipython",
    "version": 3
   },
   "file_extension": ".py",
   "mimetype": "text/x-python",
   "name": "python",
   "nbconvert_exporter": "python",
   "pygments_lexer": "ipython3",
   "version": "3.12.0"
  }
 },
 "nbformat": 4,
 "nbformat_minor": 2
}
