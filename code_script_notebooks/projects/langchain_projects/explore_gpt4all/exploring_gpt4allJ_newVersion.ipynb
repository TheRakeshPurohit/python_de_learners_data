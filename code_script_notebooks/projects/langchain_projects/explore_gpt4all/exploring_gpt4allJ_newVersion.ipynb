{
  "nbformat": 4,
  "nbformat_minor": 0,
  "metadata": {
    "colab": {
      "provenance": []
    },
    "kernelspec": {
      "name": "python3",
      "display_name": "Python 3"
    },
    "language_info": {
      "name": "python"
    }
  },
  "cells": [
    {
      "cell_type": "code",
      "execution_count": 16,
      "metadata": {
        "id": "ljcqKw0YylDR"
      },
      "outputs": [],
      "source": [
        "!pip install --upgrade pygpt4all langchain huggingface_hub pyllamacpp> /dev/null"
      ]
    },
    {
      "cell_type": "code",
      "source": [
        "!wget https://gpt4all.io/models/ggml-gpt4all-j-v1.3-groovy.bin"
      ],
      "metadata": {
        "id": "44TW8GcYy85P"
      },
      "execution_count": null,
      "outputs": []
    },
    {
      "cell_type": "code",
      "source": [
        "from pygpt4all.models.gpt4all_j import GPT4All_J\n",
        "\n",
        "def new_text_callback(text):\n",
        "    print(text, end=\"\")\n",
        "\n",
        "model = GPT4All_J('/content/ggml-gpt4all-j-v1.3-groovy.bin')\n"
      ],
      "metadata": {
        "id": "u5mzhwVbyvrL"
      },
      "execution_count": 21,
      "outputs": []
    },
    {
      "cell_type": "code",
      "source": [
        "model.generate(\"Once upon a time, \", \n",
        "               n_predict=55, \n",
        "               new_text_callback=new_text_callback)"
      ],
      "metadata": {
        "colab": {
          "base_uri": "https://localhost:8080/",
          "height": 147
        },
        "id": "awi8BxYZyvyT",
        "outputId": "4ea09599-d047-4bd9-8bbc-c1036921087c"
      },
      "execution_count": 23,
      "outputs": [
        {
          "output_type": "stream",
          "name": "stdout",
          "text": [
            "Once upon ti... oh"
          ]
        },
        {
          "output_type": "stream",
          "name": "stderr",
          "text": [
            "WARNING:root:UnicodeDecodeError of bytes b'\\xad'\n"
          ]
        },
        {
          "output_type": "stream",
          "name": "stdout",
          "text": [
            " A see"
          ]
        },
        {
          "output_type": "stream",
          "name": "stderr",
          "text": [
            "WARNING:root:UnicodeDecodeError of bytes b'\\xad'\n"
          ]
        },
        {
          "output_type": "stream",
          "name": "stdout",
          "text": [
            " A should ask for"
          ]
        },
        {
          "output_type": "stream",
          "name": "stderr",
          "text": [
            "WARNING:root:UnicodeDecodeError of bytes b'\\xad'\n"
          ]
        },
        {
          "output_type": "stream",
          "name": "stdout",
          "text": [
            " clarification When was the last time you Perhaps your mom"
          ]
        },
        {
          "output_type": "stream",
          "name": "stderr",
          "text": [
            "WARNING:root:UnicodeDecodeError of bytes b'\\xad'\n"
          ]
        },
        {
          "output_type": "stream",
          "name": "stdout",
          "text": [
            "<|endoftext|>"
          ]
        },
        {
          "output_type": "execute_result",
          "data": {
            "text/plain": [
              "'Once upon ti... oh A see A should ask for clarification When was the last time you Perhaps your mom<|endoftext|>'"
            ],
            "application/vnd.google.colaboratory.intrinsic+json": {
              "type": "string"
            }
          },
          "metadata": {},
          "execution_count": 23
        }
      ]
    },
    {
      "cell_type": "code",
      "source": [
        "!pip install llama-cpp-python > /dev/null"
      ],
      "metadata": {
        "colab": {
          "base_uri": "https://localhost:8080/"
        },
        "id": "XmKkoF0A2xJ6",
        "outputId": "88ba2a8e-1062-491e-97ed-7b1d3533383f"
      },
      "execution_count": 24,
      "outputs": [
        {
          "output_type": "stream",
          "name": "stdout",
          "text": [
            "Looking in indexes: https://pypi.org/simple, https://us-python.pkg.dev/colab-wheels/public/simple/\n",
            "Collecting llama-cpp-python\n",
            "  Downloading llama_cpp_python-0.1.38.tar.gz (1.1 MB)\n",
            "\u001b[2K     \u001b[90m━━━━━━━━━━━━━━━━━━━━━━━━━━━━━━━━━━━━━━━━\u001b[0m \u001b[32m1.1/1.1 MB\u001b[0m \u001b[31m15.9 MB/s\u001b[0m eta \u001b[36m0:00:00\u001b[0m\n",
            "\u001b[?25h  Installing build dependencies ... \u001b[?25l\u001b[?25hdone\n",
            "  Getting requirements to build wheel ... \u001b[?25l\u001b[?25hdone\n",
            "  Preparing metadata (pyproject.toml) ... \u001b[?25l\u001b[?25hdone\n",
            "Requirement already satisfied: typing-extensions>=4.5.0 in /usr/local/lib/python3.9/dist-packages (from llama-cpp-python) (4.5.0)\n",
            "Building wheels for collected packages: llama-cpp-python\n",
            "  Building wheel for llama-cpp-python (pyproject.toml) ... \u001b[?25l\u001b[?25hdone\n",
            "  Created wheel for llama-cpp-python: filename=llama_cpp_python-0.1.38-cp39-cp39-linux_x86_64.whl size=164837 sha256=d0bafb7c1ef7c281ffb1dce3e16ba85035bbe142fbd47d819706aab955725677\n",
            "  Stored in directory: /root/.cache/pip/wheels/2a/2d/67/6f8385807f0fe541d2fe6ce446c3d5e75984828a7f6f09c992\n",
            "Successfully built llama-cpp-python\n",
            "Installing collected packages: llama-cpp-python\n",
            "Successfully installed llama-cpp-python-0.1.38\n"
          ]
        }
      ]
    },
    {
      "cell_type": "code",
      "source": [
        "from langchain.llms import LlamaCpp\n",
        "from langchain import PromptTemplate, LLMChain\n",
        "from langchain.callbacks.base import CallbackManager\n",
        "from langchain.callbacks.streaming_stdout import StreamingStdOutCallbackHandler"
      ],
      "metadata": {
        "id": "hlX6AXub2Iy1"
      },
      "execution_count": 25,
      "outputs": []
    },
    {
      "cell_type": "code",
      "source": [
        "template = \"\"\"Question: {question}\n",
        "\n",
        "Answer: Let's think step by step.\"\"\"\n",
        "\n",
        "prompt = PromptTemplate(template=template, \n",
        "                        input_variables=[\"question\"])"
      ],
      "metadata": {
        "id": "X3118dlo0XP-"
      },
      "execution_count": 26,
      "outputs": []
    },
    {
      "cell_type": "code",
      "source": [
        "callback_manager = CallbackManager([StreamingStdOutCallbackHandler()])\n",
        "# Verbose is required to pass to the callback manager\n",
        "\n",
        "# Make sure the model path is correct for your system!\n",
        "llm = LlamaCpp(\n",
        "    model_path=\"/content/ggml-gpt4all-j-v1.3-groovy.bin\", \n",
        "    callback_manager=callback_manager, \n",
        "    verbose=True\n",
        ")"
      ],
      "metadata": {
        "colab": {
          "base_uri": "https://localhost:8080/"
        },
        "id": "oQl7wX8T0h3U",
        "outputId": "e4d729d0-eaca-44e0-e352-edea096e0d8a"
      },
      "execution_count": 27,
      "outputs": [
        {
          "output_type": "stream",
          "name": "stderr",
          "text": [
            "AVX = 1 | AVX2 = 1 | AVX512 = 0 | AVX512_VBMI = 0 | AVX512_VNNI = 0 | FMA = 1 | NEON = 0 | ARM_FMA = 0 | F16C = 1 | FP16_VA = 0 | WASM_SIMD = 0 | BLAS = 0 | SSE3 = 1 | VSX = 0 | \n"
          ]
        }
      ]
    },
    {
      "cell_type": "code",
      "source": [
        "llm_chain = LLMChain(prompt=prompt, \n",
        "                     llm=llm)"
      ],
      "metadata": {
        "id": "l---4iuI6Tqe"
      },
      "execution_count": 28,
      "outputs": []
    },
    {
      "cell_type": "code",
      "source": [
        "question = \"What is the name of famed sci-fi author?\""
      ],
      "metadata": {
        "id": "uVDLF4-l6Tlz"
      },
      "execution_count": 30,
      "outputs": []
    },
    {
      "cell_type": "code",
      "source": [
        "type(llm)"
      ],
      "metadata": {
        "colab": {
          "base_uri": "https://localhost:8080/"
        },
        "id": "uUFQAR2c6gdB",
        "outputId": "494249a1-19fa-4633-c018-9b10f3f50938"
      },
      "execution_count": 35,
      "outputs": [
        {
          "output_type": "execute_result",
          "data": {
            "text/plain": [
              "langchain.llms.llamacpp.LlamaCpp"
            ]
          },
          "metadata": {},
          "execution_count": 35
        }
      ]
    }
  ]
}