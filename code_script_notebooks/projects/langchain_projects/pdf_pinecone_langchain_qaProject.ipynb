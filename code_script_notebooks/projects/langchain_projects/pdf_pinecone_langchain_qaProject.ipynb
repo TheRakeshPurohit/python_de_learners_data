{
  "nbformat": 4,
  "nbformat_minor": 0,
  "metadata": {
    "colab": {
      "provenance": [],
      "machine_shape": "hm"
    },
    "kernelspec": {
      "name": "python3",
      "display_name": "Python 3"
    },
    "language_info": {
      "name": "python"
    },
    "gpuClass": "premium"
  },
  "cells": [
    {
      "cell_type": "code",
      "source": [
        "import locale\n",
        "def getpreferredencoding(do_setlocale = True):\n",
        "    return \"UTF-8\"\n",
        "locale.getpreferredencoding = getpreferredencoding"
      ],
      "metadata": {
        "id": "_tgrLGOCV0wT"
      },
      "execution_count": 1,
      "outputs": []
    },
    {
      "cell_type": "code",
      "source": [
        "!pip -q install huggingface chromadb sentence-transformers"
      ],
      "metadata": {
        "id": "vhQ6i72AVgkr"
      },
      "execution_count": null,
      "outputs": []
    },
    {
      "cell_type": "code",
      "source": [
        "!pip -q install configparser langchain\n",
        "!pip -q install transformers huggingface_hub "
      ],
      "metadata": {
        "id": "C2mTZv_7g0-i"
      },
      "execution_count": null,
      "outputs": []
    },
    {
      "cell_type": "code",
      "source": [
        "!pip -q install openai pinecone-client"
      ],
      "metadata": {
        "id": "QshZabuGarRk"
      },
      "execution_count": null,
      "outputs": []
    },
    {
      "cell_type": "code",
      "source": [
        "!pip -q install pypdf unstructured[local-inference]"
      ],
      "metadata": {
        "id": "G5e6SxtOtahj"
      },
      "execution_count": 56,
      "outputs": []
    },
    {
      "cell_type": "markdown",
      "source": [
        "Above are various libraries required for this notebook."
      ],
      "metadata": {
        "id": "T7WVwBFJa8BW"
      }
    },
    {
      "cell_type": "code",
      "source": [
        "import configparser\n",
        "\n",
        "apiData = configparser.ConfigParser()\n",
        "apiData.read_file(open('/content/apidata.config'))"
      ],
      "metadata": {
        "id": "x681yIqvaMsL"
      },
      "execution_count": 9,
      "outputs": []
    },
    {
      "cell_type": "code",
      "source": [
        "import os\n",
        "os.environ['OPENAI_API_KEY'] = apiData[\"OPENAI\"][\"KEY\"]"
      ],
      "metadata": {
        "id": "-NXC4uq7adne"
      },
      "execution_count": 6,
      "outputs": []
    },
    {
      "cell_type": "code",
      "source": [
        "from langchain.llms import OpenAI\n",
        "\n",
        "fact_llm = OpenAI(temperature=0)"
      ],
      "metadata": {
        "id": "d-blilkQx7yY"
      },
      "execution_count": 19,
      "outputs": []
    },
    {
      "cell_type": "code",
      "source": [
        "#initiate pinecone client\n",
        "\n",
        "import pinecone\n",
        "\n",
        "pinecone.init(api_key = apiData['OPENAI']['PINE'],\n",
        "              environment= apiData['OPENAI']['PINEVIR'])"
      ],
      "metadata": {
        "colab": {
          "base_uri": "https://localhost:8080/"
        },
        "id": "5ED5GtRIb8qM",
        "outputId": "e7c95506-6beb-4c9b-bf12-e9bebad237ce"
      },
      "execution_count": 11,
      "outputs": [
        {
          "output_type": "stream",
          "name": "stderr",
          "text": [
            "/usr/local/lib/python3.9/dist-packages/pinecone/index.py:4: TqdmExperimentalWarning: Using `tqdm.autonotebook.tqdm` in notebook mode. Use `tqdm.tqdm` instead to force console mode (e.g. in jupyter console)\n",
            "  from tqdm.autonotebook import tqdm\n"
          ]
        }
      ]
    },
    {
      "cell_type": "code",
      "source": [
        "pinecone.create_index(\"test-index\",dimension=1536)"
      ],
      "metadata": {
        "id": "_10BJCb_cVlA"
      },
      "execution_count": 15,
      "outputs": []
    },
    {
      "cell_type": "code",
      "source": [
        "pinecone.list_indexes()"
      ],
      "metadata": {
        "colab": {
          "base_uri": "https://localhost:8080/"
        },
        "id": "f3S_UMNMtnML",
        "outputId": "42f63564-b9b8-4618-8752-94d382b6a1cf"
      },
      "execution_count": 58,
      "outputs": [
        {
          "output_type": "execute_result",
          "data": {
            "text/plain": [
              "['test-index']"
            ]
          },
          "metadata": {},
          "execution_count": 58
        }
      ]
    },
    {
      "cell_type": "code",
      "source": [
        "pinecone.describe_index(\"test-index\")"
      ],
      "metadata": {
        "colab": {
          "base_uri": "https://localhost:8080/"
        },
        "id": "HAxiQCXmcVfA",
        "outputId": "93b7df01-04d9-4193-84b1-b7d7e21c6241"
      },
      "execution_count": 59,
      "outputs": [
        {
          "output_type": "execute_result",
          "data": {
            "text/plain": [
              "IndexDescription(name='test-index', metric='cosine', replicas=1, dimension=1536.0, shards=1, pods=1, pod_type='p1.x1', status={'ready': True, 'state': 'Ready'}, metadata_config=None, source_collection='')"
            ]
          },
          "metadata": {},
          "execution_count": 59
        }
      ]
    },
    {
      "cell_type": "code",
      "source": [
        "pinecone.delete_index(\"your-index\")"
      ],
      "metadata": {
        "id": "D_UL8R1reQ99"
      },
      "execution_count": 18,
      "outputs": []
    },
    {
      "cell_type": "code",
      "source": [
        "from langchain.chains import RetrievalQA\n",
        "from langchain.document_loaders import PyPDFLoader\n",
        "from langchain.document_loaders import UnstructuredPDFLoader"
      ],
      "metadata": {
        "id": "EE1P3uZ0YcdE"
      },
      "execution_count": 21,
      "outputs": []
    },
    {
      "cell_type": "code",
      "source": [
        "import openai\n",
        "\n",
        "embed_model = \"text-embedding-ada-002\"\n",
        "\n",
        "res = openai.Embedding.create(\n",
        "    input=[\n",
        "        \"Sample document text goes here\",\n",
        "        \"there will be several phrases in each batch\"\n",
        "    ], engine=embed_model\n",
        ")"
      ],
      "metadata": {
        "id": "V8FUHVKHiTf1"
      },
      "execution_count": 22,
      "outputs": []
    },
    {
      "cell_type": "code",
      "source": [
        "type(res)"
      ],
      "metadata": {
        "colab": {
          "base_uri": "https://localhost:8080/"
        },
        "id": "0sCHXJNciTdM",
        "outputId": "249876f1-779d-4d01-d705-b5e526ed107a"
      },
      "execution_count": 25,
      "outputs": [
        {
          "output_type": "execute_result",
          "data": {
            "text/plain": [
              "openai.openai_object.OpenAIObject"
            ]
          },
          "metadata": {},
          "execution_count": 25
        }
      ]
    },
    {
      "cell_type": "code",
      "source": [
        "len(res['data'])"
      ],
      "metadata": {
        "colab": {
          "base_uri": "https://localhost:8080/"
        },
        "id": "JyVFk0hwiTWR",
        "outputId": "94cbb94e-ed98-4716-acaa-0db40e9fa23d"
      },
      "execution_count": 26,
      "outputs": [
        {
          "output_type": "execute_result",
          "data": {
            "text/plain": [
              "2"
            ]
          },
          "metadata": {},
          "execution_count": 26
        }
      ]
    },
    {
      "cell_type": "code",
      "source": [
        "len(res['data'][0]['embedding'])"
      ],
      "metadata": {
        "colab": {
          "base_uri": "https://localhost:8080/"
        },
        "id": "dfi_gfrXiuuG",
        "outputId": "7ee3d97e-64a8-4929-9d41-05ba6963e6bb"
      },
      "execution_count": 27,
      "outputs": [
        {
          "output_type": "execute_result",
          "data": {
            "text/plain": [
              "1536"
            ]
          },
          "metadata": {},
          "execution_count": 27
        }
      ]
    },
    {
      "cell_type": "code",
      "source": [
        "res.keys()"
      ],
      "metadata": {
        "colab": {
          "base_uri": "https://localhost:8080/"
        },
        "id": "SPe7MdHiixRi",
        "outputId": "06c1d348-4009-4e8a-eb32-72ba2286e794"
      },
      "execution_count": 28,
      "outputs": [
        {
          "output_type": "execute_result",
          "data": {
            "text/plain": [
              "dict_keys(['object', 'data', 'model', 'usage'])"
            ]
          },
          "metadata": {},
          "execution_count": 28
        }
      ]
    },
    {
      "cell_type": "code",
      "source": [
        "res['usage']"
      ],
      "metadata": {
        "colab": {
          "base_uri": "https://localhost:8080/"
        },
        "id": "NYTe6IYgjH3W",
        "outputId": "9ae127d6-26f7-44e4-f18a-ced4410f2441"
      },
      "execution_count": 31,
      "outputs": [
        {
          "output_type": "execute_result",
          "data": {
            "text/plain": [
              "<OpenAIObject at 0x7f461af22450> JSON: {\n",
              "  \"prompt_tokens\": 13,\n",
              "  \"total_tokens\": 13\n",
              "}"
            ]
          },
          "metadata": {},
          "execution_count": 31
        }
      ]
    },
    {
      "cell_type": "code",
      "source": [
        "test_file = PyPDFLoader(\"/content/test_pdf.pdf\")"
      ],
      "metadata": {
        "id": "7yaTy02foAHW"
      },
      "execution_count": 35,
      "outputs": []
    },
    {
      "cell_type": "code",
      "source": [
        "file_split = test_file.load_and_split()"
      ],
      "metadata": {
        "id": "hve1CGyDooXx"
      },
      "execution_count": 39,
      "outputs": []
    },
    {
      "cell_type": "code",
      "source": [
        "file_split"
      ],
      "metadata": {
        "id": "GawK4bL_os0t"
      },
      "execution_count": null,
      "outputs": []
    },
    {
      "cell_type": "code",
      "source": [
        "unstructure_file = UnstructuredPDFLoader(\"/content/test_pdf.pdf\",\n",
        "                                         mode=\"elements\")\n",
        "data_file = unstructure_file.load()"
      ],
      "metadata": {
        "colab": {
          "base_uri": "https://localhost:8080/"
        },
        "id": "ihydSNzYpDNM",
        "outputId": "762d0e0d-ff00-42f1-888f-005e5c9c92a1"
      },
      "execution_count": 46,
      "outputs": [
        {
          "output_type": "stream",
          "name": "stderr",
          "text": [
            "WARNING:unstructured:detectron2 is not installed. Cannot use the hi_res partitioning strategy. Falling back to partitioning with the fast strategy.\n"
          ]
        }
      ]
    },
    {
      "cell_type": "code",
      "source": [
        "data_file"
      ],
      "metadata": {
        "id": "Elqv0uUApu0r"
      },
      "execution_count": null,
      "outputs": []
    },
    {
      "cell_type": "code",
      "source": [
        "from langchain.embeddings import OpenAIEmbeddings\n",
        "embed = OpenAIEmbeddings()"
      ],
      "metadata": {
        "id": "s8kMbvyDR-nt"
      },
      "execution_count": 48,
      "outputs": []
    },
    {
      "cell_type": "code",
      "source": [
        "index_name = 'test-index'\n",
        "\n",
        "if index_name not in pinecone.list_indexes():\n",
        "    # if does not exist, create index\n",
        "    pinecone.create_index(\n",
        "        index_name,\n",
        "        dimension=1536,\n",
        "        metric='cosine'\n",
        "    )\n",
        "else:\n",
        "  print(\"Index aleady exists\")"
      ],
      "metadata": {
        "colab": {
          "base_uri": "https://localhost:8080/"
        },
        "id": "jfk2KA8YqZRR",
        "outputId": "332910d3-5f88-455a-bbb6-f2a8b29702af"
      },
      "execution_count": 60,
      "outputs": [
        {
          "output_type": "stream",
          "name": "stdout",
          "text": [
            "Index aleady exists\n"
          ]
        }
      ]
    },
    {
      "cell_type": "code",
      "source": [
        "from langchain.vectorstores import Pinecone\n",
        "\n",
        "test_cone = Pinecone.from_documents(documents=data_file,\n",
        "                                     embedding=embed,\n",
        "                                    index_name=index_name)"
      ],
      "metadata": {
        "id": "Weno1_dzR-k1"
      },
      "execution_count": 51,
      "outputs": []
    },
    {
      "cell_type": "code",
      "source": [
        "# Starting the custom tool route"
      ],
      "metadata": {
        "id": "T73D7bKe4FJ3"
      },
      "execution_count": null,
      "outputs": []
    },
    {
      "cell_type": "code",
      "source": [
        "test_retriever =RetrievalQA.from_chain_type(llm=fact_llm, \n",
        "                                           chain_type=\"stuff\", \n",
        "                                           retriever=test_cone.as_retriever())"
      ],
      "metadata": {
        "id": "ESDPHjul3Gi5"
      },
      "execution_count": 53,
      "outputs": []
    },
    {
      "cell_type": "code",
      "source": [
        "test_retriever.run(\"What are agents in Langchain?\")"
      ],
      "metadata": {
        "id": "lH_rk4H9286S",
        "colab": {
          "base_uri": "https://localhost:8080/",
          "height": 72
        },
        "outputId": "57aad91a-d277-4ed4-bb69-39203f7ba6a9"
      },
      "execution_count": 55,
      "outputs": [
        {
          "output_type": "execute_result",
          "data": {
            "text/plain": [
              "' Agents in Langchain are pieces of code that can be used to create chains, which are sequences of instructions that can be used to automate tasks. Agents can also use memory to persist state between calls.'"
            ],
            "application/vnd.google.colaboratory.intrinsic+json": {
              "type": "string"
            }
          },
          "metadata": {},
          "execution_count": 55
        }
      ]
    },
    {
      "cell_type": "code",
      "source": [
        "reload_cone = pinecone.Index(\"test-index\")"
      ],
      "metadata": {
        "id": "18ZzxTRqvCD2"
      },
      "execution_count": 62,
      "outputs": []
    },
    {
      "cell_type": "code",
      "source": [
        "reload_cone.describe_index_stats()"
      ],
      "metadata": {
        "colab": {
          "base_uri": "https://localhost:8080/"
        },
        "id": "gG1KzvBDw2Zk",
        "outputId": "09e0ec95-19c1-4004-b878-15f1768490e4"
      },
      "execution_count": 71,
      "outputs": [
        {
          "output_type": "execute_result",
          "data": {
            "text/plain": [
              "{'dimension': 1536,\n",
              " 'index_fullness': 0.0,\n",
              " 'namespaces': {'': {'vector_count': 55}},\n",
              " 'total_vector_count': 55}"
            ]
          },
          "metadata": {},
          "execution_count": 71
        }
      ]
    },
    {
      "cell_type": "code",
      "source": [
        "fetch_id1 = reload_cone.fetch(['9b879795-34ee-4b0e-997b-04ca91e48562'])"
      ],
      "metadata": {
        "id": "NxzwGf62w-zb"
      },
      "execution_count": 77,
      "outputs": []
    },
    {
      "cell_type": "code",
      "source": [
        "pinecone.whoami()\n",
        "#WhoAmIResponse(username='your_uname', user_label='default', projectname='your_pjt')"
      ],
      "metadata": {
        "id": "ovUuqfi_wjol"
      },
      "execution_count": null,
      "outputs": []
    },
    {
      "cell_type": "code",
      "source": [
        "reload_docs = Pinecone.from_existing_index(\"test-index\",\n",
        "                                           embedding=embed)"
      ],
      "metadata": {
        "id": "YFDRnrMAvCAh"
      },
      "execution_count": 64,
      "outputs": []
    },
    {
      "cell_type": "code",
      "source": [
        "reload_docs.as_retriever()"
      ],
      "metadata": {
        "colab": {
          "base_uri": "https://localhost:8080/"
        },
        "id": "zth8stVHvB49",
        "outputId": "c8be7416-76e6-4b15-d306-e4918872c34e"
      },
      "execution_count": 65,
      "outputs": [
        {
          "output_type": "execute_result",
          "data": {
            "text/plain": [
              "VectorStoreRetriever(vectorstore=<langchain.vectorstores.pinecone.Pinecone object at 0x7f45d50c8130>, search_type='similarity', search_kwargs={})"
            ]
          },
          "metadata": {},
          "execution_count": 65
        }
      ]
    },
    {
      "cell_type": "code",
      "source": [
        "get_match = reload_cone.query(\n",
        "  vector=[0.3 for x in range(0,1536)],\n",
        "  top_k=3,\n",
        "  include_values=True\n",
        ")"
      ],
      "metadata": {
        "id": "__Z5NKt4WyJF"
      },
      "execution_count": 68,
      "outputs": []
    },
    {
      "cell_type": "code",
      "source": [
        "get_match['matches'][0]"
      ],
      "metadata": {
        "id": "bBR74Bl3WyGr"
      },
      "execution_count": null,
      "outputs": []
    },
    {
      "cell_type": "code",
      "source": [
        "reload_docs.similarity_search(\"How to use Agents?\")"
      ],
      "metadata": {
        "id": "PD-9M8VkWyEQ",
        "colab": {
          "base_uri": "https://localhost:8080/"
        },
        "outputId": "2c033265-ba37-4056-c421-07c36ea91226"
      },
      "execution_count": 79,
      "outputs": [
        {
          "output_type": "execute_result",
          "data": {
            "text/plain": [
              "[Document(page_content='Agents:', metadata={'category': 'Title', 'filename': '/content/test_pdf.pdf', 'page_number': 2.0, 'source': '/content/test_pdf.pdf'}),\n",
              " Document(page_content='Agents', metadata={'category': 'Title', 'filename': '/content/test_pdf.pdf', 'page_number': 1.0, 'source': '/content/test_pdf.pdf'}),\n",
              " Document(page_content='end to end agents.', metadata={'category': 'NarrativeText', 'filename': '/content/test_pdf.pdf', 'page_number': 2.0, 'source': '/content/test_pdf.pdf'}),\n",
              " Document(page_content='standard interface for agents, a selection of agents to choose from, and examples of', metadata={'category': 'NarrativeText', 'filename': '/content/test_pdf.pdf', 'page_number': 2.0, 'source': '/content/test_pdf.pdf'}),\n",
              " Document(page_content='examples of chains/agents that use memory.', metadata={'category': 'NarrativeText', 'filename': '/content/test_pdf.pdf', 'page_number': 2.0, 'source': '/content/test_pdf.pdf'})]"
            ]
          },
          "metadata": {},
          "execution_count": 79
        }
      ]
    },
    {
      "cell_type": "code",
      "source": [],
      "metadata": {
        "id": "xm6ArvS4WyAX"
      },
      "execution_count": null,
      "outputs": []
    }
  ]
}