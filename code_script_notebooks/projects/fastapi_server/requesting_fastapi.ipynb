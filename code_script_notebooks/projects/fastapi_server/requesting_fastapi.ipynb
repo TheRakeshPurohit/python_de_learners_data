{
 "cells": [
  {
   "cell_type": "markdown",
   "id": "9f48b3d4",
   "metadata": {},
   "source": [
    "# Notebook will be used to send requests to fastapi server"
   ]
  },
  {
   "cell_type": "code",
   "execution_count": 1,
   "id": "abe779dc",
   "metadata": {},
   "outputs": [],
   "source": [
    "import requests\n",
    "import json"
   ]
  },
  {
   "cell_type": "code",
   "execution_count": 2,
   "id": "c321e461",
   "metadata": {},
   "outputs": [],
   "source": [
    "url = \"http://127.0.0.1:8000/filter_host?your_host=groucho-tokyo\"\n",
    "res = requests.request(method='GET',url=url)\n",
    "data = res.json()"
   ]
  },
  {
   "cell_type": "code",
   "execution_count": 3,
   "id": "c7afd338",
   "metadata": {},
   "outputs": [
    {
     "data": {
      "text/plain": [
       "str"
      ]
     },
     "execution_count": 3,
     "metadata": {},
     "output_type": "execute_result"
    }
   ],
   "source": [
    "type(data)"
   ]
  },
  {
   "cell_type": "code",
   "execution_count": 4,
   "id": "6872b76f",
   "metadata": {},
   "outputs": [
    {
     "data": {
      "text/plain": [
       "{'max_day': 'Wednesday',\n",
       " 'max_day_count': 2163,\n",
       " 'max_month': 'August',\n",
       " 'max_month_count': 3060,\n",
       " 'max_hour': 7,\n",
       " 'max_hour_count': 1387}"
      ]
     },
     "execution_count": 4,
     "metadata": {},
     "output_type": "execute_result"
    }
   ],
   "source": [
    "conv_json = json.loads(data)\n",
    "conv_json"
   ]
  },
  {
   "cell_type": "code",
   "execution_count": 5,
   "id": "c14a7f80",
   "metadata": {
    "scrolled": true
   },
   "outputs": [
    {
     "name": "stdout",
     "output_type": "stream",
     "text": [
      "[{'country': 'China', 'src': 16992}, {'country': 'United States', 'src': 8083}, {'country': 'Japan', 'src': 1576}, {'country': 'Iran', 'src': 1170}, {'country': 'Taiwan', 'src': 1108}, {'country': 'Netherlands', 'src': 946}, {'country': 'South Korea', 'src': 841}, {'country': 'India', 'src': 806}, {'country': 'Vietnam', 'src': 698}, {'country': 'Russia', 'src': 634}, {'country': 'Brazil', 'src': 589}, {'country': 'Germany', 'src': 557}, {'country': 'Canada', 'src': 510}, {'country': 'Hong Kong', 'src': 412}, {'country': 'France', 'src': 369}, {'country': 'United Kingdom', 'src': 365}, {'country': 'Sweden', 'src': 285}, {'country': 'Romania', 'src': 271}, {'country': 'Singapore', 'src': 207}, {'country': 'Turkey', 'src': 197}, {'country': 'Ukraine', 'src': 191}, {'country': 'Australia', 'src': 186}, {'country': 'Thailand', 'src': 163}, {'country': 'Italy', 'src': 157}, {'country': 'Bulgaria', 'src': 150}, {'country': 'Venezuela', 'src': 141}, {'country': 'Indonesia', 'src': 131}, {'country': 'Iceland', 'src': 117}, {'country': 'Argentina', 'src': 112}, {'country': 'Spain', 'src': 111}, {'country': 'Poland', 'src': 111}, {'country': 'Hungary', 'src': 89}, {'country': 'Austria', 'src': 83}, {'country': 'Malaysia', 'src': 81}, {'country': 'Ireland', 'src': 77}, {'country': 'Myanmar [Burma]', 'src': 74}, {'country': 'Mexico', 'src': 71}, {'country': 'Egypt', 'src': 61}, {'country': 'Saudi Arabia', 'src': 58}, {'country': 'Philippines', 'src': 57}, {'country': 'Colombia', 'src': 55}, {'country': 'Chile', 'src': 54}, {'country': 'Czechia', 'src': 50}, {'country': 'United Arab Emirates', 'src': 47}, {'country': 'Pakistan', 'src': 44}, {'country': 'Kazakhstan', 'src': 44}, {'country': 'Israel', 'src': 42}, {'country': 'Switzerland', 'src': 39}, {'country': 'Greece', 'src': 36}, {'country': 'South Africa', 'src': 34}, {'country': 'Portugal', 'src': 29}, {'country': 'Lithuania', 'src': 29}, {'country': 'Belgium', 'src': 29}, {'country': 'Serbia', 'src': 28}, {'country': 'Armenia', 'src': 28}, {'country': 'Macedonia', 'src': 26}, {'country': 'Georgia', 'src': 24}, {'country': 'Finland', 'src': 24}, {'country': 'Bosnia and Herzegovina', 'src': 21}, {'country': 'Jordan', 'src': 20}, {'country': 'Latvia', 'src': 18}, {'country': 'Luxembourg', 'src': 17}, {'country': 'unknown', 'src': 17}, {'country': 'Bangladesh', 'src': 17}, {'country': 'Belarus', 'src': 17}, {'country': 'Peru', 'src': 15}, {'country': 'Ecuador', 'src': 15}, {'country': 'Kuwait', 'src': 15}, {'country': 'Morocco', 'src': 14}, {'country': 'Tunisia', 'src': 14}, {'country': 'New Zealand', 'src': 13}, {'country': 'Croatia', 'src': 12}, {'country': 'Norway', 'src': 12}, {'country': 'Uruguay', 'src': 11}, {'country': 'Bolivia', 'src': 11}, {'country': 'Denmark', 'src': 11}, {'country': 'Panama', 'src': 10}, {'country': 'Honduras', 'src': 10}, {'country': 'Laos', 'src': 9}, {'country': 'Nigeria', 'src': 9}, {'country': 'Slovakia', 'src': 9}, {'country': 'Guatemala', 'src': 9}, {'country': 'Moldova', 'src': 8}, {'country': 'Albania', 'src': 8}, {'country': 'Estonia', 'src': 8}, {'country': 'Algeria', 'src': 8}, {'country': 'Kenya', 'src': 8}, {'country': 'Azerbaijan', 'src': 7}, {'country': 'Montenegro', 'src': 7}, {'country': 'Puerto Rico', 'src': 7}, {'country': 'Costa Rica', 'src': 7}, {'country': 'Zambia', 'src': 6}, {'country': 'Iraq', 'src': 6}, {'country': 'Slovenia', 'src': 5}, {'country': 'Mongolia', 'src': 5}, {'country': 'Uganda', 'src': 5}, {'country': 'Dominican Republic', 'src': 4}, {'country': 'Nicaragua', 'src': 3}, {'country': 'Jamaica', 'src': 3}, {'country': 'British Virgin Islands', 'src': 3}, {'country': 'Cambodia', 'src': 3}, {'country': 'Lebanon', 'src': 3}, {'country': 'Macao', 'src': 3}, {'country': 'Uzbekistan', 'src': 3}, {'country': 'Sri Lanka', 'src': 3}, {'country': 'Curacao', 'src': 3}, {'country': 'Fiji', 'src': 3}, {'country': 'Aruba', 'src': 2}, {'country': 'Tajikistan', 'src': 2}, {'country': 'Cyprus', 'src': 2}, {'country': 'Zimbabwe', 'src': 2}, {'country': 'Mauritius', 'src': 2}, {'country': 'Kyrgyzstan', 'src': 2}, {'country': 'Ghana', 'src': 2}, {'country': 'Guadeloupe', 'src': 2}, {'country': 'Guam', 'src': 2}, {'country': 'Oman', 'src': 2}, {'country': 'Palestine', 'src': 2}, {'country': 'Paraguay', 'src': 1}, {'country': 'Malta', 'src': 1}, {'country': 'Mozambique', 'src': 1}, {'country': 'Andorra', 'src': 1}, {'country': 'Angola', 'src': 1}, {'country': 'Maldives', 'src': 1}, {'country': 'Antigua and Barbuda', 'src': 1}, {'country': 'Kosovo', 'src': 1}, {'country': 'Belize', 'src': 1}, {'country': 'Bhutan', 'src': 1}, {'country': 'El Salvador', 'src': 1}, {'country': 'Brunei', 'src': 1}, {'country': 'Senegal', 'src': 1}, {'country': 'Tonga', 'src': 1}, {'country': 'Ivory Coast', 'src': 1}, {'country': 'Tanzania', 'src': 1}, {'country': 'Isle of Man', 'src': 1}, {'country': 'Cameroon', 'src': 1}, {'country': 'Cayman Islands', 'src': 1}, {'country': 'Suriname', 'src': 1}, {'country': 'Sudan', 'src': 1}, {'country': 'Qatar', 'src': 1}, {'country': 'Gabon', 'src': 1}, {'country': 'Trinidad and Tobago', 'src': 1}]\n"
     ]
    }
   ],
   "source": [
    "url = \"http://127.0.0.1:8000/attack_by\"\n",
    "res = requests.request(method='GET',url=url)\n",
    "data = res.json()\n",
    "print(data)"
   ]
  },
  {
   "cell_type": "code",
   "execution_count": 6,
   "id": "838c80f9",
   "metadata": {},
   "outputs": [
    {
     "name": "stdout",
     "output_type": "stream",
     "text": [
      "[{\"country\":\"China\",\"src\":16992},{\"country\":\"United States\",\"src\":8083},{\"country\":\"Japan\",\"src\":1576},{\"country\":\"Iran\",\"src\":1170},{\"country\":\"Taiwan\",\"src\":1108},{\"country\":\"Netherlands\",\"src\":946},{\"country\":\"South Korea\",\"src\":841},{\"country\":\"India\",\"src\":806},{\"country\":\"Vietnam\",\"src\":698},{\"country\":\"Russia\",\"src\":634},{\"country\":\"Brazil\",\"src\":589},{\"country\":\"Germany\",\"src\":557},{\"country\":\"Canada\",\"src\":510},{\"country\":\"Hong Kong\",\"src\":412},{\"country\":\"France\",\"src\":369},{\"country\":\"United Kingdom\",\"src\":365},{\"country\":\"Sweden\",\"src\":285},{\"country\":\"Romania\",\"src\":271},{\"country\":\"Singapore\",\"src\":207},{\"country\":\"Turkey\",\"src\":197},{\"country\":\"Ukraine\",\"src\":191},{\"country\":\"Australia\",\"src\":186},{\"country\":\"Thailand\",\"src\":163},{\"country\":\"Italy\",\"src\":157},{\"country\":\"Bulgaria\",\"src\":150},{\"country\":\"Venezuela\",\"src\":141},{\"country\":\"Indonesia\",\"src\":131},{\"country\":\"Iceland\",\"src\":117},{\"country\":\"Argentina\",\"src\":112},{\"country\":\"Spain\",\"src\":111},{\"country\":\"Poland\",\"src\":111},{\"country\":\"Hungary\",\"src\":89},{\"country\":\"Austria\",\"src\":83},{\"country\":\"Malaysia\",\"src\":81},{\"country\":\"Ireland\",\"src\":77},{\"country\":\"Myanmar [Burma]\",\"src\":74},{\"country\":\"Mexico\",\"src\":71},{\"country\":\"Egypt\",\"src\":61},{\"country\":\"Saudi Arabia\",\"src\":58},{\"country\":\"Philippines\",\"src\":57},{\"country\":\"Colombia\",\"src\":55},{\"country\":\"Chile\",\"src\":54},{\"country\":\"Czechia\",\"src\":50},{\"country\":\"United Arab Emirates\",\"src\":47},{\"country\":\"Pakistan\",\"src\":44},{\"country\":\"Kazakhstan\",\"src\":44},{\"country\":\"Israel\",\"src\":42},{\"country\":\"Switzerland\",\"src\":39},{\"country\":\"Greece\",\"src\":36},{\"country\":\"South Africa\",\"src\":34},{\"country\":\"Portugal\",\"src\":29},{\"country\":\"Lithuania\",\"src\":29},{\"country\":\"Belgium\",\"src\":29},{\"country\":\"Serbia\",\"src\":28},{\"country\":\"Armenia\",\"src\":28},{\"country\":\"Macedonia\",\"src\":26},{\"country\":\"Georgia\",\"src\":24},{\"country\":\"Finland\",\"src\":24},{\"country\":\"Bosnia and Herzegovina\",\"src\":21},{\"country\":\"Jordan\",\"src\":20},{\"country\":\"Latvia\",\"src\":18},{\"country\":\"Luxembourg\",\"src\":17},{\"country\":\"unknown\",\"src\":17},{\"country\":\"Bangladesh\",\"src\":17},{\"country\":\"Belarus\",\"src\":17},{\"country\":\"Peru\",\"src\":15},{\"country\":\"Ecuador\",\"src\":15},{\"country\":\"Kuwait\",\"src\":15},{\"country\":\"Morocco\",\"src\":14},{\"country\":\"Tunisia\",\"src\":14},{\"country\":\"New Zealand\",\"src\":13},{\"country\":\"Croatia\",\"src\":12},{\"country\":\"Norway\",\"src\":12},{\"country\":\"Uruguay\",\"src\":11},{\"country\":\"Bolivia\",\"src\":11},{\"country\":\"Denmark\",\"src\":11},{\"country\":\"Panama\",\"src\":10},{\"country\":\"Honduras\",\"src\":10},{\"country\":\"Laos\",\"src\":9},{\"country\":\"Nigeria\",\"src\":9},{\"country\":\"Slovakia\",\"src\":9},{\"country\":\"Guatemala\",\"src\":9},{\"country\":\"Moldova\",\"src\":8},{\"country\":\"Albania\",\"src\":8},{\"country\":\"Estonia\",\"src\":8},{\"country\":\"Algeria\",\"src\":8},{\"country\":\"Kenya\",\"src\":8},{\"country\":\"Azerbaijan\",\"src\":7},{\"country\":\"Montenegro\",\"src\":7},{\"country\":\"Puerto Rico\",\"src\":7},{\"country\":\"Costa Rica\",\"src\":7},{\"country\":\"Zambia\",\"src\":6},{\"country\":\"Iraq\",\"src\":6},{\"country\":\"Slovenia\",\"src\":5},{\"country\":\"Mongolia\",\"src\":5},{\"country\":\"Uganda\",\"src\":5},{\"country\":\"Dominican Republic\",\"src\":4},{\"country\":\"Nicaragua\",\"src\":3},{\"country\":\"Jamaica\",\"src\":3},{\"country\":\"British Virgin Islands\",\"src\":3},{\"country\":\"Cambodia\",\"src\":3},{\"country\":\"Lebanon\",\"src\":3},{\"country\":\"Macao\",\"src\":3},{\"country\":\"Uzbekistan\",\"src\":3},{\"country\":\"Sri Lanka\",\"src\":3},{\"country\":\"Curacao\",\"src\":3},{\"country\":\"Fiji\",\"src\":3},{\"country\":\"Aruba\",\"src\":2},{\"country\":\"Tajikistan\",\"src\":2},{\"country\":\"Cyprus\",\"src\":2},{\"country\":\"Zimbabwe\",\"src\":2},{\"country\":\"Mauritius\",\"src\":2},{\"country\":\"Kyrgyzstan\",\"src\":2},{\"country\":\"Ghana\",\"src\":2},{\"country\":\"Guadeloupe\",\"src\":2},{\"country\":\"Guam\",\"src\":2},{\"country\":\"Oman\",\"src\":2},{\"country\":\"Palestine\",\"src\":2},{\"country\":\"Paraguay\",\"src\":1},{\"country\":\"Malta\",\"src\":1},{\"country\":\"Mozambique\",\"src\":1},{\"country\":\"Andorra\",\"src\":1},{\"country\":\"Angola\",\"src\":1},{\"country\":\"Maldives\",\"src\":1},{\"country\":\"Antigua and Barbuda\",\"src\":1},{\"country\":\"Kosovo\",\"src\":1},{\"country\":\"Belize\",\"src\":1},{\"country\":\"Bhutan\",\"src\":1},{\"country\":\"El Salvador\",\"src\":1},{\"country\":\"Brunei\",\"src\":1},{\"country\":\"Senegal\",\"src\":1},{\"country\":\"Tonga\",\"src\":1},{\"country\":\"Ivory Coast\",\"src\":1},{\"country\":\"Tanzania\",\"src\":1},{\"country\":\"Isle of Man\",\"src\":1},{\"country\":\"Cameroon\",\"src\":1},{\"country\":\"Cayman Islands\",\"src\":1},{\"country\":\"Suriname\",\"src\":1},{\"country\":\"Sudan\",\"src\":1},{\"country\":\"Qatar\",\"src\":1},{\"country\":\"Gabon\",\"src\":1},{\"country\":\"Trinidad and Tobago\",\"src\":1}]"
     ]
    }
   ],
   "source": [
    "!curl -X 'GET' \\\n",
    "  'http://127.0.0.1:8000/attack_by' \\\n",
    "  -H 'accept: application/json'"
   ]
  },
  {
   "cell_type": "code",
   "execution_count": null,
   "id": "11b09cf2",
   "metadata": {},
   "outputs": [],
   "source": []
  }
 ],
 "metadata": {
  "kernelspec": {
   "display_name": "Python 3 (ipykernel)",
   "language": "python",
   "name": "python3"
  },
  "language_info": {
   "codemirror_mode": {
    "name": "ipython",
    "version": 3
   },
   "file_extension": ".py",
   "mimetype": "text/x-python",
   "name": "python",
   "nbconvert_exporter": "python",
   "pygments_lexer": "ipython3",
   "version": "3.10.9"
  }
 },
 "nbformat": 4,
 "nbformat_minor": 5
}
