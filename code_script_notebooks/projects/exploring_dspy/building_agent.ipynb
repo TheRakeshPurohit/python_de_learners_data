{
 "cells": [
  {
   "cell_type": "code",
   "execution_count": 1,
   "metadata": {},
   "outputs": [
    {
     "name": "stderr",
     "output_type": "stream",
     "text": [
      "d:\\dspyenv\\Lib\\site-packages\\tqdm\\auto.py:21: TqdmWarning: IProgress not found. Please update jupyter and ipywidgets. See https://ipywidgets.readthedocs.io/en/stable/user_install.html\n",
      "  from .autonotebook import tqdm as notebook_tqdm\n"
     ]
    },
    {
     "data": {
      "text/plain": [
       "True"
      ]
     },
     "execution_count": 1,
     "metadata": {},
     "output_type": "execute_result"
    }
   ],
   "source": [
    "import dspy\n",
    "from dotenv import load_dotenv\n",
    "load_dotenv(\"D:\\\\gitFolders\\\\python_de_learners_data\\\\.env\")"
   ]
  },
  {
   "cell_type": "code",
   "execution_count": 2,
   "metadata": {},
   "outputs": [],
   "source": [
    "# starting wit the analytical planner signature\n",
    "class analytical_planner(dspy.Signature):\n",
    "    \"\"\" You are data analytics planner agent. You have access to three inputs\n",
    "    1. Datasets\n",
    "    2. Data Agent descriptions\n",
    "    3. User-defined Goal\n",
    "    You take these three inputs to develop a comprehensive plan to achieve the user-defined goal from the data & Agents available.\n",
    "    In case you think the user-defined goal is infeasible you can ask the user to redefine or add more description to the goal.\n",
    "\n",
    "    Give your output in this format:\n",
    "    plan: Agent1->Agent2->Agent3\n",
    "    plan_desc = Use Agent 1 for this reason, then agent2 for this reason and lastly agent3 for this reason.\n",
    "\n",
    "    You don't have to use all the agents in response of the query \n",
    "    \"\"\"\n",
    "# Input fields and their descriptions\n",
    "    dataset = dspy.InputField(desc=\"Available datasets loaded in the system, use this df_name,columns  set df as copy of df_name\")\n",
    "    Agent_desc = dspy.InputField(desc= \"The agents available in the system\")\n",
    "    goal = dspy.InputField(desc=\"The user defined goal \")\n",
    "# Output fields and their description\n",
    "    plan = dspy.OutputField(desc=\"The plan that would achieve the user defined goal\")\n",
    "    plan_desc= dspy.OutputField(desc=\"The reasoning behind the chosen plan\")"
   ]
  },
  {
   "cell_type": "code",
   "execution_count": 3,
   "metadata": {},
   "outputs": [],
   "source": [
    "class preprocessing_agent(dspy.Signature):\n",
    "    \"\"\" You are a data pre-processing agent, your job is to take a user-defined goal and available dataset,\n",
    "    to build an exploratory analytics pipeline. You do this by outputing the required Python code. \n",
    "    You will only use numpy and pandas, to perform pre-processing and introductory analysis\n",
    "    \"\"\"\n",
    "    dataset = dspy.InputField(desc=\"Available datasets loaded in the system, use this df_name,columns  set df as copy of df_name\")\n",
    "    goal = dspy.InputField(desc=\"The user defined goal \")\n",
    "    commentary = dspy.OutputField(desc=\"The comments about what analysis is being performed\")\n",
    "    code = dspy.OutputField(desc =\"The code that does the data preprocessing and introductory analysis\")\n",
    "\n",
    "class statistical_analytics_agent(dspy.Signature):\n",
    "    \"\"\" You are a statistical analytics agent. \n",
    "    Your task is to take a dataset and a user-defined goal, and output \n",
    "    Python code that performs the appropriate statistical analysis to achieve that goal.\n",
    "    You should use the Python statsmodel library\"\"\"\n",
    "    dataset = dspy.InputField(desc=\"Available datasets loaded in the system, use this df_name,columns  set df as copy of df_name\")\n",
    "    goal = dspy.InputField(desc=\"The user defined goal for the analysis to be performed\")\n",
    "    commentary = dspy.OutputField(desc=\"The comments about what analysis is being performed\")\n",
    "    code = dspy.OutputField(desc =\"The code that does the statistical analysis using statsmodel\")\n",
    "\n",
    "class sk_learn_agent(dspy.Signature):\n",
    "# Prompt\n",
    "    \"\"\"You are a machine learning agent. \n",
    "    Your task is to take a dataset and a user-defined goal, and output Python code that performs the appropriate machine learning analysis to achieve that goal. \n",
    "    You should use the scikit-learn library.\"\"\"\n",
    "# Input Fields\n",
    "    dataset = dspy.InputField(desc=\"Available datasets loaded in the system, use this df_name,columns. set df as copy of df_name\")\n",
    "    goal = dspy.InputField(desc=\"The user defined goal \")\n",
    "# Output Fields\n",
    "    commentary = dspy.OutputField(desc=\"The comments about what analysis is being performed\")\n",
    "    code = dspy.OutputField(desc =\"The code that does the Exploratory data analysis\")\n",
    "\n",
    "## I worked on the data-viz agent and already optimized using DSPy.\n",
    "## The only big difference is that this agents takes another input of styling index"
   ]
  },
  {
   "cell_type": "code",
   "execution_count": 4,
   "metadata": {},
   "outputs": [],
   "source": [
    "class code_combiner_agent(dspy.Signature):\n",
    "    \"\"\" You are a code combine agent, taking Python code output from many agents and combining the operations into 1 output\n",
    "    You also fix any errors in the code\"\"\"\n",
    "    agent_code_list =dspy.InputField(desc=\"A list of code given by each agent\")\n",
    "    refined_complete_code = dspy.OutputField(desc=\"Refined complete code base\")"
   ]
  },
  {
   "cell_type": "code",
   "execution_count": 5,
   "metadata": {},
   "outputs": [],
   "source": [
    "# The same signature used in Data Viz agent post\n",
    "class Data_Viz(dspy.Signature):\n",
    "    \"\"\"\n",
    "    You are AI agent who uses the goal to generate data visualizations in Plotly.\n",
    "    You have to use the tools available to your disposal\n",
    "    {dataframe_index}\n",
    "    {styling_index}\n",
    "\n",
    "    You must give an output as code, in case there is no relevant columns, just state that you don't have the relevant information\n",
    "    \"\"\"\n",
    "    goal = dspy.InputField(desc=\"user defined goal which includes information about data and chart they want to plot\")\n",
    "    dataframe_context = dspy.InputField(desc=\" Provides information about the data in the data frame. Only use column names and dataframe_name as in this context\")\n",
    "    styling_context = dspy.InputField(desc='Provides instructions on how to style your Plotly plots')\n",
    "    code= dspy.OutputField(desc=\"Plotly code that visualizes what the user needs according to the query & dataframe_index & styling_context\")\n",
    "\n",
    "# An optional agent that checks if the user-defined goal works well\n",
    "class goal_refiner_agent(dspy.Signature):\n",
    "    \"\"\"You take a user-defined goal given to a AI data analyst planner agent, \n",
    "    you make the goal more elaborate using the datasets available and agent_desc\"\"\"\n",
    "    dataset = dspy.InputField(desc=\"Available datasets loaded in the system, use this df_name,columns  set df as copy of df_name\")\n",
    "    Agent_desc = dspy.InputField(desc= \"The agents available in the system\")\n",
    "    goal = dspy.InputField(desc=\"The user defined goal \")\n",
    "    refined_goal = dspy.OutputField(desc='Refined goal that helps the planner agent plan better')"
   ]
  },
  {
   "cell_type": "code",
   "execution_count": null,
   "metadata": {},
   "outputs": [],
   "source": [
    "# This module takes only one input on initiation\n",
    "class auto_analyst(dspy.Module):\n",
    "    def __init__(self,agents):\n",
    "# Defines the available agents, their inputs, and description\n",
    "        self.agents = {}\n",
    "        self.agent_inputs ={}\n",
    "        self.agent_desc =[]\n",
    "        i =0\n",
    "        for a in agents:\n",
    "            name = a.__pydantic_core_schema__['schema']['model_name']\n",
    "# Using CoT prompting as from experience it helps generate better responses\n",
    "            self.agents[name] = dspy.ChainOfThought(a)\n",
    "            agent_inputs[name] ={x.strip() for x in str(agents[i].__pydantic_core_schema__['cls']).split('->')[0].split('(')[1].split(',')}\n",
    "            self.agent_desc.append(str(a.__pydantic_core_schema__['cls']))\n",
    "            i+=1\n",
    "# Defining the planner, refine_goal & code combiner agents seperately\n",
    "# as they don't generate the code & analysis they help in planning, \n",
    "# getting better goals & combine the code\n",
    "        self.planner = dspy.ChainOfThought(analytical_planner)\n",
    "        self.refine_goal = dspy.ChainOfThought(goal_refiner_agent)\n",
    "        self.code_combiner_agent = dspy.ChainOfThought(code_combiner_agent)\n",
    "# these two retrievers are defined using llama-index retrievers\n",
    "# you can customize this depending on how you want your agents\n",
    "        self.dataset =dataframe_index.as_retriever(k=1)\n",
    "        self.styling_index = style_index.as_retriever(similarity_top_k=1)\n",
    "        \n",
    "    def forward(self, query):\n",
    "# This dict is used to quickly pass arguments for agent inputs\n",
    "        dict_ ={}\n",
    "# retrieves the relevant context to the query\n",
    "        dict_['dataset'] = self.dataset.retrieve(query)[0].text\n",
    "        dict_['styling_index'] = self.styling_index.retrieve(query)[0].text\n",
    "        dict_['goal']=query\n",
    "        dict_['Agent_desc'] = str(self.agent_desc)\n",
    "# output_dictionary that stores all agent outputs\n",
    "        output_dict ={}\n",
    "# this comes up with the plan\n",
    "        plan = self.planner(goal =dict_['goal'], dataset=dict_['dataset'], Agent_desc=dict_['Agent_desc'] )\n",
    "        output_dict['analytical_planner'] = plan\n",
    "        plan_list =[]\n",
    "        code_list =[]\n",
    "# if the planner worked as intended it should give agents seperated by ->\n",
    "        if plan.plan.split('->'):\n",
    "            plan_list = plan.plan.split('->')\n",
    "# in case the goal is unclear, it sends it to refined goal agent\n",
    "        else:\n",
    "            refined_goal = self.refine_goal(dataset=data, goal=goal, Agent_desc= self.agent_desc)\n",
    "            forward(query=refined_goal)\n",
    "# passes the goal and other inputs to all respective agents in the plan\n",
    "        for p in plan_list:\n",
    "            inputs = {x:dict_[x] for x in agent_inputs[p.strip()]}\n",
    "            output_dict[p.strip()]=self.agents[p.strip()](**inputs)\n",
    "# creates a list of all the generated code, to be combined as 1 script\n",
    "            code_list.append(output_dict[p.strip()].code)\n",
    "# Stores the last output\n",
    "        output_dict['code_combiner_agent'] = self.code_combiner_agent(agent_code_list = str(code_list))\n",
    "        \n",
    "        return output_dict\n",
    "# you can store all available agent signatures as a list\n",
    "agents =[preprocessing_agent, statistical_analytics_agent, sk_learn_agent,data_viz_agent]\n",
    "\n",
    "# Define the agentic system\n",
    "auto_analyst_system = auto_analyst(agents)\n",
    "\n",
    "# the system is preloaded with Chicago crime data\n",
    "goal = \"What is the cause of crime in Chicago?\"\n",
    "\n",
    "# Asking the agentic system to perform analysis for this query\n",
    "output = auto_analyst_system(query = goal)"
   ]
  },
  {
   "cell_type": "code",
   "execution_count": null,
   "metadata": {},
   "outputs": [],
   "source": []
  },
  {
   "cell_type": "code",
   "execution_count": null,
   "metadata": {},
   "outputs": [],
   "source": []
  },
  {
   "cell_type": "code",
   "execution_count": null,
   "metadata": {},
   "outputs": [],
   "source": []
  },
  {
   "cell_type": "code",
   "execution_count": null,
   "metadata": {},
   "outputs": [],
   "source": []
  },
  {
   "cell_type": "code",
   "execution_count": null,
   "metadata": {},
   "outputs": [],
   "source": []
  },
  {
   "cell_type": "code",
   "execution_count": null,
   "metadata": {},
   "outputs": [],
   "source": []
  }
 ],
 "metadata": {
  "kernelspec": {
   "display_name": "dspyenv",
   "language": "python",
   "name": "python3"
  },
  "language_info": {
   "codemirror_mode": {
    "name": "ipython",
    "version": 3
   },
   "file_extension": ".py",
   "mimetype": "text/x-python",
   "name": "python",
   "nbconvert_exporter": "python",
   "pygments_lexer": "ipython3",
   "version": "3.11.4"
  }
 },
 "nbformat": 4,
 "nbformat_minor": 2
}
