{
 "cells": [
  {
   "cell_type": "code",
   "execution_count": null,
   "metadata": {},
   "outputs": [],
   "source": [
    "# https://github.com/lakshmanok/lakblogs/tree/main/bridge_bidding_advisor\n",
    "# in order to execute the scripts, the supporting indexes \n",
    "# are required which in turn requires installation of \n",
    "# torch and transformers. Chromadb install will lead to pulling \n",
    "# all the supporting libraries. "
   ]
  },
  {
   "cell_type": "code",
   "execution_count": null,
   "metadata": {},
   "outputs": [],
   "source": [
    "!pip install -r requirements.txt"
   ]
  },
  {
   "cell_type": "code",
   "execution_count": null,
   "metadata": {},
   "outputs": [],
   "source": [
    "# building the vector index\n",
    "import chromadb\n",
    "import bs4\n",
    "import requests\n",
    "import shutil\n",
    "import os\n",
    "import re\n",
    "from langchain.text_splitter import SentenceTransformersTokenTextSplitter"
   ]
  },
  {
   "cell_type": "code",
   "execution_count": null,
   "metadata": {},
   "outputs": [],
   "source": [
    "URL = \"https://www.bridgeworld.com/pages/readingroom/bws/bwscompletesystem.html\"\n",
    "URL_LOCAL = URL.split('/')[-1]\n",
    "CHROMA_COLLECTION_NAME = \"bridge_world_system\"\n",
    "CHROMADB_DIR = \"db/\""
   ]
  },
  {
   "cell_type": "code",
   "execution_count": null,
   "metadata": {},
   "outputs": [],
   "source": [
    "def download_file(url: str) -> str:\n",
    "    local_filename = URL_LOCAL\n",
    "    if not os.path.exists(local_filename):\n",
    "        print(f\"Downloading {URL} to {local_filename}.\")\n",
    "        with requests.get(url, stream=True) as r:\n",
    "            with open(local_filename, 'wb') as f:\n",
    "                shutil.copyfileobj(r.raw, f)\n",
    "    else:\n",
    "        print(f\"Using already downloaded {local_filename}.\")\n",
    "    return local_filename"
   ]
  },
  {
   "cell_type": "code",
   "execution_count": null,
   "metadata": {},
   "outputs": [],
   "source": [
    "chroma_client = chromadb.PersistentClient(path=CHROMADB_DIR)\n",
    "collection = chroma_client.get_or_create_collection(name=CHROMA_COLLECTION_NAME)\n",
    "text_splitter = SentenceTransformersTokenTextSplitter()\n"
   ]
  },
  {
   "cell_type": "code",
   "execution_count": null,
   "metadata": {},
   "outputs": [],
   "source": [
    "# update paragraphs into chromadb collection\n",
    "download_file(URL)\n",
    "\n",
    "# initiate building the index\n",
    "with open(URL_LOCAL, 'r') as f:\n",
    "    soup = bs4.BeautifulSoup(f.read(), 'html.parser')\n",
    "    last_header = \"\"\n",
    "    paragraphs = soup.find_all(\"p\")\n",
    "    for n, paragraph in enumerate(paragraphs):\n",
    "        paragraph_id = f\"{URL_LOCAL}_{n}\"\n",
    "        text = paragraph.text.strip()\n",
    "        # find the previous header\n",
    "        header = paragraph.find_all(re.compile(\"^h[1-5]$\"))\n",
    "        if header:\n",
    "            header = header[0].text.strip()\n",
    "            last_header = header\n",
    "        else:\n",
    "            header = last_header\n",
    "        # print(paragraph_id, \"->\", header, \"->\", len(text), \"->\", text[:30])\n",
    "        # split the text into chunks and insert into chromadb\n",
    "        ids = []\n",
    "        documents = []\n",
    "        metadatas = []\n",
    "        chunks = text_splitter.create_documents([text]) # takes array of documents\n",
    "        for chunk_no, chunk in enumerate(chunks):\n",
    "            ids.append(f\"{paragraph_id}#{chunk_no}\")\n",
    "            documents.append(chunk.page_content)\n",
    "            metadatas.append({\"title\": header, \"source\": URL})\n",
    "        if ids:\n",
    "            collection.upsert(ids=ids, documents=documents, metadatas=metadatas)\n",
    "        \n",
    "        print(f\"{int(0.5 + 100.0 * n / len(paragraphs))}% ({collection.count()})\", end=\" \", flush=True)\n",
    "        \n",
    "        if n % 10 == 0:\n",
    "            print()"
   ]
  },
  {
   "cell_type": "code",
   "execution_count": null,
   "metadata": {},
   "outputs": [],
   "source": [
    "import os\n",
    "import dotenv\n",
    "import dspy\n",
    "\n",
    "def init_gemini_pro(temperature: float = 0.0):\n",
    "    \"\"\"\n",
    "    Initializes dspy to use Gemini as the language model.\n",
    "    \"\"\"\n",
    "    dotenv.load_dotenv(\"D:\\\\gitFolders\\\\python_de_learners_data\\\\.env\")\n",
    "    api_key = os.getenv(\"GOOGLE_API_KEY\")\n",
    "    gemini = dspy.Google(\"models/gemini-1.0-pro\",\n",
    "                         api_key=api_key,\n",
    "                         temperature=temperature)\n",
    "    dspy.settings.configure(lm=gemini, max_tokens=1024)\n",
    "\n",
    "\n",
    "def init_gpt35(temperature: float = 0.0):\n",
    "    \"\"\"\n",
    "    Initializes dspy to use OpenAI GPT 3.5 as the language model.\n",
    "    \"\"\"\n",
    "    dotenv.load_dotenv(\"D:\\\\gitFolders\\\\python_de_learners_data\\\\.env\")\n",
    "    api_key = os.getenv(\"OPENAI_API_KEY\")\n",
    "    gpt35 = dspy.OpenAI(model=\"gpt-3.5-turbo\",\n",
    "                        api_key=api_key,\n",
    "                        temperature=temperature)\n",
    "    dspy.settings.configure(lm=gpt35, max_tokens=1024)"
   ]
  },
  {
   "cell_type": "code",
   "execution_count": null,
   "metadata": {},
   "outputs": [],
   "source": [
    "from dspy import teleprompt\n",
    "from dspy.retrieve.chromadb_rm import ChromadbRM\n",
    "import json"
   ]
  },
  {
   "cell_type": "code",
   "execution_count": null,
   "metadata": {},
   "outputs": [],
   "source": [
    "class ZeroShot(dspy.Module):\n",
    "    \"\"\"\n",
    "    Provide answer to question\n",
    "    \"\"\"\n",
    "    def __init__(self):\n",
    "        super().__init__()\n",
    "        self.prog = dspy.Predict(\"question -> answer\")\n",
    "\n",
    "    def forward(self, question):\n",
    "        return self.prog(question=\"In the game of bridge, \" + question)\n",
    "\n",
    "\n",
    "class Definitions(dspy.Module):\n",
    "    \"\"\"\n",
    "    Retrieve the definition from Wikipedia (2017 version)\n",
    "    \"\"\"\n",
    "    def __init__(self):\n",
    "        super().__init__()\n",
    "        self.retriever = dspy.ColBERTv2(url='http://20.102.90.50:2017/wiki17_abstracts')\n",
    "\n",
    "    def forward(self, term):\n",
    "        result = self.retriever(f\"In the game of bridge, what does {term} mean?\", k=1)\n",
    "        if result:\n",
    "            return result[0].long_text\n",
    "        return \"\"\n",
    "\n",
    "\n",
    "class FindTerms(dspy.Module):\n",
    "    \"\"\"\n",
    "    Extract bridge terms from a question\n",
    "    \"\"\"\n",
    "    def __init__(self):\n",
    "        super().__init__()\n",
    "        self.entity_extractor = dspy.Predict(\"question -> terms\")\n",
    "\n",
    "    def forward(self, question):\n",
    "        max_num_terms = max(1, len(question.split())//4)\n",
    "        prompt = f\"Identify up to {max_num_terms} terms in the following question that are jargon in the card game bridge.\"\n",
    "        prediction = self.entity_extractor(\n",
    "            question=f\"{prompt}\\n{question}\"\n",
    "        )\n",
    "        answer = prediction.terms\n",
    "        if \"Terms: \" in answer:\n",
    "            start = answer.rindex(\"Terms: \") + len(\"Terms: \")\n",
    "            answer = answer[start:]\n",
    "        return [a.strip() for a in answer.split(',')]\n",
    "\n",
    "\n",
    "def BiddingSystem():\n",
    "    \"\"\"\n",
    "    Retreives rules for bidding in bridge.\n",
    "    This is just a retriever and does not have any language model.\n",
    "    \"\"\"\n",
    "    from chromadb.utils import embedding_functions\n",
    "    default_ef = embedding_functions.DefaultEmbeddingFunction()\n",
    "    return ChromadbRM(CHROMA_COLLECTION_NAME, CHROMADB_DIR, default_ef, k=3)\n",
    "\n",
    "\n",
    "class AdvisorSignature(dspy.Signature):\n",
    "    definitions = dspy.InputField(format=str)  # function to call on input to make it a string\n",
    "    bidding_system = dspy.InputField(format=str) # function to call on input to make it a string\n",
    "    question = dspy.InputField()\n",
    "    answer = dspy.OutputField()\n",
    "\n",
    "def shorten_list(response):\n",
    "    if type(response) == list:\n",
    "        return [ f\"{r['long_text'][:25]} ... {len(r['long_text'])}\" for r in response]\n",
    "    else:\n",
    "        return response   \n",
    "    \n",
    "\n",
    "class BridgeBiddingAdvisor(dspy.Module):\n",
    "    \"\"\"\n",
    "    Functions as the orchestrator. All questions are sent to this module.\n",
    "    \"\"\"\n",
    "    def __init__(self):\n",
    "        super().__init__()\n",
    "        self.find_terms = FindTerms()\n",
    "        self.definitions = Definitions()\n",
    "        # self.bidding_system = BiddingSystem()\n",
    "        self.prog = dspy.ChainOfThought(AdvisorSignature,\n",
    "                                        n=3)\n",
    "\n",
    "    def forward(self, question):\n",
    "        print(\"a:\", question)\n",
    "        terms = self.find_terms(question)\n",
    "        print(\"b:\", terms)\n",
    "        definitions = [self.definitions(term) for term in terms]\n",
    "        print(\"c:\", definitions)\n",
    "        bidding_system = BiddingSystem()(question)\n",
    "        print(\"d:\", shorten_list(bidding_system))\n",
    "        prediction = self.prog(definitions=definitions,\n",
    "                               bidding_system=bidding_system,\n",
    "                               question=\"In the game of bridge, \" + question,\n",
    "                               max_tokens=-1024)\n",
    "        return prediction.answer"
   ]
  },
  {
   "cell_type": "code",
   "execution_count": null,
   "metadata": {},
   "outputs": [],
   "source": [
    "def run(name: str, module: dspy.Module, queries: [str], shorten: bool = False):\n",
    "    print(f\"**{name}**\")\n",
    "    for query in queries:\n",
    "        response = module(query)\n",
    "        if shorten:\n",
    "            response = shorten_list(response)\n",
    "        print(response)\n",
    "    print()"
   ]
  },
  {
   "cell_type": "code",
   "execution_count": null,
   "metadata": {},
   "outputs": [],
   "source": [
    "questions = [\n",
    "        \"What is Stayman?\",\n",
    "        \"When do you use Jacoby Transfers?\",\n",
    "        \"Playing Stayman and Transfers, what do you bid with 5-4 in the majors?\"\n",
    "    ]"
   ]
  },
  {
   "cell_type": "code",
   "execution_count": null,
   "metadata": {},
   "outputs": [],
   "source": [
    "run(\"Zeroshot\", ZeroShot(), questions)\n",
    "# exit(0)"
   ]
  },
  {
   "cell_type": "code",
   "execution_count": null,
   "metadata": {},
   "outputs": [],
   "source": [
    "run(\"definitions\", Definitions(), [\"Stayman\", \"Jacoby Transfers\", \"Strong 1NT\", \"majors\"])"
   ]
  },
  {
   "cell_type": "code",
   "execution_count": null,
   "metadata": {},
   "outputs": [],
   "source": [
    "run(\"find_terms\", FindTerms(), questions)"
   ]
  },
  {
   "cell_type": "code",
   "execution_count": null,
   "metadata": {},
   "outputs": [],
   "source": [
    "run(\"bidding_system\", BiddingSystem(), questions, shorten=True)"
   ]
  },
  {
   "cell_type": "code",
   "execution_count": null,
   "metadata": {},
   "outputs": [],
   "source": [
    "run(\"bidding_advisor\", BridgeBiddingAdvisor(), questions)"
   ]
  },
  {
   "cell_type": "code",
   "execution_count": null,
   "metadata": {},
   "outputs": [],
   "source": [
    "# create labeled training dataset\n",
    "traindata = json.load(open(\"trainingdata.json\", \"r\"))['examples']\n",
    "trainset = [dspy.Example(question=e['question'], answer=e['answer']) for e in traindata]"
   ]
  },
  {
   "cell_type": "code",
   "execution_count": null,
   "metadata": {},
   "outputs": [],
   "source": [
    "# train\n",
    "teleprompter = teleprompt.LabeledFewShot()\n",
    "optimized_advisor = teleprompter.compile(student=BridgeBiddingAdvisor(),\n",
    "                                         trainset=trainset)\n",
    "run(\"optimized\", optimized_advisor, questions)"
   ]
  },
  {
   "cell_type": "code",
   "execution_count": null,
   "metadata": {},
   "outputs": [],
   "source": []
  }
 ],
 "metadata": {
  "language_info": {
   "name": "python"
  }
 },
 "nbformat": 4,
 "nbformat_minor": 2
}
