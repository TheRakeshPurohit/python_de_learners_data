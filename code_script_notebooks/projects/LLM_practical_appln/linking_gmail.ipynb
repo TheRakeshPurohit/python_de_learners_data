{
 "cells": [
  {
   "cell_type": "code",
   "execution_count": null,
   "id": "2e3183d6",
   "metadata": {},
   "outputs": [],
   "source": [
    "https://github.com/jeremyephron/simplegmail"
   ]
  },
  {
   "cell_type": "code",
   "execution_count": 9,
   "id": "9138686d",
   "metadata": {
    "scrolled": true
   },
   "outputs": [],
   "source": [
    "from simplegmail import Gmail\n",
    "\n",
    "gmail = Gmail() # will open a browser window to ask you to log in and authenticate"
   ]
  },
  {
   "cell_type": "code",
   "execution_count": 6,
   "id": "15baad84",
   "metadata": {},
   "outputs": [],
   "source": [
    "params = {\n",
    "    \"to\":\"recv_mail@gmail.com\",\n",
    "    \"sender\":\"your_mail@gmail.com\",\n",
    "    \"subject\":\"Automated via simple gmail\",\n",
    "    \"msg_plain\":\"This library is awesome check it out\",\n",
    "    \"signature\":True\n",
    "}"
   ]
  },
  {
   "cell_type": "code",
   "execution_count": 7,
   "id": "ef9976b1",
   "metadata": {},
   "outputs": [],
   "source": [
    "message = gmail.send_message(**params)"
   ]
  },
  {
   "cell_type": "code",
   "execution_count": 8,
   "id": "6c22b7ab",
   "metadata": {},
   "outputs": [
    {
     "name": "stderr",
     "output_type": "stream",
     "text": [
      "/home/solverbot/.local/lib/python3.10/site-packages/bs4/builder/__init__.py:545: XMLParsedAsHTMLWarning: It looks like you're parsing an XML document using an HTML parser. If this really is an HTML document (maybe it's XHTML?), you can ignore or filter this warning. If it's XML, you should know that using an XML parser will be more reliable. To parse this document as XML, make sure you have the lxml package installed, and pass the keyword argument `features=\"xml\"` into the BeautifulSoup constructor.\n",
      "  warnings.warn(\n"
     ]
    }
   ],
   "source": [
    "stared_message = gmail.get_starred_messages()"
   ]
  },
  {
   "cell_type": "code",
   "execution_count": 9,
   "id": "418bd633",
   "metadata": {},
   "outputs": [
    {
     "data": {
      "text/plain": [
       "150"
      ]
     },
     "execution_count": 9,
     "metadata": {},
     "output_type": "execute_result"
    }
   ],
   "source": [
    "len(unread_message)"
   ]
  },
  {
   "cell_type": "code",
   "execution_count": 11,
   "id": "b533f1cf",
   "metadata": {},
   "outputs": [
    {
     "data": {
      "text/plain": [
       "'Astronomy Picture of the Day: NGC 1365: Majestic Island Universe'"
      ]
     },
     "execution_count": 11,
     "metadata": {},
     "output_type": "execute_result"
    }
   ],
   "source": [
    "unread_message[0].subject"
   ]
  },
  {
   "cell_type": "code",
   "execution_count": 14,
   "id": "0d406367",
   "metadata": {},
   "outputs": [
    {
     "data": {
      "text/plain": [
       "\"\\r\\n\\r\\nNGC 1365: Majestic Island Universe\\r\\nBarred spiral galaxy NGC 1365 is truly a majestic island universe some 200,000 light-years across. Located a mere 60 million light-years away toward the faint but heated constellation Fornax, NGC 1365 is a dominant member of the well-studied Fornax Cluster of galaxies. This impressively sharp color image shows the intense, reddish star forming regions near the ends of central bar and along the spiral arms, with details of the obscuring dust lanes cutting across the galaxy's bright core. At the core lies a supermassive black hole. Astronomers think NGC 1365's prominent bar plays a crucial role in the galaxy's evolution, drawing gas and dust into a star-forming maelstrom and ultimately feeding material into the central black hole.\\r\\n\\r\\nDecember 22, 2022\\r\\nvia NASA https://ift.tt/ZI2bLxN\\r\\n\\r\\nManage\\r\\n\\r\\nUnsubscribe from these notifications or sign in to manage your Email service.\\r\\n\\r\\n\\r\\n\\r\\n\\r\\nIFTTT\\r\\n\\r\\n\\tManage on IFTTT:\\r\\n\\thttps://ifttt.com/myrecipes/personal/95937891\\r\\n\""
      ]
     },
     "execution_count": 14,
     "metadata": {},
     "output_type": "execute_result"
    }
   ],
   "source": [
    "unread_message[0].plain"
   ]
  },
  {
   "cell_type": "code",
   "execution_count": 10,
   "id": "c711d29d",
   "metadata": {},
   "outputs": [
    {
     "data": {
      "text/plain": [
       "22"
      ]
     },
     "execution_count": 10,
     "metadata": {},
     "output_type": "execute_result"
    }
   ],
   "source": [
    "labels = gmail.list_labels()\n",
    "len(labels)"
   ]
  },
  {
   "cell_type": "code",
   "execution_count": 11,
   "id": "3ec67208",
   "metadata": {},
   "outputs": [],
   "source": [
    "from simplegmail.query import construct_query"
   ]
  },
  {
   "cell_type": "code",
   "execution_count": 14,
   "id": "ca7520e1",
   "metadata": {},
   "outputs": [],
   "source": [
    "query_params = {\n",
    "    \"read\":True,\n",
    "    \"sender\":\"no-reply@principles.com\",\n",
    "    \"newer_than\":(10,\"day\"),\n",
    "    \"labels\":[[\"CATEGORY_FORUMS\"],[\"INBOX\"]]\n",
    "}\n",
    "promo_query = construct_query(query_params)"
   ]
  },
  {
   "cell_type": "code",
   "execution_count": 15,
   "id": "d57af4d6",
   "metadata": {},
   "outputs": [
    {
     "data": {
      "text/plain": [
       "'(is:read from:no-reply@principles.com newer_than:10d {label:CATEGORY_FORUMS label:INBOX})'"
      ]
     },
     "execution_count": 15,
     "metadata": {},
     "output_type": "execute_result"
    }
   ],
   "source": [
    "promo_query"
   ]
  },
  {
   "cell_type": "code",
   "execution_count": 16,
   "id": "f16f4b03",
   "metadata": {},
   "outputs": [],
   "source": [
    "output = gmail.get_messages(query=promo_query)"
   ]
  },
  {
   "cell_type": "code",
   "execution_count": 19,
   "id": "90df5992",
   "metadata": {},
   "outputs": [
    {
     "data": {
      "text/plain": [
       "2"
      ]
     },
     "execution_count": 19,
     "metadata": {},
     "output_type": "execute_result"
    }
   ],
   "source": [
    "len(output)"
   ]
  },
  {
   "cell_type": "code",
   "execution_count": 154,
   "id": "f33f5d2e",
   "metadata": {},
   "outputs": [
    {
     "data": {
      "text/plain": [
       "'My Thoughts on China-US Relations, Their Other International Relations, and China'"
      ]
     },
     "execution_count": 154,
     "metadata": {},
     "output_type": "execute_result"
    }
   ],
   "source": [
    "output[0].subject"
   ]
  },
  {
   "cell_type": "code",
   "execution_count": 7,
   "id": "4c6bb343",
   "metadata": {},
   "outputs": [
    {
     "data": {
      "text/plain": [
       "'Ray Dalio <no-reply@principles.com>'"
      ]
     },
     "execution_count": 7,
     "metadata": {},
     "output_type": "execute_result"
    }
   ],
   "source": [
    "output[0].sender"
   ]
  },
  {
   "cell_type": "code",
   "execution_count": 155,
   "id": "002bd4e7",
   "metadata": {
    "collapsed": true
   },
   "outputs": [
    {
     "data": {
      "text/plain": [
       "'Today I’m sharing an article focusing on the great power conflict and what’s going on with China.\\r\\n\\r\\nhttps://www.linkedin.com/pulse/what-i-think-going-1-china-us-relations-2-other-countries-ray-dalio/?published=t\\r\\n\\r\\nRecently, I described the big cycle template (https://www.linkedin.com/pulse/where-we-big-cycle-brink-period-great-disorder-ray-dalio/) , consisting of the five major forces. Today I’m sharing the follow-up article, focusing on the great power conflict and what’s going on with China. It is informed by my recent visits to China and discussions with involved parties from elsewhere.\\r\\n\\r\\nUnfortunately, the events are transpiring in a manner consistent with the big cycle template in that we are on the brink of war for all the classic reasons. I hope this is of some help.\\r\\nREAD THE ARTICLE (https://www.linkedin.com/pulse/what-i-think-going-1-china-us-relations-2-other-countries-ray-dalio/?published=t)\\r\\n\\r\\nIf you want more detail on how connected our world is and how each driving force interacts with each other, you can find it in my book, Principles for Dealing with the Changing World Order (https://www.principles.com/big-debt-crises?utm_source=Mailchimp&utm_medium=Email&utm_campaign=USChinaRelations&utm_content=LIArticle) , or in the animated Changing World Order YouTube (https://www.youtube.com/watch?v=xguam0TKMw8)  video.\\r\\n\\r\\nAs always, I look forward to reading your comments and hearing your ideas about the Big Cycle and what is ahead. You can reach out to me directly on Facebook (https://www.facebook.com/raydalio/) , Instagram (https://www.instagram.com/raydalio/?hl=en) , LinkedIn (https://www.linkedin.com/in/raydalio/) , and Twitter (https://twitter.com/RayDalio) .\\r\\nRay\\r\\nNot a subscriber but want to receive updates from Ray?\\r\\nClick HERE (https://principles.us13.list-manage.com/subscribe?u=f817138263fa3d3dec4ad231d&id=08ee8ce394) to subscribe.\\r\\nhttps://www.facebook.com/raydalio/\\r\\nwww.linkedin.com/in/raydalio/\\r\\nhttp://instagram.com/raydalio/\\r\\nhttps://twitter.com/raydalio\\r\\n\\r\\n============================================================\\r\\n\\r\\nThis email was sent to Kamaljp@gmail.com (mailto:Kamaljp@gmail.com)\\r\\nwhy did I get this? (https://principles.us13.list-manage.com/about?u=f817138263fa3d3dec4ad231d&id=08ee8ce394&e=f05129e2ac&c=47ad47b1c5)     unsubscribe from this list (https://principles.us13.list-manage.com/unsubscribe?u=f817138263fa3d3dec4ad231d&id=08ee8ce394&e=f05129e2ac&c=47ad47b1c5)     update subscription preferences (https://principles.us13.list-manage.com/profile?u=f817138263fa3d3dec4ad231d&id=08ee8ce394&e=f05129e2ac&c=47ad47b1c5)\\r\\nPrinciples, LLC . 25 Ford Rd . Westport, CT 06880-1238 . USA'"
      ]
     },
     "execution_count": 155,
     "metadata": {},
     "output_type": "execute_result"
    },
    {
     "name": "stderr",
     "output_type": "stream",
     "text": [
      "/home/solverbot/.local/lib/python3.10/site-packages/bs4/builder/__init__.py:545: XMLParsedAsHTMLWarning: It looks like you're parsing an XML document using an HTML parser. If this really is an HTML document (maybe it's XHTML?), you can ignore or filter this warning. If it's XML, you should know that using an XML parser will be more reliable. To parse this document as XML, make sure you have the lxml package installed, and pass the keyword argument `features=\"xml\"` into the BeautifulSoup constructor.\n",
      "  warnings.warn(\n",
      "/usr/lib/python3.10/site-packages/dateutil/parser/_parser.py:1207: UnknownTimezoneWarning: tzname CEST identified but not understood.  Pass `tzinfos` argument in order to correctly return a timezone-aware datetime.  In a future version, this will raise an exception.\n",
      "  warnings.warn(\"tzname {tzname} identified but not understood.  \"\n"
     ]
    }
   ],
   "source": [
    "output[0].plain"
   ]
  },
  {
   "cell_type": "code",
   "execution_count": 8,
   "id": "70412f7a",
   "metadata": {},
   "outputs": [
    {
     "data": {
      "text/plain": [
       "'me'"
      ]
     },
     "execution_count": 8,
     "metadata": {},
     "output_type": "execute_result"
    }
   ],
   "source": [
    "output[0].user_id"
   ]
  },
  {
   "cell_type": "code",
   "execution_count": 12,
   "id": "fed636cf",
   "metadata": {},
   "outputs": [
    {
     "data": {
      "text/plain": [
       "2"
      ]
     },
     "execution_count": 12,
     "metadata": {},
     "output_type": "execute_result"
    }
   ],
   "source": [
    "len(output)"
   ]
  },
  {
   "cell_type": "code",
   "execution_count": 20,
   "id": "59843591",
   "metadata": {},
   "outputs": [],
   "source": [
    "query_params = {\n",
    "    \"read\":True,\n",
    "    \"sender\":\"action@ifttt.com\",\n",
    "    \"newer_than\":(30,\"day\"),\n",
    "    \"labels\":[[\"CATEGORY_FORUMS\"],[\"INBOX\"]]\n",
    "}\n",
    "promo_query = construct_query(query_params)"
   ]
  },
  {
   "cell_type": "code",
   "execution_count": 21,
   "id": "285a2c6c",
   "metadata": {},
   "outputs": [],
   "source": [
    "ifttt = gmail.get_messages(query=promo_query)"
   ]
  },
  {
   "cell_type": "code",
   "execution_count": 25,
   "id": "4bdca7ae",
   "metadata": {},
   "outputs": [
    {
     "data": {
      "text/plain": [
       "28"
      ]
     },
     "execution_count": 25,
     "metadata": {},
     "output_type": "execute_result"
    }
   ],
   "source": [
    "len(ifttt)"
   ]
  },
  {
   "cell_type": "code",
   "execution_count": 26,
   "id": "295b2366",
   "metadata": {},
   "outputs": [
    {
     "data": {
      "text/plain": [
       "\"Was this a lucky shot? Although many amazing photographs are taken by someone who just happenedÂ\\xa0to be in the right place at the right time, this image took skill and careful planning. First was the angularÂ\\xa0scale: if you shoot too close to the famous Arc de Triomphe in Paris, France, the full moon will appear too small.Â\\xa0 Conversely, if you shoot from too far away, the moon willÂ\\xa0appearÂ\\xa0 too large and not fit inside the Arc. Second is timing: the Moon only appears centered inside the Arc for small periods of time -- from this distance less than a minute. Other planned features include lighting, relative brightness, height, capturing a good foreground, and digital processing. And yes, there is some luck involved -- for example, the sky must be clear. This time, the planning was successful, bringing two of humanity's most famous icons photographically together for all to enjoy.\\r\\n\\r\\nApril 26, 2023\\r\\n\\r\\nvia NASA https://ift.tt/Q97cCjP\\r\\n\\r\\n            Manage\\r\\n\\r\\n    Unsubscribe\\r\\n       from these notifications or sign in to manage your\\r\\n    Email service.\\r\\n\\r\\n\\r\\n\\r\\n\\r\\nIFTTT\\r\\n\\r\\n\\tManage on IFTTT:\\r\\n\\thttps://ifttt.com/myrecipes/personal/95937891\""
      ]
     },
     "execution_count": 26,
     "metadata": {},
     "output_type": "execute_result"
    }
   ],
   "source": [
    "ifttt[0].plain.strip()"
   ]
  },
  {
   "cell_type": "code",
   "execution_count": 27,
   "id": "3423f5ce",
   "metadata": {},
   "outputs": [
    {
     "data": {
      "text/plain": [
       "'2023-04-26 10:44:41+05:30'"
      ]
     },
     "execution_count": 27,
     "metadata": {},
     "output_type": "execute_result"
    }
   ],
   "source": [
    "ifttt[0].date"
   ]
  }
 ],
 "metadata": {
  "kernelspec": {
   "display_name": "Python 3 (ipykernel)",
   "language": "python",
   "name": "python3"
  },
  "language_info": {
   "codemirror_mode": {
    "name": "ipython",
    "version": 3
   },
   "file_extension": ".py",
   "mimetype": "text/x-python",
   "name": "python",
   "nbconvert_exporter": "python",
   "pygments_lexer": "ipython3",
   "version": "3.10.9"
  }
 },
 "nbformat": 4,
 "nbformat_minor": 5
}
