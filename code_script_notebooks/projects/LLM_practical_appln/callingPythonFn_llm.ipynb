{
  "nbformat": 4,
  "nbformat_minor": 0,
  "metadata": {
    "colab": {
      "provenance": []
    },
    "kernelspec": {
      "name": "python3",
      "display_name": "Python 3"
    },
    "language_info": {
      "name": "python"
    },
    "widgets": {
      "application/vnd.jupyter.widget-state+json": {
        "8024ab5ba65e4954b154fbe17ee2bf0a": {
          "model_module": "@jupyter-widgets/controls",
          "model_name": "HBoxModel",
          "model_module_version": "1.5.0",
          "state": {
            "_dom_classes": [],
            "_model_module": "@jupyter-widgets/controls",
            "_model_module_version": "1.5.0",
            "_model_name": "HBoxModel",
            "_view_count": null,
            "_view_module": "@jupyter-widgets/controls",
            "_view_module_version": "1.5.0",
            "_view_name": "HBoxView",
            "box_style": "",
            "children": [
              "IPY_MODEL_a60ee62fa8c94f42a0a34cfd0164554e",
              "IPY_MODEL_65fcf92c6199430ea4539b5aa0fe98ac",
              "IPY_MODEL_4a63383568e849e4bfcb0955bedc43ed"
            ],
            "layout": "IPY_MODEL_f6b258ec72c34d73a511f48778945d41"
          }
        },
        "a60ee62fa8c94f42a0a34cfd0164554e": {
          "model_module": "@jupyter-widgets/controls",
          "model_name": "HTMLModel",
          "model_module_version": "1.5.0",
          "state": {
            "_dom_classes": [],
            "_model_module": "@jupyter-widgets/controls",
            "_model_module_version": "1.5.0",
            "_model_name": "HTMLModel",
            "_view_count": null,
            "_view_module": "@jupyter-widgets/controls",
            "_view_module_version": "1.5.0",
            "_view_name": "HTMLView",
            "description": "",
            "description_tooltip": null,
            "layout": "IPY_MODEL_9dd5fd8387744ce8927ecb49ffe86b77",
            "placeholder": "​",
            "style": "IPY_MODEL_620d5489a70e4589baaec0337b20093a",
            "value": "Downloading ggjt-model.bin: 100%"
          }
        },
        "65fcf92c6199430ea4539b5aa0fe98ac": {
          "model_module": "@jupyter-widgets/controls",
          "model_name": "FloatProgressModel",
          "model_module_version": "1.5.0",
          "state": {
            "_dom_classes": [],
            "_model_module": "@jupyter-widgets/controls",
            "_model_module_version": "1.5.0",
            "_model_name": "FloatProgressModel",
            "_view_count": null,
            "_view_module": "@jupyter-widgets/controls",
            "_view_module_version": "1.5.0",
            "_view_name": "ProgressView",
            "bar_style": "success",
            "description": "",
            "description_tooltip": null,
            "layout": "IPY_MODEL_734d3f4683cd4a1ca616ec26c2a2d6c4",
            "max": 4212864640,
            "min": 0,
            "orientation": "horizontal",
            "style": "IPY_MODEL_eee752c9d90e4879a055a598a2fe5348",
            "value": 4212864640
          }
        },
        "4a63383568e849e4bfcb0955bedc43ed": {
          "model_module": "@jupyter-widgets/controls",
          "model_name": "HTMLModel",
          "model_module_version": "1.5.0",
          "state": {
            "_dom_classes": [],
            "_model_module": "@jupyter-widgets/controls",
            "_model_module_version": "1.5.0",
            "_model_name": "HTMLModel",
            "_view_count": null,
            "_view_module": "@jupyter-widgets/controls",
            "_view_module_version": "1.5.0",
            "_view_name": "HTMLView",
            "description": "",
            "description_tooltip": null,
            "layout": "IPY_MODEL_bfc385708eae4f64b4d96f2a84a7eb8b",
            "placeholder": "​",
            "style": "IPY_MODEL_ebc2aea459cf4f9493167ee7decc3d1b",
            "value": " 4.21G/4.21G [00:50&lt;00:00, 74.0MB/s]"
          }
        },
        "f6b258ec72c34d73a511f48778945d41": {
          "model_module": "@jupyter-widgets/base",
          "model_name": "LayoutModel",
          "model_module_version": "1.2.0",
          "state": {
            "_model_module": "@jupyter-widgets/base",
            "_model_module_version": "1.2.0",
            "_model_name": "LayoutModel",
            "_view_count": null,
            "_view_module": "@jupyter-widgets/base",
            "_view_module_version": "1.2.0",
            "_view_name": "LayoutView",
            "align_content": null,
            "align_items": null,
            "align_self": null,
            "border": null,
            "bottom": null,
            "display": null,
            "flex": null,
            "flex_flow": null,
            "grid_area": null,
            "grid_auto_columns": null,
            "grid_auto_flow": null,
            "grid_auto_rows": null,
            "grid_column": null,
            "grid_gap": null,
            "grid_row": null,
            "grid_template_areas": null,
            "grid_template_columns": null,
            "grid_template_rows": null,
            "height": null,
            "justify_content": null,
            "justify_items": null,
            "left": null,
            "margin": null,
            "max_height": null,
            "max_width": null,
            "min_height": null,
            "min_width": null,
            "object_fit": null,
            "object_position": null,
            "order": null,
            "overflow": null,
            "overflow_x": null,
            "overflow_y": null,
            "padding": null,
            "right": null,
            "top": null,
            "visibility": null,
            "width": null
          }
        },
        "9dd5fd8387744ce8927ecb49ffe86b77": {
          "model_module": "@jupyter-widgets/base",
          "model_name": "LayoutModel",
          "model_module_version": "1.2.0",
          "state": {
            "_model_module": "@jupyter-widgets/base",
            "_model_module_version": "1.2.0",
            "_model_name": "LayoutModel",
            "_view_count": null,
            "_view_module": "@jupyter-widgets/base",
            "_view_module_version": "1.2.0",
            "_view_name": "LayoutView",
            "align_content": null,
            "align_items": null,
            "align_self": null,
            "border": null,
            "bottom": null,
            "display": null,
            "flex": null,
            "flex_flow": null,
            "grid_area": null,
            "grid_auto_columns": null,
            "grid_auto_flow": null,
            "grid_auto_rows": null,
            "grid_column": null,
            "grid_gap": null,
            "grid_row": null,
            "grid_template_areas": null,
            "grid_template_columns": null,
            "grid_template_rows": null,
            "height": null,
            "justify_content": null,
            "justify_items": null,
            "left": null,
            "margin": null,
            "max_height": null,
            "max_width": null,
            "min_height": null,
            "min_width": null,
            "object_fit": null,
            "object_position": null,
            "order": null,
            "overflow": null,
            "overflow_x": null,
            "overflow_y": null,
            "padding": null,
            "right": null,
            "top": null,
            "visibility": null,
            "width": null
          }
        },
        "620d5489a70e4589baaec0337b20093a": {
          "model_module": "@jupyter-widgets/controls",
          "model_name": "DescriptionStyleModel",
          "model_module_version": "1.5.0",
          "state": {
            "_model_module": "@jupyter-widgets/controls",
            "_model_module_version": "1.5.0",
            "_model_name": "DescriptionStyleModel",
            "_view_count": null,
            "_view_module": "@jupyter-widgets/base",
            "_view_module_version": "1.2.0",
            "_view_name": "StyleView",
            "description_width": ""
          }
        },
        "734d3f4683cd4a1ca616ec26c2a2d6c4": {
          "model_module": "@jupyter-widgets/base",
          "model_name": "LayoutModel",
          "model_module_version": "1.2.0",
          "state": {
            "_model_module": "@jupyter-widgets/base",
            "_model_module_version": "1.2.0",
            "_model_name": "LayoutModel",
            "_view_count": null,
            "_view_module": "@jupyter-widgets/base",
            "_view_module_version": "1.2.0",
            "_view_name": "LayoutView",
            "align_content": null,
            "align_items": null,
            "align_self": null,
            "border": null,
            "bottom": null,
            "display": null,
            "flex": null,
            "flex_flow": null,
            "grid_area": null,
            "grid_auto_columns": null,
            "grid_auto_flow": null,
            "grid_auto_rows": null,
            "grid_column": null,
            "grid_gap": null,
            "grid_row": null,
            "grid_template_areas": null,
            "grid_template_columns": null,
            "grid_template_rows": null,
            "height": null,
            "justify_content": null,
            "justify_items": null,
            "left": null,
            "margin": null,
            "max_height": null,
            "max_width": null,
            "min_height": null,
            "min_width": null,
            "object_fit": null,
            "object_position": null,
            "order": null,
            "overflow": null,
            "overflow_x": null,
            "overflow_y": null,
            "padding": null,
            "right": null,
            "top": null,
            "visibility": null,
            "width": null
          }
        },
        "eee752c9d90e4879a055a598a2fe5348": {
          "model_module": "@jupyter-widgets/controls",
          "model_name": "ProgressStyleModel",
          "model_module_version": "1.5.0",
          "state": {
            "_model_module": "@jupyter-widgets/controls",
            "_model_module_version": "1.5.0",
            "_model_name": "ProgressStyleModel",
            "_view_count": null,
            "_view_module": "@jupyter-widgets/base",
            "_view_module_version": "1.2.0",
            "_view_name": "StyleView",
            "bar_color": null,
            "description_width": ""
          }
        },
        "bfc385708eae4f64b4d96f2a84a7eb8b": {
          "model_module": "@jupyter-widgets/base",
          "model_name": "LayoutModel",
          "model_module_version": "1.2.0",
          "state": {
            "_model_module": "@jupyter-widgets/base",
            "_model_module_version": "1.2.0",
            "_model_name": "LayoutModel",
            "_view_count": null,
            "_view_module": "@jupyter-widgets/base",
            "_view_module_version": "1.2.0",
            "_view_name": "LayoutView",
            "align_content": null,
            "align_items": null,
            "align_self": null,
            "border": null,
            "bottom": null,
            "display": null,
            "flex": null,
            "flex_flow": null,
            "grid_area": null,
            "grid_auto_columns": null,
            "grid_auto_flow": null,
            "grid_auto_rows": null,
            "grid_column": null,
            "grid_gap": null,
            "grid_row": null,
            "grid_template_areas": null,
            "grid_template_columns": null,
            "grid_template_rows": null,
            "height": null,
            "justify_content": null,
            "justify_items": null,
            "left": null,
            "margin": null,
            "max_height": null,
            "max_width": null,
            "min_height": null,
            "min_width": null,
            "object_fit": null,
            "object_position": null,
            "order": null,
            "overflow": null,
            "overflow_x": null,
            "overflow_y": null,
            "padding": null,
            "right": null,
            "top": null,
            "visibility": null,
            "width": null
          }
        },
        "ebc2aea459cf4f9493167ee7decc3d1b": {
          "model_module": "@jupyter-widgets/controls",
          "model_name": "DescriptionStyleModel",
          "model_module_version": "1.5.0",
          "state": {
            "_model_module": "@jupyter-widgets/controls",
            "_model_module_version": "1.5.0",
            "_model_name": "DescriptionStyleModel",
            "_view_count": null,
            "_view_module": "@jupyter-widgets/base",
            "_view_module_version": "1.2.0",
            "_view_name": "StyleView",
            "description_width": ""
          }
        }
      }
    }
  },
  "cells": [
    {
      "cell_type": "code",
      "execution_count": 27,
      "metadata": {
        "id": "hKR3GaoDUHCT"
      },
      "outputs": [],
      "source": [
        "!pip -q install openai tiktoken nsepython langchain sentence-transformers transformers huggingface huggingface_hub llama-cpp-python > /dev/null"
      ]
    },
    {
      "cell_type": "code",
      "source": [
        "from huggingface_hub import hf_hub_download\n",
        "\n",
        "#Download the model\n",
        "hf_hub_download(repo_id=\"LLukas22/gpt4all-lora-quantized-ggjt\", \n",
        "                filename=\"ggjt-model.bin\", \n",
        "                local_dir=\".\")"
      ],
      "metadata": {
        "colab": {
          "base_uri": "https://localhost:8080/",
          "height": 68,
          "referenced_widgets": [
            "8024ab5ba65e4954b154fbe17ee2bf0a",
            "a60ee62fa8c94f42a0a34cfd0164554e",
            "65fcf92c6199430ea4539b5aa0fe98ac",
            "4a63383568e849e4bfcb0955bedc43ed",
            "f6b258ec72c34d73a511f48778945d41",
            "9dd5fd8387744ce8927ecb49ffe86b77",
            "620d5489a70e4589baaec0337b20093a",
            "734d3f4683cd4a1ca616ec26c2a2d6c4",
            "eee752c9d90e4879a055a598a2fe5348",
            "bfc385708eae4f64b4d96f2a84a7eb8b",
            "ebc2aea459cf4f9493167ee7decc3d1b"
          ]
        },
        "id": "30D8WCVLYbAI",
        "outputId": "dfd02ce9-d1e2-4abe-8909-a671cb9c3db5"
      },
      "execution_count": 2,
      "outputs": [
        {
          "output_type": "display_data",
          "data": {
            "text/plain": [
              "Downloading ggjt-model.bin:   0%|          | 0.00/4.21G [00:00<?, ?B/s]"
            ],
            "application/vnd.jupyter.widget-view+json": {
              "version_major": 2,
              "version_minor": 0,
              "model_id": "8024ab5ba65e4954b154fbe17ee2bf0a"
            }
          },
          "metadata": {}
        },
        {
          "output_type": "execute_result",
          "data": {
            "text/plain": [
              "'./ggjt-model.bin'"
            ],
            "application/vnd.google.colaboratory.intrinsic+json": {
              "type": "string"
            }
          },
          "metadata": {},
          "execution_count": 2
        }
      ]
    },
    {
      "cell_type": "code",
      "source": [
        "from langchain.llms import LlamaCpp\n",
        "from langchain import PromptTemplate, LLMChain"
      ],
      "metadata": {
        "id": "RaIveqvHYa-H"
      },
      "execution_count": 3,
      "outputs": []
    },
    {
      "cell_type": "code",
      "source": [
        "local_llm = LlamaCpp(model_path=\"/content/ggjt-model.bin\")"
      ],
      "metadata": {
        "colab": {
          "base_uri": "https://localhost:8080/"
        },
        "id": "CpySEV1vYa7x",
        "outputId": "59ce7df3-273e-45ab-a3f4-f141ca460688"
      },
      "execution_count": 4,
      "outputs": [
        {
          "output_type": "stream",
          "name": "stderr",
          "text": [
            "AVX = 1 | AVX2 = 1 | AVX512 = 0 | AVX512_VBMI = 0 | AVX512_VNNI = 0 | FMA = 1 | NEON = 0 | ARM_FMA = 0 | F16C = 1 | FP16_VA = 0 | WASM_SIMD = 0 | BLAS = 0 | SSE3 = 1 | VSX = 0 | \n"
          ]
        }
      ]
    },
    {
      "cell_type": "code",
      "source": [
        "from langchain.agents import load_tools\n",
        "from langchain.agents import initialize_agent\n",
        "from langchain.agents import AgentType\n",
        "from langchain.agents import initialize_agent, Tool\n",
        "from langchain.agents import AgentType"
      ],
      "metadata": {
        "id": "KFlYui1tYa5P"
      },
      "execution_count": 19,
      "outputs": []
    },
    {
      "cell_type": "code",
      "source": [
        "import nsepython as nse\n",
        "from nsepython import nse_get_top_gainers\n",
        "from nsepython import fnolist\n",
        "from nsepython import nse_get_top_losers"
      ],
      "metadata": {
        "id": "dszNgPmeeG_9"
      },
      "execution_count": 33,
      "outputs": []
    },
    {
      "cell_type": "code",
      "source": [
        "all_fno_company = nse.fnolist()\n",
        "gainers = nse.nse_get_top_gainers()\n",
        "losers = nse.nse_get_top_losers()\n",
        "bulk_deals = nse.get_bulkdeals()\n",
        "index_list = nse.nse_get_index_list()\n",
        "holidays = nse.nse_holidays()\n",
        "company_info = nse.nse_eq(\"IDFC\")\n",
        "advances_declines = nse.nse_get_advances_declines()\n",
        "equity_data = nse.equity_history(\"IDFC\",\"EQ\",\"01-12-2022\",\"25-01-2023\")"
      ],
      "metadata": {
        "id": "jv1773ywYa0x"
      },
      "execution_count": null,
      "outputs": []
    },
    {
      "cell_type": "code",
      "source": [
        "all_fno_company[:2]"
      ],
      "metadata": {
        "id": "4gwp842dYaxk"
      },
      "execution_count": null,
      "outputs": []
    },
    {
      "cell_type": "code",
      "source": [
        "gainers[:2]"
      ],
      "metadata": {
        "id": "bB55t9lfYar-"
      },
      "execution_count": null,
      "outputs": []
    },
    {
      "cell_type": "code",
      "source": [
        "losers[:2]"
      ],
      "metadata": {
        "id": "2OW6zx5HaNXY"
      },
      "execution_count": null,
      "outputs": []
    },
    {
      "cell_type": "code",
      "source": [
        "index_list[:2]"
      ],
      "metadata": {
        "id": "bGxtyfdYaRat"
      },
      "execution_count": null,
      "outputs": []
    },
    {
      "cell_type": "code",
      "source": [
        "company_info"
      ],
      "metadata": {
        "id": "dORqLqvgaRUe"
      },
      "execution_count": null,
      "outputs": []
    },
    {
      "cell_type": "code",
      "source": [
        "advances_declines[:2]"
      ],
      "metadata": {
        "id": "uifb29SzaRQv"
      },
      "execution_count": null,
      "outputs": []
    },
    {
      "cell_type": "code",
      "source": [
        "equity_data[:2]"
      ],
      "metadata": {
        "id": "_5YYQa3gaRHd"
      },
      "execution_count": null,
      "outputs": []
    },
    {
      "cell_type": "code",
      "source": [
        "from langchain.agents import tool\n",
        "\n",
        "@tool(\"companylist\", return_direct=True)\n",
        "def fnolist() -> str:\n",
        "    \"\"\"useful when need to find the companies list\"\"\"\n",
        "    return fnolist()"
      ],
      "metadata": {
        "id": "j6I_0sWTeqfa"
      },
      "execution_count": 48,
      "outputs": []
    },
    {
      "cell_type": "code",
      "source": [
        "@tool(\"gainers\", return_direct=True)\n",
        "def gainers() -> str:\n",
        "    \"\"\"useful when need to find the gainers companies list\"\"\"\n",
        "    return nse_get_top_gainers()"
      ],
      "metadata": {
        "id": "2vgydonReqZi"
      },
      "execution_count": 49,
      "outputs": []
    },
    {
      "cell_type": "code",
      "source": [
        "@tool(\"losers\", return_direct=True)\n",
        "def losers() -> str:\n",
        "    \"\"\"useful when need to find the losers companies list\"\"\"\n",
        "    return nse_get_top_losers()"
      ],
      "metadata": {
        "id": "O4CDxTBdeqIu"
      },
      "execution_count": 51,
      "outputs": []
    },
    {
      "cell_type": "code",
      "source": [
        "tools = [fnolist,gainers,losers]"
      ],
      "metadata": {
        "id": "AABGPW3jbHJR"
      },
      "execution_count": 55,
      "outputs": []
    },
    {
      "cell_type": "code",
      "source": [
        "tools[0]"
      ],
      "metadata": {
        "colab": {
          "base_uri": "https://localhost:8080/"
        },
        "id": "0wtJA0xXguaD",
        "outputId": "1bb1322f-c55c-4f9c-8548-3ddd538f84d4"
      },
      "execution_count": 56,
      "outputs": [
        {
          "output_type": "execute_result",
          "data": {
            "text/plain": [
              "Tool(name='companylist', description='companylist() -> str - useful when need to find the companies list', args_schema=<class 'pydantic.main.companylistSchemaSchema'>, return_direct=True, verbose=False, callback_manager=<langchain.callbacks.shared.SharedCallbackManager object at 0x7fc6ea2b5e50>, func=<function fnolist at 0x7fc55d8008b0>, coroutine=None)"
            ]
          },
          "metadata": {},
          "execution_count": 56
        }
      ]
    },
    {
      "cell_type": "code",
      "source": [
        "gpt_agent = initialize_agent(tools, \n",
        "                         local_llm, \n",
        "                         agent=AgentType.ZERO_SHOT_REACT_DESCRIPTION, \n",
        "                         verbose=True)"
      ],
      "metadata": {
        "id": "OTr8M8wacIAs"
      },
      "execution_count": 44,
      "outputs": []
    },
    {
      "cell_type": "code",
      "source": [
        "gpt_agent.run(\"who are the top gainers in the market\")"
      ],
      "metadata": {
        "id": "igNkRQYOcH2Y"
      },
      "execution_count": null,
      "outputs": []
    },
    {
      "cell_type": "code",
      "source": [
        "import os\n",
        "os.environ['OPENAI_API_KEY']=''"
      ],
      "metadata": {
        "id": "y30FkTTHdI9U"
      },
      "execution_count": 43,
      "outputs": []
    },
    {
      "cell_type": "code",
      "source": [
        "from langchain.llms import OpenAI"
      ],
      "metadata": {
        "id": "PuGxPKx9dc0t"
      },
      "execution_count": 25,
      "outputs": []
    },
    {
      "cell_type": "code",
      "source": [
        "openai_agent = initialize_agent(tools, \n",
        "                         OpenAI(temperature=0), \n",
        "                         agent=AgentType.ZERO_SHOT_REACT_DESCRIPTION, \n",
        "                         verbose=True)"
      ],
      "metadata": {
        "id": "GQwd4LskcHxn"
      },
      "execution_count": 57,
      "outputs": []
    },
    {
      "cell_type": "code",
      "source": [
        "openai_agent.run(\"Provide the available company list\")"
      ],
      "metadata": {
        "id": "-9Grfpw6dhOl"
      },
      "execution_count": null,
      "outputs": []
    }
  ]
}