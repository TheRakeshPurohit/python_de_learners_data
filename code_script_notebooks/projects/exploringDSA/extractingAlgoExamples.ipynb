{
 "cells": [
  {
   "cell_type": "code",
   "execution_count": null,
   "metadata": {
    "id": "x4K_T74Qv1T2"
   },
   "outputs": [],
   "source": [
    "!pip install google-generativeai > /dev/null"
   ]
  },
  {
   "cell_type": "code",
   "execution_count": 28,
   "metadata": {
    "id": "ccgHJ_3uxAe_"
   },
   "outputs": [],
   "source": [
    "import google.generativeai as palm\n",
    "\n",
    "palm.configure(api_key=\"\")"
   ]
  },
  {
   "cell_type": "code",
   "execution_count": 2,
   "metadata": {
    "id": "VjtkZhNqxIWg"
   },
   "outputs": [],
   "source": [
    "defaults = {\n",
    "  'model': 'models/text-bison-001',\n",
    "  'temperature': 0.05,\n",
    "  'candidate_count': 1,\n",
    "  'top_k': 40,\n",
    "  'top_p': 0.95,\n",
    "  'max_output_tokens': 1024,\n",
    "  'stop_sequences': [],\n",
    "  'safety_settings': [{\"category\":\"HARM_CATEGORY_DEROGATORY\",\"threshold\":1},{\"category\":\"HARM_CATEGORY_TOXICITY\",\"threshold\":1},{\"category\":\"HARM_CATEGORY_VIOLENCE\",\"threshold\":2},{\"category\":\"HARM_CATEGORY_SEXUAL\",\"threshold\":2},{\"category\":\"HARM_CATEGORY_MEDICAL\",\"threshold\":2},{\"category\":\"HARM_CATEGORY_DANGEROUS\",\"threshold\":2}],\n",
    "}"
   ]
  },
  {
   "cell_type": "code",
   "execution_count": 40,
   "metadata": {
    "id": "ZfzMFfh3xJ7N"
   },
   "outputs": [],
   "source": [
    "def get_examples(question):\n",
    "    prompt = f\"\"\"{question}\n",
    "    Provide 3 real world application of above programming question.\n",
    "    Only provide the application in English.\n",
    "    \"\"\"\n",
    "\n",
    "    response = palm.generate_text(\n",
    "    **defaults,\n",
    "    prompt=prompt\n",
    "    )\n",
    "\n",
    "    return response.result"
   ]
  },
  {
   "cell_type": "code",
   "execution_count": 4,
   "metadata": {
    "id": "_FCZdtlbxjTy"
   },
   "outputs": [],
   "source": [
    "question_blob = \"\"\"\n",
    "    How do you find the missing number in a given integer array of 1 to 100?\n",
    "    How do you find the duplicate number on a given integer array?\n",
    "    How do you find the largest and smallest number in an unsorted integer array?\n",
    "    How do you find all pairs of an integer array whose sum is equal to a given number?\n",
    "    How do you find duplicate numbers in an array if it contains multiple duplicates?\n",
    "    How are duplicates removed from a given array in Java?\n",
    "    How is an integer array sorted in place using the quicksort algorithm?\n",
    "    How do you remove duplicates from an array in place?\n",
    "    How do you reverse an array in place in Java?\n",
    "    How are duplicates removed from an array without using any library?\n",
    "    How do you find the middle element of a singly linked list in one pass?\n",
    "    How do you check if a given linked list contains a cycle?How do you find the starting node of the cycle?\n",
    "    How do you reverse a linked list?\n",
    "    How do you reverse a singly linked list without recursion?\n",
    "    How are duplicate nodes removed in an unsorted linked list?\n",
    "    How do you find the length of a singly linked list?\n",
    "    How do you find the third node from the end in a singly linked list?\n",
    "    How do you find the sum of two linked lists using Stack?\n",
    "    How do you print duplicate characters from a string?\n",
    "    How do you check if two strings are anagrams of each other?\n",
    "    How do you print the first non-repeated character from a string?\n",
    "    How can a given string be reversed using recursion?\n",
    "    How do you check if a string contains only digits?\n",
    "    How are duplicate characters found in a string?\n",
    "    How do you count the number of vowels and consonants in a given string?\n",
    "    How do you count the occurrence of a given character in a string?\n",
    "    How do you find all the permutations of a string?\n",
    "    How do you reverse words in a given sentence without using any library method?\n",
    "    How do you check if two strings are a rotation of each other?\n",
    "    How do you check if a given string is a palindrome?\n",
    "    How is a binary search tree implemented?\n",
    "    How do you perform preorder traversal in a given binary tree?\n",
    "    How do you traverse a given binary tree in preorder without recursion?\n",
    "    How do you perform an inorder traversal in a given binary tree?\n",
    "    How do you print all nodes of a given binary tree using inorder traversal without recursion?\n",
    "    How do you implement a postorder traversal algorithm?\n",
    "    How do you traverse a binary tree in postorder traversal without recursion?\n",
    "    How are all leaves of a binary search tree printed?\n",
    "    How do you count the number of leaf nodes in a given binary tree?\n",
    "    How do you perform a binary search in a given array?\n",
    "    How is a bubble sort algorithm implemented?\n",
    "    How is an iterative quicksort algorithm implemented?\n",
    "    How do you implement an insertion sort algorithm?\n",
    "    How is a merge sort algorithm implemented?\n",
    "    How do you implement a bucket sort algorithm?\n",
    "    How do you implement a counting sort algorithm?\n",
    "    How is a radix sort algorithm implemented?\n",
    "    How do you swap two numbers without using the third variable?\n",
    "    How do you check if two rectangles overlap with each other?\n",
    "    How do you design a vending machine?\n",
    "\"\"\""
   ]
  },
  {
   "cell_type": "code",
   "execution_count": 42,
   "metadata": {},
   "outputs": [],
   "source": [
    "with open('example_retrieved.txt','r') as exr:\n",
    "    retrieved = exr.readlines()"
   ]
  },
  {
   "cell_type": "code",
   "execution_count": 43,
   "metadata": {},
   "outputs": [],
   "source": [
    "retrieved_quests = []\n",
    "for retr in retrieved:\n",
    "    if \"Question\" in retr:\n",
    "        print(retr)\n",
    "        retrieved_quests.append(retr.split(':')[1].strip())"
   ]
  },
  {
   "cell_type": "code",
   "execution_count": 44,
   "metadata": {},
   "outputs": [
    {
     "data": {
      "text/plain": [
       "[]"
      ]
     },
     "execution_count": 44,
     "metadata": {},
     "output_type": "execute_result"
    }
   ],
   "source": [
    "retrieved_quests"
   ]
  },
  {
   "cell_type": "code",
   "execution_count": 11,
   "metadata": {
    "id": "-sxEfnxCxjRc"
   },
   "outputs": [],
   "source": [
    "questions = question_blob.split('\\n')\n",
    "\n",
    "clean_quests = []\n",
    "\n",
    "for q in questions:\n",
    "  q = q.strip()\n",
    "  if 'solution' in q:\n",
    "    q = q.replace('(solution)','')\n",
    "  if q != '':\n",
    "    clean_quests.append(q)"
   ]
  },
  {
   "cell_type": "code",
   "execution_count": 12,
   "metadata": {
    "colab": {
     "base_uri": "https://localhost:8080/"
    },
    "id": "rrgUJSL5xjPQ",
    "outputId": "cfb4cb3b-062a-4bb5-e7ed-54f291bcf259"
   },
   "outputs": [
    {
     "data": {
      "text/plain": [
       "50"
      ]
     },
     "execution_count": 12,
     "metadata": {},
     "output_type": "execute_result"
    }
   ],
   "source": [
    "len(clean_quests)"
   ]
  },
  {
   "cell_type": "code",
   "execution_count": 41,
   "metadata": {},
   "outputs": [
    {
     "data": {
      "text/plain": [
       "'**1. Counting the number of spaces in a string**\\n\\n    This is a common task in text processing. For example, you might want to know how many words are in a sentence, or how many lines are in a paragraph. To do this, you can use the following code:\\n\\n    ```python\\n    def count_spaces(string):\\n        \"\"\"Counts the number of spaces in a string.\"\"\"\\n\\n        count = 0\\n        for character in string:\\n            if character == \" \":\\n                count += 1\\n        return count\\n\\n\\n    string = \"This is a sentence with five words.\"\\n    print(count_spaces(string))\\n    # 5\\n    ```\\n\\n    **2. Finding the first occurrence of a character in a string**\\n\\n    This is another common task in text processing. For example, you might want to find the first occurrence of a specific letter in a word, or the first occurrence of a specific word in a sentence. To do this, you can use the following code:\\n\\n    ```python\\n    def find_first_occurrence(string, character):\\n        \"\"\"Finds the first occurrence of a character in a string.\"\"\"\\n\\n        for index in range(len(string)):\\n            if string[index] == character:\\n                return index\\n        return -1\\n\\n\\n    string = \"This is a sentence with the letter \\'e\\'.\"\\n    print(find_first_occurrence(string, \"e\"))\\n    # 4\\n    ```\\n\\n    **3. Splitting a string into substrings**\\n\\n    This is a common task in text processing. For example, you might want to split a string into words, or split a string into lines. To do this, you can use the following code:\\n\\n    ```python\\n    def split_string(string, delimiter):\\n        \"\"\"Splits a string into substrings.\"\"\"\\n\\n        substrings = []\\n        for substring in string.split(delimiter):\\n            substrings.append(substring)\\n        return substrings\\n\\n\\n    string = \"This is a sentence with five words.\"\\n    print(split_string(string, \" \"))\\n    # [\"This\", \"is\", \"a\", \"sentence\", \"with\", \"five\", \"words\"]\\n    ```\\n\\n    These are just a few of the many real-world applications of counting the occurrence of a given character in a string. With a little creativity, you can use this programming question to solve a variety of problems.'"
      ]
     },
     "execution_count": 41,
     "metadata": {},
     "output_type": "execute_result"
    }
   ],
   "source": [
    "get_examples(clean_quests[25])"
   ]
  },
  {
   "cell_type": "code",
   "execution_count": 26,
   "metadata": {},
   "outputs": [
    {
     "data": {
      "text/plain": [
       "False"
      ]
     },
     "execution_count": 26,
     "metadata": {},
     "output_type": "execute_result"
    }
   ],
   "source": [
    "clean_quests[6] in retrieved_quests"
   ]
  },
  {
   "cell_type": "code",
   "execution_count": 45,
   "metadata": {
    "id": "QwtzRseJxjM_"
   },
   "outputs": [
    {
     "name": "stdout",
     "output_type": "stream",
     "text": [
      "Extracting example for \n",
      " How do you find the missing number in a given integer array of 1 to 100?\n",
      "Extracting example for \n",
      " How do you find the duplicate number on a given integer array?\n",
      "Extracting example for \n",
      " How do you find the largest and smallest number in an unsorted integer array?\n",
      "Extracting example for \n",
      " How do you find all pairs of an integer array whose sum is equal to a given number?\n",
      "Extracting example for \n",
      " How do you find duplicate numbers in an array if it contains multiple duplicates?\n",
      "Extracting example for \n",
      " How are duplicates removed from a given array in Java?\n",
      "Extracting example for \n",
      " How is an integer array sorted in place using the quicksort algorithm?\n",
      "Extracting example for \n",
      " How do you remove duplicates from an array in place?\n",
      "Extracting example for \n",
      " How do you reverse an array in place in Java?\n",
      "Extracting example for \n",
      " How are duplicates removed from an array without using any library?\n",
      "Extracting example for \n",
      " How do you find the middle element of a singly linked list in one pass?\n",
      "Extracting example for \n",
      " How do you check if a given linked list contains a cycle?How do you find the starting node of the cycle?\n",
      "Extracting example for \n",
      " How do you reverse a linked list?\n",
      "Extracting example for \n",
      " How do you reverse a singly linked list without recursion?\n",
      "Extracting example for \n",
      " How are duplicate nodes removed in an unsorted linked list?\n",
      "Extracting example for \n",
      " How do you find the length of a singly linked list?\n",
      "Extracting example for \n",
      " How do you find the third node from the end in a singly linked list?\n",
      "Extracting example for \n",
      " How do you find the sum of two linked lists using Stack?\n",
      "Extracting example for \n",
      " How do you print duplicate characters from a string?\n",
      "Extracting example for \n",
      " How do you check if two strings are anagrams of each other?\n",
      "Extracting example for \n",
      " How do you print the first non-repeated character from a string?\n",
      "Extracting example for \n",
      " How can a given string be reversed using recursion?\n",
      "Extracting example for \n",
      " How do you check if a string contains only digits?\n",
      "Extracting example for \n",
      " How are duplicate characters found in a string?\n",
      "Extracting example for \n",
      " How do you count the number of vowels and consonants in a given string?\n",
      "Extracting example for \n",
      " How do you count the occurrence of a given character in a string?\n",
      "Extracting example for \n",
      " How do you find all the permutations of a string?\n",
      "Extracting example for \n",
      " How do you reverse words in a given sentence without using any library method?\n",
      "Extracting example for \n",
      " How do you check if two strings are a rotation of each other?\n",
      "Extracting example for \n",
      " How do you check if a given string is a palindrome?\n",
      "Extracting example for \n",
      " How is a binary search tree implemented?\n",
      "Extracting example for \n",
      " How do you perform preorder traversal in a given binary tree?\n",
      "Extracting example for \n",
      " How do you traverse a given binary tree in preorder without recursion?\n",
      "Extracting example for \n",
      " How do you perform an inorder traversal in a given binary tree?\n",
      "Extracting example for \n",
      " How do you print all nodes of a given binary tree using inorder traversal without recursion?\n",
      "Extracting example for \n",
      " How do you implement a postorder traversal algorithm?\n",
      "Extracting example for \n",
      " How do you traverse a binary tree in postorder traversal without recursion?\n",
      "Extracting example for \n",
      " How are all leaves of a binary search tree printed?\n",
      "Extracting example for \n",
      " How do you count the number of leaf nodes in a given binary tree?\n",
      "Extracting example for \n",
      " How do you perform a binary search in a given array?\n",
      "Extracting example for \n",
      " How is a bubble sort algorithm implemented?\n",
      "Extracting example for \n",
      " How is an iterative quicksort algorithm implemented?\n",
      "Extracting example for \n",
      " How do you implement an insertion sort algorithm?\n",
      "Extracting example for \n",
      " How is a merge sort algorithm implemented?\n",
      "Extracting example for \n",
      " How do you implement a bucket sort algorithm?\n",
      "Extracting example for \n",
      " How do you implement a counting sort algorithm?\n",
      "Extracting example for \n",
      " How is a radix sort algorithm implemented?\n",
      "Extracting example for \n",
      " How do you swap two numbers without using the third variable?\n",
      "Extracting example for \n",
      " How do you check if two rectangles overlap with each other?\n",
      "Extracting example for \n",
      " How do you design a vending machine?\n"
     ]
    }
   ],
   "source": [
    "clean_examples = []\n",
    "\n",
    "import time\n",
    "\n",
    "for q in clean_quests:\n",
    "    if q in retrieved_quests:\n",
    "        print('Already extracted')\n",
    "    else:\n",
    "        t = 1\n",
    "        #Retry loop\n",
    "        while True:\n",
    "\n",
    "            try:\n",
    "                print(f'Extracting example for \\n {q}')\n",
    "                example_list = get_examples(q)\n",
    "\n",
    "                with open('example_retrieved.txt','a') as exp:\n",
    "                    exp.write(f\"The Question : {q} \\n\")\n",
    "                    exp.write(f\"The examples : {example_list} \\n\")\n",
    "                #break if extracted without error\n",
    "                break\n",
    "\n",
    "            except Exception as e:\n",
    "                print(e)\n",
    "                #inform the retry number\n",
    "                print(f'retrying {t}\\n')\n",
    "\n",
    "                t = t + 1\n",
    "                #take a longer nap...\n",
    "                time.sleep(60)\n",
    "                if t > 3:\n",
    "                    #Inform the retries failed\n",
    "                    print(f\"Unable to retrieve for {q}. Try later\\n\")\n",
    "                    with open('retry_questions.txt','a') as ret:\n",
    "                        ret.write(q)\n",
    "                        ret.write('\\n')\n",
    "                    break\n",
    "\n",
    "        #backing out for 25 secs\n",
    "        time.sleep(25)"
   ]
  },
  {
   "cell_type": "code",
   "execution_count": null,
   "metadata": {
    "id": "l6Q2CGhMxjKU"
   },
   "outputs": [],
   "source": []
  }
 ],
 "metadata": {
  "colab": {
   "provenance": []
  },
  "kernelspec": {
   "display_name": "Python 3 (ipykernel)",
   "language": "python",
   "name": "python3"
  },
  "language_info": {
   "codemirror_mode": {
    "name": "ipython",
    "version": 3
   },
   "file_extension": ".py",
   "mimetype": "text/x-python",
   "name": "python",
   "nbconvert_exporter": "python",
   "pygments_lexer": "ipython3",
   "version": "3.10.9"
  }
 },
 "nbformat": 4,
 "nbformat_minor": 1
}
