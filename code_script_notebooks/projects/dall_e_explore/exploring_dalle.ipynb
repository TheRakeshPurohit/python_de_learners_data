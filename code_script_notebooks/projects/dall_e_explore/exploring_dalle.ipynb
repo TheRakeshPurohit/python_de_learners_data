{
 "cells": [
  {
   "cell_type": "code",
   "execution_count": 1,
   "metadata": {},
   "outputs": [
    {
     "data": {
      "text/plain": [
       "True"
      ]
     },
     "execution_count": 1,
     "metadata": {},
     "output_type": "execute_result"
    }
   ],
   "source": [
    "from openai import OpenAI\n",
    "from dotenv import load_dotenv\n",
    "\n",
    "load_dotenv(\"D:\\\\gitFolders\\\\python_de_learners_data\\\\.env\")"
   ]
  },
  {
   "cell_type": "code",
   "execution_count": 3,
   "metadata": {},
   "outputs": [],
   "source": [
    "import os\n",
    "client = OpenAI(api_key=os.environ['OPENAI_API_KEY'])"
   ]
  },
  {
   "cell_type": "code",
   "execution_count": 4,
   "metadata": {},
   "outputs": [
    {
     "data": {
      "text/plain": [
       "ImagesResponse(created=1720369735, data=[Image(b64_json=None, revised_prompt='Design an informative and detailed infographic that outlines the concepts of climate change affecting the Earth. Include illustrations such as a warming globe, greenhouse gas emissions, melting ice caps, rising sea levels, and temperature graphs. Incorporate labels for each section to describe their significance. Include attribution to scientific findings to support the information. Keep the infographic visually engaging and simple to understand, using a balanced mix of colors to highlight serious areas.', url='https://oaidalleapiprodscus.blob.core.windows.net/private/org-FG8ulcxxHjHEi5UFPkrxb0FR/user-cIbmUQvdUxDsy0uVMX22r8Cr/img-xSvPEK7DsSQ6CcabjIorOzrR.png?st=2024-07-07T15%3A28%3A55Z&se=2024-07-07T17%3A28%3A55Z&sp=r&sv=2023-11-03&sr=b&rscd=inline&rsct=image/png&skoid=6aaadede-4fb3-4698-a8f6-684d7786b067&sktid=a48cca56-e6da-484e-a814-9c849652bcb3&skt=2024-07-07T02%3A53%3A35Z&ske=2024-07-08T02%3A53%3A35Z&sks=b&skv=2023-11-03&sig=2KA9C3Q7xDNeVy/0tX8T02jHjQXJEabWoaR%2BQFcbSIs%3D')])"
      ]
     },
     "execution_count": 4,
     "metadata": {},
     "output_type": "execute_result"
    }
   ],
   "source": [
    "client.images.generate(\n",
    "    model=\"dall-e-3\",\n",
    "    prompt=\"An infographic that explains earth climate change\",\n",
    "    n=1,\n",
    "    size=\"1024x1024\"\n",
    ")"
   ]
  },
  {
   "cell_type": "code",
   "execution_count": null,
   "metadata": {},
   "outputs": [],
   "source": [
    "from openai import Images\n",
    "ImagesResponse(created=1720369735,\n",
    "               data=[Image(b64_json=None,\n",
    "                           revised_prompt='Design an informative and detailed infographic that outlines the concepts of climate change affecting the Earth. Include illustrations such as a warming globe, greenhouse gas emissions, melting ice caps, rising sea levels, and temperature graphs. Incorporate labels for each section to describe their significance. Include attribution to scientific findings to support the information. Keep the infographic visually engaging and simple to understand, using a balanced mix of colors to highlight serious areas.',\n",
    "                           url='https://oaidalleapiprodscus.blob.core.windows.net/private/org-FG8ulcxxHjHEi5UFPkrxb0FR/user-cIbmUQvdUxDsy0uVMX22r8Cr/img-xSvPEK7DsSQ6CcabjIorOzrR.png?st=2024-07-07T15%3A28%3A55Z&se=2024-07-07T17%3A28%3A55Z&sp=r&sv=2023-11-03&sr=b&rscd=inline&rsct=image/png&skoid=6aaadede-4fb3-4698-a8f6-684d7786b067&sktid=a48cca56-e6da-484e-a814-9c849652bcb3&skt=2024-07-07T02%3A53%3A35Z&ske=2024-07-08T02%3A53%3A35Z&sks=b&skv=2023-11-03&sig=2KA9C3Q7xDNeVy/0tX8T02jHjQXJEabWoaR%2BQFcbSIs%3D')])"
   ]
  },
  {
   "cell_type": "code",
   "execution_count": 5,
   "metadata": {},
   "outputs": [],
   "source": [
    "prompt_chart = \"\"\"Generate bar chart that contains \n",
    "below data in infographic format. No other information \n",
    "to be created.\n",
    "{\"lions\":25, \"Zebra\":76, \"Deer\": 67}\"\"\""
   ]
  },
  {
   "cell_type": "code",
   "execution_count": 7,
   "metadata": {},
   "outputs": [],
   "source": [
    "bar_chart = client.images.generate(\n",
    "    prompt=prompt_chart,\n",
    "    model=\"dall-e-3\",\n",
    "    n=1,\n",
    "    size=\"1024x1024\"\n",
    ")"
   ]
  },
  {
   "cell_type": "code",
   "execution_count": 13,
   "metadata": {},
   "outputs": [
    {
     "name": "stdout",
     "output_type": "stream",
     "text": [
      "https://oaidalleapiprodscus.blob.core.windows.net/private/org-FG8ulcxxHjHEi5UFPkrxb0FR/user-cIbmUQvdUxDsy0uVMX22r8Cr/img-YVFL0Vs3WyAtdgczi24PjJij.png?st=2024-07-07T15%3A40%3A33Z&se=2024-07-07T17%3A40%3A33Z&sp=r&sv=2023-11-03&sr=b&rscd=inline&rsct=image/png&skoid=6aaadede-4fb3-4698-a8f6-684d7786b067&sktid=a48cca56-e6da-484e-a814-9c849652bcb3&skt=2024-07-06T17%3A53%3A49Z&ske=2024-07-07T17%3A53%3A49Z&sks=b&skv=2023-11-03&sig=VwbHJ1Ptm98Jfg6WE/ummLNirsha47NL1pbZplNThhk%3D\n",
      "Generate a bar chart in infographic format displaying the populations of three different species: lions, zebras, and deer. The population of lions is 25, the population of zebras is 76, and the population of deer is 67. The bars should be distinctively colored to differentiate between the species, and numbers should be placed above each bar to indicate the exact population count.\n"
     ]
    }
   ],
   "source": [
    "print(bar_chart.data[0].url)\n",
    "print(bar_chart.data[0].revised_prompt)\n"
   ]
  },
  {
   "cell_type": "code",
   "execution_count": null,
   "metadata": {},
   "outputs": [],
   "source": []
  },
  {
   "cell_type": "code",
   "execution_count": null,
   "metadata": {},
   "outputs": [],
   "source": []
  }
 ],
 "metadata": {
  "kernelspec": {
   "display_name": "dspyenv",
   "language": "python",
   "name": "python3"
  },
  "language_info": {
   "codemirror_mode": {
    "name": "ipython",
    "version": 3
   },
   "file_extension": ".py",
   "mimetype": "text/x-python",
   "name": "python",
   "nbconvert_exporter": "python",
   "pygments_lexer": "ipython3",
   "version": "3.11.4"
  }
 },
 "nbformat": 4,
 "nbformat_minor": 2
}
