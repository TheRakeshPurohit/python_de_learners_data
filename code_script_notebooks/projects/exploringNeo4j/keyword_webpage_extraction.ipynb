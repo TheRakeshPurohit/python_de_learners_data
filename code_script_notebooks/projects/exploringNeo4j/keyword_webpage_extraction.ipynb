{
 "cells": [
  {
   "cell_type": "code",
   "execution_count": 2,
   "id": "fe0f85e3-0af1-4291-aef4-4f410c946e7c",
   "metadata": {},
   "outputs": [],
   "source": [
    "import undetected_chromedriver as uc\n",
    "from pyvirtualdisplay import Display"
   ]
  },
  {
   "cell_type": "markdown",
   "id": "be1e8b3f-6bf3-4617-b784-c93d5ca688ad",
   "metadata": {},
   "source": [
    "Need to understand how pyvirtualdisplay works... "
   ]
  },
  {
   "cell_type": "code",
   "execution_count": 3,
   "id": "13da36cb-7e45-4d94-bc68-16261bba3baf",
   "metadata": {},
   "outputs": [],
   "source": [
    "display = Display(visible=0, size=(800, 600))\n",
    "display.start()\n",
    "\n",
    "options = uc.ChromeOptions()\n",
    "options.add_argument(\"--no-sandbox\")\n",
    "wd = uc.Chrome(options=options)"
   ]
  },
  {
   "cell_type": "code",
   "execution_count": 15,
   "id": "c085d581-7e64-4cf4-8b45-40ce7ceb444c",
   "metadata": {},
   "outputs": [
    {
     "data": {
      "text/plain": [
       "True"
      ]
     },
     "execution_count": 15,
     "metadata": {},
     "output_type": "execute_result"
    }
   ],
   "source": [
    "display.is_alive()"
   ]
  },
  {
   "cell_type": "code",
   "execution_count": 4,
   "id": "eb0cb1ec-8e33-49ae-a392-ef3ab44019d4",
   "metadata": {},
   "outputs": [],
   "source": [
    "def extract_text_by_class(c):\n",
    "    global wd\n",
    "    try:\n",
    "        content = wd.find_element(By.CLASS_NAME, c)\n",
    "        return content.text\n",
    "    except:\n",
    "        return \"\""
   ]
  },
  {
   "cell_type": "code",
   "execution_count": 5,
   "id": "fb70f51b-1165-48c5-aea5-d315daad9cd4",
   "metadata": {},
   "outputs": [],
   "source": [
    "def extract_links_by_xpath(xpath):\n",
    "    #Note the global variable is being called into the function\n",
    "    global wd\n",
    "    links = set()\n",
    "    try:\n",
    "        a_elems = wd.find_elements(By.XPATH, xpath)\n",
    "        for elem in a_elems:\n",
    "            link = elem.get_attribute(\"href\")\n",
    "            if link == \"javascript:void(0)\":\n",
    "                continue\n",
    "            # Remove links to images and various files\n",
    "            if (\n",
    "                link.endswith(\".png\")\n",
    "                or link.endswith(\".json\")\n",
    "                or link.endswith(\".txt\")\n",
    "                or link.endswith(\".svg\")\n",
    "                or link.endswith(\".ipynb\")\n",
    "                or link.endswith(\".jpg\")\n",
    "                or link.endswith(\".pdf\")\n",
    "                or link.endswith(\".mp4\")\n",
    "                or \"mailto\" in link\n",
    "                or len(link) > 300\n",
    "            ):\n",
    "                continue\n",
    "            # Remove anchors\n",
    "            link = link.split(\"#\")[0]\n",
    "            # Remove parameters\n",
    "            link = link.split(\"?\")[0]\n",
    "            # Remove trailing forward slash\n",
    "            link = link.rstrip(\"/\")\n",
    "            links.add(link)\n",
    "        return list(links)\n",
    "    except:\n",
    "        return []"
   ]
  },
  {
   "cell_type": "code",
   "execution_count": 8,
   "id": "050df3a8-964d-4cca-ad89-5387bcef2165",
   "metadata": {},
   "outputs": [
    {
     "name": "stderr",
     "output_type": "stream",
     "text": [
      "\n",
      "\n",
      "Downloading (…)/main/tokenizer.json:   0%|        | 0.00/711k [00:00<?, ?B/s]\u001b[A\u001b[A\n",
      "\n",
      "Downloading (…)/main/tokenizer.json: 100%|█| 711k/711k [00:00<00:00, 795kB/s]\u001b[A\u001b[A\n",
      "\n",
      "\n",
      "Downloading (…)cial_tokens_map.json: 100%|███| 112/112 [00:00<00:00, 818kB/s]\u001b[A\u001b[A\n"
     ]
    }
   ],
   "source": [
    "from transformers import AutoTokenizer, AutoModelForTokenClassification, AutoModel\n",
    "from transformers import pipeline\n",
    "import torch\n",
    "\n",
    "tokenizer = AutoTokenizer.from_pretrained(\"yanekyuk/bert-uncased-keyword-extractor\")"
   ]
  },
  {
   "cell_type": "code",
   "execution_count": 9,
   "id": "7984f239-01c6-4404-9810-c0ce746ce7d5",
   "metadata": {},
   "outputs": [
    {
     "name": "stderr",
     "output_type": "stream",
     "text": [
      "Downloading (…)lve/main/config.json: 100%|██| 809/809 [00:00<00:00, 3.60MB/s]\n",
      "Downloading pytorch_model.bin: 100%|██████| 436M/436M [02:55<00:00, 2.49MB/s]\n"
     ]
    }
   ],
   "source": [
    "model = AutoModelForTokenClassification.from_pretrained(pretrained_model_name_or_path=\"yanekyuk/bert-uncased-keyword-extractor\",\n",
    "                                                       resume_download=True)"
   ]
  },
  {
   "cell_type": "code",
   "execution_count": 10,
   "id": "788d9e03-c1a0-4ff4-9705-210878ee7a9d",
   "metadata": {},
   "outputs": [],
   "source": [
    "nlp = pipeline(\"ner\", model=model, tokenizer=tokenizer)\n",
    "\n",
    "def extract_keywords(text):\n",
    "    \"\"\"\n",
    "    Extract keywords and construct them back from tokens\n",
    "    \"\"\"\n",
    "    result = list()\n",
    "    keyword = \"\"\n",
    "    for token in nlp(text):\n",
    "        if token[\"entity\"] == \"I-KEY\":\n",
    "            keyword += (\n",
    "                token[\"word\"][2:]\n",
    "                if token[\"word\"].startswith(\"##\")\n",
    "                else f\" {token['word']}\"\n",
    "            )\n",
    "        else:\n",
    "            if keyword:\n",
    "                result.append(keyword)\n",
    "            keyword = token[\"word\"]\n",
    "    # Add the last keyword\n",
    "    result.append(keyword)\n",
    "    return list(set(result))"
   ]
  },
  {
   "cell_type": "code",
   "execution_count": 11,
   "id": "1650c597-af5f-4746-af32-e035779548ee",
   "metadata": {},
   "outputs": [
    {
     "data": {
      "text/plain": [
       "['broadcom', 'vmware', 'cloud computing']"
      ]
     },
     "execution_count": 11,
     "metadata": {},
     "output_type": "execute_result"
    }
   ],
   "source": [
    "extract_keywords(\n",
    "    \"\"\"\n",
    "Broadcom agreed to acquire cloud computing company VMware in a $61 billion (€57bn) cash-and stock deal.\n",
    "\"\"\"\n",
    ")"
   ]
  },
  {
   "cell_type": "code",
   "execution_count": 12,
   "id": "e4de146c-0003-4173-be00-388931fcbd47",
   "metadata": {},
   "outputs": [],
   "source": [
    "from sentence_transformers import SentenceTransformer\n",
    "\n",
    "model = SentenceTransformer(\"sentence-transformers/all-MiniLM-L6-v2\")\n",
    "\n",
    "\n",
    "def generate_embeddings(text):\n",
    "    embeddings = model.encode(text)\n",
    "    return [float(x) for x in embeddings.tolist()]"
   ]
  },
  {
   "cell_type": "code",
   "execution_count": 13,
   "id": "5dffc7e0-b093-466c-a444-313fc557505e",
   "metadata": {},
   "outputs": [],
   "source": [
    "from selenium.webdriver.common.by import By\n",
    "\n",
    "entry_url = \"https://neo4j.com/docs\"\n",
    "data = dict()\n",
    "visit_list = [entry_url]\n",
    "already_visited = []"
   ]
  },
  {
   "cell_type": "code",
   "execution_count": 34,
   "id": "85683ebc-d5a8-4900-99ee-10b9a10cdd17",
   "metadata": {},
   "outputs": [],
   "source": [
    "entry_url = \"http://tutorkamal.pythonanywhere.com/courses/\""
   ]
  },
  {
   "cell_type": "code",
   "execution_count": 22,
   "id": "8e071ec9-9143-4062-b7aa-5436e8a55b8d",
   "metadata": {},
   "outputs": [],
   "source": [
    "current_url = visit_list[0]\n",
    "wd.get(visit_list[0])"
   ]
  },
  {
   "cell_type": "code",
   "execution_count": 16,
   "id": "3cdc7a0b-e974-4909-a202-a05282b4e8fd",
   "metadata": {},
   "outputs": [],
   "source": [
    "# Extract text from the content div\n",
    "text = extract_text_by_class(\"content\")\n",
    "# If nothing is found, try article div\n",
    "if not text:\n",
    "    text = extract_text_by_class(\"article\")\n",
    "# If nothing is found, try page div\n",
    "if not text:\n",
    "    text = extract_text_by_class(\"page\")\n",
    "if not text:\n",
    "    text = extract_text_by_class(\"single-user-story\")"
   ]
  },
  {
   "cell_type": "code",
   "execution_count": 17,
   "id": "60d6609e-a4bb-4c0c-9f12-052a97125368",
   "metadata": {
    "collapsed": true,
    "jupyter": {
     "outputs_hidden": true
    }
   },
   "outputs": [
    {
     "data": {
      "text/plain": [
       "'Neo4j documentation\\nNeo4j DBMS\\nLearn about graph database concepts, introduce yourself to Cypher, and find useful resources.\\nGet started\\nNeo4j Aura\\nLearn how to create accounts, manage databases, and access Aura via cloud providers.\\nAuraDB AuraDS\\nCypher\\nLearn about Cypher; the graph query language for Neo4j and AuraDB.\\nCypher docs Cypher Cheat Sheet\\nAPOC\\nDiscover the APOC library, now supported in Neo4j version 5.\\nAPOC User Guide\\nUpgrade or migrate\\nLearn how to keep your Neo4j deployment up-to-date.\\nUpgrade / Migrate\\nCreate applications\\nDiscover the drivers, libraries, connectors, and APIs to develop applications with Neo4j and AuraDB.\\nCreate applications with Neo4j\\nNeo4j Graph Data Science\\nFor data scientists and analysts interested in scalable analytics powered by graph algorithms and machine learning models.\\nGDS library GDS client AuraDS\\nNeo4j Bloom and other tooling\\nLearn to explore your graph with Neo4j Bloom and other tools, such as Neo4j Desktop, Neo4j Browser, and Neo4j Ops Manager.\\nNeo4j tools\\nNeo4j security\\nJump straight into the security sections of our product documentation, and find other useful security-related content.\\nSecurity documentation\\n© 2023 license: Creative Commons 4.0\\nWas this page helpful?'"
      ]
     },
     "execution_count": 17,
     "metadata": {},
     "output_type": "execute_result"
    }
   ],
   "source": [
    "text"
   ]
  },
  {
   "cell_type": "code",
   "execution_count": 35,
   "id": "c6e6e00a-8eee-4e1e-b377-18e1fec607de",
   "metadata": {},
   "outputs": [],
   "source": [
    "#The extraction fn is hard coded to the classes text data, \n",
    "#which will not work for all the site\n",
    "wd.get(entry_url)"
   ]
  },
  {
   "cell_type": "code",
   "execution_count": 42,
   "id": "40f58317-a102-41da-98ec-85f148512fc1",
   "metadata": {},
   "outputs": [],
   "source": [
    "para=\"//p\"\n",
    "\n",
    "para_content = wd.find_elements(By.XPATH, para)"
   ]
  },
  {
   "cell_type": "code",
   "execution_count": 48,
   "id": "41e9c2c2-6561-4062-9da3-376aa96e2476",
   "metadata": {},
   "outputs": [],
   "source": [
    "text = ''\n",
    "for t in para_content:\n",
    "    text = text + t.text"
   ]
  },
  {
   "cell_type": "code",
   "execution_count": 49,
   "id": "f24f5322-b4ec-4cf9-8be7-b12fcd323c91",
   "metadata": {
    "collapsed": true,
    "jupyter": {
     "outputs_hidden": true
    }
   },
   "outputs": [
    {
     "data": {
      "text/plain": [
       "\"Technology solves challenges and improves the quality of life across the world. Understanding how each part of the Technology does it is what we teach in our courses500 INRSeries of lectures that provide a practical look at how Django framework can be mastered, and used for real websites in minimal time and effort750 INRIn this curated collection, we delve into the fascinating world of generative AI, focusing on the crucial aspects of hardware and software. Discover the cutting-edge technologies, tools, and techniques that power the creation of artificial …958 INRHello and welcome to this Course about Hugging Face AI models and their use cases. Hugging Face is a leading company in the development and deployment of natural language processing (NLP) models, which are designed …750 INRCourse videos on virtual environments available in python ecosystem their advantages, challenges and usage750 INRPython is one of the most popular programming languages today, and its popularity is mainly due to its versatility and wide range of applications. One of the reasons why Python is so versatile is its …620 INRDive into the world of AI and explore the latest advancements in language models and reinforcement learning. From GPT-3.5-turbo to RL algorithms, this playlist covers everything you need to know about these cutting-edge technologies. Whether …500 INRBard is the LLM that is developed by Google, and it has been released for testing in various regions globally. The LLM is accessible through the VertexAI platform in GCP. The series of videos will …760 INRThe playlist contains the videos that share the practical application that involve large language models, automation using Python, and various API libraries860 INRIn today's world, data is king. With an explosion of information coming from a multitude of sources, being able to handle and process data efficiently has become a crucial skill. This YouTube playlist is all …230 INRThis series of videos starts at the very basic. Building your own Big Data Cluster in a Cloud environment. Videos will present the steps required and the show how the steps are executed to get …600 INRA playlist that removes all the jargons in Data Engineering field and teaches what you need to become the best Data Engineer. In this Comprehensive playlist, you will learn how to build a robust data …0 INRAre you looking to enhance your problem-solving skills and take your career to the next level? Look no further than our Complete Python Course for Tech and Non-Tech Professionals! Thinking of getting an edge in …680 INRLinux is an operating system that has been around since the 1990s and is known for its open-source nature, security, and stability. It provides solutions to a range of challenges that users may face while …0 INRWelcome to my Youtube playlist on SQL Mastery! In this comprehensive playlist, we will cover everything from the absolute basics of SQL to complex data transformations. Whether you're a beginner looking to learn SQL for …706 Trinity Talkies\\nMoksha City, TN 641062\\nIndia\\n\\nPhone: +1 1234 5687 90\\nEmail: hello@insightcourses.comLets show you the big world of coding and freedom\""
      ]
     },
     "execution_count": 49,
     "metadata": {},
     "output_type": "execute_result"
    }
   ],
   "source": [
    "text"
   ]
  },
  {
   "cell_type": "code",
   "execution_count": 18,
   "id": "2e46a070-6c1a-48a0-95d4-b22854cc898f",
   "metadata": {},
   "outputs": [],
   "source": [
    "embeddings = generate_embeddings(text)\n",
    "keywords = extract_keywords(text)"
   ]
  },
  {
   "cell_type": "code",
   "execution_count": 19,
   "id": "fb37bf8e-46f1-480e-b62e-1bba84a4a072",
   "metadata": {},
   "outputs": [
    {
     "data": {
      "text/plain": [
       "['database', 'aura', 'graph', 'query language']"
      ]
     },
     "execution_count": 19,
     "metadata": {},
     "output_type": "execute_result"
    }
   ],
   "source": [
    "keywords"
   ]
  },
  {
   "cell_type": "code",
   "execution_count": 20,
   "id": "0c803f5b-d6f9-401a-ae3e-f3db0182b1fa",
   "metadata": {},
   "outputs": [],
   "source": [
    "links = extract_links_by_xpath(\"//div[@class='content']//a[@href]\")\n",
    "    # If nothing is found, try article div\n",
    "if not links:\n",
    "    links = extract_links_by_xpath(\"//article[@class='article']//a[@href]\")\n",
    "if not links:\n",
    "    links = extract_links_by_xpath(\"//article//a[@href]\")"
   ]
  },
  {
   "cell_type": "code",
   "execution_count": 21,
   "id": "7cdbf555-fbe8-44cc-8f80-c1b0dc315f9a",
   "metadata": {},
   "outputs": [
    {
     "data": {
      "text/plain": [
       "['https://neo4j.com/docs/getting-started',\n",
       " 'https://neo4j.com/docs/graph-data-science-client',\n",
       " 'https://neo4j.com/docs/cypher-cheat-sheet',\n",
       " 'https://neo4j.com/docs/graph-data-science',\n",
       " 'https://neo4j.com/docs/security-docs',\n",
       " 'https://neo4j.com/docs',\n",
       " 'https://neo4j.com/docs/upgrade-migration-guide',\n",
       " 'https://neo4j.com/docs/create-applications',\n",
       " 'https://neo4j.com/docs/aura/auradb',\n",
       " 'https://neo4j.com/docs/apoc/current',\n",
       " 'https://neo4j.com/docs/developer-tools',\n",
       " 'https://neo4j.com/docs/license',\n",
       " 'https://neo4j.com/docs/cypher-manual',\n",
       " 'https://neo4j.com/docs/aura/aurads']"
      ]
     },
     "execution_count": 21,
     "metadata": {},
     "output_type": "execute_result"
    }
   ],
   "source": [
    "links"
   ]
  },
  {
   "cell_type": "code",
   "execution_count": 23,
   "id": "082c60b7-10ec-4e83-a41a-dc9666395326",
   "metadata": {},
   "outputs": [],
   "source": [
    "data[current_url] = {\n",
    "    \"links\": [l for l in links if l != current_url],\n",
    "    \"text\": text,\n",
    "    \"embeddings\": embeddings,\n",
    "    \"keywords\": keywords,\n",
    "    \"redirects\": [],\n",
    "}"
   ]
  },
  {
   "cell_type": "code",
   "execution_count": 24,
   "id": "021053a3-b943-4c23-b45b-3175267db2d6",
   "metadata": {
    "collapsed": true,
    "jupyter": {
     "outputs_hidden": true
    }
   },
   "outputs": [
    {
     "data": {
      "text/plain": [
       "{'https://neo4j.com/docs': {'links': ['https://neo4j.com/docs/getting-started',\n",
       "   'https://neo4j.com/docs/graph-data-science-client',\n",
       "   'https://neo4j.com/docs/cypher-cheat-sheet',\n",
       "   'https://neo4j.com/docs/graph-data-science',\n",
       "   'https://neo4j.com/docs/security-docs',\n",
       "   'https://neo4j.com/docs/upgrade-migration-guide',\n",
       "   'https://neo4j.com/docs/create-applications',\n",
       "   'https://neo4j.com/docs/aura/auradb',\n",
       "   'https://neo4j.com/docs/apoc/current',\n",
       "   'https://neo4j.com/docs/developer-tools',\n",
       "   'https://neo4j.com/docs/license',\n",
       "   'https://neo4j.com/docs/cypher-manual',\n",
       "   'https://neo4j.com/docs/aura/aurads'],\n",
       "  'text': 'Neo4j documentation\\nNeo4j DBMS\\nLearn about graph database concepts, introduce yourself to Cypher, and find useful resources.\\nGet started\\nNeo4j Aura\\nLearn how to create accounts, manage databases, and access Aura via cloud providers.\\nAuraDB AuraDS\\nCypher\\nLearn about Cypher; the graph query language for Neo4j and AuraDB.\\nCypher docs Cypher Cheat Sheet\\nAPOC\\nDiscover the APOC library, now supported in Neo4j version 5.\\nAPOC User Guide\\nUpgrade or migrate\\nLearn how to keep your Neo4j deployment up-to-date.\\nUpgrade / Migrate\\nCreate applications\\nDiscover the drivers, libraries, connectors, and APIs to develop applications with Neo4j and AuraDB.\\nCreate applications with Neo4j\\nNeo4j Graph Data Science\\nFor data scientists and analysts interested in scalable analytics powered by graph algorithms and machine learning models.\\nGDS library GDS client AuraDS\\nNeo4j Bloom and other tooling\\nLearn to explore your graph with Neo4j Bloom and other tools, such as Neo4j Desktop, Neo4j Browser, and Neo4j Ops Manager.\\nNeo4j tools\\nNeo4j security\\nJump straight into the security sections of our product documentation, and find other useful security-related content.\\nSecurity documentation\\n© 2023 license: Creative Commons 4.0\\nWas this page helpful?',\n",
       "  'embeddings': [-0.031085731461644173,\n",
       "   -0.006928105838596821,\n",
       "   -0.05547086149454117,\n",
       "   0.0038761175237596035,\n",
       "   -0.024131199344992638,\n",
       "   -0.015548136085271835,\n",
       "   0.002022039145231247,\n",
       "   -0.012093598023056984,\n",
       "   -0.08978080004453659,\n",
       "   0.05835593491792679,\n",
       "   -0.04775180667638779,\n",
       "   0.0054108137264847755,\n",
       "   0.07937055826187134,\n",
       "   0.038501519709825516,\n",
       "   0.023995613679289818,\n",
       "   0.10685394704341888,\n",
       "   0.03804997727274895,\n",
       "   0.022875117138028145,\n",
       "   0.03251137584447861,\n",
       "   -0.05122074484825134,\n",
       "   -0.06826698780059814,\n",
       "   -0.058109086006879807,\n",
       "   0.045996468514204025,\n",
       "   -0.005786266177892685,\n",
       "   -0.03025905229151249,\n",
       "   0.017690161243081093,\n",
       "   0.026856394484639168,\n",
       "   -0.04025525599718094,\n",
       "   -0.040754977613687515,\n",
       "   -0.0180803332477808,\n",
       "   -0.0086967246606946,\n",
       "   -0.0212409608066082,\n",
       "   -0.0278587955981493,\n",
       "   0.07748468220233917,\n",
       "   -0.12821775674819946,\n",
       "   0.033439960330724716,\n",
       "   0.08527972549200058,\n",
       "   -0.024387946352362633,\n",
       "   -0.008843054063618183,\n",
       "   -0.020787078887224197,\n",
       "   -0.02932852879166603,\n",
       "   0.009213869459927082,\n",
       "   -0.10163591057062149,\n",
       "   0.02209649607539177,\n",
       "   0.030688852071762085,\n",
       "   -0.0306655615568161,\n",
       "   -0.07846337556838989,\n",
       "   -0.06937111169099808,\n",
       "   0.05170467123389244,\n",
       "   0.0016714364755898714,\n",
       "   -0.032396186143159866,\n",
       "   -0.08468227833509445,\n",
       "   -0.061305806040763855,\n",
       "   0.005198637489229441,\n",
       "   -0.027952546253800392,\n",
       "   0.011520366184413433,\n",
       "   -0.017596881836652756,\n",
       "   -0.008309666998684406,\n",
       "   0.03489842265844345,\n",
       "   0.03517467901110649,\n",
       "   0.05102844908833504,\n",
       "   -0.07001355290412903,\n",
       "   -0.03525860235095024,\n",
       "   0.038798872381448746,\n",
       "   -0.043079864233732224,\n",
       "   0.0023733745329082012,\n",
       "   0.04199114441871643,\n",
       "   0.06727925688028336,\n",
       "   0.030101843178272247,\n",
       "   -0.023053253069519997,\n",
       "   -0.03057442046701908,\n",
       "   0.021555155515670776,\n",
       "   -0.09723583608865738,\n",
       "   -0.04579361155629158,\n",
       "   -0.04766139015555382,\n",
       "   0.08624687790870667,\n",
       "   0.028002535924315453,\n",
       "   -0.06576945632696152,\n",
       "   -0.04443500563502312,\n",
       "   -0.03631144016981125,\n",
       "   0.040813010185956955,\n",
       "   0.11840815097093582,\n",
       "   -0.04821499437093735,\n",
       "   0.09038645029067993,\n",
       "   -0.027465825900435448,\n",
       "   0.09552431851625443,\n",
       "   -0.007936201058328152,\n",
       "   -0.012483949773013592,\n",
       "   -0.01443164050579071,\n",
       "   0.0474458746612072,\n",
       "   0.050884511321783066,\n",
       "   -0.0004938695929013193,\n",
       "   0.003067019395530224,\n",
       "   -0.04049878939986229,\n",
       "   -0.027359718456864357,\n",
       "   0.012699718587100506,\n",
       "   0.11043701320886612,\n",
       "   -0.022886913269758224,\n",
       "   0.04136751592159271,\n",
       "   -0.0017912890762090683,\n",
       "   -0.010519126430153847,\n",
       "   -0.040435273200273514,\n",
       "   -0.005511896684765816,\n",
       "   -0.008225668221712112,\n",
       "   -0.034541551023721695,\n",
       "   0.02853325568139553,\n",
       "   -0.0040282984264194965,\n",
       "   0.02133799158036709,\n",
       "   -0.006203442346304655,\n",
       "   0.05594673007726669,\n",
       "   -0.03270482271909714,\n",
       "   0.06138809397816658,\n",
       "   -0.13551869988441467,\n",
       "   -0.0693812444806099,\n",
       "   0.004230238497257233,\n",
       "   0.03669944405555725,\n",
       "   -0.021175138652324677,\n",
       "   -0.026934504508972168,\n",
       "   0.007887788116931915,\n",
       "   0.09428706765174866,\n",
       "   0.00674031674861908,\n",
       "   0.08568242192268372,\n",
       "   0.004772220738232136,\n",
       "   0.03328844532370567,\n",
       "   0.044737543910741806,\n",
       "   0.031053215265274048,\n",
       "   -0.14142918586730957,\n",
       "   7.65149182885794e-33,\n",
       "   0.024714671075344086,\n",
       "   0.04245666414499283,\n",
       "   0.041474100202322006,\n",
       "   0.05399434641003609,\n",
       "   0.011260176077485085,\n",
       "   0.042970381677150726,\n",
       "   -0.017260195687413216,\n",
       "   -0.03656010329723358,\n",
       "   -0.10221734642982483,\n",
       "   -0.034133024513721466,\n",
       "   -0.0716395378112793,\n",
       "   0.11994532495737076,\n",
       "   0.014094945043325424,\n",
       "   -0.021218325942754745,\n",
       "   0.05190156772732735,\n",
       "   -0.01616615615785122,\n",
       "   0.02715742029249668,\n",
       "   -0.008627409115433693,\n",
       "   0.04609574005007744,\n",
       "   -0.02705352194607258,\n",
       "   0.011332938447594643,\n",
       "   -0.0320051871240139,\n",
       "   -0.025856347754597664,\n",
       "   0.1461687535047531,\n",
       "   0.08875169605016708,\n",
       "   0.10163996368646622,\n",
       "   -0.005731102544814348,\n",
       "   -0.004630018956959248,\n",
       "   0.05575283616781235,\n",
       "   0.018744831904768944,\n",
       "   -0.06645429879426956,\n",
       "   -0.0037334482185542583,\n",
       "   -0.03312245011329651,\n",
       "   0.02510222978889942,\n",
       "   0.0016796408453956246,\n",
       "   0.005137445870786905,\n",
       "   -0.0717475488781929,\n",
       "   -0.048343174159526825,\n",
       "   0.005496268160641193,\n",
       "   -0.16573211550712585,\n",
       "   -0.09257293492555618,\n",
       "   -0.001981110544875264,\n",
       "   -0.0424647331237793,\n",
       "   -0.05412866547703743,\n",
       "   -0.0199805349111557,\n",
       "   -0.047880902886390686,\n",
       "   -0.051138296723365784,\n",
       "   -0.04716074466705322,\n",
       "   0.03844643384218216,\n",
       "   -0.03761523589491844,\n",
       "   -0.09629210829734802,\n",
       "   0.005839216057211161,\n",
       "   0.005319022107869387,\n",
       "   0.07175499945878983,\n",
       "   -0.0642070323228836,\n",
       "   -0.017367126420140266,\n",
       "   0.0737624391913414,\n",
       "   -0.0006172872381284833,\n",
       "   -0.00017908755398821086,\n",
       "   0.0532829686999321,\n",
       "   0.005093858577311039,\n",
       "   0.054549865424633026,\n",
       "   -0.013358457945287228,\n",
       "   -0.016321277245879173,\n",
       "   -0.010464821010828018,\n",
       "   0.011432231403887272,\n",
       "   -0.06625407934188843,\n",
       "   -0.003042090218514204,\n",
       "   0.034231867641210556,\n",
       "   0.08580872416496277,\n",
       "   -0.015724215656518936,\n",
       "   0.061549048870801926,\n",
       "   0.07958699762821198,\n",
       "   0.04063687473535538,\n",
       "   0.015551956370472908,\n",
       "   -0.06769430637359619,\n",
       "   -0.006512122228741646,\n",
       "   -0.06898121535778046,\n",
       "   -0.037392329424619675,\n",
       "   -0.01921485736966133,\n",
       "   -0.0952557772397995,\n",
       "   -0.09484977275133133,\n",
       "   0.02194303087890148,\n",
       "   0.047087837010622025,\n",
       "   0.024508263915777206,\n",
       "   -0.06092722341418266,\n",
       "   0.04617589712142944,\n",
       "   0.021394159644842148,\n",
       "   -0.008958561345934868,\n",
       "   0.0783151388168335,\n",
       "   0.04228322207927704,\n",
       "   -0.006889976095408201,\n",
       "   0.04069732502102852,\n",
       "   -0.0011900273384526372,\n",
       "   -0.09582950174808502,\n",
       "   -8.145982629314536e-33,\n",
       "   -0.014269550330936909,\n",
       "   0.028376102447509766,\n",
       "   0.00494572427123785,\n",
       "   0.03561662510037422,\n",
       "   0.027999183163046837,\n",
       "   0.0002673127455636859,\n",
       "   -0.04811399057507515,\n",
       "   -0.0268704891204834,\n",
       "   -0.0792359933257103,\n",
       "   -0.0185434278100729,\n",
       "   -0.01259185653179884,\n",
       "   -0.012531723827123642,\n",
       "   0.06088509038090706,\n",
       "   0.028062976896762848,\n",
       "   -0.017309175804257393,\n",
       "   0.021667152643203735,\n",
       "   -0.0365934893488884,\n",
       "   -0.09337014704942703,\n",
       "   -0.051886964589357376,\n",
       "   0.06891430914402008,\n",
       "   -0.07692930102348328,\n",
       "   0.07380717992782593,\n",
       "   -0.028383079916238785,\n",
       "   0.011033590883016586,\n",
       "   0.03750073164701462,\n",
       "   -0.05004437267780304,\n",
       "   0.022453168407082558,\n",
       "   -0.04028318449854851,\n",
       "   -0.010843519121408463,\n",
       "   0.014355822466313839,\n",
       "   -0.04487176239490509,\n",
       "   -0.03894609212875366,\n",
       "   -0.03598614037036896,\n",
       "   -0.06098959222435951,\n",
       "   0.015402517281472683,\n",
       "   -0.0420876070857048,\n",
       "   0.06102645769715309,\n",
       "   0.0023749463725835085,\n",
       "   -0.016494525596499443,\n",
       "   0.0006322453264147043,\n",
       "   0.0227835550904274,\n",
       "   0.017282802611589432,\n",
       "   -0.06580653786659241,\n",
       "   -0.030226845294237137,\n",
       "   0.039634283632040024,\n",
       "   0.07863707840442657,\n",
       "   -0.04345882311463356,\n",
       "   0.17847926914691925,\n",
       "   -0.015837889164686203,\n",
       "   -0.024001551792025566,\n",
       "   0.00622131209820509,\n",
       "   0.0038886156398802996,\n",
       "   0.037771325558423996,\n",
       "   0.0014125618617981672,\n",
       "   0.040594279766082764,\n",
       "   -0.085822194814682,\n",
       "   0.07159977406263351,\n",
       "   0.05430711433291435,\n",
       "   0.022630074992775917,\n",
       "   0.034481797367334366,\n",
       "   -0.03401438146829605,\n",
       "   -0.070412278175354,\n",
       "   -0.004173472058027983,\n",
       "   0.056721292436122894,\n",
       "   -0.020342890173196793,\n",
       "   -0.05998371168971062,\n",
       "   -0.029032642021775246,\n",
       "   0.010478978976607323,\n",
       "   -0.11760236322879791,\n",
       "   -0.0400395430624485,\n",
       "   0.05076586827635765,\n",
       "   0.02999911643564701,\n",
       "   -0.003915754146873951,\n",
       "   0.006804784294217825,\n",
       "   0.07406317442655563,\n",
       "   -0.009776188060641289,\n",
       "   -0.04442174360156059,\n",
       "   -0.08611976355314255,\n",
       "   -0.05115622654557228,\n",
       "   0.041701070964336395,\n",
       "   0.04289069399237633,\n",
       "   0.09651589393615723,\n",
       "   0.018370818346738815,\n",
       "   0.06719335913658142,\n",
       "   0.05502321198582649,\n",
       "   0.021332263946533203,\n",
       "   0.02617732062935829,\n",
       "   0.03879913315176964,\n",
       "   -0.05796327441930771,\n",
       "   -0.01291853841394186,\n",
       "   -0.07429660111665726,\n",
       "   0.05698302388191223,\n",
       "   -0.10711264610290527,\n",
       "   0.06680139899253845,\n",
       "   -0.00902407057583332,\n",
       "   -4.376529716410005e-08,\n",
       "   -0.022817522287368774,\n",
       "   0.004456930328160524,\n",
       "   0.03641417622566223,\n",
       "   -0.05563950166106224,\n",
       "   0.07815355062484741,\n",
       "   0.035974327474832535,\n",
       "   0.059568312019109726,\n",
       "   0.10778205841779709,\n",
       "   0.023668600246310234,\n",
       "   0.05857069045305252,\n",
       "   0.10923177003860474,\n",
       "   -0.013681056909263134,\n",
       "   -0.0210522823035717,\n",
       "   0.010397171601653099,\n",
       "   0.005925529636442661,\n",
       "   0.01491120457649231,\n",
       "   0.017678411677479744,\n",
       "   -0.007860596291720867,\n",
       "   0.009848877787590027,\n",
       "   0.0020815227180719376,\n",
       "   -0.08505812287330627,\n",
       "   0.022109583020210266,\n",
       "   -0.03434794768691063,\n",
       "   0.08763322234153748,\n",
       "   0.041560254991054535,\n",
       "   -0.05100105702877045,\n",
       "   0.027758220210671425,\n",
       "   0.0065744067542254925,\n",
       "   0.04342622309923172,\n",
       "   -0.06660833209753036,\n",
       "   -0.08001244068145752,\n",
       "   -0.03497987613081932,\n",
       "   0.09796582162380219,\n",
       "   -0.045152053236961365,\n",
       "   -0.010915318503975868,\n",
       "   0.030877090990543365,\n",
       "   -0.017378125339746475,\n",
       "   0.06788612902164459,\n",
       "   0.017179779708385468,\n",
       "   0.11243412643671036,\n",
       "   -0.04391815885901451,\n",
       "   0.02281787618994713,\n",
       "   0.00543931033462286,\n",
       "   -0.0037180944345891476,\n",
       "   -0.08435245603322983,\n",
       "   0.03427298739552498,\n",
       "   -0.026590496301651,\n",
       "   -0.08199558407068253,\n",
       "   0.07736068964004517,\n",
       "   0.019777067005634308,\n",
       "   -0.022203437983989716,\n",
       "   -0.07466825842857361,\n",
       "   0.001887632068246603,\n",
       "   0.004269514698535204,\n",
       "   -0.00441682618111372,\n",
       "   0.03763468191027641,\n",
       "   -0.041703611612319946,\n",
       "   -0.06313202530145645,\n",
       "   0.09923415631055832,\n",
       "   -0.0036849400494247675,\n",
       "   0.028552595525979996,\n",
       "   -0.02554829977452755,\n",
       "   -0.04342255741357803,\n",
       "   0.028536641970276833],\n",
       "  'keywords': ['database', 'aura', 'graph', 'query language'],\n",
       "  'redirects': []}}"
      ]
     },
     "execution_count": 24,
     "metadata": {},
     "output_type": "execute_result"
    }
   ],
   "source": [
    "data"
   ]
  },
  {
   "cell_type": "code",
   "execution_count": null,
   "id": "4a3207b0-c7f9-4000-b7ba-6f489ef8ad1d",
   "metadata": {},
   "outputs": [],
   "source": [
    "actual_url = wd.current_url.rstrip(\"/\").split(\"#\")[0].split(\"?\")[0]\n",
    "#This code executes if the new url is in fact completely new and \n",
    "#not just redirection\n",
    "if actual_url != current_url:\n",
    "    # Store the redirect information\n",
    "    data[current_url] = {\n",
    "        \"links\": [],\n",
    "        \"text\": None,\n",
    "        \"embeddings\": [],\n",
    "        \"keywords\": [],\n",
    "        \"redirects\": [actual_url],\n",
    "    }\n",
    "    already_visited.append(current_url)\n",
    "    # Content is being extracted from the actual url\n",
    "    current_url = actual_url"
   ]
  },
  {
   "cell_type": "code",
   "execution_count": null,
   "id": "90635e5c-7475-4624-9b80-08515c820946",
   "metadata": {},
   "outputs": [],
   "source": [
    "while visit_list:\n",
    "    # Visit the URL\n",
    "    current_url = visit_list.pop()\n",
    "    if current_url in already_visited:\n",
    "        continue\n",
    "    #print(current_url)\n",
    "    try:\n",
    "        wd.get(current_url)\n",
    "    except:\n",
    "        print(f\"Couldn't open {current_url}\")\n",
    "        already_visited.append(current_url)\n",
    "        display = Display(visible=0, size=(800, 600))\n",
    "        display.start()\n",
    "\n",
    "        options = uc.ChromeOptions()\n",
    "        options.add_argument(\"--no-sandbox\")\n",
    "        wd = uc.Chrome(options=options)\n",
    "        continue\n",
    "    # If redirect\n",
    "    try:\n",
    "        actual_url = wd.current_url.rstrip(\"/\").split(\"#\")[0].split(\"?\")[0]\n",
    "        if actual_url != current_url:\n",
    "            # Store the redirect information\n",
    "            data[current_url] = {\n",
    "                \"links\": [],\n",
    "                \"text\": None,\n",
    "                \"embeddings\": [],\n",
    "                \"keywords\": [],\n",
    "                \"redirects\": [actual_url],\n",
    "            }\n",
    "            already_visited.append(current_url)\n",
    "            # Content is being extracted from the actual url\n",
    "            current_url = actual_url\n",
    "    except:\n",
    "        pass\n",
    "    # Extract text from the content div\n",
    "    text = extract_text_by_class(\"content\")\n",
    "    # If nothing is found, try article div\n",
    "    if not text:\n",
    "        text = extract_text_by_class(\"article\")\n",
    "    # If nothing is found, try page div\n",
    "    if not text:\n",
    "        text = extract_text_by_class(\"page\")\n",
    "    if not text:\n",
    "        text = extract_text_by_class(\"single-user-story\")\n",
    "    # Check if 404\n",
    "    try:\n",
    "        if \"Sorry, page not found\" in wd.find_element(By.TAG_NAME, \"body\").text:\n",
    "            text = \"404\"\n",
    "    except:\n",
    "        pass\n",
    "\n",
    "    # Generate paragraph embedding & extract keywords\n",
    "    if text:\n",
    "        embeddings = generate_embeddings(text)\n",
    "        keywords = extract_keywords(text)\n",
    "    else:\n",
    "        embeddings = []\n",
    "        keywords = []\n",
    "\n",
    "    # Extract links from the content div\n",
    "    links = extract_links_by_xpath(\"//div[@class='content']//a[@href]\")\n",
    "    # If nothing is found, try article div\n",
    "    if not links:\n",
    "        links = extract_links_by_xpath(\"//article[@class='article']//a[@href]\")\n",
    "    if not links:\n",
    "        links = extract_links_by_xpath(\"//article//a[@href]\")\n",
    "\n",
    "    # if not links and not text:\n",
    "    #    print(f\"Couldn't retrieve the data from {current_url}\")\n",
    "    # Store page information\n",
    "    data[current_url] = {\n",
    "        \"links\": [l for l in links if l != current_url],\n",
    "        \"text\": text,\n",
    "        \"embeddings\": embeddings,\n",
    "        \"keywords\": keywords,\n",
    "        \"redirects\": [],\n",
    "    }\n",
    "    # Crawling information\n",
    "    already_visited.append(current_url)\n",
    "    # Don't leave neo4j.com while crawling\n",
    "    # and avoid community and sandbox\n",
    "    visit_list.extend(\n",
    "        [\n",
    "            l\n",
    "            for l in list(links)\n",
    "            if (\"neo4j.com\" in l)\n",
    "            and (not l in already_visited)\n",
    "            and (not \"community.neo4j.com\" in l)\n",
    "            and (not \"sandbox.neo4j.com\" in l)\n",
    "        ]\n",
    "    )"
   ]
  },
  {
   "cell_type": "code",
   "execution_count": 25,
   "id": "331e9b70-9b89-4d25-aa30-f4da7539f57c",
   "metadata": {},
   "outputs": [],
   "source": [
    "import json\n",
    "\n",
    "j = json.dumps(data)\n",
    "# open file for writing, \"w\"\n",
    "f = open(\"neo4j_docs.json\", \"w\")\n",
    "\n",
    "# write json object to file\n",
    "f.write(j)\n",
    "\n",
    "# close file\n",
    "f.close()"
   ]
  },
  {
   "cell_type": "code",
   "execution_count": 50,
   "id": "753ae5fe-449d-4aca-8367-2b5f1f81a881",
   "metadata": {},
   "outputs": [],
   "source": [
    "# Import to Neo4j\n",
    "from graphdatascience import GraphDataScience\n",
    "\n",
    "host = \"bolt://0.0.0.0:7687\"\n",
    "user = \"neo4j\"\n",
    "password = \"1234ehtd\""
   ]
  },
  {
   "cell_type": "code",
   "execution_count": 51,
   "id": "4b97cf59-340b-4b51-a528-7e9c08f33052",
   "metadata": {},
   "outputs": [],
   "source": [
    "gds = GraphDataScience(host, auth=(user, password))"
   ]
  },
  {
   "cell_type": "code",
   "execution_count": 52,
   "id": "3929a60c-c83d-4b4f-ae9e-9ec906e1fba8",
   "metadata": {},
   "outputs": [
    {
     "data": {
      "text/html": [
       "<div>\n",
       "<style scoped>\n",
       "    .dataframe tbody tr th:only-of-type {\n",
       "        vertical-align: middle;\n",
       "    }\n",
       "\n",
       "    .dataframe tbody tr th {\n",
       "        vertical-align: top;\n",
       "    }\n",
       "\n",
       "    .dataframe thead th {\n",
       "        text-align: right;\n",
       "    }\n",
       "</style>\n",
       "<table border=\"1\" class=\"dataframe\">\n",
       "  <thead>\n",
       "    <tr style=\"text-align: right;\">\n",
       "      <th></th>\n",
       "    </tr>\n",
       "  </thead>\n",
       "  <tbody>\n",
       "  </tbody>\n",
       "</table>\n",
       "</div>"
      ],
      "text/plain": [
       "Empty DataFrame\n",
       "Columns: []\n",
       "Index: []"
      ]
     },
     "execution_count": 52,
     "metadata": {},
     "output_type": "execute_result"
    }
   ],
   "source": [
    "gds.run_cypher(\n",
    "    \"\"\"\n",
    "CREATE CONSTRAINT IF NOT EXISTS FOR (p:Page) REQUIRE p.url IS UNIQUE;\n",
    "\"\"\"\n",
    ")"
   ]
  },
  {
   "cell_type": "code",
   "execution_count": 53,
   "id": "e32d3c2f-a89d-46ef-95c9-5fa01010541b",
   "metadata": {},
   "outputs": [
    {
     "data": {
      "text/html": [
       "<div>\n",
       "<style scoped>\n",
       "    .dataframe tbody tr th:only-of-type {\n",
       "        vertical-align: middle;\n",
       "    }\n",
       "\n",
       "    .dataframe tbody tr th {\n",
       "        vertical-align: top;\n",
       "    }\n",
       "\n",
       "    .dataframe thead th {\n",
       "        text-align: right;\n",
       "    }\n",
       "</style>\n",
       "<table border=\"1\" class=\"dataframe\">\n",
       "  <thead>\n",
       "    <tr style=\"text-align: right;\">\n",
       "      <th></th>\n",
       "    </tr>\n",
       "  </thead>\n",
       "  <tbody>\n",
       "  </tbody>\n",
       "</table>\n",
       "</div>"
      ],
      "text/plain": [
       "Empty DataFrame\n",
       "Columns: []\n",
       "Index: []"
      ]
     },
     "execution_count": 53,
     "metadata": {},
     "output_type": "execute_result"
    }
   ],
   "source": [
    "gds.run_cypher(\n",
    "    \"\"\"\n",
    "CREATE CONSTRAINT IF NOT EXISTS FOR (k:Keyword) REQUIRE k.name IS UNIQUE;\n",
    "\"\"\"\n",
    ")"
   ]
  },
  {
   "cell_type": "code",
   "execution_count": 54,
   "id": "5b127aed-cb66-4c6b-b66f-aa1cc7207f12",
   "metadata": {},
   "outputs": [],
   "source": [
    "import_query = \"\"\"\n",
    "\n",
    "UNWIND $data AS row\n",
    "MERGE (p:Page {url:row.url})\n",
    "SET p.embedding = row.embedding,\n",
    "    p.has_text = row.has_text,\n",
    "    p.is_404 = row.is_404\n",
    "FOREACH (l in row.links    | MERGE (p1:Page {url:l}) MERGE (p)-[:LINKS_TO]->(p1))\n",
    "FOREACH (k in row.keywords | MERGE (k1:Keyword {name:k}) MERGE (p)-[:HAS_KEYWORD]->(k1))\n",
    "FOREACH (r in row.redirects| MERGE (r1:Page {url:r}) MERGE (p)-[:REDIRECTS]->(r1))\n",
    "\n",
    "\"\"\""
   ]
  },
  {
   "cell_type": "code",
   "execution_count": 55,
   "id": "a1614ce0-c160-4b8b-aa38-713c61c87927",
   "metadata": {},
   "outputs": [],
   "source": [
    "x = 1\n",
    "params = []\n",
    "for key in data:\n",
    "    params.append(\n",
    "        {\n",
    "            \"url\": key,\n",
    "            \"embedding\": data[key][\"embeddings\"],\n",
    "            \"keywords\": data[key][\"keywords\"],\n",
    "            \"links\": data[key][\"links\"],\n",
    "            \"has_text\": True if data[key][\"text\"] else False,\n",
    "            \"is_404\": True if data[key][\"text\"] == \"404\" else False,\n",
    "            \"redirects\": data[key][\"redirects\"],\n",
    "        }\n",
    "    )\n",
    "    # Batch per 500\n",
    "    if len(params) == 500:\n",
    "        gds.run_cypher(import_query, {\"data\": params})\n",
    "        params = []\n",
    "        # Logging\n",
    "        print(f\"Importing {x} batch\")\n",
    "        x += 1"
   ]
  },
  {
   "cell_type": "code",
   "execution_count": 56,
   "id": "e340fa4f-86f8-4bd9-8318-6ff11848d8f7",
   "metadata": {},
   "outputs": [
    {
     "data": {
      "text/html": [
       "<div>\n",
       "<style scoped>\n",
       "    .dataframe tbody tr th:only-of-type {\n",
       "        vertical-align: middle;\n",
       "    }\n",
       "\n",
       "    .dataframe tbody tr th {\n",
       "        vertical-align: top;\n",
       "    }\n",
       "\n",
       "    .dataframe thead th {\n",
       "        text-align: right;\n",
       "    }\n",
       "</style>\n",
       "<table border=\"1\" class=\"dataframe\">\n",
       "  <thead>\n",
       "    <tr style=\"text-align: right;\">\n",
       "      <th></th>\n",
       "    </tr>\n",
       "  </thead>\n",
       "  <tbody>\n",
       "  </tbody>\n",
       "</table>\n",
       "</div>"
      ],
      "text/plain": [
       "Empty DataFrame\n",
       "Columns: []\n",
       "Index: []"
      ]
     },
     "execution_count": 56,
     "metadata": {},
     "output_type": "execute_result"
    }
   ],
   "source": [
    "\n",
    "# Import the remainder\n",
    "gds.run_cypher(import_query, {\"data\": params})"
   ]
  },
  {
   "cell_type": "code",
   "execution_count": 57,
   "id": "b63bd976-606f-4393-b4d7-012830024192",
   "metadata": {
    "scrolled": true
   },
   "outputs": [
    {
     "data": {
      "text/html": [
       "<div>\n",
       "<style scoped>\n",
       "    .dataframe tbody tr th:only-of-type {\n",
       "        vertical-align: middle;\n",
       "    }\n",
       "\n",
       "    .dataframe tbody tr th {\n",
       "        vertical-align: top;\n",
       "    }\n",
       "\n",
       "    .dataframe thead th {\n",
       "        text-align: right;\n",
       "    }\n",
       "</style>\n",
       "<table border=\"1\" class=\"dataframe\">\n",
       "  <thead>\n",
       "    <tr style=\"text-align: right;\">\n",
       "      <th></th>\n",
       "      <th>labels</th>\n",
       "      <th>relTypesCount</th>\n",
       "    </tr>\n",
       "  </thead>\n",
       "  <tbody>\n",
       "    <tr>\n",
       "      <th>0</th>\n",
       "      <td>{'Keyword': 4, 'Page': 14}</td>\n",
       "      <td>{'LINKS_TO': 13, 'HAS_KEYWORD': 4}</td>\n",
       "    </tr>\n",
       "  </tbody>\n",
       "</table>\n",
       "</div>"
      ],
      "text/plain": [
       "                       labels                       relTypesCount\n",
       "0  {'Keyword': 4, 'Page': 14}  {'LINKS_TO': 13, 'HAS_KEYWORD': 4}"
      ]
     },
     "execution_count": 57,
     "metadata": {},
     "output_type": "execute_result"
    }
   ],
   "source": [
    "gds.run_cypher(\"\"\"\n",
    "CALL apoc.meta.stats()\n",
    "YIELD labels, relTypesCount\n",
    "\"\"\")"
   ]
  },
  {
   "cell_type": "code",
   "execution_count": 58,
   "id": "ac1e2cc7-794e-4d82-9ede-e964f781dd10",
   "metadata": {},
   "outputs": [
    {
     "data": {
      "text/html": [
       "<div>\n",
       "<style scoped>\n",
       "    .dataframe tbody tr th:only-of-type {\n",
       "        vertical-align: middle;\n",
       "    }\n",
       "\n",
       "    .dataframe tbody tr th {\n",
       "        vertical-align: top;\n",
       "    }\n",
       "\n",
       "    .dataframe thead th {\n",
       "        text-align: right;\n",
       "    }\n",
       "</style>\n",
       "<table border=\"1\" class=\"dataframe\">\n",
       "  <thead>\n",
       "    <tr style=\"text-align: right;\">\n",
       "      <th></th>\n",
       "      <th>has_text</th>\n",
       "      <th>count</th>\n",
       "    </tr>\n",
       "  </thead>\n",
       "  <tbody>\n",
       "    <tr>\n",
       "      <th>0</th>\n",
       "      <td>True</td>\n",
       "      <td>1</td>\n",
       "    </tr>\n",
       "    <tr>\n",
       "      <th>1</th>\n",
       "      <td>None</td>\n",
       "      <td>13</td>\n",
       "    </tr>\n",
       "  </tbody>\n",
       "</table>\n",
       "</div>"
      ],
      "text/plain": [
       "  has_text  count\n",
       "0     True      1\n",
       "1     None     13"
      ]
     },
     "execution_count": 58,
     "metadata": {},
     "output_type": "execute_result"
    }
   ],
   "source": [
    "gds.run_cypher(\"\"\"\n",
    "MATCH (p:Page)\n",
    "RETURN p.has_text AS has_text,\n",
    "       count(*) AS count\n",
    "\"\"\")"
   ]
  },
  {
   "cell_type": "code",
   "execution_count": 59,
   "id": "93f928b8-e7c4-4937-b684-cdd0d2c67033",
   "metadata": {},
   "outputs": [
    {
     "data": {
      "text/html": [
       "<div>\n",
       "<style scoped>\n",
       "    .dataframe tbody tr th:only-of-type {\n",
       "        vertical-align: middle;\n",
       "    }\n",
       "\n",
       "    .dataframe tbody tr th {\n",
       "        vertical-align: top;\n",
       "    }\n",
       "\n",
       "    .dataframe thead th {\n",
       "        text-align: right;\n",
       "    }\n",
       "</style>\n",
       "<table border=\"1\" class=\"dataframe\">\n",
       "  <thead>\n",
       "    <tr style=\"text-align: right;\">\n",
       "      <th></th>\n",
       "      <th>page</th>\n",
       "      <th>links</th>\n",
       "    </tr>\n",
       "  </thead>\n",
       "  <tbody>\n",
       "    <tr>\n",
       "      <th>0</th>\n",
       "      <td>https://neo4j.com/docs/graph-data-science-client</td>\n",
       "      <td>1</td>\n",
       "    </tr>\n",
       "    <tr>\n",
       "      <th>1</th>\n",
       "      <td>https://neo4j.com/docs/cypher-cheat-sheet</td>\n",
       "      <td>1</td>\n",
       "    </tr>\n",
       "    <tr>\n",
       "      <th>2</th>\n",
       "      <td>https://neo4j.com/docs/graph-data-science</td>\n",
       "      <td>1</td>\n",
       "    </tr>\n",
       "    <tr>\n",
       "      <th>3</th>\n",
       "      <td>https://neo4j.com/docs/security-docs</td>\n",
       "      <td>1</td>\n",
       "    </tr>\n",
       "    <tr>\n",
       "      <th>4</th>\n",
       "      <td>https://neo4j.com/docs/getting-started</td>\n",
       "      <td>1</td>\n",
       "    </tr>\n",
       "  </tbody>\n",
       "</table>\n",
       "</div>"
      ],
      "text/plain": [
       "                                               page  links\n",
       "0  https://neo4j.com/docs/graph-data-science-client      1\n",
       "1         https://neo4j.com/docs/cypher-cheat-sheet      1\n",
       "2         https://neo4j.com/docs/graph-data-science      1\n",
       "3              https://neo4j.com/docs/security-docs      1\n",
       "4            https://neo4j.com/docs/getting-started      1"
      ]
     },
     "execution_count": 59,
     "metadata": {},
     "output_type": "execute_result"
    }
   ],
   "source": [
    "gds.run_cypher(\"\"\"\n",
    "MATCH (p:Page)\n",
    "WHERE p.has_text IS NULL\n",
    "RETURN p.url AS page,\n",
    "       count{(p)<-[:LINKS_TO|REDIRECTS]-()} AS links\n",
    "ORDER BY links DESC\n",
    "LIMIT 5\n",
    "\"\"\")"
   ]
  },
  {
   "cell_type": "code",
   "execution_count": 60,
   "id": "747c447d-ca90-4d07-8926-be55e2cca69c",
   "metadata": {},
   "outputs": [
    {
     "data": {
      "text/html": [
       "<div>\n",
       "<style scoped>\n",
       "    .dataframe tbody tr th:only-of-type {\n",
       "        vertical-align: middle;\n",
       "    }\n",
       "\n",
       "    .dataframe tbody tr th {\n",
       "        vertical-align: top;\n",
       "    }\n",
       "\n",
       "    .dataframe thead th {\n",
       "        text-align: right;\n",
       "    }\n",
       "</style>\n",
       "<table border=\"1\" class=\"dataframe\">\n",
       "  <thead>\n",
       "    <tr style=\"text-align: right;\">\n",
       "      <th></th>\n",
       "      <th>brokenLinkCount</th>\n",
       "    </tr>\n",
       "  </thead>\n",
       "  <tbody>\n",
       "    <tr>\n",
       "      <th>0</th>\n",
       "      <td>0</td>\n",
       "    </tr>\n",
       "  </tbody>\n",
       "</table>\n",
       "</div>"
      ],
      "text/plain": [
       "   brokenLinkCount\n",
       "0                0"
      ]
     },
     "execution_count": 60,
     "metadata": {},
     "output_type": "execute_result"
    }
   ],
   "source": [
    "gds.run_cypher(\"\"\"\n",
    "MATCH (:Page)-[:LINKS_TO|REDIRECTS]->(:Page{is_404:true})\n",
    "RETURN count(*) AS brokenLinkCount\n",
    "\"\"\")"
   ]
  }
 ],
 "metadata": {
  "kernelspec": {
   "display_name": "Python 3 (ipykernel)",
   "language": "python",
   "name": "python3"
  },
  "language_info": {
   "codemirror_mode": {
    "name": "ipython",
    "version": 3
   },
   "file_extension": ".py",
   "mimetype": "text/x-python",
   "name": "python",
   "nbconvert_exporter": "python",
   "pygments_lexer": "ipython3",
   "version": "3.11.4"
  }
 },
 "nbformat": 4,
 "nbformat_minor": 5
}
