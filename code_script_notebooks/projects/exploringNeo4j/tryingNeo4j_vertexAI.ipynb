{
 "cells": [
  {
   "cell_type": "code",
   "execution_count": 1,
   "id": "9236b0d2",
   "metadata": {},
   "outputs": [],
   "source": [
    "import os\n",
    "\n",
    "from langchain.chat_models import ChatVertexAI\n",
    "from langchain.chains import GraphCypherQAChain\n",
    "\n",
    "os.environ['GOOGLE_APPLICATION_CREDENTIALS'] = \"/run/media/solverbot/repoA/gitFolders/generativeaitrial-trialLC.json\""
   ]
  },
  {
   "cell_type": "code",
   "execution_count": 2,
   "id": "a07036b3",
   "metadata": {},
   "outputs": [],
   "source": [
    "from langchain.chat_models import ChatVertexAI\n",
    "from langchain.chains import GraphCypherQAChain\n",
    "from langchain.graphs import Neo4jGraph"
   ]
  },
  {
   "cell_type": "code",
   "execution_count": 3,
   "id": "96c9c77b",
   "metadata": {},
   "outputs": [],
   "source": [
    "graph = Neo4jGraph(\n",
    "    url=\"bolt://localhost:7687\", \n",
    "    username=\"neo4j\", \n",
    "    password=\"password\"\n",
    ")"
   ]
  },
  {
   "cell_type": "code",
   "execution_count": 4,
   "id": "d932338c",
   "metadata": {},
   "outputs": [],
   "source": [
    "chain = GraphCypherQAChain.from_llm(\n",
    "    ChatVertexAI(temperature=0), \n",
    "    graph=graph, \n",
    "    verbose=True\n",
    ")"
   ]
  },
  {
   "cell_type": "code",
   "execution_count": 5,
   "id": "4e882bd7",
   "metadata": {},
   "outputs": [
    {
     "name": "stdout",
     "output_type": "stream",
     "text": [
      "\n",
      "\n",
      "\u001b[1m> Entering new GraphCypherQAChain chain...\u001b[0m\n",
      "Generated Cypher:\n",
      "\u001b[32;1m\u001b[1;3mMATCH (c:Customer)-[:PURCHASED]->(o:Order)-[:ORDERS]->(p:Product) RETURN c.customerID, count(p)\u001b[0m\n",
      "Full Context:\n",
      "\u001b[32;1m\u001b[1;3m[{'c.customerID': 'ALFKI', 'count(p)': 12}, {'c.customerID': 'ANATR', 'count(p)': 10}, {'c.customerID': 'ANTON', 'count(p)': 17}, {'c.customerID': 'AROUT', 'count(p)': 30}, {'c.customerID': 'BERGS', 'count(p)': 52}, {'c.customerID': 'BLAUS', 'count(p)': 14}, {'c.customerID': 'BLONP', 'count(p)': 26}, {'c.customerID': 'BOLID', 'count(p)': 6}, {'c.customerID': 'BONAP', 'count(p)': 44}, {'c.customerID': 'BOTTM', 'count(p)': 35}, {'c.customerID': 'BSBEV', 'count(p)': 22}, {'c.customerID': 'CACTU', 'count(p)': 11}, {'c.customerID': 'CENTC', 'count(p)': 2}, {'c.customerID': 'CHOPS', 'count(p)': 22}, {'c.customerID': 'COMMI', 'count(p)': 10}, {'c.customerID': 'CONSH', 'count(p)': 7}, {'c.customerID': 'DRACD', 'count(p)': 10}, {'c.customerID': 'DUMON', 'count(p)': 9}, {'c.customerID': 'EASTC', 'count(p)': 21}, {'c.customerID': 'ERNSH', 'count(p)': 102}, {'c.customerID': 'FAMIA', 'count(p)': 19}, {'c.customerID': 'FOLIG', 'count(p)': 16}, {'c.customerID': 'FOLKO', 'count(p)': 45}, {'c.customerID': 'FRANK', 'count(p)': 48}, {'c.customerID': 'FRANR', 'count(p)': 6}, {'c.customerID': 'FRANS', 'count(p)': 10}, {'c.customerID': 'FURIB', 'count(p)': 20}, {'c.customerID': 'GALED', 'count(p)': 8}, {'c.customerID': 'GODOS', 'count(p)': 26}, {'c.customerID': 'GOURL', 'count(p)': 19}, {'c.customerID': 'GREAL', 'count(p)': 22}, {'c.customerID': 'GROSR', 'count(p)': 4}, {'c.customerID': 'HANAR', 'count(p)': 32}, {'c.customerID': 'HILAA', 'count(p)': 45}, {'c.customerID': 'HUNGC', 'count(p)': 9}, {'c.customerID': 'HUNGO', 'count(p)': 55}, {'c.customerID': 'ISLAT', 'count(p)': 23}, {'c.customerID': 'KOENE', 'count(p)': 39}, {'c.customerID': 'LACOR', 'count(p)': 11}, {'c.customerID': 'LAMAI', 'count(p)': 31}, {'c.customerID': 'LAUGB', 'count(p)': 8}, {'c.customerID': 'LAZYK', 'count(p)': 2}, {'c.customerID': 'LEHMS', 'count(p)': 39}, {'c.customerID': 'LETSS', 'count(p)': 10}, {'c.customerID': 'LILAS', 'count(p)': 34}, {'c.customerID': 'LINOD', 'count(p)': 35}, {'c.customerID': 'LONEP', 'count(p)': 14}, {'c.customerID': 'MAGAA', 'count(p)': 21}, {'c.customerID': 'MAISD', 'count(p)': 17}, {'c.customerID': 'MEREP', 'count(p)': 32}]\u001b[0m\n",
      "\n",
      "\u001b[1m> Finished chain.\u001b[0m\n"
     ]
    },
    {
     "data": {
      "text/plain": [
       "'The customer ALFKI purchased 12 products.'"
      ]
     },
     "execution_count": 5,
     "metadata": {},
     "output_type": "execute_result"
    }
   ],
   "source": [
    "chain.run(\"How many products did each customer purchase?\")"
   ]
  },
  {
   "cell_type": "code",
   "execution_count": 7,
   "id": "2fc529db",
   "metadata": {},
   "outputs": [
    {
     "name": "stdout",
     "output_type": "stream",
     "text": [
      "\n",
      "\n",
      "\u001b[1m> Entering new GraphCypherQAChain chain...\u001b[0m\n",
      "Generated Cypher:\n",
      "\u001b[32;1m\u001b[1;3mMATCH (c:Customer)-[:PURCHASED]->(o:Order) RETURN c.customerID, o.orderID\u001b[0m\n",
      "Full Context:\n",
      "\u001b[32;1m\u001b[1;3m[{'c.customerID': 'ALFKI', 'o.orderID': '10702'}, {'c.customerID': 'ALFKI', 'o.orderID': '11011'}, {'c.customerID': 'ALFKI', 'o.orderID': '10643'}, {'c.customerID': 'ALFKI', 'o.orderID': '10952'}, {'c.customerID': 'ALFKI', 'o.orderID': '10835'}, {'c.customerID': 'ALFKI', 'o.orderID': '10692'}, {'c.customerID': 'ANATR', 'o.orderID': '10625'}, {'c.customerID': 'ANATR', 'o.orderID': '10308'}, {'c.customerID': 'ANATR', 'o.orderID': '10759'}, {'c.customerID': 'ANATR', 'o.orderID': '10926'}, {'c.customerID': 'ANTON', 'o.orderID': '10856'}, {'c.customerID': 'ANTON', 'o.orderID': '10682'}, {'c.customerID': 'ANTON', 'o.orderID': '10365'}, {'c.customerID': 'ANTON', 'o.orderID': '10573'}, {'c.customerID': 'ANTON', 'o.orderID': '10677'}, {'c.customerID': 'ANTON', 'o.orderID': '10507'}, {'c.customerID': 'ANTON', 'o.orderID': '10535'}, {'c.customerID': 'AROUT', 'o.orderID': '10741'}, {'c.customerID': 'AROUT', 'o.orderID': '10743'}, {'c.customerID': 'AROUT', 'o.orderID': '10707'}, {'c.customerID': 'AROUT', 'o.orderID': '10953'}, {'c.customerID': 'AROUT', 'o.orderID': '10453'}, {'c.customerID': 'AROUT', 'o.orderID': '10920'}, {'c.customerID': 'AROUT', 'o.orderID': '10768'}, {'c.customerID': 'AROUT', 'o.orderID': '10383'}, {'c.customerID': 'AROUT', 'o.orderID': '10793'}, {'c.customerID': 'AROUT', 'o.orderID': '10864'}, {'c.customerID': 'AROUT', 'o.orderID': '11016'}, {'c.customerID': 'AROUT', 'o.orderID': '10558'}, {'c.customerID': 'AROUT', 'o.orderID': '10355'}, {'c.customerID': 'BERGS', 'o.orderID': '10280'}, {'c.customerID': 'BERGS', 'o.orderID': '10778'}, {'c.customerID': 'BERGS', 'o.orderID': '10444'}, {'c.customerID': 'BERGS', 'o.orderID': '10672'}, {'c.customerID': 'BERGS', 'o.orderID': '10875'}, {'c.customerID': 'BERGS', 'o.orderID': '10384'}, {'c.customerID': 'BERGS', 'o.orderID': '10626'}, {'c.customerID': 'BERGS', 'o.orderID': '10278'}, {'c.customerID': 'BERGS', 'o.orderID': '10689'}, {'c.customerID': 'BERGS', 'o.orderID': '10866'}, {'c.customerID': 'BERGS', 'o.orderID': '10572'}, {'c.customerID': 'BERGS', 'o.orderID': '10445'}, {'c.customerID': 'BERGS', 'o.orderID': '10524'}, {'c.customerID': 'BERGS', 'o.orderID': '10924'}, {'c.customerID': 'BERGS', 'o.orderID': '10654'}, {'c.customerID': 'BERGS', 'o.orderID': '10837'}, {'c.customerID': 'BERGS', 'o.orderID': '10857'}, {'c.customerID': 'BERGS', 'o.orderID': '10733'}, {'c.customerID': 'BLAUS', 'o.orderID': '10853'}, {'c.customerID': 'BLAUS', 'o.orderID': '10582'}]\u001b[0m\n",
      "\n",
      "\u001b[1m> Finished chain.\u001b[0m\n"
     ]
    },
    {
     "data": {
      "text/plain": [
       "'The following relationships between customers and orders have been created based on customerID:\\n\\nALFKI 10702\\nALFKI 11011\\nALFKI 10643\\nALFKI 10952\\nALFKI 10835\\nALFKI 10692\\nANATR 10625\\nANATR 10308\\nANATR 10759\\nANATR 10926\\nANTON 10856\\nANTON 106'"
      ]
     },
     "execution_count": 7,
     "metadata": {},
     "output_type": "execute_result"
    }
   ],
   "source": [
    "chain.run(\"Create relationships between customers and orders based on customerID?\")"
   ]
  },
  {
   "cell_type": "code",
   "execution_count": 9,
   "id": "76fa5df4",
   "metadata": {},
   "outputs": [],
   "source": [
    "# https://github.com/hwchase17/langchain/blob/master/langchain/chains/graph_qa/prompts.py\n",
    "from langchain.prompts.prompt import PromptTemplate\n",
    "\n",
    "\n",
    "CYPHER_GENERATION_TEMPLATE = \"\"\"Task:Generate Cypher statement to query a graph database.\n",
    "Instructions:\n",
    "Use only the provided relationship types and properties in the schema.\n",
    "Do not use any other relationship types or properties that are not provided.\n",
    "Schema:\n",
    "{schema}\n",
    "Cypher examples:\n",
    "# How many streamers are from Norway?\n",
    "MATCH (s:Stream)-[:HAS_LANGUAGE]->(:Language {{name: 'no'}})\n",
    "RETURN count(s) AS streamers\n",
    "# How many products did each customer purchase?\n",
    "MATCH (cust:Customer)-[:PURCHASED]->(:Order)-[o:ORDERS]->(p:Product),\n",
    "  (p)-[:PART_OF]->(c:Category {{categoryName:\"Produce\"}})\n",
    "RETURN DISTINCT cust.contactName as CustomerName, SUM(o.quantity) AS TotalProductsPurchased\n",
    "# What categories of food does each supplier supply?\n",
    "MATCH (s:Supplier)-->(:Product)-->(c:Category)\n",
    "RETURN s.companyName as Company, collect(distinct c.categoryName) as Categories\n",
    "\n",
    "Note: Do not include any explanations or apologies in your responses.\n",
    "Do not respond to any questions that might ask anything else than for you to construct a Cypher statement.\n",
    "Do not include any text except the generated Cypher statement.\n",
    "\n",
    "The question is:\n",
    "{question}\"\"\"\n",
    "CYPHER_GENERATION_PROMPT = PromptTemplate(\n",
    "    input_variables=[\"schema\", \"question\"], template=CYPHER_GENERATION_TEMPLATE\n",
    ")"
   ]
  },
  {
   "cell_type": "code",
   "execution_count": 11,
   "id": "866a47d7",
   "metadata": {},
   "outputs": [],
   "source": [
    "chain_language_example = GraphCypherQAChain.from_llm(\n",
    "    ChatVertexAI(temperature=0), graph=graph, verbose=True,\n",
    "    cypher_prompt=CYPHER_GENERATION_PROMPT\n",
    ")"
   ]
  },
  {
   "cell_type": "code",
   "execution_count": 12,
   "id": "47544295",
   "metadata": {},
   "outputs": [
    {
     "name": "stdout",
     "output_type": "stream",
     "text": [
      "\n",
      "\n",
      "\u001b[1m> Entering new GraphCypherQAChain chain...\u001b[0m\n",
      "Generated Cypher:\n",
      "\u001b[32;1m\u001b[1;3mMATCH (p:Product)\n",
      "RETURN p.productName as Product\u001b[0m\n",
      "Full Context:\n",
      "\u001b[32;1m\u001b[1;3m[{'Product': 'Chai'}, {'Product': 'Chang'}, {'Product': 'Aniseed Syrup'}, {'Product': \"Chef Anton's Cajun Seasoning\"}, {'Product': \"Chef Anton's Gumbo Mix\"}, {'Product': \"Grandma's Boysenberry Spread\"}, {'Product': \"Uncle Bob's Organic Dried Pears\"}, {'Product': 'Northwoods Cranberry Sauce'}, {'Product': 'Mishi Kobe Niku'}, {'Product': 'Ikura'}, {'Product': 'Queso Cabrales'}, {'Product': 'Queso Manchego La Pastora'}, {'Product': 'Konbu'}, {'Product': 'Tofu'}, {'Product': 'Genen Shouyu'}, {'Product': 'Pavlova'}, {'Product': 'Alice Mutton'}, {'Product': 'Carnarvon Tigers'}, {'Product': 'Teatime Chocolate Biscuits'}, {'Product': \"Sir Rodney's Marmalade\"}, {'Product': \"Sir Rodney's Scones\"}, {'Product': \"Gustaf's Knäckebröd\"}, {'Product': 'Tunnbröd'}, {'Product': 'Guaraná Fantástica'}, {'Product': 'NuNuCa Nuß-Nougat-Creme'}, {'Product': 'Gumbär Gummibärchen'}, {'Product': 'Schoggi Schokolade'}, {'Product': 'Rössle Sauerkraut'}, {'Product': 'Thüringer Rostbratwurst'}, {'Product': 'Nord-Ost Matjeshering'}, {'Product': 'Gorgonzola Telino'}, {'Product': 'Mascarpone Fabioli'}, {'Product': 'Geitost'}, {'Product': 'Sasquatch Ale'}, {'Product': 'Steeleye Stout'}, {'Product': 'Inlagd Sill'}, {'Product': 'Gravad lax'}, {'Product': 'Côte de Blaye'}, {'Product': 'Chartreuse verte'}, {'Product': 'Boston Crab Meat'}, {'Product': \"Jack's New England Clam Chowder\"}, {'Product': 'Singaporean Hokkien Fried Mee'}, {'Product': 'Ipoh Coffee'}, {'Product': 'Gula Malacca'}, {'Product': 'Rogede sild'}, {'Product': 'Spegesild'}, {'Product': 'Zaanse koeken'}, {'Product': 'Chocolade'}, {'Product': 'Maxilaku'}, {'Product': 'Valkoinen suklaa'}]\u001b[0m\n",
      "\n",
      "\u001b[1m> Finished chain.\u001b[0m\n"
     ]
    },
    {
     "data": {
      "text/plain": [
       "\"The various products supplied are Chai, Chang, Aniseed Syrup, Chef Anton's Cajun Seasoning, Chef Anton's Gumbo Mix, Grandma's Boysenberry Spread, Uncle Bob's Organic Dried Pears, Northwoods Cranberry Sauce, Mishi Kobe Niku, Ikura, Queso Cabrales, Queso Manchego La Pastora, Konbu, Tofu, Genen Shouyu, Pavlova, Alice Mutton, Carnarvon Tigers, Teatime Chocolate Biscuits, Sir Rodney's Marmalade, Sir Rodney's Scones, Gustav's Knäckebröd, Tunnb\""
      ]
     },
     "execution_count": 12,
     "metadata": {},
     "output_type": "execute_result"
    }
   ],
   "source": [
    "chain_language_example.run(\"\"\"\n",
    "What are the various products supplied?\n",
    "\"\"\")"
   ]
  },
  {
   "cell_type": "code",
   "execution_count": 14,
   "id": "2cabcc99",
   "metadata": {},
   "outputs": [
    {
     "name": "stdout",
     "output_type": "stream",
     "text": [
      "\n",
      "\n",
      "\u001b[1m> Entering new GraphCypherQAChain chain...\u001b[0m\n",
      "Generated Cypher:\n",
      "\u001b[32;1m\u001b[1;3mMATCH (p:Product {productName: \"Northwoods Cranberry Sauce\"})-[:PART_OF]->(c:Category {categoryName: \"Produce\"})-[:SUPPLIES]->(s:Supplier)\n",
      "RETURN s.companyName\u001b[0m\n",
      "Full Context:\n",
      "\u001b[32;1m\u001b[1;3m[]\u001b[0m\n",
      "\n",
      "\u001b[1m> Finished chain.\u001b[0m\n"
     ]
    },
    {
     "data": {
      "text/plain": [
       "\"I'm sorry, I can't find the produce supplier for Northwoods Cranberry Sauce.\""
      ]
     },
     "execution_count": 14,
     "metadata": {},
     "output_type": "execute_result"
    }
   ],
   "source": [
    "chain_language_example.run(\"Find the produce supplier for Northwoods Cranberry Sauce\")"
   ]
  },
  {
   "cell_type": "code",
   "execution_count": 15,
   "id": "e5cd67ae",
   "metadata": {},
   "outputs": [
    {
     "name": "stdout",
     "output_type": "stream",
     "text": [
      "\n",
      "\n",
      "\u001b[1m> Entering new GraphCypherQAChain chain...\u001b[0m\n",
      "Generated Cypher:\n",
      "\u001b[32;1m\u001b[1;3mMATCH (s:Supplier)-[:SUPPLIES]->(p:Product)-[:PART_OF]->(c:Category {categoryName:\"Produce\"})\n",
      "RETURN s.companyName as Company\u001b[0m\n",
      "Full Context:\n",
      "\u001b[32;1m\u001b[1;3m[{'Company': \"G'day\"}, {'Company': 'Tokyo Traders'}, {'Company': 'Plutzer Lebensmittelgroßmärkte AG'}, {'Company': \"Mayumi's\"}, {'Company': \"Grandma Kelly's Homestead\"}]\u001b[0m\n",
      "\n",
      "\u001b[1m> Finished chain.\u001b[0m\n"
     ]
    },
    {
     "data": {
      "text/plain": [
       "\"The produce suppliers are G'day, Tokyo Traders, Plutzer Lebensmittelgroßmärkte AG, Mayumi's, and Grandma Kelly's Homestead.\""
      ]
     },
     "execution_count": 15,
     "metadata": {},
     "output_type": "execute_result"
    }
   ],
   "source": [
    "chain_language_example.run(\"Find the produce suppliers\")"
   ]
  },
  {
   "cell_type": "code",
   "execution_count": 16,
   "id": "9c187233",
   "metadata": {},
   "outputs": [
    {
     "name": "stdout",
     "output_type": "stream",
     "text": [
      "\n",
      "\n",
      "\u001b[1m> Entering new GraphCypherQAChain chain...\u001b[0m\n",
      "Generated Cypher:\n",
      "\u001b[32;1m\u001b[1;3mMATCH (s:Supplier)-->(:Product)-->(c:Category)\n",
      "RETURN s.companyName as Company, collect(distinct c.categoryName) as Categories\u001b[0m\n",
      "Full Context:\n",
      "\u001b[32;1m\u001b[1;3m[{'Company': 'Exotic Liquids', 'Categories': ['Beverages', 'Condiments']}, {'Company': 'New Orleans Cajun Delights', 'Categories': ['Condiments']}, {'Company': \"Grandma Kelly's Homestead\", 'Categories': ['Produce', 'Condiments']}, {'Company': 'Tokyo Traders', 'Categories': ['Meat/Poultry', 'Produce', 'Seafood']}, {'Company': \"Cooperativa de Quesos 'Las Cabras'\", 'Categories': ['Dairy Products']}, {'Company': \"Mayumi's\", 'Categories': ['Produce', 'Seafood', 'Condiments']}, {'Company': 'Pavlova', 'Categories': ['Seafood', 'Beverages', 'Meat/Poultry', 'Condiments', 'Confections']}, {'Company': 'Specialty Biscuits', 'Categories': ['Confections']}, {'Company': 'PB Knäckebröd AB', 'Categories': ['Grains/Cereals']}, {'Company': 'Refrescos Americanas LTDA', 'Categories': ['Beverages']}, {'Company': 'Heli Süßwaren GmbH & Co. KG', 'Categories': ['Confections']}, {'Company': 'Plutzer Lebensmittelgroßmärkte AG', 'Categories': ['Meat/Poultry', 'Produce', 'Grains/Cereals', 'Beverages', 'Condiments']}, {'Company': 'Nord-Ost-Fisch Handelsgesellschaft mbH', 'Categories': ['Seafood']}, {'Company': 'Formaggi Fortini s.r.l.', 'Categories': ['Dairy Products']}, {'Company': 'Norske Meierier', 'Categories': ['Dairy Products']}, {'Company': 'Bigfoot Breweries', 'Categories': ['Beverages']}, {'Company': 'Svensk Sjöföda AB', 'Categories': ['Seafood']}, {'Company': 'Aux joyeux ecclésiastiques', 'Categories': ['Beverages']}, {'Company': 'New England Seafood Cannery', 'Categories': ['Seafood']}, {'Company': 'Leka Trading', 'Categories': ['Condiments', 'Beverages', 'Grains/Cereals']}, {'Company': 'Lyngbysild', 'Categories': ['Seafood']}, {'Company': 'Zaanse Snoepfabriek', 'Categories': ['Confections']}, {'Company': 'Karkki Oy', 'Categories': ['Confections', 'Beverages']}, {'Company': \"G'day\", 'Categories': ['Produce', 'Meat/Poultry', 'Grains/Cereals']}, {'Company': 'Ma Maison', 'Categories': ['Meat/Poultry']}, {'Company': 'Pasta Buttini s.r.l.', 'Categories': ['Grains/Cereals']}, {'Company': 'Escargots Nouveaux', 'Categories': ['Seafood']}, {'Company': 'Gai pâturage', 'Categories': ['Dairy Products']}, {'Company': \"Forêts d'érables\", 'Categories': ['Condiments', 'Confections']}]\u001b[0m\n",
      "\n",
      "\u001b[1m> Finished chain.\u001b[0m\n"
     ]
    },
    {
     "data": {
      "text/plain": [
       "\"The following is a list of the categories of food that each supplier supplies:\\n\\nExotic Liquids: Beverages, Condiments\\nNew Orleans Cajun Delights: Condiments\\nGrandma Kelly's Homestead: Produce, Condiments\\nTokyo Traders: Meat/Poultry, Produce, Seafood\\nCooperativa de Quesos 'Las Cabras': Dairy Products\\nMayumi's: Produce, Seafood, Condiments\\nPavlova: Seafood, Beverages, Meat/Poultry, Condiments, Confections\\nSpecialty Biscuits: Confections\\nPB Knäckebröd AB\""
      ]
     },
     "execution_count": 16,
     "metadata": {},
     "output_type": "execute_result"
    }
   ],
   "source": [
    "chain_language_example.run(\"What categories of food does each supplier supply?\")"
   ]
  },
  {
   "cell_type": "code",
   "execution_count": 18,
   "id": "05ee90cf",
   "metadata": {},
   "outputs": [
    {
     "name": "stdout",
     "output_type": "stream",
     "text": [
      "\n",
      "\n",
      "\u001b[1m> Entering new GraphCypherQAChain chain...\u001b[0m\n",
      "Generated Cypher:\n",
      "\u001b[32;1m\u001b[1;3mMATCH (p:Product {productName: \"Sasquatch Ale\"})-[:SUPPLIES]->(s:Supplier)\n",
      "RETURN s.companyName\u001b[0m\n",
      "Full Context:\n",
      "\u001b[32;1m\u001b[1;3m[]\u001b[0m\n",
      "\n",
      "\u001b[1m> Finished chain.\u001b[0m\n"
     ]
    },
    {
     "data": {
      "text/plain": [
       "\"I'm not sure who supplies Sasquatch Ale.\""
      ]
     },
     "execution_count": 18,
     "metadata": {},
     "output_type": "execute_result"
    }
   ],
   "source": [
    "chain_language_example.run(\"Who supplies Sasquatch Ale\")"
   ]
  },
  {
   "cell_type": "code",
   "execution_count": 19,
   "id": "9e1354ed",
   "metadata": {},
   "outputs": [
    {
     "name": "stdout",
     "output_type": "stream",
     "text": [
      "\n",
      "\n",
      "\u001b[1m> Entering new GraphCypherQAChain chain...\u001b[0m\n",
      "Generated Cypher:\n",
      "\u001b[32;1m\u001b[1;3mMATCH (n) RETURN n.labels AS Labels\u001b[0m\n",
      "Full Context:\n",
      "\u001b[32;1m\u001b[1;3m[{'Labels': None}, {'Labels': None}, {'Labels': None}, {'Labels': None}, {'Labels': None}, {'Labels': None}, {'Labels': None}, {'Labels': None}, {'Labels': None}, {'Labels': None}, {'Labels': None}, {'Labels': None}, {'Labels': None}, {'Labels': None}, {'Labels': None}, {'Labels': None}, {'Labels': None}, {'Labels': None}, {'Labels': None}, {'Labels': None}, {'Labels': None}, {'Labels': None}, {'Labels': None}, {'Labels': None}, {'Labels': None}, {'Labels': None}, {'Labels': None}, {'Labels': None}, {'Labels': None}, {'Labels': None}, {'Labels': None}, {'Labels': None}, {'Labels': None}, {'Labels': None}, {'Labels': None}, {'Labels': None}, {'Labels': None}, {'Labels': None}, {'Labels': None}, {'Labels': None}, {'Labels': None}, {'Labels': None}, {'Labels': None}, {'Labels': None}, {'Labels': None}, {'Labels': None}, {'Labels': None}, {'Labels': None}, {'Labels': None}, {'Labels': None}]\u001b[0m\n",
      "\n",
      "\u001b[1m> Finished chain.\u001b[0m\n"
     ]
    },
    {
     "data": {
      "text/plain": [
       "'There are no nodes.'"
      ]
     },
     "execution_count": 19,
     "metadata": {},
     "output_type": "execute_result"
    }
   ],
   "source": [
    "chain_language_example.run(\"What kind of node exists\")"
   ]
  }
 ],
 "metadata": {
  "kernelspec": {
   "display_name": "Python 3 (ipykernel)",
   "language": "python",
   "name": "python3"
  },
  "language_info": {
   "codemirror_mode": {
    "name": "ipython",
    "version": 3
   },
   "file_extension": ".py",
   "mimetype": "text/x-python",
   "name": "python",
   "nbconvert_exporter": "python",
   "pygments_lexer": "ipython3",
   "version": "3.10.9"
  }
 },
 "nbformat": 4,
 "nbformat_minor": 5
}
