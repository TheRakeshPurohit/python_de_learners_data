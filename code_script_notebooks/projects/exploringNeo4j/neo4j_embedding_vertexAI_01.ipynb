{
  "nbformat": 4,
  "nbformat_minor": 0,
  "metadata": {
    "colab": {
      "provenance": []
    },
    "kernelspec": {
      "name": "python3",
      "display_name": "Python 3"
    },
    "language_info": {
      "name": "python"
    }
  },
  "cells": [
    {
      "cell_type": "code",
      "execution_count": 2,
      "metadata": {
        "id": "vt6Cqb_m7lce"
      },
      "outputs": [],
      "source": [
        "!pip install langchain google-cloud-aiplatform google-auth neo4j > /dev/null"
      ]
    },
    {
      "cell_type": "code",
      "source": [
        "from neo4j import GraphDatabase\n",
        "host = 'bolt://34.16.150.220:7687'\n",
        "user = 'neo4j'\n",
        "password = 'password'\n",
        "driver = GraphDatabase.driver(host,auth=(user, password))"
      ],
      "metadata": {
        "id": "F92Ja6CsdDTE"
      },
      "execution_count": 3,
      "outputs": []
    },
    {
      "cell_type": "code",
      "source": [
        "def run_query(query, params={}):\n",
        "    with driver.session() as session:\n",
        "        result = session.run(query, params)\n",
        "        return result.to_df()"
      ],
      "metadata": {
        "id": "eknzdRBJdDXc"
      },
      "execution_count": 4,
      "outputs": []
    },
    {
      "cell_type": "code",
      "source": [
        "context_01 = run_query(\"\"\"\n",
        "MATCH (m:Movie)\n",
        "MATCH (m)-[r:ACTED_IN|DIRECTED]-(t)\n",
        "WITH m, type(r) as type, collect(t.name) as names\n",
        "WITH m, type+\": \"+reduce(s=\"\", n IN names | s + n + \", \") as types\n",
        "WITH m, collect(types) as contexts\n",
        "WITH m, \"Movie title: \"+ m.title + \" year: \"+coalesce(m.released,\"\") +\" plot: \"+ coalesce(m.tagline,\"\")+\"\\n\" +\n",
        "       reduce(s=\"\", c in contexts | s + substring(c, 0, size(c)-2) +\"\\n\") as context\n",
        "RETURN context LIMIT 1\n",
        "\"\"\")"
      ],
      "metadata": {
        "id": "ikx_KadGdDbo"
      },
      "execution_count": 5,
      "outputs": []
    },
    {
      "cell_type": "code",
      "source": [
        "context_01['context'][0]"
      ],
      "metadata": {
        "colab": {
          "base_uri": "https://localhost:8080/",
          "height": 53
        },
        "id": "XZ4DU0O4dDiw",
        "outputId": "dbad4451-c19d-498d-ce0a-33eda27e2a55"
      },
      "execution_count": 6,
      "outputs": [
        {
          "output_type": "execute_result",
          "data": {
            "text/plain": [
              "'Movie title: The Matrix year: 1999 plot: Welcome to the Real World\\nACTED_IN: Emil Eifrem, Hugo Weaving, Laurence Fishburne, Carrie-Anne Moss, Keanu Reeves\\nDIRECTED: Lana Wachowski, Lilly Wachowski\\n'"
            ],
            "application/vnd.google.colaboratory.intrinsic+json": {
              "type": "string"
            }
          },
          "metadata": {},
          "execution_count": 6
        }
      ]
    },
    {
      "cell_type": "code",
      "source": [
        "run_query(\"\"\"\n",
        "CALL apoc.periodic.iterate(\n",
        "  'MATCH (m:Movie) RETURN id(m) AS id',\n",
        "  'MATCH (m:Movie)\n",
        "   WHERE id(m) = id\n",
        "   MATCH (m)-[r:ACTED_IN|DIRECTED]-(t)\n",
        "   WITH m, type(r) as type, collect(t.name) as names\n",
        "   WITH m, type+\": \"+reduce(s=\"\", n IN names | s + n + \", \") as types\n",
        "   WITH m, collect(types) as contexts\n",
        "   WITH m, \"Movie title: \"+ m.title + \" year: \"+coalesce(m.released,\"\") +\" plot: \"+ coalesce(m.tagline,\"\")+\"\\n\" +\n",
        "        reduce(s=\"\", c in contexts | s + substring(c, 0, size(c)-2) +\"\\n\") as context\n",
        "   CALL apoc.ml.vertexai.embedding([context], $access_token, $project) YIELD embedding\n",
        "   SET m.embedding = embedding',\n",
        "  {batchSize:1, retries:3, params: {access_token: $access_token,\n",
        "  project: $project}})\n",
        "\"\"\", {'access_token': \"\",\n",
        "      'project':''})"
      ],
      "metadata": {
        "colab": {
          "base_uri": "https://localhost:8080/",
          "height": 197
        },
        "id": "qnLxsPwldDpd",
        "outputId": "aa013f60-7429-4b1e-a55a-05160c7bab30"
      },
      "execution_count": 14,
      "outputs": [
        {
          "output_type": "execute_result",
          "data": {
            "text/plain": [
              "   batches  total  timeTaken  committedOperations  failedOperations  \\\n",
              "0       38     38          4                   38                 0   \n",
              "\n",
              "   failedBatches  retries errorMessages  \\\n",
              "0              0        0            {}   \n",
              "\n",
              "                                               batch  \\\n",
              "0  {'total': 38, 'committed': 38, 'failed': 0, 'e...   \n",
              "\n",
              "                                          operations  wasTerminated  \\\n",
              "0  {'total': 38, 'committed': 38, 'failed': 0, 'e...          False   \n",
              "\n",
              "  failedParams                                   updateStatistics  \n",
              "0           {}  {'nodesDeleted': 0, 'labelsAdded': 0, 'relatio...  "
            ],
            "text/html": [
              "\n",
              "  <div id=\"df-f03f385c-dcf3-4c21-82b5-97eaa779b181\">\n",
              "    <div class=\"colab-df-container\">\n",
              "      <div>\n",
              "<style scoped>\n",
              "    .dataframe tbody tr th:only-of-type {\n",
              "        vertical-align: middle;\n",
              "    }\n",
              "\n",
              "    .dataframe tbody tr th {\n",
              "        vertical-align: top;\n",
              "    }\n",
              "\n",
              "    .dataframe thead th {\n",
              "        text-align: right;\n",
              "    }\n",
              "</style>\n",
              "<table border=\"1\" class=\"dataframe\">\n",
              "  <thead>\n",
              "    <tr style=\"text-align: right;\">\n",
              "      <th></th>\n",
              "      <th>batches</th>\n",
              "      <th>total</th>\n",
              "      <th>timeTaken</th>\n",
              "      <th>committedOperations</th>\n",
              "      <th>failedOperations</th>\n",
              "      <th>failedBatches</th>\n",
              "      <th>retries</th>\n",
              "      <th>errorMessages</th>\n",
              "      <th>batch</th>\n",
              "      <th>operations</th>\n",
              "      <th>wasTerminated</th>\n",
              "      <th>failedParams</th>\n",
              "      <th>updateStatistics</th>\n",
              "    </tr>\n",
              "  </thead>\n",
              "  <tbody>\n",
              "    <tr>\n",
              "      <th>0</th>\n",
              "      <td>38</td>\n",
              "      <td>38</td>\n",
              "      <td>4</td>\n",
              "      <td>38</td>\n",
              "      <td>0</td>\n",
              "      <td>0</td>\n",
              "      <td>0</td>\n",
              "      <td>{}</td>\n",
              "      <td>{'total': 38, 'committed': 38, 'failed': 0, 'e...</td>\n",
              "      <td>{'total': 38, 'committed': 38, 'failed': 0, 'e...</td>\n",
              "      <td>False</td>\n",
              "      <td>{}</td>\n",
              "      <td>{'nodesDeleted': 0, 'labelsAdded': 0, 'relatio...</td>\n",
              "    </tr>\n",
              "  </tbody>\n",
              "</table>\n",
              "</div>\n",
              "      <button class=\"colab-df-convert\" onclick=\"convertToInteractive('df-f03f385c-dcf3-4c21-82b5-97eaa779b181')\"\n",
              "              title=\"Convert this dataframe to an interactive table.\"\n",
              "              style=\"display:none;\">\n",
              "        \n",
              "  <svg xmlns=\"http://www.w3.org/2000/svg\" height=\"24px\"viewBox=\"0 0 24 24\"\n",
              "       width=\"24px\">\n",
              "    <path d=\"M0 0h24v24H0V0z\" fill=\"none\"/>\n",
              "    <path d=\"M18.56 5.44l.94 2.06.94-2.06 2.06-.94-2.06-.94-.94-2.06-.94 2.06-2.06.94zm-11 1L8.5 8.5l.94-2.06 2.06-.94-2.06-.94L8.5 2.5l-.94 2.06-2.06.94zm10 10l.94 2.06.94-2.06 2.06-.94-2.06-.94-.94-2.06-.94 2.06-2.06.94z\"/><path d=\"M17.41 7.96l-1.37-1.37c-.4-.4-.92-.59-1.43-.59-.52 0-1.04.2-1.43.59L10.3 9.45l-7.72 7.72c-.78.78-.78 2.05 0 2.83L4 21.41c.39.39.9.59 1.41.59.51 0 1.02-.2 1.41-.59l7.78-7.78 2.81-2.81c.8-.78.8-2.07 0-2.86zM5.41 20L4 18.59l7.72-7.72 1.47 1.35L5.41 20z\"/>\n",
              "  </svg>\n",
              "      </button>\n",
              "      \n",
              "  <style>\n",
              "    .colab-df-container {\n",
              "      display:flex;\n",
              "      flex-wrap:wrap;\n",
              "      gap: 12px;\n",
              "    }\n",
              "\n",
              "    .colab-df-convert {\n",
              "      background-color: #E8F0FE;\n",
              "      border: none;\n",
              "      border-radius: 50%;\n",
              "      cursor: pointer;\n",
              "      display: none;\n",
              "      fill: #1967D2;\n",
              "      height: 32px;\n",
              "      padding: 0 0 0 0;\n",
              "      width: 32px;\n",
              "    }\n",
              "\n",
              "    .colab-df-convert:hover {\n",
              "      background-color: #E2EBFA;\n",
              "      box-shadow: 0px 1px 2px rgba(60, 64, 67, 0.3), 0px 1px 3px 1px rgba(60, 64, 67, 0.15);\n",
              "      fill: #174EA6;\n",
              "    }\n",
              "\n",
              "    [theme=dark] .colab-df-convert {\n",
              "      background-color: #3B4455;\n",
              "      fill: #D2E3FC;\n",
              "    }\n",
              "\n",
              "    [theme=dark] .colab-df-convert:hover {\n",
              "      background-color: #434B5C;\n",
              "      box-shadow: 0px 1px 3px 1px rgba(0, 0, 0, 0.15);\n",
              "      filter: drop-shadow(0px 1px 2px rgba(0, 0, 0, 0.3));\n",
              "      fill: #FFFFFF;\n",
              "    }\n",
              "  </style>\n",
              "\n",
              "      <script>\n",
              "        const buttonEl =\n",
              "          document.querySelector('#df-f03f385c-dcf3-4c21-82b5-97eaa779b181 button.colab-df-convert');\n",
              "        buttonEl.style.display =\n",
              "          google.colab.kernel.accessAllowed ? 'block' : 'none';\n",
              "\n",
              "        async function convertToInteractive(key) {\n",
              "          const element = document.querySelector('#df-f03f385c-dcf3-4c21-82b5-97eaa779b181');\n",
              "          const dataTable =\n",
              "            await google.colab.kernel.invokeFunction('convertToInteractive',\n",
              "                                                     [key], {});\n",
              "          if (!dataTable) return;\n",
              "\n",
              "          const docLinkHtml = 'Like what you see? Visit the ' +\n",
              "            '<a target=\"_blank\" href=https://colab.research.google.com/notebooks/data_table.ipynb>data table notebook</a>'\n",
              "            + ' to learn more about interactive tables.';\n",
              "          element.innerHTML = '';\n",
              "          dataTable['output_type'] = 'display_data';\n",
              "          await google.colab.output.renderOutput(dataTable, element);\n",
              "          const docLink = document.createElement('div');\n",
              "          docLink.innerHTML = docLinkHtml;\n",
              "          element.appendChild(docLink);\n",
              "        }\n",
              "      </script>\n",
              "    </div>\n",
              "  </div>\n",
              "  "
            ]
          },
          "metadata": {},
          "execution_count": 14
        }
      ]
    },
    {
      "cell_type": "code",
      "source": [
        "system_prompt = \"\"\"\n",
        "You are an assistant that helps to generate text to form nice and human understandable answers based.\n",
        "The latest prompt contains the information, and you need to generate a human readable response based on the given information.\n",
        "Make the answer sound as a response to the question. Do not mention that you based the result on the given information.\n",
        "Do not add any additional information that is not explicitly provided in the latest prompt.\n",
        "I repeat, do not add any information that is not explicitly given.\n",
        "\"\"\""
      ],
      "metadata": {
        "id": "AZbS2U_UnfMr"
      },
      "execution_count": 8,
      "outputs": []
    },
    {
      "cell_type": "code",
      "source": [
        "def generate_user_prompt(question, context):\n",
        "    return f\"\"\"\n",
        "   The question is {question}\n",
        "   Answer the question by using the provided information:\n",
        "   {context}\n",
        "   \"\"\""
      ],
      "metadata": {
        "id": "vnMH8Pi_nfKN"
      },
      "execution_count": 9,
      "outputs": []
    },
    {
      "cell_type": "code",
      "source": [
        "def retrieve_context(question, k=3):\n",
        "    data = run_query(f\"\"\"\n",
        "CALL apoc.ml.vertexai.embedding(['{question}'],\n",
        "                                '',\n",
        "                                '')\n",
        "YIELD embedding\n",
        "MATCH (m:Movie)\n",
        "WITH m, gds.similarity.cosine(embedding, m.embedding) AS score\n",
        "ORDER BY score DESC\n",
        "LIMIT 3\n",
        "MATCH (m)--()--(m1:Movie)\n",
        "WITH m,m1, count(*) AS count\n",
        "ORDER BY count DESC\n",
        "WITH m, apoc.text.join(collect(m1.title)[..3], \", \") AS similarMovies\n",
        "MATCH (m)-[r:ACTED_IN|DIRECTED]-(t)\n",
        "WITH m, similarMovies, type(r) as type, collect(t.name) as names\n",
        "WITH m, similarMovies, type+\": \"+reduce(s=\"\", n IN names | s + n + \", \") as types\n",
        "WITH m, similarMovies, collect(types) as contexts\n",
        "WITH m, \"Movie title: \"+ m.title + \" year: \"+coalesce(m.released,\"\") +\" plot: \"+ coalesce(m.tagline,\"\")+\"\\n\" +\n",
        "reduce(s=\"\", c in contexts | s + substring(c, 0, size(c)-2) +\"\\n\") + \"similar movies:\" + similarMovies + \"\\n\" as context\n",
        "RETURN context\n",
        "  \"\"\")\n",
        "    return data[\"context\"].to_list()"
      ],
      "metadata": {
        "id": "HlaOJxwDnfH5"
      },
      "execution_count": 16,
      "outputs": []
    },
    {
      "cell_type": "code",
      "source": [
        "def generate_answer(question):\n",
        "    # Retrieve context\n",
        "    context = retrieve_context(question)\n",
        "    # Print context\n",
        "    for c in context:\n",
        "        print(c)\n",
        "    # Generate answer\n",
        "    response = run_query(\"\"\"\n",
        "CALL apoc.ml.vertexai.completion($user,$apiKey,$project)\n",
        "YIELD value\n",
        "RETURN value.choices[0].message.content AS answer\n",
        "  \"\"\",\n",
        "        {\n",
        "            \"user\": generate_user_prompt(question, context),\n",
        "            \"apiKey\": access_token,\n",
        "            \"project\":project\n",
        "        },\n",
        "    )\n",
        "    return response[\"answer\"][0]"
      ],
      "metadata": {
        "id": "imyzTR4ynfFV"
      },
      "execution_count": 12,
      "outputs": []
    },
    {
      "cell_type": "code",
      "source": [
        "run_query(\"\"\"\n",
        "CALL apoc.ml.vertexai.embedding(['Who played matrix'],\n",
        "                                '',\n",
        "                                '')\n",
        "YIELD embedding\"\"\")"
      ],
      "metadata": {
        "colab": {
          "base_uri": "https://localhost:8080/",
          "height": 81
        },
        "id": "OCKEy86GtVcn",
        "outputId": "c46620ef-d8af-4bf0-e35e-d2f624904eed"
      },
      "execution_count": 18,
      "outputs": [
        {
          "output_type": "execute_result",
          "data": {
            "text/plain": [
              "                                           embedding\n",
              "0  [0.015150133520364761, -0.026424551382660866, ..."
            ],
            "text/html": [
              "\n",
              "  <div id=\"df-18f82755-2911-4aad-9aa5-7cbf0334c9b6\">\n",
              "    <div class=\"colab-df-container\">\n",
              "      <div>\n",
              "<style scoped>\n",
              "    .dataframe tbody tr th:only-of-type {\n",
              "        vertical-align: middle;\n",
              "    }\n",
              "\n",
              "    .dataframe tbody tr th {\n",
              "        vertical-align: top;\n",
              "    }\n",
              "\n",
              "    .dataframe thead th {\n",
              "        text-align: right;\n",
              "    }\n",
              "</style>\n",
              "<table border=\"1\" class=\"dataframe\">\n",
              "  <thead>\n",
              "    <tr style=\"text-align: right;\">\n",
              "      <th></th>\n",
              "      <th>embedding</th>\n",
              "    </tr>\n",
              "  </thead>\n",
              "  <tbody>\n",
              "    <tr>\n",
              "      <th>0</th>\n",
              "      <td>[0.015150133520364761, -0.026424551382660866, ...</td>\n",
              "    </tr>\n",
              "  </tbody>\n",
              "</table>\n",
              "</div>\n",
              "      <button class=\"colab-df-convert\" onclick=\"convertToInteractive('df-18f82755-2911-4aad-9aa5-7cbf0334c9b6')\"\n",
              "              title=\"Convert this dataframe to an interactive table.\"\n",
              "              style=\"display:none;\">\n",
              "        \n",
              "  <svg xmlns=\"http://www.w3.org/2000/svg\" height=\"24px\"viewBox=\"0 0 24 24\"\n",
              "       width=\"24px\">\n",
              "    <path d=\"M0 0h24v24H0V0z\" fill=\"none\"/>\n",
              "    <path d=\"M18.56 5.44l.94 2.06.94-2.06 2.06-.94-2.06-.94-.94-2.06-.94 2.06-2.06.94zm-11 1L8.5 8.5l.94-2.06 2.06-.94-2.06-.94L8.5 2.5l-.94 2.06-2.06.94zm10 10l.94 2.06.94-2.06 2.06-.94-2.06-.94-.94-2.06-.94 2.06-2.06.94z\"/><path d=\"M17.41 7.96l-1.37-1.37c-.4-.4-.92-.59-1.43-.59-.52 0-1.04.2-1.43.59L10.3 9.45l-7.72 7.72c-.78.78-.78 2.05 0 2.83L4 21.41c.39.39.9.59 1.41.59.51 0 1.02-.2 1.41-.59l7.78-7.78 2.81-2.81c.8-.78.8-2.07 0-2.86zM5.41 20L4 18.59l7.72-7.72 1.47 1.35L5.41 20z\"/>\n",
              "  </svg>\n",
              "      </button>\n",
              "      \n",
              "  <style>\n",
              "    .colab-df-container {\n",
              "      display:flex;\n",
              "      flex-wrap:wrap;\n",
              "      gap: 12px;\n",
              "    }\n",
              "\n",
              "    .colab-df-convert {\n",
              "      background-color: #E8F0FE;\n",
              "      border: none;\n",
              "      border-radius: 50%;\n",
              "      cursor: pointer;\n",
              "      display: none;\n",
              "      fill: #1967D2;\n",
              "      height: 32px;\n",
              "      padding: 0 0 0 0;\n",
              "      width: 32px;\n",
              "    }\n",
              "\n",
              "    .colab-df-convert:hover {\n",
              "      background-color: #E2EBFA;\n",
              "      box-shadow: 0px 1px 2px rgba(60, 64, 67, 0.3), 0px 1px 3px 1px rgba(60, 64, 67, 0.15);\n",
              "      fill: #174EA6;\n",
              "    }\n",
              "\n",
              "    [theme=dark] .colab-df-convert {\n",
              "      background-color: #3B4455;\n",
              "      fill: #D2E3FC;\n",
              "    }\n",
              "\n",
              "    [theme=dark] .colab-df-convert:hover {\n",
              "      background-color: #434B5C;\n",
              "      box-shadow: 0px 1px 3px 1px rgba(0, 0, 0, 0.15);\n",
              "      filter: drop-shadow(0px 1px 2px rgba(0, 0, 0, 0.3));\n",
              "      fill: #FFFFFF;\n",
              "    }\n",
              "  </style>\n",
              "\n",
              "      <script>\n",
              "        const buttonEl =\n",
              "          document.querySelector('#df-18f82755-2911-4aad-9aa5-7cbf0334c9b6 button.colab-df-convert');\n",
              "        buttonEl.style.display =\n",
              "          google.colab.kernel.accessAllowed ? 'block' : 'none';\n",
              "\n",
              "        async function convertToInteractive(key) {\n",
              "          const element = document.querySelector('#df-18f82755-2911-4aad-9aa5-7cbf0334c9b6');\n",
              "          const dataTable =\n",
              "            await google.colab.kernel.invokeFunction('convertToInteractive',\n",
              "                                                     [key], {});\n",
              "          if (!dataTable) return;\n",
              "\n",
              "          const docLinkHtml = 'Like what you see? Visit the ' +\n",
              "            '<a target=\"_blank\" href=https://colab.research.google.com/notebooks/data_table.ipynb>data table notebook</a>'\n",
              "            + ' to learn more about interactive tables.';\n",
              "          element.innerHTML = '';\n",
              "          dataTable['output_type'] = 'display_data';\n",
              "          await google.colab.output.renderOutput(dataTable, element);\n",
              "          const docLink = document.createElement('div');\n",
              "          docLink.innerHTML = docLinkHtml;\n",
              "          element.appendChild(docLink);\n",
              "        }\n",
              "      </script>\n",
              "    </div>\n",
              "  </div>\n",
              "  "
            ]
          },
          "metadata": {},
          "execution_count": 18
        }
      ]
    },
    {
      "cell_type": "code",
      "source": [
        "retrieve_context('Who played in the Matrix?')"
      ],
      "metadata": {
        "colab": {
          "base_uri": "https://localhost:8080/"
        },
        "id": "8YuFlxPnpals",
        "outputId": "5c1437d1-57ba-4219-c9e8-9699f8edb964"
      },
      "execution_count": 19,
      "outputs": [
        {
          "output_type": "execute_result",
          "data": {
            "text/plain": [
              "['Movie title: The Matrix year: 1999 plot: Welcome to the Real World\\nACTED_IN: Emil Eifrem, Hugo Weaving, Laurence Fishburne, Carrie-Anne Moss, Keanu Reeves\\nDIRECTED: Lana Wachowski, Lilly Wachowski\\nsimilar movies:The Matrix Revolutions, The Matrix Reloaded, V for Vendetta\\n',\n",
              " 'Movie title: The Matrix Reloaded year: 2003 plot: Free your mind\\nDIRECTED: Lana Wachowski, Lilly Wachowski\\nACTED_IN: Hugo Weaving, Laurence Fishburne, Carrie-Anne Moss, Keanu Reeves\\nsimilar movies:The Matrix Revolutions, The Matrix, V for Vendetta\\n',\n",
              " 'Movie title: The Matrix Revolutions year: 2003 plot: Everything that has a beginning has an end\\nDIRECTED: Lana Wachowski, Lilly Wachowski\\nACTED_IN: Hugo Weaving, Laurence Fishburne, Carrie-Anne Moss, Keanu Reeves\\nsimilar movies:The Matrix Reloaded, The Matrix, V for Vendetta\\n']"
            ]
          },
          "metadata": {},
          "execution_count": 19
        }
      ]
    },
    {
      "cell_type": "code",
      "source": [
        "output = generate_answer(\"Who played in the Matrix?\")"
      ],
      "metadata": {
        "id": "YG2vceNzoolJ"
      },
      "execution_count": null,
      "outputs": []
    }
  ]
}