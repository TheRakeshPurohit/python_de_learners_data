{
  "cells": [
    {
      "cell_type": "code",
      "source": [
        "!pip install langchain google-cloud-aiplatform google-auth neo4j > /dev/null"
      ],
      "metadata": {
        "id": "8dStIo9StYf3"
      },
      "id": "8dStIo9StYf3",
      "execution_count": null,
      "outputs": []
    },
    {
      "cell_type": "code",
      "execution_count": null,
      "id": "9236b0d2",
      "metadata": {
        "id": "9236b0d2"
      },
      "outputs": [],
      "source": [
        "import os\n",
        "\n",
        "from langchain.chat_models import ChatVertexAI\n",
        "from langchain.chains import GraphCypherQAChain\n",
        "\n",
        "os.environ['GOOGLE_APPLICATION_CREDENTIALS'] = \"/run/media/solverbot/repoA/gitFolders/generativeaitrial-trialLC.json\""
      ]
    },
    {
      "cell_type": "code",
      "execution_count": 6,
      "id": "a07036b3",
      "metadata": {
        "id": "a07036b3"
      },
      "outputs": [],
      "source": [
        "from langchain.chat_models import ChatVertexAI\n",
        "from langchain.chains import GraphCypherQAChain\n",
        "from langchain.graphs import Neo4jGraph"
      ]
    },
    {
      "cell_type": "code",
      "execution_count": 8,
      "id": "96c9c77b",
      "metadata": {
        "id": "96c9c77b"
      },
      "outputs": [],
      "source": [
        "graph = Neo4jGraph(\n",
        "    url=\"bolt://35.171.193.91:7687\",\n",
        "    username=\"langc\",\n",
        "    password=\"password\"\n",
        ")"
      ]
    },
    {
      "cell_type": "code",
      "execution_count": 9,
      "id": "d932338c",
      "metadata": {
        "id": "d932338c"
      },
      "outputs": [],
      "source": [
        "chain = GraphCypherQAChain.from_llm(\n",
        "    ChatVertexAI(temperature=0),\n",
        "    graph=graph,\n",
        "    verbose=True\n",
        ")"
      ]
    },
    {
      "cell_type": "code",
      "execution_count": 11,
      "id": "4e882bd7",
      "metadata": {
        "id": "4e882bd7",
        "outputId": "904ec1f9-c7d9-4873-c8cb-10217014b8a2",
        "colab": {
          "base_uri": "https://localhost:8080/",
          "height": 246
        }
      },
      "outputs": [
        {
          "output_type": "stream",
          "name": "stdout",
          "text": [
            "\n",
            "\n",
            "\u001b[1m> Entering new  chain...\u001b[0m\n",
            "Generated Cypher:\n",
            "\u001b[32;1m\u001b[1;3mMATCH (o:Order)-[:CONTAINS]->(p:Product) RETURN o.shipName, count(p)\u001b[0m\n",
            "Full Context:\n",
            "\u001b[32;1m\u001b[1;3m[{'o.shipName': 'Save-a-lot Markets', 'count(p)': 116}, {'o.shipName': 'Bottom-Dollar Markets', 'count(p)': 35}, {'o.shipName': 'Tortuga Restaurante', 'count(p)': 29}, {'o.shipName': 'Wellington Importadora', 'count(p)': 19}, {'o.shipName': 'Berglunds snabbköp', 'count(p)': 52}, {'o.shipName': 'Chop-suey Chinese', 'count(p)': 22}, {'o.shipName': 'HILARION-Abastos', 'count(p)': 45}, {'o.shipName': 'LINO-Delicateses', 'count(p)': 35}, {'o.shipName': 'Mère Paillarde', 'count(p)': 32}, {'o.shipName': 'Du monde entier', 'count(p)': 9}]\u001b[0m\n",
            "\n",
            "\u001b[1m> Finished chain.\u001b[0m\n"
          ]
        },
        {
          "output_type": "execute_result",
          "data": {
            "text/plain": [
              "'Save-a-lot Markets purchased 116 products, Bottom-Dollar Markets purchased 35 products, Tortuga Restaurante purchased 29 products, Wellington Importadora purchased 19 products, Berglunds snabbköp purchased 52 products, Chop-suey Chinese purchased 22 products, HILARION-Abastos purchased 45 products, LINO-Delicateses purchased 35 products, Mère Paillarde purchased 32 products, and Du monde entier purchased 9 products.'"
            ],
            "application/vnd.google.colaboratory.intrinsic+json": {
              "type": "string"
            }
          },
          "metadata": {},
          "execution_count": 11
        }
      ],
      "source": [
        "chain.run(\"How many products did each customer purchase?\")"
      ]
    },
    {
      "cell_type": "code",
      "execution_count": null,
      "id": "2fc529db",
      "metadata": {
        "id": "2fc529db",
        "outputId": "63dcd5d2-a5e4-48a0-9836-60d392f8ecff"
      },
      "outputs": [
        {
          "name": "stdout",
          "output_type": "stream",
          "text": [
            "\n",
            "\n",
            "\u001b[1m> Entering new GraphCypherQAChain chain...\u001b[0m\n",
            "Generated Cypher:\n",
            "\u001b[32;1m\u001b[1;3mMATCH (c:Customer)-[:PURCHASED]->(o:Order) RETURN c.customerID, o.orderID\u001b[0m\n",
            "Full Context:\n",
            "\u001b[32;1m\u001b[1;3m[{'c.customerID': 'ALFKI', 'o.orderID': '10702'}, {'c.customerID': 'ALFKI', 'o.orderID': '11011'}, {'c.customerID': 'ALFKI', 'o.orderID': '10643'}, {'c.customerID': 'ALFKI', 'o.orderID': '10952'}, {'c.customerID': 'ALFKI', 'o.orderID': '10835'}, {'c.customerID': 'ALFKI', 'o.orderID': '10692'}, {'c.customerID': 'ANATR', 'o.orderID': '10625'}, {'c.customerID': 'ANATR', 'o.orderID': '10308'}, {'c.customerID': 'ANATR', 'o.orderID': '10759'}, {'c.customerID': 'ANATR', 'o.orderID': '10926'}, {'c.customerID': 'ANTON', 'o.orderID': '10856'}, {'c.customerID': 'ANTON', 'o.orderID': '10682'}, {'c.customerID': 'ANTON', 'o.orderID': '10365'}, {'c.customerID': 'ANTON', 'o.orderID': '10573'}, {'c.customerID': 'ANTON', 'o.orderID': '10677'}, {'c.customerID': 'ANTON', 'o.orderID': '10507'}, {'c.customerID': 'ANTON', 'o.orderID': '10535'}, {'c.customerID': 'AROUT', 'o.orderID': '10741'}, {'c.customerID': 'AROUT', 'o.orderID': '10743'}, {'c.customerID': 'AROUT', 'o.orderID': '10707'}, {'c.customerID': 'AROUT', 'o.orderID': '10953'}, {'c.customerID': 'AROUT', 'o.orderID': '10453'}, {'c.customerID': 'AROUT', 'o.orderID': '10920'}, {'c.customerID': 'AROUT', 'o.orderID': '10768'}, {'c.customerID': 'AROUT', 'o.orderID': '10383'}, {'c.customerID': 'AROUT', 'o.orderID': '10793'}, {'c.customerID': 'AROUT', 'o.orderID': '10864'}, {'c.customerID': 'AROUT', 'o.orderID': '11016'}, {'c.customerID': 'AROUT', 'o.orderID': '10558'}, {'c.customerID': 'AROUT', 'o.orderID': '10355'}, {'c.customerID': 'BERGS', 'o.orderID': '10280'}, {'c.customerID': 'BERGS', 'o.orderID': '10778'}, {'c.customerID': 'BERGS', 'o.orderID': '10444'}, {'c.customerID': 'BERGS', 'o.orderID': '10672'}, {'c.customerID': 'BERGS', 'o.orderID': '10875'}, {'c.customerID': 'BERGS', 'o.orderID': '10384'}, {'c.customerID': 'BERGS', 'o.orderID': '10626'}, {'c.customerID': 'BERGS', 'o.orderID': '10278'}, {'c.customerID': 'BERGS', 'o.orderID': '10689'}, {'c.customerID': 'BERGS', 'o.orderID': '10866'}, {'c.customerID': 'BERGS', 'o.orderID': '10572'}, {'c.customerID': 'BERGS', 'o.orderID': '10445'}, {'c.customerID': 'BERGS', 'o.orderID': '10524'}, {'c.customerID': 'BERGS', 'o.orderID': '10924'}, {'c.customerID': 'BERGS', 'o.orderID': '10654'}, {'c.customerID': 'BERGS', 'o.orderID': '10837'}, {'c.customerID': 'BERGS', 'o.orderID': '10857'}, {'c.customerID': 'BERGS', 'o.orderID': '10733'}, {'c.customerID': 'BLAUS', 'o.orderID': '10853'}, {'c.customerID': 'BLAUS', 'o.orderID': '10582'}]\u001b[0m\n",
            "\n",
            "\u001b[1m> Finished chain.\u001b[0m\n"
          ]
        },
        {
          "data": {
            "text/plain": [
              "'The following relationships between customers and orders have been created based on customerID:\\n\\nALFKI 10702\\nALFKI 11011\\nALFKI 10643\\nALFKI 10952\\nALFKI 10835\\nALFKI 10692\\nANATR 10625\\nANATR 10308\\nANATR 10759\\nANATR 10926\\nANTON 10856\\nANTON 106'"
            ]
          },
          "execution_count": 7,
          "metadata": {},
          "output_type": "execute_result"
        }
      ],
      "source": [
        "chain.run(\"Create relationships between customers and orders based on customerID?\")"
      ]
    },
    {
      "cell_type": "code",
      "execution_count": 13,
      "id": "76fa5df4",
      "metadata": {
        "id": "76fa5df4"
      },
      "outputs": [],
      "source": [
        "# https://github.com/hwchase17/langchain/blob/master/langchain/chains/graph_qa/prompts.py\n",
        "from langchain.prompts.prompt import PromptTemplate\n",
        "\n",
        "\n",
        "CYPHER_GENERATION_TEMPLATE = \"\"\"Task:Generate Cypher statement to query a graph database.\n",
        "Instructions:\n",
        "Use only the provided relationship types and properties in the schema.\n",
        "Do not use any other relationship types or properties that are not provided.\n",
        "Schema:\n",
        "{schema}\n",
        "Cypher examples:\n",
        "# How many streamers are from Norway?\n",
        "MATCH (s:Stream)-[:HAS_LANGUAGE]->(:Language {{name: 'no'}})\n",
        "RETURN count(s) AS streamers\n",
        "# How many products did each customer purchase?\n",
        "MATCH (cust:Customer)-[:PURCHASED]->(:Order)-[o:ORDERS]->(p:Product),\n",
        "  (p)-[:PART_OF]->(c:Category {{categoryName:\"Produce\"}})\n",
        "RETURN DISTINCT cust.contactName as CustomerName, SUM(o.quantity) AS TotalProductsPurchased\n",
        "# What categories of food does each supplier supply?\n",
        "MATCH (s:Supplier)-->(:Product)-->(c:Category)\n",
        "RETURN s.companyName as Company, collect(distinct c.categoryName) as Categories\n",
        "\n",
        "Note: Do not include any explanations or apologies in your responses.\n",
        "Do not respond to any questions that might ask anything else than for you to construct a Cypher statement.\n",
        "Do not include any text except the generated Cypher statement.\n",
        "\n",
        "The question is:\n",
        "{question}\"\"\"\n",
        "CYPHER_GENERATION_PROMPT = PromptTemplate(\n",
        "    input_variables=[\"schema\", \"question\"], template=CYPHER_GENERATION_TEMPLATE\n",
        ")"
      ]
    },
    {
      "cell_type": "code",
      "execution_count": 14,
      "id": "866a47d7",
      "metadata": {
        "id": "866a47d7"
      },
      "outputs": [],
      "source": [
        "chain_language_example = GraphCypherQAChain.from_llm(\n",
        "    ChatVertexAI(temperature=0), graph=graph, verbose=True,\n",
        "    cypher_prompt=CYPHER_GENERATION_PROMPT\n",
        ")"
      ]
    },
    {
      "cell_type": "code",
      "execution_count": 15,
      "id": "47544295",
      "metadata": {
        "id": "47544295",
        "outputId": "0e5d1f63-511b-4d42-fa3b-9981f260b9bb",
        "colab": {
          "base_uri": "https://localhost:8080/",
          "height": 229
        }
      },
      "outputs": [
        {
          "output_type": "stream",
          "name": "stdout",
          "text": [
            "\n",
            "\n",
            "\u001b[1m> Entering new  chain...\u001b[0m\n",
            "Generated Cypher:\n",
            "\u001b[32;1m\u001b[1;3mMATCH (p:Product) RETURN p.productName as Product\u001b[0m\n",
            "Full Context:\n",
            "\u001b[32;1m\u001b[1;3m[{'Product': 'Chai'}, {'Product': 'Chang'}, {'Product': 'Aniseed Syrup'}, {'Product': \"Chef Anton's Cajun Seasoning\"}, {'Product': \"Chef Anton's Gumbo Mix\"}, {'Product': \"Grandma's Boysenberry Spread\"}, {'Product': \"Uncle Bob's Organic Dried Pears\"}, {'Product': 'Northwoods Cranberry Sauce'}, {'Product': 'Mishi Kobe Niku'}, {'Product': 'Ikura'}]\u001b[0m\n",
            "\n",
            "\u001b[1m> Finished chain.\u001b[0m\n"
          ]
        },
        {
          "output_type": "execute_result",
          "data": {
            "text/plain": [
              "\"The various products supplied are Chai, Chang, Aniseed Syrup, Chef Anton's Cajun Seasoning, Chef Anton's Gumbo Mix, Grandma's Boysenberry Spread, Uncle Bob's Organic Dried Pears, Northwoods Cranberry Sauce, Mishi Kobe Niku, and Ikura.\""
            ],
            "application/vnd.google.colaboratory.intrinsic+json": {
              "type": "string"
            }
          },
          "metadata": {},
          "execution_count": 15
        }
      ],
      "source": [
        "chain_language_example.run(\"\"\"\n",
        "What are the various products supplied?\n",
        "\"\"\")"
      ]
    },
    {
      "cell_type": "code",
      "execution_count": null,
      "id": "2cabcc99",
      "metadata": {
        "id": "2cabcc99",
        "outputId": "b9355e25-b690-486a-d405-772a65e210f2"
      },
      "outputs": [
        {
          "name": "stdout",
          "output_type": "stream",
          "text": [
            "\n",
            "\n",
            "\u001b[1m> Entering new GraphCypherQAChain chain...\u001b[0m\n",
            "Generated Cypher:\n",
            "\u001b[32;1m\u001b[1;3mMATCH (p:Product {productName: \"Northwoods Cranberry Sauce\"})-[:PART_OF]->(c:Category {categoryName: \"Produce\"})-[:SUPPLIES]->(s:Supplier)\n",
            "RETURN s.companyName\u001b[0m\n",
            "Full Context:\n",
            "\u001b[32;1m\u001b[1;3m[]\u001b[0m\n",
            "\n",
            "\u001b[1m> Finished chain.\u001b[0m\n"
          ]
        },
        {
          "data": {
            "text/plain": [
              "\"I'm sorry, I can't find the produce supplier for Northwoods Cranberry Sauce.\""
            ]
          },
          "execution_count": 14,
          "metadata": {},
          "output_type": "execute_result"
        }
      ],
      "source": [
        "chain_language_example.run(\"Find the produce supplier for Northwoods Cranberry Sauce\")"
      ]
    },
    {
      "cell_type": "code",
      "execution_count": null,
      "id": "e5cd67ae",
      "metadata": {
        "id": "e5cd67ae",
        "outputId": "d2d4fc5b-6c38-4fbe-a8d5-a709be7d322d"
      },
      "outputs": [
        {
          "name": "stdout",
          "output_type": "stream",
          "text": [
            "\n",
            "\n",
            "\u001b[1m> Entering new GraphCypherQAChain chain...\u001b[0m\n",
            "Generated Cypher:\n",
            "\u001b[32;1m\u001b[1;3mMATCH (s:Supplier)-[:SUPPLIES]->(p:Product)-[:PART_OF]->(c:Category {categoryName:\"Produce\"})\n",
            "RETURN s.companyName as Company\u001b[0m\n",
            "Full Context:\n",
            "\u001b[32;1m\u001b[1;3m[{'Company': \"G'day\"}, {'Company': 'Tokyo Traders'}, {'Company': 'Plutzer Lebensmittelgroßmärkte AG'}, {'Company': \"Mayumi's\"}, {'Company': \"Grandma Kelly's Homestead\"}]\u001b[0m\n",
            "\n",
            "\u001b[1m> Finished chain.\u001b[0m\n"
          ]
        },
        {
          "data": {
            "text/plain": [
              "\"The produce suppliers are G'day, Tokyo Traders, Plutzer Lebensmittelgroßmärkte AG, Mayumi's, and Grandma Kelly's Homestead.\""
            ]
          },
          "execution_count": 15,
          "metadata": {},
          "output_type": "execute_result"
        }
      ],
      "source": [
        "chain_language_example.run(\"Find the produce suppliers\")"
      ]
    },
    {
      "cell_type": "code",
      "execution_count": null,
      "id": "9c187233",
      "metadata": {
        "id": "9c187233",
        "outputId": "d8936113-4e21-46ce-e4df-3aadf67fa5bf"
      },
      "outputs": [
        {
          "name": "stdout",
          "output_type": "stream",
          "text": [
            "\n",
            "\n",
            "\u001b[1m> Entering new GraphCypherQAChain chain...\u001b[0m\n",
            "Generated Cypher:\n",
            "\u001b[32;1m\u001b[1;3mMATCH (s:Supplier)-->(:Product)-->(c:Category)\n",
            "RETURN s.companyName as Company, collect(distinct c.categoryName) as Categories\u001b[0m\n",
            "Full Context:\n",
            "\u001b[32;1m\u001b[1;3m[{'Company': 'Exotic Liquids', 'Categories': ['Beverages', 'Condiments']}, {'Company': 'New Orleans Cajun Delights', 'Categories': ['Condiments']}, {'Company': \"Grandma Kelly's Homestead\", 'Categories': ['Produce', 'Condiments']}, {'Company': 'Tokyo Traders', 'Categories': ['Meat/Poultry', 'Produce', 'Seafood']}, {'Company': \"Cooperativa de Quesos 'Las Cabras'\", 'Categories': ['Dairy Products']}, {'Company': \"Mayumi's\", 'Categories': ['Produce', 'Seafood', 'Condiments']}, {'Company': 'Pavlova', 'Categories': ['Seafood', 'Beverages', 'Meat/Poultry', 'Condiments', 'Confections']}, {'Company': 'Specialty Biscuits', 'Categories': ['Confections']}, {'Company': 'PB Knäckebröd AB', 'Categories': ['Grains/Cereals']}, {'Company': 'Refrescos Americanas LTDA', 'Categories': ['Beverages']}, {'Company': 'Heli Süßwaren GmbH & Co. KG', 'Categories': ['Confections']}, {'Company': 'Plutzer Lebensmittelgroßmärkte AG', 'Categories': ['Meat/Poultry', 'Produce', 'Grains/Cereals', 'Beverages', 'Condiments']}, {'Company': 'Nord-Ost-Fisch Handelsgesellschaft mbH', 'Categories': ['Seafood']}, {'Company': 'Formaggi Fortini s.r.l.', 'Categories': ['Dairy Products']}, {'Company': 'Norske Meierier', 'Categories': ['Dairy Products']}, {'Company': 'Bigfoot Breweries', 'Categories': ['Beverages']}, {'Company': 'Svensk Sjöföda AB', 'Categories': ['Seafood']}, {'Company': 'Aux joyeux ecclésiastiques', 'Categories': ['Beverages']}, {'Company': 'New England Seafood Cannery', 'Categories': ['Seafood']}, {'Company': 'Leka Trading', 'Categories': ['Condiments', 'Beverages', 'Grains/Cereals']}, {'Company': 'Lyngbysild', 'Categories': ['Seafood']}, {'Company': 'Zaanse Snoepfabriek', 'Categories': ['Confections']}, {'Company': 'Karkki Oy', 'Categories': ['Confections', 'Beverages']}, {'Company': \"G'day\", 'Categories': ['Produce', 'Meat/Poultry', 'Grains/Cereals']}, {'Company': 'Ma Maison', 'Categories': ['Meat/Poultry']}, {'Company': 'Pasta Buttini s.r.l.', 'Categories': ['Grains/Cereals']}, {'Company': 'Escargots Nouveaux', 'Categories': ['Seafood']}, {'Company': 'Gai pâturage', 'Categories': ['Dairy Products']}, {'Company': \"Forêts d'érables\", 'Categories': ['Condiments', 'Confections']}]\u001b[0m\n",
            "\n",
            "\u001b[1m> Finished chain.\u001b[0m\n"
          ]
        },
        {
          "data": {
            "text/plain": [
              "\"The following is a list of the categories of food that each supplier supplies:\\n\\nExotic Liquids: Beverages, Condiments\\nNew Orleans Cajun Delights: Condiments\\nGrandma Kelly's Homestead: Produce, Condiments\\nTokyo Traders: Meat/Poultry, Produce, Seafood\\nCooperativa de Quesos 'Las Cabras': Dairy Products\\nMayumi's: Produce, Seafood, Condiments\\nPavlova: Seafood, Beverages, Meat/Poultry, Condiments, Confections\\nSpecialty Biscuits: Confections\\nPB Knäckebröd AB\""
            ]
          },
          "execution_count": 16,
          "metadata": {},
          "output_type": "execute_result"
        }
      ],
      "source": [
        "chain_language_example.run(\"What categories of food does each supplier supply?\")"
      ]
    },
    {
      "cell_type": "code",
      "execution_count": null,
      "id": "05ee90cf",
      "metadata": {
        "id": "05ee90cf",
        "outputId": "f91f44fa-5fd4-485e-a1fe-90053611344e"
      },
      "outputs": [
        {
          "name": "stdout",
          "output_type": "stream",
          "text": [
            "\n",
            "\n",
            "\u001b[1m> Entering new GraphCypherQAChain chain...\u001b[0m\n",
            "Generated Cypher:\n",
            "\u001b[32;1m\u001b[1;3mMATCH (p:Product {productName: \"Sasquatch Ale\"})-[:SUPPLIES]->(s:Supplier)\n",
            "RETURN s.companyName\u001b[0m\n",
            "Full Context:\n",
            "\u001b[32;1m\u001b[1;3m[]\u001b[0m\n",
            "\n",
            "\u001b[1m> Finished chain.\u001b[0m\n"
          ]
        },
        {
          "data": {
            "text/plain": [
              "\"I'm not sure who supplies Sasquatch Ale.\""
            ]
          },
          "execution_count": 18,
          "metadata": {},
          "output_type": "execute_result"
        }
      ],
      "source": [
        "chain_language_example.run(\"Who supplies Sasquatch Ale\")"
      ]
    },
    {
      "cell_type": "code",
      "execution_count": null,
      "id": "9e1354ed",
      "metadata": {
        "id": "9e1354ed",
        "outputId": "b4df3d94-f43a-48ef-efe2-722e12051031"
      },
      "outputs": [
        {
          "name": "stdout",
          "output_type": "stream",
          "text": [
            "\n",
            "\n",
            "\u001b[1m> Entering new GraphCypherQAChain chain...\u001b[0m\n",
            "Generated Cypher:\n",
            "\u001b[32;1m\u001b[1;3mMATCH (n) RETURN n.labels AS Labels\u001b[0m\n",
            "Full Context:\n",
            "\u001b[32;1m\u001b[1;3m[{'Labels': None}, {'Labels': None}, {'Labels': None}, {'Labels': None}, {'Labels': None}, {'Labels': None}, {'Labels': None}, {'Labels': None}, {'Labels': None}, {'Labels': None}, {'Labels': None}, {'Labels': None}, {'Labels': None}, {'Labels': None}, {'Labels': None}, {'Labels': None}, {'Labels': None}, {'Labels': None}, {'Labels': None}, {'Labels': None}, {'Labels': None}, {'Labels': None}, {'Labels': None}, {'Labels': None}, {'Labels': None}, {'Labels': None}, {'Labels': None}, {'Labels': None}, {'Labels': None}, {'Labels': None}, {'Labels': None}, {'Labels': None}, {'Labels': None}, {'Labels': None}, {'Labels': None}, {'Labels': None}, {'Labels': None}, {'Labels': None}, {'Labels': None}, {'Labels': None}, {'Labels': None}, {'Labels': None}, {'Labels': None}, {'Labels': None}, {'Labels': None}, {'Labels': None}, {'Labels': None}, {'Labels': None}, {'Labels': None}, {'Labels': None}]\u001b[0m\n",
            "\n",
            "\u001b[1m> Finished chain.\u001b[0m\n"
          ]
        },
        {
          "data": {
            "text/plain": [
              "'There are no nodes.'"
            ]
          },
          "execution_count": 19,
          "metadata": {},
          "output_type": "execute_result"
        }
      ],
      "source": [
        "chain_language_example.run(\"What kind of node exists\")"
      ]
    }
  ],
  "metadata": {
    "kernelspec": {
      "display_name": "Python 3 (ipykernel)",
      "language": "python",
      "name": "python3"
    },
    "language_info": {
      "codemirror_mode": {
        "name": "ipython",
        "version": 3
      },
      "file_extension": ".py",
      "mimetype": "text/x-python",
      "name": "python",
      "nbconvert_exporter": "python",
      "pygments_lexer": "ipython3",
      "version": "3.10.9"
    },
    "colab": {
      "provenance": []
    }
  },
  "nbformat": 4,
  "nbformat_minor": 5
}