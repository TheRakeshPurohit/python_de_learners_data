{
 "cells": [
  {
   "cell_type": "code",
   "execution_count": 1,
   "metadata": {},
   "outputs": [
    {
     "name": "stderr",
     "output_type": "stream",
     "text": [
      "d:\\argenv\\Lib\\site-packages\\argilla\\client\\client.py:178: UserWarning: No workspace configuration was detected. To work with Argilla datasets, specify a valid workspace name on `rg.init` or set it up through the `rg.set_workspace` function.\n",
      "  warnings.warn(\n"
     ]
    }
   ],
   "source": [
    "import argilla as rg\n",
    "from dotenv import load_dotenv\n",
    "load_dotenv('D:\\\\gitFolders\\\\python_de_learners_data\\\\.env')\n",
    "import os\n",
    "\n",
    "rg.init(api_key=\"owner.apikey\",\n",
    "        api_url=\"https://kamaljp-argillatest.hf.space\",\n",
    "        extra_headers={\"Authorization\": f\"Bearer {os.environ['HUGGING_FACE_KEY']}\"})"
   ]
  },
  {
   "cell_type": "code",
   "execution_count": 9,
   "metadata": {},
   "outputs": [
    {
     "name": "stderr",
     "output_type": "stream",
     "text": [
      "d:\\argenv\\Lib\\site-packages\\argilla\\client\\api.py:392: UserWarning: `Workspace.list` is recommended over `list_workspaces`, since you can easily access the workspaces as a list of `Workspace` objects with their attributes and methods.\n",
      "  warnings.warn(\n"
     ]
    },
    {
     "data": {
      "text/plain": [
       "[WorkspaceModel(id=UUID('0eb03855-8bca-44c8-9b28-7fed305cd371'), name='admin', inserted_at=datetime.datetime(2024, 4, 2, 11, 30, 32, 513540), updated_at=datetime.datetime(2024, 4, 2, 11, 30, 32, 513540))]"
      ]
     },
     "execution_count": 9,
     "metadata": {},
     "output_type": "execute_result"
    }
   ],
   "source": [
    "rg.list_workspaces()"
   ]
  },
  {
   "cell_type": "code",
   "execution_count": 3,
   "metadata": {},
   "outputs": [],
   "source": [
    "argworkspace = rg.Workspace.from_name(\"hfgilla\")\n",
    "# argworkspace.delete()"
   ]
  },
  {
   "cell_type": "code",
   "execution_count": 4,
   "metadata": {},
   "outputs": [
    {
     "data": {
      "text/plain": [
       "[Dataset(tags={}, metadata={}, name='yt_tc_set', id='hfgilla.yt_tc_set', task=<TaskType.text_classification: 'TextClassification'>, workspace='hfgilla', created_at=datetime.datetime(2024, 4, 5, 15, 18, 57, 434890), last_updated=datetime.datetime(2024, 4, 5, 15, 18, 57, 434890)),\n",
       " Dataset(tags={}, metadata={}, name='t2tr', id='hfgilla.t2tr', task=<TaskType.text2text: 'Text2Text'>, workspace='hfgilla', created_at=datetime.datetime(2024, 4, 5, 15, 19, 21, 568099), last_updated=datetime.datetime(2024, 4, 5, 15, 19, 22, 256890)),\n",
       " RemoteFeedbackDataset(\n",
       "    id=bff2f0ae-d23e-44b7-a37d-881d49d1df08\n",
       "    name=ds_t2t\n",
       "    workspace=Workspace(id=da074b40-5fa4-4cf1-b07c-384ebfc3c73e, name=hfgilla, inserted_at=2024-04-02 12:08:21.064036, updated_at=2024-04-02 12:08:21.064036)\n",
       "    url=https://kamaljp-argillatest.hf.space/dataset/bff2f0ae-d23e-44b7-a37d-881d49d1df08/annotation-mode\n",
       "    fields=[RemoteTextField(id=UUID('44ed4633-dc04-45a0-a258-c256e7e19dd9'), client=None, name='premise', title='Premise', required=True, type='text', use_markdown=True), RemoteTextField(id=UUID('358f31da-115e-486e-b36b-bcacd1807047'), client=None, name='hypothesis', title='Hypothesis', required=True, type='text', use_markdown=True)]\n",
       "    questions=[RemoteLabelQuestion(id=UUID('6cb42291-13f6-4652-ac79-cf7fbe92b720'), client=None, name='label', title='Label', description='Choose one of the labels.', required=True, type='label_selection', labels=['entailment', 'neutral', 'contradiction'], visible_labels=None)]\n",
       "    guidelines=This is a natural language inference dataset that contains premises and hypotheses. Please choose the correct label for the given premise and hypothesis.\n",
       "    metadata_properties=[]\n",
       "    vectors_settings=[]\n",
       " )]"
      ]
     },
     "execution_count": 4,
     "metadata": {},
     "output_type": "execute_result"
    }
   ],
   "source": [
    "# GEN 1\n",
    "rg.list_datasets(workspace=\"hfgilla\")"
   ]
  },
  {
   "cell_type": "code",
   "execution_count": 5,
   "metadata": {},
   "outputs": [
    {
     "name": "stdout",
     "output_type": "stream",
     "text": [
      "ds_t2t\n"
     ]
    }
   ],
   "source": [
    "# GEN 2\n",
    "listds = rg.FeedbackDataset.list(workspace='hfgilla')\n",
    "for ds in listds:\n",
    "    print(ds.name)"
   ]
  },
  {
   "cell_type": "code",
   "execution_count": 6,
   "metadata": {},
   "outputs": [],
   "source": [
    "for ds in listds:\n",
    "    rg.FeedbackDataset.from_argilla(ds.name, workspace='hfgilla').delete()"
   ]
  },
  {
   "cell_type": "code",
   "execution_count": null,
   "metadata": {},
   "outputs": [],
   "source": [
    "argworkspace.users"
   ]
  },
  {
   "cell_type": "code",
   "execution_count": 5,
   "metadata": {},
   "outputs": [
    {
     "data": {
      "text/plain": [
       "[Dataset(tags={}, metadata={}, name='tcds', id='hfgilla.tcds', task=<TaskType.text_classification: 'TextClassification'>, workspace='hfgilla', created_at=datetime.datetime(2024, 4, 2, 12, 11, 17, 328582), last_updated=datetime.datetime(2024, 4, 2, 12, 11, 50, 178486)),\n",
       " Dataset(tags={}, metadata={}, name='tokds', id='hfgilla.tokds', task=<TaskType.token_classification: 'TokenClassification'>, workspace='hfgilla', created_at=datetime.datetime(2024, 4, 2, 12, 14, 16, 199246), last_updated=datetime.datetime(2024, 4, 2, 12, 14, 16, 711136)),\n",
       " Dataset(tags={}, metadata={}, name='t2tr', id='hfgilla.t2tr', task=<TaskType.text2text: 'Text2Text'>, workspace='hfgilla', created_at=datetime.datetime(2024, 4, 2, 12, 14, 20, 834476), last_updated=datetime.datetime(2024, 4, 2, 12, 14, 21, 304104)),\n",
       " Dataset(tags={}, metadata={}, name='just_tc_set', id='hfgilla.just_tc_set', task=<TaskType.text_classification: 'TextClassification'>, workspace='hfgilla', created_at=datetime.datetime(2024, 4, 3, 6, 8, 15, 152385), last_updated=datetime.datetime(2024, 4, 3, 6, 8, 15, 152385)),\n",
       " Dataset(tags={}, metadata={}, name='just_tok_set', id='hfgilla.just_tok_set', task=<TaskType.token_classification: 'TokenClassification'>, workspace='hfgilla', created_at=datetime.datetime(2024, 4, 3, 6, 12, 29, 747045), last_updated=datetime.datetime(2024, 4, 3, 6, 12, 29, 747045)),\n",
       " Dataset(tags={}, metadata={}, name='yt_tc_set', id='hfgilla.yt_tc_set', task=<TaskType.text_classification: 'TextClassification'>, workspace='hfgilla', created_at=datetime.datetime(2024, 4, 3, 13, 20, 23, 153795), last_updated=datetime.datetime(2024, 4, 3, 13, 20, 23, 153795))]"
      ]
     },
     "execution_count": 5,
     "metadata": {},
     "output_type": "execute_result"
    }
   ],
   "source": [
    "rg.list_datasets()"
   ]
  },
  {
   "cell_type": "code",
   "execution_count": 7,
   "metadata": {},
   "outputs": [],
   "source": [
    "for ds in rg.list_datasets():\n",
    "    rg.delete(name=ds.name, workspace='hfgilla')"
   ]
  },
  {
   "cell_type": "code",
   "execution_count": 8,
   "metadata": {},
   "outputs": [],
   "source": [
    "argworkspace.delete()"
   ]
  }
 ],
 "metadata": {
  "kernelspec": {
   "display_name": "argenv",
   "language": "python",
   "name": "python3"
  },
  "language_info": {
   "codemirror_mode": {
    "name": "ipython",
    "version": 3
   },
   "file_extension": ".py",
   "mimetype": "text/x-python",
   "name": "python",
   "nbconvert_exporter": "python",
   "pygments_lexer": "ipython3",
   "version": "3.11.4"
  }
 },
 "nbformat": 4,
 "nbformat_minor": 2
}
