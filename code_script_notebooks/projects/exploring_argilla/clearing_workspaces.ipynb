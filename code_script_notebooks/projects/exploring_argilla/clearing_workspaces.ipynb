{
 "cells": [
  {
   "cell_type": "code",
   "execution_count": 1,
   "metadata": {},
   "outputs": [
    {
     "name": "stderr",
     "output_type": "stream",
     "text": [
      "d:\\argenv\\Lib\\site-packages\\argilla\\client\\client.py:178: UserWarning: No workspace configuration was detected. To work with Argilla datasets, specify a valid workspace name on `rg.init` or set it up through the `rg.set_workspace` function.\n",
      "  warnings.warn(\n",
      "d:\\argenv\\Lib\\site-packages\\argilla\\client\\client.py:195: UserWarning: You're connecting to Argilla Server 1.26.1 using a different client version (1.23.1).\n",
      "This may lead to potential compatibility issues during your experience.\n",
      "To ensure a seamless and optimized connection, we highly recommend aligning your client version with the server version.\n",
      "  warnings.warn(\n"
     ]
    }
   ],
   "source": [
    "import argilla as rg\n",
    "from dotenv import load_dotenv\n",
    "load_dotenv('D:\\\\gitFolders\\\\python_de_learners_data\\\\.env')\n",
    "import os\n",
    "\n",
    "rg.init(api_key=\"owner.apikey\",\n",
    "        api_url=\"https://kamaljp-argillatest.hf.space\",\n",
    "        extra_headers={\"Authorization\": f\"Bearer {os.environ['HUGGING_FACE_KEY']}\"})"
   ]
  },
  {
   "cell_type": "code",
   "execution_count": null,
   "metadata": {},
   "outputs": [],
   "source": [
    "rg.list_workspaces()"
   ]
  },
  {
   "cell_type": "code",
   "execution_count": 2,
   "metadata": {},
   "outputs": [],
   "source": [
    "argworkspace = rg.Workspace.from_name(\"hfgilla\")\n",
    "# argworkspace.delete()"
   ]
  },
  {
   "cell_type": "code",
   "execution_count": 3,
   "metadata": {},
   "outputs": [
    {
     "name": "stdout",
     "output_type": "stream",
     "text": [
      "tc_template_rec\n",
      "ds_summ\n",
      "ds_trans\n",
      "ds_t2t\n",
      "ds_sim\n",
      "ds_qa\n",
      "df_sft\n",
      "ds_pref\n",
      "ds_ppo\n",
      "ds_rag\n",
      "ds_mulclass\n",
      "ds_multrans\n",
      "ds_qtest\n",
      "fulds\n"
     ]
    }
   ],
   "source": [
    "listds = rg.FeedbackDataset.list(workspace='hfgilla')\n",
    "for ds in listds:\n",
    "    print(ds.name)"
   ]
  },
  {
   "cell_type": "code",
   "execution_count": 4,
   "metadata": {},
   "outputs": [],
   "source": [
    "for ds in listds:\n",
    "    rg.FeedbackDataset.from_argilla(ds.name, workspace='hfgilla').delete()"
   ]
  },
  {
   "cell_type": "code",
   "execution_count": null,
   "metadata": {},
   "outputs": [],
   "source": [
    "argworkspace.users"
   ]
  },
  {
   "cell_type": "code",
   "execution_count": 5,
   "metadata": {},
   "outputs": [
    {
     "data": {
      "text/plain": [
       "[Dataset(tags={}, metadata={}, name='tcds', id='hfgilla.tcds', task=<TaskType.text_classification: 'TextClassification'>, workspace='hfgilla', created_at=datetime.datetime(2024, 4, 2, 12, 11, 17, 328582), last_updated=datetime.datetime(2024, 4, 2, 12, 11, 50, 178486)),\n",
       " Dataset(tags={}, metadata={}, name='tokds', id='hfgilla.tokds', task=<TaskType.token_classification: 'TokenClassification'>, workspace='hfgilla', created_at=datetime.datetime(2024, 4, 2, 12, 14, 16, 199246), last_updated=datetime.datetime(2024, 4, 2, 12, 14, 16, 711136)),\n",
       " Dataset(tags={}, metadata={}, name='t2tr', id='hfgilla.t2tr', task=<TaskType.text2text: 'Text2Text'>, workspace='hfgilla', created_at=datetime.datetime(2024, 4, 2, 12, 14, 20, 834476), last_updated=datetime.datetime(2024, 4, 2, 12, 14, 21, 304104)),\n",
       " Dataset(tags={}, metadata={}, name='just_tc_set', id='hfgilla.just_tc_set', task=<TaskType.text_classification: 'TextClassification'>, workspace='hfgilla', created_at=datetime.datetime(2024, 4, 3, 6, 8, 15, 152385), last_updated=datetime.datetime(2024, 4, 3, 6, 8, 15, 152385)),\n",
       " Dataset(tags={}, metadata={}, name='just_tok_set', id='hfgilla.just_tok_set', task=<TaskType.token_classification: 'TokenClassification'>, workspace='hfgilla', created_at=datetime.datetime(2024, 4, 3, 6, 12, 29, 747045), last_updated=datetime.datetime(2024, 4, 3, 6, 12, 29, 747045)),\n",
       " Dataset(tags={}, metadata={}, name='yt_tc_set', id='hfgilla.yt_tc_set', task=<TaskType.text_classification: 'TextClassification'>, workspace='hfgilla', created_at=datetime.datetime(2024, 4, 3, 13, 20, 23, 153795), last_updated=datetime.datetime(2024, 4, 3, 13, 20, 23, 153795))]"
      ]
     },
     "execution_count": 5,
     "metadata": {},
     "output_type": "execute_result"
    }
   ],
   "source": [
    "rg.list_datasets()"
   ]
  },
  {
   "cell_type": "code",
   "execution_count": null,
   "metadata": {},
   "outputs": [],
   "source": [
    "for ds in rg.list_datasets():\n",
    "    rg.delete(name=ds.name, workspace='hfgilla')"
   ]
  },
  {
   "cell_type": "code",
   "execution_count": null,
   "metadata": {},
   "outputs": [],
   "source": [
    "argworkspace.delete()"
   ]
  }
 ],
 "metadata": {
  "kernelspec": {
   "display_name": "argenv",
   "language": "python",
   "name": "python3"
  },
  "language_info": {
   "codemirror_mode": {
    "name": "ipython",
    "version": 3
   },
   "file_extension": ".py",
   "mimetype": "text/x-python",
   "name": "python",
   "nbconvert_exporter": "python",
   "pygments_lexer": "ipython3",
   "version": "3.11.4"
  }
 },
 "nbformat": 4,
 "nbformat_minor": 2
}
