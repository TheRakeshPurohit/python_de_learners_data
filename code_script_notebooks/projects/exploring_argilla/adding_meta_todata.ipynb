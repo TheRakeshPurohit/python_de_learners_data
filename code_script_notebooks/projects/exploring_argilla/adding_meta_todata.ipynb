{
 "cells": [
  {
   "cell_type": "code",
   "execution_count": null,
   "metadata": {},
   "outputs": [],
   "source": [
    "# We will add the below meta data\n",
    "\n",
    "# > n_tokens: Number of tokens in the text.\n",
    "\n",
    "# > n_unique_tokens: Number of unique tokens in the text.\n",
    "\n",
    "# > n_sentences: Number of sentences in the text.\n",
    "\n",
    "# > perplexity: Measures the text complexity, vocabulary diversity and unpredictability. Lower scores suggest that the model finds the text more predictable, while a higher perplexity score means the model finds the text less predictable.\n",
    "\n",
    "# > entropy: Indicates text randomness or uncertainty. Higher scores denote varied, unpredictable language use.\n",
    "\n",
    "# > flesch_reading_ease: A readability test designed to indicate how easy an English text is to understand, based on sentence length and syllable count per word. Higher scores mean that is easier to read, while lower scores indicate complexity."
   ]
  },
  {
   "cell_type": "code",
   "execution_count": null,
   "metadata": {},
   "outputs": [],
   "source": [
    "import argilla as rg \n",
    "from argilla.client.feedback.integrations.textdescriptives import TextDescriptivesExtractor\n",
    "from datasets import load_dataset"
   ]
  },
  {
   "cell_type": "code",
   "execution_count": null,
   "metadata": {},
   "outputs": [],
   "source": [
    "rg.init(\n",
    "    api_url=\"\",\n",
    "    api_key=\"owner.apikey\"\n",
    ")"
   ]
  },
  {
   "cell_type": "code",
   "execution_count": null,
   "metadata": {},
   "outputs": [],
   "source": [
    "hf_arg_ds = load_dataset(\"squad\", split='train').select(range(100))\n",
    "hf_arg_ds"
   ]
  },
  {
   "cell_type": "code",
   "execution_count": null,
   "metadata": {},
   "outputs": [],
   "source": [
    "fb_ds = rg.FeedbackDataset.for_question_answering(\n",
    "    use_markdown=True,\n",
    "    guidelines=\"This is a Question Answerine Pipeline\",\n",
    "    metadata_properties=None,\n",
    "    vectors_settings=None\n",
    ")\n",
    "fb_ds"
   ]
  },
  {
   "cell_type": "code",
   "execution_count": null,
   "metadata": {},
   "outputs": [],
   "source": [
    "records = [\n",
    "    rg.FeedbackRecord(\n",
    "        fields={\"question\": record['question'],\n",
    "                \"context\": record['context']}\n",
    "    )\n",
    "    for record in hf_arg_ds\n",
    "]"
   ]
  },
  {
   "cell_type": "code",
   "execution_count": null,
   "metadata": {},
   "outputs": [],
   "source": [
    "tde = TextDescriptivesExtractor(\n",
    "    model=\"en\",\n",
    "    metrics=None,\n",
    "    visible_for_annotators=False,\n",
    "    show_progress=True\n",
    ")"
   ]
  },
  {
   "cell_type": "code",
   "execution_count": null,
   "metadata": {},
   "outputs": [],
   "source": [
    "update_rec = tde.update_records(records, fields=['question'])"
   ]
  },
  {
   "cell_type": "code",
   "execution_count": null,
   "metadata": {},
   "outputs": [],
   "source": [
    "update_rec[10].metadata"
   ]
  },
  {
   "cell_type": "code",
   "execution_count": null,
   "metadata": {},
   "outputs": [],
   "source": [
    "fb_ds.add_records(update_rec)"
   ]
  },
  {
   "cell_type": "code",
   "execution_count": null,
   "metadata": {},
   "outputs": [],
   "source": [
    "rmote_ds = fb_ds.push_to_argilla(name=\"squad_withmeta\", workspace='hfgilla')"
   ]
  },
  {
   "cell_type": "code",
   "execution_count": null,
   "metadata": {},
   "outputs": [],
   "source": [
    "tde_context = TextDescriptivesExtractor(\n",
    "    model = \"en\",\n",
    "    metrics = [\"descriptive_stats\", \"readability\"],\n",
    "    visible_for_annotators = True,\n",
    "    show_progress = True,\n",
    ")\n",
    "\n",
    "tde.update_dataset(rmote_ds, fields=['context'])"
   ]
  },
  {
   "cell_type": "code",
   "execution_count": null,
   "metadata": {},
   "outputs": [],
   "source": [
    "rmote_ds.records[0].metadata"
   ]
  },
  {
   "cell_type": "code",
   "execution_count": null,
   "metadata": {},
   "outputs": [],
   "source": []
  }
 ],
 "metadata": {
  "kernelspec": {
   "display_name": "argenv",
   "language": "python",
   "name": "python3"
  },
  "language_info": {
   "codemirror_mode": {
    "name": "ipython",
    "version": 3
   },
   "file_extension": ".py",
   "mimetype": "text/x-python",
   "name": "python",
   "nbconvert_exporter": "python",
   "pygments_lexer": "ipython3",
   "version": "3.11.4"
  }
 },
 "nbformat": 4,
 "nbformat_minor": 2
}
