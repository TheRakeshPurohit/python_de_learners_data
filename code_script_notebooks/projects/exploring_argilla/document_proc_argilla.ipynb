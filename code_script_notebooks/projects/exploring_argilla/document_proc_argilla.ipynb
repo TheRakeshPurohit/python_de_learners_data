{
 "cells": [
  {
   "cell_type": "code",
   "execution_count": null,
   "metadata": {},
   "outputs": [],
   "source": [
    "import argilla as rg\n",
    "url = \"\"\n",
    "api = \"owner.apikey\"\n",
    "rg.init(\n",
    "    api_url=url,\n",
    "    api_key=api\n",
    ")"
   ]
  },
  {
   "cell_type": "code",
   "execution_count": null,
   "metadata": {},
   "outputs": [],
   "source": [
    "import calendar\n",
    "from datetime import datetime\n",
    "import re\n",
    "import time\n",
    "\n",
    "import requests\n",
    "from transformers import pipeline\n",
    "import tqdm\n",
    "\n",
    "from unstructured.partition.html import partition_html\n",
    "from unstructured.documents.elements import NarrativeText, ListItem\n",
    "from unstructured.staging.argilla import stage_for_argilla"
   ]
  },
  {
   "cell_type": "code",
   "execution_count": null,
   "metadata": {},
   "outputs": [],
   "source": [
    "import nltk\n",
    "nltk.download(\"averaged_perceptron_tagger\")"
   ]
  },
  {
   "cell_type": "code",
   "execution_count": null,
   "metadata": {},
   "outputs": [],
   "source": [
    "ISW_BASE_URL = \"https://www.understandingwar.org/backgrounder/russian-offensive-campaign-assessment\"\n",
    "\n",
    "def datetime_to_url(dt):\n",
    "    month = dt.strftime(\"%B\").lower()\n",
    "    return f\"{ISW_BASE_URL}-{month}-{dt.day}\"\n",
    "\n",
    "urls = []\n",
    "year = 2022\n",
    "\n",
    "for month in range(3, 13):\n",
    "    _, last_day = calendar.monthrange(year, month)\n",
    "    for day in range(1, last_day + 1):\n",
    "        dt = datetime(year, month, day)\n",
    "        urls.append(datetime_to_url(dt))"
   ]
  },
  {
   "cell_type": "code",
   "execution_count": null,
   "metadata": {},
   "outputs": [],
   "source": [
    "def url_to_elements(url):\n",
    "    r = requests.get(url)\n",
    "    if r.status_code != 200:\n",
    "        return None\n",
    "\n",
    "    elements = partition_html(text=r.text)\n",
    "    return elements"
   ]
  },
  {
   "cell_type": "code",
   "execution_count": null,
   "metadata": {},
   "outputs": [],
   "source": [
    "def _find_key_takeaways_idx(elements):\n",
    "    for idx, element in enumerate(elements):\n",
    "        if element.text == \"Key Takeaways\":\n",
    "            return idx\n",
    "\n",
    "def get_key_takeaways(elements):\n",
    "    key_takeaways_idx = _find_key_takeaways_idx(elements)\n",
    "    if not key_takeaways_idx:\n",
    "        return None\n",
    "\n",
    "    takeaways = []\n",
    "    for element in elements[key_takeaways_idx + 1:]:\n",
    "        if not isinstance(element, ListItem):\n",
    "            break\n",
    "        takeaways.append(element)\n",
    "\n",
    "    takeaway_text = \" \".join([el.text for el in takeaways])\n",
    "    return NarrativeText(text=takeaway_text)"
   ]
  },
  {
   "cell_type": "code",
   "execution_count": null,
   "metadata": {},
   "outputs": [],
   "source": [
    "urls[200]"
   ]
  },
  {
   "cell_type": "code",
   "execution_count": null,
   "metadata": {},
   "outputs": [],
   "source": [
    "elements = url_to_elements(urls[200])"
   ]
  },
  {
   "cell_type": "code",
   "execution_count": null,
   "metadata": {},
   "outputs": [],
   "source": [
    "from rich import print\n",
    "print(get_key_takeaways(elements))"
   ]
  },
  {
   "cell_type": "code",
   "execution_count": null,
   "metadata": {},
   "outputs": [],
   "source": [
    "# Show a sample of narrative text\n",
    "def get_narrative(elements):\n",
    "    narrative_text = \"\"\n",
    "    for element in elements:\n",
    "        if isinstance(element, NarrativeText) and len(element.text) > 500:\n",
    "            # NOTE: Removes citations like [3] from the text\n",
    "            element_text = re.sub(\"\\[\\d{1,3}\\]\", \"\", element.text)\n",
    "            narrative_text += f\"\\n\\n{element_text}\"\n",
    "\n",
    "    return NarrativeText(text=narrative_text.strip())\n",
    "\n",
    "print(get_narrative(elements).text[0:2000])"
   ]
  },
  {
   "cell_type": "code",
   "execution_count": null,
   "metadata": {},
   "outputs": [],
   "source": [
    "inputs = []\n",
    "annotations = []\n",
    "\n",
    "for url in tqdm.tqdm(urls):\n",
    "\n",
    "    elements = url_to_elements(url)\n",
    "\n",
    "    if url is None or not elements:\n",
    "        continue\n",
    "\n",
    "    text = get_narrative(elements)\n",
    "\n",
    "    annotation = get_key_takeaways(elements)\n",
    "\n",
    "    if text and annotation:\n",
    "        inputs.append(text)\n",
    "        annotations.append(annotation.text)\n",
    "\n",
    "    # NOTE: Sleeping to reduce the volume of requests to ISW\n",
    "    time.sleep(1)"
   ]
  },
  {
   "cell_type": "code",
   "execution_count": null,
   "metadata": {},
   "outputs": [],
   "source": [
    "dataset_rg =  stage_for_argilla(inputs, 'text2text', annotation=annotations)"
   ]
  },
  {
   "cell_type": "code",
   "execution_count": null,
   "metadata": {},
   "outputs": [],
   "source": [
    "dataset_rg.to_pandas().head(3)"
   ]
  },
  {
   "cell_type": "code",
   "execution_count": null,
   "metadata": {},
   "outputs": [],
   "source": [
    "rg.log(dataset_rg, name='isw_summarise', workspace='hfgilla')"
   ]
  },
  {
   "cell_type": "code",
   "execution_count": null,
   "metadata": {},
   "outputs": [],
   "source": [
    "training_data = rg.load(name=\"isw_summarise\",workspace='hfgilla').to_datasets()"
   ]
  },
  {
   "cell_type": "code",
   "execution_count": null,
   "metadata": {},
   "outputs": [],
   "source": [
    "training_data"
   ]
  },
  {
   "cell_type": "code",
   "execution_count": null,
   "metadata": {},
   "outputs": [],
   "source": [
    "from transformers import AutoTokenizer\n",
    "model_checkpoint = \"t5-small\"\n",
    "tokenizer = AutoTokenizer.from_pretrained(model_checkpoint)\n",
    "\n",
    "max_input_length = 1024\n",
    "max_target_length = 128\n",
    "\n",
    "def preprocess_function(examples):\n",
    "    inputs = [doc for doc in examples[\"text\"]]\n",
    "    model_inputs = tokenizer(inputs, max_length=max_input_length, truncation=True)\n",
    "\n",
    "    # Setup the tokenizer for targets\n",
    "    with tokenizer.as_target_tokenizer():\n",
    "        labels = tokenizer(examples[\"annotation\"], max_length=max_target_length, truncation=True)\n",
    "\n",
    "    model_inputs[\"labels\"] = labels[\"input_ids\"]\n",
    "    return model_inputs\n",
    "\n",
    "tokenized_datasets = training_data.map(preprocess_function, batched=True)"
   ]
  },
  {
   "cell_type": "code",
   "execution_count": null,
   "metadata": {},
   "outputs": [],
   "source": [
    "from transformers import (\n",
    "    AutoModelForSeq2SeqLM,\n",
    "    DataCollatorForSeq2Seq,\n",
    "    Seq2SeqTrainingArguments,\n",
    "    Seq2SeqTrainer\n",
    ")\n",
    "\n",
    "model = AutoModelForSeq2SeqLM.from_pretrained(model_checkpoint)"
   ]
  },
  {
   "cell_type": "code",
   "execution_count": null,
   "metadata": {},
   "outputs": [],
   "source": [
    "batch_size = 16\n",
    "model_name = model_checkpoint.split(\"/\")[-1]\n",
    "args = Seq2SeqTrainingArguments(\n",
    "    \"t5-small-isw-summaries\",\n",
    "    evaluation_strategy = \"epoch\",\n",
    "    learning_rate=2e-5,\n",
    "    per_device_train_batch_size=batch_size,\n",
    "    per_device_eval_batch_size=batch_size,\n",
    "    weight_decay=0.01,\n",
    "    save_total_limit=3,\n",
    "    num_train_epochs=1,\n",
    "    predict_with_generate=True,\n",
    "    fp16=False,\n",
    "    push_to_hub=False,\n",
    ")"
   ]
  },
  {
   "cell_type": "code",
   "execution_count": null,
   "metadata": {},
   "outputs": [],
   "source": [
    "data_collator = DataCollatorForSeq2Seq(tokenizer, model=model)"
   ]
  },
  {
   "cell_type": "code",
   "execution_count": null,
   "metadata": {},
   "outputs": [],
   "source": [
    "trainer = Seq2SeqTrainer(\n",
    "    model,\n",
    "    args,\n",
    "    train_dataset=tokenized_datasets,\n",
    "    eval_dataset=tokenized_datasets,\n",
    "    data_collator=data_collator,\n",
    "    tokenizer=tokenizer,\n",
    ")\n",
    "\n",
    "trainer.train()"
   ]
  }
 ],
 "metadata": {
  "kernelspec": {
   "display_name": "argenv",
   "language": "python",
   "name": "python3"
  },
  "language_info": {
   "codemirror_mode": {
    "name": "ipython",
    "version": 3
   },
   "file_extension": ".py",
   "mimetype": "text/x-python",
   "name": "python",
   "nbconvert_exporter": "python",
   "pygments_lexer": "ipython3",
   "version": "3.11.4"
  }
 },
 "nbformat": 4,
 "nbformat_minor": 2
}
