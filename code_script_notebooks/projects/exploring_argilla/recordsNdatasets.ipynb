{
 "cells": [
  {
   "cell_type": "markdown",
   "metadata": {},
   "source": [
    "### Connecting & Setting Up Argilla Server"
   ]
  },
  {
   "cell_type": "code",
   "execution_count": 8,
   "metadata": {},
   "outputs": [
    {
     "name": "stderr",
     "output_type": "stream",
     "text": [
      "d:\\argenv\\Lib\\site-packages\\argilla\\client\\client.py:178: UserWarning: No workspace configuration was detected. To work with Argilla datasets, specify a valid workspace name on `rg.init` or set it up through the `rg.set_workspace` function.\n",
      "  warnings.warn(\n"
     ]
    }
   ],
   "source": [
    "import argilla as rg\n",
    "from dotenv import load_dotenv\n",
    "load_dotenv('D:\\\\gitFolders\\\\python_de_learners_data\\\\.env')\n",
    "import os\n",
    "\n",
    "rg.init(api_key=\"owner.apikey\",\n",
    "        api_url=\"https://kamaljp-argillatest.hf.space\",\n",
    "        extra_headers={\"Authorization\": f\"Bearer {os.environ['HUGGING_FACE_KEY']}\"})"
   ]
  },
  {
   "cell_type": "code",
   "execution_count": null,
   "metadata": {},
   "outputs": [],
   "source": [
    "# create workspace\n",
    "hfgilla = 'hfgilla'\n",
    "rg.Workspace.create(name=hfgilla)"
   ]
  },
  {
   "cell_type": "code",
   "execution_count": null,
   "metadata": {},
   "outputs": [],
   "source": [
    "hfws = rg.Workspace.from_name(hfgilla)\n",
    "for d in hfws.list():\n",
    "    print(d.name)"
   ]
  },
  {
   "cell_type": "code",
   "execution_count": null,
   "metadata": {},
   "outputs": [],
   "source": [
    "user = rg.User.create(\n",
    "    username=\"annotator1\",\n",
    "    first_name=\"anno\",\n",
    "    last_name=\"tator\",\n",
    "    password=\"12345678\",\n",
    "    role=\"annotator\",\n",
    "    workspaces=[\"hfgilla\"]\n",
    ")"
   ]
  },
  {
   "cell_type": "code",
   "execution_count": null,
   "metadata": {},
   "outputs": [],
   "source": [
    "for u in rg.User.list():\n",
    "    print(u.username)\n",
    "    print(u.id)\n",
    "    print(u.from_id(u.id))"
   ]
  },
  {
   "cell_type": "code",
   "execution_count": null,
   "metadata": {},
   "outputs": [],
   "source": [
    "hfws.users"
   ]
  },
  {
   "cell_type": "markdown",
   "metadata": {},
   "source": [
    "### Gen 1 Datasets & Records"
   ]
  },
  {
   "cell_type": "markdown",
   "metadata": {},
   "source": [
    "#### Gen 1 Text Classification Datasets"
   ]
  },
  {
   "cell_type": "code",
   "execution_count": null,
   "metadata": {},
   "outputs": [],
   "source": [
    "from argilla import (\n",
    "    TextClassificationSettings,\n",
    "    TokenClassificationSettings,\n",
    ") \n",
    "\n",
    "settings = rg.TextClassificationSettings(label_schema=[\"Class1\", \"Class2\"])\n",
    "\n",
    "rg.configure_dataset_settings(name=\"yt_tc_set\", settings=settings, workspace='hfgilla')"
   ]
  },
  {
   "cell_type": "code",
   "execution_count": null,
   "metadata": {},
   "outputs": [],
   "source": [
    "from argilla import (\n",
    "    TextClassificationRecord,\n",
    "    log\n",
    ")\n",
    "rec_tc0 = TextClassificationRecord(text=\"Its a wonderful time to be alive...\",)\n",
    "log(records=rec_tc0, name='yt_tc_set', workspace='hfgilla')"
   ]
  },
  {
   "cell_type": "code",
   "execution_count": null,
   "metadata": {},
   "outputs": [],
   "source": [
    "rec_tc1 = TextClassificationRecord(text=\"Challenge is increasing to everyone...\",\n",
    "                                    prediction=[('Class1', 0.3), ('Class2', 0.7)])\n",
    "log(records=rec_tc1, name='yt_tc_set', workspace='hfgilla')"
   ]
  },
  {
   "cell_type": "code",
   "execution_count": null,
   "metadata": {},
   "outputs": [],
   "source": [
    "rec_tc1 = TextClassificationRecord(text=\"Challenge is increasing to everyone...\",\n",
    "                                    prediction=[('Class1', 0.3), ('Class2', 0.7)])\n",
    "log(records=rec_tc1, name='yt_tc_set', workspace='hfgilla')"
   ]
  },
  {
   "cell_type": "code",
   "execution_count": null,
   "metadata": {},
   "outputs": [],
   "source": [
    "rec_tc2 = TextClassificationRecord(text=\"More one tries to achieve farther he gets out of sync...\",\n",
    "                                    prediction=[('Class1', 0.1), ('Class2', 0.9)],\n",
    "                                    annotation=\"Class2\")\n",
    "log(records=rec_tc2, name='yt_tc_set', workspace='hfgilla')"
   ]
  },
  {
   "cell_type": "code",
   "execution_count": null,
   "metadata": {},
   "outputs": [],
   "source": [
    "# More examples..."
   ]
  },
  {
   "cell_type": "code",
   "execution_count": null,
   "metadata": {},
   "outputs": [],
   "source": [
    "rec_tc = TextClassificationRecord(\n",
    "    text='this is a very huge and panaromic rock',\n",
    "    prediction=[(\"view\", 0.8), ('stay', 0.2)],\n",
    "    annotation=\"view\",\n",
    ")"
   ]
  },
  {
   "cell_type": "code",
   "execution_count": null,
   "metadata": {},
   "outputs": [],
   "source": [
    "rec_tc1 = rg.TextClassificationRecord(\n",
    "    text='Lets climb the everest for sake of fun',\n",
    "    prediction=[(\"adventure\", 0.7), ('fun', 0.2), ('boring',0.1), ('worthless', 0.0)],\n",
    "    annotation=\"fun or dun\"\n",
    ")"
   ]
  },
  {
   "cell_type": "code",
   "execution_count": null,
   "metadata": {},
   "outputs": [],
   "source": [
    "rg.log(records=[rec_tc, rec_tc1],\n",
    "       name='tcds',\n",
    "       workspace=hfgilla)"
   ]
  },
  {
   "cell_type": "code",
   "execution_count": null,
   "metadata": {},
   "outputs": [],
   "source": [
    "rg.log(records=rec_tc1, name='tcds', workspace=hfgilla)\n",
    "\n",
    "# more than one record can be pushed into dataset, if having same format"
   ]
  },
  {
   "cell_type": "code",
   "execution_count": null,
   "metadata": {},
   "outputs": [],
   "source": [
    "# Multi-Label Text Classification Dataset\n",
    "\n",
    "rec_tc_ml = rg.TextClassificationRecord(\n",
    "    text='There is always a lot more to explore',\n",
    "    prediction=[(\"excited\", 0.8), ('annoyed', 0.2)],\n",
    "    annotation=[\"work\", \"play\"],\n",
    "    multi_label=True\n",
    ")"
   ]
  },
  {
   "cell_type": "code",
   "execution_count": null,
   "metadata": {},
   "outputs": [],
   "source": [
    "tcml_setting = TextClassificationSettings(label_schema=['excited', 'annoyed', 'work', 'play'],)"
   ]
  },
  {
   "cell_type": "code",
   "execution_count": null,
   "metadata": {},
   "outputs": [],
   "source": [
    "rg.configure_dataset_settings(settings=tcml_setting, name='tcml', workspace='hfgilla')"
   ]
  },
  {
   "cell_type": "code",
   "execution_count": null,
   "metadata": {},
   "outputs": [],
   "source": [
    "# rg.log(records=rec_tc_ml, name='tcds', workspace=hfgilla)  # will throw error\n",
    "log(records=rec_tc_ml, name='tcml', workspace='hfgilla')"
   ]
  },
  {
   "cell_type": "markdown",
   "metadata": {},
   "source": [
    "#### Gen 1 Token Classification Datasets"
   ]
  },
  {
   "cell_type": "code",
   "execution_count": null,
   "metadata": {},
   "outputs": [],
   "source": [
    "from argilla import (\n",
    "    TokenClassificationRecord,\n",
    "    TokenClassificationSettings,\n",
    "    log,\n",
    "    configure_dataset_settings\n",
    ")\n",
    "\n",
    "tok_settings = TokenClassificationSettings(label_schema=['NOUN', 'PRN', 'VRB', 'POS'])\n",
    "\n",
    "configure_dataset_settings(name='tok_class_ds',\n",
    "                           settings=tok_settings, workspace='hfgilla')"
   ]
  },
  {
   "cell_type": "code",
   "execution_count": null,
   "metadata": {},
   "outputs": [],
   "source": [
    "from argilla import (\n",
    "    log,\n",
    "    configure_dataset_settings\n",
    ")\n",
    "\n",
    "tokrec0 = TokenClassificationRecord(\n",
    "    text=\"The datasets are required for creating models\",\n",
    "    tokens= \"The datasets are required for creating models\".split(' '),\n",
    ")\n",
    "log(tokrec0, name='tok_class_ds', workspace='hfgilla')"
   ]
  },
  {
   "cell_type": "code",
   "execution_count": null,
   "metadata": {},
   "outputs": [],
   "source": [
    "def find_word_indices(sentence, word):\n",
    "    # Split the sentence into words\n",
    "    words = sentence.split()\n",
    "\n",
    "    start_index = None\n",
    "    end_index = None\n",
    "\n",
    "    for i, w in enumerate(words):\n",
    "        # Check if the current word matches the target word\n",
    "        if w == word:\n",
    "            # If start_index is None, set it to the index of the current word\n",
    "            if start_index is None:\n",
    "                start_index = i\n",
    "\n",
    "            # Update the end_index to the index of the current word\n",
    "            end_index = i\n",
    "\n",
    "    # If the word is not found, return None for both indices\n",
    "    if start_index is None:\n",
    "        return None, None\n",
    "\n",
    "    # Calculate the start and end indices of the word in the sentence\n",
    "    start_index = sum(len(words[i]) + 1 for i in range(start_index))\n",
    "    end_index = start_index + len(word)\n",
    "\n",
    "    return start_index, end_index"
   ]
  },
  {
   "cell_type": "code",
   "execution_count": null,
   "metadata": {},
   "outputs": [],
   "source": [
    "example_sent = \"Lets connect with Argilla server for annotation work\"\n",
    "word_ex0 = \"connect\"\n",
    "word_ex1 = \"Argilla\"\n",
    "word_ex2 = \"annotation\"\n",
    "print(find_word_indices(example_sent, word_ex0))\n",
    "print(find_word_indices(example_sent, word_ex1))\n",
    "print(find_word_indices(example_sent, word_ex2))"
   ]
  },
  {
   "cell_type": "code",
   "execution_count": null,
   "metadata": {},
   "outputs": [],
   "source": [
    "tokrec = rg.TokenClassificationRecord(\n",
    "    text=\"Lets connect with Argilla server for annotation work\",\n",
    "    tokens= \"Lets connect with Argilla server for annotation work\".split(' '),\n",
    "    prediction=[(\"VRB\",5, 12), (\"NOUN\", 18, 25), (\"NOUN\", 37, 47)],\n",
    "    # annotation=[(\"NOUN\", 0, 5)]\n",
    ")"
   ]
  },
  {
   "cell_type": "code",
   "execution_count": null,
   "metadata": {},
   "outputs": [],
   "source": [
    "rg.log(records=tokrec, name='tok_class_ds', workspace='hfgilla')"
   ]
  },
  {
   "cell_type": "code",
   "execution_count": null,
   "metadata": {},
   "outputs": [],
   "source": [
    "tokrec2 = rg.TokenClassificationRecord(\n",
    "    text=\"Lets connect with Argilla server for annotation work\",\n",
    "    tokens= \"Lets connect with Argilla server for annotation work\".split(' '),\n",
    "    prediction=[(\"VRB\",5, 12), (\"NOUN\", 18, 25), (\"NOUN\", 37, 47)],\n",
    "    annotation=[(\"VRB\",5, 12), (\"NOUN\", 18, 25), (\"NOUN\", 37, 47)]\n",
    ")"
   ]
  },
  {
   "cell_type": "code",
   "execution_count": null,
   "metadata": {},
   "outputs": [],
   "source": [
    "log(records=tokrec2, name='tok_class_ds', workspace='hfgilla')"
   ]
  },
  {
   "cell_type": "markdown",
   "metadata": {},
   "source": [
    "#### Gen1 Text2Text Dataset"
   ]
  },
  {
   "cell_type": "code",
   "execution_count": null,
   "metadata": {},
   "outputs": [],
   "source": [
    "t2tr = rg.Text2TextRecord(\n",
    "    text=\"this is a very long record\",\n",
    "    prediction=[\"there is lot more than the record length\"]\n",
    ")\n",
    "rg.log(records=t2tr, name='t2tr', workspace='hfgilla')"
   ]
  },
  {
   "cell_type": "markdown",
   "metadata": {},
   "source": [
    "##### Diving Into FeedBack DS"
   ]
  },
  {
   "cell_type": "code",
   "execution_count": null,
   "metadata": {},
   "outputs": [],
   "source": [
    "# simple feddback_task_ds\n",
    "fbds = rg.FeedbackDataset(\n",
    "    guidelines='A simple FBDS with no records',\n",
    "    fields=[\n",
    "        rg.TextField(name=\"prompt\", title='user_prompt'),\n",
    "        rg.TextField(name=\"output\", title='gen_output', use_markdown=True),\n",
    "    ],\n",
    "    questions=[\n",
    "        rg.TextQuestion(\n",
    "            name=\"corrected_text\",\n",
    "            title='Used for correcting the output',\n",
    "            required=True,\n",
    "            use_markdown=True\n",
    "        ),\n",
    "    ]\n",
    ")"
   ]
  },
  {
   "cell_type": "code",
   "execution_count": null,
   "metadata": {},
   "outputs": [],
   "source": [
    "fbds.push_to_argilla(name='fbds', workspace=hfgilla)"
   ]
  },
  {
   "cell_type": "code",
   "execution_count": null,
   "metadata": {},
   "outputs": [],
   "source": [
    "fbds_1 = rg.FeedbackDataset(\n",
    "    guidelines='Another fb dataset for practice',\n",
    "    fields= [\n",
    "        rg.TextField(name='model1_prompt', title='model_1'),\n",
    "        rg.TextField(name=\"modelout\", title='modelout', use_markdown=True)\n",
    "    ],\n",
    "    questions=[\n",
    "        rg.RatingQuestion(\n",
    "            name=\"rating\",\n",
    "            title=\"Rate the quality of the response:\",\n",
    "            description=\"1 = very bad - 5= very good\",\n",
    "            required=True,\n",
    "            values=[1,2,3,4,5]  \n",
    "        )\n",
    "    ]\n",
    ")\n",
    "fbds_1.push_to_argilla(\"fbds2\", workspace=hfgilla)"
   ]
  },
  {
   "cell_type": "code",
   "execution_count": null,
   "metadata": {},
   "outputs": [],
   "source": [
    "# make some records\n",
    "recfb = rg.FeedbackRecord(\n",
    "    fields={\n",
    "        \"prompt\": \"this is funny\",\n",
    "        \"output\": \"do you think so?\"\n",
    "    },\n",
    "    metadata={'source': 'mind'},\n",
    "    external_id='rec1'\n",
    ")"
   ]
  },
  {
   "cell_type": "code",
   "execution_count": null,
   "metadata": {},
   "outputs": [],
   "source": [
    "fbds.add_records([recfb])"
   ]
  },
  {
   "cell_type": "code",
   "execution_count": null,
   "metadata": {},
   "outputs": [],
   "source": [
    "fbds.records"
   ]
  },
  {
   "cell_type": "code",
   "execution_count": null,
   "metadata": {},
   "outputs": [],
   "source": [
    "fa_fbds = rg.FeedbackDataset.from_argilla('fbds', workspace=hfgilla)"
   ]
  },
  {
   "cell_type": "code",
   "execution_count": null,
   "metadata": {},
   "outputs": [],
   "source": [
    "fa_fbds.add_records([recfb])"
   ]
  },
  {
   "cell_type": "code",
   "execution_count": null,
   "metadata": {},
   "outputs": [],
   "source": [
    "rating_question = rg.RatingQuestion(\n",
    "    name=\"rating\",\n",
    "    title=\"Rate the quality of the response:\",\n",
    "    description=\"1 = very bad - 5= very good\",\n",
    "    required=True,\n",
    "    values=[1,2,3,4,5]  \n",
    ")"
   ]
  },
  {
   "cell_type": "code",
   "execution_count": null,
   "metadata": {},
   "outputs": [],
   "source": [
    "fa_fbds.add_records([rec_tc]) # will error out, as its not FBrecord"
   ]
  },
  {
   "cell_type": "markdown",
   "metadata": {},
   "source": [
    "https://docs.argilla.io/en/v1.26.0/practical_guides/create_update_dataset/create_dataset.html\n",
    "\n",
    "The records classes covered in this section correspond to three datasets: DatasetForTextClassification, DatasetForTokenClassification, and DatasetForText2Text. \n",
    "\n",
    "These will be deprecated in Argilla 2.0 and replaced by the fully configurable FeedbackDataset class. Not sure which dataset to use? Check out our section on choosing a dataset."
   ]
  },
  {
   "cell_type": "code",
   "execution_count": null,
   "metadata": {},
   "outputs": [],
   "source": [
    "import argilla as rg\n",
    "\n",
    "fledgeds = rg.FeedbackDataset(\n",
    "    guidelines=\"A fully fledged annotation pipeline\",\n",
    "    fields=[\n",
    "        rg.TextField(name=\"input\", title=\"Human input\"),\n",
    "        rg.TextField(name=\"output\", title=\"Expected output\", use_markdown=True)\n",
    "    ],\n",
    "    questions =[\n",
    "        rg.RatingQuestion(\n",
    "            name=\"rating\",\n",
    "            title=\"Rate the quality of the Output:\",\n",
    "            description=\"1 = very bad - 5= very good\",\n",
    "            required=True,\n",
    "            values=[1,2,3,4,5]\n",
    "        ),\n",
    "        rg.TextQuestion(\n",
    "            name=\"corrected-text\",\n",
    "            title=\"Provide a correction to the response:\",\n",
    "            required=False,\n",
    "            use_markdown=True\n",
    "        ),\n",
    "        rg.LabelQuestion(\n",
    "            name=\"relevant\",\n",
    "            title=\"Is the response relevant for the given prompt?\",\n",
    "            labels={\"YES\": \"Yes\", \"NO\": \"No\"}, # or [\"YES\",\"NO\"]\n",
    "            required=True,\n",
    "            visible_labels=None\n",
    "        ),\n",
    "        rg.MultiLabelQuestion(\n",
    "            name=\"content_class\",\n",
    "            title=\"Does the response include any of the following?\",\n",
    "            description=\"Select all that apply\",\n",
    "            labels={\"hate\": \"Hate Speech\" , \"sexual\": \"Sexual content\", \"violent\": \"Violent content\", \"pii\": \"Personal information\", \"untruthful\": \"Untruthful info\", \"not_english\": \"Not English\", \"inappropriate\": \"Inappropriate content\"}, # or [\"hate\", \"sexual\", \"violent\", \"pii\", \"untruthful\", \"not_english\", \"inappropriate\"]\n",
    "            required=False,\n",
    "            visible_labels=4\n",
    "        ),\n",
    "        rg.SpanQuestion(\n",
    "            name=\"entities\",\n",
    "            title=\"Highlight the entities in the text:\",\n",
    "            labels={\"PER\": \"Person\", \"ORG\": \"Organization\", \"EVE\": \"Event\"},\n",
    "            # or [\"PER\", \"ORG\", \"EVE\"],\n",
    "            field=\"text\",\n",
    "            required=True\n",
    "        ),\n",
    "        rg.RankingQuestion(\n",
    "            name=\"preference\",\n",
    "            title=\"Order replies based on your preference\",\n",
    "            description=\"1 = best, 3 = worst. Ties are allowed.\",\n",
    "            required=True,\n",
    "            values={\"reply-1\": \"Reply 1\", \"reply-2\": \"Reply 2\", \"reply-3\": \"Reply 3\"} # or [\"reply-1\", \"reply-2\", \"reply-3\"]\n",
    "        )\n",
    "    ]\n",
    ")\n",
    "\n",
    "fledgeds.push_to_argilla(name=\"explds\", workspace=hfgilla)"
   ]
  },
  {
   "cell_type": "code",
   "execution_count": null,
   "metadata": {},
   "outputs": [],
   "source": [
    "# make some records\n",
    "recfb = rg.FeedbackRecord(\n",
    "    fields={\n",
    "        \"input\": \"this is funny\",\n",
    "        \"output\": \"do you think so?\"\n",
    "    },\n",
    "    metadata={'source': 'mind'},\n",
    "    external_id='rec1'\n",
    ")"
   ]
  },
  {
   "cell_type": "code",
   "execution_count": null,
   "metadata": {},
   "outputs": [],
   "source": [
    "explds_argilla = rg.FeedbackDataset.from_argilla('explds', workspace=hfgilla)"
   ]
  },
  {
   "cell_type": "code",
   "execution_count": null,
   "metadata": {},
   "outputs": [],
   "source": [
    "explds_argilla.add_records([recfb])"
   ]
  },
  {
   "cell_type": "markdown",
   "metadata": {},
   "source": [
    "There is a new generation of datasets which are based on the task templates, and work well with hugging face datasets also. \n",
    "\n",
    "https://docs.argilla.io/en/v1.26.0/practical_guides/create_update_dataset/create_dataset.html\n",
    "\n",
    "https://huggingface.co/datasets?other=argilla\n",
    "\n",
    "These are easily integrated with HF, and pulled using below method.\n"
   ]
  },
  {
   "cell_type": "code",
   "execution_count": null,
   "metadata": {},
   "outputs": [],
   "source": [
    "from datasets import load_dataset\n",
    "\n",
    "dibt_dataset = load_dataset(\"DIBT/10k_prompts_ranked\")"
   ]
  },
  {
   "cell_type": "code",
   "execution_count": null,
   "metadata": {},
   "outputs": [],
   "source": [
    "dbt_ds = rg.FeedbackDataset.from_huggingface(\"nataliaElv/dolly_tutorial\")"
   ]
  },
  {
   "cell_type": "code",
   "execution_count": null,
   "metadata": {},
   "outputs": [],
   "source": [
    "dbt_ds[0:5]"
   ]
  },
  {
   "cell_type": "code",
   "execution_count": null,
   "metadata": {},
   "outputs": [],
   "source": [
    "for user in rg.User.list():\n",
    "    print(user.id)\n",
    "    print(user.username)"
   ]
  },
  {
   "cell_type": "code",
   "execution_count": null,
   "metadata": {},
   "outputs": [],
   "source": [
    "dbt_ds.push_to_argilla(name=\"dolly_hf\", workspace=hfgilla,)"
   ]
  },
  {
   "cell_type": "markdown",
   "metadata": {},
   "source": [
    "### Gen 2 Feedback Datasets with Text 2 Text Templates"
   ]
  },
  {
   "cell_type": "code",
   "execution_count": null,
   "metadata": {},
   "outputs": [],
   "source": [
    "# These templates include the fields and questions needed for the task,\n",
    "# as well as the guidelines to provide to the annotators.\n",
    "\n",
    "# After having initialized the FeedbackDataset templates, we can still alter \n",
    "# the fields, questions, guidelines, metadata and vectors to fit our specific\n",
    "# needs you can refer to the update configuration section"
   ]
  },
  {
   "cell_type": "code",
   "execution_count": null,
   "metadata": {},
   "outputs": [],
   "source": [
    "from argilla import FeedbackDataset, FeedbackRecord"
   ]
  },
  {
   "cell_type": "code",
   "execution_count": null,
   "metadata": {},
   "outputs": [],
   "source": [
    "# Text Classification\n",
    "\n",
    "ds_text_class = FeedbackDataset.for_text_classification(\n",
    "    labels=[\"super\", \"duper\"],\n",
    "    multi_label=False,\n",
    "    use_markdown=True,\n",
    "    guidelines=\"Read carefully and provide your feedback\",\n",
    "    metadata_properties=None,\n",
    "    vectors_settings=None\n",
    ") \n",
    "\n",
    "# FeedbackDataset(\n",
    "#     fields=[\n",
    "#         TextField(name=\"text\", use_markdown=True)\n",
    "#     ],\n",
    "#     questions=[\n",
    "#         LabelQuestion(name=\"label\", labels=[\"positive\", \"negative\"])\n",
    "#     ],\n",
    "#     guidelines=\"<Guidelines for the task>\",\n",
    "#     metadata_properties=\"<Metadata Properties>\",\n",
    "#     vectors_settings=\"<Vectors Settings>\",\n",
    "# )\n",
    "\n",
    "text_class_record = FeedbackRecord(\n",
    "    fields={\n",
    "        \"text\": \"this is funny\",\n",
    "    },\n",
    "    # metadata={'source': 'mind'},\n",
    "    # external_id='rec1'\n",
    ")\n",
    "\n",
    "ds_text_class.add_records([text_class_record])\n",
    "\n",
    "ds_text_class.push_to_argilla(name='tc_template_ds',\n",
    "                              workspace=\"hfgilla\")\n"
   ]
  },
  {
   "cell_type": "code",
   "execution_count": null,
   "metadata": {},
   "outputs": [],
   "source": [
    "# Exploring Token Classification\n",
    "\n",
    "from argilla import (\n",
    "    TextField,\n",
    "    SpanQuestion\n",
    ")\n",
    "\n",
    "ds_tokclass = FeedbackDataset(\n",
    "    fields=[TextField(name='text', required=True, use_markdown=True, title='target')],\n",
    "    questions= [SpanQuestion(\n",
    "            name=\"entities\",\n",
    "            title=\"NER\",\n",
    "            labels=[\"NOUN\", \"VERB\", \"PRN\", \"POS\"],\n",
    "            field=\"text\",\n",
    "            required=True\n",
    "    )],\n",
    "    guidelines=\"THis is a token classification task\",\n",
    "    metadata_properties=None,\n",
    "    vectors_settings=None\n",
    ")\n",
    "\n",
    "ds_tokclass.push_to_argilla(name=\"ds_tokclass\", workspace='hfgilla')"
   ]
  },
  {
   "cell_type": "code",
   "execution_count": null,
   "metadata": {},
   "outputs": [],
   "source": [
    "ds_tokclass_from_ag = FeedbackDataset.from_argilla(name=\"ds_tokclass\",workspace='hfgilla')"
   ]
  },
  {
   "cell_type": "code",
   "execution_count": null,
   "metadata": {},
   "outputs": [],
   "source": [
    "token_class_rec = FeedbackRecord(\n",
    "    fields={\n",
    "        \"text\": \"This is a very important sentence\"\n",
    "    },\n",
    ")"
   ]
  },
  {
   "cell_type": "code",
   "execution_count": null,
   "metadata": {},
   "outputs": [],
   "source": [
    "ds_tokclass_from_ag.add_records(records=[token_class_rec])"
   ]
  },
  {
   "cell_type": "code",
   "execution_count": null,
   "metadata": {},
   "outputs": [],
   "source": [
    "# Exploring Text Generation model\n",
    "from argilla import FeedbackDataset, FeedbackRecord\n",
    "\n",
    "ds_summ = FeedbackDataset.for_summarization(\n",
    "    use_markdown=True,\n",
    "    guidelines=\"This is the Feedback Dataset for Summarisation\",\n",
    "    metadata_properties=None,\n",
    "    vectors_settings=None\n",
    ")\n",
    "\n",
    "text_summ_rec = FeedbackRecord(\n",
    "    fields={\n",
    "        \"text\": \"this is a very long sentence and paragraphs of text\"\n",
    "    }\n",
    ")\n",
    "# FeedbackDataset(\n",
    "#     fields=[\n",
    "#         TextField(name=\"text\", use_markdown=True)\n",
    "#     ],\n",
    "#     questions=[\n",
    "#         TextQuestion(name=\"summary\", use_markdown=True)\n",
    "#     ],\n",
    "#     guidelines=\"<Guidelines for the task>\",\n",
    "#     metadata_properties=\"<Metadata Properties>\",\n",
    "#     vectors_settings=\"<Vectors Settings>\",\n",
    "# )\n",
    "ds_summ.add_records([text_summ_rec])\n",
    "ds_summ.push_to_argilla(\"ds_summ\", \"hfgilla\")"
   ]
  },
  {
   "cell_type": "code",
   "execution_count": null,
   "metadata": {},
   "outputs": [],
   "source": [
    "ds_trans = FeedbackDataset.for_translation(\n",
    "    use_markdown=True,\n",
    "    guidelines=None,\n",
    "    metadata_properties=None,\n",
    "    vectors_settings=None\n",
    ")\n",
    "text_trans = FeedbackRecord(\n",
    "    fields={\n",
    "        \"source\": \"This is a foriegn language text to be translated.\"\n",
    "    }\n",
    ")\n",
    "# FeedbackDataset(\n",
    "#     fields=[\n",
    "#         TextField(name=\"source\", use_markdown=True)\n",
    "#     ],\n",
    "#     questions=[\n",
    "#         TextQuestion(name=\"target\", use_markdown=True)\n",
    "#     ],\n",
    "#     guidelines=\"<Guidelines for the task>\",\n",
    "#     metadata_properties=\"<Metadata Properties>\",\n",
    "#     vectors_settings=\"<Vectors Settings>\",\n",
    "# )\n",
    "\n",
    "ds_trans.add_records([text_trans])\n",
    "ds_trans.push_to_argilla(\"ds_trans\", \"hfgilla\")"
   ]
  },
  {
   "cell_type": "code",
   "execution_count": null,
   "metadata": {},
   "outputs": [],
   "source": [
    "from argilla import FeedbackDataset, FeedbackRecord\n",
    "\n",
    "ds_qa = FeedbackDataset.for_question_answering(\n",
    "    use_markdown=True,\n",
    "    guidelines=None,\n",
    "    metadata_properties=None,\n",
    "    vectors_settings=None,\n",
    ")\n",
    "# FeedbackDataset(\n",
    "#     fields=[\n",
    "#         TextField(name=\"question\", use_markdown=True),\n",
    "#         TextField(name=\"context\", use_markdown=True)\n",
    "#     ],\n",
    "#     questions=[\n",
    "#         TextQuestion(name=\"answer\", use_markdown=True)\n",
    "#     ],\n",
    "#     guidelines=\"<Guidelines for the task>\",\n",
    "#     metadata_properties=\"<Metadata Properties>\",\n",
    "#     vectors_settings=\"<Vectors Settings>\",\n",
    "# )\n",
    "qa_rec = FeedbackRecord(\n",
    "    fields={\n",
    "        \"question\": \"This is where the question is\",\n",
    "        \"context\": \"THis is the answer for above question\"\n",
    "    }\n",
    ")\n",
    "\n",
    "ds_qa.add_records([qa_rec])\n",
    "ds_qa.push_to_argilla(\"ds_qa\", \"hfgilla\")\n",
    "\n",
    "\n"
   ]
  },
  {
   "cell_type": "markdown",
   "metadata": {},
   "source": [
    "### Gen 2 Feedback Datasets Templates"
   ]
  },
  {
   "cell_type": "code",
   "execution_count": 9,
   "metadata": {},
   "outputs": [
    {
     "data": {
      "text/html": [
       "<pre style=\"white-space:pre;overflow-x:auto;line-height:normal;font-family:Menlo,'DejaVu Sans Mono',consolas,'Courier New',monospace\"></pre>\n"
      ],
      "text/plain": []
     },
     "metadata": {},
     "output_type": "display_data"
    },
    {
     "data": {
      "text/html": [
       "<pre style=\"white-space:pre;overflow-x:auto;line-height:normal;font-family:Menlo,'DejaVu Sans Mono',consolas,'Courier New',monospace\">\n",
       "</pre>\n"
      ],
      "text/plain": [
       "\n"
      ]
     },
     "metadata": {},
     "output_type": "display_data"
    },
    {
     "data": {
      "text/html": [
       "<pre style=\"white-space:pre;overflow-x:auto;line-height:normal;font-family:Menlo,'DejaVu Sans Mono',consolas,'Courier New',monospace\"><span style=\"color: #7fbfbf; text-decoration-color: #7fbfbf\">[04/05/24 11:24:36] </span><span style=\"color: #000080; text-decoration-color: #000080\">INFO    </span> INFO:argilla.client.feedback.dataset.local.mixins:✓ Dataset succesfully  <a href=\"file://d:\\argenv\\Lib\\site-packages\\argilla\\client\\feedback\\dataset\\local\\mixins.py\" target=\"_blank\"><span style=\"color: #7f7f7f; text-decoration-color: #7f7f7f\">mixins.py</span></a><span style=\"color: #7f7f7f; text-decoration-color: #7f7f7f\">:</span><a href=\"file://d:\\argenv\\Lib\\site-packages\\argilla\\client\\feedback\\dataset\\local\\mixins.py#271\" target=\"_blank\"><span style=\"color: #7f7f7f; text-decoration-color: #7f7f7f\">271</span></a>\n",
       "<span style=\"color: #7fbfbf; text-decoration-color: #7fbfbf\">                    </span>         pushed to Argilla                                                        <span style=\"color: #7f7f7f; text-decoration-color: #7f7f7f\">             </span>\n",
       "</pre>\n"
      ],
      "text/plain": [
       "\u001b[2;36m[04/05/24 11:24:36]\u001b[0m\u001b[2;36m \u001b[0m\u001b[34mINFO    \u001b[0m INFO:argilla.client.feedback.dataset.local.mixins:✓ Dataset succesfully  \u001b]8;id=206434;file://d:\\argenv\\Lib\\site-packages\\argilla\\client\\feedback\\dataset\\local\\mixins.py\u001b\\\u001b[2mmixins.py\u001b[0m\u001b]8;;\u001b\\\u001b[2m:\u001b[0m\u001b]8;id=886822;file://d:\\argenv\\Lib\\site-packages\\argilla\\client\\feedback\\dataset\\local\\mixins.py#271\u001b\\\u001b[2m271\u001b[0m\u001b]8;;\u001b\\\n",
       "\u001b[2;36m                    \u001b[0m         pushed to Argilla                                                        \u001b[2m             \u001b[0m\n"
      ]
     },
     "metadata": {},
     "output_type": "display_data"
    },
    {
     "data": {
      "text/html": [
       "<pre style=\"white-space:pre;overflow-x:auto;line-height:normal;font-family:Menlo,'DejaVu Sans Mono',consolas,'Courier New',monospace\"><span style=\"color: #7fbfbf; text-decoration-color: #7fbfbf\">                    </span><span style=\"color: #000080; text-decoration-color: #000080\">INFO    </span> INFO:argilla.client.feedback.dataset.local.mixins:<span style=\"color: #800080; text-decoration-color: #800080; font-weight: bold\">RemoteFeedbackDataset</span><span style=\"font-weight: bold\">(</span> <a href=\"file://d:\\argenv\\Lib\\site-packages\\argilla\\client\\feedback\\dataset\\local\\mixins.py\" target=\"_blank\"><span style=\"color: #7f7f7f; text-decoration-color: #7f7f7f\">mixins.py</span></a><span style=\"color: #7f7f7f; text-decoration-color: #7f7f7f\">:</span><a href=\"file://d:\\argenv\\Lib\\site-packages\\argilla\\client\\feedback\\dataset\\local\\mixins.py#272\" target=\"_blank\"><span style=\"color: #7f7f7f; text-decoration-color: #7f7f7f\">272</span></a>\n",
       "<span style=\"color: #7fbfbf; text-decoration-color: #7fbfbf\">                    </span>            <span style=\"color: #808000; text-decoration-color: #808000\">id</span>=<span style=\"color: #ffff00; text-decoration-color: #ffff00\">552a609f</span><span style=\"color: #ffff00; text-decoration-color: #ffff00\">-e341-4dd9-8421-0d5fd59cc4d1</span>                               <span style=\"color: #7f7f7f; text-decoration-color: #7f7f7f\">             </span>\n",
       "<span style=\"color: #7fbfbf; text-decoration-color: #7fbfbf\">                    </span>            <span style=\"color: #808000; text-decoration-color: #808000\">name</span>=<span style=\"color: #800080; text-decoration-color: #800080\">ds_sim</span>                                                           <span style=\"color: #7f7f7f; text-decoration-color: #7f7f7f\">             </span>\n",
       "<span style=\"color: #7fbfbf; text-decoration-color: #7fbfbf\">                    </span>            <span style=\"color: #808000; text-decoration-color: #808000\">workspace</span>=<span style=\"color: #800080; text-decoration-color: #800080; font-weight: bold\">Workspace</span><span style=\"font-weight: bold\">(</span><span style=\"color: #808000; text-decoration-color: #808000\">id</span>=<span style=\"color: #ffff00; text-decoration-color: #ffff00\">da074b40</span><span style=\"color: #ffff00; text-decoration-color: #ffff00\">-5fa4-4cf1-b07c-384ebfc3c73e</span>,          <span style=\"color: #7f7f7f; text-decoration-color: #7f7f7f\">             </span>\n",
       "<span style=\"color: #7fbfbf; text-decoration-color: #7fbfbf\">                    </span>         <span style=\"color: #808000; text-decoration-color: #808000\">name</span>=<span style=\"color: #800080; text-decoration-color: #800080\">hfgilla</span>, <span style=\"color: #808000; text-decoration-color: #808000\">inserted_at</span>=<span style=\"color: #008080; text-decoration-color: #008080; font-weight: bold\">2024</span>-<span style=\"color: #008080; text-decoration-color: #008080; font-weight: bold\">04</span>-<span style=\"color: #008080; text-decoration-color: #008080; font-weight: bold\">02</span> <span style=\"color: #00ff00; text-decoration-color: #00ff00; font-weight: bold\">12:08:21</span>.<span style=\"color: #008080; text-decoration-color: #008080; font-weight: bold\">064036</span>,                    <span style=\"color: #7f7f7f; text-decoration-color: #7f7f7f\">             </span>\n",
       "<span style=\"color: #7fbfbf; text-decoration-color: #7fbfbf\">                    </span>         <span style=\"color: #808000; text-decoration-color: #808000\">updated_at</span>=<span style=\"color: #008080; text-decoration-color: #008080; font-weight: bold\">2024</span>-<span style=\"color: #008080; text-decoration-color: #008080; font-weight: bold\">04</span>-<span style=\"color: #008080; text-decoration-color: #008080; font-weight: bold\">02</span> <span style=\"color: #00ff00; text-decoration-color: #00ff00; font-weight: bold\">12:08:21</span>.<span style=\"color: #008080; text-decoration-color: #008080; font-weight: bold\">064036</span><span style=\"font-weight: bold\">)</span>                                   <span style=\"color: #7f7f7f; text-decoration-color: #7f7f7f\">             </span>\n",
       "<span style=\"color: #7fbfbf; text-decoration-color: #7fbfbf\">                    </span>            <span style=\"color: #808000; text-decoration-color: #808000\">url</span>=<span style=\"color: #0000ff; text-decoration-color: #0000ff; text-decoration: underline\">https://kamaljp-argillatest.hf.space/dataset/552a609f-e341-4dd9-8</span> <span style=\"color: #7f7f7f; text-decoration-color: #7f7f7f\">             </span>\n",
       "<span style=\"color: #7fbfbf; text-decoration-color: #7fbfbf\">                    </span>         <span style=\"color: #0000ff; text-decoration-color: #0000ff; text-decoration: underline\">421-0d5fd59cc4d1/annotation-mode</span>                                         <span style=\"color: #7f7f7f; text-decoration-color: #7f7f7f\">             </span>\n",
       "<span style=\"color: #7fbfbf; text-decoration-color: #7fbfbf\">                    </span>            <span style=\"color: #808000; text-decoration-color: #808000\">fields</span>=<span style=\"font-weight: bold\">[</span><span style=\"color: #800080; text-decoration-color: #800080; font-weight: bold\">RemoteTextField</span><span style=\"font-weight: bold\">(</span><span style=\"color: #808000; text-decoration-color: #808000\">id</span>=<span style=\"color: #800080; text-decoration-color: #800080; font-weight: bold\">UUID</span><span style=\"font-weight: bold\">(</span><span style=\"color: #008000; text-decoration-color: #008000\">'c5d89a72-4715-4689-a876-5d67d4487e60</span> <span style=\"color: #7f7f7f; text-decoration-color: #7f7f7f\">             </span>\n",
       "<span style=\"color: #7fbfbf; text-decoration-color: #7fbfbf\">                    </span>         <span style=\"color: #008000; text-decoration-color: #008000\">'</span><span style=\"font-weight: bold\">)</span>, <span style=\"color: #808000; text-decoration-color: #808000\">client</span>=<span style=\"color: #800080; text-decoration-color: #800080; font-style: italic\">None</span>, <span style=\"color: #808000; text-decoration-color: #808000\">name</span>=<span style=\"color: #008000; text-decoration-color: #008000\">'sentence-1'</span>, <span style=\"color: #808000; text-decoration-color: #808000\">title</span>=<span style=\"color: #008000; text-decoration-color: #008000\">'Sentence-1'</span>, <span style=\"color: #808000; text-decoration-color: #808000\">required</span>=<span style=\"color: #00ff00; text-decoration-color: #00ff00; font-style: italic\">True</span>,   <span style=\"color: #7f7f7f; text-decoration-color: #7f7f7f\">             </span>\n",
       "<span style=\"color: #7fbfbf; text-decoration-color: #7fbfbf\">                    </span>         <span style=\"color: #808000; text-decoration-color: #808000\">type</span>=<span style=\"color: #008000; text-decoration-color: #008000\">'text'</span>, <span style=\"color: #808000; text-decoration-color: #808000\">use_markdown</span>=<span style=\"color: #00ff00; text-decoration-color: #00ff00; font-style: italic\">True</span><span style=\"font-weight: bold\">)</span>,                                         <span style=\"color: #7f7f7f; text-decoration-color: #7f7f7f\">             </span>\n",
       "<span style=\"color: #7fbfbf; text-decoration-color: #7fbfbf\">                    </span>         <span style=\"color: #800080; text-decoration-color: #800080; font-weight: bold\">RemoteTextField</span><span style=\"font-weight: bold\">(</span><span style=\"color: #808000; text-decoration-color: #808000\">id</span>=<span style=\"color: #800080; text-decoration-color: #800080; font-weight: bold\">UUID</span><span style=\"font-weight: bold\">(</span><span style=\"color: #008000; text-decoration-color: #008000\">'2fddd104-b7a3-46e5-8ffa-06ca8678a7ac'</span><span style=\"font-weight: bold\">)</span>,         <span style=\"color: #7f7f7f; text-decoration-color: #7f7f7f\">             </span>\n",
       "<span style=\"color: #7fbfbf; text-decoration-color: #7fbfbf\">                    </span>         <span style=\"color: #808000; text-decoration-color: #808000\">client</span>=<span style=\"color: #800080; text-decoration-color: #800080; font-style: italic\">None</span>, <span style=\"color: #808000; text-decoration-color: #808000\">name</span>=<span style=\"color: #008000; text-decoration-color: #008000\">'sentence-2'</span>, <span style=\"color: #808000; text-decoration-color: #808000\">title</span>=<span style=\"color: #008000; text-decoration-color: #008000\">'Sentence-2'</span>, <span style=\"color: #808000; text-decoration-color: #808000\">required</span>=<span style=\"color: #00ff00; text-decoration-color: #00ff00; font-style: italic\">True</span>,       <span style=\"color: #7f7f7f; text-decoration-color: #7f7f7f\">             </span>\n",
       "<span style=\"color: #7fbfbf; text-decoration-color: #7fbfbf\">                    </span>         <span style=\"color: #808000; text-decoration-color: #808000\">type</span>=<span style=\"color: #008000; text-decoration-color: #008000\">'text'</span>, <span style=\"color: #808000; text-decoration-color: #808000\">use_markdown</span>=<span style=\"color: #00ff00; text-decoration-color: #00ff00; font-style: italic\">True</span><span style=\"font-weight: bold\">)]</span>                                         <span style=\"color: #7f7f7f; text-decoration-color: #7f7f7f\">             </span>\n",
       "<span style=\"color: #7fbfbf; text-decoration-color: #7fbfbf\">                    </span>            <span style=\"color: #808000; text-decoration-color: #808000\">questions</span>=<span style=\"font-weight: bold\">[</span><span style=\"color: #800080; text-decoration-color: #800080; font-weight: bold\">RemoteRatingQuestion</span><span style=\"font-weight: bold\">(</span><span style=\"color: #808000; text-decoration-color: #808000\">id</span>=<span style=\"color: #800080; text-decoration-color: #800080; font-weight: bold\">UUID</span><span style=\"font-weight: bold\">(</span><span style=\"color: #008000; text-decoration-color: #008000\">'26fc5c62-b6a3-4f8d-aa3c-a306</span> <span style=\"color: #7f7f7f; text-decoration-color: #7f7f7f\">             </span>\n",
       "<span style=\"color: #7fbfbf; text-decoration-color: #7fbfbf\">                    </span>         <span style=\"color: #008000; text-decoration-color: #008000\">4e114f3a'</span><span style=\"font-weight: bold\">)</span>, <span style=\"color: #808000; text-decoration-color: #808000\">client</span>=<span style=\"color: #800080; text-decoration-color: #800080; font-style: italic\">None</span>, <span style=\"color: #808000; text-decoration-color: #808000\">name</span>=<span style=\"color: #008000; text-decoration-color: #008000\">'similarity'</span>, <span style=\"color: #808000; text-decoration-color: #808000\">title</span>=<span style=\"color: #008000; text-decoration-color: #008000\">'Similarity'</span>,          <span style=\"color: #7f7f7f; text-decoration-color: #7f7f7f\">             </span>\n",
       "<span style=\"color: #7fbfbf; text-decoration-color: #7fbfbf\">                    </span>         <span style=\"color: #808000; text-decoration-color: #808000\">description</span>=<span style=\"color: #008000; text-decoration-color: #008000\">'Rate the similarity between the two sentences.'</span>,            <span style=\"color: #7f7f7f; text-decoration-color: #7f7f7f\">             </span>\n",
       "<span style=\"color: #7fbfbf; text-decoration-color: #7fbfbf\">                    </span>         <span style=\"color: #808000; text-decoration-color: #808000\">required</span>=<span style=\"color: #00ff00; text-decoration-color: #00ff00; font-style: italic\">True</span>, <span style=\"color: #808000; text-decoration-color: #808000\">type</span>=<span style=\"color: #008000; text-decoration-color: #008000\">'rating'</span>, <span style=\"color: #808000; text-decoration-color: #808000\">values</span>=<span style=\"font-weight: bold\">[</span><span style=\"color: #008080; text-decoration-color: #008080; font-weight: bold\">1</span>, <span style=\"color: #008080; text-decoration-color: #008080; font-weight: bold\">2</span>, <span style=\"color: #008080; text-decoration-color: #008080; font-weight: bold\">3</span>, <span style=\"color: #008080; text-decoration-color: #008080; font-weight: bold\">4</span>, <span style=\"color: #008080; text-decoration-color: #008080; font-weight: bold\">5</span>, <span style=\"color: #008080; text-decoration-color: #008080; font-weight: bold\">6</span>, <span style=\"color: #008080; text-decoration-color: #008080; font-weight: bold\">7</span><span style=\"font-weight: bold\">])]</span>             <span style=\"color: #7f7f7f; text-decoration-color: #7f7f7f\">             </span>\n",
       "<span style=\"color: #7fbfbf; text-decoration-color: #7fbfbf\">                    </span>            <span style=\"color: #808000; text-decoration-color: #808000\">guidelines</span>=<span style=\"color: #800080; text-decoration-color: #800080\">This</span> is a sentence similarity dataset that contains two    <span style=\"color: #7f7f7f; text-decoration-color: #7f7f7f\">             </span>\n",
       "<span style=\"color: #7fbfbf; text-decoration-color: #7fbfbf\">                    </span>         sentences. Please rate the similarity between the two sentences.         <span style=\"color: #7f7f7f; text-decoration-color: #7f7f7f\">             </span>\n",
       "<span style=\"color: #7fbfbf; text-decoration-color: #7fbfbf\">                    </span>            <span style=\"color: #808000; text-decoration-color: #808000\">metadata_properties</span>=<span style=\"font-weight: bold\">[]</span>                                                <span style=\"color: #7f7f7f; text-decoration-color: #7f7f7f\">             </span>\n",
       "<span style=\"color: #7fbfbf; text-decoration-color: #7fbfbf\">                    </span>            <span style=\"color: #808000; text-decoration-color: #808000\">vectors_settings</span>=<span style=\"font-weight: bold\">[]</span>                                                   <span style=\"color: #7f7f7f; text-decoration-color: #7f7f7f\">             </span>\n",
       "<span style=\"color: #7fbfbf; text-decoration-color: #7fbfbf\">                    </span>         <span style=\"font-weight: bold\">)</span>                                                                        <span style=\"color: #7f7f7f; text-decoration-color: #7f7f7f\">             </span>\n",
       "</pre>\n"
      ],
      "text/plain": [
       "\u001b[2;36m                   \u001b[0m\u001b[2;36m \u001b[0m\u001b[34mINFO    \u001b[0m INFO:argilla.client.feedback.dataset.local.mixins:\u001b[1;35mRemoteFeedbackDataset\u001b[0m\u001b[1m(\u001b[0m \u001b]8;id=592556;file://d:\\argenv\\Lib\\site-packages\\argilla\\client\\feedback\\dataset\\local\\mixins.py\u001b\\\u001b[2mmixins.py\u001b[0m\u001b]8;;\u001b\\\u001b[2m:\u001b[0m\u001b]8;id=759114;file://d:\\argenv\\Lib\\site-packages\\argilla\\client\\feedback\\dataset\\local\\mixins.py#272\u001b\\\u001b[2m272\u001b[0m\u001b]8;;\u001b\\\n",
       "\u001b[2;36m                    \u001b[0m            \u001b[33mid\u001b[0m=\u001b[93m552a609f\u001b[0m\u001b[93m-e341-4dd9-8421-0d5fd59cc4d1\u001b[0m                               \u001b[2m             \u001b[0m\n",
       "\u001b[2;36m                    \u001b[0m            \u001b[33mname\u001b[0m=\u001b[35mds_sim\u001b[0m                                                           \u001b[2m             \u001b[0m\n",
       "\u001b[2;36m                    \u001b[0m            \u001b[33mworkspace\u001b[0m=\u001b[1;35mWorkspace\u001b[0m\u001b[1m(\u001b[0m\u001b[33mid\u001b[0m=\u001b[93mda074b40\u001b[0m\u001b[93m-5fa4-4cf1-b07c-384ebfc3c73e\u001b[0m,          \u001b[2m             \u001b[0m\n",
       "\u001b[2;36m                    \u001b[0m         \u001b[33mname\u001b[0m=\u001b[35mhfgilla\u001b[0m, \u001b[33minserted_at\u001b[0m=\u001b[1;36m2024\u001b[0m-\u001b[1;36m04\u001b[0m-\u001b[1;36m02\u001b[0m \u001b[1;92m12:08:21\u001b[0m.\u001b[1;36m064036\u001b[0m,                    \u001b[2m             \u001b[0m\n",
       "\u001b[2;36m                    \u001b[0m         \u001b[33mupdated_at\u001b[0m=\u001b[1;36m2024\u001b[0m-\u001b[1;36m04\u001b[0m-\u001b[1;36m02\u001b[0m \u001b[1;92m12:08:21\u001b[0m.\u001b[1;36m064036\u001b[0m\u001b[1m)\u001b[0m                                   \u001b[2m             \u001b[0m\n",
       "\u001b[2;36m                    \u001b[0m            \u001b[33murl\u001b[0m=\u001b[4;94mhttps\u001b[0m\u001b[4;94m://kamaljp-argillatest.hf.space/dataset/552a609f-e341-4dd9-8\u001b[0m \u001b[2m             \u001b[0m\n",
       "\u001b[2;36m                    \u001b[0m         \u001b[4;94m421-0d5fd59cc4d1/annotation-mode\u001b[0m                                         \u001b[2m             \u001b[0m\n",
       "\u001b[2;36m                    \u001b[0m            \u001b[33mfields\u001b[0m=\u001b[1m[\u001b[0m\u001b[1;35mRemoteTextField\u001b[0m\u001b[1m(\u001b[0m\u001b[33mid\u001b[0m=\u001b[1;35mUUID\u001b[0m\u001b[1m(\u001b[0m\u001b[32m'c5d89a72-4715-4689-a876-5d67d4487e60\u001b[0m \u001b[2m             \u001b[0m\n",
       "\u001b[2;36m                    \u001b[0m         \u001b[32m'\u001b[0m\u001b[1m)\u001b[0m, \u001b[33mclient\u001b[0m=\u001b[3;35mNone\u001b[0m, \u001b[33mname\u001b[0m=\u001b[32m'sentence-1'\u001b[0m, \u001b[33mtitle\u001b[0m=\u001b[32m'Sentence-1'\u001b[0m, \u001b[33mrequired\u001b[0m=\u001b[3;92mTrue\u001b[0m,   \u001b[2m             \u001b[0m\n",
       "\u001b[2;36m                    \u001b[0m         \u001b[33mtype\u001b[0m=\u001b[32m'text'\u001b[0m, \u001b[33muse_markdown\u001b[0m=\u001b[3;92mTrue\u001b[0m\u001b[1m)\u001b[0m,                                         \u001b[2m             \u001b[0m\n",
       "\u001b[2;36m                    \u001b[0m         \u001b[1;35mRemoteTextField\u001b[0m\u001b[1m(\u001b[0m\u001b[33mid\u001b[0m=\u001b[1;35mUUID\u001b[0m\u001b[1m(\u001b[0m\u001b[32m'2fddd104-b7a3-46e5-8ffa-06ca8678a7ac'\u001b[0m\u001b[1m)\u001b[0m,         \u001b[2m             \u001b[0m\n",
       "\u001b[2;36m                    \u001b[0m         \u001b[33mclient\u001b[0m=\u001b[3;35mNone\u001b[0m, \u001b[33mname\u001b[0m=\u001b[32m'sentence-2'\u001b[0m, \u001b[33mtitle\u001b[0m=\u001b[32m'Sentence-2'\u001b[0m, \u001b[33mrequired\u001b[0m=\u001b[3;92mTrue\u001b[0m,       \u001b[2m             \u001b[0m\n",
       "\u001b[2;36m                    \u001b[0m         \u001b[33mtype\u001b[0m=\u001b[32m'text'\u001b[0m, \u001b[33muse_markdown\u001b[0m=\u001b[3;92mTrue\u001b[0m\u001b[1m)\u001b[0m\u001b[1m]\u001b[0m                                         \u001b[2m             \u001b[0m\n",
       "\u001b[2;36m                    \u001b[0m            \u001b[33mquestions\u001b[0m=\u001b[1m[\u001b[0m\u001b[1;35mRemoteRatingQuestion\u001b[0m\u001b[1m(\u001b[0m\u001b[33mid\u001b[0m=\u001b[1;35mUUID\u001b[0m\u001b[1m(\u001b[0m\u001b[32m'26fc5c62-b6a3-4f8d-aa3c-a306\u001b[0m \u001b[2m             \u001b[0m\n",
       "\u001b[2;36m                    \u001b[0m         \u001b[32m4e114f3a'\u001b[0m\u001b[1m)\u001b[0m, \u001b[33mclient\u001b[0m=\u001b[3;35mNone\u001b[0m, \u001b[33mname\u001b[0m=\u001b[32m'similarity'\u001b[0m, \u001b[33mtitle\u001b[0m=\u001b[32m'Similarity'\u001b[0m,          \u001b[2m             \u001b[0m\n",
       "\u001b[2;36m                    \u001b[0m         \u001b[33mdescription\u001b[0m=\u001b[32m'Rate the similarity between the two sentences.'\u001b[0m,            \u001b[2m             \u001b[0m\n",
       "\u001b[2;36m                    \u001b[0m         \u001b[33mrequired\u001b[0m=\u001b[3;92mTrue\u001b[0m, \u001b[33mtype\u001b[0m=\u001b[32m'rating'\u001b[0m, \u001b[33mvalues\u001b[0m=\u001b[1m[\u001b[0m\u001b[1;36m1\u001b[0m, \u001b[1;36m2\u001b[0m, \u001b[1;36m3\u001b[0m, \u001b[1;36m4\u001b[0m, \u001b[1;36m5\u001b[0m, \u001b[1;36m6\u001b[0m, \u001b[1;36m7\u001b[0m\u001b[1m]\u001b[0m\u001b[1m)\u001b[0m\u001b[1m]\u001b[0m             \u001b[2m             \u001b[0m\n",
       "\u001b[2;36m                    \u001b[0m            \u001b[33mguidelines\u001b[0m=\u001b[35mThis\u001b[0m is a sentence similarity dataset that contains two    \u001b[2m             \u001b[0m\n",
       "\u001b[2;36m                    \u001b[0m         sentences. Please rate the similarity between the two sentences.         \u001b[2m             \u001b[0m\n",
       "\u001b[2;36m                    \u001b[0m            \u001b[33mmetadata_properties\u001b[0m=\u001b[1m[\u001b[0m\u001b[1m]\u001b[0m                                                \u001b[2m             \u001b[0m\n",
       "\u001b[2;36m                    \u001b[0m            \u001b[33mvectors_settings\u001b[0m=\u001b[1m[\u001b[0m\u001b[1m]\u001b[0m                                                   \u001b[2m             \u001b[0m\n",
       "\u001b[2;36m                    \u001b[0m         \u001b[1m)\u001b[0m                                                                        \u001b[2m             \u001b[0m\n"
      ]
     },
     "metadata": {},
     "output_type": "display_data"
    },
    {
     "data": {
      "text/plain": [
       "RemoteFeedbackDataset(\n",
       "   id=552a609f-e341-4dd9-8421-0d5fd59cc4d1\n",
       "   name=ds_sim\n",
       "   workspace=Workspace(id=da074b40-5fa4-4cf1-b07c-384ebfc3c73e, name=hfgilla, inserted_at=2024-04-02 12:08:21.064036, updated_at=2024-04-02 12:08:21.064036)\n",
       "   url=https://kamaljp-argillatest.hf.space/dataset/552a609f-e341-4dd9-8421-0d5fd59cc4d1/annotation-mode\n",
       "   fields=[RemoteTextField(id=UUID('c5d89a72-4715-4689-a876-5d67d4487e60'), client=None, name='sentence-1', title='Sentence-1', required=True, type='text', use_markdown=True), RemoteTextField(id=UUID('2fddd104-b7a3-46e5-8ffa-06ca8678a7ac'), client=None, name='sentence-2', title='Sentence-2', required=True, type='text', use_markdown=True)]\n",
       "   questions=[RemoteRatingQuestion(id=UUID('26fc5c62-b6a3-4f8d-aa3c-a3064e114f3a'), client=None, name='similarity', title='Similarity', description='Rate the similarity between the two sentences.', required=True, type='rating', values=[1, 2, 3, 4, 5, 6, 7])]\n",
       "   guidelines=This is a sentence similarity dataset that contains two sentences. Please rate the similarity between the two sentences.\n",
       "   metadata_properties=[]\n",
       "   vectors_settings=[]\n",
       ")"
      ]
     },
     "execution_count": 9,
     "metadata": {},
     "output_type": "execute_result"
    }
   ],
   "source": [
    "import argilla as rg\n",
    "\n",
    "ds_sim = rg.FeedbackDataset.for_sentence_similarity(\n",
    "    rating_scale=7,\n",
    "    use_markdown=True,\n",
    "    guidelines=None,\n",
    "    metadata_properties=None,\n",
    "    vectors_settings=None,\n",
    ")\n",
    "\n",
    "# FeedbackDataset(\n",
    "#     fields=[\n",
    "#         TextField(name=\"sentence-1\", use_markdown=True),\n",
    "#         TextField(name=\"sentence-2\", use_markdown=True)\n",
    "#     ],\n",
    "#     questions=[\n",
    "#         RatingQuestion(name=\"similarity\", values=[1, 2, 3, 4, 5, 6, 7])\n",
    "#     ],\n",
    "#     guidelines=\"<Guidelines for the task>\",\n",
    "#     metadata_properties=\"<Metadata Properties>\",\n",
    "#     vectors_settings=\"<Vectors Settings>\",\n",
    "# )\n",
    "sim_rec = rg.FeedbackRecord(\n",
    "    fields={\n",
    "        \"sentence-1\":\"This is the first sentence with a context\",\n",
    "        \"sentence-2\":\"THis is second sentence similar context to first\"\n",
    "    }\n",
    ")\n",
    "\n",
    "ds_sim.add_records([sim_rec])\n",
    "ds_sim.push_to_argilla(\"ds_sim\", \"hfgilla\")"
   ]
  },
  {
   "cell_type": "code",
   "execution_count": 10,
   "metadata": {},
   "outputs": [
    {
     "data": {
      "text/html": [
       "<pre style=\"white-space:pre;overflow-x:auto;line-height:normal;font-family:Menlo,'DejaVu Sans Mono',consolas,'Courier New',monospace\"></pre>\n"
      ],
      "text/plain": []
     },
     "metadata": {},
     "output_type": "display_data"
    },
    {
     "data": {
      "text/html": [
       "<pre style=\"white-space:pre;overflow-x:auto;line-height:normal;font-family:Menlo,'DejaVu Sans Mono',consolas,'Courier New',monospace\">\n",
       "</pre>\n"
      ],
      "text/plain": [
       "\n"
      ]
     },
     "metadata": {},
     "output_type": "display_data"
    },
    {
     "data": {
      "text/html": [
       "<pre style=\"white-space:pre;overflow-x:auto;line-height:normal;font-family:Menlo,'DejaVu Sans Mono',consolas,'Courier New',monospace\"><span style=\"color: #7fbfbf; text-decoration-color: #7fbfbf\">[04/05/24 11:27:55] </span><span style=\"color: #000080; text-decoration-color: #000080\">INFO    </span> INFO:argilla.client.feedback.dataset.local.mixins:✓ Dataset succesfully  <a href=\"file://d:\\argenv\\Lib\\site-packages\\argilla\\client\\feedback\\dataset\\local\\mixins.py\" target=\"_blank\"><span style=\"color: #7f7f7f; text-decoration-color: #7f7f7f\">mixins.py</span></a><span style=\"color: #7f7f7f; text-decoration-color: #7f7f7f\">:</span><a href=\"file://d:\\argenv\\Lib\\site-packages\\argilla\\client\\feedback\\dataset\\local\\mixins.py#271\" target=\"_blank\"><span style=\"color: #7f7f7f; text-decoration-color: #7f7f7f\">271</span></a>\n",
       "<span style=\"color: #7fbfbf; text-decoration-color: #7fbfbf\">                    </span>         pushed to Argilla                                                        <span style=\"color: #7f7f7f; text-decoration-color: #7f7f7f\">             </span>\n",
       "</pre>\n"
      ],
      "text/plain": [
       "\u001b[2;36m[04/05/24 11:27:55]\u001b[0m\u001b[2;36m \u001b[0m\u001b[34mINFO    \u001b[0m INFO:argilla.client.feedback.dataset.local.mixins:✓ Dataset succesfully  \u001b]8;id=929804;file://d:\\argenv\\Lib\\site-packages\\argilla\\client\\feedback\\dataset\\local\\mixins.py\u001b\\\u001b[2mmixins.py\u001b[0m\u001b]8;;\u001b\\\u001b[2m:\u001b[0m\u001b]8;id=979336;file://d:\\argenv\\Lib\\site-packages\\argilla\\client\\feedback\\dataset\\local\\mixins.py#271\u001b\\\u001b[2m271\u001b[0m\u001b]8;;\u001b\\\n",
       "\u001b[2;36m                    \u001b[0m         pushed to Argilla                                                        \u001b[2m             \u001b[0m\n"
      ]
     },
     "metadata": {},
     "output_type": "display_data"
    },
    {
     "data": {
      "text/html": [
       "<pre style=\"white-space:pre;overflow-x:auto;line-height:normal;font-family:Menlo,'DejaVu Sans Mono',consolas,'Courier New',monospace\"><span style=\"color: #7fbfbf; text-decoration-color: #7fbfbf\">                    </span><span style=\"color: #000080; text-decoration-color: #000080\">INFO    </span> INFO:argilla.client.feedback.dataset.local.mixins:<span style=\"color: #800080; text-decoration-color: #800080; font-weight: bold\">RemoteFeedbackDataset</span><span style=\"font-weight: bold\">(</span> <a href=\"file://d:\\argenv\\Lib\\site-packages\\argilla\\client\\feedback\\dataset\\local\\mixins.py\" target=\"_blank\"><span style=\"color: #7f7f7f; text-decoration-color: #7f7f7f\">mixins.py</span></a><span style=\"color: #7f7f7f; text-decoration-color: #7f7f7f\">:</span><a href=\"file://d:\\argenv\\Lib\\site-packages\\argilla\\client\\feedback\\dataset\\local\\mixins.py#272\" target=\"_blank\"><span style=\"color: #7f7f7f; text-decoration-color: #7f7f7f\">272</span></a>\n",
       "<span style=\"color: #7fbfbf; text-decoration-color: #7fbfbf\">                    </span>            <span style=\"color: #808000; text-decoration-color: #808000\">id</span>=<span style=\"color: #ffff00; text-decoration-color: #ffff00\">9a3b9789</span><span style=\"color: #ffff00; text-decoration-color: #ffff00\">-50a0-439a-9bcf-9798bf09de52</span>                               <span style=\"color: #7f7f7f; text-decoration-color: #7f7f7f\">             </span>\n",
       "<span style=\"color: #7fbfbf; text-decoration-color: #7fbfbf\">                    </span>            <span style=\"color: #808000; text-decoration-color: #808000\">name</span>=<span style=\"color: #800080; text-decoration-color: #800080\">ds_t2t</span>                                                           <span style=\"color: #7f7f7f; text-decoration-color: #7f7f7f\">             </span>\n",
       "<span style=\"color: #7fbfbf; text-decoration-color: #7fbfbf\">                    </span>            <span style=\"color: #808000; text-decoration-color: #808000\">workspace</span>=<span style=\"color: #800080; text-decoration-color: #800080; font-weight: bold\">Workspace</span><span style=\"font-weight: bold\">(</span><span style=\"color: #808000; text-decoration-color: #808000\">id</span>=<span style=\"color: #ffff00; text-decoration-color: #ffff00\">da074b40</span><span style=\"color: #ffff00; text-decoration-color: #ffff00\">-5fa4-4cf1-b07c-384ebfc3c73e</span>,          <span style=\"color: #7f7f7f; text-decoration-color: #7f7f7f\">             </span>\n",
       "<span style=\"color: #7fbfbf; text-decoration-color: #7fbfbf\">                    </span>         <span style=\"color: #808000; text-decoration-color: #808000\">name</span>=<span style=\"color: #800080; text-decoration-color: #800080\">hfgilla</span>, <span style=\"color: #808000; text-decoration-color: #808000\">inserted_at</span>=<span style=\"color: #008080; text-decoration-color: #008080; font-weight: bold\">2024</span>-<span style=\"color: #008080; text-decoration-color: #008080; font-weight: bold\">04</span>-<span style=\"color: #008080; text-decoration-color: #008080; font-weight: bold\">02</span> <span style=\"color: #00ff00; text-decoration-color: #00ff00; font-weight: bold\">12:08:21</span>.<span style=\"color: #008080; text-decoration-color: #008080; font-weight: bold\">064036</span>,                    <span style=\"color: #7f7f7f; text-decoration-color: #7f7f7f\">             </span>\n",
       "<span style=\"color: #7fbfbf; text-decoration-color: #7fbfbf\">                    </span>         <span style=\"color: #808000; text-decoration-color: #808000\">updated_at</span>=<span style=\"color: #008080; text-decoration-color: #008080; font-weight: bold\">2024</span>-<span style=\"color: #008080; text-decoration-color: #008080; font-weight: bold\">04</span>-<span style=\"color: #008080; text-decoration-color: #008080; font-weight: bold\">02</span> <span style=\"color: #00ff00; text-decoration-color: #00ff00; font-weight: bold\">12:08:21</span>.<span style=\"color: #008080; text-decoration-color: #008080; font-weight: bold\">064036</span><span style=\"font-weight: bold\">)</span>                                   <span style=\"color: #7f7f7f; text-decoration-color: #7f7f7f\">             </span>\n",
       "<span style=\"color: #7fbfbf; text-decoration-color: #7fbfbf\">                    </span>            <span style=\"color: #808000; text-decoration-color: #808000\">url</span>=<span style=\"color: #0000ff; text-decoration-color: #0000ff; text-decoration: underline\">https://kamaljp-argillatest.hf.space/dataset/9a3b9789-50a0-439a-9</span> <span style=\"color: #7f7f7f; text-decoration-color: #7f7f7f\">             </span>\n",
       "<span style=\"color: #7fbfbf; text-decoration-color: #7fbfbf\">                    </span>         <span style=\"color: #0000ff; text-decoration-color: #0000ff; text-decoration: underline\">bcf-9798bf09de52/annotation-mode</span>                                         <span style=\"color: #7f7f7f; text-decoration-color: #7f7f7f\">             </span>\n",
       "<span style=\"color: #7fbfbf; text-decoration-color: #7fbfbf\">                    </span>            <span style=\"color: #808000; text-decoration-color: #808000\">fields</span>=<span style=\"font-weight: bold\">[</span><span style=\"color: #800080; text-decoration-color: #800080; font-weight: bold\">RemoteTextField</span><span style=\"font-weight: bold\">(</span><span style=\"color: #808000; text-decoration-color: #808000\">id</span>=<span style=\"color: #800080; text-decoration-color: #800080; font-weight: bold\">UUID</span><span style=\"font-weight: bold\">(</span><span style=\"color: #008000; text-decoration-color: #008000\">'1c572c97-4a4b-4e18-9e85-f11767239536</span> <span style=\"color: #7f7f7f; text-decoration-color: #7f7f7f\">             </span>\n",
       "<span style=\"color: #7fbfbf; text-decoration-color: #7fbfbf\">                    </span>         <span style=\"color: #008000; text-decoration-color: #008000\">'</span><span style=\"font-weight: bold\">)</span>, <span style=\"color: #808000; text-decoration-color: #808000\">client</span>=<span style=\"color: #800080; text-decoration-color: #800080; font-style: italic\">None</span>, <span style=\"color: #808000; text-decoration-color: #808000\">name</span>=<span style=\"color: #008000; text-decoration-color: #008000\">'premise'</span>, <span style=\"color: #808000; text-decoration-color: #808000\">title</span>=<span style=\"color: #008000; text-decoration-color: #008000\">'Premise'</span>, <span style=\"color: #808000; text-decoration-color: #808000\">required</span>=<span style=\"color: #00ff00; text-decoration-color: #00ff00; font-style: italic\">True</span>,         <span style=\"color: #7f7f7f; text-decoration-color: #7f7f7f\">             </span>\n",
       "<span style=\"color: #7fbfbf; text-decoration-color: #7fbfbf\">                    </span>         <span style=\"color: #808000; text-decoration-color: #808000\">type</span>=<span style=\"color: #008000; text-decoration-color: #008000\">'text'</span>, <span style=\"color: #808000; text-decoration-color: #808000\">use_markdown</span>=<span style=\"color: #00ff00; text-decoration-color: #00ff00; font-style: italic\">True</span><span style=\"font-weight: bold\">)</span>,                                         <span style=\"color: #7f7f7f; text-decoration-color: #7f7f7f\">             </span>\n",
       "<span style=\"color: #7fbfbf; text-decoration-color: #7fbfbf\">                    </span>         <span style=\"color: #800080; text-decoration-color: #800080; font-weight: bold\">RemoteTextField</span><span style=\"font-weight: bold\">(</span><span style=\"color: #808000; text-decoration-color: #808000\">id</span>=<span style=\"color: #800080; text-decoration-color: #800080; font-weight: bold\">UUID</span><span style=\"font-weight: bold\">(</span><span style=\"color: #008000; text-decoration-color: #008000\">'7bcb4d0d-b10e-4ec0-b0b9-c73dd6ab4d0f'</span><span style=\"font-weight: bold\">)</span>,         <span style=\"color: #7f7f7f; text-decoration-color: #7f7f7f\">             </span>\n",
       "<span style=\"color: #7fbfbf; text-decoration-color: #7fbfbf\">                    </span>         <span style=\"color: #808000; text-decoration-color: #808000\">client</span>=<span style=\"color: #800080; text-decoration-color: #800080; font-style: italic\">None</span>, <span style=\"color: #808000; text-decoration-color: #808000\">name</span>=<span style=\"color: #008000; text-decoration-color: #008000\">'hypothesis'</span>, <span style=\"color: #808000; text-decoration-color: #808000\">title</span>=<span style=\"color: #008000; text-decoration-color: #008000\">'Hypothesis'</span>, <span style=\"color: #808000; text-decoration-color: #808000\">required</span>=<span style=\"color: #00ff00; text-decoration-color: #00ff00; font-style: italic\">True</span>,       <span style=\"color: #7f7f7f; text-decoration-color: #7f7f7f\">             </span>\n",
       "<span style=\"color: #7fbfbf; text-decoration-color: #7fbfbf\">                    </span>         <span style=\"color: #808000; text-decoration-color: #808000\">type</span>=<span style=\"color: #008000; text-decoration-color: #008000\">'text'</span>, <span style=\"color: #808000; text-decoration-color: #808000\">use_markdown</span>=<span style=\"color: #00ff00; text-decoration-color: #00ff00; font-style: italic\">True</span><span style=\"font-weight: bold\">)]</span>                                         <span style=\"color: #7f7f7f; text-decoration-color: #7f7f7f\">             </span>\n",
       "<span style=\"color: #7fbfbf; text-decoration-color: #7fbfbf\">                    </span>            <span style=\"color: #808000; text-decoration-color: #808000\">questions</span>=<span style=\"font-weight: bold\">[</span><span style=\"color: #800080; text-decoration-color: #800080; font-weight: bold\">RemoteLabelQuestion</span><span style=\"font-weight: bold\">(</span><span style=\"color: #808000; text-decoration-color: #808000\">id</span>=<span style=\"color: #800080; text-decoration-color: #800080; font-weight: bold\">UUID</span><span style=\"font-weight: bold\">(</span><span style=\"color: #008000; text-decoration-color: #008000\">'ddd2f7c1-b89d-4aa2-a4d9-52c81</span> <span style=\"color: #7f7f7f; text-decoration-color: #7f7f7f\">             </span>\n",
       "<span style=\"color: #7fbfbf; text-decoration-color: #7fbfbf\">                    </span>         <span style=\"color: #008000; text-decoration-color: #008000\">bc21fa1'</span><span style=\"font-weight: bold\">)</span>, <span style=\"color: #808000; text-decoration-color: #808000\">client</span>=<span style=\"color: #800080; text-decoration-color: #800080; font-style: italic\">None</span>, <span style=\"color: #808000; text-decoration-color: #808000\">name</span>=<span style=\"color: #008000; text-decoration-color: #008000\">'label'</span>, <span style=\"color: #808000; text-decoration-color: #808000\">title</span>=<span style=\"color: #008000; text-decoration-color: #008000\">'Label'</span>, <span style=\"color: #808000; text-decoration-color: #808000\">description</span>=<span style=\"color: #008000; text-decoration-color: #008000\">'Choose</span> <span style=\"color: #7f7f7f; text-decoration-color: #7f7f7f\">             </span>\n",
       "<span style=\"color: #7fbfbf; text-decoration-color: #7fbfbf\">                    </span>         <span style=\"color: #008000; text-decoration-color: #008000\">one of the labels.'</span>, <span style=\"color: #808000; text-decoration-color: #808000\">required</span>=<span style=\"color: #00ff00; text-decoration-color: #00ff00; font-style: italic\">True</span>, <span style=\"color: #808000; text-decoration-color: #808000\">type</span>=<span style=\"color: #008000; text-decoration-color: #008000\">'label_selection'</span>,              <span style=\"color: #7f7f7f; text-decoration-color: #7f7f7f\">             </span>\n",
       "<span style=\"color: #7fbfbf; text-decoration-color: #7fbfbf\">                    </span>         <span style=\"color: #808000; text-decoration-color: #808000\">labels</span>=<span style=\"font-weight: bold\">[</span><span style=\"color: #008000; text-decoration-color: #008000\">'entailment'</span>, <span style=\"color: #008000; text-decoration-color: #008000\">'neutral'</span>, <span style=\"color: #008000; text-decoration-color: #008000\">'contradiction'</span><span style=\"font-weight: bold\">]</span>, <span style=\"color: #808000; text-decoration-color: #808000\">visible_labels</span>=<span style=\"color: #800080; text-decoration-color: #800080; font-style: italic\">None</span><span style=\"font-weight: bold\">)]</span> <span style=\"color: #7f7f7f; text-decoration-color: #7f7f7f\">             </span>\n",
       "<span style=\"color: #7fbfbf; text-decoration-color: #7fbfbf\">                    </span>            <span style=\"color: #808000; text-decoration-color: #808000\">guidelines</span>=<span style=\"color: #800080; text-decoration-color: #800080\">This</span> is a natural language inference dataset that contains <span style=\"color: #7f7f7f; text-decoration-color: #7f7f7f\">             </span>\n",
       "<span style=\"color: #7fbfbf; text-decoration-color: #7fbfbf\">                    </span>         premises and hypotheses. Please choose the correct label for the given   <span style=\"color: #7f7f7f; text-decoration-color: #7f7f7f\">             </span>\n",
       "<span style=\"color: #7fbfbf; text-decoration-color: #7fbfbf\">                    </span>         premise and hypothesis.                                                  <span style=\"color: #7f7f7f; text-decoration-color: #7f7f7f\">             </span>\n",
       "<span style=\"color: #7fbfbf; text-decoration-color: #7fbfbf\">                    </span>            <span style=\"color: #808000; text-decoration-color: #808000\">metadata_properties</span>=<span style=\"font-weight: bold\">[]</span>                                                <span style=\"color: #7f7f7f; text-decoration-color: #7f7f7f\">             </span>\n",
       "<span style=\"color: #7fbfbf; text-decoration-color: #7fbfbf\">                    </span>            <span style=\"color: #808000; text-decoration-color: #808000\">vectors_settings</span>=<span style=\"font-weight: bold\">[]</span>                                                   <span style=\"color: #7f7f7f; text-decoration-color: #7f7f7f\">             </span>\n",
       "<span style=\"color: #7fbfbf; text-decoration-color: #7fbfbf\">                    </span>         <span style=\"font-weight: bold\">)</span>                                                                        <span style=\"color: #7f7f7f; text-decoration-color: #7f7f7f\">             </span>\n",
       "</pre>\n"
      ],
      "text/plain": [
       "\u001b[2;36m                   \u001b[0m\u001b[2;36m \u001b[0m\u001b[34mINFO    \u001b[0m INFO:argilla.client.feedback.dataset.local.mixins:\u001b[1;35mRemoteFeedbackDataset\u001b[0m\u001b[1m(\u001b[0m \u001b]8;id=224151;file://d:\\argenv\\Lib\\site-packages\\argilla\\client\\feedback\\dataset\\local\\mixins.py\u001b\\\u001b[2mmixins.py\u001b[0m\u001b]8;;\u001b\\\u001b[2m:\u001b[0m\u001b]8;id=145858;file://d:\\argenv\\Lib\\site-packages\\argilla\\client\\feedback\\dataset\\local\\mixins.py#272\u001b\\\u001b[2m272\u001b[0m\u001b]8;;\u001b\\\n",
       "\u001b[2;36m                    \u001b[0m            \u001b[33mid\u001b[0m=\u001b[93m9a3b9789\u001b[0m\u001b[93m-50a0-439a-9bcf-9798bf09de52\u001b[0m                               \u001b[2m             \u001b[0m\n",
       "\u001b[2;36m                    \u001b[0m            \u001b[33mname\u001b[0m=\u001b[35mds_t2t\u001b[0m                                                           \u001b[2m             \u001b[0m\n",
       "\u001b[2;36m                    \u001b[0m            \u001b[33mworkspace\u001b[0m=\u001b[1;35mWorkspace\u001b[0m\u001b[1m(\u001b[0m\u001b[33mid\u001b[0m=\u001b[93mda074b40\u001b[0m\u001b[93m-5fa4-4cf1-b07c-384ebfc3c73e\u001b[0m,          \u001b[2m             \u001b[0m\n",
       "\u001b[2;36m                    \u001b[0m         \u001b[33mname\u001b[0m=\u001b[35mhfgilla\u001b[0m, \u001b[33minserted_at\u001b[0m=\u001b[1;36m2024\u001b[0m-\u001b[1;36m04\u001b[0m-\u001b[1;36m02\u001b[0m \u001b[1;92m12:08:21\u001b[0m.\u001b[1;36m064036\u001b[0m,                    \u001b[2m             \u001b[0m\n",
       "\u001b[2;36m                    \u001b[0m         \u001b[33mupdated_at\u001b[0m=\u001b[1;36m2024\u001b[0m-\u001b[1;36m04\u001b[0m-\u001b[1;36m02\u001b[0m \u001b[1;92m12:08:21\u001b[0m.\u001b[1;36m064036\u001b[0m\u001b[1m)\u001b[0m                                   \u001b[2m             \u001b[0m\n",
       "\u001b[2;36m                    \u001b[0m            \u001b[33murl\u001b[0m=\u001b[4;94mhttps\u001b[0m\u001b[4;94m://kamaljp-argillatest.hf.space/dataset/9a3b9789-50a0-439a-9\u001b[0m \u001b[2m             \u001b[0m\n",
       "\u001b[2;36m                    \u001b[0m         \u001b[4;94mbcf-9798bf09de52/annotation-mode\u001b[0m                                         \u001b[2m             \u001b[0m\n",
       "\u001b[2;36m                    \u001b[0m            \u001b[33mfields\u001b[0m=\u001b[1m[\u001b[0m\u001b[1;35mRemoteTextField\u001b[0m\u001b[1m(\u001b[0m\u001b[33mid\u001b[0m=\u001b[1;35mUUID\u001b[0m\u001b[1m(\u001b[0m\u001b[32m'1c572c97-4a4b-4e18-9e85-f11767239536\u001b[0m \u001b[2m             \u001b[0m\n",
       "\u001b[2;36m                    \u001b[0m         \u001b[32m'\u001b[0m\u001b[1m)\u001b[0m, \u001b[33mclient\u001b[0m=\u001b[3;35mNone\u001b[0m, \u001b[33mname\u001b[0m=\u001b[32m'premise'\u001b[0m, \u001b[33mtitle\u001b[0m=\u001b[32m'Premise'\u001b[0m, \u001b[33mrequired\u001b[0m=\u001b[3;92mTrue\u001b[0m,         \u001b[2m             \u001b[0m\n",
       "\u001b[2;36m                    \u001b[0m         \u001b[33mtype\u001b[0m=\u001b[32m'text'\u001b[0m, \u001b[33muse_markdown\u001b[0m=\u001b[3;92mTrue\u001b[0m\u001b[1m)\u001b[0m,                                         \u001b[2m             \u001b[0m\n",
       "\u001b[2;36m                    \u001b[0m         \u001b[1;35mRemoteTextField\u001b[0m\u001b[1m(\u001b[0m\u001b[33mid\u001b[0m=\u001b[1;35mUUID\u001b[0m\u001b[1m(\u001b[0m\u001b[32m'7bcb4d0d-b10e-4ec0-b0b9-c73dd6ab4d0f'\u001b[0m\u001b[1m)\u001b[0m,         \u001b[2m             \u001b[0m\n",
       "\u001b[2;36m                    \u001b[0m         \u001b[33mclient\u001b[0m=\u001b[3;35mNone\u001b[0m, \u001b[33mname\u001b[0m=\u001b[32m'hypothesis'\u001b[0m, \u001b[33mtitle\u001b[0m=\u001b[32m'Hypothesis'\u001b[0m, \u001b[33mrequired\u001b[0m=\u001b[3;92mTrue\u001b[0m,       \u001b[2m             \u001b[0m\n",
       "\u001b[2;36m                    \u001b[0m         \u001b[33mtype\u001b[0m=\u001b[32m'text'\u001b[0m, \u001b[33muse_markdown\u001b[0m=\u001b[3;92mTrue\u001b[0m\u001b[1m)\u001b[0m\u001b[1m]\u001b[0m                                         \u001b[2m             \u001b[0m\n",
       "\u001b[2;36m                    \u001b[0m            \u001b[33mquestions\u001b[0m=\u001b[1m[\u001b[0m\u001b[1;35mRemoteLabelQuestion\u001b[0m\u001b[1m(\u001b[0m\u001b[33mid\u001b[0m=\u001b[1;35mUUID\u001b[0m\u001b[1m(\u001b[0m\u001b[32m'ddd2f7c1-b89d-4aa2-a4d9-52c81\u001b[0m \u001b[2m             \u001b[0m\n",
       "\u001b[2;36m                    \u001b[0m         \u001b[32mbc21fa1'\u001b[0m\u001b[1m)\u001b[0m, \u001b[33mclient\u001b[0m=\u001b[3;35mNone\u001b[0m, \u001b[33mname\u001b[0m=\u001b[32m'label'\u001b[0m, \u001b[33mtitle\u001b[0m=\u001b[32m'Label'\u001b[0m, \u001b[33mdescription\u001b[0m=\u001b[32m'Choose\u001b[0m \u001b[2m             \u001b[0m\n",
       "\u001b[2;36m                    \u001b[0m         \u001b[32mone of the labels.'\u001b[0m, \u001b[33mrequired\u001b[0m=\u001b[3;92mTrue\u001b[0m, \u001b[33mtype\u001b[0m=\u001b[32m'label_selection'\u001b[0m,              \u001b[2m             \u001b[0m\n",
       "\u001b[2;36m                    \u001b[0m         \u001b[33mlabels\u001b[0m=\u001b[1m[\u001b[0m\u001b[32m'entailment'\u001b[0m, \u001b[32m'neutral'\u001b[0m, \u001b[32m'contradiction'\u001b[0m\u001b[1m]\u001b[0m, \u001b[33mvisible_labels\u001b[0m=\u001b[3;35mNone\u001b[0m\u001b[1m)\u001b[0m\u001b[1m]\u001b[0m \u001b[2m             \u001b[0m\n",
       "\u001b[2;36m                    \u001b[0m            \u001b[33mguidelines\u001b[0m=\u001b[35mThis\u001b[0m is a natural language inference dataset that contains \u001b[2m             \u001b[0m\n",
       "\u001b[2;36m                    \u001b[0m         premises and hypotheses. Please choose the correct label for the given   \u001b[2m             \u001b[0m\n",
       "\u001b[2;36m                    \u001b[0m         premise and hypothesis.                                                  \u001b[2m             \u001b[0m\n",
       "\u001b[2;36m                    \u001b[0m            \u001b[33mmetadata_properties\u001b[0m=\u001b[1m[\u001b[0m\u001b[1m]\u001b[0m                                                \u001b[2m             \u001b[0m\n",
       "\u001b[2;36m                    \u001b[0m            \u001b[33mvectors_settings\u001b[0m=\u001b[1m[\u001b[0m\u001b[1m]\u001b[0m                                                   \u001b[2m             \u001b[0m\n",
       "\u001b[2;36m                    \u001b[0m         \u001b[1m)\u001b[0m                                                                        \u001b[2m             \u001b[0m\n"
      ]
     },
     "metadata": {},
     "output_type": "display_data"
    },
    {
     "data": {
      "text/plain": [
       "RemoteFeedbackDataset(\n",
       "   id=9a3b9789-50a0-439a-9bcf-9798bf09de52\n",
       "   name=ds_t2t\n",
       "   workspace=Workspace(id=da074b40-5fa4-4cf1-b07c-384ebfc3c73e, name=hfgilla, inserted_at=2024-04-02 12:08:21.064036, updated_at=2024-04-02 12:08:21.064036)\n",
       "   url=https://kamaljp-argillatest.hf.space/dataset/9a3b9789-50a0-439a-9bcf-9798bf09de52/annotation-mode\n",
       "   fields=[RemoteTextField(id=UUID('1c572c97-4a4b-4e18-9e85-f11767239536'), client=None, name='premise', title='Premise', required=True, type='text', use_markdown=True), RemoteTextField(id=UUID('7bcb4d0d-b10e-4ec0-b0b9-c73dd6ab4d0f'), client=None, name='hypothesis', title='Hypothesis', required=True, type='text', use_markdown=True)]\n",
       "   questions=[RemoteLabelQuestion(id=UUID('ddd2f7c1-b89d-4aa2-a4d9-52c81bc21fa1'), client=None, name='label', title='Label', description='Choose one of the labels.', required=True, type='label_selection', labels=['entailment', 'neutral', 'contradiction'], visible_labels=None)]\n",
       "   guidelines=This is a natural language inference dataset that contains premises and hypotheses. Please choose the correct label for the given premise and hypothesis.\n",
       "   metadata_properties=[]\n",
       "   vectors_settings=[]\n",
       ")"
      ]
     },
     "execution_count": 10,
     "metadata": {},
     "output_type": "execute_result"
    }
   ],
   "source": [
    "import argilla as rg\n",
    "\n",
    "ds_t2t = rg.FeedbackDataset.for_natural_language_inference(\n",
    "    labels=None,\n",
    "    use_markdown=True,\n",
    "    guidelines=None,\n",
    "    metadata_properties=None,\n",
    "    vectors_settings=None,\n",
    "    )\n",
    "\n",
    "t2t_rec = rg.FeedbackRecord(\n",
    "    fields={\n",
    "        \"premise\":\"This is the example premise\",\n",
    "        \"hypothesis\": \"This is the example hypothesis\"\n",
    "    }\n",
    ")\n",
    "\n",
    "# FeedbackDataset(\n",
    "#     fields=[\n",
    "#         TextField(name=\"premise\", use_markdown=True),\n",
    "#         TextField(name=\"hypothesis\", use_markdown=True)\n",
    "#     ],\n",
    "#     questions=[\n",
    "#         LabelQuestion(name=\"label\", labels=[\"entailment\", \"neutral\", \"contradiction\"])\n",
    "#     ],\n",
    "#     guidelines=\"<Guidelines for the task>\",\n",
    "#     metadata_properties=\"<Metadata Properties>\",\n",
    "#     vectors_settings=\"<Vectors Settings>\",\n",
    "# )\n",
    "\n",
    "ds_t2t.add_records([t2t_rec])\n",
    "ds_t2t.push_to_argilla(\"ds_t2t\", \"hfgilla\")"
   ]
  },
  {
   "cell_type": "code",
   "execution_count": 11,
   "metadata": {},
   "outputs": [
    {
     "data": {
      "text/html": [
       "<pre style=\"white-space:pre;overflow-x:auto;line-height:normal;font-family:Menlo,'DejaVu Sans Mono',consolas,'Courier New',monospace\"></pre>\n"
      ],
      "text/plain": []
     },
     "metadata": {},
     "output_type": "display_data"
    },
    {
     "data": {
      "text/html": [
       "<pre style=\"white-space:pre;overflow-x:auto;line-height:normal;font-family:Menlo,'DejaVu Sans Mono',consolas,'Courier New',monospace\">\n",
       "</pre>\n"
      ],
      "text/plain": [
       "\n"
      ]
     },
     "metadata": {},
     "output_type": "display_data"
    },
    {
     "data": {
      "text/html": [
       "<pre style=\"white-space:pre;overflow-x:auto;line-height:normal;font-family:Menlo,'DejaVu Sans Mono',consolas,'Courier New',monospace\"><span style=\"color: #7fbfbf; text-decoration-color: #7fbfbf\">[04/05/24 11:30:52] </span><span style=\"color: #000080; text-decoration-color: #000080\">INFO    </span> INFO:argilla.client.feedback.dataset.local.mixins:✓ Dataset succesfully  <a href=\"file://d:\\argenv\\Lib\\site-packages\\argilla\\client\\feedback\\dataset\\local\\mixins.py\" target=\"_blank\"><span style=\"color: #7f7f7f; text-decoration-color: #7f7f7f\">mixins.py</span></a><span style=\"color: #7f7f7f; text-decoration-color: #7f7f7f\">:</span><a href=\"file://d:\\argenv\\Lib\\site-packages\\argilla\\client\\feedback\\dataset\\local\\mixins.py#271\" target=\"_blank\"><span style=\"color: #7f7f7f; text-decoration-color: #7f7f7f\">271</span></a>\n",
       "<span style=\"color: #7fbfbf; text-decoration-color: #7fbfbf\">                    </span>         pushed to Argilla                                                        <span style=\"color: #7f7f7f; text-decoration-color: #7f7f7f\">             </span>\n",
       "</pre>\n"
      ],
      "text/plain": [
       "\u001b[2;36m[04/05/24 11:30:52]\u001b[0m\u001b[2;36m \u001b[0m\u001b[34mINFO    \u001b[0m INFO:argilla.client.feedback.dataset.local.mixins:✓ Dataset succesfully  \u001b]8;id=943498;file://d:\\argenv\\Lib\\site-packages\\argilla\\client\\feedback\\dataset\\local\\mixins.py\u001b\\\u001b[2mmixins.py\u001b[0m\u001b]8;;\u001b\\\u001b[2m:\u001b[0m\u001b]8;id=653618;file://d:\\argenv\\Lib\\site-packages\\argilla\\client\\feedback\\dataset\\local\\mixins.py#271\u001b\\\u001b[2m271\u001b[0m\u001b]8;;\u001b\\\n",
       "\u001b[2;36m                    \u001b[0m         pushed to Argilla                                                        \u001b[2m             \u001b[0m\n"
      ]
     },
     "metadata": {},
     "output_type": "display_data"
    },
    {
     "data": {
      "text/html": [
       "<pre style=\"white-space:pre;overflow-x:auto;line-height:normal;font-family:Menlo,'DejaVu Sans Mono',consolas,'Courier New',monospace\"><span style=\"color: #7fbfbf; text-decoration-color: #7fbfbf\">                    </span><span style=\"color: #000080; text-decoration-color: #000080\">INFO    </span> INFO:argilla.client.feedback.dataset.local.mixins:<span style=\"color: #800080; text-decoration-color: #800080; font-weight: bold\">RemoteFeedbackDataset</span><span style=\"font-weight: bold\">(</span> <a href=\"file://d:\\argenv\\Lib\\site-packages\\argilla\\client\\feedback\\dataset\\local\\mixins.py\" target=\"_blank\"><span style=\"color: #7f7f7f; text-decoration-color: #7f7f7f\">mixins.py</span></a><span style=\"color: #7f7f7f; text-decoration-color: #7f7f7f\">:</span><a href=\"file://d:\\argenv\\Lib\\site-packages\\argilla\\client\\feedback\\dataset\\local\\mixins.py#272\" target=\"_blank\"><span style=\"color: #7f7f7f; text-decoration-color: #7f7f7f\">272</span></a>\n",
       "<span style=\"color: #7fbfbf; text-decoration-color: #7fbfbf\">                    </span>            <span style=\"color: #808000; text-decoration-color: #808000\">id</span>=<span style=\"color: #ffff00; text-decoration-color: #ffff00\">7f991274</span><span style=\"color: #ffff00; text-decoration-color: #ffff00\">-7d91-406a-bc0b-3afbfc83ae57</span>                               <span style=\"color: #7f7f7f; text-decoration-color: #7f7f7f\">             </span>\n",
       "<span style=\"color: #7fbfbf; text-decoration-color: #7fbfbf\">                    </span>            <span style=\"color: #808000; text-decoration-color: #808000\">name</span>=<span style=\"color: #800080; text-decoration-color: #800080\">ds_rag</span>                                                           <span style=\"color: #7f7f7f; text-decoration-color: #7f7f7f\">             </span>\n",
       "<span style=\"color: #7fbfbf; text-decoration-color: #7fbfbf\">                    </span>            <span style=\"color: #808000; text-decoration-color: #808000\">workspace</span>=<span style=\"color: #800080; text-decoration-color: #800080; font-weight: bold\">Workspace</span><span style=\"font-weight: bold\">(</span><span style=\"color: #808000; text-decoration-color: #808000\">id</span>=<span style=\"color: #ffff00; text-decoration-color: #ffff00\">da074b40</span><span style=\"color: #ffff00; text-decoration-color: #ffff00\">-5fa4-4cf1-b07c-384ebfc3c73e</span>,          <span style=\"color: #7f7f7f; text-decoration-color: #7f7f7f\">             </span>\n",
       "<span style=\"color: #7fbfbf; text-decoration-color: #7fbfbf\">                    </span>         <span style=\"color: #808000; text-decoration-color: #808000\">name</span>=<span style=\"color: #800080; text-decoration-color: #800080\">hfgilla</span>, <span style=\"color: #808000; text-decoration-color: #808000\">inserted_at</span>=<span style=\"color: #008080; text-decoration-color: #008080; font-weight: bold\">2024</span>-<span style=\"color: #008080; text-decoration-color: #008080; font-weight: bold\">04</span>-<span style=\"color: #008080; text-decoration-color: #008080; font-weight: bold\">02</span> <span style=\"color: #00ff00; text-decoration-color: #00ff00; font-weight: bold\">12:08:21</span>.<span style=\"color: #008080; text-decoration-color: #008080; font-weight: bold\">064036</span>,                    <span style=\"color: #7f7f7f; text-decoration-color: #7f7f7f\">             </span>\n",
       "<span style=\"color: #7fbfbf; text-decoration-color: #7fbfbf\">                    </span>         <span style=\"color: #808000; text-decoration-color: #808000\">updated_at</span>=<span style=\"color: #008080; text-decoration-color: #008080; font-weight: bold\">2024</span>-<span style=\"color: #008080; text-decoration-color: #008080; font-weight: bold\">04</span>-<span style=\"color: #008080; text-decoration-color: #008080; font-weight: bold\">02</span> <span style=\"color: #00ff00; text-decoration-color: #00ff00; font-weight: bold\">12:08:21</span>.<span style=\"color: #008080; text-decoration-color: #008080; font-weight: bold\">064036</span><span style=\"font-weight: bold\">)</span>                                   <span style=\"color: #7f7f7f; text-decoration-color: #7f7f7f\">             </span>\n",
       "<span style=\"color: #7fbfbf; text-decoration-color: #7fbfbf\">                    </span>            <span style=\"color: #808000; text-decoration-color: #808000\">url</span>=<span style=\"color: #0000ff; text-decoration-color: #0000ff; text-decoration: underline\">https://kamaljp-argillatest.hf.space/dataset/7f991274-7d91-406a-b</span> <span style=\"color: #7f7f7f; text-decoration-color: #7f7f7f\">             </span>\n",
       "<span style=\"color: #7fbfbf; text-decoration-color: #7fbfbf\">                    </span>         <span style=\"color: #0000ff; text-decoration-color: #0000ff; text-decoration: underline\">c0b-3afbfc83ae57/annotation-mode</span>                                         <span style=\"color: #7f7f7f; text-decoration-color: #7f7f7f\">             </span>\n",
       "<span style=\"color: #7fbfbf; text-decoration-color: #7fbfbf\">                    </span>            <span style=\"color: #808000; text-decoration-color: #808000\">fields</span>=<span style=\"font-weight: bold\">[</span><span style=\"color: #800080; text-decoration-color: #800080; font-weight: bold\">RemoteTextField</span><span style=\"font-weight: bold\">(</span><span style=\"color: #808000; text-decoration-color: #808000\">id</span>=<span style=\"color: #800080; text-decoration-color: #800080; font-weight: bold\">UUID</span><span style=\"font-weight: bold\">(</span><span style=\"color: #008000; text-decoration-color: #008000\">'7f43eb55-5ed0-4c8e-9070-8c7f84af1517</span> <span style=\"color: #7f7f7f; text-decoration-color: #7f7f7f\">             </span>\n",
       "<span style=\"color: #7fbfbf; text-decoration-color: #7fbfbf\">                    </span>         <span style=\"color: #008000; text-decoration-color: #008000\">'</span><span style=\"font-weight: bold\">)</span>, <span style=\"color: #808000; text-decoration-color: #808000\">client</span>=<span style=\"color: #800080; text-decoration-color: #800080; font-style: italic\">None</span>, <span style=\"color: #808000; text-decoration-color: #808000\">name</span>=<span style=\"color: #008000; text-decoration-color: #008000\">'query'</span>, <span style=\"color: #808000; text-decoration-color: #808000\">title</span>=<span style=\"color: #008000; text-decoration-color: #008000\">'Query'</span>, <span style=\"color: #808000; text-decoration-color: #808000\">required</span>=<span style=\"color: #00ff00; text-decoration-color: #00ff00; font-style: italic\">True</span>,             <span style=\"color: #7f7f7f; text-decoration-color: #7f7f7f\">             </span>\n",
       "<span style=\"color: #7fbfbf; text-decoration-color: #7fbfbf\">                    </span>         <span style=\"color: #808000; text-decoration-color: #808000\">type</span>=<span style=\"color: #008000; text-decoration-color: #008000\">'text'</span>, <span style=\"color: #808000; text-decoration-color: #808000\">use_markdown</span>=<span style=\"color: #ff0000; text-decoration-color: #ff0000; font-style: italic\">False</span><span style=\"font-weight: bold\">)</span>,                                        <span style=\"color: #7f7f7f; text-decoration-color: #7f7f7f\">             </span>\n",
       "<span style=\"color: #7fbfbf; text-decoration-color: #7fbfbf\">                    </span>         <span style=\"color: #800080; text-decoration-color: #800080; font-weight: bold\">RemoteTextField</span><span style=\"font-weight: bold\">(</span><span style=\"color: #808000; text-decoration-color: #808000\">id</span>=<span style=\"color: #800080; text-decoration-color: #800080; font-weight: bold\">UUID</span><span style=\"font-weight: bold\">(</span><span style=\"color: #008000; text-decoration-color: #008000\">'a1fdf936-2ce4-4a67-9afd-0867824d0079'</span><span style=\"font-weight: bold\">)</span>,         <span style=\"color: #7f7f7f; text-decoration-color: #7f7f7f\">             </span>\n",
       "<span style=\"color: #7fbfbf; text-decoration-color: #7fbfbf\">                    </span>         <span style=\"color: #808000; text-decoration-color: #808000\">client</span>=<span style=\"color: #800080; text-decoration-color: #800080; font-style: italic\">None</span>, <span style=\"color: #808000; text-decoration-color: #808000\">name</span>=<span style=\"color: #008000; text-decoration-color: #008000\">'retrieved_document_1'</span>, <span style=\"color: #808000; text-decoration-color: #808000\">title</span>=<span style=\"color: #008000; text-decoration-color: #008000\">'Retrieved Document 1'</span>,  <span style=\"color: #7f7f7f; text-decoration-color: #7f7f7f\">             </span>\n",
       "<span style=\"color: #7fbfbf; text-decoration-color: #7fbfbf\">                    </span>         <span style=\"color: #808000; text-decoration-color: #808000\">required</span>=<span style=\"color: #00ff00; text-decoration-color: #00ff00; font-style: italic\">True</span>, <span style=\"color: #808000; text-decoration-color: #808000\">type</span>=<span style=\"color: #008000; text-decoration-color: #008000\">'text'</span>, <span style=\"color: #808000; text-decoration-color: #808000\">use_markdown</span>=<span style=\"color: #ff0000; text-decoration-color: #ff0000; font-style: italic\">False</span><span style=\"font-weight: bold\">)]</span>                         <span style=\"color: #7f7f7f; text-decoration-color: #7f7f7f\">             </span>\n",
       "<span style=\"color: #7fbfbf; text-decoration-color: #7fbfbf\">                    </span>            <span style=\"color: #808000; text-decoration-color: #808000\">questions</span>=<span style=\"font-weight: bold\">[</span><span style=\"color: #800080; text-decoration-color: #800080; font-weight: bold\">RemoteRatingQuestion</span><span style=\"font-weight: bold\">(</span><span style=\"color: #808000; text-decoration-color: #808000\">id</span>=<span style=\"color: #800080; text-decoration-color: #800080; font-weight: bold\">UUID</span><span style=\"font-weight: bold\">(</span><span style=\"color: #008000; text-decoration-color: #008000\">'5f098750-e74b-4ea8-bb6f-4a72</span> <span style=\"color: #7f7f7f; text-decoration-color: #7f7f7f\">             </span>\n",
       "<span style=\"color: #7fbfbf; text-decoration-color: #7fbfbf\">                    </span>         <span style=\"color: #008000; text-decoration-color: #008000\">9c9ea038'</span><span style=\"font-weight: bold\">)</span>, <span style=\"color: #808000; text-decoration-color: #808000\">client</span>=<span style=\"color: #800080; text-decoration-color: #800080; font-style: italic\">None</span>, <span style=\"color: #808000; text-decoration-color: #808000\">name</span>=<span style=\"color: #008000; text-decoration-color: #008000\">'rating_retrieved_document_1'</span>, <span style=\"color: #808000; text-decoration-color: #808000\">title</span>=<span style=\"color: #008000; text-decoration-color: #008000\">'Rate</span> <span style=\"color: #7f7f7f; text-decoration-color: #7f7f7f\">             </span>\n",
       "<span style=\"color: #7fbfbf; text-decoration-color: #7fbfbf\">                    </span>         <span style=\"color: #008000; text-decoration-color: #008000\">the relevance of the Retrieved Document 1 for the query'</span>,                <span style=\"color: #7f7f7f; text-decoration-color: #7f7f7f\">             </span>\n",
       "<span style=\"color: #7fbfbf; text-decoration-color: #7fbfbf\">                    </span>         <span style=\"color: #808000; text-decoration-color: #808000\">description</span>=<span style=\"color: #008000; text-decoration-color: #008000\">'Rate the relevance of the retrieved document.'</span>,             <span style=\"color: #7f7f7f; text-decoration-color: #7f7f7f\">             </span>\n",
       "<span style=\"color: #7fbfbf; text-decoration-color: #7fbfbf\">                    </span>         <span style=\"color: #808000; text-decoration-color: #808000\">required</span>=<span style=\"color: #00ff00; text-decoration-color: #00ff00; font-style: italic\">True</span>, <span style=\"color: #808000; text-decoration-color: #808000\">type</span>=<span style=\"color: #008000; text-decoration-color: #008000\">'rating'</span>, <span style=\"color: #808000; text-decoration-color: #808000\">values</span>=<span style=\"font-weight: bold\">[</span><span style=\"color: #008080; text-decoration-color: #008080; font-weight: bold\">1</span>, <span style=\"color: #008080; text-decoration-color: #008080; font-weight: bold\">2</span>, <span style=\"color: #008080; text-decoration-color: #008080; font-weight: bold\">3</span>, <span style=\"color: #008080; text-decoration-color: #008080; font-weight: bold\">4</span>, <span style=\"color: #008080; text-decoration-color: #008080; font-weight: bold\">5</span>, <span style=\"color: #008080; text-decoration-color: #008080; font-weight: bold\">6</span>, <span style=\"color: #008080; text-decoration-color: #008080; font-weight: bold\">7</span><span style=\"font-weight: bold\">])</span>,             <span style=\"color: #7f7f7f; text-decoration-color: #7f7f7f\">             </span>\n",
       "<span style=\"color: #7fbfbf; text-decoration-color: #7fbfbf\">                    </span>         <span style=\"color: #800080; text-decoration-color: #800080; font-weight: bold\">RemoteTextQuestion</span><span style=\"font-weight: bold\">(</span><span style=\"color: #808000; text-decoration-color: #808000\">id</span>=<span style=\"color: #800080; text-decoration-color: #800080; font-weight: bold\">UUID</span><span style=\"font-weight: bold\">(</span><span style=\"color: #008000; text-decoration-color: #008000\">'dcc8397a-0ff7-4e54-ba07-e8894a8962fa'</span><span style=\"font-weight: bold\">)</span>,      <span style=\"color: #7f7f7f; text-decoration-color: #7f7f7f\">             </span>\n",
       "<span style=\"color: #7fbfbf; text-decoration-color: #7fbfbf\">                    </span>         <span style=\"color: #808000; text-decoration-color: #808000\">client</span>=<span style=\"color: #800080; text-decoration-color: #800080; font-style: italic\">None</span>, <span style=\"color: #808000; text-decoration-color: #808000\">name</span>=<span style=\"color: #008000; text-decoration-color: #008000\">'response'</span>, <span style=\"color: #808000; text-decoration-color: #808000\">title</span>=<span style=\"color: #008000; text-decoration-color: #008000\">'Write a helpful, harmless, accurate</span> <span style=\"color: #7f7f7f; text-decoration-color: #7f7f7f\">             </span>\n",
       "<span style=\"color: #7fbfbf; text-decoration-color: #7fbfbf\">                    </span>         <span style=\"color: #008000; text-decoration-color: #008000\">response to the query.'</span>, <span style=\"color: #808000; text-decoration-color: #808000\">description</span>=<span style=\"color: #008000; text-decoration-color: #008000\">'Write the response to the query.'</span>, <span style=\"color: #7f7f7f; text-decoration-color: #7f7f7f\">             </span>\n",
       "<span style=\"color: #7fbfbf; text-decoration-color: #7fbfbf\">                    </span>         <span style=\"color: #808000; text-decoration-color: #808000\">required</span>=<span style=\"color: #ff0000; text-decoration-color: #ff0000; font-style: italic\">False</span>, <span style=\"color: #808000; text-decoration-color: #808000\">type</span>=<span style=\"color: #008000; text-decoration-color: #008000\">'text'</span>, <span style=\"color: #808000; text-decoration-color: #808000\">use_markdown</span>=<span style=\"color: #ff0000; text-decoration-color: #ff0000; font-style: italic\">False</span><span style=\"font-weight: bold\">)]</span>                        <span style=\"color: #7f7f7f; text-decoration-color: #7f7f7f\">             </span>\n",
       "<span style=\"color: #7fbfbf; text-decoration-color: #7fbfbf\">                    </span>            <span style=\"color: #808000; text-decoration-color: #808000\">guidelines</span>=<span style=\"color: #800080; text-decoration-color: #800080\">This</span> is a retrieval augmented generation dataset that      <span style=\"color: #7f7f7f; text-decoration-color: #7f7f7f\">             </span>\n",
       "<span style=\"color: #7fbfbf; text-decoration-color: #7fbfbf\">                    </span>         contains queries and retrieved documents. Please rate the relevancy of   <span style=\"color: #7f7f7f; text-decoration-color: #7f7f7f\">             </span>\n",
       "<span style=\"color: #7fbfbf; text-decoration-color: #7fbfbf\">                    </span>         retrieved document and write the response to the query in the response   <span style=\"color: #7f7f7f; text-decoration-color: #7f7f7f\">             </span>\n",
       "<span style=\"color: #7fbfbf; text-decoration-color: #7fbfbf\">                    </span>         field.                                                                   <span style=\"color: #7f7f7f; text-decoration-color: #7f7f7f\">             </span>\n",
       "<span style=\"color: #7fbfbf; text-decoration-color: #7fbfbf\">                    </span>            <span style=\"color: #808000; text-decoration-color: #808000\">metadata_properties</span>=<span style=\"font-weight: bold\">[]</span>                                                <span style=\"color: #7f7f7f; text-decoration-color: #7f7f7f\">             </span>\n",
       "<span style=\"color: #7fbfbf; text-decoration-color: #7fbfbf\">                    </span>            <span style=\"color: #808000; text-decoration-color: #808000\">vectors_settings</span>=<span style=\"font-weight: bold\">[]</span>                                                   <span style=\"color: #7f7f7f; text-decoration-color: #7f7f7f\">             </span>\n",
       "<span style=\"color: #7fbfbf; text-decoration-color: #7fbfbf\">                    </span>         <span style=\"font-weight: bold\">)</span>                                                                        <span style=\"color: #7f7f7f; text-decoration-color: #7f7f7f\">             </span>\n",
       "</pre>\n"
      ],
      "text/plain": [
       "\u001b[2;36m                   \u001b[0m\u001b[2;36m \u001b[0m\u001b[34mINFO    \u001b[0m INFO:argilla.client.feedback.dataset.local.mixins:\u001b[1;35mRemoteFeedbackDataset\u001b[0m\u001b[1m(\u001b[0m \u001b]8;id=990758;file://d:\\argenv\\Lib\\site-packages\\argilla\\client\\feedback\\dataset\\local\\mixins.py\u001b\\\u001b[2mmixins.py\u001b[0m\u001b]8;;\u001b\\\u001b[2m:\u001b[0m\u001b]8;id=269942;file://d:\\argenv\\Lib\\site-packages\\argilla\\client\\feedback\\dataset\\local\\mixins.py#272\u001b\\\u001b[2m272\u001b[0m\u001b]8;;\u001b\\\n",
       "\u001b[2;36m                    \u001b[0m            \u001b[33mid\u001b[0m=\u001b[93m7f991274\u001b[0m\u001b[93m-7d91-406a-bc0b-3afbfc83ae57\u001b[0m                               \u001b[2m             \u001b[0m\n",
       "\u001b[2;36m                    \u001b[0m            \u001b[33mname\u001b[0m=\u001b[35mds_rag\u001b[0m                                                           \u001b[2m             \u001b[0m\n",
       "\u001b[2;36m                    \u001b[0m            \u001b[33mworkspace\u001b[0m=\u001b[1;35mWorkspace\u001b[0m\u001b[1m(\u001b[0m\u001b[33mid\u001b[0m=\u001b[93mda074b40\u001b[0m\u001b[93m-5fa4-4cf1-b07c-384ebfc3c73e\u001b[0m,          \u001b[2m             \u001b[0m\n",
       "\u001b[2;36m                    \u001b[0m         \u001b[33mname\u001b[0m=\u001b[35mhfgilla\u001b[0m, \u001b[33minserted_at\u001b[0m=\u001b[1;36m2024\u001b[0m-\u001b[1;36m04\u001b[0m-\u001b[1;36m02\u001b[0m \u001b[1;92m12:08:21\u001b[0m.\u001b[1;36m064036\u001b[0m,                    \u001b[2m             \u001b[0m\n",
       "\u001b[2;36m                    \u001b[0m         \u001b[33mupdated_at\u001b[0m=\u001b[1;36m2024\u001b[0m-\u001b[1;36m04\u001b[0m-\u001b[1;36m02\u001b[0m \u001b[1;92m12:08:21\u001b[0m.\u001b[1;36m064036\u001b[0m\u001b[1m)\u001b[0m                                   \u001b[2m             \u001b[0m\n",
       "\u001b[2;36m                    \u001b[0m            \u001b[33murl\u001b[0m=\u001b[4;94mhttps\u001b[0m\u001b[4;94m://kamaljp-argillatest.hf.space/dataset/7f991274-7d91-406a-b\u001b[0m \u001b[2m             \u001b[0m\n",
       "\u001b[2;36m                    \u001b[0m         \u001b[4;94mc0b-3afbfc83ae57/annotation-mode\u001b[0m                                         \u001b[2m             \u001b[0m\n",
       "\u001b[2;36m                    \u001b[0m            \u001b[33mfields\u001b[0m=\u001b[1m[\u001b[0m\u001b[1;35mRemoteTextField\u001b[0m\u001b[1m(\u001b[0m\u001b[33mid\u001b[0m=\u001b[1;35mUUID\u001b[0m\u001b[1m(\u001b[0m\u001b[32m'7f43eb55-5ed0-4c8e-9070-8c7f84af1517\u001b[0m \u001b[2m             \u001b[0m\n",
       "\u001b[2;36m                    \u001b[0m         \u001b[32m'\u001b[0m\u001b[1m)\u001b[0m, \u001b[33mclient\u001b[0m=\u001b[3;35mNone\u001b[0m, \u001b[33mname\u001b[0m=\u001b[32m'query'\u001b[0m, \u001b[33mtitle\u001b[0m=\u001b[32m'Query'\u001b[0m, \u001b[33mrequired\u001b[0m=\u001b[3;92mTrue\u001b[0m,             \u001b[2m             \u001b[0m\n",
       "\u001b[2;36m                    \u001b[0m         \u001b[33mtype\u001b[0m=\u001b[32m'text'\u001b[0m, \u001b[33muse_markdown\u001b[0m=\u001b[3;91mFalse\u001b[0m\u001b[1m)\u001b[0m,                                        \u001b[2m             \u001b[0m\n",
       "\u001b[2;36m                    \u001b[0m         \u001b[1;35mRemoteTextField\u001b[0m\u001b[1m(\u001b[0m\u001b[33mid\u001b[0m=\u001b[1;35mUUID\u001b[0m\u001b[1m(\u001b[0m\u001b[32m'a1fdf936-2ce4-4a67-9afd-0867824d0079'\u001b[0m\u001b[1m)\u001b[0m,         \u001b[2m             \u001b[0m\n",
       "\u001b[2;36m                    \u001b[0m         \u001b[33mclient\u001b[0m=\u001b[3;35mNone\u001b[0m, \u001b[33mname\u001b[0m=\u001b[32m'retrieved_document_1'\u001b[0m, \u001b[33mtitle\u001b[0m=\u001b[32m'Retrieved Document 1'\u001b[0m,  \u001b[2m             \u001b[0m\n",
       "\u001b[2;36m                    \u001b[0m         \u001b[33mrequired\u001b[0m=\u001b[3;92mTrue\u001b[0m, \u001b[33mtype\u001b[0m=\u001b[32m'text'\u001b[0m, \u001b[33muse_markdown\u001b[0m=\u001b[3;91mFalse\u001b[0m\u001b[1m)\u001b[0m\u001b[1m]\u001b[0m                         \u001b[2m             \u001b[0m\n",
       "\u001b[2;36m                    \u001b[0m            \u001b[33mquestions\u001b[0m=\u001b[1m[\u001b[0m\u001b[1;35mRemoteRatingQuestion\u001b[0m\u001b[1m(\u001b[0m\u001b[33mid\u001b[0m=\u001b[1;35mUUID\u001b[0m\u001b[1m(\u001b[0m\u001b[32m'5f098750-e74b-4ea8-bb6f-4a72\u001b[0m \u001b[2m             \u001b[0m\n",
       "\u001b[2;36m                    \u001b[0m         \u001b[32m9c9ea038'\u001b[0m\u001b[1m)\u001b[0m, \u001b[33mclient\u001b[0m=\u001b[3;35mNone\u001b[0m, \u001b[33mname\u001b[0m=\u001b[32m'rating_retrieved_document_1'\u001b[0m, \u001b[33mtitle\u001b[0m=\u001b[32m'Rate\u001b[0m \u001b[2m             \u001b[0m\n",
       "\u001b[2;36m                    \u001b[0m         \u001b[32mthe relevance of the Retrieved Document 1 for the query'\u001b[0m,                \u001b[2m             \u001b[0m\n",
       "\u001b[2;36m                    \u001b[0m         \u001b[33mdescription\u001b[0m=\u001b[32m'Rate the relevance of the retrieved document.'\u001b[0m,             \u001b[2m             \u001b[0m\n",
       "\u001b[2;36m                    \u001b[0m         \u001b[33mrequired\u001b[0m=\u001b[3;92mTrue\u001b[0m, \u001b[33mtype\u001b[0m=\u001b[32m'rating'\u001b[0m, \u001b[33mvalues\u001b[0m=\u001b[1m[\u001b[0m\u001b[1;36m1\u001b[0m, \u001b[1;36m2\u001b[0m, \u001b[1;36m3\u001b[0m, \u001b[1;36m4\u001b[0m, \u001b[1;36m5\u001b[0m, \u001b[1;36m6\u001b[0m, \u001b[1;36m7\u001b[0m\u001b[1m]\u001b[0m\u001b[1m)\u001b[0m,             \u001b[2m             \u001b[0m\n",
       "\u001b[2;36m                    \u001b[0m         \u001b[1;35mRemoteTextQuestion\u001b[0m\u001b[1m(\u001b[0m\u001b[33mid\u001b[0m=\u001b[1;35mUUID\u001b[0m\u001b[1m(\u001b[0m\u001b[32m'dcc8397a-0ff7-4e54-ba07-e8894a8962fa'\u001b[0m\u001b[1m)\u001b[0m,      \u001b[2m             \u001b[0m\n",
       "\u001b[2;36m                    \u001b[0m         \u001b[33mclient\u001b[0m=\u001b[3;35mNone\u001b[0m, \u001b[33mname\u001b[0m=\u001b[32m'response'\u001b[0m, \u001b[33mtitle\u001b[0m=\u001b[32m'Write a helpful, harmless, accurate\u001b[0m \u001b[2m             \u001b[0m\n",
       "\u001b[2;36m                    \u001b[0m         \u001b[32mresponse to the query.'\u001b[0m, \u001b[33mdescription\u001b[0m=\u001b[32m'Write the response to the query.'\u001b[0m, \u001b[2m             \u001b[0m\n",
       "\u001b[2;36m                    \u001b[0m         \u001b[33mrequired\u001b[0m=\u001b[3;91mFalse\u001b[0m, \u001b[33mtype\u001b[0m=\u001b[32m'text'\u001b[0m, \u001b[33muse_markdown\u001b[0m=\u001b[3;91mFalse\u001b[0m\u001b[1m)\u001b[0m\u001b[1m]\u001b[0m                        \u001b[2m             \u001b[0m\n",
       "\u001b[2;36m                    \u001b[0m            \u001b[33mguidelines\u001b[0m=\u001b[35mThis\u001b[0m is a retrieval augmented generation dataset that      \u001b[2m             \u001b[0m\n",
       "\u001b[2;36m                    \u001b[0m         contains queries and retrieved documents. Please rate the relevancy of   \u001b[2m             \u001b[0m\n",
       "\u001b[2;36m                    \u001b[0m         retrieved document and write the response to the query in the response   \u001b[2m             \u001b[0m\n",
       "\u001b[2;36m                    \u001b[0m         field.                                                                   \u001b[2m             \u001b[0m\n",
       "\u001b[2;36m                    \u001b[0m            \u001b[33mmetadata_properties\u001b[0m=\u001b[1m[\u001b[0m\u001b[1m]\u001b[0m                                                \u001b[2m             \u001b[0m\n",
       "\u001b[2;36m                    \u001b[0m            \u001b[33mvectors_settings\u001b[0m=\u001b[1m[\u001b[0m\u001b[1m]\u001b[0m                                                   \u001b[2m             \u001b[0m\n",
       "\u001b[2;36m                    \u001b[0m         \u001b[1m)\u001b[0m                                                                        \u001b[2m             \u001b[0m\n"
      ]
     },
     "metadata": {},
     "output_type": "display_data"
    },
    {
     "data": {
      "text/plain": [
       "RemoteFeedbackDataset(\n",
       "   id=7f991274-7d91-406a-bc0b-3afbfc83ae57\n",
       "   name=ds_rag\n",
       "   workspace=Workspace(id=da074b40-5fa4-4cf1-b07c-384ebfc3c73e, name=hfgilla, inserted_at=2024-04-02 12:08:21.064036, updated_at=2024-04-02 12:08:21.064036)\n",
       "   url=https://kamaljp-argillatest.hf.space/dataset/7f991274-7d91-406a-bc0b-3afbfc83ae57/annotation-mode\n",
       "   fields=[RemoteTextField(id=UUID('7f43eb55-5ed0-4c8e-9070-8c7f84af1517'), client=None, name='query', title='Query', required=True, type='text', use_markdown=False), RemoteTextField(id=UUID('a1fdf936-2ce4-4a67-9afd-0867824d0079'), client=None, name='retrieved_document_1', title='Retrieved Document 1', required=True, type='text', use_markdown=False)]\n",
       "   questions=[RemoteRatingQuestion(id=UUID('5f098750-e74b-4ea8-bb6f-4a729c9ea038'), client=None, name='rating_retrieved_document_1', title='Rate the relevance of the Retrieved Document 1 for the query', description='Rate the relevance of the retrieved document.', required=True, type='rating', values=[1, 2, 3, 4, 5, 6, 7]), RemoteTextQuestion(id=UUID('dcc8397a-0ff7-4e54-ba07-e8894a8962fa'), client=None, name='response', title='Write a helpful, harmless, accurate response to the query.', description='Write the response to the query.', required=False, type='text', use_markdown=False)]\n",
       "   guidelines=This is a retrieval augmented generation dataset that contains queries and retrieved documents. Please rate the relevancy of retrieved document and write the response to the query in the response field.\n",
       "   metadata_properties=[]\n",
       "   vectors_settings=[]\n",
       ")"
      ]
     },
     "execution_count": 11,
     "metadata": {},
     "output_type": "execute_result"
    }
   ],
   "source": [
    "import argilla as rg\n",
    "\n",
    "ds = rg.FeedbackDataset.for_retrieval_augmented_generation(\n",
    "    number_of_retrievals=1,\n",
    "    rating_scale=7,\n",
    "    use_markdown=False,\n",
    "    guidelines=None,\n",
    "    metadata_properties=None,\n",
    "    vectors_settings=None,\n",
    ")\n",
    "ds_rag = rg.FeedbackRecord(\n",
    "    fields={\n",
    "        \"query\":\"This is the question\",\n",
    "        \"retrieved_document_1\":\"Retrieved document one\",\n",
    "    }\n",
    ")\n",
    "ds.add_records([ds_rag])\n",
    "ds.push_to_argilla('ds_rag', \"hfgilla\")\n",
    "# FeedbackDataset(\n",
    "#     fields=[\n",
    "#         TextField(name=\"query\", use_markdown=False),\n",
    "#         TextField(name=\"retrieved_document_1\", use_markdown=False),\n",
    "#     ],\n",
    "#     questions=[\n",
    "#         RatingQuestion(name=\"rating_retrieved_document_1\", values=[1, 2, 3, 4, 5, 6, 7]),\n",
    "#         TextQuestion(name=\"response\", use_markdown=False),\n",
    "#     ],\n",
    "#     guidelines=\"<Guidelines for the task>\",\n",
    "#     metadata_properties=\"<Metadata Properties>\",\n",
    "#     vectors_settings=\"<Vectors Settings>\",\n",
    "# )"
   ]
  },
  {
   "cell_type": "code",
   "execution_count": 13,
   "metadata": {},
   "outputs": [
    {
     "data": {
      "text/html": [
       "<pre style=\"white-space:pre;overflow-x:auto;line-height:normal;font-family:Menlo,'DejaVu Sans Mono',consolas,'Courier New',monospace\">d:\\argenv\\Lib\\site-packages\\rich\\live.py:231: UserWarning: install \"ipywidgets\" for Jupyter support\n",
       "  warnings.warn('install \"ipywidgets\" for Jupyter support')\n",
       "</pre>\n"
      ],
      "text/plain": [
       "d:\\argenv\\Lib\\site-packages\\rich\\live.py:231: UserWarning: install \"ipywidgets\" for Jupyter support\n",
       "  warnings.warn('install \"ipywidgets\" for Jupyter support')\n"
      ]
     },
     "metadata": {},
     "output_type": "display_data"
    },
    {
     "data": {
      "text/html": [
       "<pre style=\"white-space:pre;overflow-x:auto;line-height:normal;font-family:Menlo,'DejaVu Sans Mono',consolas,'Courier New',monospace\"></pre>\n"
      ],
      "text/plain": []
     },
     "metadata": {},
     "output_type": "display_data"
    },
    {
     "data": {
      "text/html": [
       "<pre style=\"white-space:pre;overflow-x:auto;line-height:normal;font-family:Menlo,'DejaVu Sans Mono',consolas,'Courier New',monospace\">\n",
       "</pre>\n"
      ],
      "text/plain": [
       "\n"
      ]
     },
     "metadata": {},
     "output_type": "display_data"
    },
    {
     "data": {
      "text/html": [
       "<pre style=\"white-space:pre;overflow-x:auto;line-height:normal;font-family:Menlo,'DejaVu Sans Mono',consolas,'Courier New',monospace\"><span style=\"color: #7fbfbf; text-decoration-color: #7fbfbf\">[04/05/24 11:42:09] </span><span style=\"color: #000080; text-decoration-color: #000080\">INFO    </span> INFO:argilla.client.feedback.dataset.local.mixins:✓ Dataset succesfully  <a href=\"file://d:\\argenv\\Lib\\site-packages\\argilla\\client\\feedback\\dataset\\local\\mixins.py\" target=\"_blank\"><span style=\"color: #7f7f7f; text-decoration-color: #7f7f7f\">mixins.py</span></a><span style=\"color: #7f7f7f; text-decoration-color: #7f7f7f\">:</span><a href=\"file://d:\\argenv\\Lib\\site-packages\\argilla\\client\\feedback\\dataset\\local\\mixins.py#271\" target=\"_blank\"><span style=\"color: #7f7f7f; text-decoration-color: #7f7f7f\">271</span></a>\n",
       "<span style=\"color: #7fbfbf; text-decoration-color: #7fbfbf\">                    </span>         pushed to Argilla                                                        <span style=\"color: #7f7f7f; text-decoration-color: #7f7f7f\">             </span>\n",
       "</pre>\n"
      ],
      "text/plain": [
       "\u001b[2;36m[04/05/24 11:42:09]\u001b[0m\u001b[2;36m \u001b[0m\u001b[34mINFO    \u001b[0m INFO:argilla.client.feedback.dataset.local.mixins:✓ Dataset succesfully  \u001b]8;id=16524;file://d:\\argenv\\Lib\\site-packages\\argilla\\client\\feedback\\dataset\\local\\mixins.py\u001b\\\u001b[2mmixins.py\u001b[0m\u001b]8;;\u001b\\\u001b[2m:\u001b[0m\u001b]8;id=269587;file://d:\\argenv\\Lib\\site-packages\\argilla\\client\\feedback\\dataset\\local\\mixins.py#271\u001b\\\u001b[2m271\u001b[0m\u001b]8;;\u001b\\\n",
       "\u001b[2;36m                    \u001b[0m         pushed to Argilla                                                        \u001b[2m             \u001b[0m\n"
      ]
     },
     "metadata": {},
     "output_type": "display_data"
    },
    {
     "data": {
      "text/html": [
       "<pre style=\"white-space:pre;overflow-x:auto;line-height:normal;font-family:Menlo,'DejaVu Sans Mono',consolas,'Courier New',monospace\"><span style=\"color: #7fbfbf; text-decoration-color: #7fbfbf\">                    </span><span style=\"color: #000080; text-decoration-color: #000080\">INFO    </span> INFO:argilla.client.feedback.dataset.local.mixins:<span style=\"color: #800080; text-decoration-color: #800080; font-weight: bold\">RemoteFeedbackDataset</span><span style=\"font-weight: bold\">(</span> <a href=\"file://d:\\argenv\\Lib\\site-packages\\argilla\\client\\feedback\\dataset\\local\\mixins.py\" target=\"_blank\"><span style=\"color: #7f7f7f; text-decoration-color: #7f7f7f\">mixins.py</span></a><span style=\"color: #7f7f7f; text-decoration-color: #7f7f7f\">:</span><a href=\"file://d:\\argenv\\Lib\\site-packages\\argilla\\client\\feedback\\dataset\\local\\mixins.py#272\" target=\"_blank\"><span style=\"color: #7f7f7f; text-decoration-color: #7f7f7f\">272</span></a>\n",
       "<span style=\"color: #7fbfbf; text-decoration-color: #7fbfbf\">                    </span>            <span style=\"color: #808000; text-decoration-color: #808000\">id</span>=<span style=\"color: #ffff00; text-decoration-color: #ffff00\">07703631</span><span style=\"color: #ffff00; text-decoration-color: #ffff00\">-3a56-4140-bce1-e641f48e1730</span>                               <span style=\"color: #7f7f7f; text-decoration-color: #7f7f7f\">             </span>\n",
       "<span style=\"color: #7fbfbf; text-decoration-color: #7fbfbf\">                    </span>            <span style=\"color: #808000; text-decoration-color: #808000\">name</span>=<span style=\"color: #800080; text-decoration-color: #800080\">df_sft</span>                                                           <span style=\"color: #7f7f7f; text-decoration-color: #7f7f7f\">             </span>\n",
       "<span style=\"color: #7fbfbf; text-decoration-color: #7fbfbf\">                    </span>            <span style=\"color: #808000; text-decoration-color: #808000\">workspace</span>=<span style=\"color: #800080; text-decoration-color: #800080; font-weight: bold\">Workspace</span><span style=\"font-weight: bold\">(</span><span style=\"color: #808000; text-decoration-color: #808000\">id</span>=<span style=\"color: #ffff00; text-decoration-color: #ffff00\">da074b40</span><span style=\"color: #ffff00; text-decoration-color: #ffff00\">-5fa4-4cf1-b07c-384ebfc3c73e</span>,          <span style=\"color: #7f7f7f; text-decoration-color: #7f7f7f\">             </span>\n",
       "<span style=\"color: #7fbfbf; text-decoration-color: #7fbfbf\">                    </span>         <span style=\"color: #808000; text-decoration-color: #808000\">name</span>=<span style=\"color: #800080; text-decoration-color: #800080\">hfgilla</span>, <span style=\"color: #808000; text-decoration-color: #808000\">inserted_at</span>=<span style=\"color: #008080; text-decoration-color: #008080; font-weight: bold\">2024</span>-<span style=\"color: #008080; text-decoration-color: #008080; font-weight: bold\">04</span>-<span style=\"color: #008080; text-decoration-color: #008080; font-weight: bold\">02</span> <span style=\"color: #00ff00; text-decoration-color: #00ff00; font-weight: bold\">12:08:21</span>.<span style=\"color: #008080; text-decoration-color: #008080; font-weight: bold\">064036</span>,                    <span style=\"color: #7f7f7f; text-decoration-color: #7f7f7f\">             </span>\n",
       "<span style=\"color: #7fbfbf; text-decoration-color: #7fbfbf\">                    </span>         <span style=\"color: #808000; text-decoration-color: #808000\">updated_at</span>=<span style=\"color: #008080; text-decoration-color: #008080; font-weight: bold\">2024</span>-<span style=\"color: #008080; text-decoration-color: #008080; font-weight: bold\">04</span>-<span style=\"color: #008080; text-decoration-color: #008080; font-weight: bold\">02</span> <span style=\"color: #00ff00; text-decoration-color: #00ff00; font-weight: bold\">12:08:21</span>.<span style=\"color: #008080; text-decoration-color: #008080; font-weight: bold\">064036</span><span style=\"font-weight: bold\">)</span>                                   <span style=\"color: #7f7f7f; text-decoration-color: #7f7f7f\">             </span>\n",
       "<span style=\"color: #7fbfbf; text-decoration-color: #7fbfbf\">                    </span>            <span style=\"color: #808000; text-decoration-color: #808000\">url</span>=<span style=\"color: #0000ff; text-decoration-color: #0000ff; text-decoration: underline\">https://kamaljp-argillatest.hf.space/dataset/07703631-3a56-4140-b</span> <span style=\"color: #7f7f7f; text-decoration-color: #7f7f7f\">             </span>\n",
       "<span style=\"color: #7fbfbf; text-decoration-color: #7fbfbf\">                    </span>         <span style=\"color: #0000ff; text-decoration-color: #0000ff; text-decoration: underline\">ce1-e641f48e1730/annotation-mode</span>                                         <span style=\"color: #7f7f7f; text-decoration-color: #7f7f7f\">             </span>\n",
       "<span style=\"color: #7fbfbf; text-decoration-color: #7fbfbf\">                    </span>            <span style=\"color: #808000; text-decoration-color: #808000\">fields</span>=<span style=\"font-weight: bold\">[</span><span style=\"color: #800080; text-decoration-color: #800080; font-weight: bold\">RemoteTextField</span><span style=\"font-weight: bold\">(</span><span style=\"color: #808000; text-decoration-color: #808000\">id</span>=<span style=\"color: #800080; text-decoration-color: #800080; font-weight: bold\">UUID</span><span style=\"font-weight: bold\">(</span><span style=\"color: #008000; text-decoration-color: #008000\">'df697d93-6a30-4ae9-8a1a-2da4dcb19e03</span> <span style=\"color: #7f7f7f; text-decoration-color: #7f7f7f\">             </span>\n",
       "<span style=\"color: #7fbfbf; text-decoration-color: #7fbfbf\">                    </span>         <span style=\"color: #008000; text-decoration-color: #008000\">'</span><span style=\"font-weight: bold\">)</span>, <span style=\"color: #808000; text-decoration-color: #808000\">client</span>=<span style=\"color: #800080; text-decoration-color: #800080; font-style: italic\">None</span>, <span style=\"color: #808000; text-decoration-color: #808000\">name</span>=<span style=\"color: #008000; text-decoration-color: #008000\">'prompt'</span>, <span style=\"color: #808000; text-decoration-color: #808000\">title</span>=<span style=\"color: #008000; text-decoration-color: #008000\">'Prompt'</span>, <span style=\"color: #808000; text-decoration-color: #808000\">required</span>=<span style=\"color: #00ff00; text-decoration-color: #00ff00; font-style: italic\">True</span>,           <span style=\"color: #7f7f7f; text-decoration-color: #7f7f7f\">             </span>\n",
       "<span style=\"color: #7fbfbf; text-decoration-color: #7fbfbf\">                    </span>         <span style=\"color: #808000; text-decoration-color: #808000\">type</span>=<span style=\"color: #008000; text-decoration-color: #008000\">'text'</span>, <span style=\"color: #808000; text-decoration-color: #808000\">use_markdown</span>=<span style=\"color: #00ff00; text-decoration-color: #00ff00; font-style: italic\">True</span><span style=\"font-weight: bold\">)</span>,                                         <span style=\"color: #7f7f7f; text-decoration-color: #7f7f7f\">             </span>\n",
       "<span style=\"color: #7fbfbf; text-decoration-color: #7fbfbf\">                    </span>         <span style=\"color: #800080; text-decoration-color: #800080; font-weight: bold\">RemoteTextField</span><span style=\"font-weight: bold\">(</span><span style=\"color: #808000; text-decoration-color: #808000\">id</span>=<span style=\"color: #800080; text-decoration-color: #800080; font-weight: bold\">UUID</span><span style=\"font-weight: bold\">(</span><span style=\"color: #008000; text-decoration-color: #008000\">'7b0e28d4-36cc-4c56-87f0-8fb76aad4a2a'</span><span style=\"font-weight: bold\">)</span>,         <span style=\"color: #7f7f7f; text-decoration-color: #7f7f7f\">             </span>\n",
       "<span style=\"color: #7fbfbf; text-decoration-color: #7fbfbf\">                    </span>         <span style=\"color: #808000; text-decoration-color: #808000\">client</span>=<span style=\"color: #800080; text-decoration-color: #800080; font-style: italic\">None</span>, <span style=\"color: #808000; text-decoration-color: #808000\">name</span>=<span style=\"color: #008000; text-decoration-color: #008000\">'context'</span>, <span style=\"color: #808000; text-decoration-color: #808000\">title</span>=<span style=\"color: #008000; text-decoration-color: #008000\">'Context'</span>, <span style=\"color: #808000; text-decoration-color: #808000\">required</span>=<span style=\"color: #ff0000; text-decoration-color: #ff0000; font-style: italic\">False</span>,            <span style=\"color: #7f7f7f; text-decoration-color: #7f7f7f\">             </span>\n",
       "<span style=\"color: #7fbfbf; text-decoration-color: #7fbfbf\">                    </span>         <span style=\"color: #808000; text-decoration-color: #808000\">type</span>=<span style=\"color: #008000; text-decoration-color: #008000\">'text'</span>, <span style=\"color: #808000; text-decoration-color: #808000\">use_markdown</span>=<span style=\"color: #00ff00; text-decoration-color: #00ff00; font-style: italic\">True</span><span style=\"font-weight: bold\">)]</span>                                         <span style=\"color: #7f7f7f; text-decoration-color: #7f7f7f\">             </span>\n",
       "<span style=\"color: #7fbfbf; text-decoration-color: #7fbfbf\">                    </span>            <span style=\"color: #808000; text-decoration-color: #808000\">questions</span>=<span style=\"font-weight: bold\">[</span><span style=\"color: #800080; text-decoration-color: #800080; font-weight: bold\">RemoteTextQuestion</span><span style=\"font-weight: bold\">(</span><span style=\"color: #808000; text-decoration-color: #808000\">id</span>=<span style=\"color: #800080; text-decoration-color: #800080; font-weight: bold\">UUID</span><span style=\"font-weight: bold\">(</span><span style=\"color: #008000; text-decoration-color: #008000\">'25c10379-921c-4128-ab57-ce625a</span> <span style=\"color: #7f7f7f; text-decoration-color: #7f7f7f\">             </span>\n",
       "<span style=\"color: #7fbfbf; text-decoration-color: #7fbfbf\">                    </span>         <span style=\"color: #008000; text-decoration-color: #008000\">015b61'</span><span style=\"font-weight: bold\">)</span>, <span style=\"color: #808000; text-decoration-color: #808000\">client</span>=<span style=\"color: #800080; text-decoration-color: #800080; font-style: italic\">None</span>, <span style=\"color: #808000; text-decoration-color: #808000\">name</span>=<span style=\"color: #008000; text-decoration-color: #008000\">'response'</span>, <span style=\"color: #808000; text-decoration-color: #808000\">title</span>=<span style=\"color: #008000; text-decoration-color: #008000\">'Response'</span>,                <span style=\"color: #7f7f7f; text-decoration-color: #7f7f7f\">             </span>\n",
       "<span style=\"color: #7fbfbf; text-decoration-color: #7fbfbf\">                    </span>         <span style=\"color: #808000; text-decoration-color: #808000\">description</span>=<span style=\"color: #008000; text-decoration-color: #008000\">'Write the response to the instruction.'</span>, <span style=\"color: #808000; text-decoration-color: #808000\">required</span>=<span style=\"color: #00ff00; text-decoration-color: #00ff00; font-style: italic\">True</span>,     <span style=\"color: #7f7f7f; text-decoration-color: #7f7f7f\">             </span>\n",
       "<span style=\"color: #7fbfbf; text-decoration-color: #7fbfbf\">                    </span>         <span style=\"color: #808000; text-decoration-color: #808000\">type</span>=<span style=\"color: #008000; text-decoration-color: #008000\">'text'</span>, <span style=\"color: #808000; text-decoration-color: #808000\">use_markdown</span>=<span style=\"color: #00ff00; text-decoration-color: #00ff00; font-style: italic\">True</span><span style=\"font-weight: bold\">)]</span>                                         <span style=\"color: #7f7f7f; text-decoration-color: #7f7f7f\">             </span>\n",
       "<span style=\"color: #7fbfbf; text-decoration-color: #7fbfbf\">                    </span>            <span style=\"color: #808000; text-decoration-color: #808000\">guidelines</span>=<span style=\"color: #800080; text-decoration-color: #800080\">This</span> is a supervised fine-tuning dataset that contains     <span style=\"color: #7f7f7f; text-decoration-color: #7f7f7f\">             </span>\n",
       "<span style=\"color: #7fbfbf; text-decoration-color: #7fbfbf\">                    </span>         instructions. Please write the response to the instruction in the        <span style=\"color: #7f7f7f; text-decoration-color: #7f7f7f\">             </span>\n",
       "<span style=\"color: #7fbfbf; text-decoration-color: #7fbfbf\">                    </span>         response field. Take the context into account when writing the response. <span style=\"color: #7f7f7f; text-decoration-color: #7f7f7f\">             </span>\n",
       "<span style=\"color: #7fbfbf; text-decoration-color: #7fbfbf\">                    </span>            <span style=\"color: #808000; text-decoration-color: #808000\">metadata_properties</span>=<span style=\"font-weight: bold\">[]</span>                                                <span style=\"color: #7f7f7f; text-decoration-color: #7f7f7f\">             </span>\n",
       "<span style=\"color: #7fbfbf; text-decoration-color: #7fbfbf\">                    </span>            <span style=\"color: #808000; text-decoration-color: #808000\">vectors_settings</span>=<span style=\"font-weight: bold\">[]</span>                                                   <span style=\"color: #7f7f7f; text-decoration-color: #7f7f7f\">             </span>\n",
       "<span style=\"color: #7fbfbf; text-decoration-color: #7fbfbf\">                    </span>         <span style=\"font-weight: bold\">)</span>                                                                        <span style=\"color: #7f7f7f; text-decoration-color: #7f7f7f\">             </span>\n",
       "</pre>\n"
      ],
      "text/plain": [
       "\u001b[2;36m                   \u001b[0m\u001b[2;36m \u001b[0m\u001b[34mINFO    \u001b[0m INFO:argilla.client.feedback.dataset.local.mixins:\u001b[1;35mRemoteFeedbackDataset\u001b[0m\u001b[1m(\u001b[0m \u001b]8;id=947664;file://d:\\argenv\\Lib\\site-packages\\argilla\\client\\feedback\\dataset\\local\\mixins.py\u001b\\\u001b[2mmixins.py\u001b[0m\u001b]8;;\u001b\\\u001b[2m:\u001b[0m\u001b]8;id=615337;file://d:\\argenv\\Lib\\site-packages\\argilla\\client\\feedback\\dataset\\local\\mixins.py#272\u001b\\\u001b[2m272\u001b[0m\u001b]8;;\u001b\\\n",
       "\u001b[2;36m                    \u001b[0m            \u001b[33mid\u001b[0m=\u001b[93m07703631\u001b[0m\u001b[93m-3a56-4140-bce1-e641f48e1730\u001b[0m                               \u001b[2m             \u001b[0m\n",
       "\u001b[2;36m                    \u001b[0m            \u001b[33mname\u001b[0m=\u001b[35mdf_sft\u001b[0m                                                           \u001b[2m             \u001b[0m\n",
       "\u001b[2;36m                    \u001b[0m            \u001b[33mworkspace\u001b[0m=\u001b[1;35mWorkspace\u001b[0m\u001b[1m(\u001b[0m\u001b[33mid\u001b[0m=\u001b[93mda074b40\u001b[0m\u001b[93m-5fa4-4cf1-b07c-384ebfc3c73e\u001b[0m,          \u001b[2m             \u001b[0m\n",
       "\u001b[2;36m                    \u001b[0m         \u001b[33mname\u001b[0m=\u001b[35mhfgilla\u001b[0m, \u001b[33minserted_at\u001b[0m=\u001b[1;36m2024\u001b[0m-\u001b[1;36m04\u001b[0m-\u001b[1;36m02\u001b[0m \u001b[1;92m12:08:21\u001b[0m.\u001b[1;36m064036\u001b[0m,                    \u001b[2m             \u001b[0m\n",
       "\u001b[2;36m                    \u001b[0m         \u001b[33mupdated_at\u001b[0m=\u001b[1;36m2024\u001b[0m-\u001b[1;36m04\u001b[0m-\u001b[1;36m02\u001b[0m \u001b[1;92m12:08:21\u001b[0m.\u001b[1;36m064036\u001b[0m\u001b[1m)\u001b[0m                                   \u001b[2m             \u001b[0m\n",
       "\u001b[2;36m                    \u001b[0m            \u001b[33murl\u001b[0m=\u001b[4;94mhttps\u001b[0m\u001b[4;94m://kamaljp-argillatest.hf.space/dataset/07703631-3a56-4140-b\u001b[0m \u001b[2m             \u001b[0m\n",
       "\u001b[2;36m                    \u001b[0m         \u001b[4;94mce1-e641f48e1730/annotation-mode\u001b[0m                                         \u001b[2m             \u001b[0m\n",
       "\u001b[2;36m                    \u001b[0m            \u001b[33mfields\u001b[0m=\u001b[1m[\u001b[0m\u001b[1;35mRemoteTextField\u001b[0m\u001b[1m(\u001b[0m\u001b[33mid\u001b[0m=\u001b[1;35mUUID\u001b[0m\u001b[1m(\u001b[0m\u001b[32m'df697d93-6a30-4ae9-8a1a-2da4dcb19e03\u001b[0m \u001b[2m             \u001b[0m\n",
       "\u001b[2;36m                    \u001b[0m         \u001b[32m'\u001b[0m\u001b[1m)\u001b[0m, \u001b[33mclient\u001b[0m=\u001b[3;35mNone\u001b[0m, \u001b[33mname\u001b[0m=\u001b[32m'prompt'\u001b[0m, \u001b[33mtitle\u001b[0m=\u001b[32m'Prompt'\u001b[0m, \u001b[33mrequired\u001b[0m=\u001b[3;92mTrue\u001b[0m,           \u001b[2m             \u001b[0m\n",
       "\u001b[2;36m                    \u001b[0m         \u001b[33mtype\u001b[0m=\u001b[32m'text'\u001b[0m, \u001b[33muse_markdown\u001b[0m=\u001b[3;92mTrue\u001b[0m\u001b[1m)\u001b[0m,                                         \u001b[2m             \u001b[0m\n",
       "\u001b[2;36m                    \u001b[0m         \u001b[1;35mRemoteTextField\u001b[0m\u001b[1m(\u001b[0m\u001b[33mid\u001b[0m=\u001b[1;35mUUID\u001b[0m\u001b[1m(\u001b[0m\u001b[32m'7b0e28d4-36cc-4c56-87f0-8fb76aad4a2a'\u001b[0m\u001b[1m)\u001b[0m,         \u001b[2m             \u001b[0m\n",
       "\u001b[2;36m                    \u001b[0m         \u001b[33mclient\u001b[0m=\u001b[3;35mNone\u001b[0m, \u001b[33mname\u001b[0m=\u001b[32m'context'\u001b[0m, \u001b[33mtitle\u001b[0m=\u001b[32m'Context'\u001b[0m, \u001b[33mrequired\u001b[0m=\u001b[3;91mFalse\u001b[0m,            \u001b[2m             \u001b[0m\n",
       "\u001b[2;36m                    \u001b[0m         \u001b[33mtype\u001b[0m=\u001b[32m'text'\u001b[0m, \u001b[33muse_markdown\u001b[0m=\u001b[3;92mTrue\u001b[0m\u001b[1m)\u001b[0m\u001b[1m]\u001b[0m                                         \u001b[2m             \u001b[0m\n",
       "\u001b[2;36m                    \u001b[0m            \u001b[33mquestions\u001b[0m=\u001b[1m[\u001b[0m\u001b[1;35mRemoteTextQuestion\u001b[0m\u001b[1m(\u001b[0m\u001b[33mid\u001b[0m=\u001b[1;35mUUID\u001b[0m\u001b[1m(\u001b[0m\u001b[32m'25c10379-921c-4128-ab57-ce625a\u001b[0m \u001b[2m             \u001b[0m\n",
       "\u001b[2;36m                    \u001b[0m         \u001b[32m015b61'\u001b[0m\u001b[1m)\u001b[0m, \u001b[33mclient\u001b[0m=\u001b[3;35mNone\u001b[0m, \u001b[33mname\u001b[0m=\u001b[32m'response'\u001b[0m, \u001b[33mtitle\u001b[0m=\u001b[32m'Response'\u001b[0m,                \u001b[2m             \u001b[0m\n",
       "\u001b[2;36m                    \u001b[0m         \u001b[33mdescription\u001b[0m=\u001b[32m'Write the response to the instruction.'\u001b[0m, \u001b[33mrequired\u001b[0m=\u001b[3;92mTrue\u001b[0m,     \u001b[2m             \u001b[0m\n",
       "\u001b[2;36m                    \u001b[0m         \u001b[33mtype\u001b[0m=\u001b[32m'text'\u001b[0m, \u001b[33muse_markdown\u001b[0m=\u001b[3;92mTrue\u001b[0m\u001b[1m)\u001b[0m\u001b[1m]\u001b[0m                                         \u001b[2m             \u001b[0m\n",
       "\u001b[2;36m                    \u001b[0m            \u001b[33mguidelines\u001b[0m=\u001b[35mThis\u001b[0m is a supervised fine-tuning dataset that contains     \u001b[2m             \u001b[0m\n",
       "\u001b[2;36m                    \u001b[0m         instructions. Please write the response to the instruction in the        \u001b[2m             \u001b[0m\n",
       "\u001b[2;36m                    \u001b[0m         response field. Take the context into account when writing the response. \u001b[2m             \u001b[0m\n",
       "\u001b[2;36m                    \u001b[0m            \u001b[33mmetadata_properties\u001b[0m=\u001b[1m[\u001b[0m\u001b[1m]\u001b[0m                                                \u001b[2m             \u001b[0m\n",
       "\u001b[2;36m                    \u001b[0m            \u001b[33mvectors_settings\u001b[0m=\u001b[1m[\u001b[0m\u001b[1m]\u001b[0m                                                   \u001b[2m             \u001b[0m\n",
       "\u001b[2;36m                    \u001b[0m         \u001b[1m)\u001b[0m                                                                        \u001b[2m             \u001b[0m\n"
      ]
     },
     "metadata": {},
     "output_type": "display_data"
    },
    {
     "data": {
      "text/plain": [
       "RemoteFeedbackDataset(\n",
       "   id=07703631-3a56-4140-bce1-e641f48e1730\n",
       "   name=df_sft\n",
       "   workspace=Workspace(id=da074b40-5fa4-4cf1-b07c-384ebfc3c73e, name=hfgilla, inserted_at=2024-04-02 12:08:21.064036, updated_at=2024-04-02 12:08:21.064036)\n",
       "   url=https://kamaljp-argillatest.hf.space/dataset/07703631-3a56-4140-bce1-e641f48e1730/annotation-mode\n",
       "   fields=[RemoteTextField(id=UUID('df697d93-6a30-4ae9-8a1a-2da4dcb19e03'), client=None, name='prompt', title='Prompt', required=True, type='text', use_markdown=True), RemoteTextField(id=UUID('7b0e28d4-36cc-4c56-87f0-8fb76aad4a2a'), client=None, name='context', title='Context', required=False, type='text', use_markdown=True)]\n",
       "   questions=[RemoteTextQuestion(id=UUID('25c10379-921c-4128-ab57-ce625a015b61'), client=None, name='response', title='Response', description='Write the response to the instruction.', required=True, type='text', use_markdown=True)]\n",
       "   guidelines=This is a supervised fine-tuning dataset that contains instructions. Please write the response to the instruction in the response field. Take the context into account when writing the response.\n",
       "   metadata_properties=[]\n",
       "   vectors_settings=[]\n",
       ")"
      ]
     },
     "execution_count": 13,
     "metadata": {},
     "output_type": "execute_result"
    }
   ],
   "source": [
    "import argilla as rg\n",
    "\n",
    "ds_sft = rg.FeedbackDataset.for_supervised_fine_tuning(\n",
    "    context=True,\n",
    "    use_markdown=True,\n",
    "    guidelines=None,\n",
    "    metadata_properties=None,\n",
    "    vectors_settings=None,\n",
    ")\n",
    "# FeedbackDataset(\n",
    "#     fields=[\n",
    "#         TextField(name=\"prompt\", use_markdown=True),\n",
    "#         TextField(name=\"context\", use_markdown=True)\n",
    "#     ],\n",
    "#     questions=[\n",
    "#         TextQuestion(name=\"response\", use_markdown=True)\n",
    "#     ],\n",
    "#     guidelines=\"<Guidelines for the task>\",\n",
    "#     metadata_properties=\"<Metadata Properties>\",\n",
    "#     vectors_settings=\"<Vectors Settings>\",\n",
    "# )\n",
    "\n",
    "sft_rec = rg.FeedbackRecord(\n",
    "    fields={\n",
    "        \"prompt\": \"This is the prompt from the user\",\n",
    "        \"context\": \"Context provided to model during inference\"\n",
    "    }\n",
    ")\n",
    "\n",
    "ds_sft.add_records([sft_rec])\n",
    "ds_sft.push_to_argilla('df_sft', \"hfgilla\")\n"
   ]
  },
  {
   "cell_type": "code",
   "execution_count": 15,
   "metadata": {},
   "outputs": [
    {
     "data": {
      "text/html": [
       "<pre style=\"white-space:pre;overflow-x:auto;line-height:normal;font-family:Menlo,'DejaVu Sans Mono',consolas,'Courier New',monospace\">d:\\argenv\\Lib\\site-packages\\rich\\live.py:231: UserWarning: install \"ipywidgets\" for Jupyter support\n",
       "  warnings.warn('install \"ipywidgets\" for Jupyter support')\n",
       "</pre>\n"
      ],
      "text/plain": [
       "d:\\argenv\\Lib\\site-packages\\rich\\live.py:231: UserWarning: install \"ipywidgets\" for Jupyter support\n",
       "  warnings.warn('install \"ipywidgets\" for Jupyter support')\n"
      ]
     },
     "metadata": {},
     "output_type": "display_data"
    },
    {
     "data": {
      "text/html": [
       "<pre style=\"white-space:pre;overflow-x:auto;line-height:normal;font-family:Menlo,'DejaVu Sans Mono',consolas,'Courier New',monospace\"></pre>\n"
      ],
      "text/plain": []
     },
     "metadata": {},
     "output_type": "display_data"
    },
    {
     "data": {
      "text/html": [
       "<pre style=\"white-space:pre;overflow-x:auto;line-height:normal;font-family:Menlo,'DejaVu Sans Mono',consolas,'Courier New',monospace\">\n",
       "</pre>\n"
      ],
      "text/plain": [
       "\n"
      ]
     },
     "metadata": {},
     "output_type": "display_data"
    },
    {
     "data": {
      "text/html": [
       "<pre style=\"white-space:pre;overflow-x:auto;line-height:normal;font-family:Menlo,'DejaVu Sans Mono',consolas,'Courier New',monospace\"><span style=\"color: #7fbfbf; text-decoration-color: #7fbfbf\">[04/05/24 11:46:43] </span><span style=\"color: #000080; text-decoration-color: #000080\">INFO    </span> INFO:argilla.client.feedback.dataset.local.mixins:✓ Dataset succesfully  <a href=\"file://d:\\argenv\\Lib\\site-packages\\argilla\\client\\feedback\\dataset\\local\\mixins.py\" target=\"_blank\"><span style=\"color: #7f7f7f; text-decoration-color: #7f7f7f\">mixins.py</span></a><span style=\"color: #7f7f7f; text-decoration-color: #7f7f7f\">:</span><a href=\"file://d:\\argenv\\Lib\\site-packages\\argilla\\client\\feedback\\dataset\\local\\mixins.py#271\" target=\"_blank\"><span style=\"color: #7f7f7f; text-decoration-color: #7f7f7f\">271</span></a>\n",
       "<span style=\"color: #7fbfbf; text-decoration-color: #7fbfbf\">                    </span>         pushed to Argilla                                                        <span style=\"color: #7f7f7f; text-decoration-color: #7f7f7f\">             </span>\n",
       "</pre>\n"
      ],
      "text/plain": [
       "\u001b[2;36m[04/05/24 11:46:43]\u001b[0m\u001b[2;36m \u001b[0m\u001b[34mINFO    \u001b[0m INFO:argilla.client.feedback.dataset.local.mixins:✓ Dataset succesfully  \u001b]8;id=386890;file://d:\\argenv\\Lib\\site-packages\\argilla\\client\\feedback\\dataset\\local\\mixins.py\u001b\\\u001b[2mmixins.py\u001b[0m\u001b]8;;\u001b\\\u001b[2m:\u001b[0m\u001b]8;id=209347;file://d:\\argenv\\Lib\\site-packages\\argilla\\client\\feedback\\dataset\\local\\mixins.py#271\u001b\\\u001b[2m271\u001b[0m\u001b]8;;\u001b\\\n",
       "\u001b[2;36m                    \u001b[0m         pushed to Argilla                                                        \u001b[2m             \u001b[0m\n"
      ]
     },
     "metadata": {},
     "output_type": "display_data"
    },
    {
     "data": {
      "text/html": [
       "<pre style=\"white-space:pre;overflow-x:auto;line-height:normal;font-family:Menlo,'DejaVu Sans Mono',consolas,'Courier New',monospace\"><span style=\"color: #7fbfbf; text-decoration-color: #7fbfbf\">                    </span><span style=\"color: #000080; text-decoration-color: #000080\">INFO    </span> INFO:argilla.client.feedback.dataset.local.mixins:<span style=\"color: #800080; text-decoration-color: #800080; font-weight: bold\">RemoteFeedbackDataset</span><span style=\"font-weight: bold\">(</span> <a href=\"file://d:\\argenv\\Lib\\site-packages\\argilla\\client\\feedback\\dataset\\local\\mixins.py\" target=\"_blank\"><span style=\"color: #7f7f7f; text-decoration-color: #7f7f7f\">mixins.py</span></a><span style=\"color: #7f7f7f; text-decoration-color: #7f7f7f\">:</span><a href=\"file://d:\\argenv\\Lib\\site-packages\\argilla\\client\\feedback\\dataset\\local\\mixins.py#272\" target=\"_blank\"><span style=\"color: #7f7f7f; text-decoration-color: #7f7f7f\">272</span></a>\n",
       "<span style=\"color: #7fbfbf; text-decoration-color: #7fbfbf\">                    </span>            <span style=\"color: #808000; text-decoration-color: #808000\">id</span>=<span style=\"color: #ffff00; text-decoration-color: #ffff00\">e5c399d1</span><span style=\"color: #ffff00; text-decoration-color: #ffff00\">-8814-4185-81a0-477d56e31627</span>                               <span style=\"color: #7f7f7f; text-decoration-color: #7f7f7f\">             </span>\n",
       "<span style=\"color: #7fbfbf; text-decoration-color: #7fbfbf\">                    </span>            <span style=\"color: #808000; text-decoration-color: #808000\">name</span>=<span style=\"color: #800080; text-decoration-color: #800080\">ds_pref</span>                                                          <span style=\"color: #7f7f7f; text-decoration-color: #7f7f7f\">             </span>\n",
       "<span style=\"color: #7fbfbf; text-decoration-color: #7fbfbf\">                    </span>            <span style=\"color: #808000; text-decoration-color: #808000\">workspace</span>=<span style=\"color: #800080; text-decoration-color: #800080; font-weight: bold\">Workspace</span><span style=\"font-weight: bold\">(</span><span style=\"color: #808000; text-decoration-color: #808000\">id</span>=<span style=\"color: #ffff00; text-decoration-color: #ffff00\">da074b40</span><span style=\"color: #ffff00; text-decoration-color: #ffff00\">-5fa4-4cf1-b07c-384ebfc3c73e</span>,          <span style=\"color: #7f7f7f; text-decoration-color: #7f7f7f\">             </span>\n",
       "<span style=\"color: #7fbfbf; text-decoration-color: #7fbfbf\">                    </span>         <span style=\"color: #808000; text-decoration-color: #808000\">name</span>=<span style=\"color: #800080; text-decoration-color: #800080\">hfgilla</span>, <span style=\"color: #808000; text-decoration-color: #808000\">inserted_at</span>=<span style=\"color: #008080; text-decoration-color: #008080; font-weight: bold\">2024</span>-<span style=\"color: #008080; text-decoration-color: #008080; font-weight: bold\">04</span>-<span style=\"color: #008080; text-decoration-color: #008080; font-weight: bold\">02</span> <span style=\"color: #00ff00; text-decoration-color: #00ff00; font-weight: bold\">12:08:21</span>.<span style=\"color: #008080; text-decoration-color: #008080; font-weight: bold\">064036</span>,                    <span style=\"color: #7f7f7f; text-decoration-color: #7f7f7f\">             </span>\n",
       "<span style=\"color: #7fbfbf; text-decoration-color: #7fbfbf\">                    </span>         <span style=\"color: #808000; text-decoration-color: #808000\">updated_at</span>=<span style=\"color: #008080; text-decoration-color: #008080; font-weight: bold\">2024</span>-<span style=\"color: #008080; text-decoration-color: #008080; font-weight: bold\">04</span>-<span style=\"color: #008080; text-decoration-color: #008080; font-weight: bold\">02</span> <span style=\"color: #00ff00; text-decoration-color: #00ff00; font-weight: bold\">12:08:21</span>.<span style=\"color: #008080; text-decoration-color: #008080; font-weight: bold\">064036</span><span style=\"font-weight: bold\">)</span>                                   <span style=\"color: #7f7f7f; text-decoration-color: #7f7f7f\">             </span>\n",
       "<span style=\"color: #7fbfbf; text-decoration-color: #7fbfbf\">                    </span>            <span style=\"color: #808000; text-decoration-color: #808000\">url</span>=<span style=\"color: #0000ff; text-decoration-color: #0000ff; text-decoration: underline\">https://kamaljp-argillatest.hf.space/dataset/e5c399d1-8814-4185-8</span> <span style=\"color: #7f7f7f; text-decoration-color: #7f7f7f\">             </span>\n",
       "<span style=\"color: #7fbfbf; text-decoration-color: #7fbfbf\">                    </span>         <span style=\"color: #0000ff; text-decoration-color: #0000ff; text-decoration: underline\">1a0-477d56e31627/annotation-mode</span>                                         <span style=\"color: #7f7f7f; text-decoration-color: #7f7f7f\">             </span>\n",
       "<span style=\"color: #7fbfbf; text-decoration-color: #7fbfbf\">                    </span>            <span style=\"color: #808000; text-decoration-color: #808000\">fields</span>=<span style=\"font-weight: bold\">[</span><span style=\"color: #800080; text-decoration-color: #800080; font-weight: bold\">RemoteTextField</span><span style=\"font-weight: bold\">(</span><span style=\"color: #808000; text-decoration-color: #808000\">id</span>=<span style=\"color: #800080; text-decoration-color: #800080; font-weight: bold\">UUID</span><span style=\"font-weight: bold\">(</span><span style=\"color: #008000; text-decoration-color: #008000\">'db5e02b3-2a27-4503-8a2a-e4f99ce5661d</span> <span style=\"color: #7f7f7f; text-decoration-color: #7f7f7f\">             </span>\n",
       "<span style=\"color: #7fbfbf; text-decoration-color: #7fbfbf\">                    </span>         <span style=\"color: #008000; text-decoration-color: #008000\">'</span><span style=\"font-weight: bold\">)</span>, <span style=\"color: #808000; text-decoration-color: #808000\">client</span>=<span style=\"color: #800080; text-decoration-color: #800080; font-style: italic\">None</span>, <span style=\"color: #808000; text-decoration-color: #808000\">name</span>=<span style=\"color: #008000; text-decoration-color: #008000\">'prompt'</span>, <span style=\"color: #808000; text-decoration-color: #808000\">title</span>=<span style=\"color: #008000; text-decoration-color: #008000\">'Prompt'</span>, <span style=\"color: #808000; text-decoration-color: #808000\">required</span>=<span style=\"color: #00ff00; text-decoration-color: #00ff00; font-style: italic\">True</span>,           <span style=\"color: #7f7f7f; text-decoration-color: #7f7f7f\">             </span>\n",
       "<span style=\"color: #7fbfbf; text-decoration-color: #7fbfbf\">                    </span>         <span style=\"color: #808000; text-decoration-color: #808000\">type</span>=<span style=\"color: #008000; text-decoration-color: #008000\">'text'</span>, <span style=\"color: #808000; text-decoration-color: #808000\">use_markdown</span>=<span style=\"color: #00ff00; text-decoration-color: #00ff00; font-style: italic\">True</span><span style=\"font-weight: bold\">)</span>,                                         <span style=\"color: #7f7f7f; text-decoration-color: #7f7f7f\">             </span>\n",
       "<span style=\"color: #7fbfbf; text-decoration-color: #7fbfbf\">                    </span>         <span style=\"color: #800080; text-decoration-color: #800080; font-weight: bold\">RemoteTextField</span><span style=\"font-weight: bold\">(</span><span style=\"color: #808000; text-decoration-color: #808000\">id</span>=<span style=\"color: #800080; text-decoration-color: #800080; font-weight: bold\">UUID</span><span style=\"font-weight: bold\">(</span><span style=\"color: #008000; text-decoration-color: #008000\">'e8dba124-d5aa-4e11-9d1d-22ea9c530795'</span><span style=\"font-weight: bold\">)</span>,         <span style=\"color: #7f7f7f; text-decoration-color: #7f7f7f\">             </span>\n",
       "<span style=\"color: #7fbfbf; text-decoration-color: #7fbfbf\">                    </span>         <span style=\"color: #808000; text-decoration-color: #808000\">client</span>=<span style=\"color: #800080; text-decoration-color: #800080; font-style: italic\">None</span>, <span style=\"color: #808000; text-decoration-color: #808000\">name</span>=<span style=\"color: #008000; text-decoration-color: #008000\">'response1'</span>, <span style=\"color: #808000; text-decoration-color: #808000\">title</span>=<span style=\"color: #008000; text-decoration-color: #008000\">'Response 1'</span>, <span style=\"color: #808000; text-decoration-color: #808000\">required</span>=<span style=\"color: #00ff00; text-decoration-color: #00ff00; font-style: italic\">True</span>,        <span style=\"color: #7f7f7f; text-decoration-color: #7f7f7f\">             </span>\n",
       "<span style=\"color: #7fbfbf; text-decoration-color: #7fbfbf\">                    </span>         <span style=\"color: #808000; text-decoration-color: #808000\">type</span>=<span style=\"color: #008000; text-decoration-color: #008000\">'text'</span>, <span style=\"color: #808000; text-decoration-color: #808000\">use_markdown</span>=<span style=\"color: #00ff00; text-decoration-color: #00ff00; font-style: italic\">True</span><span style=\"font-weight: bold\">)</span>,                                         <span style=\"color: #7f7f7f; text-decoration-color: #7f7f7f\">             </span>\n",
       "<span style=\"color: #7fbfbf; text-decoration-color: #7fbfbf\">                    </span>         <span style=\"color: #800080; text-decoration-color: #800080; font-weight: bold\">RemoteTextField</span><span style=\"font-weight: bold\">(</span><span style=\"color: #808000; text-decoration-color: #808000\">id</span>=<span style=\"color: #800080; text-decoration-color: #800080; font-weight: bold\">UUID</span><span style=\"font-weight: bold\">(</span><span style=\"color: #008000; text-decoration-color: #008000\">'43d9ebf0-791a-4f98-b31d-1ed35232bf39'</span><span style=\"font-weight: bold\">)</span>,         <span style=\"color: #7f7f7f; text-decoration-color: #7f7f7f\">             </span>\n",
       "<span style=\"color: #7fbfbf; text-decoration-color: #7fbfbf\">                    </span>         <span style=\"color: #808000; text-decoration-color: #808000\">client</span>=<span style=\"color: #800080; text-decoration-color: #800080; font-style: italic\">None</span>, <span style=\"color: #808000; text-decoration-color: #808000\">name</span>=<span style=\"color: #008000; text-decoration-color: #008000\">'response2'</span>, <span style=\"color: #808000; text-decoration-color: #808000\">title</span>=<span style=\"color: #008000; text-decoration-color: #008000\">'Response 2'</span>, <span style=\"color: #808000; text-decoration-color: #808000\">required</span>=<span style=\"color: #ff0000; text-decoration-color: #ff0000; font-style: italic\">False</span>,       <span style=\"color: #7f7f7f; text-decoration-color: #7f7f7f\">             </span>\n",
       "<span style=\"color: #7fbfbf; text-decoration-color: #7fbfbf\">                    </span>         <span style=\"color: #808000; text-decoration-color: #808000\">type</span>=<span style=\"color: #008000; text-decoration-color: #008000\">'text'</span>, <span style=\"color: #808000; text-decoration-color: #808000\">use_markdown</span>=<span style=\"color: #00ff00; text-decoration-color: #00ff00; font-style: italic\">True</span><span style=\"font-weight: bold\">)]</span>                                         <span style=\"color: #7f7f7f; text-decoration-color: #7f7f7f\">             </span>\n",
       "<span style=\"color: #7fbfbf; text-decoration-color: #7fbfbf\">                    </span>            <span style=\"color: #808000; text-decoration-color: #808000\">questions</span>=<span style=\"font-weight: bold\">[</span><span style=\"color: #800080; text-decoration-color: #800080; font-weight: bold\">RemoteRankingQuestion</span><span style=\"font-weight: bold\">(</span><span style=\"color: #808000; text-decoration-color: #808000\">id</span>=<span style=\"color: #800080; text-decoration-color: #800080; font-weight: bold\">UUID</span><span style=\"font-weight: bold\">(</span><span style=\"color: #008000; text-decoration-color: #008000\">'b2b3e4f3-bbf6-4478-b009-c03</span> <span style=\"color: #7f7f7f; text-decoration-color: #7f7f7f\">             </span>\n",
       "<span style=\"color: #7fbfbf; text-decoration-color: #7fbfbf\">                    </span>         <span style=\"color: #008000; text-decoration-color: #008000\">a2ab11a95'</span><span style=\"font-weight: bold\">)</span>, <span style=\"color: #808000; text-decoration-color: #808000\">client</span>=<span style=\"color: #800080; text-decoration-color: #800080; font-style: italic\">None</span>, <span style=\"color: #808000; text-decoration-color: #808000\">name</span>=<span style=\"color: #008000; text-decoration-color: #008000\">'preference'</span>, <span style=\"color: #808000; text-decoration-color: #808000\">title</span>=<span style=\"color: #008000; text-decoration-color: #008000\">'Order responses </span>     <span style=\"color: #7f7f7f; text-decoration-color: #7f7f7f\">             </span>\n",
       "<span style=\"color: #7fbfbf; text-decoration-color: #7fbfbf\">                    </span>         <span style=\"color: #008000; text-decoration-color: #008000\">based on your preference'</span>, <span style=\"color: #808000; text-decoration-color: #808000\">description</span>=<span style=\"color: #008000; text-decoration-color: #008000\">'1 = Best, 2 = Worst. Ties are </span>   <span style=\"color: #7f7f7f; text-decoration-color: #7f7f7f\">             </span>\n",
       "<span style=\"color: #7fbfbf; text-decoration-color: #7fbfbf\">                    </span>         <span style=\"color: #008000; text-decoration-color: #008000\">allowed.'</span>, <span style=\"color: #808000; text-decoration-color: #808000\">required</span>=<span style=\"color: #00ff00; text-decoration-color: #00ff00; font-style: italic\">True</span>, <span style=\"color: #808000; text-decoration-color: #808000\">type</span>=<span style=\"color: #008000; text-decoration-color: #008000\">'ranking'</span>, <span style=\"color: #808000; text-decoration-color: #808000\">values</span>=<span style=\"font-weight: bold\">{</span><span style=\"color: #008000; text-decoration-color: #008000\">'response1'</span>: <span style=\"color: #008000; text-decoration-color: #008000\">'Response</span> <span style=\"color: #7f7f7f; text-decoration-color: #7f7f7f\">             </span>\n",
       "<span style=\"color: #7fbfbf; text-decoration-color: #7fbfbf\">                    </span>         <span style=\"color: #008000; text-decoration-color: #008000\">1'</span>, <span style=\"color: #008000; text-decoration-color: #008000\">'response2'</span>: <span style=\"color: #008000; text-decoration-color: #008000\">'Response 2'</span><span style=\"font-weight: bold\">})]</span>                                         <span style=\"color: #7f7f7f; text-decoration-color: #7f7f7f\">             </span>\n",
       "<span style=\"color: #7fbfbf; text-decoration-color: #7fbfbf\">                    </span>            <span style=\"color: #808000; text-decoration-color: #808000\">guidelines</span>=<span style=\"color: #800080; text-decoration-color: #800080\">This</span> is a preference dataset that contains contexts and    <span style=\"color: #7f7f7f; text-decoration-color: #7f7f7f\">             </span>\n",
       "<span style=\"color: #7fbfbf; text-decoration-color: #7fbfbf\">                    </span>         options. Please rank the options that you would prefer in the given      <span style=\"color: #7f7f7f; text-decoration-color: #7f7f7f\">             </span>\n",
       "<span style=\"color: #7fbfbf; text-decoration-color: #7fbfbf\">                    </span>         context.                                                                 <span style=\"color: #7f7f7f; text-decoration-color: #7f7f7f\">             </span>\n",
       "<span style=\"color: #7fbfbf; text-decoration-color: #7fbfbf\">                    </span>            <span style=\"color: #808000; text-decoration-color: #808000\">metadata_properties</span>=<span style=\"font-weight: bold\">[]</span>                                                <span style=\"color: #7f7f7f; text-decoration-color: #7f7f7f\">             </span>\n",
       "<span style=\"color: #7fbfbf; text-decoration-color: #7fbfbf\">                    </span>            <span style=\"color: #808000; text-decoration-color: #808000\">vectors_settings</span>=<span style=\"font-weight: bold\">[]</span>                                                   <span style=\"color: #7f7f7f; text-decoration-color: #7f7f7f\">             </span>\n",
       "<span style=\"color: #7fbfbf; text-decoration-color: #7fbfbf\">                    </span>         <span style=\"font-weight: bold\">)</span>                                                                        <span style=\"color: #7f7f7f; text-decoration-color: #7f7f7f\">             </span>\n",
       "</pre>\n"
      ],
      "text/plain": [
       "\u001b[2;36m                   \u001b[0m\u001b[2;36m \u001b[0m\u001b[34mINFO    \u001b[0m INFO:argilla.client.feedback.dataset.local.mixins:\u001b[1;35mRemoteFeedbackDataset\u001b[0m\u001b[1m(\u001b[0m \u001b]8;id=356821;file://d:\\argenv\\Lib\\site-packages\\argilla\\client\\feedback\\dataset\\local\\mixins.py\u001b\\\u001b[2mmixins.py\u001b[0m\u001b]8;;\u001b\\\u001b[2m:\u001b[0m\u001b]8;id=348732;file://d:\\argenv\\Lib\\site-packages\\argilla\\client\\feedback\\dataset\\local\\mixins.py#272\u001b\\\u001b[2m272\u001b[0m\u001b]8;;\u001b\\\n",
       "\u001b[2;36m                    \u001b[0m            \u001b[33mid\u001b[0m=\u001b[93me5c399d1\u001b[0m\u001b[93m-8814-4185-81a0-477d56e31627\u001b[0m                               \u001b[2m             \u001b[0m\n",
       "\u001b[2;36m                    \u001b[0m            \u001b[33mname\u001b[0m=\u001b[35mds_pref\u001b[0m                                                          \u001b[2m             \u001b[0m\n",
       "\u001b[2;36m                    \u001b[0m            \u001b[33mworkspace\u001b[0m=\u001b[1;35mWorkspace\u001b[0m\u001b[1m(\u001b[0m\u001b[33mid\u001b[0m=\u001b[93mda074b40\u001b[0m\u001b[93m-5fa4-4cf1-b07c-384ebfc3c73e\u001b[0m,          \u001b[2m             \u001b[0m\n",
       "\u001b[2;36m                    \u001b[0m         \u001b[33mname\u001b[0m=\u001b[35mhfgilla\u001b[0m, \u001b[33minserted_at\u001b[0m=\u001b[1;36m2024\u001b[0m-\u001b[1;36m04\u001b[0m-\u001b[1;36m02\u001b[0m \u001b[1;92m12:08:21\u001b[0m.\u001b[1;36m064036\u001b[0m,                    \u001b[2m             \u001b[0m\n",
       "\u001b[2;36m                    \u001b[0m         \u001b[33mupdated_at\u001b[0m=\u001b[1;36m2024\u001b[0m-\u001b[1;36m04\u001b[0m-\u001b[1;36m02\u001b[0m \u001b[1;92m12:08:21\u001b[0m.\u001b[1;36m064036\u001b[0m\u001b[1m)\u001b[0m                                   \u001b[2m             \u001b[0m\n",
       "\u001b[2;36m                    \u001b[0m            \u001b[33murl\u001b[0m=\u001b[4;94mhttps\u001b[0m\u001b[4;94m://kamaljp-argillatest.hf.space/dataset/e5c399d1-8814-4185-8\u001b[0m \u001b[2m             \u001b[0m\n",
       "\u001b[2;36m                    \u001b[0m         \u001b[4;94m1a0-477d56e31627/annotation-mode\u001b[0m                                         \u001b[2m             \u001b[0m\n",
       "\u001b[2;36m                    \u001b[0m            \u001b[33mfields\u001b[0m=\u001b[1m[\u001b[0m\u001b[1;35mRemoteTextField\u001b[0m\u001b[1m(\u001b[0m\u001b[33mid\u001b[0m=\u001b[1;35mUUID\u001b[0m\u001b[1m(\u001b[0m\u001b[32m'db5e02b3-2a27-4503-8a2a-e4f99ce5661d\u001b[0m \u001b[2m             \u001b[0m\n",
       "\u001b[2;36m                    \u001b[0m         \u001b[32m'\u001b[0m\u001b[1m)\u001b[0m, \u001b[33mclient\u001b[0m=\u001b[3;35mNone\u001b[0m, \u001b[33mname\u001b[0m=\u001b[32m'prompt'\u001b[0m, \u001b[33mtitle\u001b[0m=\u001b[32m'Prompt'\u001b[0m, \u001b[33mrequired\u001b[0m=\u001b[3;92mTrue\u001b[0m,           \u001b[2m             \u001b[0m\n",
       "\u001b[2;36m                    \u001b[0m         \u001b[33mtype\u001b[0m=\u001b[32m'text'\u001b[0m, \u001b[33muse_markdown\u001b[0m=\u001b[3;92mTrue\u001b[0m\u001b[1m)\u001b[0m,                                         \u001b[2m             \u001b[0m\n",
       "\u001b[2;36m                    \u001b[0m         \u001b[1;35mRemoteTextField\u001b[0m\u001b[1m(\u001b[0m\u001b[33mid\u001b[0m=\u001b[1;35mUUID\u001b[0m\u001b[1m(\u001b[0m\u001b[32m'e8dba124-d5aa-4e11-9d1d-22ea9c530795'\u001b[0m\u001b[1m)\u001b[0m,         \u001b[2m             \u001b[0m\n",
       "\u001b[2;36m                    \u001b[0m         \u001b[33mclient\u001b[0m=\u001b[3;35mNone\u001b[0m, \u001b[33mname\u001b[0m=\u001b[32m'response1'\u001b[0m, \u001b[33mtitle\u001b[0m=\u001b[32m'Response 1'\u001b[0m, \u001b[33mrequired\u001b[0m=\u001b[3;92mTrue\u001b[0m,        \u001b[2m             \u001b[0m\n",
       "\u001b[2;36m                    \u001b[0m         \u001b[33mtype\u001b[0m=\u001b[32m'text'\u001b[0m, \u001b[33muse_markdown\u001b[0m=\u001b[3;92mTrue\u001b[0m\u001b[1m)\u001b[0m,                                         \u001b[2m             \u001b[0m\n",
       "\u001b[2;36m                    \u001b[0m         \u001b[1;35mRemoteTextField\u001b[0m\u001b[1m(\u001b[0m\u001b[33mid\u001b[0m=\u001b[1;35mUUID\u001b[0m\u001b[1m(\u001b[0m\u001b[32m'43d9ebf0-791a-4f98-b31d-1ed35232bf39'\u001b[0m\u001b[1m)\u001b[0m,         \u001b[2m             \u001b[0m\n",
       "\u001b[2;36m                    \u001b[0m         \u001b[33mclient\u001b[0m=\u001b[3;35mNone\u001b[0m, \u001b[33mname\u001b[0m=\u001b[32m'response2'\u001b[0m, \u001b[33mtitle\u001b[0m=\u001b[32m'Response 2'\u001b[0m, \u001b[33mrequired\u001b[0m=\u001b[3;91mFalse\u001b[0m,       \u001b[2m             \u001b[0m\n",
       "\u001b[2;36m                    \u001b[0m         \u001b[33mtype\u001b[0m=\u001b[32m'text'\u001b[0m, \u001b[33muse_markdown\u001b[0m=\u001b[3;92mTrue\u001b[0m\u001b[1m)\u001b[0m\u001b[1m]\u001b[0m                                         \u001b[2m             \u001b[0m\n",
       "\u001b[2;36m                    \u001b[0m            \u001b[33mquestions\u001b[0m=\u001b[1m[\u001b[0m\u001b[1;35mRemoteRankingQuestion\u001b[0m\u001b[1m(\u001b[0m\u001b[33mid\u001b[0m=\u001b[1;35mUUID\u001b[0m\u001b[1m(\u001b[0m\u001b[32m'b2b3e4f3-bbf6-4478-b009-c03\u001b[0m \u001b[2m             \u001b[0m\n",
       "\u001b[2;36m                    \u001b[0m         \u001b[32ma2ab11a95'\u001b[0m\u001b[1m)\u001b[0m, \u001b[33mclient\u001b[0m=\u001b[3;35mNone\u001b[0m, \u001b[33mname\u001b[0m=\u001b[32m'preference'\u001b[0m, \u001b[33mtitle\u001b[0m=\u001b[32m'Order responses \u001b[0m     \u001b[2m             \u001b[0m\n",
       "\u001b[2;36m                    \u001b[0m         \u001b[32mbased on your preference'\u001b[0m, \u001b[33mdescription\u001b[0m=\u001b[32m'1 = Best, 2 = Worst. Ties are \u001b[0m   \u001b[2m             \u001b[0m\n",
       "\u001b[2;36m                    \u001b[0m         \u001b[32mallowed.'\u001b[0m, \u001b[33mrequired\u001b[0m=\u001b[3;92mTrue\u001b[0m, \u001b[33mtype\u001b[0m=\u001b[32m'ranking'\u001b[0m, \u001b[33mvalues\u001b[0m=\u001b[1m{\u001b[0m\u001b[32m'response1'\u001b[0m: \u001b[32m'Response\u001b[0m \u001b[2m             \u001b[0m\n",
       "\u001b[2;36m                    \u001b[0m         \u001b[32m1'\u001b[0m, \u001b[32m'response2'\u001b[0m: \u001b[32m'Response 2'\u001b[0m\u001b[1m}\u001b[0m\u001b[1m)\u001b[0m\u001b[1m]\u001b[0m                                         \u001b[2m             \u001b[0m\n",
       "\u001b[2;36m                    \u001b[0m            \u001b[33mguidelines\u001b[0m=\u001b[35mThis\u001b[0m is a preference dataset that contains contexts and    \u001b[2m             \u001b[0m\n",
       "\u001b[2;36m                    \u001b[0m         options. Please rank the options that you would prefer in the given      \u001b[2m             \u001b[0m\n",
       "\u001b[2;36m                    \u001b[0m         context.                                                                 \u001b[2m             \u001b[0m\n",
       "\u001b[2;36m                    \u001b[0m            \u001b[33mmetadata_properties\u001b[0m=\u001b[1m[\u001b[0m\u001b[1m]\u001b[0m                                                \u001b[2m             \u001b[0m\n",
       "\u001b[2;36m                    \u001b[0m            \u001b[33mvectors_settings\u001b[0m=\u001b[1m[\u001b[0m\u001b[1m]\u001b[0m                                                   \u001b[2m             \u001b[0m\n",
       "\u001b[2;36m                    \u001b[0m         \u001b[1m)\u001b[0m                                                                        \u001b[2m             \u001b[0m\n"
      ]
     },
     "metadata": {},
     "output_type": "display_data"
    },
    {
     "data": {
      "text/plain": [
       "RemoteFeedbackDataset(\n",
       "   id=e5c399d1-8814-4185-81a0-477d56e31627\n",
       "   name=ds_pref\n",
       "   workspace=Workspace(id=da074b40-5fa4-4cf1-b07c-384ebfc3c73e, name=hfgilla, inserted_at=2024-04-02 12:08:21.064036, updated_at=2024-04-02 12:08:21.064036)\n",
       "   url=https://kamaljp-argillatest.hf.space/dataset/e5c399d1-8814-4185-81a0-477d56e31627/annotation-mode\n",
       "   fields=[RemoteTextField(id=UUID('db5e02b3-2a27-4503-8a2a-e4f99ce5661d'), client=None, name='prompt', title='Prompt', required=True, type='text', use_markdown=True), RemoteTextField(id=UUID('e8dba124-d5aa-4e11-9d1d-22ea9c530795'), client=None, name='response1', title='Response 1', required=True, type='text', use_markdown=True), RemoteTextField(id=UUID('43d9ebf0-791a-4f98-b31d-1ed35232bf39'), client=None, name='response2', title='Response 2', required=False, type='text', use_markdown=True)]\n",
       "   questions=[RemoteRankingQuestion(id=UUID('b2b3e4f3-bbf6-4478-b009-c03a2ab11a95'), client=None, name='preference', title='Order responses based on your preference', description='1 = Best, 2 = Worst. Ties are allowed.', required=True, type='ranking', values={'response1': 'Response 1', 'response2': 'Response 2'})]\n",
       "   guidelines=This is a preference dataset that contains contexts and options. Please rank the options that you would prefer in the given context.\n",
       "   metadata_properties=[]\n",
       "   vectors_settings=[]\n",
       ")"
      ]
     },
     "execution_count": 15,
     "metadata": {},
     "output_type": "execute_result"
    }
   ],
   "source": [
    "import argilla as rg\n",
    "\n",
    "ds_pref = rg.FeedbackDataset.for_preference_modeling(\n",
    "    number_of_responses=2,\n",
    "    context=False,\n",
    "    use_markdown=True,\n",
    "    guidelines=None,\n",
    "    metadata_properties=None,\n",
    "    vectors_settings=None,\n",
    ")\n",
    "\n",
    "# FeedbackDataset(\n",
    "#     fields=[\n",
    "#         TextField(name=\"prompt\", use_markdown=True),\n",
    "#         TextField(name=\"context\", use_markdown=True),\n",
    "#         TextField(name=\"response1\", use_markdown=True),\n",
    "#         TextField(name=\"response2\", use_markdown=True),\n",
    "#     ],\n",
    "#     questions=[\n",
    "#         RankingQuestion(name=\"preference\", values=[\"Response 1\", \"Response 2\"])\n",
    "#     ],\n",
    "#     guidelines=\"<Guidelines for the task>\",\n",
    "#     metadata_properties=\"<Metadata Properties>\"\n",
    "#     vectors_settings=\"<Vectors Settings>\",\n",
    "# )\n",
    "pref_rec = rg.FeedbackRecord(\n",
    "    fields={\n",
    "        \"prompt\": \"This is the prompt from the user\",\n",
    "        \"response1\": \"This is the response 1 from the model\",\n",
    "        \"response2\": \"Response2 provided by the model during inference\"\n",
    "    }\n",
    ")\n",
    "ds_pref.add_records([pref_rec])\n",
    "ds_pref.push_to_argilla(\"ds_pref\", \"hfgilla\")\n"
   ]
  },
  {
   "cell_type": "code",
   "execution_count": null,
   "metadata": {},
   "outputs": [],
   "source": [
    "ds_pref.field_by_name('prompt')"
   ]
  },
  {
   "cell_type": "code",
   "execution_count": null,
   "metadata": {},
   "outputs": [],
   "source": [
    "ds_pref.fields"
   ]
  },
  {
   "cell_type": "code",
   "execution_count": null,
   "metadata": {},
   "outputs": [],
   "source": [
    "ds_pref.questions"
   ]
  },
  {
   "cell_type": "code",
   "execution_count": null,
   "metadata": {},
   "outputs": [],
   "source": [
    "ds_pref.question_by_name(\"preference\")"
   ]
  },
  {
   "cell_type": "code",
   "execution_count": null,
   "metadata": {},
   "outputs": [],
   "source": [
    "import argilla as rg\n",
    "\n",
    "ds_ppo = rg.FeedbackDataset.for_proximal_policy_optimization(\n",
    "    rating_scale=7,\n",
    "    context=True,\n",
    "    use_markdown=True,\n",
    "    guidelines=None,\n",
    "    metadata_properties=None,\n",
    "    vectors_settings=None,\n",
    ")\n",
    "# FeedbackDataset(\n",
    "#     fields=[\n",
    "#         TextField(name=\"prompt\", use_markdown=True),\n",
    "#         TextField(name=\"context\", use_markdown=True)\n",
    "#     ],\n",
    "#     questions=[\n",
    "#         TextQuestion(name=\"response\", use_markdown=True)\n",
    "#     ],\n",
    "#     guidelines=\"<Guidelines for the task>\",\n",
    "#     metadata_properties=\"<Metadata Properties>\",\n",
    "#     vectors_settings=\"<Vectors Settings>\",\n",
    "# )\n",
    "ppo_rec = rg.FeedbackRecord(\n",
    "    fields={\n",
    "        \"prompt\":\"This is the prompt to the model\",\n",
    "        \"context\": \"This is the context given\"\n",
    "    }\n",
    ")\n",
    "\n",
    "ds_ppo.add_records(ppo_rec)\n",
    "ds_ppo.push_to_argilla(\"ds_ppo\", \"hfgilla\")"
   ]
  },
  {
   "cell_type": "code",
   "execution_count": 18,
   "metadata": {},
   "outputs": [
    {
     "data": {
      "text/html": [
       "<pre style=\"white-space:pre;overflow-x:auto;line-height:normal;font-family:Menlo,'DejaVu Sans Mono',consolas,'Courier New',monospace\"></pre>\n"
      ],
      "text/plain": []
     },
     "metadata": {},
     "output_type": "display_data"
    },
    {
     "data": {
      "text/html": [
       "<pre style=\"white-space:pre;overflow-x:auto;line-height:normal;font-family:Menlo,'DejaVu Sans Mono',consolas,'Courier New',monospace\">\n",
       "</pre>\n"
      ],
      "text/plain": [
       "\n"
      ]
     },
     "metadata": {},
     "output_type": "display_data"
    },
    {
     "data": {
      "text/html": [
       "<pre style=\"white-space:pre;overflow-x:auto;line-height:normal;font-family:Menlo,'DejaVu Sans Mono',consolas,'Courier New',monospace\"><span style=\"color: #7fbfbf; text-decoration-color: #7fbfbf\">[04/05/24 11:52:08] </span><span style=\"color: #000080; text-decoration-color: #000080\">INFO    </span> INFO:argilla.client.feedback.dataset.local.mixins:✓ Dataset succesfully  <a href=\"file://d:\\argenv\\Lib\\site-packages\\argilla\\client\\feedback\\dataset\\local\\mixins.py\" target=\"_blank\"><span style=\"color: #7f7f7f; text-decoration-color: #7f7f7f\">mixins.py</span></a><span style=\"color: #7f7f7f; text-decoration-color: #7f7f7f\">:</span><a href=\"file://d:\\argenv\\Lib\\site-packages\\argilla\\client\\feedback\\dataset\\local\\mixins.py#271\" target=\"_blank\"><span style=\"color: #7f7f7f; text-decoration-color: #7f7f7f\">271</span></a>\n",
       "<span style=\"color: #7fbfbf; text-decoration-color: #7fbfbf\">                    </span>         pushed to Argilla                                                        <span style=\"color: #7f7f7f; text-decoration-color: #7f7f7f\">             </span>\n",
       "</pre>\n"
      ],
      "text/plain": [
       "\u001b[2;36m[04/05/24 11:52:08]\u001b[0m\u001b[2;36m \u001b[0m\u001b[34mINFO    \u001b[0m INFO:argilla.client.feedback.dataset.local.mixins:✓ Dataset succesfully  \u001b]8;id=647715;file://d:\\argenv\\Lib\\site-packages\\argilla\\client\\feedback\\dataset\\local\\mixins.py\u001b\\\u001b[2mmixins.py\u001b[0m\u001b]8;;\u001b\\\u001b[2m:\u001b[0m\u001b]8;id=977160;file://d:\\argenv\\Lib\\site-packages\\argilla\\client\\feedback\\dataset\\local\\mixins.py#271\u001b\\\u001b[2m271\u001b[0m\u001b]8;;\u001b\\\n",
       "\u001b[2;36m                    \u001b[0m         pushed to Argilla                                                        \u001b[2m             \u001b[0m\n"
      ]
     },
     "metadata": {},
     "output_type": "display_data"
    },
    {
     "data": {
      "text/html": [
       "<pre style=\"white-space:pre;overflow-x:auto;line-height:normal;font-family:Menlo,'DejaVu Sans Mono',consolas,'Courier New',monospace\"><span style=\"color: #7fbfbf; text-decoration-color: #7fbfbf\">                    </span><span style=\"color: #000080; text-decoration-color: #000080\">INFO    </span> INFO:argilla.client.feedback.dataset.local.mixins:<span style=\"color: #800080; text-decoration-color: #800080; font-weight: bold\">RemoteFeedbackDataset</span><span style=\"font-weight: bold\">(</span> <a href=\"file://d:\\argenv\\Lib\\site-packages\\argilla\\client\\feedback\\dataset\\local\\mixins.py\" target=\"_blank\"><span style=\"color: #7f7f7f; text-decoration-color: #7f7f7f\">mixins.py</span></a><span style=\"color: #7f7f7f; text-decoration-color: #7f7f7f\">:</span><a href=\"file://d:\\argenv\\Lib\\site-packages\\argilla\\client\\feedback\\dataset\\local\\mixins.py#272\" target=\"_blank\"><span style=\"color: #7f7f7f; text-decoration-color: #7f7f7f\">272</span></a>\n",
       "<span style=\"color: #7fbfbf; text-decoration-color: #7fbfbf\">                    </span>            <span style=\"color: #808000; text-decoration-color: #808000\">id</span>=<span style=\"color: #ffff00; text-decoration-color: #ffff00\">40b81354</span><span style=\"color: #ffff00; text-decoration-color: #ffff00\">-466d-4037-9046-8252f15653b8</span>                               <span style=\"color: #7f7f7f; text-decoration-color: #7f7f7f\">             </span>\n",
       "<span style=\"color: #7fbfbf; text-decoration-color: #7fbfbf\">                    </span>            <span style=\"color: #808000; text-decoration-color: #808000\">name</span>=<span style=\"color: #800080; text-decoration-color: #800080\">ds_dpo</span>                                                           <span style=\"color: #7f7f7f; text-decoration-color: #7f7f7f\">             </span>\n",
       "<span style=\"color: #7fbfbf; text-decoration-color: #7fbfbf\">                    </span>            <span style=\"color: #808000; text-decoration-color: #808000\">workspace</span>=<span style=\"color: #800080; text-decoration-color: #800080; font-weight: bold\">Workspace</span><span style=\"font-weight: bold\">(</span><span style=\"color: #808000; text-decoration-color: #808000\">id</span>=<span style=\"color: #ffff00; text-decoration-color: #ffff00\">da074b40</span><span style=\"color: #ffff00; text-decoration-color: #ffff00\">-5fa4-4cf1-b07c-384ebfc3c73e</span>,          <span style=\"color: #7f7f7f; text-decoration-color: #7f7f7f\">             </span>\n",
       "<span style=\"color: #7fbfbf; text-decoration-color: #7fbfbf\">                    </span>         <span style=\"color: #808000; text-decoration-color: #808000\">name</span>=<span style=\"color: #800080; text-decoration-color: #800080\">hfgilla</span>, <span style=\"color: #808000; text-decoration-color: #808000\">inserted_at</span>=<span style=\"color: #008080; text-decoration-color: #008080; font-weight: bold\">2024</span>-<span style=\"color: #008080; text-decoration-color: #008080; font-weight: bold\">04</span>-<span style=\"color: #008080; text-decoration-color: #008080; font-weight: bold\">02</span> <span style=\"color: #00ff00; text-decoration-color: #00ff00; font-weight: bold\">12:08:21</span>.<span style=\"color: #008080; text-decoration-color: #008080; font-weight: bold\">064036</span>,                    <span style=\"color: #7f7f7f; text-decoration-color: #7f7f7f\">             </span>\n",
       "<span style=\"color: #7fbfbf; text-decoration-color: #7fbfbf\">                    </span>         <span style=\"color: #808000; text-decoration-color: #808000\">updated_at</span>=<span style=\"color: #008080; text-decoration-color: #008080; font-weight: bold\">2024</span>-<span style=\"color: #008080; text-decoration-color: #008080; font-weight: bold\">04</span>-<span style=\"color: #008080; text-decoration-color: #008080; font-weight: bold\">02</span> <span style=\"color: #00ff00; text-decoration-color: #00ff00; font-weight: bold\">12:08:21</span>.<span style=\"color: #008080; text-decoration-color: #008080; font-weight: bold\">064036</span><span style=\"font-weight: bold\">)</span>                                   <span style=\"color: #7f7f7f; text-decoration-color: #7f7f7f\">             </span>\n",
       "<span style=\"color: #7fbfbf; text-decoration-color: #7fbfbf\">                    </span>            <span style=\"color: #808000; text-decoration-color: #808000\">url</span>=<span style=\"color: #0000ff; text-decoration-color: #0000ff; text-decoration: underline\">https://kamaljp-argillatest.hf.space/dataset/40b81354-466d-4037-9</span> <span style=\"color: #7f7f7f; text-decoration-color: #7f7f7f\">             </span>\n",
       "<span style=\"color: #7fbfbf; text-decoration-color: #7fbfbf\">                    </span>         <span style=\"color: #0000ff; text-decoration-color: #0000ff; text-decoration: underline\">046-8252f15653b8/annotation-mode</span>                                         <span style=\"color: #7f7f7f; text-decoration-color: #7f7f7f\">             </span>\n",
       "<span style=\"color: #7fbfbf; text-decoration-color: #7fbfbf\">                    </span>            <span style=\"color: #808000; text-decoration-color: #808000\">fields</span>=<span style=\"font-weight: bold\">[</span><span style=\"color: #800080; text-decoration-color: #800080; font-weight: bold\">RemoteTextField</span><span style=\"font-weight: bold\">(</span><span style=\"color: #808000; text-decoration-color: #808000\">id</span>=<span style=\"color: #800080; text-decoration-color: #800080; font-weight: bold\">UUID</span><span style=\"font-weight: bold\">(</span><span style=\"color: #008000; text-decoration-color: #008000\">'775bd0e8-9206-4ee4-93e3-c8950e3f3c49</span> <span style=\"color: #7f7f7f; text-decoration-color: #7f7f7f\">             </span>\n",
       "<span style=\"color: #7fbfbf; text-decoration-color: #7fbfbf\">                    </span>         <span style=\"color: #008000; text-decoration-color: #008000\">'</span><span style=\"font-weight: bold\">)</span>, <span style=\"color: #808000; text-decoration-color: #808000\">client</span>=<span style=\"color: #800080; text-decoration-color: #800080; font-style: italic\">None</span>, <span style=\"color: #808000; text-decoration-color: #808000\">name</span>=<span style=\"color: #008000; text-decoration-color: #008000\">'prompt'</span>, <span style=\"color: #808000; text-decoration-color: #808000\">title</span>=<span style=\"color: #008000; text-decoration-color: #008000\">'Prompt'</span>, <span style=\"color: #808000; text-decoration-color: #808000\">required</span>=<span style=\"color: #00ff00; text-decoration-color: #00ff00; font-style: italic\">True</span>,           <span style=\"color: #7f7f7f; text-decoration-color: #7f7f7f\">             </span>\n",
       "<span style=\"color: #7fbfbf; text-decoration-color: #7fbfbf\">                    </span>         <span style=\"color: #808000; text-decoration-color: #808000\">type</span>=<span style=\"color: #008000; text-decoration-color: #008000\">'text'</span>, <span style=\"color: #808000; text-decoration-color: #808000\">use_markdown</span>=<span style=\"color: #00ff00; text-decoration-color: #00ff00; font-style: italic\">True</span><span style=\"font-weight: bold\">)</span>,                                         <span style=\"color: #7f7f7f; text-decoration-color: #7f7f7f\">             </span>\n",
       "<span style=\"color: #7fbfbf; text-decoration-color: #7fbfbf\">                    </span>         <span style=\"color: #800080; text-decoration-color: #800080; font-weight: bold\">RemoteTextField</span><span style=\"font-weight: bold\">(</span><span style=\"color: #808000; text-decoration-color: #808000\">id</span>=<span style=\"color: #800080; text-decoration-color: #800080; font-weight: bold\">UUID</span><span style=\"font-weight: bold\">(</span><span style=\"color: #008000; text-decoration-color: #008000\">'15f79931-7bf3-4166-b9fa-2557fdf939f8'</span><span style=\"font-weight: bold\">)</span>,         <span style=\"color: #7f7f7f; text-decoration-color: #7f7f7f\">             </span>\n",
       "<span style=\"color: #7fbfbf; text-decoration-color: #7fbfbf\">                    </span>         <span style=\"color: #808000; text-decoration-color: #808000\">client</span>=<span style=\"color: #800080; text-decoration-color: #800080; font-style: italic\">None</span>, <span style=\"color: #808000; text-decoration-color: #808000\">name</span>=<span style=\"color: #008000; text-decoration-color: #008000\">'response1'</span>, <span style=\"color: #808000; text-decoration-color: #808000\">title</span>=<span style=\"color: #008000; text-decoration-color: #008000\">'Response 1'</span>, <span style=\"color: #808000; text-decoration-color: #808000\">required</span>=<span style=\"color: #00ff00; text-decoration-color: #00ff00; font-style: italic\">True</span>,        <span style=\"color: #7f7f7f; text-decoration-color: #7f7f7f\">             </span>\n",
       "<span style=\"color: #7fbfbf; text-decoration-color: #7fbfbf\">                    </span>         <span style=\"color: #808000; text-decoration-color: #808000\">type</span>=<span style=\"color: #008000; text-decoration-color: #008000\">'text'</span>, <span style=\"color: #808000; text-decoration-color: #808000\">use_markdown</span>=<span style=\"color: #00ff00; text-decoration-color: #00ff00; font-style: italic\">True</span><span style=\"font-weight: bold\">)</span>,                                         <span style=\"color: #7f7f7f; text-decoration-color: #7f7f7f\">             </span>\n",
       "<span style=\"color: #7fbfbf; text-decoration-color: #7fbfbf\">                    </span>         <span style=\"color: #800080; text-decoration-color: #800080; font-weight: bold\">RemoteTextField</span><span style=\"font-weight: bold\">(</span><span style=\"color: #808000; text-decoration-color: #808000\">id</span>=<span style=\"color: #800080; text-decoration-color: #800080; font-weight: bold\">UUID</span><span style=\"font-weight: bold\">(</span><span style=\"color: #008000; text-decoration-color: #008000\">'946d81d5-d303-443e-a93e-967aeb130b34'</span><span style=\"font-weight: bold\">)</span>,         <span style=\"color: #7f7f7f; text-decoration-color: #7f7f7f\">             </span>\n",
       "<span style=\"color: #7fbfbf; text-decoration-color: #7fbfbf\">                    </span>         <span style=\"color: #808000; text-decoration-color: #808000\">client</span>=<span style=\"color: #800080; text-decoration-color: #800080; font-style: italic\">None</span>, <span style=\"color: #808000; text-decoration-color: #808000\">name</span>=<span style=\"color: #008000; text-decoration-color: #008000\">'response2'</span>, <span style=\"color: #808000; text-decoration-color: #808000\">title</span>=<span style=\"color: #008000; text-decoration-color: #008000\">'Response 2'</span>, <span style=\"color: #808000; text-decoration-color: #808000\">required</span>=<span style=\"color: #ff0000; text-decoration-color: #ff0000; font-style: italic\">False</span>,       <span style=\"color: #7f7f7f; text-decoration-color: #7f7f7f\">             </span>\n",
       "<span style=\"color: #7fbfbf; text-decoration-color: #7fbfbf\">                    </span>         <span style=\"color: #808000; text-decoration-color: #808000\">type</span>=<span style=\"color: #008000; text-decoration-color: #008000\">'text'</span>, <span style=\"color: #808000; text-decoration-color: #808000\">use_markdown</span>=<span style=\"color: #00ff00; text-decoration-color: #00ff00; font-style: italic\">True</span><span style=\"font-weight: bold\">)]</span>                                         <span style=\"color: #7f7f7f; text-decoration-color: #7f7f7f\">             </span>\n",
       "<span style=\"color: #7fbfbf; text-decoration-color: #7fbfbf\">                    </span>            <span style=\"color: #808000; text-decoration-color: #808000\">questions</span>=<span style=\"font-weight: bold\">[</span><span style=\"color: #800080; text-decoration-color: #800080; font-weight: bold\">RemoteRankingQuestion</span><span style=\"font-weight: bold\">(</span><span style=\"color: #808000; text-decoration-color: #808000\">id</span>=<span style=\"color: #800080; text-decoration-color: #800080; font-weight: bold\">UUID</span><span style=\"font-weight: bold\">(</span><span style=\"color: #008000; text-decoration-color: #008000\">'76f8ec9b-871b-4560-865c-294</span> <span style=\"color: #7f7f7f; text-decoration-color: #7f7f7f\">             </span>\n",
       "<span style=\"color: #7fbfbf; text-decoration-color: #7fbfbf\">                    </span>         <span style=\"color: #008000; text-decoration-color: #008000\">bcbb277e8'</span><span style=\"font-weight: bold\">)</span>, <span style=\"color: #808000; text-decoration-color: #808000\">client</span>=<span style=\"color: #800080; text-decoration-color: #800080; font-style: italic\">None</span>, <span style=\"color: #808000; text-decoration-color: #808000\">name</span>=<span style=\"color: #008000; text-decoration-color: #008000\">'preference'</span>, <span style=\"color: #808000; text-decoration-color: #808000\">title</span>=<span style=\"color: #008000; text-decoration-color: #008000\">'Order responses </span>     <span style=\"color: #7f7f7f; text-decoration-color: #7f7f7f\">             </span>\n",
       "<span style=\"color: #7fbfbf; text-decoration-color: #7fbfbf\">                    </span>         <span style=\"color: #008000; text-decoration-color: #008000\">based on your preference'</span>, <span style=\"color: #808000; text-decoration-color: #808000\">description</span>=<span style=\"color: #008000; text-decoration-color: #008000\">'1 = Best, 2 = Worst. Ties are </span>   <span style=\"color: #7f7f7f; text-decoration-color: #7f7f7f\">             </span>\n",
       "<span style=\"color: #7fbfbf; text-decoration-color: #7fbfbf\">                    </span>         <span style=\"color: #008000; text-decoration-color: #008000\">allowed.'</span>, <span style=\"color: #808000; text-decoration-color: #808000\">required</span>=<span style=\"color: #00ff00; text-decoration-color: #00ff00; font-style: italic\">True</span>, <span style=\"color: #808000; text-decoration-color: #808000\">type</span>=<span style=\"color: #008000; text-decoration-color: #008000\">'ranking'</span>, <span style=\"color: #808000; text-decoration-color: #808000\">values</span>=<span style=\"font-weight: bold\">{</span><span style=\"color: #008000; text-decoration-color: #008000\">'response1'</span>: <span style=\"color: #008000; text-decoration-color: #008000\">'Response</span> <span style=\"color: #7f7f7f; text-decoration-color: #7f7f7f\">             </span>\n",
       "<span style=\"color: #7fbfbf; text-decoration-color: #7fbfbf\">                    </span>         <span style=\"color: #008000; text-decoration-color: #008000\">1'</span>, <span style=\"color: #008000; text-decoration-color: #008000\">'response2'</span>: <span style=\"color: #008000; text-decoration-color: #008000\">'Response 2'</span><span style=\"font-weight: bold\">})]</span>                                         <span style=\"color: #7f7f7f; text-decoration-color: #7f7f7f\">             </span>\n",
       "<span style=\"color: #7fbfbf; text-decoration-color: #7fbfbf\">                    </span>            <span style=\"color: #808000; text-decoration-color: #808000\">guidelines</span>=<span style=\"color: #800080; text-decoration-color: #800080\">This</span> is a direct preference optimization dataset that      <span style=\"color: #7f7f7f; text-decoration-color: #7f7f7f\">             </span>\n",
       "<span style=\"color: #7fbfbf; text-decoration-color: #7fbfbf\">                    </span>         contains contexts and options. Please rank the options that you would    <span style=\"color: #7f7f7f; text-decoration-color: #7f7f7f\">             </span>\n",
       "<span style=\"color: #7fbfbf; text-decoration-color: #7fbfbf\">                    </span>         prefer in the given context.                                             <span style=\"color: #7f7f7f; text-decoration-color: #7f7f7f\">             </span>\n",
       "<span style=\"color: #7fbfbf; text-decoration-color: #7fbfbf\">                    </span>            <span style=\"color: #808000; text-decoration-color: #808000\">metadata_properties</span>=<span style=\"font-weight: bold\">[]</span>                                                <span style=\"color: #7f7f7f; text-decoration-color: #7f7f7f\">             </span>\n",
       "<span style=\"color: #7fbfbf; text-decoration-color: #7fbfbf\">                    </span>            <span style=\"color: #808000; text-decoration-color: #808000\">vectors_settings</span>=<span style=\"font-weight: bold\">[]</span>                                                   <span style=\"color: #7f7f7f; text-decoration-color: #7f7f7f\">             </span>\n",
       "<span style=\"color: #7fbfbf; text-decoration-color: #7fbfbf\">                    </span>         <span style=\"font-weight: bold\">)</span>                                                                        <span style=\"color: #7f7f7f; text-decoration-color: #7f7f7f\">             </span>\n",
       "</pre>\n"
      ],
      "text/plain": [
       "\u001b[2;36m                   \u001b[0m\u001b[2;36m \u001b[0m\u001b[34mINFO    \u001b[0m INFO:argilla.client.feedback.dataset.local.mixins:\u001b[1;35mRemoteFeedbackDataset\u001b[0m\u001b[1m(\u001b[0m \u001b]8;id=644113;file://d:\\argenv\\Lib\\site-packages\\argilla\\client\\feedback\\dataset\\local\\mixins.py\u001b\\\u001b[2mmixins.py\u001b[0m\u001b]8;;\u001b\\\u001b[2m:\u001b[0m\u001b]8;id=313733;file://d:\\argenv\\Lib\\site-packages\\argilla\\client\\feedback\\dataset\\local\\mixins.py#272\u001b\\\u001b[2m272\u001b[0m\u001b]8;;\u001b\\\n",
       "\u001b[2;36m                    \u001b[0m            \u001b[33mid\u001b[0m=\u001b[93m40b81354\u001b[0m\u001b[93m-466d-4037-9046-8252f15653b8\u001b[0m                               \u001b[2m             \u001b[0m\n",
       "\u001b[2;36m                    \u001b[0m            \u001b[33mname\u001b[0m=\u001b[35mds_dpo\u001b[0m                                                           \u001b[2m             \u001b[0m\n",
       "\u001b[2;36m                    \u001b[0m            \u001b[33mworkspace\u001b[0m=\u001b[1;35mWorkspace\u001b[0m\u001b[1m(\u001b[0m\u001b[33mid\u001b[0m=\u001b[93mda074b40\u001b[0m\u001b[93m-5fa4-4cf1-b07c-384ebfc3c73e\u001b[0m,          \u001b[2m             \u001b[0m\n",
       "\u001b[2;36m                    \u001b[0m         \u001b[33mname\u001b[0m=\u001b[35mhfgilla\u001b[0m, \u001b[33minserted_at\u001b[0m=\u001b[1;36m2024\u001b[0m-\u001b[1;36m04\u001b[0m-\u001b[1;36m02\u001b[0m \u001b[1;92m12:08:21\u001b[0m.\u001b[1;36m064036\u001b[0m,                    \u001b[2m             \u001b[0m\n",
       "\u001b[2;36m                    \u001b[0m         \u001b[33mupdated_at\u001b[0m=\u001b[1;36m2024\u001b[0m-\u001b[1;36m04\u001b[0m-\u001b[1;36m02\u001b[0m \u001b[1;92m12:08:21\u001b[0m.\u001b[1;36m064036\u001b[0m\u001b[1m)\u001b[0m                                   \u001b[2m             \u001b[0m\n",
       "\u001b[2;36m                    \u001b[0m            \u001b[33murl\u001b[0m=\u001b[4;94mhttps\u001b[0m\u001b[4;94m://kamaljp-argillatest.hf.space/dataset/40b81354-466d-4037-9\u001b[0m \u001b[2m             \u001b[0m\n",
       "\u001b[2;36m                    \u001b[0m         \u001b[4;94m046-8252f15653b8/annotation-mode\u001b[0m                                         \u001b[2m             \u001b[0m\n",
       "\u001b[2;36m                    \u001b[0m            \u001b[33mfields\u001b[0m=\u001b[1m[\u001b[0m\u001b[1;35mRemoteTextField\u001b[0m\u001b[1m(\u001b[0m\u001b[33mid\u001b[0m=\u001b[1;35mUUID\u001b[0m\u001b[1m(\u001b[0m\u001b[32m'775bd0e8-9206-4ee4-93e3-c8950e3f3c49\u001b[0m \u001b[2m             \u001b[0m\n",
       "\u001b[2;36m                    \u001b[0m         \u001b[32m'\u001b[0m\u001b[1m)\u001b[0m, \u001b[33mclient\u001b[0m=\u001b[3;35mNone\u001b[0m, \u001b[33mname\u001b[0m=\u001b[32m'prompt'\u001b[0m, \u001b[33mtitle\u001b[0m=\u001b[32m'Prompt'\u001b[0m, \u001b[33mrequired\u001b[0m=\u001b[3;92mTrue\u001b[0m,           \u001b[2m             \u001b[0m\n",
       "\u001b[2;36m                    \u001b[0m         \u001b[33mtype\u001b[0m=\u001b[32m'text'\u001b[0m, \u001b[33muse_markdown\u001b[0m=\u001b[3;92mTrue\u001b[0m\u001b[1m)\u001b[0m,                                         \u001b[2m             \u001b[0m\n",
       "\u001b[2;36m                    \u001b[0m         \u001b[1;35mRemoteTextField\u001b[0m\u001b[1m(\u001b[0m\u001b[33mid\u001b[0m=\u001b[1;35mUUID\u001b[0m\u001b[1m(\u001b[0m\u001b[32m'15f79931-7bf3-4166-b9fa-2557fdf939f8'\u001b[0m\u001b[1m)\u001b[0m,         \u001b[2m             \u001b[0m\n",
       "\u001b[2;36m                    \u001b[0m         \u001b[33mclient\u001b[0m=\u001b[3;35mNone\u001b[0m, \u001b[33mname\u001b[0m=\u001b[32m'response1'\u001b[0m, \u001b[33mtitle\u001b[0m=\u001b[32m'Response 1'\u001b[0m, \u001b[33mrequired\u001b[0m=\u001b[3;92mTrue\u001b[0m,        \u001b[2m             \u001b[0m\n",
       "\u001b[2;36m                    \u001b[0m         \u001b[33mtype\u001b[0m=\u001b[32m'text'\u001b[0m, \u001b[33muse_markdown\u001b[0m=\u001b[3;92mTrue\u001b[0m\u001b[1m)\u001b[0m,                                         \u001b[2m             \u001b[0m\n",
       "\u001b[2;36m                    \u001b[0m         \u001b[1;35mRemoteTextField\u001b[0m\u001b[1m(\u001b[0m\u001b[33mid\u001b[0m=\u001b[1;35mUUID\u001b[0m\u001b[1m(\u001b[0m\u001b[32m'946d81d5-d303-443e-a93e-967aeb130b34'\u001b[0m\u001b[1m)\u001b[0m,         \u001b[2m             \u001b[0m\n",
       "\u001b[2;36m                    \u001b[0m         \u001b[33mclient\u001b[0m=\u001b[3;35mNone\u001b[0m, \u001b[33mname\u001b[0m=\u001b[32m'response2'\u001b[0m, \u001b[33mtitle\u001b[0m=\u001b[32m'Response 2'\u001b[0m, \u001b[33mrequired\u001b[0m=\u001b[3;91mFalse\u001b[0m,       \u001b[2m             \u001b[0m\n",
       "\u001b[2;36m                    \u001b[0m         \u001b[33mtype\u001b[0m=\u001b[32m'text'\u001b[0m, \u001b[33muse_markdown\u001b[0m=\u001b[3;92mTrue\u001b[0m\u001b[1m)\u001b[0m\u001b[1m]\u001b[0m                                         \u001b[2m             \u001b[0m\n",
       "\u001b[2;36m                    \u001b[0m            \u001b[33mquestions\u001b[0m=\u001b[1m[\u001b[0m\u001b[1;35mRemoteRankingQuestion\u001b[0m\u001b[1m(\u001b[0m\u001b[33mid\u001b[0m=\u001b[1;35mUUID\u001b[0m\u001b[1m(\u001b[0m\u001b[32m'76f8ec9b-871b-4560-865c-294\u001b[0m \u001b[2m             \u001b[0m\n",
       "\u001b[2;36m                    \u001b[0m         \u001b[32mbcbb277e8'\u001b[0m\u001b[1m)\u001b[0m, \u001b[33mclient\u001b[0m=\u001b[3;35mNone\u001b[0m, \u001b[33mname\u001b[0m=\u001b[32m'preference'\u001b[0m, \u001b[33mtitle\u001b[0m=\u001b[32m'Order responses \u001b[0m     \u001b[2m             \u001b[0m\n",
       "\u001b[2;36m                    \u001b[0m         \u001b[32mbased on your preference'\u001b[0m, \u001b[33mdescription\u001b[0m=\u001b[32m'1 = Best, 2 = Worst. Ties are \u001b[0m   \u001b[2m             \u001b[0m\n",
       "\u001b[2;36m                    \u001b[0m         \u001b[32mallowed.'\u001b[0m, \u001b[33mrequired\u001b[0m=\u001b[3;92mTrue\u001b[0m, \u001b[33mtype\u001b[0m=\u001b[32m'ranking'\u001b[0m, \u001b[33mvalues\u001b[0m=\u001b[1m{\u001b[0m\u001b[32m'response1'\u001b[0m: \u001b[32m'Response\u001b[0m \u001b[2m             \u001b[0m\n",
       "\u001b[2;36m                    \u001b[0m         \u001b[32m1'\u001b[0m, \u001b[32m'response2'\u001b[0m: \u001b[32m'Response 2'\u001b[0m\u001b[1m}\u001b[0m\u001b[1m)\u001b[0m\u001b[1m]\u001b[0m                                         \u001b[2m             \u001b[0m\n",
       "\u001b[2;36m                    \u001b[0m            \u001b[33mguidelines\u001b[0m=\u001b[35mThis\u001b[0m is a direct preference optimization dataset that      \u001b[2m             \u001b[0m\n",
       "\u001b[2;36m                    \u001b[0m         contains contexts and options. Please rank the options that you would    \u001b[2m             \u001b[0m\n",
       "\u001b[2;36m                    \u001b[0m         prefer in the given context.                                             \u001b[2m             \u001b[0m\n",
       "\u001b[2;36m                    \u001b[0m            \u001b[33mmetadata_properties\u001b[0m=\u001b[1m[\u001b[0m\u001b[1m]\u001b[0m                                                \u001b[2m             \u001b[0m\n",
       "\u001b[2;36m                    \u001b[0m            \u001b[33mvectors_settings\u001b[0m=\u001b[1m[\u001b[0m\u001b[1m]\u001b[0m                                                   \u001b[2m             \u001b[0m\n",
       "\u001b[2;36m                    \u001b[0m         \u001b[1m)\u001b[0m                                                                        \u001b[2m             \u001b[0m\n"
      ]
     },
     "metadata": {},
     "output_type": "display_data"
    },
    {
     "data": {
      "text/plain": [
       "RemoteFeedbackDataset(\n",
       "   id=40b81354-466d-4037-9046-8252f15653b8\n",
       "   name=ds_dpo\n",
       "   workspace=Workspace(id=da074b40-5fa4-4cf1-b07c-384ebfc3c73e, name=hfgilla, inserted_at=2024-04-02 12:08:21.064036, updated_at=2024-04-02 12:08:21.064036)\n",
       "   url=https://kamaljp-argillatest.hf.space/dataset/40b81354-466d-4037-9046-8252f15653b8/annotation-mode\n",
       "   fields=[RemoteTextField(id=UUID('775bd0e8-9206-4ee4-93e3-c8950e3f3c49'), client=None, name='prompt', title='Prompt', required=True, type='text', use_markdown=True), RemoteTextField(id=UUID('15f79931-7bf3-4166-b9fa-2557fdf939f8'), client=None, name='response1', title='Response 1', required=True, type='text', use_markdown=True), RemoteTextField(id=UUID('946d81d5-d303-443e-a93e-967aeb130b34'), client=None, name='response2', title='Response 2', required=False, type='text', use_markdown=True)]\n",
       "   questions=[RemoteRankingQuestion(id=UUID('76f8ec9b-871b-4560-865c-294bcbb277e8'), client=None, name='preference', title='Order responses based on your preference', description='1 = Best, 2 = Worst. Ties are allowed.', required=True, type='ranking', values={'response1': 'Response 1', 'response2': 'Response 2'})]\n",
       "   guidelines=This is a direct preference optimization dataset that contains contexts and options. Please rank the options that you would prefer in the given context.\n",
       "   metadata_properties=[]\n",
       "   vectors_settings=[]\n",
       ")"
      ]
     },
     "execution_count": 18,
     "metadata": {},
     "output_type": "execute_result"
    }
   ],
   "source": [
    "import argilla as rg\n",
    "\n",
    "ds_dpo = rg.FeedbackDataset.for_direct_preference_optimization(\n",
    "    number_of_responses=2,\n",
    "    context=False,\n",
    "    use_markdown=True,\n",
    "    guidelines=None,\n",
    "    metadata_properties=None,\n",
    "    vectors_settings=None,\n",
    ")\n",
    "# FeedbackDataset(\n",
    "#     fields=[\n",
    "#         TextField(name=\"prompt\", use_markdown=True),\n",
    "#         TextField(name=\"context\", use_markdown=True),\n",
    "#         TextField(name=\"response1\", use_markdown=True),\n",
    "#         TextField(name=\"response2\", use_markdown=True),\n",
    "#     ],\n",
    "#     questions=[\n",
    "#         RankingQuestion(name=\"preference\", values=[\"Response 1\", \"Response 2\"])\n",
    "#     ],\n",
    "#     guidelines=\"<Guidelines for the task>\",\n",
    "#     metadata_properties=\"<Metadata Properties>\",\n",
    "#     vectors_settings=\"<Vectors Settings>\",\n",
    "# )\n",
    "dpo_rec = rg.FeedbackRecord(\n",
    "    fields={\n",
    "        \"prompt\":\"This is the prompt\",\n",
    "        # \"context\":\"This is the context\",\n",
    "        \"response1\":\"This is the response1\",\n",
    "        \"response2\":\"This is the response2\",\n",
    "    }\n",
    ")\n",
    "ds_dpo.add_records([dpo_rec])\n",
    "ds_dpo.push_to_argilla('ds_dpo', \"hfgilla\")"
   ]
  },
  {
   "cell_type": "code",
   "execution_count": null,
   "metadata": {},
   "outputs": [],
   "source": [
    "import argilla as rg\n",
    "\n",
    "ds_mulclass = rg.FeedbackDataset.for_multi_modal_classification(\n",
    "    labels=[\"video\", \"audio\", \"image\"],\n",
    "    multi_label=False,\n",
    "    guidelines=None,\n",
    "    metadata_properties=None,\n",
    "    vectors_settings=None,\n",
    ")\n",
    "ds_rec = FeedbackRecord(\n",
    "    fields={\n",
    "        \"content\":\"THis is the content in different modality\"\n",
    "    }\n",
    ")\n",
    "ds_mulclass.add_records([ds_rec])\n",
    "ds_mulclass.push_to_argilla(\"ds_mulclass\", hfgilla)\n",
    "# FeedbackDataset(\n",
    "#     fields=[\n",
    "#         TextField(name=\"content\", use_markdown=True, required=True),\n",
    "#     ],\n",
    "#     questions=[\n",
    "#         LabelQuestion(name=\"label\", labels=[\"video\", \"audio\", \"image\"])\n",
    "#     ],\n",
    "#     guidelines=\"<Guidelines for the task>\",\n",
    "#     metadata_properties=\"<Metadata Properties>\",\n",
    "#     vectors_settings=\"<Vectors Settings>\",\n",
    "# )"
   ]
  },
  {
   "cell_type": "code",
   "execution_count": null,
   "metadata": {},
   "outputs": [],
   "source": [
    "import argilla as rg\n",
    "\n",
    "ds_trans = rg.FeedbackDataset.for_multi_modal_transcription(\n",
    "    guidelines=None,\n",
    "    metadata_properties=None,\n",
    "    vectors_settings=None,\n",
    ")\n",
    "rec_trans = FeedbackRecord(\n",
    "    fields={\n",
    "        \"content\":\"THis is a multi modal transcription\"\n",
    "    }\n",
    ")\n",
    "ds_trans.add_records([rec_trans])\n",
    "ds_trans.push_to_argilla(\"ds_multrans\", hfgilla)\n",
    "# FeedbackDataset(\n",
    "#     fields=[\n",
    "#         TextField(name=\"content\", use_markdown=True, required=True),\n",
    "#     ],\n",
    "#     questions=[\n",
    "#         TextQuestion(name=\"description\", use_markdown=True, required=True)\n",
    "#     ],\n",
    "#     guidelines=\"<Guidelines for the task>\",\n",
    "#     metadata_properties=\"<Metadata Properties>\",\n",
    "#     vectors_settings=\"<Vectors Settings>\",\n",
    "# )"
   ]
  },
  {
   "cell_type": "markdown",
   "metadata": {},
   "source": [
    "**LabelQuestion:** These questions ask annotators to choose one label from a list of options. This type is useful for text classification tasks. In the UI, the labels of the LabelQuestion will have a rounded shape.\n",
    "\n",
    "**MultiLabelQuestion:** These questions ask annotators to choose all applicable labels from a list of options. This type is useful for multi-label text classification tasks. In the UI, the labels of the MultiLabelQuestion will have a squared shape.\n",
    "\n",
    "**RankingQuestion:** This question asks annotators to order a list of options. It is useful to gather information on the preference or relevance of a set of options. Ties are allowed and all options will need to be ranked.\n",
    "\n",
    "**RatingQuestion:** These questions require annotators to select one option from a list of integer values. This type is useful for collecting numerical scores.\n",
    "\n",
    "**SpanQuestion:** Here, annotators are asked to select a portion of the text of a specific field and apply a label to it. This type of question is useful for named entity recognition or information extraction tasks.\n",
    "\n",
    "**TextQuestion:** These questions offer annotators a free-text area where they can enter any text. This type is useful for collecting natural language data, such as corrections or explanations"
   ]
  },
  {
   "cell_type": "code",
   "execution_count": null,
   "metadata": {},
   "outputs": [],
   "source": [
    "from argilla import (\n",
    "    LabelQuestion,\n",
    "    MultiLabelQuestion,\n",
    "    RankingQuestion,\n",
    "    RatingQuestion,\n",
    "    TextQuestion\n",
    ")\n",
    "\n",
    "lq = LabelQuestion(\n",
    "    name=\"relevant\",\n",
    "    title=\"Is the response relevant for the given prompt?\",\n",
    "    labels={\"YES\": \"Yes\", \"NO\": \"No\"}, # or [\"YES\",\"NO\"]\n",
    "    required=True,\n",
    "    visible_labels=None\n",
    ")\n",
    "\n",
    "mlq = MultiLabelQuestion(\n",
    "    name=\"content_class\",\n",
    "    title=\"Does the response include any of the following?\",\n",
    "    description=\"Select all that apply\",\n",
    "    labels={\"hate\": \"Hate Speech\" , \"sexual\": \"Sexual content\", \"violent\": \"Violent content\", \"pii\": \"Personal information\", \"untruthful\": \"Untruthful info\", \"not_english\": \"Not English\", \"inappropriate\": \"Inappropriate content\"}, # or [\"hate\", \"sexual\", \"violent\", \"pii\", \"untruthful\", \"not_english\", \"inappropriate\"]\n",
    "    required=False,\n",
    "    visible_labels=4\n",
    ")\n",
    "\n",
    "rq = RankingQuestion(\n",
    "    name=\"preference\",\n",
    "    title=\"Order replies based on your preference\",\n",
    "    description=\"1 = best, 3 = worst. Ties are allowed.\",\n",
    "    required=True,\n",
    "    values={\"reply-1\": \"Reply 1\", \"reply-2\": \"Reply 2\", \"reply-3\": \"Reply 3\"} # or [\"reply-1\", \"reply-2\", \"reply-3\"]\n",
    ")\n",
    "\n",
    "raq = RatingQuestion(\n",
    "    name=\"quality\",\n",
    "    title=\"Rate the quality of the response:\",\n",
    "    description=\"1 = very bad - 5= very good\",\n",
    "    required=True,\n",
    "    values=[1, 2, 3, 4, 5]\n",
    ")\n",
    "\n",
    "tq = TextQuestion(\n",
    "    name=\"corrected-text\",\n",
    "    title=\"Provide a correction to the response:\",\n",
    "    required=False,\n",
    "    use_markdown=True\n",
    ")"
   ]
  },
  {
   "cell_type": "code",
   "execution_count": null,
   "metadata": {},
   "outputs": [],
   "source": [
    "from argilla import TextField\n",
    "ds_qtest = FeedbackDataset(\n",
    "    guidelines=None,\n",
    "    fields=[\n",
    "        TextField(name='prompt',required=True, use_markdown=True),\n",
    "    ],\n",
    "    metadata_properties=None,\n",
    "    vectors_settings=None,    \n",
    "    questions=[tq, raq, rq, mlq, lq]\n",
    ")"
   ]
  },
  {
   "cell_type": "code",
   "execution_count": null,
   "metadata": {},
   "outputs": [],
   "source": [
    "ds_qtest"
   ]
  },
  {
   "cell_type": "code",
   "execution_count": null,
   "metadata": {},
   "outputs": [],
   "source": [
    "test_rek = FeedbackRecord(\n",
    "    fields={\n",
    "        \"prompt\":\"This is for testing out\"\n",
    "    }\n",
    ")\n",
    "ds_qtest.add_records([test_rek])\n",
    "ds_qtest.push_to_argilla(\"ds_qtest\", hfgilla)"
   ]
  },
  {
   "cell_type": "code",
   "execution_count": null,
   "metadata": {},
   "outputs": [],
   "source": [
    "# types of meta data\n",
    "from argilla import (\n",
    "    TermsMetadataProperty,\n",
    "    IntegerMetadataProperty,\n",
    "    FloatMetadataProperty\n",
    ")\n",
    "\n",
    "terms_md = TermsMetadataProperty(\n",
    "    name=\"groups\",\n",
    "    title=\"Annotation groups\",\n",
    "    values=[\"group-a\", \"group-b\", \"group-c\"] #optional\n",
    ")\n",
    "\n",
    "ds_qtest.add_metadata_property(terms_md)\n",
    "\n",
    "int_md = IntegerMetadataProperty(\n",
    "    name=\"integer-metadata\",\n",
    "    title=\"Integers\",\n",
    "    min=0, #optional\n",
    "    max=100, #optional\n",
    "    visible_for_annotators=False\n",
    ")\n",
    "\n",
    "ds_qtest.add_metadata_property(int_md)\n",
    "\n",
    "fmd = FloatMetadataProperty(\n",
    "    name=\"float-metadata\",\n",
    "    title=\"Floats\",\n",
    "    min=-0.45, #optional\n",
    "    max=1000.34, #optional\n",
    "    visible_for_annotators=False\n",
    ")\n",
    "\n",
    "ds_qtest.add_metadata_property(fmd)"
   ]
  },
  {
   "cell_type": "code",
   "execution_count": null,
   "metadata": {},
   "outputs": [],
   "source": [
    "from argilla import VectorSettings\n",
    "# You can use the add_vector_settings method. \n",
    "vectors_settings=[\n",
    "    VectorSettings(\n",
    "        name=\"sentence_embeddings\",\n",
    "        dimensions=768,\n",
    "        title=\"Sentence Embeddings\" #optional\n",
    "    )\n",
    "],"
   ]
  },
  {
   "cell_type": "code",
   "execution_count": null,
   "metadata": {},
   "outputs": [],
   "source": [
    "dataset = rg.FeedbackDataset(\n",
    "    fields=[\n",
    "        rg.TextField(name=\"question\"),\n",
    "        rg.TextField(name=\"answer\"),\n",
    "    ],\n",
    "    questions=[\n",
    "        rg.RatingQuestion(\n",
    "            name=\"answer_quality\",\n",
    "            description=\"How would you rate the quality of the answer?\",\n",
    "            values=[1, 2, 3, 4, 5],\n",
    "        ),\n",
    "        rg.TextQuestion(\n",
    "            name=\"answer_correction\",\n",
    "            description=\"If you think the answer is not accurate, please, correct it.\",\n",
    "            required=False,\n",
    "        ),\n",
    "    ],\n",
    "    metadata_properties = [\n",
    "        rg.TermsMetadataProperty(\n",
    "            name=\"groups\",\n",
    "            title=\"Annotation groups\",\n",
    "            values=[\"group-a\", \"group-b\", \"group-c\"] #optional\n",
    "        ),\n",
    "        rg.FloatMetadataProperty(\n",
    "            name=\"temperature\",\n",
    "            min=-0, #optional\n",
    "            max=1, #optional\n",
    "            visible_for_annotators=False\n",
    "        )\n",
    "    ],\n",
    "    allow_extra_metadata = False,\n",
    "    vectors_settings=[\n",
    "        rg.VectorSettings(\n",
    "            name=\"sentence_embeddings\",\n",
    "            dimensions=768,\n",
    "            title=\"Sentence Embeddings\" #optional\n",
    "        )\n",
    "    ],\n",
    "    guidelines=\"Please, read the question carefully and try to answer it as accurately as possible.\"\n",
    ")"
   ]
  },
  {
   "cell_type": "code",
   "execution_count": null,
   "metadata": {},
   "outputs": [],
   "source": [
    "dataset.field_by_name(\"question\")\n",
    "# rg.TextField(name=\"question\")\n",
    "dataset.question_by_name(\"answer_quality\")\n",
    "# rg.RatingQuestion(\n",
    "#     name=\"answer_quality\",\n",
    "#     description=\"How would you rate the quality of the answer?\",\n",
    "#     values=[1, 2, 3, 4, 5],\n",
    "# )\n",
    "dataset.metadata_property_by_name(\"groups\")\n",
    "# rg.TermsMetadataProperty(\n",
    "#     name=\"groups\",\n",
    "#     title=\"Annotation groups\",\n",
    "#     values=[\"group-a\", \"group-b\", \"group-c\"]\n",
    "# )\n",
    "# rg.VectorSettings(\n",
    "#     name=\"sentence_embeddings\",\n",
    "#     title=\"Sentence Embeddings\",\n",
    "#     dimensions=768\n",
    "# )\n",
    "dataset.vector_settings_by_name(\"sentence_embeddings\")"
   ]
  },
  {
   "cell_type": "code",
   "execution_count": null,
   "metadata": {},
   "outputs": [],
   "source": [
    "remote_dataset = dataset.push_to_argilla(name=\"fulds\", workspace=hfgilla)"
   ]
  },
  {
   "cell_type": "code",
   "execution_count": null,
   "metadata": {},
   "outputs": [],
   "source": [
    "# updating details..\n",
    "dataset = rg.FeedbackDataset(...)\n",
    "\n",
    "new_fields=[\n",
    "    TextField(),\n",
    "    TextField(),\n",
    "]\n",
    "\n",
    "dataset.fields.extend(new_fields)\n",
    "# Remove a non-required field\n",
    "dataset.fields.pop(0)\n",
    "\n",
    "# Add new questions\n",
    "new_questions=[\n",
    "    LabelQuestion(),\n",
    "    MultiLabelQuestion(),\n",
    "]\n",
    "\n",
    "dataset.questions.extend(new_questions)\n",
    "\n",
    "# Remove a non-required question\n",
    "dataset.questions.pop(0)\n",
    "\n",
    "# Add metadata properties\n",
    "metadata = TermsMetadataProperty(name=\"my_metadata\", values=[\"like\", \"dislike\"])\n",
    "dataset.add_metadata_property(metadata)\n",
    "\n",
    "# Change metadata properties title\n",
    "metadata_cfg = dataset.metadata_property_by_name(\"my_metadata\")\n",
    "metadata_cfg.title = \"Likes\"\n",
    "dataset.update_metadata_properties(metadata_cfg)\n",
    "\n",
    "# Delete a metadata property\n",
    "dataset.delete_metadata_properties(metadata_properties=\"my_metadata\")\n",
    "\n",
    "# Add vector settings to the dataset\n",
    "dataset.add_vector_settings(VectorSettings(name=\"my_vectors\", dimensions=786))\n",
    "\n",
    "# Change vector settings title\n",
    "vector_cfg = ds.vector_settings_by_name(\"my_vectors\")\n",
    "vector_cfg.title = \"Old vectors\"\n",
    "dataset.update_vectors_settings(vector_cfg)\n",
    "\n",
    "# Delete vector settings\n",
    "dataset.delete_vectors_settings(\"my_vectors\")\n",
    "\n",
    "# Define new guidelines for a question\n",
    "dataset.questions[0].description = 'New description for the question.'"
   ]
  },
  {
   "cell_type": "markdown",
   "metadata": {},
   "source": [
    "### Dive into Feedback Records"
   ]
  },
  {
   "cell_type": "code",
   "execution_count": null,
   "metadata": {},
   "outputs": [],
   "source": [
    "record = rg.FeedbackRecord(\n",
    "    fields={\n",
    "        \"question\": \"Why can camels survive long without water?\",\n",
    "        \"answer\": \"Camels use the fat in their humps to keep them filled with energy and hydration for long periods.\"\n",
    "    },\n",
    "    metadata={\"source\": \"encyclopedia\"},\n",
    "    vectors={\"my_vector\": [...], \"my_other_vector\": [...]},\n",
    "    suggestions = [\n",
    "        {\n",
    "            \"question_name\": \"corrected-answer\",\n",
    "            \"value\": \"This is a *suggestion*.\",\n",
    "        }\n",
    "    ]\n",
    "    responses = [\n",
    "        {\n",
    "            \"values\":{\n",
    "                \"corrected-text\":{\n",
    "                    \"value\": \"This is a *response*.\"\n",
    "                }\n",
    "            }\n",
    "        }\n",
    "    ]\n",
    "    external_id=None\n",
    ")"
   ]
  },
  {
   "cell_type": "code",
   "execution_count": null,
   "metadata": {},
   "outputs": [],
   "source": [
    "from argilla import (\n",
    "    FeedbackRecord,\n",
    ")\n",
    "\n",
    "# single Metadata\n",
    "record = rg.FeedbackRecord(\n",
    "    fields={...},\n",
    "    metadata={\"source\": \"encyclopedia\", \"text_length\":150}\n",
    ")"
   ]
  },
  {
   "cell_type": "code",
   "execution_count": null,
   "metadata": {},
   "outputs": [],
   "source": [
    "# multi metadata\n",
    "record = rg.FeedbackRecord(\n",
    "    fields={...},\n",
    "    metadata={\"source\": [\"encyclopedia\", \"wikipedia\"], \"text_length\":150}\n",
    ")"
   ]
  },
  {
   "cell_type": "code",
   "execution_count": null,
   "metadata": {},
   "outputs": [],
   "source": [
    "# Label\n",
    "record = rg.FeedbackRecord(\n",
    "    fields=...,\n",
    "    suggestions = [\n",
    "        {\n",
    "            \"question_name\": \"relevant\",\n",
    "            \"value\": \"YES\",\n",
    "        }\n",
    "    ]\n",
    ")\n",
    "\n",
    "# Multi-label\n",
    "record = rg.FeedbackRecord(\n",
    "    fields=...,\n",
    "    suggestions = [\n",
    "        {\n",
    "            \"question_name\": \"content_class\",\n",
    "            \"value\": [\"hate\", \"violent\"]\n",
    "        }\n",
    "    ]\n",
    ")\n",
    "\n",
    "# Ranking\n",
    "record = rg.FeedbackRecord(\n",
    "    fields=...,\n",
    "    suggestions = [\n",
    "        {\n",
    "            \"question_name\": \"preference\",\n",
    "            \"value\":[\n",
    "                {\"rank\": 1, \"value\": \"reply-2\"},\n",
    "                {\"rank\": 2, \"value\": \"reply-1\"},\n",
    "                {\"rank\": 3, \"value\": \"reply-3\"},\n",
    "            ],\n",
    "        }\n",
    "    ]\n",
    ")\n",
    "\n",
    "# Rating\n",
    "record = rg.FeedbackRecord(\n",
    "    fields=...,\n",
    "    suggestions = [\n",
    "        {\n",
    "            \"question_name\": \"quality\",\n",
    "            \"value\": 5,\n",
    "        }\n",
    "    ]\n",
    ")\n",
    "# text\n",
    "record = rg.FeedbackRecord(\n",
    "    fields=...,\n",
    "    suggestions = [\n",
    "        {\n",
    "            \"question_name\": \"corrected-text\",\n",
    "            \"value\": \"This is a *suggestion*.\",\n",
    "        }\n",
    "    ]\n",
    ")"
   ]
  },
  {
   "cell_type": "code",
   "execution_count": null,
   "metadata": {},
   "outputs": [],
   "source": [
    "# different types of responses\n",
    "\n",
    "record = rg.FeedbackRecord(\n",
    "    fields=...,\n",
    "    responses = [\n",
    "        {\n",
    "            \"values\":{\n",
    "                \"relevant\":{\n",
    "                    \"value\": \"YES\"\n",
    "                }\n",
    "            }\n",
    "        }\n",
    "    ]\n",
    ")\n",
    "\n",
    "record = rg.FeedbackRecord(\n",
    "    fields=...,\n",
    "    responses = [\n",
    "        {\n",
    "            \"values\":{\n",
    "                \"content_class\":{\n",
    "                    \"value\": [\"hate\", \"violent\"]\n",
    "                }\n",
    "            }\n",
    "        }\n",
    "    ]\n",
    ")\n",
    "\n",
    "record = rg.FeedbackRecord(\n",
    "    fields=...,\n",
    "    responses = [\n",
    "        {\n",
    "            \"values\":{\n",
    "                \"preference\":{\n",
    "                    \"value\":[\n",
    "                        {\"rank\": 1, \"value\": \"reply-2\"},\n",
    "                        {\"rank\": 2, \"value\": \"reply-1\"},\n",
    "                        {\"rank\": 3, \"value\": \"reply-3\"},\n",
    "                    ],\n",
    "                }\n",
    "            }\n",
    "        }\n",
    "    ]\n",
    ")\n",
    "\n",
    "record = rg.FeedbackRecord(\n",
    "    fields=...,\n",
    "    responses = [\n",
    "        {\n",
    "            \"values\":{\n",
    "                \"quality\":{\n",
    "                    \"value\": 5\n",
    "                }\n",
    "            }\n",
    "        }\n",
    "    ]\n",
    ")\n",
    "\n",
    "record = rg.FeedbackRecord(\n",
    "    fields=...,\n",
    "    responses = [\n",
    "        {\n",
    "            \"values\":{\n",
    "                \"corrected-text\":{\n",
    "                    \"value\": \"This is a *response*.\"\n",
    "                }\n",
    "            }\n",
    "        }\n",
    "    ]\n",
    ")"
   ]
  },
  {
   "cell_type": "code",
   "execution_count": null,
   "metadata": {},
   "outputs": [],
   "source": [
    "from datasets import load_dataset\n",
    "\n",
    "# Load and inspect a dataset from the Hugging Face Hub\n",
    "hf_dataset = load_dataset('databricks/databricks-dolly-15k', split='train')\n",
    "df = hf_dataset.to_pandas()\n",
    "df"
   ]
  },
  {
   "cell_type": "code",
   "execution_count": null,
   "metadata": {},
   "outputs": [],
   "source": [
    "dataset = rg.FeedbackDataset.from_argilla(name=\"ds_qa\", workspace=hfgilla)"
   ]
  },
  {
   "cell_type": "code",
   "execution_count": null,
   "metadata": {},
   "outputs": [],
   "source": [
    "dataset.fields"
   ]
  },
  {
   "cell_type": "code",
   "execution_count": null,
   "metadata": {},
   "outputs": [],
   "source": [
    "extend_field = TextField(name='answer', required=True, use_markdown=True)\n",
    "dataset.fields.extend(extend_field)"
   ]
  },
  {
   "cell_type": "code",
   "execution_count": null,
   "metadata": {},
   "outputs": [],
   "source": [
    "dataset.fields"
   ]
  },
  {
   "cell_type": "code",
   "execution_count": null,
   "metadata": {},
   "outputs": [],
   "source": [
    "records = [\n",
    "    rg.FeedbackRecord(\n",
    "        fields={\"question\": record[\"instruction\"], \"context\": record[\"response\"]}\n",
    "    )\n",
    "    for record in hf_dataset if record[\"category\"]==\"open_qa\"\n",
    "]"
   ]
  },
  {
   "cell_type": "code",
   "execution_count": null,
   "metadata": {},
   "outputs": [],
   "source": [
    "dataset.add_records(records)"
   ]
  }
 ],
 "metadata": {
  "kernelspec": {
   "display_name": "argenv",
   "language": "python",
   "name": "python3"
  },
  "language_info": {
   "codemirror_mode": {
    "name": "ipython",
    "version": 3
   },
   "file_extension": ".py",
   "mimetype": "text/x-python",
   "name": "python",
   "nbconvert_exporter": "python",
   "pygments_lexer": "ipython3",
   "version": "3.11.4"
  }
 },
 "nbformat": 4,
 "nbformat_minor": 2
}
