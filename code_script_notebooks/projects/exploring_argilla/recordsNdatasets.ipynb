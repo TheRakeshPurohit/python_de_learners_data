{
 "cells": [
  {
   "cell_type": "code",
   "execution_count": 22,
   "metadata": {},
   "outputs": [
    {
     "name": "stderr",
     "output_type": "stream",
     "text": [
      "d:\\argenv\\Lib\\site-packages\\argilla\\client\\client.py:178: UserWarning: No workspace configuration was detected. To work with Argilla datasets, specify a valid workspace name on `rg.init` or set it up through the `rg.set_workspace` function.\n",
      "  warnings.warn(\n",
      "d:\\argenv\\Lib\\site-packages\\argilla\\client\\client.py:195: UserWarning: You're connecting to Argilla Server 1.26.1 using a different client version (1.23.1).\n",
      "This may lead to potential compatibility issues during your experience.\n",
      "To ensure a seamless and optimized connection, we highly recommend aligning your client version with the server version.\n",
      "  warnings.warn(\n"
     ]
    }
   ],
   "source": [
    "import argilla as rg\n",
    "from dotenv import load_dotenv\n",
    "load_dotenv('D:\\\\gitFolders\\\\python_de_learners_data\\\\.env')\n",
    "import os\n",
    "\n",
    "rg.init(api_key=\"owner.apikey\",\n",
    "        api_url=\"https://kamaljp-argillatest.hf.space\",\n",
    "        extra_headers={\"Authorization\": f\"Bearer {os.environ['HUGGING_FACE_KEY']}\"})"
   ]
  },
  {
   "cell_type": "code",
   "execution_count": null,
   "metadata": {},
   "outputs": [],
   "source": [
    "# create workspace\n",
    "hfgilla = 'hfgilla'\n",
    "rg.Workspace.create(name=hfgilla)"
   ]
  },
  {
   "cell_type": "code",
   "execution_count": null,
   "metadata": {},
   "outputs": [],
   "source": [
    "hfws = rg.Workspace.from_name(hfgilla)\n",
    "for d in hfws.list():\n",
    "    print(d.name)"
   ]
  },
  {
   "cell_type": "code",
   "execution_count": null,
   "metadata": {},
   "outputs": [],
   "source": [
    "user = rg.User.create(\n",
    "    username=\"annotator1\",\n",
    "    first_name=\"anno\",\n",
    "    last_name=\"tator\",\n",
    "    password=\"12345678\",\n",
    "    role=\"annotator\",\n",
    "    workspaces=[\"hfgilla\"]\n",
    ")"
   ]
  },
  {
   "cell_type": "code",
   "execution_count": null,
   "metadata": {},
   "outputs": [],
   "source": [
    "for u in rg.User.list():\n",
    "    print(u.username)\n",
    "    print(u.id)\n",
    "    print(u.from_id(u.id))"
   ]
  },
  {
   "cell_type": "code",
   "execution_count": null,
   "metadata": {},
   "outputs": [],
   "source": [
    "hfws.users"
   ]
  },
  {
   "cell_type": "markdown",
   "metadata": {},
   "source": [
    "#### Gen 1 Text Classification Dataset"
   ]
  },
  {
   "cell_type": "code",
   "execution_count": 34,
   "metadata": {},
   "outputs": [],
   "source": [
    "from argilla import (\n",
    "    TextClassificationSettings,\n",
    "    TokenClassificationSettings,\n",
    ") \n",
    "\n",
    "settings = rg.TextClassificationSettings(label_schema=[\"Class1\", \"Class2\"])\n",
    "\n",
    "rg.configure_dataset_settings(name=\"yt_tc_set\", settings=settings, workspace='hfgilla')"
   ]
  },
  {
   "cell_type": "code",
   "execution_count": 24,
   "metadata": {},
   "outputs": [
    {
     "data": {
      "text/html": [
       "<pre style=\"white-space:pre;overflow-x:auto;line-height:normal;font-family:Menlo,'DejaVu Sans Mono',consolas,'Courier New',monospace\"></pre>\n"
      ],
      "text/plain": []
     },
     "metadata": {},
     "output_type": "display_data"
    },
    {
     "data": {
      "text/html": [
       "<pre style=\"white-space:pre;overflow-x:auto;line-height:normal;font-family:Menlo,'DejaVu Sans Mono',consolas,'Courier New',monospace\">\n",
       "</pre>\n"
      ],
      "text/plain": [
       "\n"
      ]
     },
     "metadata": {},
     "output_type": "display_data"
    },
    {
     "data": {
      "text/html": [
       "<pre style=\"white-space:pre;overflow-x:auto;line-height:normal;font-family:Menlo,'DejaVu Sans Mono',consolas,'Courier New',monospace\"><span style=\"color: #008080; text-decoration-color: #008080; font-weight: bold\">1</span> records logged to <a href=\"https://kamaljp-argillatest.hf.space/datasets/hfgilla/yt_tc_set\" target=\"_blank\"><span style=\"color: #0000ff; text-decoration-color: #0000ff; text-decoration: underline\">https://kamaljp-argillatest.hf.space/datasets/hfgilla/yt_tc_set</span></a>\n",
       "</pre>\n"
      ],
      "text/plain": [
       "\u001b[1;36m1\u001b[0m records logged to \u001b]8;id=773161;https://kamaljp-argillatest.hf.space/datasets/hfgilla/yt_tc_set\u001b\\\u001b[4;94mhttps://kamaljp-argillatest.hf.space/datasets/hfgilla/yt_tc_set\u001b[0m\u001b]8;;\u001b\\\n"
      ]
     },
     "metadata": {},
     "output_type": "display_data"
    },
    {
     "data": {
      "text/plain": [
       "BulkResponse(dataset='yt_tc_set', processed=1, failed=0)"
      ]
     },
     "execution_count": 24,
     "metadata": {},
     "output_type": "execute_result"
    }
   ],
   "source": [
    "from argilla import (\n",
    "    TextClassificationRecord,\n",
    "    log\n",
    ")\n",
    "rec_tc0 = TextClassificationRecord(text=\"Its a wonderful time to be alive...\",)\n",
    "log(records=rec_tc0, name='yt_tc_set', workspace='hfgilla')"
   ]
  },
  {
   "cell_type": "code",
   "execution_count": 25,
   "metadata": {},
   "outputs": [
    {
     "data": {
      "text/html": [
       "<pre style=\"white-space:pre;overflow-x:auto;line-height:normal;font-family:Menlo,'DejaVu Sans Mono',consolas,'Courier New',monospace\"></pre>\n"
      ],
      "text/plain": []
     },
     "metadata": {},
     "output_type": "display_data"
    },
    {
     "data": {
      "text/html": [
       "<pre style=\"white-space:pre;overflow-x:auto;line-height:normal;font-family:Menlo,'DejaVu Sans Mono',consolas,'Courier New',monospace\">\n",
       "</pre>\n"
      ],
      "text/plain": [
       "\n"
      ]
     },
     "metadata": {},
     "output_type": "display_data"
    },
    {
     "data": {
      "text/html": [
       "<pre style=\"white-space:pre;overflow-x:auto;line-height:normal;font-family:Menlo,'DejaVu Sans Mono',consolas,'Courier New',monospace\"><span style=\"color: #008080; text-decoration-color: #008080; font-weight: bold\">1</span> records logged to <a href=\"https://kamaljp-argillatest.hf.space/datasets/hfgilla/yt_tc_set\" target=\"_blank\"><span style=\"color: #0000ff; text-decoration-color: #0000ff; text-decoration: underline\">https://kamaljp-argillatest.hf.space/datasets/hfgilla/yt_tc_set</span></a>\n",
       "</pre>\n"
      ],
      "text/plain": [
       "\u001b[1;36m1\u001b[0m records logged to \u001b]8;id=244369;https://kamaljp-argillatest.hf.space/datasets/hfgilla/yt_tc_set\u001b\\\u001b[4;94mhttps://kamaljp-argillatest.hf.space/datasets/hfgilla/yt_tc_set\u001b[0m\u001b]8;;\u001b\\\n"
      ]
     },
     "metadata": {},
     "output_type": "display_data"
    },
    {
     "data": {
      "text/plain": [
       "BulkResponse(dataset='yt_tc_set', processed=1, failed=0)"
      ]
     },
     "execution_count": 25,
     "metadata": {},
     "output_type": "execute_result"
    }
   ],
   "source": [
    "rec_tc1 = TextClassificationRecord(text=\"Challenge is increasing to everyone...\",\n",
    "                                    prediction=[('Class1', 0.3), ('Class2', 0.7)])\n",
    "log(records=rec_tc1, name='yt_tc_set', workspace='hfgilla')"
   ]
  },
  {
   "cell_type": "code",
   "execution_count": null,
   "metadata": {},
   "outputs": [
    {
     "data": {
      "text/html": [
       "<pre style=\"white-space:pre;overflow-x:auto;line-height:normal;font-family:Menlo,'DejaVu Sans Mono',consolas,'Courier New',monospace\">d:\\argenv\\Lib\\site-packages\\rich\\live.py:231: UserWarning: install \"ipywidgets\" for Jupyter support\n",
       "  warnings.warn('install \"ipywidgets\" for Jupyter support')\n",
       "</pre>\n"
      ],
      "text/plain": [
       "d:\\argenv\\Lib\\site-packages\\rich\\live.py:231: UserWarning: install \"ipywidgets\" for Jupyter support\n",
       "  warnings.warn('install \"ipywidgets\" for Jupyter support')\n"
      ]
     },
     "metadata": {},
     "output_type": "display_data"
    },
    {
     "data": {
      "text/html": [
       "<pre style=\"white-space:pre;overflow-x:auto;line-height:normal;font-family:Menlo,'DejaVu Sans Mono',consolas,'Courier New',monospace\"></pre>\n"
      ],
      "text/plain": []
     },
     "metadata": {},
     "output_type": "display_data"
    },
    {
     "data": {
      "text/html": [
       "<pre style=\"white-space:pre;overflow-x:auto;line-height:normal;font-family:Menlo,'DejaVu Sans Mono',consolas,'Courier New',monospace\">\n",
       "</pre>\n"
      ],
      "text/plain": [
       "\n"
      ]
     },
     "metadata": {},
     "output_type": "display_data"
    },
    {
     "data": {
      "text/html": [
       "<pre style=\"white-space:pre;overflow-x:auto;line-height:normal;font-family:Menlo,'DejaVu Sans Mono',consolas,'Courier New',monospace\"><span style=\"color: #008080; text-decoration-color: #008080; font-weight: bold\">1</span> records logged to <a href=\"https://kamaljp-argillatest.hf.space/datasets/hfgilla/yt_tc_set\" target=\"_blank\"><span style=\"color: #0000ff; text-decoration-color: #0000ff; text-decoration: underline\">https://kamaljp-argillatest.hf.space/datasets/hfgilla/yt_tc_set</span></a>\n",
       "</pre>\n"
      ],
      "text/plain": [
       "\u001b[1;36m1\u001b[0m records logged to \u001b]8;id=825439;https://kamaljp-argillatest.hf.space/datasets/hfgilla/yt_tc_set\u001b\\\u001b[4;94mhttps://kamaljp-argillatest.hf.space/datasets/hfgilla/yt_tc_set\u001b[0m\u001b]8;;\u001b\\\n"
      ]
     },
     "metadata": {},
     "output_type": "display_data"
    },
    {
     "data": {
      "text/plain": [
       "BulkResponse(dataset='yt_tc_set', processed=1, failed=0)"
      ]
     },
     "metadata": {},
     "output_type": "display_data"
    }
   ],
   "source": [
    "rec_tc1 = TextClassificationRecord(text=\"Challenge is increasing to everyone...\",\n",
    "                                    prediction=[('Class1', 0.3), ('Class2', 0.7)])\n",
    "log(records=rec_tc1, name='yt_tc_set', workspace='hfgilla')"
   ]
  },
  {
   "cell_type": "code",
   "execution_count": 26,
   "metadata": {},
   "outputs": [
    {
     "data": {
      "text/html": [
       "<pre style=\"white-space:pre;overflow-x:auto;line-height:normal;font-family:Menlo,'DejaVu Sans Mono',consolas,'Courier New',monospace\"></pre>\n"
      ],
      "text/plain": []
     },
     "metadata": {},
     "output_type": "display_data"
    },
    {
     "data": {
      "text/html": [
       "<pre style=\"white-space:pre;overflow-x:auto;line-height:normal;font-family:Menlo,'DejaVu Sans Mono',consolas,'Courier New',monospace\">\n",
       "</pre>\n"
      ],
      "text/plain": [
       "\n"
      ]
     },
     "metadata": {},
     "output_type": "display_data"
    },
    {
     "data": {
      "text/html": [
       "<pre style=\"white-space:pre;overflow-x:auto;line-height:normal;font-family:Menlo,'DejaVu Sans Mono',consolas,'Courier New',monospace\"><span style=\"color: #008080; text-decoration-color: #008080; font-weight: bold\">1</span> records logged to <a href=\"https://kamaljp-argillatest.hf.space/datasets/hfgilla/yt_tc_set\" target=\"_blank\"><span style=\"color: #0000ff; text-decoration-color: #0000ff; text-decoration: underline\">https://kamaljp-argillatest.hf.space/datasets/hfgilla/yt_tc_set</span></a>\n",
       "</pre>\n"
      ],
      "text/plain": [
       "\u001b[1;36m1\u001b[0m records logged to \u001b]8;id=841353;https://kamaljp-argillatest.hf.space/datasets/hfgilla/yt_tc_set\u001b\\\u001b[4;94mhttps://kamaljp-argillatest.hf.space/datasets/hfgilla/yt_tc_set\u001b[0m\u001b]8;;\u001b\\\n"
      ]
     },
     "metadata": {},
     "output_type": "display_data"
    },
    {
     "data": {
      "text/plain": [
       "BulkResponse(dataset='yt_tc_set', processed=1, failed=0)"
      ]
     },
     "execution_count": 26,
     "metadata": {},
     "output_type": "execute_result"
    }
   ],
   "source": [
    "rec_tc2 = TextClassificationRecord(text=\"More one tries to achieve farther he gets out of sync...\",\n",
    "                                    prediction=[('Class1', 0.1), ('Class2', 0.9)],\n",
    "                                    annotation=\"Class2\")\n",
    "log(records=rec_tc2, name='yt_tc_set', workspace='hfgilla')"
   ]
  },
  {
   "cell_type": "code",
   "execution_count": null,
   "metadata": {},
   "outputs": [],
   "source": [
    "# More examples..."
   ]
  },
  {
   "cell_type": "code",
   "execution_count": null,
   "metadata": {},
   "outputs": [],
   "source": [
    "rec_tc = TextClassificationRecord(\n",
    "    text='this is a very huge and panaromic rock',\n",
    "    prediction=[(\"view\", 0.8), ('stay', 0.2)],\n",
    "    annotation=\"view\",\n",
    ")"
   ]
  },
  {
   "cell_type": "code",
   "execution_count": null,
   "metadata": {},
   "outputs": [],
   "source": [
    "rec_tc1 = rg.TextClassificationRecord(\n",
    "    text='Lets climb the everest for sake of fun',\n",
    "    prediction=[(\"adventure\", 0.7), ('fun', 0.2), ('boring',0.1), ('worthless', 0.0)],\n",
    "    annotation=\"fun or dun\"\n",
    ")"
   ]
  },
  {
   "cell_type": "code",
   "execution_count": null,
   "metadata": {},
   "outputs": [],
   "source": [
    "rg.log(records=[rec_tc, rec_tc1],\n",
    "       name='tcds',\n",
    "       workspace=hfgilla)"
   ]
  },
  {
   "cell_type": "code",
   "execution_count": null,
   "metadata": {},
   "outputs": [],
   "source": [
    "rg.log(records=rec_tc1, name='tcds', workspace=hfgilla)\n",
    "\n",
    "# more than one record can be pushed into dataset, if having same format"
   ]
  },
  {
   "cell_type": "code",
   "execution_count": 27,
   "metadata": {},
   "outputs": [],
   "source": [
    "# Multi-Label Text Classification Dataset\n",
    "\n",
    "rec_tc_ml = rg.TextClassificationRecord(\n",
    "    text='There is always a lot more to explore',\n",
    "    prediction=[(\"excited\", 0.8), ('annoyed', 0.2)],\n",
    "    annotation=[\"work\", \"play\"],\n",
    "    multi_label=True\n",
    ")"
   ]
  },
  {
   "cell_type": "code",
   "execution_count": 28,
   "metadata": {},
   "outputs": [],
   "source": [
    "tcml_setting = TextClassificationSettings(label_schema=['excited', 'annoyed', 'work', 'play'],)"
   ]
  },
  {
   "cell_type": "code",
   "execution_count": 29,
   "metadata": {},
   "outputs": [],
   "source": [
    "rg.configure_dataset_settings(settings=tcml_setting, name='tcml', workspace='hfgilla')"
   ]
  },
  {
   "cell_type": "code",
   "execution_count": 30,
   "metadata": {},
   "outputs": [
    {
     "data": {
      "text/html": [
       "<pre style=\"white-space:pre;overflow-x:auto;line-height:normal;font-family:Menlo,'DejaVu Sans Mono',consolas,'Courier New',monospace\"></pre>\n"
      ],
      "text/plain": []
     },
     "metadata": {},
     "output_type": "display_data"
    },
    {
     "data": {
      "text/html": [
       "<pre style=\"white-space:pre;overflow-x:auto;line-height:normal;font-family:Menlo,'DejaVu Sans Mono',consolas,'Courier New',monospace\">\n",
       "</pre>\n"
      ],
      "text/plain": [
       "\n"
      ]
     },
     "metadata": {},
     "output_type": "display_data"
    },
    {
     "data": {
      "text/html": [
       "<pre style=\"white-space:pre;overflow-x:auto;line-height:normal;font-family:Menlo,'DejaVu Sans Mono',consolas,'Courier New',monospace\"><span style=\"color: #008080; text-decoration-color: #008080; font-weight: bold\">1</span> records logged to <a href=\"https://kamaljp-argillatest.hf.space/datasets/hfgilla/tcml\" target=\"_blank\"><span style=\"color: #0000ff; text-decoration-color: #0000ff; text-decoration: underline\">https://kamaljp-argillatest.hf.space/datasets/hfgilla/tcml</span></a>\n",
       "</pre>\n"
      ],
      "text/plain": [
       "\u001b[1;36m1\u001b[0m records logged to \u001b]8;id=233766;https://kamaljp-argillatest.hf.space/datasets/hfgilla/tcml\u001b\\\u001b[4;94mhttps://kamaljp-argillatest.hf.space/datasets/hfgilla/tcml\u001b[0m\u001b]8;;\u001b\\\n"
      ]
     },
     "metadata": {},
     "output_type": "display_data"
    },
    {
     "data": {
      "text/plain": [
       "BulkResponse(dataset='tcml', processed=1, failed=0)"
      ]
     },
     "execution_count": 30,
     "metadata": {},
     "output_type": "execute_result"
    }
   ],
   "source": [
    "# rg.log(records=rec_tc_ml, name='tcds', workspace=hfgilla)  # will throw error\n",
    "log(records=rec_tc_ml, name='tcml', workspace='hfgilla')"
   ]
  },
  {
   "cell_type": "markdown",
   "metadata": {},
   "source": [
    "### Gen 1 Token Classification Datasets"
   ]
  },
  {
   "cell_type": "code",
   "execution_count": 4,
   "metadata": {},
   "outputs": [],
   "source": [
    "tok_settings = TokenClassificationSettings(label_schema=['NOUN', 'PRN', 'VRB', 'POS'])\n",
    "rg.configure_dataset_settings(name='just_tok_set', settings=tok_settings, workspace='hfgilla')"
   ]
  },
  {
   "cell_type": "code",
   "execution_count": null,
   "metadata": {},
   "outputs": [],
   "source": [
    "tokrec = rg.TokenClassificationRecord(\n",
    "    text=\"There is lot more tuna\",\n",
    "    tokens=[\"There\", \"is\", \"lot\", \"more\", \"tuna\"],\n",
    "    prediction=[(\"NOUN\",0, 5), (\"PRN\", 6, 8), (\"PLR\", 9, 12)],\n",
    "    annotation=[(\"NOUN\", 0, 5)]\n",
    ")"
   ]
  },
  {
   "cell_type": "code",
   "execution_count": null,
   "metadata": {},
   "outputs": [],
   "source": [
    "rg.log(records=tokrec, name='tokds', workspace=hfgilla)"
   ]
  },
  {
   "cell_type": "code",
   "execution_count": null,
   "metadata": {},
   "outputs": [],
   "source": [
    "t2tr = rg.Text2TextRecord(\n",
    "    text=\"this is a very long record\",\n",
    "    prediction=[\"there is lot more than the record length\"]\n",
    ")\n",
    "rg.log(records=t2tr, name='t2tr', workspace=hfgilla)"
   ]
  },
  {
   "cell_type": "markdown",
   "metadata": {},
   "source": [
    "##### Diving Into FeedBack DS"
   ]
  },
  {
   "cell_type": "code",
   "execution_count": 5,
   "metadata": {},
   "outputs": [],
   "source": [
    "# simple feddback_task_ds\n",
    "fbds = rg.FeedbackDataset(\n",
    "    guidelines='A simple FBDS with no records',\n",
    "    fields=[\n",
    "        rg.TextField(name=\"prompt\", title='user_prompt'),\n",
    "        rg.TextField(name=\"output\", title='gen_output', use_markdown=True),\n",
    "    ],\n",
    "    questions=[\n",
    "        rg.TextQuestion(\n",
    "            name=\"corrected_text\",\n",
    "            title='Used for correcting the output',\n",
    "            required=True,\n",
    "            use_markdown=True\n",
    "        ),\n",
    "    ]\n",
    ")"
   ]
  },
  {
   "cell_type": "code",
   "execution_count": 6,
   "metadata": {},
   "outputs": [
    {
     "data": {
      "text/html": [
       "<pre style=\"white-space:pre;overflow-x:auto;line-height:normal;font-family:Menlo,'DejaVu Sans Mono',consolas,'Courier New',monospace\"><span style=\"color: #800000; text-decoration-color: #800000\">╭─────────────────────────────── </span><span style=\"color: #800000; text-decoration-color: #800000; font-weight: bold\">Traceback </span><span style=\"color: #bf7f7f; text-decoration-color: #bf7f7f; font-weight: bold\">(most recent call last)</span><span style=\"color: #800000; text-decoration-color: #800000\"> ────────────────────────────────╮</span>\n",
       "<span style=\"color: #800000; text-decoration-color: #800000\">│</span> in <span style=\"color: #00ff00; text-decoration-color: #00ff00\">&lt;module&gt;</span>:<span style=\"color: #0000ff; text-decoration-color: #0000ff\">1</span>                                                                                    <span style=\"color: #800000; text-decoration-color: #800000\">│</span>\n",
       "<span style=\"color: #800000; text-decoration-color: #800000\">│</span>                                                                                                  <span style=\"color: #800000; text-decoration-color: #800000\">│</span>\n",
       "<span style=\"color: #800000; text-decoration-color: #800000\">│</span> <span style=\"color: #800000; text-decoration-color: #800000\">❱ </span>1 fbds.push_to_argilla(name=<span style=\"color: #808000; text-decoration-color: #808000\">'fbds'</span>, workspace=hfgilla)                                         <span style=\"color: #800000; text-decoration-color: #800000\">│</span>\n",
       "<span style=\"color: #800000; text-decoration-color: #800000\">│</span>   <span style=\"color: #7f7f7f; text-decoration-color: #7f7f7f\">2 </span>                                                                                             <span style=\"color: #800000; text-decoration-color: #800000\">│</span>\n",
       "<span style=\"color: #800000; text-decoration-color: #800000\">╰──────────────────────────────────────────────────────────────────────────────────────────────────╯</span>\n",
       "<span style=\"color: #ff0000; text-decoration-color: #ff0000; font-weight: bold\">NameError: </span>name <span style=\"color: #008000; text-decoration-color: #008000\">'hfgilla'</span> is not defined\n",
       "</pre>\n"
      ],
      "text/plain": [
       "\u001b[31m╭─\u001b[0m\u001b[31m──────────────────────────────\u001b[0m\u001b[31m \u001b[0m\u001b[1;31mTraceback \u001b[0m\u001b[1;2;31m(most recent call last)\u001b[0m\u001b[31m \u001b[0m\u001b[31m───────────────────────────────\u001b[0m\u001b[31m─╮\u001b[0m\n",
       "\u001b[31m│\u001b[0m in \u001b[92m<module>\u001b[0m:\u001b[94m1\u001b[0m                                                                                    \u001b[31m│\u001b[0m\n",
       "\u001b[31m│\u001b[0m                                                                                                  \u001b[31m│\u001b[0m\n",
       "\u001b[31m│\u001b[0m \u001b[31m❱ \u001b[0m1 fbds.push_to_argilla(name=\u001b[33m'\u001b[0m\u001b[33mfbds\u001b[0m\u001b[33m'\u001b[0m, workspace=hfgilla)                                         \u001b[31m│\u001b[0m\n",
       "\u001b[31m│\u001b[0m   \u001b[2m2 \u001b[0m                                                                                             \u001b[31m│\u001b[0m\n",
       "\u001b[31m╰──────────────────────────────────────────────────────────────────────────────────────────────────╯\u001b[0m\n",
       "\u001b[1;91mNameError: \u001b[0mname \u001b[32m'hfgilla'\u001b[0m is not defined\n"
      ]
     },
     "metadata": {},
     "output_type": "display_data"
    }
   ],
   "source": [
    "fbds.push_to_argilla(name='fbds', workspace=hfgilla)"
   ]
  },
  {
   "cell_type": "code",
   "execution_count": null,
   "metadata": {},
   "outputs": [],
   "source": [
    "fbds_1 = rg.FeedbackDataset(\n",
    "    guidelines='Another fb dataset for practice',\n",
    "    fields= [\n",
    "        rg.TextField(name='model1_prompt', title='model_1'),\n",
    "        rg.TextField(name=\"modelout\", title='modelout', use_markdown=True)\n",
    "    ],\n",
    "    questions=[\n",
    "        rg.RatingQuestion(\n",
    "            name=\"rating\",\n",
    "            title=\"Rate the quality of the response:\",\n",
    "            description=\"1 = very bad - 5= very good\",\n",
    "            required=True,\n",
    "            values=[1,2,3,4,5]  \n",
    "        )\n",
    "    ]\n",
    ")\n",
    "fbds_1.push_to_argilla(\"fbds2\", workspace=hfgilla)"
   ]
  },
  {
   "cell_type": "code",
   "execution_count": null,
   "metadata": {},
   "outputs": [],
   "source": [
    "# make some records\n",
    "recfb = rg.FeedbackRecord(\n",
    "    fields={\n",
    "        \"prompt\": \"this is funny\",\n",
    "        \"output\": \"do you think so?\"\n",
    "    },\n",
    "    metadata={'source': 'mind'},\n",
    "    external_id='rec1'\n",
    ")"
   ]
  },
  {
   "cell_type": "code",
   "execution_count": null,
   "metadata": {},
   "outputs": [],
   "source": [
    "fbds.add_records([recfb])"
   ]
  },
  {
   "cell_type": "code",
   "execution_count": null,
   "metadata": {},
   "outputs": [],
   "source": [
    "fbds.records"
   ]
  },
  {
   "cell_type": "code",
   "execution_count": null,
   "metadata": {},
   "outputs": [],
   "source": [
    "fa_fbds = rg.FeedbackDataset.from_argilla('fbds', workspace=hfgilla)"
   ]
  },
  {
   "cell_type": "code",
   "execution_count": null,
   "metadata": {},
   "outputs": [],
   "source": [
    "fa_fbds.add_records([recfb])"
   ]
  },
  {
   "cell_type": "code",
   "execution_count": null,
   "metadata": {},
   "outputs": [],
   "source": [
    "rating_question = rg.RatingQuestion(\n",
    "    name=\"rating\",\n",
    "    title=\"Rate the quality of the response:\",\n",
    "    description=\"1 = very bad - 5= very good\",\n",
    "    required=True,\n",
    "    values=[1,2,3,4,5]  \n",
    ")"
   ]
  },
  {
   "cell_type": "code",
   "execution_count": null,
   "metadata": {},
   "outputs": [],
   "source": [
    "fa_fbds.add_records([rec_tc]) # will error out, as its not FBrecord"
   ]
  },
  {
   "cell_type": "markdown",
   "metadata": {},
   "source": [
    "https://docs.argilla.io/en/v1.26.0/practical_guides/create_update_dataset/create_dataset.html\n",
    "\n",
    "The records classes covered in this section correspond to three datasets: DatasetForTextClassification, DatasetForTokenClassification, and DatasetForText2Text. \n",
    "\n",
    "These will be deprecated in Argilla 2.0 and replaced by the fully configurable FeedbackDataset class. Not sure which dataset to use? Check out our section on choosing a dataset."
   ]
  },
  {
   "cell_type": "code",
   "execution_count": null,
   "metadata": {},
   "outputs": [],
   "source": [
    "import argilla as rg\n",
    "\n",
    "fledgeds = rg.FeedbackDataset(\n",
    "    guidelines=\"A fully fledged annotation pipeline\",\n",
    "    fields=[\n",
    "        rg.TextField(name=\"input\", title=\"Human input\"),\n",
    "        rg.TextField(name=\"output\", title=\"Expected output\", use_markdown=True)\n",
    "    ],\n",
    "    questions =[\n",
    "        rg.RatingQuestion(\n",
    "            name=\"rating\",\n",
    "            title=\"Rate the quality of the Output:\",\n",
    "            description=\"1 = very bad - 5= very good\",\n",
    "            required=True,\n",
    "            values=[1,2,3,4,5]\n",
    "        ),\n",
    "        rg.TextQuestion(\n",
    "            name=\"corrected-text\",\n",
    "            title=\"Provide a correction to the response:\",\n",
    "            required=False,\n",
    "            use_markdown=True\n",
    "        ),\n",
    "        rg.LabelQuestion(\n",
    "            name=\"relevant\",\n",
    "            title=\"Is the response relevant for the given prompt?\",\n",
    "            labels={\"YES\": \"Yes\", \"NO\": \"No\"}, # or [\"YES\",\"NO\"]\n",
    "            required=True,\n",
    "            visible_labels=None\n",
    "        ),\n",
    "        rg.MultiLabelQuestion(\n",
    "            name=\"content_class\",\n",
    "            title=\"Does the response include any of the following?\",\n",
    "            description=\"Select all that apply\",\n",
    "            labels={\"hate\": \"Hate Speech\" , \"sexual\": \"Sexual content\", \"violent\": \"Violent content\", \"pii\": \"Personal information\", \"untruthful\": \"Untruthful info\", \"not_english\": \"Not English\", \"inappropriate\": \"Inappropriate content\"}, # or [\"hate\", \"sexual\", \"violent\", \"pii\", \"untruthful\", \"not_english\", \"inappropriate\"]\n",
    "            required=False,\n",
    "            visible_labels=4\n",
    "        ),\n",
    "#         rg.SpanQuestion(\n",
    "            # name=\"entities\",\n",
    "            # title=\"Highlight the entities in the text:\",\n",
    "            # labels={\"PER\": \"Person\", \"ORG\": \"Organization\", \"EVE\": \"Event\"},\n",
    "            # # or [\"PER\", \"ORG\", \"EVE\"],\n",
    "            # field=\"text\",\n",
    "            # required=True\n",
    "        # ),\n",
    "        rg.RankingQuestion(\n",
    "            name=\"preference\",\n",
    "            title=\"Order replies based on your preference\",\n",
    "            description=\"1 = best, 3 = worst. Ties are allowed.\",\n",
    "            required=True,\n",
    "            values={\"reply-1\": \"Reply 1\", \"reply-2\": \"Reply 2\", \"reply-3\": \"Reply 3\"} # or [\"reply-1\", \"reply-2\", \"reply-3\"]\n",
    "        )\n",
    "    ]\n",
    ")\n",
    "\n",
    "fledgeds.push_to_argilla(name=\"explds\", workspace=hfgilla)"
   ]
  },
  {
   "cell_type": "code",
   "execution_count": null,
   "metadata": {},
   "outputs": [],
   "source": [
    "# make some records\n",
    "recfb = rg.FeedbackRecord(\n",
    "    fields={\n",
    "        \"input\": \"this is funny\",\n",
    "        \"output\": \"do you think so?\"\n",
    "    },\n",
    "    metadata={'source': 'mind'},\n",
    "    external_id='rec1'\n",
    ")"
   ]
  },
  {
   "cell_type": "code",
   "execution_count": null,
   "metadata": {},
   "outputs": [],
   "source": [
    "explds_argilla = rg.FeedbackDataset.from_argilla('explds', workspace=hfgilla)"
   ]
  },
  {
   "cell_type": "code",
   "execution_count": null,
   "metadata": {},
   "outputs": [],
   "source": [
    "explds_argilla.add_records([recfb])"
   ]
  },
  {
   "cell_type": "markdown",
   "metadata": {},
   "source": [
    "There is a new generation of datasets which are based on the task templates, and work well with hugging face datasets also. \n",
    "\n",
    "https://docs.argilla.io/en/v1.26.0/practical_guides/create_update_dataset/create_dataset.html\n",
    "\n",
    "https://huggingface.co/datasets?other=argilla\n",
    "\n",
    "These are easily integrated with HF, and pulled using below method.\n"
   ]
  },
  {
   "cell_type": "code",
   "execution_count": null,
   "metadata": {},
   "outputs": [],
   "source": [
    "from datasets import load_dataset\n",
    "\n",
    "dibt_dataset = load_dataset(\"DIBT/10k_prompts_ranked\")"
   ]
  },
  {
   "cell_type": "code",
   "execution_count": null,
   "metadata": {},
   "outputs": [],
   "source": [
    "dbt_ds = rg.FeedbackDataset.from_huggingface(\"nataliaElv/dolly_tutorial\")"
   ]
  },
  {
   "cell_type": "code",
   "execution_count": null,
   "metadata": {},
   "outputs": [],
   "source": [
    "dbt_ds[0:5]"
   ]
  },
  {
   "cell_type": "code",
   "execution_count": null,
   "metadata": {},
   "outputs": [],
   "source": [
    "for user in rg.User.list():\n",
    "    print(user.id)\n",
    "    print(user.username)"
   ]
  },
  {
   "cell_type": "code",
   "execution_count": null,
   "metadata": {},
   "outputs": [],
   "source": [
    "dbt_ds.push_to_argilla(name=\"dolly_hf\", workspace=hfgilla,)"
   ]
  },
  {
   "cell_type": "markdown",
   "metadata": {},
   "source": [
    "### Exploring Feedback Datasets with Templates"
   ]
  },
  {
   "cell_type": "code",
   "execution_count": null,
   "metadata": {},
   "outputs": [],
   "source": [
    "# These templates include the fields and questions needed for the task,\n",
    "# as well as the guidelines to provide to the annotators.\n",
    "\n",
    "# After having initialized the FeedbackDataset templates, we can still alter \n",
    "# the fields, questions, guidelines, metadata and vectors to fit our specific\n",
    "# needs you can refer to the update configuration section"
   ]
  },
  {
   "cell_type": "code",
   "execution_count": 31,
   "metadata": {},
   "outputs": [],
   "source": [
    "from argilla import FeedbackDataset, FeedbackRecord"
   ]
  },
  {
   "cell_type": "code",
   "execution_count": 33,
   "metadata": {},
   "outputs": [
    {
     "data": {
      "text/html": [
       "<pre style=\"white-space:pre;overflow-x:auto;line-height:normal;font-family:Menlo,'DejaVu Sans Mono',consolas,'Courier New',monospace\">d:\\argenv\\Lib\\site-packages\\rich\\live.py:231: UserWarning: install \"ipywidgets\" for Jupyter support\n",
       "  warnings.warn('install \"ipywidgets\" for Jupyter support')\n",
       "</pre>\n"
      ],
      "text/plain": [
       "d:\\argenv\\Lib\\site-packages\\rich\\live.py:231: UserWarning: install \"ipywidgets\" for Jupyter support\n",
       "  warnings.warn('install \"ipywidgets\" for Jupyter support')\n"
      ]
     },
     "metadata": {},
     "output_type": "display_data"
    },
    {
     "data": {
      "text/html": [
       "<pre style=\"white-space:pre;overflow-x:auto;line-height:normal;font-family:Menlo,'DejaVu Sans Mono',consolas,'Courier New',monospace\"></pre>\n"
      ],
      "text/plain": []
     },
     "metadata": {},
     "output_type": "display_data"
    },
    {
     "data": {
      "text/html": [
       "<pre style=\"white-space:pre;overflow-x:auto;line-height:normal;font-family:Menlo,'DejaVu Sans Mono',consolas,'Courier New',monospace\">\n",
       "</pre>\n"
      ],
      "text/plain": [
       "\n"
      ]
     },
     "metadata": {},
     "output_type": "display_data"
    },
    {
     "data": {
      "text/html": [
       "<pre style=\"white-space:pre;overflow-x:auto;line-height:normal;font-family:Menlo,'DejaVu Sans Mono',consolas,'Courier New',monospace\"><span style=\"color: #7fbfbf; text-decoration-color: #7fbfbf\">[04/03/24 20:22:43] </span><span style=\"color: #000080; text-decoration-color: #000080\">INFO    </span> INFO:argilla.client.feedback.dataset.local.mixins:✓ Dataset succesfully  <a href=\"file://d:\\argenv\\Lib\\site-packages\\argilla\\client\\feedback\\dataset\\local\\mixins.py\" target=\"_blank\"><span style=\"color: #7f7f7f; text-decoration-color: #7f7f7f\">mixins.py</span></a><span style=\"color: #7f7f7f; text-decoration-color: #7f7f7f\">:</span><a href=\"file://d:\\argenv\\Lib\\site-packages\\argilla\\client\\feedback\\dataset\\local\\mixins.py#281\" target=\"_blank\"><span style=\"color: #7f7f7f; text-decoration-color: #7f7f7f\">281</span></a>\n",
       "<span style=\"color: #7fbfbf; text-decoration-color: #7fbfbf\">                    </span>         pushed to Argilla                                                        <span style=\"color: #7f7f7f; text-decoration-color: #7f7f7f\">             </span>\n",
       "</pre>\n"
      ],
      "text/plain": [
       "\u001b[2;36m[04/03/24 20:22:43]\u001b[0m\u001b[2;36m \u001b[0m\u001b[34mINFO    \u001b[0m INFO:argilla.client.feedback.dataset.local.mixins:✓ Dataset succesfully  \u001b]8;id=577693;file://d:\\argenv\\Lib\\site-packages\\argilla\\client\\feedback\\dataset\\local\\mixins.py\u001b\\\u001b[2mmixins.py\u001b[0m\u001b]8;;\u001b\\\u001b[2m:\u001b[0m\u001b]8;id=636774;file://d:\\argenv\\Lib\\site-packages\\argilla\\client\\feedback\\dataset\\local\\mixins.py#281\u001b\\\u001b[2m281\u001b[0m\u001b]8;;\u001b\\\n",
       "\u001b[2;36m                    \u001b[0m         pushed to Argilla                                                        \u001b[2m             \u001b[0m\n"
      ]
     },
     "metadata": {},
     "output_type": "display_data"
    },
    {
     "data": {
      "text/html": [
       "<pre style=\"white-space:pre;overflow-x:auto;line-height:normal;font-family:Menlo,'DejaVu Sans Mono',consolas,'Courier New',monospace\"><span style=\"color: #7fbfbf; text-decoration-color: #7fbfbf\">                    </span><span style=\"color: #000080; text-decoration-color: #000080\">INFO    </span> INFO:argilla.client.feedback.dataset.local.mixins:<span style=\"color: #800080; text-decoration-color: #800080; font-weight: bold\">RemoteFeedbackDataset</span><span style=\"font-weight: bold\">(</span> <a href=\"file://d:\\argenv\\Lib\\site-packages\\argilla\\client\\feedback\\dataset\\local\\mixins.py\" target=\"_blank\"><span style=\"color: #7f7f7f; text-decoration-color: #7f7f7f\">mixins.py</span></a><span style=\"color: #7f7f7f; text-decoration-color: #7f7f7f\">:</span><a href=\"file://d:\\argenv\\Lib\\site-packages\\argilla\\client\\feedback\\dataset\\local\\mixins.py#282\" target=\"_blank\"><span style=\"color: #7f7f7f; text-decoration-color: #7f7f7f\">282</span></a>\n",
       "<span style=\"color: #7fbfbf; text-decoration-color: #7fbfbf\">                    </span>            <span style=\"color: #808000; text-decoration-color: #808000\">id</span>=<span style=\"color: #ffff00; text-decoration-color: #ffff00\">60138183</span><span style=\"color: #ffff00; text-decoration-color: #ffff00\">-71fd-49cb-ac46-37cd8db3033e</span>                               <span style=\"color: #7f7f7f; text-decoration-color: #7f7f7f\">             </span>\n",
       "<span style=\"color: #7fbfbf; text-decoration-color: #7fbfbf\">                    </span>            <span style=\"color: #808000; text-decoration-color: #808000\">name</span>=<span style=\"color: #800080; text-decoration-color: #800080\">tc_template_ds</span>                                                   <span style=\"color: #7f7f7f; text-decoration-color: #7f7f7f\">             </span>\n",
       "<span style=\"color: #7fbfbf; text-decoration-color: #7fbfbf\">                    </span>            <span style=\"color: #808000; text-decoration-color: #808000\">workspace</span>=<span style=\"color: #800080; text-decoration-color: #800080; font-weight: bold\">Workspace</span><span style=\"font-weight: bold\">(</span><span style=\"color: #808000; text-decoration-color: #808000\">id</span>=<span style=\"color: #ffff00; text-decoration-color: #ffff00\">da074b40</span><span style=\"color: #ffff00; text-decoration-color: #ffff00\">-5fa4-4cf1-b07c-384ebfc3c73e</span>,          <span style=\"color: #7f7f7f; text-decoration-color: #7f7f7f\">             </span>\n",
       "<span style=\"color: #7fbfbf; text-decoration-color: #7fbfbf\">                    </span>         <span style=\"color: #808000; text-decoration-color: #808000\">name</span>=<span style=\"color: #800080; text-decoration-color: #800080\">hfgilla</span>, <span style=\"color: #808000; text-decoration-color: #808000\">inserted_at</span>=<span style=\"color: #008080; text-decoration-color: #008080; font-weight: bold\">2024</span>-<span style=\"color: #008080; text-decoration-color: #008080; font-weight: bold\">04</span>-<span style=\"color: #008080; text-decoration-color: #008080; font-weight: bold\">02</span> <span style=\"color: #00ff00; text-decoration-color: #00ff00; font-weight: bold\">12:08:21</span>.<span style=\"color: #008080; text-decoration-color: #008080; font-weight: bold\">064036</span>,                    <span style=\"color: #7f7f7f; text-decoration-color: #7f7f7f\">             </span>\n",
       "<span style=\"color: #7fbfbf; text-decoration-color: #7fbfbf\">                    </span>         <span style=\"color: #808000; text-decoration-color: #808000\">updated_at</span>=<span style=\"color: #008080; text-decoration-color: #008080; font-weight: bold\">2024</span>-<span style=\"color: #008080; text-decoration-color: #008080; font-weight: bold\">04</span>-<span style=\"color: #008080; text-decoration-color: #008080; font-weight: bold\">02</span> <span style=\"color: #00ff00; text-decoration-color: #00ff00; font-weight: bold\">12:08:21</span>.<span style=\"color: #008080; text-decoration-color: #008080; font-weight: bold\">064036</span><span style=\"font-weight: bold\">)</span>                                   <span style=\"color: #7f7f7f; text-decoration-color: #7f7f7f\">             </span>\n",
       "<span style=\"color: #7fbfbf; text-decoration-color: #7fbfbf\">                    </span>            <span style=\"color: #808000; text-decoration-color: #808000\">url</span>=<span style=\"color: #0000ff; text-decoration-color: #0000ff; text-decoration: underline\">https://kamaljp-argillatest.hf.space/dataset/60138183-71fd-49cb-a</span> <span style=\"color: #7f7f7f; text-decoration-color: #7f7f7f\">             </span>\n",
       "<span style=\"color: #7fbfbf; text-decoration-color: #7fbfbf\">                    </span>         <span style=\"color: #0000ff; text-decoration-color: #0000ff; text-decoration: underline\">c46-37cd8db3033e/annotation-mode</span>                                         <span style=\"color: #7f7f7f; text-decoration-color: #7f7f7f\">             </span>\n",
       "<span style=\"color: #7fbfbf; text-decoration-color: #7fbfbf\">                    </span>            <span style=\"color: #808000; text-decoration-color: #808000\">fields</span>=<span style=\"font-weight: bold\">[</span><span style=\"color: #800080; text-decoration-color: #800080; font-weight: bold\">RemoteTextField</span><span style=\"font-weight: bold\">(</span><span style=\"color: #808000; text-decoration-color: #808000\">id</span>=<span style=\"color: #800080; text-decoration-color: #800080; font-weight: bold\">UUID</span><span style=\"font-weight: bold\">(</span><span style=\"color: #008000; text-decoration-color: #008000\">'3aa4d25c-6e81-4e83-95a1-a293498168ff</span> <span style=\"color: #7f7f7f; text-decoration-color: #7f7f7f\">             </span>\n",
       "<span style=\"color: #7fbfbf; text-decoration-color: #7fbfbf\">                    </span>         <span style=\"color: #008000; text-decoration-color: #008000\">'</span><span style=\"font-weight: bold\">)</span>, <span style=\"color: #808000; text-decoration-color: #808000\">client</span>=<span style=\"color: #800080; text-decoration-color: #800080; font-style: italic\">None</span>, <span style=\"color: #808000; text-decoration-color: #808000\">name</span>=<span style=\"color: #008000; text-decoration-color: #008000\">'text'</span>, <span style=\"color: #808000; text-decoration-color: #808000\">title</span>=<span style=\"color: #008000; text-decoration-color: #008000\">'Text'</span>, <span style=\"color: #808000; text-decoration-color: #808000\">required</span>=<span style=\"color: #00ff00; text-decoration-color: #00ff00; font-style: italic\">True</span>, <span style=\"color: #808000; text-decoration-color: #808000\">type</span>=<span style=\"color: #008000; text-decoration-color: #008000\">'text'</span>,  <span style=\"color: #7f7f7f; text-decoration-color: #7f7f7f\">             </span>\n",
       "<span style=\"color: #7fbfbf; text-decoration-color: #7fbfbf\">                    </span>         <span style=\"color: #808000; text-decoration-color: #808000\">use_markdown</span>=<span style=\"color: #00ff00; text-decoration-color: #00ff00; font-style: italic\">True</span><span style=\"font-weight: bold\">)]</span>                                                      <span style=\"color: #7f7f7f; text-decoration-color: #7f7f7f\">             </span>\n",
       "<span style=\"color: #7fbfbf; text-decoration-color: #7fbfbf\">                    </span>            <span style=\"color: #808000; text-decoration-color: #808000\">questions</span>=<span style=\"font-weight: bold\">[</span><span style=\"color: #800080; text-decoration-color: #800080; font-weight: bold\">RemoteLabelQuestion</span><span style=\"font-weight: bold\">(</span><span style=\"color: #808000; text-decoration-color: #808000\">id</span>=<span style=\"color: #800080; text-decoration-color: #800080; font-weight: bold\">UUID</span><span style=\"font-weight: bold\">(</span><span style=\"color: #008000; text-decoration-color: #008000\">'201c1779-001a-419e-b94c-11cbd</span> <span style=\"color: #7f7f7f; text-decoration-color: #7f7f7f\">             </span>\n",
       "<span style=\"color: #7fbfbf; text-decoration-color: #7fbfbf\">                    </span>         <span style=\"color: #008000; text-decoration-color: #008000\">8e8add3'</span><span style=\"font-weight: bold\">)</span>, <span style=\"color: #808000; text-decoration-color: #808000\">client</span>=<span style=\"color: #800080; text-decoration-color: #800080; font-style: italic\">None</span>, <span style=\"color: #808000; text-decoration-color: #808000\">name</span>=<span style=\"color: #008000; text-decoration-color: #008000\">'label'</span>, <span style=\"color: #808000; text-decoration-color: #808000\">title</span>=<span style=\"color: #008000; text-decoration-color: #008000\">'Label'</span>, <span style=\"color: #808000; text-decoration-color: #808000\">description</span>=<span style=\"color: #800080; text-decoration-color: #800080; font-style: italic\">None</span>,   <span style=\"color: #7f7f7f; text-decoration-color: #7f7f7f\">             </span>\n",
       "<span style=\"color: #7fbfbf; text-decoration-color: #7fbfbf\">                    </span>         <span style=\"color: #808000; text-decoration-color: #808000\">required</span>=<span style=\"color: #00ff00; text-decoration-color: #00ff00; font-style: italic\">True</span>, <span style=\"color: #808000; text-decoration-color: #808000\">type</span>=<span style=\"color: #008000; text-decoration-color: #008000\">'label_selection'</span>, <span style=\"color: #808000; text-decoration-color: #808000\">labels</span>=<span style=\"font-weight: bold\">[</span><span style=\"color: #008000; text-decoration-color: #008000\">'super'</span>, <span style=\"color: #008000; text-decoration-color: #008000\">'duper'</span><span style=\"font-weight: bold\">]</span>,        <span style=\"color: #7f7f7f; text-decoration-color: #7f7f7f\">             </span>\n",
       "<span style=\"color: #7fbfbf; text-decoration-color: #7fbfbf\">                    </span>         <span style=\"color: #808000; text-decoration-color: #808000\">visible_labels</span>=<span style=\"color: #800080; text-decoration-color: #800080; font-style: italic\">None</span><span style=\"font-weight: bold\">)]</span>                                                    <span style=\"color: #7f7f7f; text-decoration-color: #7f7f7f\">             </span>\n",
       "<span style=\"color: #7fbfbf; text-decoration-color: #7fbfbf\">                    </span>            <span style=\"color: #808000; text-decoration-color: #808000\">guidelines</span>=<span style=\"color: #800080; text-decoration-color: #800080\">Read</span> carefully and provide your feedback                   <span style=\"color: #7f7f7f; text-decoration-color: #7f7f7f\">             </span>\n",
       "<span style=\"color: #7fbfbf; text-decoration-color: #7fbfbf\">                    </span>            <span style=\"color: #808000; text-decoration-color: #808000\">metadata_properties</span>=<span style=\"font-weight: bold\">[]</span>                                                <span style=\"color: #7f7f7f; text-decoration-color: #7f7f7f\">             </span>\n",
       "<span style=\"color: #7fbfbf; text-decoration-color: #7fbfbf\">                    </span>            <span style=\"color: #808000; text-decoration-color: #808000\">vectors_settings</span>=<span style=\"font-weight: bold\">[]</span>                                                   <span style=\"color: #7f7f7f; text-decoration-color: #7f7f7f\">             </span>\n",
       "<span style=\"color: #7fbfbf; text-decoration-color: #7fbfbf\">                    </span>         <span style=\"font-weight: bold\">)</span>                                                                        <span style=\"color: #7f7f7f; text-decoration-color: #7f7f7f\">             </span>\n",
       "</pre>\n"
      ],
      "text/plain": [
       "\u001b[2;36m                   \u001b[0m\u001b[2;36m \u001b[0m\u001b[34mINFO    \u001b[0m INFO:argilla.client.feedback.dataset.local.mixins:\u001b[1;35mRemoteFeedbackDataset\u001b[0m\u001b[1m(\u001b[0m \u001b]8;id=576553;file://d:\\argenv\\Lib\\site-packages\\argilla\\client\\feedback\\dataset\\local\\mixins.py\u001b\\\u001b[2mmixins.py\u001b[0m\u001b]8;;\u001b\\\u001b[2m:\u001b[0m\u001b]8;id=121208;file://d:\\argenv\\Lib\\site-packages\\argilla\\client\\feedback\\dataset\\local\\mixins.py#282\u001b\\\u001b[2m282\u001b[0m\u001b]8;;\u001b\\\n",
       "\u001b[2;36m                    \u001b[0m            \u001b[33mid\u001b[0m=\u001b[93m60138183\u001b[0m\u001b[93m-71fd-49cb-ac46-37cd8db3033e\u001b[0m                               \u001b[2m             \u001b[0m\n",
       "\u001b[2;36m                    \u001b[0m            \u001b[33mname\u001b[0m=\u001b[35mtc_template_ds\u001b[0m                                                   \u001b[2m             \u001b[0m\n",
       "\u001b[2;36m                    \u001b[0m            \u001b[33mworkspace\u001b[0m=\u001b[1;35mWorkspace\u001b[0m\u001b[1m(\u001b[0m\u001b[33mid\u001b[0m=\u001b[93mda074b40\u001b[0m\u001b[93m-5fa4-4cf1-b07c-384ebfc3c73e\u001b[0m,          \u001b[2m             \u001b[0m\n",
       "\u001b[2;36m                    \u001b[0m         \u001b[33mname\u001b[0m=\u001b[35mhfgilla\u001b[0m, \u001b[33minserted_at\u001b[0m=\u001b[1;36m2024\u001b[0m-\u001b[1;36m04\u001b[0m-\u001b[1;36m02\u001b[0m \u001b[1;92m12:08:21\u001b[0m.\u001b[1;36m064036\u001b[0m,                    \u001b[2m             \u001b[0m\n",
       "\u001b[2;36m                    \u001b[0m         \u001b[33mupdated_at\u001b[0m=\u001b[1;36m2024\u001b[0m-\u001b[1;36m04\u001b[0m-\u001b[1;36m02\u001b[0m \u001b[1;92m12:08:21\u001b[0m.\u001b[1;36m064036\u001b[0m\u001b[1m)\u001b[0m                                   \u001b[2m             \u001b[0m\n",
       "\u001b[2;36m                    \u001b[0m            \u001b[33murl\u001b[0m=\u001b[4;94mhttps\u001b[0m\u001b[4;94m://kamaljp-argillatest.hf.space/dataset/60138183-71fd-49cb-a\u001b[0m \u001b[2m             \u001b[0m\n",
       "\u001b[2;36m                    \u001b[0m         \u001b[4;94mc46-37cd8db3033e/annotation-mode\u001b[0m                                         \u001b[2m             \u001b[0m\n",
       "\u001b[2;36m                    \u001b[0m            \u001b[33mfields\u001b[0m=\u001b[1m[\u001b[0m\u001b[1;35mRemoteTextField\u001b[0m\u001b[1m(\u001b[0m\u001b[33mid\u001b[0m=\u001b[1;35mUUID\u001b[0m\u001b[1m(\u001b[0m\u001b[32m'3aa4d25c-6e81-4e83-95a1-a293498168ff\u001b[0m \u001b[2m             \u001b[0m\n",
       "\u001b[2;36m                    \u001b[0m         \u001b[32m'\u001b[0m\u001b[1m)\u001b[0m, \u001b[33mclient\u001b[0m=\u001b[3;35mNone\u001b[0m, \u001b[33mname\u001b[0m=\u001b[32m'text'\u001b[0m, \u001b[33mtitle\u001b[0m=\u001b[32m'Text'\u001b[0m, \u001b[33mrequired\u001b[0m=\u001b[3;92mTrue\u001b[0m, \u001b[33mtype\u001b[0m=\u001b[32m'text'\u001b[0m,  \u001b[2m             \u001b[0m\n",
       "\u001b[2;36m                    \u001b[0m         \u001b[33muse_markdown\u001b[0m=\u001b[3;92mTrue\u001b[0m\u001b[1m)\u001b[0m\u001b[1m]\u001b[0m                                                      \u001b[2m             \u001b[0m\n",
       "\u001b[2;36m                    \u001b[0m            \u001b[33mquestions\u001b[0m=\u001b[1m[\u001b[0m\u001b[1;35mRemoteLabelQuestion\u001b[0m\u001b[1m(\u001b[0m\u001b[33mid\u001b[0m=\u001b[1;35mUUID\u001b[0m\u001b[1m(\u001b[0m\u001b[32m'201c1779-001a-419e-b94c-11cbd\u001b[0m \u001b[2m             \u001b[0m\n",
       "\u001b[2;36m                    \u001b[0m         \u001b[32m8e8add3'\u001b[0m\u001b[1m)\u001b[0m, \u001b[33mclient\u001b[0m=\u001b[3;35mNone\u001b[0m, \u001b[33mname\u001b[0m=\u001b[32m'label'\u001b[0m, \u001b[33mtitle\u001b[0m=\u001b[32m'Label'\u001b[0m, \u001b[33mdescription\u001b[0m=\u001b[3;35mNone\u001b[0m,   \u001b[2m             \u001b[0m\n",
       "\u001b[2;36m                    \u001b[0m         \u001b[33mrequired\u001b[0m=\u001b[3;92mTrue\u001b[0m, \u001b[33mtype\u001b[0m=\u001b[32m'label_selection'\u001b[0m, \u001b[33mlabels\u001b[0m=\u001b[1m[\u001b[0m\u001b[32m'super'\u001b[0m, \u001b[32m'duper'\u001b[0m\u001b[1m]\u001b[0m,        \u001b[2m             \u001b[0m\n",
       "\u001b[2;36m                    \u001b[0m         \u001b[33mvisible_labels\u001b[0m=\u001b[3;35mNone\u001b[0m\u001b[1m)\u001b[0m\u001b[1m]\u001b[0m                                                    \u001b[2m             \u001b[0m\n",
       "\u001b[2;36m                    \u001b[0m            \u001b[33mguidelines\u001b[0m=\u001b[35mRead\u001b[0m carefully and provide your feedback                   \u001b[2m             \u001b[0m\n",
       "\u001b[2;36m                    \u001b[0m            \u001b[33mmetadata_properties\u001b[0m=\u001b[1m[\u001b[0m\u001b[1m]\u001b[0m                                                \u001b[2m             \u001b[0m\n",
       "\u001b[2;36m                    \u001b[0m            \u001b[33mvectors_settings\u001b[0m=\u001b[1m[\u001b[0m\u001b[1m]\u001b[0m                                                   \u001b[2m             \u001b[0m\n",
       "\u001b[2;36m                    \u001b[0m         \u001b[1m)\u001b[0m                                                                        \u001b[2m             \u001b[0m\n"
      ]
     },
     "metadata": {},
     "output_type": "display_data"
    },
    {
     "data": {
      "text/plain": [
       "RemoteFeedbackDataset(\n",
       "   id=60138183-71fd-49cb-ac46-37cd8db3033e\n",
       "   name=tc_template_ds\n",
       "   workspace=Workspace(id=da074b40-5fa4-4cf1-b07c-384ebfc3c73e, name=hfgilla, inserted_at=2024-04-02 12:08:21.064036, updated_at=2024-04-02 12:08:21.064036)\n",
       "   url=https://kamaljp-argillatest.hf.space/dataset/60138183-71fd-49cb-ac46-37cd8db3033e/annotation-mode\n",
       "   fields=[RemoteTextField(id=UUID('3aa4d25c-6e81-4e83-95a1-a293498168ff'), client=None, name='text', title='Text', required=True, type='text', use_markdown=True)]\n",
       "   questions=[RemoteLabelQuestion(id=UUID('201c1779-001a-419e-b94c-11cbd8e8add3'), client=None, name='label', title='Label', description=None, required=True, type='label_selection', labels=['super', 'duper'], visible_labels=None)]\n",
       "   guidelines=Read carefully and provide your feedback\n",
       "   metadata_properties=[]\n",
       "   vectors_settings=[]\n",
       ")"
      ]
     },
     "execution_count": 33,
     "metadata": {},
     "output_type": "execute_result"
    }
   ],
   "source": [
    "# Text Classification\n",
    "\n",
    "ds_text_class = FeedbackDataset.for_text_classification(\n",
    "    labels=[\"super\", \"duper\"],\n",
    "    multi_label=False,\n",
    "    use_markdown=True,\n",
    "    guidelines=\"Read carefully and provide your feedback\",\n",
    "    metadata_properties=None,\n",
    "    vectors_settings=None\n",
    ") \n",
    "\n",
    "# FeedbackDataset(\n",
    "#     fields=[\n",
    "#         TextField(name=\"text\", use_markdown=True)\n",
    "#     ],\n",
    "#     questions=[\n",
    "#         LabelQuestion(name=\"label\", labels=[\"positive\", \"negative\"])\n",
    "#     ],\n",
    "#     guidelines=\"<Guidelines for the task>\",\n",
    "#     metadata_properties=\"<Metadata Properties>\",\n",
    "#     vectors_settings=\"<Vectors Settings>\",\n",
    "# )\n",
    "\n",
    "text_class_record = FeedbackRecord(\n",
    "    fields={\n",
    "        \"text\": \"this is funny\",\n",
    "    },\n",
    "    # metadata={'source': 'mind'},\n",
    "    # external_id='rec1'\n",
    ")\n",
    "\n",
    "ds_text_class.add_records([text_class_record])\n",
    "\n",
    "ds_text_class.push_to_argilla(name='tc_template_ds',\n",
    "                              workspace=\"hfgilla\")\n"
   ]
  },
  {
   "cell_type": "code",
   "execution_count": null,
   "metadata": {},
   "outputs": [],
   "source": [
    "ds_summ = FeedbackDataset.for_summarization(\n",
    "    use_markdown=True,\n",
    "    guidelines=None,\n",
    "    metadata_properties=None,\n",
    "    vectors_settings=None\n",
    ")\n",
    "\n",
    "text_summ_rec = FeedbackRecord(\n",
    "    fields={\n",
    "        \"text\": \"this is a very long sentence and paragraphs of text\"\n",
    "    }\n",
    ")\n",
    "# FeedbackDataset(\n",
    "#     fields=[\n",
    "#         TextField(name=\"text\", use_markdown=True)\n",
    "#     ],\n",
    "#     questions=[\n",
    "#         TextQuestion(name=\"summary\", use_markdown=True)\n",
    "#     ],\n",
    "#     guidelines=\"<Guidelines for the task>\",\n",
    "#     metadata_properties=\"<Metadata Properties>\",\n",
    "#     vectors_settings=\"<Vectors Settings>\",\n",
    "# )\n",
    "ds_summ.add_records([text_summ_rec])\n",
    "ds_summ.push_to_argilla(\"ds_summ\", hfgilla)"
   ]
  },
  {
   "cell_type": "code",
   "execution_count": null,
   "metadata": {},
   "outputs": [],
   "source": [
    "ds_trans = FeedbackDataset.for_translation(\n",
    "    use_markdown=True,\n",
    "    guidelines=None,\n",
    "    metadata_properties=None,\n",
    "    vectors_settings=None\n",
    ")\n",
    "text_trans = FeedbackRecord(\n",
    "    fields={\n",
    "        \"source\": \"This is a foriegn language text to be translated.\"\n",
    "    }\n",
    ")\n",
    "# FeedbackDataset(\n",
    "#     fields=[\n",
    "#         TextField(name=\"source\", use_markdown=True)\n",
    "#     ],\n",
    "#     questions=[\n",
    "#         TextQuestion(name=\"target\", use_markdown=True)\n",
    "#     ],\n",
    "#     guidelines=\"<Guidelines for the task>\",\n",
    "#     metadata_properties=\"<Metadata Properties>\",\n",
    "#     vectors_settings=\"<Vectors Settings>\",\n",
    "# )\n",
    "\n",
    "ds_trans.add_records([text_trans])\n",
    "ds_trans.push_to_argilla(\"ds_trans\", hfgilla)"
   ]
  },
  {
   "cell_type": "code",
   "execution_count": null,
   "metadata": {},
   "outputs": [],
   "source": [
    "import argilla as rg\n",
    "\n",
    "ds_t2t = rg.FeedbackDataset.for_natural_language_inference(\n",
    "    labels=None,\n",
    "    use_markdown=True,\n",
    "    guidelines=None,\n",
    "    metadata_properties=None,\n",
    "    vectors_settings=None,\n",
    "    )\n",
    "\n",
    "t2t_rec = FeedbackRecord(\n",
    "    fields={\n",
    "        \"premise\":\"This is the example premise\",\n",
    "        \"hypothesis\": \"This is the example hypothesis\"\n",
    "    }\n",
    ")\n",
    "\n",
    "# FeedbackDataset(\n",
    "#     fields=[\n",
    "#         TextField(name=\"premise\", use_markdown=True),\n",
    "#         TextField(name=\"hypothesis\", use_markdown=True)\n",
    "#     ],\n",
    "#     questions=[\n",
    "#         LabelQuestion(name=\"label\", labels=[\"entailment\", \"neutral\", \"contradiction\"])\n",
    "#     ],\n",
    "#     guidelines=\"<Guidelines for the task>\",\n",
    "#     metadata_properties=\"<Metadata Properties>\",\n",
    "#     vectors_settings=\"<Vectors Settings>\",\n",
    "# )\n",
    "\n",
    "ds_t2t.add_records([t2t_rec])\n",
    "ds_t2t.push_to_argilla(\"ds_t2t\", hfgilla)"
   ]
  },
  {
   "cell_type": "code",
   "execution_count": null,
   "metadata": {},
   "outputs": [],
   "source": [
    "import argilla as rg\n",
    "\n",
    "ds_sim = rg.FeedbackDataset.for_sentence_similarity(\n",
    "    rating_scale=7,\n",
    "    use_markdown=True,\n",
    "    guidelines=None,\n",
    "    metadata_properties=None,\n",
    "    vectors_settings=None,\n",
    ")\n",
    "\n",
    "# FeedbackDataset(\n",
    "#     fields=[\n",
    "#         TextField(name=\"sentence-1\", use_markdown=True),\n",
    "#         TextField(name=\"sentence-2\", use_markdown=True)\n",
    "#     ],\n",
    "#     questions=[\n",
    "#         RatingQuestion(name=\"similarity\", values=[1, 2, 3, 4, 5, 6, 7])\n",
    "#     ],\n",
    "#     guidelines=\"<Guidelines for the task>\",\n",
    "#     metadata_properties=\"<Metadata Properties>\",\n",
    "#     vectors_settings=\"<Vectors Settings>\",\n",
    "# )\n",
    "sim_rec = FeedbackRecord(\n",
    "    fields={\n",
    "        \"sentence-1\":\"This is the first sentence with a context\",\n",
    "        \"sentence-2\":\"THis is second sentence similar context to first\"\n",
    "    }\n",
    ")\n",
    "\n",
    "ds_sim.add_records([sim_rec])\n",
    "ds_sim.push_to_argilla(\"ds_sim\", hfgilla)"
   ]
  },
  {
   "cell_type": "code",
   "execution_count": null,
   "metadata": {},
   "outputs": [],
   "source": [
    "import argilla as rg\n",
    "\n",
    "ds_qa = rg.FeedbackDataset.for_question_answering(\n",
    "    use_markdown=True,\n",
    "    guidelines=None,\n",
    "    metadata_properties=None,\n",
    "    vectors_settings=None,\n",
    ")\n",
    "# FeedbackDataset(\n",
    "#     fields=[\n",
    "#         TextField(name=\"question\", use_markdown=True),\n",
    "#         TextField(name=\"context\", use_markdown=True)\n",
    "#     ],\n",
    "#     questions=[\n",
    "#         TextQuestion(name=\"answer\", use_markdown=True)\n",
    "#     ],\n",
    "#     guidelines=\"<Guidelines for the task>\",\n",
    "#     metadata_properties=\"<Metadata Properties>\",\n",
    "#     vectors_settings=\"<Vectors Settings>\",\n",
    "# )\n",
    "qa_rec = FeedbackRecord(\n",
    "    fields={\n",
    "        \"question\": \"This is where the question is\",\n",
    "        \"context\": \"THis is the answer for above question\"\n",
    "    }\n",
    ")\n",
    "\n",
    "ds_qa.add_records([qa_rec])\n",
    "ds_qa.push_to_argilla(\"ds_qa\", hfgilla)\n",
    "\n",
    "\n"
   ]
  },
  {
   "cell_type": "code",
   "execution_count": null,
   "metadata": {},
   "outputs": [],
   "source": [
    "import argilla as rg\n",
    "\n",
    "ds_sft = rg.FeedbackDataset.for_supervised_fine_tuning(\n",
    "    context=True,\n",
    "    use_markdown=True,\n",
    "    guidelines=None,\n",
    "    metadata_properties=None,\n",
    "    vectors_settings=None,\n",
    ")\n",
    "# FeedbackDataset(\n",
    "#     fields=[\n",
    "#         TextField(name=\"prompt\", use_markdown=True),\n",
    "#         TextField(name=\"context\", use_markdown=True)\n",
    "#     ],\n",
    "#     questions=[\n",
    "#         TextQuestion(name=\"response\", use_markdown=True)\n",
    "#     ],\n",
    "#     guidelines=\"<Guidelines for the task>\",\n",
    "#     metadata_properties=\"<Metadata Properties>\",\n",
    "#     vectors_settings=\"<Vectors Settings>\",\n",
    "# )\n",
    "\n",
    "sft_rec = FeedbackRecord(\n",
    "    fields={\n",
    "        \"prompt\": \"This is the prompt from the user\",\n",
    "        \"context\": \"Context provided to model during inference\"\n",
    "    }\n",
    ")\n",
    "\n",
    "ds_sft.add_records([sft_rec])\n",
    "ds_sft.push_to_argilla('df_sft', hfgilla)\n"
   ]
  },
  {
   "cell_type": "code",
   "execution_count": null,
   "metadata": {},
   "outputs": [],
   "source": [
    "import argilla as rg\n",
    "\n",
    "ds_pref = rg.FeedbackDataset.for_preference_modeling(\n",
    "    number_of_responses=2,\n",
    "    context=False,\n",
    "    use_markdown=True,\n",
    "    guidelines=None,\n",
    "    metadata_properties=None,\n",
    "    vectors_settings=None,\n",
    ")\n",
    "\n",
    "# FeedbackDataset(\n",
    "#     fields=[\n",
    "#         TextField(name=\"prompt\", use_markdown=True),\n",
    "#         TextField(name=\"context\", use_markdown=True),\n",
    "#         TextField(name=\"response1\", use_markdown=True),\n",
    "#         TextField(name=\"response2\", use_markdown=True),\n",
    "#     ],\n",
    "#     questions=[\n",
    "#         RankingQuestion(name=\"preference\", values=[\"Response 1\", \"Response 2\"])\n",
    "#     ],\n",
    "#     guidelines=\"<Guidelines for the task>\",\n",
    "#     metadata_properties=\"<Metadata Properties>\"\n",
    "#     vectors_settings=\"<Vectors Settings>\",\n",
    "# )\n",
    "pref_rec = FeedbackRecord(\n",
    "    fields={\n",
    "        \"prompt\": \"This is the prompt from the user\",\n",
    "        \"response1\": \"This is the response 1 from the model\",\n",
    "        \"response2\": \"Response2 provided by the model during inference\"\n",
    "    }\n",
    ")\n",
    "ds_pref.add_records([pref_rec])\n",
    "ds_pref.push_to_argilla(\"ds_pref\", hfgilla)\n"
   ]
  },
  {
   "cell_type": "code",
   "execution_count": null,
   "metadata": {},
   "outputs": [],
   "source": [
    "ds_pref.field_by_name('prompt')"
   ]
  },
  {
   "cell_type": "code",
   "execution_count": null,
   "metadata": {},
   "outputs": [],
   "source": [
    "ds_pref.fields"
   ]
  },
  {
   "cell_type": "code",
   "execution_count": null,
   "metadata": {},
   "outputs": [],
   "source": [
    "ds_pref.questions"
   ]
  },
  {
   "cell_type": "code",
   "execution_count": null,
   "metadata": {},
   "outputs": [],
   "source": [
    "ds_pref.question_by_name(\"preference\")"
   ]
  },
  {
   "cell_type": "code",
   "execution_count": null,
   "metadata": {},
   "outputs": [],
   "source": [
    "import argilla as rg\n",
    "\n",
    "ds_ppo = rg.FeedbackDataset.for_proximal_policy_optimization(\n",
    "    rating_scale=7,\n",
    "    context=True,\n",
    "    use_markdown=True,\n",
    "    guidelines=None,\n",
    "    metadata_properties=None,\n",
    "    vectors_settings=None,\n",
    ")\n",
    "# FeedbackDataset(\n",
    "#     fields=[\n",
    "#         TextField(name=\"prompt\", use_markdown=True),\n",
    "#         TextField(name=\"context\", use_markdown=True)\n",
    "#     ],\n",
    "#     questions=[\n",
    "#         TextQuestion(name=\"response\", use_markdown=True)\n",
    "#     ],\n",
    "#     guidelines=\"<Guidelines for the task>\",\n",
    "#     metadata_properties=\"<Metadata Properties>\",\n",
    "#     vectors_settings=\"<Vectors Settings>\",\n",
    "# )\n",
    "ppo_rec = FeedbackRecord(\n",
    "    fields={\n",
    "        \"prompt\":\"This is the prompt to the model\",\n",
    "        \"context\": \"This is the context given\"\n",
    "    }\n",
    ")\n",
    "\n",
    "ds_ppo.add_records(ppo_rec)\n",
    "ds_ppo.push_to_argilla(\"ds_ppo\", hfgilla)"
   ]
  },
  {
   "cell_type": "code",
   "execution_count": null,
   "metadata": {},
   "outputs": [],
   "source": [
    "import argilla as rg\n",
    "\n",
    "ds_dpo = rg.FeedbackDataset.for_direct_preference_optimization(\n",
    "    number_of_responses=2,\n",
    "    context=False,\n",
    "    use_markdown=True,\n",
    "    guidelines=None,\n",
    "    metadata_properties=None,\n",
    "    vectors_settings=None,\n",
    ")\n",
    "# FeedbackDataset(\n",
    "#     fields=[\n",
    "#         TextField(name=\"prompt\", use_markdown=True),\n",
    "#         TextField(name=\"context\", use_markdown=True),\n",
    "#         TextField(name=\"response1\", use_markdown=True),\n",
    "#         TextField(name=\"response2\", use_markdown=True),\n",
    "#     ],\n",
    "#     questions=[\n",
    "#         RankingQuestion(name=\"preference\", values=[\"Response 1\", \"Response 2\"])\n",
    "#     ],\n",
    "#     guidelines=\"<Guidelines for the task>\",\n",
    "#     metadata_properties=\"<Metadata Properties>\",\n",
    "#     vectors_settings=\"<Vectors Settings>\",\n",
    "# )\n",
    "dpo_rec = FeedbackRecord(\n",
    "    fields={\n",
    "        \"prompt\":\"This is the prompt\",\n",
    "        \"context\":\"This is the context\",\n",
    "        \"response1\":\"This is the response1\",\n",
    "        \"response2\":\"This is the response2\",\n",
    "    }\n",
    ")\n",
    "ds_dpo.add_records([dpo_rec])\n",
    "ds_dpo.push_to_argilla('ds_dpo', hfgilla)"
   ]
  },
  {
   "cell_type": "code",
   "execution_count": null,
   "metadata": {},
   "outputs": [],
   "source": [
    "import argilla as rg\n",
    "\n",
    "ds = rg.FeedbackDataset.for_retrieval_augmented_generation(\n",
    "    number_of_retrievals=1,\n",
    "    rating_scale=7,\n",
    "    use_markdown=False,\n",
    "    guidelines=None,\n",
    "    metadata_properties=None,\n",
    "    vectors_settings=None,\n",
    ")\n",
    "ds_rag = FeedbackRecord(\n",
    "    fields={\n",
    "        \"query\":\"This is the question\",\n",
    "        \"retrieved_document_1\":\"Retrieved document one\",\n",
    "    }\n",
    ")\n",
    "ds.add_records([ds_rag])\n",
    "ds.push_to_argilla('ds_rag', hfgilla)\n",
    "# FeedbackDataset(\n",
    "#     fields=[\n",
    "#         TextField(name=\"query\", use_markdown=False),\n",
    "#         TextField(name=\"retrieved_document_1\", use_markdown=False),\n",
    "#     ],\n",
    "#     questions=[\n",
    "#         RatingQuestion(name=\"rating_retrieved_document_1\", values=[1, 2, 3, 4, 5, 6, 7]),\n",
    "#         TextQuestion(name=\"response\", use_markdown=False),\n",
    "#     ],\n",
    "#     guidelines=\"<Guidelines for the task>\",\n",
    "#     metadata_properties=\"<Metadata Properties>\",\n",
    "#     vectors_settings=\"<Vectors Settings>\",\n",
    "# )"
   ]
  },
  {
   "cell_type": "code",
   "execution_count": null,
   "metadata": {},
   "outputs": [],
   "source": [
    "import argilla as rg\n",
    "\n",
    "ds_mulclass = rg.FeedbackDataset.for_multi_modal_classification(\n",
    "    labels=[\"video\", \"audio\", \"image\"],\n",
    "    multi_label=False,\n",
    "    guidelines=None,\n",
    "    metadata_properties=None,\n",
    "    vectors_settings=None,\n",
    ")\n",
    "ds_rec = FeedbackRecord(\n",
    "    fields={\n",
    "        \"content\":\"THis is the content in different modality\"\n",
    "    }\n",
    ")\n",
    "ds_mulclass.add_records([ds_rec])\n",
    "ds_mulclass.push_to_argilla(\"ds_mulclass\", hfgilla)\n",
    "# FeedbackDataset(\n",
    "#     fields=[\n",
    "#         TextField(name=\"content\", use_markdown=True, required=True),\n",
    "#     ],\n",
    "#     questions=[\n",
    "#         LabelQuestion(name=\"label\", labels=[\"video\", \"audio\", \"image\"])\n",
    "#     ],\n",
    "#     guidelines=\"<Guidelines for the task>\",\n",
    "#     metadata_properties=\"<Metadata Properties>\",\n",
    "#     vectors_settings=\"<Vectors Settings>\",\n",
    "# )"
   ]
  },
  {
   "cell_type": "code",
   "execution_count": null,
   "metadata": {},
   "outputs": [],
   "source": [
    "import argilla as rg\n",
    "\n",
    "ds_trans = rg.FeedbackDataset.for_multi_modal_transcription(\n",
    "    guidelines=None,\n",
    "    metadata_properties=None,\n",
    "    vectors_settings=None,\n",
    ")\n",
    "rec_trans = FeedbackRecord(\n",
    "    fields={\n",
    "        \"content\":\"THis is a multi modal transcription\"\n",
    "    }\n",
    ")\n",
    "ds_trans.add_records([rec_trans])\n",
    "ds_trans.push_to_argilla(\"ds_multrans\", hfgilla)\n",
    "# FeedbackDataset(\n",
    "#     fields=[\n",
    "#         TextField(name=\"content\", use_markdown=True, required=True),\n",
    "#     ],\n",
    "#     questions=[\n",
    "#         TextQuestion(name=\"description\", use_markdown=True, required=True)\n",
    "#     ],\n",
    "#     guidelines=\"<Guidelines for the task>\",\n",
    "#     metadata_properties=\"<Metadata Properties>\",\n",
    "#     vectors_settings=\"<Vectors Settings>\",\n",
    "# )"
   ]
  },
  {
   "cell_type": "markdown",
   "metadata": {},
   "source": [
    "**LabelQuestion:** These questions ask annotators to choose one label from a list of options. This type is useful for text classification tasks. In the UI, the labels of the LabelQuestion will have a rounded shape.\n",
    "\n",
    "**MultiLabelQuestion:** These questions ask annotators to choose all applicable labels from a list of options. This type is useful for multi-label text classification tasks. In the UI, the labels of the MultiLabelQuestion will have a squared shape.\n",
    "\n",
    "**RankingQuestion:** This question asks annotators to order a list of options. It is useful to gather information on the preference or relevance of a set of options. Ties are allowed and all options will need to be ranked.\n",
    "\n",
    "**RatingQuestion:** These questions require annotators to select one option from a list of integer values. This type is useful for collecting numerical scores.\n",
    "\n",
    "**SpanQuestion:** Here, annotators are asked to select a portion of the text of a specific field and apply a label to it. This type of question is useful for named entity recognition or information extraction tasks.\n",
    "\n",
    "**TextQuestion:** These questions offer annotators a free-text area where they can enter any text. This type is useful for collecting natural language data, such as corrections or explanations"
   ]
  },
  {
   "cell_type": "code",
   "execution_count": null,
   "metadata": {},
   "outputs": [],
   "source": [
    "from argilla import (\n",
    "    LabelQuestion,\n",
    "    MultiLabelQuestion,\n",
    "    RankingQuestion,\n",
    "    RatingQuestion,\n",
    "    TextQuestion\n",
    ")\n",
    "\n",
    "lq = LabelQuestion(\n",
    "    name=\"relevant\",\n",
    "    title=\"Is the response relevant for the given prompt?\",\n",
    "    labels={\"YES\": \"Yes\", \"NO\": \"No\"}, # or [\"YES\",\"NO\"]\n",
    "    required=True,\n",
    "    visible_labels=None\n",
    ")\n",
    "\n",
    "mlq = MultiLabelQuestion(\n",
    "    name=\"content_class\",\n",
    "    title=\"Does the response include any of the following?\",\n",
    "    description=\"Select all that apply\",\n",
    "    labels={\"hate\": \"Hate Speech\" , \"sexual\": \"Sexual content\", \"violent\": \"Violent content\", \"pii\": \"Personal information\", \"untruthful\": \"Untruthful info\", \"not_english\": \"Not English\", \"inappropriate\": \"Inappropriate content\"}, # or [\"hate\", \"sexual\", \"violent\", \"pii\", \"untruthful\", \"not_english\", \"inappropriate\"]\n",
    "    required=False,\n",
    "    visible_labels=4\n",
    ")\n",
    "\n",
    "rq = RankingQuestion(\n",
    "    name=\"preference\",\n",
    "    title=\"Order replies based on your preference\",\n",
    "    description=\"1 = best, 3 = worst. Ties are allowed.\",\n",
    "    required=True,\n",
    "    values={\"reply-1\": \"Reply 1\", \"reply-2\": \"Reply 2\", \"reply-3\": \"Reply 3\"} # or [\"reply-1\", \"reply-2\", \"reply-3\"]\n",
    ")\n",
    "\n",
    "raq = RatingQuestion(\n",
    "    name=\"quality\",\n",
    "    title=\"Rate the quality of the response:\",\n",
    "    description=\"1 = very bad - 5= very good\",\n",
    "    required=True,\n",
    "    values=[1, 2, 3, 4, 5]\n",
    ")\n",
    "\n",
    "tq = TextQuestion(\n",
    "    name=\"corrected-text\",\n",
    "    title=\"Provide a correction to the response:\",\n",
    "    required=False,\n",
    "    use_markdown=True\n",
    ")"
   ]
  },
  {
   "cell_type": "code",
   "execution_count": null,
   "metadata": {},
   "outputs": [],
   "source": [
    "from argilla import TextField\n",
    "ds_qtest = FeedbackDataset(\n",
    "    guidelines=None,\n",
    "    fields=[\n",
    "        TextField(name='prompt',required=True, use_markdown=True),\n",
    "    ],\n",
    "    metadata_properties=None,\n",
    "    vectors_settings=None,    \n",
    "    questions=[tq, raq, rq, mlq, lq]\n",
    ")"
   ]
  },
  {
   "cell_type": "code",
   "execution_count": null,
   "metadata": {},
   "outputs": [],
   "source": [
    "ds_qtest"
   ]
  },
  {
   "cell_type": "code",
   "execution_count": null,
   "metadata": {},
   "outputs": [],
   "source": [
    "test_rek = FeedbackRecord(\n",
    "    fields={\n",
    "        \"prompt\":\"This is for testing out\"\n",
    "    }\n",
    ")\n",
    "ds_qtest.add_records([test_rek])\n",
    "ds_qtest.push_to_argilla(\"ds_qtest\", hfgilla)"
   ]
  },
  {
   "cell_type": "code",
   "execution_count": null,
   "metadata": {},
   "outputs": [],
   "source": [
    "# types of meta data\n",
    "from argilla import (\n",
    "    TermsMetadataProperty,\n",
    "    IntegerMetadataProperty,\n",
    "    FloatMetadataProperty\n",
    ")\n",
    "\n",
    "terms_md = TermsMetadataProperty(\n",
    "    name=\"groups\",\n",
    "    title=\"Annotation groups\",\n",
    "    values=[\"group-a\", \"group-b\", \"group-c\"] #optional\n",
    ")\n",
    "\n",
    "ds_qtest.add_metadata_property(terms_md)\n",
    "\n",
    "int_md = IntegerMetadataProperty(\n",
    "    name=\"integer-metadata\",\n",
    "    title=\"Integers\",\n",
    "    min=0, #optional\n",
    "    max=100, #optional\n",
    "    visible_for_annotators=False\n",
    ")\n",
    "\n",
    "ds_qtest.add_metadata_property(int_md)\n",
    "\n",
    "fmd = FloatMetadataProperty(\n",
    "    name=\"float-metadata\",\n",
    "    title=\"Floats\",\n",
    "    min=-0.45, #optional\n",
    "    max=1000.34, #optional\n",
    "    visible_for_annotators=False\n",
    ")\n",
    "\n",
    "ds_qtest.add_metadata_property(fmd)"
   ]
  },
  {
   "cell_type": "code",
   "execution_count": null,
   "metadata": {},
   "outputs": [],
   "source": [
    "from argilla import VectorSettings\n",
    "# You can use the add_vector_settings method. \n",
    "vectors_settings=[\n",
    "    VectorSettings(\n",
    "        name=\"sentence_embeddings\",\n",
    "        dimensions=768,\n",
    "        title=\"Sentence Embeddings\" #optional\n",
    "    )\n",
    "],"
   ]
  },
  {
   "cell_type": "code",
   "execution_count": null,
   "metadata": {},
   "outputs": [],
   "source": [
    "dataset = rg.FeedbackDataset(\n",
    "    fields=[\n",
    "        rg.TextField(name=\"question\"),\n",
    "        rg.TextField(name=\"answer\"),\n",
    "    ],\n",
    "    questions=[\n",
    "        rg.RatingQuestion(\n",
    "            name=\"answer_quality\",\n",
    "            description=\"How would you rate the quality of the answer?\",\n",
    "            values=[1, 2, 3, 4, 5],\n",
    "        ),\n",
    "        rg.TextQuestion(\n",
    "            name=\"answer_correction\",\n",
    "            description=\"If you think the answer is not accurate, please, correct it.\",\n",
    "            required=False,\n",
    "        ),\n",
    "    ],\n",
    "    metadata_properties = [\n",
    "        rg.TermsMetadataProperty(\n",
    "            name=\"groups\",\n",
    "            title=\"Annotation groups\",\n",
    "            values=[\"group-a\", \"group-b\", \"group-c\"] #optional\n",
    "        ),\n",
    "        rg.FloatMetadataProperty(\n",
    "            name=\"temperature\",\n",
    "            min=-0, #optional\n",
    "            max=1, #optional\n",
    "            visible_for_annotators=False\n",
    "        )\n",
    "    ],\n",
    "    allow_extra_metadata = False,\n",
    "    vectors_settings=[\n",
    "        rg.VectorSettings(\n",
    "            name=\"sentence_embeddings\",\n",
    "            dimensions=768,\n",
    "            title=\"Sentence Embeddings\" #optional\n",
    "        )\n",
    "    ],\n",
    "    guidelines=\"Please, read the question carefully and try to answer it as accurately as possible.\"\n",
    ")"
   ]
  },
  {
   "cell_type": "code",
   "execution_count": null,
   "metadata": {},
   "outputs": [],
   "source": [
    "dataset.field_by_name(\"question\")\n",
    "# rg.TextField(name=\"question\")\n",
    "dataset.question_by_name(\"answer_quality\")\n",
    "# rg.RatingQuestion(\n",
    "#     name=\"answer_quality\",\n",
    "#     description=\"How would you rate the quality of the answer?\",\n",
    "#     values=[1, 2, 3, 4, 5],\n",
    "# )\n",
    "dataset.metadata_property_by_name(\"groups\")\n",
    "# rg.TermsMetadataProperty(\n",
    "#     name=\"groups\",\n",
    "#     title=\"Annotation groups\",\n",
    "#     values=[\"group-a\", \"group-b\", \"group-c\"]\n",
    "# )\n",
    "# rg.VectorSettings(\n",
    "#     name=\"sentence_embeddings\",\n",
    "#     title=\"Sentence Embeddings\",\n",
    "#     dimensions=768\n",
    "# )\n",
    "dataset.vector_settings_by_name(\"sentence_embeddings\")"
   ]
  },
  {
   "cell_type": "code",
   "execution_count": null,
   "metadata": {},
   "outputs": [],
   "source": [
    "remote_dataset = dataset.push_to_argilla(name=\"fulds\", workspace=hfgilla)"
   ]
  },
  {
   "cell_type": "code",
   "execution_count": null,
   "metadata": {},
   "outputs": [],
   "source": [
    "# updating details..\n",
    "dataset = rg.FeedbackDataset(...)\n",
    "\n",
    "new_fields=[\n",
    "    TextField(),\n",
    "    TextField(),\n",
    "]\n",
    "\n",
    "dataset.fields.extend(new_fields)\n",
    "# Remove a non-required field\n",
    "dataset.fields.pop(0)\n",
    "\n",
    "# Add new questions\n",
    "new_questions=[\n",
    "    LabelQuestion(),\n",
    "    MultiLabelQuestion(),\n",
    "]\n",
    "\n",
    "dataset.questions.extend(new_questions)\n",
    "\n",
    "# Remove a non-required question\n",
    "dataset.questions.pop(0)\n",
    "\n",
    "# Add metadata properties\n",
    "metadata = TermsMetadataProperty(name=\"my_metadata\", values=[\"like\", \"dislike\"])\n",
    "dataset.add_metadata_property(metadata)\n",
    "\n",
    "# Change metadata properties title\n",
    "metadata_cfg = dataset.metadata_property_by_name(\"my_metadata\")\n",
    "metadata_cfg.title = \"Likes\"\n",
    "dataset.update_metadata_properties(metadata_cfg)\n",
    "\n",
    "# Delete a metadata property\n",
    "dataset.delete_metadata_properties(metadata_properties=\"my_metadata\")\n",
    "\n",
    "# Add vector settings to the dataset\n",
    "dataset.add_vector_settings(VectorSettings(name=\"my_vectors\", dimensions=786))\n",
    "\n",
    "# Change vector settings title\n",
    "vector_cfg = ds.vector_settings_by_name(\"my_vectors\")\n",
    "vector_cfg.title = \"Old vectors\"\n",
    "dataset.update_vectors_settings(vector_cfg)\n",
    "\n",
    "# Delete vector settings\n",
    "dataset.delete_vectors_settings(\"my_vectors\")\n",
    "\n",
    "# Define new guidelines for a question\n",
    "dataset.questions[0].description = 'New description for the question.'"
   ]
  },
  {
   "cell_type": "markdown",
   "metadata": {},
   "source": [
    "### Dive into Feedback Records"
   ]
  },
  {
   "cell_type": "code",
   "execution_count": null,
   "metadata": {},
   "outputs": [],
   "source": [
    "record = rg.FeedbackRecord(\n",
    "    fields={\n",
    "        \"question\": \"Why can camels survive long without water?\",\n",
    "        \"answer\": \"Camels use the fat in their humps to keep them filled with energy and hydration for long periods.\"\n",
    "    },\n",
    "    metadata={\"source\": \"encyclopedia\"},\n",
    "    vectors={\"my_vector\": [...], \"my_other_vector\": [...]},\n",
    "    suggestions = [\n",
    "        {\n",
    "            \"question_name\": \"corrected-answer\",\n",
    "            \"value\": \"This is a *suggestion*.\",\n",
    "        }\n",
    "    ]\n",
    "    responses = [\n",
    "        {\n",
    "            \"values\":{\n",
    "                \"corrected-text\":{\n",
    "                    \"value\": \"This is a *response*.\"\n",
    "                }\n",
    "            }\n",
    "        }\n",
    "    ]\n",
    "    external_id=None\n",
    ")"
   ]
  },
  {
   "cell_type": "code",
   "execution_count": null,
   "metadata": {},
   "outputs": [],
   "source": [
    "from argilla import (\n",
    "    FeedbackRecord,\n",
    ")\n",
    "\n",
    "# single Metadata\n",
    "record = rg.FeedbackRecord(\n",
    "    fields={...},\n",
    "    metadata={\"source\": \"encyclopedia\", \"text_length\":150}\n",
    ")"
   ]
  },
  {
   "cell_type": "code",
   "execution_count": null,
   "metadata": {},
   "outputs": [],
   "source": [
    "# multi metadata\n",
    "record = rg.FeedbackRecord(\n",
    "    fields={...},\n",
    "    metadata={\"source\": [\"encyclopedia\", \"wikipedia\"], \"text_length\":150}\n",
    ")"
   ]
  },
  {
   "cell_type": "code",
   "execution_count": null,
   "metadata": {},
   "outputs": [],
   "source": [
    "# Label\n",
    "record = rg.FeedbackRecord(\n",
    "    fields=...,\n",
    "    suggestions = [\n",
    "        {\n",
    "            \"question_name\": \"relevant\",\n",
    "            \"value\": \"YES\",\n",
    "        }\n",
    "    ]\n",
    ")\n",
    "\n",
    "# Multi-label\n",
    "record = rg.FeedbackRecord(\n",
    "    fields=...,\n",
    "    suggestions = [\n",
    "        {\n",
    "            \"question_name\": \"content_class\",\n",
    "            \"value\": [\"hate\", \"violent\"]\n",
    "        }\n",
    "    ]\n",
    ")\n",
    "\n",
    "# Ranking\n",
    "record = rg.FeedbackRecord(\n",
    "    fields=...,\n",
    "    suggestions = [\n",
    "        {\n",
    "            \"question_name\": \"preference\",\n",
    "            \"value\":[\n",
    "                {\"rank\": 1, \"value\": \"reply-2\"},\n",
    "                {\"rank\": 2, \"value\": \"reply-1\"},\n",
    "                {\"rank\": 3, \"value\": \"reply-3\"},\n",
    "            ],\n",
    "        }\n",
    "    ]\n",
    ")\n",
    "\n",
    "# Rating\n",
    "record = rg.FeedbackRecord(\n",
    "    fields=...,\n",
    "    suggestions = [\n",
    "        {\n",
    "            \"question_name\": \"quality\",\n",
    "            \"value\": 5,\n",
    "        }\n",
    "    ]\n",
    ")\n",
    "# text\n",
    "record = rg.FeedbackRecord(\n",
    "    fields=...,\n",
    "    suggestions = [\n",
    "        {\n",
    "            \"question_name\": \"corrected-text\",\n",
    "            \"value\": \"This is a *suggestion*.\",\n",
    "        }\n",
    "    ]\n",
    ")"
   ]
  },
  {
   "cell_type": "code",
   "execution_count": null,
   "metadata": {},
   "outputs": [],
   "source": [
    "# different types of responses\n",
    "\n",
    "record = rg.FeedbackRecord(\n",
    "    fields=...,\n",
    "    responses = [\n",
    "        {\n",
    "            \"values\":{\n",
    "                \"relevant\":{\n",
    "                    \"value\": \"YES\"\n",
    "                }\n",
    "            }\n",
    "        }\n",
    "    ]\n",
    ")\n",
    "\n",
    "record = rg.FeedbackRecord(\n",
    "    fields=...,\n",
    "    responses = [\n",
    "        {\n",
    "            \"values\":{\n",
    "                \"content_class\":{\n",
    "                    \"value\": [\"hate\", \"violent\"]\n",
    "                }\n",
    "            }\n",
    "        }\n",
    "    ]\n",
    ")\n",
    "\n",
    "record = rg.FeedbackRecord(\n",
    "    fields=...,\n",
    "    responses = [\n",
    "        {\n",
    "            \"values\":{\n",
    "                \"preference\":{\n",
    "                    \"value\":[\n",
    "                        {\"rank\": 1, \"value\": \"reply-2\"},\n",
    "                        {\"rank\": 2, \"value\": \"reply-1\"},\n",
    "                        {\"rank\": 3, \"value\": \"reply-3\"},\n",
    "                    ],\n",
    "                }\n",
    "            }\n",
    "        }\n",
    "    ]\n",
    ")\n",
    "\n",
    "record = rg.FeedbackRecord(\n",
    "    fields=...,\n",
    "    responses = [\n",
    "        {\n",
    "            \"values\":{\n",
    "                \"quality\":{\n",
    "                    \"value\": 5\n",
    "                }\n",
    "            }\n",
    "        }\n",
    "    ]\n",
    ")\n",
    "\n",
    "record = rg.FeedbackRecord(\n",
    "    fields=...,\n",
    "    responses = [\n",
    "        {\n",
    "            \"values\":{\n",
    "                \"corrected-text\":{\n",
    "                    \"value\": \"This is a *response*.\"\n",
    "                }\n",
    "            }\n",
    "        }\n",
    "    ]\n",
    ")"
   ]
  },
  {
   "cell_type": "code",
   "execution_count": 77,
   "metadata": {},
   "outputs": [
    {
     "name": "stderr",
     "output_type": "stream",
     "text": [
      "Downloading readme: 100%|██████████| 8.20k/8.20k [00:00<00:00, 4.11MB/s]\n",
      "Downloading data: 100%|██████████| 13.1M/13.1M [00:05<00:00, 2.32MB/s]\n",
      "Generating train split: 15011 examples [00:00, 70826.71 examples/s]\n"
     ]
    },
    {
     "data": {
      "text/html": [
       "<div>\n",
       "<style scoped>\n",
       "    .dataframe tbody tr th:only-of-type {\n",
       "        vertical-align: middle;\n",
       "    }\n",
       "\n",
       "    .dataframe tbody tr th {\n",
       "        vertical-align: top;\n",
       "    }\n",
       "\n",
       "    .dataframe thead th {\n",
       "        text-align: right;\n",
       "    }\n",
       "</style>\n",
       "<table border=\"1\" class=\"dataframe\">\n",
       "  <thead>\n",
       "    <tr style=\"text-align: right;\">\n",
       "      <th></th>\n",
       "      <th>instruction</th>\n",
       "      <th>context</th>\n",
       "      <th>response</th>\n",
       "      <th>category</th>\n",
       "    </tr>\n",
       "  </thead>\n",
       "  <tbody>\n",
       "    <tr>\n",
       "      <th>0</th>\n",
       "      <td>When did Virgin Australia start operating?</td>\n",
       "      <td>Virgin Australia, the trading name of Virgin A...</td>\n",
       "      <td>Virgin Australia commenced services on 31 Augu...</td>\n",
       "      <td>closed_qa</td>\n",
       "    </tr>\n",
       "    <tr>\n",
       "      <th>1</th>\n",
       "      <td>Which is a species of fish? Tope or Rope</td>\n",
       "      <td></td>\n",
       "      <td>Tope</td>\n",
       "      <td>classification</td>\n",
       "    </tr>\n",
       "    <tr>\n",
       "      <th>2</th>\n",
       "      <td>Why can camels survive for long without water?</td>\n",
       "      <td></td>\n",
       "      <td>Camels use the fat in their humps to keep them...</td>\n",
       "      <td>open_qa</td>\n",
       "    </tr>\n",
       "    <tr>\n",
       "      <th>3</th>\n",
       "      <td>Alice's parents have three daughters: Amy, Jes...</td>\n",
       "      <td></td>\n",
       "      <td>The name of the third daughter is Alice</td>\n",
       "      <td>open_qa</td>\n",
       "    </tr>\n",
       "    <tr>\n",
       "      <th>4</th>\n",
       "      <td>When was Tomoaki Komorida born?</td>\n",
       "      <td>Komorida was born in Kumamoto Prefecture on Ju...</td>\n",
       "      <td>Tomoaki Komorida was born on July 10,1981.</td>\n",
       "      <td>closed_qa</td>\n",
       "    </tr>\n",
       "    <tr>\n",
       "      <th>...</th>\n",
       "      <td>...</td>\n",
       "      <td>...</td>\n",
       "      <td>...</td>\n",
       "      <td>...</td>\n",
       "    </tr>\n",
       "    <tr>\n",
       "      <th>15006</th>\n",
       "      <td>How do i accept the change</td>\n",
       "      <td></td>\n",
       "      <td>Embrace the change and see the difference</td>\n",
       "      <td>brainstorming</td>\n",
       "    </tr>\n",
       "    <tr>\n",
       "      <th>15007</th>\n",
       "      <td>What is a laser and who created it?</td>\n",
       "      <td>A laser is a device that emits light through a...</td>\n",
       "      <td>A laser is a device that emits light from an e...</td>\n",
       "      <td>summarization</td>\n",
       "    </tr>\n",
       "    <tr>\n",
       "      <th>15008</th>\n",
       "      <td>What is the difference between a road bike and...</td>\n",
       "      <td></td>\n",
       "      <td>Road bikes are built to be ridden on asphalt a...</td>\n",
       "      <td>open_qa</td>\n",
       "    </tr>\n",
       "    <tr>\n",
       "      <th>15009</th>\n",
       "      <td>How does GIS help in the real estate investmen...</td>\n",
       "      <td></td>\n",
       "      <td>Real estate investors depend on precise, accur...</td>\n",
       "      <td>general_qa</td>\n",
       "    </tr>\n",
       "    <tr>\n",
       "      <th>15010</th>\n",
       "      <td>What is the Masters?</td>\n",
       "      <td></td>\n",
       "      <td>The Masters Tournament is a golf tournament he...</td>\n",
       "      <td>general_qa</td>\n",
       "    </tr>\n",
       "  </tbody>\n",
       "</table>\n",
       "<p>15011 rows × 4 columns</p>\n",
       "</div>"
      ],
      "text/plain": [
       "                                             instruction  \\\n",
       "0             When did Virgin Australia start operating?   \n",
       "1               Which is a species of fish? Tope or Rope   \n",
       "2         Why can camels survive for long without water?   \n",
       "3      Alice's parents have three daughters: Amy, Jes...   \n",
       "4                        When was Tomoaki Komorida born?   \n",
       "...                                                  ...   \n",
       "15006                         How do i accept the change   \n",
       "15007                What is a laser and who created it?   \n",
       "15008  What is the difference between a road bike and...   \n",
       "15009  How does GIS help in the real estate investmen...   \n",
       "15010                               What is the Masters?   \n",
       "\n",
       "                                                 context  \\\n",
       "0      Virgin Australia, the trading name of Virgin A...   \n",
       "1                                                          \n",
       "2                                                          \n",
       "3                                                          \n",
       "4      Komorida was born in Kumamoto Prefecture on Ju...   \n",
       "...                                                  ...   \n",
       "15006                                                      \n",
       "15007  A laser is a device that emits light through a...   \n",
       "15008                                                      \n",
       "15009                                                      \n",
       "15010                                                      \n",
       "\n",
       "                                                response        category  \n",
       "0      Virgin Australia commenced services on 31 Augu...       closed_qa  \n",
       "1                                                   Tope  classification  \n",
       "2      Camels use the fat in their humps to keep them...         open_qa  \n",
       "3                The name of the third daughter is Alice         open_qa  \n",
       "4             Tomoaki Komorida was born on July 10,1981.       closed_qa  \n",
       "...                                                  ...             ...  \n",
       "15006          Embrace the change and see the difference   brainstorming  \n",
       "15007  A laser is a device that emits light from an e...   summarization  \n",
       "15008  Road bikes are built to be ridden on asphalt a...         open_qa  \n",
       "15009  Real estate investors depend on precise, accur...      general_qa  \n",
       "15010  The Masters Tournament is a golf tournament he...      general_qa  \n",
       "\n",
       "[15011 rows x 4 columns]"
      ]
     },
     "execution_count": 77,
     "metadata": {},
     "output_type": "execute_result"
    }
   ],
   "source": [
    "from datasets import load_dataset\n",
    "\n",
    "# Load and inspect a dataset from the Hugging Face Hub\n",
    "hf_dataset = load_dataset('databricks/databricks-dolly-15k', split='train')\n",
    "df = hf_dataset.to_pandas()\n",
    "df"
   ]
  },
  {
   "cell_type": "code",
   "execution_count": 90,
   "metadata": {},
   "outputs": [],
   "source": [
    "dataset = rg.FeedbackDataset.from_argilla(name=\"ds_qa\", workspace=hfgilla)"
   ]
  },
  {
   "cell_type": "code",
   "execution_count": 91,
   "metadata": {},
   "outputs": [
    {
     "data": {
      "text/plain": [
       "[RemoteTextField(id=UUID('ccfa611d-043e-4d62-a71d-8385e3899e46'), client=None, name='question', title='Question', required=True, type='text', use_markdown=True),\n",
       " RemoteTextField(id=UUID('df5a1ca3-db06-4b5b-95c7-22e6d172c49b'), client=None, name='context', title='Context', required=True, type='text', use_markdown=True)]"
      ]
     },
     "execution_count": 91,
     "metadata": {},
     "output_type": "execute_result"
    }
   ],
   "source": [
    "dataset.fields"
   ]
  },
  {
   "cell_type": "code",
   "execution_count": 85,
   "metadata": {},
   "outputs": [],
   "source": [
    "extend_field = TextField(name='answer', required=True, use_markdown=True)\n",
    "dataset.fields.extend(extend_field)"
   ]
  },
  {
   "cell_type": "code",
   "execution_count": 92,
   "metadata": {},
   "outputs": [
    {
     "data": {
      "text/plain": [
       "[RemoteTextField(id=UUID('ccfa611d-043e-4d62-a71d-8385e3899e46'), client=None, name='question', title='Question', required=True, type='text', use_markdown=True),\n",
       " RemoteTextField(id=UUID('df5a1ca3-db06-4b5b-95c7-22e6d172c49b'), client=None, name='context', title='Context', required=True, type='text', use_markdown=True)]"
      ]
     },
     "execution_count": 92,
     "metadata": {},
     "output_type": "execute_result"
    }
   ],
   "source": [
    "dataset.fields"
   ]
  },
  {
   "cell_type": "code",
   "execution_count": 97,
   "metadata": {},
   "outputs": [],
   "source": [
    "records = [\n",
    "    rg.FeedbackRecord(\n",
    "        fields={\"question\": record[\"instruction\"], \"context\": record[\"response\"]}\n",
    "    )\n",
    "    for record in hf_dataset if record[\"category\"]==\"open_qa\"\n",
    "]"
   ]
  },
  {
   "cell_type": "code",
   "execution_count": 98,
   "metadata": {},
   "outputs": [
    {
     "data": {
      "text/html": [
       "<pre style=\"white-space:pre;overflow-x:auto;line-height:normal;font-family:Menlo,'DejaVu Sans Mono',consolas,'Courier New',monospace\">d:\\argenv\\Lib\\site-packages\\rich\\live.py:231: UserWarning: install \"ipywidgets\" for Jupyter support\n",
       "  warnings.warn('install \"ipywidgets\" for Jupyter support')\n",
       "</pre>\n"
      ],
      "text/plain": [
       "d:\\argenv\\Lib\\site-packages\\rich\\live.py:231: UserWarning: install \"ipywidgets\" for Jupyter support\n",
       "  warnings.warn('install \"ipywidgets\" for Jupyter support')\n"
      ]
     },
     "metadata": {},
     "output_type": "display_data"
    },
    {
     "data": {
      "text/html": [
       "<pre style=\"white-space:pre;overflow-x:auto;line-height:normal;font-family:Menlo,'DejaVu Sans Mono',consolas,'Courier New',monospace\"></pre>\n"
      ],
      "text/plain": []
     },
     "metadata": {},
     "output_type": "display_data"
    },
    {
     "data": {
      "text/html": [
       "<pre style=\"white-space:pre;overflow-x:auto;line-height:normal;font-family:Menlo,'DejaVu Sans Mono',consolas,'Courier New',monospace\">\n",
       "</pre>\n"
      ],
      "text/plain": [
       "\n"
      ]
     },
     "metadata": {},
     "output_type": "display_data"
    }
   ],
   "source": [
    "dataset.add_records(records)"
   ]
  }
 ],
 "metadata": {
  "kernelspec": {
   "display_name": "argenv",
   "language": "python",
   "name": "python3"
  },
  "language_info": {
   "codemirror_mode": {
    "name": "ipython",
    "version": 3
   },
   "file_extension": ".py",
   "mimetype": "text/x-python",
   "name": "python",
   "nbconvert_exporter": "python",
   "pygments_lexer": "ipython3",
   "version": "3.11.4"
  }
 },
 "nbformat": 4,
 "nbformat_minor": 2
}
