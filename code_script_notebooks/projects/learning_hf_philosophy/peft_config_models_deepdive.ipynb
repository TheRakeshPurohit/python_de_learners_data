{
 "cells": [
  {
   "cell_type": "code",
   "execution_count": 4,
   "id": "30d676ef-c5c3-45b1-8112-61a58ac0ad7a",
   "metadata": {},
   "outputs": [],
   "source": [
    "LoraConfig = {\n",
    "  \"base_model_name_or_path\": \"facebook/opt-350m\", # base model to apply LoRA to\n",
    "  \"bias\": \"none\",\n",
    "  \"fan_in_fan_out\": False,\n",
    "  \"inference_mode\": True,\n",
    "  \"init_lora_weights\": True,\n",
    "  \"layers_pattern\": None,\n",
    "  \"layers_to_transform\": None,\n",
    "  \"lora_alpha\": 32,\n",
    "  \"lora_dropout\": 0.05,\n",
    "  \"modules_to_save\": None,\n",
    "  \"peft_type\": \"LORA\", # PEFT method type\n",
    "  \"r\": 16,\n",
    "  \"revision\": None,\n",
    "  \"target_modules\": [\n",
    "    \"q_proj\", #  #model modules to apply LoRA to (query and value projection layers)\n",
    "    \"v_proj\"\n",
    "  ],\n",
    "  \"task_type\": \"CAUSAL_LM\"\n",
    "}"
   ]
  },
  {
   "cell_type": "code",
   "execution_count": 6,
   "id": "e8ce4aa3-2c9e-46d0-bb81-a6be7f1a619d",
   "metadata": {},
   "outputs": [],
   "source": [
    "promptEncoderConfig = {\n",
    "  \"base_model_name_or_path\": \"roberta-large\", # base model to apply p-tuning to\n",
    "  \"encoder_dropout\": 0.0,\n",
    "  \"encoder_hidden_size\": 128,\n",
    "  \"encoder_num_layers\": 2,\n",
    "  \"encoder_reparameterization_type\": \"MLP\",\n",
    "  \"inference_mode\": True,\n",
    "  \"num_attention_heads\": 16,\n",
    "  \"num_layers\": 24,\n",
    "  \"num_transformer_submodules\": 1,\n",
    "  \"num_virtual_tokens\": 20,\n",
    "  \"peft_type\": \"P_TUNING\", # PEFT method type\n",
    "  \"task_type\": \"SEQ_CLS\", # type of task to train model on\n",
    "  \"token_dim\": 1024\n",
    "}"
   ]
  },
  {
   "cell_type": "code",
   "execution_count": 7,
   "id": "9d9a1359-b1ae-4a41-8e31-86258266e3ed",
   "metadata": {},
   "outputs": [],
   "source": [
    "from peft import (\n",
    "    PromptEmbedding,\n",
    "    PromptEncoder,\n",
    "    PromptEncoderConfig,\n",
    "    PromptEncoderReparameterizationType,\n",
    "    PromptLearningConfig,\n",
    "    PromptTuningConfig,\n",
    "    TaskType\n",
    ")"
   ]
  },
  {
   "cell_type": "code",
   "execution_count": 10,
   "id": "25546c69-840a-44e9-9384-f12d5fb493c4",
   "metadata": {},
   "outputs": [],
   "source": [
    "p_tuning_config = PromptEncoderConfig(\n",
    "    base_model_name_or_path= \"facebook/opt-350m\",\n",
    "    task_type = TaskType.SEQ_CLS,\n",
    "    num_virtual_tokens = 20,\n",
    "    num_transformer_submodules = 1,\n",
    "    num_attention_heads = 16,\n",
    "    num_layers = 24,\n",
    "    encoder_reparameterization_type = 'MLP',\n",
    "    encoder_hidden_size = 128,\n",
    ")"
   ]
  },
  {
   "cell_type": "code",
   "execution_count": 11,
   "id": "0a697dcd-ee7e-40da-a513-c19a8358ffcd",
   "metadata": {},
   "outputs": [],
   "source": [
    "from transformers import AutoModelForCausalLM\n",
    "model = AutoModelForCausalLM.from_pretrained(\"facebook/opt-350m\")"
   ]
  },
  {
   "cell_type": "code",
   "execution_count": 13,
   "id": "22c3290e-4826-4143-97c9-7d0d419b361e",
   "metadata": {},
   "outputs": [],
   "source": [
    "from peft import get_peft_model\n",
    "\n",
    "lora_model = get_peft_model(model, p_tuning_config) # this way of model is loaded using config"
   ]
  },
  {
   "cell_type": "code",
   "execution_count": 14,
   "id": "b181cfaf-7810-4422-8dac-7842e5b08405",
   "metadata": {},
   "outputs": [
    {
     "name": "stdout",
     "output_type": "stream",
     "text": [
      "trainable params: 300,288 || all params: 331,496,704 || trainable%: 0.09058551604784583\n"
     ]
    }
   ],
   "source": [
    "lora_model.print_trainable_parameters()"
   ]
  },
  {
   "cell_type": "code",
   "execution_count": 15,
   "id": "afd763f4-de46-4d80-9681-9896d4a71d88",
   "metadata": {},
   "outputs": [],
   "source": [
    "lora_model.save_pretrained(\"/home/kamal/training_files/opt-350m-lora\")"
   ]
  },
  {
   "cell_type": "code",
   "execution_count": 16,
   "id": "220046fd-2109-4239-9044-66dc563bf33a",
   "metadata": {},
   "outputs": [],
   "source": [
    "from peft import PeftModel\n",
    "lora_model_reload = PeftModel.from_pretrained(model, \n",
    "                                              \"/home/kamal/training_files/opt-350m-lora/\")"
   ]
  },
  {
   "cell_type": "code",
   "execution_count": 21,
   "id": "2d03621d-21f1-4af3-9092-0f3b5d2d0951",
   "metadata": {
    "scrolled": true
   },
   "outputs": [
    {
     "data": {
      "text/plain": [
       "OPTForCausalLM(\n",
       "  (model): OPTModel(\n",
       "    (decoder): OPTDecoder(\n",
       "      (embed_tokens): Embedding(50272, 512, padding_idx=1)\n",
       "      (embed_positions): OPTLearnedPositionalEmbedding(2050, 1024)\n",
       "      (project_out): Linear(in_features=1024, out_features=512, bias=False)\n",
       "      (project_in): Linear(in_features=512, out_features=1024, bias=False)\n",
       "      (layers): ModuleList(\n",
       "        (0-23): 24 x OPTDecoderLayer(\n",
       "          (self_attn): OPTAttention(\n",
       "            (k_proj): Linear(in_features=1024, out_features=1024, bias=True)\n",
       "            (v_proj): Linear(in_features=1024, out_features=1024, bias=True)\n",
       "            (q_proj): Linear(in_features=1024, out_features=1024, bias=True)\n",
       "            (out_proj): Linear(in_features=1024, out_features=1024, bias=True)\n",
       "          )\n",
       "          (activation_fn): ReLU()\n",
       "          (self_attn_layer_norm): LayerNorm((1024,), eps=1e-05, elementwise_affine=True)\n",
       "          (fc1): Linear(in_features=1024, out_features=4096, bias=True)\n",
       "          (fc2): Linear(in_features=4096, out_features=1024, bias=True)\n",
       "          (final_layer_norm): LayerNorm((1024,), eps=1e-05, elementwise_affine=True)\n",
       "        )\n",
       "      )\n",
       "    )\n",
       "  )\n",
       "  (lm_head): Linear(in_features=512, out_features=50272, bias=False)\n",
       ")"
      ]
     },
     "execution_count": 21,
     "metadata": {},
     "output_type": "execute_result"
    }
   ],
   "source": [
    "model.to('cuda')"
   ]
  },
  {
   "cell_type": "code",
   "execution_count": 20,
   "id": "d89323c1-13d8-4749-99a7-b50647597a28",
   "metadata": {
    "scrolled": true
   },
   "outputs": [
    {
     "data": {
      "text/plain": [
       "PeftModelForSequenceClassification(\n",
       "  (base_model): OPTForCausalLM(\n",
       "    (model): OPTModel(\n",
       "      (decoder): OPTDecoder(\n",
       "        (embed_tokens): Embedding(50272, 512, padding_idx=1)\n",
       "        (embed_positions): OPTLearnedPositionalEmbedding(2050, 1024)\n",
       "        (project_out): Linear(in_features=1024, out_features=512, bias=False)\n",
       "        (project_in): Linear(in_features=512, out_features=1024, bias=False)\n",
       "        (layers): ModuleList(\n",
       "          (0-23): 24 x OPTDecoderLayer(\n",
       "            (self_attn): OPTAttention(\n",
       "              (k_proj): Linear(in_features=1024, out_features=1024, bias=True)\n",
       "              (v_proj): Linear(in_features=1024, out_features=1024, bias=True)\n",
       "              (q_proj): Linear(in_features=1024, out_features=1024, bias=True)\n",
       "              (out_proj): Linear(in_features=1024, out_features=1024, bias=True)\n",
       "            )\n",
       "            (activation_fn): ReLU()\n",
       "            (self_attn_layer_norm): LayerNorm((1024,), eps=1e-05, elementwise_affine=True)\n",
       "            (fc1): Linear(in_features=1024, out_features=4096, bias=True)\n",
       "            (fc2): Linear(in_features=4096, out_features=1024, bias=True)\n",
       "            (final_layer_norm): LayerNorm((1024,), eps=1e-05, elementwise_affine=True)\n",
       "          )\n",
       "        )\n",
       "      )\n",
       "    )\n",
       "    (lm_head): Linear(in_features=512, out_features=50272, bias=False)\n",
       "  )\n",
       "  (prompt_encoder): ModuleDict(\n",
       "    (default): PromptEncoder(\n",
       "      (embedding): Embedding(20, 1024)\n",
       "    )\n",
       "  )\n",
       "  (word_embeddings): Embedding(50272, 512, padding_idx=1)\n",
       ")"
      ]
     },
     "execution_count": 20,
     "metadata": {},
     "output_type": "execute_result"
    }
   ],
   "source": [
    "lora_model_reload.to('cuda')"
   ]
  },
  {
   "cell_type": "code",
   "execution_count": 23,
   "id": "b5bb4533-4ad2-43ac-8416-cede9d2cb602",
   "metadata": {},
   "outputs": [],
   "source": [
    "from torch import nn\n",
    "\n",
    "class MLP(nn.Module):\n",
    "    def __init__(self, num_hidden_units=2000):\n",
    "        super().__init__()\n",
    "        self.seq = nn.Sequential(\n",
    "            nn.Linear(20, num_hidden_units),\n",
    "            nn.ReLU(),\n",
    "            nn.Linear(num_hidden_units, num_hidden_units),\n",
    "            nn.ReLU(),\n",
    "            nn.Linear(num_hidden_units, 2),\n",
    "            nn.LogSoftmax(dim=-1)\n",
    "        )\n",
    "    def forward(self, X):\n",
    "        return self.seq(X)"
   ]
  },
  {
   "cell_type": "code",
   "execution_count": 24,
   "id": "27a5382a-233a-4fcc-afe9-0687cec07523",
   "metadata": {},
   "outputs": [
    {
     "name": "stdout",
     "output_type": "stream",
     "text": [
      "[('', <class '__main__.MLP'>), ('seq', <class 'torch.nn.modules.container.Sequential'>), ('seq.0', <class 'torch.nn.modules.linear.Linear'>), ('seq.1', <class 'torch.nn.modules.activation.ReLU'>), ('seq.2', <class 'torch.nn.modules.linear.Linear'>), ('seq.3', <class 'torch.nn.modules.activation.ReLU'>), ('seq.4', <class 'torch.nn.modules.linear.Linear'>), ('seq.5', <class 'torch.nn.modules.activation.LogSoftmax'>)]\n"
     ]
    }
   ],
   "source": [
    "print([(n, type(m)) for n, m in MLP().named_modules()])"
   ]
  },
  {
   "cell_type": "code",
   "execution_count": 25,
   "id": "f7a7c160-6ff8-48e5-b01a-10bf413872af",
   "metadata": {},
   "outputs": [],
   "source": [
    "from peft import LoraConfig\n",
    "\n",
    "config = LoraConfig(\n",
    "    target_modules=['seq.0', 'seq.2'],\n",
    "    modules_to_save=['seq.4']\n",
    ")"
   ]
  },
  {
   "cell_type": "code",
   "execution_count": 26,
   "id": "53766129-b918-47a6-b89a-665c127cf029",
   "metadata": {},
   "outputs": [
    {
     "name": "stdout",
     "output_type": "stream",
     "text": [
      "trainable params: 56,164 || all params: 4,100,164 || trainable%: 1.369798866581922\n"
     ]
    }
   ],
   "source": [
    "from peft import get_peft_model\n",
    "\n",
    "model = MLP()\n",
    "peft_model = get_peft_model(model, config)\n",
    "peft_model.print_trainable_parameters()"
   ]
  },
  {
   "cell_type": "code",
   "execution_count": 27,
   "id": "dff33e62-3e16-4dca-bfa7-4135226556a3",
   "metadata": {
    "scrolled": true
   },
   "outputs": [
    {
     "data": {
      "text/plain": [
       "PeftModel(\n",
       "  (base_model): LoraModel(\n",
       "    (model): MLP(\n",
       "      (seq): Sequential(\n",
       "        (0): Linear(\n",
       "          in_features=20, out_features=2000, bias=True\n",
       "          (lora_dropout): ModuleDict(\n",
       "            (default): Identity()\n",
       "          )\n",
       "          (lora_A): ModuleDict(\n",
       "            (default): Linear(in_features=20, out_features=8, bias=False)\n",
       "          )\n",
       "          (lora_B): ModuleDict(\n",
       "            (default): Linear(in_features=8, out_features=2000, bias=False)\n",
       "          )\n",
       "          (lora_embedding_A): ParameterDict()\n",
       "          (lora_embedding_B): ParameterDict()\n",
       "        )\n",
       "        (1): ReLU()\n",
       "        (2): Linear(\n",
       "          in_features=2000, out_features=2000, bias=True\n",
       "          (lora_dropout): ModuleDict(\n",
       "            (default): Identity()\n",
       "          )\n",
       "          (lora_A): ModuleDict(\n",
       "            (default): Linear(in_features=2000, out_features=8, bias=False)\n",
       "          )\n",
       "          (lora_B): ModuleDict(\n",
       "            (default): Linear(in_features=8, out_features=2000, bias=False)\n",
       "          )\n",
       "          (lora_embedding_A): ParameterDict()\n",
       "          (lora_embedding_B): ParameterDict()\n",
       "        )\n",
       "        (3): ReLU()\n",
       "        (4): ModulesToSaveWrapper(\n",
       "          (original_module): Linear(in_features=2000, out_features=2, bias=True)\n",
       "          (modules_to_save): ModuleDict(\n",
       "            (default): Linear(in_features=2000, out_features=2, bias=True)\n",
       "          )\n",
       "        )\n",
       "        (5): LogSoftmax(dim=-1)\n",
       "      )\n",
       "    )\n",
       "  )\n",
       ")"
      ]
     },
     "execution_count": 27,
     "metadata": {},
     "output_type": "execute_result"
    }
   ],
   "source": [
    "peft_model.to('cuda')"
   ]
  }
 ],
 "metadata": {
  "kernelspec": {
   "display_name": "Python 3 (ipykernel)",
   "language": "python",
   "name": "python3"
  },
  "language_info": {
   "codemirror_mode": {
    "name": "ipython",
    "version": 3
   },
   "file_extension": ".py",
   "mimetype": "text/x-python",
   "name": "python",
   "nbconvert_exporter": "python",
   "pygments_lexer": "ipython3",
   "version": "3.11.7"
  }
 },
 "nbformat": 4,
 "nbformat_minor": 5
}
