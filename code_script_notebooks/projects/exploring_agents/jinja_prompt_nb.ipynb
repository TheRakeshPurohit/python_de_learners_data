{
 "cells": [
  {
   "cell_type": "code",
   "execution_count": 20,
   "metadata": {},
   "outputs": [],
   "source": [
    "from jinja2 import (\n",
    "    Environment,\n",
    "    select_autoescape,\n",
    "    FileSystemLoader,\n",
    "    meta\n",
    ")"
   ]
  },
  {
   "cell_type": "code",
   "execution_count": 21,
   "metadata": {},
   "outputs": [],
   "source": [
    "env_template = Environment(\n",
    "    loader=FileSystemLoader('jinja_prompt'),\n",
    "    autoescape=select_autoescape\n",
    ")"
   ]
  },
  {
   "cell_type": "code",
   "execution_count": 22,
   "metadata": {},
   "outputs": [],
   "source": [
    "def get_required_vars(environ, template_file):\n",
    "    temp_source = environ.loader.get_source(environ,\n",
    "                                            template_file)\n",
    "    parsed_content = environ.parse(temp_source)\n",
    "    return meta.find_undeclared_variables(parsed_content)"
   ]
  },
  {
   "cell_type": "code",
   "execution_count": 23,
   "metadata": {},
   "outputs": [],
   "source": [
    "def load_render_template(environ,\n",
    "                         template_file,\n",
    "                         context):\n",
    "    template = environ.get_template(template_file)\n",
    "    return template.render(**context)"
   ]
  },
  {
   "cell_type": "code",
   "execution_count": 24,
   "metadata": {},
   "outputs": [
    {
     "data": {
      "text/plain": [
       "['code_extraction.prompt',\n",
       " 'data_analysis.prompt',\n",
       " 'feature_plan.prompt',\n",
       " 'specs.prompt',\n",
       " 'task_classifying.prompt']"
      ]
     },
     "execution_count": 24,
     "metadata": {},
     "output_type": "execute_result"
    }
   ],
   "source": [
    "env_template.list_templates()"
   ]
  },
  {
   "cell_type": "code",
   "execution_count": 6,
   "metadata": {},
   "outputs": [],
   "source": [
    "load_temp = env_template.get_template(\"specs.prompt\")"
   ]
  },
  {
   "cell_type": "code",
   "execution_count": 7,
   "metadata": {},
   "outputs": [
    {
     "data": {
      "text/plain": [
       "{'app_type', 'name', 'prompt'}"
      ]
     },
     "execution_count": 7,
     "metadata": {},
     "output_type": "execute_result"
    }
   ],
   "source": [
    "get_required_vars(env_template, 'specs.prompt')"
   ]
  },
  {
   "cell_type": "code",
   "execution_count": 8,
   "metadata": {},
   "outputs": [],
   "source": [
    "context = {\"app_type\": \"Command Line\",\n",
    "           \"name\": \"text processor\",\n",
    "           \"prompt\": \"App that processes the text and provides output\"}"
   ]
  },
  {
   "cell_type": "code",
   "execution_count": 9,
   "metadata": {},
   "outputs": [
    {
     "name": "stdout",
     "output_type": "stream",
     "text": [
      "I want you to create  (let's call it \"\") that can be described like this:\n",
      "```\n",
      "\n",
      "```\n",
      "\n",
      "Think step by step about the description for the  \"\" and the additional questions and answers and break down user stories. You will think about the  description and the answers listed and create a list of all user stories. A user story is a description of how a user can interact with the . For example, if an app's description is `Create a script that finds Youtube channels with the word \"test\" inside the channel name`, user stories could be:\n",
      "- `user will run the script from the CLI`\n",
      "- `user will get the list of all channels in a CSV file`\n"
     ]
    }
   ],
   "source": [
    "print(load_temp.render())"
   ]
  },
  {
   "cell_type": "code",
   "execution_count": 10,
   "metadata": {},
   "outputs": [
    {
     "name": "stdout",
     "output_type": "stream",
     "text": [
      "I want you to create Command Line (let's call it \"text processor\") that can be described like this:\n",
      "```\n",
      "App that processes the text and provides output\n",
      "```\n",
      "\n",
      "Think step by step about the description for the Command Line \"text processor\" and the additional questions and answers and break down user stories. You will think about the Command Line description and the answers listed and create a list of all user stories. A user story is a description of how a user can interact with the Command Line. For example, if an app's description is `Create a script that finds Youtube channels with the word \"test\" inside the channel name`, user stories could be:\n",
      "- `user will run the script from the CLI`\n",
      "- `user will get the list of all channels in a CSV file`\n"
     ]
    }
   ],
   "source": [
    "print(load_temp.render(**context))"
   ]
  },
  {
   "cell_type": "code",
   "execution_count": 28,
   "metadata": {},
   "outputs": [
    {
     "data": {
      "text/plain": [
       "[{'task': '5. As a player, I want the game to end if the snake collides with the walls or itself.',\n",
       "  'task_class': 'problem solving'},\n",
       " {'task': '6. As a player, I want to see my current score during the game.',\n",
       "  'task_class': 'planning'},\n",
       " {'task': '7. As a player, I want to be able to restart the game after it ends.',\n",
       "  'task_class': 'code generation'},\n",
       " {'task': '8. As a player, I want to be able to quit the game at any time.',\n",
       "  'task_class': 'planning'},\n",
       " {'task': '9. As a player, I want to see a message when the game ends, indicating my final score.',\n",
       "  'task_class': 'code executing'}]"
      ]
     },
     "execution_count": 28,
     "metadata": {},
     "output_type": "execute_result"
    }
   ],
   "source": [
    "import json\n",
    "\n",
    "with open(\"task_class2.json\", 'r') as jds:\n",
    "    jdata = json.load(jds)\n",
    "\n",
    "jdata['classified_tasks'][5:10]"
   ]
  },
  {
   "cell_type": "code",
   "execution_count": 29,
   "metadata": {},
   "outputs": [
    {
     "name": "stdout",
     "output_type": "stream",
     "text": [
      "You are working in a software development agency as a data analyst.You are working on a list of tasks and their types listed below.You need to analyse them and answer the question.\n",
      "\n",
      "\n",
      "\n"
     ]
    }
   ],
   "source": [
    "danlysis = env_template.get_template(\"data_analysis.prompt\")\n",
    "print(danlysis.render())"
   ]
  },
  {
   "cell_type": "code",
   "execution_count": 30,
   "metadata": {},
   "outputs": [
    {
     "data": {
      "text/plain": [
       "{'question', 'task_list'}"
      ]
     },
     "execution_count": 30,
     "metadata": {},
     "output_type": "execute_result"
    }
   ],
   "source": [
    "get_required_vars(env_template, 'data_analysis.prompt')"
   ]
  },
  {
   "cell_type": "code",
   "execution_count": 31,
   "metadata": {},
   "outputs": [
    {
     "name": "stdout",
     "output_type": "stream",
     "text": [
      "You are working in a software development agency as a data analyst.You are working on a list of tasks and their types listed below.You need to analyse them and answer the question.\n",
      "\n",
      "\n",
      "    Create a snake game that can be played from the command line using Python.\n",
      "    code generation\n",
      "\n",
      "    1. As a player, I want to be able to start the game.\n",
      "    code executing\n",
      "\n",
      "    2. As a player, I want to see the game board displayed in the command line.\n",
      "    code executing\n",
      "\n",
      "    3. As a player, I want to control the snake&#39;s movement using keyboard inputs.\n",
      "    code generation\n",
      "\n",
      "    4. As a player, I want the snake to move automatically in a specific direction if no input is provided.\n",
      "    code execution\n",
      "\n",
      "    5. As a player, I want the game to end if the snake collides with the walls or itself.\n",
      "    problem solving\n",
      "\n",
      "How many tasks are present above?\n"
     ]
    }
   ],
   "source": [
    "question = \"How many tasks are present above?\"\n",
    "task_list = jdata['classified_tasks']\n",
    "context = {\"question\": question,\n",
    "           \"task_list\": task_list[:6]}\n",
    "print(danlysis.render(**context))"
   ]
  },
  {
   "cell_type": "code",
   "execution_count": 11,
   "metadata": {},
   "outputs": [],
   "source": [
    "from tavily import TavilyClient\n",
    "from dotenv import load_dotenv\n",
    "import os\n",
    "import json\n",
    "load_dotenv(\"D:\\\\gitFolders\\\\python_de_learners_data\\\\.env\")\n",
    "\n",
    "tavily = TavilyClient(api_key=os.environ['TAVILY_API_KEY'])"
   ]
  },
  {
   "cell_type": "code",
   "execution_count": 13,
   "metadata": {},
   "outputs": [],
   "source": [
    "question = \"Split a text file with list of tasks that are seperated with \\\\n using python code\""
   ]
  },
  {
   "cell_type": "code",
   "execution_count": 14,
   "metadata": {},
   "outputs": [
    {
     "name": "stdout",
     "output_type": "stream",
     "text": [
      "Python, Read from txt file and split data - Stack Overflow\n",
      "https://stackoverflow.com/questions/33653027/python-read-from-txt-file-and-split-data\n",
      "Sorted by: 3. This line will read the entire file into a list of \"lines\" (string objects) data = text.readlines() Now, you need to use the split (',') method on each string to split each line on the comma delimiter. for line in data: l = line.strip().split(',') var, vek, strng = l[0], l[1:-1], l[-1]\n",
      "How to Split a File into a List in Python - GeeksforGeeks\n",
      "https://www.geeksforgeeks.org/how-to-split-a-file-into-a-list-in-python/\n",
      "The file is opened using the open() method where the first argument is the file path and the second argument is a string(mode) which can be ‘r’ ,’w’ etc.. which specifies if data is to be read from the file or written into the file. To perform the slice, we need to use the len() method to determine the count of lines in the main file Finally, the int() method is used to convert the division result to an integer value\n",
      "Python3\n",
      "Output:\n",
      "Please Login to comment... Data Structures and Algorithms\n",
      "ML & Data Science\n",
      "Web Development\n",
      "Languages\n",
      "Interview Corner\n",
      "CS Subjects\n",
      "Jobs\n",
      "Practice\n",
      "Contests\n",
      "How to Split a File into a List in Python\n",
      " Python3\n",
      "Output:\n",
      "Example 6: Splitting a single text file into multiple text files\n",
      "If we have a large file and viewing all the data in a single file is difficult, we can split the data into multiple files. When we want each line of the file to be listed at consecutive positions where each line becomes an element in the file, the splitlines() or rstrip() method is used to split a file into a list.\n",
      "The Fastest Way to Split a Text File Using Python\n",
      "https://www.pythonforbeginners.com/files/the-fastest-way-to-split-a-text-file-using-python\n",
      "PythonForBeginners.com\n",
      "Learn By Example\n",
      "The Fastest Way to Split a Text File Using Python\n",
      "Author: Josh Petty Last Updated: June 5, 2023\n",
      "Python is one of the most popular programming languages in the world. In order to perform the slice, we will also use the len() method to find the total number of lines in the original file.\n",
      " Once we get the data via list comprehension, we will use the split() method to split the lines and add them to a new list as shown below.\n",
      " Using a Generator to Split a Text File in Python\n",
      "In Python, a generator is a special routine that we can use to create an iterable object. Introducing The split() Method in Python\n",
      "The fastest way to split text in Python is with the split() method.\n",
      "How to Use Python Split Function - PythonForBeginners.com\n",
      "https://www.pythonforbeginners.com/strings/how-to-use-python-split-function\n",
      "These are given back to us in the form of a Python string array. Here's a step-by-step guide to using split (): Create a string. Use the Python split () function. Print the result. gandalf = \"You shall not pass.\" gandalf.split () # The string will be split based on whitespace.\n",
      "How do I split a huge text file in python - Stack Overflow\n",
      "https://stackoverflow.com/questions/291740/how-do-i-split-a-huge-text-file-in-python\n",
      "Here is a python script you can use for splitting large files using subprocess: \"\"\" Splits the file into the same directory and deletes the original file \"\"\" import subprocess import sys import os SPLIT_FILE_CHUNK_SIZE = '5000' SPLIT_PREFIX_LENGTH = '2' # subprocess expects a string, i.e. 2 = aa, ab, ac etc..\n"
     ]
    }
   ],
   "source": [
    "response = tavily.search(query=question)\n",
    "\n",
    "for data in response['results']:\n",
    "    print(data['title'])\n",
    "    print(data['url'])\n",
    "    print(data['content'])"
   ]
  },
  {
   "cell_type": "code",
   "execution_count": 6,
   "metadata": {},
   "outputs": [],
   "source": [
    "subscription_key = os.environ['BING_SEARCH_V7_SUBSCRIPTION_KEY']\n",
    "endpoint = os.environ['BING_SEARCH_V7_ENDPOINT'] + \"/v7.0/search\""
   ]
  },
  {
   "cell_type": "code",
   "execution_count": 16,
   "metadata": {},
   "outputs": [],
   "source": [
    "import requests\n",
    "# Construct a request\n",
    "mkt = 'en-US'\n",
    "params = { 'q': question, 'mkt': mkt }\n",
    "headers = { 'Ocp-Apim-Subscription-Key': subscription_key }\n",
    "\n",
    "# Call the API\n",
    "response = requests.get(endpoint,\n",
    "                        headers=headers,\n",
    "                        params=params)"
   ]
  },
  {
   "cell_type": "code",
   "execution_count": 17,
   "metadata": {},
   "outputs": [
    {
     "data": {
      "text/plain": [
       "'The fastest way to split text in Python is with the split () method. This is a built-in method that is useful for separating a string into its individual parts. The split () method, when invoked on a string, takes a delimiter as its input argument. After execution, it returns a list of the substrings in the string.'"
      ]
     },
     "execution_count": 17,
     "metadata": {},
     "output_type": "execute_result"
    }
   ],
   "source": [
    "content_data = json.loads(response.content)\n",
    "content_data['webPages']['value'][0]['snippet']"
   ]
  },
  {
   "cell_type": "code",
   "execution_count": 25,
   "metadata": {},
   "outputs": [],
   "source": [
    "search_out = []\n",
    "for cont in content_data['webPages']['value']:\n",
    "    # print(cont['snippet'])\n",
    "    search_out.append((cont['snippet']))"
   ]
  },
  {
   "cell_type": "code",
   "execution_count": 26,
   "metadata": {},
   "outputs": [
    {
     "name": "stdout",
     "output_type": "stream",
     "text": [
      "You are expert coder and researcher. You are approached by the program manager with the below question and requires you to write code\n",
      "Split a text file with list of tasks that are seperated with \n",
      " using python code\n",
      "\n",
      "You have searched about the question and found the below information. Using that write the code as requested by program manager \n",
      "\n",
      "The fastest way to split text in Python is with the split () method. This is a built-in method that is useful for separating a string into its individual parts. The split () method, when invoked on a string, takes a delimiter as its input argument. After execution, it returns a list of the substrings in the string.\n",
      "\n",
      "Here is a python script you can use for splitting large files using subprocess: &#34;&#34;&#34; Splits the file into the same directory and deletes the original file &#34;&#34;&#34; import subprocess import sys import os SPLIT_FILE_CHUNK_SIZE = &#39;5000&#39; SPLIT_PREFIX_LENGTH = &#39;2&#39; # subprocess expects a string, i.e. 2 = aa, ab, ac etc..\n",
      "\n",
      "Sorted by: 3. This line will read the entire file into a list of &#34;lines&#34; (string objects) data = text.readlines() Now, you need to use the split (&#39;,&#39;) method on each string to split each line on the comma delimiter. for line in data: l = line.strip().split(&#39;,&#39;) var, vek, strng = l[0], l[1:-1], l[-1]\n",
      "\n",
      "Read a file and split the output. Before writing our program, let&#39;s see the file that we&#39;ll read and split. Now let&#39;s write our program that reads file.txt and splits the output. txt = f.read() sp = txt.split() print(sp) 1. open the file.txt and read it. 2. split the file output. 3. print the result.\n",
      "\n",
      "Split a string by line break: splitlines() The splitlines() method splits a string by line boundaries.. str.splitlines() — Python 3.11.4 documentation; As shown in the previous examples, split() and rsplit() split the string by whitespace, including line breaks, by default. You can also specify line breaks explicitly using the sep argument. However, using splitlines() is often more suitable.\n",
      "\n",
      "Example 2: Using the rstrip () In this example instead of using the splitlines () method rstrip () method is used. rstrip () method removes trailing characters. the trailing character given in this example is ‘\\n’ which is the newline. for loop and strip () methods are used to split the file into a list of lines. The file is closed at the end.\n",
      "\n",
      "--- - name: Ansible Split Examples hosts: localhost tasks: - name: Split Simple String Example debug: msg={{ &#39;[email protected]&#39;|split(&#39;@&#39;)}} Here is the execution and the output. I know this is a really simple example. Move on to some real-time examples down below. Example2: Ansible Split with loop - To process list of strings\n",
      "\n",
      "How to split a Python file into multiple files. Let&#39;s start off by going into a new Python project (or repl.it repl) and creating two files. Let&#39;s call them main.py and myfile.py. Remember that repl.it will always run main.py when you press the &#34;Run&#34; button, as we mentioned in the day 0 post.\n",
      "\n",
      "Using Python’s text object method split we turn strings into lists via a ‘splitting character’. ... List of substrings split from the original. Returned: success. Hint. Configuration entries for each entry type have a low to high priority order. For example, a variable that is lower in the list will override a variable that is higher up.\n",
      "\n",
      "You can use this method when you want to split a text into lines of text. For example, you might use splitlines() to split a multiline string into individual lines. Regular expressions: This is a more powerful method for splitting text into a list, as it allows you to split the text based on more complex patterns.\n",
      "\n",
      "\n",
      "Write the code by mentioning the programming language first.\n",
      "your_code:\n"
     ]
    }
   ],
   "source": [
    "coder_temp = env_template.get_template(\"code_extraction.prompt\")\n",
    "\n",
    "context = {\"net_data\":search_out,\n",
    "           \"question\":question}\n",
    "\n",
    "print(coder_temp.render(**context))"
   ]
  }
 ],
 "metadata": {
  "kernelspec": {
   "display_name": "localpreter",
   "language": "python",
   "name": "python3"
  },
  "language_info": {
   "codemirror_mode": {
    "name": "ipython",
    "version": 3
   },
   "file_extension": ".py",
   "mimetype": "text/x-python",
   "name": "python",
   "nbconvert_exporter": "python",
   "pygments_lexer": "ipython3",
   "version": "3.11.4"
  }
 },
 "nbformat": 4,
 "nbformat_minor": 2
}
