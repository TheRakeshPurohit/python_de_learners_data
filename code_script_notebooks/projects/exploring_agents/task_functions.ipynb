{
 "cells": [
  {
   "cell_type": "code",
   "execution_count": 2,
   "metadata": {},
   "outputs": [],
   "source": [
    "from jinja2 import (\n",
    "    Environment,\n",
    "    select_autoescape,\n",
    "    FileSystemLoader,\n",
    "    meta\n",
    ")"
   ]
  },
  {
   "cell_type": "code",
   "execution_count": 3,
   "metadata": {},
   "outputs": [],
   "source": [
    "env_template = Environment(\n",
    "    loader=FileSystemLoader('jinja_prompt'),\n",
    "    autoescape=select_autoescape\n",
    ")"
   ]
  },
  {
   "cell_type": "code",
   "execution_count": 4,
   "metadata": {},
   "outputs": [],
   "source": [
    "def get_required_vars(environ, template_file):\n",
    "    temp_source = environ.loader.get_source(environ,\n",
    "                                            template_file)\n",
    "    parsed_content = environ.parse(temp_source)\n",
    "    return meta.find_undeclared_variables(parsed_content)"
   ]
  },
  {
   "cell_type": "code",
   "execution_count": 5,
   "metadata": {},
   "outputs": [],
   "source": [
    "def load_render_template(environ,\n",
    "                         template_file,\n",
    "                         context):\n",
    "    template = environ.get_template(template_file)\n",
    "    return template.render(**context)"
   ]
  },
  {
   "cell_type": "code",
   "execution_count": 6,
   "metadata": {},
   "outputs": [],
   "source": [
    "import json\n",
    "import os\n",
    "import openai\n",
    "from openai import OpenAI\n",
    "from dotenv import load_dotenv"
   ]
  },
  {
   "cell_type": "code",
   "execution_count": 7,
   "metadata": {},
   "outputs": [],
   "source": [
    "model_used_eco = \"gpt-3.5-turbo\"\n",
    "model_used_super = \"gpt-4-1106-preview\"\n",
    "programming_expert = \"\"\"You are expert in coding a given task using the information provided to you\"\"\""
   ]
  },
  {
   "cell_type": "code",
   "execution_count": 8,
   "metadata": {},
   "outputs": [],
   "source": [
    "def llm_call_openai(user_message: str,\n",
    "                    system_message: str,\n",
    "                    model_used: str):\n",
    "    client = OpenAI(api_key=os.environ['OPENAI_API_KEY'])\n",
    "    try:\n",
    "        response = client.chat.completions.create(\n",
    "            model=model_used,\n",
    "            messages=[\n",
    "                {\"role\": \"system\", \"content\": system_message},\n",
    "                {\"role\": \"system\", \"content\": user_message}\n",
    "            ],\n",
    "            temperature=0.0,\n",
    "            top_p=1,\n",
    "            frequency_penalty=0.1,\n",
    "            presence_penalty=0.1,\n",
    "        )\n",
    "        assistant_message = response.choices[0].message.content\n",
    "        print(f\"Tokens used: {response.usage.total_tokens}\")\n",
    "        global total_tokens\n",
    "        total_tokens += response.usage.total_tokens\n",
    "        return {\"response\": assistant_message}\n",
    "    except Exception as e:\n",
    "        print(e)\n",
    "        return {\"error\": \"An error occurred while processing the request.\"}"
   ]
  },
  {
   "cell_type": "code",
   "execution_count": 9,
   "metadata": {},
   "outputs": [
    {
     "data": {
      "text/plain": [
       "['code_extraction.prompt',\n",
       " 'data_analysis.prompt',\n",
       " 'feature_plan.prompt',\n",
       " 'specs.prompt',\n",
       " 'task_classifying.prompt']"
      ]
     },
     "execution_count": 9,
     "metadata": {},
     "output_type": "execute_result"
    }
   ],
   "source": [
    "env_template.list_templates()"
   ]
  },
  {
   "cell_type": "code",
   "execution_count": 10,
   "metadata": {},
   "outputs": [],
   "source": [
    "from tavily import TavilyClient\n",
    "load_dotenv(\"D:\\\\gitFolders\\\\python_de_learners_data\\\\.env\")\n",
    "\n",
    "tavily = TavilyClient(api_key=os.environ['TAVILY_API_KEY'])"
   ]
  },
  {
   "cell_type": "code",
   "execution_count": 11,
   "metadata": {},
   "outputs": [],
   "source": [
    "question = \"Split a text file with list of tasks that are seperated with \\\\n using python code\""
   ]
  },
  {
   "cell_type": "code",
   "execution_count": 12,
   "metadata": {},
   "outputs": [
    {
     "name": "stdout",
     "output_type": "stream",
     "text": [
      "Python 3 split('\\n') - Stack Overflow\n",
      "https://stackoverflow.com/questions/39051835/python-3-split-n\n",
      "Here's a list of the file contents:\\n{}\".format(file_list)) Any help would be greatly appreciated, thank you. If it helps to explain what I am dealing with, here's the contents of the stats.csv file:\n",
      "The Fastest Way to Split a Text File Using Python\n",
      "https://www.pythonforbeginners.com/files/the-fastest-way-to-split-a-text-file-using-python\n",
      "PythonForBeginners.com\n",
      "Learn By Example\n",
      "The Fastest Way to Split a Text File Using Python\n",
      "Author: Josh Petty Last Updated: June 5, 2023\n",
      "Python is one of the most popular programming languages in the world. In order to perform the slice, we will also use the len() method to find the total number of lines in the original file.\n",
      " Once we get the data via list comprehension, we will use the split() method to split the lines and add them to a new list as shown below.\n",
      " Using a Generator to Split a Text File in Python\n",
      "In Python, a generator is a special routine that we can use to create an iterable object. Introducing The split() Method in Python\n",
      "The fastest way to split text in Python is with the split() method.\n",
      "Python | Ways to split strings using newline delimiter\n",
      "https://www.geeksforgeeks.org/python-ways-to-split-strings-using-newline-delimiter/\n",
      "Step-by-step approach : Use the splitlines() method to split the ini_str string into a list of substrings. The splitlines() method is a built-in Python method that splits a string into substrings based on newline characters (\\n) and returns the substrings as a list.; Assigns the resulting list of substrings to a variable called res_list.; Finally, the prints the resulting list using the print ...\n",
      "list - Python string text file with \\n separating words will not split ...\n",
      "https://stackoverflow.com/questions/55582677/python-string-text-file-with-n-separating-words-will-not-split\n",
      "A Python text file is an ordered collection (sequence) of lines. Each line is a string terminated with \"\\n\". So using positive_words.append (lin.split ('\\\\n')) works because for your file you must escape the backslash character for it to be treated as a backslash and not as a newline \"\\n\" character. '''.\n",
      "How to Split a File into a List in Python - GeeksforGeeks\n",
      "https://www.geeksforgeeks.org/how-to-split-a-file-into-a-list-in-python/\n",
      "The file is opened using the open() method where the first argument is the file path and the second argument is a string(mode) which can be ‘r’ ,’w’ etc.. which specifies if data is to be read from the file or written into the file. To perform the slice, we need to use the len() method to determine the count of lines in the main file Finally, the int() method is used to convert the division result to an integer value\n",
      "Python3\n",
      "Output:\n",
      "Please Login to comment... Data Structures and Algorithms\n",
      "ML & Data Science\n",
      "Web Development\n",
      "Languages\n",
      "Interview Corner\n",
      "CS Subjects\n",
      "Jobs\n",
      "Practice\n",
      "Contests\n",
      "How to Split a File into a List in Python\n",
      " Python3\n",
      "Output:\n",
      "Example 6: Splitting a single text file into multiple text files\n",
      "If we have a large file and viewing all the data in a single file is difficult, we can split the data into multiple files. When we want each line of the file to be listed at consecutive positions where each line becomes an element in the file, the splitlines() or rstrip() method is used to split a file into a list.\n"
     ]
    }
   ],
   "source": [
    "response = tavily.search(query=question)\n",
    "\n",
    "for data in response['results']:\n",
    "    print(data['title'])\n",
    "    print(data['url'])\n",
    "    print(data['content'])"
   ]
  },
  {
   "cell_type": "code",
   "execution_count": 13,
   "metadata": {},
   "outputs": [],
   "source": [
    "search_out = []\n",
    "for cont in response['results']:\n",
    "    # print(cont['snippet'])\n",
    "    search_out.append((cont['content']))"
   ]
  },
  {
   "cell_type": "code",
   "execution_count": 15,
   "metadata": {},
   "outputs": [
    {
     "name": "stdout",
     "output_type": "stream",
     "text": [
      "Here's a list of the file contents:\\n{}\".format(file_list)) Any help would be greatly appreciated, thank you. If it helps to explain what I am dealing with, here's the contents of the stats.csv file:\n"
     ]
    }
   ],
   "source": [
    "print(search_out[0])"
   ]
  },
  {
   "cell_type": "code",
   "execution_count": 16,
   "metadata": {},
   "outputs": [],
   "source": [
    "coder_temp = env_template.get_template(\"code_extraction.prompt\")"
   ]
  },
  {
   "cell_type": "code",
   "execution_count": null,
   "metadata": {},
   "outputs": [],
   "source": [
    "print(coder_temp.render())"
   ]
  },
  {
   "cell_type": "code",
   "execution_count": 18,
   "metadata": {},
   "outputs": [
    {
     "name": "stdout",
     "output_type": "stream",
     "text": [
      "You are expert coder and researcher. You are approached by the program manager with the below question and requires you to write code\n",
      "Split a text file with list of tasks that are seperated with \\n using python code\n",
      "\n",
      "You have searched about the question and found the below information. Using that write the code as requested by program manager \n",
      "\n",
      "Here&#39;s a list of the file contents:\\n{}&#34;.format(file_list)) Any help would be greatly appreciated, thank you. If it helps to explain what I am dealing with, here&#39;s the contents of the stats.csv file:\n",
      "\n",
      "PythonForBeginners.com\n",
      "Learn By Example\n",
      "The Fastest Way to Split a Text File Using Python\n",
      "Author: Josh Petty Last Updated: June 5, 2023\n",
      "Python is one of the most popular programming languages in the world. In order to perform the slice, we will also use the len() method to find the total number of lines in the original file.\n",
      " Once we get the data via list comprehension, we will use the split() method to split the lines and add them to a new list as shown below.\n",
      " Using a Generator to Split a Text File in Python\n",
      "In Python, a generator is a special routine that we can use to create an iterable object. Introducing The split() Method in Python\n",
      "The fastest way to split text in Python is with the split() method.\n",
      "\n",
      "Step-by-step approach : Use the splitlines() method to split the ini_str string into a list of substrings. The splitlines() method is a built-in Python method that splits a string into substrings based on newline characters (\\n) and returns the substrings as a list.; Assigns the resulting list of substrings to a variable called res_list.; Finally, the prints the resulting list using the print ...\n",
      "\n",
      "A Python text file is an ordered collection (sequence) of lines. Each line is a string terminated with &#34;\\n&#34;. So using positive_words.append (lin.split (&#39;\\\\n&#39;)) works because for your file you must escape the backslash character for it to be treated as a backslash and not as a newline &#34;\\n&#34; character. &#39;&#39;&#39;.\n",
      "\n",
      "The file is opened using the open() method where the first argument is the file path and the second argument is a string(mode) which can be ‘r’ ,’w’ etc.. which specifies if data is to be read from the file or written into the file. To perform the slice, we need to use the len() method to determine the count of lines in the main file Finally, the int() method is used to convert the division result to an integer value\n",
      "Python3\n",
      "Output:\n",
      "Please Login to comment... Data Structures and Algorithms\n",
      "ML &amp; Data Science\n",
      "Web Development\n",
      "Languages\n",
      "Interview Corner\n",
      "CS Subjects\n",
      "Jobs\n",
      "Practice\n",
      "Contests\n",
      "How to Split a File into a List in Python\n",
      " Python3\n",
      "Output:\n",
      "Example 6: Splitting a single text file into multiple text files\n",
      "If we have a large file and viewing all the data in a single file is difficult, we can split the data into multiple files. When we want each line of the file to be listed at consecutive positions where each line becomes an element in the file, the splitlines() or rstrip() method is used to split a file into a list.\n",
      "\n",
      "\n",
      "Write the code by mentioning the programming language first.\n",
      "your_code:\n"
     ]
    }
   ],
   "source": [
    "context = {\"net_data\":search_out,\n",
    "           \"question\":question}\n",
    "\n",
    "rendered_prompt = coder_temp.render(**context)\n",
    "print(rendered_prompt)"
   ]
  },
  {
   "cell_type": "code",
   "execution_count": 19,
   "metadata": {},
   "outputs": [
    {
     "name": "stdout",
     "output_type": "stream",
     "text": [
      "Tokens used: 806\n"
     ]
    }
   ],
   "source": [
    "total_tokens = 0\n",
    "\n",
    "get_code = llm_call_openai(programming_expert,\n",
    "                           rendered_prompt,\n",
    "                           model_used_eco)"
   ]
  },
  {
   "cell_type": "code",
   "execution_count": 20,
   "metadata": {},
   "outputs": [],
   "source": [
    "responses = get_code['response']"
   ]
  },
  {
   "cell_type": "code",
   "execution_count": 21,
   "metadata": {},
   "outputs": [
    {
     "name": "stdout",
     "output_type": "stream",
     "text": [
      "```python\n",
      "# Python code to split a text file into a list of tasks\n",
      "\n",
      "# Read the contents of the file\n",
      "with open('file.txt', 'r') as file:\n",
      "    file_contents = file.read()\n",
      "\n",
      "# Split the file contents into a list of tasks\n",
      "tasks_list = file_contents.split('\\n')\n",
      "\n",
      "# Print the list of tasks\n",
      "print(tasks_list)\n",
      "```\n"
     ]
    }
   ],
   "source": [
    "print(responses)"
   ]
  },
  {
   "cell_type": "code",
   "execution_count": 22,
   "metadata": {},
   "outputs": [
    {
     "name": "stdout",
     "output_type": "stream",
     "text": [
      "\n",
      "# Python code to split a text file into a list of tasks\n",
      "\n",
      "# Read the contents of the file\n",
      "with open('file.txt', 'r') as file:\n",
      "    file_contents = file.read()\n",
      "\n",
      "# Split the file contents into a list of tasks\n",
      "tasks_list = file_contents.split('\\n')\n",
      "\n",
      "# Print the list of tasks\n",
      "print(tasks_list)\n",
      "\n"
     ]
    }
   ],
   "source": [
    "code_part = responses[9:-3]\n",
    "print(code_part)"
   ]
  },
  {
   "cell_type": "code",
   "execution_count": 32,
   "metadata": {},
   "outputs": [],
   "source": [
    "with open('python_code.py', 'w',) as wds:\n",
    "    wds.write(code_part)"
   ]
  },
  {
   "cell_type": "code",
   "execution_count": null,
   "metadata": {},
   "outputs": [],
   "source": []
  },
  {
   "cell_type": "code",
   "execution_count": null,
   "metadata": {},
   "outputs": [],
   "source": []
  }
 ],
 "metadata": {
  "kernelspec": {
   "display_name": "localpreter",
   "language": "python",
   "name": "python3"
  },
  "language_info": {
   "codemirror_mode": {
    "name": "ipython",
    "version": 3
   },
   "file_extension": ".py",
   "mimetype": "text/x-python",
   "name": "python",
   "nbconvert_exporter": "python",
   "pygments_lexer": "ipython3",
   "version": "3.11.4"
  }
 },
 "nbformat": 4,
 "nbformat_minor": 2
}
