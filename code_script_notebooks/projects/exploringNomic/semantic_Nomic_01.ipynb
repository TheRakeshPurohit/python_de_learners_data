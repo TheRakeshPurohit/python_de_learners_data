{
  "nbformat": 4,
  "nbformat_minor": 0,
  "metadata": {
    "colab": {
      "provenance": []
    },
    "kernelspec": {
      "name": "python3",
      "display_name": "Python 3"
    },
    "language_info": {
      "name": "python"
    }
  },
  "cells": [
    {
      "cell_type": "markdown",
      "source": [
        "**Using Atlas to Visualize a Dataset of Text**\n",
        "\n",
        "See [docs.nomic.ai](https://docs.nomic.ai) for documentation."
      ],
      "metadata": {
        "id": "DU0NasCBFHI0"
      }
    },
    {
      "cell_type": "code",
      "execution_count": 46,
      "metadata": {
        "id": "bV3EP-aJC53E"
      },
      "outputs": [],
      "source": [
        "!pip install langchain nomic sentence-transformers transformers torch > /dev/null"
      ]
    },
    {
      "cell_type": "code",
      "source": [
        "import nomic\n",
        "import time\n",
        "from langchain.embeddings import HuggingFaceEmbeddings\n",
        "from langchain.text_splitter import RecursiveCharacterTextSplitter\n",
        "from langchain.vectorstores import AtlasDB\n",
        "from langchain.document_loaders import TextLoader\n",
        "from nomic import atlas\n",
        "nomic.login('Mug83c2mM5lD-I-XEtNFAFrTtxIqNznl8SS0Obz9tApfe') #api key to a limited demo account. Make your own account at atlas.nomic.ai"
      ],
      "metadata": {
        "id": "8R8Nj8O5EDJg"
      },
      "execution_count": null,
      "outputs": []
    },
    {
      "cell_type": "code",
      "source": [
        "embedd = HuggingFaceEmbeddings()"
      ],
      "metadata": {
        "id": "8qCRLe42xUQM"
      },
      "execution_count": null,
      "outputs": []
    },
    {
      "cell_type": "code",
      "source": [
        "splitter = RecursiveCharacterTextSplitter(chunk_size=50,\n",
        "                                          chunk_overlap=20,\n",
        "                                          length_function=len)"
      ],
      "metadata": {
        "id": "odSeviEEF20_"
      },
      "execution_count": null,
      "outputs": []
    },
    {
      "cell_type": "code",
      "source": [
        "AD = \"\"\"How Atlas Works\n",
        "Atlas is a platform for visually and programmatically interacting with massive unstructured datasets of text documents, images and embeddings.\n",
        "Data model\n",
        "\n",
        "Atlas lets you store and manipulate data like a standard noSQL document engine. On upload, your data is stored in an abstraction called a Project. You can add, update, read and delete (CRUD) data in a project via API calls from the Atlas Python client.\n",
        "What kind of data can I store in Atlas?\n",
        "\n",
        "Atlas can natively store:\n",
        "    Embedding vectors\n",
        "    Text Documents\n",
        "Our roadmap includes first class support for data modalities such as images, audio and video. You can still store images, audio and video in Atlas now but you must generate embeddings for it yourself.\n",
        "Data stored in an Atlas Project is semantically indexed by Atlas. This indexing allows you to interact, view and search through your dataset via meaning instead of matching on words.\n",
        "How does Atlas semantically index data?\n",
        "Atlas semantically indexes unstructured data by:\n",
        "    Converting data points into embedding vectors (if they aren't embeddings already)\n",
        "    Organizing the embedding vectors for fast semantic search and human interpretability\n",
        "If you have embedding vectors of your data from an embedding API such as OpenAI or Cohere, you can attach them during upload.\n",
        "If you don't already have embedding vectors for your data points, Atlas will create them by running your data through neural networks that semantically encode your data points. For example, if you upload text documents Atlas will run them through neural networks that semantically encode text. It is often cheaper and faster to use Atlas' internal embedding models as opposed to an external model APIs.\n",
        "How is Atlas different from a noSQL database?\n",
        "\n",
        "Unlike existing data stores, Atlas is built with embedding vectors as first class citizens. Embedding vectors are representations of data that computers can semantically manipulate. Most operations you do in Atlas, under the hood, are performed on embeddings.\n",
        "Atlas makes embeddings human interpretable\n",
        "\n",
        "Despite their utility, embeddings cannot be easily interpreted because they reside in high dimensions.\n",
        "\n",
        "During indexing, Atlas builds a contextual two-dimensional data map of embeddings. This map preserves high-dimensional relationships present between embeddings in a two-dimensional, human interpretable view.\n",
        "\n",
        "Reading an Atlas Map\n",
        "\n",
        "Atlas Maps lay out your dataset contextually. We will use the above map of news articles generated by Atlas to describe how to read Maps.\n",
        "\n",
        "An Atlas Map has the following properties:\n",
        "\n",
        "    Points close to each other on the map are semantically similar/related. For example, all news articles about sports are at the bottom of the map. Inside the sports region, the map breaks down by type of sport because news articles about a fixed sport (e.g. baseball) have more similarity to each other than with news articles about other types of sports (e.g. tennis).\n",
        "    Relative distances between points correlate with semantic relatedness but the numerical distance between 2D point positions does not have meaning. For example, the observation that the Tennis and Golf news article clusters are adjacent signify a relationships between Tennis and Golf in the embedding space. You should not, however, make claims or draw conclusions using the Euclidean distance between points in the two clusters. Distance information is only meaningful in the ambient embedding space and can be retrieved with vector_search.\n",
        "    Floating labels correspond to distinct topics in your data. For example, the Golf cluster has the label 'Ryder Cup'. Labels are automatically determined from the textual contents of your data and are crucial for navigating the Map.\n",
        "    Topics have a hierarchy. As you zoom around the Map, more granular versions of topics will emerge.\n",
        "    Maps update as your data updates. When new data enters your project, Atlas can reindex the map to reflect how the new data relates to existing data.\n",
        "All information and operations that are visually presented on an Atlas map have a programmatic analog. For example, you can access topic information and vector search through the Python client.\n",
        "Technical Details\n",
        "Atlas visualizes your embeddings in two-dimensions using a non-linear dimensionality reduction algorithm. Atlas' dimensionality reduction algorithm is custom-built for scale, speed and dynamic updates. Nomic cannot share the technical details of the algorithm at this time.\n",
        "Data Formats and Integrity\n",
        "Atlas stores and transfers data using a subset of the Apache Arrow standard.\n",
        "pyarrow is used to convert python, pandas, and numpy data types to Arrow types; you can also pass any Arrow table (created by polars, duckdb, pyarrow, etc.) directly to Atlas and the types will be automatically converted.\n",
        "Before being uploaded, all data is converted with the following rules:\n",
        "    Strings are converted to Arrow strings and stored as UTF-8.\n",
        "    Integers are converted to 32-bit integers. (In the case that you have larger integers, they are probably either IDs, in which case you should convert them to strings; or they are a field that you want perform analysis on, in which case you should convert them to floats.)\n",
        "    Floats are converted to 32-bit (single-precision) floats.\n",
        "    Embeddings, regardless of precision, are uploaded as 16-bit (half-precision) floats, and stored in Arrow as FixedSizeList.\n",
        "    All dates and datetimes are converted to Arrow timestamps with millisecond precision and no time zone. (If you have a use case that requires timezone information or micro/nanosecond precision, please let us know.)\n",
        "    Categorical types (called 'dictionary' in Arrow) are supported, but values stored as categorical must be strings.\n",
        "Other data types (including booleans, binary, lists, and structs) are not supported. Values stored as a dictionary must be strings.\n",
        "All fields besides embeddings and the user-specified ID field are nullable.\n",
        "Permissions and Privacy\n",
        "To create a Project in Atlas, you must first sign up for an account and obtain an API key.\n",
        "Projects you create in Atlas have configurable permissions and privacy levels.\n",
        "When you create a project, it's ownership is assigned to your Atlas team. You can add people to this team to collaborate on projects together. For example, if you want to invite somone to help you tag points on an Atlas Map, you would add them to your team and give them the appropriate editing permissions on your project.\n",
        "\"\"\""
      ],
      "metadata": {
        "id": "OsasScoLyOyu"
      },
      "execution_count": null,
      "outputs": []
    },
    {
      "cell_type": "code",
      "source": [
        "text_split = splitter.split_text(AD)"
      ],
      "metadata": {
        "id": "rvL8p907y92f"
      },
      "execution_count": null,
      "outputs": []
    },
    {
      "cell_type": "code",
      "source": [
        "text_split[0]"
      ],
      "metadata": {
        "colab": {
          "base_uri": "https://localhost:8080/",
          "height": 35
        },
        "id": "8ckEo3qOYc19",
        "outputId": "dae88ed3-e29b-4e83-8c41-a6928c2e99a0"
      },
      "execution_count": 47,
      "outputs": [
        {
          "output_type": "execute_result",
          "data": {
            "text/plain": [
              "'How Atlas Works'"
            ],
            "application/vnd.google.colaboratory.intrinsic+json": {
              "type": "string"
            }
          },
          "metadata": {},
          "execution_count": 47
        }
      ]
    },
    {
      "cell_type": "code",
      "source": [
        "text_dataset = []\n",
        "\n",
        "for indi,text in enumerate(text_split):\n",
        "  text_dataset.append({\"id\":indi,\n",
        "                       \"text\":text})"
      ],
      "metadata": {
        "id": "MGAzTX0CbBcd"
      },
      "execution_count": 53,
      "outputs": []
    },
    {
      "cell_type": "code",
      "source": [
        "embeddings = embedd.embed_documents(text_split)"
      ],
      "metadata": {
        "id": "cwfVMGyLnanA"
      },
      "execution_count": 92,
      "outputs": []
    },
    {
      "cell_type": "code",
      "source": [
        "import pandas\n",
        "\n",
        "#load a demo dataset of 25k news articles\n",
        "news_articles = pandas.read_csv('https://raw.githubusercontent.com/nomic-ai/maps/main/data/ag_news_25k.csv').to_dict('records')"
      ],
      "metadata": {
        "id": "5OGCcoMsnxZ8"
      },
      "execution_count": 93,
      "outputs": []
    },
    {
      "cell_type": "code",
      "source": [
        "news_articles[0]"
      ],
      "metadata": {
        "colab": {
          "base_uri": "https://localhost:8080/"
        },
        "id": "CXOVx2kgn0MZ",
        "outputId": "dd4b98db-6cd0-4a1d-f16e-b9924f772c09"
      },
      "execution_count": 94,
      "outputs": [
        {
          "output_type": "execute_result",
          "data": {
            "text/plain": [
              "{'id': 0,\n",
              " 'text': 'Nasdaq planning \\\\$100m-share sale The owner of the Nasdaq index, an icon of the internet boom, is planning to sell \\\\$100m of shares to the public and list itself on the market it operates.',\n",
              " 'label': 2}"
            ]
          },
          "metadata": {},
          "execution_count": 94
        }
      ]
    },
    {
      "cell_type": "code",
      "source": [
        "from nomic import atlas\n",
        "\n",
        "#By specifying modality='embedding' you are saying you will upload your own embeddings.\n",
        "project = AtlasProject(name='atlas testing',\n",
        "                       unique_id_field='id',\n",
        "                       modality='embedding')\n"
      ],
      "metadata": {
        "id": "dk-eSdEWhUQf",
        "colab": {
          "base_uri": "https://localhost:8080/"
        },
        "outputId": "be60095e-802b-49ac-a124-7ae6045d7343"
      },
      "execution_count": 141,
      "outputs": [
        {
          "output_type": "stream",
          "name": "stderr",
          "text": [
            "\u001b[32m2023-07-01 16:22:18.905\u001b[0m | \u001b[1mINFO    \u001b[0m | \u001b[36mnomic.project\u001b[0m:\u001b[36m_create_project\u001b[0m:\u001b[36m749\u001b[0m - \u001b[1mCreating project `atlas testing` in organization `kamaljp`\u001b[0m\n"
          ]
        }
      ]
    },
    {
      "cell_type": "code",
      "source": [
        "project.schema"
      ],
      "metadata": {
        "id": "b8HxMrd5Qzc_"
      },
      "execution_count": 142,
      "outputs": []
    },
    {
      "cell_type": "code",
      "source": [
        "from nomic import atlas, AtlasProject\n",
        "import numpy as np\n",
        "\n",
        "\n",
        "#add your OpenAI embeddings and metadata to the Atlas DB project\n",
        "project.add_embeddings(\n",
        "    embeddings=np.array(embeddings),\n",
        "    data=text_dataset\n",
        ")"
      ],
      "metadata": {
        "colab": {
          "base_uri": "https://localhost:8080/"
        },
        "id": "a-9_HN2Q9tNL",
        "outputId": "30de6592-37ab-40d0-8f58-10cb98043680"
      },
      "execution_count": 143,
      "outputs": [
        {
          "output_type": "stream",
          "name": "stderr",
          "text": [
            "\u001b[32m2023-07-01 16:22:35.551\u001b[0m | \u001b[33m\u001b[1mWARNING \u001b[0m | \u001b[36mnomic.project\u001b[0m:\u001b[36m_validate_and_correct_arrow_upload\u001b[0m:\u001b[36m254\u001b[0m - \u001b[33m\u001b[1mid_field is not a string. Converting to string from int32\u001b[0m\n",
            "1it [00:01,  1.61s/it]\n",
            "\u001b[32m2023-07-01 16:22:37.172\u001b[0m | \u001b[1mINFO    \u001b[0m | \u001b[36mnomic.project\u001b[0m:\u001b[36m_add_data\u001b[0m:\u001b[36m1371\u001b[0m - \u001b[1mUpload succeeded.\u001b[0m\n"
          ]
        }
      ]
    },
    {
      "cell_type": "code",
      "source": [
        "project.create_index(name=project.name,\n",
        "                     build_topic_model=True,\n",
        "                     topic_label_field='text')\n",
        "print(project.maps[0])"
      ],
      "metadata": {
        "id": "YZ7wTPbj9bHQ",
        "colab": {
          "base_uri": "https://localhost:8080/"
        },
        "outputId": "272abd5d-9f35-4afa-89da-be2e13b763f7"
      },
      "execution_count": 145,
      "outputs": [
        {
          "output_type": "stream",
          "name": "stderr",
          "text": [
            "\u001b[32m2023-07-01 16:23:01.916\u001b[0m | \u001b[1mINFO    \u001b[0m | \u001b[36mnomic.project\u001b[0m:\u001b[36mcreate_index\u001b[0m:\u001b[36m1081\u001b[0m - \u001b[1mCreated map `atlas testing` in project `atlas testing`: https://atlas.nomic.ai/map/2768e6c9-9870-4ca3-8b0f-5577d3f64a20/3273cc1d-88ba-4a12-9233-f7cea9477e78\u001b[0m\n"
          ]
        },
        {
          "output_type": "stream",
          "name": "stdout",
          "text": [
            "atlas testing: https://atlas.nomic.ai/map/2768e6c9-9870-4ca3-8b0f-5577d3f64a20/3273cc1d-88ba-4a12-9233-f7cea9477e78\n"
          ]
        }
      ]
    },
    {
      "cell_type": "code",
      "source": [
        "map = project.maps[0]"
      ],
      "metadata": {
        "id": "hYdH41PZeI81"
      },
      "execution_count": 150,
      "outputs": []
    },
    {
      "cell_type": "code",
      "source": [
        "map"
      ],
      "metadata": {
        "colab": {
          "base_uri": "https://localhost:8080/",
          "height": 530
        },
        "id": "M2ulcCAi7PT3",
        "outputId": "9df52025-31f2-40af-e06a-2f44f3c08211"
      },
      "execution_count": 151,
      "outputs": [
        {
          "output_type": "execute_result",
          "data": {
            "text/plain": [
              "atlas testing: https://atlas.nomic.ai/map/2768e6c9-9870-4ca3-8b0f-5577d3f64a20/3273cc1d-88ba-4a12-9233-f7cea9477e78"
            ],
            "text/html": [
              "\n",
              "            <h3>Project: atlas testing</h3>\n",
              "            <script>\n",
              "            destroy = function() {\n",
              "                document.getElementById(\"iframe3273cc1d-88ba-4a12-9233-f7cea9477e78\").remove()\n",
              "            }\n",
              "        </script>\n",
              "        <div class=\"actions\">\n",
              "            <div id=\"hide\" class=\"action\" onclick=\"destroy()\">Hide embedded project</div>\n",
              "            <div class=\"action\" id=\"out\">\n",
              "                <a href=\"https://atlas.nomic.ai/map/2768e6c9-9870-4ca3-8b0f-5577d3f64a20/3273cc1d-88ba-4a12-9233-f7cea9477e78\" target=\"_blank\">Explore on atlas.nomic.ai</a>\n",
              "            </div>\n",
              "        </div>\n",
              "        \n",
              "        <iframe class=\"iframe\" id=\"iframe3273cc1d-88ba-4a12-9233-f7cea9477e78\" allow=\"clipboard-read; clipboard-write\" src=\"https://atlas.nomic.ai/map/2768e6c9-9870-4ca3-8b0f-5577d3f64a20/3273cc1d-88ba-4a12-9233-f7cea9477e78\">\n",
              "        </iframe>\n",
              "\n",
              "        <style>\n",
              "            .iframe {\n",
              "                /* vh can be **very** large in vscode ipynb. */\n",
              "                height: min(75vh, 66vw);\n",
              "                width: 100%;\n",
              "            }\n",
              "        </style>\n",
              "        \n",
              "        <style>\n",
              "            .actions {\n",
              "              display: block;\n",
              "            }\n",
              "            .action {\n",
              "              min-height: 18px;\n",
              "              margin: 5px;\n",
              "              transition: all 500ms ease-in-out;\n",
              "            }\n",
              "            .action:hover {\n",
              "              cursor: pointer;\n",
              "            }\n",
              "            #hide:hover::after {\n",
              "                content: \" X\";\n",
              "            }\n",
              "            #out:hover::after {\n",
              "                content: \"\";\n",
              "            }\n",
              "        </style>\n",
              "        \n",
              "            "
            ]
          },
          "metadata": {},
          "execution_count": 151
        }
      ]
    },
    {
      "cell_type": "code",
      "source": [
        "print(project.get_data(ids=[0,10]))"
      ],
      "metadata": {
        "colab": {
          "base_uri": "https://localhost:8080/"
        },
        "id": "LWgPcc8XJRgf",
        "outputId": "90afdba4-33ab-49aa-b658-290a8483625f"
      },
      "execution_count": 152,
      "outputs": [
        {
          "output_type": "stream",
          "name": "stdout",
          "text": [
            "[{'id': '0', 'id_': 'AA', 'text': 'How Atlas Works'}, {'id': '10', 'id_': 'Cg', 'text': 'your data is stored in an abstraction called a'}]\n"
          ]
        }
      ]
    },
    {
      "cell_type": "code",
      "source": [
        "map.topics.df"
      ],
      "metadata": {
        "id": "J9fnYJ06KEZf",
        "colab": {
          "base_uri": "https://localhost:8080/",
          "height": 424
        },
        "outputId": "076bcbf6-9573-4043-bb42-891c941db858"
      },
      "execution_count": 103,
      "outputs": [
        {
          "output_type": "execute_result",
          "data": {
            "text/plain": [
              "      id     topic_depth_1                   topic_depth_2  \\\n",
              "0      0        Embeddings  Atlas - Create, team, project,   \n",
              "1      1        Embeddings  Atlas - Create, team, project,   \n",
              "2      2        Embeddings                  Embeddings (2)   \n",
              "3      3        Embeddings                  Embeddings (2)   \n",
              "4      4        Embeddings                  Embeddings (2)   \n",
              "..   ...               ...                             ...   \n",
              "205  205        Embeddings  Atlas - Create, team, project,   \n",
              "206  206        Embeddings  Atlas - Create, team, project,   \n",
              "207  207            Sports                      Sports (2)   \n",
              "208  208  Computer Science                       🤷‍♂️5🤷‍♀️   \n",
              "209  209  Computer Science                       🤷‍♂️5🤷‍♀️   \n",
              "\n",
              "                             topic_depth_3  \n",
              "0                                    Atlas  \n",
              "1                                    Atlas  \n",
              "2    OpenAI - Programmatically Interacting  \n",
              "3    OpenAI - Programmatically Interacting  \n",
              "4    OpenAI - Programmatically Interacting  \n",
              "..                                     ...  \n",
              "205                                  Atlas  \n",
              "206                                  Atlas  \n",
              "207                             Sports (3)  \n",
              "208     Account and permissions management  \n",
              "209     Account and permissions management  \n",
              "\n",
              "[210 rows x 4 columns]"
            ],
            "text/html": [
              "\n",
              "  <div id=\"df-c852fb80-ea7f-4cb9-8a9d-fe9c960fb9e3\">\n",
              "    <div class=\"colab-df-container\">\n",
              "      <div>\n",
              "<style scoped>\n",
              "    .dataframe tbody tr th:only-of-type {\n",
              "        vertical-align: middle;\n",
              "    }\n",
              "\n",
              "    .dataframe tbody tr th {\n",
              "        vertical-align: top;\n",
              "    }\n",
              "\n",
              "    .dataframe thead th {\n",
              "        text-align: right;\n",
              "    }\n",
              "</style>\n",
              "<table border=\"1\" class=\"dataframe\">\n",
              "  <thead>\n",
              "    <tr style=\"text-align: right;\">\n",
              "      <th></th>\n",
              "      <th>id</th>\n",
              "      <th>topic_depth_1</th>\n",
              "      <th>topic_depth_2</th>\n",
              "      <th>topic_depth_3</th>\n",
              "    </tr>\n",
              "  </thead>\n",
              "  <tbody>\n",
              "    <tr>\n",
              "      <th>0</th>\n",
              "      <td>0</td>\n",
              "      <td>Embeddings</td>\n",
              "      <td>Atlas - Create, team, project,</td>\n",
              "      <td>Atlas</td>\n",
              "    </tr>\n",
              "    <tr>\n",
              "      <th>1</th>\n",
              "      <td>1</td>\n",
              "      <td>Embeddings</td>\n",
              "      <td>Atlas - Create, team, project,</td>\n",
              "      <td>Atlas</td>\n",
              "    </tr>\n",
              "    <tr>\n",
              "      <th>2</th>\n",
              "      <td>2</td>\n",
              "      <td>Embeddings</td>\n",
              "      <td>Embeddings (2)</td>\n",
              "      <td>OpenAI - Programmatically Interacting</td>\n",
              "    </tr>\n",
              "    <tr>\n",
              "      <th>3</th>\n",
              "      <td>3</td>\n",
              "      <td>Embeddings</td>\n",
              "      <td>Embeddings (2)</td>\n",
              "      <td>OpenAI - Programmatically Interacting</td>\n",
              "    </tr>\n",
              "    <tr>\n",
              "      <th>4</th>\n",
              "      <td>4</td>\n",
              "      <td>Embeddings</td>\n",
              "      <td>Embeddings (2)</td>\n",
              "      <td>OpenAI - Programmatically Interacting</td>\n",
              "    </tr>\n",
              "    <tr>\n",
              "      <th>...</th>\n",
              "      <td>...</td>\n",
              "      <td>...</td>\n",
              "      <td>...</td>\n",
              "      <td>...</td>\n",
              "    </tr>\n",
              "    <tr>\n",
              "      <th>205</th>\n",
              "      <td>205</td>\n",
              "      <td>Embeddings</td>\n",
              "      <td>Atlas - Create, team, project,</td>\n",
              "      <td>Atlas</td>\n",
              "    </tr>\n",
              "    <tr>\n",
              "      <th>206</th>\n",
              "      <td>206</td>\n",
              "      <td>Embeddings</td>\n",
              "      <td>Atlas - Create, team, project,</td>\n",
              "      <td>Atlas</td>\n",
              "    </tr>\n",
              "    <tr>\n",
              "      <th>207</th>\n",
              "      <td>207</td>\n",
              "      <td>Sports</td>\n",
              "      <td>Sports (2)</td>\n",
              "      <td>Sports (3)</td>\n",
              "    </tr>\n",
              "    <tr>\n",
              "      <th>208</th>\n",
              "      <td>208</td>\n",
              "      <td>Computer Science</td>\n",
              "      <td>🤷‍♂️5🤷‍♀️</td>\n",
              "      <td>Account and permissions management</td>\n",
              "    </tr>\n",
              "    <tr>\n",
              "      <th>209</th>\n",
              "      <td>209</td>\n",
              "      <td>Computer Science</td>\n",
              "      <td>🤷‍♂️5🤷‍♀️</td>\n",
              "      <td>Account and permissions management</td>\n",
              "    </tr>\n",
              "  </tbody>\n",
              "</table>\n",
              "<p>210 rows × 4 columns</p>\n",
              "</div>\n",
              "      <button class=\"colab-df-convert\" onclick=\"convertToInteractive('df-c852fb80-ea7f-4cb9-8a9d-fe9c960fb9e3')\"\n",
              "              title=\"Convert this dataframe to an interactive table.\"\n",
              "              style=\"display:none;\">\n",
              "        \n",
              "  <svg xmlns=\"http://www.w3.org/2000/svg\" height=\"24px\"viewBox=\"0 0 24 24\"\n",
              "       width=\"24px\">\n",
              "    <path d=\"M0 0h24v24H0V0z\" fill=\"none\"/>\n",
              "    <path d=\"M18.56 5.44l.94 2.06.94-2.06 2.06-.94-2.06-.94-.94-2.06-.94 2.06-2.06.94zm-11 1L8.5 8.5l.94-2.06 2.06-.94-2.06-.94L8.5 2.5l-.94 2.06-2.06.94zm10 10l.94 2.06.94-2.06 2.06-.94-2.06-.94-.94-2.06-.94 2.06-2.06.94z\"/><path d=\"M17.41 7.96l-1.37-1.37c-.4-.4-.92-.59-1.43-.59-.52 0-1.04.2-1.43.59L10.3 9.45l-7.72 7.72c-.78.78-.78 2.05 0 2.83L4 21.41c.39.39.9.59 1.41.59.51 0 1.02-.2 1.41-.59l7.78-7.78 2.81-2.81c.8-.78.8-2.07 0-2.86zM5.41 20L4 18.59l7.72-7.72 1.47 1.35L5.41 20z\"/>\n",
              "  </svg>\n",
              "      </button>\n",
              "      \n",
              "  <style>\n",
              "    .colab-df-container {\n",
              "      display:flex;\n",
              "      flex-wrap:wrap;\n",
              "      gap: 12px;\n",
              "    }\n",
              "\n",
              "    .colab-df-convert {\n",
              "      background-color: #E8F0FE;\n",
              "      border: none;\n",
              "      border-radius: 50%;\n",
              "      cursor: pointer;\n",
              "      display: none;\n",
              "      fill: #1967D2;\n",
              "      height: 32px;\n",
              "      padding: 0 0 0 0;\n",
              "      width: 32px;\n",
              "    }\n",
              "\n",
              "    .colab-df-convert:hover {\n",
              "      background-color: #E2EBFA;\n",
              "      box-shadow: 0px 1px 2px rgba(60, 64, 67, 0.3), 0px 1px 3px 1px rgba(60, 64, 67, 0.15);\n",
              "      fill: #174EA6;\n",
              "    }\n",
              "\n",
              "    [theme=dark] .colab-df-convert {\n",
              "      background-color: #3B4455;\n",
              "      fill: #D2E3FC;\n",
              "    }\n",
              "\n",
              "    [theme=dark] .colab-df-convert:hover {\n",
              "      background-color: #434B5C;\n",
              "      box-shadow: 0px 1px 3px 1px rgba(0, 0, 0, 0.15);\n",
              "      filter: drop-shadow(0px 1px 2px rgba(0, 0, 0, 0.3));\n",
              "      fill: #FFFFFF;\n",
              "    }\n",
              "  </style>\n",
              "\n",
              "      <script>\n",
              "        const buttonEl =\n",
              "          document.querySelector('#df-c852fb80-ea7f-4cb9-8a9d-fe9c960fb9e3 button.colab-df-convert');\n",
              "        buttonEl.style.display =\n",
              "          google.colab.kernel.accessAllowed ? 'block' : 'none';\n",
              "\n",
              "        async function convertToInteractive(key) {\n",
              "          const element = document.querySelector('#df-c852fb80-ea7f-4cb9-8a9d-fe9c960fb9e3');\n",
              "          const dataTable =\n",
              "            await google.colab.kernel.invokeFunction('convertToInteractive',\n",
              "                                                     [key], {});\n",
              "          if (!dataTable) return;\n",
              "\n",
              "          const docLinkHtml = 'Like what you see? Visit the ' +\n",
              "            '<a target=\"_blank\" href=https://colab.research.google.com/notebooks/data_table.ipynb>data table notebook</a>'\n",
              "            + ' to learn more about interactive tables.';\n",
              "          element.innerHTML = '';\n",
              "          dataTable['output_type'] = 'display_data';\n",
              "          await google.colab.output.renderOutput(dataTable, element);\n",
              "          const docLink = document.createElement('div');\n",
              "          docLink.innerHTML = docLinkHtml;\n",
              "          element.appendChild(docLink);\n",
              "        }\n",
              "      </script>\n",
              "    </div>\n",
              "  </div>\n",
              "  "
            ]
          },
          "metadata": {},
          "execution_count": 103
        }
      ]
    },
    {
      "cell_type": "code",
      "source": [
        "map.topics.hierarchy"
      ],
      "metadata": {
        "colab": {
          "base_uri": "https://localhost:8080/"
        },
        "id": "myNq7hLThZAL",
        "outputId": "85d5de2d-fcac-41f9-b020-aa8e41132bca"
      },
      "execution_count": 104,
      "outputs": [
        {
          "output_type": "execute_result",
          "data": {
            "text/plain": [
              "{'Computer Science': ['🤷\\u200d♂️5🤷\\u200d♀️'],\n",
              " 'Sports': ['Sports (2)', 'Distance'],\n",
              " 'Embeddings': ['Search and Access of Topics and Documents',\n",
              "  'Neural networks for semantically running encode',\n",
              "  'Embeddings (2)',\n",
              "  'Atlas - Create, team, project,'],\n",
              " 'Convert types to Arrow': ['🤷\\u200d♂️9🤷\\u200d♀️'],\n",
              " 'Search and Access of Topics and Documents': ['Arrow',\n",
              "  'Map of topics and their labels',\n",
              "  'Search and Access of Topics and Vectors'],\n",
              " 'Embeddings (2)': ['Audio, Video, Image, and Data',\n",
              "  'Embeddings (3)',\n",
              "  'OpenAI - Programmatically Interacting'],\n",
              " '🤷\\u200d♂️9🤷\\u200d♀️': ['Convert Pandas DataFrame to Pyarrow',\n",
              "  'Bit integers',\n",
              "  'Arrow Types'],\n",
              " 'Neural networks for semantically running encode': ['🤷\\u200d♂️17🤷\\u200d♀️'],\n",
              " 'Distance': ['🤷\\u200d♂️18🤷\\u200d♀️'],\n",
              " 'Atlas - Create, team, project,': ['Atlas'],\n",
              " '🤷\\u200d♂️5🤷\\u200d♀️': ['Account and permissions management', 'Stored data'],\n",
              " 'Sports (2)': ['Sports (3)', 'Golf and Tennis']}"
            ]
          },
          "metadata": {},
          "execution_count": 104
        }
      ]
    },
    {
      "cell_type": "code",
      "source": [
        "map.topics.metadata"
      ],
      "metadata": {
        "colab": {
          "base_uri": "https://localhost:8080/",
          "height": 1000
        },
        "id": "5AY5xox3hY0m",
        "outputId": "d41aaa67-99de-4208-b2fc-4bc967682671"
      },
      "execution_count": 153,
      "outputs": [
        {
          "output_type": "execute_result",
          "data": {
            "text/plain": [
              "    depth  topic_id                            topic_depth_1  \\\n",
              "0       1         1  Convert Python types to and from Arrow.   \n",
              "1       1         2          Atlas - Map - Create - Stores -   \n",
              "2       1         3                                   Sports   \n",
              "3       1         4                               Embeddings   \n",
              "4       2         5                                   Sports   \n",
              "5       2         6                                   Sports   \n",
              "6       2         7                               Embeddings   \n",
              "7       2         8                                   Sports   \n",
              "8       2         9  Convert Python types to and from Arrow.   \n",
              "9       2        10                                   Sports   \n",
              "10      2        11          Atlas - Map - Create - Stores -   \n",
              "11      2        12  Convert Python types to and from Arrow.   \n",
              "12      3        13                               Embeddings   \n",
              "13      3        14          Atlas - Map - Create - Stores -   \n",
              "14      3        15  Convert Python types to and from Arrow.   \n",
              "15      3        16                                   Sports   \n",
              "16      3        17                                   Sports   \n",
              "17      3        18                               Embeddings   \n",
              "18      3        19  Convert Python types to and from Arrow.   \n",
              "19      3        20                               Embeddings   \n",
              "20      3        21                                   Sports   \n",
              "21      3        22  Convert Python types to and from Arrow.   \n",
              "22      3        23                                   Sports   \n",
              "23      3        24                                   Sports   \n",
              "24      3        25                                   Sports   \n",
              "25      3        26  Convert Python types to and from Arrow.   \n",
              "26      3        27                               Embeddings   \n",
              "27      3        28          Atlas - Map - Create - Stores -   \n",
              "\n",
              "                                    topic_description  \\\n",
              "0   converted/bit/convert/strings/precision/Arrow/...   \n",
              "1   Atlas/Map/create/stores/builds/contextual/rein...   \n",
              "2   sports/distance/Tennis/topics/news/sport/Golf/...   \n",
              "3   embeddings/search/images/embedding/vectors/net...   \n",
              "4   distance/2D/Euclidean/close/semantically/dista...   \n",
              "5   sports/Tennis/Golf/sport/region/type/baseball/...   \n",
              "6                       audio/networks/map/space/view   \n",
              "7   permissions/account/collaborate/team/project/P...   \n",
              "8   types/strings/dictionary/stored/semantically/I...   \n",
              "9   topics/Map/granular/zoom/Floating/labels/corre...   \n",
              "10                                         🤷‍♂️11🤷‍♀️   \n",
              "11  bit/precision/converted/32/floats/uploaded/16/...   \n",
              "12  datasets/model/document/engine/standard/stored...   \n",
              "13  Map/map/Reading/articles/read/properties/navig...   \n",
              "14  stored/types/Arrow/strings/dictionary/IDs/conv...   \n",
              "15  sports/map/sport/news/articles/region/baseball...   \n",
              "16  team/project/collaborate/Project/read/articles...   \n",
              "17  embeddings/embedding/vectors/map/Embedding/dim...   \n",
              "18  precision/floats/16/larger/single/stored/milli...   \n",
              "19  search/view/networks/dataset/matching/neural/s...   \n",
              "20  adjacent/signify/label/Cup/Labels/Tennis/embed...   \n",
              "21  reside/computers/meaning/claims/draw/conclusio...   \n",
              "22  account/zone/requires/timezone/Permissions/Pri...   \n",
              "23                                         🤷‍♂️24🤷‍♀️   \n",
              "24                                         🤷‍♂️25🤷‍♀️   \n",
              "25  converted/Technical/Details/algorithm/pyarrow/...   \n",
              "26  audio/API/attach/support/visually/OpenAI/Nomic...   \n",
              "27  semantically/project/Project/indexing/embeddin...   \n",
              "\n",
              "                              topic_short_description        topic_depth_2  \\\n",
              "0             Convert Python types to and from Arrow.                  NaN   \n",
              "1                     Atlas - Map - Create - Stores -                  NaN   \n",
              "2                                              Sports                  NaN   \n",
              "3                                          Embeddings                  NaN   \n",
              "4                                            Distance             Distance   \n",
              "5                                          Sports (2)           Sports (2)   \n",
              "6                                   audio network map    audio network map   \n",
              "7                                 Account permissions  Account permissions   \n",
              "8                                               Types                Types   \n",
              "9                                       Map of topics        Map of topics   \n",
              "10                                         🤷‍♂️11🤷‍♀️           🤷‍♂️11🤷‍♀️   \n",
              "11                                  Technical Details    Technical Details   \n",
              "12                                           Datasets    audio network map   \n",
              "13                                                Map           🤷‍♂️11🤷‍♀️   \n",
              "14                                       Stored Types                Types   \n",
              "15                                         Sports (3)           Sports (2)   \n",
              "16                                           Teamwork  Account permissions   \n",
              "17                                     Embeddings (2)    audio network map   \n",
              "18                                   Floats precision    Technical Details   \n",
              "19                      Semantic search and retrieval    audio network map   \n",
              "20  adjacent signify label Cup Labels Tennis embed...           Sports (2)   \n",
              "21                    Computer-mediated communication                Types   \n",
              "22                        Account and zone management  Account permissions   \n",
              "23                                         🤷‍♂️24🤷‍♀️             Distance   \n",
              "24                                         🤷‍♂️25🤷‍♀️        Map of topics   \n",
              "25                        Converted Technical Details    Technical Details   \n",
              "26                Audio API - Attaching audio to Open    audio network map   \n",
              "27                                     Embeddings (3)           🤷‍♂️11🤷‍♀️   \n",
              "\n",
              "                                        topic_depth_3  \n",
              "0                                                 NaN  \n",
              "1                                                 NaN  \n",
              "2                                                 NaN  \n",
              "3                                                 NaN  \n",
              "4                                                 NaN  \n",
              "5                                                 NaN  \n",
              "6                                                 NaN  \n",
              "7                                                 NaN  \n",
              "8                                                 NaN  \n",
              "9                                                 NaN  \n",
              "10                                                NaN  \n",
              "11                                                NaN  \n",
              "12                                           Datasets  \n",
              "13                                                Map  \n",
              "14                                       Stored Types  \n",
              "15                                         Sports (3)  \n",
              "16                                           Teamwork  \n",
              "17                                     Embeddings (2)  \n",
              "18                                   Floats precision  \n",
              "19                      Semantic search and retrieval  \n",
              "20  adjacent signify label Cup Labels Tennis embed...  \n",
              "21                    Computer-mediated communication  \n",
              "22                        Account and zone management  \n",
              "23                                         🤷‍♂️24🤷‍♀️  \n",
              "24                                         🤷‍♂️25🤷‍♀️  \n",
              "25                        Converted Technical Details  \n",
              "26                Audio API - Attaching audio to Open  \n",
              "27                                     Embeddings (3)  "
            ],
            "text/html": [
              "\n",
              "  <div id=\"df-6f5684c8-420e-4425-bc7f-046a72e44348\">\n",
              "    <div class=\"colab-df-container\">\n",
              "      <div>\n",
              "<style scoped>\n",
              "    .dataframe tbody tr th:only-of-type {\n",
              "        vertical-align: middle;\n",
              "    }\n",
              "\n",
              "    .dataframe tbody tr th {\n",
              "        vertical-align: top;\n",
              "    }\n",
              "\n",
              "    .dataframe thead th {\n",
              "        text-align: right;\n",
              "    }\n",
              "</style>\n",
              "<table border=\"1\" class=\"dataframe\">\n",
              "  <thead>\n",
              "    <tr style=\"text-align: right;\">\n",
              "      <th></th>\n",
              "      <th>depth</th>\n",
              "      <th>topic_id</th>\n",
              "      <th>topic_depth_1</th>\n",
              "      <th>topic_description</th>\n",
              "      <th>topic_short_description</th>\n",
              "      <th>topic_depth_2</th>\n",
              "      <th>topic_depth_3</th>\n",
              "    </tr>\n",
              "  </thead>\n",
              "  <tbody>\n",
              "    <tr>\n",
              "      <th>0</th>\n",
              "      <td>1</td>\n",
              "      <td>1</td>\n",
              "      <td>Convert Python types to and from Arrow.</td>\n",
              "      <td>converted/bit/convert/strings/precision/Arrow/...</td>\n",
              "      <td>Convert Python types to and from Arrow.</td>\n",
              "      <td>NaN</td>\n",
              "      <td>NaN</td>\n",
              "    </tr>\n",
              "    <tr>\n",
              "      <th>1</th>\n",
              "      <td>1</td>\n",
              "      <td>2</td>\n",
              "      <td>Atlas - Map - Create - Stores -</td>\n",
              "      <td>Atlas/Map/create/stores/builds/contextual/rein...</td>\n",
              "      <td>Atlas - Map - Create - Stores -</td>\n",
              "      <td>NaN</td>\n",
              "      <td>NaN</td>\n",
              "    </tr>\n",
              "    <tr>\n",
              "      <th>2</th>\n",
              "      <td>1</td>\n",
              "      <td>3</td>\n",
              "      <td>Sports</td>\n",
              "      <td>sports/distance/Tennis/topics/news/sport/Golf/...</td>\n",
              "      <td>Sports</td>\n",
              "      <td>NaN</td>\n",
              "      <td>NaN</td>\n",
              "    </tr>\n",
              "    <tr>\n",
              "      <th>3</th>\n",
              "      <td>1</td>\n",
              "      <td>4</td>\n",
              "      <td>Embeddings</td>\n",
              "      <td>embeddings/search/images/embedding/vectors/net...</td>\n",
              "      <td>Embeddings</td>\n",
              "      <td>NaN</td>\n",
              "      <td>NaN</td>\n",
              "    </tr>\n",
              "    <tr>\n",
              "      <th>4</th>\n",
              "      <td>2</td>\n",
              "      <td>5</td>\n",
              "      <td>Sports</td>\n",
              "      <td>distance/2D/Euclidean/close/semantically/dista...</td>\n",
              "      <td>Distance</td>\n",
              "      <td>Distance</td>\n",
              "      <td>NaN</td>\n",
              "    </tr>\n",
              "    <tr>\n",
              "      <th>5</th>\n",
              "      <td>2</td>\n",
              "      <td>6</td>\n",
              "      <td>Sports</td>\n",
              "      <td>sports/Tennis/Golf/sport/region/type/baseball/...</td>\n",
              "      <td>Sports (2)</td>\n",
              "      <td>Sports (2)</td>\n",
              "      <td>NaN</td>\n",
              "    </tr>\n",
              "    <tr>\n",
              "      <th>6</th>\n",
              "      <td>2</td>\n",
              "      <td>7</td>\n",
              "      <td>Embeddings</td>\n",
              "      <td>audio/networks/map/space/view</td>\n",
              "      <td>audio network map</td>\n",
              "      <td>audio network map</td>\n",
              "      <td>NaN</td>\n",
              "    </tr>\n",
              "    <tr>\n",
              "      <th>7</th>\n",
              "      <td>2</td>\n",
              "      <td>8</td>\n",
              "      <td>Sports</td>\n",
              "      <td>permissions/account/collaborate/team/project/P...</td>\n",
              "      <td>Account permissions</td>\n",
              "      <td>Account permissions</td>\n",
              "      <td>NaN</td>\n",
              "    </tr>\n",
              "    <tr>\n",
              "      <th>8</th>\n",
              "      <td>2</td>\n",
              "      <td>9</td>\n",
              "      <td>Convert Python types to and from Arrow.</td>\n",
              "      <td>types/strings/dictionary/stored/semantically/I...</td>\n",
              "      <td>Types</td>\n",
              "      <td>Types</td>\n",
              "      <td>NaN</td>\n",
              "    </tr>\n",
              "    <tr>\n",
              "      <th>9</th>\n",
              "      <td>2</td>\n",
              "      <td>10</td>\n",
              "      <td>Sports</td>\n",
              "      <td>topics/Map/granular/zoom/Floating/labels/corre...</td>\n",
              "      <td>Map of topics</td>\n",
              "      <td>Map of topics</td>\n",
              "      <td>NaN</td>\n",
              "    </tr>\n",
              "    <tr>\n",
              "      <th>10</th>\n",
              "      <td>2</td>\n",
              "      <td>11</td>\n",
              "      <td>Atlas - Map - Create - Stores -</td>\n",
              "      <td>🤷‍♂️11🤷‍♀️</td>\n",
              "      <td>🤷‍♂️11🤷‍♀️</td>\n",
              "      <td>🤷‍♂️11🤷‍♀️</td>\n",
              "      <td>NaN</td>\n",
              "    </tr>\n",
              "    <tr>\n",
              "      <th>11</th>\n",
              "      <td>2</td>\n",
              "      <td>12</td>\n",
              "      <td>Convert Python types to and from Arrow.</td>\n",
              "      <td>bit/precision/converted/32/floats/uploaded/16/...</td>\n",
              "      <td>Technical Details</td>\n",
              "      <td>Technical Details</td>\n",
              "      <td>NaN</td>\n",
              "    </tr>\n",
              "    <tr>\n",
              "      <th>12</th>\n",
              "      <td>3</td>\n",
              "      <td>13</td>\n",
              "      <td>Embeddings</td>\n",
              "      <td>datasets/model/document/engine/standard/stored...</td>\n",
              "      <td>Datasets</td>\n",
              "      <td>audio network map</td>\n",
              "      <td>Datasets</td>\n",
              "    </tr>\n",
              "    <tr>\n",
              "      <th>13</th>\n",
              "      <td>3</td>\n",
              "      <td>14</td>\n",
              "      <td>Atlas - Map - Create - Stores -</td>\n",
              "      <td>Map/map/Reading/articles/read/properties/navig...</td>\n",
              "      <td>Map</td>\n",
              "      <td>🤷‍♂️11🤷‍♀️</td>\n",
              "      <td>Map</td>\n",
              "    </tr>\n",
              "    <tr>\n",
              "      <th>14</th>\n",
              "      <td>3</td>\n",
              "      <td>15</td>\n",
              "      <td>Convert Python types to and from Arrow.</td>\n",
              "      <td>stored/types/Arrow/strings/dictionary/IDs/conv...</td>\n",
              "      <td>Stored Types</td>\n",
              "      <td>Types</td>\n",
              "      <td>Stored Types</td>\n",
              "    </tr>\n",
              "    <tr>\n",
              "      <th>15</th>\n",
              "      <td>3</td>\n",
              "      <td>16</td>\n",
              "      <td>Sports</td>\n",
              "      <td>sports/map/sport/news/articles/region/baseball...</td>\n",
              "      <td>Sports (3)</td>\n",
              "      <td>Sports (2)</td>\n",
              "      <td>Sports (3)</td>\n",
              "    </tr>\n",
              "    <tr>\n",
              "      <th>16</th>\n",
              "      <td>3</td>\n",
              "      <td>17</td>\n",
              "      <td>Sports</td>\n",
              "      <td>team/project/collaborate/Project/read/articles...</td>\n",
              "      <td>Teamwork</td>\n",
              "      <td>Account permissions</td>\n",
              "      <td>Teamwork</td>\n",
              "    </tr>\n",
              "    <tr>\n",
              "      <th>17</th>\n",
              "      <td>3</td>\n",
              "      <td>18</td>\n",
              "      <td>Embeddings</td>\n",
              "      <td>embeddings/embedding/vectors/map/Embedding/dim...</td>\n",
              "      <td>Embeddings (2)</td>\n",
              "      <td>audio network map</td>\n",
              "      <td>Embeddings (2)</td>\n",
              "    </tr>\n",
              "    <tr>\n",
              "      <th>18</th>\n",
              "      <td>3</td>\n",
              "      <td>19</td>\n",
              "      <td>Convert Python types to and from Arrow.</td>\n",
              "      <td>precision/floats/16/larger/single/stored/milli...</td>\n",
              "      <td>Floats precision</td>\n",
              "      <td>Technical Details</td>\n",
              "      <td>Floats precision</td>\n",
              "    </tr>\n",
              "    <tr>\n",
              "      <th>19</th>\n",
              "      <td>3</td>\n",
              "      <td>20</td>\n",
              "      <td>Embeddings</td>\n",
              "      <td>search/view/networks/dataset/matching/neural/s...</td>\n",
              "      <td>Semantic search and retrieval</td>\n",
              "      <td>audio network map</td>\n",
              "      <td>Semantic search and retrieval</td>\n",
              "    </tr>\n",
              "    <tr>\n",
              "      <th>20</th>\n",
              "      <td>3</td>\n",
              "      <td>21</td>\n",
              "      <td>Sports</td>\n",
              "      <td>adjacent/signify/label/Cup/Labels/Tennis/embed...</td>\n",
              "      <td>adjacent signify label Cup Labels Tennis embed...</td>\n",
              "      <td>Sports (2)</td>\n",
              "      <td>adjacent signify label Cup Labels Tennis embed...</td>\n",
              "    </tr>\n",
              "    <tr>\n",
              "      <th>21</th>\n",
              "      <td>3</td>\n",
              "      <td>22</td>\n",
              "      <td>Convert Python types to and from Arrow.</td>\n",
              "      <td>reside/computers/meaning/claims/draw/conclusio...</td>\n",
              "      <td>Computer-mediated communication</td>\n",
              "      <td>Types</td>\n",
              "      <td>Computer-mediated communication</td>\n",
              "    </tr>\n",
              "    <tr>\n",
              "      <th>22</th>\n",
              "      <td>3</td>\n",
              "      <td>23</td>\n",
              "      <td>Sports</td>\n",
              "      <td>account/zone/requires/timezone/Permissions/Pri...</td>\n",
              "      <td>Account and zone management</td>\n",
              "      <td>Account permissions</td>\n",
              "      <td>Account and zone management</td>\n",
              "    </tr>\n",
              "    <tr>\n",
              "      <th>23</th>\n",
              "      <td>3</td>\n",
              "      <td>24</td>\n",
              "      <td>Sports</td>\n",
              "      <td>🤷‍♂️24🤷‍♀️</td>\n",
              "      <td>🤷‍♂️24🤷‍♀️</td>\n",
              "      <td>Distance</td>\n",
              "      <td>🤷‍♂️24🤷‍♀️</td>\n",
              "    </tr>\n",
              "    <tr>\n",
              "      <th>24</th>\n",
              "      <td>3</td>\n",
              "      <td>25</td>\n",
              "      <td>Sports</td>\n",
              "      <td>🤷‍♂️25🤷‍♀️</td>\n",
              "      <td>🤷‍♂️25🤷‍♀️</td>\n",
              "      <td>Map of topics</td>\n",
              "      <td>🤷‍♂️25🤷‍♀️</td>\n",
              "    </tr>\n",
              "    <tr>\n",
              "      <th>25</th>\n",
              "      <td>3</td>\n",
              "      <td>26</td>\n",
              "      <td>Convert Python types to and from Arrow.</td>\n",
              "      <td>converted/Technical/Details/algorithm/pyarrow/...</td>\n",
              "      <td>Converted Technical Details</td>\n",
              "      <td>Technical Details</td>\n",
              "      <td>Converted Technical Details</td>\n",
              "    </tr>\n",
              "    <tr>\n",
              "      <th>26</th>\n",
              "      <td>3</td>\n",
              "      <td>27</td>\n",
              "      <td>Embeddings</td>\n",
              "      <td>audio/API/attach/support/visually/OpenAI/Nomic...</td>\n",
              "      <td>Audio API - Attaching audio to Open</td>\n",
              "      <td>audio network map</td>\n",
              "      <td>Audio API - Attaching audio to Open</td>\n",
              "    </tr>\n",
              "    <tr>\n",
              "      <th>27</th>\n",
              "      <td>3</td>\n",
              "      <td>28</td>\n",
              "      <td>Atlas - Map - Create - Stores -</td>\n",
              "      <td>semantically/project/Project/indexing/embeddin...</td>\n",
              "      <td>Embeddings (3)</td>\n",
              "      <td>🤷‍♂️11🤷‍♀️</td>\n",
              "      <td>Embeddings (3)</td>\n",
              "    </tr>\n",
              "  </tbody>\n",
              "</table>\n",
              "</div>\n",
              "      <button class=\"colab-df-convert\" onclick=\"convertToInteractive('df-6f5684c8-420e-4425-bc7f-046a72e44348')\"\n",
              "              title=\"Convert this dataframe to an interactive table.\"\n",
              "              style=\"display:none;\">\n",
              "        \n",
              "  <svg xmlns=\"http://www.w3.org/2000/svg\" height=\"24px\"viewBox=\"0 0 24 24\"\n",
              "       width=\"24px\">\n",
              "    <path d=\"M0 0h24v24H0V0z\" fill=\"none\"/>\n",
              "    <path d=\"M18.56 5.44l.94 2.06.94-2.06 2.06-.94-2.06-.94-.94-2.06-.94 2.06-2.06.94zm-11 1L8.5 8.5l.94-2.06 2.06-.94-2.06-.94L8.5 2.5l-.94 2.06-2.06.94zm10 10l.94 2.06.94-2.06 2.06-.94-2.06-.94-.94-2.06-.94 2.06-2.06.94z\"/><path d=\"M17.41 7.96l-1.37-1.37c-.4-.4-.92-.59-1.43-.59-.52 0-1.04.2-1.43.59L10.3 9.45l-7.72 7.72c-.78.78-.78 2.05 0 2.83L4 21.41c.39.39.9.59 1.41.59.51 0 1.02-.2 1.41-.59l7.78-7.78 2.81-2.81c.8-.78.8-2.07 0-2.86zM5.41 20L4 18.59l7.72-7.72 1.47 1.35L5.41 20z\"/>\n",
              "  </svg>\n",
              "      </button>\n",
              "      \n",
              "  <style>\n",
              "    .colab-df-container {\n",
              "      display:flex;\n",
              "      flex-wrap:wrap;\n",
              "      gap: 12px;\n",
              "    }\n",
              "\n",
              "    .colab-df-convert {\n",
              "      background-color: #E8F0FE;\n",
              "      border: none;\n",
              "      border-radius: 50%;\n",
              "      cursor: pointer;\n",
              "      display: none;\n",
              "      fill: #1967D2;\n",
              "      height: 32px;\n",
              "      padding: 0 0 0 0;\n",
              "      width: 32px;\n",
              "    }\n",
              "\n",
              "    .colab-df-convert:hover {\n",
              "      background-color: #E2EBFA;\n",
              "      box-shadow: 0px 1px 2px rgba(60, 64, 67, 0.3), 0px 1px 3px 1px rgba(60, 64, 67, 0.15);\n",
              "      fill: #174EA6;\n",
              "    }\n",
              "\n",
              "    [theme=dark] .colab-df-convert {\n",
              "      background-color: #3B4455;\n",
              "      fill: #D2E3FC;\n",
              "    }\n",
              "\n",
              "    [theme=dark] .colab-df-convert:hover {\n",
              "      background-color: #434B5C;\n",
              "      box-shadow: 0px 1px 3px 1px rgba(0, 0, 0, 0.15);\n",
              "      filter: drop-shadow(0px 1px 2px rgba(0, 0, 0, 0.3));\n",
              "      fill: #FFFFFF;\n",
              "    }\n",
              "  </style>\n",
              "\n",
              "      <script>\n",
              "        const buttonEl =\n",
              "          document.querySelector('#df-6f5684c8-420e-4425-bc7f-046a72e44348 button.colab-df-convert');\n",
              "        buttonEl.style.display =\n",
              "          google.colab.kernel.accessAllowed ? 'block' : 'none';\n",
              "\n",
              "        async function convertToInteractive(key) {\n",
              "          const element = document.querySelector('#df-6f5684c8-420e-4425-bc7f-046a72e44348');\n",
              "          const dataTable =\n",
              "            await google.colab.kernel.invokeFunction('convertToInteractive',\n",
              "                                                     [key], {});\n",
              "          if (!dataTable) return;\n",
              "\n",
              "          const docLinkHtml = 'Like what you see? Visit the ' +\n",
              "            '<a target=\"_blank\" href=https://colab.research.google.com/notebooks/data_table.ipynb>data table notebook</a>'\n",
              "            + ' to learn more about interactive tables.';\n",
              "          element.innerHTML = '';\n",
              "          dataTable['output_type'] = 'display_data';\n",
              "          await google.colab.output.renderOutput(dataTable, element);\n",
              "          const docLink = document.createElement('div');\n",
              "          docLink.innerHTML = docLinkHtml;\n",
              "          element.appendChild(docLink);\n",
              "        }\n",
              "      </script>\n",
              "    </div>\n",
              "  </div>\n",
              "  "
            ]
          },
          "metadata": {},
          "execution_count": 153
        }
      ]
    },
    {
      "cell_type": "code",
      "source": [
        "query = \"how atlas works\"\n",
        "\n",
        "query_embed = np.array([embedd.embed_query(query)])"
      ],
      "metadata": {
        "id": "urBE58bfpu21"
      },
      "execution_count": 110,
      "outputs": []
    },
    {
      "cell_type": "code",
      "source": [
        "map.embeddings.vector_search(queries=query_embed,\n",
        "                             k = 2)"
      ],
      "metadata": {
        "colab": {
          "base_uri": "https://localhost:8080/"
        },
        "id": "lHRS09ZphYtf",
        "outputId": "d894df02-09a4-429a-b242-10d6296807a3"
      },
      "execution_count": 111,
      "outputs": [
        {
          "output_type": "execute_result",
          "data": {
            "text/plain": [
              "([['0', '147']], [[4.755779414722383e-08, 0.49030232429504395]])"
            ]
          },
          "metadata": {},
          "execution_count": 111
        }
      ]
    },
    {
      "cell_type": "code",
      "source": [
        "project.get_data(ids=['0', '147'])"
      ],
      "metadata": {
        "colab": {
          "base_uri": "https://localhost:8080/"
        },
        "id": "ZzA1wpGBTN1r",
        "outputId": "a9425db4-d97c-4c80-9636-75761ae5103b"
      },
      "execution_count": 162,
      "outputs": [
        {
          "output_type": "execute_result",
          "data": {
            "text/plain": [
              "[{'id': '0', 'id_': 'AA', 'text': 'How Atlas Works'},\n",
              " {'id': '147',\n",
              "  'id_': 'kw',\n",
              "  'text': 'Atlas stores and transfers data using a subset of'}]"
            ]
          },
          "metadata": {},
          "execution_count": 162
        }
      ]
    },
    {
      "cell_type": "code",
      "source": [
        "def vector_search(query,atlas_map,project,doc_num):\n",
        "  query_embed = np.array([embedd.embed_query(query)])\n",
        "  neigh, embeds =  atlas_map.embeddings.vector_search(queries=query_embed,\n",
        "                                     k = doc_num)\n",
        "  docs = project.get_data(ids = neigh[0])\n",
        "  texts = []\n",
        "\n",
        "  print(f'The Ids are {neigh[0]}')\n",
        "\n",
        "  for d in docs:\n",
        "    texts.append(d['text'])\n",
        "\n",
        "  return texts"
      ],
      "metadata": {
        "id": "aoAtusoZSVUT"
      },
      "execution_count": 167,
      "outputs": []
    },
    {
      "cell_type": "code",
      "source": [
        "tns = \"\"\"\n",
        "\n",
        "Search is a lot about discovery—the basic human need to learn and broaden your horizons. But searching still requires a lot of hard work by you, the user. So today I’m really excited to launch the Knowledge Graph, which will help you discover new information quickly and easily.\n",
        "\n",
        "Take a query like [taj mahal]. For more than four decades, search has essentially been about matching keywords to queries. To a search engine the words [taj mahal] have been just that—two words.\n",
        "\n",
        "But we all know that [taj mahal] has a much richer meaning. You might think of one of the world’s most beautiful monuments, or a Grammy Award-winning musician, or possibly even a casino in Atlantic City, NJ. Or, depending on when you last ate, the nearest Indian restaurant. It’s why we’ve been working on an intelligent model—in geek-speak, a “graph”—that understands real-world entities and their relationships to one another: things, not strings.\n",
        "\n",
        "The Knowledge Graph enables you to search for things, people or places that Google knows about—landmarks, celebrities, cities, sports teams, buildings, geographical features, movies, celestial objects, works of art and more—and instantly get information that’s relevant to your query. This is a critical first step towards building the next generation of search, which taps into the collective intelligence of the web and understands the world a bit more like people do.\n",
        "\n",
        "Google’s Knowledge Graph isn’t just rooted in public sources such as Freebase, Wikipedia and the CIA World Factbook. It’s also augmented at a much larger scale—because we’re focused on comprehensive breadth and depth. It currently contains more than 500 million objects, as well as more than 3.5 billion facts about and relationships between these different objects. And it’s tuned based on what people search for, and what we find out on the web.\n",
        "\n",
        "The Knowledge Graph enhances Google Search in three main ways to start:\n",
        "1. Find the right thing\n",
        "\n",
        "Language can be ambiguous—do you mean Taj Mahal the monument, or Taj Mahal the musician? Now Google understands the difference, and can narrow your search results just to the one you mean—just click on one of the links to see that particular slice of results:\n",
        "\n",
        "\n",
        "Taj Mahal\n",
        "\n",
        "This is one way the Knowledge Graph makes Google Search more intelligent—your results are more relevant because we understand these entities, and the nuances in their meaning, the way you do.\n",
        "2. Get the best summary\n",
        "\n",
        "With the Knowledge Graph, Google can better understand your query, so we can summarize relevant content around that topic, including key facts you’re likely to need for that particular thing. For example, if you’re looking for Marie Curie, you’ll see when she was born and died, but you’ll also get details on her education and scientific discoveries:\n",
        "Marie Curie\n",
        "\n",
        "How do we know which facts are most likely to be needed for each item? For that, we go back to our users and study in aggregate what they’ve been asking Google about each item. For example, people are interested in knowing what books Charles Dickens wrote, whereas they’re less interested in what books Frank Lloyd Wright wrote, and more in what buildings he designed.\n",
        "\n",
        "The Knowledge Graph also helps us understand the relationships between things. Marie Curie is a person in the Knowledge Graph, and she had two children, one of whom also won a Nobel Prize, as well as a husband, Pierre Curie, who claimed a third Nobel Prize for the family. All of these are linked in our graph. It’s not just a catalog of objects; it also models all these inter-relationships. It’s the intelligence between these different entities that’s the key.\n",
        "3. Go deeper and broader\n",
        "\n",
        "Finally, the part that’s the most fun of all—the Knowledge Graph can help you make some unexpected discoveries. You might learn a new fact or new connection that prompts a whole new line of inquiry. Do you know where Matt Groening, the creator of the Simpsons (one of my all-time favorite shows), got the idea for Homer, Marge and Lisa’s names? It’s a bit of a surprise:\n",
        "Matt Groening\n",
        "\n",
        "We’ve always believed that the perfect search engine should understand exactly what you mean and give you back exactly what you want. And we can now sometimes help answer your next question before you’ve asked it, because the facts we show are informed by what other people have searched for. For example, the information we show for Tom Cruise answers 37 percent of next queries that people ask about him. In fact, some of the most serendipitous discoveries I’ve made using the Knowledge Graph are through the magical “People also search for” feature. One of my favorite books is The White Tiger, the debut novel by Aravind Adiga, which won the prestigious Man Booker Prize. Using the Knowledge Graph, I discovered three other books that had won the same prize and one that won the Pulitzer. I can tell you, this suggestion was spot on!\n",
        "\n",
        "We’ve begun to gradually roll out this view of the Knowledge Graph to U.S. English users. It’s also going to be available on smartphones and tablets—read more about how we’ve tailored this to mobile devices. And watch our video (also available on our site about the Knowledge Graph) that gives a deeper dive into the details and technology, in the words of people who've worked on this project:\n",
        "Introducing the Knowledge Graph\n",
        "2:45\n",
        "Introducing the Knowledge Graph\n",
        "\n",
        "We hope this added intelligence will give you a more complete picture of your interest, provide smarter search results, and pique your curiosity on new topics. We’re proud of our first baby step—the Knowledge Graph—which will enable us to make search more intelligent, moving us closer to the \"Star Trek computer\" that I've always dreamt of building. Enjoy your lifelong journey of discovery, made easier by Google Search, so you can spend less time searching and more time doing what you love.\"\"\""
      ],
      "metadata": {
        "id": "pux9GZdOhYqf"
      },
      "execution_count": 114,
      "outputs": []
    },
    {
      "cell_type": "code",
      "source": [
        "tns_text = splitter.split_text(tns)"
      ],
      "metadata": {
        "id": "93MvwVrSLO1Z"
      },
      "execution_count": 115,
      "outputs": []
    },
    {
      "cell_type": "code",
      "source": [
        "project = AtlasProject(name='atlas documentation')"
      ],
      "metadata": {
        "colab": {
          "base_uri": "https://localhost:8080/"
        },
        "id": "zhmE4YnENvzx",
        "outputId": "f712d95c-b9e2-4227-a15a-66d7ad135cb5"
      },
      "execution_count": 126,
      "outputs": [
        {
          "output_type": "stream",
          "name": "stderr",
          "text": [
            "\u001b[32m2023-07-01 16:09:25.558\u001b[0m | \u001b[1mINFO    \u001b[0m | \u001b[36mnomic.project\u001b[0m:\u001b[36m__init__\u001b[0m:\u001b[36m672\u001b[0m - \u001b[1mLoading existing project `atlas documentation` from organization `kamaljp`.\u001b[0m\n"
          ]
        }
      ]
    },
    {
      "cell_type": "code",
      "source": [
        "exist_length = len(text_split)\n",
        "exist_length"
      ],
      "metadata": {
        "colab": {
          "base_uri": "https://localhost:8080/"
        },
        "id": "vdMERjIuQRvk",
        "outputId": "4b4f825d-03e6-4d7b-82dc-4ee5d48a72ea"
      },
      "execution_count": 137,
      "outputs": [
        {
          "output_type": "execute_result",
          "data": {
            "text/plain": [
              "210"
            ]
          },
          "metadata": {},
          "execution_count": 137
        }
      ]
    },
    {
      "cell_type": "code",
      "source": [
        "tns_dataset = []\n",
        "\n",
        "for indi,text in enumerate(tns_text):\n",
        "  tns_dataset.append({\"id\":indi + exist_length,\n",
        "                       \"text\":text,\n",
        "                      \"id_\":\"\"})"
      ],
      "metadata": {
        "id": "7wjj_rywLUYp"
      },
      "execution_count": 154,
      "outputs": []
    },
    {
      "cell_type": "code",
      "source": [
        "tns_dataset"
      ],
      "metadata": {
        "id": "3sn0k5Q_QKsa"
      },
      "execution_count": null,
      "outputs": []
    },
    {
      "cell_type": "code",
      "source": [
        "tns_embeddings = embedd.embed_documents(tns_text)"
      ],
      "metadata": {
        "id": "noOX7ZbXLkYf"
      },
      "execution_count": 117,
      "outputs": []
    },
    {
      "cell_type": "code",
      "source": [
        "project.id_field"
      ],
      "metadata": {
        "colab": {
          "base_uri": "https://localhost:8080/",
          "height": 35
        },
        "id": "CSWFcPEWN5Y8",
        "outputId": "77c65fe9-0a3a-4e16-e81c-0e932c7ec530"
      },
      "execution_count": 130,
      "outputs": [
        {
          "output_type": "execute_result",
          "data": {
            "text/plain": [
              "'id'"
            ],
            "application/vnd.google.colaboratory.intrinsic+json": {
              "type": "string"
            }
          },
          "metadata": {},
          "execution_count": 130
        }
      ]
    },
    {
      "cell_type": "code",
      "source": [
        "project.schema"
      ],
      "metadata": {
        "colab": {
          "base_uri": "https://localhost:8080/"
        },
        "id": "nrIyWSnGPzIn",
        "outputId": "07ce1232-e5b2-4e9b-df08-43b68a76f0a1"
      },
      "execution_count": 147,
      "outputs": [
        {
          "output_type": "execute_result",
          "data": {
            "text/plain": [
              "id: int32\n",
              "text: string\n",
              "id_: string\n",
              "_embeddings: fixed_size_list<item: halffloat>[768]\n",
              "  child 0, item: halffloat"
            ]
          },
          "metadata": {},
          "execution_count": 147
        }
      ]
    },
    {
      "cell_type": "code",
      "source": [
        "project.add_embeddings(\n",
        "      embeddings=np.array(tns_embeddings),\n",
        "      data=tns_dataset\n",
        "  )"
      ],
      "metadata": {
        "colab": {
          "base_uri": "https://localhost:8080/"
        },
        "id": "OME1ajzQLyut",
        "outputId": "d654fe9a-4deb-4ef9-d7af-060d80935d5f"
      },
      "execution_count": 155,
      "outputs": [
        {
          "output_type": "stream",
          "name": "stderr",
          "text": [
            "\u001b[32m2023-07-01 16:25:51.945\u001b[0m | \u001b[33m\u001b[1mWARNING \u001b[0m | \u001b[36mnomic.project\u001b[0m:\u001b[36m_validate_and_correct_arrow_upload\u001b[0m:\u001b[36m254\u001b[0m - \u001b[33m\u001b[1mid_field is not a string. Converting to string from int32\u001b[0m\n",
            "1it [00:01,  1.05s/it]\n",
            "\u001b[32m2023-07-01 16:25:53.003\u001b[0m | \u001b[1mINFO    \u001b[0m | \u001b[36mnomic.project\u001b[0m:\u001b[36m_add_data\u001b[0m:\u001b[36m1371\u001b[0m - \u001b[1mUpload succeeded.\u001b[0m\n"
          ]
        }
      ]
    },
    {
      "cell_type": "code",
      "source": [
        "project.create_index(name=project.name,\n",
        "                     build_topic_model=True,\n",
        "                     topic_label_field='text')"
      ],
      "metadata": {
        "colab": {
          "base_uri": "https://localhost:8080/",
          "height": 72
        },
        "id": "9rmkOL6PRoBs",
        "outputId": "a80c1a74-e4b9-4efe-9c77-6d59ef9ff470"
      },
      "execution_count": 156,
      "outputs": [
        {
          "output_type": "stream",
          "name": "stderr",
          "text": [
            "\u001b[32m2023-07-01 16:27:20.134\u001b[0m | \u001b[1mINFO    \u001b[0m | \u001b[36mnomic.project\u001b[0m:\u001b[36mcreate_index\u001b[0m:\u001b[36m1081\u001b[0m - \u001b[1mCreated map `atlas testing` in project `atlas testing`: https://atlas.nomic.ai/map/2768e6c9-9870-4ca3-8b0f-5577d3f64a20/7400158b-3782-47dc-825d-d26c53417352\u001b[0m\n"
          ]
        },
        {
          "output_type": "execute_result",
          "data": {
            "text/plain": [
              "atlas testing: https://atlas.nomic.ai/map/2768e6c9-9870-4ca3-8b0f-5577d3f64a20/7400158b-3782-47dc-825d-d26c53417352"
            ],
            "text/html": [
              "Atlas Projection atlas testing. Status Projecting. <a target=\"_blank\" href=\"https://atlas.nomic.ai/map/2768e6c9-9870-4ca3-8b0f-5577d3f64a20/7400158b-3782-47dc-825d-d26c53417352\">view online</a>"
            ]
          },
          "metadata": {},
          "execution_count": 156
        }
      ]
    },
    {
      "cell_type": "code",
      "source": [
        "map_1 = project.maps[0]"
      ],
      "metadata": {
        "id": "8W15lWmTR-Rh"
      },
      "execution_count": 173,
      "outputs": []
    },
    {
      "cell_type": "code",
      "source": [
        "map_1"
      ],
      "metadata": {
        "colab": {
          "base_uri": "https://localhost:8080/",
          "height": 530
        },
        "id": "sfwjZkO-UrE1",
        "outputId": "9de072b5-33f5-493c-b6b1-2ca4c769153f"
      },
      "execution_count": 174,
      "outputs": [
        {
          "output_type": "execute_result",
          "data": {
            "text/plain": [
              "atlas testing: https://atlas.nomic.ai/map/2768e6c9-9870-4ca3-8b0f-5577d3f64a20/7400158b-3782-47dc-825d-d26c53417352"
            ],
            "text/html": [
              "\n",
              "            <h3>Project: atlas testing</h3>\n",
              "            <script>\n",
              "            destroy = function() {\n",
              "                document.getElementById(\"iframe7400158b-3782-47dc-825d-d26c53417352\").remove()\n",
              "            }\n",
              "        </script>\n",
              "        <div class=\"actions\">\n",
              "            <div id=\"hide\" class=\"action\" onclick=\"destroy()\">Hide embedded project</div>\n",
              "            <div class=\"action\" id=\"out\">\n",
              "                <a href=\"https://atlas.nomic.ai/map/2768e6c9-9870-4ca3-8b0f-5577d3f64a20/7400158b-3782-47dc-825d-d26c53417352\" target=\"_blank\">Explore on atlas.nomic.ai</a>\n",
              "            </div>\n",
              "        </div>\n",
              "        \n",
              "        <iframe class=\"iframe\" id=\"iframe7400158b-3782-47dc-825d-d26c53417352\" allow=\"clipboard-read; clipboard-write\" src=\"https://atlas.nomic.ai/map/2768e6c9-9870-4ca3-8b0f-5577d3f64a20/7400158b-3782-47dc-825d-d26c53417352\">\n",
              "        </iframe>\n",
              "\n",
              "        <style>\n",
              "            .iframe {\n",
              "                /* vh can be **very** large in vscode ipynb. */\n",
              "                height: min(75vh, 66vw);\n",
              "                width: 100%;\n",
              "            }\n",
              "        </style>\n",
              "        \n",
              "        <style>\n",
              "            .actions {\n",
              "              display: block;\n",
              "            }\n",
              "            .action {\n",
              "              min-height: 18px;\n",
              "              margin: 5px;\n",
              "              transition: all 500ms ease-in-out;\n",
              "            }\n",
              "            .action:hover {\n",
              "              cursor: pointer;\n",
              "            }\n",
              "            #hide:hover::after {\n",
              "                content: \" X\";\n",
              "            }\n",
              "            #out:hover::after {\n",
              "                content: \"\";\n",
              "            }\n",
              "        </style>\n",
              "        \n",
              "            "
            ]
          },
          "metadata": {},
          "execution_count": 174
        }
      ]
    },
    {
      "cell_type": "code",
      "source": [
        "query = \"Strings not things\"\n",
        "\n",
        "vector_search(query,map_1,project,5)"
      ],
      "metadata": {
        "colab": {
          "base_uri": "https://localhost:8080/"
        },
        "id": "fBoTz4f2S6yt",
        "outputId": "5dd534e3-2763-43db-eeda-690e4854cb0e"
      },
      "execution_count": 176,
      "outputs": [
        {
          "output_type": "stream",
          "name": "stdout",
          "text": [
            "The Ids are ['240', '159', '166', '160', '185']\n"
          ]
        },
        {
          "output_type": "execute_result",
          "data": {
            "text/plain": [
              "['things, not strings.',\n",
              " 'Strings are converted to Arrow strings and',\n",
              " 'convert them to strings; or they are a field that',\n",
              " 'Arrow strings and stored as UTF-8.',\n",
              " 'but values stored as categorical must be strings.']"
            ]
          },
          "metadata": {},
          "execution_count": 176
        }
      ]
    },
    {
      "cell_type": "code",
      "source": [
        "query = \"What is Atlas\"\n",
        "\n",
        "vector_search(query,map_1,project,5)"
      ],
      "metadata": {
        "colab": {
          "base_uri": "https://localhost:8080/"
        },
        "id": "qGU5zkOSVB7A",
        "outputId": "e3e4c175-a410-49a6-8f6d-b9291c7c017a"
      },
      "execution_count": 177,
      "outputs": [
        {
          "output_type": "stream",
          "name": "stdout",
          "text": [
            "The Ids are ['0', '1', '147', '58', '78']\n"
          ]
        },
        {
          "output_type": "execute_result",
          "data": {
            "text/plain": [
              "['How Atlas Works',\n",
              " 'Atlas is a platform for visually and',\n",
              " 'Atlas stores and transfers data using a subset of',\n",
              " 'Unlike existing data stores, Atlas is built with',\n",
              " 'Reading an Atlas Map']"
            ]
          },
          "metadata": {},
          "execution_count": 177
        }
      ]
    }
  ]
}