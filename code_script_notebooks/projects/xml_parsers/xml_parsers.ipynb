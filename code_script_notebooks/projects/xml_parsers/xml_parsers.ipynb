{
 "cells": [
  {
   "cell_type": "code",
   "execution_count": null,
   "metadata": {},
   "outputs": [],
   "source": [
    "import xml.dom\n",
    "from xml.dom import minidom\n",
    "from xml.dom import pulldom "
   ]
  },
  {
   "cell_type": "code",
   "execution_count": null,
   "metadata": {},
   "outputs": [],
   "source": [
    "doc_smiley = minidom.parse(\"sample_svg.xml\")\n",
    "doc_smiley.attributes\n",
    "doc_smiley.childNodes"
   ]
  },
  {
   "cell_type": "code",
   "execution_count": null,
   "metadata": {},
   "outputs": [],
   "source": [
    "docs = minidom.parseString(\"\"\"\\\n",
    "                           <svg viewBox=\"-105 -100 210 270\">\n",
    "                           </svg>\"\"\")\n",
    "docs.hasChildNodes()"
   ]
  },
  {
   "cell_type": "code",
   "execution_count": null,
   "metadata": {},
   "outputs": [],
   "source": [
    "doc_smiley.version, doc_smiley.encoding, doc_smiley.standalone"
   ]
  },
  {
   "cell_type": "code",
   "execution_count": null,
   "metadata": {},
   "outputs": [],
   "source": [
    "dtd = doc_smiley.doctype\n",
    "dtd.entities['custom_entity'].childNodes"
   ]
  },
  {
   "cell_type": "code",
   "execution_count": null,
   "metadata": {},
   "outputs": [],
   "source": [
    "doc_smiley.documentElement"
   ]
  },
  {
   "cell_type": "code",
   "execution_count": null,
   "metadata": {},
   "outputs": [],
   "source": [
    "# XML doesn't carry meaning for the attributes or the elements, one needs to use .setAttribute() \n",
    "\n",
    "from xml.dom.minidom import parse, Node\n",
    "\n",
    "def set_id_attribute(parent, attribute_name=\"id\"):\n",
    "    \"\"\"Walk through all the elements, and set the attr\n",
    "    manually\"\"\"\n",
    "    if parent.nodeType == Node.ELEMENT_NODE:\n",
    "        if parent.hasAttribute(attribute_name):\n",
    "            parent.setIdAttribute(attribute_name)\n",
    "    for child in parent.childNodes:\n",
    "        set_id_attribute(child, attribute_name)\n",
    "\n",
    "document = parse(\"sample_svg.xml\")\n",
    "set_id_attribute(document)"
   ]
  },
  {
   "cell_type": "code",
   "execution_count": null,
   "metadata": {},
   "outputs": [],
   "source": [
    "document.getElementById(\"skin\")"
   ]
  },
  {
   "cell_type": "code",
   "execution_count": null,
   "metadata": {},
   "outputs": [],
   "source": [
    "document.getElementsByTagName(\"ellipse\")"
   ]
  },
  {
   "cell_type": "code",
   "execution_count": null,
   "metadata": {},
   "outputs": [],
   "source": [
    "root = document.documentElement"
   ]
  },
  {
   "cell_type": "code",
   "execution_count": null,
   "metadata": {},
   "outputs": [],
   "source": [
    "root.getElementsByTagName(\"ellipse\")"
   ]
  },
  {
   "cell_type": "code",
   "execution_count": null,
   "metadata": {},
   "outputs": [],
   "source": [
    "document.getElementsByTagNameNS(\n",
    "    \"http://www.inkscape.org/namespaces/inkscape\",\n",
    "    \"custom\"\n",
    ")\n",
    "# Search all the namespace provide the *\n",
    "document.getElementsByTagNameNS(\"*\", \"custom\")"
   ]
  },
  {
   "cell_type": "code",
   "execution_count": null,
   "metadata": {},
   "outputs": [],
   "source": [
    "element = document.getElementById('smiley')"
   ]
  },
  {
   "cell_type": "code",
   "execution_count": null,
   "metadata": {},
   "outputs": [],
   "source": [
    "element.parentNode, element.firstChild, element.lastChild, element.nextSibling, element.previousSibling"
   ]
  },
  {
   "cell_type": "code",
   "execution_count": null,
   "metadata": {},
   "outputs": [],
   "source": [
    "def remove_whitespace(node):\n",
    "    if node.nodeType == Node.TEXT_NODE:\n",
    "        if node.nodeValue.strip() == \"\":\n",
    "            node.nodeValue = \"\"\n",
    "    for child in node.childNodes:\n",
    "        remove_whitespace(child)\n",
    "\n",
    "document = parse(\"sample_svg.xml\")\n",
    "set_id_attribute(document)\n",
    "remove_whitespace(document)\n",
    "document.normalize()"
   ]
  },
  {
   "cell_type": "code",
   "execution_count": null,
   "metadata": {},
   "outputs": [],
   "source": [
    "element = document.getElementById(\"smiley\")\n",
    "element.childNodes"
   ]
  },
  {
   "cell_type": "code",
   "execution_count": null,
   "metadata": {},
   "outputs": [],
   "source": [
    "# Xml.Sax interface, the ContentHandler instance to be used\n",
    "\n",
    "from xml.sax import parse\n",
    "from xml.sax.handler import ContentHandler\n",
    "from xml.sax.xmlreader import AttributesImpl\n",
    "\n",
    "def clean(element):\n",
    "    element[\"value\"] = element[\"value\"].strip()\n",
    "    for key in (\"attributes\", \"children\", \"value\"):\n",
    "        if not element[key]:\n",
    "            del element[key]\n",
    "\n",
    "class SVGHandler(ContentHandler):\n",
    "    def __init__(self):\n",
    "        super().__init__()\n",
    "        self.element_stack = []\n",
    "\n",
    "    @property\n",
    "    def current_element(self):\n",
    "        return self.element_stack[-1]\n",
    "\n",
    "    # pass  # this class has to overload contentHandler\n",
    "    def startElement(self, name: str, attrs: AttributesImpl) -> None:\n",
    "        print(f\"Begin: <{name}>, {attrs.keys()}\")\n",
    "    \n",
    "    def endElement(self, name: str) -> None:\n",
    "        print(f\"End: </{name}>\")\n",
    "        clean(self.current_element)\n",
    "        if len(self.element_stack) > 1:\n",
    "            child = self.element_stack.pop()\n",
    "            self.current_element[\"children\"].append(child)\n",
    "     \n",
    "    def characters(self, content: str) -> None:\n",
    "        self.current_element[\"value\"] += content\n",
    "        if content.strip() != \"\":\n",
    "            print(\"Content:\", repr(content))\n",
    "    \n",
    "    def startElement(self, name, attrs):\n",
    "        self.element_stack.append({\n",
    "            \"name\": name,\n",
    "            \"attributes\": dict(attrs),\n",
    "            \"children\": [],\n",
    "            \"value\": \"\"\n",
    "        })"
   ]
  },
  {
   "cell_type": "code",
   "execution_count": null,
   "metadata": {},
   "outputs": [],
   "source": [
    "handler = SVGHandler()\n",
    "root = parse(\"sample_svg.xml\", handler)"
   ]
  },
  {
   "cell_type": "code",
   "execution_count": null,
   "metadata": {},
   "outputs": [],
   "source": [
    "import json\n",
    "\n",
    "print(json.dumps(root, indent=4))"
   ]
  },
  {
   "cell_type": "code",
   "execution_count": null,
   "metadata": {},
   "outputs": [],
   "source": [
    "# sax, pull and minidom modules work together. Pulldom acts as wrapper to sax and mini\n",
    "\n",
    "from xml.dom.pulldom import parse\n",
    "event_stream = parse(\"sample_svg.xml\")\n",
    "for event, node in event_stream:\n",
    "    print(event, node)"
   ]
  },
  {
   "cell_type": "markdown",
   "metadata": {},
   "source": [
    "All the above modules are antiquated modules, the pythonic alternate is xml.etree.ElementTree "
   ]
  },
  {
   "cell_type": "code",
   "execution_count": null,
   "metadata": {},
   "outputs": [],
   "source": [
    "import xml.etree.ElementTree as ET"
   ]
  },
  {
   "cell_type": "code",
   "execution_count": null,
   "metadata": {},
   "outputs": [],
   "source": [
    "etparse = ET.parse(\"sample_svg.xml\")"
   ]
  },
  {
   "cell_type": "code",
   "execution_count": null,
   "metadata": {},
   "outputs": [],
   "source": [
    "parseStr = ET.fromstring(\"\"\"\\\n",
    "                         <svg viewBox=\"-105 -100 210 270\">\n",
    "                         </svg>\"\"\")"
   ]
  },
  {
   "cell_type": "code",
   "execution_count": null,
   "metadata": {},
   "outputs": [],
   "source": [
    "#iterparse uses blocking calls, which is the downside\n",
    "for event, element in ET.iterparse(\"sample_svg.xml\", [\"comment\"]):\n",
    "    print(event, element.tag)\n",
    "    print(element.text.strip())"
   ]
  },
  {
   "cell_type": "markdown",
   "metadata": {},
   "source": [
    "Here’s a list of all the available event types:\n",
    "\n",
    "start: Start of an element\n",
    "\n",
    "end: End of an element\n",
    "\n",
    "comment: Comment element\n",
    "\n",
    "pi: Processing instruction, as in XSL\n",
    "\n",
    "start-ns: Start of a namespace\n",
    "\n",
    "end-ns: End of a namespace"
   ]
  },
  {
   "cell_type": "code",
   "execution_count": null,
   "metadata": {},
   "outputs": [],
   "source": [
    "import xml.etree.ElementTree as ET\n",
    "\n",
    "async def receive_data(url):\n",
    "    \"\"\"Download chunks of bytes from the URL asynchronously.\"\"\"\n",
    "    yield b\"<svg \"\n",
    "    yield b\"viewBox=\\\"-105 -100 210 270\\\"\"\n",
    "    yield b\"></svg>\"\n",
    "\n",
    "async def parse(url, events=None):\n",
    "    parser = ET.XMLPullParser(events)\n",
    "    async for chunk in receive_data(url):\n",
    "        parser.feed(chunk)\n",
    "        for event, element in parser.read_events():\n",
    "            yield event, element"
   ]
  },
  {
   "cell_type": "code",
   "execution_count": null,
   "metadata": {},
   "outputs": [],
   "source": [
    "root = etparse.getroot()"
   ]
  },
  {
   "cell_type": "code",
   "execution_count": null,
   "metadata": {},
   "outputs": [],
   "source": [
    "for descendant in root.iter():\n",
    "    print(descendant.tag)\n",
    "\n",
    "# It’s also possible to narrow down the descendants by filtering only specific tag names using "
   ]
  },
  {
   "cell_type": "code",
   "execution_count": null,
   "metadata": {},
   "outputs": [],
   "source": []
  },
  {
   "cell_type": "code",
   "execution_count": null,
   "metadata": {},
   "outputs": [],
   "source": [
    "elem = root[0]\n",
    "elem.tag"
   ]
  },
  {
   "cell_type": "code",
   "execution_count": null,
   "metadata": {},
   "outputs": [],
   "source": [
    "elem.text"
   ]
  },
  {
   "cell_type": "code",
   "execution_count": null,
   "metadata": {},
   "outputs": [],
   "source": [
    "elem.attrib"
   ]
  },
  {
   "cell_type": "code",
   "execution_count": null,
   "metadata": {},
   "outputs": [],
   "source": [
    "tag_name = \"{http://www.w3.org/2000/svg}ellipse\"\n",
    "for descendant in root.iter(tag_name):\n",
    "    print(descendant)"
   ]
  },
  {
   "cell_type": "code",
   "execution_count": null,
   "metadata": {},
   "outputs": [],
   "source": [
    "# dealing with namespace is easier with iterfind\n",
    "\n",
    "namespaces = {\n",
    "    \"\": \"http://www.w3.org/2000/svg\",\n",
    "    \"custom\": \"http://www.w3.org/2000/svg\"\n",
    "}\n",
    "\n",
    "for descendant in root.iterfind(\"g\", namespaces):\n",
    "    print(descendant)\n",
    "\n",
    "\n",
    "\n",
    "for descendant in root.iterfind(\"custom:g\", namespaces):\n",
    "    print(descendant)"
   ]
  },
  {
   "cell_type": "code",
   "execution_count": null,
   "metadata": {},
   "outputs": [],
   "source": [
    "# ET has limited support to xpath\n",
    "\n",
    "namespaces = {\"\": \"http://www.w3.org/2000/svg\"}\n",
    "\n",
    "root.iterfind(\"defs\", namespaces)\n",
    "\n",
    "\n",
    "root.findall(\"defs\", namespaces)\n",
    "\n",
    "\n",
    "root.find(\"defs\", namespaces)"
   ]
  },
  {
   "cell_type": "code",
   "execution_count": null,
   "metadata": {},
   "outputs": [],
   "source": [
    "# Similarly, you can extract text enclosed between the opening and closing tags of elements using .findtext() or get the inner text of the entire document with .itertext():\n",
    "\n",
    "namespaces = {\"i\": \"http://www.inkscape.org/namespaces/inkscape\"}\n",
    "\n",
    "root.findtext(\"i:custom\", namespaces=namespaces)\n",
    "\n",
    "\n",
    "for text in root.itertext():\n",
    "    if text.strip() != \"\":\n",
    "        print(text.strip())"
   ]
  },
  {
   "cell_type": "markdown",
   "metadata": {},
   "source": [
    "Libraries in XML parsing\n",
    "\n",
    "1) https://pypi.org/project/untangle/\n",
    "\n",
    "2) https://pypi.org/project/lxml/\n",
    "\n",
    "3) XmltoDict https://pypi.org/project/xmltodict/"
   ]
  },
  {
   "cell_type": "code",
   "execution_count": null,
   "metadata": {},
   "outputs": [],
   "source": [
    "!pip install untangle\n",
    "\n",
    "# This reveals the names of the element’s immediate children. Note that untangle redefines the meaning of dir() for its parsed documents"
   ]
  },
  {
   "cell_type": "code",
   "execution_count": null,
   "metadata": {},
   "outputs": [],
   "source": [
    "import untangle\n",
    "\n",
    "# Parse XML from a URL\n",
    "untangle.parse(\"http://localhost:8000/smiley.svg\")\n",
    "\n",
    "\n",
    "# Parse XML from a filename\n",
    "untangle.parse(\"smiley.svg\")\n",
    "\n",
    "\n",
    "# Parse XML from a file object\n",
    "with open(\"smiley.svg\") as file:\n",
    "    untangle.parse(file)\n",
    "\n",
    "\n",
    "\n",
    "# Parse XML from a Python string\n",
    "untangle.parse(\"\"\"\\\n",
    "<svg viewBox=\"-105 -100 210 270\">\n",
    "  <!-- More content goes here... -->\n",
    "</svg>\n",
    "\"\"\")\n",
    "\n",
    "import untangle\n",
    "\n",
    "document = untangle.parse(\"smiley.svg\")\n",
    "\n",
    "document.svg\n",
    "\n",
    "\n",
    "document.svg[\"viewBox\"]\n",
    "\n",
    "dir(document.svg)\n",
    "\n",
    "dir(document.svg.defs.linearGradient)\n",
    "\n",
    "for stop in document.svg.defs.linearGradient.stop:\n",
    "    print(stop)\n",
    "\n",
    "document.svg.defs.linearGradient.stop[1]"
   ]
  },
  {
   "cell_type": "code",
   "execution_count": null,
   "metadata": {},
   "outputs": [],
   "source": [
    "dir(untangle.parse(\"<com:company.web-app></com:company.web-app>\"))"
   ]
  },
  {
   "cell_type": "code",
   "execution_count": null,
   "metadata": {},
   "outputs": [],
   "source": [
    "element = document.svg.text\n",
    "\n",
    "list(vars(element).keys())\n",
    "\n",
    "\n",
    "element._name\n",
    "\n",
    "\n",
    "element._attributes\n",
    "\n",
    "\n",
    "element.children\n",
    "\n",
    "\n",
    "element.is_root\n",
    "\n",
    "\n",
    "element.cdata"
   ]
  },
  {
   "cell_type": "code",
   "execution_count": null,
   "metadata": {},
   "outputs": [],
   "source": [
    "# https://dumps.wikimedia.org/enwiki/latest/ to get xml archive data"
   ]
  },
  {
   "cell_type": "code",
   "execution_count": null,
   "metadata": {},
   "outputs": [],
   "source": [
    "import mmap\n",
    "import untangle\n",
    "\n",
    "class XMLTagStream:\n",
    "    def __init__(self, path, tag_name, encoding=\"utf-8\"):\n",
    "        self.file = open(path)\n",
    "        self.stream = mmap.mmap(\n",
    "            self.file.fileno(), 0, access=mmap.ACCESS_READ\n",
    "        )\n",
    "        self.tag_name = tag_name\n",
    "        self.encoding = encoding\n",
    "        self.start_tag = f\"<{tag_name}>\".encode(encoding)\n",
    "        self.end_tag = f\"</{tag_name}>\".encode(encoding)\n",
    "\n",
    "    def __enter__(self):\n",
    "        return self\n",
    "\n",
    "    def __exit__(self, *args, **kwargs):\n",
    "        self.stream.close()\n",
    "        self.file.close()\n",
    "\n",
    "    def __iter__(self):\n",
    "        end = 0\n",
    "        while (begin := self.stream.find(self.start_tag, end)) != -1:\n",
    "            end = self.stream.find(self.end_tag, begin)\n",
    "            yield self.parse(self.stream[begin: end + len(self.end_tag)])\n",
    "\n",
    "    def parse(self, chunk):\n",
    "        document = untangle.parse(chunk.decode(self.encoding))\n",
    "        return getattr(document, self.tag_name)"
   ]
  },
  {
   "cell_type": "markdown",
   "metadata": {},
   "source": [
    "If you like JSON but you’re not a fan of XML, then check out xmltodict, which tries to bridge the gap between both data formats. "
   ]
  },
  {
   "cell_type": "code",
   "execution_count": null,
   "metadata": {},
   "outputs": [],
   "source": [
    "import lxml.etree as ET\n",
    "\n",
    "xml_schema = ET.XMLSchema(\n",
    "    ET.fromstring(\"\"\"\\\n",
    "        <xsd:schema xmlns:xsd=\"http://www.w3.org/2001/XMLSchema\">\n",
    "            <xsd:element name=\"parent\"/>\n",
    "            <xsd:complexType name=\"SomeType\">\n",
    "                <xsd:sequence>\n",
    "                    <xsd:element name=\"child\" type=\"xsd:string\"/>\n",
    "                </xsd:sequence>\n",
    "            </xsd:complexType>\n",
    "        </xsd:schema>\"\"\"))\n",
    "\n",
    "valid = ET.fromstring(\"<parent><child></child></parent>\")\n",
    "invalid = ET.fromstring(\"<child><parent></parent></child>\")\n",
    "\n",
    "xml_schema.validate(valid)\n",
    "\n",
    "\n",
    "xml_schema.validate(invalid)"
   ]
  },
  {
   "attachments": {
    "image.png": {
     "image/png": "[encoded data removed]"
    }
   },
   "cell_type": "markdown",
   "metadata": {},
   "source": [
    "![image.png](attachment:image.png)"
   ]
  },
  {
   "cell_type": "code",
   "execution_count": null,
   "metadata": {},
   "outputs": [],
   "source": [
    "from bs4 import BeautifulSoup\n",
    "\n",
    "# Parse XML from a file object\n",
    "with open(\"sample_svg.xml\") as file:\n",
    "    soup = BeautifulSoup(file, features=\"lxml-xml\")\n",
    "\n",
    "# Parse XML from a Python string\n",
    "soup = BeautifulSoup(\"\"\"\\\n",
    "<svg viewBox=\"-105 -100 210 270\">\n",
    "  <!-- More content goes here... -->\n",
    "</svg>\n",
    "\"\"\", features=\"lxml-xml\")"
   ]
  },
  {
   "cell_type": "code",
   "execution_count": 3,
   "metadata": {},
   "outputs": [
    {
     "data": {
      "text/plain": [
       "[['name', 'age', 'job'],\n",
       " ['Alice', '25', 'Software Engineer'],\n",
       " ['Bob', '30', 'Data Scientist'],\n",
       " ['Carol', '28', 'Product Manager']]"
      ]
     },
     "execution_count": 3,
     "metadata": {},
     "output_type": "execute_result"
    }
   ],
   "source": [
    "# Building xml from csv files\n",
    "\n",
    "csv_file = \"\"\"name,age,job\n",
    "Alice,25,Software Engineer\n",
    "Bob,30,Data Scientist\n",
    "Carol,28,Product Manager\"\"\"\n",
    "\n",
    "csv_file = csv_file.split('\\n')\n",
    "reader = [data.split(',') for data in csv_file]\n",
    "reader"
   ]
  },
  {
   "cell_type": "code",
   "execution_count": 4,
   "metadata": {},
   "outputs": [],
   "source": [
    "import csv\n",
    "import xml.etree.ElementTree as ET\n",
    "\n",
    "# Create the root element\n",
    "root = ET.Element(\"root\")\n",
    "\n",
    "# Iterate over the rows in the CSV file\n",
    "for row in reader:\n",
    "    # Create a new element for each row\n",
    "    element = ET.SubElement(root, \"row\")\n",
    "\n",
    "    # Add the values from the CSV row to the element\n",
    "    for value in row:\n",
    "        ET.SubElement(element, \"value\").text = value\n",
    "\n",
    "# Write the XML file\n",
    "with open(\"data.xml\", \"w\") as xmlfile:\n",
    "    xmlfile.write(ET.tostring(root, encoding=\"unicode\"))"
   ]
  },
  {
   "cell_type": "markdown",
   "metadata": {},
   "source": [
    "### To parse XML using XSLT in Python, you can use the lxml library. Here are the steps:\n",
    "\n",
    "\n",
    "Import the lxml.etree library.\n",
    "\n",
    "Parse the XML file using the ET.parse() function.\n",
    "\n",
    "Parse the XSLT file using the ET.parse() function.\n",
    "\n",
    "Create a transform object using the ET.XSLT() function.\n",
    "\n",
    "Apply the transform to the XML document using the transform() function.\n",
    "\n",
    "Get the result of the transformation as a string using the ET.tostring() function."
   ]
  },
  {
   "cell_type": "code",
   "execution_count": 6,
   "metadata": {},
   "outputs": [],
   "source": [
    "import lxml.etree as ET\n",
    "xml_filename = \"xml_data_worker.xml\"\n",
    "xsl_filename = \"city_workers.xslt\""
   ]
  },
  {
   "cell_type": "code",
   "execution_count": 7,
   "metadata": {},
   "outputs": [],
   "source": [
    "dom = ET.parse(xml_filename)\n",
    "xslt = ET.parse(xsl_filename)"
   ]
  },
  {
   "cell_type": "code",
   "execution_count": 9,
   "metadata": {},
   "outputs": [],
   "source": [
    "from rich import print"
   ]
  },
  {
   "cell_type": "code",
   "execution_count": null,
   "metadata": {},
   "outputs": [],
   "source": [
    "transform = ET.XSLT(xslt)\n",
    "newdom = transform(dom)\n",
    "print(ET.tostring(newdom, pretty_print=True))"
   ]
  },
  {
   "cell_type": "code",
   "execution_count": 11,
   "metadata": {},
   "outputs": [],
   "source": [
    "with open(\"city_workers.xml\", \"w\") as xmlfile:\n",
    "    xmlfile.write(ET.tostring(newdom, encoding=\"unicode\"))"
   ]
  },
  {
   "cell_type": "code",
   "execution_count": 12,
   "metadata": {},
   "outputs": [],
   "source": [
    "from xml.dom.minidom import parseString\n",
    "\n",
    "newdom_min = parseString(ET.tostring(newdom, encoding='unicode'))"
   ]
  },
  {
   "cell_type": "code",
   "execution_count": null,
   "metadata": {},
   "outputs": [],
   "source": [
    "print(newdom_min.toprettyxml())  # print with rich provides the look and feel of the xml data"
   ]
  },
  {
   "cell_type": "markdown",
   "metadata": {},
   "source": [
    "The XML objects can be bound to Python Objects using xpath\n",
    "\n",
    "Build a custom protocol and use data binding to translate XML into native Python objects.\n",
    "Define a data model declaratively using Xpath, and extract the information from XML (refer server.py)\n",
    "\n",
    "Interesting option would be defining custom model classes with descriptors that declare how to look up information using XPath expressions. That’s the part that starts to resemble Django models or Pydantic schema definitions."
   ]
  },
  {
   "cell_type": "code",
   "execution_count": 16,
   "metadata": {},
   "outputs": [],
   "source": [
    "import lxml.objectify\n",
    "\n",
    "class XPath:\n",
    "    def __init__(self, expression, /, default=None, multiple=False):\n",
    "        self.expression = expression\n",
    "        self.default = default\n",
    "        self.multiple = multiple\n",
    "\n",
    "    def __set_name__(self, owner, name):\n",
    "        self.attribute_name = name\n",
    "        self.annotation = owner.__annotations__.get(name)\n",
    "\n",
    "    def __get__(self, instance, owner):\n",
    "        value = self.extract(instance.xml)\n",
    "        instance.__dict__[self.attribute_name] = value\n",
    "        return value\n",
    "\n",
    "    def extract(self, xml):\n",
    "        elements = xml.xpath(self.expression)\n",
    "        if elements:\n",
    "            if self.multiple:\n",
    "                if self.annotation:\n",
    "                    return [self.annotation(x) for x in elements]\n",
    "                else:\n",
    "                    return elements\n",
    "            else:\n",
    "                first = elements[0]\n",
    "                if self.annotation:\n",
    "                    return self.annotation(first)\n",
    "                else:\n",
    "                    return first\n",
    "        else:\n",
    "            return self.default\n",
    "\n",
    "class Model:\n",
    "    \"\"\"Abstract base class for your models.\"\"\"\n",
    "    def __init__(self, data):\n",
    "        if isinstance(data, str):\n",
    "            self.xml = lxml.objectify.fromstring(data)\n",
    "        elif isinstance(data, lxml.objectify.ObjectifiedElement):\n",
    "            self.xml = data\n",
    "        else:\n",
    "            raise TypeError(\"Unsupported data type:\", type(data))\n",
    "        \n",
    "\n",
    "class Event(Model):\n",
    "    \"\"\"Base class for event messages with common elements.\"\"\"\n",
    "    type_: str = XPath(\"./Type\")\n",
    "    timestamp: float = XPath(\"./Timestamp\")\n",
    "\n",
    "class Modifiers(Model):\n",
    "    alt: bool = XPath(\"./Alt\")\n",
    "    ctrl: bool = XPath(\"./Ctrl\")\n",
    "    shift: bool = XPath(\"./Shift\")\n",
    "    meta: bool = XPath(\"./Meta\")\n",
    "\n",
    "class KeyboardEvent(Event):\n",
    "    key: str = XPath(\"./Key/Code\")\n",
    "    modifiers: Modifiers = XPath(\"./Modifiers\")\n",
    "\n",
    "class MouseEvent(Event):\n",
    "    x: int = XPath(\"./Cursor/Screen/@x\")\n",
    "    y: int = XPath(\"./Cursor/Screen/@y\")\n",
    "    modifiers: Modifiers = XPath(\"./Modifiers\")"
   ]
  },
  {
   "cell_type": "code",
   "execution_count": 18,
   "metadata": {},
   "outputs": [],
   "source": [
    "import xml"
   ]
  },
  {
   "cell_type": "code",
   "execution_count": null,
   "metadata": {},
   "outputs": [],
   "source": [
    "if xml.tag == \"KeyboardEvent\":\n",
    "    event = KeyboardEvent(xml)\n",
    "    if event.type_ == \"keyup\":\n",
    "        print(\"Key:\", event.key)\n",
    "elif xml.tag == \"MouseEvent\":\n",
    "    event = MouseEvent(xml)\n",
    "    print(\"Mouse:\", event.x, event.y)\n",
    "else:\n",
    "    print(\"Unrecognized event type\")"
   ]
  },
  {
   "cell_type": "markdown",
   "metadata": {},
   "source": [
    "#### https://pypi.org/project/PyXB/\n",
    "\n",
    "PyXB is pure python package, generated python code from the classes that correspond to datastructures defined by XMLSchema\n",
    "\n",
    "#### http://hg.code.sf.net/p/generateds/code\n",
    "\n",
    "generateDS is another library that creates Python DS from xml"
   ]
  },
  {
   "cell_type": "code",
   "execution_count": null,
   "metadata": {},
   "outputs": [],
   "source": [
    "##### Dont run this cell, its xml-bomb code that creates recursive references\n",
    "\n",
    "import xml.etree.ElementTree as ET\n",
    "ET.fromstring(\"\"\"\\\n",
    "<?xml version=\"1.0\"?>\n",
    "<!DOCTYPE lolz [\n",
    " <!ENTITY lol \"lol\">\n",
    " <!ELEMENT lolz (#PCDATA)>\n",
    " <!ENTITY lol1 \"&lol;&lol;&lol;&lol;&lol;&lol;&lol;&lol;&lol;&lol;\">\n",
    " <!ENTITY lol2 \"&lol1;&lol1;&lol1;&lol1;&lol1;&lol1;&lol1;&lol1;&lol1;&lol1;\">\n",
    " <!ENTITY lol3 \"&lol2;&lol2;&lol2;&lol2;&lol2;&lol2;&lol2;&lol2;&lol2;&lol2;\">\n",
    " <!ENTITY lol4 \"&lol3;&lol3;&lol3;&lol3;&lol3;&lol3;&lol3;&lol3;&lol3;&lol3;\">\n",
    " <!ENTITY lol5 \"&lol4;&lol4;&lol4;&lol4;&lol4;&lol4;&lol4;&lol4;&lol4;&lol4;\">\n",
    " <!ENTITY lol6 \"&lol5;&lol5;&lol5;&lol5;&lol5;&lol5;&lol5;&lol5;&lol5;&lol5;\">\n",
    " <!ENTITY lol7 \"&lol6;&lol6;&lol6;&lol6;&lol6;&lol6;&lol6;&lol6;&lol6;&lol6;\">\n",
    " <!ENTITY lol8 \"&lol7;&lol7;&lol7;&lol7;&lol7;&lol7;&lol7;&lol7;&lol7;&lol7;\">\n",
    " <!ENTITY lol9 \"&lol8;&lol8;&lol8;&lol8;&lol8;&lol8;&lol8;&lol8;&lol8;&lol8;\">\n",
    "]>\n",
    "<lolz>&lol9;</lolz>\"\"\")"
   ]
  },
  {
   "cell_type": "code",
   "execution_count": 21,
   "metadata": {},
   "outputs": [],
   "source": [
    "from xml.sax import make_parser\n",
    "from xml.sax.handler import feature_external_ges\n",
    "\n",
    "parser = make_parser()\n",
    "parser.setFeature(feature_external_ges, True)"
   ]
  },
  {
   "cell_type": "code",
   "execution_count": null,
   "metadata": {},
   "outputs": [],
   "source": [
    "#### This is attack vector..\n",
    "from xml.dom.minidom import parseString\n",
    "#  attack known as XXE takes advantage of general external entities\n",
    "xml = \"\"\"\\\n",
    "<?xml version=\"1.0\" encoding=\"UTF-8\"?>\n",
    "<!DOCTYPE root [\n",
    "    <!ENTITY usernames SYSTEM \"/etc/passwd\">\n",
    "]>\n",
    "<root>&usernames;</root>\"\"\"\n",
    "\n",
    "document = parseString(xml, parser)\n",
    "\n",
    "print(document.documentElement.toxml())"
   ]
  },
  {
   "cell_type": "code",
   "execution_count": null,
   "metadata": {},
   "outputs": [],
   "source": []
  }
 ],
 "metadata": {
  "kernelspec": {
   "display_name": "Python 3",
   "language": "python",
   "name": "python3"
  },
  "language_info": {
   "codemirror_mode": {
    "name": "ipython",
    "version": 3
   },
   "file_extension": ".py",
   "mimetype": "text/x-python",
   "name": "python",
   "nbconvert_exporter": "python",
   "pygments_lexer": "ipython3",
   "version": "3.11.4"
  }
 },
 "nbformat": 4,
 "nbformat_minor": 2
}
