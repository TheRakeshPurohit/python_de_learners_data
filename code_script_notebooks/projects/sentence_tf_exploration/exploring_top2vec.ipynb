{
  "nbformat": 4,
  "nbformat_minor": 0,
  "metadata": {
    "colab": {
      "provenance": []
    },
    "kernelspec": {
      "name": "python3",
      "display_name": "Python 3"
    },
    "language_info": {
      "name": "python"
    }
  },
  "cells": [
    {
      "cell_type": "code",
      "execution_count": 8,
      "metadata": {
        "id": "Z-oP9mAedGRm"
      },
      "outputs": [],
      "source": [
        "!pip install top2vec[sentence_encoders] langchain > /dev/null"
      ]
    },
    {
      "cell_type": "code",
      "source": [
        "from langchain.text_splitter import RecursiveCharacterTextSplitter\n",
        "\n",
        "txt_spl = RecursiveCharacterTextSplitter(chunk_size=75,\n",
        "                                         chunk_overlap=15,\n",
        "                                         length_function=len)"
      ],
      "metadata": {
        "id": "B5io9gQddiV1"
      },
      "execution_count": 3,
      "outputs": []
    },
    {
      "cell_type": "code",
      "source": [
        "with open('/content/mail_collector.txt','r') as loc:\n",
        "  data = loc.read()"
      ],
      "metadata": {
        "id": "bf7z-9zYeb6X"
      },
      "execution_count": 4,
      "outputs": []
    },
    {
      "cell_type": "code",
      "source": [
        "text_docs = txt_spl.split_text(data)\n",
        "len(text_docs)"
      ],
      "metadata": {
        "colab": {
          "base_uri": "https://localhost:8080/"
        },
        "id": "AdborICOej2q",
        "outputId": "0d553a38-8c53-42bb-d80b-48bf31b30c5c"
      },
      "execution_count": 5,
      "outputs": [
        {
          "output_type": "execute_result",
          "data": {
            "text/plain": [
              "105"
            ]
          },
          "metadata": {},
          "execution_count": 5
        }
      ]
    },
    {
      "cell_type": "code",
      "source": [
        "from top2vec import Top2Vec\n",
        "\n",
        "model = Top2Vec(text_docs, speed='learn', workers=2)"
      ],
      "metadata": {
        "colab": {
          "base_uri": "https://localhost:8080/"
        },
        "id": "xmM_p3b2er0d",
        "outputId": "404b0cb1-91e3-4f3f-9511-751144a38004"
      },
      "execution_count": null,
      "outputs": [
        {
          "output_type": "stream",
          "name": "stderr",
          "text": [
            "2023-04-27 06:54:03,725 - top2vec - INFO - Pre-processing documents for training\n",
            "INFO:top2vec:Pre-processing documents for training\n",
            "2023-04-27 06:54:03,738 - top2vec - INFO - Creating joint document/word embedding\n",
            "INFO:top2vec:Creating joint document/word embedding\n",
            "Exception in thread Thread-19:\n",
            "Traceback (most recent call last):\n",
            "  File \"/usr/lib/python3.9/threading.py\", line 980, in _bootstrap_inner\n",
            "    self.run()\n",
            "  File \"/usr/lib/python3.9/threading.py\", line 917, in run\n",
            "    self._target(*self._args, **self._kwargs)\n",
            "  File \"/usr/local/lib/python3.9/dist-packages/gensim/models/word2vec.py\", line 1166, in _worker_loop\n",
            "    tally, raw_tally = self._do_train_job(data_iterable, alpha, thread_private_mem)\n",
            "  File \"/usr/local/lib/python3.9/dist-packages/gensim/models/doc2vec.py\", line 424, in _do_train_job\n",
            "    tally += train_document_dbow(\n",
            "  File \"gensim/models/doc2vec_inner.pyx\", line 359, in gensim.models.doc2vec_inner.train_document_dbow\n",
            "TypeError: Cannot convert list to numpy.ndarray\n"
          ]
        }
      ]
    },
    {
      "cell_type": "code",
      "source": [],
      "metadata": {
        "id": "JeBK0PuOerwi"
      },
      "execution_count": null,
      "outputs": []
    },
    {
      "cell_type": "code",
      "source": [],
      "metadata": {
        "id": "KMej0FKMerte"
      },
      "execution_count": null,
      "outputs": []
    },
    {
      "cell_type": "code",
      "source": [],
      "metadata": {
        "id": "avP_JSojerpO"
      },
      "execution_count": null,
      "outputs": []
    },
    {
      "cell_type": "code",
      "source": [],
      "metadata": {
        "id": "IW9Iej12erdM"
      },
      "execution_count": null,
      "outputs": []
    }
  ]
}