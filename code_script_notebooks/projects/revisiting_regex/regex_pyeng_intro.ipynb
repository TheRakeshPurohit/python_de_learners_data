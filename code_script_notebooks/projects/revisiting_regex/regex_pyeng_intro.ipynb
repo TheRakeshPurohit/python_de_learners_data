{
 "cells": [
  {
   "cell_type": "markdown",
   "metadata": {},
   "source": [
    "https://www.python-engineer.com/posts/regular-expressions/"
   ]
  },
  {
   "cell_type": "code",
   "execution_count": null,
   "metadata": {},
   "outputs": [],
   "source": [
    "import re\n",
    "\n",
    "test_stmt = \"123abc456789abc123ABC\""
   ]
  },
  {
   "cell_type": "code",
   "execution_count": null,
   "metadata": {},
   "outputs": [],
   "source": [
    "# Match a string like 'abc' in a given sentence"
   ]
  },
  {
   "cell_type": "code",
   "execution_count": null,
   "metadata": {},
   "outputs": [],
   "source": [
    "# compile the regex string"
   ]
  },
  {
   "cell_type": "code",
   "execution_count": null,
   "metadata": {},
   "outputs": [],
   "source": [
    "# The match methods\n",
    "# finditer"
   ]
  },
  {
   "cell_type": "code",
   "execution_count": null,
   "metadata": {},
   "outputs": [],
   "source": [
    "# findall"
   ]
  },
  {
   "cell_type": "code",
   "execution_count": null,
   "metadata": {},
   "outputs": [],
   "source": [
    "# match # finds only at the beginnin of the sentence"
   ]
  },
  {
   "cell_type": "code",
   "execution_count": null,
   "metadata": {},
   "outputs": [],
   "source": [
    "# search "
   ]
  },
  {
   "cell_type": "code",
   "execution_count": null,
   "metadata": {},
   "outputs": [],
   "source": [
    "# Modification functions like sub and split"
   ]
  },
  {
   "cell_type": "code",
   "execution_count": null,
   "metadata": {},
   "outputs": [],
   "source": [
    "# get the method of the match in the finditer method\n",
    "# group / start/ end / span"
   ]
  },
  {
   "cell_type": "markdown",
   "metadata": {},
   "source": [
    "All meta chars \n",
    "\n",
    ". : Any char except newline\n",
    "\n",
    "^ : Starts with  \n",
    "\n",
    "$ : Ends with\n",
    "\n",
    "* : Zero or more occurrences\n",
    "\n",
    "+ : Once or more occurrences\n",
    "\n",
    "? : 0 or one, may or may not be present\n",
    "\n",
    "{} : Exactly specified num of occurences\n",
    "\n",
    "{4} : specifically 4 times repeated\n",
    "\n",
    "{4, 3} : specifically 4 times repeated\n",
    "\n",
    "[] : Set of characters  (have one or more chars)\n",
    "\n",
    "\\ : Special or escape existing chars\n",
    "\n",
    "| : conditions\n",
    "\n",
    "( ) : Capture the group"
   ]
  },
  {
   "cell_type": "code",
   "execution_count": null,
   "metadata": {},
   "outputs": [],
   "source": [
    "# Experiment with each of the meta chars"
   ]
  },
  {
   "cell_type": "markdown",
   "metadata": {},
   "source": [
    "More special characters\n",
    "\n",
    "\\d : Matches any Decimal digit [0-9]\n",
    "\n",
    "\\D : Any non-digit character \n",
    "\n",
    "\\s : Any White Space char including tab, space, newline\n",
    "\n",
    "\\S : non-white space character\n",
    "\n",
    "\\w : matches AlphaNumeric\n",
    "\n",
    "\\W : matches non-Alphanumeric (Spl Chars?)\n",
    "\n",
    "\\b : Specified chars at beginning of block, which follows the white space\n",
    "\n",
    "\\B : Specified chars not at the beginning"
   ]
  },
  {
   "cell_type": "code",
   "execution_count": null,
   "metadata": {},
   "outputs": [],
   "source": [
    "test_string = \"Hello hellro 123_ heyoh ohhey\""
   ]
  },
  {
   "cell_type": "code",
   "execution_count": null,
   "metadata": {},
   "outputs": [],
   "source": [
    "# find digits , non-digits, white space, non-white space, alpha numeric, non-alphanumeric, match block start and end"
   ]
  },
  {
   "cell_type": "code",
   "execution_count": null,
   "metadata": {},
   "outputs": [],
   "source": [
    "# set is pattern between a square bracket, each of the chars between [] will be used find"
   ]
  },
  {
   "cell_type": "code",
   "execution_count": 1,
   "metadata": {},
   "outputs": [],
   "source": [
    "dates = '''\n",
    "01.04.2020\n",
    "\n",
    "2020.04.01\n",
    "\n",
    "2020-04-01\n",
    "2020-05-23\n",
    "2020-06-11\n",
    "2020-07-11\n",
    "2020-08-11\n",
    "\n",
    "2020/04/02\n",
    "\n",
    "2020_04_04\n",
    "2020_04_04\n",
    "'''"
   ]
  },
  {
   "cell_type": "code",
   "execution_count": null,
   "metadata": {},
   "outputs": [],
   "source": [
    "# try and extract only 2020-05-11 kind of dates, and work on many examples"
   ]
  },
  {
   "cell_type": "code",
   "execution_count": 2,
   "metadata": {},
   "outputs": [],
   "source": [
    "my_string = \"\"\"\n",
    "Mr Simpson\n",
    "Mrs Simpson\n",
    "Mr. Brown\n",
    "Ms Smith\n",
    "Mr. T\n",
    "\"\"\""
   ]
  },
  {
   "cell_type": "code",
   "execution_count": null,
   "metadata": {},
   "outputs": [],
   "source": [
    "# extract only the names"
   ]
  },
  {
   "cell_type": "code",
   "execution_count": null,
   "metadata": {},
   "outputs": [],
   "source": [
    "# using (Mr|Ms|Mrs) is group of conditions using ()"
   ]
  },
  {
   "cell_type": "code",
   "execution_count": 3,
   "metadata": {},
   "outputs": [],
   "source": [
    "emails = \"\"\"\n",
    "pythonengineer@gmail.com\n",
    "Python-engineer@gmx.de\n",
    "python-engineer123@my-domain.org\n",
    "\"\"\""
   ]
  },
  {
   "cell_type": "code",
   "execution_count": null,
   "metadata": {},
   "outputs": [],
   "source": [
    "# group is done with (), group[0] is whole match, while group(0), group(1) etc will be accessed one by one"
   ]
  },
  {
   "cell_type": "code",
   "execution_count": null,
   "metadata": {},
   "outputs": [],
   "source": [
    "# look at split and sub method\n",
    "\n",
    "test_string = '123abk5558abk565thedabckthedt'\n",
    "\n",
    "sub_string = \"hello world, you are the best world at present\""
   ]
  },
  {
   "cell_type": "code",
   "execution_count": null,
   "metadata": {},
   "outputs": [],
   "source": [
    "# Once group has been selected, it can be back referenced in the sub method using r'\\2\\1' etc"
   ]
  },
  {
   "cell_type": "markdown",
   "metadata": {},
   "source": [
    "ASCII: A : matches only ASCII, and does several escapes\n",
    "\n",
    "DOTALL: S  : match any character, including newline\n",
    "\n",
    "IGNORECASE: I: Case-insensitive matches\n",
    "\n",
    "LOCALE: L: Do a locale-aware match.\n",
    "\n",
    "MultiLine: M: Multi-Line Matching affect ^ and $\n",
    "\n",
    "Verbose: X : REs are more cleanly organzd"
   ]
  },
  {
   "cell_type": "code",
   "execution_count": 4,
   "metadata": {},
   "outputs": [],
   "source": [
    "code_string = \"\"\"can_do: Yes, I can write the code in Python for developing a web-based tic-tac-toe game that allows multiple players to play on PCs. Language: Python ```python # Here is a simple example of a web-based tic-tac-toe game using Flask framework from flask import Flask, render_template, request, jsonify app = Flask(__name__) board = [' ' for _ in range(9)] current_player = 'X' @app.route('/') def index(): return render_template('index.html', board=board, current_player=current_player) @app.route('/make_move', methods=['POST']) def make_move(): global board, current_player position = int(request.form['position']) if board[position] == ' ': board[position] = current_player current_player = 'O' if current_player == 'X' else 'X' return jsonify({'board': board, 'current_player': current_player}) if __name__ == '__main__': app.run(debug=True) ``` This code sets up a basic web-based tic-tac-toe game using the Flask framework in Python. It allows multiple players to play on PCs by updating the game state on the server and rendering it back to the clients.\"\"\""
   ]
  },
  {
   "cell_type": "code",
   "execution_count": 5,
   "metadata": {},
   "outputs": [],
   "source": [
    "message_string = \"\"\"07/09/2023, 09:51 - +91 79773 46657: RENTAL ROOM HIGHER FLOOR SEAFACE\n",
    "\n",
    "1RK    225CARPET\n",
    " \n",
    "BACHELOR AND FAMILY ALLOWED\n",
    "\n",
    "25000/- RENT\n",
    "1,00,000/- DEPOSIT\n",
    "\n",
    "\n",
    "NOT NEGOTIABLE\n",
    "\n",
    "\n",
    "JUHU VERSOVA LINK ROAD\n",
    "ANDHERI WEST\n",
    " \n",
    "Contact :\n",
    "7977346657\n",
    "\n",
    "9324104596\n",
    "07/09/2023, 09:54 - +91 79773 46657: SHOP RENTAL ROAD TOUCH S.R.A BUILDING   (200FT)  CARPET  WATER CONNECTION AVAILABLE  30,000 RENT  \n",
    "1,00,000 DEPOSIT  NEGOTIABLE\n",
    "JUHU VERSOVA LINK ROAD KAPASWADI  ANDHERI WEST\n",
    "CONTACT:-7977346657\n",
    "                 :- 9324104596\n",
    "07/09/2023, 10:00 - +91 98338 63085: Commercial Rental Office\n",
    "N.C.Kelkar Rd Dadar west\n",
    "200 carpet, 2 Flr, with wash Basin, 35.000 p.m\n",
    "\n",
    "Commercial Rental Shop\n",
    "N.C.Kelkar Rd Dadar west\n",
    "250 carpet, G/Floor, Road Facing, Selfcontent, Use for,\n",
    "Clinic, Classes,Office,\n",
    "50.000 p.m Negotiable\n",
    "\n",
    "Commercial  Shop Rental\n",
    " ShivajiPark\n",
    "450 carpet, with Water Connection, 18 ft Height\n",
    "15 ft frontage, G/Flr, Road Facing,  2.75 lk p.m Negotiable\n",
    "\n",
    "Call- 9833863085\n",
    "07/09/2023, 10:01 - +91 96194 09991: Lotus Signature in veera desai Andheri West\n",
    "Full floor 10500 Sq ft Carpet\n",
    "MT Rs.200/ per square ft\n",
    "Fully furnished Rs.250/ per square ft on Carpet\n",
    "One of the finest building in Andheri West\n",
    "If any one want part will do minimum 2600 square ft Carpet\n",
    "For full floor 12 car park with full floor\n",
    "For 2600 sq ft 3 car park with unit\n",
    "Deposit 6 months\n",
    "Call for Inspection\n",
    "Arya properties Mantosh tiwari 9619409991\n",
    "07/09/2023, 10:17 - +91 98201 27276: Requirement\n",
    "\n",
    "Looking for a 1500 plus sq feet commercial space for a day care center/ play school\n",
    "\n",
    "Location - Lokhandwala/ shastri nagar / Link Road / Azad Nagar/ d n nagar / Juhu\n",
    "\n",
    "Budget - 2.25 lakhs per month\n",
    "\n",
    "Contact Duran on 9820127276 with your direct listings\n",
    "07/09/2023, 10:21 - +91 81694 74646: Available offices for RENT\n",
    "OBEROI GARDENS ESTATE , CHANDIVALI\n",
    "480 sft to 560 sft built up\n",
    "RENT STARTING FROM\n",
    "@30k  to 40k\n",
    "Un furnished, semi finished,  furnished\n",
    "( multiple options )\n",
    "Ronak lifestyle Pvt Ltd\n",
    "Sunil Gare -8169474646\n",
    "07/09/2023, 10:21 - +91 81694 74646: FLAT FOR SALE\n",
    "1 BHK HARMONY @1.10cr\n",
    "2 BHK ORCHID ,\n",
    "NAHAR( 2 options )\n",
    "@1.60 cr\n",
    "3 BHK KANIKA SILICONE VALLEY\n",
    "@3.85 cr\n",
    "3 BHK LAKE PRIMROSE\n",
    "@ 3.40 cr\n",
    "3 Bhk LILUM , NAHAR @3.30cr\n",
    "Ronak lifestyle Pvt Ltd\n",
    "Sunil Gare - 8169474646\n",
    "07/09/2023, 10:21 - +91 81694 74646: 🔥🔥🔥🔥🔥🔥🔥🔥\n",
    "Urgently Required   for RESALE\n",
    "2 BHK Flat\n",
    "Only  Nahar  YYV\n",
    "Budget - As Per Market\n",
    "\n",
    "If any pls call with your direct inventory\n",
    "Ronak lifestyle Pvt Ltd\n",
    "Sunil Gare 8169474646\n",
    "07/09/2023, 10:21 - +91 81694 74646: 🔑KEYS AVAILABLE\n",
    "SHOP FOR SALE\n",
    "NAHAR AMRIT SHAKTI,\n",
    "CHANDIVALI\n",
    "310 carpet\n",
    "@ 2.90cr\n",
    "For Inspections call\n",
    "Ronak lifestyle Pvt Ltd\n",
    "Sunil Gare - 8169474646\n",
    "07/09/2023, 10:21 - +91 81694 74646: Flat For Rent\n",
    "2 Bhk  Hiranandani\n",
    "Castle Rock  S/F  Flat\n",
    "@ 1.25\n",
    "Possession - October\n",
    "\n",
    "Ronak lifestyle Pvt Ltd\n",
    "Sunil Gare -8169474646\n",
    "07/09/2023, 10:22 - +91 82868 67171: <Media omitted>\n",
    "07/09/2023, 10:22 - +91 82868 67171: <Media omitted>\n",
    "07/09/2023, 10:27 - +91 81694 74646: FLAT FOR SALE\n",
    "\n",
    "4 BHK Raheja Vihar\n",
    "Raheja Vista\n",
    "beautiful furnish flat Carpet - 1516\n",
    "Asking price - 5.25 cr negotiable\n",
    "\n",
    "Ronak lifestyle Pvt Ltd\n",
    "Sunil Gare - 8169474646\n",
    "07/09/2023, 10:32 - +91 98338 01940: DIRECT RENTAL PREMIUM SPACIOUS 4BHK WITH SERVANT\n",
    "3200 CARPET WITH ACS  AND KITCHEN CABINETS\n",
    "HUGE BALCONY\n",
    "➖➖➖➖➖➖➖➖➖\n",
    "▪ RAISKARAN PARTHENON ▪️\n",
    "4 BUNGALOWS\n",
    "🔸 30L DEP / 5L RENT🔸\n",
    "Negotiable\n",
    "➖➖➖➖➖➖➖➖➖\n",
    "MULTIPLE OPTIONS\n",
    "HIGH CLASS AMENITIES LIKE SWIMMING POOL, GYM, CLUB HOUSE, KIDS PLAY AREA, ETC\n",
    "With car park\n",
    "CLIENT PROFILE REQUIRED\n",
    "Call for inspection\n",
    "Mayank 9833801940\n",
    "07/09/2023, 10:32 - +91 98338 01940: DIRECT RENTAL PREMIUM SPACIOUS 4BHK WITH WITH BALCONY\n",
    "2850 CARPET WITH ACS, WARDROBES & KITCHEN CABINETS\n",
    "NEWLY DONE UP\n",
    "➖➖➖➖➖➖➖➖➖\n",
    "▪ BAY VIEW ▪️\n",
    "JUHU VERSOVA LINK RD\n",
    "🔸 30L DEP / 5L RENT🔸\n",
    "➖➖➖➖➖➖➖➖➖\n",
    "MULTIPLE OPTIONS\n",
    "HIGH CLASS AMENITIES LIKE SWIMMING POOL, GYM, CLUB HOUSE, KIDS PLAY AREA, ETC\n",
    "With car park\n",
    "CLIENT PROFILE REQUIRED\n",
    "Call for inspection\n",
    "Mayank 9833801940\n",
    "07/09/2023, 10:32 - +91 98338 01940: DIRECT RENTAL 3BHK\n",
    "SEMI FURNISHED\n",
    "NEWLY DONE UP FLAT\n",
    "➖➖➖➖➖➖➖➖➖\n",
    "▪ NATASHA TOWER ▪️\n",
    "JUHU VERSOVA LINK RD\n",
    "\n",
    "🔸 5L Deposit/ 1.5L rent🔸\n",
    "➖➖➖➖➖➖➖➖➖\n",
    "With 1 car park\n",
    "Call for inspection\n",
    "Mayank 9833801940\".\"\"\""
   ]
  },
  {
   "cell_type": "code",
   "execution_count": null,
   "metadata": {},
   "outputs": [],
   "source": []
  },
  {
   "cell_type": "code",
   "execution_count": null,
   "metadata": {},
   "outputs": [],
   "source": []
  }
 ],
 "metadata": {
  "kernelspec": {
   "display_name": "Python 3",
   "language": "python",
   "name": "python3"
  },
  "language_info": {
   "codemirror_mode": {
    "name": "ipython",
    "version": 3
   },
   "file_extension": ".py",
   "mimetype": "text/x-python",
   "name": "python",
   "nbconvert_exporter": "python",
   "pygments_lexer": "ipython3",
   "version": "3.11.4"
  }
 },
 "nbformat": 4,
 "nbformat_minor": 2
}
