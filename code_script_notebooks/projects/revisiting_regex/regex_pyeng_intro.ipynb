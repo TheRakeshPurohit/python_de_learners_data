{
 "cells": [
  {
   "cell_type": "markdown",
   "metadata": {},
   "source": [
    "https://www.python-engineer.com/posts/regular-expressions/"
   ]
  },
  {
   "cell_type": "code",
   "execution_count": 1,
   "metadata": {},
   "outputs": [],
   "source": [
    "import re\n",
    "\n",
    "test_stmt = \"123abc456789abc123ABC\""
   ]
  },
  {
   "cell_type": "code",
   "execution_count": 2,
   "metadata": {},
   "outputs": [],
   "source": [
    "# Match a string like 'abc' in a given sentence\n",
    "compile = re.compile(r'abc')"
   ]
  },
  {
   "cell_type": "code",
   "execution_count": 7,
   "metadata": {},
   "outputs": [],
   "source": [
    "# The match methods\n",
    "# finditer\n",
    "matches = compile.finditer(test_stmt)\n",
    "# for match in matches:\n",
    "    # print(match)"
   ]
  },
  {
   "cell_type": "code",
   "execution_count": 8,
   "metadata": {},
   "outputs": [
    {
     "name": "stdout",
     "output_type": "stream",
     "text": [
      "(3, 6)\n",
      "abc\n",
      "6\n",
      "(12, 15)\n",
      "abc\n",
      "15\n"
     ]
    }
   ],
   "source": [
    "# finditer will give a iterator only\n",
    "for match in matches:\n",
    "    print(match.span())\n",
    "    print(match.group(0))\n",
    "    print(match.end())"
   ]
  },
  {
   "cell_type": "code",
   "execution_count": 9,
   "metadata": {},
   "outputs": [
    {
     "data": {
      "text/plain": [
       "['abc', 'abc']"
      ]
     },
     "execution_count": 9,
     "metadata": {},
     "output_type": "execute_result"
    }
   ],
   "source": [
    "# findall\n",
    "matchall = compile.findall(test_stmt)\n",
    "matchall"
   ]
  },
  {
   "cell_type": "code",
   "execution_count": 10,
   "metadata": {},
   "outputs": [],
   "source": [
    "# match # finds only at the beginnin of the sentence\n",
    "matchst = compile.match(test_stmt)\n",
    "matchst"
   ]
  },
  {
   "cell_type": "code",
   "execution_count": 12,
   "metadata": {},
   "outputs": [],
   "source": [
    "# search \n",
    "search_st = compile.search(test_stmt)"
   ]
  },
  {
   "cell_type": "code",
   "execution_count": 13,
   "metadata": {},
   "outputs": [
    {
     "data": {
      "text/plain": [
       "<re.Match object; span=(3, 6), match='abc'>"
      ]
     },
     "execution_count": 13,
     "metadata": {},
     "output_type": "execute_result"
    }
   ],
   "source": [
    "search_st"
   ]
  },
  {
   "cell_type": "code",
   "execution_count": 14,
   "metadata": {},
   "outputs": [
    {
     "data": {
      "text/plain": [
       "['123', '456789', '123ABC']"
      ]
     },
     "execution_count": 14,
     "metadata": {},
     "output_type": "execute_result"
    }
   ],
   "source": [
    "# Modification functions like sub and split\n",
    "splited = compile.split(test_stmt)\n",
    "splited"
   ]
  },
  {
   "cell_type": "code",
   "execution_count": 16,
   "metadata": {},
   "outputs": [
    {
     "data": {
      "text/plain": [
       "'123SuB456789SuB123ABC'"
      ]
     },
     "execution_count": 16,
     "metadata": {},
     "output_type": "execute_result"
    }
   ],
   "source": [
    "# substitutes the matched groups\n",
    "subbed = compile.sub('SuB', test_stmt)\n",
    "subbed"
   ]
  },
  {
   "cell_type": "markdown",
   "metadata": {},
   "source": [
    "All meta chars \n",
    "\n",
    ". : Any char except newline\n",
    "\n",
    "^ : Starts with  \n",
    "\n",
    "$ : Ends with\n",
    "\n",
    "* : Zero or more occurrences\n",
    "\n",
    "+ : Once or more occurrences\n",
    "\n",
    "? : 0 or one, may or may not be present\n",
    "\n",
    "{} : Exactly specified num of occurences\n",
    "\n",
    "{4} : specifically 4 times repeated\n",
    "\n",
    "{4, 3} : specifically 4 times repeated\n",
    "\n",
    "[] : Set of characters  (have one or more chars)\n",
    "\n",
    "\\ : Special or escape existing chars\n",
    "\n",
    "| : conditions\n",
    "\n",
    "( ) : Capture the group"
   ]
  },
  {
   "cell_type": "code",
   "execution_count": 45,
   "metadata": {},
   "outputs": [],
   "source": [
    "test_stmt = '123_abc45-6789.abc123-ABC.' \n",
    "\n",
    "test_string = \"Hello hellro 123_ heyoh ohhey\""
   ]
  },
  {
   "cell_type": "code",
   "execution_count": 28,
   "metadata": {},
   "outputs": [
    {
     "name": "stdout",
     "output_type": "stream",
     "text": [
      "<re.Match object; span=(8, 9), match='-'>\n"
     ]
    }
   ],
   "source": [
    "# Experiment with each of the meta chars\n",
    "# compile_com= re.compile(r'.')\n",
    "# compile_com= re.compile(r'\\.')\n",
    "# compile_com = re.compile(r'^123')\n",
    "# compile_com = re.compile(r'ABC.$')\n",
    "compile_com = re.compile(r'-')\n",
    "matches = compile_com.finditer(test_stmt)\n",
    "for mat in matches:\n",
    "    print(mat)"
   ]
  },
  {
   "cell_type": "code",
   "execution_count": 44,
   "metadata": {},
   "outputs": [
    {
     "name": "stdout",
     "output_type": "stream",
     "text": [
      "<re.Match object; span=(13, 16), match='123'>\n"
     ]
    }
   ],
   "source": [
    "# compile_com = re.compile(r\"[a-z][A-Z]\")\n",
    "# compile_com = re.compile(r\"[A-Z]\")\n",
    "# compile_com = re.compile(r\"[A-Z].*\\s[a-z]\")\n",
    "# compile_com = re.compile(r\"[A-Z].{4}\")\n",
    "# compile_com = re.compile(r\".{4}\")\n",
    "# compile_com = re.compile(r\"\\b.{5}\")\n",
    "# compile_com = re.compile(r\"\\bh.{3}\")\n",
    "# compile_com = re.compile(r\"h.{2}l\")\n",
    "# compile_com = re.compile(r\"h.{2}(o|l)\")\n",
    "# compile_com = re.compile(r\"\\d{3}\")\n",
    "compile_com = re.compile(r\"\\d{3}_\")\n",
    "matches = compile_com.finditer(test_string)\n",
    "for mat in matches:\n",
    "    print(mat)"
   ]
  },
  {
   "cell_type": "markdown",
   "metadata": {},
   "source": [
    "More special characters\n",
    "\n",
    "\\d : Matches any Decimal digit [0-9]\n",
    "\n",
    "\\D : Any non-digit character \n",
    "\n",
    "\\s : Any White Space char including tab, space, newline\n",
    "\n",
    "\\S : non-white space character\n",
    "\n",
    "\\w : matches AlphaNumeric\n",
    "\n",
    "\\W : matches non-Alphanumeric (Spl Chars?)\n",
    "\n",
    "\\b : Specified chars at beginning of block, which follows the white space\n",
    "\n",
    "\\B : Specified chars not at the beginning"
   ]
  },
  {
   "cell_type": "code",
   "execution_count": null,
   "metadata": {},
   "outputs": [],
   "source": [
    "test_string = \"Hello hellro 123_ heyoh ohhey\""
   ]
  },
  {
   "cell_type": "code",
   "execution_count": 54,
   "metadata": {},
   "outputs": [
    {
     "data": {
      "text/plain": [
       "'123_abc45-6789.abc123-ABC.'"
      ]
     },
     "execution_count": 54,
     "metadata": {},
     "output_type": "execute_result"
    }
   ],
   "source": [
    "test_stmt = '123_abc45-6789.abc123-ABC.' "
   ]
  },
  {
   "cell_type": "code",
   "execution_count": 70,
   "metadata": {},
   "outputs": [
    {
     "name": "stdout",
     "output_type": "stream",
     "text": [
      "<re.Match object; span=(0, 6), match='Hello '>\n",
      "<re.Match object; span=(6, 12), match='hellro'>\n",
      "<re.Match object; span=(18, 24), match='heyoh '>\n",
      "<re.Match object; span=(24, 29), match='ohhey'>\n"
     ]
    }
   ],
   "source": [
    "# find digits , non-digits, white space, non-white space, alpha numeric, non-alphanumeric, match block start and end\n",
    "# compile_com = re.compile(r\"\\d{3}_?\")\n",
    "# compile_com = re.compile(r\"\\d{2}_?\")\n",
    "# compile_com = re.compile(r\"\\w{2}_+\")\n",
    "# compile_com = re.compile(r\"_+\\W\")\n",
    "# compile_com = re.compile(r\"\\w*_+\\W\")\n",
    "# compile_com = re.compile(r\"h\\b\")\n",
    "# compile_com = re.compile(r\"h\\b.*o\\B\")  # has a peculiar behaviour\n",
    "# compile_com = re.compile(r\"h\\b.{4}\")\n",
    "# compile_com = re.compile(r\"\\bh.{4}\")\n",
    "# compile_com = re.compile(r\"\\b(h|o).{5}\")\n",
    "# compile_com = re.compile(r\"\\b(h|H|o).{4,5}\")\n",
    "matches = compile_com.finditer(test_string)\n",
    "for mat in matches:\n",
    "    print(mat)"
   ]
  },
  {
   "cell_type": "code",
   "execution_count": null,
   "metadata": {},
   "outputs": [],
   "source": [
    "# set is pattern between a square bracket, each of the chars between [] will be used find"
   ]
  },
  {
   "cell_type": "code",
   "execution_count": 73,
   "metadata": {},
   "outputs": [],
   "source": [
    "dates = '''\n",
    "01.04.2020\n",
    "\n",
    "2020.04.01\n",
    "\n",
    "2020-04-01\n",
    "2020-05-23\n",
    "2020-06-11\n",
    "2020-07-11\n",
    "2020-08-11\n",
    "\n",
    "2020/04/02\n",
    "\n",
    "2020_04_04\n",
    "2020_04_04\n",
    "'''"
   ]
  },
  {
   "cell_type": "code",
   "execution_count": 82,
   "metadata": {},
   "outputs": [
    {
     "name": "stdout",
     "output_type": "stream",
     "text": [
      "<re.Match object; span=(81, 91), match='2020/04/02'>\n",
      "Yr: 2020\n",
      "month: 04\n",
      "date: 02\n"
     ]
    }
   ],
   "source": [
    "# try and extract only 2020-05-11 kind of dates, and work on many examples\n",
    "# compile_kom = re.compile(r\"\\d{4}-\\d{2}-\\d{2}\")\n",
    "# compile_kom = re.compile(r\"\\d{4}(-|\\.)\\d{2}(-|\\.)\\d{2}\")\n",
    "# compile_kom = re.compile(r\"\\d{4}(-|\\.|_)\\d{2}(-|\\.|_)\\d{2}\")\n",
    "# compile_kom = re.compile(r\"\\d{4}/\\d{2}/\\d{2}\")\n",
    "compile_kom = re.compile(r\"(\\d{4})/(\\d{2})/(\\d{2})\")\n",
    "matches = compile_kom.finditer(dates)\n",
    "for mth in matches:\n",
    "    print(mth)\n",
    "    print(f\"Yr: {mth.group(1)}\")\n",
    "    print(f\"month: {mth.group(2)}\")\n",
    "    print(f\"date: {mth.group(3)}\")"
   ]
  },
  {
   "cell_type": "code",
   "execution_count": 83,
   "metadata": {},
   "outputs": [],
   "source": [
    "my_string = \"\"\"\n",
    "Mr Simpson\n",
    "Mrs Simpson\n",
    "Mr. Brown\n",
    "Ms Smith\n",
    "Mr. T\n",
    "\"\"\""
   ]
  },
  {
   "cell_type": "code",
   "execution_count": 114,
   "metadata": {},
   "outputs": [
    {
     "name": "stdout",
     "output_type": "stream",
     "text": [
      "<re.Match object; span=(1, 11), match='Mr Simpson'>\n",
      "<re.Match object; span=(12, 23), match='Mrs Simpson'>\n",
      "<re.Match object; span=(24, 33), match='Mr. Brown'>\n",
      "<re.Match object; span=(34, 42), match='Ms Smith'>\n",
      "<re.Match object; span=(43, 48), match='Mr. T'>\n"
     ]
    }
   ],
   "source": [
    "# extract only the names\n",
    "# using (Mr|Ms|Mrs) is group of conditions using ()\n",
    "\n",
    "# oame_comp = re.compile(r\".*\")  # take everything\n",
    "# oame_comp = re.compile(r\"[A-Z]\\b.*\")\n",
    "# com_comp = re.compile(r\"\\b[A-Z]\\S{4,}\")\n",
    "# com_comp = re.compile(r\"Mr\\..[A-Z]\") Mr. T and Mr. B\n",
    "# com_comp = re.compile(r\"Mr. T\")\n",
    "# com_comp = re.compile(r\"(Mr|Mrs|Mr\\.).+\")\n",
    "# com_comp = re.compile(r\"(Mr|Ms\\.?).+\")\n",
    "matches = com_comp.finditer(my_string)\n",
    "for mat in matches:\n",
    "    print(mat)"
   ]
  },
  {
   "cell_type": "code",
   "execution_count": 115,
   "metadata": {},
   "outputs": [],
   "source": [
    "emails = \"\"\"\n",
    "pythonengineer@gmail.com\n",
    "Python-engineer@gmx.de\n",
    "python-engineer123@my-domain.org\n",
    "\"\"\""
   ]
  },
  {
   "cell_type": "code",
   "execution_count": 119,
   "metadata": {},
   "outputs": [
    {
     "name": "stdout",
     "output_type": "stream",
     "text": [
      "<re.Match object; span=(1, 25), match='pythonengineer@gmail.com'>\n",
      "<re.Match object; span=(33, 48), match='engineer@gmx.de'>\n"
     ]
    }
   ],
   "source": [
    "# group is done with (), group[0] is whole match, while group(0), group(1) etc will be accessed one by one\n",
    "# comemail = re.compile(r\"[a-z]*@[a-z]*\\.(com|de|domain.org)\")\n",
    "comemail = re.compile(r\"[a-z]*@[a-z]*\\.(com|de|domain.org)\")\n",
    "amt = comemail.finditer(emails)\n",
    "\n",
    "for a in amt:\n",
    "    print(a)"
   ]
  },
  {
   "cell_type": "code",
   "execution_count": null,
   "metadata": {},
   "outputs": [],
   "source": [
    "# look at split and sub method\n",
    "\n",
    "test_string = '123abk5558abk565thedabckthedt'\n",
    "\n",
    "sub_string = \"hello world, you are the best world at present\""
   ]
  },
  {
   "cell_type": "code",
   "execution_count": null,
   "metadata": {},
   "outputs": [],
   "source": [
    "# Once group has been selected, it can be back referenced in the sub method using r'\\2\\1' etc"
   ]
  },
  {
   "cell_type": "markdown",
   "metadata": {},
   "source": [
    "ASCII: A : matches only ASCII, and does several escapes\n",
    "\n",
    "DOTALL: S  : match any character, including newline\n",
    "\n",
    "IGNORECASE: I: Case-insensitive matches\n",
    "\n",
    "LOCALE: L: Do a locale-aware match.\n",
    "\n",
    "MultiLine: M: Multi-Line Matching affect ^ and $\n",
    "\n",
    "Verbose: X : REs are more cleanly organzd"
   ]
  },
  {
   "cell_type": "code",
   "execution_count": 4,
   "metadata": {},
   "outputs": [],
   "source": [
    "code_string = \"\"\"can_do: Yes, I can write the code in Python for developing a web-based tic-tac-toe game that allows multiple players to play on PCs. Language: Python ```python # Here is a simple example of a web-based tic-tac-toe game using Flask framework from flask import Flask, render_template, request, jsonify app = Flask(__name__) board = [' ' for _ in range(9)] current_player = 'X' @app.route('/') def index(): return render_template('index.html', board=board, current_player=current_player) @app.route('/make_move', methods=['POST']) def make_move(): global board, current_player position = int(request.form['position']) if board[position] == ' ': board[position] = current_player current_player = 'O' if current_player == 'X' else 'X' return jsonify({'board': board, 'current_player': current_player}) if __name__ == '__main__': app.run(debug=True) ``` This code sets up a basic web-based tic-tac-toe game using the Flask framework in Python. It allows multiple players to play on PCs by updating the game state on the server and rendering it back to the clients.\"\"\""
   ]
  },
  {
   "cell_type": "code",
   "execution_count": 5,
   "metadata": {},
   "outputs": [],
   "source": [
    "message_string = \"\"\"07/09/2023, 09:51 - +91 79773 46657: RENTAL ROOM HIGHER FLOOR SEAFACE\n",
    "\n",
    "1RK    225CARPET\n",
    " \n",
    "BACHELOR AND FAMILY ALLOWED\n",
    "\n",
    "25000/- RENT\n",
    "1,00,000/- DEPOSIT\n",
    "\n",
    "\n",
    "NOT NEGOTIABLE\n",
    "\n",
    "\n",
    "JUHU VERSOVA LINK ROAD\n",
    "ANDHERI WEST\n",
    " \n",
    "Contact :\n",
    "7977346657\n",
    "\n",
    "9324104596\n",
    "07/09/2023, 09:54 - +91 79773 46657: SHOP RENTAL ROAD TOUCH S.R.A BUILDING   (200FT)  CARPET  WATER CONNECTION AVAILABLE  30,000 RENT  \n",
    "1,00,000 DEPOSIT  NEGOTIABLE\n",
    "JUHU VERSOVA LINK ROAD KAPASWADI  ANDHERI WEST\n",
    "CONTACT:-7977346657\n",
    "                 :- 9324104596\n",
    "07/09/2023, 10:00 - +91 98338 63085: Commercial Rental Office\n",
    "N.C.Kelkar Rd Dadar west\n",
    "200 carpet, 2 Flr, with wash Basin, 35.000 p.m\n",
    "\n",
    "Commercial Rental Shop\n",
    "N.C.Kelkar Rd Dadar west\n",
    "250 carpet, G/Floor, Road Facing, Selfcontent, Use for,\n",
    "Clinic, Classes,Office,\n",
    "50.000 p.m Negotiable\n",
    "\n",
    "Commercial  Shop Rental\n",
    " ShivajiPark\n",
    "450 carpet, with Water Connection, 18 ft Height\n",
    "15 ft frontage, G/Flr, Road Facing,  2.75 lk p.m Negotiable\n",
    "\n",
    "Call- 9833863085\n",
    "07/09/2023, 10:01 - +91 96194 09991: Lotus Signature in veera desai Andheri West\n",
    "Full floor 10500 Sq ft Carpet\n",
    "MT Rs.200/ per square ft\n",
    "Fully furnished Rs.250/ per square ft on Carpet\n",
    "One of the finest building in Andheri West\n",
    "If any one want part will do minimum 2600 square ft Carpet\n",
    "For full floor 12 car park with full floor\n",
    "For 2600 sq ft 3 car park with unit\n",
    "Deposit 6 months\n",
    "Call for Inspection\n",
    "Arya properties Mantosh tiwari 9619409991\n",
    "07/09/2023, 10:17 - +91 98201 27276: Requirement\n",
    "\n",
    "Looking for a 1500 plus sq feet commercial space for a day care center/ play school\n",
    "\n",
    "Location - Lokhandwala/ shastri nagar / Link Road / Azad Nagar/ d n nagar / Juhu\n",
    "\n",
    "Budget - 2.25 lakhs per month\n",
    "\n",
    "Contact Duran on 9820127276 with your direct listings\n",
    "07/09/2023, 10:21 - +91 81694 74646: Available offices for RENT\n",
    "OBEROI GARDENS ESTATE , CHANDIVALI\n",
    "480 sft to 560 sft built up\n",
    "RENT STARTING FROM\n",
    "@30k  to 40k\n",
    "Un furnished, semi finished,  furnished\n",
    "( multiple options )\n",
    "Ronak lifestyle Pvt Ltd\n",
    "Sunil Gare -8169474646\n",
    "07/09/2023, 10:21 - +91 81694 74646: FLAT FOR SALE\n",
    "1 BHK HARMONY @1.10cr\n",
    "2 BHK ORCHID ,\n",
    "NAHAR( 2 options )\n",
    "@1.60 cr\n",
    "3 BHK KANIKA SILICONE VALLEY\n",
    "@3.85 cr\n",
    "3 BHK LAKE PRIMROSE\n",
    "@ 3.40 cr\n",
    "3 Bhk LILUM , NAHAR @3.30cr\n",
    "Ronak lifestyle Pvt Ltd\n",
    "Sunil Gare - 8169474646\n",
    "07/09/2023, 10:21 - +91 81694 74646: 🔥🔥🔥🔥🔥🔥🔥🔥\n",
    "Urgently Required   for RESALE\n",
    "2 BHK Flat\n",
    "Only  Nahar  YYV\n",
    "Budget - As Per Market\n",
    "\n",
    "If any pls call with your direct inventory\n",
    "Ronak lifestyle Pvt Ltd\n",
    "Sunil Gare 8169474646\n",
    "07/09/2023, 10:21 - +91 81694 74646: 🔑KEYS AVAILABLE\n",
    "SHOP FOR SALE\n",
    "NAHAR AMRIT SHAKTI,\n",
    "CHANDIVALI\n",
    "310 carpet\n",
    "@ 2.90cr\n",
    "For Inspections call\n",
    "Ronak lifestyle Pvt Ltd\n",
    "Sunil Gare - 8169474646\n",
    "07/09/2023, 10:21 - +91 81694 74646: Flat For Rent\n",
    "2 Bhk  Hiranandani\n",
    "Castle Rock  S/F  Flat\n",
    "@ 1.25\n",
    "Possession - October\n",
    "\n",
    "Ronak lifestyle Pvt Ltd\n",
    "Sunil Gare -8169474646\n",
    "07/09/2023, 10:22 - +91 82868 67171: <Media omitted>\n",
    "07/09/2023, 10:22 - +91 82868 67171: <Media omitted>\n",
    "07/09/2023, 10:27 - +91 81694 74646: FLAT FOR SALE\n",
    "\n",
    "4 BHK Raheja Vihar\n",
    "Raheja Vista\n",
    "beautiful furnish flat Carpet - 1516\n",
    "Asking price - 5.25 cr negotiable\n",
    "\n",
    "Ronak lifestyle Pvt Ltd\n",
    "Sunil Gare - 8169474646\n",
    "07/09/2023, 10:32 - +91 98338 01940: DIRECT RENTAL PREMIUM SPACIOUS 4BHK WITH SERVANT\n",
    "3200 CARPET WITH ACS  AND KITCHEN CABINETS\n",
    "HUGE BALCONY\n",
    "➖➖➖➖➖➖➖➖➖\n",
    "▪ RAISKARAN PARTHENON ▪️\n",
    "4 BUNGALOWS\n",
    "🔸 30L DEP / 5L RENT🔸\n",
    "Negotiable\n",
    "➖➖➖➖➖➖➖➖➖\n",
    "MULTIPLE OPTIONS\n",
    "HIGH CLASS AMENITIES LIKE SWIMMING POOL, GYM, CLUB HOUSE, KIDS PLAY AREA, ETC\n",
    "With car park\n",
    "CLIENT PROFILE REQUIRED\n",
    "Call for inspection\n",
    "Mayank 9833801940\n",
    "07/09/2023, 10:32 - +91 98338 01940: DIRECT RENTAL PREMIUM SPACIOUS 4BHK WITH WITH BALCONY\n",
    "2850 CARPET WITH ACS, WARDROBES & KITCHEN CABINETS\n",
    "NEWLY DONE UP\n",
    "➖➖➖➖➖➖➖➖➖\n",
    "▪ BAY VIEW ▪️\n",
    "JUHU VERSOVA LINK RD\n",
    "🔸 30L DEP / 5L RENT🔸\n",
    "➖➖➖➖➖➖➖➖➖\n",
    "MULTIPLE OPTIONS\n",
    "HIGH CLASS AMENITIES LIKE SWIMMING POOL, GYM, CLUB HOUSE, KIDS PLAY AREA, ETC\n",
    "With car park\n",
    "CLIENT PROFILE REQUIRED\n",
    "Call for inspection\n",
    "Mayank 9833801940\n",
    "07/09/2023, 10:32 - +91 98338 01940: DIRECT RENTAL 3BHK\n",
    "SEMI FURNISHED\n",
    "NEWLY DONE UP FLAT\n",
    "➖➖➖➖➖➖➖➖➖\n",
    "▪ NATASHA TOWER ▪️\n",
    "JUHU VERSOVA LINK RD\n",
    "\n",
    "🔸 5L Deposit/ 1.5L rent🔸\n",
    "➖➖➖➖➖➖➖➖➖\n",
    "With 1 car park\n",
    "Call for inspection\n",
    "Mayank 9833801940\".\"\"\""
   ]
  },
  {
   "cell_type": "code",
   "execution_count": null,
   "metadata": {},
   "outputs": [],
   "source": []
  },
  {
   "cell_type": "code",
   "execution_count": null,
   "metadata": {},
   "outputs": [],
   "source": []
  }
 ],
 "metadata": {
  "kernelspec": {
   "display_name": "Python 3",
   "language": "python",
   "name": "python3"
  },
  "language_info": {
   "codemirror_mode": {
    "name": "ipython",
    "version": 3
   },
   "file_extension": ".py",
   "mimetype": "text/x-python",
   "name": "python",
   "nbconvert_exporter": "python",
   "pygments_lexer": "ipython3",
   "version": "3.11.4"
  }
 },
 "nbformat": 4,
 "nbformat_minor": 2
}
