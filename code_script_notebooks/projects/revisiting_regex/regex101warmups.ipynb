{
 "cells": [
  {
   "cell_type": "code",
   "execution_count": null,
   "metadata": {},
   "outputs": [],
   "source": [
    "# regex101 challenge 1:\n",
    "\n",
    "text_word = \"\"\"Lorem ipsum dolor sit amet, consectetur adipiscing elit. Sed quis WORD nibh. Donec condimentum, lorem in word vehicula consectetur, justo leo condimentum ante, eget finibus eros sem et word. Nulla facilisi. Proin dictum ligula id word porttitor. Nulla sit amet word augue. Integer ac word ligula. Cras word fermentum lorem vel metus eleifend, ac fermentum justo efficitur. Nam et word lectus. Suspendisse nec lorem id woRD fringilla tristique. Vestibulum ante ipsum primis in faucibus orci luctus et wOrd ultrices posuere cubilia Curae; Sed consequat magna non word dapibus. Morbi ac word turpis. Quisque word auctor lectus. Fusce id word mauris. Sed non word massa. Ut word ultrices lacus et ligula sagittis, quis hendrerit arcu pulvinar. Phasellus word volutpat ligula sed mi dapibus, in consequat lacus ullamcorper. Nulla facilisi. Suspendisse word congue turpis vel posuere. Duis word maximus leo id est fringilla tincidunt. Aliquam word sollicitudin nibh in nisi rutrum, eget ultricies ipsum word. Fusce word turpis quis risus dictum, eget dictum odio word. Donec word vel velit et facilisis. Phasellus word finibus velit a felis efficitur, vel efficitur ligula word\"\"\""
   ]
  },
  {
   "cell_type": "code",
   "execution_count": null,
   "metadata": {},
   "outputs": [],
   "source": [
    "from re import compile\n",
    "\n",
    "import re\n",
    "\n",
    "word = compile(r\"\\b[word|WORD]\\b\")  # Having [] seems to be the issue\n",
    "word = compile(r\"\\b(word|WORD)\\b\")  # its capturing with refs \n",
    "word = compile(r\"\\b(?:word|WORD)\\b\")  # its capturing with refs \n",
    "word = compile(r\"\\bword\\b\", )  # Need to add case insensitivity\n",
    "word = compile(r\"\\bword\\b\",re.IGNORECASE)  # Need to add case insensitivity\n",
    "locaters = word.finditer(text_word)\n",
    "\n",
    "for loc in locaters:\n",
    "    print(loc)\n",
    "    break"
   ]
  },
  {
   "cell_type": "code",
   "execution_count": null,
   "metadata": {},
   "outputs": [],
   "source": [
    "# regex101 challenge 2\n",
    "\n",
    "# Use substitution to replace every occurrence of the word i with the word I (uppercase, I as in me).\n",
    "\n",
    "text_sentence = \"i'm replacing it. am i not? -> I'm replacing it. am I not?.\""
   ]
  },
  {
   "cell_type": "code",
   "execution_count": null,
   "metadata": {},
   "outputs": [],
   "source": [
    "icap = compile(r'i|I')  # captures all i, need to narrow down\n",
    "icap = compile(r'\\bi|I')  # captures i in words starting with i \n",
    "icap = compile(r'\\b(i|I)\\W')  # captures i in the way we want \n",
    "icap = compile(r'\\b(i)\\W')  # captures i in the way we want , and its group-1\n",
    "\n",
    "locaters = icap.finditer(text_sentence)\n",
    "\n",
    "for loc in locaters:\n",
    "    print(loc)\n",
    "    print(loc.group(1))\n",
    "\n",
    "icap.sub('I ', text_sentence)  # \"Im replacing it. am Inot? -> I'm replacing it. am I not?.\""
   ]
  },
  {
   "cell_type": "code",
   "execution_count": null,
   "metadata": {},
   "outputs": [],
   "source": [
    "# Challenge3 \n",
    "# Return the number of uppercase consonants (B,C,D,F,..,X,Y,Z) in a given string\n",
    "\n",
    "stmt = \"aABcDeFO!.\"\n",
    "\n",
    "exmple_chars = \".½§1234567890!\\\"#¤%&/()=?´@£${[]}~*\\'¨-_.,;:><| åäö\"  # the double quote needs to be escaped\n",
    "\n",
    "regex = compile(r\"[aeiou]|[AEIOU]\")  # capturing as expected \n",
    "regex = compile(r\"[^aeiou]|[^AEIOU]\")  # capturing everything, not expected \n",
    "regex = compile(r\"^[aeiou]\")  # the hat captures those at the start\n",
    "regex = compile(r\"[^aeiouAEIOU\\W]\")  # this captures everything that is required, but captures more\n",
    "regex = compile(r\"[^a-zAEIOU\\W\\d]\")  # this is improved, doesn't capture numbers or non-word chars, unicode is captured \n",
    "# regex = compile(r\"[^a-zAEIOU\\W\\d\\P]\")  # this errors out \n",
    "regex = compile(r\"[^a-zAEIOU\\d\\s\\W\\X]\")  # this errors out\n",
    "# https://www.regular-expressions.info/unicode.html\n",
    "# Issue is unicode matching in python using ranges is still tricky, while other language regex support it. \n",
    "locaters = regex.finditer(stmt + exmple_chars)\n",
    "\n",
    "for loc in locaters:\n",
    "    print(loc)"
   ]
  },
  {
   "cell_type": "code",
   "execution_count": null,
   "metadata": {},
   "outputs": [],
   "source": [
    "count_num = \"1, 2, 65, 2579\"\n",
    "\n",
    "num_ex = compile(r\"\\d*\")  # this is matching space also ?? why\n",
    "num_ex = compile(r\"\\d+\")  # this is matching num only \n",
    "\n",
    "locs = num_ex.finditer(count_num)\n",
    "\n",
    "for l in locs:\n",
    "    print(l)\n"
   ]
  },
  {
   "cell_type": "code",
   "execution_count": null,
   "metadata": {},
   "outputs": [],
   "source": [
    "import re\n",
    "\n",
    "# Match any whitespace character\n",
    "match = re.search(\"\\s\", \"This is a string with spaces\")\n",
    "print(match)\n",
    "\n",
    "# Match a newline character\n",
    "match = re.search(\"\\n\", \"This is a string with\\na newline\")\n",
    "\n",
    "print(match)\n",
    "# Match a tab character\n",
    "match = re.search(\"\\t\", \"This is a string with\\ta tab\")\n",
    "\n",
    "print(match)\n",
    "# Match a carriage return character\n",
    "match = re.search(\"\\r\", \"This is a string with\\ra carriage return\")\n",
    "\n",
    "print(match)\n",
    "# Match any of the whitespace characters listed above\n",
    "match = re.search(\"[ \\t\\n\\r]\", \"This is a string with whitespace\")\n",
    "\n",
    "print(match)"
   ]
  },
  {
   "cell_type": "code",
   "execution_count": null,
   "metadata": {},
   "outputs": [],
   "source": [
    "whitspace_str = \"this    is a sen      tenc     e with spaces\"\n",
    "\n",
    "regspace = compile(r\"\\w{4,}\")  # this matches the words\n",
    "regspace = compile(r\"\\W{4,}\")  # this matches the words\n",
    "\n",
    "locs = regspace.finditer(whitspace_str)\n",
    "\n",
    "for l in locs:\n",
    "    print(l)"
   ]
  },
  {
   "cell_type": "code",
   "execution_count": null,
   "metadata": {},
   "outputs": [],
   "source": [
    "remove_dupes = \"Can you ppplease help me fix thhhis?\"\n",
    "\n",
    "regdupe = compile(r\"(.)\\1\")\n",
    "\n",
    "locs = regdupe.finditer(remove_dupes)\n",
    "# https://stackoverflow.com/questions/8157267/handling-backreferences-to-capturing-groups-in-re-sub-replacement-pattern\n",
    "\n",
    "for l in locs:\n",
    "    print(l)\n",
    "    print(l.group(1))\n",
    "\n",
    "re.sub(r\"(.)\\1\", r'\\1', remove_dupes, 0, re.MULTILINE)  # doesn't do the thing\n",
    "re.sub(r\"(.)\\1\", r\"\\1\", remove_dupes)  # doesn't do the thing\n",
    "re.sub(r\"(.)\\1\", r\"\\1\", remove_dupes)  # doesn't do the thing\n",
    "re.sub(r\"(.)\\1\\1\", r\"\\1\", remove_dupes)  # yep learnt substitution along with regex"
   ]
  },
  {
   "cell_type": "code",
   "execution_count": null,
   "metadata": {},
   "outputs": [],
   "source": [
    "match255 = '255 256 155 55 99 199 266 267 244'\n",
    "ipv4 = \"172.16.254.1, 277.668.21.5, 177.88.221.255 0.0.0.0 266.522.57.6 256.256.255.255 1.1.255.255\"\n",
    "ipv6 = \"1050:0000:0000:0000:0005:0600:300c:326b, 1050:0:0:0:5:600:300c:326b, 2001:db8:8086:6502::/64\"\n",
    "singleip = \"127.0.0.1\"\n",
    "\n",
    "ipv4reg = compile(r\"[0-255]\")\n",
    "ipv4reg = compile(r\"[0-255]{3}\")  # doesnt capture the digits\n",
    "ipv4reg = compile(r\"[1-2]\\d{0,2}\\.?\")  # Captures all the digits, but question is to validate address \n",
    "# 3 digit num with 1st digit with 2 means the next 2 digits can go upto 5. Need to match this\n",
    "ipv4reg = compile(r\"(1)?(?(1) \\d{1,2}|5{1,2})\") # this matches, however not perfect\n",
    "ipv4reg = compile(r\"(1)?(?(1) \\d{1,2}|[0-5]{1,2})\")  # the matching is still not perfect\n",
    "ipv4reg = compile(r\"\\b\\d{1,3}\\.\\d{1,3}\\.\\d{1,3}\\.\\d{1,3}\\b\")  # this matches all numbers, and doesn't cap at 255\n",
    "ipv4reg = compile(r\"^(([0-9]|[1-9][0-9]|1[0-9]{2}|2[0-4][0-9]|25[0-5])\\.){3}([0-9]|[1-9][0-9]|1[0-9]{2}|2[0-4][0-9]|25[0-5])$\")\n",
    "# above logically has to work, but doesn't work so diving into the parts to explore further.\n",
    "ipv4reg = compile(r\"([0-9]|[1-9][0-9]|1[0-9]{2}|2[0-4][0-9]|25[0-5])\") # this just captures all variety of numbers using the [0-9]\n",
    "ipv4reg = compile(r\"([0-9]|[1-9][0-9]|1[0-9]{2}|2[0-4][0-9]|25[0-5])\\.\") # this just captures all parts of the ip except the last \n",
    "ipv4reg = compile(r\"([0-9]|[1-9][0-9]|1[0-9]{2}|2[0-4][0-9]|25[0-5])$\") # this just captures the last part of the ip \n",
    "ipv4reg = compile(r\"(([0-9]|[1-9][0-9]|1[0-9]{2}|2[0-4][0-9]|25[0-5])\\.){3}\") # this just captures all 3 parts of the ip except the last \n",
    "ipv4reg = compile(r\"(([0-9]|[1-9][0-9]|1[0-9]{2}|2[0-4][0-9]|25[0-5])\\.){3}([0-9]|[1-9][0-9]|1[0-9]{2}|2[0-4][0-9]|25[0-5])$\") \n",
    "ipv4reg = compile(r\"^(?:(?:[0-9]|[1-9][0-9]|1[0-9]{2}|2[0-4][0-9]|25[0-5])\\.){3}(?:[0-9]|[1-9][0-9]|1[0-9]{2}|2[0-4][0-9]|25[0-5])$\") \n",
    "# (?:) doesn't create backref\n",
    "# this just captures 1.1.255.255 even 0.0.0.0 is not matched... need to understand\n",
    "# locs = ipv4reg.finditer(match255)  \n",
    "\n",
    "workingipv4 = compile(r\"^(?:(?:[0-9]|[1-9][0-9]|1[0-9]{2}|2[0-4][0-9]|25[0-5])\\.){3}(?:[0-9]|[1-9][0-9]|1[0-9]{2}|2[0-4][0-9]|25[0-5])$/\")\n",
    "# locs = ipv4reg.finditer(ipv4)  \n",
    "locs = workingipv4.finditer(singleip)  # even this is not matched... but the regex101 passes it..\n",
    "\n",
    "for lo in locs:\n",
    "    print(lo)"
   ]
  },
  {
   "cell_type": "code",
   "execution_count": null,
   "metadata": {},
   "outputs": [],
   "source": [
    "# Strip of the html tags\n",
    "from re import compile\n",
    "import re\n",
    "\n",
    "var_html = '<html><body>Hello, world!<br /></body></html> before<br>after';\n",
    "\n",
    "tagreg = compile(r\"<\\s*>|<\\/<\\s*>\")  # no capture\n",
    "tagreg = compile(r\"<\\w*>|</\\w*>\")  # getting all except br\n",
    "tagreg = compile(r\"<\\w*>|</\\w*>|<\\w*\\s?/>\")  # getting all including the last <br>\n",
    "# /<\\w*>|<\\/\\w*>|<\\w*\\s?\\/>/m is the regex101 expr, which requires / to be escaped\n",
    "\n",
    "locs = tagreg.finditer(var_html)\n",
    "\n",
    "for l in locs:\n",
    "    print(l)\n",
    "\n",
    "re.sub(r\"<\\w*>|</\\w*>|<\\w*\\s?/>\", '\\x20', var_html)  # its placing space in the area of html tags\n",
    "re.sub(r\"<\\w*>|</\\w*>|<\\w*\\s?/>\", '', var_html)  # its aiming to replace with no space\n",
    "re.sub(r\"<([^>]+)>\", '', var_html)  # its aiming to replace with no space, with different smaller pattern\n",
    "\n",
    "# The above solution is flagged has having an issue, with <br> tags and regex101 is not accepting it."
   ]
  },
  {
   "cell_type": "code",
   "execution_count": null,
   "metadata": {},
   "outputs": [],
   "source": [
    "# Validating emails\n",
    "# https://stackoverflow.com/questions/201323/how-can-i-validate-an-email-address-using-a-regular-expression\n",
    "\n",
    "stringmail = \"\"\"contact@regex101.com (denoted as <local-part>@<domain>.<top-level-domain>). \n",
    "            a@h.com localpartgoeshere@foo.example.com\n",
    "            a5---5@the.com a5--5@the.com\"\"\"\n",
    "\n",
    "emcmp = compile(r\"[a-zA-Z0-9_-]*@\")  # captures local_part even if empty, including @\n",
    "emcmp = compile(r\"[a-zA-Z0-9_-]+@\")  # captures local_part if atlesast onchar with @  \n",
    "emcmp = compile(r\"[a-zA-Z0-9_-]+@[a-zA-Z0-9-_]+\\.\")  # captures local_part & domain part if atlesast onchar with @ and .  \n",
    "emcmp = compile(r\"[a-zA-Z0-9_-]+@[a-zA-Z0-9-_]+\\.[a-zA-Z0-9-_]+(?:\\b|$)\")  # misses to capture subdomain   \n",
    "emcmp = compile(r\"[a-zA-Z0-9_-]+@([a-zA-Z0-9-_]+\\.)+[a-zA-Z0-9-_]{1,6}(?:\\b|$)\")  # trying to capture subdomain   \n",
    "emcmp = compile(r\"[a-zA-Z0-9_-]+@([a-zA-Z]{1}[a-zA-Z0-9]*\\.)+[a-z]{2,6}(?:\\b|$)\")  # Capturing more than 2 hyphens\n",
    "# Trying to figure out the Test 30/56: Two hyphens in a row must be allowed.\n",
    "\n",
    "locs = emcmp.finditer(stringmail)\n",
    "\n",
    "for l in locs:\n",
    "    print(l)"
   ]
  },
  {
   "cell_type": "code",
   "execution_count": 15,
   "metadata": {},
   "outputs": [
    {
     "data": {
      "text/plain": [
       "<re.Match object; span=(10, 17), match='is deli'>"
      ]
     },
     "execution_count": 15,
     "metadata": {},
     "output_type": "execute_result"
    }
   ],
   "source": [
    "# look ahead working\n",
    "\n",
    "tgt = 'The candy is delicious or disgusting'\n",
    "\n",
    "comptgt = compile(r\"is\")  # matching 'is'\n",
    "comptgt = compile(r\"(?=is)(is delcious)\")  # not matching\n",
    "# comptgt = compile(r\"(?(?=is)(is delcious)|(disgusting))\")  # erroring out in python, regex101 works\n",
    "comptgt = compile(r\"((?=is)(is delcious)|(disgusting))\")  # 1st ? mark removed, and it compiles  \n",
    "comptgt = compile(r\"((?=is)(is delci)|(disgusting))\")  # 1st ? mark removed, and it compiles matches disgusting  \n",
    "comptgt = compile(r\"((?=is)(is deli)|(disgusting))\")  # there was a spell error with delicious  \n",
    "# if 'is' is matched then check if delicious follows, else see if disgusting follows\n",
    "comptgt = compile(r\"((?=is)(is deli))\")  # there is no need for if this or that conditionals  \n",
    "\n",
    "comptgt.search(tgt)\n",
    "# comptgt.match(tgt)"
   ]
  },
  {
   "cell_type": "code",
   "execution_count": 21,
   "metadata": {},
   "outputs": [
    {
     "data": {
      "text/plain": [
       "<re.Match object; span=(23, 25), match='or'>"
      ]
     },
     "execution_count": 21,
     "metadata": {},
     "output_type": "execute_result"
    }
   ],
   "source": [
    "# look behind working\n",
    "\n",
    "tgt = 'The candy is delicious or disgusting'\n",
    "\n",
    "comptgt = compile(r\"is\")  # matching 'is'\n",
    "comptgt = compile(r\"((?<=candy)(.is))\")  # there is no need for if this or that conditionals  \n",
    "comptgt = compile(r\"((?<=cious.)(or))\")  # there is no need for if this or that conditionals  \n",
    "\n",
    "comptgt.search(tgt)\n",
    "# comptgt.match(tgt)"
   ]
  },
  {
   "cell_type": "code",
   "execution_count": 32,
   "metadata": {},
   "outputs": [
    {
     "name": "stdout",
     "output_type": "stream",
     "text": [
      "<re.Match object; span=(13, 14), match='a'>\n",
      "a\n",
      "<re.Match object; span=(16, 17), match='c'>\n",
      "c\n",
      "<re.Match object; span=(19, 20), match='-'>\n",
      "-\n"
     ]
    }
   ],
   "source": [
    "from re import compile\n",
    "\n",
    "target = 'for the text a#bc# -#, set backreferences with a, c and -. Need to match previous character'\n",
    "# https://stackoverflow.com/questions/3926451/how-to-match-but-not-capture-part-of-a-regex\n",
    "# The only way not to capture something is using look-around assertions:\n",
    "comptgt = compile(r'#') # Try capturing the hash\n",
    "comptgt = compile(r\"(?<=#)(.)\") # looking behind for # matches b\n",
    "comptgt = compile(r\"(?=#)#(.)\") # looking ahead with # matches char after # \n",
    "comptgt = compile(r\"(?<=#)#(.)\") # looking ahead with # matches char after # \n",
    "comptgt = compile(r\"(.)#\") # looking ahead with # matches char after # \n",
    "comptgt = compile(r\"([a-zA-Z0-9_#-])(?=#)\")\n",
    "comptgt = compile(r\"([a-zA-Z0-9_#-])(?=#)\")\n",
    "comptgt = compile(r\"(.)(?=#)\")\n",
    "\n",
    "locaters = comptgt.finditer(target)\n",
    "\n",
    "for loc in locaters:\n",
    "    print(loc)\n",
    "    print(loc.group(1))"
   ]
  },
  {
   "cell_type": "code",
   "execution_count": 70,
   "metadata": {},
   "outputs": [
    {
     "data": {
      "text/plain": [
       "['5573.14159', '6.5', '7.5', '5.551']"
      ]
     },
     "execution_count": 70,
     "metadata": {},
     "output_type": "execute_result"
    }
   ],
   "source": [
    "# Check if the floating point number is valid\n",
    "\n",
    "tgt = \"e.g. 5573.14159 6.5.7.5 5.551  00..00\"\n",
    "\n",
    "comptgt = compile(r\"\\.\")  # matches all .\n",
    "comptgt = compile(r\"\\d\\.\\d\")  # matches . with numbers around\n",
    "# need to use look ahead and look behind\n",
    "comptgt = compile(r\"(?<=\\b\\d)\\.\\d+\")  # matches ['.14159', '.5', '.5', '.551']\n",
    "comptgt = compile(r\"(?<=\\b\\d)\\.(?=\\d)\\d+\\b\")  # matches ['.14159', '.5', '.5', '.551']\n",
    "comptgt = compile(r\"\\b\\d+(?<=\\b\\d)\\.(?=\\d)\\d+\\b\")  # matches ['3.14159', '6.5', '5.551'] 6.5 must not be captured\n",
    "comptgt = compile(r\"\\b\\d+(?<=\\b\\d)\\.(?=\\d+\\b)\\d+\\b\")  # matches ['3.14159', '6.5', '7.5', '5.551'] 6.5 & 7.5 must not be captured\n",
    "comptgt = compile(r\"\\b\\d+(?<=\\b\\d)\\.(?=\\d+\\b)\\d+\\b\")  # matches ['6.5', '7.5', '5.551'] 6.5 & 7.5 must not be captured, 5573.141 must be caught\n",
    "comptgt = compile(r\"\\b\\d+\\.(?=\\d+\\b)\\d+\\b\")  # matches ['5573.141', '6.5', '7.5', '5.551'] 6.5 & 7.5 must not be captured\n",
    "comptgt = compile(r\"\\b[0-9]+[^\\.]+\\.(?=\\d+\\b)\\d+\\b\")  # matches ['5573.14159', '5  5.551'] its close\n",
    "comptgt = compile(r\"\\b\\d+[^\\.](?<=\\d)\\.(?=\\d+\\b)\\d+\\b\")  # matches ['5573.14159'] it needs to capture 5.551\n",
    "comptgt = compile(r\"\\b\\d*[^\\.](?<=\\d)\\.(?=\\d+\\b)\\d+\\b\")  # matches ['5573.14159', '6.5', '7.5', '5.551'], so * cannot be used\n",
    "\n",
    "comptgt.search(tgt)\n",
    "comptgt.findall(tgt)"
   ]
  },
  {
   "cell_type": "code",
   "execution_count": 81,
   "metadata": {},
   "outputs": [
    {
     "data": {
      "text/plain": [
       "[('apple', 'apple'), ('banana', 'banana'), ('', '')]"
      ]
     },
     "execution_count": 81,
     "metadata": {},
     "output_type": "execute_result"
    }
   ],
   "source": [
    "# Capturing with look ahead and look behinds\n",
    "# reference point for the look ahead & behind needs to be established.\n",
    "tgt = \"\"\"the string \"apple\" followed by a hyphen, e.g. 123-apple-456\n",
    "the string \"banana\" followed by a hyphen, e.g. 123-banana-456 123-banano456\n",
    "123-banano\n",
    "a blank string, e.g. 123-456 (note there's only one hyphen)\"\"\"\n",
    "\n",
    "comptgt = compile(r\"(?<=123-)(apple|banana|banano)(?=-456)|(?=456)\")  # wont capture banano ['apple', '', 'banana', '', '', '']\n",
    "comptgt = compile(r\"(?<=123-)(apple|banana|banano)(?=456)\")  # will capture banano\n",
    "comptgt = compile(r\"(?<=123-)((apple|banana)(?=-456)|(?=456))\")  # its capturing twices, as there are capturing groups\n",
    "\n",
    "comptgt.findall(tgt)"
   ]
  },
  {
   "cell_type": "code",
   "execution_count": 4,
   "metadata": {},
   "outputs": [
    {
     "data": {
      "text/plain": [
       "['Ther', 'ar', 'boundari', 'min']"
      ]
     },
     "execution_count": 4,
     "metadata": {},
     "output_type": "execute_result"
    }
   ],
   "source": [
    "# exploring word boundaries, as they are not working as i thought\n",
    "from re import compile\n",
    "\n",
    "test = \"There are your boundaries and mine\"\n",
    "\n",
    "comptest = compile(r\"\\b\")  # captures both boundary around the word\n",
    "comptest = compile(r\"\\w\\b\")  # captures boundary after word\n",
    "comptest = compile(r\"\\b\\w\")  # captures boundary before word\n",
    "comptest = compile(r\"\\b\\w+\\b\")  # captures each word\n",
    "comptest = compile(r\"\\B\")  # matches between every character\n",
    "comptest = compile(r\"\\Be\")  # matches e that is between every word \n",
    "comptest = compile(r\"(\\w+)\\Be\")  # matches between every character\n",
    "\n",
    "output = comptest.findall(test)\n",
    "\n",
    "output"
   ]
  },
  {
   "cell_type": "code",
   "execution_count": 33,
   "metadata": {},
   "outputs": [
    {
     "data": {
      "text/plain": [
       "[]"
      ]
     },
     "execution_count": 33,
     "metadata": {},
     "output_type": "execute_result"
    }
   ],
   "source": [
    "from re import compile\n",
    "# Validate my input and match positive integers between range of 0 to 100\n",
    "\n",
    "target_text = \"\"\"Sam has 200 apples. He gives Todd 20 and Mary 125.\n",
    "The weather is -5 C today, but will be +5 C and +75 C tomorrow.\"\"\"\n",
    "\n",
    "comptgt = compile(r\"(0|1)+\\d*\")  # capturing 1, then nothing else\n",
    "comptgt = compile(r\"(0|1|2)+\\d*\")  # capturing 1, then nothing else\n",
    "comptgt = compile(r\"(0|1)25\\.\")  # capturing 1 then target 125 is not caught,\n",
    "comptgt = compile(r\"2\\d+\")  # capturing 20 and 200\n",
    "comptgt = compile(r\"\\d\")  # capturing all starting numbers, including +5 and -5. \n",
    "comptgt = compile(r\"\\++\\d\")  # capturing only +5. \n",
    "comptgt = compile(r\"\\++\\d+\")  # capturing only +5 and +75. \n",
    "comptgt = compile(r\"\\b\\d+\\b\")  # capturing all numbers \n",
    "comptgt = compile(r\"\\b\\+{1}\\d\\b\")\n",
    "\n",
    "getNum = comptgt.findall(target_text)\n",
    "\n",
    "getNum"
   ]
  },
  {
   "cell_type": "code",
   "execution_count": null,
   "metadata": {},
   "outputs": [],
   "source": []
  },
  {
   "cell_type": "code",
   "execution_count": null,
   "metadata": {},
   "outputs": [],
   "source": []
  }
 ],
 "metadata": {
  "kernelspec": {
   "display_name": "Python 3",
   "language": "python",
   "name": "python3"
  },
  "language_info": {
   "codemirror_mode": {
    "name": "ipython",
    "version": 3
   },
   "file_extension": ".py",
   "mimetype": "text/x-python",
   "name": "python",
   "nbconvert_exporter": "python",
   "pygments_lexer": "ipython3",
   "version": "3.11.4"
  }
 },
 "nbformat": 4,
 "nbformat_minor": 2
}
