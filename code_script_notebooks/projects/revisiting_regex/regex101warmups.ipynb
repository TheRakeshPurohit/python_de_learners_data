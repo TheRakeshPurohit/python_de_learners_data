{
 "cells": [
  {
   "cell_type": "code",
   "execution_count": 2,
   "metadata": {},
   "outputs": [],
   "source": [
    "# regex101 challenge 1:\n",
    "\n",
    "text_word = \"\"\"Lorem ipsum dolor sit amet, consectetur adipiscing elit. Sed quis WORD nibh. Donec condimentum, lorem in word vehicula consectetur, justo leo condimentum ante, eget finibus eros sem et word. Nulla facilisi. Proin dictum ligula id word porttitor. Nulla sit amet word augue. Integer ac word ligula. Cras word fermentum lorem vel metus eleifend, ac fermentum justo efficitur. Nam et word lectus. Suspendisse nec lorem id woRD fringilla tristique. Vestibulum ante ipsum primis in faucibus orci luctus et wOrd ultrices posuere cubilia Curae; Sed consequat magna non word dapibus. Morbi ac word turpis. Quisque word auctor lectus. Fusce id word mauris. Sed non word massa. Ut word ultrices lacus et ligula sagittis, quis hendrerit arcu pulvinar. Phasellus word volutpat ligula sed mi dapibus, in consequat lacus ullamcorper. Nulla facilisi. Suspendisse word congue turpis vel posuere. Duis word maximus leo id est fringilla tincidunt. Aliquam word sollicitudin nibh in nisi rutrum, eget ultricies ipsum word. Fusce word turpis quis risus dictum, eget dictum odio word. Donec word vel velit et facilisis. Phasellus word finibus velit a felis efficitur, vel efficitur ligula word\"\"\""
   ]
  },
  {
   "cell_type": "code",
   "execution_count": 3,
   "metadata": {},
   "outputs": [
    {
     "name": "stdout",
     "output_type": "stream",
     "text": [
      "<re.Match object; span=(66, 70), match='WORD'>\n"
     ]
    }
   ],
   "source": [
    "from re import compile\n",
    "\n",
    "import re\n",
    "\n",
    "word = compile(r\"\\b[word|WORD]\\b\")  # Having [] seems to be the issue\n",
    "word = compile(r\"\\b(word|WORD)\\b\")  # its capturing with refs \n",
    "word = compile(r\"\\b(?:word|WORD)\\b\")  # its capturing with refs \n",
    "word = compile(r\"\\bword\\b\", )  # Need to add case insensitivity\n",
    "word = compile(r\"\\bword\\b\",re.IGNORECASE)  # Need to add case insensitivity\n",
    "locaters = word.finditer(text_word)\n",
    "\n",
    "for loc in locaters:\n",
    "    print(loc)\n",
    "    break"
   ]
  },
  {
   "cell_type": "code",
   "execution_count": 11,
   "metadata": {},
   "outputs": [],
   "source": [
    "# regex101 challenge 2\n",
    "\n",
    "# Use substitution to replace every occurrence of the word i with the word I (uppercase, I as in me).\n",
    "\n",
    "text_sentence = \"i'm replacing it. am i not? -> I'm replacing it. am I not?.\""
   ]
  },
  {
   "cell_type": "code",
   "execution_count": 31,
   "metadata": {},
   "outputs": [
    {
     "name": "stdout",
     "output_type": "stream",
     "text": [
      "<re.Match object; span=(0, 2), match=\"i'\">\n",
      "i\n",
      "<re.Match object; span=(21, 23), match='i '>\n",
      "i\n"
     ]
    },
    {
     "data": {
      "text/plain": [
       "\"I m replacing it. am I not? -> I'm replacing it. am I not?.\""
      ]
     },
     "execution_count": 31,
     "metadata": {},
     "output_type": "execute_result"
    }
   ],
   "source": [
    "icap = compile(r'i|I')  # captures all i, need to narrow down\n",
    "icap = compile(r'\\bi|I')  # captures i in words starting with i \n",
    "icap = compile(r'\\b(i|I)\\W')  # captures i in the way we want \n",
    "icap = compile(r'\\b(i)\\W')  # captures i in the way we want , and its group-1\n",
    "\n",
    "locaters = icap.finditer(text_sentence)\n",
    "\n",
    "for loc in locaters:\n",
    "    print(loc)\n",
    "    print(loc.group(1))\n",
    "\n",
    "icap.sub('I ', text_sentence)  # \"Im replacing it. am Inot? -> I'm replacing it. am I not?.\""
   ]
  },
  {
   "cell_type": "code",
   "execution_count": null,
   "metadata": {},
   "outputs": [],
   "source": [
    "# Challenge3 \n",
    "# Return the number of uppercase consonants (B,C,D,F,..,X,Y,Z) in a given string\n",
    "\n",
    "stmt = \"aABcDeFO!.\"\n",
    "\n",
    "exmple_chars = \".½§1234567890!\\\"#¤%&/()=?´@£${[]}~*\\'¨-_.,;:><| åäö\"  # the double quote needs to be escaped\n",
    "\n",
    "regex = compile(r\"[aeiou]|[AEIOU]\")  # capturing as expected \n",
    "regex = compile(r\"[^aeiou]|[^AEIOU]\")  # capturing everything, not expected \n",
    "regex = compile(r\"^[aeiou]\")  # the hat captures those at the start\n",
    "regex = compile(r\"[^aeiouAEIOU\\W]\")  # this captures everything that is required, but captures more\n",
    "regex = compile(r\"[^a-zAEIOU\\W\\d]\")  # this is improved, doesn't capture numbers or non-word chars, unicode is captured \n",
    "# regex = compile(r\"[^a-zAEIOU\\W\\d\\P]\")  # this errors out \n",
    "regex = compile(r\"[^a-zAEIOU\\d\\s\\W\\X]\")  # this errors out\n",
    "# https://www.regular-expressions.info/unicode.html\n",
    "# Issue is unicode matching in python using ranges is still tricky, while other language regex support it. \n",
    "locaters = regex.finditer(stmt + exmple_chars)\n",
    "\n",
    "for loc in locaters:\n",
    "    print(loc)"
   ]
  },
  {
   "cell_type": "code",
   "execution_count": 12,
   "metadata": {},
   "outputs": [
    {
     "name": "stdout",
     "output_type": "stream",
     "text": [
      "<re.Match object; span=(0, 1), match='1'>\n",
      "<re.Match object; span=(3, 4), match='2'>\n",
      "<re.Match object; span=(6, 8), match='65'>\n",
      "<re.Match object; span=(10, 14), match='2579'>\n"
     ]
    }
   ],
   "source": [
    "count_num = \"1, 2, 65, 2579\"\n",
    "\n",
    "num_ex = compile(r\"\\d*\")  # this is matching space also ?? why\n",
    "num_ex = compile(r\"\\d+\")  # this is matching num only \n",
    "\n",
    "locs = num_ex.finditer(count_num)\n",
    "\n",
    "for l in locs:\n",
    "    print(l)\n"
   ]
  },
  {
   "cell_type": "code",
   "execution_count": 13,
   "metadata": {},
   "outputs": [
    {
     "name": "stdout",
     "output_type": "stream",
     "text": [
      "<re.Match object; span=(4, 5), match=' '>\n",
      "<re.Match object; span=(21, 22), match='\\n'>\n",
      "<re.Match object; span=(21, 22), match='\\t'>\n",
      "<re.Match object; span=(21, 22), match='\\r'>\n",
      "<re.Match object; span=(4, 5), match=' '>\n"
     ]
    }
   ],
   "source": [
    "import re\n",
    "\n",
    "# Match any whitespace character\n",
    "match = re.search(\"\\s\", \"This is a string with spaces\")\n",
    "print(match)\n",
    "\n",
    "# Match a newline character\n",
    "match = re.search(\"\\n\", \"This is a string with\\na newline\")\n",
    "\n",
    "print(match)\n",
    "# Match a tab character\n",
    "match = re.search(\"\\t\", \"This is a string with\\ta tab\")\n",
    "\n",
    "print(match)\n",
    "# Match a carriage return character\n",
    "match = re.search(\"\\r\", \"This is a string with\\ra carriage return\")\n",
    "\n",
    "print(match)\n",
    "# Match any of the whitespace characters listed above\n",
    "match = re.search(\"[ \\t\\n\\r]\", \"This is a string with whitespace\")\n",
    "\n",
    "print(match)"
   ]
  },
  {
   "cell_type": "code",
   "execution_count": 15,
   "metadata": {},
   "outputs": [
    {
     "name": "stdout",
     "output_type": "stream",
     "text": [
      "<re.Match object; span=(4, 8), match='    '>\n",
      "<re.Match object; span=(16, 22), match='      '>\n",
      "<re.Match object; span=(26, 31), match='     '>\n"
     ]
    }
   ],
   "source": [
    "whitspace_str = \"this    is a sen      tenc     e with spaces\"\n",
    "\n",
    "regspace = compile(r\"\\w{4,}\")  # this matches the words\n",
    "regspace = compile(r\"\\W{4,}\")  # this matches the words\n",
    "\n",
    "locs = regspace.finditer(whitspace_str)\n",
    "\n",
    "for l in locs:\n",
    "    print(l)"
   ]
  },
  {
   "cell_type": "code",
   "execution_count": 26,
   "metadata": {},
   "outputs": [
    {
     "name": "stdout",
     "output_type": "stream",
     "text": [
      "<re.Match object; span=(8, 10), match='pp'>\n",
      "p\n",
      "<re.Match object; span=(30, 32), match='hh'>\n",
      "h\n"
     ]
    },
    {
     "data": {
      "text/plain": [
       "'Can you please help me fix this?'"
      ]
     },
     "execution_count": 26,
     "metadata": {},
     "output_type": "execute_result"
    }
   ],
   "source": [
    "remove_dupes = \"Can you ppplease help me fix thhhis?\"\n",
    "\n",
    "regdupe = compile(r\"(.)\\1\")\n",
    "\n",
    "locs = regdupe.finditer(remove_dupes)\n",
    "# https://stackoverflow.com/questions/8157267/handling-backreferences-to-capturing-groups-in-re-sub-replacement-pattern\n",
    "\n",
    "for l in locs:\n",
    "    print(l)\n",
    "    print(l.group(1))\n",
    "\n",
    "re.sub(r\"(.)\\1\", r'\\1', remove_dupes, 0, re.MULTILINE)  # doesn't do the thing\n",
    "re.sub(r\"(.)\\1\", r\"\\1\", remove_dupes)  # doesn't do the thing\n",
    "re.sub(r\"(.)\\1\", r\"\\1\", remove_dupes)  # doesn't do the thing\n",
    "re.sub(r\"(.)\\1\\1\", r\"\\1\", remove_dupes)  # yep learnt substitution along with regex"
   ]
  },
  {
   "cell_type": "code",
   "execution_count": 80,
   "metadata": {},
   "outputs": [],
   "source": [
    "match255 = '255 256 155 55 99 199 266 267 244'\n",
    "ipv4 = \"172.16.254.1, 277.668.21.5, 177.88.221.255 0.0.0.0 266.522.57.6 256.256.255.255 1.1.255.255\"\n",
    "ipv6 = \"1050:0000:0000:0000:0005:0600:300c:326b, 1050:0:0:0:5:600:300c:326b, 2001:db8:8086:6502::/64\"\n",
    "singleip = \"127.0.0.1\"\n",
    "\n",
    "ipv4reg = compile(r\"[0-255]\")\n",
    "ipv4reg = compile(r\"[0-255]{3}\")  # doesnt capture the digits\n",
    "ipv4reg = compile(r\"[1-2]\\d{0,2}\\.?\")  # Captures all the digits, but question is to validate address \n",
    "# 3 digit num with 1st digit with 2 means the next 2 digits can go upto 5. Need to match this\n",
    "ipv4reg = compile(r\"(1)?(?(1) \\d{1,2}|5{1,2})\") # this matches, however not perfect\n",
    "ipv4reg = compile(r\"(1)?(?(1) \\d{1,2}|[0-5]{1,2})\")  # the matching is still not perfect\n",
    "ipv4reg = compile(r\"\\b\\d{1,3}\\.\\d{1,3}\\.\\d{1,3}\\.\\d{1,3}\\b\")  # this matches all numbers, and doesn't cap at 255\n",
    "ipv4reg = compile(r\"^(([0-9]|[1-9][0-9]|1[0-9]{2}|2[0-4][0-9]|25[0-5])\\.){3}([0-9]|[1-9][0-9]|1[0-9]{2}|2[0-4][0-9]|25[0-5])$\")\n",
    "# above logically has to work, but doesn't work so diving into the parts to explore further.\n",
    "ipv4reg = compile(r\"([0-9]|[1-9][0-9]|1[0-9]{2}|2[0-4][0-9]|25[0-5])\") # this just captures all variety of numbers using the [0-9]\n",
    "ipv4reg = compile(r\"([0-9]|[1-9][0-9]|1[0-9]{2}|2[0-4][0-9]|25[0-5])\\.\") # this just captures all parts of the ip except the last \n",
    "ipv4reg = compile(r\"([0-9]|[1-9][0-9]|1[0-9]{2}|2[0-4][0-9]|25[0-5])$\") # this just captures the last part of the ip \n",
    "ipv4reg = compile(r\"(([0-9]|[1-9][0-9]|1[0-9]{2}|2[0-4][0-9]|25[0-5])\\.){3}\") # this just captures all 3 parts of the ip except the last \n",
    "ipv4reg = compile(r\"(([0-9]|[1-9][0-9]|1[0-9]{2}|2[0-4][0-9]|25[0-5])\\.){3}([0-9]|[1-9][0-9]|1[0-9]{2}|2[0-4][0-9]|25[0-5])$\") \n",
    "ipv4reg = compile(r\"^(?:(?:[0-9]|[1-9][0-9]|1[0-9]{2}|2[0-4][0-9]|25[0-5])\\.){3}(?:[0-9]|[1-9][0-9]|1[0-9]{2}|2[0-4][0-9]|25[0-5])$\") \n",
    "# (?:) doesn't create backref\n",
    "# this just captures 1.1.255.255 even 0.0.0.0 is not matched... need to understand\n",
    "# locs = ipv4reg.finditer(match255)  \n",
    "\n",
    "workingipv4 = compile(r\"^(?:(?:[0-9]|[1-9][0-9]|1[0-9]{2}|2[0-4][0-9]|25[0-5])\\.){3}(?:[0-9]|[1-9][0-9]|1[0-9]{2}|2[0-4][0-9]|25[0-5])$/\")\n",
    "# locs = ipv4reg.finditer(ipv4)  \n",
    "locs = workingipv4.finditer(singleip)  # even this is not matched... but the regex101 passes it..\n",
    "\n",
    "for lo in locs:\n",
    "    print(lo)"
   ]
  },
  {
   "cell_type": "code",
   "execution_count": 93,
   "metadata": {},
   "outputs": [
    {
     "name": "stdout",
     "output_type": "stream",
     "text": [
      "<re.Match object; span=(0, 6), match='<html>'>\n",
      "<re.Match object; span=(6, 12), match='<body>'>\n",
      "<re.Match object; span=(25, 31), match='<br />'>\n",
      "<re.Match object; span=(31, 38), match='</body>'>\n",
      "<re.Match object; span=(38, 45), match='</html>'>\n",
      "<re.Match object; span=(52, 56), match='<br>'>\n"
     ]
    }
   ],
   "source": [
    "# Strip of the html tags\n",
    "\n",
    "var_html = '<html><body>Hello, world!<br /></body></html> before<br>after';\n",
    "\n",
    "tagreg = compile(r\"<\\s*>|<\\/<\\s*>\")  # no capture\n",
    "tagreg = compile(r\"<\\w*>|</\\w*>\")  # getting all except br\n",
    "tagreg = compile(r\"<\\w*>|</\\w*>|<\\w*\\s?/>\")  # getting all including the last <br>\n",
    "# /<\\w*>|<\\/\\w*>|<\\w*\\s?\\/>/m is the regex101 expr, which requires / to be escaped\n",
    "\n",
    "locs = tagreg.finditer(var_html)\n",
    "\n",
    "for l in locs:\n",
    "    print(l)"
   ]
  },
  {
   "cell_type": "code",
   "execution_count": null,
   "metadata": {},
   "outputs": [],
   "source": []
  },
  {
   "cell_type": "code",
   "execution_count": null,
   "metadata": {},
   "outputs": [],
   "source": []
  },
  {
   "cell_type": "code",
   "execution_count": null,
   "metadata": {},
   "outputs": [],
   "source": []
  },
  {
   "cell_type": "code",
   "execution_count": null,
   "metadata": {},
   "outputs": [],
   "source": []
  }
 ],
 "metadata": {
  "kernelspec": {
   "display_name": "Python 3",
   "language": "python",
   "name": "python3"
  },
  "language_info": {
   "codemirror_mode": {
    "name": "ipython",
    "version": 3
   },
   "file_extension": ".py",
   "mimetype": "text/x-python",
   "name": "python",
   "nbconvert_exporter": "python",
   "pygments_lexer": "ipython3",
   "version": "3.11.4"
  }
 },
 "nbformat": 4,
 "nbformat_minor": 2
}
