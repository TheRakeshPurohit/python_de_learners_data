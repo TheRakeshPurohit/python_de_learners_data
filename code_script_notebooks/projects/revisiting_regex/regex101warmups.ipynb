{
 "cells": [
  {
   "cell_type": "code",
   "execution_count": 7,
   "metadata": {},
   "outputs": [],
   "source": [
    "# regex101 challenge 1:\n",
    "\n",
    "text_word = \"\"\"Lorem ipsum dolor sit amet, consectetur adipiscing elit. Sed quis WORD nibh. Donec condimentum, lorem in word vehicula consectetur, justo leo condimentum ante, eget finibus eros sem et word. Nulla facilisi. Proin dictum ligula id word porttitor. Nulla sit amet word augue. Integer ac word ligula. Cras word fermentum lorem vel metus eleifend, ac fermentum justo efficitur. Nam et word lectus. Suspendisse nec lorem id woRD fringilla tristique. Vestibulum ante ipsum primis in faucibus orci luctus et wOrd ultrices posuere cubilia Curae; Sed consequat magna non word dapibus. Morbi ac word turpis. Quisque word auctor lectus. Fusce id word mauris. Sed non word massa. Ut word ultrices lacus et ligula sagittis, quis hendrerit arcu pulvinar. Phasellus word volutpat ligula sed mi dapibus, in consequat lacus ullamcorper. Nulla facilisi. Suspendisse word congue turpis vel posuere. Duis word maximus leo id est fringilla tincidunt. Aliquam word sollicitudin nibh in nisi rutrum, eget ultricies ipsum word. Fusce word turpis quis risus dictum, eget dictum odio word. Donec word vel velit et facilisis. Phasellus word finibus velit a felis efficitur, vel efficitur ligula word\"\"\""
   ]
  },
  {
   "cell_type": "code",
   "execution_count": 9,
   "metadata": {},
   "outputs": [
    {
     "name": "stdout",
     "output_type": "stream",
     "text": [
      "<re.Match object; span=(66, 70), match='WORD'>\n"
     ]
    }
   ],
   "source": [
    "from re import compile\n",
    "import re\n",
    "\n",
    "word = compile(r\"\\b[word|WORD]\\b\")  # Having [] seems to be the issue\n",
    "word = compile(r\"\\b(word|WORD)\\b\")  # its capturing with refs \n",
    "word = compile(r\"\\b(?:word|WORD)\\b\")  # its capturing with refs \n",
    "word = compile(r\"\\bword\\b\", )  # Need to add case insensitivity\n",
    "word = compile(r\"\\bword\\b\",re.IGNORECASE)  # Need to add case insensitivity\n",
    "locaters = word.finditer(text_word)\n",
    "\n",
    "for loc in locaters:\n",
    "    print(loc)\n",
    "    break"
   ]
  },
  {
   "cell_type": "code",
   "execution_count": 11,
   "metadata": {},
   "outputs": [],
   "source": [
    "# regex101 challenge 2\n",
    "\n",
    "# Use substitution to replace every occurrence of the word i with the word I (uppercase, I as in me).\n",
    "\n",
    "text_sentence = \"i'm replacing it. am i not? -> I'm replacing it. am I not?.\""
   ]
  },
  {
   "cell_type": "code",
   "execution_count": 31,
   "metadata": {},
   "outputs": [
    {
     "name": "stdout",
     "output_type": "stream",
     "text": [
      "<re.Match object; span=(0, 2), match=\"i'\">\n",
      "i\n",
      "<re.Match object; span=(21, 23), match='i '>\n",
      "i\n"
     ]
    },
    {
     "data": {
      "text/plain": [
       "\"I m replacing it. am I not? -> I'm replacing it. am I not?.\""
      ]
     },
     "execution_count": 31,
     "metadata": {},
     "output_type": "execute_result"
    }
   ],
   "source": [
    "icap = compile(r'i|I')  # captures all i, need to narrow down\n",
    "icap = compile(r'\\bi|I')  # captures i in words starting with i \n",
    "icap = compile(r'\\b(i|I)\\W')  # captures i in the way we want \n",
    "icap = compile(r'\\b(i)\\W')  # captures i in the way we want , and its group-1\n",
    "\n",
    "locaters = icap.finditer(text_sentence)\n",
    "\n",
    "for loc in locaters:\n",
    "    print(loc)\n",
    "    print(loc.group(1))\n",
    "\n",
    "icap.sub('I ', text_sentence)  # \"Im replacing it. am Inot? -> I'm replacing it. am I not?.\""
   ]
  },
  {
   "cell_type": "code",
   "execution_count": 50,
   "metadata": {},
   "outputs": [
    {
     "name": "stdout",
     "output_type": "stream",
     "text": [
      "<re.Match object; span=(2, 3), match='B'>\n",
      "<re.Match object; span=(3, 4), match='c'>\n",
      "<re.Match object; span=(4, 5), match='D'>\n",
      "<re.Match object; span=(6, 7), match='F'>\n",
      "<re.Match object; span=(11, 12), match='½'>\n",
      "<re.Match object; span=(47, 48), match='_'>\n",
      "<re.Match object; span=(56, 57), match='å'>\n",
      "<re.Match object; span=(57, 58), match='ä'>\n",
      "<re.Match object; span=(58, 59), match='ö'>\n"
     ]
    }
   ],
   "source": [
    "# Challenge3 \n",
    "# Return the number of uppercase consonants (B,C,D,F,..,X,Y,Z) in a given string\n",
    "\n",
    "stmt = \"aABcDeFO!.\"\n",
    "\n",
    "exmple_chars = \".½§1234567890!\\\"#¤%&/()=?´@£${[]}~*\\'¨-_.,;:><| åäö\"  # the double quote needs to be escaped\n",
    "\n",
    "regex = compile(r\"[aeiou]|[AEIOU]\")  # capturing as expected \n",
    "regex = compile(r\"[^aeiou]|[^AEIOU]\")  # capturing everything, not expected \n",
    "regex = compile(r\"^[aeiou]\")  # the hat captures those at the start\n",
    "regex = compile(r\"[^aeiouAEIOU\\W]\")  # this captures everything that is required, but captures more\n",
    "regex = compile(r\"[^aeiouAEIOU\\W\\d]\")  # this is improved, doesn't capture numbers or non-word chars, unicode is captured \n",
    "\n",
    "locaters = regex.finditer(stmt + exmple_chars)\n",
    "\n",
    "for loc in locaters:\n",
    "    print(loc)"
   ]
  },
  {
   "cell_type": "code",
   "execution_count": null,
   "metadata": {},
   "outputs": [],
   "source": [
    "\n"
   ]
  },
  {
   "cell_type": "code",
   "execution_count": null,
   "metadata": {},
   "outputs": [],
   "source": []
  },
  {
   "cell_type": "code",
   "execution_count": null,
   "metadata": {},
   "outputs": [],
   "source": []
  },
  {
   "cell_type": "code",
   "execution_count": null,
   "metadata": {},
   "outputs": [],
   "source": []
  },
  {
   "cell_type": "code",
   "execution_count": null,
   "metadata": {},
   "outputs": [],
   "source": []
  },
  {
   "cell_type": "code",
   "execution_count": null,
   "metadata": {},
   "outputs": [],
   "source": []
  },
  {
   "cell_type": "code",
   "execution_count": null,
   "metadata": {},
   "outputs": [],
   "source": []
  },
  {
   "cell_type": "code",
   "execution_count": null,
   "metadata": {},
   "outputs": [],
   "source": []
  },
  {
   "cell_type": "code",
   "execution_count": null,
   "metadata": {},
   "outputs": [],
   "source": []
  }
 ],
 "metadata": {
  "kernelspec": {
   "display_name": "Python 3",
   "language": "python",
   "name": "python3"
  },
  "language_info": {
   "codemirror_mode": {
    "name": "ipython",
    "version": 3
   },
   "file_extension": ".py",
   "mimetype": "text/x-python",
   "name": "python",
   "nbconvert_exporter": "python",
   "pygments_lexer": "ipython3",
   "version": "3.11.4"
  }
 },
 "nbformat": 4,
 "nbformat_minor": 2
}
