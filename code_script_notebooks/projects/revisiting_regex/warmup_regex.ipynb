{
 "cells": [
  {
   "cell_type": "code",
   "execution_count": 24,
   "metadata": {},
   "outputs": [],
   "source": [
    "import re\n",
    "test_stmt = \"123abc456789abc123ABC\"\n",
    "# test_stmt = '123_abc45-6789.abc123-ABC.' \n",
    "# test_stmt = '123_abc45-6789.abc123-ABC.' \n",
    "test_string = \"Hello hellro 123_ heyoh ohhey\""
   ]
  },
  {
   "cell_type": "code",
   "execution_count": 4,
   "metadata": {},
   "outputs": [],
   "source": [
    "from re import (\n",
    "    compile,\n",
    "    sub,\n",
    "    split\n",
    ")"
   ]
  },
  {
   "cell_type": "code",
   "execution_count": 19,
   "metadata": {},
   "outputs": [],
   "source": [
    "test_stmt = '123_abc45-6789.abc123-ABCD.' "
   ]
  },
  {
   "cell_type": "code",
   "execution_count": 28,
   "metadata": {},
   "outputs": [
    {
     "name": "stdout",
     "output_type": "stream",
     "text": [
      "<re.Match object; span=(0, 3), match='123'>\n",
      "<re.Match object; span=(15, 18), match='123'>\n"
     ]
    }
   ],
   "source": [
    "# comp_re = compile(r'.')  # select all\n",
    "# comp_re = compile(r'.{2}')\n",
    "# comp_re = compile(r'.{2,4}')\n",
    "# comp_re = compile(r'^123')\n",
    "# comp_re = compile(r'^123(.*?)ABC.$')\n",
    "# comp_re = compile(r'ABCD?.$')\n",
    "# comp_re = compile(r'-.*\\.')  # this is capturinging more \n",
    "# comp_re = compile(r'-.*\\d\\.')  # giving a constraint that, there has to be a number \n",
    "# comp_re = compile(r'abc')  # giving a constraint that, there has to be a number \n",
    "comp_re = compile(r'123')  # giving a constraint that, there has to be a number \n",
    "locaters = comp_re.finditer(test_stmt)\n",
    "\n",
    "for loc in locaters:\n",
    "    print(loc)\n",
    "    # print(loc.group(1))"
   ]
  },
  {
   "cell_type": "code",
   "execution_count": 29,
   "metadata": {},
   "outputs": [],
   "source": [
    "dates = '''\n",
    "01.04.2020\n",
    "\n",
    "2020.04.01\n",
    "\n",
    "2020-04-01\n",
    "2020-05-23\n",
    "2020-06-11\n",
    "2020-07-11\n",
    "2020-08-11\n",
    "\n",
    "2020/04/02\n",
    "\n",
    "2020_04_04\n",
    "2020_04_04\n",
    "'''"
   ]
  },
  {
   "cell_type": "code",
   "execution_count": 30,
   "metadata": {},
   "outputs": [
    {
     "data": {
      "text/plain": [
       "['2020',\n",
       " '2020',\n",
       " '2020',\n",
       " '2020',\n",
       " '2020',\n",
       " '2020',\n",
       " '2020',\n",
       " '2020',\n",
       " '2020',\n",
       " '2020']"
      ]
     },
     "execution_count": 30,
     "metadata": {},
     "output_type": "execute_result"
    }
   ],
   "source": [
    "comp_td = compile(r\"\\d{4}\")\n",
    "\n",
    "locaters = comp_td.findall(dates)\n",
    "locaters"
   ]
  },
  {
   "cell_type": "code",
   "execution_count": 39,
   "metadata": {},
   "outputs": [
    {
     "name": "stdout",
     "output_type": "stream",
     "text": [
      "<re.Match object; span=(13, 23), match='2020.04.01'>\n",
      "2020\n",
      "04\n",
      "01\n",
      "<re.Match object; span=(25, 35), match='2020-04-01'>\n",
      "2020\n",
      "04\n",
      "01\n",
      "<re.Match object; span=(36, 46), match='2020-05-23'>\n",
      "2020\n",
      "05\n",
      "23\n",
      "<re.Match object; span=(47, 57), match='2020-06-11'>\n",
      "2020\n",
      "06\n",
      "11\n",
      "<re.Match object; span=(58, 68), match='2020-07-11'>\n",
      "2020\n",
      "07\n",
      "11\n",
      "<re.Match object; span=(69, 79), match='2020-08-11'>\n",
      "2020\n",
      "08\n",
      "11\n",
      "<re.Match object; span=(81, 91), match='2020/04/02'>\n",
      "2020\n",
      "04\n",
      "02\n",
      "<re.Match object; span=(93, 103), match='2020_04_04'>\n",
      "2020\n",
      "04\n",
      "04\n",
      "<re.Match object; span=(104, 114), match='2020_04_04'>\n",
      "2020\n",
      "04\n",
      "04\n"
     ]
    }
   ],
   "source": [
    "comp_date = compile(r\"(\\d{4})(.|-)(\\d{2})(.|-)(\\d{2})\")\n",
    "# Even though the () are used for multi-conditions, those selected \n",
    "# conditions still become a group\n",
    "locaters = comp_date.finditer(dates)\n",
    "# print(len(locaters))\n",
    "for loc in locaters:\n",
    "    print(loc)\n",
    "    print(loc.group(1))\n",
    "    print(loc.group(3))\n",
    "    print(loc.group(5))"
   ]
  },
  {
   "cell_type": "code",
   "execution_count": 3,
   "metadata": {},
   "outputs": [],
   "source": [
    "my_string = \"\"\"\n",
    "Mr Simpson\n",
    "Mrs Simpson\n",
    "Mr. Brown\n",
    "Ms Smith\n",
    "Mr. T\n",
    "\"\"\""
   ]
  },
  {
   "cell_type": "code",
   "execution_count": 65,
   "metadata": {},
   "outputs": [
    {
     "name": "stdout",
     "output_type": "stream",
     "text": [
      "<re.Match object; span=(1, 11), match='Mr Simpson'>\n",
      "Simpson\n",
      "<re.Match object; span=(12, 23), match='Mrs Simpson'>\n",
      "Simpson\n",
      "<re.Match object; span=(24, 33), match='Mr. Brown'>\n",
      "Brown\n",
      "<re.Match object; span=(34, 42), match='Ms Smith'>\n",
      "Smith\n",
      "<re.Match object; span=(43, 48), match='Mr. T'>\n",
      "T\n"
     ]
    }
   ],
   "source": [
    "# comp_name = compile(r\"\\s{2}\\w\")  # did not work, the \\s and \\w in wrong position\n",
    "# comp_name = compile(r\"\\w{2}\\s\")\n",
    "# comp_name = compile(r\"(\\w{2})\\s\")\n",
    "# comp_name = compile(r\"(\\w{2})\\s\\D\")  # doesn't work as required\n",
    "# comp_name = compile(r\"\\b\\w*\") # captures empty space, which is not required\n",
    "# comp_name = compile(r\"\\b[a-zA-Z]*\") # Still Captures empty space, which is not required\n",
    "# comp_name = compile(r\"\\b[a-zA-Z]{2,}\") # Condition of 2 or more chars ignores the empty\n",
    "# comp_name = compile(r\"\\b[a-zA-Z]{2,3}\\.\") # Trying to capture Mr/Mrs/Ms with / without . \n",
    "# comp_name = compile(r\"\\b[a-zA-Z]{2,3}\\.\") # Trying to capture Mr/Mrs/Ms with / without . Ms is missed \n",
    "# comp_name = compile(r\"\\b[a-zA-Z]{2,3}\\.?\\B\") # Trying to capture Mr/Mrs/Ms with / without . Captures more\n",
    "# comp_name = compile(r\"\\bM(r|s)s?\") # Trying to capture Mr/Mrs/Ms with / without . done\n",
    "comp_name = compile(r\"\\bM(r|s)s?(.*)\") # Trying to capture Mr/Mrs/Ms with / without . Captures more than names\n",
    "# comp_name = compile(r\"\\bM(r|s)s?([a-zA-Z]*)\") # Trying to capture Mr/Mrs/Ms with / without .no names captured \n",
    "# comp_name = compile(r\"\\bM(r|s)s?\\s([a-zA-Z]*)\") # Trying to capture Mr/Mrs/Ms with / without . Captures 3 names \n",
    "comp_name = compile(r\"\\bM(r|s)s?.?\\s([a-zA-Z]*)\") # Captures All names \n",
    "\n",
    "locaters = comp_name.finditer(my_string)\n",
    "\n",
    "for x in locaters:\n",
    "    print(x)\n",
    "    print(x.group(2))"
   ]
  },
  {
   "cell_type": "code",
   "execution_count": null,
   "metadata": {},
   "outputs": [],
   "source": []
  },
  {
   "cell_type": "code",
   "execution_count": null,
   "metadata": {},
   "outputs": [],
   "source": []
  },
  {
   "cell_type": "code",
   "execution_count": null,
   "metadata": {},
   "outputs": [],
   "source": []
  },
  {
   "cell_type": "code",
   "execution_count": null,
   "metadata": {},
   "outputs": [],
   "source": []
  },
  {
   "cell_type": "code",
   "execution_count": null,
   "metadata": {},
   "outputs": [],
   "source": []
  },
  {
   "cell_type": "code",
   "execution_count": null,
   "metadata": {},
   "outputs": [],
   "source": []
  },
  {
   "cell_type": "code",
   "execution_count": null,
   "metadata": {},
   "outputs": [],
   "source": []
  },
  {
   "cell_type": "code",
   "execution_count": null,
   "metadata": {},
   "outputs": [],
   "source": []
  },
  {
   "cell_type": "code",
   "execution_count": null,
   "metadata": {},
   "outputs": [],
   "source": []
  },
  {
   "cell_type": "code",
   "execution_count": null,
   "metadata": {},
   "outputs": [],
   "source": []
  }
 ],
 "metadata": {
  "kernelspec": {
   "display_name": "Python 3",
   "language": "python",
   "name": "python3"
  },
  "language_info": {
   "codemirror_mode": {
    "name": "ipython",
    "version": 3
   },
   "file_extension": ".py",
   "mimetype": "text/x-python",
   "name": "python",
   "nbconvert_exporter": "python",
   "pygments_lexer": "ipython3",
   "version": "3.11.4"
  }
 },
 "nbformat": 4,
 "nbformat_minor": 2
}
