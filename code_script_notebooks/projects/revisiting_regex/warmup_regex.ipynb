{
 "cells": [
  {
   "cell_type": "code",
   "execution_count": 24,
   "metadata": {},
   "outputs": [],
   "source": [
    "import re\n",
    "test_stmt = \"123abc456789abc123ABC\"\n",
    "# test_stmt = '123_abc45-6789.abc123-ABC.' \n",
    "# test_stmt = '123_abc45-6789.abc123-ABC.' \n",
    "test_string = \"Hello hellro 123_ heyoh ohhey\""
   ]
  },
  {
   "cell_type": "code",
   "execution_count": 4,
   "metadata": {},
   "outputs": [],
   "source": [
    "from re import (\n",
    "    compile,\n",
    "    sub,\n",
    "    split\n",
    ")"
   ]
  },
  {
   "cell_type": "code",
   "execution_count": 19,
   "metadata": {},
   "outputs": [],
   "source": [
    "test_stmt = '123_abc45-6789.abc123-ABCD.' "
   ]
  },
  {
   "cell_type": "code",
   "execution_count": 28,
   "metadata": {},
   "outputs": [
    {
     "name": "stdout",
     "output_type": "stream",
     "text": [
      "<re.Match object; span=(0, 3), match='123'>\n",
      "<re.Match object; span=(15, 18), match='123'>\n"
     ]
    }
   ],
   "source": [
    "# comp_re = compile(r'.')  # select all\n",
    "# comp_re = compile(r'.{2}')\n",
    "# comp_re = compile(r'.{2,4}')\n",
    "# comp_re = compile(r'^123')\n",
    "# comp_re = compile(r'^123(.*?)ABC.$')\n",
    "# comp_re = compile(r'ABCD?.$')\n",
    "# comp_re = compile(r'-.*\\.')  # this is capturinging more \n",
    "# comp_re = compile(r'-.*\\d\\.')  # giving a constraint that, there has to be a number \n",
    "# comp_re = compile(r'abc')  # giving a constraint that, there has to be a number \n",
    "comp_re = compile(r'123')  # giving a constraint that, there has to be a number \n",
    "locaters = comp_re.finditer(test_stmt)\n",
    "\n",
    "for loc in locaters:\n",
    "    print(loc)\n",
    "    # print(loc.group(1))"
   ]
  },
  {
   "cell_type": "code",
   "execution_count": 29,
   "metadata": {},
   "outputs": [],
   "source": [
    "dates = '''\n",
    "01.04.2020\n",
    "\n",
    "2020.04.01\n",
    "\n",
    "2020-04-01\n",
    "2020-05-23\n",
    "2020-06-11\n",
    "2020-07-11\n",
    "2020-08-11\n",
    "\n",
    "2020/04/02\n",
    "\n",
    "2020_04_04\n",
    "2020_04_04\n",
    "'''"
   ]
  },
  {
   "cell_type": "code",
   "execution_count": 30,
   "metadata": {},
   "outputs": [
    {
     "data": {
      "text/plain": [
       "['2020',\n",
       " '2020',\n",
       " '2020',\n",
       " '2020',\n",
       " '2020',\n",
       " '2020',\n",
       " '2020',\n",
       " '2020',\n",
       " '2020',\n",
       " '2020']"
      ]
     },
     "execution_count": 30,
     "metadata": {},
     "output_type": "execute_result"
    }
   ],
   "source": [
    "comp_td = compile(r\"\\d{4}\")\n",
    "\n",
    "locaters = comp_td.findall(dates)\n",
    "locaters"
   ]
  },
  {
   "cell_type": "code",
   "execution_count": 39,
   "metadata": {},
   "outputs": [
    {
     "name": "stdout",
     "output_type": "stream",
     "text": [
      "<re.Match object; span=(13, 23), match='2020.04.01'>\n",
      "2020\n",
      "04\n",
      "01\n",
      "<re.Match object; span=(25, 35), match='2020-04-01'>\n",
      "2020\n",
      "04\n",
      "01\n",
      "<re.Match object; span=(36, 46), match='2020-05-23'>\n",
      "2020\n",
      "05\n",
      "23\n",
      "<re.Match object; span=(47, 57), match='2020-06-11'>\n",
      "2020\n",
      "06\n",
      "11\n",
      "<re.Match object; span=(58, 68), match='2020-07-11'>\n",
      "2020\n",
      "07\n",
      "11\n",
      "<re.Match object; span=(69, 79), match='2020-08-11'>\n",
      "2020\n",
      "08\n",
      "11\n",
      "<re.Match object; span=(81, 91), match='2020/04/02'>\n",
      "2020\n",
      "04\n",
      "02\n",
      "<re.Match object; span=(93, 103), match='2020_04_04'>\n",
      "2020\n",
      "04\n",
      "04\n",
      "<re.Match object; span=(104, 114), match='2020_04_04'>\n",
      "2020\n",
      "04\n",
      "04\n"
     ]
    }
   ],
   "source": [
    "comp_date = compile(r\"(\\d{4})(.|-)(\\d{2})(.|-)(\\d{2})\")\n",
    "# Even though the () are used for multi-conditions, those selected \n",
    "# conditions still become a group\n",
    "locaters = comp_date.finditer(dates)\n",
    "# print(len(locaters))\n",
    "for loc in locaters:\n",
    "    print(loc)\n",
    "    print(loc.group(1))\n",
    "    print(loc.group(3))\n",
    "    print(loc.group(5))"
   ]
  },
  {
   "cell_type": "code",
   "execution_count": 3,
   "metadata": {},
   "outputs": [],
   "source": [
    "my_string = \"\"\"\n",
    "Mr Simpson\n",
    "Mrs Simpson\n",
    "Mr. Brown\n",
    "Ms Smith\n",
    "Mr. T\n",
    "\"\"\""
   ]
  },
  {
   "cell_type": "code",
   "execution_count": 65,
   "metadata": {},
   "outputs": [
    {
     "name": "stdout",
     "output_type": "stream",
     "text": [
      "<re.Match object; span=(1, 11), match='Mr Simpson'>\n",
      "Simpson\n",
      "<re.Match object; span=(12, 23), match='Mrs Simpson'>\n",
      "Simpson\n",
      "<re.Match object; span=(24, 33), match='Mr. Brown'>\n",
      "Brown\n",
      "<re.Match object; span=(34, 42), match='Ms Smith'>\n",
      "Smith\n",
      "<re.Match object; span=(43, 48), match='Mr. T'>\n",
      "T\n"
     ]
    }
   ],
   "source": [
    "# comp_name = compile(r\"\\s{2}\\w\")  # did not work, the \\s and \\w in wrong position\n",
    "# comp_name = compile(r\"\\w{2}\\s\")\n",
    "# comp_name = compile(r\"(\\w{2})\\s\")\n",
    "# comp_name = compile(r\"(\\w{2})\\s\\D\")  # doesn't work as required\n",
    "# comp_name = compile(r\"\\b\\w*\") # captures empty space, which is not required\n",
    "# comp_name = compile(r\"\\b[a-zA-Z]*\") # Still Captures empty space, which is not required\n",
    "# comp_name = compile(r\"\\b[a-zA-Z]{2,}\") # Condition of 2 or more chars ignores the empty\n",
    "# comp_name = compile(r\"\\b[a-zA-Z]{2,3}\\.\") # Trying to capture Mr/Mrs/Ms with / without . \n",
    "# comp_name = compile(r\"\\b[a-zA-Z]{2,3}\\.\") # Trying to capture Mr/Mrs/Ms with / without . Ms is missed \n",
    "# comp_name = compile(r\"\\b[a-zA-Z]{2,3}\\.?\\B\") # Trying to capture Mr/Mrs/Ms with / without . Captures more\n",
    "# comp_name = compile(r\"\\bM(r|s)s?\") # Trying to capture Mr/Mrs/Ms with / without . done\n",
    "comp_name = compile(r\"\\bM(r|s)s?(.*)\") # Trying to capture Mr/Mrs/Ms with / without . Captures more than names\n",
    "# comp_name = compile(r\"\\bM(r|s)s?([a-zA-Z]*)\") # Trying to capture Mr/Mrs/Ms with / without .no names captured \n",
    "# comp_name = compile(r\"\\bM(r|s)s?\\s([a-zA-Z]*)\") # Trying to capture Mr/Mrs/Ms with / without . Captures 3 names \n",
    "comp_name = compile(r\"\\bM(r|s)s?.?\\s([a-zA-Z]*)\") # Captures All names \n",
    "\n",
    "locaters = comp_name.finditer(my_string)\n",
    "\n",
    "for x in locaters:\n",
    "    print(x)\n",
    "    print(x.group(2))"
   ]
  },
  {
   "cell_type": "code",
   "execution_count": 1,
   "metadata": {},
   "outputs": [],
   "source": [
    "# 04/05 Regex Warmup with Sagemath Notes\n",
    "notes = \"D:\\\\gitFolders\\\\hardwaysagemath\\\\sagemath_toplevel_notes.txt\""
   ]
  },
  {
   "cell_type": "code",
   "execution_count": 2,
   "metadata": {},
   "outputs": [
    {
     "data": {
      "text/plain": [
       "\"Following is the daywise notes on the SageMath and Computational Mathematics course \\nthat is taken in Yt Playlist https://www.youtube.com/playlist?list=PLyqSpQzTE6M-4YsNKnIOJeR0PVUfy8qoQ\\n\\nRepo can be cloned with git@github.com:Kamalabot/hardwaysagemath.git\\n\\n03/05 \\n\\n- Started reviewing the Basics of Python & Installation introduced by the course\\n- Explored the installed older SageMath Binaries for Windows from https://github.com/sagemath/sage-windows/releases\\nNote the Repo containing the Windows Binaries is archived in 2023.\\n- Reviewing the videos from the above playlist, and make notes of new concepts, in this notes\\n\\nlesson4: Using Sagemath as Adv Calculator: [https://youtu.be/Nojc2Bbl8Pc?si=ZPl6E31o5ZDr3XVR]\\n- Introduce CMath & Math module\\n- Explore perm, and comb function from math module \\n- How perm and comb of numbers is represented using factorial function \\n- Introduce cmath for finding sqrt(-1)\\n- Solving quadratic eqn and finding the roots, using -b (+|-) sqrt(b^2 - 4ac) / 2a \\n- Heron's formula for calculating Triangle Area is introduced, sqrt(s*(s-a)*(s-b)*(s-b))\\n\\nLesson 5 to 10: Introduction to Python Data Structures, loops, conditionals and modules \\n- List intro same as those learnt in basic of python. [https://youtu.be/jMShssechMI?si=jh0WCbkN-gImxXi-]\\n- Tuples, Dicts and Sets same as those learnt in basics of python. [https://youtu.be/KrPifJU8k7U?si=7G7xRrfmMGQ6pkCc]\\n- Functions and Branching, involves defining functions, creating branches using ideas learnt in earlier vids  [https://youtu.be/ZykfXXzjnq4?si=VxHRronDHKkFVTYo]\\n    > Used branching to find if given sides is that of a triangle, and proceeds further \\n    introducing different types of triangles using the sides\\n    > Shows how the quad eqn can be solved, by looking at various condition like a = 0, b = 0 or b^2-4ac is <= 0\\n- For loops in python: [https://youtu.be/6TgEcDzryNo?si=PUbLqtZT54S1GpDN]\\n    > Introduces loops for calculating the retuns on investment over a period of time\\n    > Break, Continue statements are introduced\\n    > List Comprehensions introduced\\n        * Euler Phi function calculation is introduced\\n        * Checking if a given num is prime, using multiple conditions\\n        * Calculating Pi using MonteCarlo method, the method is explained using x and y co-ord generated randomly\\n            >> x^2 + y^2 < 1 & count how many are meeting conditions\\n        * printing the poisson triangle of '*' and changing the shapes of the triangles\\n    > Exercises provides opportunities to work on defining functions, and writing experiments\\n- While loops in Python: [https://youtu.be/L1ma0qVIVmw?si=vYiGdnETIqS5Ft2l]\\n    > When iteration is unknown, the while loop is used, along with break keyword\\n    > Introduced while loop version of earlier probs solved with for-loop\\n        * Using while loop to calculate value of e = 2.718\\n    > else can be used in both for and while loop (This is new)\\n        * finding prime in range of numbers, and if none found use else to provide alternate route\\n        * implementing newton-raphson method, using the constraints to bail out when tol < 10e-5\\n- Creating Modules: [https://youtu.be/NN8kgx4ENJ8?si=0tQGm0IHLP7uUdPJ]\\n    > discusses about the module, and the way to import functions. Following that touches numpy\\nJumping ahead to SageMath install, [4 videos are skipped, that are related to matplotlib, scipy, python classes] \\n- Sagemath Intro: [https://youtu.be/Pmx-RdCHoXw?si=27yMcuL3V15eSGaV]\\n    > CAS : Computer Algebra Software \\n    > Sage is a platform, that helps to pull other open source software under one umbrella\\n    > https://doc.sagemath.org/html/en/reference/spkg/\\n    > Discussion on the appln of the SageMath, and variety of application area.\\n- SageMath Integers : [https://youtu.be/nZTdCz_ESCU?si=ZIVwtNXpvc-XW2N8]\\n    > Its similar to python only. however the methods are different \\n    > There are many mathematical functions, already implemented and many were exposed \\n- Solving Eqn with SM: [https://youtu.be/4QZwb_0OOxY?si=PQIay6uKw5XdTxHG]\\n    > Introduced to solve function, and how var() functions needs to be created for \\n    working with system of equations\\n- 2D Plotting: [ https://youtu.be/z37JqJrjQKk?si=m_NyTJnyKS_XwBFr]\\n    > https://doc.sagemath.org/html/en/reference/plotting/sage/plot/plot.html\\n    > Interesting plots were presented, and documented.\\n    > Know how on math is still a requirement, else these eqn will not make sense.\\n- 3D Plotting: [https://youtu.be/HFuGxht7U40?si=8dc5MSdVLVOaBsuM]\\n    > https://doc.sagemath.org/html/en/reference/plot3d/index.html\\n    > Surface of Revolution is implemented with revolution_plot3d, which rotates the \\n    curves to create 3D obj \\n    > There are interactive plots and contour plots. \\n    > Adding lines and surfaces to the plot, and adding colors is pythonic\\n- Intro Calculus: [https://youtu.be/9koA58jtiFA?si=PglqZNY393LeJtZU]\\n    > Discussion on limits, and exploring the eqn with plots\\n\\n04/05\\n\\n- Intro Calculus part 2: [https://youtu.be/S7Jqrs4c-Iw?si=DjyQnJXW0OX_mi0e]\\n- Appln of Calculus: [https://youtu.be/hzopk5mTC8c?si=8pmXd2RW2iKeAHOw]\\n- Integration Calculus: [https://youtu.be/i_qYne4jpfM?si=HNNkzKUCRKoDwtVc]\\n- Improper Integration: [https://youtu.be/7zEuZ5eaAgg?si=Chsa9JkQQqRdiHqh]\\n- Appln of Integration: [https://youtu.be/c3y42TasXd0?si=SC6nU7iFNt_HVULn] \""
      ]
     },
     "execution_count": 2,
     "metadata": {},
     "output_type": "execute_result"
    }
   ],
   "source": [
    "with open(notes, 'r') as n:\n",
    "    reg = n.read()\n",
    "reg"
   ]
  },
  {
   "cell_type": "code",
   "execution_count": 3,
   "metadata": {},
   "outputs": [
    {
     "name": "stdout",
     "output_type": "stream",
     "text": [
      "<re.Match object; span=(258, 263), match='03/05'>\n",
      "<re.Match object; span=(4943, 4948), match='04/05'>\n"
     ]
    }
   ],
   "source": [
    "from re import compile\n",
    "\n",
    "reg01 = compile(r\"\\d{2}/\")  # caputures 2 numbers together with /\n",
    "reg01 = compile(r\"\\d{2}/\\d{2}\")  # caputures date as present in the notes\n",
    "\n",
    "locaters = reg01.finditer(reg)\n",
    "\n",
    "for loc in locaters:\n",
    "    print(loc)"
   ]
  },
  {
   "cell_type": "code",
   "execution_count": 4,
   "metadata": {},
   "outputs": [],
   "source": [
    "reg01 = compile(r\"\\d{2}/\\d{2}\")  # caputures date as present in the notes\n",
    "\n",
    "spliters = reg01.split(reg)\n",
    "# print(spliters[1])\n",
    "data = spliters[1]"
   ]
  },
  {
   "cell_type": "code",
   "execution_count": 5,
   "metadata": {},
   "outputs": [
    {
     "name": "stdout",
     "output_type": "stream",
     "text": [
      " \n",
      "\n",
      "- Started reviewing the Basics of Python & Installation introduced by the course\n",
      "- Explored the installed older SageMath Binaries for Windows from https://github.com/sagemath/sage-windows/releases\n",
      "Note the Repo containing the Windows Binaries is archived in 2023.\n",
      "- Reviewing the videos from the above playlist, and make notes of new concepts, in this notes\n",
      "\n",
      "lesson4: Using Sagemath as Adv Calculator: [https://youtu.be/Nojc2Bbl8Pc?si=ZPl6E31o5ZDr3XVR]\n",
      "- Introduce CMath & Math module\n",
      "- Explore perm, and comb function from math module \n",
      "- How perm and comb of numbers is represented using factorial function \n",
      "- Introduce cmath for finding sqrt(-1)\n",
      "- Solving quadratic eqn and finding the roots, using -b (+|-) sqrt(b^2 - 4ac) / 2a \n",
      "- Heron's formula for calculating Triangle Area is introduced, sqrt(s*(s-a)*(s-b)*(s-b))\n",
      "\n",
      "Lesson 5 to 10: Introduction to Python Data Structures, loops, conditionals and modules \n",
      "- List intro same as those learnt in basic of python. [https://youtu.be/jMShssechMI?si=jh0WCbkN-gImxXi-]\n",
      "- Tuples, Dicts and Sets same as those learnt in basics of python. [https://youtu.be/KrPifJU8k7U?si=7G7xRrfmMGQ6pkCc]\n",
      "- Functions and Branching, involves defining functions, creating branches using ideas learnt in earlier vids  [https://youtu.be/ZykfXXzjnq4?si=VxHRronDHKkFVTYo]\n",
      "    > Used branching to find if given sides is that of a triangle, and proceeds further \n",
      "    introducing different types of triangles using the sides\n",
      "    > Shows how the quad eqn can be solved, by looking at various condition like a = 0, b = 0 or b^2-4ac is <= 0\n",
      "- For loops in python: [https://youtu.be/6TgEcDzryNo?si=PUbLqtZT54S1GpDN]\n",
      "    > Introduces loops for calculating the retuns on investment over a period of time\n",
      "    > Break, Continue statements are introduced\n",
      "    > List Comprehensions introduced\n",
      "        * Euler Phi function calculation is introduced\n",
      "        * Checking if a given num is prime, using multiple conditions\n",
      "        * Calculating Pi using MonteCarlo method, the method is explained using x and y co-ord generated randomly\n",
      "            >> x^2 + y^2 < 1 & count how many are meeting conditions\n",
      "        * printing the poisson triangle of '*' and changing the shapes of the triangles\n",
      "    > Exercises provides opportunities to work on defining functions, and writing experiments\n",
      "- While loops in Python: [https://youtu.be/L1ma0qVIVmw?si=vYiGdnETIqS5Ft2l]\n",
      "    > When iteration is unknown, the while loop is used, along with break keyword\n",
      "    > Introduced while loop version of earlier probs solved with for-loop\n",
      "        * Using while loop to calculate value of e = 2.718\n",
      "    > else can be used in both for and while loop (This is new)\n",
      "        * finding prime in range of numbers, and if none found use else to provide alternate route\n",
      "        * implementing newton-raphson method, using the constraints to bail out when tol < 10e-5\n",
      "- Creating Modules: [https://youtu.be/NN8kgx4ENJ8?si=0tQGm0IHLP7uUdPJ]\n",
      "    > discusses about the module, and the way to import functions. Following that touches numpy\n",
      "Jumping ahead to SageMath install, [4 videos are skipped, that are related to matplotlib, scipy, python classes] \n",
      "- Sagemath Intro: [https://youtu.be/Pmx-RdCHoXw?si=27yMcuL3V15eSGaV]\n",
      "    > CAS : Computer Algebra Software \n",
      "    > Sage is a platform, that helps to pull other open source software under one umbrella\n",
      "    > https://doc.sagemath.org/html/en/reference/spkg/\n",
      "    > Discussion on the appln of the SageMath, and variety of application area.\n",
      "- SageMath Integers : [https://youtu.be/nZTdCz_ESCU?si=ZIVwtNXpvc-XW2N8]\n",
      "    > Its similar to python only. however the methods are different \n",
      "    > There are many mathematical functions, already implemented and many were exposed \n",
      "- Solving Eqn with SM: [https://youtu.be/4QZwb_0OOxY?si=PQIay6uKw5XdTxHG]\n",
      "    > Introduced to solve function, and how var() functions needs to be created for \n",
      "    working with system of equations\n",
      "- 2D Plotting: [ https://youtu.be/z37JqJrjQKk?si=m_NyTJnyKS_XwBFr]\n",
      "    > https://doc.sagemath.org/html/en/reference/plotting/sage/plot/plot.html\n",
      "    > Interesting plots were presented, and documented.\n",
      "    > Know how on math is still a requirement, else these eqn will not make sense.\n",
      "- 3D Plotting: [https://youtu.be/HFuGxht7U40?si=8dc5MSdVLVOaBsuM]\n",
      "    > https://doc.sagemath.org/html/en/reference/plot3d/index.html\n",
      "    > Surface of Revolution is implemented with revolution_plot3d, which rotates the \n",
      "    curves to create 3D obj \n",
      "    > There are interactive plots and contour plots. \n",
      "    > Adding lines and surfaces to the plot, and adding colors is pythonic\n",
      "- Intro Calculus: [https://youtu.be/9koA58jtiFA?si=PglqZNY393LeJtZU]\n",
      "    > Discussion on limits, and exploring the eqn with plots\n",
      "\n",
      "\n"
     ]
    }
   ],
   "source": [
    "print(data)"
   ]
  },
  {
   "cell_type": "code",
   "execution_count": 6,
   "metadata": {},
   "outputs": [
    {
     "name": "stdout",
     "output_type": "stream",
     "text": [
      "index: 0\n",
      "lesson4: Using Sagemath as Adv Calculator: [https://youtu.be/Nojc2Bbl8Pc?si=ZPl6E31o5ZDr3XVR]\n",
      "index: 1\n",
      "Lesson 5 to 10: Introduction to Python Data Structures, loops, conditionals and modules \n"
     ]
    }
   ],
   "source": [
    "lessonlevel = compile(r\"(l|L)esson\")\n",
    "\n",
    "lessonlevel = compile(r\"(l|L)esson.*\")\n",
    "\n",
    "locaters = lessonlevel.finditer(data)\n",
    "\n",
    "for ind, loc in enumerate(locaters):\n",
    "    print(f\"index: {ind}\")\n",
    "    print(loc.group(0)) # bring out the line that is required\n",
    "\n",
    "# for ind, loc in enumerate(lessonlevel.findall(data)):\n",
    "    # print(f\"Index: {ind}\")\n",
    "    # print(loc)"
   ]
  },
  {
   "cell_type": "code",
   "execution_count": 7,
   "metadata": {},
   "outputs": [
    {
     "name": "stdout",
     "output_type": "stream",
     "text": [
      " \n",
      "\n",
      "- Started reviewing the Basics of Python & Installation introduced by the course\n",
      "- Explored the installed older SageMath Binaries for Windows from https://github.com/sagemath/sage-windows/releases\n",
      "Note the Repo containing the Windows Binaries is archived in 2023.\n",
      "- Reviewing the videos from the above playlist, and make notes of new concepts, in this notes\n",
      "\n",
      "\n"
     ]
    }
   ],
   "source": [
    "# split at lesson level and extract the data\n",
    "lesplit = lessonlevel.split(data)\n",
    "print(lesplit[0])"
   ]
  },
  {
   "cell_type": "code",
   "execution_count": 8,
   "metadata": {},
   "outputs": [],
   "source": [
    "bigchunk = lesplit[4]"
   ]
  },
  {
   "cell_type": "code",
   "execution_count": 9,
   "metadata": {},
   "outputs": [
    {
     "name": "stdout",
     "output_type": "stream",
     "text": [
      "\n",
      "- List intro same as those learnt in basic of python. [https://youtu.be/jMShssechMI?si=jh0WCbkN-gImxXi-]\n",
      "- Tuples, Dicts and Sets same as those learnt in basics of python. [https://youtu.be/KrPifJU8k7U?si=7G7xRrfmMGQ6pkCc]\n",
      "- Functions and Branching, involves defining functions, creating branches using ideas learnt in earlier vids  [https://youtu.be/ZykfXXzjnq4?si=VxHRronDHKkFVTYo]\n",
      "    > Used branching to find if given sides is that of a triangle, and proceeds further \n",
      "    introducing different types of triangles using the sides\n",
      "    > Shows how the quad eqn can be solved, by looking at various condition like a = 0, b = 0 or b^2-4ac is <= 0\n",
      "- For loops in python: [https://youtu.be/6TgEcDzryNo?si=PUbLqtZT54S1GpDN]\n",
      "    > Introduces loops for calculating the retuns on investment over a period of time\n",
      "    > Break, Continue statements are introduced\n",
      "    > List Comprehensions introduced\n",
      "        * Euler Phi function calculation is introduced\n",
      "        * Checking if a given num is prime, using multiple conditions\n",
      "        * Calculating Pi using MonteCarlo method, the method is explained using x and y co-ord generated randomly\n",
      "            >> x^2 + y^2 < 1 & count how many are meeting conditions\n",
      "        * printing the poisson triangle of '*' and changing the shapes of the triangles\n",
      "    > Exercises provides opportunities to work on defining functions, and writing experiments\n",
      "- While loops in Python: [https://youtu.be/L1ma0qVIVmw?si=vYiGdnETIqS5Ft2l]\n",
      "    > When iteration is unknown, the while loop is used, along with break keyword\n",
      "    > Introduced while loop version of earlier probs solved with for-loop\n",
      "        * Using while loop to calculate value of e = 2.718\n",
      "    > else can be used in both for and while loop (This is new)\n",
      "        * finding prime in range of numbers, and if none found use else to provide alternate route\n",
      "        * implementing newton-raphson method, using the constraints to bail out when tol < 10e-5\n",
      "- Creating Modules: [https://youtu.be/NN8kgx4ENJ8?si=0tQGm0IHLP7uUdPJ]\n",
      "    > discusses about the module, and the way to import functions. Following that touches numpy\n",
      "Jumping ahead to SageMath install, [4 videos are skipped, that are related to matplotlib, scipy, python classes] \n",
      "- Sagemath Intro: [https://youtu.be/Pmx-RdCHoXw?si=27yMcuL3V15eSGaV]\n",
      "    > CAS : Computer Algebra Software \n",
      "    > Sage is a platform, that helps to pull other open source software under one umbrella\n",
      "    > https://doc.sagemath.org/html/en/reference/spkg/\n",
      "    > Discussion on the appln of the SageMath, and variety of application area.\n",
      "- SageMath Integers : [https://youtu.be/nZTdCz_ESCU?si=ZIVwtNXpvc-XW2N8]\n",
      "    > Its similar to python only. however the methods are different \n",
      "    > There are many mathematical functions, already implemented and many were exposed \n",
      "- Solving Eqn with SM: [https://youtu.be/4QZwb_0OOxY?si=PQIay6uKw5XdTxHG]\n",
      "    > Introduced to solve function, and how var() functions needs to be created for \n",
      "    working with system of equations\n",
      "- 2D Plotting: [ https://youtu.be/z37JqJrjQKk?si=m_NyTJnyKS_XwBFr]\n",
      "    > https://doc.sagemath.org/html/en/reference/plotting/sage/plot/plot.html\n",
      "    > Interesting plots were presented, and documented.\n",
      "    > Know how on math is still a requirement, else these eqn will not make sense.\n",
      "- 3D Plotting: [https://youtu.be/HFuGxht7U40?si=8dc5MSdVLVOaBsuM]\n",
      "    > https://doc.sagemath.org/html/en/reference/plot3d/index.html\n",
      "    > Surface of Revolution is implemented with revolution_plot3d, which rotates the \n",
      "    curves to create 3D obj \n",
      "    > There are interactive plots and contour plots. \n",
      "    > Adding lines and surfaces to the plot, and adding colors is pythonic\n",
      "- Intro Calculus: [https://youtu.be/9koA58jtiFA?si=PglqZNY393LeJtZU]\n",
      "    > Discussion on limits, and exploring the eqn with plots\n",
      "\n",
      "\n"
     ]
    }
   ],
   "source": [
    "print(bigchunk)"
   ]
  },
  {
   "cell_type": "code",
   "execution_count": 10,
   "metadata": {},
   "outputs": [
    {
     "name": "stdout",
     "output_type": "stream",
     "text": [
      "- List intro same as those learnt in basic of python. [https://youtu.be/jMShssechMI?si=jh0WCbkN-gImxXi-]\n",
      "- Tuples, Dicts and Sets same as those learnt in basics of python. [https://youtu.be/KrPifJU8k7U?si=7G7xRrfmMGQ6pkCc]\n",
      "- Functions and Branching, involves defining functions, creating branches using ideas learnt in earlier vids  [https://youtu.be/ZykfXXzjnq4?si=VxHRronDHKkFVTYo]\n",
      "- For loops in python: [https://youtu.be/6TgEcDzryNo?si=PUbLqtZT54S1GpDN]\n",
      "- While loops in Python: [https://youtu.be/L1ma0qVIVmw?si=vYiGdnETIqS5Ft2l]\n",
      "- Creating Modules: [https://youtu.be/NN8kgx4ENJ8?si=0tQGm0IHLP7uUdPJ]\n",
      "- Sagemath Intro: [https://youtu.be/Pmx-RdCHoXw?si=27yMcuL3V15eSGaV]\n",
      "- SageMath Integers : [https://youtu.be/nZTdCz_ESCU?si=ZIVwtNXpvc-XW2N8]\n",
      "- Solving Eqn with SM: [https://youtu.be/4QZwb_0OOxY?si=PQIay6uKw5XdTxHG]\n",
      "- 2D Plotting: [ https://youtu.be/z37JqJrjQKk?si=m_NyTJnyKS_XwBFr]\n",
      "- 3D Plotting: [https://youtu.be/HFuGxht7U40?si=8dc5MSdVLVOaBsuM]\n",
      "- Intro Calculus: [https://youtu.be/9koA58jtiFA?si=PglqZNY393LeJtZU]\n"
     ]
    }
   ],
   "source": [
    "# Extract all the lines that start with '-'\n",
    "\n",
    "a1 = compile(r\"\\b-\\S.*\")  # extracts parts that are in the middle\n",
    "a1 = compile(r\"-\\s.*\")  # extracts linest starting with - \n",
    "\n",
    "locaters = a1.finditer(bigchunk)\n",
    "\n",
    "for loc in locaters:\n",
    "    print(loc.group(0))"
   ]
  },
  {
   "cell_type": "code",
   "execution_count": 11,
   "metadata": {},
   "outputs": [
    {
     "name": "stdout",
     "output_type": "stream",
     "text": [
      "https://youtu.be/jMShssechMI?si=jh0WCbkN-gImxXi-\n",
      "https://youtu.be/KrPifJU8k7U?si=7G7xRrfmMGQ6pkCc\n",
      "https://youtu.be/ZykfXXzjnq4?si=VxHRronDHKkFVTYo\n",
      "https://youtu.be/6TgEcDzryNo?si=PUbLqtZT54S1GpDN\n",
      "https://youtu.be/L1ma0qVIVmw?si=vYiGdnETIqS5Ft2l\n",
      "https://youtu.be/NN8kgx4ENJ8?si=0tQGm0IHLP7uUdPJ\n",
      "4 videos are skipped, that are related to matplotlib, scipy, python classes\n",
      "https://youtu.be/Pmx-RdCHoXw?si=27yMcuL3V15eSGaV\n",
      "https://youtu.be/nZTdCz_ESCU?si=ZIVwtNXpvc-XW2N8\n",
      "https://youtu.be/4QZwb_0OOxY?si=PQIay6uKw5XdTxHG\n",
      " https://youtu.be/z37JqJrjQKk?si=m_NyTJnyKS_XwBFr\n",
      "https://youtu.be/HFuGxht7U40?si=8dc5MSdVLVOaBsuM\n",
      "https://youtu.be/9koA58jtiFA?si=PglqZNY393LeJtZU\n"
     ]
    }
   ],
   "source": [
    "# extract the links between the [ ] \n",
    "\n",
    "sq1 = compile(r\"\\[(.*)\\]\")\n",
    "\n",
    "locaters = sq1.finditer(bigchunk)\n",
    "\n",
    "for loc in locaters:\n",
    "    print(loc.group(1))"
   ]
  },
  {
   "cell_type": "code",
   "execution_count": 22,
   "metadata": {},
   "outputs": [
    {
     "name": "stdout",
     "output_type": "stream",
     "text": [
      "- Tuples, Dicts and Sets same as those learnt in basics of python. [https://youtu.be/KrPifJU8k7U?si=7G7xRrfmMGQ6pkCc\n",
      "KrPifJU8k7U\n",
      "7G7xRrfmMGQ6pkCc\n",
      "- Functions and Branching, involves defining functions, creating branches using ideas learnt in earlier vids  [https://youtu.be/ZykfXXzjnq4?si=VxHRronDHKkFVTYo\n",
      "ZykfXXzjnq4\n",
      "VxHRronDHKkFVTYo\n",
      "- For loops in python: [https://youtu.be/6TgEcDzryNo?si=PUbLqtZT54S1GpDN\n",
      "6TgEcDzryNo\n",
      "PUbLqtZT54S1GpDN\n",
      "- While loops in Python: [https://youtu.be/L1ma0qVIVmw?si=vYiGdnETIqS5Ft2l\n",
      "L1ma0qVIVmw\n",
      "vYiGdnETIqS5Ft2l\n",
      "- Creating Modules: [https://youtu.be/NN8kgx4ENJ8?si=0tQGm0IHLP7uUdPJ\n",
      "NN8kgx4ENJ8\n",
      "0tQGm0IHLP7uUdPJ\n",
      "- Solving Eqn with SM: [https://youtu.be/4QZwb_0OOxY?si=PQIay6uKw5XdTxHG\n",
      "4QZwb_0OOxY\n",
      "PQIay6uKw5XdTxHG\n",
      "- 2D Plotting: [ https://youtu.be/z37JqJrjQKk?si=m_NyTJnyKS_XwBFr\n",
      "z37JqJrjQKk\n",
      "m_NyTJnyKS_XwBFr\n",
      "- 3D Plotting: [https://youtu.be/HFuGxht7U40?si=8dc5MSdVLVOaBsuM\n",
      "HFuGxht7U40\n",
      "8dc5MSdVLVOaBsuM\n",
      "- Intro Calculus: [https://youtu.be/9koA58jtiFA?si=PglqZNY393LeJtZU\n",
      "9koA58jtiFA\n",
      "PglqZNY393LeJtZU\n"
     ]
    }
   ],
   "source": [
    "# extract video_id and the si(share_info) in yt\n",
    "from re import compile\n",
    "\n",
    "sireg = compile(r\".*\\/\")  # its caputuring additional links too, which are not youtube link pattern\n",
    "sireg = compile(r\"(.*\\/\\w*\\/)\") # narrowing down the search yt links, but it narrowed lot more to https://\n",
    "sireg = compile(r\"(.*\\/(\\w{11})\\W)\") # narrowing down the search yt links done, and extracts the video_id on group(2) \n",
    "sireg = compile(r\"(.*\\/(\\w{11})\\Wsi=(\\w{16}))\") # Extracting the share_info \n",
    "\n",
    "locaters = sireg.finditer(bigchunk)\n",
    "\n",
    "for dat in locaters:\n",
    "    # print(dat)\n",
    "    print(dat.group(1))\n",
    "    print(dat.group(2))\n",
    "    print(dat.group(3))"
   ]
  },
  {
   "cell_type": "code",
   "execution_count": null,
   "metadata": {},
   "outputs": [],
   "source": []
  },
  {
   "cell_type": "code",
   "execution_count": null,
   "metadata": {},
   "outputs": [],
   "source": []
  },
  {
   "cell_type": "code",
   "execution_count": null,
   "metadata": {},
   "outputs": [],
   "source": []
  }
 ],
 "metadata": {
  "kernelspec": {
   "display_name": "Python 3",
   "language": "python",
   "name": "python3"
  },
  "language_info": {
   "codemirror_mode": {
    "name": "ipython",
    "version": 3
   },
   "file_extension": ".py",
   "mimetype": "text/x-python",
   "name": "python",
   "nbconvert_exporter": "python",
   "pygments_lexer": "ipython3",
   "version": "3.11.4"
  }
 },
 "nbformat": 4,
 "nbformat_minor": 2
}
