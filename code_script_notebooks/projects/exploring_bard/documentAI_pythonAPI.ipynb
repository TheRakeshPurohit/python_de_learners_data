{
  "nbformat": 4,
  "nbformat_minor": 0,
  "metadata": {
    "colab": {
      "provenance": []
    },
    "kernelspec": {
      "name": "python3",
      "display_name": "Python 3"
    },
    "language_info": {
      "name": "python"
    }
  },
  "cells": [
    {
      "cell_type": "code",
      "source": [
        "!pip install -q google-cloud-documentai\n",
        "!pip install -q google-cloud-storage\n",
        "!pip install -q google-cloud-documentai-toolbox"
      ],
      "metadata": {
        "id": "CMeKhe4YQ0Uv"
      },
      "execution_count": null,
      "outputs": []
    },
    {
      "cell_type": "code",
      "source": [
        "import os\n",
        "\n",
        "os.environ[\"GOOGLE_APPLICATION_CREDENTIALS\"]=\"/content/key.json\""
      ],
      "metadata": {
        "id": "5cA9fl8LRcvf"
      },
      "execution_count": 3,
      "outputs": []
    },
    {
      "cell_type": "code",
      "source": [
        "from google.api_core.client_options import ClientOptions\n",
        "from google.cloud import documentai\n",
        "\n",
        "\n",
        "PROJECT_ID = \"halogen-data-386907\"\n",
        "LOCATION = \"us\"  # Format is 'us' or 'eu'\n",
        "PROCESSOR_ID = \"abc393efe2520ac9\"  # Create processor in Cloud Console\n",
        "\n",
        "# The local file in your current working directory\n",
        "FILE_PATH = \"/content/Winnie_the_Pooh_3_Pages.pdf\"\n",
        "# Refer to https://cloud.google.com/document-ai/docs/file-types\n",
        "# for supported file types\n",
        "MIME_TYPE = \"application/pdf\"\n"
      ],
      "metadata": {
        "id": "I25nRFGURvcS"
      },
      "execution_count": 7,
      "outputs": []
    },
    {
      "cell_type": "code",
      "source": [
        "# Instantiates a client\n",
        "docai_client = documentai.DocumentProcessorServiceClient(\n",
        "    client_options=ClientOptions(api_endpoint=f\"{LOCATION}-documentai.googleapis.com\")\n",
        ")\n"
      ],
      "metadata": {
        "id": "_iujpB5xSEzZ"
      },
      "execution_count": 5,
      "outputs": []
    },
    {
      "cell_type": "code",
      "source": [
        "RESOURCE_NAME = docai_client.processor_path(PROJECT_ID, \n",
        "                                            LOCATION, \n",
        "                                            PROCESSOR_ID)"
      ],
      "metadata": {
        "id": "EmPurSiGSEw2"
      },
      "execution_count": 6,
      "outputs": []
    },
    {
      "cell_type": "code",
      "source": [
        "# Read the file into memory\n",
        "with open(FILE_PATH, \"rb\") as image:\n",
        "    image_content = image.read()"
      ],
      "metadata": {
        "id": "M47peFXwSErx"
      },
      "execution_count": 8,
      "outputs": []
    },
    {
      "cell_type": "code",
      "source": [
        "# Load Binary Data into Document AI RawDocument Object\n",
        "raw_document = documentai.RawDocument(content=image_content, \n",
        "                                      mime_type=MIME_TYPE)"
      ],
      "metadata": {
        "id": "CzHwB5JmSWq_"
      },
      "execution_count": 9,
      "outputs": []
    },
    {
      "cell_type": "code",
      "source": [
        "# Configure the process request\n",
        "request = documentai.ProcessRequest(name=RESOURCE_NAME, \n",
        "                                    raw_document=raw_document)\n"
      ],
      "metadata": {
        "id": "1EoRl9TdSWiS"
      },
      "execution_count": 10,
      "outputs": []
    },
    {
      "cell_type": "code",
      "source": [
        "# Use the Document AI client to process the sample form\n",
        "result = docai_client.process_document(request=request)"
      ],
      "metadata": {
        "id": "ajdRMshCSWcw"
      },
      "execution_count": 11,
      "outputs": []
    },
    {
      "cell_type": "code",
      "source": [
        "document_object = result.document"
      ],
      "metadata": {
        "id": "wONewqgXSfwF"
      },
      "execution_count": 12,
      "outputs": []
    },
    {
      "cell_type": "code",
      "source": [
        "print(\"Document processing complete.\")\n",
        "print(f\"Text: {document_object.text}\")"
      ],
      "metadata": {
        "colab": {
          "base_uri": "https://localhost:8080/"
        },
        "id": "a_iGUa9nSfmp",
        "outputId": "2ce398d3-4dae-4426-ef42-f81137966c41"
      },
      "execution_count": 13,
      "outputs": [
        {
          "output_type": "stream",
          "name": "stdout",
          "text": [
            "Document processing complete.\n",
            "Text: IN WHICH We Are Introduced to\n",
            "CHAPTER I\n",
            "Winnie-the-Pooh and Some\n",
            "Bees, and the Stories Begin\n",
            "HERE is Edward Bear, coming\n",
            "downstairs now, bump, bump, bump, on the back\n",
            "of his head, behind Christopher Robin. It is, as far\n",
            "as he knows, the only way of coming downstairs,\n",
            "but sometimes he feels that there really is another\n",
            "way, if only he could stop bumping for a moment\n",
            "and think of it. And then he feels that perhaps there\n",
            "isn't. Anyhow, here he is at the bottom, and ready\n",
            "to be introduced to you. Winnie-the-Pooh.\n",
            "When I first heard his name, I said, just as you\n",
            "are going to say, \"But I thought he was a boy?\"\n",
            "\"So did I,\" said Christopher Robin.\n",
            "\"Then you can't call him Winnie?\"\n",
            "\"I don't.\"\n",
            "\"But you said--\"\n",
            "\"He's Winnie-ther-Pooh. Don't you know what\n",
            "'ther' means?”\n",
            "I\n",
            "Digitized by\n",
            "Google\n",
            "WINNIE-THE-POOH\n",
            "“Ah, yes, now I do,\" I said quickly; and I hope\n",
            "you do too, because it is all the explanation you are\n",
            "going to get.\n",
            "Sometimes Winnie-the-Pooh likes a game of some\n",
            "sort when he comes downstairs, and sometimes he\n",
            "likes to sit quietly in front of the fire and listen to a\n",
            "story. This evening-\n",
            "\"What about a story?\" said Christopher Robin.\n",
            "\"What about a story?\" I said.\n",
            "\"Could you very sweetly tell Winnie-the-Pooh\n",
            "one?\"\n",
            "\"I suppose I could,\" I said. \"What sort of stories\n",
            "does he like?\"\n",
            "\"About himself. Because he's that sort of Bear.\"\n",
            "\"Oh, I see.\"\n",
            "\"So could you very sweetly?\"\n",
            "\"I'll try,\" I said.\n",
            "So I tried,\n",
            "Once upon a time, a very long time ago now,\n",
            "about last Friday, Winnie-the-Pooh lived in a forest\n",
            "all by himself under the name of Sande.s.\n",
            "(\"What does 'under the name' mean?\" asked\n",
            "Christopher Robin.\n",
            "\"It means he had the name over the door in gold\n",
            "letters, and lived under it.”\n",
            "Digitized by\n",
            "Google\n",
            "WE ARE INTRODUCED\n",
            "AP SANDER\n",
            "RNIG\n",
            "ALSO\n",
            "\"Winnie-the-Pooh wasn't quite sure,\" said Chris-\n",
            "topher Robin.\n",
            "\"Now I am,\" said a growly voice.\n",
            "\"Then I will go on,\" said I.)\n",
            "3\n",
            "One day when he was out walking, he came to\n",
            "an open place in the middle of the forest, and in the\n",
            "middle of this place was a large oak-tree, and, from\n",
            "the top of the tree, there came a loud buzzing-noise.\n",
            "Winnie-the-Pooh sat down at the foot of the tree,\n",
            "put his head between his paws and began to think.\n",
            "Digitized by\n",
            "Google\n",
            "\n"
          ]
        }
      ]
    },
    {
      "cell_type": "code",
      "source": [],
      "metadata": {
        "id": "V7nrwfmJSfb9"
      },
      "execution_count": null,
      "outputs": []
    }
  ]
}