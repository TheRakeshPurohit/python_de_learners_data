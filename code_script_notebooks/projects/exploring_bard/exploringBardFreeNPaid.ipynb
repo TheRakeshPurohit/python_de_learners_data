{
  "nbformat": 4,
  "nbformat_minor": 0,
  "metadata": {
    "colab": {
      "provenance": []
    },
    "kernelspec": {
      "name": "python3",
      "display_name": "Python 3"
    },
    "language_info": {
      "name": "python"
    }
  },
  "cells": [
    {
      "cell_type": "code",
      "execution_count": 1,
      "metadata": {
        "colab": {
          "base_uri": "https://localhost:8080/"
        },
        "id": "XbSANvZaVhRS",
        "outputId": "b1fad966-d236-4990-88cb-1b3b456df3c5"
      },
      "outputs": [
        {
          "output_type": "stream",
          "name": "stdout",
          "text": [
            "Looking in indexes: https://pypi.org/simple, https://us-python.pkg.dev/colab-wheels/public/simple/\n",
            "Collecting bardapi\n",
            "  Downloading bardapi-0.1.2-py3-none-any.whl (4.2 kB)\n",
            "Installing collected packages: bardapi\n",
            "Successfully installed bardapi-0.1.2\n"
          ]
        }
      ],
      "source": [
        "!pip install bardapi"
      ]
    },
    {
      "cell_type": "code",
      "source": [
        "from bardapi import Bard\n",
        "import os\n",
        "\n",
        "os.environ['_BARD_API_KEY']=\"\"\n"
      ],
      "metadata": {
        "id": "LmTvZiTeVk8W"
      },
      "execution_count": 2,
      "outputs": []
    },
    {
      "cell_type": "code",
      "source": [
        "Bard()"
      ],
      "metadata": {
        "colab": {
          "base_uri": "https://localhost:8080/"
        },
        "id": "Tu03kW0SVk5h",
        "outputId": "d8dd0c5c-fe50-432e-f71f-050a3e4c71f7"
      },
      "execution_count": 3,
      "outputs": [
        {
          "output_type": "execute_result",
          "data": {
            "text/plain": [
              "<bardapi.core.Bard at 0x7fa99471a950>"
            ]
          },
          "metadata": {},
          "execution_count": 3
        }
      ]
    },
    {
      "cell_type": "code",
      "source": [
        "Bard().get_answer(\"What is Google BARD????\")['content']"
      ],
      "metadata": {
        "colab": {
          "base_uri": "https://localhost:8080/",
          "height": 237
        },
        "id": "Zkd9MEq6Vk2Z",
        "outputId": "4459e894-2ae9-4c16-9887-a05e29742d05"
      },
      "execution_count": 7,
      "outputs": [
        {
          "output_type": "execute_result",
          "data": {
            "text/plain": [
              "'Google Bard is a large language model (LLM) chatbot developed by Google AI. It is based on the PaLM LLM, which was unveiled at Google I/O 2023. Bard is still under development, but it has learned to perform many kinds of tasks, including:\\n\\n* Following instructions and completing requests thoughtfully.\\n* Answering questions in a comprehensive and informative way, even if they are open ended, challenging, or strange.\\n* Generating different creative text formats,  like poems, code, scripts, musical pieces, email, and letters.\\n\\nBard is still under development, but it has the potential to be a powerful tool for creativity, productivity, and learning. It can be used to brainstorm ideas, write content, and learn new things. Bard is also a great way to have fun and explore your creativity.\\n\\nHere are some of the things you can do with Google Bard:\\n\\n* Ask it questions about anything. Bard can access and process information from the real world through Google Search and keep its response consistent with search results.\\n* Have it write different kinds of creative content, like poems, code, scripts, musical pieces, email, and letters.\\n* Use it as a brainstorming tool to help you come up with new ideas.\\n* Ask it to translate languages.\\n* Ask it to help you with your work or studies.\\n* Have fun with it! Bard can be used to play games, tell jokes, and even write stories.\\n\\nGoogle Bard is still under development, but it is a powerful tool that can be used for a variety of purposes. If you are looking for a creative, productive, and fun way to use AI, then Google Bard is worth checking out.'"
            ],
            "application/vnd.google.colaboratory.intrinsic+json": {
              "type": "string"
            }
          },
          "metadata": {},
          "execution_count": 7
        }
      ]
    },
    {
      "cell_type": "code",
      "source": [
        "Bard().get_answer(\"Tell me who is the first person to beat AlphaGO\")['content']"
      ],
      "metadata": {
        "colab": {
          "base_uri": "https://localhost:8080/",
          "height": 218
        },
        "id": "e67S0ufnVk0J",
        "outputId": "1a3a6b1f-36ca-4674-b5c6-0b5ddb6a6980"
      },
      "execution_count": 8,
      "outputs": [
        {
          "output_type": "execute_result",
          "data": {
            "text/plain": [
              "\"The first person to beat AlphaGo was Lee Sedol, a South Korean professional Go player. He defeated AlphaGo in the fourth game of their five-game match in March 2016. AlphaGo went on to win the match overall, but Lee's victory was seen as a major breakthrough for human players against AI.\\r\\n\\r\\nLee Sedol is a 9-dan Go player, which is the highest rank in the game. He is considered one of the best Go players in the world, and his victory over AlphaGo was a major upset. AlphaGo was a powerful AI program that had been trained on a massive dataset of Go games. It was expected to easily defeat Lee Sedol, but Lee was able to outthink the AI and win the game.\\r\\n\\r\\nLee Sedol's victory was a major milestone for human players against AI. It showed that humans are still capable of beating AI, even in complex games like Go. It also showed that AI is not invincible, and that humans can still compete with it.\""
            ],
            "application/vnd.google.colaboratory.intrinsic+json": {
              "type": "string"
            }
          },
          "metadata": {},
          "execution_count": 8
        }
      ]
    },
    {
      "cell_type": "code",
      "source": [
        "!pip install google-cloud-aiplatform > /dev/null"
      ],
      "metadata": {
        "id": "d05TMubIVktj"
      },
      "execution_count": 10,
      "outputs": []
    },
    {
      "cell_type": "code",
      "source": [
        "from google.colab import auth as google_auth\n",
        "google_auth.authenticate_user()"
      ],
      "metadata": {
        "id": "Q-ZkMEoKfUWo"
      },
      "execution_count": 4,
      "outputs": []
    },
    {
      "cell_type": "code",
      "source": [
        "import vertexai\n",
        "from vertexai.preview.language_models import TextGenerationModel"
      ],
      "metadata": {
        "id": "CbZsxrnifUTV"
      },
      "execution_count": 5,
      "outputs": []
    },
    {
      "cell_type": "code",
      "source": [
        "def predict_large_language_model_sample(\n",
        "    project_id: str,\n",
        "    model_name: str,\n",
        "    temperature: float,\n",
        "    max_decode_steps: int,\n",
        "    top_p: float,\n",
        "    top_k: int,\n",
        "    content: str,\n",
        "    location: str = \"us-central1\",\n",
        "    tuned_model_name: str = \"\",\n",
        "    ) :\n",
        "    \"\"\"Predict using a Large Language Model.\"\"\"\n",
        "    vertexai.init(project=project_id, \n",
        "                  location=location)\n",
        "    model = TextGenerationModel.from_pretrained(model_name)\n",
        "    \n",
        "    if tuned_model_name:\n",
        "      model = model.get_tuned_model(tuned_model_name)\n",
        "    \n",
        "    response = model.predict(\n",
        "        content,\n",
        "        temperature=temperature,\n",
        "        max_output_tokens=max_decode_steps,\n",
        "        top_k=top_k,\n",
        "        top_p=top_p,)\n",
        "    \n",
        "    print(f\"Response from Model: {response.text}\")"
      ],
      "metadata": {
        "id": "-78ox8LZfUN5"
      },
      "execution_count": 6,
      "outputs": []
    },
    {
      "cell_type": "code",
      "source": [
        "predict_large_language_model_sample(\"halogen-data-386907\", \n",
        "                                    \"text-bison@001\", \n",
        "                                    0.2, \n",
        "                                    256, \n",
        "                                    0.8, \n",
        "                                    40, \n",
        "                                    '''Summarize the following conversation between a service rep and a customer in a few sentences. Use only the information from the conversation.\n",
        "\n",
        "Service Rep: How may I assist you today?\n",
        "Customer: I need to change the shipping address for an order.\n",
        "Service Rep: Ok, I can help you with that if the order has not been fulfilled from our warehouse yet. But if it has already shipped, then you will need to contact the shipping provider. Do you have the order ID?\n",
        "Customer: Yes, it\\'s 88986367.\n",
        "Service Rep: One minute please while I pull up your order information.\n",
        "Customer: No problem\n",
        "Service Rep: Ok, it looks like your order was shipped from our warehouse 2 days ago. It is now in the hands of  the shipping provider, so you will need to contact them to update your delivery details. You can track your order with the shipping provider here: https://www.shippingprovider.com\n",
        "Customer: Sigh, ok.\n",
        "Service Rep: Is there anything else I can help you with today?\n",
        "Customer: No, thanks.''', \"us-central1\")"
      ],
      "metadata": {
        "colab": {
          "base_uri": "https://localhost:8080/"
        },
        "id": "czjdm0aHfmfY",
        "outputId": "35dbda2a-0e31-4978-d939-8310661fbf43"
      },
      "execution_count": 7,
      "outputs": [
        {
          "output_type": "stream",
          "name": "stdout",
          "text": [
            "Response from Model: The customer wants to change the shipping address for an order. The service rep informs the customer that they can only help if the order has not been fulfilled from the warehouse yet. Since the order has already shipped, the customer will need to contact the shipping provider. The service rep provides the customer with the tracking information.\n"
          ]
        }
      ]
    },
    {
      "cell_type": "code",
      "source": [],
      "metadata": {
        "id": "v0i3iDtbfmXq"
      },
      "execution_count": null,
      "outputs": []
    }
  ]
}