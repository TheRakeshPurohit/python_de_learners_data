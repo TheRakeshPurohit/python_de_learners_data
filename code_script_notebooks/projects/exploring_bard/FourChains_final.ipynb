{
  "nbformat": 4,
  "nbformat_minor": 0,
  "metadata": {
    "colab": {
      "provenance": []
    },
    "kernelspec": {
      "name": "python3",
      "display_name": "Python 3"
    },
    "language_info": {
      "name": "python"
    }
  },
  "cells": [
    {
      "cell_type": "code",
      "execution_count": 18,
      "metadata": {
        "id": "z6Wag04Hk5jA"
      },
      "outputs": [],
      "source": [
        "!pip install langchain chromadb transformers google-cloud-aiplatform google-auth google-search-results > /dev/null"
      ]
    },
    {
      "cell_type": "code",
      "source": [
        "import os\n",
        "os.environ['GOOGLE_APPLICATION_CREDENTIALS']='/content/generativeaitrial-trialLC.json'"
      ],
      "metadata": {
        "id": "veeMOmfFn3W8"
      },
      "execution_count": 1,
      "outputs": []
    },
    {
      "cell_type": "code",
      "source": [
        "from langchain.chains.router import MultiPromptChain\n",
        "from langchain.llms import VertexAI\n",
        "from langchain.chains import ConversationChain\n",
        "from langchain.chains.llm import LLMChain\n",
        "from langchain.prompts import PromptTemplate"
      ],
      "metadata": {
        "id": "nEJ7I3hFlqX0"
      },
      "execution_count": 2,
      "outputs": []
    },
    {
      "cell_type": "code",
      "source": [
        "from langchain.chains.summarize import load_summarize_chain\n",
        "\n",
        "llm = VertexAI(temperature=0)\n",
        "summary_chain = load_summarize_chain(llm, \n",
        "                                     chain_type=\"map_reduce\")"
      ],
      "metadata": {
        "id": "NUEmaHJ1lqP4"
      },
      "execution_count": 3,
      "outputs": []
    },
    {
      "cell_type": "code",
      "source": [
        "from langchain.chains import AnalyzeDocumentChain\n",
        "\n",
        "summarize_document_chain = AnalyzeDocumentChain(combine_docs_chain=summary_chain)"
      ],
      "metadata": {
        "id": "eeXjZhwnlqKS"
      },
      "execution_count": 4,
      "outputs": []
    },
    {
      "cell_type": "code",
      "source": [
        "!unzip lc_documentdb.zip"
      ],
      "metadata": {
        "colab": {
          "base_uri": "https://localhost:8080/"
        },
        "id": "saRKisZYpD5V",
        "outputId": "3abd8069-0e6a-492b-845a-5bb626ff2fa3"
      },
      "execution_count": 5,
      "outputs": [
        {
          "output_type": "stream",
          "name": "stdout",
          "text": [
            "Archive:  lc_documentdb.zip\n",
            "   creating: content/lc_documentdb/\n",
            "  inflating: content/lc_documentdb/chroma-embeddings.parquet  \n",
            "   creating: content/lc_documentdb/index/\n",
            "  inflating: content/lc_documentdb/index/uuid_to_id_b973adbd-91f7-4c95-b071-c5aabdbd5ab7.pkl  \n",
            "  inflating: content/lc_documentdb/index/id_to_uuid_b973adbd-91f7-4c95-b071-c5aabdbd5ab7.pkl  \n",
            "  inflating: content/lc_documentdb/index/index_b973adbd-91f7-4c95-b071-c5aabdbd5ab7.bin  \n",
            "  inflating: content/lc_documentdb/index/index_metadata_b973adbd-91f7-4c95-b071-c5aabdbd5ab7.pkl  \n",
            "  inflating: content/lc_documentdb/chroma-collections.parquet  \n"
          ]
        }
      ]
    },
    {
      "cell_type": "code",
      "source": [
        "from langchain.embeddings import VertexAIEmbeddings\n",
        "from langchain.vectorstores import Chroma\n",
        "from langchain.chains import RetrievalQA\n",
        "\n",
        "embeddings = VertexAIEmbeddings()\n",
        "\n",
        "persist_directory = '/content/content/lc_documentdb'\n",
        "\n",
        "vectordb = Chroma(persist_directory=persist_directory, \n",
        "                  embedding_function=embeddings)\n",
        "\n",
        "db_retriever = vectordb.as_retriever()\n",
        "\n",
        "\n",
        "langchain_qa = RetrievalQA.from_chain_type(llm=VertexAI(), \n",
        "                                 chain_type=\"stuff\", \n",
        "                                 retriever=db_retriever)"
      ],
      "metadata": {
        "id": "kbEayoqgoe_w"
      },
      "execution_count": 6,
      "outputs": []
    },
    {
      "cell_type": "code",
      "source": [
        "def summarize_output(topic):\n",
        "  relevant_data = langchain_qa(topic)\n",
        "  #print(relevant_data)\n",
        "  summary = summarize_document_chain.run(relevant_data['result'])\n",
        "  return summary"
      ],
      "metadata": {
        "id": "cvXyvXk0lqHA"
      },
      "execution_count": 16,
      "outputs": []
    },
    {
      "cell_type": "code",
      "source": [
        "query = 'List the langchain Agents'"
      ],
      "metadata": {
        "id": "AbJyajTNqawS"
      },
      "execution_count": 8,
      "outputs": []
    },
    {
      "cell_type": "code",
      "source": [
        "summarize_output(query)"
      ],
      "metadata": {
        "colab": {
          "base_uri": "https://localhost:8080/",
          "height": 35
        },
        "id": "RVH50Ty8qYQW",
        "outputId": "fbf4d881-40b5-4d8a-9fe4-51712500acb1"
      },
      "execution_count": 33,
      "outputs": [
        {
          "output_type": "execute_result",
          "data": {
            "text/plain": [
              "'Action agents act without planning, while plan-and-execute agents plan before acting.'"
            ],
            "application/vnd.google.colaboratory.intrinsic+json": {
              "type": "string"
            }
          },
          "metadata": {},
          "execution_count": 33
        }
      ]
    },
    {
      "cell_type": "code",
      "source": [
        "from langchain.chains.question_answering import load_qa_chain\n",
        "\n",
        "qa_chain = load_qa_chain(llm, chain_type=\"stuff\")\n",
        "\n",
        "qa_document_chain = AnalyzeDocumentChain(combine_docs_chain=qa_chain)\n"
      ],
      "metadata": {
        "id": "NlNx3jrjrytY"
      },
      "execution_count": 24,
      "outputs": []
    },
    {
      "cell_type": "code",
      "source": [
        "query1 = 'What are the concepts in Langchain'"
      ],
      "metadata": {
        "id": "sKnIhay1tkGX"
      },
      "execution_count": 34,
      "outputs": []
    },
    {
      "cell_type": "code",
      "source": [
        "docs = db_retriever.get_relevant_documents(query1)\n",
        "docs"
      ],
      "metadata": {
        "id": "1dcLNylstIMO",
        "outputId": "9d2e9c8b-9277-4785-b887-9228afe24b63",
        "colab": {
          "base_uri": "https://localhost:8080/"
        }
      },
      "execution_count": 35,
      "outputs": [
        {
          "output_type": "execute_result",
          "data": {
            "text/plain": [
              "[Document(page_content='5/31/23, 6:13 AM Concepts — \\x00\\x00 LangChain 0.0.186\\nhttps://python.langchain.com/en/stable/getting_started/concepts.html 1/3Concepts\\nContents\\nChain of Thought\\nAction Plan Generation\\nReAct\\nSelf-ask\\nPrompt Chaining\\nMemetic Proxy\\nSelf Consistency\\nInception\\nMemPrompt\\nThese are concepts and terminology commonly used when developing LLM applications. It', metadata={'source': '/content/Concepts.pdf', 'page': 0}),\n",
              " Document(page_content='This is the Python specific portion of the documentation. For a purely conceptual guide to\\nLangChain, see here. For the JavaScript documentation, see here.\\nGetting Started\\nHow to get started using LangChain to create an Language Model application.\\nQuickstart Guide\\nConcepts and terminology .\\nConcepts and terminology', metadata={'source': '/content/WelcometoLangChain.pdf', 'page': 0}),\n",
              " Document(page_content='5/31/23, 6:10 AM Welcome to LangChain — \\x00\\x00 LangChain 0.0.186\\nhttps://python.langchain.com/en/stable/ 2/4Tutorials\\nModules\\nThese modules are the core abstractions which we view as the building blocks of any LLM-\\npowered application.\\nFor each module LangChain provides standard, extendable interfaces. LangChain also', metadata={'source': '/content/WelcometoLangChain.pdf', 'page': 1}),\n",
              " Document(page_content='LangChainHub : The LangChainHub is a place to share and explore other prompts, chains,\\nand agents.\\nGallery : A collection of great projects that use Langchain, compiled by the folks at\\nKyrolabs . Useful for finding inspiration and example implementations.\\nTracing : A guide on using tracing in LangChain to visualize the execution of chains and', metadata={'source': '/content/WelcometoLangChain.pdf', 'page': 3})]"
            ]
          },
          "metadata": {},
          "execution_count": 35
        }
      ]
    },
    {
      "cell_type": "code",
      "source": [
        "text = ''\n",
        "for t in docs:\n",
        "  text = text + t.page_content"
      ],
      "metadata": {
        "id": "KZFuZA41tP4t"
      },
      "execution_count": 36,
      "outputs": []
    },
    {
      "cell_type": "code",
      "source": [
        "qa_chain_route = qa_document_chain.run(input_document=text, \n",
        "                      question=query)"
      ],
      "metadata": {
        "id": "d0EniG69ryne"
      },
      "execution_count": 37,
      "outputs": []
    },
    {
      "cell_type": "code",
      "source": [
        "qa_chain_route"
      ],
      "metadata": {
        "id": "pQ3srBkpryjz",
        "outputId": "05ccc2eb-d3cd-45df-ce76-1060a5bebeab",
        "colab": {
          "base_uri": "https://localhost:8080/",
          "height": 53
        }
      },
      "execution_count": 38,
      "outputs": [
        {
          "output_type": "execute_result",
          "data": {
            "text/plain": [
              "'The LangChain Agents are:\\n\\nChain of Thought\\nAction Plan Generation\\nReAct\\nSelf-ask\\nPrompt Chaining\\nMemetic Proxy\\nSelf Consistency\\nInception\\nMemPrompt'"
            ],
            "application/vnd.google.colaboratory.intrinsic+json": {
              "type": "string"
            }
          },
          "metadata": {},
          "execution_count": 38
        }
      ]
    },
    {
      "cell_type": "code",
      "source": [],
      "metadata": {
        "id": "DcB6V29wryg2"
      },
      "execution_count": null,
      "outputs": []
    },
    {
      "cell_type": "code",
      "source": [],
      "metadata": {
        "id": "Qf4UEy5Yrybm"
      },
      "execution_count": null,
      "outputs": []
    }
  ]
}