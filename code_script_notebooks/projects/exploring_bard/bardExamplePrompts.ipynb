{
  "nbformat": 4,
  "nbformat_minor": 0,
  "metadata": {
    "colab": {
      "provenance": []
    },
    "kernelspec": {
      "name": "python3",
      "display_name": "Python 3"
    },
    "language_info": {
      "name": "python"
    }
  },
  "cells": [
    {
      "cell_type": "markdown",
      "source": [
        "### Notebook contains \n",
        "\n",
        "The prompts that are taken from the sample usecases inside vertex ai for study"
      ],
      "metadata": {
        "id": "oStOJ3grcSJg"
      }
    },
    {
      "cell_type": "markdown",
      "source": [
        "#### Summarization"
      ],
      "metadata": {
        "id": "_HcxLKwVfMr1"
      }
    },
    {
      "cell_type": "code",
      "execution_count": 1,
      "metadata": {
        "id": "Pr2KIxDOcI9h"
      },
      "outputs": [],
      "source": [
        "# Support rep chat summarization\n",
        "\n",
        "prompt = '''Summarize the following conversation between a service rep and a customer in a few sentences. Use only the information from the conversation.\n",
        "\n",
        "Service Rep: How may I assist you today?\n",
        "Customer: I need to change the shipping address for an order.\n",
        "Service Rep: Ok, I can help you with that if the order has not been fulfilled from our warehouse yet. But if it has already shipped, then you will need to contact the shipping provider. Do you have the order ID?\n",
        "Customer: Yes, it\\'s 88986367.\n",
        "Service Rep: One minute please while I pull up your order information.\n",
        "Customer: No problem\n",
        "Service Rep: Ok, it looks like your order was shipped from our warehouse 2 days ago. It is now in the hands of  the shipping provider, so you will need to contact them to update your delivery details. You can track your order with the shipping provider here: https://www.shippingprovider.com\n",
        "Customer: Sigh, ok.\n",
        "Service Rep: Is there anything else I can help you with today?\n",
        "Customer: No, thanks.'''"
      ]
    },
    {
      "cell_type": "code",
      "source": [
        "# Summarize News article\n",
        "\n",
        "prompt ='''Provide a brief summary for the following article:\n",
        "\n",
        "LONDON, England (Reuters) -- Harry Potter star Daniel Radcliffe gains access to a \n",
        "reported £20 million ($41.1 million) fortune as he turns 18 on Monday, \n",
        "but he insists the money won\\'t cast a spell on him. \n",
        "Daniel Radcliffe as Harry Potter in \"Harry Potter and the Order of the Phoenix\" \n",
        "To the disappointment of gossip columnists around the world, the young actor says he has no plans to fritter his cash away on fast cars, drink and celebrity parties. \"I don\\'t plan to be one of those people who, as soon as they turn 18, suddenly buy themselves a massive sports car collection or something similar,\" he told an Australian interviewer earlier this month. \"I don\\'t think I\\'ll be particularly extravagant. \"The things I like buying are things that cost about 10 pounds -- books and CDs and DVDs.\" At 18, Radcliffe will be able to gamble in a casino, buy a drink in a pub or see the horror film \"Hostel: Part II,\" currently six places below his number one movie on the UK box office chart. Details of how he\\'ll mark his landmark birthday are under wraps. His agent and publicist had no comment on his plans. \"I\\'ll definitely have some sort of party,\" he said in an interview. \"Hopefully none of you will be reading about it.\" Radcliffe\\'s earnings from the first five Potter films have been held in a trust fund which he has not been able to touch. Despite his growing fame and riches, the actor says he is keeping his feet firmly on the ground. \"People are always looking to say \\'kid star goes off the rails,\\'\" he told reporters last month. \"But I try very hard not to go that way because it would be too easy for them.\" His latest outing as the boy wizard in \"Harry Potter and the Order of the Phoenix\" is breaking records on both sides of the Atlantic and he will reprise the role in the last two films. Watch I-Reporter give her review of Potter\\'s latest » . There is life beyond Potter, however. The Londoner has filmed a TV movie called \"My Boy Jack,\" about author Rudyard Kipling and his son, due for release later this year. He will also appear in \"December Boys,\" an Australian film about four boys who escape an orphanage. Earlier this year, he made his stage debut playing a tortured teenager in Peter Shaffer\\'s \"Equus.\" Meanwhile, he is braced for even closer media scrutiny now that he\\'s legally an adult: \"I just think I\\'m going to be more sort of fair game,\" he told Reuters. E-mail to a friend . Copyright 2007 Reuters. All rights reserved.\n",
        "This material may not be published, broadcast, rewritten, or redistributed.'''"
      ],
      "metadata": {
        "id": "LAElDzMOfmI0"
      },
      "execution_count": 2,
      "outputs": []
    },
    {
      "cell_type": "code",
      "source": [
        "# Chat Agent Summarisation\n",
        "\n",
        "prompt = '''Summarize the following conversation from the Agent\\'s perspective:\n",
        "Agent: Thank you for calling Google Cloud Support. How may I assist you today?\n",
        "\n",
        "Customer: Hi, I am trying to create a Google Cloud account and use the free credits, but I am not sure where to start.\n",
        "\n",
        "Agent: Sure, I can definitely help you with that. May I know if you already have a Google account?\n",
        "\n",
        "Customer: Yes, I do.\n",
        "\n",
        "Agent: Great. The first step would be to sign in to the Google Cloud Console. Do you know how to access it?\n",
        "\n",
        "Customer: No, I don\\'t. Can you guide me?\n",
        "\n",
        "Agent: Sure. Please go to console.cloud.google.com and sign in with your Google account credentials. Once you are signed in, you will be directed to the Google Cloud Console dashboard.\n",
        "\n",
        "Customer: Okay, I have signed in. What should I do next?\n",
        "\n",
        "Agent: Now, you\\'ll need to create a project. A project is a collection of resources, such as Compute Engine instances and Cloud Storage buckets. To create a project, click on the \"Projects\" tab and then click on the \"Create project\" button. You\\'ll need to provide a name for your project and then select a region. Once you\\'ve created your project, you\\'ll be able to start using the free credits.\n",
        "\n",
        "Customer: Great, I\\'ve created my project. Now what?\n",
        "\n",
        "Agent: Now, you\\'ll need to enable the free trial. To do this, click on the \"Billing\" tab and then click on the \"Enable free trial\" button. You\\'ll need to provide your credit card information and then click on the \"Submit\" button.\n",
        "\n",
        "Customer: Alright, I think I can do that.\n",
        "\n",
        "Agent: Excellent. You\\'ve now successfully created a Google Cloud account. You can start using the free credits that are available by clicking on the \"Credits\" tab.\n",
        "\n",
        "Customer: That sounds easy enough. How much free credit do I get?\n",
        "\n",
        "Agent: You\\'ll receive $300 worth of free credit that you can use on any Google Cloud services for up to 12 months.\n",
        "\n",
        "Customer: Is there anything else I should know?\n",
        "\n",
        "Agent: Yes, just be sure to keep an eye on your usage during your free trial period. Once your credits are used up, you\\'ll start being charged for any additional usage. But don\\'t worry, you\\'ll receive notifications when you\\'re approaching your credit limit.\n",
        "\n",
        "Customer: Thank you so much for your help!\n",
        "\n",
        "Agent: You\\'re welcome. Is there anything else I can help you with today?\n",
        "\n",
        "Customer: No, that\\'s all. Thank you again!\n",
        "\n",
        "Agent: You\\'re welcome. Have a great day and enjoy using Google Cloud!'''"
      ],
      "metadata": {
        "id": "uUzi8z-sfmFv"
      },
      "execution_count": 3,
      "outputs": []
    },
    {
      "cell_type": "code",
      "source": [
        "# Chat agent follow up\n",
        "\n",
        "prompt = \"\"\"# Chat agent follow up\n",
        "\n",
        "Considering the conversation below, what are the pending actions by the Agent.\n",
        "\n",
        "Agent: Thank you for calling Google Cloud support. How may I assist you today?\n",
        "\n",
        "Customer: Hi, I'm trying to create a Google Cloud account and use the available credits, but I'm not sure how to get started.\n",
        "\n",
        "Agent: Sure, I'd be happy to assist you with that. Have you already created a Google account?\n",
        "\n",
        "…Customer: Yes, please.\n",
        "\n",
        "Agent: Okay, I'll connect you with a specialist who can help you get started with BigQuery.\"\"\""
      ],
      "metadata": {
        "id": "vsgdllIAfmDC"
      },
      "execution_count": null,
      "outputs": []
    },
    {
      "cell_type": "code",
      "source": [
        "#Structured Transcript summarization\n",
        "\n",
        "prompt = \"\"\"Provide a summary with about two sentences for the following article: Beyond our own products, we think it\\'s important to make it easy, safe and scalable for others to benefit from these advances by building on top of our best models. Next month, we\\'ll start onboarding individual developers, creators and enterprises so they can try our Generative Language API, initially powered by LaMDA with a range of models to follow. Over time, we intend to create a suite of tools and APIs that will make it easy for others to build more innovative applications with AI. Having the necessary compute power to build reliable and trustworthy AI systems is also crucial to startups, and we are excited to help scale these efforts through our Google Cloud partnerships with Cohere, C3.ai and Anthropic, which was just announced last week. Stay tuned for more developer details soon.\n",
        "Summary: Google is making its AI technology more accessible to developers, creators, and enterprises. Next month, Google will start onboarding developers to try its Generative Language API, which will initially be powered by LaMDA. Over time, Google intends to create a suite of tools and APIs that will make it easy for others to build more innovative applications with AI. Google is also excited to help scale these efforts through its Google Cloud partnerships with Cohere, C3.ai, and Anthropic.\n",
        "\n",
        "Provide a summary with about two sentences for the following article: The benefits of electricPromptData kitchens go beyond climate impact, starting with speed. The first time I ever cooked on induction (electric) equipment, the biggest surprise was just how incredibly fast it is. In fact, induction boils water twice as fast as traditional gas equipment and is far more efficient — because unlike a flame, electric heat has nowhere to escape. At Bay View, our training programs help Google chefs appreciate and adjust to the new pace of induction. The speed truly opens up whole new ways of cooking.\n",
        "Summary: Electric kitchens are faster, more efficient, and better for the environment than gas kitchens. Induction cooking is particularly fast, boiling water twice as fast as traditional gas equipment. This speed opens up whole new ways of cooking. Google chefs are trained to appreciate and adjust to the new pace of induction cooking at Bay View.\n",
        "\n",
        "Provide a summary with about two sentences for the following article: We\\'re also using AI to forecast floods, another extreme weather pattern exacerbated by climate change. We\\'ve already helped communities to predict when floods will hit and how deep the waters will get — in 2021, we sent 115 million flood alert notifications to 23 million people over Google Search and Maps, helping save countless lives. Today, we\\'re sharing that we\\'re now expanding our coverage to more countries in South America (Brazil and Colombia), Sub-Saharan Africa (Burkina Faso, Cameroon, Chad, Democratic Republic of Congo, Ivory Coast, Ghana, Guinea, Malawi, Nigeria, Sierra Leone, Angola, South Sudan, Namibia, Liberia, and South Africa), and South Asia (Sri Lanka). We\\'ve used an AI technique called transfer learning to make it work in areas where there\\'s less data available. We\\'re also announcing the global launch of Google FloodHub, a new platform that displays when and where floods may occur. We\\'ll also be bringing this information to Google Search and Maps in the future to help more people to reach safety in flooding situations.\n",
        "Summary: Google is using AI to forecast floods in South America, Sub-Saharan Africa, South Asia, and other parts of the world. The AI technique of transfer learning is being used to make it work in areas where there\\'s less data available. Google FloodHub, a new platform that displays when and where floods may occur, has also been launched globally. This information will also be brought to Google Search and Maps in the future to help more people reach safety in flooding situations.\n",
        "\n",
        "Provide a summary with about two sentences for the following article: In order to learn skiing, you must first be educated on the proper use of the equipment. This includes learning how to properly fit your boot on your foot, understand the different functions of the ski, and bring gloves, goggles etc. Your instructor starts you with one-footed ski drills. Stepping side-to-side, forward-and-backward, making snow angels while keeping your ski flat to the ground, and gliding with the foot not attached to a ski up for several seconds. Then you can put on both skis and get used to doing them with two skis on at once. Next, before going down the hill, you must first learn how to walk on the flat ground and up small hills through two methods, known as side stepping and herringbone. Now it\\'s time to get skiing! For your first attempted run, you will use the skills you just learned on walking up the hill, to go down a small five foot vertical straight run, in which you will naturally stop on the flat ground. This makes you learn the proper athletic stance to balance and get you used to going down the hill in a safe, controlled setting. What do you need next? To be able to stop yourself. Here, your coach will teach you how to turn your skis into a wedge, also commonly referred to as a pizza, by rotating legs inward and pushing out on the heels. Once learned, you practice a gliding wedge down a small hill where you gradually come to a stop on the flat ground thanks to your wedge. Finally, you learn the necessary skill of getting up after falling, which is much easier than it looks, but once learned, a piece of cake.\n",
        "Summary: Skiing is a great way to enjoy the outdoors and get some exercise. It can be a little daunting at first, but with a little practice, you\\'ll be skiing like a pro in no time.\n",
        "\n",
        "Provide a summary with about two sentences for the following article: Yellowstone National Park is an American national park located in the western United States, largely in the northwest corner of Wyoming and extending into Montana and Idaho. It was established by the 42nd U.S. Congress with the Yellowstone National Park Protection Act and signed into law by President Ulysses S. Grant on March 1, 1872. Yellowstone was the first national park in the U.S. and is also widely held to be the first national park in the world.The park is known for its wildlife and its many geothermal features, especially the Old Faithful geyser, one of its most popular. While it represents many types of biomes, the subalpine forest is the most abundant. It is part of the South Central Rockies forests ecoregion.\n",
        "Summary: Yellowstone National Park is the first national park in the United States and the world. It is located in the western United States, largely in the northwest corner of Wyoming and extending into Montana and Idaho. The park is known for its wildlife and its many geothermal features, especially the Old Faithful geyser.\n",
        "\n",
        "Provide a summary with about two sentences for the following article: The efficient-market hypothesis (EMH) is a hypothesis in financial economics that states that asset prices reflect all available information. A direct implication is that it is impossible to \"beat the market\" consistently on a risk-adjusted basis since market prices should only react to new information. Because the EMH is formulated in terms of risk adjustment, it only makes testable predictions when coupled with a particular model of risk. As a result, research in financial economics since at least the 1990s has focused on market anomalies, that is, deviations from specific models of risk. The idea that financial market returns are difficult to predict goes back to Bachelier, Mandelbrot, and Samuelson, but is closely associated with Eugene Fama, in part due to his influential 1970 review of the theoretical and empirical research. The EMH provides the basic logic for modern risk-based theories of asset prices, and frameworks such as consumption-based asset pricing and intermediary asset pricing can be thought of as the combination of a model of risk with the EMH. Many decades of empirical research on return predictability has found mixed evidence. Research in the 1950s and 1960s often found a lack of predictability (e.g. Ball and Brown 1968; Fama, Fisher, Jensen, and Roll 1969), yet the 1980s-2000s saw an explosion of discovered return predictors (e.g. Rosenberg, Reid, and Lanstein 1985; Campbell and Shiller 1988; Jegadeesh and Titman 1993). Since the 2010s, studies have often found that return predictability has become more elusive, as predictability fails to work out-of-sample (Goyal and Welch 2008), or has been weakened by advances in trading technology and investor learning (Chordia, Subrahmanyam, and Tong 2014; McLean and Pontiff 2016; Martineau 2021).\n",
        "Summary:\"\"\""
      ],
      "metadata": {
        "id": "IM3V5iepfmAr"
      },
      "execution_count": 4,
      "outputs": []
    },
    {
      "cell_type": "code",
      "source": [
        "# Structured Dialog summarization\n",
        "\n",
        "prompt = '''Provide a laconic summary for the following conversation: PersonA: We need to take the accounts system offline to carry out the upgrade. But don\\'t worry, it won\\'t cause too much inconvenience. We\\'re going to do it over the weekend.\n",
        "PersonB: How long will the system be down for?\n",
        "PersonA: We\\'ll be taking everything offline in about two hours \\' time. It\\'ll be down for a minimum of twelve hours. If everything goes according to plan, it should be up again by 6 pm on Saturday.\n",
        "PersonB: That\\'s fine. We\\'ve allowed forty-eight hours to be on the safe side.\n",
        "Summary: The accounts system will be taken offline for a minimum of 12 hours starting in two hours to carry out an upgrade. It should be back up by 6 pm on Saturday.\n",
        "\n",
        "Provide a laconic summary for the following conversation: Plato: Socrates, I have been thinking about what you said the other day about the importance of education.\n",
        "Socrates: Yes, Plato, what about it?\n",
        "Plato: Well, I was wondering if you could tell me more about how you think education can help people to live a good life.\n",
        "Socrates: Of course. Education is the key to a good life. It is the process of learning how to think for yourself and how to make wise decisions. It is also the process of learning about the world around you and how to live in harmony with it.\n",
        "Plato: I see. But how does one get an education?\n",
        "Socrates: There are many ways to get an education. You can go to school, you can study on your own, or you can learn from the experiences of others. The important thing is to never stop learning.\n",
        "Plato: I agree. But what do you think are the most important things to learn?\n",
        "Socrates: The most important things to learn are how to think for yourself, how to make wise decisions, and how to live in harmony with the world around you.\n",
        "Plato: I see. And how does one learn these things?\n",
        "Socrates: You learn these things by questioning everything. You learn by asking questions about the world around you, about yourself, and about the meaning of life.\n",
        "Plato: I see. And what do you think is the best way to question everything?\n",
        "Socrates: The best way to question everything is to have conversations with people who have different opinions than you.\n",
        "Plato: I see. And why is that?\n",
        "Socrates: Because when you have conversations with people who have different opinions than you, you are forced to think about your own opinions. You are forced to defend your own beliefs. And in doing so, you learn more about yourself and about the world around you.\n",
        "Summary: Socrates believes that education is the key to a good life. It is the process of learning how to think for yourself, how to make wise decisions, and how to live in harmony with the world around you. The most important things to learn are how to think for yourself, how to make wise decisions, and how to live in harmony with the world around you. You learn these things by questioning everything, and the best way to question everything is to have conversations with people who have different opinions than you.\n",
        "\n",
        "Provide a laconic summary for the following conversation: Alice: Hey, Bob, what are some of your ideas for the team morale event?\n",
        "Bob: Everyone seemed to enjoy the potluck and board game that we did last time.\n",
        "Alice: I think so too.\n",
        "Bob: Maybe we can do something similar but at a different location?\n",
        "Alice: That sounds good. Where did you have in mind?\n",
        "Bob: I was thinking we could reserve the picnic area at Sunset Beach Park.\n",
        "Alice: Good idea. In addition to board games, we could also bring a frisbee and volleyball for the beach.\n",
        "Bob: Perfect! Let me make the reservation now.\n",
        "Summary: Alice and Bob are planning a team morale event. They are considering having a potluck and board games at Sunset Beach Park.\n",
        "\n",
        "Provide a laconic summary for the following conversation: Customer Service Rep: Hello, thank you for calling customer service. How can I help you today?\n",
        "Customer: I\\'d like to return a product that I purchased.\n",
        "Customer Service Rep: Sure, I can help you with that. What is the item that you would like to return?\n",
        "Customer: I would like to return a [product name].\n",
        "Customer Service Rep: Okay, I can see that you purchased this on [date].\n",
        "Customer: Yes, that\\'s correct.\n",
        "Customer Service Rep: Unfortunately, the return date for this product was on [date].\n",
        "Customer: Yes, I know. I\\'ve been very busy and meant to return it sooner.\n",
        "Customer Service Rep: I\\'m really sorry, but there\\'s nothing that I can do about it.\n",
        "Customer: But I\\'m not happy with the product. It\\'s damaged.\n",
        "Customer Service Rep: I understand that you\\'re not happy with the product. However, the return date for this product has passed.\n",
        "Customer: But I\\'m not the only customer who\\'s had this problem. There are other customers who have returned this product because it\\'s damaged.\n",
        "Customer Service Rep: I\\'m sure that there are other customers who have returned this product because it\\'s damaged. However, the return date for this product has passed.\n",
        "Customer: I\\'m going to write a review about this product and how your company doesn\\'t stand behind its products.\n",
        "Customer Service Rep: I\\'m sorry to hear that you\\'re unhappy with the product. However, I cannot help you with this return.\n",
        "Summary:\n",
        "'''"
      ],
      "metadata": {
        "id": "lhm5i2Kxfl-I"
      },
      "execution_count": 5,
      "outputs": []
    },
    {
      "cell_type": "code",
      "source": [
        "## Structured Hashtag tokenisation\n",
        "\n",
        "prompt = '''Tokenize the hashtags of this tweet: Google Cloud\n",
        "@googlecloud\n",
        "·\n",
        "4h\n",
        "Google Cloud 🤝\n",
        "@MongoDB\n",
        ": helping startups scale quicker, more safely, and more successfully.\n",
        "\n",
        "Learn how we\\'re supporting high-potential startups via our dedicated startup programs—the Google for Startups Cloud Program and MongoDB for Startups Program ↓\n",
        "The hashtags in this tweet are: #GoogleCloud\n",
        "#googlecloud\n",
        "#MongoDB\n",
        "#mongodb\n",
        "#startups\n",
        "#startup\n",
        "#scale\n",
        "#quicker\n",
        "#moresafely\n",
        "#moresuccessfully\n",
        "#GoogleforStartupsCloudProgram\n",
        "#MongoDBforStartupsProgram#mongodb\n",
        "\n",
        "Tokenize the hashtags of this tweet: Google Cloud\n",
        "@googlecloud\n",
        "·\n",
        "10h\n",
        "Women deliver impact across Google Cloud—from keeping the internet running to driving AI innovation to transforming our customers\\' businesses.\n",
        "\n",
        "For IWD2023, check out their advice for the next generation of innovators, change-makers, and leaders ↓\n",
        "The hashtags in this tweet are: #IWD2023\n",
        "#WomenInTech\n",
        "#GoogleCloud\n",
        "\n",
        "Tokenize the hashtags of this tweet: Google Cloud\n",
        "@googlecloud\n",
        "·\n",
        "Mar 7\n",
        "The E-learning platform,\n",
        "@schooliocorp\n",
        ", started with an act of kindness, a cold DM, and a belief that schools must be reimagined for the modern world.\n",
        "\n",
        "Learn more about this women-led startup and how it reimagines e-learning with Google Cloud ↓\n",
        "The hashtags in this tweet are: #GoogleCloud\n",
        "#schooliocorp\n",
        "\n",
        "Tokenize the hashtags of this tweet: Google Cloud\n",
        "@googlecloud\n",
        "·\n",
        "Mar 6\n",
        "A good migration plan has 4️⃣ phases: assessment, planning, execution, and optimization.\n",
        "\n",
        "A great migration plan has 5️⃣ phases: discussion (i.e., join our Twitter Space on March 8), assessment, planning, execution, and optimization.\n",
        "\n",
        "Set a reminder ↓\n",
        "The hashtags in this tweet are: #googlecloud\n",
        "#migration\n",
        "#assessment\n",
        "#planning\n",
        "#execution\n",
        "#optimization\n",
        "#discussion\n",
        "#twitterspace\n",
        "#march8\n",
        "\n",
        "Tokenize the hashtags of this tweet: Google Cloud\n",
        "@googlecloud\n",
        "·\n",
        "Feb 25\n",
        "We heard it through the grapevine:\n",
        "- Document AI Workbench is GA and ready for production use through APIs and the Google Cloud Console\n",
        "- Deliver higher model accuracy with Workbench\n",
        "- Build production-ready models faster with Workbench\n",
        "\n",
        "Read more ↓\n",
        "The hashtags in this tweet are:\n",
        "'''"
      ],
      "metadata": {
        "id": "gstgNgjpfl7F"
      },
      "execution_count": 6,
      "outputs": []
    },
    {
      "cell_type": "code",
      "source": [
        "## Structured title generation\n",
        "\n",
        "prompt = '''Article: Yellowstone National Park is an American national park located in the western United States, largely in the northwest corner of Wyoming and extending into Montana and Idaho. It was established by the 42nd U.S. Congress with the Yellowstone National Park Protection Act and signed into law by President Ulysses S. Grant on March 1, 1872. Yellowstone was the first national park in the U.S. and is also widely held to be the first national park in the world. The park is known for its wildlife and its many geothermal features, especially the Old Faithful geyser, one of its most popular. While it represents many types of biomes, the subalpine forest is the most abundant. It is part of the South Central Rockies forests ecoregion.\n",
        "The title of above article can be: Yellowstone National Park: A Natural Wonder\n",
        "\n",
        "Article: As many businesses figure out new ways to go digital, one thing is clear: talent continues to be one of the key ways to enable an inclusive digital economy. Employers in Asia Pacific list technology as the leading in-demand skill, with digital marketing and e-commerce following close behind. Simultaneously, many people are looking to learn new skills that will help them meet the requirements of the evolving job market. So we must create new ways to help businesses and job seekers alike.\n",
        "The title of above article can be: How to Prepare for the Digital Economy\n",
        "\n",
        "Article: STEM Minds empowers K-12 students worldwide to reach their full potential as self-directed, life-long learners. As we grow our team, we\\'ll continue to work closely with Google for Startups experts and Google for Startups Accelerator Canada advisors to further expand our AI/ML tech stack, develop additional educational solutions, and launch STEM Minds in new markets.\n",
        "The title of above article can be: STEM Minds: Empowering K-12 Students Worldwide\n",
        "\n",
        "Article: As human beings, we learn from our personal experiences and from each other. We often share what we\\'ve learned and rework systems based on failures we\\'ve encountered. While our robots don\\'t communicate with each other, this research shows that we can successfully combine datasets from different types of robots and transfer behaviors across them. In fact, our research shows that by combining data from different robots we\\'re able to nearly double the model\\'s ability to generalize to a new scene. That means that as we continue to experiment with different robots and new tasks, we may be able to augment the training data to improve robot behavior, making it a flexible and scalable approach to robot learning.\n",
        "The title of above article can be:\n",
        "'''"
      ],
      "metadata": {
        "id": "-23gL_bUflzV"
      },
      "execution_count": 7,
      "outputs": []
    },
    {
      "cell_type": "markdown",
      "source": [
        "## Classification"
      ],
      "metadata": {
        "id": "prZDlCcJlWLu"
      }
    },
    {
      "cell_type": "code",
      "source": [
        "## Sentiment analysis about a person\n",
        "\n",
        "prompt = '''Is the sentiment positive or negative towards Louis van Gaal based on the article:\n",
        "\n",
        "Article:\n",
        "Louis van Gaal said he had no option but to substitute Paddy McNair in the first half against Southampton because the defender's 'confidence' was shot - but believes that it will benefit the youngster in the long run.\n",
        "The 19-year-old was hooked by Van Gaal after only 39 minutes at St Mary's Stadium on Monday night during Manchester United's 2-1 victory over the Saints.\n",
        "McNair was struggling to contain Southampton strikers Shane Long and Graziano Pelle, forcing Van Gaal into replacing him prematurely. \n",
        "Speaking to Sky Sports after the match, Van Gaal explained: 'He (McNair) hadn't any confidence. He had already given three big chances away.\n",
        "'I had to (substitute him), it's very disappointing for me and also for Paddy, but I had to because as a manager, I'm responsible to win.\n",
        "'And I think, after the change, we played a little better.'\n",
        "But in spite of the fact United won the game, McNair was exposed time after time in defence and was substituted - even though Chris Smalling had already departed early with an injury.\n",
        "Jonny Evans came on to replace Smalling, before McNair made way for midfielder Ander Herrera as Michael Carrick dropped back in to the centre of defence in Van Gaal's 3-5-2 system.\n",
        "And, despite admitting it will be difficult for McNair to accept being replaced so early, Van Gaal insisted that it was a necessity which will serve the Northern Irishman well long term.\n",
        "Van Gaal continued: 'Of course, it's tough (for McNair), but it's also in his best interests.' \n",
        "The victory moved United up to third in the Premier League - their highest position since they claimed the title in 2012-13 under Sir Alex Ferguson. '''"
      ],
      "metadata": {
        "id": "OvUmyFFZfluL"
      },
      "execution_count": 8,
      "outputs": []
    },
    {
      "cell_type": "code",
      "source": [
        "## Article classification\n",
        "\n",
        "prompt = '''Multi-choice problem: What is the topic of this text?\n",
        "- entertainment\n",
        "- technology\n",
        "- politics\n",
        "- sports\n",
        "- business\n",
        "- health\n",
        "- fun\n",
        "- culture\n",
        "- science\n",
        "\n",
        "Text: Samba, is a name or prefix used for several rhythmic variants, such as samba urbano carioca (urban Carioca samba), samba de roda (sometimes also called rural samba), recognized as part of the Intangible Cultural Heritage of Humanity by UNESCO, amongst many other forms of Samba, mostly originated in the Rio de Janeiro and Bahia States. Samba is a broad term for many of the rhythms that compose the better known Brazilian music genres that originated in the Afro-Brazilian communities of Bahia in the late 19th century and early 20th century, having continued its development on the communities of Rio de Janeiro in the early 20th century. Having its roots in the Afro-Brazilian Candomblé, as well as other Afro-Brazilian and Indigenous folk traditions, such as the traditional Samba de Caboclo, it is considered one of the most important cultural phenomena in Brazil and one of the country's symbols. Present in the Portuguese language at least since the 19th century, the word \"samba\" was originally used to designate a \"popular dance\". Over time, its meaning has been extended to a \"batuque-like circle dance\", a dance style, and also to a \"music genre\". This process of establishing itself as a musical genre began in the 1910s and it had its inaugural landmark in the song \"Pelo Telefone\", launched in 1917. Despite being identified by its creators, the public, and the Brazilian music industry as \"samba\", this pioneering style was much more connected from the rhythmic and instrumental point of view to maxixe than to samba itself.\n",
        "\n",
        "Samba was modernly structured as a musical genre only in the late 1920s from the neighborhood of Estácio and soon extended to Oswaldo Cruz and other parts of Rio through its commuter rail. Today synonymous with the rhythm of samba, this new samba brought innovations in rhythm, melody and also in thematic aspects. Its rhythmic change based on a new percussive instrumental pattern resulted in a more \"batucado\" and syncopated style – as opposed to the inaugural \"samba-maxixe\" – notably characterized by a faster tempo, longer notes and a characterized cadence far beyond the simple ones palms used so far. Also the \"Estácio paradigm\" innovated in the formatting of samba as a song, with its musical organization in first and second parts in both melody and lyrics. In this way, the sambistas of Estácio created, structured and redefined the urban Carioca samba as a genre in a modern and finished way. In this process of establishment as an urban and modern musical expression, the Carioca samba had the decisive role of samba schools, responsible for defining and legitimizing definitively the aesthetic bases of rhythm, and radio broadcasting, which greatly contributed to the diffusion and popularization of the genre and its song singers. Thus, samba has achieved major projection throughout Brazil and has become one of the main symbols of Brazilian national identity. Once criminalized and rejected for its Afro-Brazilian origins, and definitely working-class music in its mythic origins, the genre has also received support from members of the upper classes and the country's cultural elite.'''"
      ],
      "metadata": {
        "id": "w2kDI5GlljHX"
      },
      "execution_count": 9,
      "outputs": []
    },
    {
      "cell_type": "code",
      "source": [
        "## structured Customer request classification, few-shot\n",
        "\n",
        "prompt = '''Multi-choice problem: Define the category of the ticket?\n",
        "Categories:\n",
        "- Credit card\n",
        "- Bank account services\n",
        "- Loans and Mortgages\n",
        "\n",
        "Ticket: I lost my credit card numbered 12345. Can you help with deactivating the card?\n",
        "Category: Credit card\n",
        "\n",
        "Ticket: I would like to change the address associated with my account. I have been calling the bank multiple times but couldn\\'t get through. Please help me.\n",
        "Category: Bank account services\n",
        "\n",
        "Ticket: good morning my name is xxxx xxxx and i appreciate it if you could help me put a stop to chase bank cardmember services. I wrote to chase asking for debt verification and what they sent me a statement which is not acceptable i am asking the bank to validate the debt instead i been receiving mail every month from them attempting to collect a debt i have a right to know this information as a consumer chase account xxxx xxxx xxxx xxxx thanks in advance for your help\n",
        "Category: Loans and Mortgages\n",
        "\n",
        "Ticket: my grand son give me check for i deposit it into my chase account after fund clear my chase bank closed my account never paid me my money they said they need to speak with my grand son check was clear money was taking by my chase bank refuse to pay me my money my grand son called chase times they told him i should call not him to verify the check owner he is out the country most the time date happen check number xxxx claim number is xxxx with chase\n",
        "Category:\n",
        "'''"
      ],
      "metadata": {
        "id": "RMl_VSz-li_g"
      },
      "execution_count": 10,
      "outputs": []
    },
    {
      "cell_type": "code",
      "source": [
        "##  Structured Text classification few-shot\n",
        "\n",
        "prompt = '''Define the categories for the text below?\n",
        "Options:\n",
        "- outdoor\n",
        "- health\n",
        "- aviation\n",
        "- cycling\n",
        "- automotive\n",
        "- fitness\n",
        "- marine\n",
        "- fish and hunt\n",
        "\n",
        "Text: When shopping for chartplotters that will work well with your unit, there are three factors to consider.\n",
        "Categories: fish and hunt, marine\n",
        "\n",
        "Text: Whether you’re planning short weekend getaways or longer cross-country adventures, bring a variety of tools to help plan your RV trip.\n",
        "Categories: automotive, outdoor\n",
        "\n",
        "Text: The skipper of the A Team, John, is on a mission to win the Vendée Globe ocean race. He\\'s relying on his team to help.\n",
        "Categories: marine\n",
        "\n",
        "Text: Are you sleeping better or worse than your peers? New data from recent smart watches show average sleep scores — and where yours may fit in.\n",
        "Categories: health\n",
        "\n",
        "Text: When Idaho State Highway 21 was closed by an avalanche, Mark and Kim Nero were stranded. They shared the story of how they got out.\n",
        "Categories: automotive, outdoor\n",
        "\n",
        "Text: The ways to practice self-care with a fitness watch are almost limitless, but here are six easy-to-implement tips to start today.\n",
        "Categories:\n",
        "'''"
      ],
      "metadata": {
        "id": "qVrWc2zsli8T"
      },
      "execution_count": 11,
      "outputs": []
    },
    {
      "cell_type": "code",
      "source": [
        "## Structured classification headline\n",
        "\n",
        "prompt = '''What is the topic for a given news headline?\n",
        "- business\n",
        "- entertainment\n",
        "- health\n",
        "- sports\n",
        "- technology\n",
        "\n",
        "Text: Pixel 7 Pro Expert Hands On Review, the Most Helpful Google Phones\n",
        "The answer is: technology\n",
        "\n",
        "Text: Quit smoking?\n",
        "The answer is: health\n",
        "\n",
        "Text: Roger Federer reveals why he touched Rafael Nadal\\'s hand while they were crying\n",
        "The answer is: sports\n",
        "\n",
        "Text: Business relief from Arizona minimum-wage hike looking more remote\n",
        "The answer is: business\n",
        "\n",
        "Text: #TomCruise has arrived in Bari, Italy for #MissionImpossible.\n",
        "The answer is: entertainment\n",
        "\n",
        "Text: CNBC Reports Rising Digital Profit as Print Advertising Falls\n",
        "The answer is:\n",
        "'''"
      ],
      "metadata": {
        "id": "oDYYVyxLli3c"
      },
      "execution_count": 12,
      "outputs": []
    },
    {
      "cell_type": "code",
      "source": [
        "## Structured Object classification\n",
        "\n",
        "prompt = '''Multi-choice problem: What is the category of the object?\n",
        "- red wine\n",
        "- white wine\n",
        "\n",
        "Text: chardonnay\n",
        "The answer is: white wine\n",
        "\n",
        "Text: carbernet sauvignon\n",
        "The answer is: red wine\n",
        "\n",
        "Text: merlot\n",
        "The answer is:\n",
        "'''"
      ],
      "metadata": {
        "id": "f8R4RsDmliyd"
      },
      "execution_count": 13,
      "outputs": []
    },
    {
      "cell_type": "code",
      "source": [
        "## Structured Sentiment Analysis\n",
        "\n",
        "prompt = '''input: I had to compare two versions of Hamlet for my Shakespeare class and unfortunately I picked this version. Everything from the acting (the actors deliver most of their lines directly to the camera) to the camera shots (all medium or close up shots...no scenery shots and very little back ground in the shots) were absolutely terrible. I watched this over my spring break and it is very safe to say that I feel that I was gypped out of 114 minutes of my vacation. Not recommended by any stretch of the imagination.\n",
        "Classify the sentiment of the message: negative\n",
        "\n",
        "input: This Charles outing is decent but this is a pretty low-key performance. Marlon Brando stands out. There\\'s a subplot with Mira Sorvino and Donald Sutherland that forgets to develop and it hurts the film a little. I\\'m still trying to figure out why Charlie want to change his name.\n",
        "Classify the sentiment of the message: negative\n",
        "\n",
        "input: My family has watched Arthur Bach stumble and stammer since the movie first came out. We have most lines memorized. I watched it two weeks ago and still get tickled at the simple humor and view-at-life that Dudley Moore portrays. Liza Minelli did a wonderful job as the side kick - though I\\'m not her biggest fan. This movie makes me just enjoy watching movies. My favorite scene is when Arthur is visiting his fiancée\\'s house. His conversation with the butler and Susan\\'s father is side-spitting. The line from the butler, \"Would you care to wait in the Library\" followed by Arthur\\'s reply, \"Yes I would, the bathroom is out of the question\", is my NEWMAIL notification on my computer.\n",
        "Classify the sentiment of the message: positive\n",
        "\n",
        "input: Something surprised me about this movie - it was actually original. It was not the same old recycled crap that comes out of Hollywood every month. I saw this movie on video because I did not even know about it before I saw it at my local video store. If you see this movie available - rent it - you will not regret it.\n",
        "Classify the sentiment of the message:\n",
        "'''"
      ],
      "metadata": {
        "id": "YeW1GNESmO1W"
      },
      "execution_count": 14,
      "outputs": []
    },
    {
      "cell_type": "markdown",
      "source": [
        "## Extraction"
      ],
      "metadata": {
        "id": "yobQbIhsoqmi"
      }
    },
    {
      "cell_type": "code",
      "source": [
        "#Structured technical spec extraction\n",
        "\n",
        "prompt = '''Extract the technical specifications from the text below in a JSON format.\n",
        "\n",
        "Text: Google Nest Wifi, network speed up to 1200Mpbs, 2.4GHz and 5GHz frequencies, WP3 protocol\n",
        "JSON: {\n",
        "  \"product\":\"Google Nest Wifi\",\n",
        "  \"speed\":\"1200Mpbs\",\n",
        "  \"frequencies\": [\"2.4GHz\", \"5GHz\"],\n",
        "  \"protocol\":\"WP3\"\n",
        "}\n",
        "\n",
        "Text: Google Pixel 7, 5G network, 8GB RAM, Tensor G2 processor, 128GB of storage, Lemongrass\n",
        "JSON:\n",
        "'''"
      ],
      "metadata": {
        "id": "bZCASYScoqXX"
      },
      "execution_count": 15,
      "outputs": []
    },
    {
      "cell_type": "code",
      "source": [
        "# Trouble Shooting process\n",
        "\n",
        "prompt = '''Answer the question using the text below. Respond with only the text provided.\n",
        "Question: What should I do to fix my disconnected wifi? The light on my Google Wifi router is yellow and blinking slowly.\n",
        "\n",
        "Text:\n",
        "Color: No light\n",
        "What it means: Router has no power or the light was dimmed in the app.\n",
        "What to do:\n",
        "Check that the power cable is properly connected to your router and to a working wall outlet.\n",
        "If your device is already set up and the light appears off, check your light brightness settings in the app.\n",
        "If there's still no light, contact Wifi customer support.\n",
        "\n",
        "Color: Solid white, no light, solid white\n",
        "What it means: Device is booting up.\n",
        "What to do:\n",
        "Wait for the device to boot up. This takes about a minute. When it's done, it will slowly pulse white, letting you know it's ready for setup.\n",
        "\n",
        "Color: Slow-pulsing white\n",
        "What it means: Device is ready for set up.\n",
        "What to do:\n",
        "Use the Google Home app to set up your router.\n",
        "\n",
        "Color: Solid white\n",
        "What it means: Router is online and all is well.\n",
        "What to do:\n",
        "You're online. Enjoy!\n",
        "\n",
        "Color: Slowly pulsing yellow\n",
        "What it means: There is a network error.\n",
        "What to do:\n",
        "Check that the Ethernet cable is connected to both your router and your modem and both devices are turned on. You might need to unplug and plug in each device again.\n",
        "\n",
        "Color: Fast blinking yellow\n",
        "What it means: You are holding down the reset button and are factory resetting this device.\n",
        "What to do:\n",
        "If you keep holding down the reset button, after about 12 seconds, the light will turn solid yellow. Once it is solid yellow, let go of the factory reset button.\n",
        "\n",
        "Color: Solid yellow\n",
        "What it means: Router is factory resetting.\n",
        "What to do:\n",
        "This can take up to 10 minutes. When it's done, the device will reset itself and start pulsing white, letting you know it's ready for setup.\n",
        "Image Solid red light Solid red Something is wrong. Critical failure. Factory reset the router. If the light stays red, contact Wifi customer support.\n",
        "'''"
      ],
      "metadata": {
        "id": "qaxzoMU5oqR2"
      },
      "execution_count": null,
      "outputs": []
    },
    {
      "cell_type": "code",
      "source": [
        "### Contract Analysis\n",
        "\n",
        "prompt = '''Answer the question based on the context below. Extract the exact full sentence that contains the answer. If the question cannot be answered using the information provided answer with “I cannot find the governing law”\n",
        "\n",
        "Context: If a Party waives a breach of any provision of this Agreement this shall not operate as a waiver of a subsequent breach of that provision, or as a waiver of a breach of any other provision.\n",
        "21.8 Costs of each of the Parties 21.9 Each Party shall bear its own costs and expenses in connection with the preparation, negotiation, and execution of the Agreement.\n",
        "21.10 Third Party Rights A person who is not a party to this Agreement may not enforce any of its provisions under the Contracts (Rights of Third Parties) Act 1999.\n",
        "21.11 Counterparts / Execution of Agreement 21.12 This Agreement may be entered into by the Parties in any number of counterparts.\n",
        "Each counterpart shall, when executed and delivered, be regarded as an original, and all the counterparts shall together constitute one and the same instrument.\n",
        "This Agreement shall not take effect until it has been executed by both the Parties.\n",
        "This Agreement may be validly exchanged and delivered by fax. 21.13 Severability 21.13.1 If any Clause, or part of a Clause, of this Agreement,\n",
        "is found by any court or administrative body of competent jurisdiction to be illegal, invalid or unenforceable, and the provision in question is not of a fundamental nature to the Agreement as a whole,\n",
        "the legality, validity or enforceability of the remainder of this Agreement (including the remainder of the Clause or sub Clause which contains the relevant provision) shall not be affected.\n",
        "21.13.2 If the foregoing applies, the Parties shall use all reasonable endeavours to agree within a reasonable time upon any lawful and reasonable variations to the 18 Agreement which may be necessary\n",
        "in order to achieve, to the greatest extent possible, the same effect as would have been achieved by the Clause, or the part of the Clause, in question.\n",
        "22 GOVERNING LAW 22.1 This Agreement is governed by English law. 22.2 The Parties submit to the non-exclusive jurisdiction of the courts of England and Wales.\n",
        "This Agreement shall come into force on the date given at the beginning of this Agreement. 19 SIGNED by ) ) (name), )\n",
        "a duly authorised signatory of ) (signature) SHBV (HONG KONG) LTD ) SIGNED by ) ) (name), ) a duly authorised signatory of ) (signature) WASTE2ENERGY GROUP HOLDINGS PLC )\"\n",
        "\n",
        "Question: What is the governing law in this contract?\n",
        "Answer:'''"
      ],
      "metadata": {
        "id": "vvpG8iOcoqOQ"
      },
      "execution_count": null,
      "outputs": []
    },
    {
      "cell_type": "code",
      "source": [
        "# Structured Question Answering\n",
        "\n",
        "prompt = '''Background: There is evidence that there have been significant changes in Amazon rainforest vegetation over the last 21,000 years through the Last Glacial Maximum (LGM) and subsequent deglaciation. Analyses of sediment deposits from Amazon basin paleo lakes and from the Amazon Fan indicate that rainfall in the basin during the LGM was lower than for the present, and this was almost certainly associated with reduced moist tropical vegetation cover in the basin. There is debate, however, over how extensive this reduction was. Some scientists argue that the rainforest was reduced to small, isolated refugia separated by open forest and grassland; other scientists argue that the rainforest remained largely intact but extended less far to the north, south, and east than is seen today. This debate has proved difficult to resolve because the practical limitations of working in the rainforest mean that data sampling is biased away from the center of the Amazon basin, and both explanations are reasonably well supported by the available data.\n",
        "\n",
        "Q: What does LGM stands for?\n",
        "A: Last Glacial Maximum.\n",
        "\n",
        "Q: What did the analysis from the sediment deposits indicate?\n",
        "A: Rainfall in the basin during the LGM was lower than for the present.\n",
        "\n",
        "Q: What are some of scientists arguments?\n",
        "A: The rainforest was reduced to small, isolated refugia separated by open forest and grassland.\n",
        "\n",
        "Q: There have been major changes in Amazon rainforest vegetation over the last how many years?\n",
        "A: 21,000.\n",
        "\n",
        "Q: What caused changes in the Amazon rainforest vegetation?\n",
        "A: The Last Glacial Maximum (LGM) and subsequent deglaciation\n",
        "\n",
        "Q: What has been analyzed to compare Amazon rainfall in the past and present?\n",
        "A: Sediment deposits.\n",
        "\n",
        "Q: What has the lower rainfall in the Amazon during the LGM been attributed to?\n",
        "A:\n",
        "'''"
      ],
      "metadata": {
        "id": "AcS9FdlloqKV"
      },
      "execution_count": 16,
      "outputs": []
    },
    {
      "cell_type": "markdown",
      "source": [
        "## Writing All Freeform Prompts"
      ],
      "metadata": {
        "id": "Zol9T5X7pb8F"
      }
    },
    {
      "cell_type": "code",
      "source": [
        "## Marketing copy generation from spec\n",
        "\n",
        "prompt = \"\"\"Generate a marketing pitch from the product description below in 1 paragraph. Use only information from the provided text.\n",
        "\n",
        "The all-pro Google Pixel 7 phone.\n",
        "The most powerful Google Pixel yet.\n",
        "\n",
        "Explore the phone\n",
        "A refined design, made with recycled materials.\n",
        "Google Tensor G2 for even more power.\n",
        "Google’s pro-level camera system.\n",
        "Everyday moments made easier.\n",
        "Titan M2 helps keep you and your info safe.\n",
        "10-120Hz Smooth Display with LTPO\n",
        "6.7\" QHD+ display\n",
        "Pro-level triple rear camera system\n",
        "Polished enclosure made from 100% recycled aluminum\n",
        "\n",
        "View more\n",
        "Processor\n",
        "Google Tensor G2\n",
        "for even more power.\n",
        "Pixel’s newest powerful processor is custom built with Google AI and makes Pixel 7 Pro faster, more efficient, and more secure. And it delivers even more helpful features and the best photo and video quality yet.\n",
        "Learn more\n",
        "Photography and video\n",
        "Google’s pro-level camera system.\n",
        "From snowflakes to landscapes, the powerful triple camera system adds drama and detail to all your photos and videos.\n",
        "\n",
        "Triple rear camera system\n",
        "12 MP ultrawide lens\n",
        "50 MP wide lens\n",
        "48 MP telephoto lens\n",
        "See the specs and discover how the camera helps you capture the moment beautifully from virtually any distance.\n",
        "\n",
        "Super Res Zoom for crisp details from far away.\n",
        "With 30x Super Res Zoom (a Pixel 7 Pro exclusive), get high-quality photos from a distance.\n",
        "Macro Focus finds beauty in the details.\n",
        "Even your tiniest subjects look extraordinary – raindrops, rose petals, or a blade of grass.\n",
        "\n",
        "Pixel 7 Pro Exclusive\n",
        "\n",
        "Cinematic Blur adds more drama to your videos.\n",
        "Keep your subject in focus and blur the background for a dramatic effect.\n",
        "Photography and video\n",
        "Feel seen with Real Tone.\n",
        "Real Tone represents the nuances of more skin tones beautifully, authentically, and more accurately, even in low-light photography.\n",
        "Learn more\n",
        "Improve photos from any camera with Photo Unblur.\n",
        "Guided Frame makes selfies more accessible.\n",
        "\n",
        "Performance\n",
        "Helpful features, throughout your day.\n",
        "Pixel 7 Pro is helpful all around, with a long-lasting battery and so much more.\n",
        "What you need, when you need it.\n",
        "At a Glance shows you useful info at the right time, like weather alerts, a package delivery at the door, or an event reminder.\n",
        "Performance\n",
        "The new car keys.\n",
        "Ultra-Wideband technology measures range and direction, so you can use your phone as a key to unlock your car as you approach.\n",
        "The technology also enables Nearby Share, letting you share photos and files simply by pointing your phone.\n",
        "Translate languages in real time.\n",
        "Goodbye noise. Hello Clear Calling.\n",
        "A battery that lasts up to 72 hours.\n",
        "Protection\n",
        "The highest rating for security.\n",
        "Google’s certified Titan M2 chip is tested against some of the same rigorous protection guidelines trusted for identity, SIM cards, and bank card security chips.\n",
        "Built-in VPN for extra protection online.\n",
        "With a VPN by Google One built in, Pixel helps protect your online activity no matter what app or web browser you use.\n",
        "\n",
        "Protection\n",
        "Titan M2 helps keep you and your info safe.\n",
        "With Google Tensor G2 and the Titan M2 security chip, Pixel is built with multiple layers of hardware security to help keep your personal info safe.\n",
        "The Personal Safety app brings more peace of mind.\n",
        "Unlock with a glance or a tap.\n",
        "\n",
        "Best Phone of 2022\n",
        "\"Simply brilliant at everything it does\"\n",
        "\"Google's best phone ever\"\n",
        "\"Best smartphone camera!\"\n",
        "\"The best phones you can get for the money\"\"\""
      ],
      "metadata": {
        "id": "NP1ml4RJop_6"
      },
      "execution_count": 17,
      "outputs": []
    },
    {
      "cell_type": "code",
      "source": [
        "## Ad Copy Generation\n",
        "\n",
        "Prompt = \"\"\"For each of the following categories, create 3 one-sentence ad copies using the product description provided.\n",
        "\n",
        "Categories:\n",
        "- Scarcity\n",
        "- Loss-Aversion\n",
        "- Appeal to Ego\n",
        "- Exclusivity\n",
        "- Gain-Seeking\n",
        "- Luxury\n",
        "- Social Proof\n",
        "- Influencer Proof\n",
        "- Positive Association\n",
        "- Negative Association\n",
        "\n",
        "Product description: \"Chromecast is a device that allows users to wirelessly cast their content from other devices, so they can watch their favorite movies, TV shows, photos, websites, and more on their TV. Chromecast can display content from Android smartphones and tablets, iPhones & iPads, Windows and Mac laptops, and the Chromebook Pixel.\"\"\""
      ],
      "metadata": {
        "id": "ls0dQJJhpyyL"
      },
      "execution_count": 18,
      "outputs": []
    },
    {
      "cell_type": "code",
      "source": [
        "## Essay outline\n",
        "\n",
        "prompt = \"\"\"Create an outline for an essay about hummingbirds:\n",
        "*\n",
        "\"\"\""
      ],
      "metadata": {
        "id": "wdoYZMdYpytu"
      },
      "execution_count": null,
      "outputs": []
    },
    {
      "cell_type": "code",
      "source": [
        "## Correct Grammar\n",
        "\n",
        "prompt = \"\"\"The trees is happy today.\n",
        "\n",
        "Correct the grammar of this sentence:\n",
        "  \"\"\""
      ],
      "metadata": {
        "id": "sM45mcPwpyoQ"
      },
      "execution_count": 19,
      "outputs": []
    },
    {
      "cell_type": "code",
      "source": [
        "## Ad copy from description\n",
        "\n",
        "prompt = \"\"\"Write an ad copy for a part-time data entry job targeting college students. \n",
        "The job pays $15/hour and you can work from home.\n",
        "\"\"\""
      ],
      "metadata": {
        "id": "nBkFA0Nppyj4"
      },
      "execution_count": 20,
      "outputs": []
    },
    {
      "cell_type": "code",
      "source": [
        "## Write emails and letters\n",
        "\n",
        "prompt = \"\"\"Write a formal email asking Peter whether or not he has received the memo about the financial planning report that I send last week. \n",
        "If he has not, I can send him another copy of it.\"\"\""
      ],
      "metadata": {
        "id": "1VyTTDdjpyah"
      },
      "execution_count": 21,
      "outputs": []
    },
    {
      "cell_type": "markdown",
      "source": [
        "## Ideation\n"
      ],
      "metadata": {
        "id": "7rl5ycPPqZa5"
      }
    },
    {
      "cell_type": "code",
      "source": [
        "## Reading comprehension test\n",
        "\n",
        "\n",
        "prompt = \"\"\"Generate 5 questions that test reader comprehension of the following text.\n",
        "\n",
        "Text:\n",
        "The Amazon rainforest, also called Amazon jungle or Amazonia, is a moist broadleaf tropical rainforest in the Amazon biome that covers most of the Amazon basin of South America. This basin encompasses 7,000,000 km2 (2,700,000 sq mi), of which 5,500,000 km2 (2,100,000 sq mi) are covered by the rainforest. This region includes territory belonging to nine nations and 3,344 formally acknowledged indigenous territories.\n",
        "\n",
        "The majority of the forest, 60%, is in Brazil, followed by Peru with 13%, Colombia with 10%, and with minor amounts in Bolivia, Ecuador, French Guiana, Guyana, Suriname, and Venezuela. Four nations have \"Amazonas\" as the name of one of their first-level administrative regions, and France uses the name \"Guiana Amazonian Park\" for French Guiana's protected rainforest area. The Amazon represents over half of the planet's remaining rainforests, and comprises the largest and most biodiverse tract of tropical rainforest in the world, with an estimated 390 billion individual trees in about 16,000 species.\n",
        "\n",
        "More than 30 million people of 350 different ethnic groups live in the Amazon, which are subdivided into 9 different national political systems and 3,344 formally acknowledged indigenous territories. Indigenous peoples make up 9% of the total population, and 60 of the groups remain largely isolated.\n",
        "\n",
        "The rainforest likely formed during the Eocene era (from 56 million years to 33.9 million years ago). It appeared following a global reduction of tropical temperatures when the Atlantic Ocean had widened sufficiently to provide a warm, moist climate to the Amazon basin. The rainforest has been in existence for at least 55 million years, and most of the region remained free of savanna-type biomes at least until the current ice age when the climate was drier and savanna more widespread.\n",
        "\n",
        "Following the Cretaceous–Paleogene extinction event, the extinction of the dinosaurs and the wetter climate may have allowed the tropical rainforest to spread out across the continent. From 66 to 34 Mya, the rainforest extended as far south as 45°. Climate fluctuations during the last 34 million years have allowed savanna regions to expand into the tropics. During the Oligocene, for example, the rainforest spanned a relatively narrow band. It expanded again during the Middle Miocene, then retracted to a mostly inland formation at the last glacial maximum. However, the rainforest still managed to thrive during these glacial periods, allowing for the survival and evolution of a broad diversity of species.\n",
        "\n",
        "Aerial view of the Amazon rainforest\n",
        "During the mid-Eocene, it is believed that the drainage basin of the Amazon was split along the middle of the continent by the Púrus Arch. Water on the eastern side flowed toward the Atlantic, while to the west water flowed toward the Pacific across the Amazonas Basin. As the Andes Mountains rose, however, a large basin was created that enclosed a lake; now known as the Solimões Basin. Within the last 5–10 million years, this accumulating water broke through the Púrus Arch, joining the easterly flow toward the Atlantic.\n",
        "\n",
        "There is evidence that there have been significant changes in the Amazon rainforest vegetation over the last 21,000 years through the last glacial maximum (LGM) and subsequent deglaciation. Analyses of sediment deposits from Amazon basin paleolakes and the Amazon Fan indicate that rainfall in the basin during the LGM was lower than for the present, and this was almost certainly associated with reduced moist tropical vegetation cover in the basin. In present day, the Amazon receives approximately 9 feet of rainfall annually. There is a debate, however, over how extensive this reduction was. Some scientists argue that the rainforest was reduced to small, isolated refugia separated by open forest and grassland; other scientists argue that the rainforest remained largely intact but extended less far to the north, south, and east than is seen today. This debate has proved difficult to resolve because the practical limitations of working in the rainforest mean that data sampling is biased away from the center of the Amazon basin, and both explanations are reasonably well supported by the available data.\n",
        "\n",
        "Sahara Desert dust windblown to the Amazon\n",
        "More than 56% of the dust fertilizing the Amazon rainforest comes from the Bodélé depression in Northern Chad in the Sahara desert. The dust contains phosphorus, important for plant growth. The yearly Sahara dust replaces the equivalent amount of phosphorus washed away yearly in Amazon soil from rains and floods.\n",
        "\n",
        "NASA's CALIPSO satellite has measured the amount of dust transported by wind from the Sahara to the Amazon: an average of 182 million tons of dust are windblown out of the Sahara each year, at 15 degrees west longitude, across 2,600 km (1,600 mi) over the Atlantic Ocean (some dust falls into the Atlantic), then at 35 degrees West longitude at the eastern coast of South America, 27.7 million tons (15%) of dust fall over the Amazon basin (22 million tons of it consisting of phosphorus), 132 million tons of dust remain in the air, 43 million tons of dust are windblown and falls on the Caribbean Sea, past 75 degrees west longitude.\n",
        "\n",
        "CALIPSO uses a laser range finder to scan the Earth's atmosphere for the vertical distribution of dust and other aerosols. CALIPSO regularly tracks the Sahara-Amazon dust plume. CALIPSO has measured variations in the dust amounts transported – an 86 percent drop between the highest amount of dust transported in 2007 and the lowest in 2011.\n",
        "A possibility causing the variation is the Sahel, a strip of semi-arid land on the southern border of the Sahara. When rain amounts in the Sahel are higher, the volume of dust is lower. The higher rainfall could make more vegetation grow in the Sahel, leaving less sand exposed to winds to blow away.[25]\n",
        "\n",
        "Amazon phosphorus also comes as smoke due to biomass burning in Africa.\n",
        "\n",
        "Questions:\"\"\""
      ],
      "metadata": {
        "id": "wMPUe8mrpyVK"
      },
      "execution_count": null,
      "outputs": []
    },
    {
      "cell_type": "code",
      "source": [
        "## Generate Memes\n",
        "\n",
        "prompt = \"\"\"Give me some dog meme ideas:\"\"\""
      ],
      "metadata": {
        "id": "6JIIDRmiqpiN"
      },
      "execution_count": null,
      "outputs": []
    },
    {
      "cell_type": "code",
      "source": [
        "## Interview questions\n",
        "\n",
        "\n",
        "prompt = \"\"\"Give me ten interview questions for the role of program manager.\"\"\""
      ],
      "metadata": {
        "id": "w6Yi9UDNqpVk"
      },
      "execution_count": 22,
      "outputs": []
    },
    {
      "cell_type": "code",
      "source": [
        "##  Naming\n",
        "\n",
        "prompt = \"\"\"What's a good name for a flower shop that specializes in selling bouquets of dried flowers? Store name:\"\"\""
      ],
      "metadata": {
        "id": "6ka2nV4BqpM2"
      },
      "execution_count": 23,
      "outputs": []
    },
    {
      "cell_type": "code",
      "source": [
        "## Tips and Advice\n",
        "\n",
        "prompt = \"\"\" General tips and advice\"\"\""
      ],
      "metadata": {
        "id": "f5X-5SRfqpHh"
      },
      "execution_count": null,
      "outputs": []
    },
    {
      "cell_type": "code",
      "source": [],
      "metadata": {
        "id": "QTbjEcoPqo_2"
      },
      "execution_count": null,
      "outputs": []
    }
  ]
}