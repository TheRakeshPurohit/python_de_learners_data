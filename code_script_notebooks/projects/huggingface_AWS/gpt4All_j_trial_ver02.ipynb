{
  "nbformat": 4,
  "nbformat_minor": 0,
  "metadata": {
    "colab": {
      "provenance": []
    },
    "kernelspec": {
      "name": "python3",
      "display_name": "Python 3"
    },
    "language_info": {
      "name": "python"
    }
  },
  "cells": [
    {
      "cell_type": "code",
      "source": [
        "!pip install -qqq accelerate transformers huggingface_hub langchain==0.0.166 pygpt4all==1.1.0 chromadb==0.3.22 llama-cpp-python==0.1.48 urllib3==1.26.6 pdfminer.six==20221105 > /dev/null"
      ],
      "metadata": {
        "id": "pqUlynFMRs5F"
      },
      "execution_count": 3,
      "outputs": []
    },
    {
      "cell_type": "code",
      "source": [
        "!wget https://gpt4all.io/models/ggml-gpt4all-j-v1.3-groovy.bin"
      ],
      "metadata": {
        "id": "wFDXLyIbgvL1"
      },
      "execution_count": null,
      "outputs": []
    },
    {
      "cell_type": "code",
      "source": [
        "!wget https://huggingface.co/Pi3141/alpaca-native-7B-ggml/resolve/397e872bf4c83f4c642317a5bf65ce84a105786e/ggml-model-q4_0.bin"
      ],
      "metadata": {
        "id": "IUGXTfcEgvBy"
      },
      "execution_count": null,
      "outputs": []
    },
    {
      "cell_type": "code",
      "source": [
        "from langchain.chains import RetrievalQA\n",
        "from langchain.embeddings import LlamaCppEmbeddings\n",
        "from langchain.callbacks.streaming_stdout import StreamingStdOutCallbackHandler\n",
        "from langchain.vectorstores import Chroma\n",
        "from langchain.llms import GPT4All, LlamaCpp\n",
        "import os"
      ],
      "metadata": {
        "id": "X0KCmkl_gU9B"
      },
      "execution_count": 4,
      "outputs": []
    },
    {
      "cell_type": "code",
      "source": [
        " callbacks = [StreamingStdOutCallbackHandler()]"
      ],
      "metadata": {
        "id": "a7h1UDGciIsE"
      },
      "execution_count": 5,
      "outputs": []
    },
    {
      "cell_type": "code",
      "source": [
        " llm = GPT4All(model=\"/content/ggml-gpt4all-j-v1.3-groovy.bin\", \n",
        "               n_ctx=512, \n",
        "               backend='gptj', \n",
        "               callbacks=callbacks, \n",
        "               verbose=False)"
      ],
      "metadata": {
        "id": "deMs01A4hFvW"
      },
      "execution_count": 6,
      "outputs": []
    },
    {
      "cell_type": "code",
      "source": [
        "llm(\"Who landed on the moon on July 21 1969\")"
      ],
      "metadata": {
        "colab": {
          "base_uri": "https://localhost:8080/",
          "height": 53
        },
        "id": "Kb5lXsByhFrh",
        "outputId": "419a329f-3ba6-4370-d58e-1c1f45961031"
      },
      "execution_count": 11,
      "outputs": [
        {
          "output_type": "stream",
          "name": "stdout",
          "text": [
            "?\n",
            "The United States of America."
          ]
        },
        {
          "output_type": "execute_result",
          "data": {
            "text/plain": [
              "'?\\nThe United States of America.'"
            ],
            "application/vnd.google.colaboratory.intrinsic+json": {
              "type": "string"
            }
          },
          "metadata": {},
          "execution_count": 11
        }
      ]
    },
    {
      "cell_type": "code",
      "source": [
        "from langchain import PromptTemplate,  LLMChain\n",
        "\n",
        "template = \"\"\"Question: {question}\n",
        "\n",
        "Answer: Let's think step by step.\"\"\"\n",
        "prompt = PromptTemplate(template=template, \n",
        "                        input_variables=[\"question\"])"
      ],
      "metadata": {
        "id": "7WB1GwVDopM-"
      },
      "execution_count": 7,
      "outputs": []
    },
    {
      "cell_type": "code",
      "source": [
        "llm_chain = LLMChain(prompt=prompt, llm=llm)"
      ],
      "metadata": {
        "id": "6yJ_3UUMosXn"
      },
      "execution_count": 8,
      "outputs": []
    },
    {
      "cell_type": "code",
      "source": [
        "\n",
        "question = \"What is electroencephalography?\"\n",
        "\n",
        "print(llm_chain.run(question))"
      ],
      "metadata": {
        "id": "H3CK_O2yk_Ja"
      },
      "execution_count": null,
      "outputs": []
    },
    {
      "cell_type": "code",
      "source": [
        "from chromadb.config import Settings\n",
        "\n",
        "CHROMA_SETTINGS = Settings(\n",
        "        chroma_db_impl='duckdb+parquet',\n",
        "        persist_directory=\"chromadb\",\n",
        "        anonymized_telemetry=False\n",
        ")"
      ],
      "metadata": {
        "id": "R76chZkvO5zM"
      },
      "execution_count": 9,
      "outputs": []
    },
    {
      "cell_type": "code",
      "source": [
        "from transformers import AutoTokenizer, AutoModelForCausalLM\n",
        "\n",
        "tokenizer = AutoTokenizer.from_pretrained(\"nomic-ai/gpt4all-j\")"
      ],
      "metadata": {
        "id": "6DEmZpDZg3v3"
      },
      "execution_count": 7,
      "outputs": []
    },
    {
      "cell_type": "code",
      "source": [
        "from langchain.embeddings import LlamaCppEmbeddings\n",
        "llama = LlamaCppEmbeddings(model_path=\"/content/ggml-model-q4_0.bin\")\n"
      ],
      "metadata": {
        "id": "9pJsqla0oWo0"
      },
      "execution_count": null,
      "outputs": []
    },
    {
      "cell_type": "code",
      "source": [
        "embeddings = HuggingFaceEmbeddings(model_name=\"nomic-ai/gpt4all-j\")\n",
        "# Equivalent to SentenceTransformerEmbeddings(model_name=\"all-MiniLM-L6-v2\")"
      ],
      "metadata": {
        "id": "vTnS1ubClXoX"
      },
      "execution_count": null,
      "outputs": []
    },
    {
      "cell_type": "code",
      "source": [
        "db = Chroma(persist_directory=\"chromadb\", \n",
        "            embedding_function=tokenizer, \n",
        "            client_settings=CHROMA_SETTINGS)\n",
        "\n",
        "retriever = db.as_retriever()"
      ],
      "metadata": {
        "id": "Gx75oP2ZOj0Q"
      },
      "execution_count": null,
      "outputs": []
    },
    {
      "cell_type": "code",
      "source": [
        "from langchain.schema import Document\n",
        "\n",
        "docs = [\n",
        "    Document(page_content=\"A bunch of scientists bring back dinosaurs and mayhem breaks loose\", metadata={\"year\": 1993, \"rating\": 7.7, \"genre\": \"science fiction\",\"source\":\"local\"}),\n",
        "    Document(page_content=\"Leo DiCaprio gets lost in a dream within a dream within a dream within a ...\", metadata={\"year\": 2010, \"director\": \"Christopher Nolan\", \"rating\": 8.2,\"source\":\"local\"}),\n",
        "    Document(page_content=\"A psychologist / detective gets lost in a series of dreams within dreams within dreams and Inception reused the idea\", metadata={\"year\": 2006, \"director\": \"Satoshi Kon\", \"rating\": 8.6,\"source\":\"local\"}),\n",
        "    Document(page_content=\"A bunch of normal-sized women are supremely wholesome and some men pine after them\", metadata={\"year\": 2019, \"director\": \"Greta Gerwig\", \"rating\": 8.3,\"source\":\"local\"}),\n",
        "    Document(page_content=\"Toys come alive and have a blast doing so\", metadata={\"year\": 1995, \"genre\": \"animated\",\"source\":\"local\"}),\n",
        "    Document(page_content=\"Three men walk into the Zone, three men walk out of the Zone\", metadata={\"year\": 1979, \"rating\": 9.9, \"director\": \"Andrei Tarkovsky\", \"genre\": \"science fiction\", \"rating\": 9.9,\"source\":\"local\"})\n",
        "]"
      ],
      "metadata": {
        "id": "ClvIfJGZOjtp"
      },
      "execution_count": null,
      "outputs": []
    },
    {
      "cell_type": "code",
      "source": [
        "vectorstore = Chroma.from_documents(\n",
        "    docs, tokenizer\n",
        ")"
      ],
      "metadata": {
        "id": "wgv5zItqOjow"
      },
      "execution_count": 49,
      "outputs": []
    },
    {
      "cell_type": "code",
      "source": [
        "vectorstore.similarity_search(\"Movie on dinosaur\")"
      ],
      "metadata": {
        "colab": {
          "base_uri": "https://localhost:8080/"
        },
        "id": "QqDgdS3_QWcz",
        "outputId": "7c0ecc03-1b10-4f83-937c-bc105c234492"
      },
      "execution_count": 50,
      "outputs": [
        {
          "output_type": "execute_result",
          "data": {
            "text/plain": [
              "[Document(page_content='A bunch of normal-sized women are supremely wholesome and some men pine after them', metadata={'year': 2019, 'director': 'Greta Gerwig', 'rating': 8.3, 'source': 'local'}),\n",
              " Document(page_content='Leo DiCaprio gets lost in a dream within a dream within a dream within a ...', metadata={'year': 2010, 'director': 'Christopher Nolan', 'rating': 8.2, 'source': 'local'}),\n",
              " Document(page_content='A bunch of scientists bring back dinosaurs and mayhem breaks loose', metadata={'year': 1993, 'rating': 7.7, 'genre': 'science fiction', 'source': 'local'}),\n",
              " Document(page_content='Toys come alive and have a blast doing so', metadata={'year': 1995, 'genre': 'animated', 'source': 'local'})]"
            ]
          },
          "metadata": {},
          "execution_count": 50
        }
      ]
    },
    {
      "cell_type": "code",
      "source": [
        "from langchain.chains import RetrievalQAWithSourcesChain"
      ],
      "metadata": {
        "id": "2KZcRV-mTHL9"
      },
      "execution_count": 45,
      "outputs": []
    },
    {
      "cell_type": "code",
      "source": [
        "chain = RetrievalQAWithSourcesChain.from_chain_type(llm, \n",
        "                                                    chain_type=\"stuff\", \n",
        "                                                    retriever=vectorstore.as_retriever())"
      ],
      "metadata": {
        "id": "x9lxcBQSPtAf"
      },
      "execution_count": 51,
      "outputs": []
    },
    {
      "cell_type": "code",
      "source": [
        "chain({\"question\": \"What movie did dinosaur escape\"}, \n",
        "      return_only_outputs=True)"
      ],
      "metadata": {
        "id": "aI9dqgpxTo6I"
      },
      "execution_count": null,
      "outputs": []
    },
    {
      "cell_type": "code",
      "source": [
        "from langchain.agents import load_huggingface_tool\n",
        "\n",
        "tool = load_huggingface_tool(\"lysandre/hf-model-downloads\")\n",
        "\n",
        "print(f\"{tool.name}: {tool.description}\")"
      ],
      "metadata": {
        "id": "IjYL-0hkjAma"
      },
      "execution_count": null,
      "outputs": []
    },
    {
      "cell_type": "code",
      "source": [
        "tool.run(\"text-generation\")"
      ],
      "metadata": {
        "colab": {
          "base_uri": "https://localhost:8080/",
          "height": 36
        },
        "id": "RzP7vg_CjAqj",
        "outputId": "f47c4b4c-5d46-457e-fce3-d4e35b2758e0"
      },
      "execution_count": null,
      "outputs": [
        {
          "output_type": "execute_result",
          "data": {
            "text/plain": [
              "'gpt2'"
            ],
            "application/vnd.google.colaboratory.intrinsic+json": {
              "type": "string"
            }
          },
          "metadata": {},
          "execution_count": 4
        }
      ]
    },
    {
      "cell_type": "code",
      "source": [
        "tool_tg = load_huggingface_tool(\"huggingface-tools/text-download\")"
      ],
      "metadata": {
        "id": "OGhxsX7_jAuv"
      },
      "execution_count": null,
      "outputs": []
    },
    {
      "cell_type": "code",
      "source": [
        "tool_tg(\"https://python.langchain.com/en/latest/modules/models/llms/integrations/huggingface_pipelines.html\")"
      ],
      "metadata": {
        "id": "FOAvpYsrjAzS"
      },
      "execution_count": null,
      "outputs": []
    },
    {
      "cell_type": "code",
      "source": [
        "tool_classify = load_huggingface_tool(\"Sj8287/Sentiment_Classification\")"
      ],
      "metadata": {
        "id": "u5STWcOwqrZx"
      },
      "execution_count": null,
      "outputs": []
    }
  ]
}