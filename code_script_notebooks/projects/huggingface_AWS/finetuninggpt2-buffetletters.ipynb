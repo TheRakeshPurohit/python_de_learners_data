{
 "cells": [
  {
   "cell_type": "code",
   "execution_count": 1,
   "id": "c3a73c1f",
   "metadata": {
    "_cell_guid": "b1076dfc-b9ad-4769-8c92-a6c4dae69d19",
    "_uuid": "8f2839f25d086af736a60e9eeb907d3b93b6e0e5",
    "execution": {
     "iopub.execute_input": "2023-06-21T02:16:55.035308Z",
     "iopub.status.busy": "2023-06-21T02:16:55.034361Z",
     "iopub.status.idle": "2023-06-21T02:16:55.039971Z",
     "shell.execute_reply": "2023-06-21T02:16:55.038830Z"
    },
    "papermill": {
     "duration": 0.019863,
     "end_time": "2023-06-21T02:16:55.044452",
     "exception": false,
     "start_time": "2023-06-21T02:16:55.024589",
     "status": "completed"
    },
    "tags": []
   },
   "outputs": [],
   "source": [
    "# Notebook works on Warren Buffet letters to StockHolders till 2021 and creates \n",
    "# a model out of the text data"
   ]
  },
  {
   "cell_type": "code",
   "execution_count": 2,
   "id": "d95cd6d8",
   "metadata": {
    "execution": {
     "iopub.execute_input": "2023-06-21T02:16:55.062299Z",
     "iopub.status.busy": "2023-06-21T02:16:55.061457Z",
     "iopub.status.idle": "2023-06-21T02:17:18.441359Z",
     "shell.execute_reply": "2023-06-21T02:17:18.440234Z"
    },
    "papermill": {
     "duration": 23.391135,
     "end_time": "2023-06-21T02:17:18.443657",
     "exception": false,
     "start_time": "2023-06-21T02:16:55.052522",
     "status": "completed"
    },
    "tags": []
   },
   "outputs": [
    {
     "name": "stdout",
     "output_type": "stream",
     "text": [
      "\u001b[33mWARNING: Running pip as the 'root' user can result in broken permissions and conflicting behaviour with the system package manager. It is recommended to use a virtual environment instead: https://pip.pypa.io/warnings/venv\u001b[0m\u001b[33m\r\n",
      "\u001b[0m"
     ]
    }
   ],
   "source": [
    "!pip install transformers==4.28.0 accelerate langchain > /dev/null"
   ]
  },
  {
   "cell_type": "code",
   "execution_count": 3,
   "id": "ec12e10e",
   "metadata": {
    "execution": {
     "iopub.execute_input": "2023-06-21T02:17:18.461487Z",
     "iopub.status.busy": "2023-06-21T02:17:18.461178Z",
     "iopub.status.idle": "2023-06-21T02:17:18.476463Z",
     "shell.execute_reply": "2023-06-21T02:17:18.475617Z"
    },
    "papermill": {
     "duration": 0.026313,
     "end_time": "2023-06-21T02:17:18.478515",
     "exception": false,
     "start_time": "2023-06-21T02:17:18.452202",
     "status": "completed"
    },
    "tags": []
   },
   "outputs": [],
   "source": [
    "#creating dataset by reading the files\n",
    "\n",
    "import glob\n",
    "\n",
    "file_names = glob.glob(\"/kaggle/input/warren-buffet-letters-to-investors-1977-2021/Warren_buffet_letters/Warren_buffet_letters/Chairman Letter - *.txt\")"
   ]
  },
  {
   "cell_type": "code",
   "execution_count": 4,
   "id": "b82a44aa",
   "metadata": {
    "execution": {
     "iopub.execute_input": "2023-06-21T02:17:18.495274Z",
     "iopub.status.busy": "2023-06-21T02:17:18.494984Z",
     "iopub.status.idle": "2023-06-21T02:17:18.499816Z",
     "shell.execute_reply": "2023-06-21T02:17:18.498980Z"
    },
    "papermill": {
     "duration": 0.015642,
     "end_time": "2023-06-21T02:17:18.501874",
     "exception": false,
     "start_time": "2023-06-21T02:17:18.486232",
     "status": "completed"
    },
    "tags": []
   },
   "outputs": [
    {
     "name": "stdout",
     "output_type": "stream",
     "text": [
      "Number of files: 45\n"
     ]
    }
   ],
   "source": [
    "print(f\"Number of files: {len(file_names)}\")"
   ]
  },
  {
   "cell_type": "code",
   "execution_count": 5,
   "id": "2b4b7ddd",
   "metadata": {
    "collapsed": true,
    "execution": {
     "iopub.execute_input": "2023-06-21T02:17:18.518535Z",
     "iopub.status.busy": "2023-06-21T02:17:18.518265Z",
     "iopub.status.idle": "2023-06-21T02:17:18.721100Z",
     "shell.execute_reply": "2023-06-21T02:17:18.720201Z"
    },
    "jupyter": {
     "outputs_hidden": true
    },
    "papermill": {
     "duration": 0.213517,
     "end_time": "2023-06-21T02:17:18.723132",
     "exception": false,
     "start_time": "2023-06-21T02:17:18.509615",
     "status": "completed"
    },
    "tags": []
   },
   "outputs": [
    {
     "name": "stdout",
     "output_type": "stream",
     "text": [
      "try leg\n",
      "Except leg\n",
      "try leg\n",
      "try leg\n",
      "try leg\n",
      "try leg\n",
      "Except leg\n",
      "try leg\n",
      "try leg\n",
      "Except leg\n",
      "try leg\n",
      "try leg\n",
      "try leg\n",
      "try leg\n",
      "try leg\n",
      "Except leg\n",
      "try leg\n",
      "try leg\n",
      "Except leg\n",
      "try leg\n",
      "Except leg\n",
      "try leg\n",
      "Except leg\n",
      "try leg\n",
      "try leg\n",
      "try leg\n",
      "Except leg\n",
      "try leg\n",
      "try leg\n",
      "try leg\n",
      "Except leg\n",
      "try leg\n",
      "Except leg\n",
      "try leg\n",
      "Except leg\n",
      "try leg\n",
      "try leg\n",
      "try leg\n",
      "Except leg\n",
      "try leg\n",
      "Except leg\n",
      "try leg\n",
      "try leg\n",
      "try leg\n",
      "try leg\n",
      "try leg\n",
      "Except leg\n",
      "try leg\n",
      "try leg\n",
      "try leg\n",
      "Except leg\n",
      "try leg\n",
      "try leg\n",
      "Except leg\n",
      "try leg\n",
      "Except leg\n",
      "try leg\n",
      "Except leg\n",
      "try leg\n",
      "try leg\n",
      "Except leg\n",
      "try leg\n",
      "try leg\n",
      "try leg\n",
      "Except leg\n"
     ]
    }
   ],
   "source": [
    "text_snippets = []\n",
    "\n",
    "for file in file_names:\n",
    "    \n",
    "    #print(file)\n",
    "    \n",
    "    try:\n",
    "        print('try leg')\n",
    "        with open(file,'r',encoding='cp1252') as dat:\n",
    "            temp = dat.read()\n",
    "    except Exception as e:\n",
    "        print('Except leg')\n",
    "        with open(file,'r',encoding='utf-8') as dat:\n",
    "            temp = dat.read()\n",
    "        \n",
    "    text_snippets.append(temp)"
   ]
  },
  {
   "cell_type": "code",
   "execution_count": 6,
   "id": "401a7ad3",
   "metadata": {
    "execution": {
     "iopub.execute_input": "2023-06-21T02:17:18.741981Z",
     "iopub.status.busy": "2023-06-21T02:17:18.741670Z",
     "iopub.status.idle": "2023-06-21T02:17:33.464966Z",
     "shell.execute_reply": "2023-06-21T02:17:33.464074Z"
    },
    "papermill": {
     "duration": 14.735259,
     "end_time": "2023-06-21T02:17:33.467045",
     "exception": false,
     "start_time": "2023-06-21T02:17:18.731786",
     "status": "completed"
    },
    "tags": []
   },
   "outputs": [
    {
     "name": "stderr",
     "output_type": "stream",
     "text": [
      "/opt/conda/lib/python3.10/site-packages/tensorflow_io/python/ops/__init__.py:98: UserWarning: unable to load libtensorflow_io_plugins.so: unable to open file: libtensorflow_io_plugins.so, from paths: ['/opt/conda/lib/python3.10/site-packages/tensorflow_io/python/ops/libtensorflow_io_plugins.so']\n",
      "caused by: ['/opt/conda/lib/python3.10/site-packages/tensorflow_io/python/ops/libtensorflow_io_plugins.so: undefined symbol: _ZN3tsl6StatusC1EN10tensorflow5error4CodeESt17basic_string_viewIcSt11char_traitsIcEENS_14SourceLocationE']\n",
      "  warnings.warn(f\"unable to load libtensorflow_io_plugins.so: {e}\")\n",
      "/opt/conda/lib/python3.10/site-packages/tensorflow_io/python/ops/__init__.py:104: UserWarning: file system plugins are not loaded: unable to open file: libtensorflow_io.so, from paths: ['/opt/conda/lib/python3.10/site-packages/tensorflow_io/python/ops/libtensorflow_io.so']\n",
      "caused by: ['/opt/conda/lib/python3.10/site-packages/tensorflow_io/python/ops/libtensorflow_io.so: undefined symbol: _ZTVN10tensorflow13GcsFileSystemE']\n",
      "  warnings.warn(f\"file system plugins are not loaded: {e}\")\n"
     ]
    },
    {
     "data": {
      "text/plain": [
       "<torch._C.Generator at 0x78a1e1b390f0>"
      ]
     },
     "execution_count": 6,
     "metadata": {},
     "output_type": "execute_result"
    }
   ],
   "source": [
    "import gc\n",
    "import torch\n",
    "import pandas as pd\n",
    "from torch.utils.data import Dataset, random_split\n",
    "from transformers import GPT2Tokenizer, TrainingArguments, Trainer, GPT2LMHeadModel\n",
    "torch.manual_seed(42)"
   ]
  },
  {
   "cell_type": "code",
   "execution_count": 7,
   "id": "5bd2d5cc",
   "metadata": {
    "collapsed": true,
    "execution": {
     "iopub.execute_input": "2023-06-21T02:17:33.485670Z",
     "iopub.status.busy": "2023-06-21T02:17:33.485028Z",
     "iopub.status.idle": "2023-06-21T02:17:55.716126Z",
     "shell.execute_reply": "2023-06-21T02:17:55.715088Z"
    },
    "jupyter": {
     "outputs_hidden": true
    },
    "papermill": {
     "duration": 22.243462,
     "end_time": "2023-06-21T02:17:55.719102",
     "exception": false,
     "start_time": "2023-06-21T02:17:33.475640",
     "status": "completed"
    },
    "tags": []
   },
   "outputs": [
    {
     "data": {
      "application/vnd.jupyter.widget-view+json": {
       "model_id": "1cbef731ede642c29ef94803bd806631",
       "version_major": 2,
       "version_minor": 0
      },
      "text/plain": [
       "Downloading (…)olve/main/vocab.json:   0%|          | 0.00/1.04M [00:00<?, ?B/s]"
      ]
     },
     "metadata": {},
     "output_type": "display_data"
    },
    {
     "data": {
      "application/vnd.jupyter.widget-view+json": {
       "model_id": "c13ab105bb144b1284dae41662b6c29d",
       "version_major": 2,
       "version_minor": 0
      },
      "text/plain": [
       "Downloading (…)olve/main/merges.txt:   0%|          | 0.00/456k [00:00<?, ?B/s]"
      ]
     },
     "metadata": {},
     "output_type": "display_data"
    },
    {
     "data": {
      "application/vnd.jupyter.widget-view+json": {
       "model_id": "6ce4a5dfb0ce432aa7df3fc81198cf78",
       "version_major": 2,
       "version_minor": 0
      },
      "text/plain": [
       "Downloading (…)lve/main/config.json:   0%|          | 0.00/718 [00:00<?, ?B/s]"
      ]
     },
     "metadata": {},
     "output_type": "display_data"
    },
    {
     "name": "stderr",
     "output_type": "stream",
     "text": [
      "Special tokens have been added in the vocabulary, make sure the associated word embeddings are fine-tuned or trained.\n"
     ]
    },
    {
     "data": {
      "application/vnd.jupyter.widget-view+json": {
       "model_id": "8c45a684e8314d569e1d975d3c30cf2d",
       "version_major": 2,
       "version_minor": 0
      },
      "text/plain": [
       "Downloading model.safetensors:   0%|          | 0.00/1.52G [00:00<?, ?B/s]"
      ]
     },
     "metadata": {},
     "output_type": "display_data"
    },
    {
     "data": {
      "application/vnd.jupyter.widget-view+json": {
       "model_id": "9841217444cc4f718f61bfc747ca7361",
       "version_major": 2,
       "version_minor": 0
      },
      "text/plain": [
       "Downloading (…)neration_config.json:   0%|          | 0.00/124 [00:00<?, ?B/s]"
      ]
     },
     "metadata": {},
     "output_type": "display_data"
    }
   ],
   "source": [
    "tokenizer = GPT2Tokenizer.from_pretrained('gpt2-medium', \n",
    "                                          bos_token='<|startoftext|>', \n",
    "                                          eos_token='<|endoftext|>', \n",
    "                                          pad_token='<|pad|>')\n",
    "model = GPT2LMHeadModel.from_pretrained('gpt2-medium').cuda()"
   ]
  },
  {
   "cell_type": "code",
   "execution_count": 8,
   "id": "dadf3d57",
   "metadata": {
    "execution": {
     "iopub.execute_input": "2023-06-21T02:17:55.741748Z",
     "iopub.status.busy": "2023-06-21T02:17:55.741437Z",
     "iopub.status.idle": "2023-06-21T02:17:56.300538Z",
     "shell.execute_reply": "2023-06-21T02:17:56.299488Z"
    },
    "papermill": {
     "duration": 0.572565,
     "end_time": "2023-06-21T02:17:56.303138",
     "exception": false,
     "start_time": "2023-06-21T02:17:55.730573",
     "status": "completed"
    },
    "tags": []
   },
   "outputs": [
    {
     "data": {
      "text/plain": [
       "Embedding(50259, 1024)"
      ]
     },
     "execution_count": 8,
     "metadata": {},
     "output_type": "execute_result"
    }
   ],
   "source": [
    "model.resize_token_embeddings(len(tokenizer))"
   ]
  },
  {
   "cell_type": "code",
   "execution_count": 9,
   "id": "b8f6fce5",
   "metadata": {
    "execution": {
     "iopub.execute_input": "2023-06-21T02:17:56.323417Z",
     "iopub.status.busy": "2023-06-21T02:17:56.323104Z",
     "iopub.status.idle": "2023-06-21T02:17:56.878204Z",
     "shell.execute_reply": "2023-06-21T02:17:56.877300Z"
    },
    "papermill": {
     "duration": 0.56745,
     "end_time": "2023-06-21T02:17:56.880124",
     "exception": false,
     "start_time": "2023-06-21T02:17:56.312674",
     "status": "completed"
    },
    "tags": []
   },
   "outputs": [
    {
     "name": "stderr",
     "output_type": "stream",
     "text": [
      "Token indices sequence length is longer than the specified maximum sequence length for this model (32084 > 1024). Running this sequence through the model will result in indexing errors\n"
     ]
    },
    {
     "data": {
      "text/plain": [
       "32084"
      ]
     },
     "execution_count": 9,
     "metadata": {},
     "output_type": "execute_result"
    }
   ],
   "source": [
    "token_try = tokenizer.encode(text_snippets[0])\n",
    "\n",
    "len(token_try)"
   ]
  },
  {
   "cell_type": "markdown",
   "id": "955485a2",
   "metadata": {
    "papermill": {
     "duration": 0.009424,
     "end_time": "2023-06-21T02:17:56.899488",
     "exception": false,
     "start_time": "2023-06-21T02:17:56.890064",
     "status": "completed"
    },
    "tags": []
   },
   "source": [
    "The input text data is crossing the sequence length. Need to truncate the sentence to accomodate all the data."
   ]
  },
  {
   "cell_type": "code",
   "execution_count": 10,
   "id": "355791e8",
   "metadata": {
    "collapsed": true,
    "execution": {
     "iopub.execute_input": "2023-06-21T02:17:56.920284Z",
     "iopub.status.busy": "2023-06-21T02:17:56.919478Z",
     "iopub.status.idle": "2023-06-21T02:17:57.114657Z",
     "shell.execute_reply": "2023-06-21T02:17:57.113824Z"
    },
    "jupyter": {
     "outputs_hidden": true
    },
    "papermill": {
     "duration": 0.212491,
     "end_time": "2023-06-21T02:17:57.121526",
     "exception": false,
     "start_time": "2023-06-21T02:17:56.909035",
     "status": "completed"
    },
    "tags": []
   },
   "outputs": [
    {
     "data": {
      "text/plain": [
       "'Berkshire’s Performance vs. the S&P 500\\nAnnual Percentage Change\\nYear in Per-ShareBook Value ofBerkshirein Per-ShareMarket Value ofBerkshire in S&P 500with DividendsIncluded\\n1965...................................................................... 23.8 49.5 10.0 1966...................................................................... 20.3 (3.4) (11.7) 1967...................................................................... 11.0 13.3 30.9 1968...................................................................... 19.0 77.8 11.0 1969...................................................................... 16.2 19.4 (8.4) 1970...................................................................... 12.0 (4.6) 3.9 1971...................................................................... 16.4 80.5 14.6 1972...................................................................... 21.7 8.1 18.9 1973...................................................................... 4. 7 (2.5) (14.8) 1974...................................................................... 5. 5 (48.7) (26.4) 1975...................................................................... 21.9 2.5 37.2 1976...................................................................... 59.3 129.3 23.6 1977...................................................................... 31.9 46.8 (7.4) 1978...................................................................... 24.0 14.5 6.4 1979...................................................................... 35.7 102.5 18.2 1980...................................................................... 19.3 32.8 32.3 1981...................................................................... 31.4 31.8 (5.0) 1982...................................................................... 40.0 38.4 21.4 1983...................................................................... 32.3 69.0 22.4 1984...................................................................... 13.6 (2.7) 6.1 1985...................................................................... 48.2 93.7 31.6 1986...................................................................... 26.1 14.2 18.6 1987...................................................................... 19.5 4.6 5.1 1988...................................................................... 20.1 59.3 16.6 1989...................................................................... 44.4 84.6 31.7 1990...................................................................... 7. 4 (23.1) (3.1) 1991...................................................................... 39.6 35.6 30.5 1992...................................................................... 20.3 29.8 7.6 1993...................................................................... 14.3 38.9 10.1 1994...................................................................... 13.9 25.0 1.3 1995...................................................................... 43.1 57.4 37.6 1996...................................................................... 31.8 6.2 23.0 1997...................................................................... 34.1 34.9 33.4 1998......................................................................\\n48.3 52.2 28.6 1999...................................................................... 0. 5 (19.9) 21.0 2000...................................................................... 6. 5 26.6 (9.1) 2001...................................................................... (6.2) 6.5 (11.9) 2002...................................................................... 10.0 (3.8) (22.1) 2003...................................................................... 21.0 15.8 28.7 2004...................................................................... 10.5 4.3 10.9 2005...................................................................... 6. 4 0. 8 4. 92006...................................................................... 18.4 24.1 15.8 2007...................................................................... 11.0 28.7 5.5 2008...................................................................... (9.6) (31.8) (37.0) 2009...................................................................... 19.8 2.7 26.5 2010...................................................................... 13.0 21.4 15.1 2011...................................................................... 4. 6 (4.7) 2.1 2012...................................................................... 14.4 16.8 16.0 2013...................................................................... 18.2 32.7 32.4 2014...................................................................... 8. 3 27.0 13.7 Compounded Annual Gain – 1965-2014................................... 19.4% 21.6% 9.9% Overall Gain – 1964-2014................................................. 751,113% 1,826,163% 11,196% Notes:Data are for calendar years with these exceptions: 1965 and 1966, year ended 9/30; 1967, 15 months ended 12/31. Starting in 1979,accounting rules required insurance companies to value the equity securities they hold at market rather than at the lower of cost or market, which waspreviously the requirement. In this table, Berkshire’s results through 1978 have been restated to conform to the changed rules. In all other respects, the results are calculated using the numbers originally reported. The S&P 500 numbers are pre-taxwhereas the Berkshire numbers areafter-tax.I fa corporation such as Berkshire were simply to have owned the S&P 500 and accrued the appropriate taxes, its results would have lagged the S&P 500in years when that index showed a positive return, but would have exceeded the S&P 500 in years when the index showed a negative return. Over theyears, the tax costs would have caused the aggregate lag to be substantial.\\n2A note to readers: Fifty years ago, today’s management took charge at Berkshire. For this Golden Anniversary,Warren Buffett and Charlie Munger each wrote his views of what has happened at Berkshire during the past 50years and what each expects during the next 50. Neither changed a word of his commentary after reading what theother had written. Warren’s thoughts begin on page 24 and Charlie’s on page 39. Shareholders, particularly newones, may find it useful to read those letters before reading the report on 2014, which begins below.\\nBERKSHIRE HATHAWAY INC.To the Shareholders of Berkshire Hathaway Inc.:Berkshire’s gain in net worth during 2014 was $18.3 billion, which increased the per-share book value ofboth our Class A and Class B stock by 8.3%. Over the last 50 years (that is, since present management took over),per-share book value has grown from $19 to $146,186, a rate of 19.4% compounded annually.*During our tenure, we have consistently compared the yearly performance of the S&P 500 to the change inBerkshire’s per-share book value. We’ve done that because book value has been a crude, but useful, tracking device for the number that really counts: intrinsic business value.In our early decades, the relationship between book value and intrinsic value was much closer than it isnow. That was true because Berkshire’s assets were then largely securities whose values were continuously restatedto reflect their current market prices. In Wall Street parlance, most of the assets involved in the calculation of bookvalue were “marked to market.”Today, our emphasis has shifted in a major way to owning and operating large businesses. Many of theseare worth far more than their cost-based carrying value. But that amount is neverrevalued upward no matter how much the value of these companies has increased. Consequently, the gap between Berkshire’s intrinsic value and itsbook value has materially widened.With that in mind, we have added a new set of data – the historical record of Berkshire’s stock price – tothe performance table on the facing page. Market prices, let me stress, have their limitations in the short term.Monthly or yearly movements of stocks are often erratic and not indicative of changes in intrinsic value. Over time,however, stock prices and intrinsic value almost invariably converge. Charlie Munger, Berkshire Vice Chairmanand my partner, and I believe that has been true at Berkshire: In our view, the increase in Berkshire’s per-shareintrinsic value over the past 50 years is roughly equal to the 1,826,163% gain in market price of the company’sshares.\\n* All per-share figures used in this report apply to Berkshire’s A shares. Figures for the B shares are 1/1500thof those shown for A.3The Year at BerkshireIt was a good year for Berkshire on all major fronts, except one. Here are the important developments:\\n‹Our “Powerhouse Five” – a collection of Berkshire’s largest non-insurance businesses – had a record $12.4billion of pre-tax earnings in 2014, up $1.6 billion from 2013.* The companies in this sainted group areBerkshire Hathaway Energy (formerly MidAmerican Energy), BNSF, IMC (I’ve called it Iscar in the past),Lubrizol and Marmon.Of the five, only Berkshire Hathaway Energy, then earning $393 million, was owned by us a decade ago.Subsequently we purchased another three of the five on an all-cash basis. In acquiring the fifth, BNSF, wepaid about 70% of the cost in cash and, for the remainder, issued Berkshire shares that increased thenumber outstanding by 6.1%. In other words, the $12 billion gain in annual earnings delivered Berkshire bythe five companies over the ten-year span has been accompanied by only minor dilution. That satisfies ourgoal of not simply increasing earnings, but making sure we also increase per-shareresults. If the U.S. economy continues to improve in 2015, we expect earnings of our Powerhouse Five to improveas well. The gain could reach $1 billion, in part because of bolt-on acquisitions by the group that havealready closed or are under contract.\\n‹Our bad news from 2014 comes from our group of five as well and is unrelated to earnings. During theyear, BNSF disappointed many of its customers. These shippers depend on us, and service failures canbadly hurt their businesses.BNSF is, by far, Berkshire’s most important non-insurance subsidiary and, to improve its performance, wewill spend $6 billion on plant and equipment in 2015. That sum is nearly 50% more than any other railroadhas spent in a single year and is a truly extraordinary amount, whether compared to revenues, earnings ordepreciation charges.Though weather, which was particularly severe last year, will always cause railroads a variety of operatingproblems, our responsibility is to dowhatever it takesto restore our service to industry-leading levels. That can’t be done overnight: The extensive work required to increase system capacity sometimes disruptsoperations while it is underway. Recently, however, our outsized expenditures are beginning to showresults. During the last three months, BNSF’s performance metrics have materially improved from lastyear’s figures.\\n‹Our many dozens of smaller non-insurance businesses earned $5.1 billion last year, up from $4.7 billion in2013. Here, as with our Powerhouse Five, we expect further gains in 2015. Within this group, we have twocompanies that last year earned between $400 million and $600 million, six that earned between $250million and $400 million, and seven that earned between $100 million and $250 million. This collection ofbusinesses will increase in both number and earnings. Our ambitions have no finish line.\\n‹Berkshire’s huge and growing insurance operation again operated at an underwriting profit in 2014 – thatmakes 12 years in a row – and increased its float. During that 12-year stretch, our float – money thatdoesn’t belong to us but that we can invest for Berkshire’s benefit – has grown from $41 billion to $84billion. Though neither that gain nor the size of our float is reflected in Berkshire’s earnings, floatgenerates significant investment income because of the assets it allows us to hold.* Throughout this letter, as well as in the “Golden Anniversary” letters included later in this report, all earnings arestated on a pre-tax basis unless otherwise designated.4Meanwhile, our underwriting profit totaled $24 billion during the twelve-year period, including $2.7 billionearned in 2014. And all of this began with our 1967 purchase of National Indemnity for $8.6 million.\\n‹While Charlie and I search for new businesses to buy, our many subsidiaries are regularly making bolt-onacquisitions. Last year was particularly fruitful: We contracted for 31 bolt-ons, scheduled to cost $7.8billion in aggregate. The size of these transactions ranged from $400,000 to $2.9 billion. However, thelargest acquisition, Duracell, will not close until the second half of this year. It will then be placed underMarmon’s jurisdiction.Charlie and I encourage bolt-ons,ifthey are sensibly-priced. (Most deals offered us aren’t.) They deploycapital in activities that fit with our existing businesses and that will be managed by our corps of expertmanagers. This means no more work for us, yet more earnings, a combination we find particularlyappealing. We will make many more of these bolt-on deals in future years.\\n‹Two years ago my friend, Jorge Paulo Lemann, asked Berkshire to join his 3G Capital group in theacquisition of Heinz. My affirmative response was a no-brainer: I knew immediately that this partnershipwould work well from both a personal and financial standpoint. And it most definitely has.I’m not embarrassed to admit that Heinz is run far better under Alex Behring, Chairman, and BernardoHees, CEO, than would be the case if I were in charge. They hold themselves to extraordinarily highperformance standards and are never satisfied, even when their results far exceed those of competitors.We expect to partner with 3G in more activities. Sometimes our participation will only involve a financingrole, as was the case in the recent acquisition of Tim Hortons by Burger King. Our favored arrangement,however, will usually be to link up as apermanentequity partner (who, in some cases, contributes to the financing of the deal as well). Whatever the structure, we feel good when working with Jorge Paulo.Berkshire also has fine partnerships with Mars and Leucadia, and we may form new ones with them or withother partners. Our participation in any joint activities, whether as a financing or equity partner, will belimited to friendly transactions.\\n‹In October, we contracted to buy Van Tuyl Automotive, a group of 78 automobile dealerships that isexceptionally well-run. Larry Van Tuyl, the company’s owner, and I met some years ago. He then decidedthat if he were ever to sell his company, its home should be Berkshire. Our purchase was recentlycompleted, and we are now “car guys.”Larry and his dad, Cecil, spent 62 years building the group, following a strategy that made owner-partnersof all local managers. Creating this mutuality of interests proved over and over to be a winner. Van Tuyl isnow the fifth-largest automotive group in the country, with per-dealership sales figures that areoutstanding.In recent years, Jeff Rachor has worked alongside Larry, a successful arrangement that will continue. Thereare about 17,000 dealerships in the country, and ownership transfers always require approval by therelevant auto manufacturer. Berkshire’s job is to perform in a manner that will cause manufacturers towelcome further purchases by us. If we do this – and if we can buy dealerships at sensible prices – we willbuild a business that before long will be multiples the size of Van Tuyl’s $9 billion of sales.With the acquisition of Van Tuyl, Berkshire now owns 9\\n1⁄2companies that would be listed on the Fortune 500 were they independent (Heinz is the\\n1⁄2). That leaves 4901⁄2fish in the sea. Our lines are out.\\n5‹Our subsidiaries spent a record $15 billion on plant and equipment during 2014, well over twice theirdepreciation charges. About 90% of that money was spent in the United States. Though we will alwaysinvest abroad as well, the mother lode of opportunities runs through America. The treasures that have beenuncovered up to now are dwarfed by those still untapped. Through dumb luck, Charlie and I were born inthe United States, and we are forever grateful for the staggering advantages this accident of birth has givenus.\\n‹Berkshire’s yearend employees – including those at Heinz – totaled a record 340,499, up 9,754 from lastyear. The increase, I am proud to say, included no gain at headquarters (where 25 people work). No sensegoing crazy.\\n‹Berkshire increased its ownership interest last year in each of its “Big Four” investments – AmericanExpress, Coca-Cola, IBM and Wells Fargo. We purchased additional shares of IBM (increasing ourownership to 7.8% versus 6.3% at yearend 2013). Meanwhile, stock repurchases at Coca-Cola, AmericanExpress and Wells Fargo raised our percentage ownership of each. Our equity in Coca-Cola grew from9.1% to 9.2%, our interest in American Express increased from 14.2% to 14.8% and our ownership ofWells Fargo grew from 9.2% to 9.4%. And, if you think tenths of a percent aren’t important, ponder thismath: For the four companies in aggregate, each increase of one-tenth of a percent in our ownership raisesBerkshire’s portion of their annual earnings by $50 million.These four investees possess excellent businesses and are run by managers who are both talented andshareholder-oriented. At Berkshire, we much prefer owning a non-controlling but substantial portion of awonderful company to owning 100% of a so-so business. It’s better to have a partial interest in the HopeDiamond than to own all of a rhinestone.If Berkshire’s yearend holdings are used as the marker, our portion of the “Big Four’s” 2014 earningsbefore discontinued operations amounted to $4.7 billion (compared to $3.3 billion only three years ago). Inthe earnings we report to you, however, we include only the dividends we receive – about $1.6 billion lastyear. (Again, three years ago the dividends were $862 million.) But make no mistake: The $3.1 billion ofthese companies’ earnings we don’t report are every bit as valuable to us as the portion Berkshire records.The earnings these investees retain are often used for repurchases of their own stock – a move thatenhances Berkshire’s share of future earnings without requiring us to lay out a dime. Their retainedearnings also fund business opportunities that usually turn out to be advantageous. All that leads us toexpect that the per-share earnings of these four investees, in aggregate, will grow substantially over time(though 2015 will be a tough year for the group, in part because of the strong dollar). If the expected gainsmaterialize, dividends to Berkshire will increase and, even more important, so will our unrealized capitalgains. (For the package of four, our unrealized gains already totaled $42 billion at yearend.)Our flexibility in capital allocation – our willingness to invest large sums passively in non-controlledbusinesses – gives us a significant advantage over companies that limit themselves to acquisitions they canoperate. Our appetite foreitheroperating businesses or passive investments doubles our chances of findingsensible uses for Berkshire’s endless gusher of cash.\\n‹I’ve mentioned in the past that my experience in business helps me as an investor and that my investmentexperience has made me a better businessman. Each pursuit teaches lessons that are applicable to the other.And some truths can only be fully learned through experience. (In Fred Schwed’s wonderful book, Where Are the Customers’ Yachts?, a Peter Arno cartoon depicts a puzzled Adam looking at an eager Eve, while acaption says, “There are certain things that cannot be adequately explained to a virgin either by words orpictures.” If you haven’t read Schwed’s book, buy a copy at our annual meeting. Its wisdom and humor aretruly priceless.)\\n6Among Arno’s “certain things,” I would include two separate skills, the evaluation of investments and themanagement of businesses. I therefore think it’s worthwhile for Todd Combs and Ted Weschler, our twoinvestment managers, to each have oversight of at least one of our businesses. A sensible opportunity forthem to do so opened up a few months ago when we agreed to purchase two companies that, thoughsmaller than we would normally acquire, have excellent economic characteristics. Combined, the two earn$100 million annually on about $125 million of net tangible assets.I’ve asked Todd and Ted to each take on one as Chairman, in which role they will function in the verylimited way that I do with our larger subsidiaries. This arrangement will save me a minor amount of workand, more important, make the two of them even better investors than they already are (which is to sayamong the best).************Late in 2009, amidst the gloom of the Great Recession, we agreed to buy BNSF, the largest purchase inBerkshire’s history. At the time, I called the transaction an “all-in wager on the economic future of the UnitedStates.”That kind of commitment was nothing new for us. We’ve been making similar wagers ever since BuffettPartnership Ltd. acquired control of Berkshire in 1965. For good reason, too: Charlie and I have always considered a“bet” on ever-rising U.S. prosperity to be very close to a sure thing.Indeed, who has ever benefited during the past 238 years by betting againstAmerica? If you compare our country’s present condition to that existing in 1776, you have to rub your eyes in wonder. In my lifetime alone, real per-capita U.S. output hassextupled. My parents could not have dreamed in 1930 of the world their son would see.Though the preachers of pessimism prattle endlessly about America’s problems, I’ve never seen one who wishes toemigrate (though I can think of a few for whom I would happily buy a one-way ticket).The dynamism embedded in our market economy will continue to work its magic. Gains won’t come in asmooth or uninterrupted manner; they never have. And we will regularly grumble about our government. But, mostassuredly, America’s best days lie ahead.With this tailwind working for us, Charlie and I hope to build Berkshire’s per-share intrinsic value by(1) constantly improving the basic earning power of our many subsidiaries; (2) further increasing their earningsthrough bolt-on acquisitions; (3) benefiting from the growth of our investees; (4) repurchasing Berkshire shareswhen they are available at a meaningful discount from intrinsic value; and (5) making an occasional largeacquisition. We will also try to maximize results for youby rarely, if ever, issuing Berkshire shares.Those building blocks rest on a rock-solid foundation. A century hence, BNSF and Berkshire HathawayEnergy will still be playing vital roles in our economy. Homes and autos will remain central to the lives of mostfamilies. Insurance will continue to be essential for both businesses and individuals. Looking ahead, Charlie and Isee a world made to order for Berkshire. We feel fortunate to be entrusted with its management.Intrinsic Business ValueAs much as Charlie and I talk about intrinsic business value, we cannot tell you precisely what thatnumber is for Berkshire shares (nor, in fact, for any other stock). In our 2010 annual report, however, we laid out thethree elements – one of them qualitative – that we believe are the keys to a sensible estimate of Berkshire’s intrinsicvalue. That discussion is reproduced in full on pages 123-124.Here is an update of the two quantitative factors: In 2014 our per-share investments increased 8.4% to$140,123, and our earnings from businesses other than insurance and investments increased 19% to $10,847 pershare.\\n7Since 1970, our per-share investments have increased at a rate of 19% compounded annually, and ourearnings figure has grown at a 20.6% clip. It is no coincidence that the price of Berkshire stock over the ensuing 44years has increased at a rate very similar to that of our two measures of value. Charlie and I like to see gains in bothsectors, but our main focus is to build operating earnings. That’s why we were pleased to exchange our Phillips 66and Graham Holdings stock for operating businesses last year and to contract with Procter and Gamble to acquireDuracell by means of a similar exchange set to close in 2015.************Now, let’s examine the four major sectors of our operations. Each has vastly different balance sheet andincome characteristics from the others. So we’ll present them as four separate businesses, which is how Charlie andI view them (though there are important andenduringadvantages to having them all under one roof). Our goal is to provide you with the information we would wish to have if our positions were reversed, with you being thereporting manager and we the absentee shareholders. (But don’t get any ideas!)InsuranceLet’s look first at insurance, Berkshire’s core operation. That industry has been the engine that haspropelled our expansion since 1967, when we acquired National Indemnity and its sister company, National Fire &Marine, for $8.6 million. Though that purchase had monumental consequences for Berkshire, its execution wassimplicity itself.Jack Ringwalt, a friend of mine who was the controlling shareholder of the two companies, came to myoffice saying he would like to sell. Fifteen minutes later, we had a deal. Neither of Jack’s companies had ever had anaudit by a public accounting firm, and I didn’t ask for one. My reasoning: (1) Jack was honest and (2) He was also abit quirky and likely to walk away if the deal became at all complicated.On pages 128-129, we reproduce the 1\\n1⁄2-page purchase agreement we used to finalize the transaction. That contract was homemade: Neither side used a lawyer. Per page, this has to be Berkshire’s best deal: NationalIndemnity today has GAAP (generally accepted accounting principles) net worth of $111 billion, which exceeds thatof any other insurer in the world.One reason we were attracted to the property-casualty business was its financial characteristics: P/Cinsurers receive premiums upfront and pay claims later. In extreme cases, such as those arising from certainworkers’ compensation accidents, payments can stretch over many decades. This collect-now, pay-later modelleaves P/C companies holding large sums – money we call “float” – that will eventually go to others. Meanwhile,insurers get to invest this float for their benefit. Though individual policies and claims come and go, the amount offloat an insurer holds usually remains fairly stable in relation to premium volume. Consequently, as our businessgrows, so does our float. Andhowwe have grown, as the following table shows:Year\\nFloat (in $ millions)\\n1970 $ 391980 2371990 1,6322000 27,8712010 65,8322014 83,921Further gains in float will be tough to achieve. On the plus side, GEICO and our new commercialinsurance operation are almost certain to grow at a good clip. National Indemnity’s reinsurance division, however, isparty to a number of run-off contracts whose float drifts downward. If we do in time experience a decline in float, itwill beverygradual – at the outside no more than 3% in any year. The nature of our insurance contracts is such thatwe canneverbe subject to immediate demands for sums that are large compared to our cash resources. This strengthis a key pillar in Berkshire’s economic fortress.8If our premiums exceed the total of our expenses and eventual losses, we register an underwriting profitthat adds to the investment income our float produces. When such a profit is earned, we enjoy the use of free money– and, better yet, getpaidfor holding it.Unfortunately, the wish of all insurers to achieve this happy result creates intense competition, sovigorous indeed that it frequently causes the P/C industry as a whole to operate at a significant underwriting loss. This loss, in effect, is what the industry pays to hold its float. Competitive dynamics almost guarantee that theinsurance industry, despite the float income all its companies enjoy, will continue its dismal record of earningsubnormal returns on tangible net worth as compared to other American businesses. The prolonged period of lowinterest rates our country is now dealing with causes earnings on float to decrease, thereby exacerbating the profitproblems of the industry.As noted in the first section of this report, Berkshire has now operated at an underwriting profit fortwelve consecutive years, our pre-tax gain for the period having totaled $24 billion. Looking ahead, I believe wewill continue to underwrite profitably in most years. Doing so is the daily focus of allof our insurance managers, who know that while float is valuable, its benefits can be drowned by poor underwriting results. That message isgiven at least lip service by all insurers; at Berkshire it is a religion.So how does our float affect intrinsic value? When Berkshire’s bookvalue is calculated, thefullamount of our float is deducted as aliability, just as if we had to pay it out tomorrow and could not replenish it. But to thinkof float as strictly a liability is incorrect; it should instead be viewed as a revolving fund. Daily, we pay old claimsand related expenses – a huge $22.7 billion to more than six million claimants in 2014 – and that reduces float. Justas surely, we each day write new business and thereby generate new claims that add to float.If our revolving float is both costless and long-enduring, which I believe it will be, the true value of thisliability isdramaticallyless than the accounting liability. Owing $1 that in effect will never leave the premises –because new business is almost certain to deliver a substitute – is worlds different from owing $1 that will go out thedoor tomorrow and not be replaced. The two types of liabilities are treated as equals, however, under GAAP.A partial offset to this overstated liability is a $15.5 billion “goodwill” asset that we incurred in buyingour insurance companies and that increases book value. In very large part, this goodwill represents the price we paidfor the float-generating capabilities of our insurance operations. The cost of the goodwill, however, has nobearing on its true value. For example, if an insurance company sustains large and prolonged underwriting losses, any goodwill asset carried on the books should be deemed valueless, whatever its original cost.Fortunately, that does not describe Berkshire. Charlie and I believe the true economic value of ourinsurance goodwill – what we would happily pay for float of similar qualitywere we to purchase an insurance operation possessing it – to befarin excess of its historic carrying value. Under present accounting rules (withwhich we agree) this excess value willneverbe entered on our books. But I can assure you that it’s real. That’s onereason – a huge reason – why we believe Berkshire’s intrinsic business value substantially exceeds its book value.************Berkshire’s attractive insurance economics exist only because we have some terrific managers runningdisciplined operations that possess hard-to-replicate business models. Let me tell you about the major units.First by float size is the Berkshire Hathaway Reinsurance Group, managed by Ajit Jain. Ajit insures risksthat no one else has the desire or the capital to take on. His operation combines capacity, speed, decisiveness and,most important, brains in a manner unique in the insurance business. Yet he never exposes Berkshire to risks thatare inappropriate in relation to our resources.\\n9Indeed, we arefarmore conservative in avoiding risk than most large insurers. For example, if theinsurance industry should experience a $250 billion loss from some mega-catastrophe – a loss about triple anythingit has ever experienced – Berkshire as a whole would likely record a significant profit for the year because of itsmany streams of earnings. We would also remain awash in cash and be looking for large opportunities in a marketthat might well have gone into shock. Meanwhile, other major insurers and reinsurers would be far in the red, if notfacing insolvency.Ajit’s underwriting skills are unmatched. His mind, moreover, is an idea factory that is always lookingfor more lines of business he can add to his current assortment. Last year I told you about his formation of BerkshireHathaway Specialty Insurance (“BHSI”). This initiative took us into commercial insurance, where we were instantlywelcomed by both major insurance brokers and corporate risk managers throughout America. Previously, we hadwritten only a few specialized lines of commercial insurance.BHSI is led by Peter Eastwood, an experienced underwriter who is widely respected in the insuranceworld. During 2014, Peter expanded his talented group, moving into both international business and new lines ofinsurance. We repeat last year’s prediction that BHSI will be a major asset for Berkshire, one that will generatevolume in the billions within a few years.************We have another reinsurance powerhouse in General Re, managed by Tad Montross.At bottom, a sound insurance operation needs to adhere to four disciplines. It must (1) understand all exposures that might cause a policy to incur losses; (2) conservatively assess the likelihood of any exposure actuallycausing a loss and the probable cost if it does; (3) set a premium that, on average, will deliver a profit after bothprospective loss costs and operating expenses are covered; and (4) be willing to walk away if the appropriatepremium can’t be obtained.Many insurers pass the first three tests and flunk the fourth. They simply can’t turn their back on businessthat is being eagerly written by their competitors. That old line, “The other guy is doing it, so we must as well,”spells trouble in any business, but in none more so than insurance.Tad has observed all four of the insurance commandments, and it shows in his results. General Re’s hugefloat has been considerably better than cost-free under his leadership, and we expect that, on average, to continue.We are particularly enthusiastic about General Re’s international life reinsurance business, which has grownconsistently and profitably since we acquired the company in 1998.It can be remembered that soon after we purchased General Re, it was beset by problems that causedcommentators – and me as well, briefly – to believe I had made a huge mistake. That day is long gone. General Reis now a gem.************Finally, there is GEICO, the insurer on which I cut my teeth 64 years ago. GEICO is managed by TonyNicely, who joined the company at 18 and completed 53 years of service in 2014. Tony became CEO in 1993, andsince then the company has been flying. There is nobetter manager than Tony.When I was first introduced to GEICO in January 1951, I was blown away by the huge cost advantage thecompany enjoyed compared to the expenses borne by the giants of the industry. It was clear to me that GEICOwould succeed because itdeservedto succeed. No onelikesto buy auto insurance. Almost everyone, though, likes to drive. The insurance consequently needed is a major expenditure for most families. Savings matter to them – andonlya low-cost operation can deliver these. Indeed, at least 40% of the people reading this letter can save money byinsuring with GEICO. So stop reading and go to geico.com or call 800-368-2734.10GEICO’s cost advantage is the factor that has enabled the company to gobble up market share year afteryear. (We ended 2014 at 10.8% compared to 2.5% in 1995, when Berkshire acquired control of GEICO.) Thecompany’s low costs create a moat – anenduringone – that competitors are unable to cross. Our gecko never tires of telling Americans how GEICO can save them important money. The gecko, I should add, has one particularlyendearing quality – he works without pay. Unlike a human spokesperson, he never gets a swelled head from hisfame nor does he have an agent to constantly remind us how valuable he is. I love the little guy.************In addition to our three major insurance operations, we own a group of smaller companies, most of themplying their trade in odd corners of the insurance world. In aggregate, these companies are a growing operation thatconsistently delivers an underwriting profit. Indeed, over the past decade, they have earned $2.95 billion fromunderwriting while growing their float from $1.7 billion to $8.6 billion. Charlie and I treasure these companies andtheir managers. Underwriting Profit\\nYearend Float\\n(in millions) Insurance Operations\\n2014 2013 2014 2013\\nBH Reinsurance.................................... $ 6 0 6 $1,294 $42,454 $37,231 General Re......................................... 2 7 7 2 8 3 19,280 20,013 GEICO............................................1,159 1,127 13,569 12,566 Other Primary...................................... 6 2 6 3 8 5 8,618 7,430\\n$2,668 $3,089 $83,921 $77,240\\n************Simply put, insurance is the sale of promises. The “customer” pays money now; the insurer promises topay money in the future should certain unwanted events occur.Sometimes, the promise will not be tested for decades. (Think of life insurance bought by people in their20s.) Therefore, both the ability and willingness of the insurer to pay, even if economic chaos prevails whenpayment time arrives, is all-important.Berkshire’s promises have no equal, a fact affirmed in recent years by certain of the world’s largest andmost sophisticated P/C insurers, who wished to shed themselves of huge and exceptionally long-lived liabilities.That is, these insurers wished to “cede” these liabilities – most of them potential losses from asbestos claims – to areinsurer. They needed the right one, though: If a reinsurer fails to pay a loss, the original insurer is still on the hookfor it. Choosing a reinsurer, therefore, that down the road proves to be financially strapped or a bad actor threatensthe original insurer with getting huge liabilities right back in its lap.Last year, our premier position in reinsurance was reaffirmed by our writing a policy carrying a $3 billionsingle premium. I believe that the policy’s size has only been exceeded by our 2007 transaction with Lloyd’s, inwhich the premium was $7.1 billion.In fact, I know of only eight P/C policies in history that had a single premium exceeding $1 billion. And,yes, all eight were written by Berkshire. Certain of these contracts will require us to make substantial payments 50years or more from now. When major insurers have needed an unquestionable promise that payments of this typewill be made, Berkshire has been the party – the onlyparty – to call.************Berkshire’s great managers, premier financial strength and a variety of business models protected bywide moats amount to something unique in the insurance world. This assemblage of strengths is a huge asset forBerkshire shareholders that will only get more valuable with time.11Regulated, Capital-Intensive BusinessesWe have two major operations, BNSF and Berkshire Hathaway Energy (“BHE”), that share importantcharacteristics distinguishing them from our other businesses. Consequently, we assign them their own section inthis letter and split out their combined financial statistics in our GAAP balance sheet and income statement.A key characteristic of both companies is their huge investment in very long-lived, regulated assets, withthese partially funded by large amounts of long-term debt that is notguaranteed by Berkshire. Our credit is in fact not needed because each company has earning power that even under terrible economic conditions will far exceedits interest requirements. Last year, for example, BNSF’s interest coverage was more than 8:1. (Our definition ofcoverage is pre-tax earnings/interest,notEBITDA/interest, a commonly used measure we view as seriously flawed.)At BHE, meanwhile, two factors ensure the company’s ability to service its debt under all circumstances.The first is common to all utilities: recession-resistant earnings, which result from these companies offering anessential service on an exclusive basis. The second is enjoyed by few other utilities: a great diversity of earningsstreams, which shield us from being seriously harmed by any single regulatory body. Recently, we have furtherbroadened that base through our $3 billion (Canadian) acquisition of AltaLink, an electric transmission systemserving 85% of Alberta’s population. This multitude of profit streams, supplemented by the inherent advantage ofbeing owned by a strong parent, has enabled BHE and its utility subsidiaries to significantly lower their cost of debt.This economic fact benefits both usandour customers.Every day, our two subsidiaries power the American economy in major ways:\\x81 BNSF carries about 15% (measured by ton-miles) of allinter-city freight, whether it is transported by truck, rail, water, air, or pipeline. Indeed, we move more ton-miles of goods than anyoneelse, a fact establishing BNSF as the most important artery in our economy’s circulatory system.BNSF, like all railroads, also moves its cargo in an extraordinarily fuel-efficient and environmentallyfriendly way, carrying a ton of freight about 500 miles on a single gallon of diesel fuel. Trucks taking onthe same job guzzle about four times as much fuel.\\x81 BHE’s utilities serve regulated retail customers in eleven states. No utility company stretches further. Inaddition, we are a leader in renewables: From a standing start ten years ago, BHE now accounts for 6% ofthe country’s wind generation capacity and 7% of its solar generation capacity. Beyond these businesses,BHE owns two large pipelines that deliver 8% of our country’s natural gas consumption; the recently-purchased electric transmission operation in Canada; and major electric businesses in the U.K. andPhilippines. And the beat goes on: We will continue to buy and build utility operations throughout theworld for decades to come.BHE can make these investments because it retains allof its earnings. In fact, last year the company retained more dollars of earnings – by far – than any other American electric utility. We and ourregulators see this 100% retention policy as an important advantage – one almost certain to distinguishBHE from other utilities for many years to come.When BHE completes certain renewables projects that are underway, the company’s renewables portfoliowill have cost $15 billion. In addition, we have conventional projects in the works that will also cost many billions.We relish making such commitments as long as they promise reasonable returns – and, on that front, we put a largeamount of trust in future regulation.Our confidence is justified both by our past experience and by the knowledge that society will foreverneed massive investments in both transportation and energy. It is in the self-interest of governments to treat capitalproviders in a manner that will ensure the continued flow of funds to essential projects. It is concomitantly in ourself-interest to conduct our operations in a way that earns the approval of our regulators and the people theyrepresent.12Last year we fully met this objective at BHE, just as we have in every year of our ownership. Our ratesremain low, our customer satisfaction is high and our record for employee safety is among the best in the industry.The story at BNSF, however – as I noted earlier – was not good in 2014, a year in which the railroaddisappointed many of its customers. This problem occurred despite the record capital expenditures that BNSF hasmade in recent years, with those having far exceeded the outlays made by Union Pacific, our principal competitor.The two railroads are of roughly equal size measured by revenues, though we carry considerably morefreight (measured either by carloads or ton-miles). But our service problems exceeded Union Pacific’s last year, andwe lost market share as a result. Moreover, U.P.’s earnings beat ours by a record amount. Clearly, we have a lot ofwork to do.We are wasting no time: As I also mentioned earlier, we will spend $6 billion in 2015 on improving ourrailroad’s operation. That will amount to about 26% of estimated revenues (a calculation that serves as theindustry’s yardstick). Outlays of this magnitude are largely unheard of among railroads. For us, this percentagecompares to our average of 18% in 2009-2013 and to U.P.’s projection for the near future of 16-17%. Our hugeinvestments will soon lead to a system with greater capacity and much better service. Improved profits shouldfollow.Here are the key figures for Berkshire Hathaway Energy and BNSF:Berkshire Hathaway Energy (89.9% owned)\\nEarnings (in millions)\\n2014 2013 2012\\nU.K. utilities................................................................ $ 5 2 7 $ 3 6 2 $ 4 2 9Iowa utility................................................................. 2 9 8 2 3 0 2 3 6Nevada utilities............................................................. 5 4 9 — —PacifiCorp (primarily Oregon and Utah).....................................1,010 982 737 Gas Pipelines (Northern Natural and Kern River)............................ 3 7 9 3 8 5 3 8 3 HomeServices.............................................................. 1 3 9 1 3 9 8 2Other (net).................................................................. 2 3 6 4 9 1\\nOperating earnings before corporate interest and taxes.......................3,138 2,102 1,958 Interest..................................................................... 4 2 7 2 9 6 3 1 4Income taxes................................................................ 6 1 6 1 7 0 1 7 2\\nNet earnings................................................................ $ 2,095 $ 1,636 $ 1,472\\nEarnings applicable to Berkshire............................................ $ 1,882 $ 1,470 $ 1,323\\nBNSF Earnings (in millions)\\n2014 2013 2012\\nRevenues................................................................... $23,239 $22,014 $20,835 Operating expenses......................................................... 16,237 15,357 14,835\\nOperating earnings before interest and taxes.................................7,002 6,657 6,000 Interest (net)................................................................ 8 3 3 7 2 9 6 2 3Income taxes................................................................ 2,300 2,135 2,005\\nNet earnings................................................................ $ 3,869 $ 3,793 $ 3,372\\n13Manufacturing, Service and Retailing OperationsOur activities in this part of Berkshire cover the waterfront. Let’s look, though, at a summary balance sheetand earnings statement for the entire group.Balance Sheet 12/31/14 (in millions)\\nAssets Liabilities and Equity\\nCash and equivalents...................... $5,765 Notes payable........................... $ 9 6 5 Accounts and notes receivable.............8,264 Other current liabilities.................9,734\\nInventory..................................10,236 Total current liabilities..................10,699 Other current assets.......................1,117\\nTotal current assets........................25,382Deferred taxes..........................3,801 Goodwill and other intangibles............28,107 Term debt and other liabilities...........4,269 Fixed assets...............................13,806 Non-controlling interests................ 4 9 2 Other assets...............................3,793 Berkshire equity........................51,827\\n$71,088 $71,088\\nEarnings Statement (in millions)\\n2014 2013* 2012*\\nRevenues.................................................................. $97,689 $93,472 $81,432 Operating expenses........................................................ 90,788 87,208 75,734 Interest expense............................................................ 1 0 9 1 0 4 1 1 2\\nPre-tax earnings............................................................ 6,792 6,160 5,586 Income taxes and non-controlling interests.................................2,324 2,283 2,229\\nNet earnings............................................................... $ 4,468 $ 3,877 $ 3,357\\n*Earnings for 2012 and 2013 have been restated to exclude Marmon’s leasing operations, which are now included inthe Finance and Financial Products section.Our income and expense data conforming to GAAP is on page 49. In contrast, the operating expensefigures above are non-GAAP and exclude some purchase-accounting items (primarily the amortization of certainintangible assets). We present the data in this manner because Charlie and I believe the adjusted numbers moreaccurately reflect the true economic expenses and profits of the businesses aggregated in the table than do GAAPfigures.I won’t explain all of the adjustments – some are tiny and arcane – but serious investors should understandthe disparate nature of intangible assets. Some truly deplete over time, while others in no waylose value. For software, as a big example, amortization charges are very real expenses. The concept of making charges againstother intangibles, such as the amortization of customer relationships, however, arises through purchase-accountingrules and clearly does not reflect reality. GAAP accounting draws no distinction between the two types of charges.Both, that is, are recorded as expenses when earnings are calculated – even though from an investor’s viewpointthey could not be more different.\\n14In the GAAP-compliant figures we show on page 49, amortization charges of $1.15 billion have beendeducted as expenses. We would call about 20% of these “real,” the rest not. The “non-real” charges, once non-existent at Berkshire, have become significant because of the many acquisitions we have made. Non-realamortization charges will almost certainly rise further as we acquire more companies.\\nThe GAAP-compliant table on page 67 gives you the current status of our intangible assets. We now have$7.4 billion left to amortize, of which $4.1 billion will be charged over the next five years. Eventually, of course,every dollar of non-real costs becomes entirely charged off. When that happens, reported earnings increase even iftrue earnings are flat.Depreciation charges, we want to emphasize, are different: Every dime of depreciation expense we reportis a real cost. That’s true, moreover, at most other companies. When CEOs tout EBITDA as a valuation guide, wirethem up for a polygraph test.Our public reports of earnings will, of course, continue to conform to GAAP. To embrace reality, however,you should remember to add back most of the amortization charges we report.************To get back to our many manufacturing, service and retailing operations, they sell products ranging fromlollipops to jet airplanes. Some of this sector’s businesses, measured by earnings on unleveraged net tangibleassets, enjoy terrific economics, producing profits that run from 25% after-tax to far more than 100%. Others generate goodreturns in the area of 12% to 20%. A few, however, have very poor returns, the result of some serious mistakes Imade in my job of capital allocation. I was not misled: I simply was wrong in my evaluation of the economicdynamics of the company or the industry in which it operates.Fortunately, my blunders normally involved relatively small acquisitions. Our large buys have generallyworked out well and, in a few cases, more than well. I have not, nonetheless, made my last mistake in purchasingeither businesses or stocks. Not everything works out as planned.Viewed as a single entity, the companies in this group are an excellent business. They employed an averageof $24 billion of net tangible assets during 2014 and, despite their holding large quantities of excess cash and usinglittle leverage, earned 18.7% after-tax on that capital.Of course, a business with terrific economics can be a bad investment if it is bought for too high a price. Wehave paid substantial premiums to net tangible assets for most of our businesses, a cost that is reflected in the largefigure we show for goodwill. Overall, however, we are getting a decent return on the capital we have deployed inthis sector. Furthermore, the intrinsic value of these businesses, in aggregate, exceeds their carrying value by a goodmargin, and that premium is likely to widen. Even so, the difference between intrinsic value and carrying value inboth the insurance and regulated-industry segments is fargreater. It is there that the truly big winners reside.************We have far too many companies in this group to comment on them individually. Moreover, theircompetitors – both current and potential – read this report. In a few of our businesses we might be disadvantaged ifothers knew our numbers. In some of our operations that are not of a size material to an evaluation of Berkshire,therefore, we only disclose what is required. You can find a good bit of detail about many of our operations,however, on pages 97-100.\\n15Finance and Financial ProductsThis year we include in this section Marmon’s very sizable leasing operations, whose wares are railcars,containers and cranes. We have also restated the previous two years to reflect that change. Why have we made it? Atone time there was a large minority ownership at Marmon, and I felt it was more understandable to include all of thecompany’s operations in one place. Today we own virtually 100% of Marmon, which makes me think you will gainmore insight into our various businesses if we include Marmon’s leasing operations under this heading. (The figuresfor the many dozens of Marmon’s other businesses remain in the previous section.)Our other leasing and rental operations are conducted by CORT (furniture) and XTRA (semi-trailers).These companies are industry leaders and have substantially increased their earnings as the American economy hasgained strength. Both companies have invested more money in new equipment than have many of their competitors,and that’s paying off.Kevin Clayton has again delivered an industry-leading performance at Clayton Homes, the largest homebuilder in America. Last year, Clayton sold 30,871 homes, about 45% of the manufactured homes bought byAmericans. When we purchased Clayton in 2003 for $1.7 billion, its share was 14%.Key to Clayton’s earnings is the company’s $13 billion mortgage portfolio. During the financial panic of2008 and 2009, when funding for the industry dried up, Clayton was able to keep lending because of Berkshire’sbacking. In fact, we continued during that period to finance our competitors’ retail sales as well as our own.Many of Clayton’s borrowers have low incomes and mediocre FICO scores. But thanks to the company’ssensible lending practices, its portfolio performed well during the recession, meaning a very high percentage of ourborrowers kept their homes. Our blue-collar borrowers, in many cases, proved much better credit risks than theirhigher-income brethren.At Marmon’s railroad-car operation, lease rates have improved substantially over the past few years. Thenature of this business, however, is that only 20% or so of our leases expire annually. Consequently, improvedpricing only gradually works its way into our revenue stream. The trend, though, is strong. Our 105,000-car fleetconsists largely of tank cars, but only 8% of those transport crude oil.One further fact about our rail operation is important for you to know: Unlike many other lessors, wemanufacture our own tank cars, about 6,000 of them in a good year. We do not book anyprofit when we transfer cars from our manufacturing division to our leasing division. Our fleet is consequently placed on our books at a“bargain” price. The difference between that figure and a “retail” price is only slowly reflected in our earningsthrough smaller annual depreciation charges that we enjoy over the 30-year life of the car. Because of that fact aswell as others, Marmon’s rail fleet is worth considerably more than the $5 billion figure at which it is carried on ourbooks.Here’s the earnings recap for this sector:2014\\n2013 2012\\n(in millions)\\nBerkadia (our 50% share)............. $ 1 2 2 $ 8 0 $ 3 5Clayton............................... 5 5 8 4 1 6 2 5 5CORT................................ 3 6 4 0 4 2Marmon – Containers and Cranes..... 2 3 8 2 2 6 2 4 6Marmon – Railcars.................... 4 4 2 3 5 3 2 9 9XTRA................................ 1 4 7 1 2 5 1 0 6Net financial income*................. 2 9 6 3 2 4 4 1 0\\n$ 1,839 $ 1,564 $ 1,393\\n* Excludes capital gains or losses16InvestmentsBelow we list our fifteen common stock investments that at yearend had the largest market value. 12/31/14\\nShares** CompanyPercentage ofCompany\\nOwnedCost* Market(in millions) 151,610,700 American Express Company.................14.8 $ 1,287 $ 14,106 400,000,000 The Coca-Cola Company.................... 9. 21,299 16,888 18,513,482 DaVita HealthCare Partners Inc.............. 8. 6 8 4 3 1,402 15,430,586 Deere & Company.......................... 4. 5 1,253 1,365 24,617,939 DIRECTV.................................. 4. 9 1,454 2,134 13,062,594 The Goldman Sachs Group, Inc.............. 3. 0 7 5 0 2,532 76,971,817 International Business Machines Corp....... 7. 813,157 12,349 24,669,778 Moody’s Corporation........................12.1 248 2,364 20,060,390 Munich Re..................................11.8 2,990 4,023 52,477,678 The Procter & Gamble Company............ 1. 9 3 3 6 4,683 *** 22,169,930 Sanofi....................................... 1. 7 1,721 2,032 96,890,665 U.S. Bancorp................................ 5. 4 3,033 4,355 43,387,980 USG Corporation............................30.0 836 1,214 67,707,544 Wal-Mart Stores, Inc........................ 2. 13,798 5,815 483,470,853 Wells Fargo & Company.................... 9. 411,871 26,504 Others....................................... 10,180 15,704\\nTotal Common Stocks Carried at Market....$55,056 $ 117,470\\n*This is our actual purchase price and also our tax basis; GAAP “cost” differs in a few cases because of write-ups orwrite-downs that have been required under GAAP rules.**Excludes shares held by pension funds of Berkshire subsidiaries.***Held under contract of sale for this amount.Berkshire has one major equity position that is not included in the table: We can buy 700 million sharesof Bank of America at any time prior to September 2021 for $5 billion. At yearend these shares were worth $12.5billion. We are likely to purchase the shares just before expiration of our option. In the meantime, it is important foryou to realize that Bank of America is, in effect, our fourth largest equity investment – and one we value highly.************Attentive readers will notice that Tesco, which last year appeared in the list of our largest common stockinvestments, is now absent. An attentiveinvestor, I’m embarrassed to report, would have sold Tesco shares earlier. I made a big mistake with this investment by dawdling.At the end of 2012 we owned 415 million shares of Tesco, then and now the leading food retailer in theU.K. and an important grocer in other countries as well. Our cost for this investment was $2.3 billion, and themarket value was a similar amount.\\n17In 2013, I soured somewhat on the company’s then-management and sold 114 million shares, realizing aprofit of $43 million. My leisurely pace in making sales would prove expensive. Charlie calls this sort of behavior“thumb-sucking.” (Considering what my delay cost us, he is being kind.)During 2014, Tesco’s problems worsened by the month. The company’s market share fell, its marginscontracted and accounting problems surfaced. In the world of business, bad news often surfaces serially: You see acockroach in your kitchen; as the days go by, you meet his relatives.We sold Tesco shares throughout the year and are now out of the position. (The company, we shouldmention, has hired new management, and we wish them well.) Our after-tax loss from this investment was $444million, about 1/5 of 1% of Berkshire’s net worth. In the past 50 years, we have only once realized an investmentloss that at the time of sale cost us 2% of our net worth. Twice, we experienced 1% losses. All three of these lossesoccurred in the 1974-1975 period, when we sold stocks that were very cheap in order to buy others we believed tobe even cheaper.************Our investment results have been helped by a terrific tailwind. During the 1964-2014 period, the S&P 500\\nrose from 84 to 2,059, which, with reinvested dividends, generated the overall return of 11,196% shown on page 2.Concurrently, the purchasing power of the dollar declined a staggering 87%. That decrease means that it now takes$1 to buy what could be bought for 13¢ in 1965 (as measured by the Consumer Price Index).There is an important message for investors in that disparate performance between stocks and dollars.Think back to our 2011 annual report, in which we defined investing as “the transfer to others of purchasing powernow with the reasoned expectation of receiving more purchasing power – after taxes have been paid on nominal gains– in the future.”The unconventional, but inescapable, conclusion to be drawn from the past fifty years is that it has been far safer to invest in a diversified collection of American businesses than to invest in securities – Treasuries, forexample – whose values have been tied to American currency. That was also true in the preceding half-century, aperiod including the Great Depression and two world wars. Investors should heed this history. To one degree oranother it is almost certain to be repeated during the next century.Stock prices will always be far morevolatilethan cash-equivalent holdings.Over the long term, however, currency-denominated instruments areriskierinvestments –farriskier investments – than widely-diversified stock portfolios that are bought over time and that are owned in a manner invoking only token fees and commissions. Thatlesson has not customarily been taught in business schools, where volatility is almost universally used as a proxy forrisk. Though this pedagogic assumption makes for easy teaching, it is dead wrong: Volatility is farfrom synonymous with risk. Popular formulas that equate the two terms lead students, investors and CEOs astray.It is true, of course, that owning equities for a day or a week or a year is far riskier (in both nominal andpurchasing-power terms) than leaving funds in cash-equivalents. That is relevant to certain investors – say,investment banks – whose viability can be threatened by declines in asset prices and which might be forced to sellsecurities during depressed markets. Additionally, any party that might have meaningful near-term needs for fundsshould keep appropriate sums in Treasuries or insured bank deposits.For the great majority of investors, however, who can – and should– invest with a multi-decade horizon, quotational declines are unimportant. Their focus should remain fixed on attaining significant gains in purchasingpower over their investing lifetime. For them, a diversified equity portfolio, bought over time, will prove far less risky than dollar-based securities.\\n18If the investor, instead, fears price volatility, erroneously viewing it as a measure of risk, he may,ironically, end up doing some very risky things. Recall, if you will, the pundits who six years ago bemoaned fallingstock prices and advised investing in “safe” Treasury bills or bank certificates of deposit. People who heeded thissermon are now earning a pittance on sums they had previously expected would finance a pleasant retirement. (TheS&P 500 was then below 700; now it is about 2,100.) If not for their fear of meaningless price volatility, theseinvestors could have assured themselves of a good income for life by simply buying a very low-cost index fundwhose dividends would trend upward over the years and whose principal would grow as well (with many ups anddowns, to be sure).Investors, of course, can,by their own behavior, make stock ownership highly risky. And many do. Active trading, attempts to “time” market movements, inadequate diversification, the payment of high and unnecessary feesto managers and advisors, and the use of borrowed money can destroy the decent returns that a life-long owner ofequities would otherwise enjoy. Indeed, borrowed money has noplace in the investor’s tool kit:Anythingcan happenanytimein markets. And no advisor, economist, or TV commentator – and definitely not Charlie nor I – cantell you when chaos will occur. Market forecasters will fill your ear but will never fill your wallet.The commission of the investment sins listed above is not limited to “the little guy.” Huge institutionalinvestors, viewed as a group, have long underperformed the unsophisticated index-fund investor who simply sitstight for decades. A major reason has been fees: Many institutions pay substantial sums to consultants who, in turn,recommend high-fee managers. And that is a fool’s game.There are a few investment managers, of course, who are very good – though in the short run, it’s difficultto determine whether a great record is due to luck or talent. Most advisors, however, are far better at generating highfees than they are at generating high returns. In truth, their core competence is salesmanship. Rather than listen totheir siren songs, investors – large and small – should instead read Jack Bogle’s The Little Book of Common Sense Investing.Decades ago, Ben Graham pinpointed the blame for investment failure, using a quote from Shakespeare:“The fault, dear Brutus, is not in our stars, but in ourselves.”The Annual MeetingThe annual meeting will be held on Saturday, May 2\\nndat the CenturyLink Center. Last year’s attendance of 39,000 set a record, and we expect a further increase this year as we celebrate our Golden Anniversary. Be therewhen the doors open at 7 a.m.Berkshire’s talented Carrie Sova will again be in charge. Carrie joined us six years ago at the age of 24 asa secretary. Then, four years ago, I asked her to take charge of the meeting – a huge undertaking, requiring amultitude of skills – and she jumped at the chance. Carrie is unflappable, ingenious and expert at bringing out thebest in the hundreds who work with her. She is aided by our entire home office crew who enjoy pitching in to makethe weekend fun and informative for our owners.And, yes, we also try to sell our visiting shareholders our products while they’re here. In fact, this yearwe will substantially increase the hours available for purchases, opening for business at the CenturyLink on Friday,May 1\\nst, from noon to 5 p.m. as well as the usual 7 a.m. to 4 p.m. on meeting day. So bring a smile to Charlie’s faceand do some serious shopping.Get up early on Saturday morning. At 6:20 a.m., Norman and Jake, two Texas longhorns each weighingabout a ton, will proceed down 10\\nthStreet to the CenturyLink. Aboard them will be a couple of our Justin Bootexecutives, who do double duty as cowboys. Following the steers will be four horses pulling a Wells Fargostagecoach. Berkshire already markets planes, trains and automobiles. Adding steers and stagecoaches to ourportfolio should seal our reputation as America’s all-purpose transportation company.\\n19At about 7:30 a.m. on Saturday, we will have our fourth International Newspaper Tossing Challenge. Ourtarget again will be a Clayton Home porch, located precisely 35 feet from the throwing line. When I was a teenager– in my one brief flirtation with honest labor – I tossed about 500,000 papers. So I think I’m pretty good. Challengeme! Humiliate me! Knock me down a peg! I’ll buy a Dilly Bar for anyone who lands his or her throw closer to thedoorstep than I do. The papers will run 36 to 42 pages, and you must fold them yourself (no rubber bands allowed).I’ll present a special prize to the 12-or-under contestant who makes the best toss. Deb Bosanek will be the judge.At 8:30 a.m., a new Berkshire movie will be shown. An hour later, we will start the question-and-answerperiod, which (with a break for lunch at CenturyLink’s stands) will last until 3:30 p.m. After a short recess, Charlieand I will convene the annual meeting at 3:45 p.m. This business session typically lasts only a half hour or so.Your venue for shopping will be the 194,300-square-foot hall that adjoins the meeting and in whichproducts from dozens of Berkshire subsidiaries will be for sale. If you don’t get your shopping done on Friday, slipout while Charlie’s talking on Saturday and binge on our bargains. Check the terrific BNSF railroad layout also.Even though I’m 84, it still excites me.Last year you did your part as a shopper, and most of our businesses racked up record sales. In a nine-hourperiod on Saturday, we sold 1,385 pairs of Justin boots (that’s a pair every 23 seconds), 13,440 pounds of See’scandy, 7,276 pairs of Wells Lamont work gloves and 10,000 bottles of Heinz ketchup. Heinz has a new mustardproduct, so both mustard and ketchup will be available this year. (Buy both!) Now that we are open for business onFriday as well, we expect new records in every precinct.Brooks, our running-shoe company, will again have a special commemorative shoe to offer at themeeting. After you purchase a pair, wear them the next day at our third annual “Berkshire 5K,” an 8 a.m. racestarting at the CenturyLink. Full details for participating will be included in the Visitor’s Guide that will be sent toyou with your credentials for the meeting. Entrants in the race will find themselves running alongside many ofBerkshire’s managers, directors and associates. (Charlie and I, however, will sleep in.)A GEICO booth in the shopping area will be staffed by a number of the company’s top counselors fromaround the country. Stop by for a quote. In most cases, GEICO will be able to give you a shareholder discount(usually 8%). This special offer is permitted by 44 of the 51 jurisdictions in which we operate. (One supplementalpoint: The discount is not additive if you qualify for another discount, such as that available to certain groups.)Bring the details of your existing insurance and check out our price. We can save many of you real money.Be sure to visit the Bookworm. It will carry about 35 books and DVDs, among them a couple of newtitles. Last year, many shareholders purchased Max Olson’s compilation of Berkshire letters going back to 1965,and he has produced an updated edition for the meeting. We also expect to be selling an inexpensive bookcommemorating our fifty years. It’s currently a work in process, but I expect it to contain a wide variety of historicalmaterial, including documents from the 19\\nthCentury.An attachment to the proxy material that is enclosed with this report explains how you can obtain thecredential you will need for admission to both the meeting and other events. Airlines have sometimes jacked upprices for the Berkshire weekend. If you are coming from far away, compare the cost of flying to Kansas City vs.Omaha. The drive between the two cities is about 2\\n1⁄2hours, and it may be that Kansas City can save you significant money, particularly if you had planned to rent a car in Omaha. The savings for a couple could run to$1,000 or more. Spend that money with us.At Nebraska Furniture Mart, located on a 77-acre site on 72\\nndStreet between Dodge and Pacific, we will again be having “Berkshire Weekend” discount pricing. Last year in the week surrounding the meeting, the store dida record $40,481,817 of business. (An average week for NFM’s Omaha store is about $9 million.)\\n20To obtain the Berkshire discount at NFM, you must make your purchases between Tuesday, April 28th\\nand Monday, May 4thinclusive, and also present your meeting credential. The period’s special pricing will evenapply to the products of several prestigious manufacturers that normally have ironclad rules against discounting butwhich, in the spirit of our shareholder weekend, have made an exception for you. We appreciate their cooperation.NFM is open from 10 a.m. to 9 p.m. Monday through Friday, 10 a.m. to 9:30 p.m. on Saturday and 10 a.m. to 8 p.m.on Sunday. From 5:30 p.m. to 8 p.m. on Saturday, NFM is having a picnic to which you are all invited.At Borsheims, we will again have two shareholder-only events. The first will be a cocktail reception from6 p.m. to 9 p.m. on Friday, May 1\\nst. The second, the main gala, will be held on Sunday, May 3rd, from 9 a.m. to 4 p.m. On Saturday, we will remain open until 6 p.m. In recent years, our three-day volume has far exceeded our salesin all of December, normally a jeweler’s best month.We will have huge crowds at Borsheims throughout the weekend. For your convenience, therefore,shareholder prices will be available from Monday, April 27\\nththrough Saturday, May 9th. During that period, please identify yourself as a shareholder by presenting your meeting credentials or a brokerage statement that shows youare a Berkshire holder.On Sunday, in the mall outside of Borsheims, Norman Beck, a remarkable magician from Dallas, willbewilder onlookers. Additionally, we will have Bob Hamman and Sharon Osberg, two of the world’s top bridgeexperts, available to play bridge with our shareholders on Sunday afternoon. Don’t play them for money.My friend, Ariel Hsing, will be in the mall as well on Sunday, taking on challengers at table tennis. I metAriel when she was nine and even then I was unable to score a point against her. Now, she’s a sophomore atPrinceton, having already represented the United States in the 2012 Olympics. If you don’t mind embarrassingyourself, test your skills against her, beginning at 1 p.m. Bill Gates and I will lead off and try to soften her up.Gorat’s and Piccolo’s will again be open exclusively for Berkshire shareholders on Sunday, May 3\\nrd. Both will be serving until 10 p.m., with Gorat’s opening at 1 p.m. and Piccolo’s opening at 4 p.m. These restaurantsare my favorites, and I will eat at both of them on Sunday evening. Remember: To make a reservation at Gorat’s,call 402-551-3733 on April 1\\nst(but not before); for Piccolo’s, call 402-346-2865. At Piccolo’s, order a giant rootbeer float for dessert. Only sissies get the small one.We will again have the same three financial journalists lead the question-and-answer period at themeeting, asking Charlie and me questions that shareholders have submitted to them by e-mail. The journalists andtheir e-mail addresses are: Carol Loomis, who retired last year after sixty years at Fortune, but remains theexpert on business and financial matters, and who may be e-mailed at loomisbrk@gmail.com; Becky Quick, of CNBC, atBerkshireQuestions@cnbc.com; and Andrew Ross Sorkin, of The New York Times, at arsorkin@nytimes.com.From the questions submitted, each journalist will choose the six he or she decides are the mostinteresting and important. The journalists have told me your question has the best chance of being selected if youkeep it concise, avoid sending it in at the last moment, make it Berkshire-related and include no more than twoquestions in any e-mail you send them. (In your e-mail, let the journalist know if you would like your namementioned if your question is asked.)We will also have a panel of three analysts who follow Berkshire. This year the insurance specialist willbe Gary Ransom of Dowling & Partners. Questions that deal with our non-insurance operations will come fromJonathan Brandt of Ruane, Cunniff & Goldfarb and Gregg Warren of Morningstar. Our hope is that the analysts andjournalists will ask questions that add to our owners’ understanding and knowledge of their investment.\\n21Neither Charlie nor I will get so much as a clue about the questions headed our way. Some will be tough,for sure, and that’s the way we like it. All told we expect at least 54 questions, which will allow for six from eachanalyst and journalist and for 18 from the audience. (Last year we had 62 in total.) The questioners from theaudience will be chosen by means of 11 drawings that will take place at 8:15 a.m. on the morning of the annualmeeting. Each of the 11 microphones installed in the arena and main overflow room will host, so to speak, adrawing.While I’m on the subject of our owners’ gaining knowledge, let me remind you that Charlie and I believeall shareholders should simultaneously have access to new information that Berkshire releases and should also haveadequate time to analyze it. That’s why we try to issue financial data late on Fridays or early on Saturdays and whyour annual meeting is always held on a Saturday. We do not talk one-on-one to large institutional investors oranalysts, treating them instead as we do all other shareholders. ************We get terrific help at meeting time from literally thousands of Omaha residents and businesses whowant you to enjoy yourselves. This year, because we expect record attendance, we have worried about a shortage ofhotel rooms. To deal with that possible problem, Airbnb is making a special effort to obtain listings for the periodaround meeting time and is likely to have a wide array of accommodations to offer. Airbnb’s services may beespecially helpful to shareholders who expect to spend only a single night in Omaha and are aware that last year afew hotels required guests to pay for a minimum of three nights. That gets expensive. Those people on a tightbudget should check the Airbnb website. ************For good reason, I regularly extol the accomplishments of our operating managers. They are truly All-Stars who run their businesses as if they were the only asset owned by their families. I believe the mindset of ourmanagers also to be as shareholder-oriented as can be found in the universe of large publicly-owned companies.Most of our managers have no financial need to work. The joy of hitting business “home runs” means as much tothem as their paycheck.Equally important, however, are the 24 men and women who work with me at our corporate office. Thisgroup efficiently deals with a multitude of SEC and other regulatory requirements, files a 24,100-page Federalincome tax return and oversees the filing of 3,400 state tax returns, responds to countless shareholder and mediainquiries, gets out the annual report, prepares for the country’s largest annual meeting, coordinates the Board’sactivities – and the list goes on and on.They handle all of these business tasks cheerfully and with unbelievable efficiency, making my life easyand pleasant. Their efforts go beyond activities strictly related to Berkshire: Last year they dealt with the 40universities (selected from 200 applicants) who sent students to Omaha for a Q&A day with me. They also handleall kinds of requests that I receive, arrange my travel, and even get me hamburgers and french fries (smothered inHeinz ketchup, of course) for lunch. No CEO has it better; I truly do feel like tap dancing to work every day.Last year, for the annual report, we dropped our 48-year-old “no pictures” policy – who says I’m notflexible? – and ran a photo of our remarkable home-office crew that was taken at our Christmas lunch. I didn’t warnthe gang of the public exposure they were to receive, so they didn’t have on their Sunday best. This year was adifferent story: On the facing page you will see what our group looks like when they think someone will be noticing.However they dress, their performance is mind-boggling.Come meet them on May 2\\nndand enjoy our Woodstock for Capitalists.February 27, 2015 Warren E. BuffettChairman of the Board22BERKSHIRE HATHAWAY INC.ACQUISITION CRITERIAWe are eager to hearfrom principals or their representativesabout businesses that meet all of the following criteria: (1) Large purchases (at least $75 million of pre-tax earnings unless the business will fit into one of our existing units),(2) Demonstrated consistent earning power (future projections are of no interest to us, nor are “turnaround” situations),(3) Businesses earning good returns on equity while employing little or no debt,(4) Management in place (we can’t supply it),(5) Simple businesses (if there’s lots of technology, we won’t understand it),(6) An offering price (we don’t want to waste our time or that of the seller by talking, even preliminarily, about a transactionwhen price is unknown).The larger the company, the greater will be our interest: We would like to make an acquisition in the $5-20 billion range. We are not interested, however, in receiving suggestions about purchases we might make in the general stock market.We will not engage in unfriendly takeovers. We can promise complete confidentiality and a very fast answer – customarilywithin five minutes – as to whether we’re interested. We prefer to buy for cash, but will consider issuing stock when we receive asmuch in intrinsic business value as we give.We don’t participate in auctions. Charlie and I frequently get approached about acquisitions that don’t come close to meeting our tests: We’ve found that if youadvertise an interest in buying collies, a lot of people will call hoping to sell you their cocker spaniels. A line from a country songexpresses our feeling about new ventures, turnarounds, or auction-like sales: “When the phone don’t ring, you’ll know it’s me.”\\n23Berkshire – Past, Present and FutureIn the BeginningOn May 6, 1964, Berkshire Hathaway, then run by a man named Seabury Stanton, sent a letter to itsshareholders offering to buy 225,000 shares of its stock for $11.375 per share. I had expected the letter; I wassurprised by the price.Berkshire then had 1,583,680 shares outstanding. About 7% of these were owned by Buffett PartnershipLtd. (“BPL”), an investing entity that I managed and in which I had virtually all of my net worth. Shortly before thetender offer was mailed, Stanton had asked me at what price BPL would sell its holdings. I answered $11.50, and hesaid, “Fine, we have a deal.” Then came Berkshire’s letter, offering an eighth of a point less. I bristled at Stanton’sbehavior and didn’t tender.That was a monumentally stupid decision.Berkshire was then a northern textile manufacturer mired in a terrible business. The industry in which itoperated was heading south, both metaphorically and physically. And Berkshire, for a variety of reasons, was unableto change course.That was true even though the industry’s problems had long been widely understood. Berkshire’s ownBoard minutes of July 29, 1954, laid out the grim facts: “The textile industry in New England started going out ofbusiness forty years ago. During the war years this trend was stopped. The trend must continue until supply anddemand have been balanced.”About a year after that board meeting, Berkshire Fine Spinning Associates and Hathaway Manufacturing –both with roots in the 19\\nthCentury – joined forces, taking the name we bear today. With its fourteen plants and10,000 employees, the merged company became the giant of New England textiles. What the two managementsviewed as a merger agreement, however, soon morphed into a suicide pact. During the seven years following theconsolidation, Berkshire operated at an overall loss, and its net worth shrunk by 37%.Meanwhile, the company closed nine plants, sometimes using the liquidation proceeds to repurchaseshares. And that pattern caught my attention.I purchased BPL’s first shares of Berkshire in December 1962, anticipating more closings and morerepurchases. The stock was then selling for $7.50, a wide discount from per-share working capital of $10.25 andbook value of $20.20. Buying the stock at that price was like picking up a discarded cigar butt that had one puffremaining in it. Though the stub might be ugly and soggy, the puff would be free. Once that momentary pleasurewas enjoyed, however, no more could be expected.Berkshire thereafter stuck to the script: It soon closed another two plants, and in that May 1964 move, setout to repurchase shares with the shutdown proceeds. The price that Stanton offered was 50% above the cost of ouroriginal purchases. There it was – my free puff, just waiting for me, after which I could look elsewhere for otherdiscarded butts.Instead, irritated by Stanton’s chiseling, I ignored his offer and began to aggressively buy more Berkshireshares.\\n24By April 1965, BPL owned 392,633 shares (out of 1,017,547 then outstanding) and at an early-May boardmeeting we formally took control of the company. Through Seabury’s and my childish behavior – after all, whatwas an eighth of a point to either of us? – he lost his job, and I found myself with more than 25% of BPL’s capitalinvested in a terrible business about which I knew very little. I became the dog who caught the car.Because of Berkshire’s operating losses and share repurchases, its net worth at the end of fiscal 1964 hadfallen to $22 million from $55 million at the time of the 1955 merger. The full $22 million was required by thetextile operation: The company had no excess cash and owed its bank $2.5 million. (Berkshire’s 1964 annual reportis reproduced on pages 130-142.)For a time I got lucky: Berkshire immediately enjoyed two years of good operating conditions. Better yet,its earnings in those years were free of income tax because it possessed a large loss carry-forward that had arisenfrom the disastrous results in earlier years.Then the honeymoon ended. During the 18 years following 1966, we struggled unremittingly with thetextile business, all to no avail. But stubbornness – stupidity? – has its limits. In 1985, I finally threw in the toweland closed the operation. ************Undeterred by my first mistake of committing much of BPL’s resources to a dying business, I quicklycompounded the error. Indeed, my second blunder was far more serious than the first, eventually becoming the mostcostly in my career.Early in 1967, I had Berkshire pay $8.6 million to buy National Indemnity Company (“NICO”), a small butpromising Omaha-based insurer. (A tiny sister company was also included in the deal.) Insurance was in my sweetspot: I understood and liked the industry.Jack Ringwalt, the owner of NICO, was a long-time friend who wanted to sell to me – me, personally. Inno way was his offer intended for Berkshire. So why did I purchase NICO for Berkshire rather than for BPL? I’vehad 48 years to think about that question, and I’ve yet to come up with a good answer. I simply made a colossalmistake.If BPL had been the purchaser, my partners and I would have owned 100% of a fine business, destined toform the base for building the company Berkshire has become. Moreover, our growth would not have been impededfor nearly two decades by the unproductive funds imprisoned in the textile operation. Finally, our subsequentacquisitions would have been owned in their entirety by my partners and me rather than being 39%-owned by thelegacy shareholders of Berkshire, to whom we had no obligation. Despite these facts staring me in the face, I optedto marry 100% of an excellent business (NICO) to a 61%-owned terrible business (Berkshire Hathaway), a decisionthat eventually diverted $100 billion or so from BPL partners to a collection of strangers. ************One more confession and then I’ll go on to more pleasant topics: Can you believe that in 1975 I boughtWaumbec Mills, another New England textile company? Of course, the purchase price was a “bargain” based on theassets we received and theprojectedsynergies with Berkshire’s existing textile business. Nevertheless – surprise,surprise – Waumbec was a disaster, with the mill having to be closed down not many years later.And now some good news: The northern textile industry is finally extinct. You need no longer panic if youhear that I’ve been spotted wandering around New England.\\n25Charlie Straightens Me OutMy cigar-butt strategy worked very well while I was managing small sums. Indeed, the many dozens offree puffs I obtained in the 1950s made that decade by far the best of my life for both relative and absoluteinvestment performance.Even then, however, I made a few exceptions to cigar butts, the most important being GEICO. Thanks to a1951 conversation I had with Lorimer Davidson, a wonderful man who later became CEO of the company, I learnedthat GEICO was a terrific business and promptly put 65% of my $9,800 net worth into its shares. Most of my gainsin those early years, though, came from investments in mediocre companies that traded at bargain prices. BenGraham had taught me that technique, and it worked.But a major weakness in this approach gradually became apparent: Cigar-butt investing was scalable onlyto a point. With large sums, it would never work well.In addition, though marginal businesses purchased at cheap prices may be attractive as short-terminvestments, they are the wrong foundation on which to build a large and enduring enterprise. Selecting a marriagepartner clearly requires more demanding criteria than does dating. (Berkshire, it should be noted, would have been ahighly satisfactory “date”: If we had taken Seabury Stanton’s $11.375 offer for our shares, BPL’s weighted annualreturn on its Berkshire investment would have been about 40%.) ************It took Charlie Munger to break my cigar-butt habits and set the course for building a business that couldcombine huge size with satisfactory profits. Charlie had grown up a few hundred feet from where I now live and asa youth had worked, as did I, in my grandfather’s grocery store. Nevertheless, it was 1959 before I met Charlie, longafter he had left Omaha to make Los Angeles his home. I was then 28 and he was 35. The Omaha doctor whointroduced us predicted that we would hit it off – and we did.If you’ve attended our annual meetings, you know Charlie has a wide-ranging brilliance, a prodigiousmemory, and some firm opinions. I’m not exactly wishy-washy myself, and we sometimes don’t agree. In 56 years,however, we’ve never had an argument. When we differ, Charlie usually ends the conversation by saying: “Warren,think it over and you’ll agree with me because you’re smart and I’m right.”What most of you donotknow about Charlie is that architecture is among his passions. Though he beganhis career as a practicing lawyer (with his time billed at $15 per hour), Charlie made his first real money in his 30sby designing and building five apartment projects near Los Angeles. Concurrently, he designed the house that helives in today – some 55 years later. (Like me, Charlie can’t be budged if he is happy in his surroundings.) In recentyears, Charlie has designed large dorm complexes at Stanford and the University of Michigan and today, at age 91,is working on another major project.From my perspective, though, Charlie’s most important architectural feat was the design of today’sBerkshire. The blueprint he gave me was simple: Forget what you know about buying fair businesses at wonderfulprices; instead, buy wonderful businesses at fair prices.\\n26Altering my behavior is not an easy task (ask my family). I had enjoyed reasonable success withoutCharlie’s input, so why should I listen to a lawyer who had never spent a day in business school (when – ahem – I had attendedthree). But Charlie never tired of repeating his maxims about business and investing to me, and hislogic was irrefutable. Consequently, Berkshire has been built to Charlie’s blueprint. My role has been that of generalcontractor, with the CEOs of Berkshire’s subsidiaries doing the real work as sub-contractors.The year 1972 was a turning point for Berkshire (though not without occasional backsliding on my part –remember my 1975 purchase of Waumbec). We had the opportunity then to buy See’s Candy for Blue Chip Stamps,a company in which Charlie, I and Berkshire had major stakes, and which was later merged into Berkshire.See’s was a legendary West Coast manufacturer and retailer of boxed chocolates, then annually earningabout $4 million pre-tax while utilizing only $8 million of net tangible assets. Moreover, the company had a hugeasset that did not appear on its balance sheet: a broad and durable competitive advantage that gave it significantpricing power. That strength was virtually certain to give See’s major gains in earnings over time. Better yet, thesewould materialize with only minor amounts of incremental investment. In other words, See’s could be expected togush cash for decades to come.The family controlling See’s wanted $30 million for the business, and Charlie rightly said it was worth thatmuch. But I didn’t want to pay more than $25 million and wasn’t all that enthusiastic even at that figure. (A pricethat was three times net tangible assets made me gulp.) My misguided caution could have scuttled a terrificpurchase. But, luckily, the sellers decided to take our $25 million bid.To date, See’s has earned $1.9 billion pre-tax, with its growth having required added investment of only$40 million. See’s has thus been able to distribute huge sums that have helped Berkshire buy other businesses that,in turn, have themselves produced large distributable profits. (Envision rabbits breeding.) Additionally, throughwatching See’s in action, I gained a business education about the value of powerful brands that opened my eyes tomany other profitable investments. ************Even with Charlie’s blueprint, I have made plenty of mistakes since Waumbec. The most gruesome wasDexter Shoe. When we purchased the company in 1993, it had a terrific record and in no way looked to me like acigar butt. Its competitive strengths, however, were soon to evaporate because of foreign competition. And I simplydidn’t see that coming.Consequently, Berkshire paid $433 million for Dexter and, rather promptly, its value went to zero. GAAPaccounting, however, doesn’t come close to recording the magnitude of my error. The fact is that I gave Berkshirestock to the sellers of Dexter rather than cash, and the shares I used for the purchase are now worth about $5.7billion. As a financial disaster, this one deserves a spot in the Guinness Book of World Records.Several of my subsequent errors also involved the use of Berkshire shares to purchase businesses whoseearnings were destined to simply limp along. Mistakes of that kind are deadly. Trading shares of a wonderfulbusiness – which Berkshire most certainly is – for ownership of a so-so business irreparably destroys value.We’ve also suffered financially when this mistake has been committed by companies whose sharesBerkshire has owned (with the errors sometimes occurring while I was serving as a director). Too often CEOs seemblind to an elementary reality: The intrinsic value of the shares you give in an acquisition must not be greater thanthe intrinsic value of the business you receive.\\n27I’ve yet to see an investment banker quantify this all-important math when he is presenting a stock-for-stock deal to the board of a potential acquirer. Instead, the banker’s focus will be on describing “customary”premiums-to-market-price that are currently being paid for acquisitions – an absolutely asinine way to evaluate theattractiveness of an acquisition – or whether the deal will increase the acquirer’s earnings-per-share (which in itselfshould be far from determinative). In striving to achieve the desired per-share number, a panting CEO and his“helpers” will often conjure up fanciful “synergies.” (As a director of 19 companies over the years, I’ve never heard“dis-synergies” mentioned, though I’ve witnessed plenty of these once deals have closed.) Post mortems ofacquisitions, in which reality is honestly compared to the original projections, are rare in American boardrooms.They should instead be standard practice.I can promise you that long after I’m gone, Berkshire’s CEO and Board will carefully make intrinsic valuecalculations before issuing shares in any acquisitions. You can’t get rich trading a hundred-dollar bill for eight tens(even if your advisor has handed you an expensive “fairness” opinion endorsing that swap). ************Overall, Berkshire’s acquisitions have worked out well – and verywell in the case of a few large ones. So, too, have our investments in marketable securities. The latter are always valued on our balance sheet at their marketprices so any gains – including those unrealized – are immediately reflected in our net worth. But the businesses webuy outright are never revalued upward on our balance sheet, even when we could sell them for many billions ofdollars more than their carrying value. The unrecorded gains in the value of Berkshire’s subsidiaries have becomehuge, with these growing at a particularly fast pace in the last decade.Listening to Charlie has paid off.\\n28Berkshire TodayBerkshire is now a sprawling conglomerate, constantly trying to sprawl further.Conglomerates, it should be acknowledged, have a terrible reputation with investors. And they richlydeserve it. Let me first explain why they are in the doghouse, and then I will go on to describe why theconglomerate form brings huge and enduring advantages to Berkshire.Since I entered the business world, conglomerates have enjoyed several periods of extreme popularity, thesilliest of which occurred in the late 1960s. The drill for conglomerate CEOs then was simple: By personality,promotion or dubious accounting – and often by all three – these managers drove a fledgling conglomerate’s stockto, say, 20 times earnings and then issued shares as fast as possible to acquire another business selling at ten-or-sotimes earnings. They immediately applied “pooling” accounting to the acquisition, which – with not a dime’s worthof change in the underlying businesses – automatically increased per-share earnings, and used the rise as proof ofmanagerial genius. They next explained to investors that this sort of talent justified the maintenance, or even theenhancement, of the acquirer’s p/e multiple. And, finally, they promised to endlessly repeat this procedure andthereby create ever-increasing per-share earnings.Wall Street’s love affair with this hocus-pocus intensified as the 1960s rolled by. The Street’s denizens arealways ready to suspend disbelief when dubious maneuvers are used to manufacture rising per-share earnings,particularly if these acrobatics produce mergers that generate huge fees for investment bankers. Auditors willinglysprinkled their holy water on the conglomerates’ accounting and sometimes even made suggestions as to how tofurther juice the numbers. For many, gushers of easy money washed away ethical sensitivities.Since the per-share earnings gains of an expanding conglomerate came from exploiting p/e differences, itsCEO had to search for businesses selling at low multiples of earnings. These, of course, were characteristicallymediocre businesses with poor long-term prospects. This incentive to bottom-fish usually led to a conglomerate’scollection of underlying businesses becoming more and more junky. That mattered little to investors: It was dealvelocity and pooling accounting they looked to for increased earnings.The resulting firestorm of merger activity was fanned by an adoring press. Companies such as ITT, LittonIndustries, Gulf & Western, and LTV were lionized, and their CEOs became celebrities. (These once-famousconglomerates are now long gone. As Yogi Berra said, “Every Napoleon meets his Watergate.”)Back then, accounting shenanigans of all sorts – many of them ridiculously transparent – were excused oroverlooked. Indeed, having an accounting wizard at the helm of an expanding conglomerate was viewed as a hugeplus: Shareholders in those instances could be sure that reportedearnings would never disappoint, no matter how bad the operating realities of the business might become.In the late 1960s, I attended a meeting at which an acquisitive CEO bragged of his “bold, imaginativeaccounting.” Most of the analysts listening responded with approving nods, seeing themselves as having found amanager whose forecasts were certain to be met, whatever the business results might be.\\n29Eventually, however, the clock struck twelve, and everything turned to pumpkins and mice. Once again, itbecame evident that business models based on the serial issuances of overpriced shares – just like chain-lettermodels – most assuredly redistribute wealth, but in no way create it. Both phenomena, nevertheless, periodicallyblossom in our country – they are every promoter’s dream – though often they appear in a carefully-crafted disguise.The ending is always the same: Money flows from the gullible to the fraudster. And with stocks, unlike chain letters,the sums hijacked can be staggering.At both BPL and Berkshire, we haveneverinvested in companies that are hell-bent on issuing shares. That behavior is one of the surest indicators of a promotion-minded management, weak accounting, a stock that isoverpriced and – all too often – outright dishonesty. ************So what do Charlie and I find so attractive about Berkshire’s conglomerate structure? To put the casesimply: If the conglomerate form is used judiciously, it is an ideal structure for maximizing long-term capitalgrowth.One of the heralded virtues of capitalism is that it efficiently allocates funds. The argument is that marketswill direct investment to promising businesses and deny it to those destined to wither. That is true: With all itsexcesses, market-driven allocation of capital is usually far superior to any alternative.Nevertheless, there are often obstacles to the rational movement of capital. As those 1954 Berkshireminutes made clear, capital withdrawals within the textile industry that should have been obvious were delayed fordecades because of the vain hopes and self-interest of managements. Indeed, I myself delayed abandoning ourobsolete textile mills for far too long.A CEO with capital employed in a declining operation seldom elects to massively redeploy that capital intounrelated activities. A move of that kind would usually require that long-time associates be fired and mistakes beadmitted. Moreover, it’s unlikelythatCEO would be the manager you would wish to handle the redeployment jobeven if he or she was inclined to undertake it.At the shareholder level, taxes and frictional costs weigh heavily on individual investors when they attemptto reallocate capital among businesses and industries. Even tax-free institutional investors face major costs as theymove capital because they usually need intermediaries to do this job. A lot of mouths with expensive tastes thenclamor to be fed – among them investment bankers, accountants, consultants, lawyers and such capital-reallocatorsas leveraged buyout operators. Money-shufflers don’t come cheap.In contrast, a conglomerate such as Berkshire is perfectly positioned to allocate capital rationally and atminimal cost. Of course, form itself is no guarantee of success: We have made plenty of mistakes, and we will makemore. Our structural advantages, however, are formidable.At Berkshire, we can – without incurring taxes or much in the way of other costs – move huge sums frombusinesses that have limited opportunities for incremental investment to other sectors with greater promise.Moreover, we are free of historical biases created by lifelong association with a given industry and are not subject topressures from colleagues having a vested interest in maintaining the status quo. That’s important: If horses hadcontrolled investment decisions, there would have been no auto industry.\\n30Another major advantage we possess is the ability to buy piecesof wonderful businesses – a.k.a. common stocks. That’s not a course of action open to most managements. Over our history, this strategic alternative hasproved to be very helpful; a broad range of options always sharpens decision-making. The businesses we are offeredby the stock market every day – in small pieces, to be sure – are often far more attractive than the businesses we areconcurrently being offered in their entirety. Additionally, the gains we’ve realized from marketable securities havehelped us make certain large acquisitions that would otherwise have been beyond our financial capabilities.In effect, the world is Berkshire’s oyster – a world offering us a range of opportunities far beyond thoserealistically open to most companies. We are limited, of course, to businesses whose economic prospects we canevaluate. And that’s a serious limitation: Charlie and I have no idea what a great many companies will look like tenyears from now. But that limitation is much smaller than that borne by an executive whose experience has beenconfined to a single industry. On top of that, we can profitably scale to a farlarger size than the many businesses that are constrained by the limited potential of the single industry in which they operate.I mentioned earlier that See’s Candy had produced huge earnings compared to its modest capitalrequirements. We would have loved, of course, to intelligently use those funds to expand our candy operation. Butour many attempts to do so were largely futile. So, without incurring tax inefficiencies or frictional costs, we haveused the excess funds generated by See’s to help purchase other businesses. If See’s had remained a stand-alonecompany, its earnings would have had to be distributed to investors to redeploy, sometimes after being heavilydepleted by large taxes and, almost always, by significant frictional and agency costs. ************Berkshire has one further advantage that has become increasingly important over the years: We are now thehome of choice for the owners and managers of many outstanding businesses.Families that own successful businesses have multiple options when they contemplate sale. Frequently, thebest decision is to do nothing. There are worse things in life than having a prosperous business that one understandswell. But sitting tight is seldom recommended by Wall Street. (Don’t ask the barber whether you need a haircut.)When one part of a family wishes to sell while others wish to continue, a public offering often makessense. But, when owners wish to cash out entirely, they usually consider one of two paths.The first is sale to a competitor who is salivating at the possibility of wringing “synergies” from thecombining of the two companies. This buyer invariably contemplates getting rid of large numbers of the seller’sassociates, the very people who have helped the owner build his business. A caring owner, however – and there areplenty of them – usually does not want to leave his long-time associates sadly singing the old country song: “ She got the goldmine, I got the shaft.”The second choice for sellers is the Wall Street buyer. For some years, these purchasers accurately calledthemselves “leveraged buyout firms.” When that term got a bad name in the early 1990s – remember RJR andBarbarians at the Gate? – these buyers hastily relabeled themselves “private-equity.”The name may have changed but that was all: Equity is dramatically reducedand debt is piled on in virtually all private-equity purchases. Indeed, the amount that a private-equity purchaser offers to the seller is in partdetermined by the buyer assessing themaximumamount of debt that can be placed on the acquired company.\\n31Later, if things go well and equity begins to build, leveraged buy-out shops will often seek to re-leveragewith new borrowings. They then typically use part of the proceeds to pay a huge dividend that drives equity sharplydownward, sometimes even to a negative figure.In truth, “equity” is a dirty word for many private-equity buyers; what they love is debt. And, because debtis currently so inexpensive, these buyers can frequently pay top dollar. Later, the business will be resold, often toanother leveraged buyer. In effect, the business becomes a piece of merchandise.Berkshire offers a third choice to the business owner who wishes to sell: a permanent home, in which thecompany’s people and culture will be retained (though, occasionally, management changes will be needed). Beyondthat, any business we acquire dramatically increases its financial strength and ability to grow. Its days of dealingwith banks and Wall Street analysts are also forever ended.Some sellers don’t care about these matters. But, when sellers do, Berkshire does not have a lot ofcompetition. ************Sometimes pundits propose that Berkshire spin-off certain of its businesses. These suggestions make nosense. Our companies are worth more as part of Berkshire than as separate entities. One reason is our ability tomove funds between businesses or into new ventures instantly and without tax. In addition, certain costs duplicatethemselves, in full or part, if operations are separated. Here’s the most obvious example: Berkshire incurs nominalcosts for its single board of directors; were our dozens of subsidiaries to be split off, the overall cost for directorswould soar. So, too, would regulatory and administration expenditures.Finally, there are sometimes important tax efficiencies for Subsidiary A because we own Subsidiary B. Forexample, certain tax credits that are available to our utilities are currently realizable only because we generate hugeamounts of taxable income at other Berkshire operations. That gives Berkshire Hathaway Energy a major advantageover most public-utility companies in developing wind and solar projects.Investment bankers, being paid as they are for action, constantly urge acquirers to pay 20% to 50%premiums over market price for publicly-held businesses. The bankers tell the buyer that the premium is justified for“control value” and for the wonderful things that are going to happen once the acquirer’s CEO takes charge. (Whatacquisition-hungry manager will challengethatassertion?)A few years later, bankers – bearing straight faces – again appear and just as earnestly urge spinning off theearlier acquisition in order to “unlock shareholder value.” Spin-offs, of course, strip the owning company of itspurported “control value” without any compensating payment. The bankers explain that the spun-off company willflourish because its management will be more entrepreneurial, having been freed from the smothering bureaucracyof the parent company. (So much for that talented CEO we met earlier.)If the divesting company later wishes to reacquire the spun-off operation, it presumably would again beurged by its bankers to pay a hefty “control” premium for the privilege. (Mental “flexibility” of this sort by thebanking fraternity has prompted the saying that fees too often lead to transactions rather than transactions leading tofees.)It’s possible, of course, that someday a spin-off or sale at Berkshire would be required by regulators.Berkshire carried out such a spin-off in 1979, when new regulations for bank holding companies forced us to divesta bank we owned in Rockford, Illinois.\\n32Voluntary spin-offs, though, make no sense for us: We would lose control value, capital-allocationflexibility and, in some cases, important tax advantages. The CEOs who brilliantly run our subsidiaries now wouldhave difficulty in being as effective if running a spun-off operation, given the operating and financial advantagesderived from Berkshire’s ownership. Moreover, the parent and the spun-off operations, once separated, would likelyincur moderately greater costs than existed when they were combined. ************Before I depart the subject of spin-offs, let’s look at a lesson to be learned from a conglomerate mentionedearlier: LTV. I’ll summarize here, but those who enjoy a good financial story should read the piece about JimmyLing that ran in the October 1982 issue ofD Magazine. Look it up on the Internet.Through a lot of corporate razzle-dazzle, Ling had taken LTV from sales of only $36 million in 1965 tonumber 14 on the Fortune 500 list just two years later. Ling, it should be noted, had never displayed any managerialskills. But Charlie told me long ago to never underestimate the man who overestimates himself. And Ling had nopeer in that respect.Ling’s strategy, which he labeled “project redeployment,” was to buy a large company and then partiallyspin off its various divisions. In LTV’s 1966 annual report, he explained the magic that would follow: “Mostimportantly, acquisitions must meet the test of the 2 plus 2 equals 5 (or 6) formula.” The press, the public and WallStreet loved this sort of talk.In 1967 Ling bought Wilson & Co., a huge meatpacker that also had interests in golf equipment andpharmaceuticals. Soon after, he split the parent into three businesses, Wilson & Co. (meatpacking), Wilson SportingGoods and Wilson Pharmaceuticals, each of which was to be partially spun off. These companies quickly becameknown on Wall Street as Meatball, Golf Ball and Goof Ball.Soon thereafter, it became clear that, like Icarus, Ling had flown too close to the sun. By the early 1970s,Ling’s empire was melting, and he himself had been spun off from LTV... that is,fired. Periodically, financial markets will become divorced from reality – you can count on that. More JimmyLings will appear. They will look and sound authoritative. The press will hang on their every word. Bankers willfight for their business. What they are saying will recently have “worked.” Their early followers will be feeling veryclever. Our suggestion: Whatever their line, never forget that 2+2 will always equal 4. And when someone tells youhow old-fashioned that math is --- zip up your wallet, take a vacation and come back in a few years to buy stocks atcheap prices. ************Today Berkshire possesses (1) an unmatched collection of businesses, most of them now enjoyingfavorable economic prospects; (2) a cadre of outstanding managers who, with few exceptions, are unusually devotedto both the subsidiary they operateandto Berkshire; (3) an extraordinary diversity of earnings, premier financialstrength and oceans of liquidity that we will maintain under allcircumstances; (4) a first-choice ranking among many owners and managers who are contemplating sale of their businesses and (5) in a point related to thepreceding item, a culture, distinctive in many ways from that of most large companies, that we have worked 50years to develop and that is now rock-solid.These strengths provide us a wonderful foundation on which to build.\\n33The Next 50 Years at BerkshireNow let’s take a look at the road ahead. Bear in mind that if I had attempted 50 years ago to gauge whatwas coming, certain of my predictions would have been far off the mark. With that warning, I will tell you what Iwould say to my family today if they asked me about Berkshire’s future.\\n‹First and definitely foremost, I believe that the chance of permanent capital loss for patient Berkshireshareholders is as low as can be found among single-company investments. That’s because our per-shareintrinsic business valueis almost certain to advance over time.This cheery prediction comes, however, with an important caution: If an investor’s entry point intoBerkshire stock is unusually high – at a price, say, approaching double book value, which Berkshire shareshave occasionally reached – it may well be many years before the investor can realize a profit. In otherwords, a sound investment can morph into a rash speculation if it is bought at an elevated price. Berkshireis not exempt from this truth.Purchases of Berkshire that investors make at a price modestly above the level at which the companywould repurchase its shares, however, should produce gains within a reasonable period of time. Berkshire’sdirectors will only authorize repurchases at a price they believe to be well belowintrinsic value. (In our view, that is an essential criterion for repurchases that is often ignored by other managements.)For those investors who plan to sell within a year or two after their purchase, I can offer noassurances, whatever the entry price. Movements of the general stock market during such abbreviated periods willlikely be far more important in determining your results than the concomitant change in the intrinsic valueof your Berkshire shares. As Ben Graham said many decades ago: “In the short-term the market is a votingmachine; in the long-run it acts as a weighing machine.” Occasionally, the voting decisions of investors –amateurs and professionals alike – border on lunacy.Since I know of no way to reliably predict market movements, I recommend that you purchase Berkshiresharesonlyif you expect to hold them for at least five years. Those who seek short-term profits should lookelsewhere.Another warning: Berkshire shares should not be purchased with borrowed money. There have been threetimes since 1965 when our stock has fallen about 50% from its high point. Someday, something close tothis kind of drop will happen again, and no one knows when. Berkshire will almost certainly be asatisfactory holding forinvestors. But it could well be a disastrous choice for speculators employingleverage.\\n‹I believe the chance of any event causing Berkshire to experience financial problems is essentially zero.We will always be prepared for the thousand-year flood; in fact, if it occurs we will be selling life jacketsto the unprepared. Berkshire played an important role as a “first responder” during the 2008-2009meltdown, and we have since more than doubled the strength of our balance sheet and our earningspotential. Your company is the Gibraltar of American business and will remain so.Financial staying power requires a company to maintain three strengths under allcircumstances: (1) a large and reliable stream of earnings; (2) massive liquid assets and (3) nosignificant near-term cash requirements. Ignoring that last necessity is what usually leads companies to experience unexpectedproblems: Too often, CEOs of profitable companies feel they will always be able to refund maturingobligations, however large these are. In 2008-2009, many managements learned how perilous that mindsetcan be.Here’s how we willalwaysstand on the three essentials. First, our earnings stream is huge and comes froma vast array of businesses. Our shareholders now own many large companies that have durable competitiveadvantages, and we will acquire more of those in the future. Our diversification assures Berkshire’scontinued profitability, even if a catastrophe causes insurance losses that far exceed any previouslyexperienced.34Next up is cash. At a healthy business, cash is sometimes thought of as something to be minimized – as anunproductive asset that acts as a drag on such markers as return on equity. Cash, though, is to a business asoxygen is to an individual: never thought about when it is present, the only thing in mind when it is absent.American business provided a case study of that in 2008. In September of that year, many long-prosperouscompanies suddenly wondered whether their checks would bounce in the days ahead. Overnight, theirfinancial oxygen disappeared.At Berkshire, our “breathing” went uninterrupted. Indeed, in a three-week period spanning late Septemberand early October, we supplied $15.6billionof fresh money to American businesses.We could do that because we always maintain at least $20 billion – and usually far more – in cashequivalents. And by that we mean U.S. Treasury bills, not other substitutes for cash that are claimed todeliver liquidity and actually do so,exceptwhen it is truly needed. When bills come due, only cash is legaltender. Don’t leave home without it.Finally – getting to our third point – we will never engage in operating or investment practices that canresult in sudden demands for large sums. That means we will not expose Berkshire to short-term debtmaturities of size nor enter into derivative contracts or other business arrangements that could require largecollateral calls.Some years ago, we became a party to certain derivative contracts that we believed were significantlymispriced and that had only minor collateral requirements. These have proved to be quite profitable.Recently, however, newly-written derivative contracts have required full collateralization. And that endedour interest in derivatives, regardless of what profit potential they might offer. We have not, for someyears, written these contracts, except for a few needed for operational purposes at our utility businesses.Moreover, we will not write insurance contracts that give policyholders the right to cash out at their option.Manylifeinsurance products contain redemption features that make them susceptible to a “run” in times ofextreme panic. Contracts of that sort, however, do not exist in the property-casualty world that we inhabit. Ifour premium volume should shrink, our float would decline – but only at a very slow pace.The reason for our conservatism, which may impress some people as extreme, is that it is entirelypredictable that people will occasionally panic, but not at all predictable when this will happen. Thoughpractically all days are relatively uneventful, tomorrow is alwaysuncertain. (I felt no special apprehension on December 6, 1941 or September 10, 2001.) And if you can’t predict what tomorrow will bring, youmust be prepared for whatever it does.A CEO who is 64 and plans to retire at 65 may have his own special calculus in evaluating risks that haveonly a tiny chance of happening in a given year. He may, in fact, be “right” 99% of the time. Those odds,however, hold no appeal for us. We will never play financial Russian roulette with the funds you’veentrusted to us, even if the metaphorical gun has 100 chambers and only one bullet. In our view, it ismadness to risk losing what youneedin pursuing what you simplydesire.\\n‹Despite our conservatism, I think we will be able everyyear to build the underlying per-share earning power of Berkshire. That doesnotmean operating earnings will increase each year – far from it. The U.S.economy will ebb and flow – though mostly flow – and, when it weakens, so will our current earnings. Butwe will continue to achieve organic gains, make bolt-on acquisitions and enter new fields. I believe,therefore, that Berkshire will annually add to its underlyingearning power. In some years the gains will be substantial, and at other times they will be minor. Markets, competition,and chance will determine when opportunities come our way. Through it all, Berkshire will keep movingforward, powered by the array of solid businesses we now possess and the new companies we willpurchase. In most years, moreover, our country’s economy will provide a strong tailwind for business. Weare blessed to have the United States as our home field.35‹The bad news is that Berkshire’s long-term gains – measured by percentages, not by dollars – cannot bedramatic andwill not come closeto those achieved in the past 50 years. The numbers have become too big.I think Berkshire will outperform the average American company, but our advantage, if any, won’t begreat.Eventually – probably between ten and twenty years from now – Berkshire’s earnings and capital resourceswill reach a level that will not allow management to intelligently reinvest all of the company’s earnings. Atthat time our directors will need to determine whether the best method to distribute the excess earnings isthrough dividends, share repurchases or both. If Berkshire shares are selling below intrinsic business value,massive repurchases will almost certainly be the best choice. You can be comfortable that your directorswill make the right decision.\\n‹No company will be more shareholder-minded than Berkshire. For more than 30 years, we have annuallyreaffirmed our Shareholder Principles (see page 117), always leading off with: “Although our form iscorporate, our attitude is partnership.” This covenant with you is etched in stone.We have an extraordinarily knowledgeable and business-oriented board of directors ready to carry out thatpromise of partnership. None took the job for the money: In an arrangement almost non-existent elsewhere,our directors are paid only token fees. They receive their rewards instead through ownership of Berkshireshares and the satisfaction that comes from being good stewards of an important enterprise.The shares that they and their families own – which, in many cases, are worth very substantial sums – werepurchasedin the market (rather than their materializing through options or grants). In addition, unlikealmost all other sizable public companies, we carry no directors and officers liability insurance. AtBerkshire, directors walk in your shoes.To further ensure continuation of our culture, I have suggested that my son, Howard, succeed me as a non- executiveChairman. My only reason for this wish is to make change easier if the wrong CEO should everbe employed and there occurs a need for the Chairman to move forcefully. I can assure you that thisproblem has averylow probability of arising at Berkshire – likely as low as at any public company. In myservice on the boards of nineteen public companies, however, I’ve seen how hard it is to replace a mediocreCEO if that person is also Chairman. (The deed usually gets done, but almost always very late.)If elected, Howard will receive no pay and will spend no time at the job other than that required of alldirectors. He will simply be a safety valve to whom any director can go if he or she has concerns about theCEO and wishes to learn if other directors are expressing doubts as well. Should multiple directors beapprehensive, Howard’s chairmanship will allow the matter to be promptly and properly addressed.\\n‹Choosing the right CEO is all-important and is a subject that commands much time at Berkshire boardmeetings. Managing Berkshire is primarily a job of capital allocation, coupled with the selection andretention of outstanding managers to captain our operating subsidiaries. Obviously, the job also requires thereplacement of a subsidiary’s CEO when that is called for. These duties require Berkshire’s CEO to be arational, calm and decisive individual who has a broad understanding of business and good insights intohuman behavior. It’s important as well that he knows his limits. (As Tom Watson, Sr. of IBM said, “I’m nogenius, but I’m smart in spots and I stay around those spots.”)Character is crucial: A Berkshire CEO must be “all in” for the company, not for himself. (I’m using malepronouns to avoid awkward wording, but gender should never decide who becomes CEO.) He can’t helpbut earn money far in excess of any possible need for it. But it’s important that neither ego nor avaricemotivate him to reach for pay matching his most lavishly-compensated peers, even if his achievements farexceed theirs. A CEO’s behavior has a huge impact on managers down the line: If it’s clear to them thatshareholders’ interests are paramount to him, they will, with few exceptions, also embrace that way ofthinking.36My successor will need one other particular strength: the ability to fight off the ABCs of business decay,which are arrogance, bureaucracy and complacency. When these corporate cancers metastasize, even thestrongest of companies can falter. The examples available to prove the point are legion, but to maintainfriendships I will exhume only cases from the distant past.In their glory days, General Motors, IBM, Sears Roebuck and U.S. Steel sat atop huge industries. Theirstrengths seemed unassailable. But the destructive behavior I deplored above eventually led each of them tofall to depths that their CEOs and directors had not long before thought impossible. Their one-timefinancial strength and their historical earning power proved no defense.Only a vigilant and determined CEO can ward off such debilitating forces as Berkshire grows ever larger.He must never forget Charlie’s plea: “Tell me where I’m going to die, so I’ll never go there.” If our non-economic values were to be lost, much of Berkshire’s economic value would collapse as well. “Tone at thetop” will be key to maintaining Berkshire’s special culture.Fortunately, the structure our future CEOs will need to be successful is firmly in place. The extraordinarydelegation of authority now existing at Berkshire is the ideal antidote to bureaucracy. In an operating sense,Berkshire is not a giant company but rather a collection of large companies. At headquarters, we havenever had a committee nor have we ever required our subsidiaries to submit budgets (though many usethem as an important internal tool). We don’t have a legal office nor departments that other companies takefor granted: human relations, public relations, investor relations, strategy, acquisitions, you name it.We do, of course, have an active audit function; no sense being a damned fool. To an unusual degree,however, we trust our managers to run their operations with a keen sense of stewardship. After all, theywere doing exactly that before we acquired their businesses. With only occasional exceptions, furthermore,our trust produces better results than would be achieved by streams of directives, endless reviews andlayers of bureaucracy. Charlie and I try to interact with our managers in a manner consistent with what wewould wish for, if the positions were reversed.\\n‹Our directors believe that our future CEOs should come from internal candidates whom the Berkshireboard has grown to know well. Our directors also believe that an incoming CEO should be relativelyyoung, so that he or she can have a long run in the job. Berkshire will operate best if its CEOs average wellover ten years at the helm. (It’s hard to teach a new dog old tricks.) And they are not likely to retire at 65either (or have you noticed?).In both Berkshire’s business acquisitions and large, tailored investment moves, it is important that ourcounterparties be both familiar with and feel comfortable with Berkshire’s CEO. Developing confidence ofthat sort and cementing relationships takes time. The payoff, though, can be huge.Both the board and I believe we now have the right person to succeed me as CEO – a successor ready toassume the job the day after I die or step down. In certain important respects, this person will do a betterjob than I am doing.\\n‹Investments will always be of great importance to Berkshire and will be handled by several specialists.They will report to the CEO because their investment decisions, in a broad way, will need to becoordinated with Berkshire’s operating and acquisition programs. Overall, though, our investmentmanagers will enjoy great autonomy. In this area, too, we are in fine shape for decades to come. ToddCombs and Ted Weschler, each of whom has spent several years on Berkshire’s investment team, are first-rate in all respects and can be of particular help to the CEO in evaluating acquisitions.All told, Berkshire is ideally positioned for life after Charlie and I leave the scene. We have the rightpeople in place – the right directors, managers and prospective successors to those managers. Our culture,furthermore, is embedded throughout their ranks. Our system is also regenerative. To a large degree, bothgood and bad cultures self-select to perpetuate themselves. For very good reasons, business owners andoperating managers with values similar to ours will continue to be attracted to Berkshire as a one-of-a-kindandpermanenthome.37‹I would be remiss if I didn’t salute another key constituency that makes Berkshire special: our shareholders.Berkshire truly has an owner base unlike that of any other giant corporation. That fact was demonstrated inspades at last year’s annual meeting, where the shareholders were offered a proxy resolution:RESOLVED: Whereas the corporation has more money than it needs and since the owners unlikeWarren are not multi billionaires, the board shall consider paying a meaningful annual dividend onthe shares.The sponsoring shareholder of that resolution never showed up at the meeting, so his motion was notofficially proposed. Nevertheless, the proxy votes had been tallied, and they were enlightening.Not surprisingly, the A shares – owned by relatively few shareholders, each with a large economic interest– voted “no” on the dividend question by a margin of 89 to 1.The remarkable vote was that of our B shareholders. They number in the hundreds of thousands – perhapseven totaling one million – and they voted 660,759,855 “no” and 13,927,026 “yes,” a ratio of about 47 to 1.Our directors recommended a “no” vote but the company did not otherwise attempt to influenceshareholders. Nevertheless, 98% of the shares voting said, in effect, “Don’t send us a dividend but insteadreinvest all of the earnings.” To have our fellow owners – large and small – be so in sync with ourmanagerial philosophy is both remarkable and rewarding.I am a lucky fellow to have you as partners.Warren E. Buffett\\n38Vice Chairman’s Thoughts – Past and FutureTo the shareholders of Berkshire Hathaway Inc.:I closely watched the 50-year history of Berkshire’s uncommon success under Warren Buffett. And it now seemsappropriate that I independently supplement whatever celebratory comment comes from him. I will try to do fivethings.(1) Describe the management system and policies that caused a small and unfixably-doomed commoditytextile business to morph into the mighty Berkshire that now exists,(2) Explain how the management system and policies came into being,(3) Explain, to some extent, why Berkshire did so well,(4) Predict whether abnormally good results would continue if Buffett were soon to depart, and(5) Consider whether Berkshire’s great results over the last 50 years have implications that may prove usefulelsewhere.The management system and policies of Berkshire under Buffett (herein together called “the Berkshire system”)were fixed early and are described below:(1) Berkshire would be a diffuse conglomerate, averse only to activities about which it could not make usefulpredictions.(2) Its top company would do almost all business through separately incorporated subsidiaries whose CEOswould operate with very extreme autonomy.(3) There would be almost nothing at conglomerate headquarters except a tiny office suite containing aChairman, a CFO, and a few assistants who mostly helped the CFO with auditing, internal control, etc.(4) Berkshire subsidiaries would always prominently include casualty insurers. Those insurers as a groupwould be expected to produce, in due course, dependable underwriting gains while also producingsubstantial “float” (from unpaid insurance liabilities) for investment.(5) There would be no significant system-wide personnel system, stock option system, other incentive system,retirement system, or the like, because the subsidiaries would have their own systems, often different.(6) Berkshire’s Chairman would reserve only a few activities for himself.(i) He would manage almost all security investments, with these normally residing in Berkshire’scasualty insurers.(ii) He would choose all CEOs of important subsidiaries, and he would fix their compensation andobtain from each a private recommendation for a successor in case one was suddenly needed.(iii) He would deploy most cash not needed in subsidiaries after they had increased their competitiveadvantage, with the ideal deployment being the use of that cash to acquire new subsidiaries.(iv) He would make himself promptly available for almost any contact wanted by any subsidiary’sCEO, and he would require almost no additional contact.(v) He would write a long, logical, and useful letter for inclusion in his annual report, designed as hewould wish it to be if he were only a passive shareholder, and he would be available for hours ofanswering questions at annual shareholders’ meetings.(vi) He would try to be an exemplar in a culture that would work well for customers, shareholders,and other incumbents for a long time, both before and after his departure.(vii) His first priority would be reservation of much time for quiet reading and thinking, particularlythat which might advance his determined learning, no matter how old he became; and39(viii) He would also spend much time in enthusiastically admiring what others were accomplishing.(7) New subsidiaries would usually be bought with cash, not newly issued stock.(8) Berkshire would not pay dividends so long as more than one dollar of market value for shareholders wasbeing created by each dollar of retained earnings.(9) In buying a new subsidiary, Berkshire would seek to pay a fair price for a good business that the Chairmancould pretty well understand. Berkshire would also want a good CEO in place, one expected to remain for along time and to manage well without need for help from headquarters.(10) In choosing CEOs of subsidiaries, Berkshire would try to secure trustworthiness, skill, energy, and love forthe business and circumstances the CEO was in.(11) As an important matter of preferred conduct, Berkshire would almost never sell a subsidiary.(12) Berkshire would almost never transfer a subsidiary’s CEO to another unrelated subsidiary.(13) Berkshire would never force the CEO of a subsidiary to retire on account of mere age.(14) Berkshire would have little debt outstanding as it tried to maintain (i) virtually perfect creditworthinessunder all conditions and (ii) easy availability of cash and credit for deployment in times presenting unusualopportunities.(15) Berkshire would always be user-friendly to a prospective seller of a large business. An offer of such abusiness would get prompt attention. No one but the Chairman and one or two others at Berkshire wouldever know about the offer if it did not lead to a transaction. And they would never tell outsiders about it.Both the elements of the Berkshire system and their collected size are quite unusual. No other large corporation Iknow of has half of such elements in place.How did Berkshire happen to get a corporate personality so different from the norm?Well, Buffett, even when only 34 years old, controlled about 45% of Berkshire’s shares and was completely trustedby all the other big shareholders. He could install whatever system he wanted. And he did so, creating the Berkshiresystem.Almost every element was chosen because Buffett believed that, under him, it would help maximize Berkshire’sachievement. He was not trying to create a one-type-fits-all system for other corporations. Indeed, Berkshire’ssubsidiaries were not required to use the Berkshire system in their own operations. And some flourished while usingdifferent systems.What was Buffett aiming at as he designed the Berkshire system?Well, over the years I diagnosed several important themes:(1) He particularly wanted continuous maximization of the rationality, skills, and devotion of the mostimportant people in the system, starting with himself.(2) He wanted win/win results everywhere--in gaining loyalty by giving it, for instance.(3) He wanted decisions that maximized long-term results, seeking these from decision makers who usuallystayed long enough in place to bear the consequences of decisions.(4) He wanted to minimize the bad effects that would almost inevitably come from a large bureaucracy atheadquarters.(5) He wanted to personally contribute, like Professor Ben Graham, to the spread of wisdom attained.When Buffett developed the Berkshire system, did he foresee all the benefits that followed? No. Buffett stumbled intosome benefits through practice evolution. But, when he saw useful consequences, he strengthened their causes.40Why did Berkshire under Buffett do so well?Only four large factors occur to me:(1) The constructive peculiarities of Buffett,(2) The constructive peculiarities of the Berkshire system,(3) Good luck, and(4) The weirdly intense, contagious devotion of some shareholders and other admirers, including some in thepress.I believe all four factors were present and helpful. But the heavy freight was carried by the constructivepeculiarities, the weird devotion, and their interactions.In particular, Buffett’s decision to limit his activities to a few kinds and to maximize his attention to them, and tokeep doing so for 50 years, was a lollapalooza. Buffett succeeded for the same reason Roger Federer became goodat tennis.Buffett was, in effect, using the winning method of the famous basketball coach, John Wooden, who won mostregularly after he had learned to assign virtually all playing time to his seven best players. That way, opponentsalways faced his best players, instead of his second best. And, with the extra playing time, the best players improvedmore than was normal.And Buffett much out-Woodened Wooden, because in his case the exercise of skill was concentrated in one person,not seven, and his skill improved and improved as he got older and older during 50 years, instead of deterioratinglike the skill of a basketball player does.Moreover, by concentrating so much power and authority in the often-long-serving CEOs of important subsidiaries,Buffett was also creating strong Wooden-type effects there. And such effects enhanced the skills of the CEOs andthe achievements of the subsidiaries.Then, as the Berkshire system bestowed much-desired autonomy on many subsidiaries and their CEOs, andBerkshire became successful and well known, these outcomes attracted both more and better subsidiaries intoBerkshire, and better CEOs as well.And the better subsidiaries and CEOs then required less attention from headquarters, creating what is often called a“virtuous circle.”How well did it work out for Berkshire to always include casualty insurers as important subsidiaries?Marvelously well. Berkshire’s ambitions were unreasonably extreme and, even so, it got what it wanted.Casualty insurers often invest in common stocks with a value amounting roughly to their shareholders’ equity, asdid Berkshire’s insurance subsidiaries. And the S&P 500 Index produced about 10% per annum, pre-tax, during thelast 50 years, creating a significant tailwind.And, in the early decades of the Buffett era, common stocks within Berkshire’s insurance subsidiaries greatlyoutperformed the index, exactly as Buffett expected. And, later, when both the large size of Berkshire’sstockholdings and income tax considerations caused the index-beating part of returns to fade to insignificance(perhaps not forever), other and better advantage came. Ajit Jain created out of nothing an immense reinsurancebusiness that produced both a huge “float” and a large underwriting gain. And all of GEICO came into Berkshire,followed by a quadrupling of GEICO’s market share. And the rest of Berkshire’s insurance operations hugelyimproved, largely by dint of reputational advantage, underwriting discipline, finding and staying within good niches,and recruiting and holding outstanding people.41Then, later, as Berkshire’s nearly unique and quite dependable corporate personality and large size became wellknown, its insurance subsidiaries got and seized many attractive opportunities, not available to others, to buyprivately issued securities. Most of these securities had fixed maturities and produced outstanding results.Berkshire’s marvelous outcome in insurance was not a natural result. Ordinarily, a casualty insurance business is aproducer of mediocre results, even when very well managed. And such results are of little use. Berkshire’s betteroutcome was so astoundingly large that I believe that Buffett would now fail to recreate it if he returned to a smallbase while retaining his smarts and regaining his youth.Did Berkshire suffer from being a diffuse conglomerate? No, its opportunities were usefully enlarged by a widenedarea for operation. And bad effects, common elsewhere, were prevented by Buffett’s skills.Why did Berkshire prefer to buy companies with cash, instead of its own stock? Well, it was hard to get anything inexchange for Berkshire stock that was as valuable as what was given up.Why did Berkshire’s acquisition of companies outside the insurance business work out so well for Berkshireshareholders when the normal result in such acquisitions is bad for shareholders of the acquirer?Well, Berkshire, by design, had methodological advantages to supplement its better opportunities. It never had theequivalent of a “department of acquisitions” under pressure to buy. And it never relied on advice from “helpers”sure to be prejudiced in favor of transactions. And Buffett held self-delusion at bay as he underclaimed expertisewhile he knew better than most corporate executives what worked and what didn’t in business, aided by his longexperience as a passive investor. And, finally, even when Berkshire was getting much better opportunities than mostothers, Buffett often displayed almost inhuman patience and seldom bought. For instance, during his first ten yearsin control of Berkshire, Buffett saw one business (textiles) move close to death and two new businesses come in, fora net gain of one.What were the big mistakes made by Berkshire under Buffett? Well, while mistakes of commission were common,almost all huge errors were in not making a purchase, including not purchasing Walmart stock when that was sure towork out enormously well. The errors of omission were of much importance. Berkshire’s net worth would now be atleast $50 billion higher if it had seized several opportunities it was not quite smart enough to recognize as virtuallysure things.The next to last task on my list was: Predict whether abnormally good results would continue at Berkshire if Buffettwere soon to depart.The answer is yes. Berkshire has in place in its subsidiaries much business momentum grounded in much durablecompetitive advantage.Moreover, its railroad and utility subsidiaries now provide much desirable opportunity to invest large sums in newfixed assets. And many subsidiaries are now engaged in making wise “bolt-on” acquisitions.Provided that most of the Berkshire system remains in place, the combined momentum and opportunity now presentis so great that Berkshire would almost surely remain a better-than-normal company for a very long time even if(1) Buffett left tomorrow, (2) his successors were persons of only moderate ability, and (3) Berkshire never againpurchased a large business.But, under this Buffett-soon-leaves assumption, his successors would not be “of only moderate ability.” Forinstance, Ajit Jain and Greg Abel are proven performers who would probably be under-described as “world-class.”“World-leading” would be the description I would choose. In some important ways, each is a better businessexecutive than Buffett.And I believe neither Jain nor Abel would (1) leave Berkshire, no matter what someone else offered or (2) desiremuch change in the Berkshire system.42Nor do I think that desirable purchases of new businesses would end with Buffett’s departure. With Berkshire nowso large and the age of activism upon us, I think some desirable acquisition opportunities will come and thatBerkshire’s $60 billion in cash will constructively decrease.My final task was to consider whether Berkshire’s great results over the last 50 years have implications that mayprove useful elsewhere.The answer is plainly yes. In its early Buffett years, Berkshire had a big task ahead: turning a tiny stash into a largeand useful company. And it solved that problem by avoiding bureaucracy and relying much on one thoughtful leaderfor a long, long time as he kept improving and brought in more people like himself.Compare this to a typical big-corporation system with much bureaucracy at headquarters and a long succession ofCEOs who come in at about age 59, pause little thereafter for quiet thought, and are soon forced out by a fixedretirement age.I believe that versions of the Berkshire system should be tried more often elsewhere and that the worst attributes ofbureaucracy should much more often be treated like the cancers they so much resemble. A good example ofbureaucracy fixing was created by George Marshall when he helped win World War II by getting from Congress theright to ignore seniority in choosing generals. Sincerely,Charles T. Munger\\n43'"
      ]
     },
     "execution_count": 10,
     "metadata": {},
     "output_type": "execute_result"
    }
   ],
   "source": [
    "tokenizer.decode(token_try)"
   ]
  },
  {
   "cell_type": "code",
   "execution_count": 11,
   "id": "45b228c0",
   "metadata": {
    "execution": {
     "iopub.execute_input": "2023-06-21T02:17:57.145796Z",
     "iopub.status.busy": "2023-06-21T02:17:57.145519Z",
     "iopub.status.idle": "2023-06-21T02:17:59.188564Z",
     "shell.execute_reply": "2023-06-21T02:17:59.187608Z"
    },
    "papermill": {
     "duration": 2.057499,
     "end_time": "2023-06-21T02:17:59.190863",
     "exception": false,
     "start_time": "2023-06-21T02:17:57.133364",
     "status": "completed"
    },
    "tags": []
   },
   "outputs": [],
   "source": [
    "from langchain.text_splitter import RecursiveCharacterTextSplitter\n",
    "\n",
    "splitter = RecursiveCharacterTextSplitter(\n",
    "chunk_size = 1200,\n",
    "chunk_overlap = 125,\n",
    "length_function = len,\n",
    "add_start_index = True)\n",
    "\n",
    "text_to_seqlen = []\n",
    "\n",
    "for snip in text_snippets:\n",
    "    split_text = splitter.split_text(snip)\n",
    "    text_to_seqlen.extend(split_text)"
   ]
  },
  {
   "cell_type": "code",
   "execution_count": 12,
   "id": "fb15d9e9",
   "metadata": {
    "execution": {
     "iopub.execute_input": "2023-06-21T02:17:59.215226Z",
     "iopub.status.busy": "2023-06-21T02:17:59.214902Z",
     "iopub.status.idle": "2023-06-21T02:17:59.224469Z",
     "shell.execute_reply": "2023-06-21T02:17:59.223623Z"
    },
    "papermill": {
     "duration": 0.02385,
     "end_time": "2023-06-21T02:17:59.226367",
     "exception": false,
     "start_time": "2023-06-21T02:17:59.202517",
     "status": "completed"
    },
    "tags": []
   },
   "outputs": [
    {
     "data": {
      "text/plain": [
       "1199"
      ]
     },
     "execution_count": 12,
     "metadata": {},
     "output_type": "execute_result"
    }
   ],
   "source": [
    "max_len = max([len(text) for text in text_to_seqlen])\n",
    "\n",
    "max_len"
   ]
  },
  {
   "cell_type": "code",
   "execution_count": 13,
   "id": "ae0fd660",
   "metadata": {
    "execution": {
     "iopub.execute_input": "2023-06-21T02:17:59.250506Z",
     "iopub.status.busy": "2023-06-21T02:17:59.250227Z",
     "iopub.status.idle": "2023-06-21T02:18:08.209001Z",
     "shell.execute_reply": "2023-06-21T02:18:08.208072Z"
    },
    "papermill": {
     "duration": 8.973131,
     "end_time": "2023-06-21T02:18:08.211054",
     "exception": false,
     "start_time": "2023-06-21T02:17:59.237923",
     "status": "completed"
    },
    "tags": []
   },
   "outputs": [
    {
     "data": {
      "text/plain": [
       "816"
      ]
     },
     "execution_count": 13,
     "metadata": {},
     "output_type": "execute_result"
    }
   ],
   "source": [
    "max_seq_len = max([len(tokenizer.encode(text)) for text in text_to_seqlen])\n",
    "max_seq_len"
   ]
  },
  {
   "cell_type": "code",
   "execution_count": 14,
   "id": "7e7ab456",
   "metadata": {
    "collapsed": true,
    "execution": {
     "iopub.execute_input": "2023-06-21T02:18:08.236199Z",
     "iopub.status.busy": "2023-06-21T02:18:08.235887Z",
     "iopub.status.idle": "2023-06-21T02:18:08.242178Z",
     "shell.execute_reply": "2023-06-21T02:18:08.241191Z"
    },
    "jupyter": {
     "outputs_hidden": true
    },
    "papermill": {
     "duration": 0.022672,
     "end_time": "2023-06-21T02:18:08.245531",
     "exception": false,
     "start_time": "2023-06-21T02:18:08.222859",
     "status": "completed"
    },
    "tags": []
   },
   "outputs": [
    {
     "data": {
      "text/plain": [
       "['Berkshire’s Performance vs. the S&P 500\\nAnnual Percentage Change\\nYear in Per-ShareBook Value ofBerkshirein Per-ShareMarket Value ofBerkshire in S&P 500with DividendsIncluded',\n",
       " '1965...................................................................... 23.8 49.5 10.0 1966...................................................................... 20.3 (3.4) (11.7) 1967...................................................................... 11.0 13.3 30.9 1968...................................................................... 19.0 77.8 11.0 1969...................................................................... 16.2 19.4 (8.4) 1970...................................................................... 12.0 (4.6) 3.9 1971...................................................................... 16.4 80.5 14.6 1972...................................................................... 21.7 8.1 18.9 1973...................................................................... 4 . 7 (2.5) (14.8) 1974...................................................................... 5 . 5 (48.7) (26.4) 1975...................................................................... 21.9 2.5 37.2 1976...................................................................... 59.3 129.3 23.6 1977...................................................................... 31.9 46.8 (7.4)',\n",
       " '59.3 129.3 23.6 1977...................................................................... 31.9 46.8 (7.4) 1978...................................................................... 24.0 14.5 6.4 1979...................................................................... 35.7 102.5 18.2 1980...................................................................... 19.3 32.8 32.3 1981...................................................................... 31.4 31.8 (5.0) 1982...................................................................... 40.0 38.4 21.4 1983...................................................................... 32.3 69.0 22.4 1984...................................................................... 13.6 (2.7) 6.1 1985...................................................................... 48.2 93.7 31.6 1986...................................................................... 26.1 14.2 18.6 1987...................................................................... 19.5 4.6 5.1 1988...................................................................... 20.1 59.3 16.6 1989...................................................................... 44.4 84.6 31.7',\n",
       " '20.1 59.3 16.6 1989...................................................................... 44.4 84.6 31.7 1990...................................................................... 7 . 4 (23.1) (3.1) 1991...................................................................... 39.6 35.6 30.5 1992...................................................................... 20.3 29.8 7.6 1993...................................................................... 14.3 38.9 10.1 1994...................................................................... 13.9 25.0 1.3 1995...................................................................... 43.1 57.4 37.6 1996...................................................................... 31.8 6.2 23.0 1997...................................................................... 34.1 34.9 33.4 1998......................................................................',\n",
       " '48.3 52.2 28.6 1999...................................................................... 0 . 5 (19.9) 21.0 2000...................................................................... 6 . 5 26.6 (9.1) 2001...................................................................... (6.2) 6.5 (11.9) 2002...................................................................... 10.0 (3.8) (22.1) 2003...................................................................... 21.0 15.8 28.7 2004...................................................................... 10.5 4.3 10.9 2005...................................................................... 6 . 4 0 . 8 4 . 92006...................................................................... 18.4 24.1 15.8 2007...................................................................... 11.0 28.7 5.5 2008...................................................................... (9.6) (31.8) (37.0) 2009...................................................................... 19.8 2.7 26.5 2010...................................................................... 13.0 21.4 15.1 2011...................................................................... 4 . 6 (4.7) 2.1',\n",
       " '13.0 21.4 15.1 2011...................................................................... 4 . 6 (4.7) 2.1 2012...................................................................... 14.4 16.8 16.0 2013...................................................................... 18.2 32.7 32.4 2014...................................................................... 8 . 3 27.0 13.7 Compounded Annual Gain – 1965-2014................................... 19.4% 21.6% 9.9% Overall Gain – 1964-2014................................................. 751,113% 1,826,163% 11,196% Notes:Data are for calendar years with these exceptions: 1965 and 1966, year ended 9/30; 1967, 15 months ended 12/31. Starting in 1979,accounting rules required insurance companies to value the equity securities they hold at market rather than at the lower of cost or market, which waspreviously the requirement. In this table, Berkshire’s results through 1978 have been restated to conform to the changed rules. In all other respects , the results are calculated using the numbers originally reported. The S&P 500 numbers are pre-taxwhereas the Berkshire numbers areafter-tax.I fa corporation such as Berkshire were simply to have',\n",
       " 'S&P 500 numbers are pre-taxwhereas the Berkshire numbers areafter-tax.I fa corporation such as Berkshire were simply to have owned the S&P 500 and accrued the appropriate taxes, its results would have lagged the S&P 500in years when that index showed a positive return, but would have exceeded the S&P 500 in years when the index showed a negative return. Over theyears, the tax costs would have caused the aggregate lag to be substantial.',\n",
       " '2A note to readers: Fifty years ago, today’s management took charge at Berkshire. For this Golden Anniversary,Warren Buffett and Charlie Munger each wrote his views of what has happened at Berkshire during the past 50years and what each expects during the next 50. Neither changed a word of his commentary after reading what theother had written. Warren’s thoughts begin on page 24 and Charlie’s on page 39. Shareholders, particularly newones, may find it useful to read those letters before reading the report on 2014, which begins below.',\n",
       " 'BERKSHIRE HATHAWAY INC.To the Shareholders of Berkshire Hathaway Inc.:Berkshire’s gain in net worth during 2014 was $18.3 billion, which increased the per-share book value ofboth our Class A and Class B stock by 8.3%. Over the last 50 years (that is, since present management took over),per-share book value has grown from $19 to $146,186, a rate of 19.4% compounded annually.*During our tenure, we have consistently compared the yearly performance of the S&P 500 to the change inBerkshire’s per-share book value. We’ve done that because book value has been a crude, but useful, tracking device for the number that really counts: intrinsic business value.In our early decades, the relationship between book value and intrinsic value was much closer than it isnow. That was true because Berkshire’s assets were then largely securities whose values were continuously restatedto reflect their current market prices. In Wall Street parlance, most of the assets involved in the calculation of bookvalue were “marked to market.”Today, our emphasis has shifted in a major way to owning and operating large businesses. Many of theseare worth far more than their cost-based carrying value. But that amount is',\n",
       " 'and operating large businesses. Many of theseare worth far more than their cost-based carrying value. But that amount is neverrevalued upward no matter how much the value of these companies has increased. Consequently, the gap between Berkshire’s intrinsic value and itsbook value has materially widened.With that in mind, we have added a new set of data – the historical record of Berkshire’s stock price – tothe performance table on the facing page. Market prices, let me stress, have their limitations in the short term.Monthly or yearly movements of stocks are often erratic and not indicative of changes in intrinsic value. Over time,however, stock prices and intrinsic value almost invariably converge. Charlie Munger, Berkshire Vice Chairmanand my partner, and I believe that has been true at Berkshire: In our view, the increase in Berkshire’s per-shareintrinsic value over the past 50 years is roughly equal to the 1,826,163% gain in market price of the company’sshares.']"
      ]
     },
     "execution_count": 14,
     "metadata": {},
     "output_type": "execute_result"
    }
   ],
   "source": [
    "text_to_seqlen[0:10]"
   ]
  },
  {
   "cell_type": "code",
   "execution_count": 15,
   "id": "d9fd04c1",
   "metadata": {
    "execution": {
     "iopub.execute_input": "2023-06-21T02:18:08.270647Z",
     "iopub.status.busy": "2023-06-21T02:18:08.269935Z",
     "iopub.status.idle": "2023-06-21T02:18:08.275882Z",
     "shell.execute_reply": "2023-06-21T02:18:08.274985Z"
    },
    "papermill": {
     "duration": 0.020708,
     "end_time": "2023-06-21T02:18:08.277847",
     "exception": false,
     "start_time": "2023-06-21T02:18:08.257139",
     "status": "completed"
    },
    "tags": []
   },
   "outputs": [
    {
     "data": {
      "text/plain": [
       "3797"
      ]
     },
     "execution_count": 15,
     "metadata": {},
     "output_type": "execute_result"
    }
   ],
   "source": [
    "len(text_to_seqlen)"
   ]
  },
  {
   "cell_type": "code",
   "execution_count": 16,
   "id": "f9693779",
   "metadata": {
    "execution": {
     "iopub.execute_input": "2023-06-21T02:18:08.303075Z",
     "iopub.status.busy": "2023-06-21T02:18:08.302205Z",
     "iopub.status.idle": "2023-06-21T02:18:08.308101Z",
     "shell.execute_reply": "2023-06-21T02:18:08.307211Z"
    },
    "papermill": {
     "duration": 0.020443,
     "end_time": "2023-06-21T02:18:08.310053",
     "exception": false,
     "start_time": "2023-06-21T02:18:08.289610",
     "status": "completed"
    },
    "tags": []
   },
   "outputs": [
    {
     "data": {
      "text/plain": [
       "'‹Our “Powerhouse Five” – a collection of Berkshire’s largest non-insurance businesses – had a record $12.4billion of pre-tax earnings in 2014, up $1.6 billion from 2013.* The companies in this sainted group areBerkshire Hathaway Energy (formerly MidAmerican Energy), BNSF, IMC (I’ve called it Iscar in the past),Lubrizol and Marmon.Of the five, only Berkshire Hathaway Energy, then earning $393 million, was owned by us a decade ago.Subsequently we purchased another three of the five on an all-cash basis. In acquiring the fifth, BNSF, wepaid about 70% of the cost in cash and, for the remainder, issued Berkshire shares that increased thenumber outstanding by 6.1%. In other words, the $12 billion gain in annual earnings delivered Berkshire bythe five companies over the ten-year span has been accompanied by only minor dilution. That satisfies ourgoal of not simply increasing earnings, but making sure we also increase per-shareresults. If the U.S. economy continues to improve in 2015, we expect earnings of our Powerhouse Five to improveas well. The gain could reach $1 billion, in part because of bolt-on acquisitions by the group that havealready closed or are under contract.'"
      ]
     },
     "execution_count": 16,
     "metadata": {},
     "output_type": "execute_result"
    }
   ],
   "source": [
    "text_to_seqlen[11]"
   ]
  },
  {
   "cell_type": "code",
   "execution_count": 17,
   "id": "1ce74beb",
   "metadata": {
    "execution": {
     "iopub.execute_input": "2023-06-21T02:18:08.335574Z",
     "iopub.status.busy": "2023-06-21T02:18:08.334787Z",
     "iopub.status.idle": "2023-06-21T02:18:08.340535Z",
     "shell.execute_reply": "2023-06-21T02:18:08.339722Z"
    },
    "papermill": {
     "duration": 0.020451,
     "end_time": "2023-06-21T02:18:08.342452",
     "exception": false,
     "start_time": "2023-06-21T02:18:08.322001",
     "status": "completed"
    },
    "tags": []
   },
   "outputs": [],
   "source": [
    "question_gen = tokenizer(\"|<startoftext>|\" + text_to_seqlen[11][:100] +\"Generate 2 questions for above text\",\n",
    "                               return_tensors=\"pt\").input_ids.cuda() "
   ]
  },
  {
   "cell_type": "code",
   "execution_count": 18,
   "id": "5f3431e2",
   "metadata": {
    "execution": {
     "iopub.execute_input": "2023-06-21T02:18:08.368329Z",
     "iopub.status.busy": "2023-06-21T02:18:08.367466Z",
     "iopub.status.idle": "2023-06-21T02:18:26.834025Z",
     "shell.execute_reply": "2023-06-21T02:18:26.833056Z"
    },
    "papermill": {
     "duration": 18.481957,
     "end_time": "2023-06-21T02:18:26.836226",
     "exception": false,
     "start_time": "2023-06-21T02:18:08.354269",
     "status": "completed"
    },
    "tags": []
   },
   "outputs": [
    {
     "data": {
      "text/plain": [
       "'|<startoftext>|‹Our “Powerhouse Five” – a collection of Berkshire’s largest non-insurance businesses – had a recordGenerate 2 questions for above text'"
      ]
     },
     "execution_count": 18,
     "metadata": {},
     "output_type": "execute_result"
    }
   ],
   "source": [
    "question_output = model.generate(question_gen,\n",
    "                do_sample = True,\n",
    "                top_k = 30, \n",
    "                max_length = 800,\n",
    "                top_p = 0.95,\n",
    "                temperature = 0.1,\n",
    "                num_return_sequences = 1,\n",
    "               pad_token_id=tokenizer.eos_token_id)\n",
    "\n",
    "tokenizer.decode(question_output[0], skip_special_tokens=True)"
   ]
  },
  {
   "cell_type": "code",
   "execution_count": 19,
   "id": "5ce24ccf",
   "metadata": {
    "execution": {
     "iopub.execute_input": "2023-06-21T02:18:26.862701Z",
     "iopub.status.busy": "2023-06-21T02:18:26.862419Z",
     "iopub.status.idle": "2023-06-21T02:18:26.869221Z",
     "shell.execute_reply": "2023-06-21T02:18:26.868285Z"
    },
    "papermill": {
     "duration": 0.022434,
     "end_time": "2023-06-21T02:18:26.871286",
     "exception": false,
     "start_time": "2023-06-21T02:18:26.848852",
     "status": "completed"
    },
    "tags": []
   },
   "outputs": [],
   "source": [
    "class TextDataset(Dataset):\n",
    "    def __init__(self, txt_list, tokenizer, max_length):\n",
    "        self.labels = []\n",
    "        self.input_ids = []\n",
    "        self.attn_masks = []        \n",
    "        for txt in txt_list:\n",
    "            encodings_dict = tokenizer('<|startoftext|>' + txt + '<|endoftext|>', \n",
    "                                       truncation=True, \n",
    "                                       max_length=max_length, \n",
    "                                       padding=\"max_length\")\n",
    "            self.input_ids.append(torch.tensor(encodings_dict['input_ids']))\n",
    "            self.attn_masks.append(torch.tensor(encodings_dict['attention_mask']))\n",
    "    def __len__(self): return len(self.input_ids)\n",
    "    def __getitem__(self, idx): return self.input_ids[idx], self.attn_masks[idx]"
   ]
  },
  {
   "cell_type": "code",
   "execution_count": 20,
   "id": "200e90f9",
   "metadata": {
    "execution": {
     "iopub.execute_input": "2023-06-21T02:18:26.896893Z",
     "iopub.status.busy": "2023-06-21T02:18:26.896127Z",
     "iopub.status.idle": "2023-06-21T02:18:37.285043Z",
     "shell.execute_reply": "2023-06-21T02:18:37.284053Z"
    },
    "papermill": {
     "duration": 10.404004,
     "end_time": "2023-06-21T02:18:37.287189",
     "exception": false,
     "start_time": "2023-06-21T02:18:26.883185",
     "status": "completed"
    },
    "tags": []
   },
   "outputs": [
    {
     "data": {
      "text/plain": [
       "160"
      ]
     },
     "execution_count": 20,
     "metadata": {},
     "output_type": "execute_result"
    }
   ],
   "source": [
    "dataset = TextDataset(text_to_seqlen, tokenizer, max_length=max_seq_len)\n",
    "train_size = int(0.9 * len(dataset))\n",
    "train_dataset, val_dataset = random_split(dataset, [train_size, len(dataset) - train_size])\n",
    "gc.collect()"
   ]
  },
  {
   "cell_type": "code",
   "execution_count": 21,
   "id": "13e79a3f",
   "metadata": {
    "execution": {
     "iopub.execute_input": "2023-06-21T02:18:37.313941Z",
     "iopub.status.busy": "2023-06-21T02:18:37.313251Z",
     "iopub.status.idle": "2023-06-21T02:18:37.331906Z",
     "shell.execute_reply": "2023-06-21T02:18:37.331073Z"
    },
    "papermill": {
     "duration": 0.034418,
     "end_time": "2023-06-21T02:18:37.334272",
     "exception": false,
     "start_time": "2023-06-21T02:18:37.299854",
     "status": "completed"
    },
    "tags": []
   },
   "outputs": [],
   "source": [
    "torch.cuda.empty_cache()"
   ]
  },
  {
   "cell_type": "code",
   "execution_count": 22,
   "id": "025091a0",
   "metadata": {
    "execution": {
     "iopub.execute_input": "2023-06-21T02:18:37.359701Z",
     "iopub.status.busy": "2023-06-21T02:18:37.359428Z",
     "iopub.status.idle": "2023-06-21T02:18:37.365128Z",
     "shell.execute_reply": "2023-06-21T02:18:37.364329Z"
    },
    "papermill": {
     "duration": 0.020836,
     "end_time": "2023-06-21T02:18:37.367293",
     "exception": false,
     "start_time": "2023-06-21T02:18:37.346457",
     "status": "completed"
    },
    "tags": []
   },
   "outputs": [],
   "source": [
    "training_args = TrainingArguments(output_dir='./results',\n",
    "                                  num_train_epochs=1,\n",
    "                                  logging_steps=100,\n",
    "                                  save_steps=5000,\n",
    "                                  per_device_train_batch_size=1,\n",
    "                                  per_device_eval_batch_size=1,\n",
    "                                  warmup_steps=10,\n",
    "                                  weight_decay=0.05,\n",
    "                                  logging_dir='./logs',\n",
    "                                  report_to = 'none')"
   ]
  },
  {
   "cell_type": "code",
   "execution_count": 23,
   "id": "a4dd2c6d",
   "metadata": {
    "collapsed": true,
    "execution": {
     "iopub.execute_input": "2023-06-21T02:18:37.392717Z",
     "iopub.status.busy": "2023-06-21T02:18:37.392458Z",
     "iopub.status.idle": "2023-06-21T02:44:25.988029Z",
     "shell.execute_reply": "2023-06-21T02:44:25.987168Z"
    },
    "jupyter": {
     "outputs_hidden": true
    },
    "papermill": {
     "duration": 1548.618499,
     "end_time": "2023-06-21T02:44:25.997993",
     "exception": false,
     "start_time": "2023-06-21T02:18:37.379494",
     "status": "completed"
    },
    "tags": []
   },
   "outputs": [
    {
     "name": "stderr",
     "output_type": "stream",
     "text": [
      "/opt/conda/lib/python3.10/site-packages/transformers/optimization.py:391: FutureWarning: This implementation of AdamW is deprecated and will be removed in a future version. Use the PyTorch implementation torch.optim.AdamW instead, or set `no_deprecation_warning=True` to disable this warning\n",
      "  warnings.warn(\n"
     ]
    },
    {
     "data": {
      "text/html": [
       "\n",
       "    <div>\n",
       "      \n",
       "      <progress value='3417' max='3417' style='width:300px; height:20px; vertical-align: middle;'></progress>\n",
       "      [3417/3417 25:48, Epoch 1/1]\n",
       "    </div>\n",
       "    <table border=\"1\" class=\"dataframe\">\n",
       "  <thead>\n",
       " <tr style=\"text-align: left;\">\n",
       "      <th>Step</th>\n",
       "      <th>Training Loss</th>\n",
       "    </tr>\n",
       "  </thead>\n",
       "  <tbody>\n",
       "    <tr>\n",
       "      <td>100</td>\n",
       "      <td>3.348500</td>\n",
       "    </tr>\n",
       "    <tr>\n",
       "      <td>200</td>\n",
       "      <td>0.893800</td>\n",
       "    </tr>\n",
       "    <tr>\n",
       "      <td>300</td>\n",
       "      <td>0.941900</td>\n",
       "    </tr>\n",
       "    <tr>\n",
       "      <td>400</td>\n",
       "      <td>0.826200</td>\n",
       "    </tr>\n",
       "    <tr>\n",
       "      <td>500</td>\n",
       "      <td>0.893800</td>\n",
       "    </tr>\n",
       "    <tr>\n",
       "      <td>600</td>\n",
       "      <td>0.891700</td>\n",
       "    </tr>\n",
       "    <tr>\n",
       "      <td>700</td>\n",
       "      <td>0.844000</td>\n",
       "    </tr>\n",
       "    <tr>\n",
       "      <td>800</td>\n",
       "      <td>0.844900</td>\n",
       "    </tr>\n",
       "    <tr>\n",
       "      <td>900</td>\n",
       "      <td>0.839300</td>\n",
       "    </tr>\n",
       "    <tr>\n",
       "      <td>1000</td>\n",
       "      <td>0.812500</td>\n",
       "    </tr>\n",
       "    <tr>\n",
       "      <td>1100</td>\n",
       "      <td>0.824500</td>\n",
       "    </tr>\n",
       "    <tr>\n",
       "      <td>1200</td>\n",
       "      <td>0.777400</td>\n",
       "    </tr>\n",
       "    <tr>\n",
       "      <td>1300</td>\n",
       "      <td>0.781100</td>\n",
       "    </tr>\n",
       "    <tr>\n",
       "      <td>1400</td>\n",
       "      <td>0.821700</td>\n",
       "    </tr>\n",
       "    <tr>\n",
       "      <td>1500</td>\n",
       "      <td>0.793800</td>\n",
       "    </tr>\n",
       "    <tr>\n",
       "      <td>1600</td>\n",
       "      <td>0.766800</td>\n",
       "    </tr>\n",
       "    <tr>\n",
       "      <td>1700</td>\n",
       "      <td>0.833200</td>\n",
       "    </tr>\n",
       "    <tr>\n",
       "      <td>1800</td>\n",
       "      <td>0.770600</td>\n",
       "    </tr>\n",
       "    <tr>\n",
       "      <td>1900</td>\n",
       "      <td>0.740900</td>\n",
       "    </tr>\n",
       "    <tr>\n",
       "      <td>2000</td>\n",
       "      <td>0.737200</td>\n",
       "    </tr>\n",
       "    <tr>\n",
       "      <td>2100</td>\n",
       "      <td>0.810900</td>\n",
       "    </tr>\n",
       "    <tr>\n",
       "      <td>2200</td>\n",
       "      <td>0.772000</td>\n",
       "    </tr>\n",
       "    <tr>\n",
       "      <td>2300</td>\n",
       "      <td>0.766600</td>\n",
       "    </tr>\n",
       "    <tr>\n",
       "      <td>2400</td>\n",
       "      <td>0.804100</td>\n",
       "    </tr>\n",
       "    <tr>\n",
       "      <td>2500</td>\n",
       "      <td>0.811700</td>\n",
       "    </tr>\n",
       "    <tr>\n",
       "      <td>2600</td>\n",
       "      <td>0.715100</td>\n",
       "    </tr>\n",
       "    <tr>\n",
       "      <td>2700</td>\n",
       "      <td>0.726200</td>\n",
       "    </tr>\n",
       "    <tr>\n",
       "      <td>2800</td>\n",
       "      <td>0.764700</td>\n",
       "    </tr>\n",
       "    <tr>\n",
       "      <td>2900</td>\n",
       "      <td>0.751500</td>\n",
       "    </tr>\n",
       "    <tr>\n",
       "      <td>3000</td>\n",
       "      <td>0.761300</td>\n",
       "    </tr>\n",
       "    <tr>\n",
       "      <td>3100</td>\n",
       "      <td>0.742200</td>\n",
       "    </tr>\n",
       "    <tr>\n",
       "      <td>3200</td>\n",
       "      <td>0.738800</td>\n",
       "    </tr>\n",
       "    <tr>\n",
       "      <td>3300</td>\n",
       "      <td>0.713100</td>\n",
       "    </tr>\n",
       "    <tr>\n",
       "      <td>3400</td>\n",
       "      <td>0.776600</td>\n",
       "    </tr>\n",
       "  </tbody>\n",
       "</table><p>"
      ],
      "text/plain": [
       "<IPython.core.display.HTML object>"
      ]
     },
     "metadata": {},
     "output_type": "display_data"
    },
    {
     "data": {
      "text/plain": [
       "TrainOutput(global_step=3417, training_loss=0.8709957213788344, metrics={'train_runtime': 1548.5655, 'train_samples_per_second': 2.207, 'train_steps_per_second': 2.207, 'total_flos': 5057558872915968.0, 'train_loss': 0.8709957213788344, 'epoch': 1.0})"
      ]
     },
     "execution_count": 23,
     "metadata": {},
     "output_type": "execute_result"
    }
   ],
   "source": [
    "Trainer(model=model,\n",
    "        args=training_args,\n",
    "        train_dataset = train_dataset, \n",
    "        eval_dataset = val_dataset,\n",
    "        data_collator = lambda data: {'input_ids': torch.stack([f[0] for f in data]),\n",
    "                                      'attention_mask': torch.stack([f[1] for f in data]),\n",
    "                                      'labels': torch.stack([f[0] for f in data])}).train()"
   ]
  },
  {
   "cell_type": "code",
   "execution_count": 24,
   "id": "821eba72",
   "metadata": {
    "execution": {
     "iopub.execute_input": "2023-06-21T02:44:26.024384Z",
     "iopub.status.busy": "2023-06-21T02:44:26.023951Z",
     "iopub.status.idle": "2023-06-21T02:44:26.029451Z",
     "shell.execute_reply": "2023-06-21T02:44:26.028443Z"
    },
    "papermill": {
     "duration": 0.021067,
     "end_time": "2023-06-21T02:44:26.031577",
     "exception": false,
     "start_time": "2023-06-21T02:44:26.010510",
     "status": "completed"
    },
    "tags": []
   },
   "outputs": [],
   "source": [
    "generated = tokenizer(\"<|startoftext|> Explanation of Profit and Loss\", \n",
    "                      return_tensors=\"pt\").input_ids.cuda()"
   ]
  },
  {
   "cell_type": "code",
   "execution_count": 25,
   "id": "dc770f95",
   "metadata": {
    "execution": {
     "iopub.execute_input": "2023-06-21T02:44:26.058666Z",
     "iopub.status.busy": "2023-06-21T02:44:26.057862Z",
     "iopub.status.idle": "2023-06-21T02:44:28.648860Z",
     "shell.execute_reply": "2023-06-21T02:44:28.647818Z"
    },
    "papermill": {
     "duration": 2.607466,
     "end_time": "2023-06-21T02:44:28.651650",
     "exception": false,
     "start_time": "2023-06-21T02:44:26.044184",
     "status": "completed"
    },
    "tags": []
   },
   "outputs": [],
   "source": [
    "sample_outputs = model.generate(generated,\n",
    "                                do_sample = True,\n",
    "                                top_k = 30, \n",
    "                                max_length = 125,\n",
    "                                top_p = 0.95,\n",
    "                                temperature = 0.5,\n",
    "                                num_return_sequences = 1,\n",
    "                               pad_token_id=tokenizer.eos_token_id)"
   ]
  },
  {
   "cell_type": "code",
   "execution_count": 26,
   "id": "70b8fb42",
   "metadata": {
    "execution": {
     "iopub.execute_input": "2023-06-21T02:44:28.679243Z",
     "iopub.status.busy": "2023-06-21T02:44:28.678913Z",
     "iopub.status.idle": "2023-06-21T02:44:28.688864Z",
     "shell.execute_reply": "2023-06-21T02:44:28.687857Z"
    },
    "papermill": {
     "duration": 0.02581,
     "end_time": "2023-06-21T02:44:28.691139",
     "exception": false,
     "start_time": "2023-06-21T02:44:28.665329",
     "status": "completed"
    },
    "tags": []
   },
   "outputs": [
    {
     "name": "stdout",
     "output_type": "stream",
     "text": [
      "0:  Explanation of Profit and Losses\n",
      "\n",
      "      In this section we present the economic and financial data that Charlie and I wish you to see.  This material is presented in a manner that \n",
      "insures that you will understand the economic and financial reasoning underlying our \n",
      "investments.  The table below shows the major components of Berkshire's \n",
      "operating earnings and, where applicable, our capital gains or losses.  \n",
      "                                 \n"
     ]
    }
   ],
   "source": [
    "for i, sample_output in enumerate(sample_outputs):\n",
    "    print(\"{}: {}\".format(i, tokenizer.decode(sample_output, \n",
    "                                              skip_special_tokens=True)))"
   ]
  },
  {
   "cell_type": "code",
   "execution_count": 27,
   "id": "1e63a24f",
   "metadata": {
    "execution": {
     "iopub.execute_input": "2023-06-21T02:44:28.717381Z",
     "iopub.status.busy": "2023-06-21T02:44:28.717081Z",
     "iopub.status.idle": "2023-06-21T02:44:31.383440Z",
     "shell.execute_reply": "2023-06-21T02:44:31.382369Z"
    },
    "papermill": {
     "duration": 2.682403,
     "end_time": "2023-06-21T02:44:31.386051",
     "exception": false,
     "start_time": "2023-06-21T02:44:28.703648",
     "status": "completed"
    },
    "tags": []
   },
   "outputs": [
    {
     "data": {
      "text/plain": [
       "' Explanation of Profit and Loss                                                                                                                      '"
      ]
     },
     "execution_count": 27,
     "metadata": {},
     "output_type": "execute_result"
    }
   ],
   "source": [
    "sample_outputs = model.generate(generated,\n",
    "                                do_sample = True,\n",
    "                                top_k = 30, \n",
    "                                max_length = 125,\n",
    "                                top_p = 0.95,\n",
    "                                temperature = 0.7,\n",
    "                                num_return_sequences = 1,\n",
    "                               pad_token_id=tokenizer.eos_token_id)\n",
    "\n",
    "tokenizer.decode(sample_outputs[0], skip_special_tokens=True)"
   ]
  },
  {
   "cell_type": "code",
   "execution_count": 28,
   "id": "7a11c7b5",
   "metadata": {
    "execution": {
     "iopub.execute_input": "2023-06-21T02:44:31.415141Z",
     "iopub.status.busy": "2023-06-21T02:44:31.414836Z",
     "iopub.status.idle": "2023-06-21T02:44:34.006033Z",
     "shell.execute_reply": "2023-06-21T02:44:34.005082Z"
    },
    "papermill": {
     "duration": 2.608453,
     "end_time": "2023-06-21T02:44:34.008188",
     "exception": false,
     "start_time": "2023-06-21T02:44:31.399735",
     "status": "completed"
    },
    "tags": []
   },
   "outputs": [
    {
     "data": {
      "text/plain": [
       "' When the stock market is moving at a pace that would be unwise to use as a yardstick to gauge the progress of an enterprise, I think it is safe to say that its price will be more than zero. \\n                                                                              '"
      ]
     },
     "execution_count": 28,
     "metadata": {},
     "output_type": "execute_result"
    }
   ],
   "source": [
    "generated = tokenizer(\"<|startoftext|> When the stock market is moving\", \n",
    "                      return_tensors=\"pt\").input_ids.cuda()\n",
    "\n",
    "sample_outputs = model.generate(generated,\n",
    "                                do_sample = True,\n",
    "                                top_k = 30, \n",
    "                                max_length = 125,\n",
    "                                top_p = 0.95,\n",
    "                                temperature = 0.7,\n",
    "                                num_return_sequences = 1,\n",
    "                               pad_token_id=tokenizer.eos_token_id)\n",
    "\n",
    "tokenizer.decode(sample_outputs[0], skip_special_tokens=True)"
   ]
  }
 ],
 "metadata": {
  "kernelspec": {
   "display_name": "Python 3 (ipykernel)",
   "language": "python",
   "name": "python3"
  },
  "language_info": {
   "codemirror_mode": {
    "name": "ipython",
    "version": 3
   },
   "file_extension": ".py",
   "mimetype": "text/x-python",
   "name": "python",
   "nbconvert_exporter": "python",
   "pygments_lexer": "ipython3",
   "version": "3.11.4"
  },
  "papermill": {
   "default_parameters": {},
   "duration": 1673.511514,
   "end_time": "2023-06-21T02:44:37.768044",
   "environment_variables": {},
   "exception": null,
   "input_path": "__notebook__.ipynb",
   "output_path": "__notebook__.ipynb",
   "parameters": {},
   "start_time": "2023-06-21T02:16:44.256530",
   "version": "2.4.0"
  },
  "widgets": {
   "application/vnd.jupyter.widget-state+json": {
    "state": {
     "009496b9a4f4441fa7be3d497a450382": {
      "model_module": "@jupyter-widgets/controls",
      "model_module_version": "1.5.0",
      "model_name": "HTMLModel",
      "state": {
       "_dom_classes": [],
       "_model_module": "@jupyter-widgets/controls",
       "_model_module_version": "1.5.0",
       "_model_name": "HTMLModel",
       "_view_count": null,
       "_view_module": "@jupyter-widgets/controls",
       "_view_module_version": "1.5.0",
       "_view_name": "HTMLView",
       "description": "",
       "description_tooltip": null,
       "layout": "IPY_MODEL_1d1bce157f534681b60091132e693d6a",
       "placeholder": "​",
       "style": "IPY_MODEL_7c58b216da2d40519e074127cf10f3c5",
       "value": " 456k/456k [00:00&lt;00:00, 3.52MB/s]"
      }
     },
     "01268b3e3f9947aab0207436b611f77a": {
      "model_module": "@jupyter-widgets/controls",
      "model_module_version": "1.5.0",
      "model_name": "ProgressStyleModel",
      "state": {
       "_model_module": "@jupyter-widgets/controls",
       "_model_module_version": "1.5.0",
       "_model_name": "ProgressStyleModel",
       "_view_count": null,
       "_view_module": "@jupyter-widgets/base",
       "_view_module_version": "1.2.0",
       "_view_name": "StyleView",
       "bar_color": null,
       "description_width": ""
      }
     },
     "12c60005d166429ba86cb0818342b2aa": {
      "model_module": "@jupyter-widgets/controls",
      "model_module_version": "1.5.0",
      "model_name": "HTMLModel",
      "state": {
       "_dom_classes": [],
       "_model_module": "@jupyter-widgets/controls",
       "_model_module_version": "1.5.0",
       "_model_name": "HTMLModel",
       "_view_count": null,
       "_view_module": "@jupyter-widgets/controls",
       "_view_module_version": "1.5.0",
       "_view_name": "HTMLView",
       "description": "",
       "description_tooltip": null,
       "layout": "IPY_MODEL_65e748f932e34256911bed8ecdb8d04b",
       "placeholder": "​",
       "style": "IPY_MODEL_6b5ab912b32c4e289e187cc58552ff0e",
       "value": "Downloading (…)olve/main/merges.txt: 100%"
      }
     },
     "17c41d631a7345558c778c14da0b9350": {
      "model_module": "@jupyter-widgets/controls",
      "model_module_version": "1.5.0",
      "model_name": "HTMLModel",
      "state": {
       "_dom_classes": [],
       "_model_module": "@jupyter-widgets/controls",
       "_model_module_version": "1.5.0",
       "_model_name": "HTMLModel",
       "_view_count": null,
       "_view_module": "@jupyter-widgets/controls",
       "_view_module_version": "1.5.0",
       "_view_name": "HTMLView",
       "description": "",
       "description_tooltip": null,
       "layout": "IPY_MODEL_82011645901e4079bf7330bf85547969",
       "placeholder": "​",
       "style": "IPY_MODEL_31b44e96304e486ba51180472f2861a0",
       "value": "Downloading (…)olve/main/vocab.json: 100%"
      }
     },
     "1a39a8977e344bc488265c16cce9ea59": {
      "model_module": "@jupyter-widgets/base",
      "model_module_version": "1.2.0",
      "model_name": "LayoutModel",
      "state": {
       "_model_module": "@jupyter-widgets/base",
       "_model_module_version": "1.2.0",
       "_model_name": "LayoutModel",
       "_view_count": null,
       "_view_module": "@jupyter-widgets/base",
       "_view_module_version": "1.2.0",
       "_view_name": "LayoutView",
       "align_content": null,
       "align_items": null,
       "align_self": null,
       "border": null,
       "bottom": null,
       "display": null,
       "flex": null,
       "flex_flow": null,
       "grid_area": null,
       "grid_auto_columns": null,
       "grid_auto_flow": null,
       "grid_auto_rows": null,
       "grid_column": null,
       "grid_gap": null,
       "grid_row": null,
       "grid_template_areas": null,
       "grid_template_columns": null,
       "grid_template_rows": null,
       "height": null,
       "justify_content": null,
       "justify_items": null,
       "left": null,
       "margin": null,
       "max_height": null,
       "max_width": null,
       "min_height": null,
       "min_width": null,
       "object_fit": null,
       "object_position": null,
       "order": null,
       "overflow": null,
       "overflow_x": null,
       "overflow_y": null,
       "padding": null,
       "right": null,
       "top": null,
       "visibility": null,
       "width": null
      }
     },
     "1cbef731ede642c29ef94803bd806631": {
      "model_module": "@jupyter-widgets/controls",
      "model_module_version": "1.5.0",
      "model_name": "HBoxModel",
      "state": {
       "_dom_classes": [],
       "_model_module": "@jupyter-widgets/controls",
       "_model_module_version": "1.5.0",
       "_model_name": "HBoxModel",
       "_view_count": null,
       "_view_module": "@jupyter-widgets/controls",
       "_view_module_version": "1.5.0",
       "_view_name": "HBoxView",
       "box_style": "",
       "children": [
        "IPY_MODEL_17c41d631a7345558c778c14da0b9350",
        "IPY_MODEL_5d6643d4759843c8bcff4c609d3daca1",
        "IPY_MODEL_3c4439ba1dac48779d484b7de8c6b1a8"
       ],
       "layout": "IPY_MODEL_66d20b4758e4419b8538c369975b7171"
      }
     },
     "1d1bce157f534681b60091132e693d6a": {
      "model_module": "@jupyter-widgets/base",
      "model_module_version": "1.2.0",
      "model_name": "LayoutModel",
      "state": {
       "_model_module": "@jupyter-widgets/base",
       "_model_module_version": "1.2.0",
       "_model_name": "LayoutModel",
       "_view_count": null,
       "_view_module": "@jupyter-widgets/base",
       "_view_module_version": "1.2.0",
       "_view_name": "LayoutView",
       "align_content": null,
       "align_items": null,
       "align_self": null,
       "border": null,
       "bottom": null,
       "display": null,
       "flex": null,
       "flex_flow": null,
       "grid_area": null,
       "grid_auto_columns": null,
       "grid_auto_flow": null,
       "grid_auto_rows": null,
       "grid_column": null,
       "grid_gap": null,
       "grid_row": null,
       "grid_template_areas": null,
       "grid_template_columns": null,
       "grid_template_rows": null,
       "height": null,
       "justify_content": null,
       "justify_items": null,
       "left": null,
       "margin": null,
       "max_height": null,
       "max_width": null,
       "min_height": null,
       "min_width": null,
       "object_fit": null,
       "object_position": null,
       "order": null,
       "overflow": null,
       "overflow_x": null,
       "overflow_y": null,
       "padding": null,
       "right": null,
       "top": null,
       "visibility": null,
       "width": null
      }
     },
     "1d9f83f6bff04dcd9f75bb1c316c9c4f": {
      "model_module": "@jupyter-widgets/controls",
      "model_module_version": "1.5.0",
      "model_name": "FloatProgressModel",
      "state": {
       "_dom_classes": [],
       "_model_module": "@jupyter-widgets/controls",
       "_model_module_version": "1.5.0",
       "_model_name": "FloatProgressModel",
       "_view_count": null,
       "_view_module": "@jupyter-widgets/controls",
       "_view_module_version": "1.5.0",
       "_view_name": "ProgressView",
       "bar_style": "success",
       "description": "",
       "description_tooltip": null,
       "layout": "IPY_MODEL_564f37a11c504433a5c7bc5783e8c08b",
       "max": 1519984962,
       "min": 0,
       "orientation": "horizontal",
       "style": "IPY_MODEL_01268b3e3f9947aab0207436b611f77a",
       "value": 1519984962
      }
     },
     "31b44e96304e486ba51180472f2861a0": {
      "model_module": "@jupyter-widgets/controls",
      "model_module_version": "1.5.0",
      "model_name": "DescriptionStyleModel",
      "state": {
       "_model_module": "@jupyter-widgets/controls",
       "_model_module_version": "1.5.0",
       "_model_name": "DescriptionStyleModel",
       "_view_count": null,
       "_view_module": "@jupyter-widgets/base",
       "_view_module_version": "1.2.0",
       "_view_name": "StyleView",
       "description_width": ""
      }
     },
     "31f5d47dd2814e9e9be662bd6b7cbbd5": {
      "model_module": "@jupyter-widgets/base",
      "model_module_version": "1.2.0",
      "model_name": "LayoutModel",
      "state": {
       "_model_module": "@jupyter-widgets/base",
       "_model_module_version": "1.2.0",
       "_model_name": "LayoutModel",
       "_view_count": null,
       "_view_module": "@jupyter-widgets/base",
       "_view_module_version": "1.2.0",
       "_view_name": "LayoutView",
       "align_content": null,
       "align_items": null,
       "align_self": null,
       "border": null,
       "bottom": null,
       "display": null,
       "flex": null,
       "flex_flow": null,
       "grid_area": null,
       "grid_auto_columns": null,
       "grid_auto_flow": null,
       "grid_auto_rows": null,
       "grid_column": null,
       "grid_gap": null,
       "grid_row": null,
       "grid_template_areas": null,
       "grid_template_columns": null,
       "grid_template_rows": null,
       "height": null,
       "justify_content": null,
       "justify_items": null,
       "left": null,
       "margin": null,
       "max_height": null,
       "max_width": null,
       "min_height": null,
       "min_width": null,
       "object_fit": null,
       "object_position": null,
       "order": null,
       "overflow": null,
       "overflow_x": null,
       "overflow_y": null,
       "padding": null,
       "right": null,
       "top": null,
       "visibility": null,
       "width": null
      }
     },
     "322f551477914ba1bcd951deb4bfaa35": {
      "model_module": "@jupyter-widgets/controls",
      "model_module_version": "1.5.0",
      "model_name": "ProgressStyleModel",
      "state": {
       "_model_module": "@jupyter-widgets/controls",
       "_model_module_version": "1.5.0",
       "_model_name": "ProgressStyleModel",
       "_view_count": null,
       "_view_module": "@jupyter-widgets/base",
       "_view_module_version": "1.2.0",
       "_view_name": "StyleView",
       "bar_color": null,
       "description_width": ""
      }
     },
     "37940594b8bb4181849fe61821f19c5a": {
      "model_module": "@jupyter-widgets/controls",
      "model_module_version": "1.5.0",
      "model_name": "HTMLModel",
      "state": {
       "_dom_classes": [],
       "_model_module": "@jupyter-widgets/controls",
       "_model_module_version": "1.5.0",
       "_model_name": "HTMLModel",
       "_view_count": null,
       "_view_module": "@jupyter-widgets/controls",
       "_view_module_version": "1.5.0",
       "_view_name": "HTMLView",
       "description": "",
       "description_tooltip": null,
       "layout": "IPY_MODEL_3a9ac0e2a97348f3b4a63f092e57c84e",
       "placeholder": "​",
       "style": "IPY_MODEL_3c7afa743c814b70bfc3b99b482ed922",
       "value": "Downloading (…)neration_config.json: 100%"
      }
     },
     "38270019baec48ea8e138aecc6709051": {
      "model_module": "@jupyter-widgets/base",
      "model_module_version": "1.2.0",
      "model_name": "LayoutModel",
      "state": {
       "_model_module": "@jupyter-widgets/base",
       "_model_module_version": "1.2.0",
       "_model_name": "LayoutModel",
       "_view_count": null,
       "_view_module": "@jupyter-widgets/base",
       "_view_module_version": "1.2.0",
       "_view_name": "LayoutView",
       "align_content": null,
       "align_items": null,
       "align_self": null,
       "border": null,
       "bottom": null,
       "display": null,
       "flex": null,
       "flex_flow": null,
       "grid_area": null,
       "grid_auto_columns": null,
       "grid_auto_flow": null,
       "grid_auto_rows": null,
       "grid_column": null,
       "grid_gap": null,
       "grid_row": null,
       "grid_template_areas": null,
       "grid_template_columns": null,
       "grid_template_rows": null,
       "height": null,
       "justify_content": null,
       "justify_items": null,
       "left": null,
       "margin": null,
       "max_height": null,
       "max_width": null,
       "min_height": null,
       "min_width": null,
       "object_fit": null,
       "object_position": null,
       "order": null,
       "overflow": null,
       "overflow_x": null,
       "overflow_y": null,
       "padding": null,
       "right": null,
       "top": null,
       "visibility": null,
       "width": null
      }
     },
     "3a9ac0e2a97348f3b4a63f092e57c84e": {
      "model_module": "@jupyter-widgets/base",
      "model_module_version": "1.2.0",
      "model_name": "LayoutModel",
      "state": {
       "_model_module": "@jupyter-widgets/base",
       "_model_module_version": "1.2.0",
       "_model_name": "LayoutModel",
       "_view_count": null,
       "_view_module": "@jupyter-widgets/base",
       "_view_module_version": "1.2.0",
       "_view_name": "LayoutView",
       "align_content": null,
       "align_items": null,
       "align_self": null,
       "border": null,
       "bottom": null,
       "display": null,
       "flex": null,
       "flex_flow": null,
       "grid_area": null,
       "grid_auto_columns": null,
       "grid_auto_flow": null,
       "grid_auto_rows": null,
       "grid_column": null,
       "grid_gap": null,
       "grid_row": null,
       "grid_template_areas": null,
       "grid_template_columns": null,
       "grid_template_rows": null,
       "height": null,
       "justify_content": null,
       "justify_items": null,
       "left": null,
       "margin": null,
       "max_height": null,
       "max_width": null,
       "min_height": null,
       "min_width": null,
       "object_fit": null,
       "object_position": null,
       "order": null,
       "overflow": null,
       "overflow_x": null,
       "overflow_y": null,
       "padding": null,
       "right": null,
       "top": null,
       "visibility": null,
       "width": null
      }
     },
     "3c4439ba1dac48779d484b7de8c6b1a8": {
      "model_module": "@jupyter-widgets/controls",
      "model_module_version": "1.5.0",
      "model_name": "HTMLModel",
      "state": {
       "_dom_classes": [],
       "_model_module": "@jupyter-widgets/controls",
       "_model_module_version": "1.5.0",
       "_model_name": "HTMLModel",
       "_view_count": null,
       "_view_module": "@jupyter-widgets/controls",
       "_view_module_version": "1.5.0",
       "_view_name": "HTMLView",
       "description": "",
       "description_tooltip": null,
       "layout": "IPY_MODEL_d5e17244df654eb3befb3c93ac2682d4",
       "placeholder": "​",
       "style": "IPY_MODEL_ed5f492b93f14972800b5ef735c5c2c9",
       "value": " 1.04M/1.04M [00:00&lt;00:00, 3.99MB/s]"
      }
     },
     "3c7afa743c814b70bfc3b99b482ed922": {
      "model_module": "@jupyter-widgets/controls",
      "model_module_version": "1.5.0",
      "model_name": "DescriptionStyleModel",
      "state": {
       "_model_module": "@jupyter-widgets/controls",
       "_model_module_version": "1.5.0",
       "_model_name": "DescriptionStyleModel",
       "_view_count": null,
       "_view_module": "@jupyter-widgets/base",
       "_view_module_version": "1.2.0",
       "_view_name": "StyleView",
       "description_width": ""
      }
     },
     "4d71d5e1ef034200bf4139b1018d5ef6": {
      "model_module": "@jupyter-widgets/controls",
      "model_module_version": "1.5.0",
      "model_name": "DescriptionStyleModel",
      "state": {
       "_model_module": "@jupyter-widgets/controls",
       "_model_module_version": "1.5.0",
       "_model_name": "DescriptionStyleModel",
       "_view_count": null,
       "_view_module": "@jupyter-widgets/base",
       "_view_module_version": "1.2.0",
       "_view_name": "StyleView",
       "description_width": ""
      }
     },
     "4f5ac046e0f4487aa814b944f6b77fa0": {
      "model_module": "@jupyter-widgets/controls",
      "model_module_version": "1.5.0",
      "model_name": "ProgressStyleModel",
      "state": {
       "_model_module": "@jupyter-widgets/controls",
       "_model_module_version": "1.5.0",
       "_model_name": "ProgressStyleModel",
       "_view_count": null,
       "_view_module": "@jupyter-widgets/base",
       "_view_module_version": "1.2.0",
       "_view_name": "StyleView",
       "bar_color": null,
       "description_width": ""
      }
     },
     "50d4517c8709433ab4f1f2817ae2dd1f": {
      "model_module": "@jupyter-widgets/base",
      "model_module_version": "1.2.0",
      "model_name": "LayoutModel",
      "state": {
       "_model_module": "@jupyter-widgets/base",
       "_model_module_version": "1.2.0",
       "_model_name": "LayoutModel",
       "_view_count": null,
       "_view_module": "@jupyter-widgets/base",
       "_view_module_version": "1.2.0",
       "_view_name": "LayoutView",
       "align_content": null,
       "align_items": null,
       "align_self": null,
       "border": null,
       "bottom": null,
       "display": null,
       "flex": null,
       "flex_flow": null,
       "grid_area": null,
       "grid_auto_columns": null,
       "grid_auto_flow": null,
       "grid_auto_rows": null,
       "grid_column": null,
       "grid_gap": null,
       "grid_row": null,
       "grid_template_areas": null,
       "grid_template_columns": null,
       "grid_template_rows": null,
       "height": null,
       "justify_content": null,
       "justify_items": null,
       "left": null,
       "margin": null,
       "max_height": null,
       "max_width": null,
       "min_height": null,
       "min_width": null,
       "object_fit": null,
       "object_position": null,
       "order": null,
       "overflow": null,
       "overflow_x": null,
       "overflow_y": null,
       "padding": null,
       "right": null,
       "top": null,
       "visibility": null,
       "width": null
      }
     },
     "564f37a11c504433a5c7bc5783e8c08b": {
      "model_module": "@jupyter-widgets/base",
      "model_module_version": "1.2.0",
      "model_name": "LayoutModel",
      "state": {
       "_model_module": "@jupyter-widgets/base",
       "_model_module_version": "1.2.0",
       "_model_name": "LayoutModel",
       "_view_count": null,
       "_view_module": "@jupyter-widgets/base",
       "_view_module_version": "1.2.0",
       "_view_name": "LayoutView",
       "align_content": null,
       "align_items": null,
       "align_self": null,
       "border": null,
       "bottom": null,
       "display": null,
       "flex": null,
       "flex_flow": null,
       "grid_area": null,
       "grid_auto_columns": null,
       "grid_auto_flow": null,
       "grid_auto_rows": null,
       "grid_column": null,
       "grid_gap": null,
       "grid_row": null,
       "grid_template_areas": null,
       "grid_template_columns": null,
       "grid_template_rows": null,
       "height": null,
       "justify_content": null,
       "justify_items": null,
       "left": null,
       "margin": null,
       "max_height": null,
       "max_width": null,
       "min_height": null,
       "min_width": null,
       "object_fit": null,
       "object_position": null,
       "order": null,
       "overflow": null,
       "overflow_x": null,
       "overflow_y": null,
       "padding": null,
       "right": null,
       "top": null,
       "visibility": null,
       "width": null
      }
     },
     "574d2de366df42d9ba6697a9b03d097c": {
      "model_module": "@jupyter-widgets/base",
      "model_module_version": "1.2.0",
      "model_name": "LayoutModel",
      "state": {
       "_model_module": "@jupyter-widgets/base",
       "_model_module_version": "1.2.0",
       "_model_name": "LayoutModel",
       "_view_count": null,
       "_view_module": "@jupyter-widgets/base",
       "_view_module_version": "1.2.0",
       "_view_name": "LayoutView",
       "align_content": null,
       "align_items": null,
       "align_self": null,
       "border": null,
       "bottom": null,
       "display": null,
       "flex": null,
       "flex_flow": null,
       "grid_area": null,
       "grid_auto_columns": null,
       "grid_auto_flow": null,
       "grid_auto_rows": null,
       "grid_column": null,
       "grid_gap": null,
       "grid_row": null,
       "grid_template_areas": null,
       "grid_template_columns": null,
       "grid_template_rows": null,
       "height": null,
       "justify_content": null,
       "justify_items": null,
       "left": null,
       "margin": null,
       "max_height": null,
       "max_width": null,
       "min_height": null,
       "min_width": null,
       "object_fit": null,
       "object_position": null,
       "order": null,
       "overflow": null,
       "overflow_x": null,
       "overflow_y": null,
       "padding": null,
       "right": null,
       "top": null,
       "visibility": null,
       "width": null
      }
     },
     "5d6643d4759843c8bcff4c609d3daca1": {
      "model_module": "@jupyter-widgets/controls",
      "model_module_version": "1.5.0",
      "model_name": "FloatProgressModel",
      "state": {
       "_dom_classes": [],
       "_model_module": "@jupyter-widgets/controls",
       "_model_module_version": "1.5.0",
       "_model_name": "FloatProgressModel",
       "_view_count": null,
       "_view_module": "@jupyter-widgets/controls",
       "_view_module_version": "1.5.0",
       "_view_name": "ProgressView",
       "bar_style": "success",
       "description": "",
       "description_tooltip": null,
       "layout": "IPY_MODEL_50d4517c8709433ab4f1f2817ae2dd1f",
       "max": 1042301,
       "min": 0,
       "orientation": "horizontal",
       "style": "IPY_MODEL_322f551477914ba1bcd951deb4bfaa35",
       "value": 1042301
      }
     },
     "65e748f932e34256911bed8ecdb8d04b": {
      "model_module": "@jupyter-widgets/base",
      "model_module_version": "1.2.0",
      "model_name": "LayoutModel",
      "state": {
       "_model_module": "@jupyter-widgets/base",
       "_model_module_version": "1.2.0",
       "_model_name": "LayoutModel",
       "_view_count": null,
       "_view_module": "@jupyter-widgets/base",
       "_view_module_version": "1.2.0",
       "_view_name": "LayoutView",
       "align_content": null,
       "align_items": null,
       "align_self": null,
       "border": null,
       "bottom": null,
       "display": null,
       "flex": null,
       "flex_flow": null,
       "grid_area": null,
       "grid_auto_columns": null,
       "grid_auto_flow": null,
       "grid_auto_rows": null,
       "grid_column": null,
       "grid_gap": null,
       "grid_row": null,
       "grid_template_areas": null,
       "grid_template_columns": null,
       "grid_template_rows": null,
       "height": null,
       "justify_content": null,
       "justify_items": null,
       "left": null,
       "margin": null,
       "max_height": null,
       "max_width": null,
       "min_height": null,
       "min_width": null,
       "object_fit": null,
       "object_position": null,
       "order": null,
       "overflow": null,
       "overflow_x": null,
       "overflow_y": null,
       "padding": null,
       "right": null,
       "top": null,
       "visibility": null,
       "width": null
      }
     },
     "66d20b4758e4419b8538c369975b7171": {
      "model_module": "@jupyter-widgets/base",
      "model_module_version": "1.2.0",
      "model_name": "LayoutModel",
      "state": {
       "_model_module": "@jupyter-widgets/base",
       "_model_module_version": "1.2.0",
       "_model_name": "LayoutModel",
       "_view_count": null,
       "_view_module": "@jupyter-widgets/base",
       "_view_module_version": "1.2.0",
       "_view_name": "LayoutView",
       "align_content": null,
       "align_items": null,
       "align_self": null,
       "border": null,
       "bottom": null,
       "display": null,
       "flex": null,
       "flex_flow": null,
       "grid_area": null,
       "grid_auto_columns": null,
       "grid_auto_flow": null,
       "grid_auto_rows": null,
       "grid_column": null,
       "grid_gap": null,
       "grid_row": null,
       "grid_template_areas": null,
       "grid_template_columns": null,
       "grid_template_rows": null,
       "height": null,
       "justify_content": null,
       "justify_items": null,
       "left": null,
       "margin": null,
       "max_height": null,
       "max_width": null,
       "min_height": null,
       "min_width": null,
       "object_fit": null,
       "object_position": null,
       "order": null,
       "overflow": null,
       "overflow_x": null,
       "overflow_y": null,
       "padding": null,
       "right": null,
       "top": null,
       "visibility": null,
       "width": null
      }
     },
     "6a6159c2489b4dc9927869a9b95b2811": {
      "model_module": "@jupyter-widgets/controls",
      "model_module_version": "1.5.0",
      "model_name": "DescriptionStyleModel",
      "state": {
       "_model_module": "@jupyter-widgets/controls",
       "_model_module_version": "1.5.0",
       "_model_name": "DescriptionStyleModel",
       "_view_count": null,
       "_view_module": "@jupyter-widgets/base",
       "_view_module_version": "1.2.0",
       "_view_name": "StyleView",
       "description_width": ""
      }
     },
     "6b5ab912b32c4e289e187cc58552ff0e": {
      "model_module": "@jupyter-widgets/controls",
      "model_module_version": "1.5.0",
      "model_name": "DescriptionStyleModel",
      "state": {
       "_model_module": "@jupyter-widgets/controls",
       "_model_module_version": "1.5.0",
       "_model_name": "DescriptionStyleModel",
       "_view_count": null,
       "_view_module": "@jupyter-widgets/base",
       "_view_module_version": "1.2.0",
       "_view_name": "StyleView",
       "description_width": ""
      }
     },
     "6ce4a5dfb0ce432aa7df3fc81198cf78": {
      "model_module": "@jupyter-widgets/controls",
      "model_module_version": "1.5.0",
      "model_name": "HBoxModel",
      "state": {
       "_dom_classes": [],
       "_model_module": "@jupyter-widgets/controls",
       "_model_module_version": "1.5.0",
       "_model_name": "HBoxModel",
       "_view_count": null,
       "_view_module": "@jupyter-widgets/controls",
       "_view_module_version": "1.5.0",
       "_view_name": "HBoxView",
       "box_style": "",
       "children": [
        "IPY_MODEL_b18dc9f31b624863839395e69b4c575c",
        "IPY_MODEL_fedee65f2276419c98687840d23b34d3",
        "IPY_MODEL_883752ce71f5466cab931fe44a171250"
       ],
       "layout": "IPY_MODEL_bec2a07777944d7280b14549fdeee90c"
      }
     },
     "71fa1bd324cb4509a7f5e4287fc16c08": {
      "model_module": "@jupyter-widgets/base",
      "model_module_version": "1.2.0",
      "model_name": "LayoutModel",
      "state": {
       "_model_module": "@jupyter-widgets/base",
       "_model_module_version": "1.2.0",
       "_model_name": "LayoutModel",
       "_view_count": null,
       "_view_module": "@jupyter-widgets/base",
       "_view_module_version": "1.2.0",
       "_view_name": "LayoutView",
       "align_content": null,
       "align_items": null,
       "align_self": null,
       "border": null,
       "bottom": null,
       "display": null,
       "flex": null,
       "flex_flow": null,
       "grid_area": null,
       "grid_auto_columns": null,
       "grid_auto_flow": null,
       "grid_auto_rows": null,
       "grid_column": null,
       "grid_gap": null,
       "grid_row": null,
       "grid_template_areas": null,
       "grid_template_columns": null,
       "grid_template_rows": null,
       "height": null,
       "justify_content": null,
       "justify_items": null,
       "left": null,
       "margin": null,
       "max_height": null,
       "max_width": null,
       "min_height": null,
       "min_width": null,
       "object_fit": null,
       "object_position": null,
       "order": null,
       "overflow": null,
       "overflow_x": null,
       "overflow_y": null,
       "padding": null,
       "right": null,
       "top": null,
       "visibility": null,
       "width": null
      }
     },
     "786224dcc45d455e82ac33e25b79120a": {
      "model_module": "@jupyter-widgets/base",
      "model_module_version": "1.2.0",
      "model_name": "LayoutModel",
      "state": {
       "_model_module": "@jupyter-widgets/base",
       "_model_module_version": "1.2.0",
       "_model_name": "LayoutModel",
       "_view_count": null,
       "_view_module": "@jupyter-widgets/base",
       "_view_module_version": "1.2.0",
       "_view_name": "LayoutView",
       "align_content": null,
       "align_items": null,
       "align_self": null,
       "border": null,
       "bottom": null,
       "display": null,
       "flex": null,
       "flex_flow": null,
       "grid_area": null,
       "grid_auto_columns": null,
       "grid_auto_flow": null,
       "grid_auto_rows": null,
       "grid_column": null,
       "grid_gap": null,
       "grid_row": null,
       "grid_template_areas": null,
       "grid_template_columns": null,
       "grid_template_rows": null,
       "height": null,
       "justify_content": null,
       "justify_items": null,
       "left": null,
       "margin": null,
       "max_height": null,
       "max_width": null,
       "min_height": null,
       "min_width": null,
       "object_fit": null,
       "object_position": null,
       "order": null,
       "overflow": null,
       "overflow_x": null,
       "overflow_y": null,
       "padding": null,
       "right": null,
       "top": null,
       "visibility": null,
       "width": null
      }
     },
     "7c58b216da2d40519e074127cf10f3c5": {
      "model_module": "@jupyter-widgets/controls",
      "model_module_version": "1.5.0",
      "model_name": "DescriptionStyleModel",
      "state": {
       "_model_module": "@jupyter-widgets/controls",
       "_model_module_version": "1.5.0",
       "_model_name": "DescriptionStyleModel",
       "_view_count": null,
       "_view_module": "@jupyter-widgets/base",
       "_view_module_version": "1.2.0",
       "_view_name": "StyleView",
       "description_width": ""
      }
     },
     "82011645901e4079bf7330bf85547969": {
      "model_module": "@jupyter-widgets/base",
      "model_module_version": "1.2.0",
      "model_name": "LayoutModel",
      "state": {
       "_model_module": "@jupyter-widgets/base",
       "_model_module_version": "1.2.0",
       "_model_name": "LayoutModel",
       "_view_count": null,
       "_view_module": "@jupyter-widgets/base",
       "_view_module_version": "1.2.0",
       "_view_name": "LayoutView",
       "align_content": null,
       "align_items": null,
       "align_self": null,
       "border": null,
       "bottom": null,
       "display": null,
       "flex": null,
       "flex_flow": null,
       "grid_area": null,
       "grid_auto_columns": null,
       "grid_auto_flow": null,
       "grid_auto_rows": null,
       "grid_column": null,
       "grid_gap": null,
       "grid_row": null,
       "grid_template_areas": null,
       "grid_template_columns": null,
       "grid_template_rows": null,
       "height": null,
       "justify_content": null,
       "justify_items": null,
       "left": null,
       "margin": null,
       "max_height": null,
       "max_width": null,
       "min_height": null,
       "min_width": null,
       "object_fit": null,
       "object_position": null,
       "order": null,
       "overflow": null,
       "overflow_x": null,
       "overflow_y": null,
       "padding": null,
       "right": null,
       "top": null,
       "visibility": null,
       "width": null
      }
     },
     "82d56a2f4ffe43ac87f3816bb94e5d52": {
      "model_module": "@jupyter-widgets/controls",
      "model_module_version": "1.5.0",
      "model_name": "DescriptionStyleModel",
      "state": {
       "_model_module": "@jupyter-widgets/controls",
       "_model_module_version": "1.5.0",
       "_model_name": "DescriptionStyleModel",
       "_view_count": null,
       "_view_module": "@jupyter-widgets/base",
       "_view_module_version": "1.2.0",
       "_view_name": "StyleView",
       "description_width": ""
      }
     },
     "861ba9377e654c24841870e88adbe2b6": {
      "model_module": "@jupyter-widgets/controls",
      "model_module_version": "1.5.0",
      "model_name": "HTMLModel",
      "state": {
       "_dom_classes": [],
       "_model_module": "@jupyter-widgets/controls",
       "_model_module_version": "1.5.0",
       "_model_name": "HTMLModel",
       "_view_count": null,
       "_view_module": "@jupyter-widgets/controls",
       "_view_module_version": "1.5.0",
       "_view_name": "HTMLView",
       "description": "",
       "description_tooltip": null,
       "layout": "IPY_MODEL_38270019baec48ea8e138aecc6709051",
       "placeholder": "​",
       "style": "IPY_MODEL_e54a3829b873411fb865720e034c218b",
       "value": "Downloading model.safetensors: 100%"
      }
     },
     "87825c37e68046b6896fa447ad64a042": {
      "model_module": "@jupyter-widgets/controls",
      "model_module_version": "1.5.0",
      "model_name": "ProgressStyleModel",
      "state": {
       "_model_module": "@jupyter-widgets/controls",
       "_model_module_version": "1.5.0",
       "_model_name": "ProgressStyleModel",
       "_view_count": null,
       "_view_module": "@jupyter-widgets/base",
       "_view_module_version": "1.2.0",
       "_view_name": "StyleView",
       "bar_color": null,
       "description_width": ""
      }
     },
     "883752ce71f5466cab931fe44a171250": {
      "model_module": "@jupyter-widgets/controls",
      "model_module_version": "1.5.0",
      "model_name": "HTMLModel",
      "state": {
       "_dom_classes": [],
       "_model_module": "@jupyter-widgets/controls",
       "_model_module_version": "1.5.0",
       "_model_name": "HTMLModel",
       "_view_count": null,
       "_view_module": "@jupyter-widgets/controls",
       "_view_module_version": "1.5.0",
       "_view_name": "HTMLView",
       "description": "",
       "description_tooltip": null,
       "layout": "IPY_MODEL_1a39a8977e344bc488265c16cce9ea59",
       "placeholder": "​",
       "style": "IPY_MODEL_6a6159c2489b4dc9927869a9b95b2811",
       "value": " 718/718 [00:00&lt;00:00, 54.4kB/s]"
      }
     },
     "8c45a684e8314d569e1d975d3c30cf2d": {
      "model_module": "@jupyter-widgets/controls",
      "model_module_version": "1.5.0",
      "model_name": "HBoxModel",
      "state": {
       "_dom_classes": [],
       "_model_module": "@jupyter-widgets/controls",
       "_model_module_version": "1.5.0",
       "_model_name": "HBoxModel",
       "_view_count": null,
       "_view_module": "@jupyter-widgets/controls",
       "_view_module_version": "1.5.0",
       "_view_name": "HBoxView",
       "box_style": "",
       "children": [
        "IPY_MODEL_861ba9377e654c24841870e88adbe2b6",
        "IPY_MODEL_1d9f83f6bff04dcd9f75bb1c316c9c4f",
        "IPY_MODEL_9ef7f554e4e54d31a3dac795559ce249"
       ],
       "layout": "IPY_MODEL_b35160872065497f8fcc70f56809ec1d"
      }
     },
     "95f5bc82ed9045f4b32ee27588a18463": {
      "model_module": "@jupyter-widgets/base",
      "model_module_version": "1.2.0",
      "model_name": "LayoutModel",
      "state": {
       "_model_module": "@jupyter-widgets/base",
       "_model_module_version": "1.2.0",
       "_model_name": "LayoutModel",
       "_view_count": null,
       "_view_module": "@jupyter-widgets/base",
       "_view_module_version": "1.2.0",
       "_view_name": "LayoutView",
       "align_content": null,
       "align_items": null,
       "align_self": null,
       "border": null,
       "bottom": null,
       "display": null,
       "flex": null,
       "flex_flow": null,
       "grid_area": null,
       "grid_auto_columns": null,
       "grid_auto_flow": null,
       "grid_auto_rows": null,
       "grid_column": null,
       "grid_gap": null,
       "grid_row": null,
       "grid_template_areas": null,
       "grid_template_columns": null,
       "grid_template_rows": null,
       "height": null,
       "justify_content": null,
       "justify_items": null,
       "left": null,
       "margin": null,
       "max_height": null,
       "max_width": null,
       "min_height": null,
       "min_width": null,
       "object_fit": null,
       "object_position": null,
       "order": null,
       "overflow": null,
       "overflow_x": null,
       "overflow_y": null,
       "padding": null,
       "right": null,
       "top": null,
       "visibility": null,
       "width": null
      }
     },
     "9841217444cc4f718f61bfc747ca7361": {
      "model_module": "@jupyter-widgets/controls",
      "model_module_version": "1.5.0",
      "model_name": "HBoxModel",
      "state": {
       "_dom_classes": [],
       "_model_module": "@jupyter-widgets/controls",
       "_model_module_version": "1.5.0",
       "_model_name": "HBoxModel",
       "_view_count": null,
       "_view_module": "@jupyter-widgets/controls",
       "_view_module_version": "1.5.0",
       "_view_name": "HBoxView",
       "box_style": "",
       "children": [
        "IPY_MODEL_37940594b8bb4181849fe61821f19c5a",
        "IPY_MODEL_c7baeb4585c0470ea87309ae55d610a6",
        "IPY_MODEL_a5f9a7f229e148ce86ab40aaf4dd45c5"
       ],
       "layout": "IPY_MODEL_f5f587e051284bd88c19bb56418f652d"
      }
     },
     "9ef7f554e4e54d31a3dac795559ce249": {
      "model_module": "@jupyter-widgets/controls",
      "model_module_version": "1.5.0",
      "model_name": "HTMLModel",
      "state": {
       "_dom_classes": [],
       "_model_module": "@jupyter-widgets/controls",
       "_model_module_version": "1.5.0",
       "_model_name": "HTMLModel",
       "_view_count": null,
       "_view_module": "@jupyter-widgets/controls",
       "_view_module_version": "1.5.0",
       "_view_name": "HTMLView",
       "description": "",
       "description_tooltip": null,
       "layout": "IPY_MODEL_574d2de366df42d9ba6697a9b03d097c",
       "placeholder": "​",
       "style": "IPY_MODEL_82d56a2f4ffe43ac87f3816bb94e5d52",
       "value": " 1.52G/1.52G [00:08&lt;00:00, 153MB/s]"
      }
     },
     "a5f9a7f229e148ce86ab40aaf4dd45c5": {
      "model_module": "@jupyter-widgets/controls",
      "model_module_version": "1.5.0",
      "model_name": "HTMLModel",
      "state": {
       "_dom_classes": [],
       "_model_module": "@jupyter-widgets/controls",
       "_model_module_version": "1.5.0",
       "_model_name": "HTMLModel",
       "_view_count": null,
       "_view_module": "@jupyter-widgets/controls",
       "_view_module_version": "1.5.0",
       "_view_name": "HTMLView",
       "description": "",
       "description_tooltip": null,
       "layout": "IPY_MODEL_95f5bc82ed9045f4b32ee27588a18463",
       "placeholder": "​",
       "style": "IPY_MODEL_4d71d5e1ef034200bf4139b1018d5ef6",
       "value": " 124/124 [00:00&lt;00:00, 9.06kB/s]"
      }
     },
     "b18dc9f31b624863839395e69b4c575c": {
      "model_module": "@jupyter-widgets/controls",
      "model_module_version": "1.5.0",
      "model_name": "HTMLModel",
      "state": {
       "_dom_classes": [],
       "_model_module": "@jupyter-widgets/controls",
       "_model_module_version": "1.5.0",
       "_model_name": "HTMLModel",
       "_view_count": null,
       "_view_module": "@jupyter-widgets/controls",
       "_view_module_version": "1.5.0",
       "_view_name": "HTMLView",
       "description": "",
       "description_tooltip": null,
       "layout": "IPY_MODEL_71fa1bd324cb4509a7f5e4287fc16c08",
       "placeholder": "​",
       "style": "IPY_MODEL_bd48dca21283435e831dfdecd09c8db4",
       "value": "Downloading (…)lve/main/config.json: 100%"
      }
     },
     "b35160872065497f8fcc70f56809ec1d": {
      "model_module": "@jupyter-widgets/base",
      "model_module_version": "1.2.0",
      "model_name": "LayoutModel",
      "state": {
       "_model_module": "@jupyter-widgets/base",
       "_model_module_version": "1.2.0",
       "_model_name": "LayoutModel",
       "_view_count": null,
       "_view_module": "@jupyter-widgets/base",
       "_view_module_version": "1.2.0",
       "_view_name": "LayoutView",
       "align_content": null,
       "align_items": null,
       "align_self": null,
       "border": null,
       "bottom": null,
       "display": null,
       "flex": null,
       "flex_flow": null,
       "grid_area": null,
       "grid_auto_columns": null,
       "grid_auto_flow": null,
       "grid_auto_rows": null,
       "grid_column": null,
       "grid_gap": null,
       "grid_row": null,
       "grid_template_areas": null,
       "grid_template_columns": null,
       "grid_template_rows": null,
       "height": null,
       "justify_content": null,
       "justify_items": null,
       "left": null,
       "margin": null,
       "max_height": null,
       "max_width": null,
       "min_height": null,
       "min_width": null,
       "object_fit": null,
       "object_position": null,
       "order": null,
       "overflow": null,
       "overflow_x": null,
       "overflow_y": null,
       "padding": null,
       "right": null,
       "top": null,
       "visibility": null,
       "width": null
      }
     },
     "ba3d39fa81c4489ba2bf08a72a91dcdd": {
      "model_module": "@jupyter-widgets/controls",
      "model_module_version": "1.5.0",
      "model_name": "ProgressStyleModel",
      "state": {
       "_model_module": "@jupyter-widgets/controls",
       "_model_module_version": "1.5.0",
       "_model_name": "ProgressStyleModel",
       "_view_count": null,
       "_view_module": "@jupyter-widgets/base",
       "_view_module_version": "1.2.0",
       "_view_name": "StyleView",
       "bar_color": null,
       "description_width": ""
      }
     },
     "bd48dca21283435e831dfdecd09c8db4": {
      "model_module": "@jupyter-widgets/controls",
      "model_module_version": "1.5.0",
      "model_name": "DescriptionStyleModel",
      "state": {
       "_model_module": "@jupyter-widgets/controls",
       "_model_module_version": "1.5.0",
       "_model_name": "DescriptionStyleModel",
       "_view_count": null,
       "_view_module": "@jupyter-widgets/base",
       "_view_module_version": "1.2.0",
       "_view_name": "StyleView",
       "description_width": ""
      }
     },
     "bec2a07777944d7280b14549fdeee90c": {
      "model_module": "@jupyter-widgets/base",
      "model_module_version": "1.2.0",
      "model_name": "LayoutModel",
      "state": {
       "_model_module": "@jupyter-widgets/base",
       "_model_module_version": "1.2.0",
       "_model_name": "LayoutModel",
       "_view_count": null,
       "_view_module": "@jupyter-widgets/base",
       "_view_module_version": "1.2.0",
       "_view_name": "LayoutView",
       "align_content": null,
       "align_items": null,
       "align_self": null,
       "border": null,
       "bottom": null,
       "display": null,
       "flex": null,
       "flex_flow": null,
       "grid_area": null,
       "grid_auto_columns": null,
       "grid_auto_flow": null,
       "grid_auto_rows": null,
       "grid_column": null,
       "grid_gap": null,
       "grid_row": null,
       "grid_template_areas": null,
       "grid_template_columns": null,
       "grid_template_rows": null,
       "height": null,
       "justify_content": null,
       "justify_items": null,
       "left": null,
       "margin": null,
       "max_height": null,
       "max_width": null,
       "min_height": null,
       "min_width": null,
       "object_fit": null,
       "object_position": null,
       "order": null,
       "overflow": null,
       "overflow_x": null,
       "overflow_y": null,
       "padding": null,
       "right": null,
       "top": null,
       "visibility": null,
       "width": null
      }
     },
     "c13ab105bb144b1284dae41662b6c29d": {
      "model_module": "@jupyter-widgets/controls",
      "model_module_version": "1.5.0",
      "model_name": "HBoxModel",
      "state": {
       "_dom_classes": [],
       "_model_module": "@jupyter-widgets/controls",
       "_model_module_version": "1.5.0",
       "_model_name": "HBoxModel",
       "_view_count": null,
       "_view_module": "@jupyter-widgets/controls",
       "_view_module_version": "1.5.0",
       "_view_name": "HBoxView",
       "box_style": "",
       "children": [
        "IPY_MODEL_12c60005d166429ba86cb0818342b2aa",
        "IPY_MODEL_cf278888ca9144d9bfd0950f01ed558c",
        "IPY_MODEL_009496b9a4f4441fa7be3d497a450382"
       ],
       "layout": "IPY_MODEL_786224dcc45d455e82ac33e25b79120a"
      }
     },
     "c7baeb4585c0470ea87309ae55d610a6": {
      "model_module": "@jupyter-widgets/controls",
      "model_module_version": "1.5.0",
      "model_name": "FloatProgressModel",
      "state": {
       "_dom_classes": [],
       "_model_module": "@jupyter-widgets/controls",
       "_model_module_version": "1.5.0",
       "_model_name": "FloatProgressModel",
       "_view_count": null,
       "_view_module": "@jupyter-widgets/controls",
       "_view_module_version": "1.5.0",
       "_view_name": "ProgressView",
       "bar_style": "success",
       "description": "",
       "description_tooltip": null,
       "layout": "IPY_MODEL_f056975d03544a2694bdb39f8e1d8ab9",
       "max": 124,
       "min": 0,
       "orientation": "horizontal",
       "style": "IPY_MODEL_ba3d39fa81c4489ba2bf08a72a91dcdd",
       "value": 124
      }
     },
     "cf278888ca9144d9bfd0950f01ed558c": {
      "model_module": "@jupyter-widgets/controls",
      "model_module_version": "1.5.0",
      "model_name": "FloatProgressModel",
      "state": {
       "_dom_classes": [],
       "_model_module": "@jupyter-widgets/controls",
       "_model_module_version": "1.5.0",
       "_model_name": "FloatProgressModel",
       "_view_count": null,
       "_view_module": "@jupyter-widgets/controls",
       "_view_module_version": "1.5.0",
       "_view_name": "ProgressView",
       "bar_style": "success",
       "description": "",
       "description_tooltip": null,
       "layout": "IPY_MODEL_f8ff2ed50eb04bf7a802d9e02396007c",
       "max": 456318,
       "min": 0,
       "orientation": "horizontal",
       "style": "IPY_MODEL_4f5ac046e0f4487aa814b944f6b77fa0",
       "value": 456318
      }
     },
     "d5e17244df654eb3befb3c93ac2682d4": {
      "model_module": "@jupyter-widgets/base",
      "model_module_version": "1.2.0",
      "model_name": "LayoutModel",
      "state": {
       "_model_module": "@jupyter-widgets/base",
       "_model_module_version": "1.2.0",
       "_model_name": "LayoutModel",
       "_view_count": null,
       "_view_module": "@jupyter-widgets/base",
       "_view_module_version": "1.2.0",
       "_view_name": "LayoutView",
       "align_content": null,
       "align_items": null,
       "align_self": null,
       "border": null,
       "bottom": null,
       "display": null,
       "flex": null,
       "flex_flow": null,
       "grid_area": null,
       "grid_auto_columns": null,
       "grid_auto_flow": null,
       "grid_auto_rows": null,
       "grid_column": null,
       "grid_gap": null,
       "grid_row": null,
       "grid_template_areas": null,
       "grid_template_columns": null,
       "grid_template_rows": null,
       "height": null,
       "justify_content": null,
       "justify_items": null,
       "left": null,
       "margin": null,
       "max_height": null,
       "max_width": null,
       "min_height": null,
       "min_width": null,
       "object_fit": null,
       "object_position": null,
       "order": null,
       "overflow": null,
       "overflow_x": null,
       "overflow_y": null,
       "padding": null,
       "right": null,
       "top": null,
       "visibility": null,
       "width": null
      }
     },
     "e54a3829b873411fb865720e034c218b": {
      "model_module": "@jupyter-widgets/controls",
      "model_module_version": "1.5.0",
      "model_name": "DescriptionStyleModel",
      "state": {
       "_model_module": "@jupyter-widgets/controls",
       "_model_module_version": "1.5.0",
       "_model_name": "DescriptionStyleModel",
       "_view_count": null,
       "_view_module": "@jupyter-widgets/base",
       "_view_module_version": "1.2.0",
       "_view_name": "StyleView",
       "description_width": ""
      }
     },
     "ed5f492b93f14972800b5ef735c5c2c9": {
      "model_module": "@jupyter-widgets/controls",
      "model_module_version": "1.5.0",
      "model_name": "DescriptionStyleModel",
      "state": {
       "_model_module": "@jupyter-widgets/controls",
       "_model_module_version": "1.5.0",
       "_model_name": "DescriptionStyleModel",
       "_view_count": null,
       "_view_module": "@jupyter-widgets/base",
       "_view_module_version": "1.2.0",
       "_view_name": "StyleView",
       "description_width": ""
      }
     },
     "f056975d03544a2694bdb39f8e1d8ab9": {
      "model_module": "@jupyter-widgets/base",
      "model_module_version": "1.2.0",
      "model_name": "LayoutModel",
      "state": {
       "_model_module": "@jupyter-widgets/base",
       "_model_module_version": "1.2.0",
       "_model_name": "LayoutModel",
       "_view_count": null,
       "_view_module": "@jupyter-widgets/base",
       "_view_module_version": "1.2.0",
       "_view_name": "LayoutView",
       "align_content": null,
       "align_items": null,
       "align_self": null,
       "border": null,
       "bottom": null,
       "display": null,
       "flex": null,
       "flex_flow": null,
       "grid_area": null,
       "grid_auto_columns": null,
       "grid_auto_flow": null,
       "grid_auto_rows": null,
       "grid_column": null,
       "grid_gap": null,
       "grid_row": null,
       "grid_template_areas": null,
       "grid_template_columns": null,
       "grid_template_rows": null,
       "height": null,
       "justify_content": null,
       "justify_items": null,
       "left": null,
       "margin": null,
       "max_height": null,
       "max_width": null,
       "min_height": null,
       "min_width": null,
       "object_fit": null,
       "object_position": null,
       "order": null,
       "overflow": null,
       "overflow_x": null,
       "overflow_y": null,
       "padding": null,
       "right": null,
       "top": null,
       "visibility": null,
       "width": null
      }
     },
     "f5f587e051284bd88c19bb56418f652d": {
      "model_module": "@jupyter-widgets/base",
      "model_module_version": "1.2.0",
      "model_name": "LayoutModel",
      "state": {
       "_model_module": "@jupyter-widgets/base",
       "_model_module_version": "1.2.0",
       "_model_name": "LayoutModel",
       "_view_count": null,
       "_view_module": "@jupyter-widgets/base",
       "_view_module_version": "1.2.0",
       "_view_name": "LayoutView",
       "align_content": null,
       "align_items": null,
       "align_self": null,
       "border": null,
       "bottom": null,
       "display": null,
       "flex": null,
       "flex_flow": null,
       "grid_area": null,
       "grid_auto_columns": null,
       "grid_auto_flow": null,
       "grid_auto_rows": null,
       "grid_column": null,
       "grid_gap": null,
       "grid_row": null,
       "grid_template_areas": null,
       "grid_template_columns": null,
       "grid_template_rows": null,
       "height": null,
       "justify_content": null,
       "justify_items": null,
       "left": null,
       "margin": null,
       "max_height": null,
       "max_width": null,
       "min_height": null,
       "min_width": null,
       "object_fit": null,
       "object_position": null,
       "order": null,
       "overflow": null,
       "overflow_x": null,
       "overflow_y": null,
       "padding": null,
       "right": null,
       "top": null,
       "visibility": null,
       "width": null
      }
     },
     "f8ff2ed50eb04bf7a802d9e02396007c": {
      "model_module": "@jupyter-widgets/base",
      "model_module_version": "1.2.0",
      "model_name": "LayoutModel",
      "state": {
       "_model_module": "@jupyter-widgets/base",
       "_model_module_version": "1.2.0",
       "_model_name": "LayoutModel",
       "_view_count": null,
       "_view_module": "@jupyter-widgets/base",
       "_view_module_version": "1.2.0",
       "_view_name": "LayoutView",
       "align_content": null,
       "align_items": null,
       "align_self": null,
       "border": null,
       "bottom": null,
       "display": null,
       "flex": null,
       "flex_flow": null,
       "grid_area": null,
       "grid_auto_columns": null,
       "grid_auto_flow": null,
       "grid_auto_rows": null,
       "grid_column": null,
       "grid_gap": null,
       "grid_row": null,
       "grid_template_areas": null,
       "grid_template_columns": null,
       "grid_template_rows": null,
       "height": null,
       "justify_content": null,
       "justify_items": null,
       "left": null,
       "margin": null,
       "max_height": null,
       "max_width": null,
       "min_height": null,
       "min_width": null,
       "object_fit": null,
       "object_position": null,
       "order": null,
       "overflow": null,
       "overflow_x": null,
       "overflow_y": null,
       "padding": null,
       "right": null,
       "top": null,
       "visibility": null,
       "width": null
      }
     },
     "fedee65f2276419c98687840d23b34d3": {
      "model_module": "@jupyter-widgets/controls",
      "model_module_version": "1.5.0",
      "model_name": "FloatProgressModel",
      "state": {
       "_dom_classes": [],
       "_model_module": "@jupyter-widgets/controls",
       "_model_module_version": "1.5.0",
       "_model_name": "FloatProgressModel",
       "_view_count": null,
       "_view_module": "@jupyter-widgets/controls",
       "_view_module_version": "1.5.0",
       "_view_name": "ProgressView",
       "bar_style": "success",
       "description": "",
       "description_tooltip": null,
       "layout": "IPY_MODEL_31f5d47dd2814e9e9be662bd6b7cbbd5",
       "max": 718,
       "min": 0,
       "orientation": "horizontal",
       "style": "IPY_MODEL_87825c37e68046b6896fa447ad64a042",
       "value": 718
      }
     }
    },
    "version_major": 2,
    "version_minor": 0
   }
  }
 },
 "nbformat": 4,
 "nbformat_minor": 5
}
