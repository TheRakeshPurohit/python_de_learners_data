{
 "cells": [
  {
   "cell_type": "code",
   "execution_count": 1,
   "id": "20c16eca-00bd-4a6f-9b4f-bfa29bf4434b",
   "metadata": {},
   "outputs": [],
   "source": [
    "import os\n",
    "from transformers import (\n",
    "    AutoModelForCausalLM,\n",
    "    AutoTokenizer,\n",
    "    BitsAndBytesConfig\n",
    ")\n",
    "import torch"
   ]
  },
  {
   "cell_type": "code",
   "execution_count": 2,
   "id": "d2571e17-e437-48b3-b128-2e2ee7a0dab7",
   "metadata": {},
   "outputs": [
    {
     "data": {
      "text/plain": [
       "'4.39.0.dev0'"
      ]
     },
     "execution_count": 2,
     "metadata": {},
     "output_type": "execute_result"
    }
   ],
   "source": [
    "import transformers\n",
    "transformers.__version__"
   ]
  },
  {
   "cell_type": "code",
   "execution_count": 3,
   "id": "cf6ff299-82bf-41c4-a701-9cb49620a019",
   "metadata": {},
   "outputs": [],
   "source": [
    "starcoder_7b = \"bigcode/starcoder2-7b\""
   ]
  },
  {
   "cell_type": "code",
   "execution_count": 4,
   "id": "6b534a32-bd6f-44a3-bd8e-60528ff59d84",
   "metadata": {
    "scrolled": true
   },
   "outputs": [],
   "source": [
    "coder_tokenizer = AutoTokenizer.from_pretrained(starcoder_7b)"
   ]
  },
  {
   "cell_type": "code",
   "execution_count": 5,
   "id": "7b9ddb20-1ae6-4b31-bd2f-80aeb8d3f6da",
   "metadata": {},
   "outputs": [],
   "source": [
    "quant_config = BitsAndBytesConfig(load_in_4bit=True,\n",
    "                                  bnb_4bit_compute_dtype=torch.bfloat16,\n",
    "                                  bnb_4bit_quant_type='nf4')"
   ]
  },
  {
   "cell_type": "code",
   "execution_count": 6,
   "id": "835d6174-3634-42c6-96c3-50aaa99c4203",
   "metadata": {},
   "outputs": [
    {
     "data": {
      "application/vnd.jupyter.widget-view+json": {
       "model_id": "0ef8c637e122411fb8758c61726ed8b2",
       "version_major": 2,
       "version_minor": 0
      },
      "text/plain": [
       "Downloading shards:   0%|          | 0/3 [00:00<?, ?it/s]"
      ]
     },
     "metadata": {},
     "output_type": "display_data"
    },
    {
     "data": {
      "application/vnd.jupyter.widget-view+json": {
       "model_id": "df08a01345fd476680dda632edda26e1",
       "version_major": 2,
       "version_minor": 0
      },
      "text/plain": [
       "Loading checkpoint shards:   0%|          | 0/3 [00:00<?, ?it/s]"
      ]
     },
     "metadata": {},
     "output_type": "display_data"
    }
   ],
   "source": [
    "coder_model = AutoModelForCausalLM.from_pretrained(starcoder_7b,\n",
    "                                                   quantization_config=quant_config,\n",
    "                                                  device_map=\"auto\",\n",
    "                                                  resume_download=True)"
   ]
  },
  {
   "cell_type": "code",
   "execution_count": 7,
   "id": "c8e640c8-67f3-4bf9-bec1-04bce6d065fd",
   "metadata": {},
   "outputs": [],
   "source": [
    "device = 'cuda' if torch.cuda.is_available() else 'cpu'"
   ]
  },
  {
   "cell_type": "code",
   "execution_count": 8,
   "id": "127180d4-45d9-4a9c-a453-da8c9b921c18",
   "metadata": {},
   "outputs": [],
   "source": [
    "def generate_output(text, tokens):\n",
    "    tokenized = coder_tokenizer(text, return_tensors='pt')\n",
    "    logits = coder_model.generate(**tokenized.to(device),\n",
    "                                  max_new_tokens=tokens,\n",
    "                                 temperature=0.5,\n",
    "                                 do_sample=True)\n",
    "    return coder_tokenizer.decode(logits[0])\n",
    "    "
   ]
  },
  {
   "cell_type": "code",
   "execution_count": 9,
   "id": "a3bd59e5-883c-45eb-8e06-70e336602e13",
   "metadata": {},
   "outputs": [
    {
     "name": "stderr",
     "output_type": "stream",
     "text": [
      "Setting `pad_token_id` to `eos_token_id`:49152 for open-end generation.\n"
     ]
    },
    {
     "name": "stdout",
     "output_type": "stream",
     "text": [
      "provide the code for connecting youtube API via python\n",
      "# https://github.com/k4m4/youtube-api-python\n",
      "# https://www.youtube.com/watch?v=0v6vW94pA3Q\n",
      "# https://www.youtube.com/watch?v=v797g5K41_A\n",
      "# https://www.youtube.com/watch?v=cY0C9m9t49M\n",
      "# https://www.youtube.com/watch?v=3v_iK5432M8\n",
      "# https://www.youtube.com/watch?v=0v6vW94pA3Q\n",
      "# https://www.youtube.com/watch?v=v797g5K41_A\n",
      "# https://www.youtube.com/watch?v=cY0C9m9t49M\n",
      "# https://www.youtube.com/watch?v=3v_iK5432M8\n",
      "# https://www.youtube.com/watch?v=0v6vW94pA3Q\n",
      "# https://www.youtube.com/watch?v=v797g5K41_A\n",
      "# https://www.youtube.com/watch?v=cY0C9m9t49M\n",
      "# https://www.youtube.com/watch?v=3v_iK5432M8\n",
      "# https://www.youtube.com/watch?v=0v6vW94pA3Q\n",
      "# https://www.youtube.com/watch?v=v797g5K41_A\n",
      "# https://www.youtube.com/watch?v=cY0C9m9t49M\n",
      "# https://www.youtube.com/watch?v=3v_iK5432M8\n",
      "# https://www.youtube.com/watch?v=0v6vW94pA3Q\n",
      "# https://www.youtube.com/watch?v=v797g5K41_A\n",
      "# https://www.youtube.com/watch?v=cY0C9m9t49M\n",
      "# https://www.youtube\n"
     ]
    }
   ],
   "source": [
    "test_stmt = \"provide the code for connecting youtube API via python\"\n",
    "gen_output = generate_output(test_stmt, 500)\n",
    "print(gen_output)"
   ]
  },
  {
   "cell_type": "code",
   "execution_count": null,
   "id": "2f22ede0-30f2-4d16-a610-925c5aaaf983",
   "metadata": {},
   "outputs": [],
   "source": []
  }
 ],
 "metadata": {
  "kernelspec": {
   "display_name": "Python 3 (ipykernel)",
   "language": "python",
   "name": "python3"
  },
  "language_info": {
   "codemirror_mode": {
    "name": "ipython",
    "version": 3
   },
   "file_extension": ".py",
   "mimetype": "text/x-python",
   "name": "python",
   "nbconvert_exporter": "python",
   "pygments_lexer": "ipython3",
   "version": "3.10.12"
  }
 },
 "nbformat": 4,
 "nbformat_minor": 5
}
