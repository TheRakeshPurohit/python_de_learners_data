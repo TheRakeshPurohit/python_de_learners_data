{
 "cells": [
  {
   "cell_type": "markdown",
   "id": "979481ec-d8cb-407c-b5dd-70c5353edc6e",
   "metadata": {},
   "source": [
    "Notebook is the exploration of the Vision Model from Deep SeekAI, A Chinese company lok"
   ]
  },
  {
   "cell_type": "code",
   "execution_count": 1,
   "id": "88686b45-ec83-45cd-9dbe-123e17488610",
   "metadata": {},
   "outputs": [],
   "source": [
    "import torch\n",
    "from transformers import AutoModelForCausalLM\n",
    "from deepseek_vl.models import VLChatProcessor, MultiModalityCausalLM\n",
    "from deepseek_vl.utils.io import load_pil_images"
   ]
  },
  {
   "cell_type": "code",
   "execution_count": 2,
   "id": "97660c6a-5ae4-423a-8d8d-49b5b750ece0",
   "metadata": {},
   "outputs": [
    {
     "data": {
      "application/vnd.jupyter.widget-view+json": {
       "model_id": "60af2d560612482c8461c545b7f12d2f",
       "version_major": 2,
       "version_minor": 0
      },
      "text/plain": [
       "preprocessor_config.json:   0%|          | 0.00/389 [00:00<?, ?B/s]"
      ]
     },
     "metadata": {},
     "output_type": "display_data"
    },
    {
     "data": {
      "application/vnd.jupyter.widget-view+json": {
       "model_id": "75f7999f61264bf78d31d1d87e533300",
       "version_major": 2,
       "version_minor": 0
      },
      "text/plain": [
       "tokenizer_config.json:   0%|          | 0.00/3.24k [00:00<?, ?B/s]"
      ]
     },
     "metadata": {},
     "output_type": "display_data"
    },
    {
     "data": {
      "application/vnd.jupyter.widget-view+json": {
       "model_id": "c379aa3ac0494d0fb6c9faea2abbcea4",
       "version_major": 2,
       "version_minor": 0
      },
      "text/plain": [
       "tokenizer.json:   0%|          | 0.00/4.61M [00:00<?, ?B/s]"
      ]
     },
     "metadata": {},
     "output_type": "display_data"
    },
    {
     "data": {
      "application/vnd.jupyter.widget-view+json": {
       "model_id": "8fa39ea1b6df4a4589ad9c005d48ffcc",
       "version_major": 2,
       "version_minor": 0
      },
      "text/plain": [
       "special_tokens_map.json:   0%|          | 0.00/287 [00:00<?, ?B/s]"
      ]
     },
     "metadata": {},
     "output_type": "display_data"
    },
    {
     "name": "stderr",
     "output_type": "stream",
     "text": [
      "Special tokens have been added in the vocabulary, make sure the associated word embeddings are fine-tuned or trained.\n"
     ]
    },
    {
     "data": {
      "application/vnd.jupyter.widget-view+json": {
       "model_id": "efb0384528884de4ac222b7e1482dc67",
       "version_major": 2,
       "version_minor": 0
      },
      "text/plain": [
       "processor_config.json:   0%|          | 0.00/210 [00:00<?, ?B/s]"
      ]
     },
     "metadata": {},
     "output_type": "display_data"
    }
   ],
   "source": [
    "model_path = \"deepseek-ai/deepseek-vl-7b-chat\"\n",
    "vl_chat_processor = VLChatProcessor.from_pretrained(model_path)\n",
    "tokenizer = vl_chat_processor.tokenizer"
   ]
  },
  {
   "cell_type": "code",
   "execution_count": null,
   "id": "14f1e561-90e8-44d5-854b-d30d6059ddee",
   "metadata": {},
   "outputs": [
    {
     "data": {
      "application/vnd.jupyter.widget-view+json": {
       "model_id": "47879eca66364c9099ad40efb2db8c37",
       "version_major": 2,
       "version_minor": 0
      },
      "text/plain": [
       "config.json:   0%|          | 0.00/1.54k [00:00<?, ?B/s]"
      ]
     },
     "metadata": {},
     "output_type": "display_data"
    },
    {
     "data": {
      "application/vnd.jupyter.widget-view+json": {
       "model_id": "6ce9b0c40ae640699cc39a86e484c423",
       "version_major": 2,
       "version_minor": 0
      },
      "text/plain": [
       "model.safetensors.index.json:   0%|          | 0.00/81.1k [00:00<?, ?B/s]"
      ]
     },
     "metadata": {},
     "output_type": "display_data"
    },
    {
     "data": {
      "application/vnd.jupyter.widget-view+json": {
       "model_id": "cd00225c639c496799767da5fd7183b2",
       "version_major": 2,
       "version_minor": 0
      },
      "text/plain": [
       "Downloading shards:   0%|          | 0/3 [00:00<?, ?it/s]"
      ]
     },
     "metadata": {},
     "output_type": "display_data"
    },
    {
     "data": {
      "application/vnd.jupyter.widget-view+json": {
       "model_id": "cc3ecae090ad4e3a8be8a29a4db02e7b",
       "version_major": 2,
       "version_minor": 0
      },
      "text/plain": [
       "model-00001-of-00003.safetensors:   0%|          | 0.00/4.98G [00:00<?, ?B/s]"
      ]
     },
     "metadata": {},
     "output_type": "display_data"
    },
    {
     "data": {
      "application/vnd.jupyter.widget-view+json": {
       "model_id": "089ce660e78c41a9bc06b205ac14f98e",
       "version_major": 2,
       "version_minor": 0
      },
      "text/plain": [
       "model-00002-of-00003.safetensors:   0%|          | 0.00/4.96G [00:00<?, ?B/s]"
      ]
     },
     "metadata": {},
     "output_type": "display_data"
    }
   ],
   "source": [
    "vl_gpt = AutoModelForCausalLM.from_pretrained(model_path,\n",
    "                                              trust_remote_code=True,\n",
    "                                              resume_download=True)"
   ]
  },
  {
   "cell_type": "markdown",
   "id": "f8a1fc0c-d531-4446-9a0a-e434b1d78b4e",
   "metadata": {},
   "source": [
    "### Error issue\n",
    "Faced the error: ImportError: cannot import name 'Mapping' from 'collections' \n",
    "Had to modify the import Mapping to be collections.abc module. This had to be done in multiple files\n",
    "\n",
    "import collections.abc\n",
    "for type_name in collections.abc.__all__:\n",
    "    setattr(collections, type_name, getattr(collections.abc, type_name))\n",
    "\n",
    "    \n",
    "- aimachine/lib/python3.10/site-packages/attrdict/default.py\n",
    "\n",
    "- aimachine/lib/python3.10/site-packages/attrdict/merge.py\n",
    "\n",
    "- aimachine/lib/python3.10/site-packages/attrdict/mixins.py\n",
    "\n",
    "- aimachine/lib/python3.10/site-packages/attrdict/mapping.py"
   ]
  },
  {
   "cell_type": "code",
   "execution_count": null,
   "id": "3009d9a8-cc8a-4c79-879c-961ff81da178",
   "metadata": {},
   "outputs": [],
   "source": [
    "vl_gpt = vl_gpt.to(torch.bfloat16).cuda().eval()"
   ]
  },
  {
   "cell_type": "code",
   "execution_count": null,
   "id": "ea6bd3f1-bd55-4d28-bb06-f484a2b8d1d7",
   "metadata": {},
   "outputs": [],
   "source": [
    "conversation = [\n",
    "    {\n",
    "        \"role\": \"User\",\n",
    "        \"content\": \"<image_placeholder>Describe each stage of this image.\",\n",
    "        \"images\": [\"./images/training_pipelines.png\"]\n",
    "    },\n",
    "    {\n",
    "        \"role\": \"Assistant\",\n",
    "        \"content\": \"\"\n",
    "    }\n",
    "]"
   ]
  },
  {
   "cell_type": "code",
   "execution_count": null,
   "id": "e7462459-c873-407a-b4fa-b3a57501c738",
   "metadata": {},
   "outputs": [],
   "source": [
    "pil_images = load_pil_images(conversation)\n",
    "prepare_inputs = vl_chat_processor(\n",
    "    conversation=conversation,\n",
    "    images=pil_images,\n",
    "    force_batchify=True\n",
    ").to(vl_gpt.device)"
   ]
  },
  {
   "cell_type": "code",
   "execution_count": null,
   "id": "982980da-a58b-4865-82b8-d73e9aa4bb21",
   "metadata": {},
   "outputs": [],
   "source": [
    "input_embeds = vl_gpt.prepare_inputs_embeds(**prepare_inputs)"
   ]
  },
  {
   "cell_type": "code",
   "execution_count": null,
   "id": "46e6b5a7-9534-4f5f-8a2d-9c4b04a9fd93",
   "metadata": {},
   "outputs": [],
   "source": [
    "outputs = vl_gpt.language_model.generate(\n",
    "    input_embeds=input_embeds,\n",
    "    attention_mask=prepare_inputs.attention_mask,\n",
    "    pad_token_id=tokenizer.eos_token_id,\n",
    "    bos_token_id=tokenizer.bos_token_id,\n",
    "    eos_token_id=tokenizer.eos_token_id,\n",
    "    max_new_tokens=512,\n",
    "    do_sample=False,\n",
    "    user_cache=True\n",
    ")"
   ]
  },
  {
   "cell_type": "code",
   "execution_count": null,
   "id": "9b3e5897-4387-41ba-b16c-90c72657ddf5",
   "metadata": {},
   "outputs": [],
   "source": []
  },
  {
   "cell_type": "code",
   "execution_count": null,
   "id": "f8eecd1b-f04a-4b06-afd7-90697d481658",
   "metadata": {},
   "outputs": [],
   "source": []
  }
 ],
 "metadata": {
  "kernelspec": {
   "display_name": "Python 3 (ipykernel)",
   "language": "python",
   "name": "python3"
  },
  "language_info": {
   "codemirror_mode": {
    "name": "ipython",
    "version": 3
   },
   "file_extension": ".py",
   "mimetype": "text/x-python",
   "name": "python",
   "nbconvert_exporter": "python",
   "pygments_lexer": "ipython3",
   "version": "3.10.12"
  }
 },
 "nbformat": 4,
 "nbformat_minor": 5
}
