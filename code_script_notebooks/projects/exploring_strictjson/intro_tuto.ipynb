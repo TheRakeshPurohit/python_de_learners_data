{
 "cells": [
  {
   "cell_type": "markdown",
   "metadata": {},
   "source": [
    "##### The JSON rules to note:\n",
    "\n",
    "    - In the JSON data format, the keys must be enclosed in double quotes.\n",
    "\n",
    "    - The key and value must be separated by a colon (:) symbol.\n",
    "\n",
    "    - There can be multiple key-value pairs. Two key-value pairs must be separated by a comma (,) symbol.\n",
    "\n",
    "    - No comments (// or /* */) are allowed in JSON data. (But you can get around that, if you're curious.)\n",
    "\n",
    "taken from : https://www.freecodecamp.org/news/what-is-json-a-json-file-example/\n"
   ]
  },
  {
   "cell_type": "code",
   "execution_count": 31,
   "metadata": {},
   "outputs": [
    {
     "data": {
      "text/html": [
       "<pre style=\"white-space:pre;overflow-x:auto;line-height:normal;font-family:Menlo,'DejaVu Sans Mono',consolas,'Courier New',monospace\">Flat <span style=\"color: #008080; text-decoration-color: #008080; font-weight: bold\">101</span>, 1st Floor, Near Park, Residential\n",
       "</pre>\n"
      ],
      "text/plain": [
       "Flat \u001b[1;36m101\u001b[0m, 1st Floor, Near Park, Residential\n"
      ]
     },
     "metadata": {},
     "output_type": "display_data"
    }
   ],
   "source": [
    "# looks to be valid, but its not what is asked\n",
    "new_json = {\n",
    "    \"123 Main Street\": \"Flat 101, 1st Floor, Near Park, Residential\",\n",
    "    \"456 Elm Avenue\": \"Flat 202, 2nd Floor, Opposite School, Commercial\",\n",
    "    \"789 Oak Lane\": \"Flat 303, 3rd Floor, Next to Hospital, Residential\",\n",
    "    \"101 Pine Road\": \"Flat 404, 4th Floor, Beside Market, Commercial\",\n",
    "    \"202 Maple Drive\": \"Flat 505, 5th Floor, Near Library, Residential\",\n",
    "    \"303 Cedar Court\": \"Flat 606, 6th Floor, Opposite Bank, Commercial\",\n",
    "    \"404 Birch Street\": \"Flat 707, 7th Floor, Next to Gym, Residential\",\n",
    "    \"505 Walnut Avenue\": \"Flat 808, 8th Floor, Beside Cafe, Commercial\",\n",
    "    \"606 Spruce Lane\": \"Flat 909, 9th Floor, Near Theater, Residential\",\n",
    "    \"707 Ash Road\": \"Flat 1010, 10th Floor, Opposite Mall, Commercial\"\n",
    "}\n",
    "\n",
    "print(new_json[\"123 Main Street\"])"
   ]
  },
  {
   "cell_type": "code",
   "execution_count": null,
   "metadata": {},
   "outputs": [],
   "source": [
    "str_json = '{\"707 Ash Road\":\"Flat 1010, 10th Floor, Opposite Mall, Commercial\"}'\n",
    "print(str_json)\n",
    "str_json['707 Ash Road']\n",
    "import json\n",
    "st_dict = json.loads(str_json)\n",
    "\n",
    "# python dictionary\n",
    "st_dict['707 Ash Road']"
   ]
  },
  {
   "cell_type": "code",
   "execution_count": 32,
   "metadata": {},
   "outputs": [
    {
     "data": {
      "text/plain": [
       "'Flat 202, 2nd Floor, Opposite School, Commercial'"
      ]
     },
     "execution_count": 32,
     "metadata": {},
     "output_type": "execute_result"
    }
   ],
   "source": [
    "new_json[\"456 Elm Avenue\"]"
   ]
  },
  {
   "cell_type": "code",
   "execution_count": 27,
   "metadata": {},
   "outputs": [],
   "source": [
    "list_json = [\n",
    "{\"flat_no\": \"A-101\", \"floor\": \"1st\", \"landmark\": \"Near Park Plaza\", \"type\": [\"residential\"]},\n",
    "{\"flat_no\": \"B-201\", \"floor\": \"2nd\", \"landmark\": \"Opposite City Mall\", \"type\": [\"commercial\"]},\n",
    "{\"flat_no\": \"C-301\", \"floor\": \"3rd\", \"landmark\": \"Behind Central Market\", \"type\": [\"residential\"]},\n",
    "{\"flat_no\": \"D-401\", \"floor\": \"4th\", \"landmark\": \"Next to Metro Station\", \"type\": [\"commercial\"]},\n",
    "{\"flat_no\": \"E-501\", \"floor\": \"5th\", \"landmark\": \"Near Community Center\", \"type\": [\"residential\"]},\n",
    "{\"flat_no\": \"F-601\", \"floor\": \"6th\", \"landmark\": \"Opposite Stadium\", \"type\": [\"commercial\"]},\n",
    "{\"flat_no\": \"G-701\", \"floor\": \"7th\", \"landmark\": \"Behind School\", \"type\": [\"residential\"]},\n",
    "{\"flat_no\": \"H-801\", \"floor\": \"8th\", \"landmark\": \"Next to Hospital\", \"type\": [\"commercial\"]},\n",
    "{\"flat_no\": \"I-901\", \"floor\": \"9th\", \"landmark\": \"Near Lake\", \"type\": [\"residential\"]},\n",
    "{\"flat_no\": \"J-1001\", \"floor\": \"10th\", \"landmark\": \"Opposite Garden\", \"type\": [\"commercial\"]}\n",
    "]"
   ]
  },
  {
   "cell_type": "code",
   "execution_count": 35,
   "metadata": {},
   "outputs": [
    {
     "data": {
      "text/html": [
       "<pre style=\"white-space:pre;overflow-x:auto;line-height:normal;font-family:Menlo,'DejaVu Sans Mono',consolas,'Courier New',monospace\">residential\n",
       "</pre>\n"
      ],
      "text/plain": [
       "residential\n"
      ]
     },
     "metadata": {},
     "output_type": "display_data"
    }
   ],
   "source": [
    "print(list_json[0]['type'][0])"
   ]
  },
  {
   "cell_type": "code",
   "execution_count": 1,
   "metadata": {},
   "outputs": [
    {
     "data": {
      "text/plain": [
       "True"
      ]
     },
     "execution_count": 1,
     "metadata": {},
     "output_type": "execute_result"
    }
   ],
   "source": [
    "import os\n",
    "import openai\n",
    "from dotenv import load_dotenv\n",
    "load_dotenv(\"D:\\\\gitFolders\\\\python_de_learners_data\\\\.env\")"
   ]
  },
  {
   "cell_type": "code",
   "execution_count": 2,
   "metadata": {},
   "outputs": [],
   "source": [
    "openai.api_key = os.environ['OPENAI_API_KEY']"
   ]
  },
  {
   "cell_type": "code",
   "execution_count": 3,
   "metadata": {},
   "outputs": [],
   "source": [
    "from strictjson import (\n",
    "    strict_json,\n",
    ")"
   ]
  },
  {
   "cell_type": "code",
   "execution_count": 4,
   "metadata": {},
   "outputs": [],
   "source": [
    "from rich import print"
   ]
  },
  {
   "cell_type": "code",
   "execution_count": 5,
   "metadata": {},
   "outputs": [
    {
     "data": {
      "text/html": [
       "<pre style=\"white-space:pre;overflow-x:auto;line-height:normal;font-family:Menlo,'DejaVu Sans Mono',consolas,'Courier New',monospace\">def <span style=\"color: #800080; text-decoration-color: #800080; font-weight: bold\">quicksort</span><span style=\"font-weight: bold\">(</span>arr<span style=\"font-weight: bold\">)</span>:\n",
       "    if <span style=\"color: #800080; text-decoration-color: #800080; font-weight: bold\">len</span><span style=\"font-weight: bold\">(</span>arr<span style=\"font-weight: bold\">)</span> &lt;= <span style=\"color: #008080; text-decoration-color: #008080; font-weight: bold\">1</span>:\n",
       "        return arr\n",
       "    pivot = arr\n",
       "    left = \n",
       "    middle = \n",
       "    right = \n",
       "    return <span style=\"color: #800080; text-decoration-color: #800080; font-weight: bold\">quicksort</span><span style=\"font-weight: bold\">(</span>left<span style=\"font-weight: bold\">)</span> + middle + <span style=\"color: #800080; text-decoration-color: #800080; font-weight: bold\">quicksort</span><span style=\"font-weight: bold\">(</span>right<span style=\"font-weight: bold\">)</span>\n",
       "\n",
       "arr = <span style=\"font-weight: bold\">[</span><span style=\"color: #008080; text-decoration-color: #008080; font-weight: bold\">3</span>, <span style=\"color: #008080; text-decoration-color: #008080; font-weight: bold\">6</span>, <span style=\"color: #008080; text-decoration-color: #008080; font-weight: bold\">8</span>, <span style=\"color: #008080; text-decoration-color: #008080; font-weight: bold\">10</span>, <span style=\"color: #008080; text-decoration-color: #008080; font-weight: bold\">1</span>, <span style=\"color: #008080; text-decoration-color: #008080; font-weight: bold\">2</span>, <span style=\"color: #008080; text-decoration-color: #008080; font-weight: bold\">1</span><span style=\"font-weight: bold\">]</span>\n",
       "<span style=\"color: #800080; text-decoration-color: #800080; font-weight: bold\">print</span><span style=\"font-weight: bold\">(</span><span style=\"color: #800080; text-decoration-color: #800080; font-weight: bold\">quicksort</span><span style=\"font-weight: bold\">(</span>arr<span style=\"font-weight: bold\">))</span>\n",
       "</pre>\n"
      ],
      "text/plain": [
       "def \u001b[1;35mquicksort\u001b[0m\u001b[1m(\u001b[0marr\u001b[1m)\u001b[0m:\n",
       "    if \u001b[1;35mlen\u001b[0m\u001b[1m(\u001b[0marr\u001b[1m)\u001b[0m <= \u001b[1;36m1\u001b[0m:\n",
       "        return arr\n",
       "    pivot = arr\n",
       "    left = \n",
       "    middle = \n",
       "    right = \n",
       "    return \u001b[1;35mquicksort\u001b[0m\u001b[1m(\u001b[0mleft\u001b[1m)\u001b[0m + middle + \u001b[1;35mquicksort\u001b[0m\u001b[1m(\u001b[0mright\u001b[1m)\u001b[0m\n",
       "\n",
       "arr = \u001b[1m[\u001b[0m\u001b[1;36m3\u001b[0m, \u001b[1;36m6\u001b[0m, \u001b[1;36m8\u001b[0m, \u001b[1;36m10\u001b[0m, \u001b[1;36m1\u001b[0m, \u001b[1;36m2\u001b[0m, \u001b[1;36m1\u001b[0m\u001b[1m]\u001b[0m\n",
       "\u001b[1;35mprint\u001b[0m\u001b[1m(\u001b[0m\u001b[1;35mquicksort\u001b[0m\u001b[1m(\u001b[0marr\u001b[1m)\u001b[0m\u001b[1m)\u001b[0m\n"
      ]
     },
     "metadata": {},
     "output_type": "display_data"
    }
   ],
   "source": [
    "get_code = strict_json(system_prompt=\"You are a coder and expert problem solver\",\n",
    "                       user_prompt=\"Given a array of numbers sort them with quicsort\",\n",
    "                       output_format={\"Explain\":\"How you arrived at the solution\",\n",
    "                                      \"Python\":\"Code\"}\n",
    ")\n",
    "\n",
    "print(get_code['Python'])"
   ]
  },
  {
   "cell_type": "code",
   "execution_count": 42,
   "metadata": {},
   "outputs": [
    {
     "data": {
      "text/plain": [
       "{'Explain': 'Use the quicksort algorithm to recursively partition the array into smaller subarrays and sort them.',\n",
       " 'Python': 'def quicksort(arr):\\n    if len(arr) <= 1:\\n        return arr\\n    pivot = arr[len(arr) // 2]\\n    left = [x for x in arr if x < pivot]\\n    middle = [x for x in arr if x == pivot]\\n    right = [x for x in arr if x > pivot]\\n    return quicksort(left) + middle + quicksort(right)\\n\\narr = [3, 6, 8, 10, 1, 2, 1]\\nprint(quicksort(arr))'}"
      ]
     },
     "execution_count": 42,
     "metadata": {},
     "output_type": "execute_result"
    }
   ],
   "source": [
    "get_code"
   ]
  },
  {
   "cell_type": "markdown",
   "metadata": {},
   "source": [
    "<data_type> must be of the form int, float, str, dict, list, array, Dict[], List[], Array[], Enum[], bool for type checking to work\n",
    "\n",
    "For Enum[list_of_category_names], it is best to give an \"Other\" category in case the LLM fails to classify correctly with the other options.\n",
    "\n",
    "Array is the **official JSON object type**, so backend, any type with the word List will be converted to Array"
   ]
  },
  {
   "cell_type": "code",
   "execution_count": 43,
   "metadata": {},
   "outputs": [
    {
     "data": {
      "text/html": [
       "<pre style=\"white-space:pre;overflow-x:auto;line-height:normal;font-family:Menlo,'DejaVu Sans Mono',consolas,'Courier New',monospace\"><span style=\"font-weight: bold\">{</span><span style=\"color: #008000; text-decoration-color: #008000\">'sentiment'</span>: <span style=\"color: #008000; text-decoration-color: #008000\">'pos'</span>, <span style=\"color: #008000; text-decoration-color: #008000\">'adjective'</span>: <span style=\"font-weight: bold\">[</span><span style=\"color: #008000; text-decoration-color: #008000\">'greatest'</span>, <span style=\"color: #008000; text-decoration-color: #008000\">'most'</span>, <span style=\"color: #008000; text-decoration-color: #008000\">'important'</span><span style=\"font-weight: bold\">]</span>, <span style=\"color: #008000; text-decoration-color: #008000\">'Words'</span>: <span style=\"color: #008080; text-decoration-color: #008080; font-weight: bold\">10</span><span style=\"font-weight: bold\">}</span>\n",
       "</pre>\n"
      ],
      "text/plain": [
       "\u001b[1m{\u001b[0m\u001b[32m'sentiment'\u001b[0m: \u001b[32m'pos'\u001b[0m, \u001b[32m'adjective'\u001b[0m: \u001b[1m[\u001b[0m\u001b[32m'greatest'\u001b[0m, \u001b[32m'most'\u001b[0m, \u001b[32m'important'\u001b[0m\u001b[1m]\u001b[0m, \u001b[32m'Words'\u001b[0m: \u001b[1;36m10\u001b[0m\u001b[1m}\u001b[0m\n"
      ]
     },
     "metadata": {},
     "output_type": "display_data"
    }
   ],
   "source": [
    "test_type_enforce = strict_json(system_prompt=\"You are expert Sentiment classifier.\",\n",
    "                                user_prompt=\"Ability to reason in LLMs is a greatest, most important outcome\",\n",
    "                                output_format={\n",
    "                                    \"sentiment\": \"Classification of sentence, type: Enum['pos', 'Neg', 'Other']\",\n",
    "                                    \"adjective\": \"Array of Adjectives, type: List[str]\",\n",
    "                                    \"Words\": \"Numbers of words, type: int\"\n",
    "                                })\n",
    "print(test_type_enforce)"
   ]
  },
  {
   "cell_type": "code",
   "execution_count": 7,
   "metadata": {},
   "outputs": [
    {
     "name": "stdout",
     "output_type": "stream",
     "text": [
      "An exception occurred: Output field of \"models\" not of data type array. If not possible to match, split output field into parts for elements of the array\n",
      "Current invalid json format: {'###models###': 'Word-based, Subword-based, Character-based', '###architecture###': 'Transformer-based, LSTM-based, CNN-based', '###application###': \"{'model_name': 'BERT', 'architecture': 'Transformer-based', 'parameters': 'WordPiece'}, {'model_name': 'GPT-2', 'architecture': 'Transformer-based', 'parameters': 'Byte Pair Encoding'}, {'model_name': 'LSTM', 'architecture': 'LSTM-based', 'parameters': 'Character-based'}\"}\n"
     ]
    }
   ],
   "source": [
    "expert_mlengg = strict_json(system_prompt=\"you are expert ML engineer\",\n",
    "                            user_prompt=\"What are different type of tokenizer models\",\n",
    "                            output_format={\n",
    "                                \"models\": \"all the open source models, type:List[str]\",\n",
    "                                \"architecture\": \"internal architecture of model, type:List[str]\",\n",
    "                                \"application\": \"Which NLP models are using the tokenizer, type:List[Dict['model_name', 'architecture', 'parameters']]\"\n",
    "                            })"
   ]
  },
  {
   "cell_type": "markdown",
   "metadata": {},
   "source": [
    "# using function in strict json\n",
    "\n",
    "Inputs (primary):\n",
    "\n",
    "    fn_description: String. Function description to describe process of transforming input variables to output variables. Variables must be enclosed in <> and listed in order of appearance in function input.\n",
    "\n",
    "    output_format: Dict. Dictionary containing output variables names and description for each variable.\n",
    "\n",
    "Inputs (optional):\n",
    "\n",
    "    examples - Dict or List[Dict]. Examples in Dictionary form with the input and output variables (list if more than one)\n",
    "    \n",
    "    kwargs - Dict. Additional arguments you would like to pass on to the strict_json function\n",
    "    \n",
    "    Outputs: JSON of output variables in a dictionary (similar to strict_json)"
   ]
  },
  {
   "cell_type": "code",
   "execution_count": 30,
   "metadata": {},
   "outputs": [
    {
     "data": {
      "text/plain": [
       "{'flat_no': 'A-101',\n",
       " 'floor': '1st',\n",
       " 'landmark': 'Near Park Plaza',\n",
       " 'type': ['residential']}"
      ]
     },
     "execution_count": 30,
     "metadata": {},
     "output_type": "execute_result"
    }
   ],
   "source": [
    "list_json[0]"
   ]
  },
  {
   "cell_type": "code",
   "execution_count": null,
   "metadata": {},
   "outputs": [
    {
     "data": {
      "text/html": [
       "<pre style=\"white-space:pre;overflow-x:auto;line-height:normal;font-family:Menlo,'DejaVu Sans Mono',consolas,'Courier New',monospace\"><span style=\"font-weight: bold\">{</span>\n",
       "    <span style=\"color: #008000; text-decoration-color: #008000\">'given_params'</span>: <span style=\"color: #008000; text-decoration-color: #008000\">'binary search tree (BST), two given nodes in the BST'</span>,\n",
       "    <span style=\"color: #008000; text-decoration-color: #008000\">'required'</span>: <span style=\"color: #008000; text-decoration-color: #008000\">'lowest common ancestor (LCA) node of the two given nodes'</span>,\n",
       "    <span style=\"color: #008000; text-decoration-color: #008000\">'constraint'</span>: <span style=\"color: #008000; text-decoration-color: #008000\">'The lowest common ancestor is the lowest node that has both given nodes as descendants'</span>\n",
       "<span style=\"font-weight: bold\">}</span>\n",
       "</pre>\n"
      ],
      "text/plain": [
       "\u001b[1m{\u001b[0m\n",
       "    \u001b[32m'given_params'\u001b[0m: \u001b[32m'binary search tree \u001b[0m\u001b[32m(\u001b[0m\u001b[32mBST\u001b[0m\u001b[32m)\u001b[0m\u001b[32m, two given nodes in the BST'\u001b[0m,\n",
       "    \u001b[32m'required'\u001b[0m: \u001b[32m'lowest common ancestor \u001b[0m\u001b[32m(\u001b[0m\u001b[32mLCA\u001b[0m\u001b[32m)\u001b[0m\u001b[32m node of the two given nodes'\u001b[0m,\n",
       "    \u001b[32m'constraint'\u001b[0m: \u001b[32m'The lowest common ancestor is the lowest node that has both given nodes as descendants'\u001b[0m\n",
       "\u001b[1m}\u001b[0m\n"
      ]
     },
     "metadata": {},
     "output_type": "display_data"
    }
   ],
   "source": [
    "data_point = \"\"\"Given a binary search tree (BST), find the lowest common ancestor (LCA) node of two given\n",
    "            nodes in the BST. According to the definition of LCA on Wikipedia: The lowest common ancestor\n",
    "            is defined between two nodes p and q as the lowest node in T that has both p and q as\n",
    "            descendants (where we allow a node to be a descendant of itself).\"\"\"\n",
    "\n",
    "get_data_parts = strict_json(\n",
    "    system_prompt=\"your are expert regex extractor\",\n",
    "    user_prompt=f\"Extract the given, required and constraint from {data_point}\",\n",
    "    output_format={\n",
    "        \"given_params\":\"input for a particular problem, type:str\",\n",
    "        \"required\":\"output for a particular problem, type:str\",\n",
    "        \"constraint\":\"conditions to be abided by, type:str\",\n",
    "    }\n",
    ")\n",
    "\n",
    "print(get_data_parts)"
   ]
  },
  {
   "cell_type": "code",
   "execution_count": 8,
   "metadata": {},
   "outputs": [
    {
     "data": {
      "text/plain": [
       "{'output': 'The kite got tangled in the tree because of that pesky cat!'}"
      ]
     },
     "execution_count": 8,
     "metadata": {},
     "output_type": "execute_result"
    }
   ],
   "source": [
    "from strictjson import Function\n",
    "\n",
    "emote = Function(\n",
    "    fn_description= 'Output a sentence with <obj> and <entity> in style of <emotion>.',\n",
    "    output_format= {\"output\":\"sentence\"},\n",
    ")\n",
    "\n",
    "emote('kite', 'cat', 'furious')"
   ]
  },
  {
   "cell_type": "code",
   "execution_count": 9,
   "metadata": {},
   "outputs": [
    {
     "data": {
      "text/plain": [
       "{'address': '123 Main Street, Suite 567, Cityville',\n",
       " 'building_name': 'Gateway Tower Residence'}"
      ]
     },
     "execution_count": 9,
     "metadata": {},
     "output_type": "execute_result"
    }
   ],
   "source": [
    "extract_data = Function(\n",
    "    fn_description= \"Extract the address and building name from <address>\",\n",
    "    output_format= {\n",
    "        \"address\": \"address of a building, type: str\",\n",
    "        \"building_name\": \"name of building, type: str\",\n",
    "    }\n",
    ")\n",
    "text = \"123 Main Street, Suite 567, Cityville — Gateway Tower Residence.\"\n",
    "\n",
    "ext_address = extract_data(address=text)\n",
    "ext_address"
   ]
  },
  {
   "cell_type": "code",
   "execution_count": 11,
   "metadata": {},
   "outputs": [
    {
     "name": "stdout",
     "output_type": "stream",
     "text": [
      "An exception occurred: \"address\" not in json string output. You must use \"###{key}###\" to enclose the {key}.\n",
      "Current invalid json format: {\n",
      "    '123 Main Street': 'Flat 101, 1st Floor, Near Park, Residential',\n",
      "    '456 Elm Avenue': 'Flat 202, 2nd Floor, Opposite School, Commercial',\n",
      "    '789 Oak Lane': 'Flat 303, 3rd Floor, Next to Hospital, Residential',\n",
      "    '101 Pine Road': 'Flat 404, 4th Floor, Beside Market, Commercial',\n",
      "    '202 Maple Drive': 'Flat 505, 5th Floor, Near Library, Residential',\n",
      "    '303 Cedar Court': 'Flat 606, 6th Floor, Opposite Bank, Commercial',\n",
      "    '404 Birch Street': 'Flat 707, 7th Floor, Next to Gym, Residential',\n",
      "    '505 Walnut Avenue': 'Flat 808, 8th Floor, Beside Cafe, Commercial',\n",
      "    '606 Spruce Lane': 'Flat 909, 9th Floor, Near Theater, Residential',\n",
      "    '707 Ash Road': 'Flat 1010, 10th Floor, Opposite Mall, Commercial'\n",
      "}\n",
      "An exception occurred: \"address\" not in json string output. You must use \"###{key}###\" to enclose the {key}.\n",
      "Current invalid json format: {\n",
      "    '###123 Main Street###': 'Flat 101, 1st Floor, Near Park, Residential',\n",
      "    '###456 Elm Avenue###': 'Flat 202, 2nd Floor, Opposite School, Commercial',\n",
      "    '###789 Oak Lane###': 'Flat 303, 3rd Floor, Next to Hospital, Residential',\n",
      "    '###101 Pine Road###': 'Flat 404, 4th Floor, Beside Market, Commercial',\n",
      "    '###202 Maple Drive###': 'Flat 505, 5th Floor, Near Library, Residential',\n",
      "    '###303 Cedar Court###': 'Flat 606, 6th Floor, Opposite Bank, Commercial',\n",
      "    '###404 Birch Street###': 'Flat 707, 7th Floor, Next to Gym, Residential',\n",
      "    '###505 Walnut Avenue###': 'Flat 808, 8th Floor, Beside Cafe, Commercial',\n",
      "    '###606 Spruce Lane###': 'Flat 909, 9th Floor, Near Theater, Residential',\n",
      "    '###707 Ash Road###': 'Flat 1010, 10th Floor, Opposite Mall, Commercial'\n",
      "}\n",
      "An exception occurred: \"address\" not in json string output. You must use \"###{key}###\" to enclose the {key}.\n",
      "Current invalid json format: {\n",
      "    '###123 Main Street###': 'Flat 101, 1st Floor, Near Park, Residential',\n",
      "    '###456 Elm Avenue###': 'Flat 202, 2nd Floor, Opposite School, Commercial',\n",
      "    '###789 Oak Lane###': 'Flat 303, 3rd Floor, Next to Hospital, Residential',\n",
      "    '###101 Pine Road###': 'Flat 404, 4th Floor, Beside Market, Commercial',\n",
      "    '###202 Maple Drive###': 'Flat 505, 5th Floor, Near Library, Residential',\n",
      "    '###303 Cedar Court###': 'Flat 606, 6th Floor, Opposite Bank, Commercial',\n",
      "    '###404 Birch Street###': 'Flat 707, 7th Floor, Next to Gym, Residential',\n",
      "    '###505 Walnut Avenue###': 'Flat 808, 8th Floor, Beside Cafe, Commercial',\n",
      "    '###606 Spruce Lane###': 'Flat 909, 9th Floor, Near Theater, Residential',\n",
      "    '###707 Ash Road###': 'Flat 1010, 10th Floor, Opposite Mall, Commercial'\n",
      "}\n"
     ]
    },
    {
     "data": {
      "text/html": [
       "<pre style=\"white-space:pre;overflow-x:auto;line-height:normal;font-family:Menlo,'DejaVu Sans Mono',consolas,'Courier New',monospace\"><span style=\"font-weight: bold\">{}</span>\n",
       "</pre>\n"
      ],
      "text/plain": [
       "\u001b[1m{\u001b[0m\u001b[1m}\u001b[0m\n"
      ]
     },
     "metadata": {},
     "output_type": "display_data"
    }
   ],
   "source": [
    "get_list_addresses = strict_json(\n",
    "    system_prompt=\"You are the database of district\",\n",
    "    user_prompt=\"Provide me 10 addresses that contains, location and building name\",\n",
    "    output_format={\n",
    "        \"address\": \"Contains the details like flat_no, floor, landmark, type: List[str]\",\n",
    "        \"building_name\": \"Provide the building name, type: List[str]\",\n",
    "\n",
    "    }\n",
    ")\n",
    "\n",
    "print(get_list_addresses)"
   ]
  },
  {
   "cell_type": "code",
   "execution_count": 12,
   "metadata": {},
   "outputs": [
    {
     "data": {
      "text/html": [
       "<pre style=\"white-space:pre;overflow-x:auto;line-height:normal;font-family:Menlo,'DejaVu Sans Mono',consolas,'Courier New',monospace\"><span style=\"font-weight: bold\">{</span>\n",
       "    <span style=\"color: #008000; text-decoration-color: #008000\">'1'</span>: <span style=\"font-weight: bold\">{</span><span style=\"color: #008000; text-decoration-color: #008000\">'flat_no'</span>: <span style=\"color: #008000; text-decoration-color: #008000\">'A-101'</span>, <span style=\"color: #008000; text-decoration-color: #008000\">'floor'</span>: <span style=\"color: #008000; text-decoration-color: #008000\">'1st'</span>, <span style=\"color: #008000; text-decoration-color: #008000\">'landmark'</span>: <span style=\"color: #008000; text-decoration-color: #008000\">'Near Park Plaza'</span>, <span style=\"color: #008000; text-decoration-color: #008000\">'type'</span>: <span style=\"font-weight: bold\">[</span><span style=\"color: #008000; text-decoration-color: #008000\">'residential'</span><span style=\"font-weight: bold\">]}</span>,\n",
       "    <span style=\"color: #008000; text-decoration-color: #008000\">'2'</span>: <span style=\"font-weight: bold\">{</span><span style=\"color: #008000; text-decoration-color: #008000\">'flat_no'</span>: <span style=\"color: #008000; text-decoration-color: #008000\">'B-201'</span>, <span style=\"color: #008000; text-decoration-color: #008000\">'floor'</span>: <span style=\"color: #008000; text-decoration-color: #008000\">'2nd'</span>, <span style=\"color: #008000; text-decoration-color: #008000\">'landmark'</span>: <span style=\"color: #008000; text-decoration-color: #008000\">'Opposite City Mall'</span>, <span style=\"color: #008000; text-decoration-color: #008000\">'type'</span>: <span style=\"font-weight: bold\">[</span><span style=\"color: #008000; text-decoration-color: #008000\">'commercial'</span><span style=\"font-weight: bold\">]}</span>,\n",
       "    <span style=\"color: #008000; text-decoration-color: #008000\">'3'</span>: <span style=\"font-weight: bold\">{</span><span style=\"color: #008000; text-decoration-color: #008000\">'flat_no'</span>: <span style=\"color: #008000; text-decoration-color: #008000\">'C-301'</span>, <span style=\"color: #008000; text-decoration-color: #008000\">'floor'</span>: <span style=\"color: #008000; text-decoration-color: #008000\">'3rd'</span>, <span style=\"color: #008000; text-decoration-color: #008000\">'landmark'</span>: <span style=\"color: #008000; text-decoration-color: #008000\">'Behind Central Market'</span>, <span style=\"color: #008000; text-decoration-color: #008000\">'type'</span>: <span style=\"font-weight: bold\">[</span><span style=\"color: #008000; text-decoration-color: #008000\">'residential'</span><span style=\"font-weight: bold\">]}</span>,\n",
       "    <span style=\"color: #008000; text-decoration-color: #008000\">'4'</span>: <span style=\"font-weight: bold\">{</span><span style=\"color: #008000; text-decoration-color: #008000\">'flat_no'</span>: <span style=\"color: #008000; text-decoration-color: #008000\">'D-401'</span>, <span style=\"color: #008000; text-decoration-color: #008000\">'floor'</span>: <span style=\"color: #008000; text-decoration-color: #008000\">'4th'</span>, <span style=\"color: #008000; text-decoration-color: #008000\">'landmark'</span>: <span style=\"color: #008000; text-decoration-color: #008000\">'Next to Metro Station'</span>, <span style=\"color: #008000; text-decoration-color: #008000\">'type'</span>: <span style=\"font-weight: bold\">[</span><span style=\"color: #008000; text-decoration-color: #008000\">'commercial'</span><span style=\"font-weight: bold\">]}</span>,\n",
       "    <span style=\"color: #008000; text-decoration-color: #008000\">'5'</span>: <span style=\"font-weight: bold\">{</span><span style=\"color: #008000; text-decoration-color: #008000\">'flat_no'</span>: <span style=\"color: #008000; text-decoration-color: #008000\">'E-501'</span>, <span style=\"color: #008000; text-decoration-color: #008000\">'floor'</span>: <span style=\"color: #008000; text-decoration-color: #008000\">'5th'</span>, <span style=\"color: #008000; text-decoration-color: #008000\">'landmark'</span>: <span style=\"color: #008000; text-decoration-color: #008000\">'Near Community Center'</span>, <span style=\"color: #008000; text-decoration-color: #008000\">'type'</span>: <span style=\"font-weight: bold\">[</span><span style=\"color: #008000; text-decoration-color: #008000\">'residential'</span><span style=\"font-weight: bold\">]}</span>,\n",
       "    <span style=\"color: #008000; text-decoration-color: #008000\">'6'</span>: <span style=\"font-weight: bold\">{</span><span style=\"color: #008000; text-decoration-color: #008000\">'flat_no'</span>: <span style=\"color: #008000; text-decoration-color: #008000\">'F-601'</span>, <span style=\"color: #008000; text-decoration-color: #008000\">'floor'</span>: <span style=\"color: #008000; text-decoration-color: #008000\">'6th'</span>, <span style=\"color: #008000; text-decoration-color: #008000\">'landmark'</span>: <span style=\"color: #008000; text-decoration-color: #008000\">'Opposite Stadium'</span>, <span style=\"color: #008000; text-decoration-color: #008000\">'type'</span>: <span style=\"font-weight: bold\">[</span><span style=\"color: #008000; text-decoration-color: #008000\">'commercial'</span><span style=\"font-weight: bold\">]}</span>,\n",
       "    <span style=\"color: #008000; text-decoration-color: #008000\">'7'</span>: <span style=\"font-weight: bold\">{</span><span style=\"color: #008000; text-decoration-color: #008000\">'flat_no'</span>: <span style=\"color: #008000; text-decoration-color: #008000\">'G-701'</span>, <span style=\"color: #008000; text-decoration-color: #008000\">'floor'</span>: <span style=\"color: #008000; text-decoration-color: #008000\">'7th'</span>, <span style=\"color: #008000; text-decoration-color: #008000\">'landmark'</span>: <span style=\"color: #008000; text-decoration-color: #008000\">'Behind School'</span>, <span style=\"color: #008000; text-decoration-color: #008000\">'type'</span>: <span style=\"font-weight: bold\">[</span><span style=\"color: #008000; text-decoration-color: #008000\">'residential'</span><span style=\"font-weight: bold\">]}</span>,\n",
       "    <span style=\"color: #008000; text-decoration-color: #008000\">'8'</span>: <span style=\"font-weight: bold\">{</span><span style=\"color: #008000; text-decoration-color: #008000\">'flat_no'</span>: <span style=\"color: #008000; text-decoration-color: #008000\">'H-801'</span>, <span style=\"color: #008000; text-decoration-color: #008000\">'floor'</span>: <span style=\"color: #008000; text-decoration-color: #008000\">'8th'</span>, <span style=\"color: #008000; text-decoration-color: #008000\">'landmark'</span>: <span style=\"color: #008000; text-decoration-color: #008000\">'Next to Hospital'</span>, <span style=\"color: #008000; text-decoration-color: #008000\">'type'</span>: <span style=\"font-weight: bold\">[</span><span style=\"color: #008000; text-decoration-color: #008000\">'commercial'</span><span style=\"font-weight: bold\">]}</span>,\n",
       "    <span style=\"color: #008000; text-decoration-color: #008000\">'9'</span>: <span style=\"font-weight: bold\">{</span><span style=\"color: #008000; text-decoration-color: #008000\">'flat_no'</span>: <span style=\"color: #008000; text-decoration-color: #008000\">'I-901'</span>, <span style=\"color: #008000; text-decoration-color: #008000\">'floor'</span>: <span style=\"color: #008000; text-decoration-color: #008000\">'9th'</span>, <span style=\"color: #008000; text-decoration-color: #008000\">'landmark'</span>: <span style=\"color: #008000; text-decoration-color: #008000\">'Near Lake'</span>, <span style=\"color: #008000; text-decoration-color: #008000\">'type'</span>: <span style=\"font-weight: bold\">[</span><span style=\"color: #008000; text-decoration-color: #008000\">'residential'</span><span style=\"font-weight: bold\">]}</span>,\n",
       "    <span style=\"color: #008000; text-decoration-color: #008000\">'10'</span>: <span style=\"font-weight: bold\">{</span><span style=\"color: #008000; text-decoration-color: #008000\">'flat_no'</span>: <span style=\"color: #008000; text-decoration-color: #008000\">'J-1001'</span>, <span style=\"color: #008000; text-decoration-color: #008000\">'floor'</span>: <span style=\"color: #008000; text-decoration-color: #008000\">'10th'</span>, <span style=\"color: #008000; text-decoration-color: #008000\">'landmark'</span>: <span style=\"color: #008000; text-decoration-color: #008000\">'Opposite Garden'</span>, <span style=\"color: #008000; text-decoration-color: #008000\">'type'</span>: <span style=\"font-weight: bold\">[</span><span style=\"color: #008000; text-decoration-color: #008000\">'commercial'</span><span style=\"font-weight: bold\">]}</span>\n",
       "<span style=\"font-weight: bold\">}</span>\n",
       "</pre>\n"
      ],
      "text/plain": [
       "\u001b[1m{\u001b[0m\n",
       "    \u001b[32m'1'\u001b[0m: \u001b[1m{\u001b[0m\u001b[32m'flat_no'\u001b[0m: \u001b[32m'A-101'\u001b[0m, \u001b[32m'floor'\u001b[0m: \u001b[32m'1st'\u001b[0m, \u001b[32m'landmark'\u001b[0m: \u001b[32m'Near Park Plaza'\u001b[0m, \u001b[32m'type'\u001b[0m: \u001b[1m[\u001b[0m\u001b[32m'residential'\u001b[0m\u001b[1m]\u001b[0m\u001b[1m}\u001b[0m,\n",
       "    \u001b[32m'2'\u001b[0m: \u001b[1m{\u001b[0m\u001b[32m'flat_no'\u001b[0m: \u001b[32m'B-201'\u001b[0m, \u001b[32m'floor'\u001b[0m: \u001b[32m'2nd'\u001b[0m, \u001b[32m'landmark'\u001b[0m: \u001b[32m'Opposite City Mall'\u001b[0m, \u001b[32m'type'\u001b[0m: \u001b[1m[\u001b[0m\u001b[32m'commercial'\u001b[0m\u001b[1m]\u001b[0m\u001b[1m}\u001b[0m,\n",
       "    \u001b[32m'3'\u001b[0m: \u001b[1m{\u001b[0m\u001b[32m'flat_no'\u001b[0m: \u001b[32m'C-301'\u001b[0m, \u001b[32m'floor'\u001b[0m: \u001b[32m'3rd'\u001b[0m, \u001b[32m'landmark'\u001b[0m: \u001b[32m'Behind Central Market'\u001b[0m, \u001b[32m'type'\u001b[0m: \u001b[1m[\u001b[0m\u001b[32m'residential'\u001b[0m\u001b[1m]\u001b[0m\u001b[1m}\u001b[0m,\n",
       "    \u001b[32m'4'\u001b[0m: \u001b[1m{\u001b[0m\u001b[32m'flat_no'\u001b[0m: \u001b[32m'D-401'\u001b[0m, \u001b[32m'floor'\u001b[0m: \u001b[32m'4th'\u001b[0m, \u001b[32m'landmark'\u001b[0m: \u001b[32m'Next to Metro Station'\u001b[0m, \u001b[32m'type'\u001b[0m: \u001b[1m[\u001b[0m\u001b[32m'commercial'\u001b[0m\u001b[1m]\u001b[0m\u001b[1m}\u001b[0m,\n",
       "    \u001b[32m'5'\u001b[0m: \u001b[1m{\u001b[0m\u001b[32m'flat_no'\u001b[0m: \u001b[32m'E-501'\u001b[0m, \u001b[32m'floor'\u001b[0m: \u001b[32m'5th'\u001b[0m, \u001b[32m'landmark'\u001b[0m: \u001b[32m'Near Community Center'\u001b[0m, \u001b[32m'type'\u001b[0m: \u001b[1m[\u001b[0m\u001b[32m'residential'\u001b[0m\u001b[1m]\u001b[0m\u001b[1m}\u001b[0m,\n",
       "    \u001b[32m'6'\u001b[0m: \u001b[1m{\u001b[0m\u001b[32m'flat_no'\u001b[0m: \u001b[32m'F-601'\u001b[0m, \u001b[32m'floor'\u001b[0m: \u001b[32m'6th'\u001b[0m, \u001b[32m'landmark'\u001b[0m: \u001b[32m'Opposite Stadium'\u001b[0m, \u001b[32m'type'\u001b[0m: \u001b[1m[\u001b[0m\u001b[32m'commercial'\u001b[0m\u001b[1m]\u001b[0m\u001b[1m}\u001b[0m,\n",
       "    \u001b[32m'7'\u001b[0m: \u001b[1m{\u001b[0m\u001b[32m'flat_no'\u001b[0m: \u001b[32m'G-701'\u001b[0m, \u001b[32m'floor'\u001b[0m: \u001b[32m'7th'\u001b[0m, \u001b[32m'landmark'\u001b[0m: \u001b[32m'Behind School'\u001b[0m, \u001b[32m'type'\u001b[0m: \u001b[1m[\u001b[0m\u001b[32m'residential'\u001b[0m\u001b[1m]\u001b[0m\u001b[1m}\u001b[0m,\n",
       "    \u001b[32m'8'\u001b[0m: \u001b[1m{\u001b[0m\u001b[32m'flat_no'\u001b[0m: \u001b[32m'H-801'\u001b[0m, \u001b[32m'floor'\u001b[0m: \u001b[32m'8th'\u001b[0m, \u001b[32m'landmark'\u001b[0m: \u001b[32m'Next to Hospital'\u001b[0m, \u001b[32m'type'\u001b[0m: \u001b[1m[\u001b[0m\u001b[32m'commercial'\u001b[0m\u001b[1m]\u001b[0m\u001b[1m}\u001b[0m,\n",
       "    \u001b[32m'9'\u001b[0m: \u001b[1m{\u001b[0m\u001b[32m'flat_no'\u001b[0m: \u001b[32m'I-901'\u001b[0m, \u001b[32m'floor'\u001b[0m: \u001b[32m'9th'\u001b[0m, \u001b[32m'landmark'\u001b[0m: \u001b[32m'Near Lake'\u001b[0m, \u001b[32m'type'\u001b[0m: \u001b[1m[\u001b[0m\u001b[32m'residential'\u001b[0m\u001b[1m]\u001b[0m\u001b[1m}\u001b[0m,\n",
       "    \u001b[32m'10'\u001b[0m: \u001b[1m{\u001b[0m\u001b[32m'flat_no'\u001b[0m: \u001b[32m'J-1001'\u001b[0m, \u001b[32m'floor'\u001b[0m: \u001b[32m'10th'\u001b[0m, \u001b[32m'landmark'\u001b[0m: \u001b[32m'Opposite Garden'\u001b[0m, \u001b[32m'type'\u001b[0m: \u001b[1m[\u001b[0m\u001b[32m'commercial'\u001b[0m\u001b[1m]\u001b[0m\u001b[1m}\u001b[0m\n",
       "\u001b[1m}\u001b[0m\n"
      ]
     },
     "metadata": {},
     "output_type": "display_data"
    }
   ],
   "source": [
    "get_list_addresses = strict_json(\n",
    "    system_prompt=\"You are the database of district\",\n",
    "    user_prompt=\"Provide me 10 addresses that contains, location and building name\",\n",
    "    output_format=\"Contains the details like flat_no, floor, landmark, type: List[str]\",\n",
    ")\n",
    "\n",
    "print(get_list_addresses)"
   ]
  },
  {
   "cell_type": "code",
   "execution_count": null,
   "metadata": {},
   "outputs": [
    {
     "data": {
      "text/html": [
       "<pre style=\"white-space:pre;overflow-x:auto;line-height:normal;font-family:Menlo,'DejaVu Sans Mono',consolas,'Courier New',monospace\"><span style=\"font-weight: bold\">{</span>\n",
       "    <span style=\"color: #008000; text-decoration-color: #008000\">'1'</span>: <span style=\"font-weight: bold\">{</span><span style=\"color: #008000; text-decoration-color: #008000\">'flat_no'</span>: <span style=\"color: #008000; text-decoration-color: #008000\">'A-101'</span>, <span style=\"color: #008000; text-decoration-color: #008000\">'floor'</span>: <span style=\"color: #008000; text-decoration-color: #008000\">'1st'</span>, <span style=\"color: #008000; text-decoration-color: #008000\">'landmark'</span>: <span style=\"color: #008000; text-decoration-color: #008000\">'Near Park Plaza'</span>, <span style=\"color: #008000; text-decoration-color: #008000\">'type'</span>: <span style=\"font-weight: bold\">[</span><span style=\"color: #008000; text-decoration-color: #008000\">'residential'</span><span style=\"font-weight: bold\">]}</span>,\n",
       "    <span style=\"color: #008000; text-decoration-color: #008000\">'2'</span>: <span style=\"font-weight: bold\">{</span><span style=\"color: #008000; text-decoration-color: #008000\">'flat_no'</span>: <span style=\"color: #008000; text-decoration-color: #008000\">'B-201'</span>, <span style=\"color: #008000; text-decoration-color: #008000\">'floor'</span>: <span style=\"color: #008000; text-decoration-color: #008000\">'2nd'</span>, <span style=\"color: #008000; text-decoration-color: #008000\">'landmark'</span>: <span style=\"color: #008000; text-decoration-color: #008000\">'Opposite City Mall'</span>, <span style=\"color: #008000; text-decoration-color: #008000\">'type'</span>: <span style=\"font-weight: bold\">[</span><span style=\"color: #008000; text-decoration-color: #008000\">'commercial'</span><span style=\"font-weight: bold\">]}</span>,\n",
       "    <span style=\"color: #008000; text-decoration-color: #008000\">'3'</span>: <span style=\"font-weight: bold\">{</span><span style=\"color: #008000; text-decoration-color: #008000\">'flat_no'</span>: <span style=\"color: #008000; text-decoration-color: #008000\">'C-301'</span>, <span style=\"color: #008000; text-decoration-color: #008000\">'floor'</span>: <span style=\"color: #008000; text-decoration-color: #008000\">'3rd'</span>, <span style=\"color: #008000; text-decoration-color: #008000\">'landmark'</span>: <span style=\"color: #008000; text-decoration-color: #008000\">'Behind Central Market'</span>, <span style=\"color: #008000; text-decoration-color: #008000\">'type'</span>: <span style=\"font-weight: bold\">[</span><span style=\"color: #008000; text-decoration-color: #008000\">'residential'</span><span style=\"font-weight: bold\">]}</span>,\n",
       "    <span style=\"color: #008000; text-decoration-color: #008000\">'4'</span>: <span style=\"font-weight: bold\">{</span><span style=\"color: #008000; text-decoration-color: #008000\">'flat_no'</span>: <span style=\"color: #008000; text-decoration-color: #008000\">'D-401'</span>, <span style=\"color: #008000; text-decoration-color: #008000\">'floor'</span>: <span style=\"color: #008000; text-decoration-color: #008000\">'4th'</span>, <span style=\"color: #008000; text-decoration-color: #008000\">'landmark'</span>: <span style=\"color: #008000; text-decoration-color: #008000\">'Next to Metro Station'</span>, <span style=\"color: #008000; text-decoration-color: #008000\">'type'</span>: <span style=\"font-weight: bold\">[</span><span style=\"color: #008000; text-decoration-color: #008000\">'commercial'</span><span style=\"font-weight: bold\">]}</span>,\n",
       "    <span style=\"color: #008000; text-decoration-color: #008000\">'5'</span>: <span style=\"font-weight: bold\">{</span><span style=\"color: #008000; text-decoration-color: #008000\">'flat_no'</span>: <span style=\"color: #008000; text-decoration-color: #008000\">'E-501'</span>, <span style=\"color: #008000; text-decoration-color: #008000\">'floor'</span>: <span style=\"color: #008000; text-decoration-color: #008000\">'5th'</span>, <span style=\"color: #008000; text-decoration-color: #008000\">'landmark'</span>: <span style=\"color: #008000; text-decoration-color: #008000\">'Near Community Center'</span>, <span style=\"color: #008000; text-decoration-color: #008000\">'type'</span>: <span style=\"font-weight: bold\">[</span><span style=\"color: #008000; text-decoration-color: #008000\">'residential'</span><span style=\"font-weight: bold\">]}</span>,\n",
       "    <span style=\"color: #008000; text-decoration-color: #008000\">'6'</span>: <span style=\"font-weight: bold\">{</span><span style=\"color: #008000; text-decoration-color: #008000\">'flat_no'</span>: <span style=\"color: #008000; text-decoration-color: #008000\">'F-601'</span>, <span style=\"color: #008000; text-decoration-color: #008000\">'floor'</span>: <span style=\"color: #008000; text-decoration-color: #008000\">'6th'</span>, <span style=\"color: #008000; text-decoration-color: #008000\">'landmark'</span>: <span style=\"color: #008000; text-decoration-color: #008000\">'Opposite Stadium'</span>, <span style=\"color: #008000; text-decoration-color: #008000\">'type'</span>: <span style=\"font-weight: bold\">[</span><span style=\"color: #008000; text-decoration-color: #008000\">'commercial'</span><span style=\"font-weight: bold\">]}</span>,\n",
       "    <span style=\"color: #008000; text-decoration-color: #008000\">'7'</span>: <span style=\"font-weight: bold\">{</span><span style=\"color: #008000; text-decoration-color: #008000\">'flat_no'</span>: <span style=\"color: #008000; text-decoration-color: #008000\">'G-701'</span>, <span style=\"color: #008000; text-decoration-color: #008000\">'floor'</span>: <span style=\"color: #008000; text-decoration-color: #008000\">'7th'</span>, <span style=\"color: #008000; text-decoration-color: #008000\">'landmark'</span>: <span style=\"color: #008000; text-decoration-color: #008000\">'Behind School'</span>, <span style=\"color: #008000; text-decoration-color: #008000\">'type'</span>: <span style=\"font-weight: bold\">[</span><span style=\"color: #008000; text-decoration-color: #008000\">'residential'</span><span style=\"font-weight: bold\">]}</span>,\n",
       "    <span style=\"color: #008000; text-decoration-color: #008000\">'8'</span>: <span style=\"font-weight: bold\">{</span><span style=\"color: #008000; text-decoration-color: #008000\">'flat_no'</span>: <span style=\"color: #008000; text-decoration-color: #008000\">'H-801'</span>, <span style=\"color: #008000; text-decoration-color: #008000\">'floor'</span>: <span style=\"color: #008000; text-decoration-color: #008000\">'8th'</span>, <span style=\"color: #008000; text-decoration-color: #008000\">'landmark'</span>: <span style=\"color: #008000; text-decoration-color: #008000\">'Next to Hospital'</span>, <span style=\"color: #008000; text-decoration-color: #008000\">'type'</span>: <span style=\"font-weight: bold\">[</span><span style=\"color: #008000; text-decoration-color: #008000\">'commercial'</span><span style=\"font-weight: bold\">]}</span>,\n",
       "    <span style=\"color: #008000; text-decoration-color: #008000\">'9'</span>: <span style=\"font-weight: bold\">{</span><span style=\"color: #008000; text-decoration-color: #008000\">'flat_no'</span>: <span style=\"color: #008000; text-decoration-color: #008000\">'I-901'</span>, <span style=\"color: #008000; text-decoration-color: #008000\">'floor'</span>: <span style=\"color: #008000; text-decoration-color: #008000\">'9th'</span>, <span style=\"color: #008000; text-decoration-color: #008000\">'landmark'</span>: <span style=\"color: #008000; text-decoration-color: #008000\">'Near Lake'</span>, <span style=\"color: #008000; text-decoration-color: #008000\">'type'</span>: <span style=\"font-weight: bold\">[</span><span style=\"color: #008000; text-decoration-color: #008000\">'residential'</span><span style=\"font-weight: bold\">]}</span>,\n",
       "    <span style=\"color: #008000; text-decoration-color: #008000\">'10'</span>: <span style=\"font-weight: bold\">{</span><span style=\"color: #008000; text-decoration-color: #008000\">'flat_no'</span>: <span style=\"color: #008000; text-decoration-color: #008000\">'J-1001'</span>, <span style=\"color: #008000; text-decoration-color: #008000\">'floor'</span>: <span style=\"color: #008000; text-decoration-color: #008000\">'10th'</span>, <span style=\"color: #008000; text-decoration-color: #008000\">'landmark'</span>: <span style=\"color: #008000; text-decoration-color: #008000\">'Opposite Garden'</span>, <span style=\"color: #008000; text-decoration-color: #008000\">'type'</span>: <span style=\"font-weight: bold\">[</span><span style=\"color: #008000; text-decoration-color: #008000\">'commercial'</span><span style=\"font-weight: bold\">]}</span>\n",
       "<span style=\"font-weight: bold\">}</span>\n",
       "</pre>\n"
      ],
      "text/plain": [
       "\u001b[1m{\u001b[0m\n",
       "    \u001b[32m'1'\u001b[0m: \u001b[1m{\u001b[0m\u001b[32m'flat_no'\u001b[0m: \u001b[32m'A-101'\u001b[0m, \u001b[32m'floor'\u001b[0m: \u001b[32m'1st'\u001b[0m, \u001b[32m'landmark'\u001b[0m: \u001b[32m'Near Park Plaza'\u001b[0m, \u001b[32m'type'\u001b[0m: \u001b[1m[\u001b[0m\u001b[32m'residential'\u001b[0m\u001b[1m]\u001b[0m\u001b[1m}\u001b[0m,\n",
       "    \u001b[32m'2'\u001b[0m: \u001b[1m{\u001b[0m\u001b[32m'flat_no'\u001b[0m: \u001b[32m'B-201'\u001b[0m, \u001b[32m'floor'\u001b[0m: \u001b[32m'2nd'\u001b[0m, \u001b[32m'landmark'\u001b[0m: \u001b[32m'Opposite City Mall'\u001b[0m, \u001b[32m'type'\u001b[0m: \u001b[1m[\u001b[0m\u001b[32m'commercial'\u001b[0m\u001b[1m]\u001b[0m\u001b[1m}\u001b[0m,\n",
       "    \u001b[32m'3'\u001b[0m: \u001b[1m{\u001b[0m\u001b[32m'flat_no'\u001b[0m: \u001b[32m'C-301'\u001b[0m, \u001b[32m'floor'\u001b[0m: \u001b[32m'3rd'\u001b[0m, \u001b[32m'landmark'\u001b[0m: \u001b[32m'Behind Central Market'\u001b[0m, \u001b[32m'type'\u001b[0m: \u001b[1m[\u001b[0m\u001b[32m'residential'\u001b[0m\u001b[1m]\u001b[0m\u001b[1m}\u001b[0m,\n",
       "    \u001b[32m'4'\u001b[0m: \u001b[1m{\u001b[0m\u001b[32m'flat_no'\u001b[0m: \u001b[32m'D-401'\u001b[0m, \u001b[32m'floor'\u001b[0m: \u001b[32m'4th'\u001b[0m, \u001b[32m'landmark'\u001b[0m: \u001b[32m'Next to Metro Station'\u001b[0m, \u001b[32m'type'\u001b[0m: \u001b[1m[\u001b[0m\u001b[32m'commercial'\u001b[0m\u001b[1m]\u001b[0m\u001b[1m}\u001b[0m,\n",
       "    \u001b[32m'5'\u001b[0m: \u001b[1m{\u001b[0m\u001b[32m'flat_no'\u001b[0m: \u001b[32m'E-501'\u001b[0m, \u001b[32m'floor'\u001b[0m: \u001b[32m'5th'\u001b[0m, \u001b[32m'landmark'\u001b[0m: \u001b[32m'Near Community Center'\u001b[0m, \u001b[32m'type'\u001b[0m: \u001b[1m[\u001b[0m\u001b[32m'residential'\u001b[0m\u001b[1m]\u001b[0m\u001b[1m}\u001b[0m,\n",
       "    \u001b[32m'6'\u001b[0m: \u001b[1m{\u001b[0m\u001b[32m'flat_no'\u001b[0m: \u001b[32m'F-601'\u001b[0m, \u001b[32m'floor'\u001b[0m: \u001b[32m'6th'\u001b[0m, \u001b[32m'landmark'\u001b[0m: \u001b[32m'Opposite Stadium'\u001b[0m, \u001b[32m'type'\u001b[0m: \u001b[1m[\u001b[0m\u001b[32m'commercial'\u001b[0m\u001b[1m]\u001b[0m\u001b[1m}\u001b[0m,\n",
       "    \u001b[32m'7'\u001b[0m: \u001b[1m{\u001b[0m\u001b[32m'flat_no'\u001b[0m: \u001b[32m'G-701'\u001b[0m, \u001b[32m'floor'\u001b[0m: \u001b[32m'7th'\u001b[0m, \u001b[32m'landmark'\u001b[0m: \u001b[32m'Behind School'\u001b[0m, \u001b[32m'type'\u001b[0m: \u001b[1m[\u001b[0m\u001b[32m'residential'\u001b[0m\u001b[1m]\u001b[0m\u001b[1m}\u001b[0m,\n",
       "    \u001b[32m'8'\u001b[0m: \u001b[1m{\u001b[0m\u001b[32m'flat_no'\u001b[0m: \u001b[32m'H-801'\u001b[0m, \u001b[32m'floor'\u001b[0m: \u001b[32m'8th'\u001b[0m, \u001b[32m'landmark'\u001b[0m: \u001b[32m'Next to Hospital'\u001b[0m, \u001b[32m'type'\u001b[0m: \u001b[1m[\u001b[0m\u001b[32m'commercial'\u001b[0m\u001b[1m]\u001b[0m\u001b[1m}\u001b[0m,\n",
       "    \u001b[32m'9'\u001b[0m: \u001b[1m{\u001b[0m\u001b[32m'flat_no'\u001b[0m: \u001b[32m'I-901'\u001b[0m, \u001b[32m'floor'\u001b[0m: \u001b[32m'9th'\u001b[0m, \u001b[32m'landmark'\u001b[0m: \u001b[32m'Near Lake'\u001b[0m, \u001b[32m'type'\u001b[0m: \u001b[1m[\u001b[0m\u001b[32m'residential'\u001b[0m\u001b[1m]\u001b[0m\u001b[1m}\u001b[0m,\n",
       "    \u001b[32m'10'\u001b[0m: \u001b[1m{\u001b[0m\u001b[32m'flat_no'\u001b[0m: \u001b[32m'J-1001'\u001b[0m, \u001b[32m'floor'\u001b[0m: \u001b[32m'10th'\u001b[0m, \u001b[32m'landmark'\u001b[0m: \u001b[32m'Opposite Garden'\u001b[0m, \u001b[32m'type'\u001b[0m: \u001b[1m[\u001b[0m\u001b[32m'commercial'\u001b[0m\u001b[1m]\u001b[0m\u001b[1m}\u001b[0m\n",
       "\u001b[1m}\u001b[0m\n"
      ]
     },
     "metadata": {},
     "output_type": "display_data"
    }
   ],
   "source": [
    "get_list_addresses = strict_json(\n",
    "    system_prompt=\"You are the database of district\",\n",
    "    user_prompt=\"Provide me 10 addresses that contains, location and building name\",\n",
    "    output_format=\"Contains the details like flat_no, floor, landmark, type: List[str]\",\n",
    ")\n",
    "\n",
    "print(get_list_addresses)"
   ]
  },
  {
   "cell_type": "code",
   "execution_count": 16,
   "metadata": {},
   "outputs": [
    {
     "data": {
      "text/html": [
       "<pre style=\"white-space:pre;overflow-x:auto;line-height:normal;font-family:Menlo,'DejaVu Sans Mono',consolas,'Courier New',monospace\"><span style=\"font-weight: bold\">{</span><span style=\"color: #008000; text-decoration-color: #008000\">\"address\"</span>: <span style=\"color: #008000; text-decoration-color: #008000\">\"&lt;address1&gt;\"</span><span style=\"color: #000000; text-decoration-color: #000000\">, </span><span style=\"color: #008000; text-decoration-color: #008000\">\"building\"</span><span style=\"color: #000000; text-decoration-color: #000000\">: </span><span style=\"color: #008000; text-decoration-color: #008000\">\"&lt;building1&gt;\"</span><span style=\"color: #000000; text-decoration-color: #000000; font-weight: bold\">}</span><span style=\"color: #000000; text-decoration-color: #000000\">,</span>\n",
       "<span style=\"color: #000000; text-decoration-color: #000000\">    </span><span style=\"color: #000000; text-decoration-color: #000000; font-weight: bold\">{</span><span style=\"color: #008000; text-decoration-color: #008000\">\"address\"</span><span style=\"color: #000000; text-decoration-color: #000000\">: </span><span style=\"color: #008000; text-decoration-color: #008000\">\"&lt;address2&gt;\"</span><span style=\"color: #000000; text-decoration-color: #000000\">, </span><span style=\"color: #008000; text-decoration-color: #008000\">\"building\"</span><span style=\"color: #000000; text-decoration-color: #000000\">: </span><span style=\"color: #008000; text-decoration-color: #008000\">\"&lt;building2&gt;\"</span><span style=\"color: #000000; text-decoration-color: #000000; font-weight: bold\">}</span><span style=\"color: #000000; text-decoration-color: #000000\">,</span>\n",
       "<span style=\"color: #000000; text-decoration-color: #000000\">    </span><span style=\"color: #000000; text-decoration-color: #000000; font-weight: bold\">{</span><span style=\"color: #008000; text-decoration-color: #008000\">\"address\"</span><span style=\"color: #000000; text-decoration-color: #000000\">: </span><span style=\"color: #008000; text-decoration-color: #008000\">\"&lt;address3&gt;\"</span><span style=\"color: #000000; text-decoration-color: #000000\">, </span><span style=\"color: #008000; text-decoration-color: #008000\">\"building\"</span><span style=\"color: #000000; text-decoration-color: #000000\">: </span><span style=\"color: #008000; text-decoration-color: #008000\">\"&lt;building3&gt;\"</span><span style=\"color: #000000; text-decoration-color: #000000; font-weight: bold\">}</span><span style=\"color: #000000; text-decoration-color: #000000\">,</span>\n",
       "<span style=\"color: #000000; text-decoration-color: #000000\">    </span><span style=\"color: #000000; text-decoration-color: #000000; font-weight: bold\">{</span><span style=\"color: #008000; text-decoration-color: #008000\">\"address\"</span><span style=\"color: #000000; text-decoration-color: #000000\">: </span><span style=\"color: #008000; text-decoration-color: #008000\">\"&lt;address4&gt;\"</span><span style=\"color: #000000; text-decoration-color: #000000\">, </span><span style=\"color: #008000; text-decoration-color: #008000\">\"building\"</span><span style=\"color: #000000; text-decoration-color: #000000\">: </span><span style=\"color: #008000; text-decoration-color: #008000\">\"&lt;building4&gt;\"</span><span style=\"color: #000000; text-decoration-color: #000000; font-weight: bold\">}</span><span style=\"color: #000000; text-decoration-color: #000000\">,</span>\n",
       "<span style=\"color: #000000; text-decoration-color: #000000\">    </span><span style=\"color: #000000; text-decoration-color: #000000; font-weight: bold\">{</span><span style=\"color: #008000; text-decoration-color: #008000\">\"address\"</span><span style=\"color: #000000; text-decoration-color: #000000\">: </span><span style=\"color: #008000; text-decoration-color: #008000\">\"&lt;address5&gt;\"</span><span style=\"color: #000000; text-decoration-color: #000000\">, </span><span style=\"color: #008000; text-decoration-color: #008000\">\"building\"</span><span style=\"color: #000000; text-decoration-color: #000000\">: </span><span style=\"color: #008000; text-decoration-color: #008000\">\"&lt;building5&gt;\"</span><span style=\"color: #000000; text-decoration-color: #000000; font-weight: bold\">}</span><span style=\"color: #000000; text-decoration-color: #000000\">,</span>\n",
       "<span style=\"color: #000000; text-decoration-color: #000000\">    </span><span style=\"color: #000000; text-decoration-color: #000000; font-weight: bold\">{</span><span style=\"color: #008000; text-decoration-color: #008000\">\"address\"</span><span style=\"color: #000000; text-decoration-color: #000000\">: </span><span style=\"color: #008000; text-decoration-color: #008000\">\"&lt;address6&gt;\"</span><span style=\"color: #000000; text-decoration-color: #000000\">, </span><span style=\"color: #008000; text-decoration-color: #008000\">\"building\"</span><span style=\"color: #000000; text-decoration-color: #000000\">: </span><span style=\"color: #008000; text-decoration-color: #008000\">\"&lt;building6&gt;\"</span><span style=\"color: #000000; text-decoration-color: #000000; font-weight: bold\">}</span><span style=\"color: #000000; text-decoration-color: #000000\">,</span>\n",
       "<span style=\"color: #000000; text-decoration-color: #000000\">    </span><span style=\"color: #000000; text-decoration-color: #000000; font-weight: bold\">{</span><span style=\"color: #008000; text-decoration-color: #008000\">\"address\"</span><span style=\"color: #000000; text-decoration-color: #000000\">: </span><span style=\"color: #008000; text-decoration-color: #008000\">\"&lt;address7&gt;\"</span><span style=\"color: #000000; text-decoration-color: #000000\">, </span><span style=\"color: #008000; text-decoration-color: #008000\">\"building\"</span><span style=\"color: #000000; text-decoration-color: #000000\">: </span><span style=\"color: #008000; text-decoration-color: #008000\">\"&lt;building7&gt;\"</span><span style=\"color: #000000; text-decoration-color: #000000; font-weight: bold\">}</span><span style=\"color: #000000; text-decoration-color: #000000\">,</span>\n",
       "<span style=\"color: #000000; text-decoration-color: #000000\">    </span><span style=\"color: #000000; text-decoration-color: #000000; font-weight: bold\">{</span><span style=\"color: #008000; text-decoration-color: #008000\">\"address\"</span><span style=\"color: #000000; text-decoration-color: #000000\">: </span><span style=\"color: #008000; text-decoration-color: #008000\">\"&lt;address8&gt;\"</span><span style=\"color: #000000; text-decoration-color: #000000\">, </span><span style=\"color: #008000; text-decoration-color: #008000\">\"building\"</span><span style=\"color: #000000; text-decoration-color: #000000\">: </span><span style=\"color: #008000; text-decoration-color: #008000\">\"&lt;building8&gt;\"</span><span style=\"color: #000000; text-decoration-color: #000000; font-weight: bold\">}</span><span style=\"color: #000000; text-decoration-color: #000000\">,</span>\n",
       "<span style=\"color: #000000; text-decoration-color: #000000\">    </span><span style=\"color: #000000; text-decoration-color: #000000; font-weight: bold\">{</span><span style=\"color: #008000; text-decoration-color: #008000\">\"address\"</span><span style=\"color: #000000; text-decoration-color: #000000\">: </span><span style=\"color: #008000; text-decoration-color: #008000\">\"&lt;address9&gt;\"</span><span style=\"color: #000000; text-decoration-color: #000000\">, </span><span style=\"color: #008000; text-decoration-color: #008000\">\"building\"</span><span style=\"color: #000000; text-decoration-color: #000000\">: </span><span style=\"color: #008000; text-decoration-color: #008000\">\"&lt;building9&gt;\"</span><span style=\"color: #000000; text-decoration-color: #000000; font-weight: bold\">}</span><span style=\"color: #000000; text-decoration-color: #000000\">,</span>\n",
       "<span style=\"color: #000000; text-decoration-color: #000000\">    </span><span style=\"color: #000000; text-decoration-color: #000000; font-weight: bold\">{</span><span style=\"color: #008000; text-decoration-color: #008000\">\"address\"</span><span style=\"color: #000000; text-decoration-color: #000000\">: </span><span style=\"color: #008000; text-decoration-color: #008000\">\"&lt;address10&gt;\"</span><span style=\"color: #000000; text-decoration-color: #000000\">, </span><span style=\"color: #008000; text-decoration-color: #008000\">\"building\"</span><span style=\"color: #000000; text-decoration-color: #000000\">: </span><span style=\"color: #008000; text-decoration-color: #008000\">\"&lt;building10&gt;\"</span><span style=\"font-weight: bold\">}</span>\n",
       "</pre>\n"
      ],
      "text/plain": [
       "\u001b[1m{\u001b[0m\u001b[32m\"address\"\u001b[0m: \u001b[32m\"\u001b[0m\u001b[32m<\u001b[0m\u001b[32maddress1\u001b[0m\u001b[32m>\"\u001b[0m\u001b[39m, \u001b[0m\u001b[32m\"building\"\u001b[0m\u001b[39m: \u001b[0m\u001b[32m\"<building1>\"\u001b[0m\u001b[1;39m}\u001b[0m\u001b[39m,\u001b[0m\n",
       "\u001b[39m    \u001b[0m\u001b[1;39m{\u001b[0m\u001b[32m\"address\"\u001b[0m\u001b[39m: \u001b[0m\u001b[32m\"<address2>\"\u001b[0m\u001b[39m, \u001b[0m\u001b[32m\"building\"\u001b[0m\u001b[39m: \u001b[0m\u001b[32m\"<building2>\"\u001b[0m\u001b[1;39m}\u001b[0m\u001b[39m,\u001b[0m\n",
       "\u001b[39m    \u001b[0m\u001b[1;39m{\u001b[0m\u001b[32m\"address\"\u001b[0m\u001b[39m: \u001b[0m\u001b[32m\"<address3>\"\u001b[0m\u001b[39m, \u001b[0m\u001b[32m\"building\"\u001b[0m\u001b[39m: \u001b[0m\u001b[32m\"<building3>\"\u001b[0m\u001b[1;39m}\u001b[0m\u001b[39m,\u001b[0m\n",
       "\u001b[39m    \u001b[0m\u001b[1;39m{\u001b[0m\u001b[32m\"address\"\u001b[0m\u001b[39m: \u001b[0m\u001b[32m\"<address4>\"\u001b[0m\u001b[39m, \u001b[0m\u001b[32m\"building\"\u001b[0m\u001b[39m: \u001b[0m\u001b[32m\"<building4>\"\u001b[0m\u001b[1;39m}\u001b[0m\u001b[39m,\u001b[0m\n",
       "\u001b[39m    \u001b[0m\u001b[1;39m{\u001b[0m\u001b[32m\"address\"\u001b[0m\u001b[39m: \u001b[0m\u001b[32m\"<address5>\"\u001b[0m\u001b[39m, \u001b[0m\u001b[32m\"building\"\u001b[0m\u001b[39m: \u001b[0m\u001b[32m\"<building5>\"\u001b[0m\u001b[1;39m}\u001b[0m\u001b[39m,\u001b[0m\n",
       "\u001b[39m    \u001b[0m\u001b[1;39m{\u001b[0m\u001b[32m\"address\"\u001b[0m\u001b[39m: \u001b[0m\u001b[32m\"<address6>\"\u001b[0m\u001b[39m, \u001b[0m\u001b[32m\"building\"\u001b[0m\u001b[39m: \u001b[0m\u001b[32m\"<building6>\"\u001b[0m\u001b[1;39m}\u001b[0m\u001b[39m,\u001b[0m\n",
       "\u001b[39m    \u001b[0m\u001b[1;39m{\u001b[0m\u001b[32m\"address\"\u001b[0m\u001b[39m: \u001b[0m\u001b[32m\"<address7>\"\u001b[0m\u001b[39m, \u001b[0m\u001b[32m\"building\"\u001b[0m\u001b[39m: \u001b[0m\u001b[32m\"<building7>\"\u001b[0m\u001b[1;39m}\u001b[0m\u001b[39m,\u001b[0m\n",
       "\u001b[39m    \u001b[0m\u001b[1;39m{\u001b[0m\u001b[32m\"address\"\u001b[0m\u001b[39m: \u001b[0m\u001b[32m\"<address8>\"\u001b[0m\u001b[39m, \u001b[0m\u001b[32m\"building\"\u001b[0m\u001b[39m: \u001b[0m\u001b[32m\"<building8>\"\u001b[0m\u001b[1;39m}\u001b[0m\u001b[39m,\u001b[0m\n",
       "\u001b[39m    \u001b[0m\u001b[1;39m{\u001b[0m\u001b[32m\"address\"\u001b[0m\u001b[39m: \u001b[0m\u001b[32m\"<address9>\"\u001b[0m\u001b[39m, \u001b[0m\u001b[32m\"building\"\u001b[0m\u001b[39m: \u001b[0m\u001b[32m\"<building9>\"\u001b[0m\u001b[1;39m}\u001b[0m\u001b[39m,\u001b[0m\n",
       "\u001b[39m    \u001b[0m\u001b[1;39m{\u001b[0m\u001b[32m\"address\"\u001b[0m\u001b[39m: \u001b[0m\u001b[32m\"<address10>\"\u001b[0m\u001b[39m, \u001b[0m\u001b[32m\"building\"\u001b[0m\u001b[39m: \u001b[0m\u001b[32m\"<building10\u001b[0m\u001b[32m>\u001b[0m\u001b[32m\"\u001b[0m\u001b[1m}\u001b[0m\n"
      ]
     },
     "metadata": {},
     "output_type": "display_data"
    }
   ],
   "source": [
    "get_dict_addresses = strict_json(\n",
    "    system_prompt=\"You are the database of district\",\n",
    "    user_prompt=\"Provide me 10 addresses that contains, location and building name\",\n",
    "    output_format=\"Array of real addresses of buildings, type: List[Dict['address', 'building']\",\n",
    ")\n",
    "\n",
    "print(get_dict_addresses)"
   ]
  },
  {
   "cell_type": "code",
   "execution_count": 17,
   "metadata": {},
   "outputs": [
    {
     "data": {
      "text/html": [
       "<pre style=\"white-space:pre;overflow-x:auto;line-height:normal;font-family:Menlo,'DejaVu Sans Mono',consolas,'Courier New',monospace\"><span style=\"font-weight: bold\">{</span>\n",
       "    <span style=\"color: #008000; text-decoration-color: #008000\">'given_params'</span>: <span style=\"color: #008000; text-decoration-color: #008000\">'binary search tree (BST), two given nodes in the BST'</span>,\n",
       "    <span style=\"color: #008000; text-decoration-color: #008000\">'required'</span>: <span style=\"color: #008000; text-decoration-color: #008000\">'lowest common ancestor (LCA) node of the two given nodes'</span>,\n",
       "    <span style=\"color: #008000; text-decoration-color: #008000\">'constraint'</span>: <span style=\"color: #008000; text-decoration-color: #008000\">'The lowest common ancestor is the lowest node that has both given nodes as descendants'</span>\n",
       "<span style=\"font-weight: bold\">}</span>\n",
       "</pre>\n"
      ],
      "text/plain": [
       "\u001b[1m{\u001b[0m\n",
       "    \u001b[32m'given_params'\u001b[0m: \u001b[32m'binary search tree \u001b[0m\u001b[32m(\u001b[0m\u001b[32mBST\u001b[0m\u001b[32m)\u001b[0m\u001b[32m, two given nodes in the BST'\u001b[0m,\n",
       "    \u001b[32m'required'\u001b[0m: \u001b[32m'lowest common ancestor \u001b[0m\u001b[32m(\u001b[0m\u001b[32mLCA\u001b[0m\u001b[32m)\u001b[0m\u001b[32m node of the two given nodes'\u001b[0m,\n",
       "    \u001b[32m'constraint'\u001b[0m: \u001b[32m'The lowest common ancestor is the lowest node that has both given nodes as descendants'\u001b[0m\n",
       "\u001b[1m}\u001b[0m\n"
      ]
     },
     "metadata": {},
     "output_type": "display_data"
    }
   ],
   "source": [
    "data_point = \"\"\"Given a binary search tree (BST), find the lowest common ancestor (LCA) node of two given\n",
    "            nodes in the BST. According to the definition of LCA on Wikipedia: The lowest common ancestor\n",
    "            is defined between two nodes p and q as the lowest node in T that has both p and q as\n",
    "            descendants (where we allow a node to be a descendant of itself).\"\"\"\n",
    "\n",
    "get_data_parts = strict_json(\n",
    "    system_prompt=\"your are expert regex extractor\",\n",
    "    user_prompt=f\"Extract the given, required and constraint from {data_point}\",\n",
    "    output_format={\n",
    "        \"given_params\":\"input for a particular problem, type:str\",\n",
    "        \"required\":\"output for a particular problem, type:str\",\n",
    "        \"constraint\":\"conditions to be abided by, type:str\",\n",
    "    }\n",
    ")\n",
    "\n",
    "print(get_data_parts)"
   ]
  },
  {
   "cell_type": "code",
   "execution_count": 18,
   "metadata": {},
   "outputs": [
    {
     "data": {
      "text/html": [
       "<pre style=\"white-space:pre;overflow-x:auto;line-height:normal;font-family:Menlo,'DejaVu Sans Mono',consolas,'Courier New',monospace\"><span style=\"font-weight: bold\">{</span>\n",
       "    <span style=\"color: #008000; text-decoration-color: #008000\">'given_params'</span>: <span style=\"color: #008000; text-decoration-color: #008000\">'the root of a binary search tree, and an integer k'</span>,\n",
       "    <span style=\"color: #008000; text-decoration-color: #008000\">'required'</span>: <span style=\"color: #008000; text-decoration-color: #008000\">'kth smallest value (1-indexed) of all the values of the nodes in the tree'</span>,\n",
       "    <span style=\"color: #008000; text-decoration-color: #008000\">'constraint'</span>: <span style=\"color: #008000; text-decoration-color: #008000\">'1 &lt;= k &lt;= number of nodes in the tree'</span>\n",
       "<span style=\"font-weight: bold\">}</span>\n",
       "</pre>\n"
      ],
      "text/plain": [
       "\u001b[1m{\u001b[0m\n",
       "    \u001b[32m'given_params'\u001b[0m: \u001b[32m'the root of a binary search tree, and an integer k'\u001b[0m,\n",
       "    \u001b[32m'required'\u001b[0m: \u001b[32m'kth smallest value \u001b[0m\u001b[32m(\u001b[0m\u001b[32m1-indexed\u001b[0m\u001b[32m)\u001b[0m\u001b[32m of all the values of the nodes in the tree'\u001b[0m,\n",
       "    \u001b[32m'constraint'\u001b[0m: \u001b[32m'1 <= k <= number of nodes in the tree'\u001b[0m\n",
       "\u001b[1m}\u001b[0m\n"
      ]
     },
     "metadata": {},
     "output_type": "display_data"
    }
   ],
   "source": [
    "data_point = \"\"\"Given the root of a binary search tree, and an integer k, return the \n",
    "kth smallest value (1-indexed) of all the values of the nodes in the tree.\"\"\"\n",
    "\n",
    "get_data_parts = strict_json(\n",
    "    system_prompt=\"your are expert regex extractor\",\n",
    "    user_prompt=f\"Extract the given, required and constraint from {data_point}\",\n",
    "    output_format={\n",
    "        \"given_params\":\"input for a particular problem, type:str\",\n",
    "        \"required\":\"output for a particular problem, type:str\",\n",
    "        \"constraint\":\"conditions to be abided by, type:str\",\n",
    "    }\n",
    ")\n",
    "\n",
    "print(get_data_parts)"
   ]
  },
  {
   "cell_type": "code",
   "execution_count": 19,
   "metadata": {},
   "outputs": [
    {
     "name": "stderr",
     "output_type": "stream",
     "text": [
      "d:\\dspyenv\\Lib\\site-packages\\tqdm\\auto.py:21: TqdmWarning: IProgress not found. Please update jupyter and ipywidgets. See https://ipywidgets.readthedocs.io/en/stable/user_install.html\n",
      "  from .autonotebook import tqdm as notebook_tqdm\n"
     ]
    }
   ],
   "source": [
    "# How dose DSPy compares\n",
    "from dspy import (\n",
    "    Predict,\n",
    "    Signature,\n",
    "    settings,\n",
    "    OpenAI\n",
    ")"
   ]
  },
  {
   "cell_type": "code",
   "execution_count": 20,
   "metadata": {},
   "outputs": [],
   "source": [
    "turbo = OpenAI(model='gpt-3.5-turbo')\n",
    "settings.configure(lm=turbo)"
   ]
  },
  {
   "cell_type": "code",
   "execution_count": 21,
   "metadata": {},
   "outputs": [],
   "source": [
    "get_dictionary = Predict(\"question -> answer as json\")"
   ]
  },
  {
   "cell_type": "code",
   "execution_count": 22,
   "metadata": {},
   "outputs": [
    {
     "data": {
      "text/html": [
       "<pre style=\"white-space:pre;overflow-x:auto;line-height:normal;font-family:Menlo,'DejaVu Sans Mono',consolas,'Courier New',monospace\"><span style=\"color: #800080; text-decoration-color: #800080; font-weight: bold\">Prediction</span><span style=\"font-weight: bold\">(</span>\n",
       "    answer as <span style=\"color: #808000; text-decoration-color: #808000\">json</span>=<span style=\"color: #008000; text-decoration-color: #008000\">'{\\n  \"addresses\": [\\n    {\\n      \"location\": \"123 Main Street, New York, NY\",\\n      </span>\n",
       "<span style=\"color: #008000; text-decoration-color: #008000\">\"building_name\": \"Empire State Building\"\\n    },\\n    {\\n      \"location\": \"456 Elm Avenue, Los Angeles, CA\",\\n    </span>\n",
       "<span style=\"color: #008000; text-decoration-color: #008000\">\"building_name\": \"Hollywood Sign\"\\n    },\\n    {\\n      \"location\": \"789 Oak Drive, Chicago, IL\",\\n      </span>\n",
       "<span style=\"color: #008000; text-decoration-color: #008000\">\"building_name\": \"Willis Tower\"\\n    },\\n    {\\n      \"location\": \"101 Pine Lane, San Francisco, CA\",\\n      </span>\n",
       "<span style=\"color: #008000; text-decoration-color: #008000\">\"building_name\": \"Golden Gate Bridge\"\\n    },\\n    {\\n      \"location\": \"222 Maple Street, Miami, FL\",\\n      </span>\n",
       "<span style=\"color: #008000; text-decoration-color: #008000\">\"building_name\": \"Freedom Tower\"\\n    },\\n    {\\n      \"location\":'</span>\n",
       "<span style=\"font-weight: bold\">)</span>\n",
       "</pre>\n"
      ],
      "text/plain": [
       "\u001b[1;35mPrediction\u001b[0m\u001b[1m(\u001b[0m\n",
       "    answer as \u001b[33mjson\u001b[0m=\u001b[32m'\u001b[0m\u001b[32m{\u001b[0m\u001b[32m\\n  \"addresses\": \u001b[0m\u001b[32m[\u001b[0m\u001b[32m\\n    \u001b[0m\u001b[32m{\u001b[0m\u001b[32m\\n      \"location\": \"123 Main Street, New York, NY\",\\n      \u001b[0m\n",
       "\u001b[32m\"building_name\": \"Empire State Building\"\\n    \u001b[0m\u001b[32m}\u001b[0m\u001b[32m,\\n    \u001b[0m\u001b[32m{\u001b[0m\u001b[32m\\n      \"location\": \"456 Elm Avenue, Los Angeles, CA\",\\n    \u001b[0m\n",
       "\u001b[32m\"building_name\": \"Hollywood Sign\"\\n    \u001b[0m\u001b[32m}\u001b[0m\u001b[32m,\\n    \u001b[0m\u001b[32m{\u001b[0m\u001b[32m\\n      \"location\": \"789 Oak Drive, Chicago, IL\",\\n      \u001b[0m\n",
       "\u001b[32m\"building_name\": \"Willis Tower\"\\n    \u001b[0m\u001b[32m}\u001b[0m\u001b[32m,\\n    \u001b[0m\u001b[32m{\u001b[0m\u001b[32m\\n      \"location\": \"101 Pine Lane, San Francisco, CA\",\\n      \u001b[0m\n",
       "\u001b[32m\"building_name\": \"Golden Gate Bridge\"\\n    \u001b[0m\u001b[32m}\u001b[0m\u001b[32m,\\n    \u001b[0m\u001b[32m{\u001b[0m\u001b[32m\\n      \"location\": \"222 Maple Street, Miami, FL\",\\n      \u001b[0m\n",
       "\u001b[32m\"building_name\": \"Freedom Tower\"\\n    \u001b[0m\u001b[32m}\u001b[0m\u001b[32m,\\n    \u001b[0m\u001b[32m{\u001b[0m\u001b[32m\\n      \"location\":'\u001b[0m\n",
       "\u001b[1m)\u001b[0m\n"
      ]
     },
     "metadata": {},
     "output_type": "display_data"
    }
   ],
   "source": [
    "text = \"Provide me 10 addresses that contains, location and building name\"\n",
    "output = get_dictionary(question=text) \n",
    "\n",
    "print(output)"
   ]
  },
  {
   "cell_type": "code",
   "execution_count": 24,
   "metadata": {},
   "outputs": [
    {
     "data": {
      "text/html": [
       "<pre style=\"white-space:pre;overflow-x:auto;line-height:normal;font-family:Menlo,'DejaVu Sans Mono',consolas,'Courier New',monospace\"><span style=\"font-weight: bold\">{</span>\n",
       "  <span style=\"color: #008000; text-decoration-color: #008000\">\"given\"</span>: <span style=\"color: #008000; text-decoration-color: #008000\">\"the root of a binary search tree\"</span>,\n",
       "  <span style=\"color: #008000; text-decoration-color: #008000\">\"required\"</span>: <span style=\"color: #008000; text-decoration-color: #008000\">\"an integer k\"</span>,\n",
       "  <span style=\"color: #008000; text-decoration-color: #008000\">\"constraint\"</span>: <span style=\"color: #008000; text-decoration-color: #008000\">\"return the kth smallest value (1-indexed) of all the values of the nodes in the tree\"</span>\n",
       "<span style=\"font-weight: bold\">}</span>\n",
       "</pre>\n"
      ],
      "text/plain": [
       "\u001b[1m{\u001b[0m\n",
       "  \u001b[32m\"given\"\u001b[0m: \u001b[32m\"the root of a binary search tree\"\u001b[0m,\n",
       "  \u001b[32m\"required\"\u001b[0m: \u001b[32m\"an integer k\"\u001b[0m,\n",
       "  \u001b[32m\"constraint\"\u001b[0m: \u001b[32m\"return the kth smallest value \u001b[0m\u001b[32m(\u001b[0m\u001b[32m1-indexed\u001b[0m\u001b[32m)\u001b[0m\u001b[32m of all the values of the nodes in the tree\"\u001b[0m\n",
       "\u001b[1m}\u001b[0m\n"
      ]
     },
     "metadata": {},
     "output_type": "display_data"
    }
   ],
   "source": [
    "data_point = \"\"\"Given the root of a binary search tree, and an integer k, return the \n",
    "kth smallest value (1-indexed) of all the values of the nodes in the tree.\"\"\"\n",
    "\n",
    "text = f\"Extract the given, required and constraint from {data_point} and return as dictionary\"\n",
    "\n",
    "output_01 = get_dictionary(question=text)\n",
    "\n",
    "print(output_01['answer as json'])"
   ]
  },
  {
   "cell_type": "code",
   "execution_count": null,
   "metadata": {},
   "outputs": [],
   "source": []
  },
  {
   "cell_type": "code",
   "execution_count": null,
   "metadata": {},
   "outputs": [],
   "source": []
  }
 ],
 "metadata": {
  "kernelspec": {
   "display_name": "dspyenv",
   "language": "python",
   "name": "python3"
  },
  "language_info": {
   "codemirror_mode": {
    "name": "ipython",
    "version": 3
   },
   "file_extension": ".py",
   "mimetype": "text/x-python",
   "name": "python",
   "nbconvert_exporter": "python",
   "pygments_lexer": "ipython3",
   "version": "3.11.4"
  }
 },
 "nbformat": 4,
 "nbformat_minor": 2
}
