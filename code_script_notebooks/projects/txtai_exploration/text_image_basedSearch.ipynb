{
  "nbformat": 4,
  "nbformat_minor": 0,
  "metadata": {
    "colab": {
      "provenance": []
    },
    "kernelspec": {
      "name": "python3",
      "display_name": "Python 3"
    },
    "language_info": {
      "name": "python"
    }
  },
  "cells": [
    {
      "cell_type": "code",
      "execution_count": null,
      "metadata": {
        "id": "XRGRSb8Zlou6"
      },
      "outputs": [],
      "source": [
        "!pip install torchvision ipyplot txtai[all] datasets > /dev/null"
      ]
    },
    {
      "cell_type": "code",
      "source": [
        "import glob\n",
        "import ipyplot\n",
        "from PIL import Image\n",
        "\n",
        "from txtai.embeddings import Embeddings\n",
        "from txtai.pipeline import Caption"
      ],
      "metadata": {
        "id": "k43z0Sk7l_bf"
      },
      "execution_count": 23,
      "outputs": []
    },
    {
      "cell_type": "markdown",
      "source": [
        "![image.png](https://github.com/openai/CLIP/raw/main/CLIP.png)"
      ],
      "metadata": {
        "id": "blQptXsM0ZDm"
      }
    },
    {
      "cell_type": "markdown",
      "source": [
        "CLIP (Contrastive Language-Image Pre-Training) is a neural network trained on a variety of (image, text) pairs. It can be instructed in natural language to predict the most relevant text snippet, given an image, without directly optimizing for the task, similarly to the zero-shot capabilities of GPT-2 and 3.\n",
        "\n",
        "\n",
        "There are open source models available that come close to above models, which will be used in this discussion\n",
        "\n",
        "https://github.com/mlfoundations/open_clip\n",
        "\n",
        "https://huggingface.co/docs/transformers/model_doc/clip\n"
      ],
      "metadata": {
        "id": "RllEm42bnB_H"
      }
    },
    {
      "cell_type": "markdown",
      "source": [
        "kaggle datasets download -d paramaggarwal/fashion-product-images-small\n",
        "\n",
        "Fashion Product Images (Small)\n",
        "44000 products with category labels and images.\n",
        "\n",
        "Thanks to the dataset maintained by ashraq in Huggingface Hub.\n",
        "    \"ashraq/fashion-product-images-small\""
      ],
      "metadata": {
        "id": "699vzcq5ru0s"
      }
    },
    {
      "cell_type": "code",
      "source": [
        "from datasets import load_dataset\n",
        "\n",
        "# load the dataset from huggingface datasets hub\n",
        "image_data = load_dataset(\n",
        "    \"ashraq/fashion-product-images-small\",\n",
        "    split=\"train\"\n",
        ")"
      ],
      "metadata": {
        "id": "vgmN2yQ7rkmE"
      },
      "execution_count": null,
      "outputs": []
    },
    {
      "cell_type": "code",
      "source": [
        "image_data"
      ],
      "metadata": {
        "colab": {
          "base_uri": "https://localhost:8080/"
        },
        "id": "SBnv3-FeuKfc",
        "outputId": "d3883a77-98e5-47a7-b9c0-949ee2f0cdd8"
      },
      "execution_count": 8,
      "outputs": [
        {
          "output_type": "execute_result",
          "data": {
            "text/plain": [
              "Dataset({\n",
              "    features: ['id', 'gender', 'masterCategory', 'subCategory', 'articleType', 'baseColour', 'season', 'year', 'usage', 'productDisplayName', 'image'],\n",
              "    num_rows: 44072\n",
              "})"
            ]
          },
          "metadata": {},
          "execution_count": 8
        }
      ]
    },
    {
      "cell_type": "code",
      "source": [
        "#We want image, and the caption that is already provided to it\n",
        "given_captions = image_data[\"productDisplayName\"]\n",
        "images = image_data['image']"
      ],
      "metadata": {
        "id": "sVBdO9xerkjv"
      },
      "execution_count": 9,
      "outputs": []
    },
    {
      "cell_type": "code",
      "source": [
        "given_captions[0]"
      ],
      "metadata": {
        "colab": {
          "base_uri": "https://localhost:8080/",
          "height": 36
        },
        "id": "9l_vI0CLrkfg",
        "outputId": "2635a4c4-85e4-4bef-fee7-82fa2ad801f3"
      },
      "execution_count": 27,
      "outputs": [
        {
          "output_type": "execute_result",
          "data": {
            "text/plain": [
              "'Turtle Check Men Navy Blue Shirt'"
            ],
            "application/vnd.google.colaboratory.intrinsic+json": {
              "type": "string"
            }
          },
          "metadata": {},
          "execution_count": 27
        }
      ]
    },
    {
      "cell_type": "code",
      "source": [
        "ipyplot.plot_images(images[9:11],given_captions[9:11],\n",
        "                    img_width=75,force_b64=True)"
      ],
      "metadata": {
        "colab": {
          "base_uri": "https://localhost:8080/",
          "height": 297
        },
        "id": "XYXlZFfZrkY3",
        "outputId": "88da58db-f4bb-4f36-bd46-6f61b6a610c6"
      },
      "execution_count": 25,
      "outputs": [
        {
          "output_type": "stream",
          "name": "stderr",
          "text": [
            "/usr/local/lib/python3.9/dist-packages/ipyplot/_utils.py:95: FutureWarning: The input object of type 'JpegImageFile' is an array-like implementing one of the corresponding protocols (`__array__`, `__array_interface__` or `__array_struct__`); but not a sequence (or 0-D). In the future, this object will be coerced as if it was first converted using `np.array(obj)`. To retain the old behaviour, you have to either modify the type 'JpegImageFile', or assign to an empty array created with `np.empty(correct_shape, dtype=object)`.\n",
            "  return np.asarray(seq, dtype=type(seq[0]))\n"
          ]
        },
        {
          "output_type": "display_data",
          "data": {
            "text/plain": [
              "<IPython.core.display.HTML object>"
            ],
            "text/html": [
              "\n",
              "    <style>\n",
              "        #ipyplot-html-viewer-toggle-L4TAQRswfC775LjKZsuJZz {\n",
              "            position: absolute;\n",
              "            top: -9999px;\n",
              "            left: -9999px;\n",
              "            visibility: hidden;\n",
              "        }\n",
              "\n",
              "        #ipyplot-html-viewer-label-L4TAQRswfC775LjKZsuJZz { \n",
              "            position: relative;\n",
              "            display: inline-block;\n",
              "            cursor: pointer;\n",
              "            color: blue;\n",
              "            text-decoration: underline;\n",
              "        }\n",
              "\n",
              "        #ipyplot-html-viewer-textarea-L4TAQRswfC775LjKZsuJZz {\n",
              "            background: lightgrey;\n",
              "            width: 100%;\n",
              "            height: 0px;\n",
              "            display: none;\n",
              "        }\n",
              "\n",
              "        #ipyplot-html-viewer-toggle-L4TAQRswfC775LjKZsuJZz:checked ~ #ipyplot-html-viewer-textarea-L4TAQRswfC775LjKZsuJZz {\n",
              "            height: 200px;\n",
              "            display: block;\n",
              "        }\n",
              "\n",
              "        #ipyplot-html-viewer-toggle-L4TAQRswfC775LjKZsuJZz:checked + #ipyplot-html-viewer-label-L4TAQRswfC775LjKZsuJZz:after {\n",
              "            content: \"hide html\";\n",
              "            position: absolute;\n",
              "            top: 0;\n",
              "            left: 0;\n",
              "            right: 0;\n",
              "            bottom: 0;\n",
              "            background: white;\n",
              "            cursor: pointer;\n",
              "            color: blue;\n",
              "            text-decoration: underline;\n",
              "        }\n",
              "    </style>\n",
              "    <div>\n",
              "        <input type=\"checkbox\" id=\"ipyplot-html-viewer-toggle-L4TAQRswfC775LjKZsuJZz\">\n",
              "        <label id=\"ipyplot-html-viewer-label-L4TAQRswfC775LjKZsuJZz\" for=\"ipyplot-html-viewer-toggle-L4TAQRswfC775LjKZsuJZz\">show html</label>\n",
              "        <textarea id=\"ipyplot-html-viewer-textarea-L4TAQRswfC775LjKZsuJZz\" readonly>\n",
              "            \n",
              "        <style>\n",
              "        #ipyplot-imgs-container-div-jmhUcPsBbppjaSJaFHGw2p {\n",
              "            width: 100%;\n",
              "            height: 100%;\n",
              "            margin: 0%;\n",
              "            overflow: auto;\n",
              "            position: relative;\n",
              "            overflow-y: scroll;\n",
              "        }\n",
              "\n",
              "        div.ipyplot-placeholder-div-jmhUcPsBbppjaSJaFHGw2p {\n",
              "            width: 75px;\n",
              "            display: inline-block;\n",
              "            margin: 3px;\n",
              "            position: relative;\n",
              "        }\n",
              "\n",
              "        div.ipyplot-content-div-jmhUcPsBbppjaSJaFHGw2p {\n",
              "            width: 75px;\n",
              "            background: white;\n",
              "            display: inline-block;\n",
              "            vertical-align: top;\n",
              "            text-align: center;\n",
              "            position: relative;\n",
              "            border: 2px solid #ddd;\n",
              "            top: 0;\n",
              "            left: 0;\n",
              "        }\n",
              "\n",
              "        div.ipyplot-content-div-jmhUcPsBbppjaSJaFHGw2p span.ipyplot-img-close {\n",
              "            display: none;\n",
              "        }\n",
              "\n",
              "        div.ipyplot-content-div-jmhUcPsBbppjaSJaFHGw2p span {\n",
              "            width: 100%;\n",
              "            height: 100%;\n",
              "            position: absolute;\n",
              "            top: 0;\n",
              "            left: 0;\n",
              "        }\n",
              "\n",
              "        div.ipyplot-content-div-jmhUcPsBbppjaSJaFHGw2p img {\n",
              "            width: 75px;\n",
              "        }\n",
              "\n",
              "        div.ipyplot-content-div-jmhUcPsBbppjaSJaFHGw2p span.ipyplot-img-close:hover {\n",
              "            cursor: zoom-out;\n",
              "        }\n",
              "        div.ipyplot-content-div-jmhUcPsBbppjaSJaFHGw2p span.ipyplot-img-expand:hover {\n",
              "            cursor: zoom-in;\n",
              "        }\n",
              "\n",
              "        div[id^=ipyplot-content-div-jmhUcPsBbppjaSJaFHGw2p]:target {\n",
              "            transform: scale(2.5);\n",
              "            transform-origin: left top;\n",
              "            z-index: 5000;\n",
              "            top: 0;\n",
              "            left: 0;\n",
              "            position: absolute;\n",
              "        }\n",
              "\n",
              "        div[id^=ipyplot-content-div-jmhUcPsBbppjaSJaFHGw2p]:target span.ipyplot-img-close {\n",
              "            display: block;\n",
              "        }\n",
              "\n",
              "        div[id^=ipyplot-content-div-jmhUcPsBbppjaSJaFHGw2p]:target span.ipyplot-img-expand {\n",
              "            display: none;\n",
              "        }\n",
              "        </style>\n",
              "    <div id=\"ipyplot-imgs-container-div-jmhUcPsBbppjaSJaFHGw2p\">\n",
              "    <div class=\"ipyplot-placeholder-div-jmhUcPsBbppjaSJaFHGw2p\">\n",
              "        <div id=\"ipyplot-content-div-jmhUcPsBbppjaSJaFHGw2p-RFxAQBZRWN8HYe4AzABABV\" class=\"ipyplot-content-div-jmhUcPsBbppjaSJaFHGw2p\">\n",
              "            <h4 style=\"font-size: 12px; word-wrap: break-word;\">Skagen Men Black Watch</h4>\n",
              "            <img src=\"data:image/png;base64,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\"/>\n",
              "            <a href=\"#!\">\n",
              "                <span class=\"ipyplot-img-close\"/>\n",
              "            </a>\n",
              "            <a href=\"#ipyplot-content-div-jmhUcPsBbppjaSJaFHGw2p-RFxAQBZRWN8HYe4AzABABV\">\n",
              "                <span class=\"ipyplot-img-expand\"/>\n",
              "            </a>\n",
              "        </div>\n",
              "    </div>\n",
              "    \n",
              "    <div class=\"ipyplot-placeholder-div-jmhUcPsBbppjaSJaFHGw2p\">\n",
              "        <div id=\"ipyplot-content-div-jmhUcPsBbppjaSJaFHGw2p-VKByjGyyf9CtwdCdA4rrUj\" class=\"ipyplot-content-div-jmhUcPsBbppjaSJaFHGw2p\">\n",
              "            <h4 style=\"font-size: 12px; word-wrap: break-word;\">Puma Men Future Cat Remix SF Black Casual Shoes</h4>\n",
              "            <img src=\"data:image/png;base64,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\"/>\n",
              "            <a href=\"#!\">\n",
              "                <span class=\"ipyplot-img-close\"/>\n",
              "            </a>\n",
              "            <a href=\"#ipyplot-content-div-jmhUcPsBbppjaSJaFHGw2p-VKByjGyyf9CtwdCdA4rrUj\">\n",
              "                <span class=\"ipyplot-img-expand\"/>\n",
              "            </a>\n",
              "        </div>\n",
              "    </div>\n",
              "    </div>\n",
              "        </textarea>\n",
              "    </div>\n",
              "    "
            ]
          },
          "metadata": {}
        },
        {
          "output_type": "display_data",
          "data": {
            "text/plain": [
              "<IPython.core.display.HTML object>"
            ],
            "text/html": [
              "\n",
              "        <style>\n",
              "        #ipyplot-imgs-container-div-jmhUcPsBbppjaSJaFHGw2p {\n",
              "            width: 100%;\n",
              "            height: 100%;\n",
              "            margin: 0%;\n",
              "            overflow: auto;\n",
              "            position: relative;\n",
              "            overflow-y: scroll;\n",
              "        }\n",
              "\n",
              "        div.ipyplot-placeholder-div-jmhUcPsBbppjaSJaFHGw2p {\n",
              "            width: 75px;\n",
              "            display: inline-block;\n",
              "            margin: 3px;\n",
              "            position: relative;\n",
              "        }\n",
              "\n",
              "        div.ipyplot-content-div-jmhUcPsBbppjaSJaFHGw2p {\n",
              "            width: 75px;\n",
              "            background: white;\n",
              "            display: inline-block;\n",
              "            vertical-align: top;\n",
              "            text-align: center;\n",
              "            position: relative;\n",
              "            border: 2px solid #ddd;\n",
              "            top: 0;\n",
              "            left: 0;\n",
              "        }\n",
              "\n",
              "        div.ipyplot-content-div-jmhUcPsBbppjaSJaFHGw2p span.ipyplot-img-close {\n",
              "            display: none;\n",
              "        }\n",
              "\n",
              "        div.ipyplot-content-div-jmhUcPsBbppjaSJaFHGw2p span {\n",
              "            width: 100%;\n",
              "            height: 100%;\n",
              "            position: absolute;\n",
              "            top: 0;\n",
              "            left: 0;\n",
              "        }\n",
              "\n",
              "        div.ipyplot-content-div-jmhUcPsBbppjaSJaFHGw2p img {\n",
              "            width: 75px;\n",
              "        }\n",
              "\n",
              "        div.ipyplot-content-div-jmhUcPsBbppjaSJaFHGw2p span.ipyplot-img-close:hover {\n",
              "            cursor: zoom-out;\n",
              "        }\n",
              "        div.ipyplot-content-div-jmhUcPsBbppjaSJaFHGw2p span.ipyplot-img-expand:hover {\n",
              "            cursor: zoom-in;\n",
              "        }\n",
              "\n",
              "        div[id^=ipyplot-content-div-jmhUcPsBbppjaSJaFHGw2p]:target {\n",
              "            transform: scale(2.5);\n",
              "            transform-origin: left top;\n",
              "            z-index: 5000;\n",
              "            top: 0;\n",
              "            left: 0;\n",
              "            position: absolute;\n",
              "        }\n",
              "\n",
              "        div[id^=ipyplot-content-div-jmhUcPsBbppjaSJaFHGw2p]:target span.ipyplot-img-close {\n",
              "            display: block;\n",
              "        }\n",
              "\n",
              "        div[id^=ipyplot-content-div-jmhUcPsBbppjaSJaFHGw2p]:target span.ipyplot-img-expand {\n",
              "            display: none;\n",
              "        }\n",
              "        </style>\n",
              "    <div id=\"ipyplot-imgs-container-div-jmhUcPsBbppjaSJaFHGw2p\">\n",
              "    <div class=\"ipyplot-placeholder-div-jmhUcPsBbppjaSJaFHGw2p\">\n",
              "        <div id=\"ipyplot-content-div-jmhUcPsBbppjaSJaFHGw2p-RFxAQBZRWN8HYe4AzABABV\" class=\"ipyplot-content-div-jmhUcPsBbppjaSJaFHGw2p\">\n",
              "            <h4 style=\"font-size: 12px; word-wrap: break-word;\">Skagen Men Black Watch</h4>\n",
              "            <img src=\"data:image/png;base64,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\"/>\n",
              "            <a href=\"#!\">\n",
              "                <span class=\"ipyplot-img-close\"/>\n",
              "            </a>\n",
              "            <a href=\"#ipyplot-content-div-jmhUcPsBbppjaSJaFHGw2p-RFxAQBZRWN8HYe4AzABABV\">\n",
              "                <span class=\"ipyplot-img-expand\"/>\n",
              "            </a>\n",
              "        </div>\n",
              "    </div>\n",
              "    \n",
              "    <div class=\"ipyplot-placeholder-div-jmhUcPsBbppjaSJaFHGw2p\">\n",
              "        <div id=\"ipyplot-content-div-jmhUcPsBbppjaSJaFHGw2p-VKByjGyyf9CtwdCdA4rrUj\" class=\"ipyplot-content-div-jmhUcPsBbppjaSJaFHGw2p\">\n",
              "            <h4 style=\"font-size: 12px; word-wrap: break-word;\">Puma Men Future Cat Remix SF Black Casual Shoes</h4>\n",
              "            <img src=\"data:image/png;base64,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\"/>\n",
              "            <a href=\"#!\">\n",
              "                <span class=\"ipyplot-img-close\"/>\n",
              "            </a>\n",
              "            <a href=\"#ipyplot-content-div-jmhUcPsBbppjaSJaFHGw2p-VKByjGyyf9CtwdCdA4rrUj\">\n",
              "                <span class=\"ipyplot-img-expand\"/>\n",
              "            </a>\n",
              "        </div>\n",
              "    </div>\n",
              "    </div>"
            ]
          },
          "metadata": {}
        }
      ]
    },
    {
      "cell_type": "code",
      "source": [
        "image_data[0]"
      ],
      "metadata": {
        "colab": {
          "base_uri": "https://localhost:8080/"
        },
        "id": "8tmKoeTGv_uY",
        "outputId": "f964b315-420c-4b0d-9e67-2517a978aafe"
      },
      "execution_count": 10,
      "outputs": [
        {
          "output_type": "execute_result",
          "data": {
            "text/plain": [
              "{'id': 15970,\n",
              " 'gender': 'Men',\n",
              " 'masterCategory': 'Apparel',\n",
              " 'subCategory': 'Topwear',\n",
              " 'articleType': 'Shirts',\n",
              " 'baseColour': 'Navy Blue',\n",
              " 'season': 'Fall',\n",
              " 'year': 2011.0,\n",
              " 'usage': 'Casual',\n",
              " 'productDisplayName': 'Turtle Check Men Navy Blue Shirt',\n",
              " 'image': <PIL.JpegImagePlugin.JpegImageFile image mode=RGB size=60x80 at 0x7FCEC18806A0>}"
            ]
          },
          "metadata": {},
          "execution_count": 10
        }
      ]
    },
    {
      "cell_type": "markdown",
      "source": [
        "### making the data ready to embed..."
      ],
      "metadata": {
        "id": "AMr1M8cIwiV0"
      }
    },
    {
      "cell_type": "code",
      "source": [
        "fashion_data = []\n",
        "\n",
        "for img in image_data:\n",
        "  # Add image object along with image metadata\n",
        "  fashion_data.append((img['id'], {\"object\": img['image'], \n",
        "                             \"format\": img['image'].format, \n",
        "                             \"width\": img['image'].width, \n",
        "                             \"height\": img['image'].height, \n",
        "                             \"caption\": img['productDisplayName']\n",
        "                             }, None))"
      ],
      "metadata": {
        "id": "EJd4xFvavbuT"
      },
      "execution_count": 74,
      "outputs": []
    },
    {
      "cell_type": "code",
      "source": [
        "fashion_index = Embeddings({\"method\": \"sentence-transformers\", \n",
        "                         \"path\": \"sentence-transformers/clip-ViT-B-32\", \n",
        "                         \"content\": True, \n",
        "                         \"objects\": \"image\"})"
      ],
      "metadata": {
        "id": "N2WFQB0Fvbqf"
      },
      "execution_count": 4,
      "outputs": []
    },
    {
      "cell_type": "code",
      "source": [
        "!rm -fR fashion_data_index"
      ],
      "metadata": {
        "id": "6a0yLtxKEclM"
      },
      "execution_count": 76,
      "outputs": []
    },
    {
      "cell_type": "code",
      "source": [
        "fashion_index.index(fashion_data[:1000])"
      ],
      "metadata": {
        "id": "QjxvV8U0vbi4"
      },
      "execution_count": 77,
      "outputs": []
    },
    {
      "cell_type": "code",
      "source": [
        "fashion_index.save(\"fashion_data_index\")"
      ],
      "metadata": {
        "id": "923nOL1h0ewf"
      },
      "execution_count": 78,
      "outputs": []
    },
    {
      "cell_type": "code",
      "source": [
        "fashion_index.load(\"fashion_data_index\")"
      ],
      "metadata": {
        "id": "XY7ScsOjIJUn"
      },
      "execution_count": 5,
      "outputs": []
    },
    {
      "cell_type": "code",
      "source": [
        "#searching with the image"
      ],
      "metadata": {
        "id": "K0fNAwk6E7Ms"
      },
      "execution_count": null,
      "outputs": []
    },
    {
      "cell_type": "code",
      "source": [
        "fashion_index.search(\"select * from txtai limit 5\")"
      ],
      "metadata": {
        "id": "M99xaPgMFyc1"
      },
      "execution_count": null,
      "outputs": []
    },
    {
      "cell_type": "code",
      "source": [
        "img_srch_result = fashion_index.search(image_data[0]['image'])"
      ],
      "metadata": {
        "id": "kTuvIiQSE6-m"
      },
      "execution_count": 40,
      "outputs": []
    },
    {
      "cell_type": "code",
      "source": [
        "img_srch_result"
      ],
      "metadata": {
        "colab": {
          "base_uri": "https://localhost:8080/"
        },
        "id": "xRh5--JEIu3g",
        "outputId": "682ef960-a9b5-4819-d0be-782ab3d96ed7"
      },
      "execution_count": 41,
      "outputs": [
        {
          "output_type": "execute_result",
          "data": {
            "text/plain": [
              "[{'id': '15970', 'text': None, 'score': 1.0},\n",
              " {'id': '8741', 'text': None, 'score': 0.9695494174957275},\n",
              " {'id': '16530', 'text': None, 'score': 0.94101482629776}]"
            ]
          },
          "metadata": {},
          "execution_count": 41
        }
      ]
    },
    {
      "cell_type": "code",
      "source": [
        "result_data = fashion_index.search(\"select * from txtai where id = '15970' or id = '8741' \")"
      ],
      "metadata": {
        "id": "rSdg45y6cWvo"
      },
      "execution_count": 45,
      "outputs": []
    },
    {
      "cell_type": "code",
      "source": [
        "result_data"
      ],
      "metadata": {
        "colab": {
          "base_uri": "https://localhost:8080/"
        },
        "id": "HkOSZyPZcxtr",
        "outputId": "aab06741-83cd-4805-e72a-66f1dc4094c2"
      },
      "execution_count": 46,
      "outputs": [
        {
          "output_type": "execute_result",
          "data": {
            "text/plain": [
              "[{'indexid': 0,\n",
              "  'id': '15970',\n",
              "  'text': None,\n",
              "  'tags': None,\n",
              "  'entry': '2023-04-24 02:30:38.876655',\n",
              "  'data': '{\"format\": \"JPEG\", \"width\": 60, \"height\": 80, \"caption\": \"Turtle Check Men Navy Blue Shirt\"}',\n",
              "  'object': <PIL.JpegImagePlugin.JpegImageFile image mode=RGB size=60x80 at 0x7FCED711CCD0>,\n",
              "  'score': None},\n",
              " {'indexid': 379,\n",
              "  'id': '8741',\n",
              "  'text': None,\n",
              "  'tags': None,\n",
              "  'entry': '2023-04-24 02:30:38.876655',\n",
              "  'data': '{\"format\": \"JPEG\", \"width\": 60, \"height\": 80, \"caption\": \"Indigo Nation Men Checks Shirt Navy Blue Shirts\"}',\n",
              "  'object': <PIL.JpegImagePlugin.JpegImageFile image mode=RGB size=60x80 at 0x7FCED711C070>,\n",
              "  'score': None}]"
            ]
          },
          "metadata": {},
          "execution_count": 46
        }
      ]
    },
    {
      "cell_type": "code",
      "source": [
        "srch_obj = [result['object'] for result in result_data]\n",
        "ipyplot.plot_images(srch_obj,\n",
        "                    img_width=75,force_b64=True)"
      ],
      "metadata": {
        "colab": {
          "base_uri": "https://localhost:8080/",
          "height": 238
        },
        "id": "zuzdzsT8HMUM",
        "outputId": "86f07366-76da-4d6a-f25e-16bca3371e38"
      },
      "execution_count": 50,
      "outputs": [
        {
          "output_type": "stream",
          "name": "stderr",
          "text": [
            "/usr/local/lib/python3.9/dist-packages/ipyplot/_utils.py:95: FutureWarning: The input object of type 'JpegImageFile' is an array-like implementing one of the corresponding protocols (`__array__`, `__array_interface__` or `__array_struct__`); but not a sequence (or 0-D). In the future, this object will be coerced as if it was first converted using `np.array(obj)`. To retain the old behaviour, you have to either modify the type 'JpegImageFile', or assign to an empty array created with `np.empty(correct_shape, dtype=object)`.\n",
            "  return np.asarray(seq, dtype=type(seq[0]))\n"
          ]
        },
        {
          "output_type": "display_data",
          "data": {
            "text/plain": [
              "<IPython.core.display.HTML object>"
            ],
            "text/html": [
              "\n",
              "    <style>\n",
              "        #ipyplot-html-viewer-toggle-nSu6pxX3s3hnySqhucKWKW {\n",
              "            position: absolute;\n",
              "            top: -9999px;\n",
              "            left: -9999px;\n",
              "            visibility: hidden;\n",
              "        }\n",
              "\n",
              "        #ipyplot-html-viewer-label-nSu6pxX3s3hnySqhucKWKW { \n",
              "            position: relative;\n",
              "            display: inline-block;\n",
              "            cursor: pointer;\n",
              "            color: blue;\n",
              "            text-decoration: underline;\n",
              "        }\n",
              "\n",
              "        #ipyplot-html-viewer-textarea-nSu6pxX3s3hnySqhucKWKW {\n",
              "            background: lightgrey;\n",
              "            width: 100%;\n",
              "            height: 0px;\n",
              "            display: none;\n",
              "        }\n",
              "\n",
              "        #ipyplot-html-viewer-toggle-nSu6pxX3s3hnySqhucKWKW:checked ~ #ipyplot-html-viewer-textarea-nSu6pxX3s3hnySqhucKWKW {\n",
              "            height: 200px;\n",
              "            display: block;\n",
              "        }\n",
              "\n",
              "        #ipyplot-html-viewer-toggle-nSu6pxX3s3hnySqhucKWKW:checked + #ipyplot-html-viewer-label-nSu6pxX3s3hnySqhucKWKW:after {\n",
              "            content: \"hide html\";\n",
              "            position: absolute;\n",
              "            top: 0;\n",
              "            left: 0;\n",
              "            right: 0;\n",
              "            bottom: 0;\n",
              "            background: white;\n",
              "            cursor: pointer;\n",
              "            color: blue;\n",
              "            text-decoration: underline;\n",
              "        }\n",
              "    </style>\n",
              "    <div>\n",
              "        <input type=\"checkbox\" id=\"ipyplot-html-viewer-toggle-nSu6pxX3s3hnySqhucKWKW\">\n",
              "        <label id=\"ipyplot-html-viewer-label-nSu6pxX3s3hnySqhucKWKW\" for=\"ipyplot-html-viewer-toggle-nSu6pxX3s3hnySqhucKWKW\">show html</label>\n",
              "        <textarea id=\"ipyplot-html-viewer-textarea-nSu6pxX3s3hnySqhucKWKW\" readonly>\n",
              "            \n",
              "        <style>\n",
              "        #ipyplot-imgs-container-div-2t6BG4BL6nUvNecA54uneU {\n",
              "            width: 100%;\n",
              "            height: 100%;\n",
              "            margin: 0%;\n",
              "            overflow: auto;\n",
              "            position: relative;\n",
              "            overflow-y: scroll;\n",
              "        }\n",
              "\n",
              "        div.ipyplot-placeholder-div-2t6BG4BL6nUvNecA54uneU {\n",
              "            width: 75px;\n",
              "            display: inline-block;\n",
              "            margin: 3px;\n",
              "            position: relative;\n",
              "        }\n",
              "\n",
              "        div.ipyplot-content-div-2t6BG4BL6nUvNecA54uneU {\n",
              "            width: 75px;\n",
              "            background: white;\n",
              "            display: inline-block;\n",
              "            vertical-align: top;\n",
              "            text-align: center;\n",
              "            position: relative;\n",
              "            border: 2px solid #ddd;\n",
              "            top: 0;\n",
              "            left: 0;\n",
              "        }\n",
              "\n",
              "        div.ipyplot-content-div-2t6BG4BL6nUvNecA54uneU span.ipyplot-img-close {\n",
              "            display: none;\n",
              "        }\n",
              "\n",
              "        div.ipyplot-content-div-2t6BG4BL6nUvNecA54uneU span {\n",
              "            width: 100%;\n",
              "            height: 100%;\n",
              "            position: absolute;\n",
              "            top: 0;\n",
              "            left: 0;\n",
              "        }\n",
              "\n",
              "        div.ipyplot-content-div-2t6BG4BL6nUvNecA54uneU img {\n",
              "            width: 75px;\n",
              "        }\n",
              "\n",
              "        div.ipyplot-content-div-2t6BG4BL6nUvNecA54uneU span.ipyplot-img-close:hover {\n",
              "            cursor: zoom-out;\n",
              "        }\n",
              "        div.ipyplot-content-div-2t6BG4BL6nUvNecA54uneU span.ipyplot-img-expand:hover {\n",
              "            cursor: zoom-in;\n",
              "        }\n",
              "\n",
              "        div[id^=ipyplot-content-div-2t6BG4BL6nUvNecA54uneU]:target {\n",
              "            transform: scale(2.5);\n",
              "            transform-origin: left top;\n",
              "            z-index: 5000;\n",
              "            top: 0;\n",
              "            left: 0;\n",
              "            position: absolute;\n",
              "        }\n",
              "\n",
              "        div[id^=ipyplot-content-div-2t6BG4BL6nUvNecA54uneU]:target span.ipyplot-img-close {\n",
              "            display: block;\n",
              "        }\n",
              "\n",
              "        div[id^=ipyplot-content-div-2t6BG4BL6nUvNecA54uneU]:target span.ipyplot-img-expand {\n",
              "            display: none;\n",
              "        }\n",
              "        </style>\n",
              "    <div id=\"ipyplot-imgs-container-div-2t6BG4BL6nUvNecA54uneU\">\n",
              "    <div class=\"ipyplot-placeholder-div-2t6BG4BL6nUvNecA54uneU\">\n",
              "        <div id=\"ipyplot-content-div-2t6BG4BL6nUvNecA54uneU-2ewjaH5WeiAsEdDVVFZoef\" class=\"ipyplot-content-div-2t6BG4BL6nUvNecA54uneU\">\n",
              "            <h4 style=\"font-size: 12px; word-wrap: break-word;\">0</h4>\n",
              "            <img src=\"data:image/png;base64,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\"/>\n",
              "            <a href=\"#!\">\n",
              "                <span class=\"ipyplot-img-close\"/>\n",
              "            </a>\n",
              "            <a href=\"#ipyplot-content-div-2t6BG4BL6nUvNecA54uneU-2ewjaH5WeiAsEdDVVFZoef\">\n",
              "                <span class=\"ipyplot-img-expand\"/>\n",
              "            </a>\n",
              "        </div>\n",
              "    </div>\n",
              "    \n",
              "    <div class=\"ipyplot-placeholder-div-2t6BG4BL6nUvNecA54uneU\">\n",
              "        <div id=\"ipyplot-content-div-2t6BG4BL6nUvNecA54uneU-6xdidx67WLquBMuaLVpPSS\" class=\"ipyplot-content-div-2t6BG4BL6nUvNecA54uneU\">\n",
              "            <h4 style=\"font-size: 12px; word-wrap: break-word;\">1</h4>\n",
              "            <img src=\"data:image/png;base64,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\"/>\n",
              "            <a href=\"#!\">\n",
              "                <span class=\"ipyplot-img-close\"/>\n",
              "            </a>\n",
              "            <a href=\"#ipyplot-content-div-2t6BG4BL6nUvNecA54uneU-6xdidx67WLquBMuaLVpPSS\">\n",
              "                <span class=\"ipyplot-img-expand\"/>\n",
              "            </a>\n",
              "        </div>\n",
              "    </div>\n",
              "    </div>\n",
              "        </textarea>\n",
              "    </div>\n",
              "    "
            ]
          },
          "metadata": {}
        },
        {
          "output_type": "display_data",
          "data": {
            "text/plain": [
              "<IPython.core.display.HTML object>"
            ],
            "text/html": [
              "\n",
              "        <style>\n",
              "        #ipyplot-imgs-container-div-2t6BG4BL6nUvNecA54uneU {\n",
              "            width: 100%;\n",
              "            height: 100%;\n",
              "            margin: 0%;\n",
              "            overflow: auto;\n",
              "            position: relative;\n",
              "            overflow-y: scroll;\n",
              "        }\n",
              "\n",
              "        div.ipyplot-placeholder-div-2t6BG4BL6nUvNecA54uneU {\n",
              "            width: 75px;\n",
              "            display: inline-block;\n",
              "            margin: 3px;\n",
              "            position: relative;\n",
              "        }\n",
              "\n",
              "        div.ipyplot-content-div-2t6BG4BL6nUvNecA54uneU {\n",
              "            width: 75px;\n",
              "            background: white;\n",
              "            display: inline-block;\n",
              "            vertical-align: top;\n",
              "            text-align: center;\n",
              "            position: relative;\n",
              "            border: 2px solid #ddd;\n",
              "            top: 0;\n",
              "            left: 0;\n",
              "        }\n",
              "\n",
              "        div.ipyplot-content-div-2t6BG4BL6nUvNecA54uneU span.ipyplot-img-close {\n",
              "            display: none;\n",
              "        }\n",
              "\n",
              "        div.ipyplot-content-div-2t6BG4BL6nUvNecA54uneU span {\n",
              "            width: 100%;\n",
              "            height: 100%;\n",
              "            position: absolute;\n",
              "            top: 0;\n",
              "            left: 0;\n",
              "        }\n",
              "\n",
              "        div.ipyplot-content-div-2t6BG4BL6nUvNecA54uneU img {\n",
              "            width: 75px;\n",
              "        }\n",
              "\n",
              "        div.ipyplot-content-div-2t6BG4BL6nUvNecA54uneU span.ipyplot-img-close:hover {\n",
              "            cursor: zoom-out;\n",
              "        }\n",
              "        div.ipyplot-content-div-2t6BG4BL6nUvNecA54uneU span.ipyplot-img-expand:hover {\n",
              "            cursor: zoom-in;\n",
              "        }\n",
              "\n",
              "        div[id^=ipyplot-content-div-2t6BG4BL6nUvNecA54uneU]:target {\n",
              "            transform: scale(2.5);\n",
              "            transform-origin: left top;\n",
              "            z-index: 5000;\n",
              "            top: 0;\n",
              "            left: 0;\n",
              "            position: absolute;\n",
              "        }\n",
              "\n",
              "        div[id^=ipyplot-content-div-2t6BG4BL6nUvNecA54uneU]:target span.ipyplot-img-close {\n",
              "            display: block;\n",
              "        }\n",
              "\n",
              "        div[id^=ipyplot-content-div-2t6BG4BL6nUvNecA54uneU]:target span.ipyplot-img-expand {\n",
              "            display: none;\n",
              "        }\n",
              "        </style>\n",
              "    <div id=\"ipyplot-imgs-container-div-2t6BG4BL6nUvNecA54uneU\">\n",
              "    <div class=\"ipyplot-placeholder-div-2t6BG4BL6nUvNecA54uneU\">\n",
              "        <div id=\"ipyplot-content-div-2t6BG4BL6nUvNecA54uneU-2ewjaH5WeiAsEdDVVFZoef\" class=\"ipyplot-content-div-2t6BG4BL6nUvNecA54uneU\">\n",
              "            <h4 style=\"font-size: 12px; word-wrap: break-word;\">0</h4>\n",
              "            <img src=\"data:image/png;base64,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\"/>\n",
              "            <a href=\"#!\">\n",
              "                <span class=\"ipyplot-img-close\"/>\n",
              "            </a>\n",
              "            <a href=\"#ipyplot-content-div-2t6BG4BL6nUvNecA54uneU-2ewjaH5WeiAsEdDVVFZoef\">\n",
              "                <span class=\"ipyplot-img-expand\"/>\n",
              "            </a>\n",
              "        </div>\n",
              "    </div>\n",
              "    \n",
              "    <div class=\"ipyplot-placeholder-div-2t6BG4BL6nUvNecA54uneU\">\n",
              "        <div id=\"ipyplot-content-div-2t6BG4BL6nUvNecA54uneU-6xdidx67WLquBMuaLVpPSS\" class=\"ipyplot-content-div-2t6BG4BL6nUvNecA54uneU\">\n",
              "            <h4 style=\"font-size: 12px; word-wrap: break-word;\">1</h4>\n",
              "            <img src=\"data:image/png;base64,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\"/>\n",
              "            <a href=\"#!\">\n",
              "                <span class=\"ipyplot-img-close\"/>\n",
              "            </a>\n",
              "            <a href=\"#ipyplot-content-div-2t6BG4BL6nUvNecA54uneU-6xdidx67WLquBMuaLVpPSS\">\n",
              "                <span class=\"ipyplot-img-expand\"/>\n",
              "            </a>\n",
              "        </div>\n",
              "    </div>\n",
              "    </div>"
            ]
          },
          "metadata": {}
        }
      ]
    },
    {
      "cell_type": "code",
      "source": [
        "#searching the text captions...\n",
        "\n",
        "search_result = fashion_index.search(\"\"\"select object, \n",
        "                  caption from txtai \n",
        "                  where similar('women tops',5)\"\"\")"
      ],
      "metadata": {
        "id": "r4kyTLX6yqQT"
      },
      "execution_count": 20,
      "outputs": []
    },
    {
      "cell_type": "code",
      "source": [
        "fashion_obj = [result['object'] for result in search_result]\n",
        "fashion_capts = [result['caption'] for result in search_result]"
      ],
      "metadata": {
        "id": "-X-4LMBCz3Kt"
      },
      "execution_count": 21,
      "outputs": []
    },
    {
      "cell_type": "code",
      "source": [
        "ipyplot.plot_images(fashion_obj,fashion_capts,\n",
        "                    img_width=75,force_b64=True)"
      ],
      "metadata": {
        "colab": {
          "base_uri": "https://localhost:8080/",
          "height": 242
        },
        "id": "4Pufxp2vz3Bq",
        "outputId": "94bfc459-753b-4029-cf4e-3ca9726d07cd"
      },
      "execution_count": 22,
      "outputs": [
        {
          "output_type": "display_data",
          "data": {
            "text/plain": [
              "<IPython.core.display.HTML object>"
            ],
            "text/html": [
              "\n",
              "    <style>\n",
              "        #ipyplot-html-viewer-toggle-Mxuqt3opoA9xJQVCu5Y7v9 {\n",
              "            position: absolute;\n",
              "            top: -9999px;\n",
              "            left: -9999px;\n",
              "            visibility: hidden;\n",
              "        }\n",
              "\n",
              "        #ipyplot-html-viewer-label-Mxuqt3opoA9xJQVCu5Y7v9 { \n",
              "            position: relative;\n",
              "            display: inline-block;\n",
              "            cursor: pointer;\n",
              "            color: blue;\n",
              "            text-decoration: underline;\n",
              "        }\n",
              "\n",
              "        #ipyplot-html-viewer-textarea-Mxuqt3opoA9xJQVCu5Y7v9 {\n",
              "            background: lightgrey;\n",
              "            width: 100%;\n",
              "            height: 0px;\n",
              "            display: none;\n",
              "        }\n",
              "\n",
              "        #ipyplot-html-viewer-toggle-Mxuqt3opoA9xJQVCu5Y7v9:checked ~ #ipyplot-html-viewer-textarea-Mxuqt3opoA9xJQVCu5Y7v9 {\n",
              "            height: 200px;\n",
              "            display: block;\n",
              "        }\n",
              "\n",
              "        #ipyplot-html-viewer-toggle-Mxuqt3opoA9xJQVCu5Y7v9:checked + #ipyplot-html-viewer-label-Mxuqt3opoA9xJQVCu5Y7v9:after {\n",
              "            content: \"hide html\";\n",
              "            position: absolute;\n",
              "            top: 0;\n",
              "            left: 0;\n",
              "            right: 0;\n",
              "            bottom: 0;\n",
              "            background: white;\n",
              "            cursor: pointer;\n",
              "            color: blue;\n",
              "            text-decoration: underline;\n",
              "        }\n",
              "    </style>\n",
              "    <div>\n",
              "        <input type=\"checkbox\" id=\"ipyplot-html-viewer-toggle-Mxuqt3opoA9xJQVCu5Y7v9\">\n",
              "        <label id=\"ipyplot-html-viewer-label-Mxuqt3opoA9xJQVCu5Y7v9\" for=\"ipyplot-html-viewer-toggle-Mxuqt3opoA9xJQVCu5Y7v9\">show html</label>\n",
              "        <textarea id=\"ipyplot-html-viewer-textarea-Mxuqt3opoA9xJQVCu5Y7v9\" readonly>\n",
              "            \n",
              "        <style>\n",
              "        #ipyplot-imgs-container-div-RojdfjbivAukwfLwUaFsEK {\n",
              "            width: 100%;\n",
              "            height: 100%;\n",
              "            margin: 0%;\n",
              "            overflow: auto;\n",
              "            position: relative;\n",
              "            overflow-y: scroll;\n",
              "        }\n",
              "\n",
              "        div.ipyplot-placeholder-div-RojdfjbivAukwfLwUaFsEK {\n",
              "            width: 75px;\n",
              "            display: inline-block;\n",
              "            margin: 3px;\n",
              "            position: relative;\n",
              "        }\n",
              "\n",
              "        div.ipyplot-content-div-RojdfjbivAukwfLwUaFsEK {\n",
              "            width: 75px;\n",
              "            background: white;\n",
              "            display: inline-block;\n",
              "            vertical-align: top;\n",
              "            text-align: center;\n",
              "            position: relative;\n",
              "            border: 2px solid #ddd;\n",
              "            top: 0;\n",
              "            left: 0;\n",
              "        }\n",
              "\n",
              "        div.ipyplot-content-div-RojdfjbivAukwfLwUaFsEK span.ipyplot-img-close {\n",
              "            display: none;\n",
              "        }\n",
              "\n",
              "        div.ipyplot-content-div-RojdfjbivAukwfLwUaFsEK span {\n",
              "            width: 100%;\n",
              "            height: 100%;\n",
              "            position: absolute;\n",
              "            top: 0;\n",
              "            left: 0;\n",
              "        }\n",
              "\n",
              "        div.ipyplot-content-div-RojdfjbivAukwfLwUaFsEK img {\n",
              "            width: 75px;\n",
              "        }\n",
              "\n",
              "        div.ipyplot-content-div-RojdfjbivAukwfLwUaFsEK span.ipyplot-img-close:hover {\n",
              "            cursor: zoom-out;\n",
              "        }\n",
              "        div.ipyplot-content-div-RojdfjbivAukwfLwUaFsEK span.ipyplot-img-expand:hover {\n",
              "            cursor: zoom-in;\n",
              "        }\n",
              "\n",
              "        div[id^=ipyplot-content-div-RojdfjbivAukwfLwUaFsEK]:target {\n",
              "            transform: scale(2.5);\n",
              "            transform-origin: left top;\n",
              "            z-index: 5000;\n",
              "            top: 0;\n",
              "            left: 0;\n",
              "            position: absolute;\n",
              "        }\n",
              "\n",
              "        div[id^=ipyplot-content-div-RojdfjbivAukwfLwUaFsEK]:target span.ipyplot-img-close {\n",
              "            display: block;\n",
              "        }\n",
              "\n",
              "        div[id^=ipyplot-content-div-RojdfjbivAukwfLwUaFsEK]:target span.ipyplot-img-expand {\n",
              "            display: none;\n",
              "        }\n",
              "        </style>\n",
              "    <div id=\"ipyplot-imgs-container-div-RojdfjbivAukwfLwUaFsEK\">\n",
              "    <div class=\"ipyplot-placeholder-div-RojdfjbivAukwfLwUaFsEK\">\n",
              "        <div id=\"ipyplot-content-div-RojdfjbivAukwfLwUaFsEK-czggzbqHuXWJXoyLLzSPmx\" class=\"ipyplot-content-div-RojdfjbivAukwfLwUaFsEK\">\n",
              "            <h4 style=\"font-size: 12px; word-wrap: break-word;\">Gini and Jony Girls Red Top</h4>\n",
              "            <img src=\"data:image/png;base64,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\"/>\n",
              "            <a href=\"#!\">\n",
              "                <span class=\"ipyplot-img-close\"/>\n",
              "            </a>\n",
              "            <a href=\"#ipyplot-content-div-RojdfjbivAukwfLwUaFsEK-czggzbqHuXWJXoyLLzSPmx\">\n",
              "                <span class=\"ipyplot-img-expand\"/>\n",
              "            </a>\n",
              "        </div>\n",
              "    </div>\n",
              "    \n",
              "    <div class=\"ipyplot-placeholder-div-RojdfjbivAukwfLwUaFsEK\">\n",
              "        <div id=\"ipyplot-content-div-RojdfjbivAukwfLwUaFsEK-7ApNSf3R7XosQNroHvo22q\" class=\"ipyplot-content-div-RojdfjbivAukwfLwUaFsEK\">\n",
              "            <h4 style=\"font-size: 12px; word-wrap: break-word;\">Gini and Jony Girls Black Top</h4>\n",
              "            <img src=\"data:image/png;base64,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\"/>\n",
              "            <a href=\"#!\">\n",
              "                <span class=\"ipyplot-img-close\"/>\n",
              "            </a>\n",
              "            <a href=\"#ipyplot-content-div-RojdfjbivAukwfLwUaFsEK-7ApNSf3R7XosQNroHvo22q\">\n",
              "                <span class=\"ipyplot-img-expand\"/>\n",
              "            </a>\n",
              "        </div>\n",
              "    </div>\n",
              "    \n",
              "    <div class=\"ipyplot-placeholder-div-RojdfjbivAukwfLwUaFsEK\">\n",
              "        <div id=\"ipyplot-content-div-RojdfjbivAukwfLwUaFsEK-AqbUiDZ6sJBfx2ik3JFNCV\" class=\"ipyplot-content-div-RojdfjbivAukwfLwUaFsEK\">\n",
              "            <h4 style=\"font-size: 12px; word-wrap: break-word;\">Gini and Jony Girls Pretty Blossom Blue Top</h4>\n",
              "            <img src=\"data:image/png;base64,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\"/>\n",
              "            <a href=\"#!\">\n",
              "                <span class=\"ipyplot-img-close\"/>\n",
              "            </a>\n",
              "            <a href=\"#ipyplot-content-div-RojdfjbivAukwfLwUaFsEK-AqbUiDZ6sJBfx2ik3JFNCV\">\n",
              "                <span class=\"ipyplot-img-expand\"/>\n",
              "            </a>\n",
              "        </div>\n",
              "    </div>\n",
              "    </div>\n",
              "        </textarea>\n",
              "    </div>\n",
              "    "
            ]
          },
          "metadata": {}
        },
        {
          "output_type": "display_data",
          "data": {
            "text/plain": [
              "<IPython.core.display.HTML object>"
            ],
            "text/html": [
              "\n",
              "        <style>\n",
              "        #ipyplot-imgs-container-div-RojdfjbivAukwfLwUaFsEK {\n",
              "            width: 100%;\n",
              "            height: 100%;\n",
              "            margin: 0%;\n",
              "            overflow: auto;\n",
              "            position: relative;\n",
              "            overflow-y: scroll;\n",
              "        }\n",
              "\n",
              "        div.ipyplot-placeholder-div-RojdfjbivAukwfLwUaFsEK {\n",
              "            width: 75px;\n",
              "            display: inline-block;\n",
              "            margin: 3px;\n",
              "            position: relative;\n",
              "        }\n",
              "\n",
              "        div.ipyplot-content-div-RojdfjbivAukwfLwUaFsEK {\n",
              "            width: 75px;\n",
              "            background: white;\n",
              "            display: inline-block;\n",
              "            vertical-align: top;\n",
              "            text-align: center;\n",
              "            position: relative;\n",
              "            border: 2px solid #ddd;\n",
              "            top: 0;\n",
              "            left: 0;\n",
              "        }\n",
              "\n",
              "        div.ipyplot-content-div-RojdfjbivAukwfLwUaFsEK span.ipyplot-img-close {\n",
              "            display: none;\n",
              "        }\n",
              "\n",
              "        div.ipyplot-content-div-RojdfjbivAukwfLwUaFsEK span {\n",
              "            width: 100%;\n",
              "            height: 100%;\n",
              "            position: absolute;\n",
              "            top: 0;\n",
              "            left: 0;\n",
              "        }\n",
              "\n",
              "        div.ipyplot-content-div-RojdfjbivAukwfLwUaFsEK img {\n",
              "            width: 75px;\n",
              "        }\n",
              "\n",
              "        div.ipyplot-content-div-RojdfjbivAukwfLwUaFsEK span.ipyplot-img-close:hover {\n",
              "            cursor: zoom-out;\n",
              "        }\n",
              "        div.ipyplot-content-div-RojdfjbivAukwfLwUaFsEK span.ipyplot-img-expand:hover {\n",
              "            cursor: zoom-in;\n",
              "        }\n",
              "\n",
              "        div[id^=ipyplot-content-div-RojdfjbivAukwfLwUaFsEK]:target {\n",
              "            transform: scale(2.5);\n",
              "            transform-origin: left top;\n",
              "            z-index: 5000;\n",
              "            top: 0;\n",
              "            left: 0;\n",
              "            position: absolute;\n",
              "        }\n",
              "\n",
              "        div[id^=ipyplot-content-div-RojdfjbivAukwfLwUaFsEK]:target span.ipyplot-img-close {\n",
              "            display: block;\n",
              "        }\n",
              "\n",
              "        div[id^=ipyplot-content-div-RojdfjbivAukwfLwUaFsEK]:target span.ipyplot-img-expand {\n",
              "            display: none;\n",
              "        }\n",
              "        </style>\n",
              "    <div id=\"ipyplot-imgs-container-div-RojdfjbivAukwfLwUaFsEK\">\n",
              "    <div class=\"ipyplot-placeholder-div-RojdfjbivAukwfLwUaFsEK\">\n",
              "        <div id=\"ipyplot-content-div-RojdfjbivAukwfLwUaFsEK-czggzbqHuXWJXoyLLzSPmx\" class=\"ipyplot-content-div-RojdfjbivAukwfLwUaFsEK\">\n",
              "            <h4 style=\"font-size: 12px; word-wrap: break-word;\">Gini and Jony Girls Red Top</h4>\n",
              "            <img src=\"data:image/png;base64,iVBORw0KGgoAAAANSUhEUgAAADwAAABQCAIAAADKqIEEAAALMUlEQVR4nO1aTaxd11X+vrX2Offe92M7ie04bp2fkqSRiiJRotIMkAxlAkFiQGEKggkSTECIGQKEEDMGQAEhqhYkClKbEgla8TOrkFBNS9qoDSmNozjvxU78/37vPefsvT4G595n49j1fc/mlaL3Da7O0d1nn++uvfZa31r7UhK+12DfbQJ7wQHp/cIB6f3CAen9wgHp/cIB6f3CAen9wgHp/cIdSe/o7NtcADdp8JjdhKTpmBsf02+mI98zf7lxuzPs7uBui4DZ+AAdUiFcQbLADCCmdAkoMkjQOXuQJEIycjbm5mlJ3vqyO+Au7nGbn0QCQZIIkAkEHbDpRCEAghCipUKHlHuj95xMREAgIlD69em/Lb0t5sCuLR2QgQiJIAWYJJWAkRTpM5v1rzfMrLjjPDRAN49E/5WZ3WL+O2GujXjDWQGDEIIRZESUUkjSYWalKCIEBgQJsBIIFICRFRE0IxlhjOly9ZOKoJkkzufWc5EmebNJeq5AkG7um9evfelTf33l3LnkiWZGUEBvSCuSgMJEd9++dm19ddUsZKYClUBve/W2F2wu0rtwj54xzfoVLMC5M18581d/+/V//PsLb3z76COPvfAbv/ahF3788NFj1XCgZM4EB2TN5sbF189+7W8++80v/sOJ7TjxsdPP/tIvPvzhZ50mIEpxdwA7e/SeSN+8o6eMyfXLl1/57EtX/+vb5/79Py5947VmY411imqwsb02UfPQ0pHDH3hydPLkYGF05PiDWNseX768tXJhvLKy0OalhcUCtpPWl4cnP/qR933s9Id+7mcXjjykXJBggmah5l5JS4WyQKGli2+e++Of/Pi1V18+pDpYc+hmQhGhVuwQI+lQNRoeOqyFWl32zW0bby76wqCqi1mjxkL0ISPypIk2Lzz9/p948TMPPvO0VMzSdLfsmbR6J4NBEESyGU9+86M/vP7Ky8uHjy5nqBSRocxgRiEU0JDVEKwki+IGt2pYp8SBGIBRKBaOipR7pboqV68fff65H/mnF4fJM0oC59lmdxzRO0YBBHQlS+VfPv2Xb7/ylYWlw+c2r77ebHTocnSV+TB5bW7mNb02S0avkg8XvV5wrwImhszNzJInOZENVLTWNMOHDq+defm1P/gEBC8+Z2D4zoPMJEq1JRFnPvfSEVQPqjrp9Up03+ra9dJcaduIGJl7wEgjEytTMgqAu3tY9CG7tNgew9y8cqGEEYiurUbDs5/+zNbly3QENE9guKv2YEQE9M6bK2f/7czycMFVjqE+BXtb+UpMVsvW9dJIBYYkM0HIYOn3bUDZLKVkTYsnntQLpzFwEzIY0Y5LF1mRsLW6uvL5L0hCyfdk6T7ykwjIzP7uD/+kHV9dHAyGlqqUFokWnCA5VYgWgTAzmpnBK1TOyhCIYpQkd0ezxdffTDmTzCwFLIptRc4YDEZnP/dSIa2PfXsmjV70IMxM0sJoEMR4exJeLXl9zAZuXCEL09UcTZFYCFAgVZADETAhmQAVefLzV/2NCwYXYALJra7JCia6Yu1fv7z6xX/GbdXOrkhLImBmFH7+9373V//sk4eOHt1cW23adjgYILSmyODYYku5AAoAJBJgUgFCvfaUEWCVOKonkbe6LoMZbEnryuY759OpR57/1B8d/8gPSnMJvXkzoiSCG+vr3/jEX3zzzz/55XOvnn3kZM1K588vOY+hesB92asBfQiHMSIqmExDeqJ5Su4uqQMmOZuUqYvX33r42Pd9+Jd/4dlf/5V68RAQCN5TnN5BRJgZgMjFzEBuXbnyyoufPx/xp7/9O+2lC4t19UDn7/O07NUiUm3utF4MmqE2r2BmllKCsS2x1ba1WZebkz/zU6d//7eWHj5OWZRCtzkl9e60B8lSOvcKQNu2Hz/1+Oaldy2lB2Gn4MtWL9IHltKMNMkFdwopJTejmWibXbO9vnby+ed++ktfkFKU1rzqtSv72uJuuHu5tXPdz+vuETlHUcGRI0eKFEx1iVaQVASSvXhLtF4eTh2VBEBhWNWWY+HECSCpFHPv59e0nrg77pIRb7nuyyowJVg9dK8rOh0ysw4BoFBuJslIM0s0xFR19fE+IKuSgMXjx2d2McM0vKrMVbncJXrc4jwR4Qgj+jrl2LGHSwmnOiFDRSxSRPQCvHen5N6XvFOr29Qhl595ipQYvYwmQIB+z2l8R/vfGG3WP1JKAdKJR08BMKYCASgKA0oEAAMxjfQAbuRnATmXpaVDxz/4FGCOKsJmsmxezOXT70H0fYPjjz9BACw7pJ0WBABHX4VREqRZf0GZahHDBw498MGnAHTI05KY01x2T6S/Y/QxCgJOPfmBDixCgQpYiIAigtO4Hn1529d/EUG6QDWTxRMP1ydPAEj2P3Ye74fKuyN6vzn26KlDrIrCZCEFETOnuvk3hzuMUcpEXTHlnIdPPNbnmvl7HfeBNAABo4XFBLNQ7xIiIqIPcL1vGBiQCUBkQ+QsI3JZfOxRkhFzOcP9Ja22bQ1hoM/mmQac6LediX03phgZgSJakKHR4+9/b2jaD9IGrl++2ir3zYUpaaJAAWVFwbQFA0CwodcR2UpJy0snnvsBkmZ7fPseH+uNdHV1dcIw8z56SCpQ3+eaGdJyyGnubsZRVasE6sQqYZZi95E0gdDF1VUAHWc9SalEFEWrElBIBXL3HMX6oqKAJCZdbGxiPul8P0n3ue38G2+EgGBWFEXvGF2JLkpEZEUpJSKbWdNld4c5Q6l0ZXMLu+yU3hPpfunNjMClty+IcAWMnYwqBWpZQgoUEQy1AYlObHdNqkiygWlpCbOsuR+kOX2Mkcvm5kYlOqgAqYZMImGZKuIkdw1iQBtHFm1kA5SoklXm1bC6YYXde8le3KNf05xzN97u32pEQmlUOtLgJjCUaJPIG9Ee8kHOuY0cRHGqa9/96tffO+38QXDv0WO8sblx/ZqZFcQCWMBMZUVG1DAlMzLRupyvdtspJQoo4WGZunzmq+h3c28FALqNPrufpCOC5Oa1tfX19ZSSAbXUAEkMi05RCAoZxcjKPKT1Zpyp/tlU1+tvrfQN2JvNMD+BvZDuF3F97VrbtpJGgQwVcJFJUqtSpETrBQmAGuaetnM7zm0XHSvffPfSeG2tV6N7CCB7z4jb69dL6QaWHGykEeSBTpA0UQlikCoHC7StFtDQEmWIILxrxrG5ZVDE7MzFiLkj915CXo/1q1cKVQuNZJaWaBNGA0wYALqSGaiqKtErWpubNgpJg5NU021fX79Rzswi6f+WT3Nmj4vnLlCoPTENjlasWbm7O7N745bqQaktJVuo69FgYTRaTCmlqpJbPUjNxvrl175FelEIYKA/K5uTQ9otaWF67rZ+5d0ENuPJGPktyCkU68gUJXN7qdkawkdK1p+GwQKawI0cjkZ5sn393EqgpIA4baRPddcczHdNmkDf93hnZWXD9PRjj59+/oee+dEfW3rkGNo8Hm9rPLamXe4ilOuCAikXlbAoue1KM+G4ubJ6YbS8jFD0TbcdwvPZevc6S9Ma9M1X/7OdNE98/zP1YCRANx08SNOmXJ+obzm7mV0HYLNPIBQ2b2LfoziMyKT3J5oRJoZh2pA2zI4HAdGoG+WJJANgFgZjv52Cff9uvtOWPZLuhXNfLPWtawMlUX29e5cT72mnHsDs0Le/LQrjvKz3ED2ClABSTpvyIGESwBCmTV4IoLDT7tDOD57Gn+gbZpyqF5s/Ke7FPXbsN6V16waarrQAIvrD89vYW9OnZgd/Cs7XyduzT3938f/rnzX/l3FAer9wQHq/cEB6v3BAer9wQHq/cEB6v/A9Sfq/AVWWUvCBdV2KAAAAAElFTkSuQmCC\"/>\n",
              "            <a href=\"#!\">\n",
              "                <span class=\"ipyplot-img-close\"/>\n",
              "            </a>\n",
              "            <a href=\"#ipyplot-content-div-RojdfjbivAukwfLwUaFsEK-czggzbqHuXWJXoyLLzSPmx\">\n",
              "                <span class=\"ipyplot-img-expand\"/>\n",
              "            </a>\n",
              "        </div>\n",
              "    </div>\n",
              "    \n",
              "    <div class=\"ipyplot-placeholder-div-RojdfjbivAukwfLwUaFsEK\">\n",
              "        <div id=\"ipyplot-content-div-RojdfjbivAukwfLwUaFsEK-7ApNSf3R7XosQNroHvo22q\" class=\"ipyplot-content-div-RojdfjbivAukwfLwUaFsEK\">\n",
              "            <h4 style=\"font-size: 12px; word-wrap: break-word;\">Gini and Jony Girls Black Top</h4>\n",
              "            <img src=\"data:image/png;base64,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\"/>\n",
              "            <a href=\"#!\">\n",
              "                <span class=\"ipyplot-img-close\"/>\n",
              "            </a>\n",
              "            <a href=\"#ipyplot-content-div-RojdfjbivAukwfLwUaFsEK-7ApNSf3R7XosQNroHvo22q\">\n",
              "                <span class=\"ipyplot-img-expand\"/>\n",
              "            </a>\n",
              "        </div>\n",
              "    </div>\n",
              "    \n",
              "    <div class=\"ipyplot-placeholder-div-RojdfjbivAukwfLwUaFsEK\">\n",
              "        <div id=\"ipyplot-content-div-RojdfjbivAukwfLwUaFsEK-AqbUiDZ6sJBfx2ik3JFNCV\" class=\"ipyplot-content-div-RojdfjbivAukwfLwUaFsEK\">\n",
              "            <h4 style=\"font-size: 12px; word-wrap: break-word;\">Gini and Jony Girls Pretty Blossom Blue Top</h4>\n",
              "            <img src=\"data:image/png;base64,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\"/>\n",
              "            <a href=\"#!\">\n",
              "                <span class=\"ipyplot-img-close\"/>\n",
              "            </a>\n",
              "            <a href=\"#ipyplot-content-div-RojdfjbivAukwfLwUaFsEK-AqbUiDZ6sJBfx2ik3JFNCV\">\n",
              "                <span class=\"ipyplot-img-expand\"/>\n",
              "            </a>\n",
              "        </div>\n",
              "    </div>\n",
              "    </div>"
            ]
          },
          "metadata": {}
        }
      ]
    }
  ]
}