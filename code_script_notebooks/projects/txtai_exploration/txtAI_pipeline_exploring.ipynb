{
  "nbformat": 4,
  "nbformat_minor": 0,
  "metadata": {
    "colab": {
      "provenance": []
    },
    "kernelspec": {
      "name": "python3",
      "display_name": "Python 3"
    },
    "language_info": {
      "name": "python"
    }
  },
  "cells": [
    {
      "cell_type": "code",
      "execution_count": 3,
      "metadata": {
        "id": "G0Row4WBrIqh"
      },
      "outputs": [],
      "source": [
        "!pip install txtai[all] onnxruntime librosa>> /dev/null"
      ]
    },
    {
      "cell_type": "markdown",
      "source": [
        "The Text To Speech pipeline generates speech from text.\n",
        "\n",
        "The Transcription does the opposite and generate text from speech"
      ],
      "metadata": {
        "id": "pqKhSRCx8roD"
      }
    },
    {
      "cell_type": "code",
      "source": [
        "%%capture\n",
        "\n",
        "from txtai.pipeline import TextToSpeech\n",
        "\n",
        "# Create text-to-speech model\n",
        "tts = TextToSpeech()"
      ],
      "metadata": {
        "id": "aLYobBYWsUgm"
      },
      "execution_count": 4,
      "outputs": []
    },
    {
      "cell_type": "code",
      "source": [
        "import soundfile as sf\n",
        "\n",
        "# Generate speech\n",
        "speech = tts(\"Say something here\")\n",
        "\n",
        "# Write to file\n",
        "sf.write(\"out.wav\", speech, 22050)"
      ],
      "metadata": {
        "id": "kftk8d_fsUuB"
      },
      "execution_count": 5,
      "outputs": []
    },
    {
      "cell_type": "code",
      "source": [
        "from txtai.pipeline import TextToSpeech\n",
        "\n",
        "# Create text-to-speech model\n",
        "tts = TextToSpeech(\"NeuML/ljspeech-jets-onnx\")"
      ],
      "metadata": {
        "id": "X_qbAYEXsUzg"
      },
      "execution_count": null,
      "outputs": []
    },
    {
      "cell_type": "code",
      "source": [
        "import soundfile as sf\n",
        "\n",
        "# Generate speech\n",
        "speech = tts(\"Say something here\")"
      ],
      "metadata": {
        "id": "FxHv_O8_sU4T"
      },
      "execution_count": 7,
      "outputs": []
    },
    {
      "cell_type": "code",
      "source": [
        "from IPython.display import Audio, display\n",
        "\n",
        "import os\n",
        "\n",
        "import soundfile as sf\n",
        "\n",
        "def play(speech):\n",
        "  # Convert to MP3 to save space\n",
        "  sf.write(\"speech.wav\", speech, 22050)\n",
        "  !ffmpeg -i speech.wav -y -b:a 64 speech.mp3 2> /dev/null\n",
        "\n",
        "  # Play speech\n",
        "  display(Audio(filename=\"speech.mp3\"))\n",
        "\n",
        "play(speech)"
      ],
      "metadata": {
        "colab": {
          "base_uri": "https://localhost:8080/",
          "height": 76
        },
        "id": "wvrxENr2sU9O",
        "outputId": "26973aab-7c29-423f-d0e0-a770632d0d29"
      },
      "execution_count": 8,
      "outputs": [
        {
          "output_type": "display_data",
          "data": {
            "text/plain": [
              "<IPython.lib.display.Audio object>"
            ],
            "text/html": [
              "\n",
              "                <audio  controls=\"controls\" >\n",
              "                    <source src=\"data:audio/mpeg;base64,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\" type=\"audio/mpeg\" />\n",
              "                    Your browser does not support the audio element.\n",
              "                </audio>\n",
              "              "
            ]
          },
          "metadata": {}
        }
      ]
    },
    {
      "cell_type": "code",
      "source": [
        "from txtai.pipeline import Transcription\n",
        "\n",
        "# Transcribe files\n",
        "transcribe = Transcription(\"openai/whisper-base\")\n",
        "\n",
        "# Print result\n",
        "transcribe(speech, 22050)"
      ],
      "metadata": {
        "id": "vkyGZHzX7LkM"
      },
      "execution_count": null,
      "outputs": []
    },
    {
      "cell_type": "markdown",
      "source": [
        "The Segmentation pipeline segments text into semantic units."
      ],
      "metadata": {
        "id": "rFiq8Dxz8n-o"
      }
    },
    {
      "cell_type": "code",
      "source": [],
      "metadata": {
        "id": "BFNxWjuM76Ta"
      },
      "execution_count": null,
      "outputs": []
    },
    {
      "cell_type": "code",
      "source": [],
      "metadata": {
        "id": "EZENy3iu76M3"
      },
      "execution_count": null,
      "outputs": []
    },
    {
      "cell_type": "code",
      "source": [],
      "metadata": {
        "id": "LhgbSsSI76J5"
      },
      "execution_count": null,
      "outputs": []
    },
    {
      "cell_type": "code",
      "source": [],
      "metadata": {
        "id": "MeZvdKht76Ea"
      },
      "execution_count": null,
      "outputs": []
    }
  ]
}