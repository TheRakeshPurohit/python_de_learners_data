{
  "nbformat": 4,
  "nbformat_minor": 0,
  "metadata": {
    "colab": {
      "provenance": []
    },
    "kernelspec": {
      "name": "python3",
      "display_name": "Python 3"
    },
    "language_info": {
      "name": "python"
    }
  },
  "cells": [
    {
      "cell_type": "code",
      "execution_count": 1,
      "metadata": {
        "id": "4I5dQdr1swjT"
      },
      "outputs": [],
      "source": [
        "!pip -q install txtai[all] paperai langchain scipy==1.10.0 > /dev/null"
      ]
    },
    {
      "cell_type": "code",
      "source": [
        "# Download NLTK data\n",
        "!python -c \"import nltk; nltk.download('punkt')\""
      ],
      "metadata": {
        "colab": {
          "base_uri": "https://localhost:8080/"
        },
        "id": "IB6Qz9E2tNYo",
        "outputId": "b1d2f92f-46e7-4526-872c-12ce8f2b682e"
      },
      "execution_count": 2,
      "outputs": [
        {
          "output_type": "stream",
          "name": "stdout",
          "text": [
            "[nltk_data] Downloading package punkt to /root/nltk_data...\n",
            "[nltk_data]   Unzipping tokenizers/punkt.zip.\n"
          ]
        }
      ]
    },
    {
      "cell_type": "code",
      "source": [
        "# Download data\n",
        "!mkdir -p paperai\n",
        "!wget -N https://github.com/neuml/paperai/releases/download/v1.10.0/tests.tar.gz\n",
        "!tar -xvzf tests.tar.gz"
      ],
      "metadata": {
        "id": "a6ql7KCdtSH8"
      },
      "execution_count": null,
      "outputs": []
    },
    {
      "cell_type": "code",
      "source": [
        "!python -m paperai.index paperai"
      ],
      "metadata": {
        "id": "jPvEvPvmtSBS"
      },
      "execution_count": null,
      "outputs": []
    },
    {
      "cell_type": "code",
      "source": [
        "!python -m paperai.query \"COVID-19 and hypertension\" 2 paperai 0.75"
      ],
      "metadata": {
        "id": "0B6ktLNutR9m"
      },
      "execution_count": null,
      "outputs": []
    },
    {
      "cell_type": "code",
      "source": [
        "!pip -q install codequestion"
      ],
      "metadata": {
        "colab": {
          "base_uri": "https://localhost:8080/"
        },
        "id": "S73yznPMtRrI",
        "outputId": "7ba7edca-e987-43db-c45e-2a5ac40fc4b8"
      },
      "execution_count": 5,
      "outputs": [
        {
          "output_type": "stream",
          "name": "stdout",
          "text": [
            "  Preparing metadata (setup.py) ... \u001b[?25l\u001b[?25hdone\n",
            "  Building wheel for html2markdown (setup.py) ... \u001b[?25l\u001b[?25hdone\n"
          ]
        }
      ]
    },
    {
      "cell_type": "code",
      "source": [
        "!python -m codequestion.download"
      ],
      "metadata": {
        "colab": {
          "base_uri": "https://localhost:8080/"
        },
        "id": "1tVT01_tzryt",
        "outputId": "66a01d75-97b8-46b2-c1cf-98ca7147715b"
      },
      "execution_count": 6,
      "outputs": [
        {
          "output_type": "stream",
          "name": "stdout",
          "text": [
            "Downloading model from https://github.com/neuml/codequestion/releases/download/v2.0.0/cqmodel.zip to /tmp/cqmodel.zip\n",
            "100% 726M/726M [00:07<00:00, 95.5MB/s]\n",
            "Decompressing model to /root/.codequestion\n",
            "Download complete\n"
          ]
        }
      ]
    },
    {
      "cell_type": "code",
      "source": [
        "!codequestion"
      ],
      "metadata": {
        "colab": {
          "base_uri": "https://localhost:8080/"
        },
        "id": "QWhBAhnhzzj7",
        "outputId": "9d232b95-b52a-4c45-fc34-fb7d9b272d83"
      },
      "execution_count": 9,
      "outputs": [
        {
          "output_type": "stream",
          "name": "stdout",
          "text": [
            "2023-04-20 13:19:58.871020: W tensorflow/compiler/tf2tensorrt/utils/py_utils.cc:38] TF-TRT Warning: Could not find TensorRT\n",
            ".topics\n",
            "Loading model from /root/.codequestion/models/stackexchange\n",
            "codequestion console\n",
            ">>> .topics\n",
            "\u001b[92mbootstrap_twitter_css_html\u001b[0m\n",
            "Using Bootstrap and my own CSS together \u001b[1m(\u001b[0m\u001b[1;36m464562\u001b[0m\u001b[1m)\u001b[0m\n",
            "\n",
            "\u001b[92mrust_how_do_what\u001b[0m\n",
            "What is the Rust type keyword? \u001b[1m(\u001b[0m\u001b[1;36m483723\u001b[0m\u001b[1m)\u001b[0m\n",
            "\n",
            "\u001b[92mgit_how_commit_branch\u001b[0m\n",
            "Finding what branch a Git commit came from \u001b[1m(\u001b[0m\u001b[1;36m131079\u001b[0m\u001b[1m)\u001b[0m\n",
            "\n",
            "\u001b[92mmatplotlib_python_plot_how\u001b[0m\n",
            "How do I tell matplotlib that I am done with a plot? \u001b[1m(\u001b[0m\u001b[1;36m73473\u001b[0m\u001b[1m)\u001b[0m\n",
            "\n",
            "\u001b[92muitableview_ios_iphone_objective\u001b[0m\n",
            "How to display the UITableView programmatically? \u001b[1m(\u001b[0m\u001b[1;36m147198\u001b[0m\u001b[1m)\u001b[0m\n",
            "\n",
            "\u001b[92mmaven_java_how_plugin\u001b[0m\n",
            "How to use properties-maven-plugin? \u001b[1m(\u001b[0m\u001b[1;36m489388\u001b[0m\u001b[1m)\u001b[0m\n",
            "\n",
            "\u001b[92mgoogle_maps_api_javascript\u001b[0m\n",
            "Google Maps API - Map Is Not Loaded \u001b[1m(\u001b[0m\u001b[1;36m366324\u001b[0m\u001b[1m)\u001b[0m\n",
            "\n",
            "\u001b[92mframework_entity_net_ef\u001b[0m\n",
            "Using EF \u001b[1;36m4\u001b[0m on .NET \u001b[1;36m3.5\u001b[0m SP1 \u001b[1m(\u001b[0m\u001b[1;36m125227\u001b[0m\u001b[1m)\u001b[0m\n",
            "\n",
            "\u001b[92mpowershell_how_windows_from\u001b[0m\n",
            "How can I get all window handles by a process in Powershell? \u001b[1m(\u001b[0m\u001b[1;36m455085\u001b[0m\u001b[1m)\u001b[0m\n",
            "\n",
            "\u001b[92mggplot2_plot_ggplot_how\u001b[0m\n",
            "How to plot one variable in ggplot? \u001b[1m(\u001b[0m\u001b[1;36m342553\u001b[0m\u001b[1m)\u001b[0m\n",
            "\n",
            ">>> \n",
            "\u001b[92mbootstrap_twitter_css_html\u001b[0m\n",
            "Using Bootstrap and my own CSS together \u001b[1m(\u001b[0m\u001b[1;36m464562\u001b[0m\u001b[1m)\u001b[0m\n",
            "\n",
            "\u001b[92mrust_how_do_what\u001b[0m\n",
            "What is the Rust type keyword? \u001b[1m(\u001b[0m\u001b[1;36m483723\u001b[0m\u001b[1m)\u001b[0m\n",
            "\n",
            "\u001b[92mgit_how_commit_branch\u001b[0m\n",
            "Finding what branch a Git commit came from \u001b[1m(\u001b[0m\u001b[1;36m131079\u001b[0m\u001b[1m)\u001b[0m\n",
            "\n",
            "\u001b[92mmatplotlib_python_plot_how\u001b[0m\n",
            "How do I tell matplotlib that I am done with a plot? \u001b[1m(\u001b[0m\u001b[1;36m73473\u001b[0m\u001b[1m)\u001b[0m\n",
            "\n",
            "\u001b[92muitableview_ios_iphone_objective\u001b[0m\n",
            "How to display the UITableView programmatically? \u001b[1m(\u001b[0m\u001b[1;36m147198\u001b[0m\u001b[1m)\u001b[0m\n",
            "\n",
            "\u001b[92mmaven_java_how_plugin\u001b[0m\n",
            "How to use properties-maven-plugin? \u001b[1m(\u001b[0m\u001b[1;36m489388\u001b[0m\u001b[1m)\u001b[0m\n",
            "\n",
            "\u001b[92mgoogle_maps_api_javascript\u001b[0m\n",
            "Google Maps API - Map Is Not Loaded \u001b[1m(\u001b[0m\u001b[1;36m366324\u001b[0m\u001b[1m)\u001b[0m\n",
            "\n",
            "\u001b[92mframework_entity_net_ef\u001b[0m\n",
            "Using EF \u001b[1;36m4\u001b[0m on .NET \u001b[1;36m3.5\u001b[0m SP1 \u001b[1m(\u001b[0m\u001b[1;36m125227\u001b[0m\u001b[1m)\u001b[0m\n",
            "\n",
            "\u001b[92mpowershell_how_windows_from\u001b[0m\n",
            "How can I get all window handles by a process in Powershell? \u001b[1m(\u001b[0m\u001b[1;36m455085\u001b[0m\u001b[1m)\u001b[0m\n",
            "\n",
            "\u001b[92mggplot2_plot_ggplot_how\u001b[0m\n",
            "How to plot one variable in ggplot? \u001b[1m(\u001b[0m\u001b[1;36m342553\u001b[0m\u001b[1m)\u001b[0m\n",
            "\n",
            ">>> \n",
            "\u001b[92mbootstrap_twitter_css_html\u001b[0m\n",
            "Using Bootstrap and my own CSS together \u001b[1m(\u001b[0m\u001b[1;36m464562\u001b[0m\u001b[1m)\u001b[0m\n",
            "\n",
            "\u001b[92mrust_how_do_what\u001b[0m\n",
            "What is the Rust type keyword? \u001b[1m(\u001b[0m\u001b[1;36m483723\u001b[0m\u001b[1m)\u001b[0m\n",
            "\n",
            "\u001b[92mgit_how_commit_branch\u001b[0m\n",
            "Finding what branch a Git commit came from \u001b[1m(\u001b[0m\u001b[1;36m131079\u001b[0m\u001b[1m)\u001b[0m\n",
            "\n",
            "\u001b[92mmatplotlib_python_plot_how\u001b[0m\n",
            "How do I tell matplotlib that I am done with a plot? \u001b[1m(\u001b[0m\u001b[1;36m73473\u001b[0m\u001b[1m)\u001b[0m\n",
            "\n",
            "\u001b[92muitableview_ios_iphone_objective\u001b[0m\n",
            "How to display the UITableView programmatically? \u001b[1m(\u001b[0m\u001b[1;36m147198\u001b[0m\u001b[1m)\u001b[0m\n",
            "\n",
            "\u001b[92mmaven_java_how_plugin\u001b[0m\n",
            "How to use properties-maven-plugin? \u001b[1m(\u001b[0m\u001b[1;36m489388\u001b[0m\u001b[1m)\u001b[0m\n",
            "\n",
            "\u001b[92mgoogle_maps_api_javascript\u001b[0m\n",
            "Google Maps API - Map Is Not Loaded \u001b[1m(\u001b[0m\u001b[1;36m366324\u001b[0m\u001b[1m)\u001b[0m\n",
            "\n",
            "\u001b[92mframework_entity_net_ef\u001b[0m\n",
            "Using EF \u001b[1;36m4\u001b[0m on .NET \u001b[1;36m3.5\u001b[0m SP1 \u001b[1m(\u001b[0m\u001b[1;36m125227\u001b[0m\u001b[1m)\u001b[0m\n",
            "\n",
            "\u001b[92mpowershell_how_windows_from\u001b[0m\n",
            "How can I get all window handles by a process in Powershell? \u001b[1m(\u001b[0m\u001b[1;36m455085\u001b[0m\u001b[1m)\u001b[0m\n",
            "\n",
            "\u001b[92mggplot2_plot_ggplot_how\u001b[0m\n",
            "How to plot one variable in ggplot? \u001b[1m(\u001b[0m\u001b[1;36m342553\u001b[0m\u001b[1m)\u001b[0m\n",
            "\n",
            ">>> using my own css\n",
            "\u001b[92mQuestion (by 100052): Best Practices - CSS Theming [0.724004]\u001b[0m\n",
            "Id: 155416\n",
            "Last Activity: 2010-09-09T18:07:03.277\n",
            "Tags: css\n",
            "Answer (by 14877):\n",
            "\n",
            "You should look into SASS, specifically their \"Mixins\" feature. It takes CSS and\n",
            "introduces a very DRY programmatic approach. You can override existing classes  \n",
            "with it, making it perfect for what I think you're trying to do.                \n",
            "\n",
            "\u001b]8;id=494552;http://sass-lang.com/\u001b\\\u001b[4;34mLink\u001b[0m\u001b]8;;\u001b\\                                                                            \n",
            "\n",
            "Reference: \u001b[4;94mhttps://stackoverflow.com/questions/3662351\u001b[0m\n",
            "\n",
            ">>> using ggplot2\n",
            "\u001b[92mQuestion (by 719383): ggplot2 return values [0.848099]\u001b[0m\n",
            "Id: 321200\n",
            "Last Activity: 2022-05-24T18:34:10.483\n",
            "Tags: r ggplot2\n",
            "Answer (by 11911397):\n",
            "\n",
            "In \u001b[1;36;40mggplot2 (3.3.5)\u001b[0m, I can not get access to the returned data frame with        \n",
            "\u001b[1;36;40mggplot2:::print.ggplot()\u001b[0m, but I get success with \u001b[1;36;40mggplot_build\u001b[0m:                  \n",
            "\n",
            "\u001b[40m                                                                                \u001b[0m\n",
            "\u001b[40m \u001b[0m\u001b[40msimple <- data.frame(x = rep(1:10, each = 2))                                 \u001b[0m\u001b[40m \u001b[0m\n",
            "\u001b[40m \u001b[0m\u001b[40mtmp <- ggplot(data=simple) + stat_bin(aes(x), binwidth=0.1)                   \u001b[0m\u001b[40m \u001b[0m\n",
            "\u001b[40m \u001b[0m\u001b[40m# with ggplot_build                                                           \u001b[0m\u001b[40m \u001b[0m\n",
            "\u001b[40m \u001b[0m\u001b[40mx <- ggplot_build(tmp)                                                        \u001b[0m\u001b[40m \u001b[0m\n",
            "\u001b[40m \u001b[0m\u001b[40mhead(x[[\"data\"]][[1]])                                                        \u001b[0m\u001b[40m \u001b[0m\n",
            "\u001b[40m \u001b[0m\u001b[40m#   y count   x xmin xmax density ncount ndensity flipped_aes PANEL group ymin\u001b[0m\u001b[40m \u001b[0m\n",
            "\u001b[40m \u001b[0m\u001b[40mymax colour   fill size linetype alpha                                        \u001b[0m\u001b[40m \u001b[0m\n",
            "\u001b[40m \u001b[0m\u001b[40m# 1 2     2 1.0 0.95 1.05       1      1        1       FALSE     1    -1    0\u001b[0m\u001b[40m \u001b[0m\n",
            "\u001b[40m \u001b[0m\u001b[40m2     NA grey35  0.5        1    NA                                           \u001b[0m\u001b[40m \u001b[0m\n",
            "\u001b[40m \u001b[0m\u001b[40m# 2 0     0 1.1 1.05 1.15       0      0        0       FALSE     1    -1    0\u001b[0m\u001b[40m \u001b[0m\n",
            "\u001b[40m \u001b[0m\u001b[40m0     NA grey35  0.5        1    NA                                           \u001b[0m\u001b[40m \u001b[0m\n",
            "\u001b[40m \u001b[0m\u001b[40m# 3 0     0 1.2 1.15 1.25       0      0        0       FALSE     1    -1    0\u001b[0m\u001b[40m \u001b[0m\n",
            "\u001b[40m \u001b[0m\u001b[40m0     NA grey35  0.5        1    NA                                           \u001b[0m\u001b[40m \u001b[0m\n",
            "\u001b[40m \u001b[0m\u001b[40m# 4 0     0 1.3 1.25 1.35       0      0        0       FALSE     1    -1    0\u001b[0m\u001b[40m \u001b[0m\n",
            "\u001b[40m \u001b[0m\u001b[40m0     NA grey35  0.5        1    NA                                           \u001b[0m\u001b[40m \u001b[0m\n",
            "\u001b[40m \u001b[0m\u001b[40m# 5 0     0 1.4 1.35 1.45       0      0        0       FALSE     1    -1    0\u001b[0m\u001b[40m \u001b[0m\n",
            "\u001b[40m \u001b[0m\u001b[40m0     NA grey35  0.5        1    NA                                           \u001b[0m\u001b[40m \u001b[0m\n",
            "\u001b[40m \u001b[0m\u001b[40m# 6 0     0 1.5 1.45 1.55       0      0        0       FALSE     1    -1    0\u001b[0m\u001b[40m \u001b[0m\n",
            "\u001b[40m \u001b[0m\u001b[40m0     NA grey35  0.5        1    NA                                           \u001b[0m\u001b[40m \u001b[0m\n",
            "\u001b[40m                                                                                \u001b[0m\n",
            "\n",
            "Reference: \u001b[4;94mhttps://stackoverflow.com/questions/12267970\u001b[0m\n",
            "\n",
            ">>> ggplot2\n",
            "\u001b[92mQuestion (by 3283617): ggplot equivalent for matplot [0.825735]\u001b[0m\n",
            "Id: 495602\n",
            "Last Activity: 2015-06-22T15:14:15.230\n",
            "Tags: r ggplot2\n",
            "Answer (by 5020008):\n",
            "\n",
            "You can create a similar plot in ggplot, but you will need to do some reshaping \n",
            "of the data first.                                                              \n",
            "\n",
            "\u001b[40m                                                                                \u001b[0m\n",
            "\u001b[40m \u001b[0m\u001b[40mlibrary(reshape2)                                                             \u001b[0m\u001b[40m \u001b[0m\n",
            "\u001b[40m \u001b[0m\u001b[40m                                                                              \u001b[0m\u001b[40m \u001b[0m\n",
            "\u001b[40m \u001b[0m\u001b[40m#ggplot needs a dataframe                                                     \u001b[0m\u001b[40m \u001b[0m\n",
            "\u001b[40m \u001b[0m\u001b[40mdata <- as.data.frame(data)                                                   \u001b[0m\u001b[40m \u001b[0m\n",
            "\u001b[40m \u001b[0m\u001b[40m#id variable for position in matrix                                           \u001b[0m\u001b[40m \u001b[0m\n",
            "\u001b[40m \u001b[0m\u001b[40mdata$id <- 1:nrow(data)                                                       \u001b[0m\u001b[40m \u001b[0m\n",
            "\u001b[40m \u001b[0m\u001b[40m#reshape to long format                                                       \u001b[0m\u001b[40m \u001b[0m\n",
            "\u001b[40m \u001b[0m\u001b[40mplot_data <- melt(data,id.var=\"id\")                                           \u001b[0m\u001b[40m \u001b[0m\n",
            "\u001b[40m \u001b[0m\u001b[40m                                                                              \u001b[0m\u001b[40m \u001b[0m\n",
            "\u001b[40m \u001b[0m\u001b[40m                                                                              \u001b[0m\u001b[40m \u001b[0m\n",
            "\u001b[40m \u001b[0m\u001b[40m#plot                                                                         \u001b[0m\u001b[40m \u001b[0m\n",
            "\u001b[40m \u001b[0m\u001b[40mggplot(plot_data, aes(x=id,y=value,group=variable,colour=variable)) +         \u001b[0m\u001b[40m \u001b[0m\n",
            "\u001b[40m \u001b[0m\u001b[40m  geom_point()+                                                               \u001b[0m\u001b[40m \u001b[0m\n",
            "\u001b[40m \u001b[0m\u001b[40m  geom_line(aes(lty=variable)) +                                              \u001b[0m\u001b[40m \u001b[0m\n",
            "\u001b[40m \u001b[0m\u001b[40m  scale_y_log10(breaks=c(1,2,5,10,25))                                        \u001b[0m\u001b[40m \u001b[0m\n",
            "\u001b[40m                                                                                \u001b[0m\n",
            "\n",
            "🌆 \u001b]8;id=561763;https://i.stack.imgur.com/yHDjA.png\u001b\\enter image description here\u001b]8;;\u001b\\ My output:                                      \n",
            "\n",
            "Reference: \u001b[4;94mhttps://stackoverflow.com/questions/30977249\u001b[0m\n",
            "\n",
            ">>> ggplot\n",
            "\u001b[92mQuestion (by 3283617): ggplot equivalent for matplot [0.786437]\u001b[0m\n",
            "Id: 495602\n",
            "Last Activity: 2015-06-22T15:14:15.230\n",
            "Tags: r ggplot2\n",
            "Answer (by 5020008):\n",
            "\n",
            "You can create a similar plot in ggplot, but you will need to do some reshaping \n",
            "of the data first.                                                              \n",
            "\n",
            "\u001b[40m                                                                                \u001b[0m\n",
            "\u001b[40m \u001b[0m\u001b[40mlibrary(reshape2)                                                             \u001b[0m\u001b[40m \u001b[0m\n",
            "\u001b[40m \u001b[0m\u001b[40m                                                                              \u001b[0m\u001b[40m \u001b[0m\n",
            "\u001b[40m \u001b[0m\u001b[40m#ggplot needs a dataframe                                                     \u001b[0m\u001b[40m \u001b[0m\n",
            "\u001b[40m \u001b[0m\u001b[40mdata <- as.data.frame(data)                                                   \u001b[0m\u001b[40m \u001b[0m\n",
            "\u001b[40m \u001b[0m\u001b[40m#id variable for position in matrix                                           \u001b[0m\u001b[40m \u001b[0m\n",
            "\u001b[40m \u001b[0m\u001b[40mdata$id <- 1:nrow(data)                                                       \u001b[0m\u001b[40m \u001b[0m\n",
            "\u001b[40m \u001b[0m\u001b[40m#reshape to long format                                                       \u001b[0m\u001b[40m \u001b[0m\n",
            "\u001b[40m \u001b[0m\u001b[40mplot_data <- melt(data,id.var=\"id\")                                           \u001b[0m\u001b[40m \u001b[0m\n",
            "\u001b[40m \u001b[0m\u001b[40m                                                                              \u001b[0m\u001b[40m \u001b[0m\n",
            "\u001b[40m \u001b[0m\u001b[40m                                                                              \u001b[0m\u001b[40m \u001b[0m\n",
            "\u001b[40m \u001b[0m\u001b[40m#plot                                                                         \u001b[0m\u001b[40m \u001b[0m\n",
            "\u001b[40m \u001b[0m\u001b[40mggplot(plot_data, aes(x=id,y=value,group=variable,colour=variable)) +         \u001b[0m\u001b[40m \u001b[0m\n",
            "\u001b[40m \u001b[0m\u001b[40m  geom_point()+                                                               \u001b[0m\u001b[40m \u001b[0m\n",
            "\u001b[40m \u001b[0m\u001b[40m  geom_line(aes(lty=variable)) +                                              \u001b[0m\u001b[40m \u001b[0m\n",
            "\u001b[40m \u001b[0m\u001b[40m  scale_y_log10(breaks=c(1,2,5,10,25))                                        \u001b[0m\u001b[40m \u001b[0m\n",
            "\u001b[40m                                                                                \u001b[0m\n",
            "\n",
            "🌆 \u001b]8;id=259868;https://i.stack.imgur.com/yHDjA.png\u001b\\enter image description here\u001b]8;;\u001b\\ My output:                                      \n",
            "\n",
            "Reference: \u001b[4;94mhttps://stackoverflow.com/questions/30977249\u001b[0m\n",
            "\n",
            ">>> Traceback (most recent call last):\n",
            "  File \"/usr/lib/python3.9/cmd.py\", line 126, in cmdloop\n",
            "    line = input(self.prompt)\n",
            "KeyboardInterrupt\n",
            "\n",
            "During handling of the above exception, another exception occurred:\n",
            "\n",
            "Traceback (most recent call last):\n",
            "  File \"/usr/local/bin/codequestion\", line 8, in <module>\n",
            "    sys.exit(main())\n",
            "  File \"/usr/local/lib/python3.9/dist-packages/codequestion/console.py\", line 132, in main\n",
            "    Console().cmdloop()\n",
            "  File \"/usr/lib/python3.9/cmd.py\", line 145, in cmdloop\n",
            "    readline.set_completer(self.old_completer)\n",
            "KeyboardInterrupt\n",
            "^C\n"
          ]
        }
      ]
    },
    {
      "cell_type": "code",
      "source": [],
      "metadata": {
        "id": "62FconDTz1Uv"
      },
      "execution_count": null,
      "outputs": []
    }
  ]
}