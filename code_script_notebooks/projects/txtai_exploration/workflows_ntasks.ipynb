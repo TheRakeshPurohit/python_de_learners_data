{
  "nbformat": 4,
  "nbformat_minor": 0,
  "metadata": {
    "colab": {
      "provenance": []
    },
    "kernelspec": {
      "name": "python3",
      "display_name": "Python 3"
    },
    "language_info": {
      "name": "python"
    }
  },
  "cells": [
    {
      "cell_type": "code",
      "execution_count": 19,
      "metadata": {
        "id": "0RkCwXV-ZPr1"
      },
      "outputs": [],
      "source": [
        "!pip install txtai[all] > /dev/null"
      ]
    },
    {
      "cell_type": "code",
      "source": [
        "from txtai.workflow import Task\n",
        "from txtai.pipeline import Summary\n",
        "\n",
        "t1 = Task(lambda x: [y * 2 for y in x])\n",
        "\n",
        "t2 = Task(Summary())\n",
        "\n",
        "t3 = Task(lambda x: [y - 2 for y in x])"
      ],
      "metadata": {
        "colab": {
          "base_uri": "https://localhost:8080/"
        },
        "id": "diOYpWvnGXiu",
        "outputId": "e2014a84-d676-41fa-a4be-dd2b4068ba12"
      },
      "execution_count": 24,
      "outputs": [
        {
          "output_type": "stream",
          "name": "stderr",
          "text": [
            "No model was supplied, defaulted to sshleifer/distilbart-cnn-12-6 and revision a4f8f3e (https://huggingface.co/sshleifer/distilbart-cnn-12-6).\n",
            "Using a pipeline without specifying a model name and revision in production is not recommended.\n"
          ]
        }
      ]
    },
    {
      "cell_type": "code",
      "source": [
        "from txtai.workflow import Workflow\n",
        "\n",
        "workT2 = Workflow([t2])\n",
        "\n",
        "list(workT2([\"This is a super long text. Summarize it to 1 word\"]))"
      ],
      "metadata": {
        "colab": {
          "base_uri": "https://localhost:8080/"
        },
        "id": "0MgeB44yGXfr",
        "outputId": "ef0a8dd4-6052-4234-e63a-075175e79f82"
      },
      "execution_count": 23,
      "outputs": [
        {
          "output_type": "execute_result",
          "data": {
            "text/plain": [
              "['This is a super long text. Summarize it to 1 word']"
            ]
          },
          "metadata": {},
          "execution_count": 23
        }
      ]
    },
    {
      "cell_type": "code",
      "source": [
        "wrk_chn1 = Workflow([t1, t3])"
      ],
      "metadata": {
        "id": "kyoNWYXLGXbH"
      },
      "execution_count": 26,
      "outputs": []
    },
    {
      "cell_type": "code",
      "source": [
        "#the input moves through each of the tasks and reaches output"
      ],
      "metadata": {
        "id": "pR2u0f-9LZI1"
      },
      "execution_count": null,
      "outputs": []
    },
    {
      "cell_type": "code",
      "source": [
        "list(wrk_chn1([2,8]))"
      ],
      "metadata": {
        "colab": {
          "base_uri": "https://localhost:8080/"
        },
        "id": "cyYIxMyeGXVq",
        "outputId": "c85c66bc-fbc7-423c-cf5a-119224f0c474"
      },
      "execution_count": 28,
      "outputs": [
        {
          "output_type": "execute_result",
          "data": {
            "text/plain": [
              "[2, 14]"
            ]
          },
          "metadata": {},
          "execution_count": 28
        }
      ]
    },
    {
      "cell_type": "markdown",
      "source": [
        "### Multi-action task merges\n",
        "\n",
        "Multi-action tasks will generate parallel outputs for the input data. The task output can be merged together in a couple different ways.\n",
        "\n",
        "Each function / pipeline is individual action"
      ],
      "metadata": {
        "id": "KP63B86-OTKB"
      }
    },
    {
      "cell_type": "code",
      "source": [
        "#There are different ways of initiating tasks\n",
        "\n",
        "t1_u = Task([lambda x: [y * 2 for y in x],\n",
        "             lambda x: [y - 2 for y in x]],\n",
        "            unpack=True, column=0)"
      ],
      "metadata": {
        "id": "8sEA7o7rLjn7"
      },
      "execution_count": 36,
      "outputs": []
    },
    {
      "cell_type": "code",
      "source": [
        "wrk_chn2 = Workflow([t1_u])"
      ],
      "metadata": {
        "id": "gGTpmyR5LjuG"
      },
      "execution_count": 37,
      "outputs": []
    },
    {
      "cell_type": "code",
      "source": [
        "list(wrk_chn2([2,8]))"
      ],
      "metadata": {
        "colab": {
          "base_uri": "https://localhost:8080/"
        },
        "id": "vZxKBGbZLjzy",
        "outputId": "17697dfd-9413-420b-d70c-aa7f4a44021b"
      },
      "execution_count": 38,
      "outputs": [
        {
          "output_type": "execute_result",
          "data": {
            "text/plain": [
              "[(4, 0), (16, 6)]"
            ]
          },
          "metadata": {},
          "execution_count": 38
        }
      ]
    },
    {
      "cell_type": "code",
      "source": [
        "t2_u = Task([lambda x: [y * 2 for y in x],\n",
        "             lambda x: [y - 2 for y in x]],\n",
        "            unpack=False, column={0:0,1:1})\n",
        "\n",
        "wrk_chn3 = Workflow([t2_u])\n",
        "\n",
        "list(wrk_chn3([2,8,7]))"
      ],
      "metadata": {
        "colab": {
          "base_uri": "https://localhost:8080/"
        },
        "id": "4_qoTNazLj47",
        "outputId": "3bfe894f-d423-43d2-d9f8-0de28944d45e"
      },
      "execution_count": 46,
      "outputs": [
        {
          "output_type": "execute_result",
          "data": {
            "text/plain": [
              "[(4, 0), (16, 6), (14, 5)]"
            ]
          },
          "metadata": {},
          "execution_count": 46
        }
      ]
    },
    {
      "cell_type": "code",
      "source": [
        "t3_u = Task([lambda x: [y * 2 for y in x],\n",
        "             lambda x: [y - 2 for y in x]],\n",
        "            unpack=False, \n",
        "            column=0, #no change if {0:0,1:1} used\n",
        "            merge='hstack')\n",
        "\n",
        "wrk_chn4 = Workflow([t3_u])\n",
        "\n",
        "list(wrk_chn4([2,8,7]))"
      ],
      "metadata": {
        "colab": {
          "base_uri": "https://localhost:8080/"
        },
        "id": "N7L2TW1SNWQI",
        "outputId": "bc8c00bd-0a19-4593-cd12-47370e715de4"
      },
      "execution_count": 50,
      "outputs": [
        {
          "output_type": "execute_result",
          "data": {
            "text/plain": [
              "[(4, 0), (16, 6), (14, 5)]"
            ]
          },
          "metadata": {},
          "execution_count": 50
        }
      ]
    },
    {
      "cell_type": "code",
      "source": [
        "t4_u = Task([lambda x: [y * 2 for y in x],\n",
        "             lambda x: [y - 2 for y in x]],\n",
        "            unpack=False, \n",
        "            column=0, #no change if {0:0,1:1} used\n",
        "            merge='vstack')\n",
        "\n",
        "wrk_chn5 = Workflow([t4_u])\n",
        "\n",
        "list(wrk_chn5([2,8,7]))"
      ],
      "metadata": {
        "colab": {
          "base_uri": "https://localhost:8080/"
        },
        "id": "Rj3gowfPNgZB",
        "outputId": "94042422-8418-4b5a-e86a-897561f3ac93"
      },
      "execution_count": 51,
      "outputs": [
        {
          "output_type": "execute_result",
          "data": {
            "text/plain": [
              "[4, 0, 16, 6, 14, 5]"
            ]
          },
          "metadata": {},
          "execution_count": 51
        }
      ]
    },
    {
      "cell_type": "code",
      "source": [
        "t5_u = Task([lambda x: [y * 2 for y in x],\n",
        "             lambda x: [y - 2 for y in x]],\n",
        "            unpack=False, \n",
        "            column=0, #no change if {0:0,1:1} used\n",
        "            merge='concat')\n",
        "\n",
        "wrk_chn6 = Workflow([t5_u])\n",
        "\n",
        "list(wrk_chn6([2,8,7]))"
      ],
      "metadata": {
        "colab": {
          "base_uri": "https://localhost:8080/"
        },
        "id": "utDtMbuoN3Lq",
        "outputId": "b044e1a7-4bc6-4888-cffa-ca810417eaf6"
      },
      "execution_count": 52,
      "outputs": [
        {
          "output_type": "execute_result",
          "data": {
            "text/plain": [
              "['4', '16. 6', '14. 5']"
            ]
          },
          "metadata": {},
          "execution_count": 52
        }
      ]
    },
    {
      "cell_type": "code",
      "source": [
        "from txtai.workflow import FileTask, Workflow, ConsoleTask\n",
        "\n",
        "#the work flow works in the expected way of input and output\n",
        "tlen = Task(lambda x: [len(y) for y in x])\n",
        "\n",
        "workflow = Workflow([tlen, t5_u, ConsoleTask()])"
      ],
      "metadata": {
        "id": "IOFCap67Okur"
      },
      "execution_count": 60,
      "outputs": []
    },
    {
      "cell_type": "code",
      "source": [
        "list(workflow([\"there_five\",\"your_two\"]))"
      ],
      "metadata": {
        "colab": {
          "base_uri": "https://localhost:8080/"
        },
        "id": "nXndQwJMOksq",
        "outputId": "4b07d3d6-f539-420a-ae2f-b4c8f1fcf063"
      },
      "execution_count": 61,
      "outputs": [
        {
          "output_type": "stream",
          "name": "stdout",
          "text": [
            "Inputs: [\n",
            "  \"20. 8\",\n",
            "  \"16. 6\"\n",
            "]\n",
            "Outputs: [\n",
            "  \"20. 8\",\n",
            "  \"16. 6\"\n",
            "]\n"
          ]
        },
        {
          "output_type": "execute_result",
          "data": {
            "text/plain": [
              "['20. 8', '16. 6']"
            ]
          },
          "metadata": {},
          "execution_count": 61
        }
      ]
    },
    {
      "cell_type": "code",
      "source": [
        "from txtai.workflow import ExportTask\n",
        "\n",
        "expFlow = Workflow([ExportTask(tlen)]) # Unsure how it works"
      ],
      "metadata": {
        "id": "53vz3Z1GOknu"
      },
      "execution_count": 111,
      "outputs": []
    },
    {
      "cell_type": "code",
      "source": [
        "list(expFlow(['Tere bin','your self']))"
      ],
      "metadata": {
        "id": "iF2_8Fn-b60w"
      },
      "execution_count": null,
      "outputs": []
    },
    {
      "cell_type": "code",
      "source": [
        "workflow = Workflow([FileTask()])\n",
        "\n",
        "list(workflow([\"/content/tmux_conf_local.txt\", \"/content/linux_play.txt\"]))"
      ],
      "metadata": {
        "colab": {
          "base_uri": "https://localhost:8080/"
        },
        "id": "OFCgnVGZOklB",
        "outputId": "b26d9dd5-d677-4344-9bf1-9d0e88285ca2"
      },
      "execution_count": 70,
      "outputs": [
        {
          "output_type": "execute_result",
          "data": {
            "text/plain": [
              "['/content/tmux_conf_local.txt', '/content/linux_play.txt']"
            ]
          },
          "metadata": {},
          "execution_count": 70
        }
      ]
    },
    {
      "cell_type": "code",
      "source": [
        "data_read = Task(lambda x: [open(y).read() for y in x])\n",
        "data_write = Task(lambda x: [open(y).write() for y in x])\n",
        "\n",
        "workflow = Workflow([FileTask(), \n",
        "                     data_read, \n",
        "                     ConsoleTask()])"
      ],
      "metadata": {
        "id": "VrP5h5IrOkfq"
      },
      "execution_count": 75,
      "outputs": []
    },
    {
      "cell_type": "code",
      "source": [
        "#File task & console output tasks makes sense\n",
        "list(workflow([\"/content/tmux_conf_local.txt\", \n",
        "               \"/content/linux_play.txt\"]))"
      ],
      "metadata": {
        "id": "TcEorHTXOkaG"
      },
      "execution_count": null,
      "outputs": []
    },
    {
      "cell_type": "code",
      "source": [
        "#write flow is not as expected\n",
        "writeflow = Workflow([Task(lambda x: [y * 2 for y in x]),\n",
        "                      FileTask(), \n",
        "                     data_write])"
      ],
      "metadata": {
        "id": "V5apnPh5UN12"
      },
      "execution_count": 76,
      "outputs": []
    },
    {
      "cell_type": "code",
      "source": [
        "list(writeflow([5,7]))"
      ],
      "metadata": {
        "id": "CQ1J-BDKUzzo"
      },
      "execution_count": null,
      "outputs": []
    },
    {
      "cell_type": "code",
      "source": [
        "# Get test data\n",
        "!wget -N https://github.com/neuml/txtai/releases/download/v3.5.0/tests.tar.gz\n",
        "!tar -xvzf tests.tar.gz"
      ],
      "metadata": {
        "id": "8UjQMAI8WCRu"
      },
      "execution_count": null,
      "outputs": []
    },
    {
      "cell_type": "code",
      "source": [
        "from txtai.workflow import ImageTask, Workflow\n",
        "from txtai.pipeline import Caption\n",
        "\n",
        "get_caption = Caption()\n",
        "\n",
        "captionTask = Task(lambda z: get_caption(z))\n",
        "\n",
        "workflow = Workflow([ImageTask(),captionTask,ConsoleTask()])"
      ],
      "metadata": {
        "colab": {
          "base_uri": "https://localhost:8080/"
        },
        "id": "6WnMiC-aVU0D",
        "outputId": "57c145ca-7cba-46c0-9af2-7da0ec97920b"
      },
      "execution_count": 84,
      "outputs": [
        {
          "output_type": "stream",
          "name": "stderr",
          "text": [
            "No model was supplied, defaulted to ydshieh/vit-gpt2-coco-en and revision 65636df (https://huggingface.co/ydshieh/vit-gpt2-coco-en).\n",
            "Using a pipeline without specifying a model name and revision in production is not recommended.\n",
            "Could not find image processor class in the image processor config or the model config. Loading based on pattern matching with the model's feature extractor configuration.\n",
            "/usr/local/lib/python3.9/dist-packages/transformers/models/vit/feature_extraction_vit.py:28: FutureWarning: The class ViTFeatureExtractor is deprecated and will be removed in version 5 of Transformers. Please use ViTImageProcessor instead.\n",
            "  warnings.warn(\n"
          ]
        }
      ]
    },
    {
      "cell_type": "code",
      "source": [
        "import glob\n",
        "\n",
        "list(workflow(glob.glob(\"/content/txtai/*.jpg\")))"
      ],
      "metadata": {
        "id": "VR5PZeP7Wd7Y"
      },
      "execution_count": null,
      "outputs": []
    },
    {
      "cell_type": "code",
      "source": [
        "from txtai.workflow import RetrieveTask, Workflow\n",
        "\n",
        "workflow = Workflow([RetrieveTask(directory=\"/content/\")])"
      ],
      "metadata": {
        "id": "yTC3kbrFWdzq"
      },
      "execution_count": 89,
      "outputs": []
    },
    {
      "cell_type": "code",
      "source": [
        "list(workflow([\"https://github.com/neuml/txtai/releases/download/v3.5.0/tests.tar.gz\"]))"
      ],
      "metadata": {
        "colab": {
          "base_uri": "https://localhost:8080/"
        },
        "id": "QLN3yVzXWduj",
        "outputId": "30fe0131-f926-4ad6-d846-f2ca7efa1542"
      },
      "execution_count": 90,
      "outputs": [
        {
          "output_type": "execute_result",
          "data": {
            "text/plain": [
              "['/content/tests.tar.gz']"
            ]
          },
          "metadata": {},
          "execution_count": 90
        }
      ]
    },
    {
      "cell_type": "code",
      "source": [
        "from txtai.workflow import ServiceTask, Workflow\n",
        "\n",
        "workflow = Workflow([ServiceTask(url=\"https://pyrite-ethereal-soccer.glitch.me/user/v1/show_users\",\n",
        "                                 method=\"GET\")])"
      ],
      "metadata": {
        "id": "hWxRPA-qaa-b"
      },
      "execution_count": 96,
      "outputs": []
    },
    {
      "cell_type": "code",
      "source": [
        "list(workflow([\"parameter\"]))"
      ],
      "metadata": {
        "id": "NYmc9AIEaa2f"
      },
      "execution_count": null,
      "outputs": []
    },
    {
      "cell_type": "code",
      "source": [
        "from txtai.workflow import TemplateTask, Workflow\n",
        "\n",
        "workflow = Workflow([TemplateTask(template=\"This is a {text} task\")])\n",
        "\n",
        "list(workflow([{\"text\": \"newer\"}]))"
      ],
      "metadata": {
        "colab": {
          "base_uri": "https://localhost:8080/"
        },
        "id": "XF38kKGZbdSH",
        "outputId": "c07a2632-b777-4fc6-f335-c8b110b76e9e"
      },
      "execution_count": 102,
      "outputs": [
        {
          "output_type": "execute_result",
          "data": {
            "text/plain": [
              "['This is a newer task']"
            ]
          },
          "metadata": {},
          "execution_count": 102
        }
      ]
    },
    {
      "cell_type": "markdown",
      "source": [
        "We can discuss on following workflows\n",
        "\n",
        "1) Console\n",
        "\n",
        "2) File : for reading\n",
        "\n",
        "3) Image\n",
        "\n",
        "4) Retrieve \n",
        "\n",
        "5) Template\n",
        "\n",
        "6) Workflow"
      ],
      "metadata": {
        "id": "HmPkPjUrcmG2"
      }
    }
  ]
}