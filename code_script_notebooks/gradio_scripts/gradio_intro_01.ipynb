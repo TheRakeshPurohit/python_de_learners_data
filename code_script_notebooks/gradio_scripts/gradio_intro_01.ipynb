{
 "cells": [
  {
   "cell_type": "code",
   "execution_count": 1,
   "metadata": {
    "id": "vSE1smWEgMcJ"
   },
   "outputs": [],
   "source": [
    "!pip install gradio transformers datasets langchain > /dev/null"
   ]
  },
  {
   "cell_type": "code",
   "execution_count": 3,
   "metadata": {
    "id": "mC90VkVqgVTs"
   },
   "outputs": [],
   "source": [
    "import gradio as gr\n",
    "\n",
    "def greet(name):\n",
    "  return f'hello {name} !'"
   ]
  },
  {
   "cell_type": "code",
   "execution_count": 4,
   "metadata": {
    "id": "t4x7VMOngVbh"
   },
   "outputs": [],
   "source": [
    "demo = gr.Interface(fn=greet,\n",
    "                    inputs=\"text\",\n",
    "                    outputs=\"text\")"
   ]
  },
  {
   "cell_type": "code",
   "execution_count": null,
   "metadata": {
    "id": "DuaEb5KagVjk"
   },
   "outputs": [],
   "source": [
    "demo.launch(share=True, server_name='0.0.0.0')"
   ]
  },
  {
   "cell_type": "code",
   "execution_count": 6,
   "metadata": {},
   "outputs": [
    {
     "name": "stdout",
     "output_type": "stream",
     "text": [
      "Loaded as API: https://44d192ccf00da2654b.gradio.live/ ✔\n"
     ]
    }
   ],
   "source": [
    "from gradio_client import Client\n",
    "\n",
    "client = Client(\"https://44d192ccf00da2654b.gradio.live/\")"
   ]
  },
  {
   "cell_type": "markdown",
   "metadata": {
    "id": "3f6Hjc2-hYKr"
   },
   "source": [
    "The core Interface class is initialized with three required parameters:\n",
    "\n",
    "    fn: the function to wrap a UI around\n",
    "    inputs: which component(s) to use for the input (e.g. \"text\", \"image\" or \"audio\")\n",
    "    outputs: which component(s) to use for the output (e.g. \"text\", \"image\" or \"label\")\n"
   ]
  },
  {
   "cell_type": "code",
   "execution_count": null,
   "metadata": {
    "id": "zva4WjKGgVp1"
   },
   "outputs": [],
   "source": [
    "#changing the interface\n",
    "\n",
    "demo1 = gr.Interface(\n",
    "    fn=greet,\n",
    "    inputs=gr.Textbox(lines=3,placeholder=\"write something\"),\n",
    "    outputs='text'\n",
    ")\n",
    "demo1.launch()"
   ]
  },
  {
   "cell_type": "code",
   "execution_count": 8,
   "metadata": {
    "id": "YFa2v46YgVu9"
   },
   "outputs": [],
   "source": [
    "def greet(name, is_morning, temperature):\n",
    "    salutation = \"Good morning\" if is_morning else \"Good evening\"\n",
    "    greeting = f\"{salutation} {name}. It is {temperature} degrees today\"\n",
    "    celsius = (temperature - 32) * 5 / 9\n",
    "    return greeting, round(celsius, 2)"
   ]
  },
  {
   "cell_type": "code",
   "execution_count": null,
   "metadata": {
    "id": "9pfnncBdiTPD"
   },
   "outputs": [],
   "source": [
    "#the interface is surrounding the function.\n",
    "#inputs and outputs have to logically match.\n",
    "#inputs > fn parameter in interface is tolerated\n",
    "demo = gr.Interface(\n",
    "    fn=greet,\n",
    "    inputs=[gr.Textbox(lines=2,placeholder=\"say some eat\"),\n",
    "            \"checkbox\",\n",
    "            gr.Slider(0, 100)],\n",
    "    outputs=[\"text\",\n",
    "             \"number\"],\n",
    ")\n",
    "demo.launch()"
   ]
  },
  {
   "cell_type": "code",
   "execution_count": null,
   "metadata": {
    "id": "fGgAmeZjjhYn"
   },
   "outputs": [],
   "source": [
    "import numpy as np\n",
    "\n",
    "def sepia(input_img):\n",
    "    sepia_filter = np.array([\n",
    "        [0.393, 0.769, 0.189],\n",
    "        [0.349, 0.686, 0.168],\n",
    "        [0.272, 0.534, 0.131]\n",
    "    ])\n",
    "    sepia_img = input_img.dot(sepia_filter.T)\n",
    "    sepia_img /= sepia_img.max()\n",
    "    return sepia_img\n",
    "\n",
    "demo = gr.Interface(sepia,\n",
    "                    gr.Image(shape=(200, 200)),\n",
    "                    \"image\")\n",
    "demo.launch()\n"
   ]
  },
  {
   "cell_type": "code",
   "execution_count": 11,
   "metadata": {
    "colab": {
     "base_uri": "https://localhost:8080/",
     "height": 616
    },
    "id": "Cim84_D9jhV3",
    "outputId": "c6159952-b4cb-4219-992a-edec8e8c19b9"
   },
   "outputs": [
    {
     "name": "stdout",
     "output_type": "stream",
     "text": [
      "Running on local URL:  http://0.0.0.0:7862\n",
      "\n",
      "To create a public link, set `share=True` in `launch()`.\n"
     ]
    },
    {
     "data": {
      "text/html": [
       "<div><iframe src=\"http://localhost:7862/\" width=\"100%\" height=\"500\" allow=\"autoplay; camera; microphone; clipboard-read; clipboard-write;\" frameborder=\"0\" allowfullscreen></iframe></div>"
      ],
      "text/plain": [
       "<IPython.core.display.HTML object>"
      ]
     },
     "metadata": {},
     "output_type": "display_data"
    },
    {
     "data": {
      "text/plain": []
     },
     "execution_count": 11,
     "metadata": {},
     "output_type": "execute_result"
    }
   ],
   "source": [
    "import gradio as gr\n",
    "\n",
    "def greet(name):\n",
    "    return \"Hello \" + name + \"!\"\n",
    "\n",
    "def treat(name):\n",
    "    return \"Let me treat\" + name + \"!\"\n",
    "\n",
    "with gr.Blocks() as demo:\n",
    "    name = gr.Textbox(label=\"Name\")\n",
    "    output = gr.Textbox(label=\"Output Box\")\n",
    "    btn1 = gr.Button(\"Treat\")\n",
    "    btn2 = gr.Button(\"Great\")\n",
    "    btn1.click(fn=greet,\n",
    "                    inputs=name,\n",
    "                    outputs=output,\n",
    "                    api_name=\"greet\")\n",
    "    btn2.click(fn=treat,\n",
    "                    inputs=name,\n",
    "                    outputs=output,\n",
    "                    api_name=\"treat\")\n",
    "\n",
    "\n",
    "demo.launch(server_name='0.0.0.0', server_port=7862)"
   ]
  },
  {
   "cell_type": "code",
   "execution_count": 6,
   "metadata": {},
   "outputs": [
    {
     "name": "stdout",
     "output_type": "stream",
     "text": [
      "Loaded as API: http://127.0.0.1:7861/ ✔\n"
     ]
    },
    {
     "data": {
      "text/plain": [
       "<bound method Client.view_api of Client.predict() Usage Info\n",
       "---------------------------\n",
       "Named API endpoints: 2\n",
       "\n",
       " - predict(name, api_name=\"/greet\") -> output_box\n",
       "    Parameters:\n",
       "     - [Textbox] name: str \n",
       "    Returns:\n",
       "     - [Textbox] output_box: str \n",
       "\n",
       " - predict(name, api_name=\"/treat\") -> output_box\n",
       "    Parameters:\n",
       "     - [Textbox] name: str \n",
       "    Returns:\n",
       "     - [Textbox] output_box: str \n",
       ">"
      ]
     },
     "execution_count": 6,
     "metadata": {},
     "output_type": "execute_result"
    }
   ],
   "source": [
    "from gradio_client import Client\n",
    "\n",
    "test_client = Client(\"http://127.0.0.1:7861\")\n",
    "test_client.view_api"
   ]
  },
  {
   "cell_type": "code",
   "execution_count": 12,
   "metadata": {},
   "outputs": [
    {
     "name": "stdout",
     "output_type": "stream",
     "text": [
      "Loaded as API: http://0.0.0.0:7862/ ✔\n"
     ]
    },
    {
     "data": {
      "text/plain": [
       "<bound method Client.view_api of Client.predict() Usage Info\n",
       "---------------------------\n",
       "Named API endpoints: 2\n",
       "\n",
       " - predict(name, api_name=\"/greet\") -> output_box\n",
       "    Parameters:\n",
       "     - [Textbox] name: str \n",
       "    Returns:\n",
       "     - [Textbox] output_box: str \n",
       "\n",
       " - predict(name, api_name=\"/treat\") -> output_box\n",
       "    Parameters:\n",
       "     - [Textbox] name: str \n",
       "    Returns:\n",
       "     - [Textbox] output_box: str \n",
       ">"
      ]
     },
     "execution_count": 12,
     "metadata": {},
     "output_type": "execute_result"
    }
   ],
   "source": [
    "from gradio_client import Client\n",
    "\n",
    "test_client_1 = Client(\"http://0.0.0.0:7862\")\n",
    "test_client_1.view_api"
   ]
  },
  {
   "cell_type": "code",
   "execution_count": 14,
   "metadata": {},
   "outputs": [
    {
     "data": {
      "text/plain": [
       "'Hello super man!'"
      ]
     },
     "execution_count": 14,
     "metadata": {},
     "output_type": "execute_result"
    }
   ],
   "source": [
    "test_client_1.predict('super man',api_name='/greet')"
   ]
  },
  {
   "cell_type": "code",
   "execution_count": 15,
   "metadata": {},
   "outputs": [
    {
     "data": {
      "text/plain": [
       "'Let me treatsuper man!'"
      ]
     },
     "execution_count": 15,
     "metadata": {},
     "output_type": "execute_result"
    }
   ],
   "source": [
    "test_client_1.predict('super man',api_name='/treat')"
   ]
  },
  {
   "cell_type": "code",
   "execution_count": null,
   "metadata": {
    "id": "Pr3h96CtjhTt"
   },
   "outputs": [],
   "source": [
    "import numpy as np\n",
    "import gradio as gr\n",
    "\n",
    "\n",
    "def flip_text(x):\n",
    "    return x[::-1]\n",
    "\n",
    "\n",
    "def flip_image(x):\n",
    "    return np.fliplr(x)\n",
    "\n",
    "\n",
    "with gr.Blocks() as demo:\n",
    "    gr.Markdown(\"Flip text or image files using this demo.\")\n",
    "    with gr.Tab(\"Flip Text\"):\n",
    "        text_input = gr.Textbox()\n",
    "        text_output = gr.Textbox()\n",
    "        text_button = gr.Button(\"Flip\")\n",
    "    with gr.Tab(\"Flip Image\"):\n",
    "        with gr.Row():\n",
    "            image_input = gr.Image()\n",
    "            image_output = gr.Image()\n",
    "        image_button = gr.Button(\"Flip\")\n",
    "\n",
    "    with gr.Accordion(\"Open for More!\"):\n",
    "        gr.Markdown(\"Look at me...\")\n",
    "    with gr.Accordion(\"Noting loocin!\"):\n",
    "        gr.Markdown(\"Why are looking at me...\")\n",
    "\n",
    "    text_button.click(flip_text, inputs=text_input, outputs=text_output)\n",
    "    image_button.click(flip_image, inputs=image_input, outputs=image_output)\n",
    "\n",
    "demo.launch()\n"
   ]
  },
  {
   "cell_type": "code",
   "execution_count": null,
   "metadata": {
    "colab": {
     "base_uri": "https://localhost:8080/",
     "height": 616
    },
    "id": "04P-YCFojhQ5",
    "outputId": "ffd1ae73-ba55-4ba6-cf0c-d6cb08657e07"
   },
   "outputs": [],
   "source": [
    "import gradio as gr\n",
    "\n",
    "def mad_lib(noun, verb, adj, adv):\n",
    "  #Function takes the variable and writes out a\n",
    "  #hilarious sentence\n",
    "  var = f\"Do you {verb} your {adj} {noun} {adv}? That's hilarious!\"\n",
    "  return var\n",
    "\n",
    "with gr.Blocks() as madder:\n",
    "  gr.Markdown(\"## Lets play with the words...\")\n",
    "\n",
    "  with gr.Accordion(\"What is this app about?\"):\n",
    "    gr.Markdown(\"Words are used to create funny sentences\")\n",
    "\n",
    "  verb = gr.Textbox(placeholder='Enter a action word :verb')\n",
    "  noun = gr.Textbox(placeholder='Enter a object word :noun')\n",
    "  adv = gr.Textbox(placeholder='Enter a how action is performed  :adverb')\n",
    "  adj = gr.Textbox(placeholder='Tell about object : adjective')\n",
    "\n",
    "  mad_it = gr.Button(\"Make Mad\")\n",
    "\n",
    "  mad_out = gr.Textbox(placeholder='A Mad sentence')\n",
    "\n",
    "  mad_it.click(fn=mad_lib,\n",
    "               inputs=[verb,noun,adv,adj],\n",
    "               outputs = mad_out)\n",
    "madder.launch(share=True)"
   ]
  },
  {
   "cell_type": "code",
   "execution_count": 3,
   "metadata": {
    "id": "rRWvfpVijhOM"
   },
   "outputs": [
    {
     "name": "stdout",
     "output_type": "stream",
     "text": [
      "Loaded as API: http://127.0.0.1:7860/ ✔\n",
      "Client.predict() Usage Info\n",
      "---------------------------\n",
      "Named API endpoints: 0\n",
      "\n",
      "Unnamed API endpoints: 1\n",
      "\n",
      " - predict(parameter_4, parameter_5, parameter_6, parameter_7, fn_index=0) -> value_9\n",
      "    Parameters:\n",
      "     - [Textbox] parameter_4: str \n",
      "     - [Textbox] parameter_5: str \n",
      "     - [Textbox] parameter_6: str \n",
      "     - [Textbox] parameter_7: str \n",
      "    Returns:\n",
      "     - [Textbox] value_9: str \n",
      "\n"
     ]
    }
   ],
   "source": [
    "from gradio_client import Client\n",
    "mad_client = Client(\"http://127.0.0.1:7860\")\n",
    "mad_client.view_api()"
   ]
  },
  {
   "cell_type": "code",
   "execution_count": 4,
   "metadata": {
    "id": "i2utJcuojhLk"
   },
   "outputs": [
    {
     "data": {
      "text/plain": [
       "\"Do you ball your tremendous run flashy? That's hilarious!\""
      ]
     },
     "execution_count": 4,
     "metadata": {},
     "output_type": "execute_result"
    }
   ],
   "source": [
    "mad_client.predict(\"run\",\"ball\",\"tremendous\",\"flashy\", fn_index=0)"
   ]
  },
  {
   "cell_type": "code",
   "execution_count": null,
   "metadata": {
    "id": "0PStxtfzjhIX"
   },
   "outputs": [],
   "source": []
  }
 ],
 "metadata": {
  "colab": {
   "provenance": []
  },
  "kernelspec": {
   "display_name": "Python 3 (ipykernel)",
   "language": "python",
   "name": "python3"
  },
  "language_info": {
   "codemirror_mode": {
    "name": "ipython",
    "version": 3
   },
   "file_extension": ".py",
   "mimetype": "text/x-python",
   "name": "python",
   "nbconvert_exporter": "python",
   "pygments_lexer": "ipython3",
   "version": "3.11.4"
  }
 },
 "nbformat": 4,
 "nbformat_minor": 4
}
