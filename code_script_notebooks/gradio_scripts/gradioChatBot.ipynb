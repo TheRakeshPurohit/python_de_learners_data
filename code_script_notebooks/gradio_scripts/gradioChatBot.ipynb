{
 "cells": [
  {
   "cell_type": "code",
   "execution_count": 1,
   "metadata": {
    "id": "QFJPuQdaSZkS"
   },
   "outputs": [],
   "source": [
    "!pip install transformers gradio datasets > /dev/null"
   ]
  },
  {
   "cell_type": "code",
   "execution_count": null,
   "metadata": {
    "id": "P-pjD65BTidt"
   },
   "outputs": [],
   "source": [
    "import gradio as gr\n",
    "from transformers import AutoModelForCausalLM, AutoTokenizer\n",
    "import torch\n",
    "\n",
    "tokenizer = AutoTokenizer.from_pretrained(\"microsoft/DialoGPT-medium\")\n",
    "model = AutoModelForCausalLM.from_pretrained(\"microsoft/DialoGPT-medium\")"
   ]
  },
  {
   "cell_type": "code",
   "execution_count": 3,
   "metadata": {
    "id": "VRe9rjVVTiii"
   },
   "outputs": [],
   "source": [
    "def user(message, history):\n",
    "    return \"\", history + [[message, None]]"
   ]
  },
  {
   "cell_type": "code",
   "execution_count": 4,
   "metadata": {
    "id": "vCxsbid6Timj"
   },
   "outputs": [],
   "source": [
    "def bot(history):\n",
    "\n",
    "    user_message = history[-1][0]\n",
    "\n",
    "    new_user_input_ids = tokenizer.encode(\n",
    "        user_message + tokenizer.eos_token,\n",
    "        return_tensors=\"pt\"\n",
    "    )\n",
    "\n",
    "    # append the new user input tokens to the chat history\n",
    "    bot_input_ids = torch.cat([torch.LongTensor([]),\n",
    "                               new_user_input_ids], dim=-1)\n",
    "\n",
    "    # generate a response\n",
    "    response = model.generate(\n",
    "        bot_input_ids,\n",
    "        max_length=1000,\n",
    "        pad_token_id=tokenizer.eos_token_id\n",
    "    ).tolist()\n",
    "\n",
    "    # convert the tokens to text, and then split the responses into lines\n",
    "    response = tokenizer.decode(response[0]).split(\"<|endoftext|>\")\n",
    "\n",
    "    response = [(response[i],\n",
    "                 response[i + 1]) for i in range(0,\n",
    "                                                 len(response) - 1,\n",
    "                                                 2)]  # convert to tuples of list\n",
    "    history[-1] = response[0]\n",
    "\n",
    "    return history\n"
   ]
  },
  {
   "cell_type": "code",
   "execution_count": 28,
   "metadata": {
    "id": "onU2or5Iivt3"
   },
   "outputs": [],
   "source": [
    "user_message = \"This is a nice cool breezy weather\"\n",
    "\n",
    "new_user_input_ids = tokenizer.encode(\n",
    "        user_message + tokenizer.eos_token,\n",
    "        return_tensors=\"pt\"\n",
    "    )"
   ]
  },
  {
   "cell_type": "code",
   "execution_count": 29,
   "metadata": {
    "id": "tCGhtC1di8p5"
   },
   "outputs": [],
   "source": [
    "# append the new user input tokens to the chat history\n",
    "bot_input_ids = torch.cat([torch.LongTensor([]),\n",
    "                               new_user_input_ids], dim=-1)"
   ]
  },
  {
   "cell_type": "code",
   "execution_count": 30,
   "metadata": {
    "colab": {
     "base_uri": "https://localhost:8080/"
    },
    "id": "y8DwIVcwizfL",
    "outputId": "34cbde2f-62bf-4370-b6df-091c2aa7970c"
   },
   "outputs": [
    {
     "name": "stderr",
     "output_type": "stream",
     "text": [
      "A decoder-only architecture is being used, but right-padding was detected! For correct generation results, please set `padding_side='left'` when initializing the tokenizer.\n"
     ]
    }
   ],
   "source": [
    "# generate a response\n",
    "response = model.generate(\n",
    "        bot_input_ids,\n",
    "        max_length=1000,\n",
    "        pad_token_id=tokenizer.eos_token_id\n",
    "    ).tolist()"
   ]
  },
  {
   "cell_type": "code",
   "execution_count": 32,
   "metadata": {
    "colab": {
     "base_uri": "https://localhost:8080/"
    },
    "id": "w5wN6oOekLbn",
    "outputId": "1f54439a-dbaa-4eb5-9b8f-902e04ba6c35"
   },
   "outputs": [
    {
     "data": {
      "text/plain": [
       "[1212,\n",
       " 318,\n",
       " 257,\n",
       " 3621,\n",
       " 3608,\n",
       " 20780,\n",
       " 7357,\n",
       " 6193,\n",
       " 50256,\n",
       " 1026,\n",
       " 338,\n",
       " 257,\n",
       " 3621,\n",
       " 1110,\n",
       " 329,\n",
       " 257,\n",
       " 20780,\n",
       " 7357,\n",
       " 1110,\n",
       " 50256]"
      ]
     },
     "execution_count": 32,
     "metadata": {},
     "output_type": "execute_result"
    }
   ],
   "source": [
    "response[0]"
   ]
  },
  {
   "cell_type": "markdown",
   "metadata": {
    "id": "3UyolOzQa96M"
   },
   "source": [
    "There are three Gradio components here:\n",
    "\n",
    "    A Chatbot, whose value stores the entire history of the conversation, as a list of response pairs between the user and bot.\n",
    "\n",
    "    A Textbox where the user can type their message, and then hit enter/submit to trigger the chatbot response\n",
    "\n",
    "    A ClearButton button to clear the Textbox and entire Chatbot history\n"
   ]
  },
  {
   "cell_type": "code",
   "execution_count": null,
   "metadata": {
    "id": "Xyw_m8JVTiu-"
   },
   "outputs": [],
   "source": [
    "with gr.Blocks() as demo:\n",
    "    chatbot = gr.Chatbot()\n",
    "    msg = gr.Textbox()\n",
    "    clear = gr.Button(\"Clear\")\n",
    "\n",
    "    msg.submit(user, [msg, chatbot], [msg, chatbot], queue=False).then(\n",
    "        bot, chatbot, chatbot\n",
    "    )\n",
    "    clear.click(lambda: None, None, chatbot, queue=False)\n",
    "\n",
    "demo.launch()\n"
   ]
  },
  {
   "cell_type": "code",
   "execution_count": 25,
   "metadata": {
    "id": "5XTAIkfrTixb"
   },
   "outputs": [],
   "source": [
    "def multiplier(message, history):\n",
    "\n",
    "    iputs = message.split('x')\n",
    "\n",
    "    # append the new user input tokens to the chat history\n",
    "    oput = str(int(iputs[0]) * int(iputs[1]))\n",
    "\n",
    "    history.append((message,oput))\n",
    "\n",
    "    return \"\", history\n"
   ]
  },
  {
   "cell_type": "code",
   "execution_count": 27,
   "metadata": {
    "colab": {
     "base_uri": "https://localhost:8080/",
     "height": 653
    },
    "id": "RbiNLIfZc2vt",
    "outputId": "34c3b8aa-86c4-44a5-a423-df6fb1e41eb9"
   },
   "outputs": [
    {
     "name": "stdout",
     "output_type": "stream",
     "text": [
      "Colab notebook detected. This cell will run indefinitely so that you can see errors and logs. To turn off, set debug=False in launch().\n",
      "Note: opening Chrome Inspector may crash demo inside Colab notebooks.\n",
      "\n",
      "To create a public link, set `share=True` in `launch()`.\n"
     ]
    },
    {
     "data": {
      "application/javascript": [
       "(async (port, path, width, height, cache, element) => {\n",
       "                        if (!google.colab.kernel.accessAllowed && !cache) {\n",
       "                            return;\n",
       "                        }\n",
       "                        element.appendChild(document.createTextNode(''));\n",
       "                        const url = await google.colab.kernel.proxyPort(port, {cache});\n",
       "\n",
       "                        const external_link = document.createElement('div');\n",
       "                        external_link.innerHTML = `\n",
       "                            <div style=\"font-family: monospace; margin-bottom: 0.5rem\">\n",
       "                                Running on <a href=${new URL(path, url).toString()} target=\"_blank\">\n",
       "                                    https://localhost:${port}${path}\n",
       "                                </a>\n",
       "                            </div>\n",
       "                        `;\n",
       "                        element.appendChild(external_link);\n",
       "\n",
       "                        const iframe = document.createElement('iframe');\n",
       "                        iframe.src = new URL(path, url).toString();\n",
       "                        iframe.height = height;\n",
       "                        iframe.allow = \"autoplay; camera; microphone; clipboard-read; clipboard-write;\"\n",
       "                        iframe.width = width;\n",
       "                        iframe.style.border = 0;\n",
       "                        element.appendChild(iframe);\n",
       "                    })(7863, \"/\", \"100%\", 500, false, window.element)"
      ],
      "text/plain": [
       "<IPython.core.display.Javascript object>"
      ]
     },
     "metadata": {},
     "output_type": "display_data"
    },
    {
     "name": "stdout",
     "output_type": "stream",
     "text": [
      "Keyboard interruption in main thread... closing server.\n"
     ]
    },
    {
     "data": {
      "text/plain": []
     },
     "execution_count": 27,
     "metadata": {},
     "output_type": "execute_result"
    }
   ],
   "source": [
    "with gr.Blocks() as demo:\n",
    "    chatbot = gr.Chatbot()\n",
    "    msg = gr.Textbox()\n",
    "    clear = gr.Button(\"Clear\")\n",
    "\n",
    "    msg.submit(multiplier, [msg,\n",
    "                      chatbot], [msg,\n",
    "                                 chatbot])\n",
    "\n",
    "demo.launch(debug = True)\n"
   ]
  }
 ],
 "metadata": {
  "colab": {
   "provenance": []
  },
  "kernelspec": {
   "display_name": "Python 3 (ipykernel)",
   "language": "python",
   "name": "python3"
  },
  "language_info": {
   "codemirror_mode": {
    "name": "ipython",
    "version": 3
   },
   "file_extension": ".py",
   "mimetype": "text/x-python",
   "name": "python",
   "nbconvert_exporter": "python",
   "pygments_lexer": "ipython3",
   "version": "3.11.4"
  }
 },
 "nbformat": 4,
 "nbformat_minor": 4
}
